{
 "cells": [
  {
   "cell_type": "markdown",
   "metadata": {},
   "source": [
    "# README\n",
    "\n",
    "---\n",
    "\n",
    "VCP SDKを用いてクラウド上にJupyterHub環境を構築します。"
   ]
  },
  {
   "cell_type": "markdown",
   "metadata": {},
   "source": [
    "## はじめに\n",
    "\n",
    "このアプリケーションテンプレートではVCPで作成したノードにJuptyerhub環境を構築します。"
   ]
  },
  {
   "cell_type": "markdown",
   "metadata": {},
   "source": [
    "### JupyterHubのユーザ認証について\n",
    "\n",
    "本テンプレートで構築するJupyterHubでは、ユーザの認証は、MoodleとのLTI1.3認証連携を前提としています。"
   ]
  },
  {
   "cell_type": "markdown",
   "metadata": {},
   "source": [
    "### コンテナの構成について\n",
    "\n",
    "構成図を以下に示します。\n",
    "\n",
    "![モジュール構成](images/arch-readme.png)"
   ]
  },
  {
   "cell_type": "markdown",
   "metadata": {},
   "source": [
    "### ノード構成\n",
    "\n",
    "本テンプレートで構築するJupyterHubシステムの各ノードは役割に応じて以下のものに分類されます。\n",
    "\n",
    "* manager\n",
    "    - JupyterHub, Nginx, MariaDBなどのSystemコンテナを実行するノード\n",
    "    - Docker Swarm の managerノードとなる\n",
    "* worker\n",
    "    - single-user Jupyter notebook serverを実行するノード\n",
    "    - Docker Swarm の workerノードとなる\n",
    "    \n",
    "本テンプレートで構築するJupyterHubではデータやNotebookなどをノード間で共有するためにNFSを利用します。  \n",
    "managerノードがNFSサーバの役割を兼ねる構成になっています。"
   ]
  },
  {
   "cell_type": "markdown",
   "metadata": {},
   "source": [
    "## 事前に準備が必要となるものについて"
   ]
  },
  {
   "cell_type": "markdown",
   "metadata": {},
   "source": [
    "### VCノード\n",
    "\n",
    "ノードを作成するとき必要となるものについて記します。"
   ]
  },
  {
   "cell_type": "markdown",
   "metadata": {},
   "source": [
    "* VCCアクセストークン\n",
    "    - VCP SDKを利用してクラウド環境にノード作成などを行うために必要となります\n",
    "    - VCCアクセストークンがない場合はVC管理者に発行を依頼してください\n",
    "* SSH公開鍵ペア\n",
    "    - VCノードに登録するSSHの公開鍵\n",
    "    - このNotebook環境内で新たに作成するか、事前に作成したものをこの環境にアップロードしておいてください\n",
    "* VCノードに割り当てるアドレス\n",
    "    - ノードのネットワークインタフェースに以下に示す何れかのアドレスを指定することができます\n",
    "        - IPアドレス\n",
    "        - MACアドレス"
   ]
  },
  {
   "cell_type": "markdown",
   "metadata": {},
   "source": [
    "### JupyterHub\n",
    "\n",
    "JupyterHub環境を構築する際に必要となるものについて記します。"
   ]
  },
  {
   "cell_type": "markdown",
   "metadata": {},
   "source": [
    "* JupyterHubのサーバ証明書\n",
    "    - JupyterHubではHTTPSでサーバを公開するため、サーバ証明書とその秘密鍵が必要となります\n",
    "    - サーバ証明書に記載されているホスト名のDNS登録も必要となります"
   ]
  },
  {
   "cell_type": "markdown",
   "metadata": {},
   "source": [
    "## Notebookの一覧\n",
    "\n",
    "テンプレートのNotebook一覧を示します。"
   ]
  },
  {
   "cell_type": "markdown",
   "metadata": {},
   "source": [
    "**注意**:\n",
    "\n",
    "この節ではテンプレートのNotebookへのリンクを示す箇所がありますが、リンク先のNotebookは参照用となっていて**そのままでは実行できません**。\n",
    "\n",
    "> Notebook自体は実行できてしまいますが、パスなどが想定しているものと異なるため正しく処理できずエラーとなります。\n",
    "\n",
    "次のどちらかの手順で作業用Notebookを作成する必要があります。\n",
    "\n",
    "* 次節の「作業用Notebookの作成」で作業用のNotebookを作成する。\n",
    "* テンプレートのNotebookを配置してある `notebooks/` から、この`000-README.ipynb`と同じディレクトリにNotebookをコピーする。"
   ]
  },
  {
   "cell_type": "markdown",
   "metadata": {},
   "source": [
    "### 各Notebookの関連について\n",
    "\n",
    "各Notebookの実行順序は、以下の通りです。\n",
    "\n",
    "1. **011-VCノード作成.ipynb**\n",
    "2. **121-JupyterHubのセットアップ.ipynb**\n",
    "\n",
    "また、作成した環境を一度VCノードごと削除する場合、以下のノートブックを使用してください。\n",
    "\n",
    "- **991-JupyterHub環境の削除.ipynb**\n",
    "\n",
    "### その他、状況に応じて実行するNotebook\n",
    "\n",
    "- **021-Moodleの外部ツール設定例（lti1.3&JupyterHub）.ipynb**  \n",
    "  Jupyterhubを構築後は、Moodle側で、JupyterhubとのLTI認証連携のための設定が必要です。これはそのための手順を記載したノートブックです。\n",
    "- **711-JupyterHubのパラメータ変更.ipynb**  \n",
    "  Jupyterhub構築後、各ユーザのリソース制限などの設定を変更するためのノートブックです。\n",
    "- **801-資源消費量可視化.ipynb**  \n",
    "  各仮想マシンや、各ユーザ用のコンテナの資源消費量を表やグラフで表示するためのサンプルノートブックです。[prometheus](https://prometheus.io/) が収集したデータを利用します。\n",
    "- **811-single-userコンテナ起動確認-JupyterhubAPI.ipynb**  \n",
    "  [JupyterHub REST API](https://jupyterhub.readthedocs.io/en/latest/howto/rest.html)を利用して、テストユーザの環境起動確認を行います。指定したユーザ数分の環境が起動できることを確認できます。ユーザの事前準備は不要です。\n",
    "- **812-single-userコンテナ起動確認-selenium.ipynb**\n",
    "  [selenium](https://www.selenium.dev/ja/)を利用して、テストユーザの環境起動確認を行います。指定したユーザ数分の環境が起動できることを確認します。Moodleのログインから行うため、Moodleに存在するユーザをテストに使用します。`JupyterHub REST API`を利用する場合との比較は以下の通りです。  \n",
    "  \n",
    "    | | JupyterHub REST API | selenium |\n",
    "    | ---- | ---- | ---- |\n",
    "    | MoodleとJupyterhubのLTI連携確認 | x | o |\n",
    "    | サンプルコードの実行 | x | o |\n",
    "    | 手軽さ | o | x |\n",
    "\n",
    "- **941-mdx仮想マシンの準備.ipynb**  \n",
    "  mdx利用の場合、仮想マシンをVCノードとして利用するための事前準備（仮想マシン起動・セットアップ）が必要です。このノートブックを利用することで、その事前準備を行うことができます。\n",
    "  "
   ]
  },
  {
   "cell_type": "markdown",
   "metadata": {},
   "source": [
    "## 作業用Notebookの作成\n",
    "\n",
    "この節のセルを実行することで、テンプレートのNotebookから作業用Notebookを作成することができます。"
   ]
  },
  {
   "cell_type": "markdown",
   "metadata": {},
   "source": [
    "まず、作業用Notebookを配置するディレクトリを指定してください。"
   ]
  },
  {
   "cell_type": "code",
   "execution_count": null,
   "metadata": {
    "lc_wrapper": {
     "log_history": [
      "/notebooks/notebook/work_terayama/Untitled Folder/ocs-templates/CoursewareHub/.log/20230502/20230502-152445-0090.log",
      "/notebooks/notebook/work_terayama/CoursewareHub_tutorial/ocs-templates/CoursewareHub/.log/20230508/20230508-154627-0378.log",
      "/notebooks/notebook/work_terayama/CoursewareHub_tutorial/ocs-templates/CoursewareHub/.log/20230509/20230509-135618-0683.log",
      "/notebooks/notebook/work_terayama/CoursewareHub_tutorial/ocs-templates/CoursewareHub/.log/20230519/20230519-112348-0885.log",
      "/notebooks/notebook/work_terayama/CoursewareHub/.log/20230519/20230519-222954-0588.log",
      "/notebooks/notebook/work_terayama/CoursewareHub/.log/20230605/20230605-171629-0671.log",
      "/notebooks/notebook/work_terayama/yjupyterhub/.log/20230623/20230623-152124-0586.log",
      "/notebooks/notebook/work_terayama/YamaguchiHub/.log/20230802/20230802-135344-0884.log",
      "/notebooks/notebook/work_terayama/yamaguchi-hub/.log/20230823/20230823-183207-0317.log",
      "/notebooks/notebook/work_terayama/yamaguchi-hub/.log/20230828/20230828-125056-0516.log",
      "/notebooks/notebook/work_terayama/yamaguchi-hub/.log/20230904/20230904-151109-0858.log",
      "/notebooks/notebook/work_terayama/yamaguchi-hub/.log/20230904/20230904-180450-0318.log",
      "/notebooks/notebook/work_terayama/yamaguchi-hub/.log/20230904/20230904-181925-0538.log",
      "/notebooks/notebook/work_terayama/yamaguchi-hub/.log/20230905/20230905-122659-0794.log",
      "/notebooks/notebook/work_terayama/yamaguchi-hub/.log/20230905/20230905-135719-0628.log",
      "/notebooks/notebook/work_terayama/yamaguchi-hub/.log/20230906/20230906-172509-0264.log",
      "/notebooks/notebook/work_terayama/yamaguchi-hub/.log/20230914/20230914-195120-0424.log",
      "/notebooks/notebook/work_terayama/yamaguchi-hub/.log/20230914/20230914-212402-0623.log",
      "/notebooks/notebook/work_terayama/yamaguchi-hub/.log/20230914/20230914-225843-0406.log",
      "/notebooks/notebook/work_terayama/yamaguchi-hub/.log/20230914/20230914-234048-0149.log",
      "/notebooks/notebook/work_terayama/yamaguchi-hub/.log/20230921/20230921-193325-0909.log",
      "/notebooks/notebook/work_terayama/yamaguchi-hub/.log/20230922/20230922-150029-0936.log",
      "/notebooks/notebook/work_terayama/yamaguchi-hub/.log/20230922/20230922-151354-0796.log",
      "/notebooks/notebook/work_terayama/yamaguchi-hub/.log/20230922/20230922-184121-0623.log",
      "/notebooks/notebook/work_terayama/yamaguchi-hub/.log/20230924/20230924-181716-0230.log",
      "/notebooks/notebook/work_terayama/yamaguchi-hub/.log/20230925/20230925-105136-0791.log",
      "/notebooks/notebook/work_terayama/yamaguchi-hub/.log/20230926/20230926-214505-0784.log",
      "/notebooks/notebook/work_terayama/yamaguchi-hub/.log/20230926/20230926-223514-0204.log",
      "/notebooks/notebook/work_terayama/yamaguchi-hub/.log/20230927/20230927-000627-0135.log",
      "/notebooks/notebook/work_terayama/yamaguchi-hub/.log/20230927/20230927-135549-0277.log",
      "/notebooks/notebook/work_terayama/yamaguchi-hub/.log/20230927/20230927-154448-0157.log",
      "/notebooks/notebook/work_terayama/yamaguchi-hub/.log/20231002/20231002-123808-0412.log",
      "/notebooks/notebook/work_terayama/yamaguchi-hub/.log/20231002/20231002-165104-0693.log",
      "/notebooks/notebook/work_terayama/yamaguchi-hub/.log/20231002/20231002-174903-0238.log",
      "/notebooks/notebook/work_terayama/yamaguchi-hub/.log/20231110/20231110-203241-0023.log",
      "/notebooks/notebook/work_terayama/yamaguchi-hub/.log/20231113/20231113-134609-0157.log",
      "/notebooks/notebook/work_terayama/yamaguchi-hub/.log/20231113/20231113-144934-0024.log",
      "/notebooks/notebook/work_terayama/yamaguchi-hub/.log/20231115/20231115-185727-0190.log",
      "/notebooks/notebook/work_terayama/yamaguchi-hub/.log/20231120/20231120-153938-0347.log",
      "/notebooks/notebook/work_terayama/yamaguchi-hub/.log/20231120/20231120-154345-0442.log",
      "/notebooks/notebook/work_terayama/yamaguchi-hub/.log/20231124/20231124-134527-0556.log",
      "/notebooks/notebook/work_terayama/yamaguchi-hub/.log/20231124/20231124-200635-0944.log",
      "/notebooks/notebook/work_terayama/yamaguchi-hub/.log/20231127/20231127-231720-0662.log",
      "/notebooks/notebook/work_terayama/yamaguchi-hub/.log/20231127/20231127-231738-0156.log",
      "/notebooks/notebook/work_terayama/yamaguchi-hub/.log/20231127/20231127-231810-0745.log",
      "/notebooks/notebook/work_terayama/yamaguchi-hub/.log/20231201/20231201-164726-0686.log",
      "/notebooks/notebook/work_terayama/yamaguchi-hub/.log/20231201/20231201-165934-0647.log",
      "/notebooks/notebook/work_terayama/yamaguchi-hub/.log/20231201/20231201-175355-0285.log",
      "/notebooks/notebook/work_terayama/yamaguchi-hub/.log/20231204/20231204-090958-0966.log",
      "/notebooks/notebook/work_terayama/yamaguchi-hub/.log/20231213/20231213-160915-0183.log",
      "/notebooks/notebook/work_terayama/yamaguchi-hub/.log/20231214/20231214-165352-0780.log",
      "/notebooks/notebook/work_terayama/yamaguchi-hub/.log/20231215/20231215-113140-0473.log",
      "/notebooks/notebook/work_terayama/yamaguchi-hub/.log/20231215/20231215-113518-0151.log",
      "/notebooks/notebook/work_terayama/yamaguchi-hub/.log/20231215/20231215-114538-0374.log",
      "/notebooks/notebook/work_terayama/yamaguchi-hub/.log/20231215/20231215-123937-0005.log",
      "/notebooks/notebook/work_terayama/yamaguchi-hub/.log/20231215/20231215-132352-0964.log",
      "/notebooks/notebook/work_terayama/yamaguchi-hub/.log/20231215/20231215-160350-0489.log"
     ]
    }
   },
   "outputs": [],
   "source": [
    "WORK_DIR = 'work'"
   ]
  },
  {
   "cell_type": "markdown",
   "metadata": {},
   "source": [
    "以下のセルを実行すると、Notebook名のドロップダウンリストと「作業開始」ボタンが現れます。\n",
    "「作業開始」ボタンを押すと、テンプレートのNotebookをコピーし、そのNotebookを自動的にブラウザで開きます。\n",
    "Notebookの説明を確認しながら実行、適宜修正しながら実行していってください。\n",
    "\n",
    "> このNotebookを Shutdown した後に再度開いた場合、次のセルに既に表示されている「作用開始」ボタンが正しく動作しません。この節のセルをいったん unfreeze した後、セルを再実行してから「作業開始」ボタンをクリックして下さい。\n"
   ]
  },
  {
   "cell_type": "code",
   "execution_count": null,
   "metadata": {
    "lc_wrapper": {
     "log_history": [
      "/notebooks/notebook/work_terayama/Untitled Folder/ocs-templates/CoursewareHub/.log/20230502/20230502-152447-0907.log",
      "/notebooks/notebook/work_terayama/CoursewareHub_tutorial/ocs-templates/CoursewareHub/.log/20230508/20230508-154643-0712.log",
      "/notebooks/notebook/work_terayama/CoursewareHub_tutorial/ocs-templates/CoursewareHub/.log/20230511/20230511-175742-0603.log",
      "/notebooks/notebook/work_terayama/CoursewareHub_tutorial/ocs-templates/CoursewareHub/.log/20230519/20230519-112354-0128.log",
      "/notebooks/notebook/work_terayama/CoursewareHub/.log/20230519/20230519-222958-0041.log",
      "/notebooks/notebook/work_terayama/CoursewareHub/.log/20230605/20230605-171631-0326.log",
      "/notebooks/notebook/work_terayama/yjupyterhub/.log/20230623/20230623-152126-0713.log",
      "/notebooks/notebook/work_terayama/YamaguchiHub/.log/20230802/20230802-135328-0739.log",
      "/notebooks/notebook/work_terayama/YamaguchiHub/.log/20230802/20230802-135347-0090.log",
      "/notebooks/notebook/work_terayama/yamaguchi-hub/.log/20230823/20230823-183209-0719.log",
      "/notebooks/notebook/work_terayama/yamaguchi-hub/.log/20230828/20230828-125058-0465.log",
      "/notebooks/notebook/work_terayama/yamaguchi-hub/.log/20230904/20230904-151113-0108.log",
      "/notebooks/notebook/work_terayama/yamaguchi-hub/.log/20230904/20230904-180450-0970.log",
      "/notebooks/notebook/work_terayama/yamaguchi-hub/.log/20230904/20230904-181927-0707.log",
      "/notebooks/notebook/work_terayama/yamaguchi-hub/.log/20230905/20230905-122704-0591.log",
      "/notebooks/notebook/work_terayama/yamaguchi-hub/.log/20230905/20230905-135721-0272.log",
      "/notebooks/notebook/work_terayama/yamaguchi-hub/.log/20230906/20230906-172511-0780.log",
      "/notebooks/notebook/work_terayama/yamaguchi-hub/.log/20230914/20230914-195122-0968.log",
      "/notebooks/notebook/work_terayama/yamaguchi-hub/.log/20230914/20230914-212403-0563.log",
      "/notebooks/notebook/work_terayama/yamaguchi-hub/.log/20230914/20230914-225847-0705.log",
      "/notebooks/notebook/work_terayama/yamaguchi-hub/.log/20230914/20230914-234048-0863.log",
      "/notebooks/notebook/work_terayama/yamaguchi-hub/.log/20230921/20230921-193327-0476.log",
      "/notebooks/notebook/work_terayama/yamaguchi-hub/.log/20230922/20230922-150032-0064.log",
      "/notebooks/notebook/work_terayama/yamaguchi-hub/.log/20230922/20230922-151356-0638.log",
      "/notebooks/notebook/work_terayama/yamaguchi-hub/.log/20230922/20230922-184123-0740.log",
      "/notebooks/notebook/work_terayama/yamaguchi-hub/.log/20230924/20230924-181721-0674.log",
      "/notebooks/notebook/work_terayama/yamaguchi-hub/.log/20230925/20230925-105138-0387.log",
      "/notebooks/notebook/work_terayama/yamaguchi-hub/.log/20230926/20230926-214508-0358.log",
      "/notebooks/notebook/work_terayama/yamaguchi-hub/.log/20230926/20230926-223515-0772.log",
      "/notebooks/notebook/work_terayama/yamaguchi-hub/.log/20230927/20230927-000629-0914.log",
      "/notebooks/notebook/work_terayama/yamaguchi-hub/.log/20230927/20230927-135551-0053.log",
      "/notebooks/notebook/work_terayama/yamaguchi-hub/.log/20230927/20230927-154449-0866.log",
      "/notebooks/notebook/work_terayama/yamaguchi-hub/.log/20231002/20231002-123809-0835.log",
      "/notebooks/notebook/work_terayama/yamaguchi-hub/.log/20231002/20231002-165106-0878.log",
      "/notebooks/notebook/work_terayama/yamaguchi-hub/.log/20231002/20231002-174904-0795.log",
      "/notebooks/notebook/work_terayama/yamaguchi-hub/.log/20231110/20231110-203242-0532.log",
      "/notebooks/notebook/work_terayama/yamaguchi-hub/.log/20231113/20231113-134616-0376.log",
      "/notebooks/notebook/work_terayama/yamaguchi-hub/.log/20231113/20231113-144935-0590.log",
      "/notebooks/notebook/work_terayama/yamaguchi-hub/.log/20231115/20231115-185729-0191.log",
      "/notebooks/notebook/work_terayama/yamaguchi-hub/.log/20231120/20231120-153939-0618.log",
      "/notebooks/notebook/work_terayama/yamaguchi-hub/.log/20231120/20231120-154349-0147.log",
      "/notebooks/notebook/work_terayama/yamaguchi-hub/.log/20231124/20231124-134528-0672.log",
      "/notebooks/notebook/work_terayama/yamaguchi-hub/.log/20231124/20231124-200637-0919.log",
      "/notebooks/notebook/work_terayama/yamaguchi-hub/.log/20231127/20231127-231722-0072.log",
      "/notebooks/notebook/work_terayama/yamaguchi-hub/.log/20231127/20231127-231739-0676.log",
      "/notebooks/notebook/work_terayama/yamaguchi-hub/.log/20231127/20231127-231812-0271.log",
      "/notebooks/notebook/work_terayama/yamaguchi-hub/.log/20231201/20231201-164728-0050.log",
      "/notebooks/notebook/work_terayama/yamaguchi-hub/.log/20231201/20231201-165936-0440.log",
      "/notebooks/notebook/work_terayama/yamaguchi-hub/.log/20231201/20231201-175356-0781.log",
      "/notebooks/notebook/work_terayama/yamaguchi-hub/.log/20231204/20231204-091001-0000.log",
      "/notebooks/notebook/work_terayama/yamaguchi-hub/.log/20231213/20231213-160918-0162.log",
      "/notebooks/notebook/work_terayama/yamaguchi-hub/.log/20231214/20231214-165354-0374.log",
      "/notebooks/notebook/work_terayama/yamaguchi-hub/.log/20231215/20231215-113142-0038.log",
      "/notebooks/notebook/work_terayama/yamaguchi-hub/.log/20231215/20231215-113520-0268.log",
      "/notebooks/notebook/work_terayama/yamaguchi-hub/.log/20231215/20231215-114539-0931.log",
      "/notebooks/notebook/work_terayama/yamaguchi-hub/.log/20231215/20231215-123938-0353.log",
      "/notebooks/notebook/work_terayama/yamaguchi-hub/.log/20231215/20231215-132354-0383.log"
     ]
    },
    "scrolled": true
   },
   "outputs": [],
   "source": [
    "from IPython.core.display import HTML\n",
    "%run scripts/nb_utils.py\n",
    "setup_nb_workdir(WORK_DIR)\n",
    "HTML(generate_html_work_nbs(WORK_DIR, nb_group='group-a'))"
   ]
  }
 ],
 "metadata": {
  "kernelspec": {
   "display_name": "Python 3",
   "language": "python",
   "name": "python3"
  },
  "language_info": {
   "file_extension": ".py",
   "mimetype": "text/x-python",
   "name": "python",
   "nbconvert_exporter": "python",
   "pygments_lexer": "ipython3",
   "version": "3.10.4"
  },
  "toc": {
   "base_numbering": 1,
   "nav_menu": {},
   "number_sections": true,
   "sideBar": true,
   "skip_h1_title": true,
   "title_cell": "Table of Contents",
   "title_sidebar": "Contents",
   "toc_cell": false,
   "toc_position": {
    "height": "calc(100% - 180px)",
    "left": "10px",
    "top": "150px",
    "width": "346.2px"
   },
   "toc_section_display": "block",
   "toc_window_display": true
  }
 },
 "nbformat": 4,
 "nbformat_minor": 2
}
