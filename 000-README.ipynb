{
  "cells": [
    {
      "cell_type": "markdown",
      "metadata": {
        "lc_cell_meme": {
          "current": "4a4058ce-e8b2-11ed-b994-0242ac110002-7-eda3-2d46-bc23-75f0-927f-228d-eaf7",
          "next": "4a405a54-e8b2-11ed-b994-0242ac110002-7-31bb-0089-98a8-b6be-d064-cba2-f1ce",
          "previous": null
        }
      },
      "source": [
        "# README\n",
        "\n",
        "---\n",
        "\n",
        "VCP SDKを用いてクラウド上にJupyterHub環境を構築します。"
      ]
    },
    {
      "cell_type": "markdown",
      "metadata": {
        "lc_cell_meme": {
          "current": "4a405a54-e8b2-11ed-b994-0242ac110002-7-31bb-0089-98a8-b6be-d064-cba2-f1ce",
          "next": "4a405aea-e8b2-11ed-b994-0242ac110002-7-bfe2-2a53-219a-d2b0-a897-382d-9887",
          "previous": "4a4058ce-e8b2-11ed-b994-0242ac110002-7-eda3-2d46-bc23-75f0-927f-228d-eaf7"
        }
      },
      "source": [
        "## はじめに\n",
        "\n",
        "このアプリケーションテンプレートではVCPで作成したノードにJuptyerhub環境を構築します。"
      ]
    },
    {
      "cell_type": "markdown",
      "metadata": {
        "lc_cell_meme": {
          "current": "4a405aea-e8b2-11ed-b994-0242ac110002-7-bfe2-2a53-219a-d2b0-a897-382d-9887",
          "next": "4a405b80-e8b2-11ed-b994-0242ac110002-7-1a68-6503-5246-f722-75dd-00d0-952b",
          "previous": "4a405a54-e8b2-11ed-b994-0242ac110002-7-31bb-0089-98a8-b6be-d064-cba2-f1ce"
        }
      },
      "source": [
        "### JupyterHubのユーザ認証について\n",
        "\n",
        "本テンプレートで構築するJupyterHubでは、ユーザの認証は、MoodleとのLTI1.3認証連携を前提としています。"
      ]
    },
    {
      "cell_type": "markdown",
      "metadata": {
        "lc_cell_meme": {
          "current": "4a405b80-e8b2-11ed-b994-0242ac110002-7-1a68-6503-5246-f722-75dd-00d0-952b",
          "next": "4a405c16-e8b2-11ed-b994-0242ac110002-7-38f6-4f5b-844d-dbd2-d01f-0bd0-98e5",
          "previous": "4a405aea-e8b2-11ed-b994-0242ac110002-7-bfe2-2a53-219a-d2b0-a897-382d-9887"
        }
      },
      "source": [
        "### コンテナの構成について\n",
        "\n",
        "構成図を以下に示します。\n",
        "\n",
        "![モジュール構成](images/arch-readme.png)"
      ]
    },
    {
      "cell_type": "markdown",
      "metadata": {
        "lc_cell_meme": {
          "current": "4a405c16-e8b2-11ed-b994-0242ac110002-7-38f6-4f5b-844d-dbd2-d01f-0bd0-98e5",
          "next": "0503ad5a-31d3-11ee-b73e-0242ac110003-2-2372-3134",
          "previous": "4a405b80-e8b2-11ed-b994-0242ac110002-7-1a68-6503-5246-f722-75dd-00d0-952b"
        }
      },
      "source": [
        "### ノード構成\n",
        "\n",
        "本テンプレートで構築するJupyterHubシステムの各ノードは役割に応じて以下のものに分類されます。\n",
        "\n",
        "* manager\n",
        "    - JupyterHub, Nginx, MariaDBなどのSystemコンテナを実行するノード\n",
        "    - Docker Swarm の managerノードとなる\n",
        "* worker\n",
        "    - single-user Jupyter notebook serverを実行するノード\n",
        "    - Docker Swarm の workerノードとなる\n",
        "    \n",
        "本テンプレートで構築するJupyterHubではデータやNotebookなどをノード間で共有するためにNFSを利用します。  \n",
        "managerノードがNFSサーバの役割を兼ねる構成になっています。"
      ]
    },
    {
      "cell_type": "markdown",
      "metadata": {
        "lc_cell_meme": {
          "current": "0503ad5a-31d3-11ee-b73e-0242ac110003-2-2372-3134",
          "next": "4a406378-e8b2-11ed-b994-0242ac110002-7-9501-244e-391b-cf78-d799-f998-76a7",
          "previous": "4a405c16-e8b2-11ed-b994-0242ac110002-7-38f6-4f5b-844d-dbd2-d01f-0bd0-98e5"
        }
      },
      "source": [
        "## 事前に準備が必要となるものについて"
      ]
    },
    {
      "cell_type": "markdown",
      "metadata": {
        "lc_cell_meme": {
          "current": "4a406378-e8b2-11ed-b994-0242ac110002-7-9501-244e-391b-cf78-d799-f998-76a7",
          "next": "4a406404-e8b2-11ed-b994-0242ac110002-7-d5ea-dc41-9865-e1b8-5323-986c-ba4c",
          "previous": "0503ad5a-31d3-11ee-b73e-0242ac110003-2-2372-3134"
        }
      },
      "source": [
        "### VCノード\n",
        "\n",
        "ノードを作成するとき必要となるものについて記します。"
      ]
    },
    {
      "cell_type": "markdown",
      "metadata": {
        "lc_cell_meme": {
          "current": "4a406404-e8b2-11ed-b994-0242ac110002-7-d5ea-dc41-9865-e1b8-5323-986c-ba4c",
          "next": "4a40649a-e8b2-11ed-b994-0242ac110002-7-9b87-e293-480e-318a-1904-4757-d84c",
          "previous": "4a406378-e8b2-11ed-b994-0242ac110002-7-9501-244e-391b-cf78-d799-f998-76a7"
        }
      },
      "source": [
        "* VCCアクセストークン\n",
        "    - VCP SDKを利用してクラウド環境にノード作成などを行うために必要となります\n",
        "    - VCCアクセストークンがない場合はVC管理者に発行を依頼してください\n",
        "* SSH公開鍵ペア\n",
        "    - VCノードに登録するSSHの公開鍵\n",
        "    - このNotebook環境内で新たに作成するか、事前に作成したものをこの環境にアップロードしておいてください\n",
        "* VCノードに割り当てるアドレス\n",
        "    - ノードのネットワークインタフェースに以下に示す何れかのアドレスを指定することができます\n",
        "        - IPアドレス\n",
        "        - MACアドレス"
      ]
    },
    {
      "cell_type": "markdown",
      "metadata": {
        "lc_cell_meme": {
          "current": "4a40649a-e8b2-11ed-b994-0242ac110002-7-9b87-e293-480e-318a-1904-4757-d84c",
          "next": "4a406526-e8b2-11ed-b994-0242ac110002-7-2b39-3b26-3174-787a-0532-2485-fc03",
          "previous": "4a406404-e8b2-11ed-b994-0242ac110002-7-d5ea-dc41-9865-e1b8-5323-986c-ba4c"
        }
      },
      "source": [
        "### JupyterHub\n",
        "\n",
        "JupyterHub環境を構築する際に必要となるものについて記します。"
      ]
    },
    {
      "cell_type": "markdown",
      "metadata": {
        "lc_cell_meme": {
          "current": "4a406526-e8b2-11ed-b994-0242ac110002-7-2b39-3b26-3174-787a-0532-2485-fc03",
          "next": "4a4066d4-e8b2-11ed-b994-0242ac110002-7-4983-941a-8862-1492-2d09-1c46-9f0f",
          "previous": "4a40649a-e8b2-11ed-b994-0242ac110002-7-9b87-e293-480e-318a-1904-4757-d84c"
        }
      },
      "source": [
        "* JupyterHubのサーバ証明書\n",
        "    - JupyterHubではHTTPSでサーバを公開するため、サーバ証明書とその秘密鍵が必要となります\n",
        "    - サーバ証明書に記載されているホスト名のDNS登録も必要となります"
      ]
    },
    {
      "cell_type": "markdown",
      "metadata": {
        "lc_cell_meme": {
          "current": "4a4066d4-e8b2-11ed-b994-0242ac110002-7-4983-941a-8862-1492-2d09-1c46-9f0f",
          "next": "4a40676a-e8b2-11ed-b994-0242ac110002-7-0489-83e4-7c3f-b9c5-5e87-9632-a552",
          "previous": "4a406526-e8b2-11ed-b994-0242ac110002-7-2b39-3b26-3174-787a-0532-2485-fc03"
        }
      },
      "source": [
        "## Notebookの一覧\n",
        "\n",
        "テンプレートのNotebook一覧を示します。"
      ]
    },
    {
      "cell_type": "markdown",
      "metadata": {
        "lc_cell_meme": {
          "current": "4a40676a-e8b2-11ed-b994-0242ac110002-7-0489-83e4-7c3f-b9c5-5e87-9632-a552",
          "next": "4a4067f6-e8b2-11ed-b994-0242ac110002-7-4574-b44f-a339-d918-8ce5-2a69-acdd",
          "previous": "4a4066d4-e8b2-11ed-b994-0242ac110002-7-4983-941a-8862-1492-2d09-1c46-9f0f"
        }
      },
      "source": [
        "**注意**:\n",
        "\n",
        "この節ではテンプレートのNotebookへのリンクを示す箇所がありますが、リンク先のNotebookは参照用となっていて**そのままでは実行できません**。\n",
        "\n",
        "> Notebook自体は実行できてしまいますが、パスなどが想定しているものと異なるため正しく処理できずエラーとなります。\n",
        "\n",
        "次のどちらかの手順で作業用Notebookを作成する必要があります。\n",
        "\n",
        "* 次節の「作業用Notebookの作成」で作業用のNotebookを作成する。\n",
        "* テンプレートのNotebookを配置してある `notebooks/` から、この`000-README.ipynb`と同じディレクトリにNotebookをコピーする。"
      ]
    },
    {
      "cell_type": "markdown",
      "metadata": {
        "lc_cell_meme": {
          "current": "4a4067f6-e8b2-11ed-b994-0242ac110002-7-4574-b44f-a339-d918-8ce5-2a69-acdd",
          "next": "4a406e54-e8b2-11ed-b994-0242ac110002-7-d3aa-2d10-f961-d584-b230-6254-6718",
          "previous": "4a40676a-e8b2-11ed-b994-0242ac110002-7-0489-83e4-7c3f-b9c5-5e87-9632-a552"
        }
      },
      "source": [
        "### 各Notebookの関連について\n",
        "\n",
        "各Notebookの実行順序は、以下の通りです。\n",
        "\n",
        "1. 011-VCノード作成.ipynb\n",
        "2. 121-JupyterHubのセットアップ.ipynb\n",
        "\n",
        "また、作成した環境を一度VCノードごと削除する場合、以下のノートブックを使用してください。\n",
        "\n",
        "- 991-JupyterHub環境の削除.ipynb"
      ]
    },
    {
      "cell_type": "markdown",
      "metadata": {
        "lc_cell_meme": {
          "current": "4a406e54-e8b2-11ed-b994-0242ac110002-7-d3aa-2d10-f961-d584-b230-6254-6718",
          "next": "4a406ee0-e8b2-11ed-b994-0242ac110002-7-512d-2a99-8af0-f373-a093-8d68-3291",
          "previous": "4a4067f6-e8b2-11ed-b994-0242ac110002-7-4574-b44f-a339-d918-8ce5-2a69-acdd"
        }
      },
      "source": [
        "## 作業用Notebookの作成\n",
        "\n",
        "この節のセルを実行することで、テンプレートのNotebookから作業用Notebookを作成することができます。"
      ]
    },
    {
      "cell_type": "markdown",
      "metadata": {
        "lc_cell_meme": {
          "current": "4a406ee0-e8b2-11ed-b994-0242ac110002-7-512d-2a99-8af0-f373-a093-8d68-3291",
          "next": "4a406f6c-e8b2-11ed-b994-0242ac110002-7-a5d1-2fb3-7301-fe26-cd9c-1a5c-c8f7",
          "previous": "4a406e54-e8b2-11ed-b994-0242ac110002-7-d3aa-2d10-f961-d584-b230-6254-6718"
        }
      },
      "source": [
        "まず、作業用Notebookを配置するディレクトリを指定してください。"
      ]
    },
    {
      "cell_type": "code",
      "execution_count": null,
      "metadata": {
        "lc_cell_meme": {
          "current": "4a406f6c-e8b2-11ed-b994-0242ac110002-7-a5d1-2fb3-7301-fe26-cd9c-1a5c-c8f7",
          "next": "4a407002-e8b2-11ed-b994-0242ac110002-7-1371-7acb-ccc0-4c33-3aca-24be-e13d",
          "previous": "4a406ee0-e8b2-11ed-b994-0242ac110002-7-512d-2a99-8af0-f373-a093-8d68-3291"
        }
      },
      "outputs": [],
      "source": [
        "WORK_DIR = 'work001'"
      ]
    },
    {
      "cell_type": "markdown",
      "metadata": {
        "lc_cell_meme": {
          "current": "4a407002-e8b2-11ed-b994-0242ac110002-7-1371-7acb-ccc0-4c33-3aca-24be-e13d",
          "next": "4a40711a-e8b2-11ed-b994-0242ac110002-7-b4e2-894f-16e7-8934-ef84-b049-50c8",
          "previous": "4a406f6c-e8b2-11ed-b994-0242ac110002-7-a5d1-2fb3-7301-fe26-cd9c-1a5c-c8f7"
        }
      },
      "source": [
        "以下のセルを実行すると、Notebook名のドロップダウンリストと「作業開始」ボタンが現れます。\n",
        "「作業開始」ボタンを押すと、テンプレートのNotebookをコピーし、そのNotebookを自動的にブラウザで開きます。\n",
        "Notebookの説明を確認しながら実行、適宜修正しながら実行していってください。\n",
        "\n",
        "> このNotebookを Shutdown した後に再度開いた場合、次のセルに既に表示されている「作用開始」ボタンが正しく動作しません。この節のセルをいったん unfreeze した後、セルを再実行してから「作業開始」ボタンをクリックして下さい。\n"
      ]
    },
    {
      "cell_type": "code",
      "execution_count": null,
      "metadata": {
        "lc_cell_meme": {
          "current": "4a40711a-e8b2-11ed-b994-0242ac110002-7-b4e2-894f-16e7-8934-ef84-b049-50c8",
          "next": "8eec4be0-60f8-11ee-95c7-0242ac110002-1-fd85",
          "previous": "4a407002-e8b2-11ed-b994-0242ac110002-7-1371-7acb-ccc0-4c33-3aca-24be-e13d"
        },
        "scrolled": true
      },
      "outputs": [],
      "source": [
        "from IPython.core.display import HTML\n",
        "%run scripts/nb_utils.py\n",
        "setup_nb_workdir(WORK_DIR)\n",
        "HTML(generate_html_work_nbs(WORK_DIR, nb_group='group-a'))"
      ]
    }
  ],
  "metadata": {
    "kernelspec": {
      "display_name": "Python 3",
      "language": "python",
      "name": "python3"
    },
    "language_info": {
      "file_extension": ".py",
      "mimetype": "text/x-python",
      "name": "python",
      "nbconvert_exporter": "python",
      "pygments_lexer": "ipython3",
      "version": "3.10.4"
    },
    "lc_notebook_meme": {
      "current": "4a40568a-e8b2-11ed-b994-0242ac110002",
      "lc_server_signature": {
        "current": {
          "notebook_dir": "/notebooks/notebook",
          "notebook_path": "/yamaguchi-hub",
          "server_url": "http://163.220.177.100:8888/jupyter/",
          "signature_id": "0ef7ae06-ca2b-11ee-9b69-005056b0158c"
        }
      }
    },
    "toc": {
      "base_numbering": 1,
      "nav_menu": {},
      "number_sections": true,
      "sideBar": true,
      "skip_h1_title": true,
      "title_cell": "Table of Contents",
      "title_sidebar": "Contents",
      "toc_cell": false,
      "toc_position": {
        "height": "calc(100% - 180px)",
        "left": "10px",
        "top": "150px",
        "width": "346.2px"
      },
      "toc_section_display": "block",
      "toc_window_display": true
    }
  },
  "nbformat": 4,
  "nbformat_minor": 2
}
