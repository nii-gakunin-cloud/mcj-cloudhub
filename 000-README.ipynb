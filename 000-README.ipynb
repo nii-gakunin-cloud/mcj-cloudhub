{
 "cells": [
  {
   "cell_type": "markdown",
   "metadata": {
    "lc_cell_meme": {
     "current": "4a4058ce-e8b2-11ed-b994-0242ac110002-6-eda3-2d46-bc23-75f0-927f-228d",
     "history": [
      {
       "current": "4a4058ce-e8b2-11ed-b994-0242ac110002-1-eda3",
       "next": "4a4059aa-e8b2-11ed-b994-0242ac110002",
       "previous": null
      },
      {
       "current": "4a4058ce-e8b2-11ed-b994-0242ac110002-2-eda3-2d46",
       "next": "4a4059aa-e8b2-11ed-b994-0242ac110002-1-7e33",
       "previous": null
      },
      {
       "current": "4a4058ce-e8b2-11ed-b994-0242ac110002-3-eda3-2d46-bc23",
       "next": "4a4059aa-e8b2-11ed-b994-0242ac110002-2-7e33-cc97",
       "previous": null
      },
      {
       "current": "4a4058ce-e8b2-11ed-b994-0242ac110002-4-eda3-2d46-bc23-75f0",
       "next": "4a4059aa-e8b2-11ed-b994-0242ac110002-3-7e33-cc97-34e9",
       "previous": null
      },
      {
       "current": "4a4058ce-e8b2-11ed-b994-0242ac110002-5-eda3-2d46-bc23-75f0-927f",
       "next": "4a4059aa-e8b2-11ed-b994-0242ac110002-4-7e33-cc97-34e9-cf2b",
       "previous": null
      },
      {
       "current": "4a4058ce-e8b2-11ed-b994-0242ac110002-5-eda3-2d46-bc23-75f0-927f",
       "next": "4a4059aa-e8b2-11ed-b994-0242ac110002-5-7e33-cc97-34e9-cf2b-dd04",
       "previous": null
      },
      {
       "current": "4a4058ce-e8b2-11ed-b994-0242ac110002-6-eda3-2d46-bc23-75f0-927f-228d",
       "next": "4a405a54-e8b2-11ed-b994-0242ac110002-5-31bb-0089-98a8-b6be-d064",
       "previous": null
      }
     ],
     "next": "4a405a54-e8b2-11ed-b994-0242ac110002-6-31bb-0089-98a8-b6be-d064-cba2",
     "previous": null
    }
   },
   "source": [
    "# README\n",
    "\n",
    "---\n",
    "\n",
    "VCP SDKを用いてクラウド上にJupyterHub環境を構築します。"
   ]
  },
  {
   "cell_type": "markdown",
   "metadata": {
    "lc_cell_meme": {
     "current": "4a405a54-e8b2-11ed-b994-0242ac110002-6-31bb-0089-98a8-b6be-d064-cba2",
     "history": [
      {
       "current": "4a405a54-e8b2-11ed-b994-0242ac110002-1-31bb",
       "next": "4a405aea-e8b2-11ed-b994-0242ac110002",
       "previous": "4a4059aa-e8b2-11ed-b994-0242ac110002"
      },
      {
       "current": "4a405a54-e8b2-11ed-b994-0242ac110002-2-31bb-0089",
       "next": "4a405aea-e8b2-11ed-b994-0242ac110002-1-bfe2",
       "previous": "4a4059aa-e8b2-11ed-b994-0242ac110002-1-7e33"
      },
      {
       "current": "4a405a54-e8b2-11ed-b994-0242ac110002-3-31bb-0089-98a8",
       "next": "4a405aea-e8b2-11ed-b994-0242ac110002-2-bfe2-2a53",
       "previous": "4a4059aa-e8b2-11ed-b994-0242ac110002-2-7e33-cc97"
      },
      {
       "current": "4a405a54-e8b2-11ed-b994-0242ac110002-4-31bb-0089-98a8-b6be",
       "next": "4a405aea-e8b2-11ed-b994-0242ac110002-3-bfe2-2a53-219a",
       "previous": "4a4059aa-e8b2-11ed-b994-0242ac110002-3-7e33-cc97-34e9"
      },
      {
       "current": "4a405a54-e8b2-11ed-b994-0242ac110002-5-31bb-0089-98a8-b6be-d064",
       "next": "4a405aea-e8b2-11ed-b994-0242ac110002-4-bfe2-2a53-219a-d2b0",
       "previous": "4a4059aa-e8b2-11ed-b994-0242ac110002-4-7e33-cc97-34e9-cf2b"
      },
      {
       "current": "4a405a54-e8b2-11ed-b994-0242ac110002-5-31bb-0089-98a8-b6be-d064",
       "next": "4a405aea-e8b2-11ed-b994-0242ac110002-5-bfe2-2a53-219a-d2b0-a897",
       "previous": "4a4059aa-e8b2-11ed-b994-0242ac110002-5-7e33-cc97-34e9-cf2b-dd04"
      },
      {
       "current": "4a405a54-e8b2-11ed-b994-0242ac110002-6-31bb-0089-98a8-b6be-d064-cba2",
       "next": "4a405aea-e8b2-11ed-b994-0242ac110002-5-bfe2-2a53-219a-d2b0-a897",
       "previous": "4a4058ce-e8b2-11ed-b994-0242ac110002-5-eda3-2d46-bc23-75f0-927f"
      }
     ],
     "next": "4a405aea-e8b2-11ed-b994-0242ac110002-6-bfe2-2a53-219a-d2b0-a897-382d",
     "previous": "4a4058ce-e8b2-11ed-b994-0242ac110002-6-eda3-2d46-bc23-75f0-927f-228d"
    }
   },
   "source": [
    "## はじめに\n",
    "\n",
    "このアプリケーションテンプレートではVCPで作成したノードにJuptyerhub環境を構築します。"
   ]
  },
  {
   "cell_type": "markdown",
   "metadata": {
    "lc_cell_meme": {
     "current": "4a405aea-e8b2-11ed-b994-0242ac110002-6-bfe2-2a53-219a-d2b0-a897-382d",
     "history": [
      {
       "current": "4a405aea-e8b2-11ed-b994-0242ac110002-1-bfe2",
       "next": "4a405b80-e8b2-11ed-b994-0242ac110002",
       "previous": "4a405a54-e8b2-11ed-b994-0242ac110002"
      },
      {
       "current": "4a405aea-e8b2-11ed-b994-0242ac110002-2-bfe2-2a53",
       "next": "4a405b80-e8b2-11ed-b994-0242ac110002-1-1a68",
       "previous": "4a405a54-e8b2-11ed-b994-0242ac110002-1-31bb"
      },
      {
       "current": "4a405aea-e8b2-11ed-b994-0242ac110002-3-bfe2-2a53-219a",
       "next": "4a405b80-e8b2-11ed-b994-0242ac110002-2-1a68-6503",
       "previous": "4a405a54-e8b2-11ed-b994-0242ac110002-2-31bb-0089"
      },
      {
       "current": "4a405aea-e8b2-11ed-b994-0242ac110002-4-bfe2-2a53-219a-d2b0",
       "next": "4a405b80-e8b2-11ed-b994-0242ac110002-3-1a68-6503-5246",
       "previous": "4a405a54-e8b2-11ed-b994-0242ac110002-3-31bb-0089-98a8"
      },
      {
       "current": "4a405aea-e8b2-11ed-b994-0242ac110002-5-bfe2-2a53-219a-d2b0-a897",
       "next": "4a405b80-e8b2-11ed-b994-0242ac110002-4-1a68-6503-5246-f722",
       "previous": "4a405a54-e8b2-11ed-b994-0242ac110002-4-31bb-0089-98a8-b6be"
      },
      {
       "current": "4a405aea-e8b2-11ed-b994-0242ac110002-6-bfe2-2a53-219a-d2b0-a897-382d",
       "next": "4a405b80-e8b2-11ed-b994-0242ac110002-5-1a68-6503-5246-f722-75dd",
       "previous": "4a405a54-e8b2-11ed-b994-0242ac110002-5-31bb-0089-98a8-b6be-d064"
      }
     ],
     "next": "4a405b80-e8b2-11ed-b994-0242ac110002-6-1a68-6503-5246-f722-75dd-00d0",
     "previous": "4a405a54-e8b2-11ed-b994-0242ac110002-6-31bb-0089-98a8-b6be-d064-cba2"
    }
   },
   "source": [
    "### JupyterHubのユーザ認証について\n",
    "\n",
    "本テンプレートで構築するJupyterHubでは、ユーザの認証は、MoodleとのLTI1.1認証連携を前提としています。"
   ]
  },
  {
   "cell_type": "markdown",
   "metadata": {
    "lc_cell_meme": {
     "current": "4a405b80-e8b2-11ed-b994-0242ac110002-6-1a68-6503-5246-f722-75dd-00d0",
     "history": [
      {
       "current": "4a405b80-e8b2-11ed-b994-0242ac110002-1-1a68",
       "next": "4a405c16-e8b2-11ed-b994-0242ac110002",
       "previous": "4a405aea-e8b2-11ed-b994-0242ac110002"
      },
      {
       "current": "4a405b80-e8b2-11ed-b994-0242ac110002-2-1a68-6503",
       "next": "4a405c16-e8b2-11ed-b994-0242ac110002-1-38f6",
       "previous": "4a405aea-e8b2-11ed-b994-0242ac110002-1-bfe2"
      },
      {
       "current": "4a405b80-e8b2-11ed-b994-0242ac110002-3-1a68-6503-5246",
       "next": "4a405c16-e8b2-11ed-b994-0242ac110002-2-38f6-4f5b",
       "previous": "4a405aea-e8b2-11ed-b994-0242ac110002-2-bfe2-2a53"
      },
      {
       "current": "4a405b80-e8b2-11ed-b994-0242ac110002-4-1a68-6503-5246-f722",
       "next": "4a405c16-e8b2-11ed-b994-0242ac110002-3-38f6-4f5b-844d",
       "previous": "4a405aea-e8b2-11ed-b994-0242ac110002-3-bfe2-2a53-219a"
      },
      {
       "current": "4a405b80-e8b2-11ed-b994-0242ac110002-5-1a68-6503-5246-f722-75dd",
       "next": "4a405c16-e8b2-11ed-b994-0242ac110002-4-38f6-4f5b-844d-dbd2",
       "previous": "4a405aea-e8b2-11ed-b994-0242ac110002-4-bfe2-2a53-219a-d2b0"
      },
      {
       "current": "4a405b80-e8b2-11ed-b994-0242ac110002-6-1a68-6503-5246-f722-75dd-00d0",
       "next": "4a405c16-e8b2-11ed-b994-0242ac110002-5-38f6-4f5b-844d-dbd2-d01f",
       "previous": "4a405aea-e8b2-11ed-b994-0242ac110002-5-bfe2-2a53-219a-d2b0-a897"
      }
     ],
     "next": "4a405c16-e8b2-11ed-b994-0242ac110002-6-38f6-4f5b-844d-dbd2-d01f-0bd0",
     "previous": "4a405aea-e8b2-11ed-b994-0242ac110002-6-bfe2-2a53-219a-d2b0-a897-382d"
    }
   },
   "source": [
    "### コンテナの構成について\n",
    "\n",
    "構成図を以下に示します。\n",
    "\n",
    "![モジュール構成](images/arch-readme.png)"
   ]
  },
  {
   "cell_type": "markdown",
   "metadata": {
    "lc_cell_meme": {
     "current": "4a405c16-e8b2-11ed-b994-0242ac110002-6-38f6-4f5b-844d-dbd2-d01f-0bd0",
     "history": [
      {
       "current": "4a405c16-e8b2-11ed-b994-0242ac110002-1-38f6",
       "next": "4a405cac-e8b2-11ed-b994-0242ac110002",
       "previous": "4a405b80-e8b2-11ed-b994-0242ac110002"
      },
      {
       "current": "4a405c16-e8b2-11ed-b994-0242ac110002-2-38f6-4f5b",
       "next": "4a405cac-e8b2-11ed-b994-0242ac110002-1-7ddb",
       "previous": "4a405b80-e8b2-11ed-b994-0242ac110002-1-1a68"
      },
      {
       "current": "4a405c16-e8b2-11ed-b994-0242ac110002-3-38f6-4f5b-844d",
       "next": "4a405cac-e8b2-11ed-b994-0242ac110002-2-7ddb-b9a7",
       "previous": "4a405b80-e8b2-11ed-b994-0242ac110002-2-1a68-6503"
      },
      {
       "current": "4a405c16-e8b2-11ed-b994-0242ac110002-4-38f6-4f5b-844d-dbd2",
       "next": "4a405cac-e8b2-11ed-b994-0242ac110002-3-7ddb-b9a7-d54a",
       "previous": "4a405b80-e8b2-11ed-b994-0242ac110002-3-1a68-6503-5246"
      },
      {
       "current": "4a405c16-e8b2-11ed-b994-0242ac110002-5-38f6-4f5b-844d-dbd2-d01f",
       "next": "4a405cac-e8b2-11ed-b994-0242ac110002-4-7ddb-b9a7-d54a-a1ad",
       "previous": "4a405b80-e8b2-11ed-b994-0242ac110002-4-1a68-6503-5246-f722"
      },
      {
       "current": "4a405c16-e8b2-11ed-b994-0242ac110002-5-38f6-4f5b-844d-dbd2-d01f",
       "next": "4a405cac-e8b2-11ed-b994-0242ac110002-5-7ddb-b9a7-d54a-a1ad-8d54",
       "previous": "4a405b80-e8b2-11ed-b994-0242ac110002-5-1a68-6503-5246-f722-75dd"
      },
      {
       "current": "4a405c16-e8b2-11ed-b994-0242ac110002-5-38f6-4f5b-844d-dbd2-d01f",
       "next": "4a405e64-e8b2-11ed-b994-0242ac110002-5-4c8d-77d4-1e0c-77ba-e24a",
       "previous": "4a405b80-e8b2-11ed-b994-0242ac110002-5-1a68-6503-5246-f722-75dd"
      },
      {
       "current": "4a405c16-e8b2-11ed-b994-0242ac110002-6-38f6-4f5b-844d-dbd2-d01f-0bd0",
       "next": "0503ad5a-31d3-11ee-b73e-0242ac110003",
       "previous": "4a405b80-e8b2-11ed-b994-0242ac110002-5-1a68-6503-5246-f722-75dd"
      }
     ],
     "next": "0503ad5a-31d3-11ee-b73e-0242ac110003-1-2372",
     "previous": "4a405b80-e8b2-11ed-b994-0242ac110002-6-1a68-6503-5246-f722-75dd-00d0"
    }
   },
   "source": [
    "### ノード構成\n",
    "\n",
    "本テンプレートで構築するJupyterHubシステムの各ノードは役割に応じて以下のものに分類されます\n",
    "\n",
    "* manager\n",
    "    - JupyterHub, Nginx, MariaDBなどのSystemコンテナを実行するノード\n",
    "    - Docker Swarm の managerノードとなる\n",
    "* worker\n",
    "    - single-user Jupyter notebook serverを実行するノード\n",
    "    - Docker Swarm の workerノードとなる\n",
    "    \n",
    "本テンプレートで構築するJupyterHubではデータやNotebookなどをノード間で共有するためにNFSを利用します。\n",
    "\n",
    "managerノードがNFSサーバの役割を兼ねる構成になっています。"
   ]
  },
  {
   "cell_type": "markdown",
   "metadata": {
    "lc_cell_meme": {
     "current": "0503ad5a-31d3-11ee-b73e-0242ac110003-1-2372",
     "history": [
      {
       "current": "0503ad5a-31d3-11ee-b73e-0242ac110003-1-2372",
       "next": "4a406378-e8b2-11ed-b994-0242ac110002-5-9501-244e-391b-cf78-d799",
       "previous": "4a405c16-e8b2-11ed-b994-0242ac110002-5-38f6-4f5b-844d-dbd2-d01f"
      }
     ],
     "next": "4a406378-e8b2-11ed-b994-0242ac110002-6-9501-244e-391b-cf78-d799-f998",
     "previous": "4a405c16-e8b2-11ed-b994-0242ac110002-6-38f6-4f5b-844d-dbd2-d01f-0bd0"
    }
   },
   "source": [
    "## 事前に準備が必要となるものについて"
   ]
  },
  {
   "cell_type": "markdown",
   "metadata": {
    "lc_cell_meme": {
     "current": "4a406378-e8b2-11ed-b994-0242ac110002-6-9501-244e-391b-cf78-d799-f998",
     "history": [
      {
       "current": "4a406378-e8b2-11ed-b994-0242ac110002-1-9501",
       "next": "4a406404-e8b2-11ed-b994-0242ac110002",
       "previous": "4a4062e2-e8b2-11ed-b994-0242ac110002"
      },
      {
       "current": "4a406378-e8b2-11ed-b994-0242ac110002-2-9501-244e",
       "next": "4a406404-e8b2-11ed-b994-0242ac110002-1-d5ea",
       "previous": "4a4062e2-e8b2-11ed-b994-0242ac110002-1-1147"
      },
      {
       "current": "4a406378-e8b2-11ed-b994-0242ac110002-3-9501-244e-391b",
       "next": "4a406404-e8b2-11ed-b994-0242ac110002-2-d5ea-dc41",
       "previous": "4a4062e2-e8b2-11ed-b994-0242ac110002-2-1147-b240"
      },
      {
       "current": "4a406378-e8b2-11ed-b994-0242ac110002-4-9501-244e-391b-cf78",
       "next": "4a406404-e8b2-11ed-b994-0242ac110002-3-d5ea-dc41-9865",
       "previous": "4a4062e2-e8b2-11ed-b994-0242ac110002-3-1147-b240-35fd"
      },
      {
       "current": "4a406378-e8b2-11ed-b994-0242ac110002-5-9501-244e-391b-cf78-d799",
       "next": "4a406404-e8b2-11ed-b994-0242ac110002-4-d5ea-dc41-9865-e1b8",
       "previous": "4a4062e2-e8b2-11ed-b994-0242ac110002-4-1147-b240-35fd-2192"
      },
      {
       "current": "4a406378-e8b2-11ed-b994-0242ac110002-5-9501-244e-391b-cf78-d799",
       "next": "4a406404-e8b2-11ed-b994-0242ac110002-5-d5ea-dc41-9865-e1b8-5323",
       "previous": "4a4062e2-e8b2-11ed-b994-0242ac110002-5-1147-b240-35fd-2192-4f73"
      },
      {
       "current": "4a406378-e8b2-11ed-b994-0242ac110002-6-9501-244e-391b-cf78-d799-f998",
       "next": "4a406404-e8b2-11ed-b994-0242ac110002-5-d5ea-dc41-9865-e1b8-5323",
       "previous": "0503ad5a-31d3-11ee-b73e-0242ac110003"
      }
     ],
     "next": "4a406404-e8b2-11ed-b994-0242ac110002-6-d5ea-dc41-9865-e1b8-5323-986c",
     "previous": "0503ad5a-31d3-11ee-b73e-0242ac110003-1-2372"
    }
   },
   "source": [
    "### VCノード\n",
    "\n",
    "ノードを作成するとき必要となるものについて記します。"
   ]
  },
  {
   "cell_type": "markdown",
   "metadata": {
    "lc_cell_meme": {
     "current": "4a406404-e8b2-11ed-b994-0242ac110002-6-d5ea-dc41-9865-e1b8-5323-986c",
     "history": [
      {
       "current": "4a406404-e8b2-11ed-b994-0242ac110002-1-d5ea",
       "next": "4a40649a-e8b2-11ed-b994-0242ac110002",
       "previous": "4a406378-e8b2-11ed-b994-0242ac110002"
      },
      {
       "current": "4a406404-e8b2-11ed-b994-0242ac110002-2-d5ea-dc41",
       "next": "4a40649a-e8b2-11ed-b994-0242ac110002-1-9b87",
       "previous": "4a406378-e8b2-11ed-b994-0242ac110002-1-9501"
      },
      {
       "current": "4a406404-e8b2-11ed-b994-0242ac110002-3-d5ea-dc41-9865",
       "next": "4a40649a-e8b2-11ed-b994-0242ac110002-2-9b87-e293",
       "previous": "4a406378-e8b2-11ed-b994-0242ac110002-2-9501-244e"
      },
      {
       "current": "4a406404-e8b2-11ed-b994-0242ac110002-4-d5ea-dc41-9865-e1b8",
       "next": "4a40649a-e8b2-11ed-b994-0242ac110002-3-9b87-e293-480e",
       "previous": "4a406378-e8b2-11ed-b994-0242ac110002-3-9501-244e-391b"
      },
      {
       "current": "4a406404-e8b2-11ed-b994-0242ac110002-5-d5ea-dc41-9865-e1b8-5323",
       "next": "4a40649a-e8b2-11ed-b994-0242ac110002-4-9b87-e293-480e-318a",
       "previous": "4a406378-e8b2-11ed-b994-0242ac110002-4-9501-244e-391b-cf78"
      },
      {
       "current": "4a406404-e8b2-11ed-b994-0242ac110002-6-d5ea-dc41-9865-e1b8-5323-986c",
       "next": "4a40649a-e8b2-11ed-b994-0242ac110002-5-9b87-e293-480e-318a-1904",
       "previous": "4a406378-e8b2-11ed-b994-0242ac110002-5-9501-244e-391b-cf78-d799"
      }
     ],
     "next": "4a40649a-e8b2-11ed-b994-0242ac110002-6-9b87-e293-480e-318a-1904-4757",
     "previous": "4a406378-e8b2-11ed-b994-0242ac110002-6-9501-244e-391b-cf78-d799-f998"
    }
   },
   "source": [
    "* VCCアクセストークン\n",
    "    - VCP SDKを利用してクラウド環境にノード作成などを行うために必要となります\n",
    "    - VCCアクセストークンがない場合はVC管理者に発行を依頼してください\n",
    "* SSH公開鍵ペア\n",
    "    - VCノードに登録するSSHの公開鍵\n",
    "    - このNotebook環境内で新たに作成するか、事前に作成したものをこの環境にアップロードしておいてください\n",
    "* VCノードに割り当てるアドレス\n",
    "    - ノードのネットワークインタフェースに以下に示す何れかのアドレスを指定することができます\n",
    "        - IPアドレス\n",
    "        - MACアドレス"
   ]
  },
  {
   "cell_type": "markdown",
   "metadata": {
    "lc_cell_meme": {
     "current": "4a40649a-e8b2-11ed-b994-0242ac110002-6-9b87-e293-480e-318a-1904-4757",
     "history": [
      {
       "current": "4a40649a-e8b2-11ed-b994-0242ac110002-1-9b87",
       "next": "4a406526-e8b2-11ed-b994-0242ac110002",
       "previous": "4a406404-e8b2-11ed-b994-0242ac110002"
      },
      {
       "current": "4a40649a-e8b2-11ed-b994-0242ac110002-2-9b87-e293",
       "next": "4a406526-e8b2-11ed-b994-0242ac110002-1-2b39",
       "previous": "4a406404-e8b2-11ed-b994-0242ac110002-1-d5ea"
      },
      {
       "current": "4a40649a-e8b2-11ed-b994-0242ac110002-3-9b87-e293-480e",
       "next": "4a406526-e8b2-11ed-b994-0242ac110002-2-2b39-3b26",
       "previous": "4a406404-e8b2-11ed-b994-0242ac110002-2-d5ea-dc41"
      },
      {
       "current": "4a40649a-e8b2-11ed-b994-0242ac110002-4-9b87-e293-480e-318a",
       "next": "4a406526-e8b2-11ed-b994-0242ac110002-3-2b39-3b26-3174",
       "previous": "4a406404-e8b2-11ed-b994-0242ac110002-3-d5ea-dc41-9865"
      },
      {
       "current": "4a40649a-e8b2-11ed-b994-0242ac110002-5-9b87-e293-480e-318a-1904",
       "next": "4a406526-e8b2-11ed-b994-0242ac110002-4-2b39-3b26-3174-787a",
       "previous": "4a406404-e8b2-11ed-b994-0242ac110002-4-d5ea-dc41-9865-e1b8"
      },
      {
       "current": "4a40649a-e8b2-11ed-b994-0242ac110002-6-9b87-e293-480e-318a-1904-4757",
       "next": "4a406526-e8b2-11ed-b994-0242ac110002-5-2b39-3b26-3174-787a-0532",
       "previous": "4a406404-e8b2-11ed-b994-0242ac110002-5-d5ea-dc41-9865-e1b8-5323"
      }
     ],
     "next": "4a406526-e8b2-11ed-b994-0242ac110002-6-2b39-3b26-3174-787a-0532-2485",
     "previous": "4a406404-e8b2-11ed-b994-0242ac110002-6-d5ea-dc41-9865-e1b8-5323-986c"
    }
   },
   "source": [
    "### JupyterHub\n",
    "\n",
    "JupyterHub環境を構築する際に必要となるものについて記します。"
   ]
  },
  {
   "cell_type": "markdown",
   "metadata": {
    "lc_cell_meme": {
     "current": "4a406526-e8b2-11ed-b994-0242ac110002-6-2b39-3b26-3174-787a-0532-2485",
     "history": [
      {
       "current": "4a406526-e8b2-11ed-b994-0242ac110002-1-2b39",
       "next": "4a4065b2-e8b2-11ed-b994-0242ac110002",
       "previous": "4a40649a-e8b2-11ed-b994-0242ac110002"
      },
      {
       "current": "4a406526-e8b2-11ed-b994-0242ac110002-2-2b39-3b26",
       "next": "4a4065b2-e8b2-11ed-b994-0242ac110002-1-99fd",
       "previous": "4a40649a-e8b2-11ed-b994-0242ac110002-1-9b87"
      },
      {
       "current": "4a406526-e8b2-11ed-b994-0242ac110002-3-2b39-3b26-3174",
       "next": "4a4065b2-e8b2-11ed-b994-0242ac110002-2-99fd-a1e6",
       "previous": "4a40649a-e8b2-11ed-b994-0242ac110002-2-9b87-e293"
      },
      {
       "current": "4a406526-e8b2-11ed-b994-0242ac110002-4-2b39-3b26-3174-787a",
       "next": "4a4065b2-e8b2-11ed-b994-0242ac110002-3-99fd-a1e6-5fc1",
       "previous": "4a40649a-e8b2-11ed-b994-0242ac110002-3-9b87-e293-480e"
      },
      {
       "current": "4a406526-e8b2-11ed-b994-0242ac110002-5-2b39-3b26-3174-787a-0532",
       "next": "4a4065b2-e8b2-11ed-b994-0242ac110002-4-99fd-a1e6-5fc1-da44",
       "previous": "4a40649a-e8b2-11ed-b994-0242ac110002-4-9b87-e293-480e-318a"
      },
      {
       "current": "4a406526-e8b2-11ed-b994-0242ac110002-5-2b39-3b26-3174-787a-0532",
       "next": "4a4065b2-e8b2-11ed-b994-0242ac110002-5-99fd-a1e6-5fc1-da44-c667",
       "previous": "4a40649a-e8b2-11ed-b994-0242ac110002-5-9b87-e293-480e-318a-1904"
      },
      {
       "current": "4a406526-e8b2-11ed-b994-0242ac110002-6-2b39-3b26-3174-787a-0532-2485",
       "next": "4a4066d4-e8b2-11ed-b994-0242ac110002-5-4983-941a-8862-1492-2d09",
       "previous": "4a40649a-e8b2-11ed-b994-0242ac110002-5-9b87-e293-480e-318a-1904"
      }
     ],
     "next": "4a4066d4-e8b2-11ed-b994-0242ac110002-6-4983-941a-8862-1492-2d09-1c46",
     "previous": "4a40649a-e8b2-11ed-b994-0242ac110002-6-9b87-e293-480e-318a-1904-4757"
    }
   },
   "source": [
    "* JupyterHubのサーバ証明書\n",
    "    - JupyterHubではHTTPSでサーバを公開するため、サーバ証明書とその秘密鍵が必要となります\n",
    "    - サーバ証明書に記載されているホスト名のDNS登録も必要となります"
   ]
  },
  {
   "cell_type": "markdown",
   "metadata": {
    "lc_cell_meme": {
     "current": "4a4066d4-e8b2-11ed-b994-0242ac110002-6-4983-941a-8862-1492-2d09-1c46",
     "history": [
      {
       "current": "4a4066d4-e8b2-11ed-b994-0242ac110002-1-4983",
       "next": "4a40676a-e8b2-11ed-b994-0242ac110002",
       "previous": "4a406648-e8b2-11ed-b994-0242ac110002"
      },
      {
       "current": "4a4066d4-e8b2-11ed-b994-0242ac110002-2-4983-941a",
       "next": "4a40676a-e8b2-11ed-b994-0242ac110002-1-0489",
       "previous": "4a406648-e8b2-11ed-b994-0242ac110002-1-23ee"
      },
      {
       "current": "4a4066d4-e8b2-11ed-b994-0242ac110002-3-4983-941a-8862",
       "next": "4a40676a-e8b2-11ed-b994-0242ac110002-2-0489-83e4",
       "previous": "4a406648-e8b2-11ed-b994-0242ac110002-2-23ee-3ab3"
      },
      {
       "current": "4a4066d4-e8b2-11ed-b994-0242ac110002-4-4983-941a-8862-1492",
       "next": "4a40676a-e8b2-11ed-b994-0242ac110002-3-0489-83e4-7c3f",
       "previous": "4a406648-e8b2-11ed-b994-0242ac110002-3-23ee-3ab3-9023"
      },
      {
       "current": "4a4066d4-e8b2-11ed-b994-0242ac110002-5-4983-941a-8862-1492-2d09",
       "next": "4a40676a-e8b2-11ed-b994-0242ac110002-4-0489-83e4-7c3f-b9c5",
       "previous": "4a406648-e8b2-11ed-b994-0242ac110002-4-23ee-3ab3-9023-9a6d"
      },
      {
       "current": "4a4066d4-e8b2-11ed-b994-0242ac110002-5-4983-941a-8862-1492-2d09",
       "next": "4a40676a-e8b2-11ed-b994-0242ac110002-5-0489-83e4-7c3f-b9c5-5e87",
       "previous": "4a406648-e8b2-11ed-b994-0242ac110002-5-23ee-3ab3-9023-9a6d-19c2"
      },
      {
       "current": "4a4066d4-e8b2-11ed-b994-0242ac110002-6-4983-941a-8862-1492-2d09-1c46",
       "next": "4a40676a-e8b2-11ed-b994-0242ac110002-5-0489-83e4-7c3f-b9c5-5e87",
       "previous": "4a406526-e8b2-11ed-b994-0242ac110002-5-2b39-3b26-3174-787a-0532"
      }
     ],
     "next": "4a40676a-e8b2-11ed-b994-0242ac110002-6-0489-83e4-7c3f-b9c5-5e87-9632",
     "previous": "4a406526-e8b2-11ed-b994-0242ac110002-6-2b39-3b26-3174-787a-0532-2485"
    }
   },
   "source": [
    "## Notebookの一覧\n",
    "\n",
    "テンプレートのNotebook一覧を示します。"
   ]
  },
  {
   "cell_type": "markdown",
   "metadata": {
    "lc_cell_meme": {
     "current": "4a40676a-e8b2-11ed-b994-0242ac110002-6-0489-83e4-7c3f-b9c5-5e87-9632",
     "history": [
      {
       "current": "4a40676a-e8b2-11ed-b994-0242ac110002-1-0489",
       "next": "4a4067f6-e8b2-11ed-b994-0242ac110002",
       "previous": "4a4066d4-e8b2-11ed-b994-0242ac110002"
      },
      {
       "current": "4a40676a-e8b2-11ed-b994-0242ac110002-2-0489-83e4",
       "next": "4a4067f6-e8b2-11ed-b994-0242ac110002-1-4574",
       "previous": "4a4066d4-e8b2-11ed-b994-0242ac110002-1-4983"
      },
      {
       "current": "4a40676a-e8b2-11ed-b994-0242ac110002-3-0489-83e4-7c3f",
       "next": "4a4067f6-e8b2-11ed-b994-0242ac110002-2-4574-b44f",
       "previous": "4a4066d4-e8b2-11ed-b994-0242ac110002-2-4983-941a"
      },
      {
       "current": "4a40676a-e8b2-11ed-b994-0242ac110002-4-0489-83e4-7c3f-b9c5",
       "next": "4a4067f6-e8b2-11ed-b994-0242ac110002-3-4574-b44f-a339",
       "previous": "4a4066d4-e8b2-11ed-b994-0242ac110002-3-4983-941a-8862"
      },
      {
       "current": "4a40676a-e8b2-11ed-b994-0242ac110002-5-0489-83e4-7c3f-b9c5-5e87",
       "next": "4a4067f6-e8b2-11ed-b994-0242ac110002-4-4574-b44f-a339-d918",
       "previous": "4a4066d4-e8b2-11ed-b994-0242ac110002-4-4983-941a-8862-1492"
      },
      {
       "current": "4a40676a-e8b2-11ed-b994-0242ac110002-6-0489-83e4-7c3f-b9c5-5e87-9632",
       "next": "4a4067f6-e8b2-11ed-b994-0242ac110002-5-4574-b44f-a339-d918-8ce5",
       "previous": "4a4066d4-e8b2-11ed-b994-0242ac110002-5-4983-941a-8862-1492-2d09"
      }
     ],
     "next": "4a4067f6-e8b2-11ed-b994-0242ac110002-6-4574-b44f-a339-d918-8ce5-2a69",
     "previous": "4a4066d4-e8b2-11ed-b994-0242ac110002-6-4983-941a-8862-1492-2d09-1c46"
    }
   },
   "source": [
    "**注意**:\n",
    "\n",
    "この節ではテンプレートのNotebookへのリンクを示す箇所がありますが、リンク先のNotebookは参照用となっていて**そのままでは実行できません**。\n",
    "\n",
    "> Notebook自体は実行できてしまいますが、パスなどが想定しているものと異なるため正しく処理できずエラーとなります。\n",
    "\n",
    "次のどちらかの手順で作業用Notebookを作成する必要があります。\n",
    "\n",
    "* 次節の「作業用Notebookの作成」で作業用のNotebookを作成する。\n",
    "* テンプレートのNotebookを配置してある `notebooks/` から、この`000-README.ipynb`と同じディレクトリにNotebookをコピーする。"
   ]
  },
  {
   "cell_type": "markdown",
   "metadata": {
    "lc_cell_meme": {
     "current": "4a4067f6-e8b2-11ed-b994-0242ac110002-6-4574-b44f-a339-d918-8ce5-2a69",
     "history": [
      {
       "current": "4a4067f6-e8b2-11ed-b994-0242ac110002-1-4574",
       "next": "4a406882-e8b2-11ed-b994-0242ac110002",
       "previous": "4a40676a-e8b2-11ed-b994-0242ac110002"
      },
      {
       "current": "4a4067f6-e8b2-11ed-b994-0242ac110002-2-4574-b44f",
       "next": "4a406882-e8b2-11ed-b994-0242ac110002-1-bd75",
       "previous": "4a40676a-e8b2-11ed-b994-0242ac110002-1-0489"
      },
      {
       "current": "4a4067f6-e8b2-11ed-b994-0242ac110002-3-4574-b44f-a339",
       "next": "4a406882-e8b2-11ed-b994-0242ac110002-2-bd75-2dac",
       "previous": "4a40676a-e8b2-11ed-b994-0242ac110002-2-0489-83e4"
      },
      {
       "current": "4a4067f6-e8b2-11ed-b994-0242ac110002-4-4574-b44f-a339-d918",
       "next": "4a406882-e8b2-11ed-b994-0242ac110002-3-bd75-2dac-045c",
       "previous": "4a40676a-e8b2-11ed-b994-0242ac110002-3-0489-83e4-7c3f"
      },
      {
       "current": "4a4067f6-e8b2-11ed-b994-0242ac110002-5-4574-b44f-a339-d918-8ce5",
       "next": "4a406882-e8b2-11ed-b994-0242ac110002-4-bd75-2dac-045c-9f5d",
       "previous": "4a40676a-e8b2-11ed-b994-0242ac110002-4-0489-83e4-7c3f-b9c5"
      },
      {
       "current": "4a4067f6-e8b2-11ed-b994-0242ac110002-5-4574-b44f-a339-d918-8ce5",
       "next": "4a406882-e8b2-11ed-b994-0242ac110002-5-bd75-2dac-045c-9f5d-b82b",
       "previous": "4a40676a-e8b2-11ed-b994-0242ac110002-5-0489-83e4-7c3f-b9c5-5e87"
      },
      {
       "current": "4a4067f6-e8b2-11ed-b994-0242ac110002-6-4574-b44f-a339-d918-8ce5-2a69",
       "next": "4a406e54-e8b2-11ed-b994-0242ac110002-5-d3aa-2d10-f961-d584-b230",
       "previous": "4a40676a-e8b2-11ed-b994-0242ac110002-5-0489-83e4-7c3f-b9c5-5e87"
      }
     ],
     "next": "4a406e54-e8b2-11ed-b994-0242ac110002-6-d3aa-2d10-f961-d584-b230-6254",
     "previous": "4a40676a-e8b2-11ed-b994-0242ac110002-6-0489-83e4-7c3f-b9c5-5e87-9632"
    }
   },
   "source": [
    "### 各Notebookの関連について\n",
    "\n",
    "各Notebookの実行順序は、以下の通りです。\n",
    "\n",
    "1. 011-VCノード作成.ipynb\n",
    "2. 121-JupyterHubのセットアップ.ipynb\n",
    "\n",
    "また、作成した環境を一度VCノードごと削除する場合、以下のノートブックを使用してください。\n",
    "\n",
    "- 991-JupyterHub環境の削除.ipynb"
   ]
  },
  {
   "cell_type": "markdown",
   "metadata": {
    "lc_cell_meme": {
     "current": "4a406e54-e8b2-11ed-b994-0242ac110002-6-d3aa-2d10-f961-d584-b230-6254",
     "history": [
      {
       "current": "4a406e54-e8b2-11ed-b994-0242ac110002-1-d3aa",
       "next": "4a406ee0-e8b2-11ed-b994-0242ac110002",
       "previous": "4a406dbe-e8b2-11ed-b994-0242ac110002"
      },
      {
       "current": "4a406e54-e8b2-11ed-b994-0242ac110002-2-d3aa-2d10",
       "next": "4a406ee0-e8b2-11ed-b994-0242ac110002-1-512d",
       "previous": "4a406dbe-e8b2-11ed-b994-0242ac110002-1-e56f"
      },
      {
       "current": "4a406e54-e8b2-11ed-b994-0242ac110002-3-d3aa-2d10-f961",
       "next": "4a406ee0-e8b2-11ed-b994-0242ac110002-2-512d-2a99",
       "previous": "4a406dbe-e8b2-11ed-b994-0242ac110002-2-e56f-1495"
      },
      {
       "current": "4a406e54-e8b2-11ed-b994-0242ac110002-4-d3aa-2d10-f961-d584",
       "next": "4a406ee0-e8b2-11ed-b994-0242ac110002-3-512d-2a99-8af0",
       "previous": "4a406dbe-e8b2-11ed-b994-0242ac110002-3-e56f-1495-de0f"
      },
      {
       "current": "4a406e54-e8b2-11ed-b994-0242ac110002-5-d3aa-2d10-f961-d584-b230",
       "next": "4a406ee0-e8b2-11ed-b994-0242ac110002-4-512d-2a99-8af0-f373",
       "previous": "4a406dbe-e8b2-11ed-b994-0242ac110002-4-e56f-1495-de0f-4eb9"
      },
      {
       "current": "4a406e54-e8b2-11ed-b994-0242ac110002-5-d3aa-2d10-f961-d584-b230",
       "next": "4a406ee0-e8b2-11ed-b994-0242ac110002-5-512d-2a99-8af0-f373-a093",
       "previous": "4a406dbe-e8b2-11ed-b994-0242ac110002-5-e56f-1495-de0f-4eb9-912e"
      },
      {
       "current": "4a406e54-e8b2-11ed-b994-0242ac110002-6-d3aa-2d10-f961-d584-b230-6254",
       "next": "4a406ee0-e8b2-11ed-b994-0242ac110002-5-512d-2a99-8af0-f373-a093",
       "previous": "4a4067f6-e8b2-11ed-b994-0242ac110002-5-4574-b44f-a339-d918-8ce5"
      }
     ],
     "next": "4a406ee0-e8b2-11ed-b994-0242ac110002-6-512d-2a99-8af0-f373-a093-8d68",
     "previous": "4a4067f6-e8b2-11ed-b994-0242ac110002-6-4574-b44f-a339-d918-8ce5-2a69"
    }
   },
   "source": [
    "## 作業用Notebookの作成\n",
    "\n",
    "この節のセルを実行することで、テンプレートのNotebookから作業用Notebookを作成することができます。"
   ]
  },
  {
   "cell_type": "markdown",
   "metadata": {
    "lc_cell_meme": {
     "current": "4a406ee0-e8b2-11ed-b994-0242ac110002-6-512d-2a99-8af0-f373-a093-8d68",
     "history": [
      {
       "current": "4a406ee0-e8b2-11ed-b994-0242ac110002-1-512d",
       "next": "4a406f6c-e8b2-11ed-b994-0242ac110002",
       "previous": "4a406e54-e8b2-11ed-b994-0242ac110002"
      },
      {
       "current": "4a406ee0-e8b2-11ed-b994-0242ac110002-2-512d-2a99",
       "next": "4a406f6c-e8b2-11ed-b994-0242ac110002-1-a5d1",
       "previous": "4a406e54-e8b2-11ed-b994-0242ac110002-1-d3aa"
      },
      {
       "current": "4a406ee0-e8b2-11ed-b994-0242ac110002-3-512d-2a99-8af0",
       "next": "4a406f6c-e8b2-11ed-b994-0242ac110002-2-a5d1-2fb3",
       "previous": "4a406e54-e8b2-11ed-b994-0242ac110002-2-d3aa-2d10"
      },
      {
       "current": "4a406ee0-e8b2-11ed-b994-0242ac110002-4-512d-2a99-8af0-f373",
       "next": "4a406f6c-e8b2-11ed-b994-0242ac110002-3-a5d1-2fb3-7301",
       "previous": "4a406e54-e8b2-11ed-b994-0242ac110002-3-d3aa-2d10-f961"
      },
      {
       "current": "4a406ee0-e8b2-11ed-b994-0242ac110002-5-512d-2a99-8af0-f373-a093",
       "next": "4a406f6c-e8b2-11ed-b994-0242ac110002-4-a5d1-2fb3-7301-fe26",
       "previous": "4a406e54-e8b2-11ed-b994-0242ac110002-4-d3aa-2d10-f961-d584"
      },
      {
       "current": "4a406ee0-e8b2-11ed-b994-0242ac110002-6-512d-2a99-8af0-f373-a093-8d68",
       "next": "4a406f6c-e8b2-11ed-b994-0242ac110002-5-a5d1-2fb3-7301-fe26-cd9c",
       "previous": "4a406e54-e8b2-11ed-b994-0242ac110002-5-d3aa-2d10-f961-d584-b230"
      }
     ],
     "next": "4a406f6c-e8b2-11ed-b994-0242ac110002-6-a5d1-2fb3-7301-fe26-cd9c-1a5c",
     "previous": "4a406e54-e8b2-11ed-b994-0242ac110002-6-d3aa-2d10-f961-d584-b230-6254"
    }
   },
   "source": [
    "まず、作業用Notebookを配置するディレクトリを指定してください。"
   ]
  },
  {
   "cell_type": "code",
   "execution_count": null,
   "metadata": {
    "lc_cell_meme": {
     "current": "4a406f6c-e8b2-11ed-b994-0242ac110002-6-a5d1-2fb3-7301-fe26-cd9c-1a5c",
     "history": [
      {
       "current": "4a406f6c-e8b2-11ed-b994-0242ac110002-1-a5d1",
       "next": "4a407002-e8b2-11ed-b994-0242ac110002",
       "previous": "4a406ee0-e8b2-11ed-b994-0242ac110002"
      },
      {
       "current": "4a406f6c-e8b2-11ed-b994-0242ac110002-2-a5d1-2fb3",
       "next": "4a407002-e8b2-11ed-b994-0242ac110002-1-1371",
       "previous": "4a406ee0-e8b2-11ed-b994-0242ac110002-1-512d"
      },
      {
       "current": "4a406f6c-e8b2-11ed-b994-0242ac110002-3-a5d1-2fb3-7301",
       "next": "4a407002-e8b2-11ed-b994-0242ac110002-2-1371-7acb",
       "previous": "4a406ee0-e8b2-11ed-b994-0242ac110002-2-512d-2a99"
      },
      {
       "current": "4a406f6c-e8b2-11ed-b994-0242ac110002-4-a5d1-2fb3-7301-fe26",
       "next": "4a407002-e8b2-11ed-b994-0242ac110002-3-1371-7acb-ccc0",
       "previous": "4a406ee0-e8b2-11ed-b994-0242ac110002-3-512d-2a99-8af0"
      },
      {
       "current": "4a406f6c-e8b2-11ed-b994-0242ac110002-5-a5d1-2fb3-7301-fe26-cd9c",
       "next": "4a407002-e8b2-11ed-b994-0242ac110002-4-1371-7acb-ccc0-4c33",
       "previous": "4a406ee0-e8b2-11ed-b994-0242ac110002-4-512d-2a99-8af0-f373"
      },
      {
       "current": "4a406f6c-e8b2-11ed-b994-0242ac110002-6-a5d1-2fb3-7301-fe26-cd9c-1a5c",
       "next": "4a407002-e8b2-11ed-b994-0242ac110002-5-1371-7acb-ccc0-4c33-3aca",
       "previous": "4a406ee0-e8b2-11ed-b994-0242ac110002-5-512d-2a99-8af0-f373-a093"
      }
     ],
     "next": "4a407002-e8b2-11ed-b994-0242ac110002-6-1371-7acb-ccc0-4c33-3aca-24be",
     "previous": "4a406ee0-e8b2-11ed-b994-0242ac110002-6-512d-2a99-8af0-f373-a093-8d68"
    },
    "lc_wrapper": {
     "log_history": [
      "/notebooks/notebook/work_terayama/Untitled Folder/ocs-templates/CoursewareHub/.log/20230502/20230502-152445-0090.log",
      "/notebooks/notebook/work_terayama/CoursewareHub_tutorial/ocs-templates/CoursewareHub/.log/20230508/20230508-154627-0378.log",
      "/notebooks/notebook/work_terayama/CoursewareHub_tutorial/ocs-templates/CoursewareHub/.log/20230509/20230509-135618-0683.log",
      "/notebooks/notebook/work_terayama/CoursewareHub_tutorial/ocs-templates/CoursewareHub/.log/20230519/20230519-112348-0885.log",
      "/notebooks/notebook/work_terayama/CoursewareHub/.log/20230519/20230519-222954-0588.log",
      "/notebooks/notebook/work_terayama/CoursewareHub/.log/20230605/20230605-171629-0671.log",
      "/notebooks/notebook/work_terayama/yjupyterhub/.log/20230623/20230623-152124-0586.log",
      "/notebooks/notebook/work_terayama/YamaguchiHub/.log/20230802/20230802-135344-0884.log",
      "/notebooks/notebook/work_terayama/yamaguchi-hub/.log/20230823/20230823-183207-0317.log",
      "/notebooks/notebook/work_terayama/yamaguchi-hub/.log/20230828/20230828-125056-0516.log",
      "/notebooks/notebook/work_terayama/yamaguchi-hub/.log/20230904/20230904-151109-0858.log",
      "/notebooks/notebook/work_terayama/yamaguchi-hub/.log/20230904/20230904-180450-0318.log",
      "/notebooks/notebook/work_terayama/yamaguchi-hub/.log/20230904/20230904-181925-0538.log",
      "/notebooks/notebook/work_terayama/yamaguchi-hub/.log/20230905/20230905-122659-0794.log",
      "/notebooks/notebook/work_terayama/yamaguchi-hub/.log/20230905/20230905-135719-0628.log",
      "/notebooks/notebook/work_terayama/yamaguchi-hub/.log/20230906/20230906-172509-0264.log",
      "/notebooks/notebook/work_terayama/yamaguchi-hub/.log/20230914/20230914-195120-0424.log",
      "/notebooks/notebook/work_terayama/yamaguchi-hub/.log/20230914/20230914-212402-0623.log",
      "/notebooks/notebook/work_terayama/yamaguchi-hub/.log/20230914/20230914-225843-0406.log",
      "/notebooks/notebook/work_terayama/yamaguchi-hub/.log/20230914/20230914-234048-0149.log",
      "/notebooks/notebook/work_terayama/yamaguchi-hub/.log/20230921/20230921-193325-0909.log",
      "/notebooks/notebook/work_terayama/yamaguchi-hub/.log/20230922/20230922-150029-0936.log",
      "/notebooks/notebook/work_terayama/yamaguchi-hub/.log/20230922/20230922-151354-0796.log",
      "/notebooks/notebook/work_terayama/yamaguchi-hub/.log/20230922/20230922-184121-0623.log",
      "/notebooks/notebook/work_terayama/yamaguchi-hub/.log/20230924/20230924-181716-0230.log",
      "/notebooks/notebook/work_terayama/yamaguchi-hub/.log/20230925/20230925-105136-0791.log",
      "/notebooks/notebook/work_terayama/yamaguchi-hub/.log/20230926/20230926-214505-0784.log",
      "/notebooks/notebook/work_terayama/yamaguchi-hub/.log/20230926/20230926-223514-0204.log",
      "/notebooks/notebook/work_terayama/yamaguchi-hub/.log/20230927/20230927-000627-0135.log",
      "/notebooks/notebook/work_terayama/yamaguchi-hub/.log/20230927/20230927-135549-0277.log",
      "/notebooks/notebook/work_terayama/yamaguchi-hub/.log/20230927/20230927-154448-0157.log",
      "/notebooks/notebook/work_terayama/yamaguchi-hub/.log/20231002/20231002-123808-0412.log",
      "/notebooks/notebook/work_terayama/yamaguchi-hub/.log/20231002/20231002-165104-0693.log",
      "/notebooks/notebook/work_terayama/yamaguchi-hub/.log/20231002/20231002-174903-0238.log"
     ]
    }
   },
   "outputs": [],
   "source": [
    "WORK_DIR = 'work'"
   ]
  },
  {
   "cell_type": "markdown",
   "metadata": {
    "lc_cell_meme": {
     "current": "4a407002-e8b2-11ed-b994-0242ac110002-6-1371-7acb-ccc0-4c33-3aca-24be",
     "history": [
      {
       "current": "4a407002-e8b2-11ed-b994-0242ac110002-1-1371",
       "next": "4a40708e-e8b2-11ed-b994-0242ac110002",
       "previous": "4a406f6c-e8b2-11ed-b994-0242ac110002"
      },
      {
       "current": "4a407002-e8b2-11ed-b994-0242ac110002-2-1371-7acb",
       "next": "4a40708e-e8b2-11ed-b994-0242ac110002-1-2baa",
       "previous": "4a406f6c-e8b2-11ed-b994-0242ac110002-1-a5d1"
      },
      {
       "current": "4a407002-e8b2-11ed-b994-0242ac110002-3-1371-7acb-ccc0",
       "next": "4a40708e-e8b2-11ed-b994-0242ac110002-2-2baa-e577",
       "previous": "4a406f6c-e8b2-11ed-b994-0242ac110002-2-a5d1-2fb3"
      },
      {
       "current": "4a407002-e8b2-11ed-b994-0242ac110002-4-1371-7acb-ccc0-4c33",
       "next": "4a40708e-e8b2-11ed-b994-0242ac110002-3-2baa-e577-86a2",
       "previous": "4a406f6c-e8b2-11ed-b994-0242ac110002-3-a5d1-2fb3-7301"
      },
      {
       "current": "4a407002-e8b2-11ed-b994-0242ac110002-5-1371-7acb-ccc0-4c33-3aca",
       "next": "4a40708e-e8b2-11ed-b994-0242ac110002-4-2baa-e577-86a2-9c2d",
       "previous": "4a406f6c-e8b2-11ed-b994-0242ac110002-4-a5d1-2fb3-7301-fe26"
      },
      {
       "current": "4a407002-e8b2-11ed-b994-0242ac110002-5-1371-7acb-ccc0-4c33-3aca",
       "next": "4a40708e-e8b2-11ed-b994-0242ac110002-5-2baa-e577-86a2-9c2d-8f58",
       "previous": "4a406f6c-e8b2-11ed-b994-0242ac110002-5-a5d1-2fb3-7301-fe26-cd9c"
      },
      {
       "current": "4a407002-e8b2-11ed-b994-0242ac110002-6-1371-7acb-ccc0-4c33-3aca-24be",
       "next": "4a40711a-e8b2-11ed-b994-0242ac110002-5-b4e2-894f-16e7-8934-ef84",
       "previous": "4a406f6c-e8b2-11ed-b994-0242ac110002-5-a5d1-2fb3-7301-fe26-cd9c"
      }
     ],
     "next": "4a40711a-e8b2-11ed-b994-0242ac110002-6-b4e2-894f-16e7-8934-ef84-b049",
     "previous": "4a406f6c-e8b2-11ed-b994-0242ac110002-6-a5d1-2fb3-7301-fe26-cd9c-1a5c"
    }
   },
   "source": [
    "以下のセルを実行すると、Notebook名のドロップダウンリストと「作業開始」ボタンが現れます。\n",
    "「作業開始」ボタンを押すと、テンプレートのNotebookをコピーし、そのNotebookを自動的にブラウザで開きます。\n",
    "Notebookの説明を確認しながら実行、適宜修正しながら実行していってください。\n",
    "\n",
    "> このNotebookを Shutdown した後に再度開いた場合、次のセルに既に表示されている「作用開始」ボタンが正しく動作しません。この節のセルをいったん unfreeze した後、セルを再実行してから「作業開始」ボタンをクリックして下さい。\n"
   ]
  },
  {
   "cell_type": "code",
   "execution_count": null,
   "metadata": {
    "lc_cell_meme": {
     "current": "4a40711a-e8b2-11ed-b994-0242ac110002-6-b4e2-894f-16e7-8934-ef84-b049",
     "history": [
      {
       "current": "4a40711a-e8b2-11ed-b994-0242ac110002-1-b4e2",
       "next": "4a4071b0-e8b2-11ed-b994-0242ac110002",
       "previous": "4a40708e-e8b2-11ed-b994-0242ac110002"
      },
      {
       "current": "4a40711a-e8b2-11ed-b994-0242ac110002-2-b4e2-894f",
       "next": "4a4071b0-e8b2-11ed-b994-0242ac110002-1-b9b1",
       "previous": "4a40708e-e8b2-11ed-b994-0242ac110002-1-2baa"
      },
      {
       "current": "4a40711a-e8b2-11ed-b994-0242ac110002-3-b4e2-894f-16e7",
       "next": "4a4071b0-e8b2-11ed-b994-0242ac110002-2-b9b1-449e",
       "previous": "4a40708e-e8b2-11ed-b994-0242ac110002-2-2baa-e577"
      },
      {
       "current": "4a40711a-e8b2-11ed-b994-0242ac110002-4-b4e2-894f-16e7-8934",
       "next": "4a4071b0-e8b2-11ed-b994-0242ac110002-3-b9b1-449e-8e6e",
       "previous": "4a40708e-e8b2-11ed-b994-0242ac110002-3-2baa-e577-86a2"
      },
      {
       "current": "4a40711a-e8b2-11ed-b994-0242ac110002-5-b4e2-894f-16e7-8934-ef84",
       "next": "4a4071b0-e8b2-11ed-b994-0242ac110002-4-b9b1-449e-8e6e-0bb0",
       "previous": "4a40708e-e8b2-11ed-b994-0242ac110002-4-2baa-e577-86a2-9c2d"
      },
      {
       "current": "4a40711a-e8b2-11ed-b994-0242ac110002-5-b4e2-894f-16e7-8934-ef84",
       "next": "4a4071b0-e8b2-11ed-b994-0242ac110002-5-b9b1-449e-8e6e-0bb0-4304",
       "previous": "4a40708e-e8b2-11ed-b994-0242ac110002-5-2baa-e577-86a2-9c2d-8f58"
      },
      {
       "current": "4a40711a-e8b2-11ed-b994-0242ac110002-6-b4e2-894f-16e7-8934-ef84-b049",
       "next": null,
       "previous": "4a407002-e8b2-11ed-b994-0242ac110002-5-1371-7acb-ccc0-4c33-3aca"
      },
      {
       "current": "4a40711a-e8b2-11ed-b994-0242ac110002-6-b4e2-894f-16e7-8934-ef84-b049",
       "next": null,
       "previous": "4a407002-e8b2-11ed-b994-0242ac110002-6-1371-7acb-ccc0-4c33-3aca-24be"
      },
      {
       "current": "4a40711a-e8b2-11ed-b994-0242ac110002-6-b4e2-894f-16e7-8934-ef84-b049",
       "next": null,
       "previous": "4a407002-e8b2-11ed-b994-0242ac110002-6-1371-7acb-ccc0-4c33-3aca-24be"
      },
      {
       "current": "4a40711a-e8b2-11ed-b994-0242ac110002-6-b4e2-894f-16e7-8934-ef84-b049",
       "next": null,
       "previous": "4a407002-e8b2-11ed-b994-0242ac110002-6-1371-7acb-ccc0-4c33-3aca-24be"
      }
     ],
     "next": "8eec4be0-60f8-11ee-95c7-0242ac110002",
     "previous": "4a407002-e8b2-11ed-b994-0242ac110002-6-1371-7acb-ccc0-4c33-3aca-24be"
    },
    "lc_wrapper": {
     "log_history": [
      "/notebooks/notebook/work_terayama/Untitled Folder/ocs-templates/CoursewareHub/.log/20230502/20230502-152447-0907.log",
      "/notebooks/notebook/work_terayama/CoursewareHub_tutorial/ocs-templates/CoursewareHub/.log/20230508/20230508-154643-0712.log",
      "/notebooks/notebook/work_terayama/CoursewareHub_tutorial/ocs-templates/CoursewareHub/.log/20230511/20230511-175742-0603.log",
      "/notebooks/notebook/work_terayama/CoursewareHub_tutorial/ocs-templates/CoursewareHub/.log/20230519/20230519-112354-0128.log",
      "/notebooks/notebook/work_terayama/CoursewareHub/.log/20230519/20230519-222958-0041.log",
      "/notebooks/notebook/work_terayama/CoursewareHub/.log/20230605/20230605-171631-0326.log",
      "/notebooks/notebook/work_terayama/yjupyterhub/.log/20230623/20230623-152126-0713.log",
      "/notebooks/notebook/work_terayama/YamaguchiHub/.log/20230802/20230802-135328-0739.log",
      "/notebooks/notebook/work_terayama/YamaguchiHub/.log/20230802/20230802-135347-0090.log",
      "/notebooks/notebook/work_terayama/yamaguchi-hub/.log/20230823/20230823-183209-0719.log",
      "/notebooks/notebook/work_terayama/yamaguchi-hub/.log/20230828/20230828-125058-0465.log",
      "/notebooks/notebook/work_terayama/yamaguchi-hub/.log/20230904/20230904-151113-0108.log",
      "/notebooks/notebook/work_terayama/yamaguchi-hub/.log/20230904/20230904-180450-0970.log",
      "/notebooks/notebook/work_terayama/yamaguchi-hub/.log/20230904/20230904-181927-0707.log",
      "/notebooks/notebook/work_terayama/yamaguchi-hub/.log/20230905/20230905-122704-0591.log",
      "/notebooks/notebook/work_terayama/yamaguchi-hub/.log/20230905/20230905-135721-0272.log",
      "/notebooks/notebook/work_terayama/yamaguchi-hub/.log/20230906/20230906-172511-0780.log",
      "/notebooks/notebook/work_terayama/yamaguchi-hub/.log/20230914/20230914-195122-0968.log",
      "/notebooks/notebook/work_terayama/yamaguchi-hub/.log/20230914/20230914-212403-0563.log",
      "/notebooks/notebook/work_terayama/yamaguchi-hub/.log/20230914/20230914-225847-0705.log",
      "/notebooks/notebook/work_terayama/yamaguchi-hub/.log/20230914/20230914-234048-0863.log",
      "/notebooks/notebook/work_terayama/yamaguchi-hub/.log/20230921/20230921-193327-0476.log",
      "/notebooks/notebook/work_terayama/yamaguchi-hub/.log/20230922/20230922-150032-0064.log",
      "/notebooks/notebook/work_terayama/yamaguchi-hub/.log/20230922/20230922-151356-0638.log",
      "/notebooks/notebook/work_terayama/yamaguchi-hub/.log/20230922/20230922-184123-0740.log",
      "/notebooks/notebook/work_terayama/yamaguchi-hub/.log/20230924/20230924-181721-0674.log",
      "/notebooks/notebook/work_terayama/yamaguchi-hub/.log/20230925/20230925-105138-0387.log",
      "/notebooks/notebook/work_terayama/yamaguchi-hub/.log/20230926/20230926-214508-0358.log",
      "/notebooks/notebook/work_terayama/yamaguchi-hub/.log/20230926/20230926-223515-0772.log",
      "/notebooks/notebook/work_terayama/yamaguchi-hub/.log/20230927/20230927-000629-0914.log",
      "/notebooks/notebook/work_terayama/yamaguchi-hub/.log/20230927/20230927-135551-0053.log",
      "/notebooks/notebook/work_terayama/yamaguchi-hub/.log/20230927/20230927-154449-0866.log",
      "/notebooks/notebook/work_terayama/yamaguchi-hub/.log/20231002/20231002-123809-0835.log",
      "/notebooks/notebook/work_terayama/yamaguchi-hub/.log/20231002/20231002-165106-0878.log",
      "/notebooks/notebook/work_terayama/yamaguchi-hub/.log/20231002/20231002-174904-0795.log"
     ]
    },
    "scrolled": true
   },
   "outputs": [],
   "source": [
    "from IPython.core.display import HTML\n",
    "%run scripts/nb_utils.py\n",
    "setup_nb_workdir(WORK_DIR)\n",
    "HTML(generate_html_work_nbs(WORK_DIR, nb_group='group-a'))"
   ]
  },
  {
   "cell_type": "code",
   "execution_count": null,
   "metadata": {
    "lc_cell_meme": {
     "current": "8eec4be0-60f8-11ee-95c7-0242ac110002",
     "next": null,
     "previous": "4a40711a-e8b2-11ed-b994-0242ac110002-6-b4e2-894f-16e7-8934-ef84-b049"
    }
   },
   "outputs": [],
   "source": []
  }
 ],
 "metadata": {
  "kernelspec": {
   "display_name": "Python 3",
   "language": "python",
   "name": "python3"
  },
  "language_info": {
   "file_extension": ".py",
   "mimetype": "text/x-python",
   "name": "python",
   "nbconvert_exporter": "python",
   "pygments_lexer": "ipython3",
   "version": "3.10.4"
  },
  "lc_notebook_meme": {
   "current": "4a40568a-e8b2-11ed-b994-0242ac110002",
   "lc_server_signature": {
    "current": {
     "notebook_dir": "/notebooks/notebook",
     "notebook_path": "/work_terayama/yamaguchi-hub",
     "server_url": "https://vcc1045.vcp-handson.org/jupyter3/",
     "signature_id": "3c8e5600-416c-11ee-819d-0242ac110002"
    },
    "history": [
     {
      "notebook_dir": "/notebooks/notebook",
      "notebook_path": "/work_terayama/Untitled Folder/ocs-templates/CoursewareHub",
      "server_url": "http://vcc1045.vcp-handson.org/jupyter/",
      "signature_id": "d34ea786-a99f-11ec-a8e6-0242ac110002"
     },
     {
      "notebook_dir": "/notebooks/notebook",
      "notebook_path": "/work_terayama/CoursewareHub_tutorial/ocs-templates/CoursewareHub",
      "server_url": "http://vcc1045.vcp-handson.org/jupyter/",
      "signature_id": "d34ea786-a99f-11ec-a8e6-0242ac110002"
     },
     {
      "notebook_dir": "/notebooks/notebook",
      "notebook_path": "/work_terayama/CoursewareHub_tutorial/ocs-templates/CoursewareHub",
      "server_url": "https://vcc1045.vcp-handson.org/jupyter/",
      "signature_id": "d34ea786-a99f-11ec-a8e6-0242ac110002"
     },
     {
      "notebook_dir": "/notebooks/notebook",
      "notebook_path": "/work_terayama/CoursewareHub",
      "server_url": "https://vcc1045.vcp-handson.org/jupyter/",
      "signature_id": "d34ea786-a99f-11ec-a8e6-0242ac110002"
     },
     {
      "notebook_dir": "/notebooks/notebook",
      "notebook_path": "/work_terayama/yjupyterhub",
      "server_url": "https://vcc1045.vcp-handson.org/jupyter/",
      "signature_id": "d34ea786-a99f-11ec-a8e6-0242ac110002"
     },
     {
      "notebook_dir": "/notebooks/notebook",
      "notebook_path": "/work_terayama/YamaguchiHub",
      "server_url": "https://vcc1045.vcp-handson.org/jupyter/",
      "signature_id": "d34ea786-a99f-11ec-a8e6-0242ac110002"
     }
    ]
   }
  },
  "toc": {
   "base_numbering": 1,
   "nav_menu": {},
   "number_sections": true,
   "sideBar": true,
   "skip_h1_title": true,
   "title_cell": "Table of Contents",
   "title_sidebar": "Contents",
   "toc_cell": false,
   "toc_position": {
    "height": "calc(100% - 180px)",
    "left": "10px",
    "top": "150px",
    "width": "346.2px"
   },
   "toc_section_display": "block",
   "toc_window_display": true
  }
 },
 "nbformat": 4,
 "nbformat_minor": 2
}
