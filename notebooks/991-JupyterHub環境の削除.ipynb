{
  "cells": [
    {
      "cell_type": "markdown",
      "metadata": {
        "lc_cell_meme": {
          "current": "a437f54a-e8ca-11ed-b994-0242ac110002-3-5a83-3286-0c12",
          "next": "a437f61c-e8ca-11ed-b994-0242ac110002-3-5e0e-a884-1c74",
          "previous": null
        }
      },
      "source": [
        "# JupyterHub\u74b0\u5883\u306e\u524a\u9664\n",
        "\n",
        "---\n",
        "\n",
        "\u69cb\u7bc9\u3057\u305f\u74b0\u5883\u3092\u524a\u9664\u3057\u307e\u3059\u3002"
      ]
    },
    {
      "cell_type": "markdown",
      "metadata": {
        "lc_cell_meme": {
          "current": "a437f61c-e8ca-11ed-b994-0242ac110002-3-5e0e-a884-1c74",
          "next": "a437f6bc-e8ca-11ed-b994-0242ac110002-3-39bc-35f4-cba9",
          "previous": "a437f54a-e8ca-11ed-b994-0242ac110002-3-5a83-3286-0c12"
        }
      },
      "source": [
        "## \u30d1\u30e9\u30e1\u30fc\u30bf\u306e\u6307\u5b9a"
      ]
    },
    {
      "cell_type": "markdown",
      "metadata": {
        "lc_cell_meme": {
          "current": "a437f6bc-e8ca-11ed-b994-0242ac110002-3-39bc-35f4-cba9",
          "next": "a437f752-e8ca-11ed-b994-0242ac110002-3-abe3-223c-9d29",
          "previous": "a437f61c-e8ca-11ed-b994-0242ac110002-3-5e0e-a884-1c74"
        }
      },
      "source": [
        "### VCC\u30a2\u30af\u30bb\u30b9\u30c8\u30fc\u30af\u30f3\u306e\u5165\u529b"
      ]
    },
    {
      "cell_type": "markdown",
      "metadata": {
        "lc_cell_meme": {
          "current": "a437f752-e8ca-11ed-b994-0242ac110002-3-abe3-223c-9d29",
          "next": "a437f7de-e8ca-11ed-b994-0242ac110002-3-dc72-eb34-0ce0",
          "previous": "a437f6bc-e8ca-11ed-b994-0242ac110002-3-39bc-35f4-cba9"
        }
      },
      "source": [
        "VC\u30ce\u30fc\u30c9\u3092\u524a\u9664\u3059\u308b\u305f\u3081\u306bVC Controller(VCC)\u306e\u30a2\u30af\u30bb\u30b9\u30c8\u30fc\u30af\u30f3\u304c\u5fc5\u8981\u3068\u306a\u308a\u307e\u3059\u3002\n",
        "\u6b21\u306e\u30bb\u30eb\u3092\u5b9f\u884c\u3059\u308b\u3068\u8868\u793a\u3055\u308c\u308b\u5165\u529b\u67a0\u306bVCC\u306e\u30a2\u30af\u30bb\u30b9\u30c8\u30fc\u30af\u30f3\u3092\u5165\u529b\u3057\u3066\u304f\u3060\u3055\u3044\u3002\n",
        "\n",
        "> \u30a2\u30af\u30bb\u30b9\u30c8\u30fc\u30af\u30f3\u5165\u529b\u5f8c\u306b Enter \u30ad\u30fc\u3092\u62bc\u3059\u3053\u3068\u3067\u5165\u529b\u304c\u5b8c\u4e86\u3057\u307e\u3059\u3002"
      ]
    },
    {
      "cell_type": "code",
      "execution_count": null,
      "metadata": {
        "lc_cell_meme": {
          "current": "a437f7de-e8ca-11ed-b994-0242ac110002-3-dc72-eb34-0ce0",
          "next": "a437f874-e8ca-11ed-b994-0242ac110002-3-064d-f69c-12e7",
          "previous": "a437f752-e8ca-11ed-b994-0242ac110002-3-abe3-223c-9d29"
        },
        "tags": [
          "vcp:skip",
          "vcp:parameters"
        ]
      },
      "outputs": [],
      "source": [
        "from getpass import getpass\n",
        "vcc_access_token = getpass()"
      ]
    },
    {
      "cell_type": "markdown",
      "metadata": {
        "lc_cell_meme": {
          "current": "a437f874-e8ca-11ed-b994-0242ac110002-3-064d-f69c-12e7",
          "next": "a437f90a-e8ca-11ed-b994-0242ac110002-3-ca82-5d71-4c84",
          "previous": "a437f7de-e8ca-11ed-b994-0242ac110002-3-dc72-eb34-0ce0"
        }
      },
      "source": [
        "\u5165\u529b\u3055\u308c\u305f\u30a2\u30af\u30bb\u30b9\u30c8\u30fc\u30af\u30f3\u304c\u6b63\u3057\u3044\u3053\u3068\u3092\u3001\u5b9f\u969b\u306bVCC\u306b\u30a2\u30af\u30bb\u30b9\u3057\u3066\u78ba\u8a8d\u3057\u307e\u3059\u3002"
      ]
    },
    {
      "cell_type": "code",
      "execution_count": null,
      "metadata": {
        "lc_cell_meme": {
          "current": "a437f90a-e8ca-11ed-b994-0242ac110002-3-ca82-5d71-4c84",
          "next": "a437f996-e8ca-11ed-b994-0242ac110002-3-f374-4a74-ad54",
          "previous": "a437f874-e8ca-11ed-b994-0242ac110002-3-064d-f69c-12e7"
        },
        "tags": [
          "vcp:rewrite:vcpsdk"
        ]
      },
      "outputs": [],
      "source": [
        "from common import logsetting\n",
        "from vcpsdk.vcpsdk import VcpSDK\n",
        "\n",
        "vcp = VcpSDK(vcc_access_token)"
      ]
    },
    {
      "cell_type": "markdown",
      "metadata": {
        "lc_cell_meme": {
          "current": "a437f996-e8ca-11ed-b994-0242ac110002-3-f374-4a74-ad54",
          "next": "a437fa2c-e8ca-11ed-b994-0242ac110002-3-4e33-ea6a-fb6c",
          "previous": "a437f90a-e8ca-11ed-b994-0242ac110002-3-ca82-5d71-4c84"
        }
      },
      "source": [
        "\u4e0a\u306e\u30bb\u30eb\u306e\u5b9f\u884c\u7d50\u679c\u304c\u30a8\u30e9\u30fc\u3068\u306a\u308a\u4ee5\u4e0b\u306e\u3088\u3046\u306a\u30e1\u30c3\u30bb\u30fc\u30b8\u304c\u8868\u793a\u3055\u308c\u3066\u3044\u308b\u5834\u5408\u306f\u3001\u5165\u529b\u3055\u308c\u305f\u30a2\u30af\u30bb\u30b9\u30c8\u30fc\u30af\u30f3\u306b\u8aa4\u308a\u304c\u3042\u308a\u307e\u3059\u3002\n",
        "\n",
        "```\n",
        "ERROR - config vc failed: http_status(403)\n",
        "ERROR - 2021/XX/XX XX:XX:XX UTC: VCPAuthException: xxxxxxx:token lookup is failed: permission denied\n",
        "```\n",
        "\n",
        "\u30a8\u30e9\u30fc\u306b\u306a\u3063\u305f\u5834\u5408\u306f\u3053\u306e\u7bc0\u306e\u30bb\u30eb\u3092\u5168\u3066 `unfreeze` \u3057\u3066\u304b\u3089\u3001\u3082\u3046\u4e00\u5ea6\u30a2\u30af\u30bb\u30b9\u30c8\u30fc\u30af\u30f3\u306e\u5165\u529b\u3092\u884c\u3063\u3066\u304f\u3060\u3055\u3044\u3002"
      ]
    },
    {
      "cell_type": "markdown",
      "metadata": {
        "lc_cell_meme": {
          "current": "a437fa2c-e8ca-11ed-b994-0242ac110002-3-4e33-ea6a-fb6c",
          "next": "a437fab8-e8ca-11ed-b994-0242ac110002-3-47ef-82cc-162c",
          "previous": "a437f996-e8ca-11ed-b994-0242ac110002-3-f374-4a74-ad54"
        }
      },
      "source": [
        "### \u30b0\u30eb\u30fc\u30d7\u540d\n",
        "\n",
        "\u524a\u9664\u5bfe\u8c61\u3068\u306a\u308bVCP\u306eUnitGroup\u540d\u3092\u6307\u5b9a\u3057\u307e\u3059\u3002"
      ]
    },
    {
      "cell_type": "markdown",
      "metadata": {
        "lc_cell_meme": {
          "current": "a437fab8-e8ca-11ed-b994-0242ac110002-3-47ef-82cc-162c",
          "next": "a437fb44-e8ca-11ed-b994-0242ac110002-3-9543-31a6-f8bc",
          "previous": "a437fa2c-e8ca-11ed-b994-0242ac110002-3-4e33-ea6a-fb6c"
        }
      },
      "source": [
        "\u5bfe\u8c61\u3068\u306a\u308a\u5f97\u308bUnitGroup\u3092\u78ba\u8a8d\u3059\u308b\u305f\u3081\u306b group_vars\u30d5\u30a1\u30a4\u30eb\u540d\u306e\u4e00\u89a7\u3092\u8868\u793a\u3057\u307e\u3059\u3002"
      ]
    },
    {
      "cell_type": "code",
      "execution_count": null,
      "metadata": {
        "lc_cell_meme": {
          "current": "a437fb44-e8ca-11ed-b994-0242ac110002-3-9543-31a6-f8bc",
          "next": "a437fbda-e8ca-11ed-b994-0242ac110002-3-b00d-f1d8-bfed",
          "previous": "a437fab8-e8ca-11ed-b994-0242ac110002-3-47ef-82cc-162c"
        }
      },
      "outputs": [],
      "source": [
        "!ls -1 group_vars/"
      ]
    },
    {
      "cell_type": "markdown",
      "metadata": {
        "lc_cell_meme": {
          "current": "a437fbda-e8ca-11ed-b994-0242ac110002-3-b00d-f1d8-bfed",
          "next": "a437fc66-e8ca-11ed-b994-0242ac110002-3-5c61-a66c-cc95",
          "previous": "a437fb44-e8ca-11ed-b994-0242ac110002-3-9543-31a6-f8bc"
        }
      },
      "source": [
        " UnitGroup\u540d\u3092\u6b21\u306e\u30bb\u30eb\u306b\u6307\u5b9a\u3057\u3066\u304f\u3060\u3055\u3044\u3002"
      ]
    },
    {
      "cell_type": "code",
      "execution_count": null,
      "metadata": {
        "lc_cell_meme": {
          "current": "a437fc66-e8ca-11ed-b994-0242ac110002-3-5c61-a66c-cc95",
          "next": "a437fcf2-e8ca-11ed-b994-0242ac110002-3-93bd-9ddd-b82a",
          "previous": "a437fbda-e8ca-11ed-b994-0242ac110002-3-b00d-f1d8-bfed"
        },
        "tags": [
          "vcp:parameters"
        ]
      },
      "outputs": [],
      "source": [
        "# (\u4f8b)\n",
        "# ugroup_name = 'JupyterHub'\n",
        "\n",
        "ugroup_name = "
      ]
    },
    {
      "cell_type": "markdown",
      "metadata": {
        "heading_collapsed": true,
        "lc_cell_meme": {
          "current": "a437fcf2-e8ca-11ed-b994-0242ac110002-3-93bd-9ddd-b82a",
          "next": "a437fd7e-e8ca-11ed-b994-0242ac110002-3-dcd1-fce8-48aa",
          "previous": "a437fc66-e8ca-11ed-b994-0242ac110002-3-5c61-a66c-cc95"
        }
      },
      "source": [
        "## \u69cb\u7bc9\u74b0\u5883\u306e\u524a\u9664"
      ]
    },
    {
      "cell_type": "markdown",
      "metadata": {
        "heading_collapsed": true,
        "hidden": true,
        "lc_cell_meme": {
          "current": "a437fd7e-e8ca-11ed-b994-0242ac110002-3-dcd1-fce8-48aa",
          "next": "a437fe0a-e8ca-11ed-b994-0242ac110002-3-14db-dd75-b86a",
          "previous": "a437fcf2-e8ca-11ed-b994-0242ac110002-3-93bd-9ddd-b82a"
        }
      },
      "source": [
        "### VC\u30ce\u30fc\u30c9\u306e\u524a\u9664\n",
        "\n",
        "\u8d77\u52d5\u3057\u305fVC\u30ce\u30fc\u30c9\u3092\u524a\u9664\u3057\u307e\u3059\u3002"
      ]
    },
    {
      "cell_type": "markdown",
      "metadata": {
        "hidden": true,
        "lc_cell_meme": {
          "current": "a437fe0a-e8ca-11ed-b994-0242ac110002-3-14db-dd75-b86a",
          "next": "a437fe96-e8ca-11ed-b994-0242ac110002-3-6cf2-7055-dfaf",
          "previous": "a437fd7e-e8ca-11ed-b994-0242ac110002-3-dcd1-fce8-48aa"
        }
      },
      "source": [
        "\u73fe\u5728\u306eUnitGroup\u306e\u4e00\u89a7\u3092\u78ba\u8a8d\u3057\u307e\u3059\u3002"
      ]
    },
    {
      "cell_type": "code",
      "execution_count": null,
      "metadata": {
        "hidden": true,
        "lc_cell_meme": {
          "current": "a437fe96-e8ca-11ed-b994-0242ac110002-3-6cf2-7055-dfaf",
          "next": "a437ff22-e8ca-11ed-b994-0242ac110002-3-545b-c608-a307",
          "previous": "a437fe0a-e8ca-11ed-b994-0242ac110002-3-14db-dd75-b86a"
        }
      },
      "outputs": [],
      "source": [
        "vcp.df_ugroups()"
      ]
    },
    {
      "cell_type": "markdown",
      "metadata": {
        "hidden": true,
        "lc_cell_meme": {
          "current": "a437ff22-e8ca-11ed-b994-0242ac110002-3-545b-c608-a307",
          "next": "a437ffae-e8ca-11ed-b994-0242ac110002-3-6857-44f7-99d5",
          "previous": "a437fe96-e8ca-11ed-b994-0242ac110002-3-6cf2-7055-dfaf"
        }
      },
      "source": [
        "\u73fe\u5728\u306eVC\u30ce\u30fc\u30c9\u306e\u72b6\u614b\u3092\u78ba\u8a8d\u3057\u307e\u3059\u3002"
      ]
    },
    {
      "cell_type": "code",
      "execution_count": null,
      "metadata": {
        "hidden": true,
        "lc_cell_meme": {
          "current": "a437ffae-e8ca-11ed-b994-0242ac110002-3-6857-44f7-99d5",
          "next": "a438003a-e8ca-11ed-b994-0242ac110002-3-f27a-19a7-ab11",
          "previous": "a437ff22-e8ca-11ed-b994-0242ac110002-3-545b-c608-a307"
        }
      },
      "outputs": [],
      "source": [
        "ugroup = vcp.get_ugroup(ugroup_name)\n",
        "ugroup.df_nodes()"
      ]
    },
    {
      "cell_type": "markdown",
      "metadata": {
        "hidden": true,
        "lc_cell_meme": {
          "current": "a438003a-e8ca-11ed-b994-0242ac110002-3-f27a-19a7-ab11",
          "next": "a43800c6-e8ca-11ed-b994-0242ac110002-3-a157-4859-7556",
          "previous": "a437ffae-e8ca-11ed-b994-0242ac110002-3-6857-44f7-99d5"
        }
      },
      "source": [
        "\u307e\u305a worker \u306e VC\u30ce\u30fc\u30c9\u3092\u524a\u9664\u3057\u307e\u3059\u3002\n",
        "\n",
        "> worker\u306eVC\u30ce\u30fc\u30c9\u304c\u306a\u3044\u5834\u5408\u306f\u4f55\u3082\u3057\u307e\u305b\u3093\u3002"
      ]
    },
    {
      "cell_type": "code",
      "execution_count": null,
      "metadata": {
        "hidden": true,
        "lc_cell_meme": {
          "current": "a43800c6-e8ca-11ed-b994-0242ac110002-3-a157-4859-7556",
          "next": "a4380152-e8ca-11ed-b994-0242ac110002-3-f42f-b857-0483",
          "previous": "a438003a-e8ca-11ed-b994-0242ac110002-3-f27a-19a7-ab11"
        }
      },
      "outputs": [],
      "source": [
        "worker_unit = ugroup.get_unit('worker')\n",
        "if worker_unit:\n",
        "    worker_unit.delete_nodes(num_delete_nodes=len(worker_unit.find_nodes()))"
      ]
    },
    {
      "cell_type": "markdown",
      "metadata": {
        "hidden": true,
        "lc_cell_meme": {
          "current": "a4380152-e8ca-11ed-b994-0242ac110002-3-f42f-b857-0483",
          "next": "a43801de-e8ca-11ed-b994-0242ac110002-3-b01f-be76-4210",
          "previous": "a43800c6-e8ca-11ed-b994-0242ac110002-3-a157-4859-7556"
        }
      },
      "source": [
        "\u30de\u30b9\u30bf\u30fc\u306eVC\u30ce\u30fc\u30c9\u3092\u524a\u9664\u3057\u307e\u3059\u3002"
      ]
    },
    {
      "cell_type": "code",
      "execution_count": null,
      "metadata": {
        "hidden": true,
        "lc_cell_meme": {
          "current": "a43801de-e8ca-11ed-b994-0242ac110002-3-b01f-be76-4210",
          "next": "a4380274-e8ca-11ed-b994-0242ac110002-3-2970-9bbc-8308",
          "previous": "a4380152-e8ca-11ed-b994-0242ac110002-3-f42f-b857-0483"
        }
      },
      "outputs": [],
      "source": [
        "manager_unit = ugroup.get_unit('manager')\n",
        "if manager_unit:\n",
        "    manager_unit.delete_nodes()"
      ]
    },
    {
      "cell_type": "markdown",
      "metadata": {
        "hidden": true,
        "lc_cell_meme": {
          "current": "a4380274-e8ca-11ed-b994-0242ac110002-3-2970-9bbc-8308",
          "next": "a4380332-e8ca-11ed-b994-0242ac110002-3-08ee-a1c4-8148",
          "previous": "a43801de-e8ca-11ed-b994-0242ac110002-3-b01f-be76-4210"
        }
      },
      "source": [
        "UnitGroup\u306b\u5c5e\u3059\u308b\u5168\u3066\u306eVC\u30ce\u30fc\u30c9\u3068UnitGroup\u306e\u524a\u9664\u3092\u884c\u3044\u307e\u3059\u3002"
      ]
    },
    {
      "cell_type": "code",
      "execution_count": null,
      "metadata": {
        "hidden": true,
        "lc_cell_meme": {
          "current": "a4380332-e8ca-11ed-b994-0242ac110002-3-08ee-a1c4-8148",
          "next": "a43803dc-e8ca-11ed-b994-0242ac110002-3-3c47-8b7a-b68d",
          "previous": "a4380274-e8ca-11ed-b994-0242ac110002-3-2970-9bbc-8308"
        }
      },
      "outputs": [],
      "source": [
        "ugroup.cleanup()"
      ]
    },
    {
      "cell_type": "markdown",
      "metadata": {
        "hidden": true,
        "lc_cell_meme": {
          "current": "a43803dc-e8ca-11ed-b994-0242ac110002-3-3c47-8b7a-b68d",
          "next": "a4380468-e8ca-11ed-b994-0242ac110002-3-c7e6-f37b-076a",
          "previous": "a4380332-e8ca-11ed-b994-0242ac110002-3-08ee-a1c4-8148"
        }
      },
      "source": [
        "\u524a\u9664\u5f8c\u306e UnitGroup\u306e\u4e00\u89a7\u3092\u78ba\u8a8d\u3057\u307e\u3059\u3002"
      ]
    },
    {
      "cell_type": "code",
      "execution_count": null,
      "metadata": {
        "hidden": true,
        "lc_cell_meme": {
          "current": "a4380468-e8ca-11ed-b994-0242ac110002-3-c7e6-f37b-076a",
          "next": "a43804f4-e8ca-11ed-b994-0242ac110002-3-2016-1fe2-3ead",
          "previous": "a43803dc-e8ca-11ed-b994-0242ac110002-3-3c47-8b7a-b68d"
        }
      },
      "outputs": [],
      "source": [
        "vcp.df_ugroups()"
      ]
    },
    {
      "cell_type": "markdown",
      "metadata": {
        "heading_collapsed": true,
        "hidden": true,
        "lc_cell_meme": {
          "current": "a43804f4-e8ca-11ed-b994-0242ac110002-3-2016-1fe2-3ead",
          "next": "a438058a-e8ca-11ed-b994-0242ac110002-3-ffef-469d-3084",
          "previous": "a4380468-e8ca-11ed-b994-0242ac110002-3-c7e6-f37b-076a"
        }
      },
      "source": [
        "### VC\u30c7\u30a3\u30b9\u30af\u306e\u524a\u9664"
      ]
    },
    {
      "cell_type": "markdown",
      "metadata": {
        "hidden": true,
        "lc_cell_meme": {
          "current": "a438058a-e8ca-11ed-b994-0242ac110002-3-ffef-469d-3084",
          "next": "a4380616-e8ca-11ed-b994-0242ac110002-3-afa2-b1b4-594f",
          "previous": "a43804f4-e8ca-11ed-b994-0242ac110002-3-2016-1fe2-3ead"
        }
      },
      "source": [
        "NFS\u7528\u306eVC\u30c7\u30a3\u30b9\u30af\u3092\u524a\u9664\u3057\u307e\u3059\u3002\n",
        "\n",
        "> VC\u30c7\u30a3\u30b9\u30af\u3092\u4f5c\u6210\u3057\u3066\u3044\u306a\u3044\u5834\u5408\u306f\u3001\u4f55\u3082\u3057\u307e\u305b\u3093\u3002"
      ]
    },
    {
      "cell_type": "markdown",
      "metadata": {
        "hidden": true,
        "lc_cell_meme": {
          "current": "a4380616-e8ca-11ed-b994-0242ac110002-3-afa2-b1b4-594f",
          "next": "a43806ac-e8ca-11ed-b994-0242ac110002-3-e06c-1539-7e71",
          "previous": "a438058a-e8ca-11ed-b994-0242ac110002-3-ffef-469d-3084"
        }
      },
      "source": [
        "\u73fe\u5728\u306e\u72b6\u614b\u3092\u78ba\u8a8d\u3057\u307e\u3059\u3002"
      ]
    },
    {
      "cell_type": "code",
      "execution_count": null,
      "metadata": {
        "hidden": true,
        "lc_cell_meme": {
          "current": "a43806ac-e8ca-11ed-b994-0242ac110002-3-e06c-1539-7e71",
          "next": "a4380738-e8ca-11ed-b994-0242ac110002-3-d593-ea62-e1f2",
          "previous": "a4380616-e8ca-11ed-b994-0242ac110002-3-afa2-b1b4-594f"
        }
      },
      "outputs": [],
      "source": [
        "from IPython.display import display\n",
        "ug_disk = vcp.get_ugroup(ugroup_name + '_disk')\n",
        "if ug_disk:\n",
        "    display(ug_disk.df_nodes())"
      ]
    },
    {
      "cell_type": "markdown",
      "metadata": {
        "hidden": true,
        "lc_cell_meme": {
          "current": "a4380738-e8ca-11ed-b994-0242ac110002-3-d593-ea62-e1f2",
          "next": "a43807c4-e8ca-11ed-b994-0242ac110002-3-364b-bbfa-40e3",
          "previous": "a43806ac-e8ca-11ed-b994-0242ac110002-3-e06c-1539-7e71"
        }
      },
      "source": [
        "VC\u30c7\u30a3\u30b9\u30af\u3092\u524a\u9664\u3057\u307e\u3059\u3002"
      ]
    },
    {
      "cell_type": "code",
      "execution_count": null,
      "metadata": {
        "hidden": true,
        "lc_cell_meme": {
          "current": "a43807c4-e8ca-11ed-b994-0242ac110002-3-364b-bbfa-40e3",
          "next": "a4380850-e8ca-11ed-b994-0242ac110002-3-5cae-f7c9-4595",
          "previous": "a4380738-e8ca-11ed-b994-0242ac110002-3-d593-ea62-e1f2"
        }
      },
      "outputs": [],
      "source": [
        "if ug_disk:\n",
        "    ug_disk.cleanup()"
      ]
    },
    {
      "cell_type": "markdown",
      "metadata": {
        "hidden": true,
        "lc_cell_meme": {
          "current": "a4380850-e8ca-11ed-b994-0242ac110002-3-5cae-f7c9-4595",
          "next": "a43808e6-e8ca-11ed-b994-0242ac110002-3-d8d1-3cee-cc4d",
          "previous": "a43807c4-e8ca-11ed-b994-0242ac110002-3-364b-bbfa-40e3"
        }
      },
      "source": [
        "\u524a\u9664\u5f8c\u306eUnitGroup\u306e\u4e00\u89a7\u3092\u78ba\u8a8d\u3057\u307e\u3059\u3002"
      ]
    },
    {
      "cell_type": "code",
      "execution_count": null,
      "metadata": {
        "hidden": true,
        "lc_cell_meme": {
          "current": "a43808e6-e8ca-11ed-b994-0242ac110002-3-d8d1-3cee-cc4d",
          "next": "a4380bac-e8ca-11ed-b994-0242ac110002-3-01fa-2e2f-202a",
          "previous": "a4380850-e8ca-11ed-b994-0242ac110002-3-5cae-f7c9-4595"
        }
      },
      "outputs": [],
      "source": [
        "vcp.df_ugroups()"
      ]
    },
    {
      "cell_type": "markdown",
      "metadata": {
        "heading_collapsed": true,
        "lc_cell_meme": {
          "current": "a4380bac-e8ca-11ed-b994-0242ac110002-3-01fa-2e2f-202a",
          "next": "a4380c2e-e8ca-11ed-b994-0242ac110002-3-f9ef-9fe7-6b56",
          "previous": "a43808e6-e8ca-11ed-b994-0242ac110002-3-d8d1-3cee-cc4d"
        }
      },
      "source": [
        "## Ansible\u8a2d\u5b9a\u306e\u30af\u30ea\u30a2\n",
        "\n",
        "\u524a\u9664\u3057\u305f\u74b0\u5883\u306b\u5bfe\u5fdc\u3059\u308bAnsible\u306e\u8a2d\u5b9a\u3092\u30af\u30ea\u30a2\u3057\u307e\u3059\u3002"
      ]
    },
    {
      "cell_type": "markdown",
      "metadata": {
        "hidden": true,
        "lc_cell_meme": {
          "current": "a4380c2e-e8ca-11ed-b994-0242ac110002-3-f9ef-9fe7-6b56",
          "next": "a4380cba-e8ca-11ed-b994-0242ac110002-3-e631-deb4-426f",
          "previous": "a4380bac-e8ca-11ed-b994-0242ac110002-3-01fa-2e2f-202a"
        }
      },
      "source": [
        "### group_vars\u30d5\u30a1\u30a4\u30eb\n",
        "\n",
        "group_vars\u30d5\u30a1\u30a4\u30eb\u3092\u30ea\u30cd\u30fc\u30e0\u3057\u307e\u3059\u3002"
      ]
    },
    {
      "cell_type": "code",
      "execution_count": null,
      "metadata": {
        "hidden": true,
        "lc_cell_meme": {
          "current": "a4380cba-e8ca-11ed-b994-0242ac110002-3-e631-deb4-426f",
          "next": "a4380d50-e8ca-11ed-b994-0242ac110002-3-e19b-362f-6177",
          "previous": "a4380c2e-e8ca-11ed-b994-0242ac110002-3-f9ef-9fe7-6b56"
        }
      },
      "outputs": [],
      "source": [
        "!mv group_vars/{ugroup_name} group_vars/.{ugroup_name}.bak"
      ]
    },
    {
      "cell_type": "markdown",
      "metadata": {
        "hidden": true,
        "lc_cell_meme": {
          "current": "a4380d50-e8ca-11ed-b994-0242ac110002-3-e19b-362f-6177",
          "next": "a4380ddc-e8ca-11ed-b994-0242ac110002-3-50cb-3d60-3dd4",
          "previous": "a4380cba-e8ca-11ed-b994-0242ac110002-3-e631-deb4-426f"
        }
      },
      "source": [
        "### \u30a4\u30f3\u30d9\u30f3\u30c8\u30ea"
      ]
    },
    {
      "cell_type": "markdown",
      "metadata": {
        "hidden": true,
        "lc_cell_meme": {
          "current": "a4380ddc-e8ca-11ed-b994-0242ac110002-3-50cb-3d60-3dd4",
          "next": "a4380e68-e8ca-11ed-b994-0242ac110002-3-f82e-2eee-408a",
          "previous": "a4380d50-e8ca-11ed-b994-0242ac110002-3-e19b-362f-6177"
        }
      },
      "source": [
        "\u30a4\u30f3\u30d9\u30f3\u30c8\u30ea\u304b\u3089\u524a\u9664\u5bfe\u8c61\u306e\u30b0\u30eb\u30fc\u30d7\u3092\u9664\u53bb\u3057\u307e\u3059\u3002"
      ]
    },
    {
      "cell_type": "code",
      "execution_count": null,
      "metadata": {
        "hidden": true,
        "lc_cell_meme": {
          "current": "a4380e68-e8ca-11ed-b994-0242ac110002-3-f82e-2eee-408a",
          "next": null,
          "previous": "a4380ddc-e8ca-11ed-b994-0242ac110002-3-50cb-3d60-3dd4"
        }
      },
      "outputs": [],
      "source": [
        "%run scripts/group.py\n",
        "remove_group_from_inventory_yml(ugroup_name)\n",
        "\n",
        "# \u524a\u9664\u524d\u3068\u306e\u5dee\u5206\u3092\u8868\u793a\u3057\u307e\u3059\u3002\n",
        "! ! diff -u inventory.yml.bak inventory.yml"
      ]
    }
  ],
  "metadata": {
    "kernelspec": {
      "display_name": "Python 3",
      "language": "python",
      "name": "python3"
    },
    "language_info": {
      "file_extension": ".py",
      "mimetype": "text/x-python",
      "name": "python",
      "nbconvert_exporter": "python",
      "pygments_lexer": "ipython3",
      "version": "3.10.4"
    },
    "lc_notebook_meme": {
      "current": "a437f360-e8ca-11ed-b994-0242ac110002",
      "lc_server_signature": {
        "current": {
          "notebook_dir": "/notebooks/notebook",
          "notebook_path": "/work_terayama/yamaguchi-hub/notebooks",
          "server_url": "https://vcc1045.vcp-handson.org/jupyter3/",
          "signature_id": "3c8e5600-416c-11ee-819d-0242ac110002"
        }
      }
    },
    "toc": {
      "base_numbering": 1,
      "nav_menu": {},
      "number_sections": true,
      "sideBar": true,
      "skip_h1_title": true,
      "title_cell": "Table of Contents",
      "title_sidebar": "Contents",
      "toc_cell": false,
      "toc_position": {
        "height": "calc(100% - 180px)",
        "left": "10px",
        "top": "150px",
        "width": "333.2px"
      },
      "toc_section_display": true,
      "toc_window_display": true
    }
  },
  "nbformat": 4,
  "nbformat_minor": 2
}