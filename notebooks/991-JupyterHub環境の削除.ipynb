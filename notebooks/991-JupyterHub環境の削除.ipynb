{
 "cells": [
  {
   "cell_type": "markdown",
   "metadata": {
    "lc_cell_meme": {
     "current": "a437f54a-e8ca-11ed-b994-0242ac110002-3-5a83-3286-0c12",
     "history": [
      {
       "current": "a437f54a-e8ca-11ed-b994-0242ac110002-1-5a83",
       "next": "a437f61c-e8ca-11ed-b994-0242ac110002",
       "previous": null
      },
      {
       "current": "a437f54a-e8ca-11ed-b994-0242ac110002-2-5a83-3286",
       "next": "a437f61c-e8ca-11ed-b994-0242ac110002-1-5e0e",
       "previous": null
      },
      {
       "current": "a437f54a-e8ca-11ed-b994-0242ac110002-3-5a83-3286-0c12",
       "next": "a437f61c-e8ca-11ed-b994-0242ac110002-2-5e0e-a884",
       "previous": null
      }
     ],
     "next": "a437f61c-e8ca-11ed-b994-0242ac110002-3-5e0e-a884-1c74",
     "previous": null
    }
   },
   "source": [
    "# JupyterHub環境の削除\n",
    "\n",
    "---\n",
    "\n",
    "構築した環境を削除します。"
   ]
  },
  {
   "cell_type": "markdown",
   "metadata": {
    "lc_cell_meme": {
     "current": "a437f61c-e8ca-11ed-b994-0242ac110002-3-5e0e-a884-1c74",
     "history": [
      {
       "current": "a437f61c-e8ca-11ed-b994-0242ac110002-1-5e0e",
       "next": "a437f6bc-e8ca-11ed-b994-0242ac110002",
       "previous": "a437f54a-e8ca-11ed-b994-0242ac110002"
      },
      {
       "current": "a437f61c-e8ca-11ed-b994-0242ac110002-2-5e0e-a884",
       "next": "a437f6bc-e8ca-11ed-b994-0242ac110002-1-39bc",
       "previous": "a437f54a-e8ca-11ed-b994-0242ac110002-1-5a83"
      },
      {
       "current": "a437f61c-e8ca-11ed-b994-0242ac110002-3-5e0e-a884-1c74",
       "next": "a437f6bc-e8ca-11ed-b994-0242ac110002-2-39bc-35f4",
       "previous": "a437f54a-e8ca-11ed-b994-0242ac110002-2-5a83-3286"
      }
     ],
     "next": "a437f6bc-e8ca-11ed-b994-0242ac110002-3-39bc-35f4-cba9",
     "previous": "a437f54a-e8ca-11ed-b994-0242ac110002-3-5a83-3286-0c12"
    }
   },
   "source": [
    "## パラメータの指定"
   ]
  },
  {
   "cell_type": "markdown",
   "metadata": {
    "lc_cell_meme": {
     "current": "a437f6bc-e8ca-11ed-b994-0242ac110002-3-39bc-35f4-cba9",
     "history": [
      {
       "current": "a437f6bc-e8ca-11ed-b994-0242ac110002-1-39bc",
       "next": "a437f752-e8ca-11ed-b994-0242ac110002",
       "previous": "a437f61c-e8ca-11ed-b994-0242ac110002"
      },
      {
       "current": "a437f6bc-e8ca-11ed-b994-0242ac110002-2-39bc-35f4",
       "next": "a437f752-e8ca-11ed-b994-0242ac110002-1-abe3",
       "previous": "a437f61c-e8ca-11ed-b994-0242ac110002-1-5e0e"
      },
      {
       "current": "a437f6bc-e8ca-11ed-b994-0242ac110002-3-39bc-35f4-cba9",
       "next": "a437f752-e8ca-11ed-b994-0242ac110002-2-abe3-223c",
       "previous": "a437f61c-e8ca-11ed-b994-0242ac110002-2-5e0e-a884"
      }
     ],
     "next": "a437f752-e8ca-11ed-b994-0242ac110002-3-abe3-223c-9d29",
     "previous": "a437f61c-e8ca-11ed-b994-0242ac110002-3-5e0e-a884-1c74"
    }
   },
   "source": [
    "### VCCアクセストークンの入力"
   ]
  },
  {
   "cell_type": "markdown",
   "metadata": {
    "lc_cell_meme": {
     "current": "a437f752-e8ca-11ed-b994-0242ac110002-3-abe3-223c-9d29",
     "history": [
      {
       "current": "a437f752-e8ca-11ed-b994-0242ac110002-1-abe3",
       "next": "a437f7de-e8ca-11ed-b994-0242ac110002",
       "previous": "a437f6bc-e8ca-11ed-b994-0242ac110002"
      },
      {
       "current": "a437f752-e8ca-11ed-b994-0242ac110002-2-abe3-223c",
       "next": "a437f7de-e8ca-11ed-b994-0242ac110002-1-dc72",
       "previous": "a437f6bc-e8ca-11ed-b994-0242ac110002-1-39bc"
      },
      {
       "current": "a437f752-e8ca-11ed-b994-0242ac110002-3-abe3-223c-9d29",
       "next": "a437f7de-e8ca-11ed-b994-0242ac110002-2-dc72-eb34",
       "previous": "a437f6bc-e8ca-11ed-b994-0242ac110002-2-39bc-35f4"
      }
     ],
     "next": "a437f7de-e8ca-11ed-b994-0242ac110002-3-dc72-eb34-0ce0",
     "previous": "a437f6bc-e8ca-11ed-b994-0242ac110002-3-39bc-35f4-cba9"
    }
   },
   "source": [
    "VCノードを削除するためにVC Controller(VCC)のアクセストークンが必要となります。\n",
    "次のセルを実行すると表示される入力枠にVCCのアクセストークンを入力してください。\n",
    "\n",
    "> アクセストークン入力後に Enter キーを押すことで入力が完了します。"
   ]
  },
  {
   "cell_type": "code",
   "execution_count": null,
   "metadata": {
    "lc_cell_meme": {
     "current": "a437f7de-e8ca-11ed-b994-0242ac110002-3-dc72-eb34-0ce0",
     "history": [
      {
       "current": "a437f7de-e8ca-11ed-b994-0242ac110002-1-dc72",
       "next": "a437f874-e8ca-11ed-b994-0242ac110002",
       "previous": "a437f752-e8ca-11ed-b994-0242ac110002"
      },
      {
       "current": "a437f7de-e8ca-11ed-b994-0242ac110002-2-dc72-eb34",
       "next": "a437f874-e8ca-11ed-b994-0242ac110002-1-064d",
       "previous": "a437f752-e8ca-11ed-b994-0242ac110002-1-abe3"
      },
      {
       "current": "a437f7de-e8ca-11ed-b994-0242ac110002-3-dc72-eb34-0ce0",
       "next": "a437f874-e8ca-11ed-b994-0242ac110002-2-064d-f69c",
       "previous": "a437f752-e8ca-11ed-b994-0242ac110002-2-abe3-223c"
      }
     ],
     "next": "a437f874-e8ca-11ed-b994-0242ac110002-3-064d-f69c-12e7",
     "previous": "a437f752-e8ca-11ed-b994-0242ac110002-3-abe3-223c-9d29"
    },
    "lc_wrapper": {
     "log_history": [
      "/notebooks/notebook/work_terayama/Untitled Folder/ocs-templates/CoursewareHub/notebooks/.log/20230502/20230502-181911-0200.log",
      "/notebooks/notebook/work_terayama/yjupyterhub/work/.log/20230623/20230623-153100-0828.log",
      "/notebooks/notebook/work_terayama/yjupyterhub/work/.log/20230629/20230629-113318-0056.log",
      "/notebooks/notebook/work_terayama/yjupyterhub/work/.log/20230630/20230630-183046-0272.log",
      "/notebooks/notebook/work_terayama/yjupyterhub/work/.log/20230630/20230630-203953-0483.log",
      "/notebooks/notebook/work_terayama/yjupyterhub/work/.log/20230707/20230707-144943-0307.log",
      "/notebooks/notebook/work_terayama/yjupyterhub/work/.log/20230710/20230710-134139-0775.log",
      "/notebooks/notebook/work_terayama/yjupyterhub/work/.log/20230712/20230712-113906-0533.log",
      "/notebooks/notebook/work_terayama/yjupyterhub/work/.log/20230719/20230719-124314-0376.log",
      "/notebooks/notebook/work_terayama/yjupyterhub/work/.log/20230720/20230720-111356-0973.log",
      "/notebooks/notebook/work_terayama/yjupyterhub/work/.log/20230726/20230726-125531-0846.log",
      "/notebooks/notebook/work_terayama/yjupyterhub/work/.log/20230801/20230801-145228-0835.log"
     ]
    },
    "tags": [
     "vcp:skip",
     "vcp:parameters"
    ]
   },
   "outputs": [],
   "source": [
    "from getpass import getpass\n",
    "vcc_access_token = getpass()"
   ]
  },
  {
   "cell_type": "markdown",
   "metadata": {
    "lc_cell_meme": {
     "current": "a437f874-e8ca-11ed-b994-0242ac110002-3-064d-f69c-12e7",
     "history": [
      {
       "current": "a437f874-e8ca-11ed-b994-0242ac110002-1-064d",
       "next": "a437f90a-e8ca-11ed-b994-0242ac110002",
       "previous": "a437f7de-e8ca-11ed-b994-0242ac110002"
      },
      {
       "current": "a437f874-e8ca-11ed-b994-0242ac110002-2-064d-f69c",
       "next": "a437f90a-e8ca-11ed-b994-0242ac110002-1-ca82",
       "previous": "a437f7de-e8ca-11ed-b994-0242ac110002-1-dc72"
      },
      {
       "current": "a437f874-e8ca-11ed-b994-0242ac110002-3-064d-f69c-12e7",
       "next": "a437f90a-e8ca-11ed-b994-0242ac110002-2-ca82-5d71",
       "previous": "a437f7de-e8ca-11ed-b994-0242ac110002-2-dc72-eb34"
      }
     ],
     "next": "a437f90a-e8ca-11ed-b994-0242ac110002-3-ca82-5d71-4c84",
     "previous": "a437f7de-e8ca-11ed-b994-0242ac110002-3-dc72-eb34-0ce0"
    }
   },
   "source": [
    "入力されたアクセストークンが正しいことを、実際にVCCにアクセスして確認します。"
   ]
  },
  {
   "cell_type": "code",
   "execution_count": null,
   "metadata": {
    "lc_cell_meme": {
     "current": "a437f90a-e8ca-11ed-b994-0242ac110002-3-ca82-5d71-4c84",
     "history": [
      {
       "current": "a437f90a-e8ca-11ed-b994-0242ac110002-1-ca82",
       "next": "a437f996-e8ca-11ed-b994-0242ac110002",
       "previous": "a437f874-e8ca-11ed-b994-0242ac110002"
      },
      {
       "current": "a437f90a-e8ca-11ed-b994-0242ac110002-2-ca82-5d71",
       "next": "a437f996-e8ca-11ed-b994-0242ac110002-1-f374",
       "previous": "a437f874-e8ca-11ed-b994-0242ac110002-1-064d"
      },
      {
       "current": "a437f90a-e8ca-11ed-b994-0242ac110002-3-ca82-5d71-4c84",
       "next": "a437f996-e8ca-11ed-b994-0242ac110002-2-f374-4a74",
       "previous": "a437f874-e8ca-11ed-b994-0242ac110002-2-064d-f69c"
      }
     ],
     "next": "a437f996-e8ca-11ed-b994-0242ac110002-3-f374-4a74-ad54",
     "previous": "a437f874-e8ca-11ed-b994-0242ac110002-3-064d-f69c-12e7"
    },
    "lc_wrapper": {
     "log_history": [
      "/notebooks/notebook/work_terayama/Untitled Folder/ocs-templates/CoursewareHub/notebooks/.log/20230502/20230502-181917-0587.log",
      "/notebooks/notebook/work_terayama/yjupyterhub/work/.log/20230623/20230623-153117-0705.log",
      "/notebooks/notebook/work_terayama/yjupyterhub/work/.log/20230629/20230629-113332-0043.log",
      "/notebooks/notebook/work_terayama/yjupyterhub/work/.log/20230630/20230630-183101-0130.log",
      "/notebooks/notebook/work_terayama/yjupyterhub/work/.log/20230630/20230630-204008-0651.log",
      "/notebooks/notebook/work_terayama/yjupyterhub/work/.log/20230707/20230707-144956-0007.log",
      "/notebooks/notebook/work_terayama/yjupyterhub/work/.log/20230710/20230710-134143-0213.log",
      "/notebooks/notebook/work_terayama/yjupyterhub/work/.log/20230712/20230712-113911-0121.log",
      "/notebooks/notebook/work_terayama/yjupyterhub/work/.log/20230719/20230719-124318-0073.log",
      "/notebooks/notebook/work_terayama/yjupyterhub/work/.log/20230720/20230720-111401-0012.log",
      "/notebooks/notebook/work_terayama/yjupyterhub/work/.log/20230726/20230726-125552-0745.log",
      "/notebooks/notebook/work_terayama/yjupyterhub/work/.log/20230801/20230801-145239-0169.log"
     ]
    },
    "tags": [
     "vcp:rewrite:vcpsdk"
    ]
   },
   "outputs": [],
   "source": [
    "from common import logsetting\n",
    "from vcpsdk.vcpsdk import VcpSDK\n",
    "\n",
    "vcp = VcpSDK(vcc_access_token)"
   ]
  },
  {
   "cell_type": "markdown",
   "metadata": {
    "lc_cell_meme": {
     "current": "a437f996-e8ca-11ed-b994-0242ac110002-3-f374-4a74-ad54",
     "history": [
      {
       "current": "a437f996-e8ca-11ed-b994-0242ac110002-1-f374",
       "next": "a437fa2c-e8ca-11ed-b994-0242ac110002",
       "previous": "a437f90a-e8ca-11ed-b994-0242ac110002"
      },
      {
       "current": "a437f996-e8ca-11ed-b994-0242ac110002-2-f374-4a74",
       "next": "a437fa2c-e8ca-11ed-b994-0242ac110002-1-4e33",
       "previous": "a437f90a-e8ca-11ed-b994-0242ac110002-1-ca82"
      },
      {
       "current": "a437f996-e8ca-11ed-b994-0242ac110002-3-f374-4a74-ad54",
       "next": "a437fa2c-e8ca-11ed-b994-0242ac110002-2-4e33-ea6a",
       "previous": "a437f90a-e8ca-11ed-b994-0242ac110002-2-ca82-5d71"
      }
     ],
     "next": "a437fa2c-e8ca-11ed-b994-0242ac110002-3-4e33-ea6a-fb6c",
     "previous": "a437f90a-e8ca-11ed-b994-0242ac110002-3-ca82-5d71-4c84"
    }
   },
   "source": [
    "上のセルの実行結果がエラーとなり以下のようなメッセージが表示されている場合は、入力されたアクセストークンに誤りがあります。\n",
    "\n",
    "```\n",
    "ERROR - config vc failed: http_status(403)\n",
    "ERROR - 2021/XX/XX XX:XX:XX UTC: VCPAuthException: xxxxxxx:token lookup is failed: permission denied\n",
    "```\n",
    "\n",
    "エラーになった場合はこの節のセルを全て `unfreeze` してから、もう一度アクセストークンの入力を行ってください。"
   ]
  },
  {
   "cell_type": "markdown",
   "metadata": {
    "lc_cell_meme": {
     "current": "a437fa2c-e8ca-11ed-b994-0242ac110002-3-4e33-ea6a-fb6c",
     "history": [
      {
       "current": "a437fa2c-e8ca-11ed-b994-0242ac110002-1-4e33",
       "next": "a437fab8-e8ca-11ed-b994-0242ac110002",
       "previous": "a437f996-e8ca-11ed-b994-0242ac110002"
      },
      {
       "current": "a437fa2c-e8ca-11ed-b994-0242ac110002-2-4e33-ea6a",
       "next": "a437fab8-e8ca-11ed-b994-0242ac110002-1-47ef",
       "previous": "a437f996-e8ca-11ed-b994-0242ac110002-1-f374"
      },
      {
       "current": "a437fa2c-e8ca-11ed-b994-0242ac110002-3-4e33-ea6a-fb6c",
       "next": "a437fab8-e8ca-11ed-b994-0242ac110002-2-47ef-82cc",
       "previous": "a437f996-e8ca-11ed-b994-0242ac110002-2-f374-4a74"
      }
     ],
     "next": "a437fab8-e8ca-11ed-b994-0242ac110002-3-47ef-82cc-162c",
     "previous": "a437f996-e8ca-11ed-b994-0242ac110002-3-f374-4a74-ad54"
    }
   },
   "source": [
    "### グループ名\n",
    "\n",
    "削除対象となるVCPのUnitGroup名を指定します。"
   ]
  },
  {
   "cell_type": "markdown",
   "metadata": {
    "lc_cell_meme": {
     "current": "a437fab8-e8ca-11ed-b994-0242ac110002-3-47ef-82cc-162c",
     "history": [
      {
       "current": "a437fab8-e8ca-11ed-b994-0242ac110002-1-47ef",
       "next": "a437fb44-e8ca-11ed-b994-0242ac110002",
       "previous": "a437fa2c-e8ca-11ed-b994-0242ac110002"
      },
      {
       "current": "a437fab8-e8ca-11ed-b994-0242ac110002-2-47ef-82cc",
       "next": "a437fb44-e8ca-11ed-b994-0242ac110002-1-9543",
       "previous": "a437fa2c-e8ca-11ed-b994-0242ac110002-1-4e33"
      },
      {
       "current": "a437fab8-e8ca-11ed-b994-0242ac110002-3-47ef-82cc-162c",
       "next": "a437fb44-e8ca-11ed-b994-0242ac110002-2-9543-31a6",
       "previous": "a437fa2c-e8ca-11ed-b994-0242ac110002-2-4e33-ea6a"
      }
     ],
     "next": "a437fb44-e8ca-11ed-b994-0242ac110002-3-9543-31a6-f8bc",
     "previous": "a437fa2c-e8ca-11ed-b994-0242ac110002-3-4e33-ea6a-fb6c"
    }
   },
   "source": [
    "対象となり得るUnitGroupを確認するために group_varsファイル名の一覧を表示します。"
   ]
  },
  {
   "cell_type": "code",
   "execution_count": null,
   "metadata": {
    "lc_cell_meme": {
     "current": "a437fb44-e8ca-11ed-b994-0242ac110002-3-9543-31a6-f8bc",
     "history": [
      {
       "current": "a437fb44-e8ca-11ed-b994-0242ac110002-1-9543",
       "next": "a437fbda-e8ca-11ed-b994-0242ac110002",
       "previous": "a437fab8-e8ca-11ed-b994-0242ac110002"
      },
      {
       "current": "a437fb44-e8ca-11ed-b994-0242ac110002-2-9543-31a6",
       "next": "a437fbda-e8ca-11ed-b994-0242ac110002-1-b00d",
       "previous": "a437fab8-e8ca-11ed-b994-0242ac110002-1-47ef"
      },
      {
       "current": "a437fb44-e8ca-11ed-b994-0242ac110002-3-9543-31a6-f8bc",
       "next": "a437fbda-e8ca-11ed-b994-0242ac110002-2-b00d-f1d8",
       "previous": "a437fab8-e8ca-11ed-b994-0242ac110002-2-47ef-82cc"
      }
     ],
     "next": "a437fbda-e8ca-11ed-b994-0242ac110002-3-b00d-f1d8-bfed",
     "previous": "a437fab8-e8ca-11ed-b994-0242ac110002-3-47ef-82cc-162c"
    },
    "lc_wrapper": {
     "log_history": [
      "/notebooks/notebook/work_terayama/Untitled Folder/ocs-templates/CoursewareHub/notebooks/.log/20230502/20230502-181932-0479.log",
      "/notebooks/notebook/work_terayama/yjupyterhub/work/.log/20230623/20230623-153146-0646.log",
      "/notebooks/notebook/work_terayama/yjupyterhub/work/.log/20230629/20230629-113400-0859.log",
      "/notebooks/notebook/work_terayama/yjupyterhub/work/.log/20230630/20230630-183138-0405.log",
      "/notebooks/notebook/work_terayama/yjupyterhub/work/.log/20230630/20230630-204040-0362.log",
      "/notebooks/notebook/work_terayama/yjupyterhub/work/.log/20230707/20230707-145028-0772.log",
      "/notebooks/notebook/work_terayama/yjupyterhub/work/.log/20230707/20230707-152219-0965.log",
      "/notebooks/notebook/work_terayama/yjupyterhub/work/.log/20230712/20230712-113938-0385.log",
      "/notebooks/notebook/work_terayama/yjupyterhub/work/.log/20230719/20230719-124449-0716.log",
      "/notebooks/notebook/work_terayama/yjupyterhub/work/.log/20230719/20230719-132808-0693.log",
      "/notebooks/notebook/work_terayama/yjupyterhub/work/.log/20230720/20230720-111429-0036.log",
      "/notebooks/notebook/work_terayama/yjupyterhub/work/.log/20230726/20230726-125636-0873.log",
      "/notebooks/notebook/work_terayama/yjupyterhub/work/.log/20230726/20230726-160348-0256.log",
      "/notebooks/notebook/work_terayama/yjupyterhub/work/.log/20230726/20230726-220138-0324.log",
      "/notebooks/notebook/work_terayama/yjupyterhub/work/.log/20230726/20230726-231144-0447.log",
      "/notebooks/notebook/work_terayama/yjupyterhub/work/.log/20230727/20230727-125612-0808.log",
      "/notebooks/notebook/work_terayama/yjupyterhub/work/.log/20230801/20230801-145308-0098.log"
     ]
    }
   },
   "outputs": [],
   "source": [
    "!ls -1 group_vars/"
   ]
  },
  {
   "cell_type": "markdown",
   "metadata": {
    "lc_cell_meme": {
     "current": "a437fbda-e8ca-11ed-b994-0242ac110002-3-b00d-f1d8-bfed",
     "history": [
      {
       "current": "a437fbda-e8ca-11ed-b994-0242ac110002-1-b00d",
       "next": "a437fc66-e8ca-11ed-b994-0242ac110002",
       "previous": "a437fb44-e8ca-11ed-b994-0242ac110002"
      },
      {
       "current": "a437fbda-e8ca-11ed-b994-0242ac110002-2-b00d-f1d8",
       "next": "a437fc66-e8ca-11ed-b994-0242ac110002-1-5c61",
       "previous": "a437fb44-e8ca-11ed-b994-0242ac110002-1-9543"
      },
      {
       "current": "a437fbda-e8ca-11ed-b994-0242ac110002-3-b00d-f1d8-bfed",
       "next": "a437fc66-e8ca-11ed-b994-0242ac110002-2-5c61-a66c",
       "previous": "a437fb44-e8ca-11ed-b994-0242ac110002-2-9543-31a6"
      }
     ],
     "next": "a437fc66-e8ca-11ed-b994-0242ac110002-3-5c61-a66c-cc95",
     "previous": "a437fb44-e8ca-11ed-b994-0242ac110002-3-9543-31a6-f8bc"
    }
   },
   "source": [
    " UnitGroup名を次のセルに指定してください。"
   ]
  },
  {
   "cell_type": "code",
   "execution_count": null,
   "metadata": {
    "lc_cell_meme": {
     "current": "a437fc66-e8ca-11ed-b994-0242ac110002-3-5c61-a66c-cc95",
     "history": [
      {
       "current": "a437fc66-e8ca-11ed-b994-0242ac110002-1-5c61",
       "next": "a437fcf2-e8ca-11ed-b994-0242ac110002",
       "previous": "a437fbda-e8ca-11ed-b994-0242ac110002"
      },
      {
       "current": "a437fc66-e8ca-11ed-b994-0242ac110002-2-5c61-a66c",
       "next": "a437fcf2-e8ca-11ed-b994-0242ac110002-1-93bd",
       "previous": "a437fbda-e8ca-11ed-b994-0242ac110002-1-b00d"
      },
      {
       "current": "a437fc66-e8ca-11ed-b994-0242ac110002-3-5c61-a66c-cc95",
       "next": "a437fcf2-e8ca-11ed-b994-0242ac110002-2-93bd-9ddd",
       "previous": "a437fbda-e8ca-11ed-b994-0242ac110002-2-b00d-f1d8"
      }
     ],
     "next": "a437fcf2-e8ca-11ed-b994-0242ac110002-3-93bd-9ddd-b82a",
     "previous": "a437fbda-e8ca-11ed-b994-0242ac110002-3-b00d-f1d8-bfed"
    },
    "lc_wrapper": {
     "log_history": [
      "/notebooks/notebook/work_terayama/yjupyterhub/work/.log/20230623/20230623-153152-0163.log",
      "/notebooks/notebook/work_terayama/yjupyterhub/work/.log/20230629/20230629-113407-0611.log",
      "/notebooks/notebook/work_terayama/yjupyterhub/work/.log/20230630/20230630-183142-0887.log",
      "/notebooks/notebook/work_terayama/yjupyterhub/work/.log/20230630/20230630-204043-0967.log",
      "/notebooks/notebook/work_terayama/yjupyterhub/work/.log/20230707/20230707-145032-0218.log",
      "/notebooks/notebook/work_terayama/yjupyterhub/work/.log/20230707/20230707-152222-0515.log",
      "/notebooks/notebook/work_terayama/yjupyterhub/work/.log/20230710/20230710-134210-0212.log",
      "/notebooks/notebook/work_terayama/yjupyterhub/work/.log/20230712/20230712-113941-0311.log",
      "/notebooks/notebook/work_terayama/yjupyterhub/work/.log/20230719/20230719-124451-0988.log",
      "/notebooks/notebook/work_terayama/yjupyterhub/work/.log/20230719/20230719-132812-0107.log",
      "/notebooks/notebook/work_terayama/yjupyterhub/work/.log/20230720/20230720-111431-0542.log",
      "/notebooks/notebook/work_terayama/yjupyterhub/work/.log/20230726/20230726-125640-0623.log",
      "/notebooks/notebook/work_terayama/yjupyterhub/work/.log/20230726/20230726-160350-0951.log",
      "/notebooks/notebook/work_terayama/yjupyterhub/work/.log/20230726/20230726-220140-0959.log",
      "/notebooks/notebook/work_terayama/yjupyterhub/work/.log/20230726/20230726-231149-0444.log",
      "/notebooks/notebook/work_terayama/yjupyterhub/work/.log/20230801/20230801-145310-0540.log"
     ]
    },
    "tags": [
     "vcp:parameters"
    ]
   },
   "outputs": [],
   "source": [
    "# (例)\n",
    "# ugroup_name = 'JupyterHub'\n",
    "\n",
    "ugroup_name = ''"
   ]
  },
  {
   "cell_type": "markdown",
   "metadata": {
    "heading_collapsed": true,
    "lc_cell_meme": {
     "current": "a437fcf2-e8ca-11ed-b994-0242ac110002-3-93bd-9ddd-b82a",
     "history": [
      {
       "current": "a437fcf2-e8ca-11ed-b994-0242ac110002-1-93bd",
       "next": "a437fd7e-e8ca-11ed-b994-0242ac110002",
       "previous": "a437fc66-e8ca-11ed-b994-0242ac110002"
      },
      {
       "current": "a437fcf2-e8ca-11ed-b994-0242ac110002-2-93bd-9ddd",
       "next": "a437fd7e-e8ca-11ed-b994-0242ac110002-1-dcd1",
       "previous": "a437fc66-e8ca-11ed-b994-0242ac110002-1-5c61"
      },
      {
       "current": "a437fcf2-e8ca-11ed-b994-0242ac110002-3-93bd-9ddd-b82a",
       "next": "a437fd7e-e8ca-11ed-b994-0242ac110002-2-dcd1-fce8",
       "previous": "a437fc66-e8ca-11ed-b994-0242ac110002-2-5c61-a66c"
      }
     ],
     "next": "a437fd7e-e8ca-11ed-b994-0242ac110002-3-dcd1-fce8-48aa",
     "previous": "a437fc66-e8ca-11ed-b994-0242ac110002-3-5c61-a66c-cc95"
    }
   },
   "source": [
    "## 構築環境の削除"
   ]
  },
  {
   "cell_type": "markdown",
   "metadata": {
    "heading_collapsed": true,
    "hidden": true,
    "lc_cell_meme": {
     "current": "a437fd7e-e8ca-11ed-b994-0242ac110002-3-dcd1-fce8-48aa",
     "history": [
      {
       "current": "a437fd7e-e8ca-11ed-b994-0242ac110002-1-dcd1",
       "next": "a437fe0a-e8ca-11ed-b994-0242ac110002",
       "previous": "a437fcf2-e8ca-11ed-b994-0242ac110002"
      },
      {
       "current": "a437fd7e-e8ca-11ed-b994-0242ac110002-2-dcd1-fce8",
       "next": "a437fe0a-e8ca-11ed-b994-0242ac110002-1-14db",
       "previous": "a437fcf2-e8ca-11ed-b994-0242ac110002-1-93bd"
      },
      {
       "current": "a437fd7e-e8ca-11ed-b994-0242ac110002-3-dcd1-fce8-48aa",
       "next": "a437fe0a-e8ca-11ed-b994-0242ac110002-2-14db-dd75",
       "previous": "a437fcf2-e8ca-11ed-b994-0242ac110002-2-93bd-9ddd"
      }
     ],
     "next": "a437fe0a-e8ca-11ed-b994-0242ac110002-3-14db-dd75-b86a",
     "previous": "a437fcf2-e8ca-11ed-b994-0242ac110002-3-93bd-9ddd-b82a"
    }
   },
   "source": [
    "### VCノードの削除\n",
    "\n",
    "起動したVCノードを削除します。"
   ]
  },
  {
   "cell_type": "markdown",
   "metadata": {
    "hidden": true,
    "lc_cell_meme": {
     "current": "a437fe0a-e8ca-11ed-b994-0242ac110002-3-14db-dd75-b86a",
     "history": [
      {
       "current": "a437fe0a-e8ca-11ed-b994-0242ac110002-1-14db",
       "next": "a437fe96-e8ca-11ed-b994-0242ac110002",
       "previous": "a437fd7e-e8ca-11ed-b994-0242ac110002"
      },
      {
       "current": "a437fe0a-e8ca-11ed-b994-0242ac110002-2-14db-dd75",
       "next": "a437fe96-e8ca-11ed-b994-0242ac110002-1-6cf2",
       "previous": "a437fd7e-e8ca-11ed-b994-0242ac110002-1-dcd1"
      },
      {
       "current": "a437fe0a-e8ca-11ed-b994-0242ac110002-3-14db-dd75-b86a",
       "next": "a437fe96-e8ca-11ed-b994-0242ac110002-2-6cf2-7055",
       "previous": "a437fd7e-e8ca-11ed-b994-0242ac110002-2-dcd1-fce8"
      }
     ],
     "next": "a437fe96-e8ca-11ed-b994-0242ac110002-3-6cf2-7055-dfaf",
     "previous": "a437fd7e-e8ca-11ed-b994-0242ac110002-3-dcd1-fce8-48aa"
    }
   },
   "source": [
    "現在のUnitGroupの一覧を確認します。"
   ]
  },
  {
   "cell_type": "code",
   "execution_count": null,
   "metadata": {
    "hidden": true,
    "lc_cell_meme": {
     "current": "a437fe96-e8ca-11ed-b994-0242ac110002-3-6cf2-7055-dfaf",
     "history": [
      {
       "current": "a437fe96-e8ca-11ed-b994-0242ac110002-1-6cf2",
       "next": "a437ff22-e8ca-11ed-b994-0242ac110002",
       "previous": "a437fe0a-e8ca-11ed-b994-0242ac110002"
      },
      {
       "current": "a437fe96-e8ca-11ed-b994-0242ac110002-2-6cf2-7055",
       "next": "a437ff22-e8ca-11ed-b994-0242ac110002-1-545b",
       "previous": "a437fe0a-e8ca-11ed-b994-0242ac110002-1-14db"
      },
      {
       "current": "a437fe96-e8ca-11ed-b994-0242ac110002-3-6cf2-7055-dfaf",
       "next": "a437ff22-e8ca-11ed-b994-0242ac110002-2-545b-c608",
       "previous": "a437fe0a-e8ca-11ed-b994-0242ac110002-2-14db-dd75"
      }
     ],
     "next": "a437ff22-e8ca-11ed-b994-0242ac110002-3-545b-c608-a307",
     "previous": "a437fe0a-e8ca-11ed-b994-0242ac110002-3-14db-dd75-b86a"
    },
    "lc_wrapper": {
     "log_history": [
      "/notebooks/notebook/work_terayama/yjupyterhub/work/.log/20230623/20230623-153208-0862.log",
      "/notebooks/notebook/work_terayama/yjupyterhub/work/.log/20230629/20230629-113413-0615.log",
      "/notebooks/notebook/work_terayama/yjupyterhub/work/.log/20230630/20230630-183153-0929.log",
      "/notebooks/notebook/work_terayama/yjupyterhub/work/.log/20230630/20230630-204046-0328.log",
      "/notebooks/notebook/work_terayama/yjupyterhub/work/.log/20230707/20230707-145043-0596.log",
      "/notebooks/notebook/work_terayama/yjupyterhub/work/.log/20230707/20230707-152226-0064.log",
      "/notebooks/notebook/work_terayama/yjupyterhub/work/.log/20230707/20230707-155954-0075.log",
      "/notebooks/notebook/work_terayama/yjupyterhub/work/.log/20230707/20230707-163139-0909.log",
      "/notebooks/notebook/work_terayama/yjupyterhub/work/.log/20230707/20230707-171423-0687.log",
      "/notebooks/notebook/work_terayama/yjupyterhub/work/.log/20230707/20230707-194609-0693.log",
      "/notebooks/notebook/work_terayama/yjupyterhub/work/.log/20230707/20230707-201342-0882.log",
      "/notebooks/notebook/work_terayama/yjupyterhub/work/.log/20230707/20230707-210703-0459.log",
      "/notebooks/notebook/work_terayama/yjupyterhub/work/.log/20230710/20230710-134520-0347.log",
      "/notebooks/notebook/work_terayama/yjupyterhub/work/.log/20230712/20230712-113944-0910.log",
      "/notebooks/notebook/work_terayama/yjupyterhub/work/.log/20230712/20230712-124932-0450.log",
      "/notebooks/notebook/work_terayama/yjupyterhub/work/.log/20230712/20230712-152429-0325.log",
      "/notebooks/notebook/work_terayama/yjupyterhub/work/.log/20230712/20230712-161205-0817.log",
      "/notebooks/notebook/work_terayama/yjupyterhub/work/.log/20230712/20230712-180205-0131.log",
      "/notebooks/notebook/work_terayama/yjupyterhub/work/.log/20230719/20230719-124453-0710.log",
      "/notebooks/notebook/work_terayama/yjupyterhub/work/.log/20230719/20230719-132813-0497.log",
      "/notebooks/notebook/work_terayama/yjupyterhub/work/.log/20230719/20230719-134043-0297.log",
      "/notebooks/notebook/work_terayama/yjupyterhub/work/.log/20230719/20230719-141436-0113.log",
      "/notebooks/notebook/work_terayama/yjupyterhub/work/.log/20230719/20230719-145105-0140.log",
      "/notebooks/notebook/work_terayama/yjupyterhub/work/.log/20230720/20230720-111433-0112.log",
      "/notebooks/notebook/work_terayama/yjupyterhub/work/.log/20230726/20230726-125644-0186.log",
      "/notebooks/notebook/work_terayama/yjupyterhub/work/.log/20230726/20230726-143324-0932.log",
      "/notebooks/notebook/work_terayama/yjupyterhub/work/.log/20230726/20230726-160353-0069.log",
      "/notebooks/notebook/work_terayama/yjupyterhub/work/.log/20230726/20230726-163024-0083.log",
      "/notebooks/notebook/work_terayama/yjupyterhub/work/.log/20230726/20230726-172629-0764.log",
      "/notebooks/notebook/work_terayama/yjupyterhub/work/.log/20230726/20230726-180323-0861.log",
      "/notebooks/notebook/work_terayama/yjupyterhub/work/.log/20230726/20230726-184357-0245.log",
      "/notebooks/notebook/work_terayama/yjupyterhub/work/.log/20230726/20230726-191756-0851.log",
      "/notebooks/notebook/work_terayama/yjupyterhub/work/.log/20230726/20230726-193702-0938.log",
      "/notebooks/notebook/work_terayama/yjupyterhub/work/.log/20230726/20230726-205621-0771.log",
      "/notebooks/notebook/work_terayama/yjupyterhub/work/.log/20230726/20230726-212159-0802.log",
      "/notebooks/notebook/work_terayama/yjupyterhub/work/.log/20230726/20230726-214051-0479.log",
      "/notebooks/notebook/work_terayama/yjupyterhub/work/.log/20230726/20230726-220154-0646.log",
      "/notebooks/notebook/work_terayama/yjupyterhub/work/.log/20230726/20230726-224020-0774.log",
      "/notebooks/notebook/work_terayama/yjupyterhub/work/.log/20230726/20230726-231151-0092.log",
      "/notebooks/notebook/work_terayama/yjupyterhub/work/.log/20230726/20230726-233538-0365.log",
      "/notebooks/notebook/work_terayama/yjupyterhub/work/.log/20230727/20230727-000711-0234.log",
      "/notebooks/notebook/work_terayama/yjupyterhub/work/.log/20230727/20230727-002928-0617.log",
      "/notebooks/notebook/work_terayama/yjupyterhub/work/.log/20230727/20230727-011604-0718.log",
      "/notebooks/notebook/work_terayama/yjupyterhub/work/.log/20230727/20230727-121303-0435.log",
      "/notebooks/notebook/work_terayama/yjupyterhub/work/.log/20230727/20230727-125620-0054.log",
      "/notebooks/notebook/work_terayama/yjupyterhub/work/.log/20230727/20230727-134334-0847.log",
      "/notebooks/notebook/work_terayama/yjupyterhub/work/.log/20230801/20230801-145313-0080.log"
     ]
    }
   },
   "outputs": [],
   "source": [
    "vcp.df_ugroups()"
   ]
  },
  {
   "cell_type": "markdown",
   "metadata": {
    "hidden": true,
    "lc_cell_meme": {
     "current": "a437ff22-e8ca-11ed-b994-0242ac110002-3-545b-c608-a307",
     "history": [
      {
       "current": "a437ff22-e8ca-11ed-b994-0242ac110002-1-545b",
       "next": "a437ffae-e8ca-11ed-b994-0242ac110002",
       "previous": "a437fe96-e8ca-11ed-b994-0242ac110002"
      },
      {
       "current": "a437ff22-e8ca-11ed-b994-0242ac110002-2-545b-c608",
       "next": "a437ffae-e8ca-11ed-b994-0242ac110002-1-6857",
       "previous": "a437fe96-e8ca-11ed-b994-0242ac110002-1-6cf2"
      },
      {
       "current": "a437ff22-e8ca-11ed-b994-0242ac110002-3-545b-c608-a307",
       "next": "a437ffae-e8ca-11ed-b994-0242ac110002-2-6857-44f7",
       "previous": "a437fe96-e8ca-11ed-b994-0242ac110002-2-6cf2-7055"
      }
     ],
     "next": "a437ffae-e8ca-11ed-b994-0242ac110002-3-6857-44f7-99d5",
     "previous": "a437fe96-e8ca-11ed-b994-0242ac110002-3-6cf2-7055-dfaf"
    }
   },
   "source": [
    "現在のVCノードの状態を確認します。"
   ]
  },
  {
   "cell_type": "code",
   "execution_count": null,
   "metadata": {
    "hidden": true,
    "lc_cell_meme": {
     "current": "a437ffae-e8ca-11ed-b994-0242ac110002-3-6857-44f7-99d5",
     "history": [
      {
       "current": "a437ffae-e8ca-11ed-b994-0242ac110002-1-6857",
       "next": "a438003a-e8ca-11ed-b994-0242ac110002",
       "previous": "a437ff22-e8ca-11ed-b994-0242ac110002"
      },
      {
       "current": "a437ffae-e8ca-11ed-b994-0242ac110002-2-6857-44f7",
       "next": "a438003a-e8ca-11ed-b994-0242ac110002-1-f27a",
       "previous": "a437ff22-e8ca-11ed-b994-0242ac110002-1-545b"
      },
      {
       "current": "a437ffae-e8ca-11ed-b994-0242ac110002-3-6857-44f7-99d5",
       "next": "a438003a-e8ca-11ed-b994-0242ac110002-2-f27a-19a7",
       "previous": "a437ff22-e8ca-11ed-b994-0242ac110002-2-545b-c608"
      }
     ],
     "next": "a438003a-e8ca-11ed-b994-0242ac110002-3-f27a-19a7-ab11",
     "previous": "a437ff22-e8ca-11ed-b994-0242ac110002-3-545b-c608-a307"
    },
    "lc_wrapper": {
     "log_history": [
      "/notebooks/notebook/work_terayama/yjupyterhub/work/.log/20230623/20230623-153233-0226.log",
      "/notebooks/notebook/work_terayama/yjupyterhub/work/.log/20230629/20230629-113438-0673.log",
      "/notebooks/notebook/work_terayama/yjupyterhub/work/.log/20230630/20230630-183218-0399.log",
      "/notebooks/notebook/work_terayama/yjupyterhub/work/.log/20230630/20230630-204110-0821.log",
      "/notebooks/notebook/work_terayama/yjupyterhub/work/.log/20230707/20230707-145108-0101.log",
      "/notebooks/notebook/work_terayama/yjupyterhub/work/.log/20230707/20230707-152250-0254.log",
      "/notebooks/notebook/work_terayama/yjupyterhub/work/.log/20230707/20230707-160018-0464.log",
      "/notebooks/notebook/work_terayama/yjupyterhub/work/.log/20230707/20230707-163204-0217.log",
      "/notebooks/notebook/work_terayama/yjupyterhub/work/.log/20230707/20230707-171447-0948.log",
      "/notebooks/notebook/work_terayama/yjupyterhub/work/.log/20230707/20230707-194633-0894.log",
      "/notebooks/notebook/work_terayama/yjupyterhub/work/.log/20230707/20230707-201407-0205.log",
      "/notebooks/notebook/work_terayama/yjupyterhub/work/.log/20230707/20230707-210727-0823.log",
      "/notebooks/notebook/work_terayama/yjupyterhub/work/.log/20230710/20230710-134539-0519.log",
      "/notebooks/notebook/work_terayama/yjupyterhub/work/.log/20230712/20230712-114009-0794.log",
      "/notebooks/notebook/work_terayama/yjupyterhub/work/.log/20230712/20230712-124956-0591.log",
      "/notebooks/notebook/work_terayama/yjupyterhub/work/.log/20230712/20230712-152453-0748.log",
      "/notebooks/notebook/work_terayama/yjupyterhub/work/.log/20230712/20230712-161230-0021.log",
      "/notebooks/notebook/work_terayama/yjupyterhub/work/.log/20230712/20230712-180229-0736.log",
      "/notebooks/notebook/work_terayama/yjupyterhub/work/.log/20230719/20230719-124518-0263.log",
      "/notebooks/notebook/work_terayama/yjupyterhub/work/.log/20230719/20230719-132833-0399.log",
      "/notebooks/notebook/work_terayama/yjupyterhub/work/.log/20230719/20230719-134102-0526.log",
      "/notebooks/notebook/work_terayama/yjupyterhub/work/.log/20230719/20230719-141455-0723.log",
      "/notebooks/notebook/work_terayama/yjupyterhub/work/.log/20230719/20230719-145129-0350.log",
      "/notebooks/notebook/work_terayama/yjupyterhub/work/.log/20230720/20230720-111457-0482.log",
      "/notebooks/notebook/work_terayama/yjupyterhub/work/.log/20230726/20230726-125708-0656.log",
      "/notebooks/notebook/work_terayama/yjupyterhub/work/.log/20230726/20230726-143344-0024.log",
      "/notebooks/notebook/work_terayama/yjupyterhub/work/.log/20230726/20230726-160417-0028.log",
      "/notebooks/notebook/work_terayama/yjupyterhub/work/.log/20230726/20230726-163043-0566.log",
      "/notebooks/notebook/work_terayama/yjupyterhub/work/.log/20230726/20230726-172653-0679.log",
      "/notebooks/notebook/work_terayama/yjupyterhub/work/.log/20230726/20230726-180347-0924.log",
      "/notebooks/notebook/work_terayama/yjupyterhub/work/.log/20230726/20230726-184421-0567.log",
      "/notebooks/notebook/work_terayama/yjupyterhub/work/.log/20230726/20230726-191821-0247.log",
      "/notebooks/notebook/work_terayama/yjupyterhub/work/.log/20230726/20230726-193722-0319.log",
      "/notebooks/notebook/work_terayama/yjupyterhub/work/.log/20230726/20230726-205641-0238.log",
      "/notebooks/notebook/work_terayama/yjupyterhub/work/.log/20230726/20230726-212218-0813.log",
      "/notebooks/notebook/work_terayama/yjupyterhub/work/.log/20230726/20230726-214110-0750.log",
      "/notebooks/notebook/work_terayama/yjupyterhub/work/.log/20230726/20230726-220214-0159.log",
      "/notebooks/notebook/work_terayama/yjupyterhub/work/.log/20230726/20230726-224040-0000.log",
      "/notebooks/notebook/work_terayama/yjupyterhub/work/.log/20230726/20230726-231210-0638.log",
      "/notebooks/notebook/work_terayama/yjupyterhub/work/.log/20230726/20230726-233557-0974.log",
      "/notebooks/notebook/work_terayama/yjupyterhub/work/.log/20230727/20230727-000735-0068.log",
      "/notebooks/notebook/work_terayama/yjupyterhub/work/.log/20230727/20230727-002952-0801.log",
      "/notebooks/notebook/work_terayama/yjupyterhub/work/.log/20230727/20230727-011629-0009.log",
      "/notebooks/notebook/work_terayama/yjupyterhub/work/.log/20230727/20230727-121322-0882.log",
      "/notebooks/notebook/work_terayama/yjupyterhub/work/.log/20230727/20230727-125644-0346.log",
      "/notebooks/notebook/work_terayama/yjupyterhub/work/.log/20230727/20230727-134359-0212.log",
      "/notebooks/notebook/work_terayama/yjupyterhub/work/.log/20230801/20230801-145337-0828.log"
     ]
    }
   },
   "outputs": [],
   "source": [
    "ugroup = vcp.get_ugroup(ugroup_name)\n",
    "ugroup.df_nodes()"
   ]
  },
  {
   "cell_type": "markdown",
   "metadata": {
    "hidden": true,
    "lc_cell_meme": {
     "current": "a438003a-e8ca-11ed-b994-0242ac110002-3-f27a-19a7-ab11",
     "history": [
      {
       "current": "a438003a-e8ca-11ed-b994-0242ac110002-1-f27a",
       "next": "a43800c6-e8ca-11ed-b994-0242ac110002",
       "previous": "a437ffae-e8ca-11ed-b994-0242ac110002"
      },
      {
       "current": "a438003a-e8ca-11ed-b994-0242ac110002-2-f27a-19a7",
       "next": "a43800c6-e8ca-11ed-b994-0242ac110002-1-a157",
       "previous": "a437ffae-e8ca-11ed-b994-0242ac110002-1-6857"
      },
      {
       "current": "a438003a-e8ca-11ed-b994-0242ac110002-3-f27a-19a7-ab11",
       "next": "a43800c6-e8ca-11ed-b994-0242ac110002-2-a157-4859",
       "previous": "a437ffae-e8ca-11ed-b994-0242ac110002-2-6857-44f7"
      }
     ],
     "next": "a43800c6-e8ca-11ed-b994-0242ac110002-3-a157-4859-7556",
     "previous": "a437ffae-e8ca-11ed-b994-0242ac110002-3-6857-44f7-99d5"
    }
   },
   "source": [
    "まず worker の VCノードを削除します。\n",
    "\n",
    "> workerのVCノードがない場合は何もしません。"
   ]
  },
  {
   "cell_type": "code",
   "execution_count": null,
   "metadata": {
    "hidden": true,
    "lc_cell_meme": {
     "current": "a43800c6-e8ca-11ed-b994-0242ac110002-3-a157-4859-7556",
     "history": [
      {
       "current": "a43800c6-e8ca-11ed-b994-0242ac110002-1-a157",
       "next": "a4380152-e8ca-11ed-b994-0242ac110002",
       "previous": "a438003a-e8ca-11ed-b994-0242ac110002"
      },
      {
       "current": "a43800c6-e8ca-11ed-b994-0242ac110002-2-a157-4859",
       "next": "a4380152-e8ca-11ed-b994-0242ac110002-1-f42f",
       "previous": "a438003a-e8ca-11ed-b994-0242ac110002-1-f27a"
      },
      {
       "current": "a43800c6-e8ca-11ed-b994-0242ac110002-3-a157-4859-7556",
       "next": "a4380152-e8ca-11ed-b994-0242ac110002-2-f42f-b857",
       "previous": "a438003a-e8ca-11ed-b994-0242ac110002-2-f27a-19a7"
      }
     ],
     "next": "a4380152-e8ca-11ed-b994-0242ac110002-3-f42f-b857-0483",
     "previous": "a438003a-e8ca-11ed-b994-0242ac110002-3-f27a-19a7-ab11"
    },
    "lc_wrapper": {
     "log_history": [
      "/notebooks/notebook/work_terayama/yjupyterhub/work/.log/20230623/20230623-153307-0656.log",
      "/notebooks/notebook/work_terayama/yjupyterhub/work/.log/20230629/20230629-113512-0947.log",
      "/notebooks/notebook/work_terayama/yjupyterhub/work/.log/20230630/20230630-183253-0030.log",
      "/notebooks/notebook/work_terayama/yjupyterhub/work/.log/20230630/20230630-204145-0028.log",
      "/notebooks/notebook/work_terayama/yjupyterhub/work/.log/20230707/20230707-145142-0344.log",
      "/notebooks/notebook/work_terayama/yjupyterhub/work/.log/20230707/20230707-152324-0819.log",
      "/notebooks/notebook/work_terayama/yjupyterhub/work/.log/20230707/20230707-160053-0543.log",
      "/notebooks/notebook/work_terayama/yjupyterhub/work/.log/20230707/20230707-163238-0605.log",
      "/notebooks/notebook/work_terayama/yjupyterhub/work/.log/20230707/20230707-171522-0657.log",
      "/notebooks/notebook/work_terayama/yjupyterhub/work/.log/20230707/20230707-194708-0315.log",
      "/notebooks/notebook/work_terayama/yjupyterhub/work/.log/20230707/20230707-201441-0885.log",
      "/notebooks/notebook/work_terayama/yjupyterhub/work/.log/20230707/20230707-210802-0368.log",
      "/notebooks/notebook/work_terayama/yjupyterhub/work/.log/20230710/20230710-134604-0464.log",
      "/notebooks/notebook/work_terayama/yjupyterhub/work/.log/20230712/20230712-114044-0272.log",
      "/notebooks/notebook/work_terayama/yjupyterhub/work/.log/20230712/20230712-125031-0299.log",
      "/notebooks/notebook/work_terayama/yjupyterhub/work/.log/20230712/20230712-152528-0192.log",
      "/notebooks/notebook/work_terayama/yjupyterhub/work/.log/20230712/20230712-161304-0759.log",
      "/notebooks/notebook/work_terayama/yjupyterhub/work/.log/20230712/20230712-180303-0916.log",
      "/notebooks/notebook/work_terayama/yjupyterhub/work/.log/20230719/20230719-124552-0657.log",
      "/notebooks/notebook/work_terayama/yjupyterhub/work/.log/20230719/20230719-132858-0116.log",
      "/notebooks/notebook/work_terayama/yjupyterhub/work/.log/20230719/20230719-134127-0311.log",
      "/notebooks/notebook/work_terayama/yjupyterhub/work/.log/20230719/20230719-141520-0469.log",
      "/notebooks/notebook/work_terayama/yjupyterhub/work/.log/20230719/20230719-145203-0888.log",
      "/notebooks/notebook/work_terayama/yjupyterhub/work/.log/20230720/20230720-111532-0324.log",
      "/notebooks/notebook/work_terayama/yjupyterhub/work/.log/20230726/20230726-125742-0958.log",
      "/notebooks/notebook/work_terayama/yjupyterhub/work/.log/20230726/20230726-143408-0940.log",
      "/notebooks/notebook/work_terayama/yjupyterhub/work/.log/20230726/20230726-160451-0667.log",
      "/notebooks/notebook/work_terayama/yjupyterhub/work/.log/20230726/20230726-163108-0459.log",
      "/notebooks/notebook/work_terayama/yjupyterhub/work/.log/20230726/20230726-172728-0313.log",
      "/notebooks/notebook/work_terayama/yjupyterhub/work/.log/20230726/20230726-180422-0523.log",
      "/notebooks/notebook/work_terayama/yjupyterhub/work/.log/20230726/20230726-184455-0963.log",
      "/notebooks/notebook/work_terayama/yjupyterhub/work/.log/20230726/20230726-191855-0634.log",
      "/notebooks/notebook/work_terayama/yjupyterhub/work/.log/20230726/20230726-193747-0321.log",
      "/notebooks/notebook/work_terayama/yjupyterhub/work/.log/20230726/20230726-205706-0341.log",
      "/notebooks/notebook/work_terayama/yjupyterhub/work/.log/20230726/20230726-212243-0717.log",
      "/notebooks/notebook/work_terayama/yjupyterhub/work/.log/20230726/20230726-214135-0617.log",
      "/notebooks/notebook/work_terayama/yjupyterhub/work/.log/20230726/20230726-220238-0845.log",
      "/notebooks/notebook/work_terayama/yjupyterhub/work/.log/20230726/20230726-224104-0769.log",
      "/notebooks/notebook/work_terayama/yjupyterhub/work/.log/20230726/20230726-231235-0419.log",
      "/notebooks/notebook/work_terayama/yjupyterhub/work/.log/20230726/20230726-233622-0769.log",
      "/notebooks/notebook/work_terayama/yjupyterhub/work/.log/20230727/20230727-000809-0934.log",
      "/notebooks/notebook/work_terayama/yjupyterhub/work/.log/20230727/20230727-003027-0183.log",
      "/notebooks/notebook/work_terayama/yjupyterhub/work/.log/20230727/20230727-011703-0712.log",
      "/notebooks/notebook/work_terayama/yjupyterhub/work/.log/20230727/20230727-121347-0757.log",
      "/notebooks/notebook/work_terayama/yjupyterhub/work/.log/20230727/20230727-125719-0367.log",
      "/notebooks/notebook/work_terayama/yjupyterhub/work/.log/20230727/20230727-134433-0897.log",
      "/notebooks/notebook/work_terayama/yjupyterhub/work/.log/20230801/20230801-145412-0517.log"
     ]
    }
   },
   "outputs": [],
   "source": [
    "worker_unit = ugroup.get_unit('worker')\n",
    "if worker_unit:\n",
    "    worker_unit.delete_nodes(num_delete_nodes=len(worker_unit.find_nodes()))"
   ]
  },
  {
   "cell_type": "markdown",
   "metadata": {
    "hidden": true,
    "lc_cell_meme": {
     "current": "a4380152-e8ca-11ed-b994-0242ac110002-3-f42f-b857-0483",
     "history": [
      {
       "current": "a4380152-e8ca-11ed-b994-0242ac110002-1-f42f",
       "next": "a43801de-e8ca-11ed-b994-0242ac110002",
       "previous": "a43800c6-e8ca-11ed-b994-0242ac110002"
      },
      {
       "current": "a4380152-e8ca-11ed-b994-0242ac110002-2-f42f-b857",
       "next": "a43801de-e8ca-11ed-b994-0242ac110002-1-b01f",
       "previous": "a43800c6-e8ca-11ed-b994-0242ac110002-1-a157"
      },
      {
       "current": "a4380152-e8ca-11ed-b994-0242ac110002-3-f42f-b857-0483",
       "next": "a43801de-e8ca-11ed-b994-0242ac110002-2-b01f-be76",
       "previous": "a43800c6-e8ca-11ed-b994-0242ac110002-2-a157-4859"
      }
     ],
     "next": "a43801de-e8ca-11ed-b994-0242ac110002-3-b01f-be76-4210",
     "previous": "a43800c6-e8ca-11ed-b994-0242ac110002-3-a157-4859-7556"
    }
   },
   "source": [
    "マスターのVCノードを削除します。"
   ]
  },
  {
   "cell_type": "code",
   "execution_count": null,
   "metadata": {
    "hidden": true,
    "lc_cell_meme": {
     "current": "a43801de-e8ca-11ed-b994-0242ac110002-3-b01f-be76-4210",
     "history": [
      {
       "current": "a43801de-e8ca-11ed-b994-0242ac110002-1-b01f",
       "next": "a4380274-e8ca-11ed-b994-0242ac110002",
       "previous": "a4380152-e8ca-11ed-b994-0242ac110002"
      },
      {
       "current": "a43801de-e8ca-11ed-b994-0242ac110002-2-b01f-be76",
       "next": "a4380274-e8ca-11ed-b994-0242ac110002-1-2970",
       "previous": "a4380152-e8ca-11ed-b994-0242ac110002-1-f42f"
      },
      {
       "current": "a43801de-e8ca-11ed-b994-0242ac110002-3-b01f-be76-4210",
       "next": "a4380274-e8ca-11ed-b994-0242ac110002-2-2970-9bbc",
       "previous": "a4380152-e8ca-11ed-b994-0242ac110002-2-f42f-b857"
      }
     ],
     "next": "a4380274-e8ca-11ed-b994-0242ac110002-3-2970-9bbc-8308",
     "previous": "a4380152-e8ca-11ed-b994-0242ac110002-3-f42f-b857-0483"
    },
    "lc_wrapper": {
     "log_history": [
      "/notebooks/notebook/work_terayama/yjupyterhub/work/.log/20230623/20230623-153447-0164.log",
      "/notebooks/notebook/work_terayama/yjupyterhub/work/.log/20230629/20230629-113652-0020.log",
      "/notebooks/notebook/work_terayama/yjupyterhub/work/.log/20230630/20230630-183432-0268.log",
      "/notebooks/notebook/work_terayama/yjupyterhub/work/.log/20230630/20230630-204324-0551.log",
      "/notebooks/notebook/work_terayama/yjupyterhub/work/.log/20230707/20230707-145322-0624.log",
      "/notebooks/notebook/work_terayama/yjupyterhub/work/.log/20230707/20230707-152504-0456.log",
      "/notebooks/notebook/work_terayama/yjupyterhub/work/.log/20230707/20230707-160232-0445.log",
      "/notebooks/notebook/work_terayama/yjupyterhub/work/.log/20230707/20230707-163418-0108.log",
      "/notebooks/notebook/work_terayama/yjupyterhub/work/.log/20230707/20230707-171701-0463.log",
      "/notebooks/notebook/work_terayama/yjupyterhub/work/.log/20230707/20230707-194837-0964.log",
      "/notebooks/notebook/work_terayama/yjupyterhub/work/.log/20230707/20230707-201620-0975.log",
      "/notebooks/notebook/work_terayama/yjupyterhub/work/.log/20230707/20230707-210941-0382.log",
      "/notebooks/notebook/work_terayama/yjupyterhub/work/.log/20230710/20230710-134609-0412.log",
      "/notebooks/notebook/work_terayama/yjupyterhub/work/.log/20230712/20230712-114223-0109.log",
      "/notebooks/notebook/work_terayama/yjupyterhub/work/.log/20230712/20230712-125210-0263.log",
      "/notebooks/notebook/work_terayama/yjupyterhub/work/.log/20230712/20230712-152707-0392.log",
      "/notebooks/notebook/work_terayama/yjupyterhub/work/.log/20230712/20230712-161444-0051.log",
      "/notebooks/notebook/work_terayama/yjupyterhub/work/.log/20230712/20230712-180433-0325.log",
      "/notebooks/notebook/work_terayama/yjupyterhub/work/.log/20230719/20230719-124732-0080.log",
      "/notebooks/notebook/work_terayama/yjupyterhub/work/.log/20230719/20230719-132903-0028.log",
      "/notebooks/notebook/work_terayama/yjupyterhub/work/.log/20230719/20230719-134132-0282.log",
      "/notebooks/notebook/work_terayama/yjupyterhub/work/.log/20230719/20230719-141525-0385.log",
      "/notebooks/notebook/work_terayama/yjupyterhub/work/.log/20230719/20230719-145342-0570.log",
      "/notebooks/notebook/work_terayama/yjupyterhub/work/.log/20230720/20230720-111701-0818.log",
      "/notebooks/notebook/work_terayama/yjupyterhub/work/.log/20230726/20230726-125922-0241.log",
      "/notebooks/notebook/work_terayama/yjupyterhub/work/.log/20230726/20230726-143413-0917.log",
      "/notebooks/notebook/work_terayama/yjupyterhub/work/.log/20230726/20230726-160621-0499.log",
      "/notebooks/notebook/work_terayama/yjupyterhub/work/.log/20230726/20230726-163113-0449.log",
      "/notebooks/notebook/work_terayama/yjupyterhub/work/.log/20230726/20230726-172857-0758.log",
      "/notebooks/notebook/work_terayama/yjupyterhub/work/.log/20230726/20230726-180552-0022.log",
      "/notebooks/notebook/work_terayama/yjupyterhub/work/.log/20230726/20230726-184635-0170.log",
      "/notebooks/notebook/work_terayama/yjupyterhub/work/.log/20230726/20230726-191920-0059.log",
      "/notebooks/notebook/work_terayama/yjupyterhub/work/.log/20230726/20230726-193752-0241.log",
      "/notebooks/notebook/work_terayama/yjupyterhub/work/.log/20230726/20230726-205711-0258.log",
      "/notebooks/notebook/work_terayama/yjupyterhub/work/.log/20230726/20230726-212248-0666.log",
      "/notebooks/notebook/work_terayama/yjupyterhub/work/.log/20230726/20230726-214140-0557.log",
      "/notebooks/notebook/work_terayama/yjupyterhub/work/.log/20230726/20230726-220243-0711.log",
      "/notebooks/notebook/work_terayama/yjupyterhub/work/.log/20230726/20230726-224109-0671.log",
      "/notebooks/notebook/work_terayama/yjupyterhub/work/.log/20230726/20230726-231240-0346.log",
      "/notebooks/notebook/work_terayama/yjupyterhub/work/.log/20230726/20230726-233627-0645.log",
      "/notebooks/notebook/work_terayama/yjupyterhub/work/.log/20230727/20230727-000834-0427.log",
      "/notebooks/notebook/work_terayama/yjupyterhub/work/.log/20230727/20230727-003206-0501.log",
      "/notebooks/notebook/work_terayama/yjupyterhub/work/.log/20230727/20230727-011843-0057.log",
      "/notebooks/notebook/work_terayama/yjupyterhub/work/.log/20230727/20230727-121352-0649.log",
      "/notebooks/notebook/work_terayama/yjupyterhub/work/.log/20230727/20230727-125848-0766.log",
      "/notebooks/notebook/work_terayama/yjupyterhub/work/.log/20230727/20230727-134612-0892.log",
      "/notebooks/notebook/work_terayama/yjupyterhub/work/.log/20230801/20230801-145542-0062.log"
     ]
    }
   },
   "outputs": [],
   "source": [
    "manager_unit = ugroup.get_unit('manager')\n",
    "if manager_unit:\n",
    "    manager_unit.delete_nodes()"
   ]
  },
  {
   "cell_type": "markdown",
   "metadata": {
    "hidden": true,
    "lc_cell_meme": {
     "current": "a4380274-e8ca-11ed-b994-0242ac110002-3-2970-9bbc-8308",
     "history": [
      {
       "current": "a4380274-e8ca-11ed-b994-0242ac110002-1-2970",
       "next": "a4380332-e8ca-11ed-b994-0242ac110002",
       "previous": "a43801de-e8ca-11ed-b994-0242ac110002"
      },
      {
       "current": "a4380274-e8ca-11ed-b994-0242ac110002-2-2970-9bbc",
       "next": "a4380332-e8ca-11ed-b994-0242ac110002-1-08ee",
       "previous": "a43801de-e8ca-11ed-b994-0242ac110002-1-b01f"
      },
      {
       "current": "a4380274-e8ca-11ed-b994-0242ac110002-3-2970-9bbc-8308",
       "next": "a4380332-e8ca-11ed-b994-0242ac110002-2-08ee-a1c4",
       "previous": "a43801de-e8ca-11ed-b994-0242ac110002-2-b01f-be76"
      }
     ],
     "next": "a4380332-e8ca-11ed-b994-0242ac110002-3-08ee-a1c4-8148",
     "previous": "a43801de-e8ca-11ed-b994-0242ac110002-3-b01f-be76-4210"
    }
   },
   "source": [
    "UnitGroupに属する全てのVCノードとUnitGroupの削除を行います。"
   ]
  },
  {
   "cell_type": "code",
   "execution_count": null,
   "metadata": {
    "hidden": true,
    "lc_cell_meme": {
     "current": "a4380332-e8ca-11ed-b994-0242ac110002-3-08ee-a1c4-8148",
     "history": [
      {
       "current": "a4380332-e8ca-11ed-b994-0242ac110002-1-08ee",
       "next": "a43803dc-e8ca-11ed-b994-0242ac110002",
       "previous": "a4380274-e8ca-11ed-b994-0242ac110002"
      },
      {
       "current": "a4380332-e8ca-11ed-b994-0242ac110002-2-08ee-a1c4",
       "next": "a43803dc-e8ca-11ed-b994-0242ac110002-1-3c47",
       "previous": "a4380274-e8ca-11ed-b994-0242ac110002-1-2970"
      },
      {
       "current": "a4380332-e8ca-11ed-b994-0242ac110002-3-08ee-a1c4-8148",
       "next": "a43803dc-e8ca-11ed-b994-0242ac110002-2-3c47-8b7a",
       "previous": "a4380274-e8ca-11ed-b994-0242ac110002-2-2970-9bbc"
      }
     ],
     "next": "a43803dc-e8ca-11ed-b994-0242ac110002-3-3c47-8b7a-b68d",
     "previous": "a4380274-e8ca-11ed-b994-0242ac110002-3-2970-9bbc-8308"
    },
    "lc_wrapper": {
     "log_history": [
      "/notebooks/notebook/work_terayama/yjupyterhub/work/.log/20230623/20230623-153611-0066.log",
      "/notebooks/notebook/work_terayama/yjupyterhub/work/.log/20230629/20230629-113816-0430.log",
      "/notebooks/notebook/work_terayama/yjupyterhub/work/.log/20230630/20230630-183556-0033.log",
      "/notebooks/notebook/work_terayama/yjupyterhub/work/.log/20230630/20230630-204458-0748.log",
      "/notebooks/notebook/work_terayama/yjupyterhub/work/.log/20230707/20230707-145456-0477.log",
      "/notebooks/notebook/work_terayama/yjupyterhub/work/.log/20230707/20230707-152638-0567.log",
      "/notebooks/notebook/work_terayama/yjupyterhub/work/.log/20230707/20230707-160406-0708.log",
      "/notebooks/notebook/work_terayama/yjupyterhub/work/.log/20230707/20230707-163551-0566.log",
      "/notebooks/notebook/work_terayama/yjupyterhub/work/.log/20230707/20230707-171825-0737.log",
      "/notebooks/notebook/work_terayama/yjupyterhub/work/.log/20230707/20230707-195001-0839.log",
      "/notebooks/notebook/work_terayama/yjupyterhub/work/.log/20230707/20230707-201744-0670.log",
      "/notebooks/notebook/work_terayama/yjupyterhub/work/.log/20230707/20230707-211115-0581.log",
      "/notebooks/notebook/work_terayama/yjupyterhub/work/.log/20230710/20230710-134748-0273.log",
      "/notebooks/notebook/work_terayama/yjupyterhub/work/.log/20230712/20230712-114356-0818.log",
      "/notebooks/notebook/work_terayama/yjupyterhub/work/.log/20230712/20230712-125334-0041.log",
      "/notebooks/notebook/work_terayama/yjupyterhub/work/.log/20230712/20230712-152841-0108.log",
      "/notebooks/notebook/work_terayama/yjupyterhub/work/.log/20230712/20230712-161618-0024.log",
      "/notebooks/notebook/work_terayama/yjupyterhub/work/.log/20230712/20230712-180557-0122.log",
      "/notebooks/notebook/work_terayama/yjupyterhub/work/.log/20230719/20230719-124906-0318.log",
      "/notebooks/notebook/work_terayama/yjupyterhub/work/.log/20230719/20230719-133042-0528.log",
      "/notebooks/notebook/work_terayama/yjupyterhub/work/.log/20230719/20230719-134251-0281.log",
      "/notebooks/notebook/work_terayama/yjupyterhub/work/.log/20230719/20230719-141654-0839.log",
      "/notebooks/notebook/work_terayama/yjupyterhub/work/.log/20230719/20230719-145516-0339.log",
      "/notebooks/notebook/work_terayama/yjupyterhub/work/.log/20230720/20230720-111825-0659.log",
      "/notebooks/notebook/work_terayama/yjupyterhub/work/.log/20230726/20230726-130056-0197.log",
      "/notebooks/notebook/work_terayama/yjupyterhub/work/.log/20230726/20230726-143542-0907.log",
      "/notebooks/notebook/work_terayama/yjupyterhub/work/.log/20230726/20230726-160745-0525.log",
      "/notebooks/notebook/work_terayama/yjupyterhub/work/.log/20230726/20230726-163242-0488.log",
      "/notebooks/notebook/work_terayama/yjupyterhub/work/.log/20230726/20230726-173031-0668.log",
      "/notebooks/notebook/work_terayama/yjupyterhub/work/.log/20230726/20230726-180716-0399.log",
      "/notebooks/notebook/work_terayama/yjupyterhub/work/.log/20230726/20230726-184831-0482.log",
      "/notebooks/notebook/work_terayama/yjupyterhub/work/.log/20230726/20230726-192053-0829.log",
      "/notebooks/notebook/work_terayama/yjupyterhub/work/.log/20230726/20230726-193930-0805.log",
      "/notebooks/notebook/work_terayama/yjupyterhub/work/.log/20230726/20230726-205850-0219.log",
      "/notebooks/notebook/work_terayama/yjupyterhub/work/.log/20230726/20230726-212303-0773.log",
      "/notebooks/notebook/work_terayama/yjupyterhub/work/.log/20230726/20230726-214300-0025.log",
      "/notebooks/notebook/work_terayama/yjupyterhub/work/.log/20230726/20230726-220422-0313.log",
      "/notebooks/notebook/work_terayama/yjupyterhub/work/.log/20230726/20230726-224248-0697.log",
      "/notebooks/notebook/work_terayama/yjupyterhub/work/.log/20230726/20230726-231419-0688.log",
      "/notebooks/notebook/work_terayama/yjupyterhub/work/.log/20230726/20230726-233806-0144.log",
      "/notebooks/notebook/work_terayama/yjupyterhub/work/.log/20230727/20230727-001008-0530.log",
      "/notebooks/notebook/work_terayama/yjupyterhub/work/.log/20230727/20230727-003340-0519.log",
      "/notebooks/notebook/work_terayama/yjupyterhub/work/.log/20230727/20230727-012007-0109.log",
      "/notebooks/notebook/work_terayama/yjupyterhub/work/.log/20230727/20230727-121521-0556.log",
      "/notebooks/notebook/work_terayama/yjupyterhub/work/.log/20230727/20230727-130012-0871.log",
      "/notebooks/notebook/work_terayama/yjupyterhub/work/.log/20230727/20230727-134746-0699.log",
      "/notebooks/notebook/work_terayama/yjupyterhub/work/.log/20230801/20230801-145706-0418.log"
     ]
    }
   },
   "outputs": [],
   "source": [
    "ugroup.cleanup()"
   ]
  },
  {
   "cell_type": "markdown",
   "metadata": {
    "hidden": true,
    "lc_cell_meme": {
     "current": "a43803dc-e8ca-11ed-b994-0242ac110002-3-3c47-8b7a-b68d",
     "history": [
      {
       "current": "a43803dc-e8ca-11ed-b994-0242ac110002-1-3c47",
       "next": "a4380468-e8ca-11ed-b994-0242ac110002",
       "previous": "a4380332-e8ca-11ed-b994-0242ac110002"
      },
      {
       "current": "a43803dc-e8ca-11ed-b994-0242ac110002-2-3c47-8b7a",
       "next": "a4380468-e8ca-11ed-b994-0242ac110002-1-c7e6",
       "previous": "a4380332-e8ca-11ed-b994-0242ac110002-1-08ee"
      },
      {
       "current": "a43803dc-e8ca-11ed-b994-0242ac110002-3-3c47-8b7a-b68d",
       "next": "a4380468-e8ca-11ed-b994-0242ac110002-2-c7e6-f37b",
       "previous": "a4380332-e8ca-11ed-b994-0242ac110002-2-08ee-a1c4"
      }
     ],
     "next": "a4380468-e8ca-11ed-b994-0242ac110002-3-c7e6-f37b-076a",
     "previous": "a4380332-e8ca-11ed-b994-0242ac110002-3-08ee-a1c4-8148"
    }
   },
   "source": [
    "削除後の UnitGroupの一覧を確認します。"
   ]
  },
  {
   "cell_type": "code",
   "execution_count": null,
   "metadata": {
    "hidden": true,
    "lc_cell_meme": {
     "current": "a4380468-e8ca-11ed-b994-0242ac110002-3-c7e6-f37b-076a",
     "history": [
      {
       "current": "a4380468-e8ca-11ed-b994-0242ac110002-1-c7e6",
       "next": "a43804f4-e8ca-11ed-b994-0242ac110002",
       "previous": "a43803dc-e8ca-11ed-b994-0242ac110002"
      },
      {
       "current": "a4380468-e8ca-11ed-b994-0242ac110002-2-c7e6-f37b",
       "next": "a43804f4-e8ca-11ed-b994-0242ac110002-1-2016",
       "previous": "a43803dc-e8ca-11ed-b994-0242ac110002-1-3c47"
      },
      {
       "current": "a4380468-e8ca-11ed-b994-0242ac110002-3-c7e6-f37b-076a",
       "next": "a43804f4-e8ca-11ed-b994-0242ac110002-2-2016-1fe2",
       "previous": "a43803dc-e8ca-11ed-b994-0242ac110002-2-3c47-8b7a"
      }
     ],
     "next": "a43804f4-e8ca-11ed-b994-0242ac110002-3-2016-1fe2-3ead",
     "previous": "a43803dc-e8ca-11ed-b994-0242ac110002-3-3c47-8b7a-b68d"
    },
    "lc_wrapper": {
     "log_history": [
      "/notebooks/notebook/work_terayama/yjupyterhub/work/.log/20230623/20230623-153650-0858.log",
      "/notebooks/notebook/work_terayama/yjupyterhub/work/.log/20230629/20230629-113856-0104.log",
      "/notebooks/notebook/work_terayama/yjupyterhub/work/.log/20230630/20230630-183636-0072.log",
      "/notebooks/notebook/work_terayama/yjupyterhub/work/.log/20230630/20230630-204538-0492.log",
      "/notebooks/notebook/work_terayama/yjupyterhub/work/.log/20230707/20230707-145536-0151.log",
      "/notebooks/notebook/work_terayama/yjupyterhub/work/.log/20230707/20230707-152718-0144.log",
      "/notebooks/notebook/work_terayama/yjupyterhub/work/.log/20230707/20230707-160446-0309.log",
      "/notebooks/notebook/work_terayama/yjupyterhub/work/.log/20230707/20230707-163631-0438.log",
      "/notebooks/notebook/work_terayama/yjupyterhub/work/.log/20230707/20230707-171905-0456.log",
      "/notebooks/notebook/work_terayama/yjupyterhub/work/.log/20230707/20230707-195041-0659.log",
      "/notebooks/notebook/work_terayama/yjupyterhub/work/.log/20230707/20230707-201824-0649.log",
      "/notebooks/notebook/work_terayama/yjupyterhub/work/.log/20230707/20230707-211155-0167.log",
      "/notebooks/notebook/work_terayama/yjupyterhub/work/.log/20230710/20230710-134808-0333.log",
      "/notebooks/notebook/work_terayama/yjupyterhub/work/.log/20230712/20230712-114436-0611.log",
      "/notebooks/notebook/work_terayama/yjupyterhub/work/.log/20230712/20230712-125413-0719.log",
      "/notebooks/notebook/work_terayama/yjupyterhub/work/.log/20230712/20230712-152920-0800.log",
      "/notebooks/notebook/work_terayama/yjupyterhub/work/.log/20230712/20230712-161657-0853.log",
      "/notebooks/notebook/work_terayama/yjupyterhub/work/.log/20230712/20230712-180636-0914.log",
      "/notebooks/notebook/work_terayama/yjupyterhub/work/.log/20230719/20230719-124946-0164.log",
      "/notebooks/notebook/work_terayama/yjupyterhub/work/.log/20230719/20230719-133102-0571.log",
      "/notebooks/notebook/work_terayama/yjupyterhub/work/.log/20230719/20230719-134311-0637.log",
      "/notebooks/notebook/work_terayama/yjupyterhub/work/.log/20230719/20230719-141715-0055.log",
      "/notebooks/notebook/work_terayama/yjupyterhub/work/.log/20230719/20230719-145556-0003.log",
      "/notebooks/notebook/work_terayama/yjupyterhub/work/.log/20230720/20230720-111905-0542.log",
      "/notebooks/notebook/work_terayama/yjupyterhub/work/.log/20230726/20230726-130135-0873.log",
      "/notebooks/notebook/work_terayama/yjupyterhub/work/.log/20230726/20230726-143603-0016.log",
      "/notebooks/notebook/work_terayama/yjupyterhub/work/.log/20230726/20230726-160825-0177.log",
      "/notebooks/notebook/work_terayama/yjupyterhub/work/.log/20230726/20230726-163302-0549.log",
      "/notebooks/notebook/work_terayama/yjupyterhub/work/.log/20230726/20230726-173111-0345.log",
      "/notebooks/notebook/work_terayama/yjupyterhub/work/.log/20230726/20230726-180756-0447.log",
      "/notebooks/notebook/work_terayama/yjupyterhub/work/.log/20230726/20230726-184911-0691.log",
      "/notebooks/notebook/work_terayama/yjupyterhub/work/.log/20230726/20230726-192133-0682.log",
      "/notebooks/notebook/work_terayama/yjupyterhub/work/.log/20230726/20230726-193950-0925.log",
      "/notebooks/notebook/work_terayama/yjupyterhub/work/.log/20230726/20230726-205910-0462.log",
      "/notebooks/notebook/work_terayama/yjupyterhub/work/.log/20230726/20230726-212323-0805.log",
      "/notebooks/notebook/work_terayama/yjupyterhub/work/.log/20230726/20230726-214320-0168.log",
      "/notebooks/notebook/work_terayama/yjupyterhub/work/.log/20230726/20230726-220442-0475.log",
      "/notebooks/notebook/work_terayama/yjupyterhub/work/.log/20230726/20230726-224308-0725.log",
      "/notebooks/notebook/work_terayama/yjupyterhub/work/.log/20230726/20230726-231439-0799.log",
      "/notebooks/notebook/work_terayama/yjupyterhub/work/.log/20230726/20230726-233826-0299.log",
      "/notebooks/notebook/work_terayama/yjupyterhub/work/.log/20230727/20230727-001048-0384.log",
      "/notebooks/notebook/work_terayama/yjupyterhub/work/.log/20230727/20230727-003420-0736.log",
      "/notebooks/notebook/work_terayama/yjupyterhub/work/.log/20230727/20230727-012046-0826.log",
      "/notebooks/notebook/work_terayama/yjupyterhub/work/.log/20230727/20230727-121541-0645.log",
      "/notebooks/notebook/work_terayama/yjupyterhub/work/.log/20230727/20230727-130052-0729.log",
      "/notebooks/notebook/work_terayama/yjupyterhub/work/.log/20230727/20230727-134826-0535.log",
      "/notebooks/notebook/work_terayama/yjupyterhub/work/.log/20230801/20230801-145746-0798.log"
     ]
    }
   },
   "outputs": [],
   "source": [
    "vcp.df_ugroups()"
   ]
  },
  {
   "cell_type": "markdown",
   "metadata": {
    "heading_collapsed": true,
    "hidden": true,
    "lc_cell_meme": {
     "current": "a43804f4-e8ca-11ed-b994-0242ac110002-3-2016-1fe2-3ead",
     "history": [
      {
       "current": "a43804f4-e8ca-11ed-b994-0242ac110002-1-2016",
       "next": "a438058a-e8ca-11ed-b994-0242ac110002",
       "previous": "a4380468-e8ca-11ed-b994-0242ac110002"
      },
      {
       "current": "a43804f4-e8ca-11ed-b994-0242ac110002-2-2016-1fe2",
       "next": "a438058a-e8ca-11ed-b994-0242ac110002-1-ffef",
       "previous": "a4380468-e8ca-11ed-b994-0242ac110002-1-c7e6"
      },
      {
       "current": "a43804f4-e8ca-11ed-b994-0242ac110002-3-2016-1fe2-3ead",
       "next": "a438058a-e8ca-11ed-b994-0242ac110002-2-ffef-469d",
       "previous": "a4380468-e8ca-11ed-b994-0242ac110002-2-c7e6-f37b"
      }
     ],
     "next": "a438058a-e8ca-11ed-b994-0242ac110002-3-ffef-469d-3084",
     "previous": "a4380468-e8ca-11ed-b994-0242ac110002-3-c7e6-f37b-076a"
    }
   },
   "source": [
    "### VCディスクの削除"
   ]
  },
  {
   "cell_type": "markdown",
   "metadata": {
    "hidden": true,
    "lc_cell_meme": {
     "current": "a438058a-e8ca-11ed-b994-0242ac110002-3-ffef-469d-3084",
     "history": [
      {
       "current": "a438058a-e8ca-11ed-b994-0242ac110002-1-ffef",
       "next": "a4380616-e8ca-11ed-b994-0242ac110002",
       "previous": "a43804f4-e8ca-11ed-b994-0242ac110002"
      },
      {
       "current": "a438058a-e8ca-11ed-b994-0242ac110002-2-ffef-469d",
       "next": "a4380616-e8ca-11ed-b994-0242ac110002-1-afa2",
       "previous": "a43804f4-e8ca-11ed-b994-0242ac110002-1-2016"
      },
      {
       "current": "a438058a-e8ca-11ed-b994-0242ac110002-3-ffef-469d-3084",
       "next": "a4380616-e8ca-11ed-b994-0242ac110002-2-afa2-b1b4",
       "previous": "a43804f4-e8ca-11ed-b994-0242ac110002-2-2016-1fe2"
      }
     ],
     "next": "a4380616-e8ca-11ed-b994-0242ac110002-3-afa2-b1b4-594f",
     "previous": "a43804f4-e8ca-11ed-b994-0242ac110002-3-2016-1fe2-3ead"
    }
   },
   "source": [
    "NFS用のVCディスクを削除します。\n",
    "\n",
    "> VCディスクを作成していない場合は、何もしません。"
   ]
  },
  {
   "cell_type": "markdown",
   "metadata": {
    "hidden": true,
    "lc_cell_meme": {
     "current": "a4380616-e8ca-11ed-b994-0242ac110002-3-afa2-b1b4-594f",
     "history": [
      {
       "current": "a4380616-e8ca-11ed-b994-0242ac110002-1-afa2",
       "next": "a43806ac-e8ca-11ed-b994-0242ac110002",
       "previous": "a438058a-e8ca-11ed-b994-0242ac110002"
      },
      {
       "current": "a4380616-e8ca-11ed-b994-0242ac110002-2-afa2-b1b4",
       "next": "a43806ac-e8ca-11ed-b994-0242ac110002-1-e06c",
       "previous": "a438058a-e8ca-11ed-b994-0242ac110002-1-ffef"
      },
      {
       "current": "a4380616-e8ca-11ed-b994-0242ac110002-3-afa2-b1b4-594f",
       "next": "a43806ac-e8ca-11ed-b994-0242ac110002-2-e06c-1539",
       "previous": "a438058a-e8ca-11ed-b994-0242ac110002-2-ffef-469d"
      }
     ],
     "next": "a43806ac-e8ca-11ed-b994-0242ac110002-3-e06c-1539-7e71",
     "previous": "a438058a-e8ca-11ed-b994-0242ac110002-3-ffef-469d-3084"
    }
   },
   "source": [
    "現在の状態を確認します。"
   ]
  },
  {
   "cell_type": "code",
   "execution_count": null,
   "metadata": {
    "hidden": true,
    "lc_cell_meme": {
     "current": "a43806ac-e8ca-11ed-b994-0242ac110002-3-e06c-1539-7e71",
     "history": [
      {
       "current": "a43806ac-e8ca-11ed-b994-0242ac110002-1-e06c",
       "next": "a4380738-e8ca-11ed-b994-0242ac110002",
       "previous": "a4380616-e8ca-11ed-b994-0242ac110002"
      },
      {
       "current": "a43806ac-e8ca-11ed-b994-0242ac110002-2-e06c-1539",
       "next": "a4380738-e8ca-11ed-b994-0242ac110002-1-d593",
       "previous": "a4380616-e8ca-11ed-b994-0242ac110002-1-afa2"
      },
      {
       "current": "a43806ac-e8ca-11ed-b994-0242ac110002-3-e06c-1539-7e71",
       "next": "a4380738-e8ca-11ed-b994-0242ac110002-2-d593-ea62",
       "previous": "a4380616-e8ca-11ed-b994-0242ac110002-2-afa2-b1b4"
      }
     ],
     "next": "a4380738-e8ca-11ed-b994-0242ac110002-3-d593-ea62-e1f2",
     "previous": "a4380616-e8ca-11ed-b994-0242ac110002-3-afa2-b1b4-594f"
    },
    "lc_wrapper": {
     "log_history": [
      "/notebooks/notebook/work_terayama/yjupyterhub/work/.log/20230623/20230623-153705-0439.log",
      "/notebooks/notebook/work_terayama/yjupyterhub/work/.log/20230629/20230629-113910-0805.log",
      "/notebooks/notebook/work_terayama/yjupyterhub/work/.log/20230630/20230630-183650-0701.log",
      "/notebooks/notebook/work_terayama/yjupyterhub/work/.log/20230630/20230630-204553-0573.log",
      "/notebooks/notebook/work_terayama/yjupyterhub/work/.log/20230707/20230707-145550-0701.log",
      "/notebooks/notebook/work_terayama/yjupyterhub/work/.log/20230707/20230707-152732-0718.log",
      "/notebooks/notebook/work_terayama/yjupyterhub/work/.log/20230707/20230707-160500-0964.log",
      "/notebooks/notebook/work_terayama/yjupyterhub/work/.log/20230707/20230707-163646-0115.log",
      "/notebooks/notebook/work_terayama/yjupyterhub/work/.log/20230707/20230707-171920-0159.log",
      "/notebooks/notebook/work_terayama/yjupyterhub/work/.log/20230707/20230707-195056-0140.log",
      "/notebooks/notebook/work_terayama/yjupyterhub/work/.log/20230707/20230707-201839-0109.log",
      "/notebooks/notebook/work_terayama/yjupyterhub/work/.log/20230707/20230707-211209-0766.log",
      "/notebooks/notebook/work_terayama/yjupyterhub/work/.log/20230710/20230710-134822-0973.log",
      "/notebooks/notebook/work_terayama/yjupyterhub/work/.log/20230712/20230712-114451-0336.log",
      "/notebooks/notebook/work_terayama/yjupyterhub/work/.log/20230712/20230712-125428-0363.log",
      "/notebooks/notebook/work_terayama/yjupyterhub/work/.log/20230712/20230712-152935-0415.log",
      "/notebooks/notebook/work_terayama/yjupyterhub/work/.log/20230712/20230712-161712-0329.log",
      "/notebooks/notebook/work_terayama/yjupyterhub/work/.log/20230712/20230712-180651-0595.log",
      "/notebooks/notebook/work_terayama/yjupyterhub/work/.log/20230719/20230719-125000-0752.log",
      "/notebooks/notebook/work_terayama/yjupyterhub/work/.log/20230719/20230719-133117-0247.log",
      "/notebooks/notebook/work_terayama/yjupyterhub/work/.log/20230719/20230719-134326-0188.log",
      "/notebooks/notebook/work_terayama/yjupyterhub/work/.log/20230719/20230719-141729-0522.log",
      "/notebooks/notebook/work_terayama/yjupyterhub/work/.log/20230719/20230719-145610-0629.log",
      "/notebooks/notebook/work_terayama/yjupyterhub/work/.log/20230720/20230720-111919-0969.log",
      "/notebooks/notebook/work_terayama/yjupyterhub/work/.log/20230726/20230726-130150-0324.log",
      "/notebooks/notebook/work_terayama/yjupyterhub/work/.log/20230726/20230726-143617-0856.log",
      "/notebooks/notebook/work_terayama/yjupyterhub/work/.log/20230726/20230726-160839-0643.log",
      "/notebooks/notebook/work_terayama/yjupyterhub/work/.log/20230726/20230726-163317-0001.log",
      "/notebooks/notebook/work_terayama/yjupyterhub/work/.log/20230726/20230726-173125-0754.log",
      "/notebooks/notebook/work_terayama/yjupyterhub/work/.log/20230726/20230726-180810-0896.log",
      "/notebooks/notebook/work_terayama/yjupyterhub/work/.log/20230726/20230726-184926-0172.log",
      "/notebooks/notebook/work_terayama/yjupyterhub/work/.log/20230726/20230726-192148-0085.log",
      "/notebooks/notebook/work_terayama/yjupyterhub/work/.log/20230726/20230726-194005-0524.log",
      "/notebooks/notebook/work_terayama/yjupyterhub/work/.log/20230726/20230726-205924-0898.log",
      "/notebooks/notebook/work_terayama/yjupyterhub/work/.log/20230726/20230726-212338-0480.log",
      "/notebooks/notebook/work_terayama/yjupyterhub/work/.log/20230726/20230726-214334-0718.log",
      "/notebooks/notebook/work_terayama/yjupyterhub/work/.log/20230726/20230726-220457-0002.log",
      "/notebooks/notebook/work_terayama/yjupyterhub/work/.log/20230726/20230726-224323-0266.log",
      "/notebooks/notebook/work_terayama/yjupyterhub/work/.log/20230726/20230726-231454-0228.log",
      "/notebooks/notebook/work_terayama/yjupyterhub/work/.log/20230726/20230726-233840-0876.log",
      "/notebooks/notebook/work_terayama/yjupyterhub/work/.log/20230727/20230727-001102-0913.log",
      "/notebooks/notebook/work_terayama/yjupyterhub/work/.log/20230727/20230727-003435-0168.log",
      "/notebooks/notebook/work_terayama/yjupyterhub/work/.log/20230727/20230727-012101-0316.log",
      "/notebooks/notebook/work_terayama/yjupyterhub/work/.log/20230727/20230727-121556-0303.log",
      "/notebooks/notebook/work_terayama/yjupyterhub/work/.log/20230727/20230727-130107-0354.log",
      "/notebooks/notebook/work_terayama/yjupyterhub/work/.log/20230727/20230727-134840-0916.log",
      "/notebooks/notebook/work_terayama/yjupyterhub/work/.log/20230801/20230801-145801-0329.log"
     ]
    }
   },
   "outputs": [],
   "source": [
    "from IPython.display import display\n",
    "ug_disk = vcp.get_ugroup(ugroup_name + '_disk')\n",
    "if ug_disk:\n",
    "    display(ug_disk.df_nodes())"
   ]
  },
  {
   "cell_type": "markdown",
   "metadata": {
    "hidden": true,
    "lc_cell_meme": {
     "current": "a4380738-e8ca-11ed-b994-0242ac110002-3-d593-ea62-e1f2",
     "history": [
      {
       "current": "a4380738-e8ca-11ed-b994-0242ac110002-1-d593",
       "next": "a43807c4-e8ca-11ed-b994-0242ac110002",
       "previous": "a43806ac-e8ca-11ed-b994-0242ac110002"
      },
      {
       "current": "a4380738-e8ca-11ed-b994-0242ac110002-2-d593-ea62",
       "next": "a43807c4-e8ca-11ed-b994-0242ac110002-1-364b",
       "previous": "a43806ac-e8ca-11ed-b994-0242ac110002-1-e06c"
      },
      {
       "current": "a4380738-e8ca-11ed-b994-0242ac110002-3-d593-ea62-e1f2",
       "next": "a43807c4-e8ca-11ed-b994-0242ac110002-2-364b-bbfa",
       "previous": "a43806ac-e8ca-11ed-b994-0242ac110002-2-e06c-1539"
      }
     ],
     "next": "a43807c4-e8ca-11ed-b994-0242ac110002-3-364b-bbfa-40e3",
     "previous": "a43806ac-e8ca-11ed-b994-0242ac110002-3-e06c-1539-7e71"
    }
   },
   "source": [
    "VCディスクを削除します。"
   ]
  },
  {
   "cell_type": "code",
   "execution_count": null,
   "metadata": {
    "hidden": true,
    "lc_cell_meme": {
     "current": "a43807c4-e8ca-11ed-b994-0242ac110002-3-364b-bbfa-40e3",
     "history": [
      {
       "current": "a43807c4-e8ca-11ed-b994-0242ac110002-1-364b",
       "next": "a4380850-e8ca-11ed-b994-0242ac110002",
       "previous": "a4380738-e8ca-11ed-b994-0242ac110002"
      },
      {
       "current": "a43807c4-e8ca-11ed-b994-0242ac110002-2-364b-bbfa",
       "next": "a4380850-e8ca-11ed-b994-0242ac110002-1-5cae",
       "previous": "a4380738-e8ca-11ed-b994-0242ac110002-1-d593"
      },
      {
       "current": "a43807c4-e8ca-11ed-b994-0242ac110002-3-364b-bbfa-40e3",
       "next": "a4380850-e8ca-11ed-b994-0242ac110002-2-5cae-f7c9",
       "previous": "a4380738-e8ca-11ed-b994-0242ac110002-2-d593-ea62"
      }
     ],
     "next": "a4380850-e8ca-11ed-b994-0242ac110002-3-5cae-f7c9-4595",
     "previous": "a4380738-e8ca-11ed-b994-0242ac110002-3-d593-ea62-e1f2"
    },
    "lc_wrapper": {
     "log_history": [
      "/notebooks/notebook/work_terayama/yjupyterhub/work/.log/20230623/20230623-153720-0487.log",
      "/notebooks/notebook/work_terayama/yjupyterhub/work/.log/20230629/20230629-113925-0975.log",
      "/notebooks/notebook/work_terayama/yjupyterhub/work/.log/20230630/20230630-183705-0708.log",
      "/notebooks/notebook/work_terayama/yjupyterhub/work/.log/20230630/20230630-204608-0681.log",
      "/notebooks/notebook/work_terayama/yjupyterhub/work/.log/20230707/20230707-145605-0685.log",
      "/notebooks/notebook/work_terayama/yjupyterhub/work/.log/20230707/20230707-152747-0797.log",
      "/notebooks/notebook/work_terayama/yjupyterhub/work/.log/20230707/20230707-160516-0127.log",
      "/notebooks/notebook/work_terayama/yjupyterhub/work/.log/20230707/20230707-163701-0397.log",
      "/notebooks/notebook/work_terayama/yjupyterhub/work/.log/20230707/20230707-171935-0661.log",
      "/notebooks/notebook/work_terayama/yjupyterhub/work/.log/20230707/20230707-195111-0114.log",
      "/notebooks/notebook/work_terayama/yjupyterhub/work/.log/20230707/20230707-201853-0884.log",
      "/notebooks/notebook/work_terayama/yjupyterhub/work/.log/20230707/20230707-211224-0923.log",
      "/notebooks/notebook/work_terayama/yjupyterhub/work/.log/20230710/20230710-134837-0682.log",
      "/notebooks/notebook/work_terayama/yjupyterhub/work/.log/20230712/20230712-114506-0334.log",
      "/notebooks/notebook/work_terayama/yjupyterhub/work/.log/20230712/20230712-125443-0588.log",
      "/notebooks/notebook/work_terayama/yjupyterhub/work/.log/20230712/20230712-152950-0586.log",
      "/notebooks/notebook/work_terayama/yjupyterhub/work/.log/20230712/20230712-161727-0165.log",
      "/notebooks/notebook/work_terayama/yjupyterhub/work/.log/20230712/20230712-180706-0514.log",
      "/notebooks/notebook/work_terayama/yjupyterhub/work/.log/20230719/20230719-125016-0078.log",
      "/notebooks/notebook/work_terayama/yjupyterhub/work/.log/20230719/20230719-133132-0405.log",
      "/notebooks/notebook/work_terayama/yjupyterhub/work/.log/20230719/20230719-134341-0212.log",
      "/notebooks/notebook/work_terayama/yjupyterhub/work/.log/20230719/20230719-141744-0364.log",
      "/notebooks/notebook/work_terayama/yjupyterhub/work/.log/20230719/20230719-145625-0440.log",
      "/notebooks/notebook/work_terayama/yjupyterhub/work/.log/20230720/20230720-111934-0948.log",
      "/notebooks/notebook/work_terayama/yjupyterhub/work/.log/20230726/20230726-130205-0319.log",
      "/notebooks/notebook/work_terayama/yjupyterhub/work/.log/20230726/20230726-143632-0704.log",
      "/notebooks/notebook/work_terayama/yjupyterhub/work/.log/20230726/20230726-160854-0866.log",
      "/notebooks/notebook/work_terayama/yjupyterhub/work/.log/20230726/20230726-163332-0227.log",
      "/notebooks/notebook/work_terayama/yjupyterhub/work/.log/20230726/20230726-173140-0954.log",
      "/notebooks/notebook/work_terayama/yjupyterhub/work/.log/20230726/20230726-180825-0768.log",
      "/notebooks/notebook/work_terayama/yjupyterhub/work/.log/20230726/20230726-184941-0188.log",
      "/notebooks/notebook/work_terayama/yjupyterhub/work/.log/20230726/20230726-192203-0203.log",
      "/notebooks/notebook/work_terayama/yjupyterhub/work/.log/20230726/20230726-194020-0638.log",
      "/notebooks/notebook/work_terayama/yjupyterhub/work/.log/20230726/20230726-205939-0688.log",
      "/notebooks/notebook/work_terayama/yjupyterhub/work/.log/20230726/20230726-212353-0499.log",
      "/notebooks/notebook/work_terayama/yjupyterhub/work/.log/20230726/20230726-214349-0763.log",
      "/notebooks/notebook/work_terayama/yjupyterhub/work/.log/20230726/20230726-220512-0046.log",
      "/notebooks/notebook/work_terayama/yjupyterhub/work/.log/20230726/20230726-224338-0603.log",
      "/notebooks/notebook/work_terayama/yjupyterhub/work/.log/20230726/20230726-231509-0368.log",
      "/notebooks/notebook/work_terayama/yjupyterhub/work/.log/20230726/20230726-233855-0737.log",
      "/notebooks/notebook/work_terayama/yjupyterhub/work/.log/20230727/20230727-001117-0917.log",
      "/notebooks/notebook/work_terayama/yjupyterhub/work/.log/20230727/20230727-003450-0337.log",
      "/notebooks/notebook/work_terayama/yjupyterhub/work/.log/20230727/20230727-012116-0293.log",
      "/notebooks/notebook/work_terayama/yjupyterhub/work/.log/20230727/20230727-121611-0388.log",
      "/notebooks/notebook/work_terayama/yjupyterhub/work/.log/20230727/20230727-130122-0385.log",
      "/notebooks/notebook/work_terayama/yjupyterhub/work/.log/20230727/20230727-134856-0325.log",
      "/notebooks/notebook/work_terayama/yjupyterhub/work/.log/20230801/20230801-145816-0502.log"
     ]
    }
   },
   "outputs": [],
   "source": [
    "if ug_disk:\n",
    "    ug_disk.cleanup()"
   ]
  },
  {
   "cell_type": "markdown",
   "metadata": {
    "hidden": true,
    "lc_cell_meme": {
     "current": "a4380850-e8ca-11ed-b994-0242ac110002-3-5cae-f7c9-4595",
     "history": [
      {
       "current": "a4380850-e8ca-11ed-b994-0242ac110002-1-5cae",
       "next": "a43808e6-e8ca-11ed-b994-0242ac110002",
       "previous": "a43807c4-e8ca-11ed-b994-0242ac110002"
      },
      {
       "current": "a4380850-e8ca-11ed-b994-0242ac110002-2-5cae-f7c9",
       "next": "a43808e6-e8ca-11ed-b994-0242ac110002-1-d8d1",
       "previous": "a43807c4-e8ca-11ed-b994-0242ac110002-1-364b"
      },
      {
       "current": "a4380850-e8ca-11ed-b994-0242ac110002-3-5cae-f7c9-4595",
       "next": "a43808e6-e8ca-11ed-b994-0242ac110002-2-d8d1-3cee",
       "previous": "a43807c4-e8ca-11ed-b994-0242ac110002-2-364b-bbfa"
      }
     ],
     "next": "a43808e6-e8ca-11ed-b994-0242ac110002-3-d8d1-3cee-cc4d",
     "previous": "a43807c4-e8ca-11ed-b994-0242ac110002-3-364b-bbfa-40e3"
    }
   },
   "source": [
    "削除後のUnitGroupの一覧を確認します。"
   ]
  },
  {
   "cell_type": "code",
   "execution_count": null,
   "metadata": {
    "hidden": true,
    "lc_cell_meme": {
     "current": "a43808e6-e8ca-11ed-b994-0242ac110002-3-d8d1-3cee-cc4d",
     "history": [
      {
       "current": "a43808e6-e8ca-11ed-b994-0242ac110002-1-d8d1",
       "next": "a438097c-e8ca-11ed-b994-0242ac110002",
       "previous": "a4380850-e8ca-11ed-b994-0242ac110002"
      },
      {
       "current": "a43808e6-e8ca-11ed-b994-0242ac110002-2-d8d1-3cee",
       "next": "a438097c-e8ca-11ed-b994-0242ac110002-1-68fc",
       "previous": "a4380850-e8ca-11ed-b994-0242ac110002-1-5cae"
      },
      {
       "current": "a43808e6-e8ca-11ed-b994-0242ac110002-3-d8d1-3cee-cc4d",
       "next": "a438097c-e8ca-11ed-b994-0242ac110002-2-68fc-a162",
       "previous": "a4380850-e8ca-11ed-b994-0242ac110002-2-5cae-f7c9"
      }
     ],
     "next": "a4380bac-e8ca-11ed-b994-0242ac110002-3-01fa-2e2f-202a",
     "previous": "a4380850-e8ca-11ed-b994-0242ac110002-3-5cae-f7c9-4595"
    },
    "lc_wrapper": {
     "log_history": [
      "/notebooks/notebook/work_terayama/yjupyterhub/work/.log/20230623/20230623-153751-0134.log",
      "/notebooks/notebook/work_terayama/yjupyterhub/work/.log/20230629/20230629-113956-0616.log",
      "/notebooks/notebook/work_terayama/yjupyterhub/work/.log/20230630/20230630-183736-0331.log",
      "/notebooks/notebook/work_terayama/yjupyterhub/work/.log/20230630/20230630-204639-0266.log",
      "/notebooks/notebook/work_terayama/yjupyterhub/work/.log/20230707/20230707-145636-0306.log",
      "/notebooks/notebook/work_terayama/yjupyterhub/work/.log/20230707/20230707-152818-0403.log",
      "/notebooks/notebook/work_terayama/yjupyterhub/work/.log/20230707/20230707-160546-0713.log",
      "/notebooks/notebook/work_terayama/yjupyterhub/work/.log/20230707/20230707-163731-0980.log",
      "/notebooks/notebook/work_terayama/yjupyterhub/work/.log/20230707/20230707-172006-0251.log",
      "/notebooks/notebook/work_terayama/yjupyterhub/work/.log/20230707/20230707-195141-0699.log",
      "/notebooks/notebook/work_terayama/yjupyterhub/work/.log/20230707/20230707-201924-0468.log",
      "/notebooks/notebook/work_terayama/yjupyterhub/work/.log/20230707/20230707-211255-0517.log",
      "/notebooks/notebook/work_terayama/yjupyterhub/work/.log/20230710/20230710-134908-0299.log",
      "/notebooks/notebook/work_terayama/yjupyterhub/work/.log/20230712/20230712-114536-0915.log",
      "/notebooks/notebook/work_terayama/yjupyterhub/work/.log/20230712/20230712-125514-0180.log",
      "/notebooks/notebook/work_terayama/yjupyterhub/work/.log/20230712/20230712-153021-0170.log",
      "/notebooks/notebook/work_terayama/yjupyterhub/work/.log/20230712/20230712-161757-0765.log",
      "/notebooks/notebook/work_terayama/yjupyterhub/work/.log/20230712/20230712-180737-0116.log",
      "/notebooks/notebook/work_terayama/yjupyterhub/work/.log/20230719/20230719-125046-0706.log",
      "/notebooks/notebook/work_terayama/yjupyterhub/work/.log/20230719/20230719-133203-0051.log",
      "/notebooks/notebook/work_terayama/yjupyterhub/work/.log/20230719/20230719-134341-0224.log",
      "/notebooks/notebook/work_terayama/yjupyterhub/work/.log/20230719/20230719-141744-0376.log",
      "/notebooks/notebook/work_terayama/yjupyterhub/work/.log/20230719/20230719-145625-0451.log",
      "/notebooks/notebook/work_terayama/yjupyterhub/work/.log/20230720/20230720-112005-0579.log",
      "/notebooks/notebook/work_terayama/yjupyterhub/work/.log/20230726/20230726-130235-0923.log",
      "/notebooks/notebook/work_terayama/yjupyterhub/work/.log/20230726/20230726-143703-0323.log",
      "/notebooks/notebook/work_terayama/yjupyterhub/work/.log/20230726/20230726-160925-0462.log",
      "/notebooks/notebook/work_terayama/yjupyterhub/work/.log/20230726/20230726-163402-0862.log",
      "/notebooks/notebook/work_terayama/yjupyterhub/work/.log/20230726/20230726-173211-0590.log",
      "/notebooks/notebook/work_terayama/yjupyterhub/work/.log/20230726/20230726-180856-0387.log",
      "/notebooks/notebook/work_terayama/yjupyterhub/work/.log/20230726/20230726-185011-0805.log",
      "/notebooks/notebook/work_terayama/yjupyterhub/work/.log/20230726/20230726-192233-0809.log",
      "/notebooks/notebook/work_terayama/yjupyterhub/work/.log/20230726/20230726-194051-0247.log",
      "/notebooks/notebook/work_terayama/yjupyterhub/work/.log/20230726/20230726-210010-0299.log",
      "/notebooks/notebook/work_terayama/yjupyterhub/work/.log/20230726/20230726-212424-0116.log",
      "/notebooks/notebook/work_terayama/yjupyterhub/work/.log/20230726/20230726-214420-0365.log",
      "/notebooks/notebook/work_terayama/yjupyterhub/work/.log/20230726/20230726-220542-0627.log",
      "/notebooks/notebook/work_terayama/yjupyterhub/work/.log/20230726/20230726-224409-0220.log",
      "/notebooks/notebook/work_terayama/yjupyterhub/work/.log/20230726/20230726-231540-0009.log",
      "/notebooks/notebook/work_terayama/yjupyterhub/work/.log/20230726/20230726-233926-0392.log",
      "/notebooks/notebook/work_terayama/yjupyterhub/work/.log/20230727/20230727-001148-0543.log",
      "/notebooks/notebook/work_terayama/yjupyterhub/work/.log/20230727/20230727-003520-0933.log",
      "/notebooks/notebook/work_terayama/yjupyterhub/work/.log/20230727/20230727-012146-0863.log",
      "/notebooks/notebook/work_terayama/yjupyterhub/work/.log/20230727/20230727-121641-0987.log",
      "/notebooks/notebook/work_terayama/yjupyterhub/work/.log/20230727/20230727-130152-0966.log",
      "/notebooks/notebook/work_terayama/yjupyterhub/work/.log/20230727/20230727-134926-0931.log",
      "/notebooks/notebook/work_terayama/yjupyterhub/work/.log/20230801/20230801-145847-0113.log"
     ]
    }
   },
   "outputs": [],
   "source": [
    "vcp.df_ugroups()"
   ]
  },
  {
   "cell_type": "markdown",
   "metadata": {
    "heading_collapsed": true,
    "lc_cell_meme": {
     "current": "a4380bac-e8ca-11ed-b994-0242ac110002-3-01fa-2e2f-202a",
     "history": [
      {
       "current": "a4380bac-e8ca-11ed-b994-0242ac110002-1-01fa",
       "next": "a4380c2e-e8ca-11ed-b994-0242ac110002",
       "previous": "a4380b20-e8ca-11ed-b994-0242ac110002"
      },
      {
       "current": "a4380bac-e8ca-11ed-b994-0242ac110002-2-01fa-2e2f",
       "next": "a4380c2e-e8ca-11ed-b994-0242ac110002-1-f9ef",
       "previous": "a4380b20-e8ca-11ed-b994-0242ac110002-1-9d70"
      },
      {
       "current": "a4380bac-e8ca-11ed-b994-0242ac110002-3-01fa-2e2f-202a",
       "next": "a4380c2e-e8ca-11ed-b994-0242ac110002-2-f9ef-9fe7",
       "previous": "a4380b20-e8ca-11ed-b994-0242ac110002-2-9d70-55f8"
      }
     ],
     "next": "a4380c2e-e8ca-11ed-b994-0242ac110002-3-f9ef-9fe7-6b56",
     "previous": "a43808e6-e8ca-11ed-b994-0242ac110002-3-d8d1-3cee-cc4d"
    }
   },
   "source": [
    "## Ansible設定のクリア\n",
    "\n",
    "削除した環境に対応するAnsibleの設定をクリアします。"
   ]
  },
  {
   "cell_type": "markdown",
   "metadata": {
    "hidden": true,
    "lc_cell_meme": {
     "current": "a4380c2e-e8ca-11ed-b994-0242ac110002-3-f9ef-9fe7-6b56",
     "history": [
      {
       "current": "a4380c2e-e8ca-11ed-b994-0242ac110002-1-f9ef",
       "next": "a4380cba-e8ca-11ed-b994-0242ac110002",
       "previous": "a4380bac-e8ca-11ed-b994-0242ac110002"
      },
      {
       "current": "a4380c2e-e8ca-11ed-b994-0242ac110002-2-f9ef-9fe7",
       "next": "a4380cba-e8ca-11ed-b994-0242ac110002-1-e631",
       "previous": "a4380bac-e8ca-11ed-b994-0242ac110002-1-01fa"
      },
      {
       "current": "a4380c2e-e8ca-11ed-b994-0242ac110002-3-f9ef-9fe7-6b56",
       "next": "a4380cba-e8ca-11ed-b994-0242ac110002-2-e631-deb4",
       "previous": "a4380bac-e8ca-11ed-b994-0242ac110002-2-01fa-2e2f"
      }
     ],
     "next": "a4380cba-e8ca-11ed-b994-0242ac110002-3-e631-deb4-426f",
     "previous": "a4380bac-e8ca-11ed-b994-0242ac110002-3-01fa-2e2f-202a"
    }
   },
   "source": [
    "### group_varsファイル\n",
    "\n",
    "group_varsファイルをリネームします。"
   ]
  },
  {
   "cell_type": "code",
   "execution_count": null,
   "metadata": {
    "hidden": true,
    "lc_cell_meme": {
     "current": "a4380cba-e8ca-11ed-b994-0242ac110002-3-e631-deb4-426f",
     "history": [
      {
       "current": "a4380cba-e8ca-11ed-b994-0242ac110002-1-e631",
       "next": "a4380d50-e8ca-11ed-b994-0242ac110002",
       "previous": "a4380c2e-e8ca-11ed-b994-0242ac110002"
      },
      {
       "current": "a4380cba-e8ca-11ed-b994-0242ac110002-2-e631-deb4",
       "next": "a4380d50-e8ca-11ed-b994-0242ac110002-1-e19b",
       "previous": "a4380c2e-e8ca-11ed-b994-0242ac110002-1-f9ef"
      },
      {
       "current": "a4380cba-e8ca-11ed-b994-0242ac110002-3-e631-deb4-426f",
       "next": "a4380d50-e8ca-11ed-b994-0242ac110002-2-e19b-362f",
       "previous": "a4380c2e-e8ca-11ed-b994-0242ac110002-2-f9ef-9fe7"
      }
     ],
     "next": "a4380d50-e8ca-11ed-b994-0242ac110002-3-e19b-362f-6177",
     "previous": "a4380c2e-e8ca-11ed-b994-0242ac110002-3-f9ef-9fe7-6b56"
    },
    "lc_wrapper": {
     "log_history": [
      "/notebooks/notebook/work_terayama/yjupyterhub/work/.log/20230623/20230623-154000-0111.log",
      "/notebooks/notebook/work_terayama/yjupyterhub/work/.log/20230629/20230629-114536-0645.log",
      "/notebooks/notebook/work_terayama/yjupyterhub/work/.log/20230630/20230630-183800-0647.log",
      "/notebooks/notebook/work_terayama/yjupyterhub/work/.log/20230630/20230630-204812-0920.log",
      "/notebooks/notebook/work_terayama/yjupyterhub/work/.log/20230707/20230707-145901-0809.log",
      "/notebooks/notebook/work_terayama/yjupyterhub/work/.log/20230707/20230707-152847-0522.log",
      "/notebooks/notebook/work_terayama/yjupyterhub/work/.log/20230707/20230707-160604-0747.log",
      "/notebooks/notebook/work_terayama/yjupyterhub/work/.log/20230707/20230707-163836-0352.log",
      "/notebooks/notebook/work_terayama/yjupyterhub/work/.log/20230707/20230707-174550-0758.log",
      "/notebooks/notebook/work_terayama/yjupyterhub/work/.log/20230707/20230707-195238-0629.log",
      "/notebooks/notebook/work_terayama/yjupyterhub/work/.log/20230707/20230707-202007-0668.log",
      "/notebooks/notebook/work_terayama/yjupyterhub/work/.log/20230710/20230710-134928-0294.log",
      "/notebooks/notebook/work_terayama/yjupyterhub/work/.log/20230712/20230712-114557-0710.log",
      "/notebooks/notebook/work_terayama/yjupyterhub/work/.log/20230712/20230712-125601-0581.log",
      "/notebooks/notebook/work_terayama/yjupyterhub/work/.log/20230712/20230712-153039-0235.log",
      "/notebooks/notebook/work_terayama/yjupyterhub/work/.log/20230712/20230712-161827-0517.log",
      "/notebooks/notebook/work_terayama/yjupyterhub/work/.log/20230712/20230712-180754-0335.log",
      "/notebooks/notebook/work_terayama/yjupyterhub/work/.log/20230719/20230719-125138-0662.log",
      "/notebooks/notebook/work_terayama/yjupyterhub/work/.log/20230719/20230719-133235-0069.log",
      "/notebooks/notebook/work_terayama/yjupyterhub/work/.log/20230719/20230719-134359-0530.log",
      "/notebooks/notebook/work_terayama/yjupyterhub/work/.log/20230719/20230719-141821-0028.log",
      "/notebooks/notebook/work_terayama/yjupyterhub/work/.log/20230719/20230719-145701-0335.log",
      "/notebooks/notebook/work_terayama/yjupyterhub/work/.log/20230720/20230720-112343-0041.log",
      "/notebooks/notebook/work_terayama/yjupyterhub/work/.log/20230726/20230726-130302-0870.log",
      "/notebooks/notebook/work_terayama/yjupyterhub/work/.log/20230726/20230726-143732-0262.log",
      "/notebooks/notebook/work_terayama/yjupyterhub/work/.log/20230726/20230726-160943-0704.log",
      "/notebooks/notebook/work_terayama/yjupyterhub/work/.log/20230726/20230726-163448-0124.log",
      "/notebooks/notebook/work_terayama/yjupyterhub/work/.log/20230726/20230726-173301-0457.log",
      "/notebooks/notebook/work_terayama/yjupyterhub/work/.log/20230726/20230726-181305-0724.log",
      "/notebooks/notebook/work_terayama/yjupyterhub/work/.log/20230726/20230726-185031-0781.log",
      "/notebooks/notebook/work_terayama/yjupyterhub/work/.log/20230726/20230726-192346-0782.log",
      "/notebooks/notebook/work_terayama/yjupyterhub/work/.log/20230726/20230726-194229-0341.log",
      "/notebooks/notebook/work_terayama/yjupyterhub/work/.log/20230726/20230726-210039-0493.log",
      "/notebooks/notebook/work_terayama/yjupyterhub/work/.log/20230726/20230726-212746-0810.log",
      "/notebooks/notebook/work_terayama/yjupyterhub/work/.log/20230726/20230726-214447-0587.log",
      "/notebooks/notebook/work_terayama/yjupyterhub/work/.log/20230726/20230726-220613-0103.log",
      "/notebooks/notebook/work_terayama/yjupyterhub/work/.log/20230726/20230726-224436-0219.log",
      "/notebooks/notebook/work_terayama/yjupyterhub/work/.log/20230726/20230726-231630-0054.log",
      "/notebooks/notebook/work_terayama/yjupyterhub/work/.log/20230726/20230726-234100-0872.log",
      "/notebooks/notebook/work_terayama/yjupyterhub/work/.log/20230727/20230727-001212-0908.log",
      "/notebooks/notebook/work_terayama/yjupyterhub/work/.log/20230727/20230727-003544-0169.log",
      "/notebooks/notebook/work_terayama/yjupyterhub/work/.log/20230727/20230727-121751-0427.log",
      "/notebooks/notebook/work_terayama/yjupyterhub/work/.log/20230727/20230727-130700-0436.log",
      "/notebooks/notebook/work_terayama/yjupyterhub/work/.log/20230727/20230727-135257-0201.log",
      "/notebooks/notebook/work_terayama/yjupyterhub/work/.log/20230801/20230801-145918-0390.log"
     ]
    }
   },
   "outputs": [],
   "source": [
    "!mv group_vars/{ugroup_name} group_vars/.{ugroup_name}.bak"
   ]
  },
  {
   "cell_type": "markdown",
   "metadata": {
    "hidden": true,
    "lc_cell_meme": {
     "current": "a4380d50-e8ca-11ed-b994-0242ac110002-3-e19b-362f-6177",
     "history": [
      {
       "current": "a4380d50-e8ca-11ed-b994-0242ac110002-1-e19b",
       "next": "a4380ddc-e8ca-11ed-b994-0242ac110002",
       "previous": "a4380cba-e8ca-11ed-b994-0242ac110002"
      },
      {
       "current": "a4380d50-e8ca-11ed-b994-0242ac110002-2-e19b-362f",
       "next": "a4380ddc-e8ca-11ed-b994-0242ac110002-1-50cb",
       "previous": "a4380cba-e8ca-11ed-b994-0242ac110002-1-e631"
      },
      {
       "current": "a4380d50-e8ca-11ed-b994-0242ac110002-3-e19b-362f-6177",
       "next": "a4380ddc-e8ca-11ed-b994-0242ac110002-2-50cb-3d60",
       "previous": "a4380cba-e8ca-11ed-b994-0242ac110002-2-e631-deb4"
      }
     ],
     "next": "a4380ddc-e8ca-11ed-b994-0242ac110002-3-50cb-3d60-3dd4",
     "previous": "a4380cba-e8ca-11ed-b994-0242ac110002-3-e631-deb4-426f"
    }
   },
   "source": [
    "### インベントリ"
   ]
  },
  {
   "cell_type": "markdown",
   "metadata": {
    "hidden": true,
    "lc_cell_meme": {
     "current": "a4380ddc-e8ca-11ed-b994-0242ac110002-3-50cb-3d60-3dd4",
     "history": [
      {
       "current": "a4380ddc-e8ca-11ed-b994-0242ac110002-1-50cb",
       "next": "a4380e68-e8ca-11ed-b994-0242ac110002",
       "previous": "a4380d50-e8ca-11ed-b994-0242ac110002"
      },
      {
       "current": "a4380ddc-e8ca-11ed-b994-0242ac110002-2-50cb-3d60",
       "next": "a4380e68-e8ca-11ed-b994-0242ac110002-1-f82e",
       "previous": "a4380d50-e8ca-11ed-b994-0242ac110002-1-e19b"
      },
      {
       "current": "a4380ddc-e8ca-11ed-b994-0242ac110002-3-50cb-3d60-3dd4",
       "next": "a4380e68-e8ca-11ed-b994-0242ac110002-2-f82e-2eee",
       "previous": "a4380d50-e8ca-11ed-b994-0242ac110002-2-e19b-362f"
      }
     ],
     "next": "a4380e68-e8ca-11ed-b994-0242ac110002-3-f82e-2eee-408a",
     "previous": "a4380d50-e8ca-11ed-b994-0242ac110002-3-e19b-362f-6177"
    }
   },
   "source": [
    "インベントリから削除対象のグループを除去します。"
   ]
  },
  {
   "cell_type": "code",
   "execution_count": null,
   "metadata": {
    "hidden": true,
    "lc_cell_meme": {
     "current": "a4380e68-e8ca-11ed-b994-0242ac110002-3-f82e-2eee-408a",
     "history": [
      {
       "current": "a4380e68-e8ca-11ed-b994-0242ac110002-1-f82e",
       "next": null,
       "previous": "a4380ddc-e8ca-11ed-b994-0242ac110002"
      },
      {
       "current": "a4380e68-e8ca-11ed-b994-0242ac110002-2-f82e-2eee",
       "next": null,
       "previous": "a4380ddc-e8ca-11ed-b994-0242ac110002-1-50cb"
      },
      {
       "current": "a4380e68-e8ca-11ed-b994-0242ac110002-3-f82e-2eee-408a",
       "next": null,
       "previous": "a4380ddc-e8ca-11ed-b994-0242ac110002-2-50cb-3d60"
      }
     ],
     "next": null,
     "previous": "a4380ddc-e8ca-11ed-b994-0242ac110002-3-50cb-3d60-3dd4"
    },
    "lc_wrapper": {
     "log_history": [
      "/notebooks/notebook/work_terayama/yjupyterhub/work/.log/20230623/20230623-154000-0889.log",
      "/notebooks/notebook/work_terayama/yjupyterhub/work/.log/20230629/20230629-114537-0387.log",
      "/notebooks/notebook/work_terayama/yjupyterhub/work/.log/20230630/20230630-183801-0382.log",
      "/notebooks/notebook/work_terayama/yjupyterhub/work/.log/20230630/20230630-204813-0649.log",
      "/notebooks/notebook/work_terayama/yjupyterhub/work/.log/20230707/20230707-145902-0549.log",
      "/notebooks/notebook/work_terayama/yjupyterhub/work/.log/20230707/20230707-152848-0263.log",
      "/notebooks/notebook/work_terayama/yjupyterhub/work/.log/20230707/20230707-160605-0485.log",
      "/notebooks/notebook/work_terayama/yjupyterhub/work/.log/20230707/20230707-163837-0092.log",
      "/notebooks/notebook/work_terayama/yjupyterhub/work/.log/20230707/20230707-174551-0499.log",
      "/notebooks/notebook/work_terayama/yjupyterhub/work/.log/20230707/20230707-195239-0370.log",
      "/notebooks/notebook/work_terayama/yjupyterhub/work/.log/20230707/20230707-202008-0417.log",
      "/notebooks/notebook/work_terayama/yjupyterhub/work/.log/20230710/20230710-134929-0028.log",
      "/notebooks/notebook/work_terayama/yjupyterhub/work/.log/20230712/20230712-114558-0450.log",
      "/notebooks/notebook/work_terayama/yjupyterhub/work/.log/20230712/20230712-125602-0319.log",
      "/notebooks/notebook/work_terayama/yjupyterhub/work/.log/20230712/20230712-153039-0977.log",
      "/notebooks/notebook/work_terayama/yjupyterhub/work/.log/20230712/20230712-161828-0268.log",
      "/notebooks/notebook/work_terayama/yjupyterhub/work/.log/20230712/20230712-180755-0074.log",
      "/notebooks/notebook/work_terayama/yjupyterhub/work/.log/20230719/20230719-125139-0401.log",
      "/notebooks/notebook/work_terayama/yjupyterhub/work/.log/20230719/20230719-133235-0811.log",
      "/notebooks/notebook/work_terayama/yjupyterhub/work/.log/20230719/20230719-134400-0271.log",
      "/notebooks/notebook/work_terayama/yjupyterhub/work/.log/20230719/20230719-141821-0765.log",
      "/notebooks/notebook/work_terayama/yjupyterhub/work/.log/20230719/20230719-145702-0078.log",
      "/notebooks/notebook/work_terayama/yjupyterhub/work/.log/20230720/20230720-112343-0791.log",
      "/notebooks/notebook/work_terayama/yjupyterhub/work/.log/20230726/20230726-130303-0621.log",
      "/notebooks/notebook/work_terayama/yjupyterhub/work/.log/20230726/20230726-143733-0000.log",
      "/notebooks/notebook/work_terayama/yjupyterhub/work/.log/20230726/20230726-160944-0473.log",
      "/notebooks/notebook/work_terayama/yjupyterhub/work/.log/20230726/20230726-163448-0875.log",
      "/notebooks/notebook/work_terayama/yjupyterhub/work/.log/20230726/20230726-173302-0203.log",
      "/notebooks/notebook/work_terayama/yjupyterhub/work/.log/20230726/20230726-181306-0463.log",
      "/notebooks/notebook/work_terayama/yjupyterhub/work/.log/20230726/20230726-185032-0529.log",
      "/notebooks/notebook/work_terayama/yjupyterhub/work/.log/20230726/20230726-192347-0523.log",
      "/notebooks/notebook/work_terayama/yjupyterhub/work/.log/20230726/20230726-194230-0100.log",
      "/notebooks/notebook/work_terayama/yjupyterhub/work/.log/20230726/20230726-210040-0241.log",
      "/notebooks/notebook/work_terayama/yjupyterhub/work/.log/20230726/20230726-212747-0556.log",
      "/notebooks/notebook/work_terayama/yjupyterhub/work/.log/20230726/20230726-214448-0345.log",
      "/notebooks/notebook/work_terayama/yjupyterhub/work/.log/20230726/20230726-220613-0841.log",
      "/notebooks/notebook/work_terayama/yjupyterhub/work/.log/20230726/20230726-224436-0976.log",
      "/notebooks/notebook/work_terayama/yjupyterhub/work/.log/20230726/20230726-231630-0801.log",
      "/notebooks/notebook/work_terayama/yjupyterhub/work/.log/20230726/20230726-234101-0619.log",
      "/notebooks/notebook/work_terayama/yjupyterhub/work/.log/20230727/20230727-001213-0653.log",
      "/notebooks/notebook/work_terayama/yjupyterhub/work/.log/20230727/20230727-003544-0911.log",
      "/notebooks/notebook/work_terayama/yjupyterhub/work/.log/20230727/20230727-121752-0168.log",
      "/notebooks/notebook/work_terayama/yjupyterhub/work/.log/20230727/20230727-130701-0176.log",
      "/notebooks/notebook/work_terayama/yjupyterhub/work/.log/20230727/20230727-135257-0957.log",
      "/notebooks/notebook/work_terayama/yjupyterhub/work/.log/20230801/20230801-145919-0135.log"
     ]
    }
   },
   "outputs": [],
   "source": [
    " %run scripts/group.py\n",
    "remove_group_from_inventory_yml(ugroup_name)\n",
    "\n",
    "# 削除前との差分を表示します。\n",
    "! ! diff -u inventory.yml.bak inventory.yml"
   ]
  }
 ],
 "metadata": {
  "kernelspec": {
   "display_name": "Python 3",
   "language": "python",
   "name": "python3"
  },
  "language_info": {
   "file_extension": ".py",
   "mimetype": "text/x-python",
   "name": "python",
   "nbconvert_exporter": "python",
   "pygments_lexer": "ipython3",
   "version": "3.10.4"
  },
  "lc_notebook_meme": {
   "current": "a437f360-e8ca-11ed-b994-0242ac110002",
   "lc_server_signature": {
    "current": {
     "notebook_dir": "/notebooks/notebook",
     "notebook_path": "/work_terayama/yamaguchi-hub/notebooks",
     "server_url": "https://vcc1045.vcp-handson.org/jupyter3/",
     "signature_id": "3c8e5600-416c-11ee-819d-0242ac110002"
    },
    "history": [
     {
      "notebook_dir": "/notebooks/notebook",
      "notebook_path": "/work_terayama/Untitled Folder/ocs-templates/CoursewareHub/notebooks",
      "server_url": "http://vcc1045.vcp-handson.org/jupyter/",
      "signature_id": "d34ea786-a99f-11ec-a8e6-0242ac110002"
     },
     {
      "notebook_dir": "/notebooks/notebook",
      "notebook_path": "/work_terayama/yjupyterhub/work",
      "server_url": "https://vcc1045.vcp-handson.org/jupyter/",
      "signature_id": "d34ea786-a99f-11ec-a8e6-0242ac110002"
     },
     {
      "notebook_dir": "/notebooks/notebook",
      "notebook_path": "/work_terayama/YamaguchiHub/notebooks",
      "server_url": "https://vcc1045.vcp-handson.org/jupyter/",
      "signature_id": "d34ea786-a99f-11ec-a8e6-0242ac110002"
     }
    ]
   }
  },
  "toc": {
   "base_numbering": 1,
   "nav_menu": {},
   "number_sections": true,
   "sideBar": true,
   "skip_h1_title": true,
   "title_cell": "Table of Contents",
   "title_sidebar": "Contents",
   "toc_cell": false,
   "toc_position": {
    "height": "calc(100% - 180px)",
    "left": "10px",
    "top": "150px",
    "width": "333.2px"
   },
   "toc_section_display": true,
   "toc_window_display": true
  }
 },
 "nbformat": 4,
 "nbformat_minor": 2
}
