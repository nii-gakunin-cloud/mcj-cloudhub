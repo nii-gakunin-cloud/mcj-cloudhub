{
 "cells": [
  {
   "cell_type": "markdown",
   "id": "4426a099-8ebd-41d9-955f-878fb09c07ba",
   "metadata": {},
   "source": [
    "# mdx VMのデプロイとVCP既存サーバ (SSH) モード セットアップ\n",
    "\n",
    "このNotebookでは、mdx仮想マシンのデプロイと、VCノードとして利用するためのセットアップを行うための準備を行います。"
   ]
  },
  {
   "cell_type": "markdown",
   "id": "fa82410e-5d00-445d-8446-9de3d17cc1c5",
   "metadata": {},
   "source": [
    "## [mdx-rest-client-python](https://github.com/nii-gakunin-cloud/mdx-rest-client-python) のインストール\n",
    "初回のみ、パッケージのインストールを行います。    \n",
    "既にインストール済みの場合はスキップ可能です。"
   ]
  },
  {
   "cell_type": "code",
   "execution_count": null,
   "id": "ff5a7aae",
   "metadata": {},
   "outputs": [],
   "source": [
    "!pip install --user git+https://github.com/nii-gakunin-cloud/mdx-rest-client-python.git"
   ]
  },
  {
   "cell_type": "markdown",
   "id": "5b45427c",
   "metadata": {},
   "source": [
    "以下のセルを実行し、パッケージが利用可能であることを確認してください。  \n",
    "初回インストール時は、カーネルの再起動が必要な場合があります。  \n",
    "以下を実行してもパッケージが見つからない等のエラーになる場合は、画面上部のメニューからカーネルを再起動して、再度実行してください。  "
   ]
  },
  {
   "cell_type": "code",
   "execution_count": null,
   "id": "9440af29",
   "metadata": {},
   "outputs": [],
   "source": [
    "from mdx.mdx_ext import use_ipv4_only\n",
    "use_ipv4_only()"
   ]
  },
  {
   "cell_type": "markdown",
   "id": "00c73171",
   "metadata": {},
   "source": [
    "## VCノード用仮想マシンセットアップノートブックのダウンロード\n",
    "\n",
    "以下のセルを実行すると、ノートブックの作成とそのノートブックを開くためのリンク出力を行います。\n",
    "\n",
    "ダウンロードしたノートブックは、以下の規則に沿ったファイル名で現在のワークディレクトリに配置します。  \n",
    "\n",
    "```\n",
    "{date}_{i}_{fid}_{file_name}\n",
    "\n",
    "date: 実行日\n",
    "i: 実行する度+1したものを付与（同日中に同じファイルを作成した場合のファイル名重複回避）\n",
    "fid: 本ファイルのノートブック番号と同じものを付与\n",
    "file_name: github上のファイル名\n",
    "```\n"
   ]
  },
  {
   "cell_type": "code",
   "execution_count": null,
   "id": "8d415b11-627c-47e6-9efb-82cadecfd2af",
   "metadata": {},
   "outputs": [],
   "source": [
    "import datetime\n",
    "import os\n",
    "from pathlib import Path\n",
    "import requests\n",
    "from urllib.parse import urlparse\n",
    "\n",
    "from IPython.display import display, HTML\n",
    "\n",
    "today = datetime.datetime.now().strftime('%Y%m%d')\n",
    "fid = 941\n",
    "file_url = 'https://raw.githubusercontent.com/nii-gakunin-cloud/mdx-rest-client-python/refs/heads/main/examples/deploy_vm_for_vcnode.ipynb'\n",
    "file_name = Path(urlparse(file_url).path).name\n",
    "\n",
    "for i in range(1, 100):\n",
    "    fname = f'{today}_{i:02}_{fid}_{file_name}'\n",
    "    fpath = os.path.join(Path().resolve(), fname)\n",
    "    if not os.path.isfile(fname):\n",
    "        response = requests.get(file_url)\n",
    "        if response.status_code == 200:\n",
    "            with open(fname, 'wb') as f:\n",
    "                f.write(response.content)\n",
    "            print(f'File created: {fname}')\n",
    "        else:\n",
    "            print(f'error{response.status_code}: {response.text}')\n",
    "        break\n",
    "\n",
    "display(HTML(f'<a href=\"{fname}\" target=\"_blank\">ノートブックを別タブで開く</a>'))"
   ]
  }
 ],
 "metadata": {
  "kernelspec": {
   "display_name": "Python 3",
   "language": "python",
   "name": "python3"
  },
  "language_info": {
   "file_extension": ".py",
   "mimetype": "text/x-python",
   "name": "python",
   "nbconvert_exporter": "python",
   "pygments_lexer": "ipython3",
   "version": "3.10.11"
  },
  "toc": {
   "base_numbering": 1,
   "nav_menu": {},
   "number_sections": true,
   "sideBar": true,
   "skip_h1_title": false,
   "title_cell": "Table of Contents",
   "title_sidebar": "Contents",
   "toc_cell": false,
   "toc_position": {},
   "toc_section_display": true,
   "toc_window_display": false
  }
 },
 "nbformat": 4,
 "nbformat_minor": 5
}
