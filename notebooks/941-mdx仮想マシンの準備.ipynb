{
 "cells": [
  {
   "cell_type": "markdown",
   "id": "4426a099-8ebd-41d9-955f-878fb09c07ba",
   "metadata": {},
   "source": [
    "# mdx VMのデプロイとVCP既存サーバ (SSH) モード セットアップ\n",
    "\n",
    "このNotebookでは、mdx仮想マシンのデプロイと、VCノードとして利用するためのセットアップを行います。"
   ]
  },
  {
   "cell_type": "markdown",
   "id": "fa82410e-5d00-445d-8446-9de3d17cc1c5",
   "metadata": {},
   "source": [
    "## Notebook実行環境の準備\n",
    "\n",
    "1. このNotebookを実行するために必要なコマンドのパッケージをJupyter Notebookサーバに追加\n",
    "2. mdx REST API操作用の [mdx REST Client for Python](https://github.com/nii-gakunin-cloud/mdx-rest-client-python/) のインストール\n",
    "3. mdx VMにSSHログインするためのキーペア作成\n",
    "4. mdx のREST APIエンドポイントに接続できることの確認"
   ]
  },
  {
   "cell_type": "markdown",
   "id": "4a42febb-1ae9-49a4-af8a-6d221e0c4d8c",
   "metadata": {},
   "source": [
    "### mdx REST API操作ライブラリのインストール\n",
    "\n",
    "- [mdx REST Client for Python](https://github.com/nii-gakunin-cloud/mdx-rest-client-python/) "
   ]
  },
  {
   "cell_type": "code",
   "execution_count": null,
   "id": "8d415b11-627c-47e6-9efb-82cadecfd2af",
   "metadata": {},
   "outputs": [],
   "source": [
    "!git clone https://github.com/nii-gakunin-cloud/mdx-rest-client-python.git"
   ]
  },
  {
   "cell_type": "code",
   "execution_count": null,
   "id": "fdaa05a4-acfc-492f-af86-bade89be945c",
   "metadata": {},
   "outputs": [],
   "source": [
    "# mdx_{ext,lib}.py ファイルのパスを取得\n",
    "import os\n",
    "import sys\n",
    "mdx_lib_path = os.path.join(os.path.dirname(os.path.abspath('__file__')), './mdx-rest-client-python/src')\n",
    "\n",
    "# モジュール検索パスを追加\n",
    "sys.path.append(mdx_lib_path)\n",
    "\n",
    "from mdx_ext import MdxResourceExt"
   ]
  },
  {
   "cell_type": "markdown",
   "id": "9d5af0ca-60df-4928-913f-e9960818a140",
   "metadata": {
    "heading_collapsed": true
   },
   "source": [
    "### mdx VMにSSHログインするためのキーペア作成\n",
    "\n",
    "- mdx VMにSSHログインするためのキーペアを作成します。\n",
    "  - 公開鍵は、VMのデプロイパラメータとして使用"
   ]
  },
  {
   "cell_type": "code",
   "execution_count": null,
   "id": "64dc96c6-27e3-48de-ab3a-33e8ec4f3197",
   "metadata": {
    "hidden": true
   },
   "outputs": [],
   "source": [
    "ssh_private_key_path = '~/.ssh/id_rsa'\n",
    "ssh_public_key_path = f'{ssh_private_key_path}.pub'"
   ]
  },
  {
   "cell_type": "code",
   "execution_count": null,
   "id": "5eda96a9-6064-42e1-b0c3-7865d670a8f7",
   "metadata": {
    "hidden": true,
    "scrolled": true
   },
   "outputs": [],
   "source": [
    "!mkdir -p -m 700 $(dirname {ssh_private_key_path})\n",
    "!test -f {ssh_private_key_path} || ssh-keygen -t rsa -f {ssh_private_key_path} -N \"\""
   ]
  },
  {
   "cell_type": "markdown",
   "id": "a06ecb42-c05b-4190-9220-e28c8c05e90d",
   "metadata": {
    "heading_collapsed": true
   },
   "source": [
    "### mdx REST API エンドポイント接続確認\n",
    "\n",
    "- HTTPステータスコード 200 が返ることを確認します。"
   ]
  },
  {
   "cell_type": "code",
   "execution_count": null,
   "id": "d1e1720f-eff9-4c20-913c-768de652efbf",
   "metadata": {
    "hidden": true
   },
   "outputs": [],
   "source": [
    "# デフォルトのresolverがIPv6のアドレスを返すことにより以降のAPIで接続不可の場合があるため、以下のコードを実行しておく。\n",
    "def use_ipv4_only():\n",
    "    import socket\n",
    "    old_getaddrinfo = socket.getaddrinfo\n",
    "    def new_getaddrinfo(*args, **kwargs):\n",
    "        responses = old_getaddrinfo(*args, **kwargs)\n",
    "        return [response\n",
    "                for response in responses\n",
    "                if response[0] == socket.AF_INET]\n",
    "    socket.getaddrinfo = new_getaddrinfo\n",
    "\n",
    "use_ipv4_only()"
   ]
  },
  {
   "cell_type": "code",
   "execution_count": null,
   "id": "aeff8576-22f2-410d-a2f1-68be5b3fb3c0",
   "metadata": {
    "hidden": true
   },
   "outputs": [],
   "source": [
    "!curl https://oprpl.mdx.jp -w '%{http_code}\\n' -o /dev/null -s"
   ]
  },
  {
   "cell_type": "markdown",
   "id": "46751f4f-266b-4dbb-b7e1-f3d6c8533555",
   "metadata": {},
   "source": [
    "## mdxでのVMデプロイ準備\n",
    "\n",
    "1. mdx REST API 認証トークン設定\n",
    "2. mdxの対象プロジェクトの確認と設定\n",
    "3. mdxの対象ネットワークの確認と設定\n",
    "4. VMパラメータ設定"
   ]
  },
  {
   "cell_type": "markdown",
   "id": "c814d92a-cfc1-47bc-a8f4-f30f258191f4",
   "metadata": {},
   "source": [
    "### mdx REST API 認証トークンの設定"
   ]
  },
  {
   "cell_type": "code",
   "execution_count": null,
   "id": "1759c606-9d4f-44b6-95a8-081a7bb72ff7",
   "metadata": {},
   "outputs": [],
   "source": [
    "from getpass import getpass\n",
    "mdx_token = getpass()"
   ]
  },
  {
   "cell_type": "code",
   "execution_count": null,
   "id": "2606e85f-e585-4fa4-95c7-ed0f6d96dc2a",
   "metadata": {},
   "outputs": [],
   "source": [
    "mdx = MdxResourceExt(mdx_token)"
   ]
  },
  {
   "cell_type": "markdown",
   "id": "60ca8667-51c7-4db5-a65c-5d0c51d0df2d",
   "metadata": {},
   "source": [
    "### mdxの対象プロジェクトの確認と設定\n",
    "\n",
    "- 利用可能なmdxのプロジェクト情報を確認し、操作対象を設定します。"
   ]
  },
  {
   "cell_type": "code",
   "execution_count": null,
   "id": "daa87b88-967d-4f7b-88cb-81d3100b656f",
   "metadata": {
    "scrolled": true
   },
   "outputs": [],
   "source": [
    "import json\n",
    "projects = mdx.get_assigned_projects()\n",
    "for org in projects:\n",
    "    print(json.dumps(org[\"projects\"], indent=2, ensure_ascii=False))"
   ]
  },
  {
   "cell_type": "markdown",
   "id": "1646555f-ba58-4ec6-971a-be4be04d1c05",
   "metadata": {},
   "source": [
    "以降の操作対象とする「プロジェクト名 `name`」 を設定してください。"
   ]
  },
  {
   "cell_type": "code",
   "execution_count": null,
   "id": "20b89fd9-27c6-49bd-966a-e8b32e18d691",
   "metadata": {},
   "outputs": [],
   "source": [
    "mdx_project_name = "
   ]
  },
  {
   "cell_type": "code",
   "execution_count": null,
   "id": "79d36e4c-4c19-435d-92da-b3a1e376b09c",
   "metadata": {},
   "outputs": [],
   "source": [
    "mdx.set_current_project_by_name(mdx_project_name)"
   ]
  },
  {
   "cell_type": "markdown",
   "id": "42af9a84-8669-45c8-b3a7-816c8524174c",
   "metadata": {},
   "source": [
    "### mdxの対象ネットワークの確認と設定\n",
    "\n",
    "- プロジェクトで利用可能なネットワークセグメント情報を取得し、操作対象を設定します。"
   ]
  },
  {
   "cell_type": "code",
   "execution_count": null,
   "id": "88b0cbe0-4aed-4dd4-bff3-4e07cac9a04a",
   "metadata": {},
   "outputs": [],
   "source": [
    "segments = mdx.get_segments()\n",
    "print(json.dumps(segments, indent=2, ensure_ascii=False))"
   ]
  },
  {
   "cell_type": "markdown",
   "id": "acfea24a-1b5a-46f3-8c8b-c605ffd76786",
   "metadata": {},
   "source": [
    "操作対象を配列要素のindex値で指定してください。（単一の場合は先頭要素 0 番目を指定）"
   ]
  },
  {
   "cell_type": "code",
   "execution_count": null,
   "id": "4091cc93-6614-4648-be90-fc35958eb5f1",
   "metadata": {},
   "outputs": [],
   "source": [
    "mdx_segment_id = mdx.get_segments()[0][\"uuid\"]\n",
    "print(mdx_segment_id)"
   ]
  },
  {
   "cell_type": "markdown",
   "id": "167fd9ec-52bf-4240-9fee-5e6106516f11",
   "metadata": {},
   "source": [
    "### VMパラメータ設定"
   ]
  },
  {
   "cell_type": "markdown",
   "id": "e17b7cb6-3a30-4ba5-8d86-bfabe40bfee0",
   "metadata": {},
   "source": [
    "VMへのsshログインで使用する公開鍵を読み込みます。"
   ]
  },
  {
   "cell_type": "code",
   "execution_count": null,
   "id": "53de6c1f-7e5e-464c-a8be-e50e7f7cf378",
   "metadata": {},
   "outputs": [],
   "source": [
    "import os\n",
    "with open(os.path.expanduser(ssh_public_key_path)) as f:\n",
    "    ssh_shared_key = f.read()\n",
    "print(ssh_shared_key)"
   ]
  },
  {
   "cell_type": "markdown",
   "id": "645dbb20-0cf0-4bd9-9635-322b916d598f",
   "metadata": {},
   "source": [
    "デプロイするVMのパラメータを設定します。（参考: [ハードウェアのカスタマイズ項目](https://docs.mdx.jp/ja/main/create_vm.html#deploy-settings) )\n",
    "\n",
    "- CPUパック数\n",
    "- ディスクサイズ (GB)\n",
    "- VM名 **（プロジェクト内で重複しないように注意）**"
   ]
  },
  {
   "cell_type": "code",
   "execution_count": null,
   "id": "54dbf147-85fc-4f7b-85e7-873325baa045",
   "metadata": {},
   "outputs": [],
   "source": [
    "cpu_pack_num = 3\n",
    "disk_size_gb = 40\n",
    "vm_name = "
   ]
  },
  {
   "cell_type": "code",
   "execution_count": null,
   "id": "6db1fdb8-05c5-46d3-9a6f-9bdc33390d62",
   "metadata": {},
   "outputs": [],
   "source": [
    "# 推奨版、東京大学制作、20231221-1010版\n",
    "DEFAULT_TEMPLATE_NAME = \"UT-20231221-1010-ubuntu-2004-server\"\n",
    "DEFAULT_CATALOG = \"16a41081-a1cf-428e-90d0-a147b3aa6fc2\"\n",
    "\n",
    "mdx_spec = dict(\n",
    "    catalog=DEFAULT_CATALOG,\n",
    "    template_name=DEFAULT_TEMPLATE_NAME,\n",
    "    pack_num=cpu_pack_num,\n",
    "    pack_type=\"cpu\",\n",
    "    disk_size=disk_size_gb,\n",
    "    gpu=\"0\",\n",
    "    network_adapters=[\n",
    "        dict(\n",
    "            adapter_number=1,\n",
    "            segment=mdx_segment_id\n",
    "        )\n",
    "    ],\n",
    "    shared_key=ssh_shared_key,\n",
    "    storage_network=\"portgroup\",\n",
    "    service_level=\"spot\",\n",
    ")"
   ]
  },
  {
   "cell_type": "markdown",
   "id": "0465611f-5076-4b01-b744-897d3ff21469",
   "metadata": {
    "heading_collapsed": true
   },
   "source": [
    "## VMデプロイ\n",
    "\n",
    "mdx VMにIPアドレスが設定されるまで5分程度を要します。"
   ]
  },
  {
   "cell_type": "code",
   "execution_count": null,
   "id": "fcf2cd49-80cb-4995-add9-133f63a18fdf",
   "metadata": {
    "hidden": true
   },
   "outputs": [],
   "source": [
    "mdx.deploy_vm(vm_name, mdx_spec.copy(), wait_for=False)\n",
    "print(f\"{vm_name} deployed.\")"
   ]
  },
  {
   "cell_type": "code",
   "execution_count": null,
   "id": "3d8da2cf-95a6-432a-b59e-179b7bdda6a1",
   "metadata": {
    "hidden": true,
    "scrolled": true
   },
   "outputs": [],
   "source": [
    "from mdx_ext import SLEEP_TIME_SEC, DEPLOY_VM_SLEEP_COUNT\n",
    "import time\n",
    "import re\n",
    "\n",
    "start_time = time.time()\n",
    "for _ in range(DEPLOY_VM_SLEEP_COUNT):\n",
    "    info = mdx.get_vm_info(vm_name)\n",
    "    if info[\"status\"] == \"PowerON\":\n",
    "        addr = info.get(\"service_networks\", [{}])[0].get(\"ipv4_address\", [None])[0]\n",
    "        if re.match(r\"^[0-9]+\\.[0-9]+\\.[0-9]+\\.[0-9]+$\", addr):\n",
    "            print(f\"{vm_name} is now up with address {addr}.\")\n",
    "            break\n",
    "    elapsed = int(time.time() - start_time)\n",
    "    print(f\"Waiting for {vm_name} to be up... (elapsed time: {elapsed} sec)\")\n",
    "    time.sleep(SLEEP_TIME_SEC)"
   ]
  },
  {
   "cell_type": "markdown",
   "id": "c3296d67-718e-4e74-806c-18ab32cfb9a6",
   "metadata": {
    "hidden": true
   },
   "source": [
    "VMに付与されたプライベートIPv4アドレス (先頭のアドレス) を取得します。"
   ]
  },
  {
   "cell_type": "code",
   "execution_count": null,
   "id": "c6f3f7e0-1cd6-455b-9271-0c5b0268f4b2",
   "metadata": {
    "hidden": true
   },
   "outputs": [],
   "source": [
    "host_ip_address = info[\"service_networks\"][0][\"ipv4_address\"][0]\n",
    "host_ip_address"
   ]
  },
  {
   "cell_type": "markdown",
   "id": "e90676b1-3f03-4f22-a3c9-105cb694baca",
   "metadata": {},
   "source": [
    "## SSH初回ログイン時のパスワード設定\n",
    "\n",
    "- 仮想マシンテンプレート「推奨版、東京大学制作、20220412-2043版」では、\n",
    "  SSHでの初回ログイン時にOSのパスワード設定が求められる。\n",
    "- ログインユーザ名は `mdxuser`\n",
    "- 秘密鍵は、VMデプロイ時に指定した公開鍵 `ssh_shared_key` に対応する鍵ファイルを使用"
   ]
  },
  {
   "cell_type": "code",
   "execution_count": null,
   "id": "5d620177-cbb7-44c4-ac25-f3be4191c1f7",
   "metadata": {},
   "outputs": [],
   "source": [
    "# sshログインユーザ名\n",
    "ssh_user_name = 'mdxuser'\n",
    "\n",
    "# 設定するOSパスワード\n",
    "mdx_user_password = 'vmPass01'"
   ]
  },
  {
   "cell_type": "markdown",
   "id": "00afcf97-220a-48ab-943b-f9aad8055954",
   "metadata": {},
   "source": [
    "expectコマンドのPython版である pexpect ライブラリを用いてOSのパスワードを設定します。"
   ]
  },
  {
   "cell_type": "code",
   "execution_count": null,
   "id": "f382c652-8430-411a-b680-ffd900ba9ad4",
   "metadata": {},
   "outputs": [],
   "source": [
    "import pexpect\n",
    "\n",
    "user = ssh_user_name\n",
    "host = host_ip_address\n",
    "key = ssh_private_key_path\n",
    "password = mdx_user_password\n",
    "\n",
    "command = f\"ssh -oStrictHostKeyChecking=no -o UserKnownHostsFile=/dev/null -i {key} {user}@{host}\"\n",
    "\n",
    "child = pexpect.spawn(command, encoding='utf-8', timeout=30)\n",
    "child.expect(\"New password: \")\n",
    "child.sendline(password)\n",
    "child.expect(\"Retype new password: \")\n",
    "child.sendline(password)\n",
    "child.wait()"
   ]
  },
  {
   "cell_type": "markdown",
   "id": "1957ee0d",
   "metadata": {},
   "source": [
    "マシンのホスト名に仮想マシン名を設定します。"
   ]
  },
  {
   "cell_type": "code",
   "execution_count": null,
   "id": "e7748ba2",
   "metadata": {},
   "outputs": [],
   "source": [
    "command = f\"ssh -oStrictHostKeyChecking=no -o UserKnownHostsFile=/dev/null -i {key} {user}@{host} sudo hostnamectl set-hostname %s\" % (vm_name)\n",
    "pexpect.run(command)\n"
   ]
  },
  {
   "cell_type": "markdown",
   "id": "7fe2023e",
   "metadata": {},
   "source": [
    "マシンのIPアドレスを固定します。"
   ]
  },
  {
   "cell_type": "code",
   "execution_count": null,
   "id": "20fe9812",
   "metadata": {},
   "outputs": [],
   "source": [
    "import os\n",
    "scripts_dir = os.path.join(os.path.dirname(os.path.join(os.getcwd())), 'scripts')\n",
    "!ssh -oStrictHostKeyChecking=no -o UserKnownHostsFile=/dev/null -i {key} {user}@{host} 'sudo bash -s ' < {scripts_dir}/mdx_change_addr.sh {host_ip_address}"
   ]
  },
  {
   "cell_type": "markdown",
   "id": "4c1bfc5c",
   "metadata": {},
   "source": [
    "## vcpsdk利用準備\n",
    "\n",
    "vcpsdkを利用してVCノードの設定を行うため、vcpsdkの公開鍵をノードに登録します。  \n",
    "以下のセルを実行し、vcpsdkを初期化します。"
   ]
  },
  {
   "cell_type": "code",
   "execution_count": null,
   "id": "8146b2c0",
   "metadata": {},
   "outputs": [],
   "source": [
    "# VCP REST API アクセストークンの入力\n",
    "from getpass import getpass\n",
    "vcc_access_token = getpass()"
   ]
  },
  {
   "cell_type": "code",
   "execution_count": null,
   "id": "e439cba8",
   "metadata": {},
   "outputs": [],
   "source": [
    "# VCP SDK 初期化\n",
    "from vcpsdk.vcpsdk import VcpSDK\n",
    "sdk = VcpSDK(vcc_access_token)"
   ]
  },
  {
   "cell_type": "markdown",
   "id": "2cb9966b",
   "metadata": {},
   "source": [
    "公開鍵をノードのauthorized_keysに登録します。"
   ]
  },
  {
   "cell_type": "code",
   "execution_count": null,
   "id": "187dcb6c",
   "metadata": {},
   "outputs": [],
   "source": [
    "command = f\"ssh -oStrictHostKeyChecking=no -o UserKnownHostsFile=/dev/null -i {key} {user}@{host} echo %s >> ~/.ssh/authorized_keys\" % (sdk.get_publickey())\n",
    "pexpect.run(command)"
   ]
  },
  {
   "cell_type": "markdown",
   "id": "aae3fe8c-cf78-4fde-86f0-5d090b4d2e4d",
   "metadata": {},
   "source": [
    "## Dockerのインストール\n",
    "\n",
    "- docker-ceのインストールスクリプトをmdx VM上で実行します。"
   ]
  },
  {
   "cell_type": "code",
   "execution_count": null,
   "id": "5931f340-c0dc-4b6f-861b-867bfe5a1002",
   "metadata": {
    "scrolled": true
   },
   "outputs": [],
   "source": [
    "# docker-ce インストールスクリプト\n",
    "install_script = '''#!/bin/sh\n",
    "sudo apt-get -qq update\n",
    "sudo apt-get -qq install -y ca-certificates curl gnupg lsb-release\n",
    "curl -fsSL https://download.docker.com/linux/ubuntu/gpg | sudo gpg --dearmor -o /usr/share/keyrings/docker-archive-keyring.gpg\n",
    "echo \\\n",
    "  \"deb [arch=$(dpkg --print-architecture) signed-by=/usr/share/keyrings/docker-archive-keyring.gpg] https://download.docker.com/linux/ubuntu \\\n",
    "  $(lsb_release -cs) stable\" | sudo tee /etc/apt/sources.list.d/docker.list > /dev/null\n",
    "sudo apt-get -qq update\n",
    "sudo apt-get -qq install -y docker-ce\n",
    "echo 'Port 20022' | sudo tee -a /etc/ssh/sshd_config\n",
    "sudo systemctl restart sshd\n",
    "'''\n",
    "\n",
    "install_sh_file = '/tmp/install_docker.sh'\n",
    "with open(install_sh_file, 'w') as f:\n",
    "    f.write(install_script)\n",
    "\n",
    "!ssh -oStrictHostKeyChecking=no -i {ssh_private_key_path} {ssh_user_name}@{host} 'sh' < {install_sh_file}"
   ]
  },
  {
   "cell_type": "markdown",
   "id": "7d6f3ade-7f80-48dd-92a6-2b54c005d3da",
   "metadata": {},
   "source": [
    "Dockerがインストールできたことを確認します。"
   ]
  },
  {
   "cell_type": "code",
   "execution_count": null,
   "id": "0c632e15-8c9a-46f7-a30f-42aaf08e760d",
   "metadata": {
    "scrolled": true
   },
   "outputs": [],
   "source": [
    "!ssh -i {ssh_private_key_path} -p 20022 {ssh_user_name}@{host} sudo docker version"
   ]
  },
  {
   "cell_type": "markdown",
   "id": "7ac7daf2-4bcf-4c7d-a7fe-4899214ce671",
   "metadata": {},
   "source": [
    "## (付録) mdx VMの各種操作"
   ]
  },
  {
   "cell_type": "markdown",
   "id": "29d80057-8636-4f88-8fda-c61122bd25d7",
   "metadata": {},
   "source": [
    "### 仮想マシンの状態取得"
   ]
  },
  {
   "cell_type": "code",
   "execution_count": null,
   "id": "ce50d62f-5561-4681-ab86-5afd924a3740",
   "metadata": {
    "scrolled": true
   },
   "outputs": [],
   "source": [
    "# 仮想マシンの状態取得\n",
    "vm_info = mdx.get_vm_info(vm_name)\n",
    "print(json.dumps(info, indent=2, ensure_ascii=False))"
   ]
  },
  {
   "cell_type": "markdown",
   "id": "7b8f7c73-6b48-4f42-a09f-642e3dcffbfe",
   "metadata": {},
   "source": [
    "### プロジェクトの仮想マシンのリスト取得"
   ]
  },
  {
   "cell_type": "code",
   "execution_count": null,
   "id": "efd010b9-a54c-42c4-879f-f17b230d8b63",
   "metadata": {
    "scrolled": true
   },
   "outputs": [],
   "source": [
    "# プロジェクトの仮想マシンのリスト取得\n",
    "lst = mdx.get_vm_list()\n",
    "print(json.dumps(lst, indent=2, ensure_ascii=False))"
   ]
  },
  {
   "cell_type": "markdown",
   "id": "eb212f7e-ae98-4eee-8a53-c80f1c335f83",
   "metadata": {},
   "source": [
    "### 仮想マシンのシャットダウン、削除"
   ]
  },
  {
   "cell_type": "code",
   "execution_count": null,
   "id": "68195f53-240c-4d64-af59-fd701506b9ae",
   "metadata": {},
   "outputs": [],
   "source": [
    "# 仮想マシンのシャットダウン\n",
    "mdx.power_shutdown_vm(vm_name, wait_for=True)"
   ]
  },
  {
   "cell_type": "code",
   "execution_count": null,
   "id": "eec0479b-6154-4f1c-b3e6-b05b61280b0d",
   "metadata": {},
   "outputs": [],
   "source": [
    "# 仮想マシンの削除\n",
    "mdx.destroy_vm(vm_name, wait_for=True)"
   ]
  },
  {
   "cell_type": "markdown",
   "id": "98a2794f-6e26-403e-9f0a-aeb7c499a84d",
   "metadata": {},
   "source": [
    "### 仮想マシンテンプレートカタログの取得"
   ]
  },
  {
   "cell_type": "code",
   "execution_count": null,
   "id": "930a08fb-5b85-4bcd-9c67-85ca51ee712e",
   "metadata": {
    "scrolled": true
   },
   "outputs": [],
   "source": [
    "# 仮想マシンテンプレートのリスト取得\n",
    "catalogs = mdx.get_vm_catalogs()\n",
    "print(json.dumps(catalogs[\"results\"], indent=2, ensure_ascii=False))"
   ]
  }
 ],
 "metadata": {
  "kernelspec": {
   "display_name": "Python 3",
   "language": "python",
   "name": "python3"
  },
  "language_info": {
   "file_extension": ".py",
   "mimetype": "text/x-python",
   "name": "python",
   "nbconvert_exporter": "python",
   "pygments_lexer": "ipython3",
   "version": "3.10.11"
  },
  "toc": {
   "base_numbering": 1,
   "nav_menu": {},
   "number_sections": true,
   "sideBar": true,
   "skip_h1_title": false,
   "title_cell": "Table of Contents",
   "title_sidebar": "Contents",
   "toc_cell": false,
   "toc_position": {},
   "toc_section_display": true,
   "toc_window_display": false
  }
 },
 "nbformat": 4,
 "nbformat_minor": 5
}
