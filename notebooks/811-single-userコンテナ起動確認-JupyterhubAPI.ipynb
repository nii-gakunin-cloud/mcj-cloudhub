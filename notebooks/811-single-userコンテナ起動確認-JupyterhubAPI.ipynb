{
 "cells": [
  {
   "cell_type": "markdown",
   "metadata": {},
   "source": [
    "# single-userコンテナ起動確認（JupyterHub REST API利用）"
   ]
  },
  {
   "cell_type": "markdown",
   "metadata": {},
   "source": [
    "## 概要\n",
    "\n",
    "[Jupyterhub REST API](https://jupyterhub.readthedocs.io/en/latest/howto/rest.html)を利用し、ユーザのログイン～single-user notebook serverコンテナ起動の確認を行います。  \n",
    "\n",
    "* 前提\n",
    "    * Jupyterhub管理者のトークンが利用可能であること\n",
    "* 実行方法\n",
    "    * 各セルの説明に従って、実行してください\n",
    "* 活用方法\n",
    "    * 指定したユーザ分のコンテナが同時起動可能であることを確認できます。\n",
    "    * 「801-資源消費量可視化.ipynb」ノートブックを利用して、動作確認中の資源消費量を確認できます。"
   ]
  },
  {
   "cell_type": "markdown",
   "metadata": {},
   "source": [
    "### UnitGroup名\n",
    "\n",
    "JupyterHubの構築環境となるVCPのUnitGroup名を指定します。"
   ]
  },
  {
   "cell_type": "markdown",
   "metadata": {},
   "source": [
    "VCノードを作成時に指定した値を確認するために `group_vars`ファイル名の一覧を表示します。"
   ]
  },
  {
   "cell_type": "code",
   "execution_count": null,
   "metadata": {},
   "outputs": [],
   "source": [
    "!ls -1 group_vars/"
   ]
  },
  {
   "cell_type": "markdown",
   "metadata": {},
   "source": [
    "上のセルの出力結果を参考にして、UnitGroup名を次のセルに指定してください。"
   ]
  },
  {
   "cell_type": "code",
   "execution_count": null,
   "metadata": {
    "tags": [
     "vcp:parameters"
    ]
   },
   "outputs": [],
   "source": [
    "# (例)\n",
    "# ugroup_name = 'JupyterHub'\n",
    "\n",
    "ugroup_name = "
   ]
  },
  {
   "cell_type": "markdown",
   "metadata": {
    "heading_collapsed": true
   },
   "source": [
    "### チェック\n",
    "\n",
    "対象となるVCノードがAnsibleによって操作できることを確認します。"
   ]
  },
  {
   "cell_type": "markdown",
   "metadata": {
    "hidden": true
   },
   "source": [
    "Ansibleの設定ファイルの場所を環境変数に設定しておきます。"
   ]
  },
  {
   "cell_type": "code",
   "execution_count": null,
   "metadata": {
    "hidden": true
   },
   "outputs": [],
   "source": [
    "from pathlib import Path\n",
    "import os\n",
    "\n",
    "cfg_ansible = Path('ansible.cfg')\n",
    "if cfg_ansible.exists():\n",
    "    os.environ['ANSIBLE_CONFIG'] = str(cfg_ansible.resolve())"
   ]
  },
  {
   "cell_type": "markdown",
   "metadata": {
    "hidden": true
   },
   "source": [
    "構築対象となる各VCノードにアクセスできることを確認します。"
   ]
  },
  {
   "cell_type": "code",
   "execution_count": null,
   "metadata": {
    "hidden": true,
    "pinned_outputs": []
   },
   "outputs": [],
   "source": [
    "target_hub = f'{ugroup_name}_manager'\n",
    "\n",
    "!ansible {target_hub} -m ping"
   ]
  },
  {
   "cell_type": "code",
   "execution_count": null,
   "metadata": {
    "hidden": true,
    "pinned_outputs": []
   },
   "outputs": [],
   "source": [
    "target_nodes = f'{ugroup_name}_worker'\n",
    "\n",
    "!ansible {target_nodes} -m ping"
   ]
  },
  {
   "cell_type": "markdown",
   "metadata": {
    "hidden": true
   },
   "source": [
    "UnitGroup名に対応する group_varsファイルが存在していることを確認します。"
   ]
  },
  {
   "cell_type": "code",
   "execution_count": null,
   "metadata": {
    "hidden": true
   },
   "outputs": [],
   "source": [
    "!test -f group_vars/{ugroup_name}"
   ]
  },
  {
   "cell_type": "markdown",
   "metadata": {},
   "source": [
    "## パラメータの設定\n",
    "\n",
    "JupyterHubシステムに関する各種設定項目を指定します。\n",
    "\n",
    "ここで設定された項目はansible変数として保存され、ファイルのmanagerノードへの配置時に各ファイルに反映されます。"
   ]
  },
  {
   "cell_type": "markdown",
   "metadata": {},
   "source": [
    "### 必須設定項目  \n",
    "\n",
    "各種パラメータを指定します。  \n",
    "初期状態で指定されているものは、基本的に変更不要です。"
   ]
  },
  {
   "cell_type": "markdown",
   "metadata": {},
   "source": [
    "実行用の資材等を配置するディレクトリを指定します。"
   ]
  },
  {
   "cell_type": "code",
   "execution_count": null,
   "metadata": {},
   "outputs": [],
   "source": [
    "work_dir = '/srv/jupyterhub/spawntest'"
   ]
  },
  {
   "cell_type": "markdown",
   "metadata": {},
   "source": [
    "テスト用ユーザのグループIDを指定します。"
   ]
  },
  {
   "cell_type": "code",
   "execution_count": null,
   "metadata": {},
   "outputs": [],
   "source": [
    "group_id_num = 601"
   ]
  },
  {
   "cell_type": "markdown",
   "metadata": {},
   "source": [
    "jupyterhub REST APIを利用するためのトークンを指定します。  \n",
    "トークンは、Jupyterhubに管理者としてログインし、tokenページ（`/hub/token`）で発行します。"
   ]
  },
  {
   "cell_type": "code",
   "execution_count": null,
   "metadata": {},
   "outputs": [],
   "source": [
    "jupyterhub_token = "
   ]
  },
  {
   "cell_type": "markdown",
   "metadata": {},
   "source": [
    "### テスト用ユーザの指定\n",
    "\n",
    "テスト用ユーザの情報を指定します。  \n",
    "テスト後にホームディレクトリ等を削除するため、実際に利用されることのないユーザ情報を指定してください。"
   ]
  },
  {
   "cell_type": "code",
   "execution_count": null,
   "metadata": {},
   "outputs": [],
   "source": [
    "# 個別に指定する場合\n",
    "test_users = [\n",
    "    {'username': 'testuser1', 'uid_num': 801},\n",
    "    {'username': 'testuser2', 'uid_num': 802},\n",
    "    {'username': 'testuser3', 'uid_num': 803},\n",
    "]\n",
    "# 人数を指定する場合\n",
    "# user_count = 10\n",
    "# test_users = [f'testuser{i}' for i in range(user_count)]"
   ]
  },
  {
   "cell_type": "markdown",
   "metadata": {},
   "source": [
    "### 実行"
   ]
  },
  {
   "cell_type": "markdown",
   "metadata": {
    "heading_collapsed": true
   },
   "source": [
    "#### 事前確認"
   ]
  },
  {
   "cell_type": "markdown",
   "metadata": {
    "hidden": true
   },
   "source": [
    "テスト対象のサーバにアクセスできることを確認します。"
   ]
  },
  {
   "cell_type": "code",
   "execution_count": null,
   "metadata": {
    "hidden": true
   },
   "outputs": [],
   "source": [
    "# selenium実行環境からmoodleへのアクセス\n",
    "!ansible {target_hub} -m shell \\\n",
    "    -a \"curl http://localhost:8000/hub/health -o /dev/null -w '%{{http_code}}\\n' -s\""
   ]
  },
  {
   "cell_type": "markdown",
   "metadata": {
    "heading_collapsed": true
   },
   "source": [
    "#### セットアップ\n",
    "\n",
    "必要な資材の配置を行います。"
   ]
  },
  {
   "cell_type": "markdown",
   "metadata": {
    "hidden": true
   },
   "source": [
    "まず、ファイルを格納するディレクトリを作成"
   ]
  },
  {
   "cell_type": "code",
   "execution_count": null,
   "metadata": {
    "hidden": true
   },
   "outputs": [],
   "source": [
    "!ansible {target_hub} -b -m file -a \\\n",
    "    'path={work_dir} state=directory owner={{{{ansible_user}}}}'"
   ]
  },
  {
   "cell_type": "markdown",
   "metadata": {
    "hidden": true
   },
   "source": [
    "ファイルの配置をチェックモードで試行"
   ]
  },
  {
   "cell_type": "code",
   "execution_count": null,
   "metadata": {
    "hidden": true
   },
   "outputs": [],
   "source": [
    "!ansible {target_hub} -CDv -m synchronize \\\n",
    "    -a 'src=../tools/jupyterhub_api dest={work_dir}'"
   ]
  },
  {
   "cell_type": "markdown",
   "metadata": {
    "hidden": true
   },
   "source": [
    "実際にファイルを配置"
   ]
  },
  {
   "cell_type": "code",
   "execution_count": null,
   "metadata": {
    "hidden": true
   },
   "outputs": [],
   "source": [
    "!ansible {target_hub} -Dv -m synchronize \\\n",
    "    -a 'src=../tools/jupyterhub_api dest={work_dir}'"
   ]
  },
  {
   "cell_type": "markdown",
   "metadata": {
    "heading_collapsed": true
   },
   "source": [
    "#### 実行  \n",
    "\n",
    "テスト用ユーザのセットアップを行い、各ユーザ用のsingle-user serverコンテナの起動を行います。"
   ]
  },
  {
   "cell_type": "markdown",
   "metadata": {
    "hidden": true
   },
   "source": [
    "テスト用ユーザのセットアップを行います。  \n",
    "具体的には、以下の設定を行います。\n",
    "\n",
    "- LDAPサーバへのユーザ登録\n",
    "- Jupyterhubへのユーザ登録\n",
    "- ホームディレクトリの作成"
   ]
  },
  {
   "cell_type": "code",
   "execution_count": null,
   "metadata": {
    "hidden": true,
    "scrolled": true
   },
   "outputs": [],
   "source": [
    "for user in test_users:\n",
    "    # ユーザセットアップ(ldap, homedir) \n",
    "    !ansible {target_hub} -m shell \\\n",
    "        -a \"sudo bash {work_dir}/jupyterhub_api/setup_jupyterhub_testuser.sh {user['username']} {user['uid_num']} {group_id_num} {ugroup_name} {jupyterhub_token}\""
   ]
  },
  {
   "cell_type": "markdown",
   "metadata": {
    "hidden": true
   },
   "source": [
    "single-user serverコンテナの起動（spawn）を行います。"
   ]
  },
  {
   "cell_type": "code",
   "execution_count": null,
   "metadata": {
    "hidden": true
   },
   "outputs": [],
   "source": [
    "for user in test_users:\n",
    "    !ansible {target_hub} -m shell \\\n",
    "        -a \"sudo bash {work_dir}/jupyterhub_api/spawn.sh {user['username']} {user['uid_num']} {group_id_num} {jupyterhub_token} &\""
   ]
  },
  {
   "cell_type": "markdown",
   "metadata": {
    "heading_collapsed": true
   },
   "source": [
    "#### 終了  \n",
    "\n",
    "single-user serverコンテナのシャットダウンと、ユーザのホームディレクトリの削除を行います。"
   ]
  },
  {
   "cell_type": "markdown",
   "metadata": {
    "hidden": true
   },
   "source": [
    "Docker swarmを利用しているため、サービスを停止します。"
   ]
  },
  {
   "cell_type": "code",
   "execution_count": null,
   "metadata": {
    "hidden": true
   },
   "outputs": [],
   "source": [
    "for user in test_users:\n",
    "    !ansible {target_hub} -m shell \\\n",
    "        -a \"docker service rm jupyter-{user['username']}\" || true"
   ]
  },
  {
   "cell_type": "markdown",
   "metadata": {
    "hidden": true
   },
   "source": [
    "テストで使用したユーザ情報やディレクトリを削除します。"
   ]
  },
  {
   "cell_type": "code",
   "execution_count": null,
   "metadata": {
    "hidden": true
   },
   "outputs": [],
   "source": [
    "for user in test_users:\n",
    "    # ユーザセットアップ(ldap, homedir) \n",
    "    !ansible {target_hub} -m shell \\\n",
    "        -a \"sudo bash {work_dir}/jupyterhub_api/cleanup_testuser.sh {user['username']} {user['uid_num']} {group_id_num} {ugroup_name} {jupyterhub_token}\""
   ]
  }
 ],
 "metadata": {
  "kernelspec": {
   "display_name": "Python 3",
   "language": "python",
   "name": "python3"
  },
  "language_info": {
   "file_extension": ".py",
   "mimetype": "text/x-python",
   "name": "python",
   "nbconvert_exporter": "python",
   "pygments_lexer": "ipython3",
   "version": "3.10.4"
  },
  "toc": {
   "base_numbering": 1,
   "nav_menu": {},
   "number_sections": true,
   "sideBar": true,
   "skip_h1_title": true,
   "title_cell": "Table of Contents",
   "title_sidebar": "Contents",
   "toc_cell": false,
   "toc_position": {
    "height": "calc(100% - 180px)",
    "left": "10px",
    "top": "150px",
    "width": "299.867px"
   },
   "toc_section_display": true,
   "toc_window_display": true
  }
 },
 "nbformat": 4,
 "nbformat_minor": 2
}
