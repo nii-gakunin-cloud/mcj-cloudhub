{
  "cells": [
    {
      "cell_type": "markdown",
      "id": "5f250ea4",
      "metadata": {
        "lc_cell_meme": {
          "current": "77830060-6e64-11ee-95c7-0242ac110002",
          "execution_end_time": "2023-10-19T09:47:04.551593Z",
          "next": "dd3c00c2-6e65-11ee-95c7-0242ac110002",
          "previous": null
        }
      },
      "source": [
        "# Moodle\u306e\u5916\u90e8\u30c4\u30fc\u30eb\u306e\u8a2d\u5b9a\u4f8b\uff08lti1.3&JupyterHub\uff09\n",
        "\n",
        "---\n",
        "\n",
        "JupyterHub\u30b7\u30b9\u30c6\u30e0\u69cb\u7bc9\u524d\u306b\u3001Moodle\u306b\u3066\u3001JupyterHub\u3068\u306elti1.3\u8a8d\u8a3c\u9023\u643a\u7528\u306e\u5916\u90e8\u30c4\u30fc\u30eb\u3092\u8a2d\u5b9a\u3057\u3066\u304a\u304f\u5fc5\u8981\u304c\u3042\u308a\u307e\u3059\u3002  \n",
        "\u3053\u3053\u3067\u306f\u3001\u305d\u306e\u8a2d\u5b9a\u4f8b\u3092\u8a18\u8f09\u3057\u3066\u3044\u307e\u3059\u3002"
      ]
    },
    {
      "cell_type": "markdown",
      "id": "eb81bb18",
      "metadata": {
        "lc_cell_meme": {
          "current": "dd3c00c2-6e65-11ee-95c7-0242ac110002",
          "next": "f6904702-e5cc-11ee-9433-0242ac110002",
          "previous": "77830060-6e64-11ee-95c7-0242ac110002"
        }
      },
      "source": [
        "## \u5916\u90e8\u30c4\u30fc\u30eb\u306e\u4f5c\u6210\n",
        "\n",
        "\u307e\u305a\u3001\u5916\u90e8\u30c4\u30fc\u30eb\u3092\u4f5c\u6210\u3057\u307e\u3059\u3002  \n",
        "\u3053\u3053\u3067\u306f\u3001\u305d\u306e\u8a2d\u5b9a\u4f8b\u3092\u8868\u793a\u3057\u307e\u3059\u3002  "
      ]
    },
    {
      "cell_type": "markdown",
      "id": "448af6f1",
      "metadata": {
        "lc_cell_meme": {
          "current": "f6904702-e5cc-11ee-9433-0242ac110002",
          "next": "bf0dce4c-6e64-11ee-95c7-0242ac110002",
          "previous": "dd3c00c2-6e65-11ee-95c7-0242ac110002"
        }
      },
      "source": [
        "### \u57fa\u672c\u8a2d\u5b9a\n",
        "\u4ee5\u4e0b\u306e\u30bb\u30eb\u3092\u5b9f\u884c\u3059\u308b\u3068\u3001\u8a2d\u5b9a\u4f8b\u3092\u793a\u3059\u753b\u50cf\u3092\u8868\u793a\u3057\u307e\u3059\uff08Markdown\u3060\u3068\u753b\u50cf\u3092\u5143\u306e\u30b5\u30a4\u30ba\u3067\u8868\u793a\u3067\u304d\u306a\u3044\u305f\u3081\u3001IPython.display\u306eImage\u3092\u4f7f\u7528\u3057\u3066\u3044\u307e\u3059\uff09"
      ]
    },
    {
      "cell_type": "code",
      "execution_count": null,
      "id": "41ab5e16",
      "metadata": {
        "lc_cell_meme": {
          "current": "bf0dce4c-6e64-11ee-95c7-0242ac110002",
          "next": "f6904838-e5cc-11ee-9433-0242ac110002",
          "previous": "f6904702-e5cc-11ee-9433-0242ac110002"
        }
      },
      "outputs": [],
      "source": [
        "from IPython.display import Image\n",
        "Image(filename=\"images/021/moodle_lti13_jupyterhub_sample.png\")"
      ]
    },
    {
      "cell_type": "markdown",
      "id": "20c0b32e",
      "metadata": {
        "lc_cell_meme": {
          "current": "24c474e2-6e66-11ee-95c7-0242ac110002",
          "next": "dd3c01b2-6e65-11ee-95c7-0242ac110002-1-bc56",
          "previous": "68a3808c-e5cf-11ee-9433-0242ac110002"
        }
      },
      "source": [
        "## \u4f5c\u6210\u3057\u305f\u5916\u90e8\u30c4\u30fc\u30eb\u306e\u30ad\u30fc\u306a\u3069\u3092\u78ba\u8a8d\n",
        "\n",
        "\u5916\u90e8\u30c4\u30fc\u30eb\u3092\u4f5c\u6210\u3059\u308b\u3068\u3001\u30ad\u30fc\u304c\u81ea\u52d5\u751f\u6210\u3055\u308c\u307e\u3059\u3002  \n",
        "\u3053\u3053\u3067\u751f\u6210\u3055\u308c\u305f\u30ad\u30fc\u3092JupyterHub\u69cb\u7bc9\u6642\u306b\u4f7f\u7528\u3059\u308b\u305f\u3081\u3001\u78ba\u8a8d\u3057\u3066\u304a\u304d\u307e\u3059\u3002\n",
        "\n",
        "\u5916\u90e8\u30c4\u30fc\u30eb\u4e00\u89a7\u306b\u3066\u3001\u8d64\u56db\u89d2\u3067\u56f2\u3093\u3060\u30a2\u30a4\u30b3\u30f3\u3092\u30af\u30ea\u30c3\u30af\u3059\u308b\u3068\u3001\u30c4\u30fc\u30eb\u8a2d\u5b9a\u8a73\u7d30\u753b\u9762\u304c\u30e2\u30fc\u30c0\u30eb\u30a6\u30a3\u30f3\u30c9\u30a6\u3067\u7acb\u3061\u4e0a\u304c\u308a\u307e\u3059\u3002  \n",
        "\u3053\u3053\u306b\u8a18\u8f09\u3055\u308c\u3066\u3044\u308b\u5185\u5bb9\u3092\u78ba\u8a8d\u3057\u307e\u3059\u3002  \n",
        "\n",
        "Jupyterhub\u69cb\u7bc9\u6642\u306b\u5fc5\u8981\u306a\u30d1\u30e9\u30e1\u30fc\u30bf\u306f\u4ee5\u4e0b\u306e\u901a\u308a\u3067\u3059\u3002\n",
        "* **\u30d7\u30e9\u30c3\u30c8\u30d5\u30a9\u30fc\u30e0ID**  \n",
        "  \u300c121-JupyterHub\u306e\u30bb\u30c3\u30c8\u30a2\u30c3\u30d7\u300d\u306e\u300c2.1.1 \u30d1\u30e9\u30e1\u30fc\u30bf\u985e\u300d\u306e`moodle_platform_id`\n",
        "* **\u30af\u30e9\u30a4\u30a2\u30f3\u30c8ID**  \n",
        "  \u300c121-JupyterHub\u306e\u30bb\u30c3\u30c8\u30a2\u30c3\u30d7\u300d\u306e\u300c2.1.1 \u30d1\u30e9\u30e1\u30fc\u30bf\u985e\u300d\u306e`moodle_client_id`\n",
        "\n",
        "<img src=\"moodle_outertool.png\">"
      ]
    },
    {
      "cell_type": "markdown",
      "id": "2271cd59",
      "metadata": {
        "lc_cell_meme": {
          "current": "dd3c01b2-6e65-11ee-95c7-0242ac110002-1-bc56",
          "next": "2daea572-ab84-11ee-a6b6-0242ac110002",
          "previous": "24c474e2-6e66-11ee-95c7-0242ac110002"
        }
      },
      "source": [
        "<img src=\"images/021/moodle_tool.png\">"
      ]
    },
    {
      "cell_type": "markdown",
      "id": "da84c625",
      "metadata": {
        "lc_cell_meme": {
          "current": "f6904838-e5cc-11ee-9433-0242ac110002",
          "next": "68a3808c-e5cf-11ee-9433-0242ac110002",
          "previous": "bf0dce4c-6e64-11ee-95c7-0242ac110002"
        }
      },
      "source": [
        "### NRPS\u5229\u7528\u306e\u5834\u5408\u306e\u8a2d\u5b9a\n",
        "\n",
        "NRPS(Names and Role Provisioning Services)\u3092\u5229\u7528\u3067\u304d\u308b\u5834\u5408\u3001\u57fa\u672c\u8a2d\u5b9a\u3092\u4ee5\u4e0b\u306e\u3088\u3046\u306b\u4fee\u6b63\u3057\u307e\u3059\u3002  \n",
        "\u4ee5\u4e0b\u306e\u30bb\u30eb\u3092\u5b9f\u884c\u3059\u308b\u3068\u3001\u8a2d\u5b9a\u4f8b\u3092\u793a\u3059\u753b\u50cf\u3092\u8868\u793a\u3057\u307e\u3059\uff08Markdown\u3060\u3068\u753b\u50cf\u3092\u5143\u306e\u30b5\u30a4\u30ba\u3067\u8868\u793a\u3067\u304d\u306a\u3044\u305f\u3081\u3001IPython.display\u306eImage\u3092\u4f7f\u7528\u3057\u3066\u3044\u307e\u3059\uff09"
      ]
    },
    {
      "cell_type": "code",
      "execution_count": null,
      "id": "b323d8a7",
      "metadata": {},
      "outputs": [],
      "source": [
        "from IPython.display import Image\n",
        "Image(filename=\"images/021/moodle_lti13_jupyterhub_sample_nrps.png\")"
      ]
    }
  ],
  "metadata": {
    "kernelspec": {
      "display_name": "Python 3",
      "language": "python",
      "name": "python3"
    },
    "language_info": {
      "file_extension": ".py",
      "mimetype": "text/x-python",
      "name": "python",
      "nbconvert_exporter": "python",
      "pygments_lexer": "ipython3",
      "version": "3.10.4"
    },
    "lc_notebook_meme": {
      "current": "7782ff3e-6e64-11ee-95c7-0242ac110002",
      "lc_server_signature": {
        "current": {
          "notebook_dir": "/notebooks/notebook",
          "notebook_path": "/work_terayama/yamaguchi-hub/notebooks",
          "server_url": "https://vcc1045.vcp-handson.org/jupyter3/",
          "signature_id": "3c8e5600-416c-11ee-819d-0242ac110002"
        }
      }
    },
    "toc": {
      "base_numbering": 1,
      "nav_menu": {},
      "number_sections": true,
      "sideBar": true,
      "skip_h1_title": false,
      "title_cell": "Table of Contents",
      "title_sidebar": "Contents",
      "toc_cell": false,
      "toc_position": {},
      "toc_section_display": true,
      "toc_window_display": true
    }
  },
  "nbformat": 4,
  "nbformat_minor": 5
}