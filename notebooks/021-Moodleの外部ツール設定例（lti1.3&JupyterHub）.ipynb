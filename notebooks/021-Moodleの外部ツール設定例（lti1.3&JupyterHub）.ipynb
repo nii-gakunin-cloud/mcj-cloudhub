{
 "cells": [
  {
   "cell_type": "markdown",
   "id": "5f250ea4",
   "metadata": {},
   "source": [
    "# Moodleの外部ツールの設定例（LTI1.3&JupyterHub）\n",
    "\n",
    "---\n",
    "\n",
    "JupyterHubシステム構築前に、Moodleにて、JupyterHubとのLTI1.3認証連携用の外部ツールを設定しておく必要があります。  \n",
    "ここでは、その設定例を記載しています。"
   ]
  },
  {
   "cell_type": "markdown",
   "id": "eb81bb18",
   "metadata": {},
   "source": [
    "## 外部ツールの作成\n",
    "\n",
    "まず、外部ツールを作成します。  \n",
    "ここでは、その設定例を表示します。  "
   ]
  },
  {
   "cell_type": "markdown",
   "id": "448af6f1",
   "metadata": {},
   "source": [
    "### 基本設定\n",
    "以下のセルを実行すると、設定例を示す画像を表示します（Markdownだと画像を元のサイズで表示できないため、IPython.displayのImageを使用しています）"
   ]
  },
  {
   "cell_type": "code",
   "execution_count": null,
   "id": "41ab5e16",
   "metadata": {},
   "outputs": [],
   "source": [
    "from IPython.display import Image\n",
    "Image(filename=\"images/021/moodle_lti13_jupyterhub_sample.png\")"
   ]
  },
  {
   "cell_type": "markdown",
   "id": "20c0b32e",
   "metadata": {},
   "source": [
    "## 作成した外部ツールのキーなどを確認\n",
    "\n",
    "外部ツールを作成すると、キーが自動生成されます。  \n",
    "ここで生成されたキーをJupyterHub構築時に使用するため、確認しておきます。\n",
    "\n",
    "外部ツール一覧にて、赤四角で囲んだアイコンをクリックすると、ツール設定詳細画面がモーダルウィンドウで立ち上がります。  \n",
    "ここに記載されている内容を確認します。  \n",
    "\n",
    "Jupyterhub構築時に必要なパラメータは以下の通りです。\n",
    "* **プラットフォームID**  \n",
    "  「121-JupyterHubのセットアップ」の「2.1.1 パラメータ類」の`moodle_platform_id`\n",
    "* **クライアントID**  \n",
    "  「121-JupyterHubのセットアップ」の「2.1.1 パラメータ類」の`moodle_client_id`\n",
    "\n",
    "<img src=\"images/021/moodle_tool.png\">"
   ]
  },
  {
   "cell_type": "markdown",
   "id": "da84c625",
   "metadata": {},
   "source": [
    "### NRPS利用の場合の設定\n",
    "\n",
    "NRPS(Names and Role Provisioning Services)を利用できる場合、基本設定を以下のように修正します。  \n",
    "以下のセルを実行すると、設定例を示す画像を表示します（Markdownだと画像を元のサイズで表示できないため、IPython.displayのImageを使用しています）"
   ]
  },
  {
   "cell_type": "code",
   "execution_count": null,
   "id": "b323d8a7",
   "metadata": {},
   "outputs": [],
   "source": [
    "from IPython.display import Image\n",
    "Image(filename=\"images/021/moodle_lti13_jupyterhub_sample_nrps.png\")"
   ]
  }
 ],
 "metadata": {
  "kernelspec": {
   "display_name": "Python 3",
   "language": "python",
   "name": "python3"
  },
  "language_info": {
   "file_extension": ".py",
   "mimetype": "text/x-python",
   "name": "python",
   "nbconvert_exporter": "python",
   "pygments_lexer": "ipython3",
   "version": "3.10.4"
  },
  "toc": {
   "base_numbering": 1,
   "nav_menu": {},
   "number_sections": true,
   "sideBar": true,
   "skip_h1_title": false,
   "title_cell": "Table of Contents",
   "title_sidebar": "Contents",
   "toc_cell": false,
   "toc_position": {},
   "toc_section_display": true,
   "toc_window_display": true
  }
 },
 "nbformat": 4,
 "nbformat_minor": 5
}
