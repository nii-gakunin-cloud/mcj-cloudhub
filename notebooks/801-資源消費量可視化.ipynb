{
 "cells": [
  {
   "cell_type": "markdown",
   "id": "72673fe0",
   "metadata": {},
   "source": [
    "# 資源消費量可視化"
   ]
  },
  {
   "cell_type": "markdown",
   "id": "a5957671",
   "metadata": {},
   "source": [
    "## 概要\n",
    "\n",
    "開始日時・終了日時を指定して、その間の各種リソース消費量を計測します。  \n",
    "本Notebookは、jupyterhubで起動する各single-user notebook serverコンテナのリソース制限値の設定のための情報収集のために用いることを意図しています。  \n",
    "他のメトリクスデータを収集する場合は、内容を修正して実行してください。\n",
    "\n",
    "* 前提\n",
    "    * prometheusのバージョン: `1.7.2`\n",
    "        * {vcc_ip}:9090 にアクセスして、`Status` -> `Runtime & Build Information`中に記載\n",
    "* 実行方法\n",
    "    * 各セルの説明に従って、実行してください\n",
    "    * 初期状態では、出力例として、アウトプットを残しています。"
   ]
  },
  {
   "cell_type": "markdown",
   "id": "e507fce1",
   "metadata": {},
   "source": [
    "## HTTP API によるデータ取得\n",
    "\n",
    "https://prometheus.io/docs/prometheus/latest/querying/api/\n",
    "\n",
    "\\*他には、Pythonライブラリ [`prometheus_api_client`](https://prometheus-api-client-python.readthedocs.io/en/latest/source/prometheus_api_client.html) があります。"
   ]
  },
  {
   "cell_type": "markdown",
   "id": "672e2e66",
   "metadata": {},
   "source": [
    "### metric一覧の確認\n",
    "\n",
    "以下のセルを実行すると、prometheusから取得できるメトリック一覧を取得します。  \n",
    "正常に取得できない場合は、接続先を確認してください。  \n",
    "\n",
    "* Tips\n",
    "    * service版VCCの場合、`URL_PROMETHEUS`に`http://10.0.0.1:9090`を指定してください\n"
   ]
  },
  {
   "cell_type": "code",
   "execution_count": 278,
   "id": "ec8e9eb6",
   "metadata": {},
   "outputs": [
    {
     "data": {
      "text/plain": [
       "['cadvisor_version_info',\n",
       " 'container_blkio_device_usage_total',\n",
       " 'container_cpu_cfs_periods_total',\n",
       " 'container_cpu_cfs_throttled_periods_total',\n",
       " 'container_cpu_cfs_throttled_seconds_total',\n",
       " 'container_cpu_load_average_10s',\n",
       " 'container_cpu_system_seconds_total',\n",
       " 'container_cpu_usage_seconds_total',\n",
       " 'container_cpu_user_seconds_total',\n",
       " 'container_fs_inodes_free',\n",
       " 'container_fs_inodes_total',\n",
       " 'container_fs_io_current',\n",
       " 'container_fs_io_time_seconds_total',\n",
       " 'container_fs_io_time_weighted_seconds_total',\n",
       " 'container_fs_limit_bytes',\n",
       " 'container_fs_read_seconds_total',\n",
       " 'container_fs_reads_bytes_total',\n",
       " 'container_fs_reads_merged_total',\n",
       " 'container_fs_reads_total',\n",
       " 'container_fs_sector_reads_total',\n",
       " 'container_fs_sector_writes_total',\n",
       " 'container_fs_usage_bytes',\n",
       " 'container_fs_write_seconds_total',\n",
       " 'container_fs_writes_bytes_total',\n",
       " 'container_fs_writes_merged_total',\n",
       " 'container_fs_writes_total',\n",
       " 'container_last_seen',\n",
       " 'container_memory_cache',\n",
       " 'container_memory_failcnt',\n",
       " 'container_memory_failures_total',\n",
       " 'container_memory_mapped_file',\n",
       " 'container_memory_max_usage_bytes',\n",
       " 'container_memory_rss',\n",
       " 'container_memory_swap',\n",
       " 'container_memory_usage_bytes',\n",
       " 'container_memory_working_set_bytes',\n",
       " 'container_network_receive_bytes_total',\n",
       " 'container_network_receive_errors_total',\n",
       " 'container_network_receive_packets_dropped_total',\n",
       " 'container_network_receive_packets_total',\n",
       " 'container_network_transmit_bytes_total',\n",
       " 'container_network_transmit_errors_total',\n",
       " 'container_network_transmit_packets_dropped_total',\n",
       " 'container_network_transmit_packets_total',\n",
       " 'container_scrape_error',\n",
       " 'container_spec_cpu_period',\n",
       " 'container_spec_cpu_quota',\n",
       " 'container_spec_cpu_shares',\n",
       " 'container_spec_memory_limit_bytes',\n",
       " 'container_spec_memory_reservation_limit_bytes',\n",
       " 'container_spec_memory_swap_limit_bytes',\n",
       " 'container_start_time_seconds',\n",
       " 'container_tasks_state',\n",
       " 'go_gc_duration_seconds',\n",
       " 'go_gc_duration_seconds_count',\n",
       " 'go_gc_duration_seconds_sum',\n",
       " 'go_goroutines',\n",
       " 'go_info',\n",
       " 'go_memstats_alloc_bytes',\n",
       " 'go_memstats_alloc_bytes_total',\n",
       " 'go_memstats_buck_hash_sys_bytes',\n",
       " 'go_memstats_frees_total',\n",
       " 'go_memstats_gc_cpu_fraction',\n",
       " 'go_memstats_gc_sys_bytes',\n",
       " 'go_memstats_heap_alloc_bytes',\n",
       " 'go_memstats_heap_idle_bytes',\n",
       " 'go_memstats_heap_inuse_bytes',\n",
       " 'go_memstats_heap_objects',\n",
       " 'go_memstats_heap_released_bytes',\n",
       " 'go_memstats_heap_released_bytes_total',\n",
       " 'go_memstats_heap_sys_bytes',\n",
       " 'go_memstats_last_gc_time_seconds',\n",
       " 'go_memstats_lookups_total',\n",
       " 'go_memstats_mallocs_total',\n",
       " 'go_memstats_mcache_inuse_bytes',\n",
       " 'go_memstats_mcache_sys_bytes',\n",
       " 'go_memstats_mspan_inuse_bytes',\n",
       " 'go_memstats_mspan_sys_bytes',\n",
       " 'go_memstats_next_gc_bytes',\n",
       " 'go_memstats_other_sys_bytes',\n",
       " 'go_memstats_stack_inuse_bytes',\n",
       " 'go_memstats_stack_sys_bytes',\n",
       " 'go_memstats_sys_bytes',\n",
       " 'go_threads',\n",
       " 'http_request_duration_microseconds',\n",
       " 'http_request_duration_microseconds_count',\n",
       " 'http_request_duration_microseconds_sum',\n",
       " 'http_request_size_bytes',\n",
       " 'http_request_size_bytes_count',\n",
       " 'http_request_size_bytes_sum',\n",
       " 'http_requests_total',\n",
       " 'http_response_size_bytes',\n",
       " 'http_response_size_bytes_count',\n",
       " 'http_response_size_bytes_sum',\n",
       " 'machine_cpu_cores',\n",
       " 'machine_cpu_physical_cores',\n",
       " 'machine_cpu_sockets',\n",
       " 'machine_memory_bytes',\n",
       " 'machine_nvm_avg_power_budget_watts',\n",
       " 'machine_nvm_capacity',\n",
       " 'machine_scrape_error',\n",
       " 'process_cpu_seconds_total',\n",
       " 'process_max_fds',\n",
       " 'process_open_fds',\n",
       " 'process_resident_memory_bytes',\n",
       " 'process_start_time_seconds',\n",
       " 'process_virtual_memory_bytes',\n",
       " 'process_virtual_memory_max_bytes',\n",
       " 'scrape_duration_seconds',\n",
       " 'scrape_samples_post_metric_relabeling',\n",
       " 'scrape_samples_scraped',\n",
       " 'up']"
      ]
     },
     "execution_count": 278,
     "metadata": {},
     "output_type": "execute_result"
    }
   ],
   "source": [
    "import requests\n",
    "\n",
    "URL_PROMETHEUS = 'http://localhost:9090'\n",
    "URL_PROMETHEUS_API = f'{URL_PROMETHEUS}/api/v1/'\n",
    "response = requests.get(f'{URL_PROMETHEUS_API}/label/__name__/values')\n",
    "metrics = response.json()\n",
    "metrics['data']"
   ]
  },
  {
   "cell_type": "markdown",
   "id": "02db7ac7",
   "metadata": {},
   "source": [
    "### 日時等指定\n",
    "\n",
    "開始時刻・終了時刻・取得スパンを指定します。  \n",
    "start, endが開始日時・終了日時です。`rfc3339`もしくは`unix_timestamp`形式で指定します。  \n",
    "stepは、取得間隔（秒）です。例えば、`60`を指定すると、60秒ごとのデータが取得できます。  \n",
    "※prometheusのスクレイプ間隔より短くしても、それ以上に細かいデータは取得できません。"
   ]
  },
  {
   "cell_type": "code",
   "execution_count": 375,
   "id": "fd7dbb11",
   "metadata": {},
   "outputs": [],
   "source": [
    "start = '2024-07-04T04:05:00.000Z'\n",
    "end = '2024-07-04T04:15:00.000Z'\n",
    "step = 60"
   ]
  },
  {
   "cell_type": "markdown",
   "id": "0c2cbd6e",
   "metadata": {},
   "source": [
    "以下のセルを実行することで、指定した期間の資源消費量を取得します。"
   ]
  },
  {
   "cell_type": "code",
   "execution_count": 376,
   "id": "677f7844",
   "metadata": {},
   "outputs": [],
   "source": [
    "import requests\n",
    "\n",
    "# 以下は、開始・終了時刻の別の指定方法として、現在時刻~30分前までを指定する場合のサンプルを記載しています\n",
    "# import datetime\n",
    "# END_DATETIME = datetime.datetime.now(datetime.timezone.utc)\n",
    "# START_DATETIME = END_DATETIME - datetime.timedelta(minutes=30)\n",
    "# start = START_DATETIME.strftime(\"%Y-%m-%dT%H:%M:%SZ\")\n",
    "# end = END_DATETIME.strftime(\"%Y-%m-%dT%H:%M:%SZ\")\n",
    "# step = 60\n",
    "\n",
    "# single-user notebook serverコンテナごとのメモリ消費量\n",
    "targets = \"jupyter-.*\"\n",
    "query = f'sum(container_memory_rss{{container_label_com_docker_swarm_service_name=~\"{targets}\"}}) by (name) /1000000'\n",
    "url = f'{URL_PROMETHEUS_API}/query_range?query={requests.utils.quote(query)}&start={start}&end={end}&step={step}'\n",
    "response = requests.get(url)\n",
    "container_memory_rss = response.json()\n",
    "\n",
    "# インスタンスごとのCPU使用率\n",
    "query = 'sum(rate(container_cpu_usage_seconds_total{instance=~\".+\",id=\"/\"}[5m])) by(instance) * 100'\n",
    "url = f'{URL_PROMETHEUS_API}/query_range?query={requests.utils.quote(query)}&start={start}&end={end}&step={step}'\n",
    "response = requests.get(url)\n",
    "container_cpu_usage_seconds_total = response.json()\n"
   ]
  },
  {
   "cell_type": "markdown",
   "id": "1e08d404",
   "metadata": {},
   "source": [
    "### 最大値・最小値・平均値"
   ]
  },
  {
   "cell_type": "code",
   "execution_count": 372,
   "id": "74e76097",
   "metadata": {},
   "outputs": [],
   "source": [
    "# {'title': metrics(promQLの戻り値)} を指定する\n",
    "metics = {'cpu_usage_per_instance(%)': container_cpu_usage_seconds_total,\n",
    "          'memory_usage_per_container(MB)': container_memory_rss,}"
   ]
  },
  {
   "cell_type": "markdown",
   "id": "a6b28465",
   "metadata": {},
   "source": [
    "以下のセルを実行すると、先に取得したcpu使用率とメモリ消費量の最大値・最小値・平均値を表形式で表示します。  \n",
    "表は全体での値と、個別（インスタンス毎、もしくはコンテナ毎）の値の両方を表示します。"
   ]
  },
  {
   "cell_type": "code",
   "execution_count": 387,
   "id": "5dcb2be8",
   "metadata": {},
   "outputs": [
    {
     "data": {
      "text/html": [
       "<h1>全体</h1>"
      ],
      "text/plain": [
       "<IPython.core.display.HTML object>"
      ]
     },
     "metadata": {},
     "output_type": "display_data"
    },
    {
     "data": {
      "text/html": [
       "<div>\n",
       "<style scoped>\n",
       "    .dataframe tbody tr th:only-of-type {\n",
       "        vertical-align: middle;\n",
       "    }\n",
       "\n",
       "    .dataframe tbody tr th {\n",
       "        vertical-align: top;\n",
       "    }\n",
       "\n",
       "    .dataframe thead th {\n",
       "        text-align: right;\n",
       "    }\n",
       "</style>\n",
       "<table border=\"1\" class=\"dataframe\">\n",
       "  <thead>\n",
       "    <tr style=\"text-align: right;\">\n",
       "      <th></th>\n",
       "      <th>min</th>\n",
       "      <th>max</th>\n",
       "      <th>avg</th>\n",
       "    </tr>\n",
       "    <tr>\n",
       "      <th>name</th>\n",
       "      <th></th>\n",
       "      <th></th>\n",
       "      <th></th>\n",
       "    </tr>\n",
       "  </thead>\n",
       "  <tbody>\n",
       "    <tr>\n",
       "      <th>cpu_usage_per_instance(%)</th>\n",
       "      <td>15.570887</td>\n",
       "      <td>77.612717</td>\n",
       "      <td>17.779174</td>\n",
       "    </tr>\n",
       "    <tr>\n",
       "      <th>memory_usage_per_container(MB)</th>\n",
       "      <td>66.797568</td>\n",
       "      <td>1064.366080</td>\n",
       "      <td>395.002539</td>\n",
       "    </tr>\n",
       "  </tbody>\n",
       "</table>\n",
       "</div>"
      ],
      "text/plain": [
       "                                      min          max         avg\n",
       "name                                                              \n",
       "cpu_usage_per_instance(%)       15.570887    77.612717   17.779174\n",
       "memory_usage_per_container(MB)  66.797568  1064.366080  395.002539"
      ]
     },
     "metadata": {},
     "output_type": "display_data"
    },
    {
     "data": {
      "text/html": [
       "<h1>個別</h1>"
      ],
      "text/plain": [
       "<IPython.core.display.HTML object>"
      ]
     },
     "metadata": {},
     "output_type": "display_data"
    },
    {
     "data": {
      "text/html": [
       "<style type=\"text/css\">\n",
       "#T_62730 caption {\n",
       "  font-size: 14pt;\n",
       "  font-weight: bold;\n",
       "}\n",
       "</style>\n",
       "<table id=\"T_62730\">\n",
       "  <caption>cpu_usage_per_instance(%)</caption>\n",
       "  <thead>\n",
       "    <tr>\n",
       "      <th class=\"blank level0\" >&nbsp;</th>\n",
       "      <th id=\"T_62730_level0_col0\" class=\"col_heading level0 col0\" >min</th>\n",
       "      <th id=\"T_62730_level0_col1\" class=\"col_heading level0 col1\" >max</th>\n",
       "      <th id=\"T_62730_level0_col2\" class=\"col_heading level0 col2\" >avg</th>\n",
       "    </tr>\n",
       "    <tr>\n",
       "      <th class=\"index_name level0\" >name</th>\n",
       "      <th class=\"blank col0\" >&nbsp;</th>\n",
       "      <th class=\"blank col1\" >&nbsp;</th>\n",
       "      <th class=\"blank col2\" >&nbsp;</th>\n",
       "    </tr>\n",
       "  </thead>\n",
       "  <tbody>\n",
       "    <tr>\n",
       "      <th id=\"T_62730_level0_row0\" class=\"row_heading level0 row0\" >10.17.153.195:18083</th>\n",
       "      <td id=\"T_62730_row0_col0\" class=\"data row0 col0\" >8.814741</td>\n",
       "      <td id=\"T_62730_row0_col1\" class=\"data row0 col1\" >9.243542</td>\n",
       "      <td id=\"T_62730_row0_col2\" class=\"data row0 col2\" >9.024553</td>\n",
       "    </tr>\n",
       "    <tr>\n",
       "      <th id=\"T_62730_level0_row1\" class=\"row_heading level0 row1\" >10.17.153.76:18083</th>\n",
       "      <td id=\"T_62730_row1_col0\" class=\"data row1 col0\" >2.758847</td>\n",
       "      <td id=\"T_62730_row1_col1\" class=\"data row1 col1\" >3.139048</td>\n",
       "      <td id=\"T_62730_row1_col2\" class=\"data row1 col2\" >2.914444</td>\n",
       "    </tr>\n",
       "    <tr>\n",
       "      <th id=\"T_62730_level0_row2\" class=\"row_heading level0 row2\" >10.17.157.53:18083</th>\n",
       "      <td id=\"T_62730_row2_col0\" class=\"data row2 col0\" >15.570887</td>\n",
       "      <td id=\"T_62730_row2_col1\" class=\"data row2 col1\" >77.612717</td>\n",
       "      <td id=\"T_62730_row2_col2\" class=\"data row2 col2\" >41.398523</td>\n",
       "    </tr>\n",
       "  </tbody>\n",
       "</table>\n"
      ],
      "text/plain": [
       "<pandas.io.formats.style.Styler at 0x7f3729e03250>"
      ]
     },
     "metadata": {},
     "output_type": "display_data"
    },
    {
     "data": {
      "text/html": [
       "<style type=\"text/css\">\n",
       "#T_5ea53 caption {\n",
       "  font-size: 14pt;\n",
       "  font-weight: bold;\n",
       "}\n",
       "</style>\n",
       "<table id=\"T_5ea53\">\n",
       "  <caption>memory_usage_per_container(MB)</caption>\n",
       "  <thead>\n",
       "    <tr>\n",
       "      <th class=\"blank level0\" >&nbsp;</th>\n",
       "      <th id=\"T_5ea53_level0_col0\" class=\"col_heading level0 col0\" >min</th>\n",
       "      <th id=\"T_5ea53_level0_col1\" class=\"col_heading level0 col1\" >max</th>\n",
       "      <th id=\"T_5ea53_level0_col2\" class=\"col_heading level0 col2\" >avg</th>\n",
       "    </tr>\n",
       "    <tr>\n",
       "      <th class=\"index_name level0\" >name</th>\n",
       "      <th class=\"blank col0\" >&nbsp;</th>\n",
       "      <th class=\"blank col1\" >&nbsp;</th>\n",
       "      <th class=\"blank col2\" >&nbsp;</th>\n",
       "    </tr>\n",
       "  </thead>\n",
       "  <tbody>\n",
       "    <tr>\n",
       "      <th id=\"T_5ea53_level0_row0\" class=\"row_heading level0 row0\" >jupyter-2.1.md571f6nejb52fibk10wexgba</th>\n",
       "      <td id=\"T_5ea53_row0_col0\" class=\"data row0 col0\" >72.970240</td>\n",
       "      <td id=\"T_5ea53_row0_col1\" class=\"data row0 col1\" >1051.131904</td>\n",
       "      <td id=\"T_5ea53_row0_col2\" class=\"data row0 col2\" >253.825414</td>\n",
       "    </tr>\n",
       "    <tr>\n",
       "      <th id=\"T_5ea53_level0_row1\" class=\"row_heading level0 row1\" >jupyter-3.1.rvvi421hu8lyl59iliepq2kyo</th>\n",
       "      <td id=\"T_5ea53_row1_col0\" class=\"data row1 col0\" >66.797568</td>\n",
       "      <td id=\"T_5ea53_row1_col1\" class=\"data row1 col1\" >1064.366080</td>\n",
       "      <td id=\"T_5ea53_row1_col2\" class=\"data row1 col2\" >536.179663</td>\n",
       "    </tr>\n",
       "  </tbody>\n",
       "</table>\n"
      ],
      "text/plain": [
       "<pandas.io.formats.style.Styler at 0x7f372ff05ba0>"
      ]
     },
     "metadata": {},
     "output_type": "display_data"
    }
   ],
   "source": [
    "import pandas as pd\n",
    "from IPython.display import display, HTML\n",
    "\n",
    "def get_metric_info(pr_result, key='name'):\n",
    "    \n",
    "    m_max, m_min, m_sum, m_cnt = None, None, 0, 0\n",
    "    items_info = dict()\n",
    "    for d in pr_result['data']['result']:\n",
    "        name = d['metric'].get(key)\n",
    "        if name is None:\n",
    "            name = d['metric'].get('instance')\n",
    "        if name is None:\n",
    "            continue\n",
    "\n",
    "        values = [float(v[1]) for v in d['values']]\n",
    "        v_min = min(values)\n",
    "        v_max = max(values)\n",
    "        v_sum = sum(values)\n",
    "        v_cnt = len(values)\n",
    "\n",
    "        items_info[name] = {\n",
    "            'max': v_max,\n",
    "            'min': v_min,\n",
    "            'sum': v_sum,\n",
    "            'cnt': v_cnt,\n",
    "        }\n",
    "\n",
    "        m_min = min(v_min, m_min) if m_min is not None else v_min\n",
    "        m_max = max(v_max, m_max) if m_max is not None else v_max\n",
    "        m_sum += v_sum\n",
    "        m_cnt += v_cnt\n",
    "    \n",
    "    return {'min': m_min, 'max': m_max, 'sum': m_sum, 'cnt': m_cnt, 'targets': items_info}\n",
    "\n",
    "\n",
    "df_info = {'name': [], 'min': [], 'max': [], 'avg': []}\n",
    "df_detail_info = dict()\n",
    "for metric_name, metric in metics.items():\n",
    "    res = get_metric_info(metric)\n",
    "    # 全体\n",
    "    df_info['name'].append(metric_name)\n",
    "    df_info['min'].append(res['min'])\n",
    "    df_info['max'].append(res['max'])\n",
    "    if res['cnt'] == 0:\n",
    "        v = None\n",
    "    else:\n",
    "        v = res['sum']/res['cnt']\n",
    "    df_info['avg'].append(v)\n",
    "    \n",
    "    # 個別\n",
    "    df_detail_info[metric_name] = {'name': [], 'min': [], 'max': [], 'avg': []}\n",
    "    for target_name, value in res['targets'].items():\n",
    "        df_detail_info[metric_name]['name'].append(target_name)\n",
    "        df_detail_info[metric_name]['min'].append(value['min'])\n",
    "        df_detail_info[metric_name]['max'].append(value['max'])\n",
    "        df_detail_info[metric_name]['avg'].append(value['sum']/value['cnt'])\n",
    "    \n",
    "\n",
    "display(HTML(\"<h1>全体</h1>\"))\n",
    "\n",
    "df = pd.DataFrame(df_info)\n",
    "df = df.set_index('name')\n",
    "display(df)\n",
    "\n",
    "display(HTML(\"<h1>個別</h1>\"))\n",
    "df_detail = pd.DataFrame(df_detail_info)\n",
    "for metric_name, detail in df_detail_info.items():\n",
    "    df_detail = pd.DataFrame(detail)\n",
    "    df_detail = df_detail.set_index('name')\n",
    "    styled_df_detail = df_detail.style.set_caption(metric_name).set_table_styles(\n",
    "        [{'selector': 'caption', 'props': [('font-size', '14pt'), ('font-weight', 'bold')]}]\n",
    "    )\n",
    "    display(styled_df_detail)\n"
   ]
  },
  {
   "cell_type": "markdown",
   "id": "209ff1ea",
   "metadata": {},
   "source": [
    "## 描画"
   ]
  },
  {
   "cell_type": "markdown",
   "id": "5a6a3121",
   "metadata": {},
   "source": [
    "以下のセルは、描画用関数の定義です。セルをそのまま実行してください。"
   ]
  },
  {
   "cell_type": "code",
   "execution_count": 329,
   "id": "d6c0f48a",
   "metadata": {},
   "outputs": [],
   "source": [
    "import datetime\n",
    "\n",
    "from cycler import cycler\n",
    "import matplotlib.pyplot as plt\n",
    "from matplotlib.colors import cnames\n",
    "\n",
    "\n",
    "def plot_values(data: dict, metric_key_label='name', title=None,\n",
    "                x_label=None, y_label=None, stack=False, value_round=False):\n",
    "    \"\"\"promQLで取得したデータをグラフで表示する\n",
    "\n",
    "\n",
    "    Args:\n",
    "        data (dict): promQLで取得したデータ\n",
    "        metric_key_label (str, optional): 凡例に表示する各メトリックのKey名\n",
    "        title (str, optional): グラフタイトル\n",
    "        x_label (str, optional): x軸ラベル\n",
    "        y_label (str, optional): y軸ラベル\n",
    "        stack (bool, optional): Trueを指定した場合、積み上げグラフになる\n",
    "        value_round (bool, optional): Trueを指定した場合、y軸の値を整数に丸める\n",
    "\n",
    "    Returns:\n",
    "        None\n",
    "\n",
    "    Examples:\n",
    "\n",
    "        関数の使い方\n",
    "\n",
    "\n",
    "        >>> plot_values(container_memory_rss, title='container_memory_rss',\n",
    "                        x_label='time', y_label='memory(MB)', value_round=True)\n",
    "\n",
    "    Note:\n",
    "        入力値は、promQLで取得できるresult type: `matrix`のデータ構造を想定している。\n",
    "        ex.) [\n",
    "              {\n",
    "                \"metric\": { \"<label_name>\": \"<label_value>\", ... },\n",
    "                \"values\": [ [ <unix_time>, \"<sample_value>\" ], ... ],\n",
    "                \"histograms\": [ [ <unix_time>, <histogram> ], ... ]\n",
    "              },\n",
    "              ...\n",
    "             ]\n",
    "            (https://prometheus.io/docs/prometheus/latest/querying/api/#expression-query-result-formats)\n",
    "    \"\"\"\n",
    "    \n",
    "    def _get_max_values_index(values):\n",
    "        max_idx = 0\n",
    "        max_values = 0\n",
    "        for i, d in enumerate(values):\n",
    "            if len(d['values']) > max_values:\n",
    "                max_values = len(d['values'])\n",
    "                max_idx = i\n",
    "        return max_idx\n",
    "    \n",
    "    pr_result = data['data']['result']\n",
    "    if len(pr_result) == 0:\n",
    "        print(f'No data: {title}')\n",
    "        return\n",
    "\n",
    "    plt.rcParams['axes.prop_cycle']  = cycler(color=['#4E79A7', '#F28E2B', '#E15759', '#76B7B2','#59A14E',\n",
    "                                                 '#EDC949','#B07AA2','#FF9DA7','#9C755F','#BAB0AC'])\n",
    "\n",
    "    fig, ax = plt.subplots(figsize=[10, 4.2])\n",
    "    plt.figure(figsize=[10, 4.2])\n",
    "    \n",
    "    # 先頭データを基準とする\n",
    "    x = [datetime.datetime.fromtimestamp(\n",
    "            values[0],\n",
    "            datetime.timezone(\n",
    "                datetime.timedelta(hours=9)\n",
    "            )\n",
    "             ).strftime('%H:%M') for values in pr_result[_get_max_values_index(pr_result)]['values']\n",
    "        ]\n",
    "    \n",
    "    y_values = list()\n",
    "    labels =list()\n",
    "    for d in pr_result:\n",
    "        label = d['metric'].get(metric_key_label)\n",
    "        if label is None:\n",
    "            continue\n",
    "\n",
    "        if value_round:\n",
    "            y = [int(float(d[1])) for d in d['values']]\n",
    "        else:\n",
    "            y = [float(d[1]) for d in d['values']]\n",
    "\n",
    "        # データが足りない場合は0で埋める\n",
    "        if len(x) - len(y) > 0:\n",
    "            y.extend([0 for i in range(len(x) - len(y))])\n",
    "\n",
    "        if stack:\n",
    "            y_values.append(y)\n",
    "            labels.append(label)\n",
    "        else:\n",
    "            ax.plot(x, y, label=label)\n",
    "\n",
    "    if stack:\n",
    "        ax.stackplot(x, *y_values, labels=labels)\n",
    "\n",
    "    ax.tick_params(axis='x', labelrotation=90)\n",
    "    ax.set_title(title, c=\"darkred\", size=\"large\")\n",
    "    ax.set_xlabel(x_label)\n",
    "    ax.set_ylabel(y_label)\n",
    "    \n",
    "    # 凡例は数が多いとグラフに被るので、グラフ右枠外に表示\n",
    "    ax.legend(loc='upper left', bbox_to_anchor=(1, 1))\n",
    "\n",
    "    plt.show()"
   ]
  },
  {
   "cell_type": "markdown",
   "id": "25df6de4",
   "metadata": {},
   "source": [
    "以下のセルは、上記描画用関数定義の呼び出し例です。  \n",
    "実行すると、先に取得した資源消費量を図示します。"
   ]
  },
  {
   "cell_type": "code",
   "execution_count": 338,
   "id": "d8ae0149",
   "metadata": {},
   "outputs": [
    {
     "data": {
      "image/png": "[encoded data removed]",
      "text/plain": [
       "<Figure size 720x302.4 with 1 Axes>"
      ]
     },
     "metadata": {
      "needs_background": "light"
     },
     "output_type": "display_data"
    },
    {
     "data": {
      "text/plain": [
       "<Figure size 720x302.4 with 0 Axes>"
      ]
     },
     "metadata": {},
     "output_type": "display_data"
    },
    {
     "data": {
      "image/png": "[encoded data removed]",
      "text/plain": [
       "<Figure size 720x302.4 with 1 Axes>"
      ]
     },
     "metadata": {
      "needs_background": "light"
     },
     "output_type": "display_data"
    },
    {
     "data": {
      "text/plain": [
       "<Figure size 720x302.4 with 0 Axes>"
      ]
     },
     "metadata": {},
     "output_type": "display_data"
    },
    {
     "data": {
      "image/png": "[encoded data removed]",
      "text/plain": [
       "<Figure size 720x302.4 with 1 Axes>"
      ]
     },
     "metadata": {
      "needs_background": "light"
     },
     "output_type": "display_data"
    },
    {
     "data": {
      "text/plain": [
       "<Figure size 720x302.4 with 0 Axes>"
      ]
     },
     "metadata": {},
     "output_type": "display_data"
    }
   ],
   "source": [
    "plot_values(container_memory_rss, title='container_memory_rss', x_label='time', y_label='memory(MB)', value_round=True)\n",
    "plot_values(container_memory_rss, title='container_memory_rss(stacked)', x_label='time', y_label='memory(MB)', value_round=True, stack=True)\n",
    "\n",
    "plot_values(container_cpu_usage_seconds_total, metric_key_label='instance', title='container_cpu_usage_seconds_total', x_label='time', y_label='usage(%)', value_round=True)"
   ]
  },
  {
   "cell_type": "code",
   "execution_count": null,
   "id": "125a67b6",
   "metadata": {},
   "outputs": [],
   "source": []
  }
 ],
 "metadata": {
  "kernelspec": {
   "display_name": "Python 3",
   "language": "python",
   "name": "python3"
  },
  "language_info": {
   "file_extension": ".py",
   "mimetype": "text/x-python",
   "name": "python",
   "nbconvert_exporter": "python",
   "pygments_lexer": "ipython3",
   "version": "3.10.4"
  },
  "toc": {
   "base_numbering": 1,
   "nav_menu": {},
   "number_sections": true,
   "sideBar": true,
   "skip_h1_title": false,
   "title_cell": "Table of Contents",
   "title_sidebar": "Contents",
   "toc_cell": false,
   "toc_position": {},
   "toc_section_display": true,
   "toc_window_display": false
  }
 },
 "nbformat": 4,
 "nbformat_minor": 5
}
