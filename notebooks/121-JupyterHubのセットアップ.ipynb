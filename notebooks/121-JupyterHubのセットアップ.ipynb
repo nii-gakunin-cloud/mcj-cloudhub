{
 "cells": [
  {
   "cell_type": "markdown",
   "metadata": {
    "lc_cell_meme": {
     "current": "5c08b078-163a-11ee-987e-0242ac110002-5-52d6-bf0d-f479-4d43-401b",
     "next": "5c08b168-163a-11ee-987e-0242ac110002-5-957e-1aec-a49d-a0db-3804",
     "previous": null
    }
   },
   "source": [
    "# JupyterHubのセットアップ\n",
    "\n",
    "---\n",
    "\n",
    "VCノードにJupyterHub環境を構築します。\n",
    "\n",
    "具体的には、Jupyterhubシステムの構成要素である、各Dockerコンテナを起動します。  \n",
    "また、single-user notebook serverコンテナイメージの取得・もしくは作成を行います。"
   ]
  },
  {
   "cell_type": "markdown",
   "metadata": {
    "lc_cell_meme": {
     "current": "5c08b168-163a-11ee-987e-0242ac110002-5-957e-1aec-a49d-a0db-3804",
     "next": "5c08b21c-163a-11ee-987e-0242ac110002-5-6bf6-d13d-3dd4-5ece-5565",
     "previous": "5c08b078-163a-11ee-987e-0242ac110002-5-52d6-bf0d-f479-4d43-401b"
    }
   },
   "source": [
    "## 概要\n",
    "\n",
    "このNotebookで構築するJupyterHubの構成要素を以下に示します。\n",
    "\n",
    "![<構成図表示エラー>](images/121/arch-121.png)"
   ]
  },
  {
   "cell_type": "markdown",
   "metadata": {
    "lc_cell_meme": {
     "current": "5c08b21c-163a-11ee-987e-0242ac110002-5-6bf6-d13d-3dd4-5ece-5565",
     "next": "5c08b2d0-163a-11ee-987e-0242ac110002-5-c19b-4e25-ec55-0133-7eb0",
     "previous": "5c08b168-163a-11ee-987e-0242ac110002-5-957e-1aec-a49d-a0db-3804"
    }
   },
   "source": [
    "> このNotebookで構築するJupyterHubではMoodleとの連携を前提としています。"
   ]
  },
  {
   "cell_type": "markdown",
   "metadata": {
    "lc_cell_meme": {
     "current": "5c08b2d0-163a-11ee-987e-0242ac110002-5-c19b-4e25-ec55-0133-7eb0",
     "next": "5c08b370-163a-11ee-987e-0242ac110002-5-97e0-62e0-17a1-75de-aea8",
     "previous": "5c08b21c-163a-11ee-987e-0242ac110002-5-6bf6-d13d-3dd4-5ece-5565"
    }
   },
   "source": [
    "### 事前に準備が必要となるものについて\n",
    "\n",
    "このNotebookを実行するにあたって、あらかじめ準備が必要となるものについて以下に記します。\n",
    "\n",
    "* VCノード構築\n",
    "* JupyterHubのサーバ証明書\n",
    "    - JupyterHubではHTTPSによる公開を行うためサーバ証明書とその秘密鍵を準備する必要があります。\n",
    "* Moodleシステム\n",
    "    - 本ノートブックで構築するJupyterhubと、lti1.3を用いた認証連携が可能な外部ツール設定を完了していること。（外部ツール設定時に自動発行されるキーを本ノートブック上で指定するため）\n",
    "        - 未設定の場合は、先に設定を行ってください。\n",
    "        - 設定例として、ノートブック一覧の「021-Moodleの外部ツール設定例（lti1.3&JupyterHub）.ipynb」を参考にしてください。"
   ]
  },
  {
   "cell_type": "markdown",
   "metadata": {
    "lc_cell_meme": {
     "current": "5c08b370-163a-11ee-987e-0242ac110002-5-97e0-62e0-17a1-75de-aea8",
     "next": "5c08b410-163a-11ee-987e-0242ac110002-5-9afc-16ae-68eb-d647-e846",
     "previous": "5c08b2d0-163a-11ee-987e-0242ac110002-5-c19b-4e25-ec55-0133-7eb0"
    }
   },
   "source": [
    "### UnitGroup名\n",
    "\n",
    "JupyterHubの構築環境となるVCPのUnitGroup名を指定します。"
   ]
  },
  {
   "cell_type": "markdown",
   "metadata": {
    "lc_cell_meme": {
     "current": "5c08b410-163a-11ee-987e-0242ac110002-5-9afc-16ae-68eb-d647-e846",
     "next": "5c08b4b0-163a-11ee-987e-0242ac110002-5-af1f-ff22-91f2-5182-95c0",
     "previous": "5c08b370-163a-11ee-987e-0242ac110002-5-97e0-62e0-17a1-75de-aea8"
    }
   },
   "source": [
    "VCノードを作成時に指定した値を確認するために `group_vars`ファイル名の一覧を表示します。"
   ]
  },
  {
   "cell_type": "code",
   "execution_count": null,
   "metadata": {
    "lc_cell_meme": {
     "current": "5c08b4b0-163a-11ee-987e-0242ac110002-5-af1f-ff22-91f2-5182-95c0",
     "next": "5c08b550-163a-11ee-987e-0242ac110002-5-bafd-3296-f8de-a6db-7d89",
     "previous": "5c08b410-163a-11ee-987e-0242ac110002-5-9afc-16ae-68eb-d647-e846"
    }
   },
   "outputs": [],
   "source": [
    "!ls -1 group_vars/"
   ]
  },
  {
   "cell_type": "markdown",
   "metadata": {
    "lc_cell_meme": {
     "current": "5c08b550-163a-11ee-987e-0242ac110002-5-bafd-3296-f8de-a6db-7d89",
     "next": "5c08b5e6-163a-11ee-987e-0242ac110002-5-d9b6-737b-d2c0-d959-9679",
     "previous": "5c08b4b0-163a-11ee-987e-0242ac110002-5-af1f-ff22-91f2-5182-95c0"
    }
   },
   "source": [
    "上のセルの出力結果を参考にして、UnitGroup名を次のセルに指定してください。"
   ]
  },
  {
   "cell_type": "code",
   "execution_count": null,
   "metadata": {
    "lc_cell_meme": {
     "current": "5c08b5e6-163a-11ee-987e-0242ac110002-5-d9b6-737b-d2c0-d959-9679",
     "next": "5c08b686-163a-11ee-987e-0242ac110002-5-0350-dee2-db57-58c3-0108",
     "previous": "5c08b550-163a-11ee-987e-0242ac110002-5-bafd-3296-f8de-a6db-7d89"
    },
    "tags": [
     "vcp:parameters"
    ]
   },
   "outputs": [],
   "source": [
    "# (例)\n",
    "# ugroup_name = 'JupyterHub'\n",
    "\n",
    "ugroup_name = "
   ]
  },
  {
   "cell_type": "markdown",
   "metadata": {
    "heading_collapsed": true,
    "lc_cell_meme": {
     "current": "5c08b686-163a-11ee-987e-0242ac110002-5-0350-dee2-db57-58c3-0108",
     "next": "5c08b71c-163a-11ee-987e-0242ac110002-5-fe5e-4ac1-17a6-d94e-f222",
     "previous": "5c08b5e6-163a-11ee-987e-0242ac110002-5-d9b6-737b-d2c0-d959-9679"
    }
   },
   "source": [
    "### チェック\n",
    "\n",
    "対象となるVCノードがAnsibleによって操作できることを確認します。"
   ]
  },
  {
   "cell_type": "markdown",
   "metadata": {
    "hidden": true,
    "lc_cell_meme": {
     "current": "5c08b71c-163a-11ee-987e-0242ac110002-5-fe5e-4ac1-17a6-d94e-f222",
     "next": "5c08b7bc-163a-11ee-987e-0242ac110002-5-e9fd-5231-cef3-f117-be8d",
     "previous": "5c08b686-163a-11ee-987e-0242ac110002-5-0350-dee2-db57-58c3-0108"
    }
   },
   "source": [
    "Ansibleの設定ファイルの場所を環境変数に設定しておきます。"
   ]
  },
  {
   "cell_type": "code",
   "execution_count": null,
   "metadata": {
    "hidden": true,
    "lc_cell_meme": {
     "current": "5c08b7bc-163a-11ee-987e-0242ac110002-5-e9fd-5231-cef3-f117-be8d",
     "next": "5c08b852-163a-11ee-987e-0242ac110002-5-cb5f-92f8-8575-e928-3e5d",
     "previous": "5c08b71c-163a-11ee-987e-0242ac110002-5-fe5e-4ac1-17a6-d94e-f222"
    }
   },
   "outputs": [],
   "source": [
    "from pathlib import Path\n",
    "import os\n",
    "\n",
    "cfg_ansible = Path('ansible.cfg')\n",
    "if cfg_ansible.exists():\n",
    "    os.environ['ANSIBLE_CONFIG'] = str(cfg_ansible.resolve())"
   ]
  },
  {
   "cell_type": "markdown",
   "metadata": {
    "hidden": true,
    "lc_cell_meme": {
     "current": "5c08b852-163a-11ee-987e-0242ac110002-5-cb5f-92f8-8575-e928-3e5d",
     "next": "5c08b8e8-163a-11ee-987e-0242ac110002-5-1d7d-0fc4-ee3b-1a16-cf24",
     "previous": "5c08b7bc-163a-11ee-987e-0242ac110002-5-e9fd-5231-cef3-f117-be8d"
    }
   },
   "source": [
    "構築対象となる各VCノードにアクセスできることを確認します。"
   ]
  },
  {
   "cell_type": "code",
   "execution_count": null,
   "metadata": {
    "hidden": true,
    "lc_cell_meme": {
     "current": "5c08b8e8-163a-11ee-987e-0242ac110002-5-1d7d-0fc4-ee3b-1a16-cf24",
     "next": "5c08b97e-163a-11ee-987e-0242ac110002-5-c7cb-3690-1385-062f-4057",
     "previous": "5c08b852-163a-11ee-987e-0242ac110002-5-cb5f-92f8-8575-e928-3e5d"
    },
    "pinned_outputs": []
   },
   "outputs": [],
   "source": [
    "target_hub = f'{ugroup_name}_manager'\n",
    "\n",
    "!ansible {target_hub} -m ping"
   ]
  },
  {
   "cell_type": "code",
   "execution_count": null,
   "metadata": {
    "hidden": true,
    "lc_cell_meme": {
     "current": "5c08b97e-163a-11ee-987e-0242ac110002-5-c7cb-3690-1385-062f-4057",
     "next": "5c08ba14-163a-11ee-987e-0242ac110002-5-e52c-ab56-9a0a-6008-7957",
     "previous": "5c08b8e8-163a-11ee-987e-0242ac110002-5-1d7d-0fc4-ee3b-1a16-cf24"
    },
    "pinned_outputs": []
   },
   "outputs": [],
   "source": [
    "target_nodes = f'{ugroup_name}_worker'\n",
    "\n",
    "!ansible {target_nodes} -m ping"
   ]
  },
  {
   "cell_type": "markdown",
   "metadata": {
    "hidden": true,
    "lc_cell_meme": {
     "current": "5c08ba14-163a-11ee-987e-0242ac110002-5-e52c-ab56-9a0a-6008-7957",
     "next": "5c08bad2-163a-11ee-987e-0242ac110002-5-4a7f-1e47-5aae-2a6b-a197",
     "previous": "5c08b97e-163a-11ee-987e-0242ac110002-5-c7cb-3690-1385-062f-4057"
    }
   },
   "source": [
    "UnitGroup名に対応する group_varsファイルが存在していることを確認します。"
   ]
  },
  {
   "cell_type": "code",
   "execution_count": null,
   "metadata": {
    "hidden": true,
    "lc_cell_meme": {
     "current": "5c08bad2-163a-11ee-987e-0242ac110002-5-4a7f-1e47-5aae-2a6b-a197",
     "next": "5c08bb72-163a-11ee-987e-0242ac110002-5-689c-5659-168a-1fe5-c09d",
     "previous": "5c08ba14-163a-11ee-987e-0242ac110002-5-e52c-ab56-9a0a-6008-7957"
    }
   },
   "outputs": [],
   "source": [
    "!test -f group_vars/{ugroup_name}"
   ]
  },
  {
   "cell_type": "markdown",
   "metadata": {
    "lc_cell_meme": {
     "current": "5c08bb72-163a-11ee-987e-0242ac110002-5-689c-5659-168a-1fe5-c09d",
     "next": "5c08cce8-163a-11ee-987e-0242ac110002-5-32bc-eacd-f1a3-d448-7177",
     "previous": "5c08bad2-163a-11ee-987e-0242ac110002-5-4a7f-1e47-5aae-2a6b-a197"
    }
   },
   "source": [
    "## パラメータの設定\n",
    "\n",
    "JupyterHubシステムに関する各種設定項目を指定します。\n",
    "\n",
    "ここで設定された項目はansible変数として保存され、ファイルのmanagerノードへの配置時に各ファイルに反映されます。"
   ]
  },
  {
   "cell_type": "markdown",
   "metadata": {
    "lc_cell_meme": {
     "current": "5c08cce8-163a-11ee-987e-0242ac110002-5-32bc-eacd-f1a3-d448-7177",
     "next": "259a9e24-3026-11ee-b73e-0242ac110003-4-b59f-c613-7092-7056",
     "previous": "5c08bb72-163a-11ee-987e-0242ac110002-5-689c-5659-168a-1fe5-c09d"
    }
   },
   "source": [
    "### 必須設定項目"
   ]
  },
  {
   "cell_type": "markdown",
   "metadata": {
    "lc_cell_meme": {
     "current": "259a9e24-3026-11ee-b73e-0242ac110003-4-b59f-c613-7092-7056",
     "execution_end_time": "2023-08-01T04:44:40.231338Z",
     "next": "3c7de47c-27aa-11ee-987e-0242ac110002-4-0b37-c91b-7900-e9a4",
     "previous": "5c08cce8-163a-11ee-987e-0242ac110002-5-32bc-eacd-f1a3-d448-7177"
    }
   },
   "source": [
    "#### パラメータ類"
   ]
  },
  {
   "cell_type": "code",
   "execution_count": null,
   "metadata": {
    "lc_cell_meme": {
     "current": "3c7de47c-27aa-11ee-987e-0242ac110002-4-0b37-c91b-7900-e9a4",
     "next": "cac8a654-343d-11ef-b248-0242ac110002",
     "previous": "259a9e24-3026-11ee-b73e-0242ac110003-4-b59f-c613-7092-7056"
    }
   },
   "outputs": [],
   "source": [
    "# JupyterHubのホスト名(FQDN) (例) 'www.sample.org'\n",
    "jupyterhub_fqdn = \n",
    "\n",
    "# lti1.3認証連携情報(moodle等)\n",
    "# lms プラットフォームID (例) 'www.sample.org'\n",
    "lms_platform_id = \n",
    "# lms クライアントID \n",
    "lms_cliend_id = \n"
   ]
  },
  {
   "cell_type": "markdown",
   "metadata": {
    "lc_cell_meme": {
     "current": "cac8a654-343d-11ef-b248-0242ac110002",
     "next": "cac8a78a-343d-11ef-b248-0242ac110002",
     "previous": "3c7de47c-27aa-11ee-987e-0242ac110002-4-0b37-c91b-7900-e9a4"
    }
   },
   "source": [
    "受講生一覧取得方法を設定します。  \n",
    "Moodleのバージョンが4.0.0以上であれば、以下のセルを変更する必要はありません。  \n",
    "Moodleのバージョンが4.0.0未満で、NRPS（Names and Role Provisioning Services）を利用できない場合に、moodleのwebserviceを利用します。（https://tracker.moodle.org/browse/MDL-75279）\n",
    "その場合、`get_course_member_method`には`'moodle_api'`を指定し、Moodleで発行したトークンを`lms_api_token`に指定してください。"
   ]
  },
  {
   "cell_type": "code",
   "execution_count": null,
   "metadata": {
    "lc_cell_meme": {
     "current": "cac8a78a-343d-11ef-b248-0242ac110002",
     "next": "cac8a7e4-343d-11ef-b248-0242ac110002",
     "previous": "cac8a654-343d-11ef-b248-0242ac110002"
    }
   },
   "outputs": [],
   "source": [
    "# get_course_member_method = 'moodle_api'\n",
    "get_course_member_method = ''\n",
    "lms_api_token = ''"
   ]
  },
  {
   "cell_type": "markdown",
   "metadata": {
    "lc_cell_meme": {
     "current": "cac8a7e4-343d-11ef-b248-0242ac110002",
     "next": "cac8a82a-343d-11ef-b248-0242ac110002",
     "previous": "cac8a78a-343d-11ef-b248-0242ac110002"
    }
   },
   "source": [
    "[configurable-http-proxy](https://github.com/jupyterhub/configurable-http-proxy)で使用するトークンを生成します。"
   ]
  },
  {
   "cell_type": "code",
   "execution_count": null,
   "metadata": {
    "lc_cell_meme": {
     "current": "cac8a82a-343d-11ef-b248-0242ac110002",
     "next": "5c08cce8-163a-11ee-987e-0242ac110002-6-32bc-eacd-f1a3-9b13-808e-d89b",
     "previous": "cac8a7e4-343d-11ef-b248-0242ac110002"
    }
   },
   "outputs": [],
   "source": [
    "import random\n",
    "import string\n",
    "configproxy_auth_token = ''.join([random.choice(string.ascii_letters + string.digits) for _ in range(32)])\n",
    "configproxy_auth_token"
   ]
  },
  {
   "cell_type": "markdown",
   "metadata": {
    "lc_cell_meme": {
     "current": "5c08cce8-163a-11ee-987e-0242ac110002-6-32bc-eacd-f1a3-9b13-808e-d89b",
     "next": "d4200fc0-3d77-11ee-b73e-0242ac110003-2-a0ae-5dae",
     "previous": "cac8a82a-343d-11ef-b248-0242ac110002"
    }
   },
   "source": [
    "### 任意設定項目"
   ]
  },
  {
   "cell_type": "markdown",
   "metadata": {
    "lc_cell_meme": {
     "current": "d4200fc0-3d77-11ee-b73e-0242ac110003-2-a0ae-5dae",
     "next": "d4201182-3d77-11ee-b73e-0242ac110003-2-d3b8-3b0f",
     "previous": "5c08cce8-163a-11ee-987e-0242ac110002-6-32bc-eacd-f1a3-9b13-808e-d89b"
    }
   },
   "source": [
    "#### 設定用ファイル配置\n",
    "\n",
    "テンプレートとして事前準備したファイルを、現在使用している構築用ワークディレクトリにコピーします。"
   ]
  },
  {
   "cell_type": "code",
   "execution_count": null,
   "metadata": {
    "lc_cell_meme": {
     "current": "d4201182-3d77-11ee-b73e-0242ac110003-2-d3b8-3b0f",
     "next": "259a9e24-3026-11ee-b73e-0242ac110003-5-f5f3-8a97-576d-cd43-a268",
     "previous": "d4200fc0-3d77-11ee-b73e-0242ac110003-2-a0ae-5dae"
    }
   },
   "outputs": [],
   "source": [
    "!mkdir -p edit\n",
    "!cp -n ./template/jupyterhub/jupyterhub/lms_web_service.py ./edit/\n",
    "!cp -n ./template/jupyterhub/jupyterhub/jupyterhub_config.py ./edit/\n",
    "!cp -n ./template/jupyterhub/jupyterhub/jupyterhub_params.yaml ./edit/"
   ]
  },
  {
   "cell_type": "markdown",
   "metadata": {
    "lc_cell_meme": {
     "current": "259a9e24-3026-11ee-b73e-0242ac110003-5-f5f3-8a97-576d-cd43-a268",
     "execution_end_time": "2023-08-01T04:44:40.231338Z",
     "next": "5c08ce1e-163a-11ee-987e-0242ac110002-5-3bb7-a01e-e4a1-0348-85d9",
     "previous": "d4201182-3d77-11ee-b73e-0242ac110003-2-d3b8-3b0f"
    }
   },
   "source": [
    "#### パラメータ類\n",
    "\n",
    "jupyterhubで使用するDB等の接続情報等を設定します。"
   ]
  },
  {
   "cell_type": "code",
   "execution_count": null,
   "metadata": {
    "lc_cell_meme": {
     "current": "5c08ce1e-163a-11ee-987e-0242ac110002-5-3bb7-a01e-e4a1-0348-85d9",
     "next": "cac8a866-343d-11ef-b248-0242ac110002",
     "previous": "259a9e24-3026-11ee-b73e-0242ac110003-5-f5f3-8a97-576d-cd43-a268"
    },
    "pinned_outputs": []
   },
   "outputs": [],
   "source": [
    "# メールアドレスドメイン設定\n",
    "email_domain = 'example.com'\n",
    "\n",
    "# JupyterhubDB接続情報\n",
    "db_user = 'jupyter'\n",
    "db_password = 'PassWordDesu'\n",
    "\n",
    "# Jupyterhub用LDAPサーバ（ローカルLDAP）\n",
    "ldap_admin = 'Manager'\n",
    "ldap_password = 'PassWordDesu'\n",
    "\n",
    "# Jupyterhub 初期設定\n",
    "jupyterhub_admin_users = ['admin']\n",
    "\n",
    "# single-user notebook server コンテナイメージ\n",
    "singleuser_image = 'mcj-cloudhub-nb:latest'\n",
    "\n",
    "# 共有ディレクトリパス\n",
    "home_directory_root = '/jupyter'\n",
    "share_directory_root = '/exchange'\n",
    "\n",
    "# dockerネットワーク\n",
    "swarm_network = 'jupyterhub-network'\n",
    "\n",
    "# ユーザを一意に識別するキー\n",
    "lti_username_key = 'sub'\n",
    "\n",
    "# ユーザのcookieの有効日数(0.25日=6時間)\n",
    "cookie_max_age_days = 0.25\n",
    "\n",
    "# Jupyterhubコンテナイメージ\n",
    "jupyterhub_image = 'mcj-cloudhub:latest'\n",
    "\n",
    "# single-user notebook server コンテナをDocker Swarmのどのノードで起動するか\n",
    "# 「011-VCノード作成」で、worker_nodes(workerノード数)に0を指定した場合、\"manager\"を指定します。\n",
    "# node_role = 'manager'\n",
    "node_role = 'worker'\n",
    "\n",
    "# デフォルトビュー\n",
    "# \"/tree\" を指定すると、デフォルトのUIがNotebookになります。\n",
    "# \"/lab\" を指定すると、デフォルトのUIがlabになります。\n",
    "default_url = \"/lab\"\n"
   ]
  },
  {
   "cell_type": "markdown",
   "metadata": {
    "lc_cell_meme": {
     "current": "cac8a866-343d-11ef-b248-0242ac110002",
     "next": "cac8a8a2-343d-11ef-b248-0242ac110002",
     "previous": "5c08ce1e-163a-11ee-987e-0242ac110002-5-3bb7-a01e-e4a1-0348-85d9"
    }
   },
   "source": [
    "single-user notebook serverコンテナのリソース制限等を設定します。  \n",
    "変更する場合、以下の内容を書き換えてください。  \n",
    "\n",
    "[参考: DockerSpawner API](https://jupyterhub-dockerspawner.readthedocs.io/en/latest/api/index.html)\n",
    "\n",
    "また、idle状態のsingle-user notebook serverコンテナを定期的にシャットダウンするサービスを稼働させるため、idle状態でのタイムアウトの時間設定を変更する場合もこちらで行ってください。デフォルトでは、1分に1回、idle状態かどうかのチェックを行い、600秒＝10分間idle状態が続いているコンテナはシャットダウンするように設定しています。  \n",
    "idle状態のコンテナも起動したままにしたい場合、`cull_server_timeout`の値を0に設定してください。  \n",
    "\n",
    "[参考: jupyterhub-idle-culler](https://github.com/jupyterhub/jupyterhub-idle-culler)"
   ]
  },
  {
   "cell_type": "code",
   "execution_count": null,
   "metadata": {
    "lc_cell_meme": {
     "current": "cac8a8a2-343d-11ef-b248-0242ac110002",
     "next": "4494aabe-3d77-11ee-b73e-0242ac110003-2-09c0-80a0",
     "previous": "cac8a866-343d-11ef-b248-0242ac110002"
    }
   },
   "outputs": [],
   "source": [
    "import yaml\n",
    "from pathlib import Path\n",
    "\n",
    "path = Path('edit/jupyterhub_params.yaml')\n",
    "with path.open() as f:\n",
    "    params = yaml.safe_load(f)\n",
    "\n",
    "params.update({\n",
    "    'resource': {\n",
    "        'groups': {\n",
    "            'student': {\n",
    "                'mem_limit': '1G',\n",
    "                'cpu_limit': 0.5,\n",
    "                'mem_guarantee': 0,\n",
    "                'cpu_guarantee': 0,\n",
    "            },\n",
    "            'teacher': {\n",
    "                'mem_limit': '1G',\n",
    "                'cpu_limit': 1.0,\n",
    "                'mem_guarantee': 0,\n",
    "                'cpu_guarantee': 0,\n",
    "            },\n",
    "        },\n",
    "    },\n",
    "    'cull_server': {\n",
    "        'cull_server_timeout': 600,\n",
    "        'cull_server_every': 60,\n",
    "        'cull_server_max_age': 0,\n",
    "    },\n",
    "})\n",
    "\n",
    "with path.open(mode='w') as f:\n",
    "    yaml.safe_dump(params, stream=f)"
   ]
  },
  {
   "cell_type": "markdown",
   "metadata": {
    "lc_cell_meme": {
     "current": "4494aabe-3d77-11ee-b73e-0242ac110003-2-09c0-80a0",
     "next": "4494ad98-3d77-11ee-b73e-0242ac110003-2-b860-0c6b",
     "previous": "cac8a8a2-343d-11ef-b248-0242ac110002"
    }
   },
   "source": [
    "#### その他Jupyterhubで設定可能な項目\n",
    "\n",
    "その他、Jupyterhubで設定可能な項目は、[Jupyterhub公式ドキュメント](https://jupyterhub.readthedocs.io/en/1.4.2/reference/config-reference.html)等を参照し、`jupyterhub_config.py`を直接編集してください。\n",
    "\n",
    "以下のセルを実行すると、編集対象の`jupyterhub_config.py`の編集画面へのリンクを表示します。"
   ]
  },
  {
   "cell_type": "code",
   "execution_count": null,
   "metadata": {
    "lc_cell_meme": {
     "current": "4494ad98-3d77-11ee-b73e-0242ac110003-2-b860-0c6b",
     "next": "5c08d18e-163a-11ee-987e-0242ac110002-5-16f7-fe99-d203-4a39-2d68",
     "previous": "4494aabe-3d77-11ee-b73e-0242ac110003-2-09c0-80a0"
    }
   },
   "outputs": [],
   "source": [
    "%run scripts/edit_conf.py\n",
    "generate_edit_link_config()"
   ]
  },
  {
   "cell_type": "markdown",
   "metadata": {
    "heading_collapsed": true,
    "lc_cell_meme": {
     "current": "5c08d18e-163a-11ee-987e-0242ac110002-5-16f7-fe99-d203-4a39-2d68",
     "next": "5c08d22e-163a-11ee-987e-0242ac110002-5-8b1a-4c2b-f611-c972-bc3c",
     "previous": "4494ad98-3d77-11ee-b73e-0242ac110003-2-b860-0c6b"
    }
   },
   "source": [
    "### オーバーレイネットワークの指定"
   ]
  },
  {
   "cell_type": "markdown",
   "metadata": {
    "hidden": true,
    "lc_cell_meme": {
     "current": "5c08d22e-163a-11ee-987e-0242ac110002-5-8b1a-4c2b-f611-c972-bc3c",
     "next": "5c08d2c4-163a-11ee-987e-0242ac110002-5-3a36-836b-972a-e8c8-ade7",
     "previous": "5c08d18e-163a-11ee-987e-0242ac110002-5-16f7-fe99-d203-4a39-2d68"
    }
   },
   "source": [
    "JupyterHubのコンテナはDocker Swarmのオーバーレイネットワークで実行されます。オーバーレイネットワークに割り当てるサブネットを指定します。\n",
    "\n",
    "> 基本的にはデフォルト値からの変更は不要ですが、VCノードに割り当てられているIPアドレスと範囲が重複している場合は他のサブネットに変更して下さい。"
   ]
  },
  {
   "cell_type": "code",
   "execution_count": null,
   "metadata": {
    "hidden": true,
    "lc_cell_meme": {
     "current": "5c08d2c4-163a-11ee-987e-0242ac110002-5-3a36-836b-972a-e8c8-ade7",
     "next": "5c08d364-163a-11ee-987e-0242ac110002-5-7eb5-ac27-71a4-57f0-e34e",
     "previous": "5c08d22e-163a-11ee-987e-0242ac110002-5-8b1a-4c2b-f611-c972-bc3c"
    }
   },
   "outputs": [],
   "source": [
    "# (例)\n",
    "# jupyterhub_backend = '10.1.0.0/20'\n",
    "\n",
    "jupyterhub_backend = '10.1.0.0/20'"
   ]
  },
  {
   "cell_type": "markdown",
   "metadata": {
    "hidden": true,
    "lc_cell_meme": {
     "current": "5c08d364-163a-11ee-987e-0242ac110002-5-7eb5-ac27-71a4-57f0-e34e",
     "next": "5c08d3fa-163a-11ee-987e-0242ac110002-5-4dde-06d0-b0cd-911f-401b",
     "previous": "5c08d2c4-163a-11ee-987e-0242ac110002-5-3a36-836b-972a-e8c8-ade7"
    }
   },
   "source": [
    "指定されたサブネットがVCノードに割り当てられているIPアドレスと重なっていないことをチェックします。次のセルを実行してエラーとならないことを確認してください。"
   ]
  },
  {
   "cell_type": "code",
   "execution_count": null,
   "metadata": {
    "hidden": true,
    "lc_cell_meme": {
     "current": "5c08d3fa-163a-11ee-987e-0242ac110002-5-4dde-06d0-b0cd-911f-401b",
     "next": "5c08d49a-163a-11ee-987e-0242ac110002-5-b3a9-203e-e5d2-122f-a26e",
     "previous": "5c08d364-163a-11ee-987e-0242ac110002-5-7eb5-ac27-71a4-57f0-e34e"
    },
    "scrolled": true
   },
   "outputs": [],
   "source": [
    "!ansible-playbook -v -e jupyterhub_backend={jupyterhub_backend} -l {ugroup_name} \\\n",
    "    playbooks/check-subnet.yml"
   ]
  },
  {
   "cell_type": "markdown",
   "metadata": {
    "lc_cell_meme": {
     "current": "5c08d49a-163a-11ee-987e-0242ac110002-5-b3a9-203e-e5d2-122f-a26e",
     "next": "5c08d530-163a-11ee-987e-0242ac110002-5-43c0-3f72-0bbf-93b2-7dee",
     "previous": "5c08d3fa-163a-11ee-987e-0242ac110002-5-4dde-06d0-b0cd-911f-401b"
    }
   },
   "source": [
    "### パラメータの保存\n",
    "\n",
    "ここまで指定したパラメータを ansible の変数として `group_vars`ファイルに保存します。"
   ]
  },
  {
   "cell_type": "code",
   "execution_count": null,
   "metadata": {
    "lc_cell_meme": {
     "current": "5c08d530-163a-11ee-987e-0242ac110002-5-43c0-3f72-0bbf-93b2-7dee",
     "next": "5c08d5c6-163a-11ee-987e-0242ac110002-5-aeed-fe11-ec02-95d4-de5c",
     "previous": "5c08d49a-163a-11ee-987e-0242ac110002-5-b3a9-203e-e5d2-122f-a26e"
    }
   },
   "outputs": [],
   "source": [
    "import yaml\n",
    "from pathlib import Path\n",
    "\n",
    "gvars_path = Path(f'group_vars/{ugroup_name}')\n",
    "with gvars_path.open() as f:\n",
    "    gvars = yaml.safe_load(f)\n",
    "\n",
    "if gvars['worker_nodes'] == 0:\n",
    "    node_role = 'manager'\n",
    "\n",
    "gvars.update({\n",
    "    'swarm_network': swarm_network,\n",
    "    'jupyterhub_backend': jupyterhub_backend,\n",
    "    'jupyterhub_fqdn': jupyterhub_fqdn,\n",
    "    'db_user': db_user,\n",
    "    'db_password': db_password,\n",
    "    'email_domain': email_domain,\n",
    "    'jupyterhub_admin_users': jupyterhub_admin_users,\n",
    "    'lms_platform_id': lms_platform_id,\n",
    "    'lms_cliend_id': lms_cliend_id,\n",
    "    'lms_api_token': lms_api_token if 'lms_api_token' in locals() else '',\n",
    "    'get_course_member_method': get_course_member_method if 'get_course_member_method' in locals() else '',\n",
    "    'singleuser_image': singleuser_image.split(':')[0],\n",
    "    'singleuser_image_tag': singleuser_image.split(':')[1],\n",
    "    'ldap_password': ldap_password,\n",
    "    'ldap_admin': ldap_admin,\n",
    "    'home_directory_root': home_directory_root,\n",
    "    'share_directory_root': share_directory_root,\n",
    "    'lti_username_key': lti_username_key,\n",
    "    'cookie_max_age_days': cookie_max_age_days,\n",
    "    'configproxy_auth_token': configproxy_auth_token,\n",
    "    'jupyterhub_image': jupyterhub_image,\n",
    "    'node_role': node_role,\n",
    "    'ldap_admin': ldap_admin,\n",
    "    'default_url': default_url,\n",
    "})\n",
    "\n",
    "with gvars_path.open(mode='w') as f:\n",
    "    yaml.safe_dump(gvars, stream=f)"
   ]
  },
  {
   "cell_type": "markdown",
   "metadata": {
    "lc_cell_meme": {
     "current": "5c08d5c6-163a-11ee-987e-0242ac110002-5-aeed-fe11-ec02-95d4-de5c",
     "next": "5c08d65c-163a-11ee-987e-0242ac110002-5-9bb8-43a3-e963-852e-ea0f",
     "previous": "5c08d530-163a-11ee-987e-0242ac110002-5-43c0-3f72-0bbf-93b2-7dee"
    }
   },
   "source": [
    "## JupyterHubのセットアップ\n",
    "\n",
    "JupyterHubの構成要素となる、各コンテナのセットアップを行います。"
   ]
  },
  {
   "cell_type": "markdown",
   "metadata": {
    "lc_cell_meme": {
     "current": "5c08d65c-163a-11ee-987e-0242ac110002-5-9bb8-43a3-e963-852e-ea0f",
     "next": "5c08d6f2-163a-11ee-987e-0242ac110002-5-2f6e-411a-8d29-c252-3ba0",
     "previous": "5c08d5c6-163a-11ee-987e-0242ac110002-5-aeed-fe11-ec02-95d4-de5c"
    }
   },
   "source": [
    "### Nginx\n",
    "\n",
    "Managerノードに構築する、Nginx コンテナに関するセットアップを行います。"
   ]
  },
  {
   "cell_type": "markdown",
   "metadata": {
    "lc_cell_meme": {
     "current": "5c08d6f2-163a-11ee-987e-0242ac110002-5-2f6e-411a-8d29-c252-3ba0",
     "next": "5c08d788-163a-11ee-987e-0242ac110002-5-a015-4ed1-f631-68d8-641c",
     "previous": "5c08d65c-163a-11ee-987e-0242ac110002-5-9bb8-43a3-e963-852e-ea0f"
    }
   },
   "source": [
    "#### 証明書の配置\n",
    "\n",
    "Nginxコンテナで使用するサーバ証明書の配置を確認します。"
   ]
  },
  {
   "cell_type": "markdown",
   "metadata": {
    "lc_cell_meme": {
     "current": "5c08d788-163a-11ee-987e-0242ac110002-5-a015-4ed1-f631-68d8-641c",
     "next": "5c08d81e-163a-11ee-987e-0242ac110002-5-c2f3-4114-cfb4-85db-eb63",
     "previous": "5c08d6f2-163a-11ee-987e-0242ac110002-5-2f6e-411a-8d29-c252-3ba0"
    }
   },
   "source": [
    "サーバ証明書を配置するディレクトリを作成します。"
   ]
  },
  {
   "cell_type": "code",
   "execution_count": null,
   "metadata": {
    "lc_cell_meme": {
     "current": "5c08d81e-163a-11ee-987e-0242ac110002-5-c2f3-4114-cfb4-85db-eb63",
     "next": "5c08d8b4-163a-11ee-987e-0242ac110002-5-5b20-a665-e891-5cb8-82ea",
     "previous": "5c08d788-163a-11ee-987e-0242ac110002-5-a015-4ed1-f631-68d8-641c"
    },
    "scrolled": true
   },
   "outputs": [],
   "source": [
    "!ansible {target_hub} -b -m file -a \\\n",
    "    'path={{{{base_dir}}}} state=directory owner={{{{ansible_user}}}}'\n",
    "!ansible {target_hub} -b -m file -a \\\n",
    "    'path={{{{base_dir}}}}/certs state=directory owner={{{{ansible_user}}}}'"
   ]
  },
  {
   "cell_type": "markdown",
   "metadata": {
    "lc_cell_meme": {
     "current": "5c08d8b4-163a-11ee-987e-0242ac110002-5-5b20-a665-e891-5cb8-82ea",
     "next": "5c08d94a-163a-11ee-987e-0242ac110002-5-b282-7717-ae11-d8f8-df5d",
     "previous": "5c08d81e-163a-11ee-987e-0242ac110002-5-c2f3-4114-cfb4-85db-eb63"
    }
   },
   "source": [
    "作成したディレクトリ`/srv/jupyterhub/certs`に証明書、秘密鍵を配置してください。出どころなどの情報を必要以上に残さないためにNotebookからの操作ではなく、ターミナルなどから **managerノードに ssh でログインして操作を行ってください**。\n",
    "\n",
    "配置する証明書などのファイル名は以下のようにしてください。\n",
    "\n",
    "* サーバ証明書と中間CA証明書を連結したもの\n",
    "    - `/srv/jupyterhub/certs/fullchain.pem`\n",
    "* 秘密鍵\n",
    "    - `/srv/jupyterhub/certs/privkey.pem`\n",
    "    - パスフレーズを無しにする"
   ]
  },
  {
   "cell_type": "markdown",
   "metadata": {
    "lc_cell_meme": {
     "current": "5c08d94a-163a-11ee-987e-0242ac110002-5-b282-7717-ae11-d8f8-df5d",
     "next": "5c08d9ea-163a-11ee-987e-0242ac110002-5-2ae2-508d-7390-0ce9-b5a6",
     "previous": "5c08d8b4-163a-11ee-987e-0242ac110002-5-5b20-a665-e891-5cb8-82ea"
    }
   },
   "source": [
    "sshでログインする manager ノードのIPアドレスを確認します。表示されたIPアドレスに対して、ユーザ名`vcp`と「VCノード作成」のNotebookで設定したSSHの秘密鍵を指定することで manager ノードにsshでログインできます。"
   ]
  },
  {
   "cell_type": "code",
   "execution_count": null,
   "metadata": {
    "lc_cell_meme": {
     "current": "5c08d9ea-163a-11ee-987e-0242ac110002-5-2ae2-508d-7390-0ce9-b5a6",
     "next": "cc22ab0a-3022-11ee-b73e-0242ac110003-4-3b54-0669-3a1d-2c51",
     "previous": "5c08d94a-163a-11ee-987e-0242ac110002-5-b282-7717-ae11-d8f8-df5d"
    }
   },
   "outputs": [],
   "source": [
    "!ansible {target_hub} -c local -m debug -a 'var=vc_ipaddress'"
   ]
  },
  {
   "cell_type": "markdown",
   "metadata": {
    "heading_collapsed": true,
    "lc_cell_meme": {
     "current": "cc22ab0a-3022-11ee-b73e-0242ac110003-4-3b54-0669-3a1d-2c51",
     "next": "5c08dc42-163a-11ee-987e-0242ac110002-5-4dfe-061f-d433-4452-c500",
     "previous": "5c08d9ea-163a-11ee-987e-0242ac110002-5-2ae2-508d-7390-0ce9-b5a6"
    }
   },
   "source": [
    "#### 証明書の配置確認\n",
    "\n",
    "証明書の配置後に以下のセルを実行し、正しく配置できていることを確認します。"
   ]
  },
  {
   "cell_type": "markdown",
   "metadata": {
    "hidden": true,
    "lc_cell_meme": {
     "current": "5c08dc42-163a-11ee-987e-0242ac110002-5-4dfe-061f-d433-4452-c500",
     "next": "5c08dd00-163a-11ee-987e-0242ac110002-5-0835-0301-b211-f8b3-cf8b",
     "previous": "cc22ab0a-3022-11ee-b73e-0242ac110003-4-3b54-0669-3a1d-2c51"
    }
   },
   "source": [
    "秘密鍵の内容を表示してみます。"
   ]
  },
  {
   "cell_type": "code",
   "execution_count": null,
   "metadata": {
    "hidden": true,
    "lc_cell_meme": {
     "current": "5c08dd00-163a-11ee-987e-0242ac110002-5-0835-0301-b211-f8b3-cf8b",
     "next": "5c08ddaa-163a-11ee-987e-0242ac110002-5-114c-53d4-7d9a-1f3e-96c6",
     "previous": "5c08dc42-163a-11ee-987e-0242ac110002-5-4dfe-061f-d433-4452-c500"
    },
    "scrolled": true
   },
   "outputs": [],
   "source": [
    "try:\n",
    "    !ansible {target_hub} -a \\\n",
    "        'openssl rsa -noout -text -in  {{{{certs_dir}}}}/privkey.pem'\n",
    "except Exception as e:\n",
    "    # 鍵の形式が異なる場合、正しく配置できていてもエラーになる場合があります。\n",
    "    !ansible {target_hub} -a \\\n",
    "         'openssl ec -in {{{{certs_dir}}}}/privkey.pem -text -noout'"
   ]
  },
  {
   "cell_type": "markdown",
   "metadata": {
    "hidden": true,
    "lc_cell_meme": {
     "current": "5c08ddaa-163a-11ee-987e-0242ac110002-5-114c-53d4-7d9a-1f3e-96c6",
     "next": "5c08de40-163a-11ee-987e-0242ac110002-5-2691-7a63-2755-2272-1057",
     "previous": "5c08dd00-163a-11ee-987e-0242ac110002-5-0835-0301-b211-f8b3-cf8b"
    }
   },
   "source": [
    "中間CA証明書を連結したサーバ証明書の内容を表示してみます。"
   ]
  },
  {
   "cell_type": "code",
   "execution_count": null,
   "metadata": {
    "hidden": true,
    "lc_cell_meme": {
     "current": "5c08de40-163a-11ee-987e-0242ac110002-5-2691-7a63-2755-2272-1057",
     "next": "5c08ded6-163a-11ee-987e-0242ac110002-5-0bdc-dff5-5c7e-4c0f-f98d",
     "previous": "5c08ddaa-163a-11ee-987e-0242ac110002-5-114c-53d4-7d9a-1f3e-96c6"
    },
    "scrolled": true
   },
   "outputs": [],
   "source": [
    "!ansible {target_hub} -a \\\n",
    "    'openssl x509 -noout -text -in {{{{certs_dir}}}}/fullchain.pem'"
   ]
  },
  {
   "cell_type": "markdown",
   "metadata": {
    "hidden": true,
    "lc_cell_meme": {
     "current": "5c08ded6-163a-11ee-987e-0242ac110002-5-0bdc-dff5-5c7e-4c0f-f98d",
     "next": "5c08df6c-163a-11ee-987e-0242ac110002-5-b10c-9ee9-7c33-cca1-5d38",
     "previous": "5c08de40-163a-11ee-987e-0242ac110002-5-2691-7a63-2755-2272-1057"
    }
   },
   "source": [
    "証明書の owner, group などの値を利用環境に合わせて以下のように設定します。\n",
    "\n",
    "* owner: 33\n",
    "* group: 33\n",
    "\n",
    "この設定はコンテナ内では以下のように設定したことに相当します。\n",
    "\n",
    "* owner: `www-data`\n",
    "* group: `www-data`"
   ]
  },
  {
   "cell_type": "code",
   "execution_count": null,
   "metadata": {
    "hidden": true,
    "lc_cell_meme": {
     "current": "5c08df6c-163a-11ee-987e-0242ac110002-5-b10c-9ee9-7c33-cca1-5d38",
     "next": "5c08e750-163a-11ee-987e-0242ac110002-5-c190-34d3-1a6b-b8c4-3107",
     "previous": "5c08ded6-163a-11ee-987e-0242ac110002-5-0bdc-dff5-5c7e-4c0f-f98d"
    },
    "scrolled": true
   },
   "outputs": [],
   "source": [
    "cert_owner = 33\n",
    "cert_group = 33\n",
    "!ansible {target_hub} -b -m file -a \\\n",
    "    'path={{{{certs_dir}}}} owner={cert_owner} \\\n",
    "    group={cert_group} state=directory'\n",
    "!ansible {target_hub} -b -m file -a \\\n",
    "    'path={{{{certs_dir}}}}/fullchain.pem \\\n",
    "    owner={cert_owner} group={cert_group}'\n",
    "!ansible {target_hub} -b -m file -a \\\n",
    "    'path={{{{certs_dir}}}}/privkey.pem \\\n",
    "    owner={cert_owner} group={cert_group} mode=0600'"
   ]
  },
  {
   "cell_type": "markdown",
   "metadata": {
    "heading_collapsed": true,
    "lc_cell_meme": {
     "current": "5c08e750-163a-11ee-987e-0242ac110002-5-c190-34d3-1a6b-b8c4-3107",
     "next": "5c08ef5c-163a-11ee-987e-0242ac110002-5-411b-3449-2642-e802-1099",
     "previous": "5c08df6c-163a-11ee-987e-0242ac110002-5-b10c-9ee9-7c33-cca1-5d38"
    }
   },
   "source": [
    "### JupyterHub\n",
    "\n",
    "JupyterHubコンテナに関するセットアップを行います。"
   ]
  },
  {
   "cell_type": "markdown",
   "metadata": {
    "hidden": true,
    "lc_cell_meme": {
     "current": "5c08ef5c-163a-11ee-987e-0242ac110002-5-411b-3449-2642-e802-1099",
     "next": "5c08eff2-163a-11ee-987e-0242ac110002-5-bd72-0b63-d049-01ba-70ef",
     "previous": "5c08e750-163a-11ee-987e-0242ac110002-5-c190-34d3-1a6b-b8c4-3107"
    }
   },
   "source": [
    "#### JupyterHubコンテナに関するファイルを準備する\n",
    "\n",
    "JupyterHubコンテナを実行するために必要となるファイルを準備する Ansible Playbook を実行します。"
   ]
  },
  {
   "cell_type": "markdown",
   "metadata": {
    "hidden": true,
    "lc_cell_meme": {
     "current": "5c08eff2-163a-11ee-987e-0242ac110002-5-bd72-0b63-d049-01ba-70ef",
     "next": "5c09021c-163a-11ee-987e-0242ac110002-7-99e8-bdef-5a4d-2598-b52d-36bc-3e06",
     "previous": "5c08ef5c-163a-11ee-987e-0242ac110002-5-411b-3449-2642-e802-1099"
    }
   },
   "source": [
    "Playbook では以下の処理を行います。\n",
    "\n",
    "* コンテナイメージのビルド"
   ]
  },
  {
   "cell_type": "markdown",
   "metadata": {
    "hidden": true,
    "lc_cell_meme": {
     "current": "5c09021c-163a-11ee-987e-0242ac110002-7-99e8-bdef-5a4d-2598-b52d-36bc-3e06",
     "next": "d8bfcc80-2c53-11ee-987e-0242ac110002-4-968a-e193-0503-3fc8",
     "previous": "5c08eff2-163a-11ee-987e-0242ac110002-5-bd72-0b63-d049-01ba-70ef"
    }
   },
   "source": [
    "コンテナイメージのビルドに必要なファイルを配置します。\n",
    "\n",
    "まず、ファイルを格納するディレクトリを作成"
   ]
  },
  {
   "cell_type": "code",
   "execution_count": null,
   "metadata": {
    "hidden": true,
    "lc_cell_meme": {
     "current": "d8bfcc80-2c53-11ee-987e-0242ac110002-4-968a-e193-0503-3fc8",
     "next": "492138e4-1b0e-11ee-987e-0242ac110002-4-1b3f-3108-cc2d-66e2",
     "previous": "5c09021c-163a-11ee-987e-0242ac110002-7-99e8-bdef-5a4d-2598-b52d-36bc-3e06"
    }
   },
   "outputs": [],
   "source": [
    "# 先にディレクトリ作成\n",
    "!ansible {target_hub} -b -m file -a \\\n",
    "    'path={share_directory_root}/nbgrader state=directory owner={{{{ansible_user}}}}'\n",
    "!ansible {target_hub} -b -m file -a \\\n",
    "    'path={share_directory_root}/class state=directory owner={{{{ansible_user}}}}'\n",
    "!ansible {target_hub} -b -m file -a \\\n",
    "    'path={{{{base_dir}}}}/jupyterhub state=directory owner={{{{ansible_user}}}}'"
   ]
  },
  {
   "cell_type": "markdown",
   "metadata": {
    "hidden": true,
    "lc_cell_meme": {
     "current": "492138e4-1b0e-11ee-987e-0242ac110002-4-1b3f-3108-cc2d-66e2",
     "execution_end_time": "2023-07-05T08:31:01.273554Z",
     "next": "4e3fec12-1730-11ee-987e-0242ac110002-5-21c7-5440-ee87-ea46-8f43",
     "previous": "d8bfcc80-2c53-11ee-987e-0242ac110002-4-968a-e193-0503-3fc8"
    }
   },
   "source": [
    "ファイルの配置をチェックモードで試行"
   ]
  },
  {
   "cell_type": "code",
   "execution_count": null,
   "metadata": {
    "hidden": true,
    "lc_cell_meme": {
     "current": "4e3fec12-1730-11ee-987e-0242ac110002-5-21c7-5440-ee87-ea46-8f43",
     "next": "492138e4-1b0e-11ee-987e-0242ac110002-5-ae1c-0e4e-a3ab-b217-bceb",
     "previous": "492138e4-1b0e-11ee-987e-0242ac110002-4-1b3f-3108-cc2d-66e2"
    }
   },
   "outputs": [],
   "source": [
    "# 共有ディレクトリに必要なファイル配置\n",
    "!ansible {target_hub} -CDv -m synchronize \\\n",
    "    -a 'src=template/directories/jupytershare/nbgrader dest={share_directory_root}'\n",
    "!ansible {target_hub} -CDv -m synchronize \\\n",
    "    -a 'src=template/directories/jupytershare/class dest={share_directory_root}'\n",
    "!ansible {target_hub} -CDv -m template \\\n",
    "    -a 'src=template/directories/jupytershare/nbgrader/templates/teachers/nbgrader_config.py \\\n",
    "    dest={share_directory_root}/nbgrader/templates/teachers backup=yes'\n",
    "\n",
    "# 各コンテナ用の資材\n",
    "!ansible {target_hub} -CDv -m synchronize \\\n",
    "    -a 'src=template/directories/skelton dest={home_directory_root}'\n",
    "!ansible {target_hub} -CDv -m synchronize \\\n",
    "    -a 'src=template/jupyterhub dest={{{{base_dir}}}}'\n",
    "!ansible {target_hub} -CDv -m synchronize \\\n",
    "    -a 'src=template/jupyterhub/jupyterhub/sudoers dest={{{{share_directory_root}}}} rsync_opts=--chown=root:root,--chmod=600' --become"
   ]
  },
  {
   "cell_type": "markdown",
   "metadata": {
    "hidden": true,
    "lc_cell_meme": {
     "current": "492138e4-1b0e-11ee-987e-0242ac110002-5-ae1c-0e4e-a3ab-b217-bceb",
     "execution_end_time": "2023-07-05T08:31:01.273554Z",
     "next": "4e3fec12-1730-11ee-987e-0242ac110002-6-21c7-0fc9-2be9-5959-bb2c-721f",
     "previous": "4e3fec12-1730-11ee-987e-0242ac110002-5-21c7-5440-ee87-ea46-8f43"
    }
   },
   "source": [
    "実際にファイルを配置"
   ]
  },
  {
   "cell_type": "code",
   "execution_count": null,
   "metadata": {
    "hidden": true,
    "lc_cell_meme": {
     "current": "4e3fec12-1730-11ee-987e-0242ac110002-6-21c7-0fc9-2be9-5959-bb2c-721f",
     "next": "b665ebde-2c57-11ee-987e-0242ac110002-4-f656-7b8f-a870-7ad0",
     "previous": "492138e4-1b0e-11ee-987e-0242ac110002-5-ae1c-0e4e-a3ab-b217-bceb"
    }
   },
   "outputs": [],
   "source": [
    "# 共有ディレクトリに必要なファイル配置\n",
    "!ansible {target_hub} -Dv -m synchronize \\\n",
    "    -a 'src=template/directories/jupytershare/nbgrader dest={share_directory_root}'\n",
    "!ansible {target_hub} -Dv -m synchronize \\\n",
    "    -a 'src=template/directories/jupytershare/class dest={share_directory_root}'\n",
    "!ansible {target_hub} -Dv -m template \\\n",
    "    -a 'src=template/directories/jupytershare/nbgrader/templates/teachers/nbgrader_config.py \\\n",
    "    dest={share_directory_root}/nbgrader/templates/teachers backup=yes'\n",
    "\n",
    "# 各コンテナ用の資材\n",
    "!ansible {target_hub} -Dv -m synchronize \\\n",
    "    -a 'src=template/directories/skelton dest={home_directory_root}'\n",
    "!ansible {target_hub} -Dv -m synchronize \\\n",
    "    -a 'src=template/jupyterhub dest={{{{base_dir}}}}'\n",
    "!ansible {target_hub} -Dv -m synchronize \\\n",
    "    -a 'src=template/jupyterhub/jupyterhub/sudoers dest={{{{share_directory_root}}}} rsync_opts=--chown=root:root,--chmod=600' --become"
   ]
  },
  {
   "cell_type": "markdown",
   "metadata": {
    "hidden": true,
    "lc_cell_meme": {
     "current": "b665ebde-2c57-11ee-987e-0242ac110002-4-f656-7b8f-a870-7ad0",
     "next": "5c08f09c-163a-11ee-987e-0242ac110002-5-4603-795d-1086-373f-6d17",
     "previous": "4e3fec12-1730-11ee-987e-0242ac110002-6-21c7-0fc9-2be9-5959-bb2c-721f"
    }
   },
   "source": [
    "#### Jupyterhubイメージのビルド"
   ]
  },
  {
   "cell_type": "markdown",
   "metadata": {
    "hidden": true,
    "lc_cell_meme": {
     "current": "5c08f09c-163a-11ee-987e-0242ac110002-5-4603-795d-1086-373f-6d17",
     "next": "5c08f1a0-163a-11ee-987e-0242ac110002-5-9928-39e9-a78b-354d-09f4",
     "previous": "b665ebde-2c57-11ee-987e-0242ac110002-4-f656-7b8f-a870-7ad0"
    }
   },
   "source": [
    "実際にビルドする前にdryrun（チェックモード）でAnsibleを実行します。"
   ]
  },
  {
   "cell_type": "code",
   "execution_count": null,
   "metadata": {
    "hidden": true,
    "lc_cell_meme": {
     "current": "5c08f1a0-163a-11ee-987e-0242ac110002-5-9928-39e9-a78b-354d-09f4",
     "next": "5c08f268-163a-11ee-987e-0242ac110002-5-32bb-a8ed-2099-eca2-84a5",
     "previous": "5c08f09c-163a-11ee-987e-0242ac110002-5-4603-795d-1086-373f-6d17"
    },
    "scrolled": true
   },
   "outputs": [],
   "source": [
    "!ansible-playbook -l {target_hub} -CDv playbooks/setup-jupyterhub.yml || true"
   ]
  },
  {
   "cell_type": "markdown",
   "metadata": {
    "hidden": true,
    "lc_cell_meme": {
     "current": "5c08f268-163a-11ee-987e-0242ac110002-5-32bb-a8ed-2099-eca2-84a5",
     "next": "5c08f308-163a-11ee-987e-0242ac110002-5-4f84-91e5-f933-a074-054e",
     "previous": "5c08f1a0-163a-11ee-987e-0242ac110002-5-9928-39e9-a78b-354d-09f4"
    }
   },
   "source": [
    "実際にコンテナイメージのビルドを行います。"
   ]
  },
  {
   "cell_type": "code",
   "execution_count": null,
   "metadata": {
    "hidden": true,
    "lc_cell_meme": {
     "current": "5c08f308-163a-11ee-987e-0242ac110002-5-4f84-91e5-f933-a074-054e",
     "next": "5c08f3da-163a-11ee-987e-0242ac110002-5-b17d-bd2e-2b02-1da2-9474",
     "previous": "5c08f268-163a-11ee-987e-0242ac110002-5-32bb-a8ed-2099-eca2-84a5"
    },
    "scrolled": true
   },
   "outputs": [],
   "source": [
    "!ansible-playbook -l {target_hub} playbooks/setup-jupyterhub.yml -e jupyterhub_image={jupyterhub_image}"
   ]
  },
  {
   "cell_type": "markdown",
   "metadata": {
    "hidden": true,
    "lc_cell_meme": {
     "current": "5c08f3da-163a-11ee-987e-0242ac110002-5-b17d-bd2e-2b02-1da2-9474",
     "next": "5c08f47a-163a-11ee-987e-0242ac110002-5-9726-1f4d-ab1f-eea2-5b06",
     "previous": "5c08f308-163a-11ee-987e-0242ac110002-5-4f84-91e5-f933-a074-054e"
    }
   },
   "source": [
    "JupyterHubのコンテナイメージが存在することを確認します。"
   ]
  },
  {
   "cell_type": "code",
   "execution_count": null,
   "metadata": {
    "hidden": true,
    "lc_cell_meme": {
     "current": "5c08f47a-163a-11ee-987e-0242ac110002-5-9726-1f4d-ab1f-eea2-5b06",
     "next": "5c08f510-163a-11ee-987e-0242ac110002-5-64f7-06e1-70a7-478d-842c",
     "previous": "5c08f3da-163a-11ee-987e-0242ac110002-5-b17d-bd2e-2b02-1da2-9474"
    }
   },
   "outputs": [],
   "source": [
    "!ansible {target_hub} -a \\\n",
    "    'docker images {{{{jupyterhub_image}}}}'"
   ]
  },
  {
   "cell_type": "markdown",
   "metadata": {
    "hidden": true,
    "lc_cell_meme": {
     "current": "5c08f510-163a-11ee-987e-0242ac110002-5-64f7-06e1-70a7-478d-842c",
     "next": "5c08f5a6-163a-11ee-987e-0242ac110002-5-5880-ea4a-589e-4e05-32a0",
     "previous": "5c08f47a-163a-11ee-987e-0242ac110002-5-9726-1f4d-ab1f-eea2-5b06"
    }
   },
   "source": [
    "JupyterHubコンテナのために配置したファイルを確認します。"
   ]
  },
  {
   "cell_type": "code",
   "execution_count": null,
   "metadata": {
    "hidden": true,
    "lc_cell_meme": {
     "current": "5c08f5a6-163a-11ee-987e-0242ac110002-5-5880-ea4a-589e-4e05-32a0",
     "next": "5c08fb14-163a-11ee-987e-0242ac110002-5-0351-08c5-a7bd-135f-fac4",
     "previous": "5c08f510-163a-11ee-987e-0242ac110002-5-64f7-06e1-70a7-478d-842c"
    }
   },
   "outputs": [],
   "source": [
    "!ansible {target_hub} -a 'tree {{{{jupyterhub_dir}}}}'"
   ]
  },
  {
   "cell_type": "markdown",
   "metadata": {
    "lc_cell_meme": {
     "current": "5c08fb14-163a-11ee-987e-0242ac110002-5-0351-08c5-a7bd-135f-fac4",
     "next": "4e0f3b28-302e-11ee-b73e-0242ac110003-4-7483-8430-3636-1fc8",
     "previous": "5c08f5a6-163a-11ee-987e-0242ac110002-5-5880-ea4a-589e-4e05-32a0"
    }
   },
   "source": [
    "### single-user Jupyter Notebook server"
   ]
  },
  {
   "cell_type": "markdown",
   "metadata": {
    "lc_cell_meme": {
     "current": "4e0f3b28-302e-11ee-b73e-0242ac110003-4-7483-8430-3636-1fc8",
     "next": "903b3876-302e-11ee-b73e-0242ac110003-4-c336-f2b6-3735-1c64",
     "previous": "5c08fb14-163a-11ee-987e-0242ac110002-5-0351-08c5-a7bd-135f-fac4"
    }
   },
   "source": [
    "#### イメージが存在しない場合-公開リポジトリからのダウンロード\n",
    "\n",
    "公開リポジトリからsingle-user Jupyter Notebook serverコンテナイメージをダウンロードします。"
   ]
  },
  {
   "cell_type": "markdown",
   "metadata": {
    "lc_cell_meme": {
     "current": "903b3876-302e-11ee-b73e-0242ac110003-4-c336-f2b6-3735-1c64",
     "next": "4e0f3cea-302e-11ee-b73e-0242ac110003-4-e19b-b732-340c-e5c5",
     "previous": "4e0f3b28-302e-11ee-b73e-0242ac110003-4-7483-8430-3636-1fc8"
    }
   },
   "source": [
    "以下のセルを実行し、single-user Jupyter Notebook serverコンテナイメージをダウンロードしてください。\n",
    "\n",
    "ダウンロードが成功した場合、以降のセルは実行せず、「４ コンテナの起動」に進んでください。"
   ]
  },
  {
   "cell_type": "code",
   "execution_count": null,
   "metadata": {
    "lc_cell_meme": {
     "current": "4e0f3cea-302e-11ee-b73e-0242ac110003-4-e19b-b732-340c-e5c5",
     "next": "ad6fe928-302e-11ee-b73e-0242ac110003-4-01cc-8937-f1fb-ca64",
     "previous": "903b3876-302e-11ee-b73e-0242ac110003-4-c336-f2b6-3735-1c64"
    }
   },
   "outputs": [],
   "source": [
    "!ansible {ugroup_name} -a 'docker pull {{{{singleuser_image}}}}:{{{{singleuser_image_tag}}}}'"
   ]
  },
  {
   "cell_type": "markdown",
   "metadata": {
    "heading_collapsed": true,
    "lc_cell_meme": {
     "current": "ad6fe928-302e-11ee-b73e-0242ac110003-4-01cc-8937-f1fb-ca64",
     "next": "9226f996-1660-11ee-987e-0242ac110002-5-d407-b12a-81ec-a3bf-9bf8",
     "previous": "4e0f3cea-302e-11ee-b73e-0242ac110003-4-e19b-b732-340c-e5c5"
    }
   },
   "source": [
    "#### イメージが存在しない場合-イメージのビルド\n",
    "\n",
    "１つ前のセルで、公開リポジトリからのダウンロードが出来ている場合は、ビルドの必要はありません。本セクションはスキップして、「４ コンテナの起動」に進んでください。\n",
    "\n",
    "`template/notebook` にsingle-user Jupyter Notebook serverコンテナイメージをビルドするためのファイルを格納しています。\n",
    "\n",
    "オリジナルのイメージを作成する場合は、`template/notebook`の内容を置き換えて以降のセルを実行してください。"
   ]
  },
  {
   "cell_type": "markdown",
   "metadata": {
    "hidden": true,
    "lc_cell_meme": {
     "current": "9226f996-1660-11ee-987e-0242ac110002-5-d407-b12a-81ec-a3bf-9bf8",
     "next": "68bc0c26-1661-11ee-987e-0242ac110002-4-ff22-d518-0b17-c044",
     "previous": "ad6fe928-302e-11ee-b73e-0242ac110003-4-01cc-8937-f1fb-ca64"
    }
   },
   "source": [
    "まず、イメージのビルドに必要なファイルを格納するためのディレクトリを作成します。"
   ]
  },
  {
   "cell_type": "code",
   "execution_count": null,
   "metadata": {
    "hidden": true,
    "lc_cell_meme": {
     "current": "68bc0c26-1661-11ee-987e-0242ac110002-4-ff22-d518-0b17-c044",
     "next": "9226fbc6-1660-11ee-987e-0242ac110002-4-81bc-808a-4aaf-6e08",
     "previous": "9226f996-1660-11ee-987e-0242ac110002-5-d407-b12a-81ec-a3bf-9bf8"
    }
   },
   "outputs": [],
   "source": [
    "!ansible {ugroup_name} -b -m file -a \\\n",
    "    'path={{{{notebook_dir}}}} state=directory owner={{{{ansible_user}}}}'"
   ]
  },
  {
   "cell_type": "markdown",
   "metadata": {
    "hidden": true,
    "lc_cell_meme": {
     "current": "9226fbc6-1660-11ee-987e-0242ac110002-4-81bc-808a-4aaf-6e08",
     "next": "5c09017c-163a-11ee-987e-0242ac110002-7-e7a9-f34d-b195-1bb1-3799-a5e4-7523",
     "previous": "68bc0c26-1661-11ee-987e-0242ac110002-4-ff22-d518-0b17-c044"
    }
   },
   "source": [
    "single-user Jupyter Notebook serverコンテナイメージビルドに必要なファイルを配置します。\n",
    "\n",
    "実際に配置する前に、チェックモードでファイルの不足等が無いか確認します。"
   ]
  },
  {
   "cell_type": "code",
   "execution_count": null,
   "metadata": {
    "hidden": true,
    "lc_cell_meme": {
     "current": "5c09017c-163a-11ee-987e-0242ac110002-7-e7a9-f34d-b195-1bb1-3799-a5e4-7523",
     "next": "fd720420-1660-11ee-987e-0242ac110002-4-3622-0ba9-379e-f559",
     "previous": "9226fbc6-1660-11ee-987e-0242ac110002-4-81bc-808a-4aaf-6e08"
    },
    "scrolled": true
   },
   "outputs": [],
   "source": [
    "!ansible {ugroup_name} -CDv -m synchronize \\\n",
    "    -a 'src=template/notebook dest={{{{base_dir}}}}'\n",
    "!ansible {ugroup_name} -CDv -m template \\\n",
    "    -a 'src=template/notebook/image/ldap.conf dest={{{{base_dir}}}}/notebook/image/ backup=yes'\n",
    "!ansible {ugroup_name} -CDv -m template \\\n",
    "    -a 'src=template/notebook/image/nbgrader_config.py dest={{{{base_dir}}}}/notebook/image/ backup=yes'"
   ]
  },
  {
   "cell_type": "markdown",
   "metadata": {
    "hidden": true,
    "lc_cell_meme": {
     "current": "fd720420-1660-11ee-987e-0242ac110002-4-3622-0ba9-379e-f559",
     "next": "5c0902f8-163a-11ee-987e-0242ac110002-7-fe00-7ad7-0c43-8d23-7b57-c5b6-39b4",
     "previous": "5c09017c-163a-11ee-987e-0242ac110002-7-e7a9-f34d-b195-1bb1-3799-a5e4-7523"
    }
   },
   "source": [
    "ファイルを実際に配置します。"
   ]
  },
  {
   "cell_type": "code",
   "execution_count": null,
   "metadata": {
    "hidden": true,
    "lc_cell_meme": {
     "current": "5c0902f8-163a-11ee-987e-0242ac110002-7-fe00-7ad7-0c43-8d23-7b57-c5b6-39b4",
     "next": "fd720420-1660-11ee-987e-0242ac110002-5-a3bd-3898-7528-118e-cf11",
     "previous": "fd720420-1660-11ee-987e-0242ac110002-4-3622-0ba9-379e-f559"
    },
    "scrolled": true
   },
   "outputs": [],
   "source": [
    "!ansible {ugroup_name} -Dv -m synchronize \\\n",
    "    -a 'src=template/notebook dest={{{{base_dir}}}}'\n",
    "!ansible {ugroup_name} -Dv -m template \\\n",
    "    -a 'src=template/notebook/image/ldap.conf dest={{{{base_dir}}}}/notebook/image/ backup=yes'\n",
    "!ansible {ugroup_name} -Dv -m template \\\n",
    "    -a 'src=template/notebook/image/nbgrader_config.py dest={{{{base_dir}}}}/notebook/image/ backup=yes'"
   ]
  },
  {
   "cell_type": "markdown",
   "metadata": {
    "hidden": true,
    "lc_cell_meme": {
     "current": "fd720420-1660-11ee-987e-0242ac110002-5-a3bd-3898-7528-118e-cf11",
     "next": "5c08f1a0-163a-11ee-987e-0242ac110002-6-9928-5416-7137-d7cb-f3d1-39d1",
     "previous": "5c0902f8-163a-11ee-987e-0242ac110002-7-fe00-7ad7-0c43-8d23-7b57-c5b6-39b4"
    }
   },
   "source": [
    "配置したファイルを用いて、single-user Jupyter Notebook serverコンテナイメージのビルドを行います。\n",
    "\n",
    "ビルド前に、チェックモードで確認します。"
   ]
  },
  {
   "cell_type": "code",
   "execution_count": null,
   "metadata": {
    "hidden": true,
    "lc_cell_meme": {
     "current": "5c08f1a0-163a-11ee-987e-0242ac110002-6-9928-5416-7137-d7cb-f3d1-39d1",
     "next": "fd720420-1660-11ee-987e-0242ac110002-6-a3bd-a43c-20f1-835a-6670-0e40",
     "previous": "fd720420-1660-11ee-987e-0242ac110002-5-a3bd-3898-7528-118e-cf11"
    },
    "scrolled": true
   },
   "outputs": [],
   "source": [
    "!ansible-playbook -l {ugroup_name} -CDv playbooks/setup-jupyter-notebook.yml || true"
   ]
  },
  {
   "cell_type": "markdown",
   "metadata": {
    "hidden": true,
    "lc_cell_meme": {
     "current": "fd720420-1660-11ee-987e-0242ac110002-6-a3bd-a43c-20f1-835a-6670-0e40",
     "next": "5c08f308-163a-11ee-987e-0242ac110002-6-4f84-cb83-8867-20ed-529a-d7d6",
     "previous": "5c08f1a0-163a-11ee-987e-0242ac110002-6-9928-5416-7137-d7cb-f3d1-39d1"
    }
   },
   "source": [
    "実際にビルドを行います。"
   ]
  },
  {
   "cell_type": "code",
   "execution_count": null,
   "metadata": {
    "hidden": true,
    "lc_cell_meme": {
     "current": "5c08f308-163a-11ee-987e-0242ac110002-6-4f84-cb83-8867-20ed-529a-d7d6",
     "next": "5c08fdb2-163a-11ee-987e-0242ac110002-5-792c-4f8e-42c0-4a7d-8897",
     "previous": "fd720420-1660-11ee-987e-0242ac110002-6-a3bd-a43c-20f1-835a-6670-0e40"
    },
    "scrolled": true
   },
   "outputs": [],
   "source": [
    "!ansible-playbook -l {ugroup_name} playbooks/setup-jupyter-notebook.yml"
   ]
  },
  {
   "cell_type": "markdown",
   "metadata": {
    "hidden": true,
    "lc_cell_meme": {
     "current": "5c08fdb2-163a-11ee-987e-0242ac110002-5-792c-4f8e-42c0-4a7d-8897",
     "next": "5c08fe48-163a-11ee-987e-0242ac110002-5-ca1f-e323-40ed-e9c3-c8df",
     "previous": "5c08f308-163a-11ee-987e-0242ac110002-6-4f84-cb83-8867-20ed-529a-d7d6"
    }
   },
   "source": [
    "各VCノードのコンテナイメージ一覧を確認します。\n",
    "\n",
    "single-user Jupyter Notebook serverコンテナイメージが存在することを確認します。"
   ]
  },
  {
   "cell_type": "code",
   "execution_count": null,
   "metadata": {
    "hidden": true,
    "lc_cell_meme": {
     "current": "5c08fe48-163a-11ee-987e-0242ac110002-5-ca1f-e323-40ed-e9c3-c8df",
     "next": "5c08fede-163a-11ee-987e-0242ac110002-5-0407-cd76-808b-267e-618c",
     "previous": "5c08fdb2-163a-11ee-987e-0242ac110002-5-792c-4f8e-42c0-4a7d-8897"
    },
    "pinned_outputs": []
   },
   "outputs": [],
   "source": [
    "print(f'指定したイメージ名:{singleuser_image}')\n",
    "\n",
    "!ansible {ugroup_name} -m shell -a 'docker images | \\\n",
    "    grep -e \"{{{{singleuser_image}}}}\"'"
   ]
  },
  {
   "cell_type": "markdown",
   "metadata": {
    "heading_collapsed": true,
    "lc_cell_meme": {
     "current": "5c08fede-163a-11ee-987e-0242ac110002-5-0407-cd76-808b-267e-618c",
     "next": "5c08ff74-163a-11ee-987e-0242ac110002-5-cb05-42d2-afc6-955a-ea3c",
     "previous": "5c08fe48-163a-11ee-987e-0242ac110002-5-ca1f-e323-40ed-e9c3-c8df"
    }
   },
   "source": [
    "## コンテナの起動"
   ]
  },
  {
   "cell_type": "markdown",
   "metadata": {
    "heading_collapsed": true,
    "hidden": true,
    "lc_cell_meme": {
     "current": "5c08ff74-163a-11ee-987e-0242ac110002-5-cb05-42d2-afc6-955a-ea3c",
     "next": "5c09003c-163a-11ee-987e-0242ac110002-5-812f-1198-ed8d-30f7-b556",
     "previous": "5c08fede-163a-11ee-987e-0242ac110002-5-0407-cd76-808b-267e-618c"
    }
   },
   "source": [
    "### docker-compose.yml の配置"
   ]
  },
  {
   "cell_type": "markdown",
   "metadata": {
    "hidden": true,
    "lc_cell_meme": {
     "current": "5c09003c-163a-11ee-987e-0242ac110002-5-812f-1198-ed8d-30f7-b556",
     "next": "5c0900dc-163a-11ee-987e-0242ac110002-5-660b-c3fd-2414-50ba-a4d8",
     "previous": "5c08ff74-163a-11ee-987e-0242ac110002-5-cb05-42d2-afc6-955a-ea3c"
    }
   },
   "source": [
    "複数のコンテナに関する設定をまとめて扱うために `docker-compose.yml` を利用します。\n",
    "\n",
    "ここまでに指定されたパラメータに応じた`docker-compose.yml`, `default.conf`を生成し、構築環境に配置します。"
   ]
  },
  {
   "cell_type": "markdown",
   "metadata": {
    "hidden": true,
    "lc_cell_meme": {
     "current": "5c0900dc-163a-11ee-987e-0242ac110002-5-660b-c3fd-2414-50ba-a4d8",
     "next": "5c09017c-163a-11ee-987e-0242ac110002-5-e7a9-8267-cd54-f5bc-e783",
     "previous": "5c09003c-163a-11ee-987e-0242ac110002-5-812f-1198-ed8d-30f7-b556"
    }
   },
   "source": [
    "まずは、チェックモードで確認を行います。"
   ]
  },
  {
   "cell_type": "code",
   "execution_count": null,
   "metadata": {
    "hidden": true,
    "lc_cell_meme": {
     "current": "5c09017c-163a-11ee-987e-0242ac110002-5-e7a9-8267-cd54-f5bc-e783",
     "next": "5c09021c-163a-11ee-987e-0242ac110002-5-99e8-c287-13ab-ae6a-c975",
     "previous": "5c0900dc-163a-11ee-987e-0242ac110002-5-660b-c3fd-2414-50ba-a4d8"
    },
    "scrolled": true
   },
   "outputs": [],
   "source": [
    "!ansible {target_hub} -CDv -m template \\\n",
    "    -a 'src=template/jupyterhub/docker-compose.yml dest={{{{base_dir}}}}/jupyterhub backup=yes'\n",
    "!ansible {target_hub} -CDv -m template \\\n",
    "    -a 'src=template/jupyterhub/nginx/default.conf dest={{{{base_dir}}}}/jupyterhub/nginx backup=yes'\n",
    "!ansible {target_hub} -CDv -m synchronize \\\n",
    "    -a 'src=edit/lms_web_service.py dest={{{{jupyterhub_dir}}}}/jupyterhub'\n",
    "!ansible {target_hub} -CDv -m synchronize \\\n",
    "    -a 'src=edit/jupyterhub_config.py dest={{{{jupyterhub_dir}}}}/jupyterhub'\n",
    "!ansible {target_hub} -CDv -m synchronize \\\n",
    "    -a 'src=edit/jupyterhub_params.yaml dest={{{{jupyterhub_dir}}}}/jupyterhub'"
   ]
  },
  {
   "cell_type": "markdown",
   "metadata": {
    "hidden": true,
    "lc_cell_meme": {
     "current": "5c09021c-163a-11ee-987e-0242ac110002-5-99e8-c287-13ab-ae6a-c975",
     "next": "5c0902f8-163a-11ee-987e-0242ac110002-5-fe00-3ffd-81df-68ba-d540",
     "previous": "5c09017c-163a-11ee-987e-0242ac110002-5-e7a9-8267-cd54-f5bc-e783"
    }
   },
   "source": [
    "実際に各ファイルの配置を行います。"
   ]
  },
  {
   "cell_type": "code",
   "execution_count": null,
   "metadata": {
    "hidden": true,
    "lc_cell_meme": {
     "current": "5c0902f8-163a-11ee-987e-0242ac110002-5-fe00-3ffd-81df-68ba-d540",
     "next": "5c09038e-163a-11ee-987e-0242ac110002-5-8c44-9e11-599e-0518-047b",
     "previous": "5c09021c-163a-11ee-987e-0242ac110002-5-99e8-c287-13ab-ae6a-c975"
    },
    "scrolled": true
   },
   "outputs": [],
   "source": [
    "!ansible {target_hub} -Dv -m template \\\n",
    "    -a 'src=template/jupyterhub/docker-compose.yml dest={{{{base_dir}}}}/jupyterhub backup=yes'\n",
    "!ansible {target_hub} -Dv -m template \\\n",
    "    -a 'src=template/jupyterhub/nginx/default.conf dest={{{{base_dir}}}}/jupyterhub/nginx backup=yes'\n",
    "!ansible {target_hub} -Dv -m synchronize \\\n",
    "    -a 'src=edit/lms_web_service.py dest={{{{jupyterhub_dir}}}}/jupyterhub'\n",
    "!ansible {target_hub} -Dv -m synchronize \\\n",
    "    -a 'src=edit/jupyterhub_config.py dest={{{{jupyterhub_dir}}}}/jupyterhub'\n",
    "!ansible {target_hub} -Dv -m synchronize \\\n",
    "    -a 'src=edit/jupyterhub_params.yaml dest={{{{jupyterhub_dir}}}}/jupyterhub'"
   ]
  },
  {
   "cell_type": "markdown",
   "metadata": {
    "hidden": true,
    "lc_cell_meme": {
     "current": "5c09038e-163a-11ee-987e-0242ac110002-5-8c44-9e11-599e-0518-047b",
     "next": "5c090456-163a-11ee-987e-0242ac110002-5-c972-54a4-b678-0152-d67f",
     "previous": "5c0902f8-163a-11ee-987e-0242ac110002-5-fe00-3ffd-81df-68ba-d540"
    }
   },
   "source": [
    "### コンテナの起動\n",
    "\n",
    "コンテナを起動します。"
   ]
  },
  {
   "cell_type": "code",
   "execution_count": null,
   "metadata": {
    "hidden": true,
    "lc_cell_meme": {
     "current": "5c090456-163a-11ee-987e-0242ac110002-5-c972-54a4-b678-0152-d67f",
     "next": "5c090500-163a-11ee-987e-0242ac110002-5-3286-129b-5e0b-e68e-9239",
     "previous": "5c09038e-163a-11ee-987e-0242ac110002-5-8c44-9e11-599e-0518-047b"
    }
   },
   "outputs": [],
   "source": [
    "!ansible {target_hub} -a 'chdir={{{{base_dir}}}}/jupyterhub \\\n",
    "    docker stack deploy -c docker-compose.yml {{{{ugroup_name}}}}'"
   ]
  },
  {
   "cell_type": "markdown",
   "metadata": {
    "hidden": true,
    "lc_cell_meme": {
     "current": "5c090500-163a-11ee-987e-0242ac110002-5-3286-129b-5e0b-e68e-9239",
     "next": "5c090596-163a-11ee-987e-0242ac110002-5-db76-9935-7ac7-1a2b-dadc",
     "previous": "5c090456-163a-11ee-987e-0242ac110002-5-c972-54a4-b678-0152-d67f"
    }
   },
   "source": [
    "コンテナの起動状態を確認します。"
   ]
  },
  {
   "cell_type": "code",
   "execution_count": null,
   "metadata": {
    "hidden": true,
    "lc_cell_meme": {
     "current": "5c090596-163a-11ee-987e-0242ac110002-5-db76-9935-7ac7-1a2b-dadc",
     "next": "8880b080-4c66-11ee-96eb-0242ac110002-1-ba32",
     "previous": "5c090500-163a-11ee-987e-0242ac110002-5-3286-129b-5e0b-e68e-9239"
    }
   },
   "outputs": [],
   "source": [
    "!ansible {target_hub} -a 'docker stack ps {{{{ugroup_name}}}}'"
   ]
  },
  {
   "cell_type": "markdown",
   "metadata": {
    "hidden": true,
    "lc_cell_meme": {
     "current": "8880b080-4c66-11ee-96eb-0242ac110002-1-ba32",
     "next": "8880b1b6-4c66-11ee-96eb-0242ac110002-1-e190",
     "previous": "5c090596-163a-11ee-987e-0242ac110002-5-db76-9935-7ac7-1a2b-dadc"
    }
   },
   "source": [
    "Masterノードにて、jupyterhubのヘルスチェック用URLに向けて、curlコマンドを実行してみます。    \n",
    "起動に時間がかかる場合があるため、指定回数を上限とし、成功するまでリトライします。  \n",
    "ステータスコード`200`が返ると、このセルは正常終了します。  \n",
    "\n",
    "※managerノード（のVM）へのアクセス制限を行っている場合、この構築環境からはアクセスできない場合があります。その場合は、許可されたアクセス元から、https://{master_fqdn}/hub/healthにGETリクエストを行うか、https://{master_fqdn}/にブラウザでアクセスし、画面が表示されれば問題ありません。\n",
    "このようなアクセス制限を行う場合は、Jupyterhubに設定しているグローバルIPアドレスからMoodleへのアクセスを許可する必要があります。"
   ]
  },
  {
   "cell_type": "code",
   "execution_count": null,
   "metadata": {
    "hidden": true,
    "lc_cell_meme": {
     "current": "8880b1b6-4c66-11ee-96eb-0242ac110002-1-e190",
     "next": "5c09088e-163a-11ee-987e-0242ac110002-5-f0a4-5f11-0261-b67c-5e15",
     "previous": "8880b080-4c66-11ee-96eb-0242ac110002-1-ba32"
    }
   },
   "outputs": [],
   "source": [
    "import time\n",
    "\n",
    "# 規定回数\n",
    "retry_max = 18\n",
    "err = None\n",
    "\n",
    "for retry in range(retry_max):\n",
    "    try:\n",
    "        !ansible {target_hub} -m uri -a \"url=https://{master_fqdn}/hub/health\"\n",
    "        break\n",
    "\n",
    "    except Exception as e:\n",
    "        print(\"retry\")\n",
    "        err = e\n",
    "        time.sleep(10)\n",
    "else:\n",
    "    raise err"
   ]
  },
  {
   "cell_type": "markdown",
   "metadata": {
    "hidden": true,
    "lc_cell_meme": {
     "current": "5c09088e-163a-11ee-987e-0242ac110002-5-f0a4-5f11-0261-b67c-5e15",
     "next": "5c090924-163a-11ee-987e-0242ac110002-5-1d21-0be3-b333-4fa4-fb80",
     "previous": "8880b1b6-4c66-11ee-96eb-0242ac110002-1-e190"
    }
   },
   "source": [
    "`MariaDB` コンテナのログを表示してみます。"
   ]
  },
  {
   "cell_type": "code",
   "execution_count": null,
   "metadata": {
    "hidden": true,
    "lc_cell_meme": {
     "current": "5c090924-163a-11ee-987e-0242ac110002-5-1d21-0be3-b333-4fa4-fb80",
     "next": "5c0909ba-163a-11ee-987e-0242ac110002-5-d899-f5d7-c318-7135-116c",
     "previous": "5c09088e-163a-11ee-987e-0242ac110002-5-f0a4-5f11-0261-b67c-5e15"
    },
    "scrolled": true
   },
   "outputs": [],
   "source": [
    "!ansible {target_hub} -a 'docker service logs {{{{ugroup_name}}}}_mariadb'"
   ]
  },
  {
   "cell_type": "markdown",
   "metadata": {
    "hidden": true,
    "lc_cell_meme": {
     "current": "5c0909ba-163a-11ee-987e-0242ac110002-5-d899-f5d7-c318-7135-116c",
     "next": "5c090a5a-163a-11ee-987e-0242ac110002-5-8021-add4-013b-8912-805c",
     "previous": "5c090924-163a-11ee-987e-0242ac110002-5-1d21-0be3-b333-4fa4-fb80"
    }
   },
   "source": [
    "`jupyterhub` コンテナのログを表示してみます。\n",
    "\n",
    "> DBに接続できないなどのエラーが表示されていないことを確認してください。"
   ]
  },
  {
   "cell_type": "code",
   "execution_count": null,
   "metadata": {
    "hidden": true,
    "lc_cell_meme": {
     "current": "5c090a5a-163a-11ee-987e-0242ac110002-5-8021-add4-013b-8912-805c",
     "next": "5c090afa-163a-11ee-987e-0242ac110002-5-bb13-c5f8-5498-2e34-486f",
     "previous": "5c0909ba-163a-11ee-987e-0242ac110002-5-d899-f5d7-c318-7135-116c"
    },
    "scrolled": true
   },
   "outputs": [],
   "source": [
    "!ansible {target_hub} -a 'docker service logs {{{{ugroup_name}}}}_jupyterhub'"
   ]
  },
  {
   "cell_type": "markdown",
   "metadata": {
    "hidden": true,
    "lc_cell_meme": {
     "current": "5c090afa-163a-11ee-987e-0242ac110002-5-bb13-c5f8-5498-2e34-486f",
     "next": "5c090b90-163a-11ee-987e-0242ac110002-5-48e2-0d58-eeec-6c96-e652",
     "previous": "5c090a5a-163a-11ee-987e-0242ac110002-5-8021-add4-013b-8912-805c"
    }
   },
   "source": [
    "`Nginx` コンテナのログを表示してみます。\n",
    "\n",
    "> 証明書設定に誤りがあるなどのエラーが表示されていないことを確認してください。"
   ]
  },
  {
   "cell_type": "code",
   "execution_count": null,
   "metadata": {
    "hidden": true,
    "lc_cell_meme": {
     "current": "5c090b90-163a-11ee-987e-0242ac110002-5-48e2-0d58-eeec-6c96-e652",
     "next": "0d2b60f6-923e-11ee-880b-0242ac110002-1-f422",
     "previous": "5c090afa-163a-11ee-987e-0242ac110002-5-bb13-c5f8-5498-2e34-486f"
    },
    "scrolled": true
   },
   "outputs": [],
   "source": [
    "!ansible {target_hub} -a 'docker service logs {{{{ugroup_name}}}}_proxy'"
   ]
  },
  {
   "cell_type": "markdown",
   "metadata": {
    "lc_cell_meme": {
     "current": "0d2b60f6-923e-11ee-880b-0242ac110002-1-f422",
     "next": "5c090afa-163a-11ee-987e-0242ac110002-6-bb13-c5f8-5498-2e34-9111-8742",
     "previous": "5c090b90-163a-11ee-987e-0242ac110002-5-48e2-0d58-eeec-6c96-e652"
    }
   },
   "source": [
    "## LMS設定"
   ]
  },
  {
   "cell_type": "markdown",
   "metadata": {
    "lc_cell_meme": {
     "current": "5c090afa-163a-11ee-987e-0242ac110002-6-bb13-c5f8-5498-2e34-9111-8742",
     "next": "692a46f4-8abb-11ee-880b-0242ac110002-1-543e",
     "previous": "0d2b60f6-923e-11ee-880b-0242ac110002-1-f422"
    }
   },
   "source": [
    "LTI認証連携で受講生情報を取得するために必要な公開鍵情報を表示します。  \n",
    "NRPS（Names and Role Provisioning Services）を利用できる場合、表示された公開鍵情報を、事前に設定したMoodleの外部ツール設定にて、RSA鍵の欄にコピー＆ペーストしてください。  \n",
    "設定例について、「021-Moodleの外部ツール設定例（lti1.3&JupyterHub）」ノートブックの「NRPS利用の場合の設定」の章に図解があります。"
   ]
  },
  {
   "cell_type": "code",
   "execution_count": null,
   "metadata": {
    "lc_cell_meme": {
     "current": "692a46f4-8abb-11ee-880b-0242ac110002-1-543e",
     "next": null,
     "previous": "5c090afa-163a-11ee-987e-0242ac110002-6-bb13-c5f8-5498-2e34-9111-8742"
    }
   },
   "outputs": [],
   "source": [
    "if not 'get_course_member_method' in globals() or not get_course_member_method == 'moodle_api':\n",
    "    !ansible {target_hub} -a \\\n",
    "        'cat  {{{{jupyterhub_dir}}}}/jupyterhub/public_key_nrps.pem'"
   ]
  }
 ],
 "metadata": {
  "kernelspec": {
   "display_name": "Python 3",
   "language": "python",
   "name": "python3"
  },
  "language_info": {
   "file_extension": ".py",
   "mimetype": "text/x-python",
   "name": "python",
   "nbconvert_exporter": "python",
   "pygments_lexer": "ipython3",
   "version": "3.10.4"
  },
  "lc_notebook_meme": {
   "current": "5c08ad1c-163a-11ee-987e-0242ac110002",
   "lc_server_signature": {
    "current": {
     "notebook_dir": "/notebooks/notebook",
     "notebook_path": "/work_terayama/mcj-cloudhub/notebooks",
     "server_url": "https://vcc1045.vcp-handson.org/jupyter3/",
     "signature_id": "3c8e5600-416c-11ee-819d-0242ac110002"
    }
   }
  },
  "toc": {
   "base_numbering": 1,
   "nav_menu": {},
   "number_sections": true,
   "sideBar": true,
   "skip_h1_title": true,
   "title_cell": "Table of Contents",
   "title_sidebar": "Contents",
   "toc_cell": false,
   "toc_position": {
    "height": "calc(100% - 180px)",
    "left": "10px",
    "top": "150px",
    "width": "299.867px"
   },
   "toc_section_display": true,
   "toc_window_display": true
  }
 },
 "nbformat": 4,
 "nbformat_minor": 2
}
