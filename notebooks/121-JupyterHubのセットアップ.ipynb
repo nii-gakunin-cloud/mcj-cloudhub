{
 "cells": [
  {
   "cell_type": "markdown",
   "metadata": {
    "lc_cell_meme": {
     "current": "5c08b078-163a-11ee-987e-0242ac110002-2-52d6-bf0d",
     "history": [
      {
       "current": "5c08b078-163a-11ee-987e-0242ac110002-1-52d6",
       "next": "5c08b168-163a-11ee-987e-0242ac110002",
       "previous": null
      },
      {
       "current": "5c08b078-163a-11ee-987e-0242ac110002-2-52d6-bf0d",
       "next": "5c08b168-163a-11ee-987e-0242ac110002-1-957e",
       "previous": null
      }
     ],
     "next": "5c08b168-163a-11ee-987e-0242ac110002-2-957e-1aec",
     "previous": null
    }
   },
   "source": [
    "# JupyterHubのセットアップ\n",
    "\n",
    "---\n",
    "\n",
    "VCノードにJupyterHub環境を構築します。"
   ]
  },
  {
   "cell_type": "markdown",
   "metadata": {
    "lc_cell_meme": {
     "current": "5c08b168-163a-11ee-987e-0242ac110002-2-957e-1aec",
     "history": [
      {
       "current": "5c08b168-163a-11ee-987e-0242ac110002-1-957e",
       "next": "5c08b21c-163a-11ee-987e-0242ac110002",
       "previous": "5c08b078-163a-11ee-987e-0242ac110002"
      },
      {
       "current": "5c08b168-163a-11ee-987e-0242ac110002-2-957e-1aec",
       "next": "5c08b21c-163a-11ee-987e-0242ac110002-1-6bf6",
       "previous": "5c08b078-163a-11ee-987e-0242ac110002-1-52d6"
      }
     ],
     "next": "5c08b21c-163a-11ee-987e-0242ac110002-2-6bf6-d13d",
     "previous": "5c08b078-163a-11ee-987e-0242ac110002-2-52d6-bf0d"
    }
   },
   "source": [
    "## 概要\n",
    "\n",
    "このNotebookで構築するJupyterHubの構成要素を以下に示します。\n",
    "\n",
    "![<構成図表示エラー>](images/arch.png)"
   ]
  },
  {
   "cell_type": "markdown",
   "metadata": {
    "lc_cell_meme": {
     "current": "5c08b21c-163a-11ee-987e-0242ac110002-2-6bf6-d13d",
     "history": [
      {
       "current": "5c08b21c-163a-11ee-987e-0242ac110002-1-6bf6",
       "next": "5c08b2d0-163a-11ee-987e-0242ac110002",
       "previous": "5c08b168-163a-11ee-987e-0242ac110002"
      },
      {
       "current": "5c08b21c-163a-11ee-987e-0242ac110002-2-6bf6-d13d",
       "next": "5c08b2d0-163a-11ee-987e-0242ac110002-1-c19b",
       "previous": "5c08b168-163a-11ee-987e-0242ac110002-1-957e"
      }
     ],
     "next": "5c08b2d0-163a-11ee-987e-0242ac110002-2-c19b-4e25",
     "previous": "5c08b168-163a-11ee-987e-0242ac110002-2-957e-1aec"
    }
   },
   "source": [
    "> このNotebookで構築するJupyterHubではMoodleとの連携を前提としています。"
   ]
  },
  {
   "cell_type": "markdown",
   "metadata": {
    "lc_cell_meme": {
     "current": "5c08b2d0-163a-11ee-987e-0242ac110002-2-c19b-4e25",
     "history": [
      {
       "current": "5c08b2d0-163a-11ee-987e-0242ac110002-1-c19b",
       "next": "5c08b370-163a-11ee-987e-0242ac110002",
       "previous": "5c08b21c-163a-11ee-987e-0242ac110002"
      },
      {
       "current": "5c08b2d0-163a-11ee-987e-0242ac110002-2-c19b-4e25",
       "next": "5c08b370-163a-11ee-987e-0242ac110002-1-97e0",
       "previous": "5c08b21c-163a-11ee-987e-0242ac110002-1-6bf6"
      }
     ],
     "next": "5c08b370-163a-11ee-987e-0242ac110002-2-97e0-62e0",
     "previous": "5c08b21c-163a-11ee-987e-0242ac110002-2-6bf6-d13d"
    }
   },
   "source": [
    "### 事前に準備が必要となるものについて\n",
    "\n",
    "このNotebookを実行するにあたって、あらかじめ準備が必要となるものについて以下に記します。\n",
    "\n",
    "* VCノード構築\n",
    "* JupyterHubのサーバ証明書\n",
    "    - JupyterHubではHTTPSによる公開を行うためサーバ証明書とその秘密鍵を準備する必要があります。\n",
    "* 機関のLDAPサーバ\n",
    "* Moodleシステム\n",
    "    - JHコンテナからMoodleで使用しているDBにアクセス可能であること。（受講生一覧を取得するため）"
   ]
  },
  {
   "cell_type": "markdown",
   "metadata": {
    "lc_cell_meme": {
     "current": "5c08b370-163a-11ee-987e-0242ac110002-2-97e0-62e0",
     "history": [
      {
       "current": "5c08b370-163a-11ee-987e-0242ac110002-1-97e0",
       "next": "5c08b410-163a-11ee-987e-0242ac110002",
       "previous": "5c08b2d0-163a-11ee-987e-0242ac110002"
      },
      {
       "current": "5c08b370-163a-11ee-987e-0242ac110002-2-97e0-62e0",
       "next": "5c08b410-163a-11ee-987e-0242ac110002-1-9afc",
       "previous": "5c08b2d0-163a-11ee-987e-0242ac110002-1-c19b"
      }
     ],
     "next": "5c08b410-163a-11ee-987e-0242ac110002-2-9afc-16ae",
     "previous": "5c08b2d0-163a-11ee-987e-0242ac110002-2-c19b-4e25"
    }
   },
   "source": [
    "### UnitGroup名\n",
    "\n",
    "JupyterHubの構築環境となるVCPのUnitGroup名を指定します。"
   ]
  },
  {
   "cell_type": "markdown",
   "metadata": {
    "lc_cell_meme": {
     "current": "5c08b410-163a-11ee-987e-0242ac110002-2-9afc-16ae",
     "history": [
      {
       "current": "5c08b410-163a-11ee-987e-0242ac110002-1-9afc",
       "next": "5c08b4b0-163a-11ee-987e-0242ac110002",
       "previous": "5c08b370-163a-11ee-987e-0242ac110002"
      },
      {
       "current": "5c08b410-163a-11ee-987e-0242ac110002-2-9afc-16ae",
       "next": "5c08b4b0-163a-11ee-987e-0242ac110002-1-af1f",
       "previous": "5c08b370-163a-11ee-987e-0242ac110002-1-97e0"
      }
     ],
     "next": "5c08b4b0-163a-11ee-987e-0242ac110002-2-af1f-ff22",
     "previous": "5c08b370-163a-11ee-987e-0242ac110002-2-97e0-62e0"
    }
   },
   "source": [
    "VCノードを作成時に指定した値を確認するために `group_vars`ファイル名の一覧を表示します。"
   ]
  },
  {
   "cell_type": "code",
   "execution_count": null,
   "metadata": {
    "lc_cell_meme": {
     "current": "5c08b4b0-163a-11ee-987e-0242ac110002-2-af1f-ff22",
     "history": [
      {
       "current": "5c08b4b0-163a-11ee-987e-0242ac110002-1-af1f",
       "next": "5c08b550-163a-11ee-987e-0242ac110002",
       "previous": "5c08b410-163a-11ee-987e-0242ac110002"
      },
      {
       "current": "5c08b4b0-163a-11ee-987e-0242ac110002-2-af1f-ff22",
       "next": "5c08b550-163a-11ee-987e-0242ac110002-1-bafd",
       "previous": "5c08b410-163a-11ee-987e-0242ac110002-1-9afc"
      }
     ],
     "next": "5c08b550-163a-11ee-987e-0242ac110002-2-bafd-3296",
     "previous": "5c08b410-163a-11ee-987e-0242ac110002-2-9afc-16ae"
    },
    "lc_wrapper": {
     "log_history": [
      "/notebooks/notebook/work_terayama/yjupyterhub/work/.log/20230629/20230629-163426-0203.log",
      "/notebooks/notebook/work_terayama/yjupyterhub/work/.log/20230630/20230630-185552-0635.log",
      "/notebooks/notebook/work_terayama/yjupyterhub/work/.log/20230704/20230704-112435-0863.log",
      "/notebooks/notebook/work_terayama/yjupyterhub/work/.log/20230705/20230705-183615-0066.log",
      "/notebooks/notebook/work_terayama/yjupyterhub/work/.log/20230712/20230712-173408-0971.log",
      "/notebooks/notebook/work_terayama/yjupyterhub/work/.log/20230719/20230719-153308-0440.log",
      "/notebooks/notebook/work_terayama/yjupyterhub/work/.log/20230720/20230720-114738-0555.log",
      "/notebooks/notebook/work_terayama/yjupyterhub/work/.log/20230727/20230727-141202-0455.log",
      "/notebooks/notebook/work_terayama/yjupyterhub/work/.log/20230801/20230801-152056-0389.log"
     ]
    }
   },
   "outputs": [],
   "source": [
    "!ls -1 group_vars/"
   ]
  },
  {
   "cell_type": "markdown",
   "metadata": {
    "lc_cell_meme": {
     "current": "5c08b550-163a-11ee-987e-0242ac110002-2-bafd-3296",
     "history": [
      {
       "current": "5c08b550-163a-11ee-987e-0242ac110002-1-bafd",
       "next": "5c08b5e6-163a-11ee-987e-0242ac110002",
       "previous": "5c08b4b0-163a-11ee-987e-0242ac110002"
      },
      {
       "current": "5c08b550-163a-11ee-987e-0242ac110002-2-bafd-3296",
       "next": "5c08b5e6-163a-11ee-987e-0242ac110002-1-d9b6",
       "previous": "5c08b4b0-163a-11ee-987e-0242ac110002-1-af1f"
      }
     ],
     "next": "5c08b5e6-163a-11ee-987e-0242ac110002-2-d9b6-737b",
     "previous": "5c08b4b0-163a-11ee-987e-0242ac110002-2-af1f-ff22"
    }
   },
   "source": [
    "上のセルの出力結果を参考にして、UnitGroup名を次のセルに指定してください。"
   ]
  },
  {
   "cell_type": "code",
   "execution_count": null,
   "metadata": {
    "lc_cell_meme": {
     "current": "5c08b5e6-163a-11ee-987e-0242ac110002-2-d9b6-737b",
     "history": [
      {
       "current": "5c08b5e6-163a-11ee-987e-0242ac110002-1-d9b6",
       "next": "5c08b686-163a-11ee-987e-0242ac110002",
       "previous": "5c08b550-163a-11ee-987e-0242ac110002"
      },
      {
       "current": "5c08b5e6-163a-11ee-987e-0242ac110002-2-d9b6-737b",
       "next": "5c08b686-163a-11ee-987e-0242ac110002-1-0350",
       "previous": "5c08b550-163a-11ee-987e-0242ac110002-1-bafd"
      }
     ],
     "next": "5c08b686-163a-11ee-987e-0242ac110002-2-0350-dee2",
     "previous": "5c08b550-163a-11ee-987e-0242ac110002-2-bafd-3296"
    },
    "lc_wrapper": {
     "log_history": [
      "/notebooks/notebook/work_terayama/yjupyterhub/work/.log/20230629/20230629-163431-0337.log",
      "/notebooks/notebook/work_terayama/yjupyterhub/work/.log/20230630/20230630-185602-0594.log",
      "/notebooks/notebook/work_terayama/yjupyterhub/work/.log/20230704/20230704-112439-0309.log",
      "/notebooks/notebook/work_terayama/yjupyterhub/work/.log/20230712/20230712-173411-0457.log",
      "/notebooks/notebook/work_terayama/yjupyterhub/work/.log/20230719/20230719-153310-0245.log",
      "/notebooks/notebook/work_terayama/yjupyterhub/work/.log/20230720/20230720-114740-0428.log",
      "/notebooks/notebook/work_terayama/yjupyterhub/work/.log/20230727/20230727-141207-0798.log",
      "/notebooks/notebook/work_terayama/yjupyterhub/work/.log/20230801/20230801-142506-0399.log",
      "/notebooks/notebook/work_terayama/yjupyterhub/work/.log/20230801/20230801-152057-0832.log"
     ]
    },
    "tags": [
     "vcp:parameters"
    ]
   },
   "outputs": [],
   "source": [
    "# (例)\n",
    "# ugroup_name = 'JupyterHub'\n",
    "\n",
    "ugroup_name = ''"
   ]
  },
  {
   "cell_type": "markdown",
   "metadata": {
    "lc_cell_meme": {
     "current": "5c08b686-163a-11ee-987e-0242ac110002-2-0350-dee2",
     "history": [
      {
       "current": "5c08b686-163a-11ee-987e-0242ac110002-1-0350",
       "next": "5c08b71c-163a-11ee-987e-0242ac110002",
       "previous": "5c08b5e6-163a-11ee-987e-0242ac110002"
      },
      {
       "current": "5c08b686-163a-11ee-987e-0242ac110002-2-0350-dee2",
       "next": "5c08b71c-163a-11ee-987e-0242ac110002-1-fe5e",
       "previous": "5c08b5e6-163a-11ee-987e-0242ac110002-1-d9b6"
      }
     ],
     "next": "5c08b71c-163a-11ee-987e-0242ac110002-2-fe5e-4ac1",
     "previous": "5c08b5e6-163a-11ee-987e-0242ac110002-2-d9b6-737b"
    }
   },
   "source": [
    "### チェック\n",
    "\n",
    "対象となるVCノードがAnsibleによって操作できることを確認します。"
   ]
  },
  {
   "cell_type": "markdown",
   "metadata": {
    "lc_cell_meme": {
     "current": "5c08b71c-163a-11ee-987e-0242ac110002-2-fe5e-4ac1",
     "history": [
      {
       "current": "5c08b71c-163a-11ee-987e-0242ac110002-1-fe5e",
       "next": "5c08b7bc-163a-11ee-987e-0242ac110002",
       "previous": "5c08b686-163a-11ee-987e-0242ac110002"
      },
      {
       "current": "5c08b71c-163a-11ee-987e-0242ac110002-2-fe5e-4ac1",
       "next": "5c08b7bc-163a-11ee-987e-0242ac110002-1-e9fd",
       "previous": "5c08b686-163a-11ee-987e-0242ac110002-1-0350"
      }
     ],
     "next": "5c08b7bc-163a-11ee-987e-0242ac110002-2-e9fd-5231",
     "previous": "5c08b686-163a-11ee-987e-0242ac110002-2-0350-dee2"
    }
   },
   "source": [
    "Ansibleの設定ファイルの場所を環境変数に設定しておきます。"
   ]
  },
  {
   "cell_type": "code",
   "execution_count": null,
   "metadata": {
    "lc_cell_meme": {
     "current": "5c08b7bc-163a-11ee-987e-0242ac110002-2-e9fd-5231",
     "history": [
      {
       "current": "5c08b7bc-163a-11ee-987e-0242ac110002-1-e9fd",
       "next": "5c08b852-163a-11ee-987e-0242ac110002",
       "previous": "5c08b71c-163a-11ee-987e-0242ac110002"
      },
      {
       "current": "5c08b7bc-163a-11ee-987e-0242ac110002-2-e9fd-5231",
       "next": "5c08b852-163a-11ee-987e-0242ac110002-1-cb5f",
       "previous": "5c08b71c-163a-11ee-987e-0242ac110002-1-fe5e"
      }
     ],
     "next": "5c08b852-163a-11ee-987e-0242ac110002-2-cb5f-92f8",
     "previous": "5c08b71c-163a-11ee-987e-0242ac110002-2-fe5e-4ac1"
    },
    "lc_wrapper": {
     "log_history": [
      "/notebooks/notebook/work_terayama/yjupyterhub/work/.log/20230629/20230629-163435-0820.log",
      "/notebooks/notebook/work_terayama/yjupyterhub/work/.log/20230630/20230630-185611-0641.log",
      "/notebooks/notebook/work_terayama/yjupyterhub/work/.log/20230704/20230704-115930-0077.log",
      "/notebooks/notebook/work_terayama/yjupyterhub/work/.log/20230712/20230712-173413-0227.log",
      "/notebooks/notebook/work_terayama/yjupyterhub/work/.log/20230719/20230719-153312-0742.log",
      "/notebooks/notebook/work_terayama/yjupyterhub/work/.log/20230720/20230720-114741-0779.log",
      "/notebooks/notebook/work_terayama/yjupyterhub/work/.log/20230727/20230727-141211-0172.log",
      "/notebooks/notebook/work_terayama/yjupyterhub/work/.log/20230801/20230801-152059-0053.log"
     ]
    }
   },
   "outputs": [],
   "source": [
    "from pathlib import Path\n",
    "import os\n",
    "\n",
    "cfg_ansible = Path('ansible.cfg')\n",
    "if cfg_ansible.exists():\n",
    "    os.environ['ANSIBLE_CONFIG'] = str(cfg_ansible.resolve())"
   ]
  },
  {
   "cell_type": "markdown",
   "metadata": {
    "lc_cell_meme": {
     "current": "5c08b852-163a-11ee-987e-0242ac110002-2-cb5f-92f8",
     "history": [
      {
       "current": "5c08b852-163a-11ee-987e-0242ac110002-1-cb5f",
       "next": "5c08b8e8-163a-11ee-987e-0242ac110002",
       "previous": "5c08b7bc-163a-11ee-987e-0242ac110002"
      },
      {
       "current": "5c08b852-163a-11ee-987e-0242ac110002-2-cb5f-92f8",
       "next": "5c08b8e8-163a-11ee-987e-0242ac110002-1-1d7d",
       "previous": "5c08b7bc-163a-11ee-987e-0242ac110002-1-e9fd"
      }
     ],
     "next": "5c08b8e8-163a-11ee-987e-0242ac110002-2-1d7d-0fc4",
     "previous": "5c08b7bc-163a-11ee-987e-0242ac110002-2-e9fd-5231"
    }
   },
   "source": [
    "構築対象となる各VCノードにアクセスできることを確認します。"
   ]
  },
  {
   "cell_type": "code",
   "execution_count": null,
   "metadata": {
    "lc_cell_meme": {
     "current": "5c08b8e8-163a-11ee-987e-0242ac110002-2-1d7d-0fc4",
     "history": [
      {
       "current": "5c08b8e8-163a-11ee-987e-0242ac110002-1-1d7d",
       "next": "5c08b97e-163a-11ee-987e-0242ac110002",
       "previous": "5c08b852-163a-11ee-987e-0242ac110002"
      },
      {
       "current": "5c08b8e8-163a-11ee-987e-0242ac110002-2-1d7d-0fc4",
       "next": "5c08b97e-163a-11ee-987e-0242ac110002-1-c7cb",
       "previous": "5c08b852-163a-11ee-987e-0242ac110002-1-cb5f"
      }
     ],
     "next": "5c08b97e-163a-11ee-987e-0242ac110002-2-c7cb-3690",
     "previous": "5c08b852-163a-11ee-987e-0242ac110002-2-cb5f-92f8"
    },
    "lc_wrapper": {
     "log_history": [
      "/notebooks/notebook/work_terayama/yjupyterhub/work/.log/20230629/20230629-163528-0328.log",
      "/notebooks/notebook/work_terayama/yjupyterhub/work/.log/20230630/20230630-185614-0445.log",
      "/notebooks/notebook/work_terayama/yjupyterhub/work/.log/20230704/20230704-115930-0089.log",
      "/notebooks/notebook/work_terayama/yjupyterhub/work/.log/20230712/20230712-173413-0239.log",
      "/notebooks/notebook/work_terayama/yjupyterhub/work/.log/20230719/20230719-153317-0178.log",
      "/notebooks/notebook/work_terayama/yjupyterhub/work/.log/20230720/20230720-114744-0403.log",
      "/notebooks/notebook/work_terayama/yjupyterhub/work/.log/20230727/20230727-141212-0006.log",
      "/notebooks/notebook/work_terayama/yjupyterhub/work/.log/20230801/20230801-152101-0146.log"
     ]
    },
    "pinned_outputs": []
   },
   "outputs": [],
   "source": [
    "target_hub = f'{ugroup_name}_manager'\n",
    "\n",
    "!ansible {target_hub} -m ping"
   ]
  },
  {
   "cell_type": "code",
   "execution_count": null,
   "metadata": {
    "lc_cell_meme": {
     "current": "5c08b97e-163a-11ee-987e-0242ac110002-2-c7cb-3690",
     "history": [
      {
       "current": "5c08b97e-163a-11ee-987e-0242ac110002-1-c7cb",
       "next": "5c08ba14-163a-11ee-987e-0242ac110002",
       "previous": "5c08b8e8-163a-11ee-987e-0242ac110002"
      },
      {
       "current": "5c08b97e-163a-11ee-987e-0242ac110002-2-c7cb-3690",
       "next": "5c08ba14-163a-11ee-987e-0242ac110002-1-e52c",
       "previous": "5c08b8e8-163a-11ee-987e-0242ac110002-1-1d7d"
      }
     ],
     "next": "5c08ba14-163a-11ee-987e-0242ac110002-2-e52c-ab56",
     "previous": "5c08b8e8-163a-11ee-987e-0242ac110002-2-1d7d-0fc4"
    },
    "lc_wrapper": {
     "log_history": [
      "/notebooks/notebook/work_terayama/yjupyterhub/work/.log/20230629/20230629-163530-0482.log",
      "/notebooks/notebook/work_terayama/yjupyterhub/work/.log/20230630/20230630-185619-0242.log",
      "/notebooks/notebook/work_terayama/yjupyterhub/work/.log/20230704/20230704-115932-0349.log",
      "/notebooks/notebook/work_terayama/yjupyterhub/work/.log/20230712/20230712-173415-0313.log",
      "/notebooks/notebook/work_terayama/yjupyterhub/work/.log/20230719/20230719-153322-0244.log",
      "/notebooks/notebook/work_terayama/yjupyterhub/work/.log/20230720/20230720-114747-0598.log",
      "/notebooks/notebook/work_terayama/yjupyterhub/work/.log/20230727/20230727-141216-0794.log",
      "/notebooks/notebook/work_terayama/yjupyterhub/work/.log/20230801/20230801-152104-0358.log"
     ]
    },
    "pinned_outputs": []
   },
   "outputs": [],
   "source": [
    "target_nodes = f'{ugroup_name}_worker'\n",
    "\n",
    "!ansible {target_nodes} -m ping"
   ]
  },
  {
   "cell_type": "markdown",
   "metadata": {
    "lc_cell_meme": {
     "current": "5c08ba14-163a-11ee-987e-0242ac110002-2-e52c-ab56",
     "history": [
      {
       "current": "5c08ba14-163a-11ee-987e-0242ac110002-1-e52c",
       "next": "5c08bad2-163a-11ee-987e-0242ac110002",
       "previous": "5c08b97e-163a-11ee-987e-0242ac110002"
      },
      {
       "current": "5c08ba14-163a-11ee-987e-0242ac110002-2-e52c-ab56",
       "next": "5c08bad2-163a-11ee-987e-0242ac110002-1-4a7f",
       "previous": "5c08b97e-163a-11ee-987e-0242ac110002-1-c7cb"
      }
     ],
     "next": "5c08bad2-163a-11ee-987e-0242ac110002-2-4a7f-1e47",
     "previous": "5c08b97e-163a-11ee-987e-0242ac110002-2-c7cb-3690"
    }
   },
   "source": [
    "UnitGroup名に対応する group_varsファイルが存在していることを確認します。"
   ]
  },
  {
   "cell_type": "code",
   "execution_count": null,
   "metadata": {
    "lc_cell_meme": {
     "current": "5c08bad2-163a-11ee-987e-0242ac110002-2-4a7f-1e47",
     "history": [
      {
       "current": "5c08bad2-163a-11ee-987e-0242ac110002-1-4a7f",
       "next": "5c08bb72-163a-11ee-987e-0242ac110002",
       "previous": "5c08ba14-163a-11ee-987e-0242ac110002"
      },
      {
       "current": "5c08bad2-163a-11ee-987e-0242ac110002-2-4a7f-1e47",
       "next": "5c08bb72-163a-11ee-987e-0242ac110002-1-689c",
       "previous": "5c08ba14-163a-11ee-987e-0242ac110002-1-e52c"
      }
     ],
     "next": "5c08bb72-163a-11ee-987e-0242ac110002-2-689c-5659",
     "previous": "5c08ba14-163a-11ee-987e-0242ac110002-2-e52c-ab56"
    },
    "lc_wrapper": {
     "log_history": [
      "/notebooks/notebook/work_terayama/yjupyterhub/work/.log/20230629/20230629-163532-0619.log",
      "/notebooks/notebook/work_terayama/yjupyterhub/work/.log/20230630/20230630-185623-0832.log",
      "/notebooks/notebook/work_terayama/yjupyterhub/work/.log/20230704/20230704-115934-0671.log",
      "/notebooks/notebook/work_terayama/yjupyterhub/work/.log/20230712/20230712-173417-0342.log",
      "/notebooks/notebook/work_terayama/yjupyterhub/work/.log/20230719/20230719-153330-0905.log",
      "/notebooks/notebook/work_terayama/yjupyterhub/work/.log/20230720/20230720-114751-0866.log",
      "/notebooks/notebook/work_terayama/yjupyterhub/work/.log/20230727/20230727-141221-0681.log",
      "/notebooks/notebook/work_terayama/yjupyterhub/work/.log/20230801/20230801-152107-0978.log"
     ]
    }
   },
   "outputs": [],
   "source": [
    "!test -f group_vars/{ugroup_name}"
   ]
  },
  {
   "cell_type": "markdown",
   "metadata": {
    "lc_cell_meme": {
     "current": "5c08bb72-163a-11ee-987e-0242ac110002-2-689c-5659",
     "history": [
      {
       "current": "5c08bb72-163a-11ee-987e-0242ac110002-1-689c",
       "next": "5c08bc12-163a-11ee-987e-0242ac110002",
       "previous": "5c08bad2-163a-11ee-987e-0242ac110002"
      },
      {
       "current": "5c08bb72-163a-11ee-987e-0242ac110002-1-689c",
       "next": "5c08bc12-163a-11ee-987e-0242ac110002-1-c0bc",
       "previous": "5c08bad2-163a-11ee-987e-0242ac110002-1-4a7f"
      },
      {
       "current": "5c08bb72-163a-11ee-987e-0242ac110002-2-689c-5659",
       "next": "5c08cbbc-163a-11ee-987e-0242ac110002-1-cb23",
       "previous": "5c08bad2-163a-11ee-987e-0242ac110002-1-4a7f"
      },
      {
       "current": "5c08bb72-163a-11ee-987e-0242ac110002-2-689c-5659",
       "next": "5c08cbbc-163a-11ee-987e-0242ac110002-2-cb23-f6da",
       "previous": "5c08bad2-163a-11ee-987e-0242ac110002-2-4a7f-1e47"
      }
     ],
     "next": "5c08cce8-163a-11ee-987e-0242ac110002-2-32bc-eacd",
     "previous": "5c08bad2-163a-11ee-987e-0242ac110002-2-4a7f-1e47"
    }
   },
   "source": [
    "## パラメータの設定"
   ]
  },
  {
   "cell_type": "markdown",
   "metadata": {
    "lc_cell_meme": {
     "current": "5c08cce8-163a-11ee-987e-0242ac110002-2-32bc-eacd",
     "history": [
      {
       "current": "5c08cce8-163a-11ee-987e-0242ac110002-1-32bc",
       "next": "5c08cd88-163a-11ee-987e-0242ac110002",
       "previous": "5c08cc52-163a-11ee-987e-0242ac110002"
      },
      {
       "current": "5c08cce8-163a-11ee-987e-0242ac110002-1-32bc",
       "next": "5c08cd88-163a-11ee-987e-0242ac110002-1-575b",
       "previous": "5c08cc52-163a-11ee-987e-0242ac110002-1-b825"
      },
      {
       "current": "5c08cce8-163a-11ee-987e-0242ac110002-1-32bc",
       "next": "5c08ce1e-163a-11ee-987e-0242ac110002-1-3bb7",
       "previous": "5c08cc52-163a-11ee-987e-0242ac110002-1-b825"
      },
      {
       "current": "5c08cce8-163a-11ee-987e-0242ac110002-2-32bc-eacd",
       "next": "259a9e24-3026-11ee-b73e-0242ac110003",
       "previous": "5c08cc52-163a-11ee-987e-0242ac110002-1-b825"
      },
      {
       "current": "5c08cce8-163a-11ee-987e-0242ac110002-2-32bc-eacd",
       "next": "259a9e24-3026-11ee-b73e-0242ac110003-1-b59f",
       "previous": "5c08cc52-163a-11ee-987e-0242ac110002-2-b825-2a54"
      }
     ],
     "next": "259a9e24-3026-11ee-b73e-0242ac110003-1-b59f",
     "previous": "5c08bb72-163a-11ee-987e-0242ac110002-2-689c-5659"
    }
   },
   "source": [
    "### 各種設定項目\n",
    "\n",
    "JupyterHubシステムに関する各種設定項目を指定します。\n",
    "\n",
    "ここで設定された項目はansible変数として保存され、ファイルのmanagerノードへの配置時にdocker-compose.ymlとjupyterhub_config.iniに反映されます。"
   ]
  },
  {
   "cell_type": "markdown",
   "metadata": {
    "lc_cell_meme": {
     "current": "259a9e24-3026-11ee-b73e-0242ac110003-1-b59f",
     "execution_end_time": "2023-08-01T04:44:40.231338Z",
     "history": [
      {
       "current": "259a9e24-3026-11ee-b73e-0242ac110003",
       "next": "5c08ce1e-163a-11ee-987e-0242ac110002-1-3bb7",
       "previous": "5c08cce8-163a-11ee-987e-0242ac110002-1-32bc"
      },
      {
       "current": "259a9e24-3026-11ee-b73e-0242ac110003-1-b59f",
       "next": "3c7de47c-27aa-11ee-987e-0242ac110002",
       "previous": "5c08cce8-163a-11ee-987e-0242ac110002-1-32bc"
      }
     ],
     "next": "3c7de47c-27aa-11ee-987e-0242ac110002-1-0b37",
     "previous": "5c08cce8-163a-11ee-987e-0242ac110002-2-32bc-eacd"
    },
    "lc_wrapper": {
     "log_history": [
      "/notebooks/notebook/work_terayama/yjupyterhub/work/.log/20230801/20230801-134440-0222.log"
     ]
    }
   },
   "source": [
    "#### 必須設定項目"
   ]
  },
  {
   "cell_type": "code",
   "execution_count": null,
   "metadata": {
    "lc_cell_meme": {
     "current": "3c7de47c-27aa-11ee-987e-0242ac110002-1-0b37",
     "history": [
      {
       "current": "3c7de47c-27aa-11ee-987e-0242ac110002",
       "next": "3c7de684-27aa-11ee-987e-0242ac110002",
       "previous": "5c08d0f8-163a-11ee-987e-0242ac110002-1-00f0"
      },
      {
       "current": "3c7de47c-27aa-11ee-987e-0242ac110002",
       "next": "3c7de684-27aa-11ee-987e-0242ac110002",
       "previous": "5c08ce1e-163a-11ee-987e-0242ac110002-1-3bb7"
      },
      {
       "current": "3c7de47c-27aa-11ee-987e-0242ac110002",
       "next": "5c08ce1e-163a-11ee-987e-0242ac110002-1-3bb7",
       "previous": "259a9e24-3026-11ee-b73e-0242ac110003"
      },
      {
       "current": "3c7de47c-27aa-11ee-987e-0242ac110002-1-0b37",
       "next": "20b530c4-2b60-11ee-987e-0242ac110002",
       "previous": "259a9e24-3026-11ee-b73e-0242ac110003"
      }
     ],
     "next": "20b530c4-2b60-11ee-987e-0242ac110002-1-e72a",
     "previous": "259a9e24-3026-11ee-b73e-0242ac110003-1-b59f"
    },
    "lc_wrapper": {
     "log_history": [
      "/notebooks/notebook/work_terayama/yjupyterhub/work/.log/20230727/20230727-141233-0410.log",
      "/notebooks/notebook/work_terayama/yjupyterhub/work/.log/20230801/20230801-142829-0663.log",
      "/notebooks/notebook/work_terayama/yjupyterhub/work/.log/20230801/20230801-152119-0884.log"
     ]
    }
   },
   "outputs": [],
   "source": [
    "# JupyterHubのホスト名(FQDN) (例) 'vcc1045.vcp-handson.org'\n",
    "master_fqdn = ''\n",
    "\n",
    "# moodleDB接続情報\n",
    "# DB名 (例) 'moodle'\n",
    "moodle_db_name = ''\n",
    "# DBユーザ (例) 'moodle'\n",
    "moodle_db_user = ''\n",
    "# DBホスト (例) '172.30.2.110'\n",
    "moodle_db_host = ''\n",
    "# DBパスワード (例) 'password'\n",
    "moodle_db_password = ''\n",
    "\n",
    "# グローバルLDAP接続情報\n",
    "# ホスト (例) '172.30.2.120:1389'\n",
    "global_ldap_server = '' # ポートはデフォルト(389)であれば、省略可能\n",
    "# ベースDN (例) 'ou=People,dc=ldap,dc=server,dc=sample,dc=jp'\n",
    "global_ldap_base_dn = ''\n",
    "# パスワード (例) 'PassWordDesu'\n",
    "global_ldap_password = ''\n"
   ]
  },
  {
   "cell_type": "code",
   "execution_count": null,
   "metadata": {
    "lc_cell_meme": {
     "current": "20b530c4-2b60-11ee-987e-0242ac110002-1-e72a",
     "history": [
      {
       "current": "20b530c4-2b60-11ee-987e-0242ac110002",
       "next": "218e7840-27ad-11ee-987e-0242ac110002",
       "previous": "738a5612-27aa-11ee-987e-0242ac110002"
      },
      {
       "current": "20b530c4-2b60-11ee-987e-0242ac110002",
       "next": "218e7840-27ad-11ee-987e-0242ac110002",
       "previous": "9ffd224c-2b60-11ee-987e-0242ac110002"
      },
      {
       "current": "20b530c4-2b60-11ee-987e-0242ac110002-1-e72a",
       "next": "218e7840-27ad-11ee-987e-0242ac110002",
       "previous": "3c7de47c-27aa-11ee-987e-0242ac110002"
      }
     ],
     "next": "218e7840-27ad-11ee-987e-0242ac110002-1-9b70",
     "previous": "3c7de47c-27aa-11ee-987e-0242ac110002-1-0b37"
    },
    "lc_wrapper": {
     "log_history": [
      "/notebooks/notebook/work_terayama/yjupyterhub/work/.log/20230726/20230726-121147-0001.log",
      "/notebooks/notebook/work_terayama/yjupyterhub/work/.log/20230727/20230727-141251-0894.log",
      "/notebooks/notebook/work_terayama/yjupyterhub/work/.log/20230801/20230801-142830-0885.log",
      "/notebooks/notebook/work_terayama/yjupyterhub/work/.log/20230801/20230801-152121-0521.log"
     ]
    }
   },
   "outputs": [],
   "source": [
    "# LTI用 ※デフォルト指定無し\n",
    "# コンシューマーキー (例) 'cz5j8p2v3c0zjvpad6vyt4xqtkkvyn4d4faba18g2rll0odlerk524k3ipczbzqh'\n",
    "lti_consumer_key = ''\n",
    "# 共有シークレット (例) 'cz5j8p2v3c0zjvpad6vyt4xqtkkvyn4d4faba18g2rll0odlerk524k3ipczbzqh'\n",
    "lti_secret = ''"
   ]
  },
  {
   "cell_type": "code",
   "execution_count": null,
   "metadata": {
    "lc_cell_meme": {
     "current": "218e7840-27ad-11ee-987e-0242ac110002-1-9b70",
     "history": [
      {
       "current": "218e7840-27ad-11ee-987e-0242ac110002",
       "next": "5c08d18e-163a-11ee-987e-0242ac110002-1-16f7",
       "previous": "738a5612-27aa-11ee-987e-0242ac110002"
      },
      {
       "current": "218e7840-27ad-11ee-987e-0242ac110002",
       "next": "5c08d18e-163a-11ee-987e-0242ac110002-1-16f7",
       "previous": "20b530c4-2b60-11ee-987e-0242ac110002"
      },
      {
       "current": "218e7840-27ad-11ee-987e-0242ac110002",
       "next": "f3ffe08c-2b65-11ee-987e-0242ac110002",
       "previous": "20b530c4-2b60-11ee-987e-0242ac110002"
      },
      {
       "current": "218e7840-27ad-11ee-987e-0242ac110002",
       "next": "5c08ce1e-163a-11ee-987e-0242ac110002-1-3bb7",
       "previous": "20b530c4-2b60-11ee-987e-0242ac110002"
      },
      {
       "current": "218e7840-27ad-11ee-987e-0242ac110002-1-9b70",
       "next": "259a9e24-3026-11ee-b73e-0242ac110003-1-f5f3",
       "previous": "20b530c4-2b60-11ee-987e-0242ac110002"
      }
     ],
     "next": "259a9e24-3026-11ee-b73e-0242ac110003-2-f5f3-8a97",
     "previous": "20b530c4-2b60-11ee-987e-0242ac110002-1-e72a"
    },
    "lc_wrapper": {
     "log_history": [
      "/notebooks/notebook/work_terayama/yjupyterhub/work/.log/20230721/20230721-185159-0315.log",
      "/notebooks/notebook/work_terayama/yjupyterhub/work/.log/20230721/20230721-185505-0176.log",
      "/notebooks/notebook/work_terayama/yjupyterhub/work/.log/20230721/20230721-185514-0868.log",
      "/notebooks/notebook/work_terayama/yjupyterhub/work/.log/20230721/20230721-185556-0874.log",
      "/notebooks/notebook/work_terayama/yjupyterhub/work/.log/20230721/20230721-185737-0077.log",
      "/notebooks/notebook/work_terayama/yjupyterhub/work/.log/20230721/20230721-191849-0323.log",
      "/notebooks/notebook/work_terayama/yjupyterhub/work/.log/20230721/20230721-191858-0571.log",
      "/notebooks/notebook/work_terayama/yjupyterhub/work/.log/20230721/20230721-192630-0794.log",
      "/notebooks/notebook/work_terayama/yjupyterhub/work/.log/20230726/20230726-120918-0692.log",
      "/notebooks/notebook/work_terayama/yjupyterhub/work/.log/20230726/20230726-121005-0222.log",
      "/notebooks/notebook/work_terayama/yjupyterhub/work/.log/20230726/20230726-121142-0017.log",
      "/notebooks/notebook/work_terayama/yjupyterhub/work/.log/20230726/20230726-121148-0763.log",
      "/notebooks/notebook/work_terayama/YamaguchiHub/notebooks/.log/20230801/20230801-225148-0741.log"
     ]
    }
   },
   "outputs": [],
   "source": [
    "# LTI用 ※上のセルで指定が無い場合に生成するためのセル\n",
    "import random, string\n",
    "\n",
    "# ランダムな値を生成する場合\n",
    "n = 64\n",
    "if not 'lti_consumer_key' in locals() or not lti_consumer_key:\n",
    "    lti_consumer_key = ''.join(random.choices(string.ascii_lowercase + string.digits, k=n))\n",
    "if not 'lti_secret' in locals() or not lti_secret:\n",
    "    lti_secret = ''.join(random.choices(string.ascii_lowercase + string.digits, k=n))"
   ]
  },
  {
   "cell_type": "markdown",
   "metadata": {
    "lc_cell_meme": {
     "current": "259a9e24-3026-11ee-b73e-0242ac110003-2-f5f3-8a97",
     "execution_end_time": "2023-08-01T04:44:40.231338Z",
     "history": [
      {
       "current": "259a9e24-3026-11ee-b73e-0242ac110003",
       "next": "5c08ce1e-163a-11ee-987e-0242ac110002-1-3bb7",
       "previous": "5c08cce8-163a-11ee-987e-0242ac110002-1-32bc"
      },
      {
       "current": "259a9e24-3026-11ee-b73e-0242ac110003-1-f5f3",
       "next": "3c7de47c-27aa-11ee-987e-0242ac110002",
       "previous": "5c08cce8-163a-11ee-987e-0242ac110002-1-32bc"
      },
      {
       "current": "259a9e24-3026-11ee-b73e-0242ac110003-2-f5f3-8a97",
       "next": "5c08ce1e-163a-11ee-987e-0242ac110002-1-3bb7",
       "previous": "218e7840-27ad-11ee-987e-0242ac110002"
      }
     ],
     "next": "5c08ce1e-163a-11ee-987e-0242ac110002-2-3bb7-a01e",
     "previous": "218e7840-27ad-11ee-987e-0242ac110002-1-9b70"
    },
    "lc_wrapper": {
     "log_history": [
      "/notebooks/notebook/work_terayama/yjupyterhub/work/.log/20230801/20230801-134440-0222.log"
     ]
    }
   },
   "source": [
    "#### 任意設定項目"
   ]
  },
  {
   "cell_type": "code",
   "execution_count": null,
   "metadata": {
    "lc_cell_meme": {
     "current": "5c08ce1e-163a-11ee-987e-0242ac110002-2-3bb7-a01e",
     "history": [
      {
       "current": "5c08ce1e-163a-11ee-987e-0242ac110002-1-3bb7",
       "next": "5c08ceb4-163a-11ee-987e-0242ac110002",
       "previous": "5c08cd88-163a-11ee-987e-0242ac110002"
      },
      {
       "current": "5c08ce1e-163a-11ee-987e-0242ac110002-1-3bb7",
       "next": "5c08ceb4-163a-11ee-987e-0242ac110002-1-f2bd",
       "previous": "5c08cd88-163a-11ee-987e-0242ac110002-1-575b"
      },
      {
       "current": "5c08ce1e-163a-11ee-987e-0242ac110002-1-3bb7",
       "next": "5c08ceb4-163a-11ee-987e-0242ac110002-1-f2bd",
       "previous": "5c08cce8-163a-11ee-987e-0242ac110002-1-32bc"
      },
      {
       "current": "5c08ce1e-163a-11ee-987e-0242ac110002-1-3bb7",
       "next": "3c7de47c-27aa-11ee-987e-0242ac110002",
       "previous": "5c08cce8-163a-11ee-987e-0242ac110002-1-32bc"
      },
      {
       "current": "5c08ce1e-163a-11ee-987e-0242ac110002-1-3bb7",
       "next": "3c7de47c-27aa-11ee-987e-0242ac110002",
       "previous": "259a9e24-3026-11ee-b73e-0242ac110003"
      },
      {
       "current": "5c08ce1e-163a-11ee-987e-0242ac110002-1-3bb7",
       "next": "3c7de684-27aa-11ee-987e-0242ac110002",
       "previous": "3c7de47c-27aa-11ee-987e-0242ac110002"
      },
      {
       "current": "5c08ce1e-163a-11ee-987e-0242ac110002-1-3bb7",
       "next": "738a5612-27aa-11ee-987e-0242ac110002",
       "previous": "218e7840-27ad-11ee-987e-0242ac110002"
      },
      {
       "current": "5c08ce1e-163a-11ee-987e-0242ac110002-1-3bb7",
       "next": "738a5612-27aa-11ee-987e-0242ac110002",
       "previous": "259a9e24-3026-11ee-b73e-0242ac110003-1-f5f3"
      },
      {
       "current": "5c08ce1e-163a-11ee-987e-0242ac110002-2-3bb7-a01e",
       "next": "5c08d18e-163a-11ee-987e-0242ac110002-1-16f7",
       "previous": "259a9e24-3026-11ee-b73e-0242ac110003-1-f5f3"
      }
     ],
     "next": "5c08d18e-163a-11ee-987e-0242ac110002-2-16f7-fe99",
     "previous": "259a9e24-3026-11ee-b73e-0242ac110003-2-f5f3-8a97"
    },
    "lc_wrapper": {
     "log_history": [
      "/notebooks/notebook/work_terayama/yjupyterhub/work/.log/20230727/20230727-141232-0808.log",
      "/notebooks/notebook/work_terayama/yjupyterhub/work/.log/20230801/20230801-142556-0814.log",
      "/notebooks/notebook/work_terayama/yjupyterhub/work/.log/20230801/20230801-143903-0447.log",
      "/notebooks/notebook/work_terayama/yjupyterhub/work/.log/20230801/20230801-152124-0083.log",
      "/notebooks/notebook/work_terayama/yjupyterhub/work/.log/20230801/20230801-164932-0673.log",
      "/notebooks/notebook/work_terayama/yjupyterhub/work/.log/20230801/20230801-165307-0503.log",
      "/notebooks/notebook/work_terayama/yjupyterhub/work/.log/20230801/20230801-174203-0070.log"
     ]
    },
    "pinned_outputs": []
   },
   "outputs": [],
   "source": [
    "# JupyterhubDB接続情報\n",
    "jh_db_name = 'jupyterthub'\n",
    "jh_db_user = 'jupyter'\n",
    "jh_db_password = 'PassWordDesu'\n",
    "jh_db_host = 'mariadb:3306'\n",
    "\n",
    "# Jupyterhub 初期設定\n",
    "jupyterhub_admin_users = ['admin', 'user01']\n",
    "\n",
    "# single-user notebookコンテナ リソース制限\n",
    "teacher_mem_limit = '1024M'\n",
    "student_mem_limit = '512M'\n",
    "mem_guarantee = '256M'\n",
    "cpu_limit = '0.5'\n",
    "cpu_guarantee = '0.2'\n",
    "\n",
    "# notebookイメージ\n",
    "singleuser_image = 'swarm_yamaguchi:1.7'\n",
    "\n",
    "# dockerネットワーク\n",
    "swarm_network = 'swarm_jupyterhub-net'\n",
    "\n",
    "# メールアドレスドメイン設定\n",
    "email_domain = 'server.sampl.jp'"
   ]
  },
  {
   "cell_type": "markdown",
   "metadata": {
    "lc_cell_meme": {
     "current": "5c08d18e-163a-11ee-987e-0242ac110002-2-16f7-fe99",
     "history": [
      {
       "current": "5c08d18e-163a-11ee-987e-0242ac110002-1-16f7",
       "next": "5c08d22e-163a-11ee-987e-0242ac110002",
       "previous": "5c08d0f8-163a-11ee-987e-0242ac110002"
      },
      {
       "current": "5c08d18e-163a-11ee-987e-0242ac110002-1-16f7",
       "next": "5c08d22e-163a-11ee-987e-0242ac110002-1-8b1a",
       "previous": "5c08d0f8-163a-11ee-987e-0242ac110002-1-00f0"
      },
      {
       "current": "5c08d18e-163a-11ee-987e-0242ac110002-1-16f7",
       "next": "5c08d22e-163a-11ee-987e-0242ac110002-1-8b1a",
       "previous": "3c7de684-27aa-11ee-987e-0242ac110002"
      },
      {
       "current": "5c08d18e-163a-11ee-987e-0242ac110002-1-16f7",
       "next": "5c08d22e-163a-11ee-987e-0242ac110002-1-8b1a",
       "previous": "738a5612-27aa-11ee-987e-0242ac110002"
      },
      {
       "current": "5c08d18e-163a-11ee-987e-0242ac110002-1-16f7",
       "next": "5c08d22e-163a-11ee-987e-0242ac110002-1-8b1a",
       "previous": "218e7840-27ad-11ee-987e-0242ac110002"
      },
      {
       "current": "5c08d18e-163a-11ee-987e-0242ac110002-1-16f7",
       "next": "5c08d22e-163a-11ee-987e-0242ac110002-1-8b1a",
       "previous": "f3ffe08c-2b65-11ee-987e-0242ac110002"
      },
      {
       "current": "5c08d18e-163a-11ee-987e-0242ac110002-1-16f7",
       "next": "5c08d22e-163a-11ee-987e-0242ac110002-1-8b1a",
       "previous": "3b946474-2d21-11ee-987e-0242ac110002"
      },
      {
       "current": "5c08d18e-163a-11ee-987e-0242ac110002-1-16f7",
       "next": "5c08d22e-163a-11ee-987e-0242ac110002-1-8b1a",
       "previous": "738a5612-27aa-11ee-987e-0242ac110002"
      },
      {
       "current": "5c08d18e-163a-11ee-987e-0242ac110002-2-16f7-fe99",
       "next": "5c08d22e-163a-11ee-987e-0242ac110002-1-8b1a",
       "previous": "5c08ce1e-163a-11ee-987e-0242ac110002-1-3bb7"
      }
     ],
     "next": "5c08d22e-163a-11ee-987e-0242ac110002-2-8b1a-4c2b",
     "previous": "5c08ce1e-163a-11ee-987e-0242ac110002-2-3bb7-a01e"
    }
   },
   "source": [
    "### オーバーレイネットワークの指定"
   ]
  },
  {
   "cell_type": "markdown",
   "metadata": {
    "lc_cell_meme": {
     "current": "5c08d22e-163a-11ee-987e-0242ac110002-2-8b1a-4c2b",
     "history": [
      {
       "current": "5c08d22e-163a-11ee-987e-0242ac110002-1-8b1a",
       "next": "5c08d2c4-163a-11ee-987e-0242ac110002",
       "previous": "5c08d18e-163a-11ee-987e-0242ac110002"
      },
      {
       "current": "5c08d22e-163a-11ee-987e-0242ac110002-2-8b1a-4c2b",
       "next": "5c08d2c4-163a-11ee-987e-0242ac110002-1-3a36",
       "previous": "5c08d18e-163a-11ee-987e-0242ac110002-1-16f7"
      }
     ],
     "next": "5c08d2c4-163a-11ee-987e-0242ac110002-2-3a36-836b",
     "previous": "5c08d18e-163a-11ee-987e-0242ac110002-2-16f7-fe99"
    }
   },
   "source": [
    "JupyterhubHubのコンテナはDocker Swarmのオーバーレイネットワークで実行されます。オーバーレイネットワークに割り当てるサブネットを指定します。\n",
    "\n",
    "> 基本的にはデフォルト値からの変更は不要ですが、VCノードに割り当てられているIPアドレスと範囲が重複している場合は他のサブネットに変更して下さい。"
   ]
  },
  {
   "cell_type": "code",
   "execution_count": null,
   "metadata": {
    "lc_cell_meme": {
     "current": "5c08d2c4-163a-11ee-987e-0242ac110002-2-3a36-836b",
     "history": [
      {
       "current": "5c08d2c4-163a-11ee-987e-0242ac110002-1-3a36",
       "next": "5c08d364-163a-11ee-987e-0242ac110002",
       "previous": "5c08d22e-163a-11ee-987e-0242ac110002"
      },
      {
       "current": "5c08d2c4-163a-11ee-987e-0242ac110002-2-3a36-836b",
       "next": "5c08d364-163a-11ee-987e-0242ac110002-1-7eb5",
       "previous": "5c08d22e-163a-11ee-987e-0242ac110002-1-8b1a"
      }
     ],
     "next": "5c08d364-163a-11ee-987e-0242ac110002-2-7eb5-ac27",
     "previous": "5c08d22e-163a-11ee-987e-0242ac110002-2-8b1a-4c2b"
    },
    "lc_wrapper": {
     "log_history": [
      "/notebooks/notebook/work_terayama/yjupyterhub/work/.log/20230629/20230629-164920-0473.log",
      "/notebooks/notebook/work_terayama/yjupyterhub/work/.log/20230630/20230630-185649-0606.log",
      "/notebooks/notebook/work_terayama/yjupyterhub/work/.log/20230704/20230704-120023-0127.log",
      "/notebooks/notebook/work_terayama/yjupyterhub/work/.log/20230712/20230712-173428-0025.log",
      "/notebooks/notebook/work_terayama/yjupyterhub/work/.log/20230719/20230719-153351-0253.log",
      "/notebooks/notebook/work_terayama/yjupyterhub/work/.log/20230720/20230720-114800-0639.log",
      "/notebooks/notebook/work_terayama/yjupyterhub/work/.log/20230727/20230727-141308-0397.log",
      "/notebooks/notebook/work_terayama/yjupyterhub/work/.log/20230801/20230801-142856-0709.log",
      "/notebooks/notebook/work_terayama/yjupyterhub/work/.log/20230801/20230801-152127-0605.log"
     ]
    }
   },
   "outputs": [],
   "source": [
    "# (例)\n",
    "# jupyterhub_backend = '10.1.0.0/20'\n",
    "\n",
    "jupyterhub_backend = '10.1.0.0/20'"
   ]
  },
  {
   "cell_type": "markdown",
   "metadata": {
    "lc_cell_meme": {
     "current": "5c08d364-163a-11ee-987e-0242ac110002-2-7eb5-ac27",
     "history": [
      {
       "current": "5c08d364-163a-11ee-987e-0242ac110002-1-7eb5",
       "next": "5c08d3fa-163a-11ee-987e-0242ac110002",
       "previous": "5c08d2c4-163a-11ee-987e-0242ac110002"
      },
      {
       "current": "5c08d364-163a-11ee-987e-0242ac110002-2-7eb5-ac27",
       "next": "5c08d3fa-163a-11ee-987e-0242ac110002-1-4dde",
       "previous": "5c08d2c4-163a-11ee-987e-0242ac110002-1-3a36"
      }
     ],
     "next": "5c08d3fa-163a-11ee-987e-0242ac110002-2-4dde-06d0",
     "previous": "5c08d2c4-163a-11ee-987e-0242ac110002-2-3a36-836b"
    }
   },
   "source": [
    "指定されたサブネットがVCノードに割り当てられているIPアドレスと重なっていないことをチェックします。次のセルを実行してエラーとならないことを確認してください。"
   ]
  },
  {
   "cell_type": "code",
   "execution_count": null,
   "metadata": {
    "lc_cell_meme": {
     "current": "5c08d3fa-163a-11ee-987e-0242ac110002-2-4dde-06d0",
     "history": [
      {
       "current": "5c08d3fa-163a-11ee-987e-0242ac110002-1-4dde",
       "next": "5c08d49a-163a-11ee-987e-0242ac110002",
       "previous": "5c08d364-163a-11ee-987e-0242ac110002"
      },
      {
       "current": "5c08d3fa-163a-11ee-987e-0242ac110002-2-4dde-06d0",
       "next": "5c08d49a-163a-11ee-987e-0242ac110002-1-b3a9",
       "previous": "5c08d364-163a-11ee-987e-0242ac110002-1-7eb5"
      }
     ],
     "next": "5c08d49a-163a-11ee-987e-0242ac110002-2-b3a9-203e",
     "previous": "5c08d364-163a-11ee-987e-0242ac110002-2-7eb5-ac27"
    },
    "lc_wrapper": {
     "log_history": [
      "/notebooks/notebook/work_terayama/yjupyterhub/work/.log/20230629/20230629-164921-0793.log",
      "/notebooks/notebook/work_terayama/yjupyterhub/work/.log/20230629/20230629-164955-0481.log",
      "/notebooks/notebook/work_terayama/yjupyterhub/work/.log/20230630/20230630-185653-0274.log",
      "/notebooks/notebook/work_terayama/yjupyterhub/work/.log/20230704/20230704-120026-0143.log",
      "/notebooks/notebook/work_terayama/yjupyterhub/work/.log/20230712/20230712-173431-0007.log",
      "/notebooks/notebook/work_terayama/yjupyterhub/work/.log/20230719/20230719-153352-0191.log",
      "/notebooks/notebook/work_terayama/yjupyterhub/work/.log/20230720/20230720-114805-0576.log",
      "/notebooks/notebook/work_terayama/yjupyterhub/work/.log/20230727/20230727-141309-0286.log",
      "/notebooks/notebook/work_terayama/yjupyterhub/work/.log/20230801/20230801-152128-0770.log"
     ]
    },
    "scrolled": true
   },
   "outputs": [],
   "source": [
    "!ansible-playbook -v -e jupyterhub_backend={jupyterhub_backend} -l {ugroup_name} \\\n",
    "    playbooks/check-subnet.yml"
   ]
  },
  {
   "cell_type": "markdown",
   "metadata": {
    "lc_cell_meme": {
     "current": "5c08d49a-163a-11ee-987e-0242ac110002-2-b3a9-203e",
     "history": [
      {
       "current": "5c08d49a-163a-11ee-987e-0242ac110002-1-b3a9",
       "next": "5c08d530-163a-11ee-987e-0242ac110002",
       "previous": "5c08d3fa-163a-11ee-987e-0242ac110002"
      },
      {
       "current": "5c08d49a-163a-11ee-987e-0242ac110002-2-b3a9-203e",
       "next": "5c08d530-163a-11ee-987e-0242ac110002-1-43c0",
       "previous": "5c08d3fa-163a-11ee-987e-0242ac110002-1-4dde"
      }
     ],
     "next": "5c08d530-163a-11ee-987e-0242ac110002-2-43c0-3f72",
     "previous": "5c08d3fa-163a-11ee-987e-0242ac110002-2-4dde-06d0"
    }
   },
   "source": [
    "### パラメータの保存\n",
    "\n",
    "ここまで指定したパラメータを ansible の変数として `group_vars`ファイルに保存します。"
   ]
  },
  {
   "cell_type": "code",
   "execution_count": null,
   "metadata": {
    "lc_cell_meme": {
     "current": "5c08d530-163a-11ee-987e-0242ac110002-2-43c0-3f72",
     "history": [
      {
       "current": "5c08d530-163a-11ee-987e-0242ac110002-1-43c0",
       "next": "5c08d5c6-163a-11ee-987e-0242ac110002",
       "previous": "5c08d49a-163a-11ee-987e-0242ac110002"
      },
      {
       "current": "5c08d530-163a-11ee-987e-0242ac110002-2-43c0-3f72",
       "next": "5c08d5c6-163a-11ee-987e-0242ac110002-1-aeed",
       "previous": "5c08d49a-163a-11ee-987e-0242ac110002-1-b3a9"
      }
     ],
     "next": "5c08d5c6-163a-11ee-987e-0242ac110002-2-aeed-fe11",
     "previous": "5c08d49a-163a-11ee-987e-0242ac110002-2-b3a9-203e"
    },
    "lc_wrapper": {
     "log_history": [
      "/notebooks/notebook/work_terayama/yjupyterhub/work/.log/20230629/20230629-165033-0096.log",
      "/notebooks/notebook/work_terayama/yjupyterhub/work/.log/20230630/20230630-185705-0951.log",
      "/notebooks/notebook/work_terayama/yjupyterhub/work/.log/20230704/20230704-120041-0191.log",
      "/notebooks/notebook/work_terayama/yjupyterhub/work/.log/20230712/20230712-173439-0315.log",
      "/notebooks/notebook/work_terayama/yjupyterhub/work/.log/20230719/20230719-153358-0916.log",
      "/notebooks/notebook/work_terayama/yjupyterhub/work/.log/20230720/20230720-114811-0140.log",
      "/notebooks/notebook/work_terayama/yjupyterhub/work/.log/20230727/20230727-141314-0174.log",
      "/notebooks/notebook/work_terayama/yjupyterhub/work/.log/20230727/20230727-141343-0820.log",
      "/notebooks/notebook/work_terayama/yjupyterhub/work/.log/20230801/20230801-142817-0722.log",
      "/notebooks/notebook/work_terayama/yjupyterhub/work/.log/20230801/20230801-142833-0982.log",
      "/notebooks/notebook/work_terayama/yjupyterhub/work/.log/20230801/20230801-142859-0832.log",
      "/notebooks/notebook/work_terayama/yjupyterhub/work/.log/20230801/20230801-143906-0274.log",
      "/notebooks/notebook/work_terayama/yjupyterhub/work/.log/20230801/20230801-152146-0622.log",
      "/notebooks/notebook/work_terayama/yjupyterhub/work/.log/20230801/20230801-164959-0736.log",
      "/notebooks/notebook/work_terayama/yjupyterhub/work/.log/20230801/20230801-174212-0535.log",
      "/notebooks/notebook/work_terayama/yjupyterhub/work/.log/20230801/20230801-180646-0826.log"
     ]
    }
   },
   "outputs": [],
   "source": [
    "import yaml\n",
    "from pathlib import Path\n",
    "\n",
    "gvars_path = Path(f'group_vars/{ugroup_name}')\n",
    "with gvars_path.open() as f:\n",
    "    gvars = yaml.safe_load(f)\n",
    "\n",
    "gvars.update({\n",
    "    'master_fqdn': master_fqdn,\n",
    "    'jh_db_name': jh_db_name,\n",
    "    'jh_db_user': jh_db_user,\n",
    "    'jh_db_password': jh_db_password,\n",
    "    'jh_db_host': jh_db_host,\n",
    "    'moodle_db_name': moodle_db_name,\n",
    "    'moodle_db_user': moodle_db_user,\n",
    "    'moodle_db_host': moodle_db_host,\n",
    "    'moodle_db_password': moodle_db_password,\n",
    "    'jupyterhub_backend': jupyterhub_backend,\n",
    "    'global_ldap_server': global_ldap_server,\n",
    "    'global_ldap_base_dn': global_ldap_base_dn,\n",
    "    'global_ldap_password': global_ldap_password,\n",
    "    'email_domain': email_domain,\n",
    "    'lti_consumer_key': lti_consumer_key,\n",
    "    'lti_secret': lti_secret,\n",
    "    'jupyterhub_admin_users': jupyterhub_admin_users,\n",
    "    'teacher_mem_limit': teacher_mem_limit,\n",
    "    'student_mem_limit': student_mem_limit,\n",
    "    'mem_guarantee': mem_guarantee,\n",
    "    'singleuser_image': singleuser_image,\n",
    "    'singleuser_image_no_tag': singleuser_image.split(':')[0],\n",
    "    'swarm_network': swarm_network,\n",
    "    'cpu_limit': cpu_limit,\n",
    "    'cpu_guarantee': cpu_guarantee,\n",
    "})\n",
    "\n",
    "with gvars_path.open(mode='w') as f:\n",
    "    yaml.safe_dump(gvars, stream=f)"
   ]
  },
  {
   "cell_type": "markdown",
   "metadata": {
    "lc_cell_meme": {
     "current": "5c08d5c6-163a-11ee-987e-0242ac110002-2-aeed-fe11",
     "history": [
      {
       "current": "5c08d5c6-163a-11ee-987e-0242ac110002-1-aeed",
       "next": "5c08d65c-163a-11ee-987e-0242ac110002",
       "previous": "5c08d530-163a-11ee-987e-0242ac110002"
      },
      {
       "current": "5c08d5c6-163a-11ee-987e-0242ac110002-1-aeed",
       "next": "5c08d65c-163a-11ee-987e-0242ac110002-1-9bb8",
       "previous": "5c08d530-163a-11ee-987e-0242ac110002-1-43c0"
      },
      {
       "current": "5c08d5c6-163a-11ee-987e-0242ac110002-1-aeed",
       "next": "5c08d65c-163a-11ee-987e-0242ac110002-2-9bb8-3a55",
       "previous": "5c08d530-163a-11ee-987e-0242ac110002-1-43c0"
      },
      {
       "current": "5c08d5c6-163a-11ee-987e-0242ac110002-2-aeed-fe11",
       "next": "5c08d65c-163a-11ee-987e-0242ac110002-1-9bb8",
       "previous": "5c08d530-163a-11ee-987e-0242ac110002-1-43c0"
      }
     ],
     "next": "5c08d65c-163a-11ee-987e-0242ac110002-2-9bb8-43a3",
     "previous": "5c08d530-163a-11ee-987e-0242ac110002-2-43c0-3f72"
    }
   },
   "source": [
    "## JupyterHubのセットアップ\n",
    "\n",
    "JupyterwareHubの構成要素となる、各コンテナのセットアップを行います。"
   ]
  },
  {
   "cell_type": "markdown",
   "metadata": {
    "lc_cell_meme": {
     "current": "5c08d65c-163a-11ee-987e-0242ac110002-2-9bb8-43a3",
     "history": [
      {
       "current": "5c08d65c-163a-11ee-987e-0242ac110002-1-9bb8",
       "next": "5c08d6f2-163a-11ee-987e-0242ac110002",
       "previous": "5c08d5c6-163a-11ee-987e-0242ac110002"
      },
      {
       "current": "5c08d65c-163a-11ee-987e-0242ac110002-1-9bb8",
       "next": "5c08d6f2-163a-11ee-987e-0242ac110002-1-2f6e",
       "previous": "5c08d5c6-163a-11ee-987e-0242ac110002-1-aeed"
      },
      {
       "current": "5c08d65c-163a-11ee-987e-0242ac110002-1-9bb8",
       "next": "5c08d6f2-163a-11ee-987e-0242ac110002-1-2f6e",
       "previous": "5c08d65c-163a-11ee-987e-0242ac110002-2-9bb8-3a55"
      },
      {
       "current": "5c08d65c-163a-11ee-987e-0242ac110002-2-9bb8-43a3",
       "next": "5c08d6f2-163a-11ee-987e-0242ac110002-1-2f6e",
       "previous": "5c08d5c6-163a-11ee-987e-0242ac110002-1-aeed"
      }
     ],
     "next": "5c08d6f2-163a-11ee-987e-0242ac110002-2-2f6e-411a",
     "previous": "5c08d5c6-163a-11ee-987e-0242ac110002-2-aeed-fe11"
    }
   },
   "source": [
    "### Nginx\n",
    "\n",
    "Nginx コンテナに関するセットアップを行います。"
   ]
  },
  {
   "cell_type": "markdown",
   "metadata": {
    "lc_cell_meme": {
     "current": "5c08d6f2-163a-11ee-987e-0242ac110002-2-2f6e-411a",
     "history": [
      {
       "current": "5c08d6f2-163a-11ee-987e-0242ac110002-1-2f6e",
       "next": "5c08d788-163a-11ee-987e-0242ac110002",
       "previous": "5c08d65c-163a-11ee-987e-0242ac110002"
      },
      {
       "current": "5c08d6f2-163a-11ee-987e-0242ac110002-2-2f6e-411a",
       "next": "5c08d788-163a-11ee-987e-0242ac110002-1-a015",
       "previous": "5c08d65c-163a-11ee-987e-0242ac110002-1-9bb8"
      }
     ],
     "next": "5c08d788-163a-11ee-987e-0242ac110002-2-a015-4ed1",
     "previous": "5c08d65c-163a-11ee-987e-0242ac110002-2-9bb8-43a3"
    }
   },
   "source": [
    "#### 証明書の配置\n",
    "\n",
    "Nginxコンテナで使用するサーバ証明書の配置を確認します。"
   ]
  },
  {
   "cell_type": "markdown",
   "metadata": {
    "lc_cell_meme": {
     "current": "5c08d788-163a-11ee-987e-0242ac110002-2-a015-4ed1",
     "history": [
      {
       "current": "5c08d788-163a-11ee-987e-0242ac110002-1-a015",
       "next": "5c08d81e-163a-11ee-987e-0242ac110002",
       "previous": "5c08d6f2-163a-11ee-987e-0242ac110002"
      },
      {
       "current": "5c08d788-163a-11ee-987e-0242ac110002-1-a015",
       "next": "5c08d81e-163a-11ee-987e-0242ac110002-1-c2f3",
       "previous": "5c08d6f2-163a-11ee-987e-0242ac110002-1-2f6e"
      },
      {
       "current": "5c08d788-163a-11ee-987e-0242ac110002-1-a015",
       "next": "79b3d35e-165e-11ee-987e-0242ac110002",
       "previous": "5c08d6f2-163a-11ee-987e-0242ac110002-1-2f6e"
      },
      {
       "current": "5c08d788-163a-11ee-987e-0242ac110002-2-a015-4ed1",
       "next": "5c08d81e-163a-11ee-987e-0242ac110002-1-c2f3",
       "previous": "5c08d6f2-163a-11ee-987e-0242ac110002-1-2f6e"
      }
     ],
     "next": "5c08d81e-163a-11ee-987e-0242ac110002-2-c2f3-4114",
     "previous": "5c08d6f2-163a-11ee-987e-0242ac110002-2-2f6e-411a"
    }
   },
   "source": [
    "サーバ証明書を配置するディレクトリを作成します。"
   ]
  },
  {
   "cell_type": "code",
   "execution_count": null,
   "metadata": {
    "lc_cell_meme": {
     "current": "5c08d81e-163a-11ee-987e-0242ac110002-2-c2f3-4114",
     "history": [
      {
       "current": "5c08d81e-163a-11ee-987e-0242ac110002-1-c2f3",
       "next": "5c08d8b4-163a-11ee-987e-0242ac110002",
       "previous": "5c08d788-163a-11ee-987e-0242ac110002"
      },
      {
       "current": "5c08d81e-163a-11ee-987e-0242ac110002-1-c2f3",
       "next": "5c08d8b4-163a-11ee-987e-0242ac110002-1-5b20",
       "previous": "5c08d788-163a-11ee-987e-0242ac110002-1-a015"
      },
      {
       "current": "5c08d81e-163a-11ee-987e-0242ac110002-1-c2f3",
       "next": "5c08d8b4-163a-11ee-987e-0242ac110002-1-5b20",
       "previous": "79b3d35e-165e-11ee-987e-0242ac110002"
      },
      {
       "current": "5c08d81e-163a-11ee-987e-0242ac110002-2-c2f3-4114",
       "next": "5c08d8b4-163a-11ee-987e-0242ac110002-1-5b20",
       "previous": "5c08d788-163a-11ee-987e-0242ac110002-1-a015"
      }
     ],
     "next": "5c08d8b4-163a-11ee-987e-0242ac110002-2-5b20-a665",
     "previous": "5c08d788-163a-11ee-987e-0242ac110002-2-a015-4ed1"
    },
    "lc_wrapper": {
     "log_history": [
      "/notebooks/notebook/work_terayama/yjupyterhub/work/.log/20230629/20230629-165716-0212.log",
      "/notebooks/notebook/work_terayama/yjupyterhub/work/.log/20230629/20230629-170154-0963.log",
      "/notebooks/notebook/work_terayama/yjupyterhub/work/.log/20230630/20230630-185742-0012.log",
      "/notebooks/notebook/work_terayama/yjupyterhub/work/.log/20230704/20230704-120105-0968.log",
      "/notebooks/notebook/work_terayama/yjupyterhub/work/.log/20230712/20230712-173445-0632.log",
      "/notebooks/notebook/work_terayama/yjupyterhub/work/.log/20230719/20230719-153409-0781.log",
      "/notebooks/notebook/work_terayama/yjupyterhub/work/.log/20230720/20230720-114816-0513.log",
      "/notebooks/notebook/work_terayama/yjupyterhub/work/.log/20230727/20230727-141347-0128.log",
      "/notebooks/notebook/work_terayama/yjupyterhub/work/.log/20230801/20230801-152149-0724.log"
     ]
    },
    "scrolled": true
   },
   "outputs": [],
   "source": [
    "!ansible {target_hub} -b -m file -a \\\n",
    "    'path={{{{base_dir}}}} state=directory owner={{{{ansible_user}}}}'\n",
    "!ansible {target_hub} -b -m file -a \\\n",
    "    'path={{{{base_dir}}}}/certs state=directory owner={{{{ansible_user}}}}'"
   ]
  },
  {
   "cell_type": "markdown",
   "metadata": {
    "lc_cell_meme": {
     "current": "5c08d8b4-163a-11ee-987e-0242ac110002-2-5b20-a665",
     "history": [
      {
       "current": "5c08d8b4-163a-11ee-987e-0242ac110002-1-5b20",
       "next": "5c08d94a-163a-11ee-987e-0242ac110002",
       "previous": "5c08d81e-163a-11ee-987e-0242ac110002"
      },
      {
       "current": "5c08d8b4-163a-11ee-987e-0242ac110002-2-5b20-a665",
       "next": "5c08d94a-163a-11ee-987e-0242ac110002-1-b282",
       "previous": "5c08d81e-163a-11ee-987e-0242ac110002-1-c2f3"
      }
     ],
     "next": "5c08d94a-163a-11ee-987e-0242ac110002-2-b282-7717",
     "previous": "5c08d81e-163a-11ee-987e-0242ac110002-2-c2f3-4114"
    }
   },
   "source": [
    "作成したディレクトリ`/srv/jupyterhub/certs`に証明書、秘密鍵を配置してください。出どころなどの情報を必要以上に残さないためにNotebookからの操作ではなく、ターミナルなどから **managerノードに ssh でログインして操作を行ってください**。\n",
    "\n",
    "配置する証明書などのファイル名は以下のようにしてください。\n",
    "\n",
    "* サーバ証明書と中間CA証明書を連結したもの\n",
    "    - `/srv/jupyterhub/certs/fullchain.pem`\n",
    "* 秘密鍵\n",
    "    - `/srv/jupyterhub/certs/privkey.pem`\n",
    "    - パスフレーズを無しにする"
   ]
  },
  {
   "cell_type": "markdown",
   "metadata": {
    "lc_cell_meme": {
     "current": "5c08d94a-163a-11ee-987e-0242ac110002-2-b282-7717",
     "history": [
      {
       "current": "5c08d94a-163a-11ee-987e-0242ac110002-1-b282",
       "next": "5c08d9ea-163a-11ee-987e-0242ac110002",
       "previous": "5c08d8b4-163a-11ee-987e-0242ac110002"
      },
      {
       "current": "5c08d94a-163a-11ee-987e-0242ac110002-2-b282-7717",
       "next": "5c08d9ea-163a-11ee-987e-0242ac110002-1-2ae2",
       "previous": "5c08d8b4-163a-11ee-987e-0242ac110002-1-5b20"
      }
     ],
     "next": "5c08d9ea-163a-11ee-987e-0242ac110002-2-2ae2-508d",
     "previous": "5c08d8b4-163a-11ee-987e-0242ac110002-2-5b20-a665"
    }
   },
   "source": [
    "sshでログインする manager ノードのIPアドレスを確認します。表示されたIPアドレスに対して、ユーザ名`vcp`と「VCノード作成」のNotebookで設定したSSHの秘密鍵を指定することで manager ノードにsshでログインできます。"
   ]
  },
  {
   "cell_type": "code",
   "execution_count": null,
   "metadata": {
    "lc_cell_meme": {
     "current": "5c08d9ea-163a-11ee-987e-0242ac110002-2-2ae2-508d",
     "history": [
      {
       "current": "5c08d9ea-163a-11ee-987e-0242ac110002-1-2ae2",
       "next": "5c08da80-163a-11ee-987e-0242ac110002",
       "previous": "5c08d94a-163a-11ee-987e-0242ac110002"
      },
      {
       "current": "5c08d9ea-163a-11ee-987e-0242ac110002-1-2ae2",
       "next": "5c08da80-163a-11ee-987e-0242ac110002-1-5796",
       "previous": "5c08d94a-163a-11ee-987e-0242ac110002-1-b282"
      },
      {
       "current": "5c08d9ea-163a-11ee-987e-0242ac110002-2-2ae2-508d",
       "next": "cc22ab0a-3022-11ee-b73e-0242ac110003",
       "previous": "5c08d94a-163a-11ee-987e-0242ac110002-1-b282"
      }
     ],
     "next": "cc22ab0a-3022-11ee-b73e-0242ac110003-1-3b54",
     "previous": "5c08d94a-163a-11ee-987e-0242ac110002-2-b282-7717"
    },
    "lc_wrapper": {
     "log_history": [
      "/notebooks/notebook/work_terayama/yjupyterhub/work/.log/20230629/20230629-170251-0941.log",
      "/notebooks/notebook/work_terayama/yjupyterhub/work/.log/20230630/20230630-185751-0054.log",
      "/notebooks/notebook/work_terayama/yjupyterhub/work/.log/20230704/20230704-120115-0893.log",
      "/notebooks/notebook/work_terayama/yjupyterhub/work/.log/20230719/20230719-153420-0771.log",
      "/notebooks/notebook/work_terayama/yjupyterhub/work/.log/20230720/20230720-114823-0636.log",
      "/notebooks/notebook/work_terayama/yjupyterhub/work/.log/20230727/20230727-141355-0551.log",
      "/notebooks/notebook/work_terayama/yjupyterhub/work/.log/20230801/20230801-152156-0448.log"
     ]
    }
   },
   "outputs": [],
   "source": [
    "!ansible {target_hub} -c local -m debug -a 'var=vc_ipaddress'"
   ]
  },
  {
   "cell_type": "markdown",
   "metadata": {
    "lc_cell_meme": {
     "current": "cc22ab0a-3022-11ee-b73e-0242ac110003-1-3b54",
     "history": [
      {
       "current": "cc22ab0a-3022-11ee-b73e-0242ac110003",
       "next": "5c08dc42-163a-11ee-987e-0242ac110002-1-4dfe",
       "previous": "5c08da80-163a-11ee-987e-0242ac110002-1-5796"
      },
      {
       "current": "cc22ab0a-3022-11ee-b73e-0242ac110003-1-3b54",
       "next": "5c08dc42-163a-11ee-987e-0242ac110002-1-4dfe",
       "previous": "5c08d9ea-163a-11ee-987e-0242ac110002-1-2ae2"
      }
     ],
     "next": "5c08dc42-163a-11ee-987e-0242ac110002-2-4dfe-061f",
     "previous": "5c08d9ea-163a-11ee-987e-0242ac110002-2-2ae2-508d"
    }
   },
   "source": [
    "#### 証明書の配置確認\n",
    "\n",
    "証明書の配置後に以下のセルを実行し、正しく配置できていることを確認します。"
   ]
  },
  {
   "cell_type": "markdown",
   "metadata": {
    "lc_cell_meme": {
     "current": "5c08dc42-163a-11ee-987e-0242ac110002-2-4dfe-061f",
     "history": [
      {
       "current": "5c08dc42-163a-11ee-987e-0242ac110002-1-4dfe",
       "next": "5c08dd00-163a-11ee-987e-0242ac110002",
       "previous": "5c08dbac-163a-11ee-987e-0242ac110002"
      },
      {
       "current": "5c08dc42-163a-11ee-987e-0242ac110002-1-4dfe",
       "next": "5c08dd00-163a-11ee-987e-0242ac110002-1-0835",
       "previous": "5c08dbac-163a-11ee-987e-0242ac110002-1-4b2c"
      },
      {
       "current": "5c08dc42-163a-11ee-987e-0242ac110002-1-4dfe",
       "next": "5c08dd00-163a-11ee-987e-0242ac110002-1-0835",
       "previous": "5c08da80-163a-11ee-987e-0242ac110002-1-5796"
      },
      {
       "current": "5c08dc42-163a-11ee-987e-0242ac110002-2-4dfe-061f",
       "next": "5c08dd00-163a-11ee-987e-0242ac110002-1-0835",
       "previous": "cc22ab0a-3022-11ee-b73e-0242ac110003"
      }
     ],
     "next": "5c08dd00-163a-11ee-987e-0242ac110002-2-0835-0301",
     "previous": "cc22ab0a-3022-11ee-b73e-0242ac110003-1-3b54"
    }
   },
   "source": [
    "秘密鍵の内容を表示してみます。"
   ]
  },
  {
   "cell_type": "code",
   "execution_count": null,
   "metadata": {
    "lc_cell_meme": {
     "current": "5c08dd00-163a-11ee-987e-0242ac110002-2-0835-0301",
     "history": [
      {
       "current": "5c08dd00-163a-11ee-987e-0242ac110002-1-0835",
       "next": "5c08ddaa-163a-11ee-987e-0242ac110002",
       "previous": "5c08dc42-163a-11ee-987e-0242ac110002"
      },
      {
       "current": "5c08dd00-163a-11ee-987e-0242ac110002-2-0835-0301",
       "next": "5c08ddaa-163a-11ee-987e-0242ac110002-1-114c",
       "previous": "5c08dc42-163a-11ee-987e-0242ac110002-1-4dfe"
      }
     ],
     "next": "5c08ddaa-163a-11ee-987e-0242ac110002-2-114c-53d4",
     "previous": "5c08dc42-163a-11ee-987e-0242ac110002-2-4dfe-061f"
    },
    "lc_wrapper": {
     "log_history": [
      "/notebooks/notebook/work_terayama/yjupyterhub/work/.log/20230629/20230629-170411-0194.log",
      "/notebooks/notebook/work_terayama/yjupyterhub/work/.log/20230629/20230629-170549-0061.log",
      "/notebooks/notebook/work_terayama/yjupyterhub/work/.log/20230630/20230630-190116-0038.log",
      "/notebooks/notebook/work_terayama/yjupyterhub/work/.log/20230704/20230704-120323-0926.log",
      "/notebooks/notebook/work_terayama/yjupyterhub/work/.log/20230719/20230719-153856-0019.log",
      "/notebooks/notebook/work_terayama/yjupyterhub/work/.log/20230720/20230720-115014-0047.log",
      "/notebooks/notebook/work_terayama/yjupyterhub/work/.log/20230727/20230727-141549-0915.log",
      "/notebooks/notebook/work_terayama/yjupyterhub/work/.log/20230801/20230801-152517-0036.log"
     ]
    },
    "scrolled": true
   },
   "outputs": [],
   "source": [
    "!ansible {target_hub} -a \\\n",
    "    'openssl rsa -noout -text -in  {{{{certs_dir}}}}/privkey.pem'"
   ]
  },
  {
   "cell_type": "markdown",
   "metadata": {
    "lc_cell_meme": {
     "current": "5c08ddaa-163a-11ee-987e-0242ac110002-2-114c-53d4",
     "history": [
      {
       "current": "5c08ddaa-163a-11ee-987e-0242ac110002-1-114c",
       "next": "5c08de40-163a-11ee-987e-0242ac110002",
       "previous": "5c08dd00-163a-11ee-987e-0242ac110002"
      },
      {
       "current": "5c08ddaa-163a-11ee-987e-0242ac110002-2-114c-53d4",
       "next": "5c08de40-163a-11ee-987e-0242ac110002-1-2691",
       "previous": "5c08dd00-163a-11ee-987e-0242ac110002-1-0835"
      }
     ],
     "next": "5c08de40-163a-11ee-987e-0242ac110002-2-2691-7a63",
     "previous": "5c08dd00-163a-11ee-987e-0242ac110002-2-0835-0301"
    }
   },
   "source": [
    "中間CA証明書を連結したサーバ証明書の内容を表示してみます。"
   ]
  },
  {
   "cell_type": "code",
   "execution_count": null,
   "metadata": {
    "lc_cell_meme": {
     "current": "5c08de40-163a-11ee-987e-0242ac110002-2-2691-7a63",
     "history": [
      {
       "current": "5c08de40-163a-11ee-987e-0242ac110002-1-2691",
       "next": "5c08ded6-163a-11ee-987e-0242ac110002",
       "previous": "5c08ddaa-163a-11ee-987e-0242ac110002"
      },
      {
       "current": "5c08de40-163a-11ee-987e-0242ac110002-2-2691-7a63",
       "next": "5c08ded6-163a-11ee-987e-0242ac110002-1-0bdc",
       "previous": "5c08ddaa-163a-11ee-987e-0242ac110002-1-114c"
      }
     ],
     "next": "5c08ded6-163a-11ee-987e-0242ac110002-2-0bdc-dff5",
     "previous": "5c08ddaa-163a-11ee-987e-0242ac110002-2-114c-53d4"
    },
    "lc_wrapper": {
     "log_history": [
      "/notebooks/notebook/work_terayama/yjupyterhub/work/.log/20230629/20230629-170556-0114.log",
      "/notebooks/notebook/work_terayama/yjupyterhub/work/.log/20230630/20230630-190120-0156.log",
      "/notebooks/notebook/work_terayama/yjupyterhub/work/.log/20230704/20230704-120330-0708.log",
      "/notebooks/notebook/work_terayama/yjupyterhub/work/.log/20230704/20230704-120407-0899.log",
      "/notebooks/notebook/work_terayama/yjupyterhub/work/.log/20230719/20230719-153901-0246.log",
      "/notebooks/notebook/work_terayama/yjupyterhub/work/.log/20230720/20230720-115018-0393.log",
      "/notebooks/notebook/work_terayama/yjupyterhub/work/.log/20230727/20230727-141554-0330.log",
      "/notebooks/notebook/work_terayama/yjupyterhub/work/.log/20230801/20230801-152530-0410.log"
     ]
    },
    "scrolled": true
   },
   "outputs": [],
   "source": [
    "!ansible {target_hub} -a \\\n",
    "    'openssl x509 -noout -text -in {{{{certs_dir}}}}/fullchain.pem'"
   ]
  },
  {
   "cell_type": "markdown",
   "metadata": {
    "lc_cell_meme": {
     "current": "5c08ded6-163a-11ee-987e-0242ac110002-2-0bdc-dff5",
     "history": [
      {
       "current": "5c08ded6-163a-11ee-987e-0242ac110002-1-0bdc",
       "next": "5c08df6c-163a-11ee-987e-0242ac110002",
       "previous": "5c08de40-163a-11ee-987e-0242ac110002"
      },
      {
       "current": "5c08ded6-163a-11ee-987e-0242ac110002-2-0bdc-dff5",
       "next": "5c08df6c-163a-11ee-987e-0242ac110002-1-b10c",
       "previous": "5c08de40-163a-11ee-987e-0242ac110002-1-2691"
      }
     ],
     "next": "5c08df6c-163a-11ee-987e-0242ac110002-2-b10c-9ee9",
     "previous": "5c08de40-163a-11ee-987e-0242ac110002-2-2691-7a63"
    }
   },
   "source": [
    "証明書の owner, group などの値を利用環境に合わせて以下のように設定します。\n",
    "\n",
    "* owner: 33\n",
    "* group: 33\n",
    "\n",
    "この設定はコンテナ内では以下のように設定したことに相当します。\n",
    "\n",
    "* owner: `www-data`\n",
    "* group: `www-data`"
   ]
  },
  {
   "cell_type": "code",
   "execution_count": null,
   "metadata": {
    "lc_cell_meme": {
     "current": "5c08df6c-163a-11ee-987e-0242ac110002-2-b10c-9ee9",
     "history": [
      {
       "current": "5c08df6c-163a-11ee-987e-0242ac110002-1-b10c",
       "next": "5c08e00c-163a-11ee-987e-0242ac110002",
       "previous": "5c08ded6-163a-11ee-987e-0242ac110002"
      },
      {
       "current": "5c08df6c-163a-11ee-987e-0242ac110002-1-b10c",
       "next": "5c08e00c-163a-11ee-987e-0242ac110002-1-6807",
       "previous": "5c08ded6-163a-11ee-987e-0242ac110002-1-0bdc"
      },
      {
       "current": "5c08df6c-163a-11ee-987e-0242ac110002-2-b10c-9ee9",
       "next": "5c08e750-163a-11ee-987e-0242ac110002-1-c190",
       "previous": "5c08ded6-163a-11ee-987e-0242ac110002-1-0bdc"
      }
     ],
     "next": "5c08e750-163a-11ee-987e-0242ac110002-2-c190-34d3",
     "previous": "5c08ded6-163a-11ee-987e-0242ac110002-2-0bdc-dff5"
    },
    "lc_wrapper": {
     "log_history": [
      "/notebooks/notebook/work_terayama/yjupyterhub/work/.log/20230629/20230629-170649-0387.log",
      "/notebooks/notebook/work_terayama/yjupyterhub/work/.log/20230629/20230629-170706-0270.log",
      "/notebooks/notebook/work_terayama/yjupyterhub/work/.log/20230630/20230630-190125-0859.log",
      "/notebooks/notebook/work_terayama/yjupyterhub/work/.log/20230704/20230704-120412-0873.log",
      "/notebooks/notebook/work_terayama/yjupyterhub/work/.log/20230719/20230719-153906-0152.log",
      "/notebooks/notebook/work_terayama/yjupyterhub/work/.log/20230720/20230720-115022-0876.log",
      "/notebooks/notebook/work_terayama/yjupyterhub/work/.log/20230727/20230727-141706-0288.log",
      "/notebooks/notebook/work_terayama/yjupyterhub/work/.log/20230801/20230801-152534-0813.log"
     ]
    },
    "scrolled": true
   },
   "outputs": [],
   "source": [
    "cert_owner = 33\n",
    "cert_group = 33\n",
    "!ansible {target_hub} -b -m file -a \\\n",
    "    'path={{{{certs_dir}}}} owner={cert_owner} \\\n",
    "    group={cert_group} state=directory'\n",
    "!ansible {target_hub} -b -m file -a \\\n",
    "    'path={{{{certs_dir}}}}/fullchain.pem \\\n",
    "    owner={cert_owner} group={cert_group}'\n",
    "!ansible {target_hub} -b -m file -a \\\n",
    "    'path={{{{certs_dir}}}}/privkey.pem \\\n",
    "    owner={cert_owner} group={cert_group} mode=0600'"
   ]
  },
  {
   "cell_type": "markdown",
   "metadata": {
    "lc_cell_meme": {
     "current": "5c08e750-163a-11ee-987e-0242ac110002-2-c190-34d3",
     "history": [
      {
       "current": "5c08e750-163a-11ee-987e-0242ac110002-1-c190",
       "next": "5c08e822-163a-11ee-987e-0242ac110002",
       "previous": "5c08e6ba-163a-11ee-987e-0242ac110002"
      },
      {
       "current": "5c08e750-163a-11ee-987e-0242ac110002-1-c190",
       "next": "5c08e822-163a-11ee-987e-0242ac110002-1-0a8c",
       "previous": "5c08e6ba-163a-11ee-987e-0242ac110002-1-0ce9"
      },
      {
       "current": "5c08e750-163a-11ee-987e-0242ac110002-2-c190-34d3",
       "next": "5c08ef5c-163a-11ee-987e-0242ac110002-1-411b",
       "previous": "5c08df6c-163a-11ee-987e-0242ac110002-1-b10c"
      }
     ],
     "next": "5c08ef5c-163a-11ee-987e-0242ac110002-2-411b-3449",
     "previous": "5c08df6c-163a-11ee-987e-0242ac110002-2-b10c-9ee9"
    }
   },
   "source": [
    "### JupyterHub\n",
    "\n",
    "JupyterHubコンテナに関するセットアップを行います。"
   ]
  },
  {
   "cell_type": "markdown",
   "metadata": {
    "lc_cell_meme": {
     "current": "5c08ef5c-163a-11ee-987e-0242ac110002-2-411b-3449",
     "history": [
      {
       "current": "5c08ef5c-163a-11ee-987e-0242ac110002-1-411b",
       "next": "5c08eff2-163a-11ee-987e-0242ac110002",
       "previous": "5c08eebc-163a-11ee-987e-0242ac110002"
      },
      {
       "current": "5c08ef5c-163a-11ee-987e-0242ac110002-1-411b",
       "next": "5c08eff2-163a-11ee-987e-0242ac110002-1-bd72",
       "previous": "5c08eebc-163a-11ee-987e-0242ac110002-1-b1f4"
      },
      {
       "current": "5c08ef5c-163a-11ee-987e-0242ac110002-2-411b-3449",
       "next": "5c08eff2-163a-11ee-987e-0242ac110002-1-bd72",
       "previous": "5c08e750-163a-11ee-987e-0242ac110002-1-c190"
      }
     ],
     "next": "5c08eff2-163a-11ee-987e-0242ac110002-2-bd72-0b63",
     "previous": "5c08e750-163a-11ee-987e-0242ac110002-2-c190-34d3"
    }
   },
   "source": [
    "#### JupyterHubコンテナに関するファイルを準備する\n",
    "\n",
    "JupyterHubコンテナを実行するために必要となるファイルを準備する Ansible Playbook を実行します。"
   ]
  },
  {
   "cell_type": "markdown",
   "metadata": {
    "lc_cell_meme": {
     "current": "5c08eff2-163a-11ee-987e-0242ac110002-2-bd72-0b63",
     "history": [
      {
       "current": "5c08eff2-163a-11ee-987e-0242ac110002-1-bd72",
       "next": "5c08f09c-163a-11ee-987e-0242ac110002",
       "previous": "5c08ef5c-163a-11ee-987e-0242ac110002"
      },
      {
       "current": "5c08eff2-163a-11ee-987e-0242ac110002-1-bd72",
       "next": "5c08f09c-163a-11ee-987e-0242ac110002-1-4603",
       "previous": "5c08ef5c-163a-11ee-987e-0242ac110002-1-411b"
      },
      {
       "current": "5c08eff2-163a-11ee-987e-0242ac110002-1-bd72",
       "next": "5c09017c-163a-11ee-987e-0242ac110002-2-e7a9-f34d",
       "previous": "5c08ef5c-163a-11ee-987e-0242ac110002-1-411b"
      },
      {
       "current": "5c08eff2-163a-11ee-987e-0242ac110002-2-bd72-0b63",
       "next": "5c09021c-163a-11ee-987e-0242ac110002-3-99e8-bdef-5a4d",
       "previous": "5c08ef5c-163a-11ee-987e-0242ac110002-1-411b"
      }
     ],
     "next": "5c09021c-163a-11ee-987e-0242ac110002-4-99e8-bdef-5a4d-2598",
     "previous": "5c08ef5c-163a-11ee-987e-0242ac110002-2-411b-3449"
    }
   },
   "source": [
    "Playbook では以下の処理を行います。\n",
    "\n",
    "* コンテナイメージのビルド"
   ]
  },
  {
   "cell_type": "markdown",
   "metadata": {
    "lc_cell_meme": {
     "current": "5c09021c-163a-11ee-987e-0242ac110002-4-99e8-bdef-5a4d-2598",
     "history": [
      {
       "current": "5c09021c-163a-11ee-987e-0242ac110002-1-99e8",
       "next": "5c0902f8-163a-11ee-987e-0242ac110002",
       "previous": "5c09017c-163a-11ee-987e-0242ac110002"
      },
      {
       "current": "5c09021c-163a-11ee-987e-0242ac110002-2-99e8-bdef",
       "next": "5c0902f8-163a-11ee-987e-0242ac110002-1-fe00",
       "previous": "5c09017c-163a-11ee-987e-0242ac110002-1-e7a9"
      },
      {
       "current": "5c09021c-163a-11ee-987e-0242ac110002-3-99e8-bdef-5a4d",
       "next": "5c0902f8-163a-11ee-987e-0242ac110002-2-fe00-7ad7",
       "previous": "5c09017c-163a-11ee-987e-0242ac110002-2-e7a9-f34d"
      },
      {
       "current": "5c09021c-163a-11ee-987e-0242ac110002-3-99e8-bdef-5a4d",
       "next": "5c0900dc-163a-11ee-987e-0242ac110002-2-660b-5a79",
       "previous": "5c08eff2-163a-11ee-987e-0242ac110002-1-bd72"
      },
      {
       "current": "5c09021c-163a-11ee-987e-0242ac110002-3-99e8-bdef-5a4d",
       "next": "492138e4-1b0e-11ee-987e-0242ac110002",
       "previous": "5c08eff2-163a-11ee-987e-0242ac110002-1-bd72"
      },
      {
       "current": "5c09021c-163a-11ee-987e-0242ac110002-4-99e8-bdef-5a4d-2598",
       "next": "d8bfcc80-2c53-11ee-987e-0242ac110002",
       "previous": "5c08eff2-163a-11ee-987e-0242ac110002-1-bd72"
      }
     ],
     "next": "d8bfcc80-2c53-11ee-987e-0242ac110002-1-968a",
     "previous": "5c08eff2-163a-11ee-987e-0242ac110002-2-bd72-0b63"
    }
   },
   "source": [
    "コンテナイメージのビルドに必要なファイルを配置します。\n",
    "\n",
    "まず、ファイルを格納するディレクトリを作成"
   ]
  },
  {
   "cell_type": "code",
   "execution_count": null,
   "metadata": {
    "lc_cell_meme": {
     "current": "d8bfcc80-2c53-11ee-987e-0242ac110002-1-968a",
     "history": [
      {
       "current": "d8bfcc80-2c53-11ee-987e-0242ac110002-1-968a",
       "next": "492138e4-1b0e-11ee-987e-0242ac110002",
       "previous": "5c09021c-163a-11ee-987e-0242ac110002-3-99e8-bdef-5a4d"
      }
     ],
     "next": "492138e4-1b0e-11ee-987e-0242ac110002-1-1b3f",
     "previous": "5c09021c-163a-11ee-987e-0242ac110002-4-99e8-bdef-5a4d-2598"
    },
    "lc_wrapper": {
     "log_history": [
      "/notebooks/notebook/work_terayama/yjupyterhub/work/.log/20230727/20230727-172738-0935.log",
      "/notebooks/notebook/work_terayama/yjupyterhub/work/.log/20230801/20230801-152546-0190.log"
     ]
    }
   },
   "outputs": [],
   "source": [
    "# 先にディレクトリ作成\n",
    "!ansible {target_hub} -b -m file -a \\\n",
    "    'path=/jupytershare/nbgrader state=directory owner={{{{ansible_user}}}}'\n",
    "!ansible {target_hub} -b -m file -a \\\n",
    "    'path=/jupytershare/class state=directory owner={{{{ansible_user}}}}'"
   ]
  },
  {
   "cell_type": "markdown",
   "metadata": {
    "lc_cell_meme": {
     "current": "492138e4-1b0e-11ee-987e-0242ac110002-1-1b3f",
     "execution_end_time": "2023-07-05T08:31:01.273554Z",
     "history": [
      {
       "current": "492138e4-1b0e-11ee-987e-0242ac110002",
       "next": "4e3fec12-1730-11ee-987e-0242ac110002-1-21c7",
       "previous": "4e3fec12-1730-11ee-987e-0242ac110002"
      },
      {
       "current": "492138e4-1b0e-11ee-987e-0242ac110002",
       "next": "4e3fec12-1730-11ee-987e-0242ac110002-1-21c7",
       "previous": "5c09021c-163a-11ee-987e-0242ac110002-3-99e8-bdef-5a4d"
      },
      {
       "current": "492138e4-1b0e-11ee-987e-0242ac110002-1-1b3f",
       "next": "4e3fec12-1730-11ee-987e-0242ac110002-1-21c7",
       "previous": "d8bfcc80-2c53-11ee-987e-0242ac110002"
      }
     ],
     "next": "4e3fec12-1730-11ee-987e-0242ac110002-2-21c7-5440",
     "previous": "d8bfcc80-2c53-11ee-987e-0242ac110002-1-968a"
    },
    "lc_wrapper": {
     "log_history": [
      "/notebooks/notebook/work_terayama/yjupyterhub/work/.log/20230705/20230705-173101-0203.log"
     ]
    }
   },
   "source": [
    "ファイルの配置をチェックモードで試行"
   ]
  },
  {
   "cell_type": "code",
   "execution_count": null,
   "metadata": {
    "lc_cell_meme": {
     "current": "4e3fec12-1730-11ee-987e-0242ac110002-2-21c7-5440",
     "history": [
      {
       "current": "4e3fec12-1730-11ee-987e-0242ac110002-1-21c7",
       "next": "5c09021c-163a-11ee-987e-0242ac110002-2-99e8-bdef",
       "previous": "5c09017c-163a-11ee-987e-0242ac110002-2-e7a9-f34d"
      },
      {
       "current": "4e3fec12-1730-11ee-987e-0242ac110002-1-21c7",
       "next": "4e3fec12-1730-11ee-987e-0242ac110002-2-21c7-0fc9",
       "previous": "4e3fec12-1730-11ee-987e-0242ac110002"
      },
      {
       "current": "4e3fec12-1730-11ee-987e-0242ac110002-1-21c7",
       "next": "4e3fec12-1730-11ee-987e-0242ac110002-2-21c7-0fc9",
       "previous": "4e3fec12-1730-11ee-987e-0242ac110002-1-bbb4"
      },
      {
       "current": "4e3fec12-1730-11ee-987e-0242ac110002-1-21c7",
       "next": "4e3fec12-1730-11ee-987e-0242ac110002-2-21c7-0fc9",
       "previous": "4e3fec12-1730-11ee-987e-0242ac110002"
      },
      {
       "current": "4e3fec12-1730-11ee-987e-0242ac110002-1-21c7",
       "next": "4e3fec12-1730-11ee-987e-0242ac110002-2-21c7-0fc9",
       "previous": "492138e4-1b0e-11ee-987e-0242ac110002"
      },
      {
       "current": "4e3fec12-1730-11ee-987e-0242ac110002-2-21c7-5440",
       "next": "492138e4-1b0e-11ee-987e-0242ac110002-1-ae1c",
       "previous": "492138e4-1b0e-11ee-987e-0242ac110002"
      }
     ],
     "next": "492138e4-1b0e-11ee-987e-0242ac110002-2-ae1c-0e4e",
     "previous": "492138e4-1b0e-11ee-987e-0242ac110002-1-1b3f"
    },
    "lc_wrapper": {
     "log_history": [
      "/notebooks/notebook/work_terayama/yjupyterhub/work/.log/20230630/20230630-192808-0380.log",
      "/notebooks/notebook/work_terayama/yjupyterhub/work/.log/20230704/20230704-120438-0620.log",
      "/notebooks/notebook/work_terayama/yjupyterhub/work/.log/20230719/20230719-154429-0303.log",
      "/notebooks/notebook/work_terayama/yjupyterhub/work/.log/20230719/20230719-155809-0120.log",
      "/notebooks/notebook/work_terayama/yjupyterhub/work/.log/20230719/20230719-160006-0770.log",
      "/notebooks/notebook/work_terayama/yjupyterhub/work/.log/20230719/20230719-160101-0253.log",
      "/notebooks/notebook/work_terayama/yjupyterhub/work/.log/20230719/20230719-160126-0295.log",
      "/notebooks/notebook/work_terayama/yjupyterhub/work/.log/20230719/20230719-160207-0193.log",
      "/notebooks/notebook/work_terayama/yjupyterhub/work/.log/20230719/20230719-160252-0911.log",
      "/notebooks/notebook/work_terayama/yjupyterhub/work/.log/20230720/20230720-115133-0606.log",
      "/notebooks/notebook/work_terayama/yjupyterhub/work/.log/20230727/20230727-141715-0626.log",
      "/notebooks/notebook/work_terayama/yjupyterhub/work/.log/20230727/20230727-172744-0750.log",
      "/notebooks/notebook/work_terayama/yjupyterhub/work/.log/20230801/20230801-152552-0510.log"
     ]
    }
   },
   "outputs": [],
   "source": [
    "# /jupytershare に必要なファイル配置\n",
    "!ansible {target_hub} -CDv -m synchronize \\\n",
    "    -a 'src=template/directories/jupytershare/nbgrader dest=/jupytershare'\n",
    "!ansible {target_hub} -CDv -m synchronize \\\n",
    "    -a 'src=template/directories/jupytershare/class dest=/jupytershare'\n",
    "\n",
    "# /home に必要なファイル配置\n",
    "!ansible {target_hub} -CDv -m synchronize \\\n",
    "    -a 'src=template/directories/skelton dest=/home'\n",
    "\n",
    "# jupyterhubシステム構築に必要なファイル配置\n",
    "!ansible {target_hub} -CDv -m synchronize \\\n",
    "    -a 'src=template/jupyterhub dest={{{{base_dir}}}}'\n",
    "!ansible {target_hub} -CDv -m synchronize \\\n",
    "    -a 'src=template/notebook dest={{{{base_dir}}}}'"
   ]
  },
  {
   "cell_type": "markdown",
   "metadata": {
    "lc_cell_meme": {
     "current": "492138e4-1b0e-11ee-987e-0242ac110002-2-ae1c-0e4e",
     "execution_end_time": "2023-07-05T08:31:01.273554Z",
     "history": [
      {
       "current": "492138e4-1b0e-11ee-987e-0242ac110002-1-ae1c",
       "next": "4e3fec12-1730-11ee-987e-0242ac110002-1-21c7",
       "previous": "4e3fec12-1730-11ee-987e-0242ac110002"
      },
      {
       "current": "492138e4-1b0e-11ee-987e-0242ac110002-2-ae1c-0e4e",
       "next": "4e3fec12-1730-11ee-987e-0242ac110002-2-21c7-0fc9",
       "previous": "4e3fec12-1730-11ee-987e-0242ac110002-1-21c7"
      }
     ],
     "next": "4e3fec12-1730-11ee-987e-0242ac110002-3-21c7-0fc9-2be9",
     "previous": "4e3fec12-1730-11ee-987e-0242ac110002-2-21c7-5440"
    },
    "lc_wrapper": {
     "log_history": [
      "/notebooks/notebook/work_terayama/yjupyterhub/work/.log/20230705/20230705-173101-0203.log"
     ]
    }
   },
   "source": [
    "実際にファイルを配置"
   ]
  },
  {
   "cell_type": "code",
   "execution_count": null,
   "metadata": {
    "lc_cell_meme": {
     "current": "4e3fec12-1730-11ee-987e-0242ac110002-3-21c7-0fc9-2be9",
     "history": [
      {
       "current": "4e3fec12-1730-11ee-987e-0242ac110002-2-21c7-0fc9",
       "next": "5c09021c-163a-11ee-987e-0242ac110002-2-99e8-bdef",
       "previous": "5c09017c-163a-11ee-987e-0242ac110002-2-e7a9-f34d"
      },
      {
       "current": "4e3fec12-1730-11ee-987e-0242ac110002-2-21c7-0fc9",
       "next": "5c09021c-163a-11ee-987e-0242ac110002-2-99e8-bdef",
       "previous": "4e3fec12-1730-11ee-987e-0242ac110002-1-21c7"
      },
      {
       "current": "4e3fec12-1730-11ee-987e-0242ac110002-2-21c7-0fc9",
       "next": "4e3fec12-1730-11ee-987e-0242ac110002-2-21c7-6763",
       "previous": "4e3fec12-1730-11ee-987e-0242ac110002-1-21c7"
      },
      {
       "current": "4e3fec12-1730-11ee-987e-0242ac110002-2-21c7-0fc9",
       "next": "5c09021c-163a-11ee-987e-0242ac110002-2-99e8-bdef",
       "previous": "492138e4-1b0e-11ee-987e-0242ac110002-1-ae1c"
      },
      {
       "current": "4e3fec12-1730-11ee-987e-0242ac110002-2-21c7-0fc9",
       "next": "5c08f09c-163a-11ee-987e-0242ac110002-1-4603",
       "previous": "492138e4-1b0e-11ee-987e-0242ac110002-1-ae1c"
      },
      {
       "current": "4e3fec12-1730-11ee-987e-0242ac110002-2-21c7-0fc9",
       "next": "1fb7d246-1b0f-11ee-987e-0242ac110002",
       "previous": "492138e4-1b0e-11ee-987e-0242ac110002-1-ae1c"
      },
      {
       "current": "4e3fec12-1730-11ee-987e-0242ac110002-2-21c7-0fc9",
       "next": "6740058e-1b0f-11ee-987e-0242ac110002",
       "previous": "492138e4-1b0e-11ee-987e-0242ac110002-1-ae1c"
      },
      {
       "current": "4e3fec12-1730-11ee-987e-0242ac110002-2-21c7-0fc9",
       "next": "5c08f09c-163a-11ee-987e-0242ac110002-1-4603",
       "previous": "492138e4-1b0e-11ee-987e-0242ac110002-1-ae1c"
      },
      {
       "current": "4e3fec12-1730-11ee-987e-0242ac110002-2-21c7-0fc9",
       "next": "a4131a66-2c56-11ee-987e-0242ac110002",
       "previous": "492138e4-1b0e-11ee-987e-0242ac110002-1-ae1c"
      },
      {
       "current": "4e3fec12-1730-11ee-987e-0242ac110002-3-21c7-0fc9-2be9",
       "next": "b665ebde-2c57-11ee-987e-0242ac110002",
       "previous": "492138e4-1b0e-11ee-987e-0242ac110002-1-ae1c"
      }
     ],
     "next": "b665ebde-2c57-11ee-987e-0242ac110002-1-f656",
     "previous": "492138e4-1b0e-11ee-987e-0242ac110002-2-ae1c-0e4e"
    },
    "lc_wrapper": {
     "log_history": [
      "/notebooks/notebook/work_terayama/yjupyterhub/work/.log/20230630/20230630-192812-0440.log",
      "/notebooks/notebook/work_terayama/yjupyterhub/work/.log/20230704/20230704-120442-0883.log",
      "/notebooks/notebook/work_terayama/yjupyterhub/work/.log/20230719/20230719-154440-0654.log",
      "/notebooks/notebook/work_terayama/yjupyterhub/work/.log/20230719/20230719-154604-0403.log",
      "/notebooks/notebook/work_terayama/yjupyterhub/work/.log/20230719/20230719-160344-0851.log",
      "/notebooks/notebook/work_terayama/yjupyterhub/work/.log/20230720/20230720-115143-0358.log",
      "/notebooks/notebook/work_terayama/yjupyterhub/work/.log/20230727/20230727-141726-0424.log",
      "/notebooks/notebook/work_terayama/yjupyterhub/work/.log/20230727/20230727-160840-0326.log",
      "/notebooks/notebook/work_terayama/yjupyterhub/work/.log/20230727/20230727-161210-0731.log",
      "/notebooks/notebook/work_terayama/yjupyterhub/work/.log/20230727/20230727-161332-0099.log",
      "/notebooks/notebook/work_terayama/yjupyterhub/work/.log/20230727/20230727-161349-0354.log",
      "/notebooks/notebook/work_terayama/yjupyterhub/work/.log/20230727/20230727-161414-0845.log",
      "/notebooks/notebook/work_terayama/yjupyterhub/work/.log/20230727/20230727-161553-0671.log",
      "/notebooks/notebook/work_terayama/yjupyterhub/work/.log/20230727/20230727-161646-0981.log",
      "/notebooks/notebook/work_terayama/yjupyterhub/work/.log/20230727/20230727-161827-0719.log",
      "/notebooks/notebook/work_terayama/yjupyterhub/work/.log/20230727/20230727-170624-0519.log",
      "/notebooks/notebook/work_terayama/yjupyterhub/work/.log/20230727/20230727-170933-0676.log",
      "/notebooks/notebook/work_terayama/yjupyterhub/work/.log/20230727/20230727-172803-0000.log",
      "/notebooks/notebook/work_terayama/yjupyterhub/work/.log/20230801/20230801-152613-0166.log"
     ]
    }
   },
   "outputs": [],
   "source": [
    "# /jupytershare に必要なファイル配置\n",
    "!ansible {target_hub} -Dv -m synchronize \\\n",
    "    -a 'src=template/directories/jupytershare/nbgrader dest=/jupytershare'\n",
    "!ansible {target_hub} -Dv -m synchronize \\\n",
    "    -a 'src=template/directories/jupytershare/class dest=/jupytershare'\n",
    "\n",
    "# /home に必要なファイル配置\n",
    "!ansible {target_hub} -Dv -m synchronize \\\n",
    "    -a 'src=template/directories/skelton dest=/home'\n",
    "\n",
    "# jupyterhubシステム構築に必要なファイル配置\n",
    "!ansible {target_hub} -Dv -m synchronize \\\n",
    "    -a 'src=template/jupyterhub dest={{{{base_dir}}}}'\n",
    "!ansible {target_hub} -Dv -m synchronize \\\n",
    "    -a 'src=template/notebook dest={{{{base_dir}}}}'\n"
   ]
  },
  {
   "cell_type": "markdown",
   "metadata": {
    "lc_cell_meme": {
     "current": "b665ebde-2c57-11ee-987e-0242ac110002-1-f656",
     "history": [
      {
       "current": "b665ebde-2c57-11ee-987e-0242ac110002",
       "next": "b665eddc-2c57-11ee-987e-0242ac110002",
       "previous": "4e3fec12-1730-11ee-987e-0242ac110002-2-21c7-0fc9"
      },
      {
       "current": "b665ebde-2c57-11ee-987e-0242ac110002-1-f656",
       "next": "5c08f09c-163a-11ee-987e-0242ac110002-1-4603",
       "previous": "4e3fec12-1730-11ee-987e-0242ac110002-2-21c7-0fc9"
      }
     ],
     "next": "5c08f09c-163a-11ee-987e-0242ac110002-2-4603-795d",
     "previous": "4e3fec12-1730-11ee-987e-0242ac110002-3-21c7-0fc9-2be9"
    }
   },
   "source": [
    "#### Jupyterhubイメージのビルド"
   ]
  },
  {
   "cell_type": "markdown",
   "metadata": {
    "lc_cell_meme": {
     "current": "5c08f09c-163a-11ee-987e-0242ac110002-2-4603-795d",
     "history": [
      {
       "current": "5c08f09c-163a-11ee-987e-0242ac110002-1-4603",
       "next": "5c08f1a0-163a-11ee-987e-0242ac110002",
       "previous": "5c08eff2-163a-11ee-987e-0242ac110002"
      },
      {
       "current": "5c08f09c-163a-11ee-987e-0242ac110002-1-4603",
       "next": "5c08f1a0-163a-11ee-987e-0242ac110002-1-9928",
       "previous": "5c08eff2-163a-11ee-987e-0242ac110002-1-bd72"
      },
      {
       "current": "5c08f09c-163a-11ee-987e-0242ac110002-1-4603",
       "next": "5c08f1a0-163a-11ee-987e-0242ac110002-1-9928",
       "previous": "5c0902f8-163a-11ee-987e-0242ac110002-2-fe00-7ad7"
      },
      {
       "current": "5c08f09c-163a-11ee-987e-0242ac110002-1-4603",
       "next": "5c08f1a0-163a-11ee-987e-0242ac110002-1-9928",
       "previous": "4e3fec12-1730-11ee-987e-0242ac110002-2-21c7-0fc9"
      },
      {
       "current": "5c08f09c-163a-11ee-987e-0242ac110002-1-4603",
       "next": "5c08f1a0-163a-11ee-987e-0242ac110002-1-9928",
       "previous": "1fb7d246-1b0f-11ee-987e-0242ac110002"
      },
      {
       "current": "5c08f09c-163a-11ee-987e-0242ac110002-1-4603",
       "next": "5c08f1a0-163a-11ee-987e-0242ac110002-1-9928",
       "previous": "4e3fec12-1730-11ee-987e-0242ac110002-2-21c7-0fc9"
      },
      {
       "current": "5c08f09c-163a-11ee-987e-0242ac110002-1-4603",
       "next": "5c08f1a0-163a-11ee-987e-0242ac110002-1-9928",
       "previous": "a4131a66-2c56-11ee-987e-0242ac110002"
      },
      {
       "current": "5c08f09c-163a-11ee-987e-0242ac110002-2-4603-795d",
       "next": "5c08f1a0-163a-11ee-987e-0242ac110002-1-9928",
       "previous": "b665ebde-2c57-11ee-987e-0242ac110002"
      }
     ],
     "next": "5c08f1a0-163a-11ee-987e-0242ac110002-2-9928-39e9",
     "previous": "b665ebde-2c57-11ee-987e-0242ac110002-1-f656"
    }
   },
   "source": [
    "実際にビルドする前にドライラン（チェックモード）でAnsibleを実行します。"
   ]
  },
  {
   "cell_type": "code",
   "execution_count": null,
   "metadata": {
    "lc_cell_meme": {
     "current": "5c08f1a0-163a-11ee-987e-0242ac110002-2-9928-39e9",
     "history": [
      {
       "current": "5c08f1a0-163a-11ee-987e-0242ac110002-1-9928",
       "next": "5c08f268-163a-11ee-987e-0242ac110002",
       "previous": "5c08f09c-163a-11ee-987e-0242ac110002"
      },
      {
       "current": "5c08f1a0-163a-11ee-987e-0242ac110002-2-9928-39e9",
       "next": "5c08f268-163a-11ee-987e-0242ac110002-1-32bb",
       "previous": "5c08f09c-163a-11ee-987e-0242ac110002-1-4603"
      }
     ],
     "next": "5c08f268-163a-11ee-987e-0242ac110002-2-32bb-a8ed",
     "previous": "5c08f09c-163a-11ee-987e-0242ac110002-2-4603-795d"
    },
    "lc_wrapper": {
     "log_history": [
      "/notebooks/notebook/work_terayama/yjupyterhub/work/.log/20230629/20230629-175830-0472.log",
      "/notebooks/notebook/work_terayama/yjupyterhub/work/.log/20230629/20230629-180351-0349.log",
      "/notebooks/notebook/work_terayama/yjupyterhub/work/.log/20230629/20230629-180442-0921.log",
      "/notebooks/notebook/work_terayama/yjupyterhub/work/.log/20230629/20230629-180610-0532.log",
      "/notebooks/notebook/work_terayama/yjupyterhub/work/.log/20230630/20230630-190201-0398.log",
      "/notebooks/notebook/work_terayama/yjupyterhub/work/.log/20230704/20230704-120526-0752.log",
      "/notebooks/notebook/work_terayama/yjupyterhub/work/.log/20230719/20230719-160445-0533.log",
      "/notebooks/notebook/work_terayama/yjupyterhub/work/.log/20230720/20230720-115213-0942.log",
      "/notebooks/notebook/work_terayama/yjupyterhub/work/.log/20230727/20230727-141736-0565.log",
      "/notebooks/notebook/work_terayama/yjupyterhub/work/.log/20230727/20230727-172939-0236.log",
      "/notebooks/notebook/work_terayama/yjupyterhub/work/.log/20230801/20230801-152707-0233.log"
     ]
    },
    "scrolled": true
   },
   "outputs": [],
   "source": [
    "!ansible-playbook -l {target_hub} -CDv playbooks/setup-jupyterhub.yml || true"
   ]
  },
  {
   "cell_type": "markdown",
   "metadata": {
    "lc_cell_meme": {
     "current": "5c08f268-163a-11ee-987e-0242ac110002-2-32bb-a8ed",
     "history": [
      {
       "current": "5c08f268-163a-11ee-987e-0242ac110002-1-32bb",
       "next": "5c08f308-163a-11ee-987e-0242ac110002",
       "previous": "5c08f1a0-163a-11ee-987e-0242ac110002"
      },
      {
       "current": "5c08f268-163a-11ee-987e-0242ac110002-2-32bb-a8ed",
       "next": "5c08f308-163a-11ee-987e-0242ac110002-1-4f84",
       "previous": "5c08f1a0-163a-11ee-987e-0242ac110002-1-9928"
      }
     ],
     "next": "5c08f308-163a-11ee-987e-0242ac110002-2-4f84-91e5",
     "previous": "5c08f1a0-163a-11ee-987e-0242ac110002-2-9928-39e9"
    }
   },
   "source": [
    "実際にコンテナイメージのビルドを行います。"
   ]
  },
  {
   "cell_type": "code",
   "execution_count": null,
   "metadata": {
    "lc_cell_meme": {
     "current": "5c08f308-163a-11ee-987e-0242ac110002-2-4f84-91e5",
     "history": [
      {
       "current": "5c08f308-163a-11ee-987e-0242ac110002-1-4f84",
       "next": "5c08f3da-163a-11ee-987e-0242ac110002",
       "previous": "5c08f268-163a-11ee-987e-0242ac110002"
      },
      {
       "current": "5c08f308-163a-11ee-987e-0242ac110002-2-4f84-91e5",
       "next": "5c08f3da-163a-11ee-987e-0242ac110002-1-b17d",
       "previous": "5c08f268-163a-11ee-987e-0242ac110002-1-32bb"
      }
     ],
     "next": "5c08f3da-163a-11ee-987e-0242ac110002-2-b17d-bd2e",
     "previous": "5c08f268-163a-11ee-987e-0242ac110002-2-32bb-a8ed"
    },
    "lc_wrapper": {
     "log_history": [
      "/notebooks/notebook/work_terayama/yjupyterhub/work/.log/20230629/20230629-180625-0616.log",
      "/notebooks/notebook/work_terayama/yjupyterhub/work/.log/20230629/20230629-180829-0047.log",
      "/notebooks/notebook/work_terayama/yjupyterhub/work/.log/20230630/20230630-190207-0249.log",
      "/notebooks/notebook/work_terayama/yjupyterhub/work/.log/20230704/20230704-120531-0553.log",
      "/notebooks/notebook/work_terayama/yjupyterhub/work/.log/20230719/20230719-160450-0548.log",
      "/notebooks/notebook/work_terayama/yjupyterhub/work/.log/20230720/20230720-115231-0547.log",
      "/notebooks/notebook/work_terayama/yjupyterhub/work/.log/20230727/20230727-141740-0919.log",
      "/notebooks/notebook/work_terayama/yjupyterhub/work/.log/20230727/20230727-171154-0020.log",
      "/notebooks/notebook/work_terayama/yjupyterhub/work/.log/20230727/20230727-171353-0673.log",
      "/notebooks/notebook/work_terayama/yjupyterhub/work/.log/20230727/20230727-172947-0923.log",
      "/notebooks/notebook/work_terayama/yjupyterhub/work/.log/20230801/20230801-152711-0507.log"
     ]
    },
    "scrolled": true
   },
   "outputs": [],
   "source": [
    "!ansible-playbook -l {target_hub} playbooks/setup-jupyterhub.yml"
   ]
  },
  {
   "cell_type": "markdown",
   "metadata": {
    "lc_cell_meme": {
     "current": "5c08f3da-163a-11ee-987e-0242ac110002-2-b17d-bd2e",
     "history": [
      {
       "current": "5c08f3da-163a-11ee-987e-0242ac110002-1-b17d",
       "next": "5c08f47a-163a-11ee-987e-0242ac110002",
       "previous": "5c08f308-163a-11ee-987e-0242ac110002"
      },
      {
       "current": "5c08f3da-163a-11ee-987e-0242ac110002-2-b17d-bd2e",
       "next": "5c08f47a-163a-11ee-987e-0242ac110002-1-9726",
       "previous": "5c08f308-163a-11ee-987e-0242ac110002-1-4f84"
      }
     ],
     "next": "5c08f47a-163a-11ee-987e-0242ac110002-2-9726-1f4d",
     "previous": "5c08f308-163a-11ee-987e-0242ac110002-2-4f84-91e5"
    }
   },
   "source": [
    "JupyterHubのコンテナイメージが存在することを確認します。"
   ]
  },
  {
   "cell_type": "code",
   "execution_count": null,
   "metadata": {
    "lc_cell_meme": {
     "current": "5c08f47a-163a-11ee-987e-0242ac110002-2-9726-1f4d",
     "history": [
      {
       "current": "5c08f47a-163a-11ee-987e-0242ac110002-1-9726",
       "next": "5c08f510-163a-11ee-987e-0242ac110002",
       "previous": "5c08f3da-163a-11ee-987e-0242ac110002"
      },
      {
       "current": "5c08f47a-163a-11ee-987e-0242ac110002-2-9726-1f4d",
       "next": "5c08f510-163a-11ee-987e-0242ac110002-1-64f7",
       "previous": "5c08f3da-163a-11ee-987e-0242ac110002-1-b17d"
      }
     ],
     "next": "5c08f510-163a-11ee-987e-0242ac110002-2-64f7-06e1",
     "previous": "5c08f3da-163a-11ee-987e-0242ac110002-2-b17d-bd2e"
    },
    "lc_wrapper": {
     "log_history": [
      "/notebooks/notebook/work_terayama/yjupyterhub/work/.log/20230629/20230629-181000-0255.log",
      "/notebooks/notebook/work_terayama/yjupyterhub/work/.log/20230629/20230629-181052-0522.log",
      "/notebooks/notebook/work_terayama/yjupyterhub/work/.log/20230629/20230629-181139-0756.log",
      "/notebooks/notebook/work_terayama/yjupyterhub/work/.log/20230630/20230630-190320-0070.log",
      "/notebooks/notebook/work_terayama/yjupyterhub/work/.log/20230704/20230704-120739-0454.log",
      "/notebooks/notebook/work_terayama/yjupyterhub/work/.log/20230719/20230719-160539-0997.log",
      "/notebooks/notebook/work_terayama/yjupyterhub/work/.log/20230720/20230720-115315-0504.log",
      "/notebooks/notebook/work_terayama/yjupyterhub/work/.log/20230727/20230727-141827-0075.log",
      "/notebooks/notebook/work_terayama/yjupyterhub/work/.log/20230727/20230727-171159-0922.log",
      "/notebooks/notebook/work_terayama/yjupyterhub/work/.log/20230727/20230727-171402-0240.log",
      "/notebooks/notebook/work_terayama/yjupyterhub/work/.log/20230801/20230801-152753-0168.log"
     ]
    }
   },
   "outputs": [],
   "source": [
    "!ansible {target_hub} -a \\\n",
    "    'docker images jh-simple'"
   ]
  },
  {
   "cell_type": "markdown",
   "metadata": {
    "lc_cell_meme": {
     "current": "5c08f510-163a-11ee-987e-0242ac110002-2-64f7-06e1",
     "history": [
      {
       "current": "5c08f510-163a-11ee-987e-0242ac110002-1-64f7",
       "next": "5c08f5a6-163a-11ee-987e-0242ac110002",
       "previous": "5c08f47a-163a-11ee-987e-0242ac110002"
      },
      {
       "current": "5c08f510-163a-11ee-987e-0242ac110002-2-64f7-06e1",
       "next": "5c08f5a6-163a-11ee-987e-0242ac110002-1-5880",
       "previous": "5c08f47a-163a-11ee-987e-0242ac110002-1-9726"
      }
     ],
     "next": "5c08f5a6-163a-11ee-987e-0242ac110002-2-5880-ea4a",
     "previous": "5c08f47a-163a-11ee-987e-0242ac110002-2-9726-1f4d"
    }
   },
   "source": [
    "JupyterHubコンテナのために配置したファイルを確認します。"
   ]
  },
  {
   "cell_type": "code",
   "execution_count": null,
   "metadata": {
    "lc_cell_meme": {
     "current": "5c08f5a6-163a-11ee-987e-0242ac110002-2-5880-ea4a",
     "history": [
      {
       "current": "5c08f5a6-163a-11ee-987e-0242ac110002-1-5880",
       "next": "5c08f646-163a-11ee-987e-0242ac110002",
       "previous": "5c08f510-163a-11ee-987e-0242ac110002"
      },
      {
       "current": "5c08f5a6-163a-11ee-987e-0242ac110002-1-5880",
       "next": "5c08f646-163a-11ee-987e-0242ac110002-1-81c3",
       "previous": "5c08f510-163a-11ee-987e-0242ac110002-1-64f7"
      },
      {
       "current": "5c08f5a6-163a-11ee-987e-0242ac110002-2-5880-ea4a",
       "next": "5c08fb14-163a-11ee-987e-0242ac110002-1-0351",
       "previous": "5c08f510-163a-11ee-987e-0242ac110002-1-64f7"
      }
     ],
     "next": "5c08fb14-163a-11ee-987e-0242ac110002-2-0351-08c5",
     "previous": "5c08f510-163a-11ee-987e-0242ac110002-2-64f7-06e1"
    },
    "lc_wrapper": {
     "log_history": [
      "/notebooks/notebook/work_terayama/yjupyterhub/work/.log/20230629/20230629-181154-0378.log",
      "/notebooks/notebook/work_terayama/yjupyterhub/work/.log/20230629/20230629-181245-0796.log",
      "/notebooks/notebook/work_terayama/yjupyterhub/work/.log/20230630/20230630-190328-0200.log",
      "/notebooks/notebook/work_terayama/yjupyterhub/work/.log/20230704/20230704-120744-0687.log",
      "/notebooks/notebook/work_terayama/yjupyterhub/work/.log/20230719/20230719-160545-0499.log",
      "/notebooks/notebook/work_terayama/yjupyterhub/work/.log/20230720/20230720-115331-0293.log",
      "/notebooks/notebook/work_terayama/yjupyterhub/work/.log/20230727/20230727-141833-0690.log",
      "/notebooks/notebook/work_terayama/yjupyterhub/work/.log/20230727/20230727-171206-0415.log",
      "/notebooks/notebook/work_terayama/yjupyterhub/work/.log/20230727/20230727-173000-0471.log",
      "/notebooks/notebook/work_terayama/yjupyterhub/work/.log/20230801/20230801-152758-0318.log"
     ]
    }
   },
   "outputs": [],
   "source": [
    "!ansible {target_hub} -a 'tree {{{{jupyterhub_dir}}}}'"
   ]
  },
  {
   "cell_type": "markdown",
   "metadata": {
    "lc_cell_meme": {
     "current": "5c08fb14-163a-11ee-987e-0242ac110002-2-0351-08c5",
     "history": [
      {
       "current": "5c08fb14-163a-11ee-987e-0242ac110002-1-0351",
       "next": "5c08fbaa-163a-11ee-987e-0242ac110002",
       "previous": "5c08fa7e-163a-11ee-987e-0242ac110002"
      },
      {
       "current": "5c08fb14-163a-11ee-987e-0242ac110002-1-0351",
       "next": "5c08fbaa-163a-11ee-987e-0242ac110002-1-b307",
       "previous": "5c08fa7e-163a-11ee-987e-0242ac110002-1-77f2"
      },
      {
       "current": "5c08fb14-163a-11ee-987e-0242ac110002-1-0351",
       "next": "9226f996-1660-11ee-987e-0242ac110002",
       "previous": "5c08fa7e-163a-11ee-987e-0242ac110002-1-77f2"
      },
      {
       "current": "5c08fb14-163a-11ee-987e-0242ac110002-1-0351",
       "next": "9226f996-1660-11ee-987e-0242ac110002-1-d407",
       "previous": "5c08f5a6-163a-11ee-987e-0242ac110002-1-5880"
      },
      {
       "current": "5c08fb14-163a-11ee-987e-0242ac110002-1-0351",
       "next": "5c08fe48-163a-11ee-987e-0242ac110002-2-ca1f-a235",
       "previous": "5c08f5a6-163a-11ee-987e-0242ac110002-1-5880"
      },
      {
       "current": "5c08fb14-163a-11ee-987e-0242ac110002-1-0351",
       "next": "658edb84-304a-11ee-b73e-0242ac110003",
       "previous": "5c08f5a6-163a-11ee-987e-0242ac110002-1-5880"
      },
      {
       "current": "5c08fb14-163a-11ee-987e-0242ac110002-2-0351-08c5",
       "next": "5c08fe48-163a-11ee-987e-0242ac110002-2-ca1f-a235",
       "previous": "5c08f5a6-163a-11ee-987e-0242ac110002-1-5880"
      }
     ],
     "next": "5c08fe48-163a-11ee-987e-0242ac110002-3-ca1f-a235-fc85",
     "previous": "5c08f5a6-163a-11ee-987e-0242ac110002-2-5880-ea4a"
    }
   },
   "source": [
    "### single-user Jupyter Notebook server\n",
    "\n",
    "single-user notebookコンテナイメージが各VCノードに存在するかを確認します。\n",
    "\n",
    "イメージが存在しない場合、結果が`FAILED`になります。（その場合でも、ここではイメージの存否確認が出来れば良いので、セルの実行結果としては正常終了とします。）"
   ]
  },
  {
   "cell_type": "code",
   "execution_count": null,
   "metadata": {
    "lc_cell_meme": {
     "current": "5c08fe48-163a-11ee-987e-0242ac110002-3-ca1f-a235-fc85",
     "history": [
      {
       "current": "5c08fe48-163a-11ee-987e-0242ac110002-1-ca1f",
       "next": "5c08fede-163a-11ee-987e-0242ac110002",
       "previous": "5c08fdb2-163a-11ee-987e-0242ac110002"
      },
      {
       "current": "5c08fe48-163a-11ee-987e-0242ac110002-2-ca1f-a235",
       "next": "5c08fede-163a-11ee-987e-0242ac110002-1-0407",
       "previous": "5c08fdb2-163a-11ee-987e-0242ac110002-1-792c"
      },
      {
       "current": "5c08fe48-163a-11ee-987e-0242ac110002-2-ca1f-a235",
       "next": "9226f996-1660-11ee-987e-0242ac110002-1-d407",
       "previous": "5c08fb14-163a-11ee-987e-0242ac110002-1-0351"
      },
      {
       "current": "5c08fe48-163a-11ee-987e-0242ac110002-2-ca1f-a235",
       "next": "4e0f3b28-302e-11ee-b73e-0242ac110003",
       "previous": "5c08fb14-163a-11ee-987e-0242ac110002-1-0351"
      },
      {
       "current": "5c08fe48-163a-11ee-987e-0242ac110002-2-ca1f-a235",
       "next": "4e0f3b28-302e-11ee-b73e-0242ac110003",
       "previous": "658edb84-304a-11ee-b73e-0242ac110003"
      },
      {
       "current": "5c08fe48-163a-11ee-987e-0242ac110002-3-ca1f-a235-fc85",
       "next": "4e0f3b28-302e-11ee-b73e-0242ac110003",
       "previous": "5c08fb14-163a-11ee-987e-0242ac110002-1-0351"
      }
     ],
     "next": "4e0f3b28-302e-11ee-b73e-0242ac110003-1-7483",
     "previous": "5c08fb14-163a-11ee-987e-0242ac110002-2-0351-08c5"
    },
    "lc_wrapper": {
     "log_history": [
      "/notebooks/notebook/work_terayama/yjupyterhub/work/.log/20230629/20230629-190335-0210.log",
      "/notebooks/notebook/work_terayama/yjupyterhub/work/.log/20230629/20230629-190359-0897.log",
      "/notebooks/notebook/work_terayama/yjupyterhub/work/.log/20230630/20230630-194256-0409.log",
      "/notebooks/notebook/work_terayama/yjupyterhub/work/.log/20230704/20230704-121153-0494.log",
      "/notebooks/notebook/work_terayama/yjupyterhub/work/.log/20230719/20230719-161547-0265.log",
      "/notebooks/notebook/work_terayama/yjupyterhub/work/.log/20230721/20230721-112655-0716.log",
      "/notebooks/notebook/work_terayama/yjupyterhub/work/.log/20230727/20230727-152403-0782.log",
      "/notebooks/notebook/work_terayama/yjupyterhub/work/.log/20230801/20230801-142449-0925.log",
      "/notebooks/notebook/work_terayama/yjupyterhub/work/.log/20230801/20230801-142516-0986.log",
      "/notebooks/notebook/work_terayama/yjupyterhub/work/.log/20230801/20230801-142654-0381.log",
      "/notebooks/notebook/work_terayama/yjupyterhub/work/.log/20230801/20230801-142712-0887.log",
      "/notebooks/notebook/work_terayama/yjupyterhub/work/.log/20230801/20230801-142912-0749.log",
      "/notebooks/notebook/work_terayama/yjupyterhub/work/.log/20230801/20230801-143014-0498.log",
      "/notebooks/notebook/work_terayama/yjupyterhub/work/.log/20230801/20230801-143051-0357.log",
      "/notebooks/notebook/work_terayama/yjupyterhub/work/.log/20230801/20230801-143337-0141.log",
      "/notebooks/notebook/work_terayama/yjupyterhub/work/.log/20230801/20230801-143348-0540.log",
      "/notebooks/notebook/work_terayama/yjupyterhub/work/.log/20230801/20230801-143352-0242.log",
      "/notebooks/notebook/work_terayama/yjupyterhub/work/.log/20230801/20230801-143441-0557.log",
      "/notebooks/notebook/work_terayama/yjupyterhub/work/.log/20230801/20230801-143501-0558.log",
      "/notebooks/notebook/work_terayama/yjupyterhub/work/.log/20230801/20230801-143928-0651.log",
      "/notebooks/notebook/work_terayama/yjupyterhub/work/.log/20230801/20230801-144023-0296.log",
      "/notebooks/notebook/work_terayama/yjupyterhub/work/.log/20230801/20230801-152807-0582.log",
      "/notebooks/notebook/work_terayama/yjupyterhub/work/.log/20230801/20230801-174534-0060.log",
      "/notebooks/notebook/work_terayama/yjupyterhub/work/.log/20230801/20230801-175111-0165.log",
      "/notebooks/notebook/work_terayama/yjupyterhub/work/.log/20230801/20230801-175135-0516.log",
      "/notebooks/notebook/work_terayama/yjupyterhub/work/.log/20230801/20230801-175647-0821.log",
      "/notebooks/notebook/work_terayama/yjupyterhub/work/.log/20230801/20230801-180714-0231.log",
      "/notebooks/notebook/work_terayama/yjupyterhub/work/.log/20230801/20230801-180728-0097.log",
      "/notebooks/notebook/work_terayama/yjupyterhub/work/.log/20230801/20230801-181632-0358.log",
      "/notebooks/notebook/work_terayama/yjupyterhub/work/.log/20230801/20230801-181642-0082.log",
      "/notebooks/notebook/work_terayama/yjupyterhub/work/.log/20230801/20230801-181649-0997.log",
      "/notebooks/notebook/work_terayama/yjupyterhub/work/.log/20230801/20230801-181752-0869.log",
      "/notebooks/notebook/work_terayama/yjupyterhub/work/.log/20230801/20230801-182233-0204.log"
     ]
    },
    "pinned_outputs": []
   },
   "outputs": [],
   "source": [
    "!ansible {ugroup_name} -m shell -a 'docker images | \\\n",
    "    grep -e \"{{{{singleuser_image}}}}\"' || true"
   ]
  },
  {
   "cell_type": "markdown",
   "metadata": {
    "lc_cell_meme": {
     "current": "4e0f3b28-302e-11ee-b73e-0242ac110003-1-7483",
     "history": [
      {
       "current": "4e0f3b28-302e-11ee-b73e-0242ac110003",
       "next": "4e0f3cea-302e-11ee-b73e-0242ac110003",
       "previous": "5c08fe48-163a-11ee-987e-0242ac110002-2-ca1f-a235"
      },
      {
       "current": "4e0f3b28-302e-11ee-b73e-0242ac110003-1-7483",
       "next": "903b3876-302e-11ee-b73e-0242ac110003",
       "previous": "5c08fe48-163a-11ee-987e-0242ac110002-2-ca1f-a235"
      }
     ],
     "next": "903b3876-302e-11ee-b73e-0242ac110003-1-c336",
     "previous": "5c08fe48-163a-11ee-987e-0242ac110002-3-ca1f-a235-fc85"
    }
   },
   "source": [
    "#### single-user notebookコンテナイメージが存在しない場合\n",
    "\n",
    "公開リポジトリからsingle-user notebookコンテナイメージをダウンロードします。\n",
    "\n",
    "デフォルトのイメージであればビルドも可能です。"
   ]
  },
  {
   "cell_type": "markdown",
   "metadata": {
    "lc_cell_meme": {
     "current": "903b3876-302e-11ee-b73e-0242ac110003-1-c336",
     "history": [
      {
       "current": "903b3876-302e-11ee-b73e-0242ac110003-1-c336",
       "next": "4e0f3cea-302e-11ee-b73e-0242ac110003",
       "previous": "4e0f3b28-302e-11ee-b73e-0242ac110003"
      }
     ],
     "next": "4e0f3cea-302e-11ee-b73e-0242ac110003-1-e19b",
     "previous": "4e0f3b28-302e-11ee-b73e-0242ac110003-1-7483"
    }
   },
   "source": [
    "以下のセルを実行し、single-user notebookコンテナイメージをダウンロードしてください。\n",
    "\n",
    "ダウンロードが成功した場合、以降のセルは実行せず、4章までスキップしてください。"
   ]
  },
  {
   "cell_type": "code",
   "execution_count": null,
   "metadata": {
    "lc_cell_meme": {
     "current": "4e0f3cea-302e-11ee-b73e-0242ac110003-1-e19b",
     "history": [
      {
       "current": "4e0f3cea-302e-11ee-b73e-0242ac110003",
       "next": "9226f996-1660-11ee-987e-0242ac110002-1-d407",
       "previous": "4e0f3b28-302e-11ee-b73e-0242ac110003"
      },
      {
       "current": "4e0f3cea-302e-11ee-b73e-0242ac110003",
       "next": "9226f996-1660-11ee-987e-0242ac110002-1-d407",
       "previous": "903b3876-302e-11ee-b73e-0242ac110003"
      },
      {
       "current": "4e0f3cea-302e-11ee-b73e-0242ac110003-1-e19b",
       "next": "ad6fe928-302e-11ee-b73e-0242ac110003",
       "previous": "903b3876-302e-11ee-b73e-0242ac110003"
      }
     ],
     "next": "ad6fe928-302e-11ee-b73e-0242ac110003-1-01cc",
     "previous": "903b3876-302e-11ee-b73e-0242ac110003-1-c336"
    }
   },
   "outputs": [],
   "source": [
    "!ansible {ugroup_name} -a 'docker pull {{{{singleuser_image}}}}' || true"
   ]
  },
  {
   "cell_type": "markdown",
   "metadata": {
    "lc_cell_meme": {
     "current": "ad6fe928-302e-11ee-b73e-0242ac110003-1-01cc",
     "history": [
      {
       "current": "ad6fe928-302e-11ee-b73e-0242ac110003-1-01cc",
       "next": "9226f996-1660-11ee-987e-0242ac110002-1-d407",
       "previous": "4e0f3cea-302e-11ee-b73e-0242ac110003"
      }
     ],
     "next": "9226f996-1660-11ee-987e-0242ac110002-2-d407-b12a",
     "previous": "4e0f3cea-302e-11ee-b73e-0242ac110003-1-e19b"
    }
   },
   "source": [
    "#### single-user notebookコンテナイメージをビルドする場合\n",
    "\n",
    "`template/jh_notebook` にsingle-user notebookコンテナイメージをビルドするためのファイルを格納しています。\n",
    "\n",
    "オリジナルのイメージを作成する場合は、この内容を置き換えてください。"
   ]
  },
  {
   "cell_type": "markdown",
   "metadata": {
    "lc_cell_meme": {
     "current": "9226f996-1660-11ee-987e-0242ac110002-2-d407-b12a",
     "history": [
      {
       "current": "9226f996-1660-11ee-987e-0242ac110002-1-d407",
       "next": "9226fbc6-1660-11ee-987e-0242ac110002",
       "previous": "5c08fb14-163a-11ee-987e-0242ac110002-1-0351"
      },
      {
       "current": "9226f996-1660-11ee-987e-0242ac110002-1-d407",
       "next": "68bc0c26-1661-11ee-987e-0242ac110002",
       "previous": "9226f996-1660-11ee-987e-0242ac110002"
      },
      {
       "current": "9226f996-1660-11ee-987e-0242ac110002-1-d407",
       "next": "68bc0c26-1661-11ee-987e-0242ac110002",
       "previous": "5c08fb14-163a-11ee-987e-0242ac110002-1-0351"
      },
      {
       "current": "9226f996-1660-11ee-987e-0242ac110002-1-d407",
       "next": "68bc0c26-1661-11ee-987e-0242ac110002",
       "previous": "5c08fe48-163a-11ee-987e-0242ac110002-2-ca1f-a235"
      },
      {
       "current": "9226f996-1660-11ee-987e-0242ac110002-1-d407",
       "next": "68bc0c26-1661-11ee-987e-0242ac110002",
       "previous": "4e0f3cea-302e-11ee-b73e-0242ac110003"
      },
      {
       "current": "9226f996-1660-11ee-987e-0242ac110002-2-d407-b12a",
       "next": "68bc0c26-1661-11ee-987e-0242ac110002",
       "previous": "ad6fe928-302e-11ee-b73e-0242ac110003"
      }
     ],
     "next": "68bc0c26-1661-11ee-987e-0242ac110002-1-ff22",
     "previous": "ad6fe928-302e-11ee-b73e-0242ac110003-1-01cc"
    }
   },
   "source": [
    "workerノードに必要なファイルを格納するためのディレクトリを作成する。"
   ]
  },
  {
   "cell_type": "code",
   "execution_count": null,
   "metadata": {
    "lc_cell_meme": {
     "current": "68bc0c26-1661-11ee-987e-0242ac110002-1-ff22",
     "history": [
      {
       "current": "68bc0c26-1661-11ee-987e-0242ac110002",
       "next": "9226fbc6-1660-11ee-987e-0242ac110002",
       "previous": "9226f996-1660-11ee-987e-0242ac110002-1-d407"
      },
      {
       "current": "68bc0c26-1661-11ee-987e-0242ac110002",
       "next": "9226f996-1660-11ee-987e-0242ac110002-2-d407-e084",
       "previous": "9226f996-1660-11ee-987e-0242ac110002-1-d407"
      },
      {
       "current": "68bc0c26-1661-11ee-987e-0242ac110002-1-ff22",
       "next": "9226fbc6-1660-11ee-987e-0242ac110002",
       "previous": "9226f996-1660-11ee-987e-0242ac110002-1-d407"
      }
     ],
     "next": "9226fbc6-1660-11ee-987e-0242ac110002-1-81bc",
     "previous": "9226f996-1660-11ee-987e-0242ac110002-2-d407-b12a"
    },
    "lc_wrapper": {
     "log_history": [
      "/notebooks/notebook/work_terayama/yjupyterhub/work/.log/20230629/20230629-184459-0585.log",
      "/notebooks/notebook/work_terayama/yjupyterhub/work/.log/20230630/20230630-190340-0116.log",
      "/notebooks/notebook/work_terayama/yjupyterhub/work/.log/20230704/20230704-120757-0267.log",
      "/notebooks/notebook/work_terayama/yjupyterhub/work/.log/20230719/20230719-160609-0041.log",
      "/notebooks/notebook/work_terayama/yjupyterhub/work/.log/20230720/20230720-115353-0151.log",
      "/notebooks/notebook/work_terayama/yjupyterhub/work/.log/20230727/20230727-141849-0619.log",
      "/notebooks/notebook/work_terayama/yjupyterhub/work/.log/20230801/20230801-152844-0549.log",
      "/notebooks/notebook/work_terayama/yjupyterhub/work/.log/20230801/20230801-152955-0668.log",
      "/notebooks/notebook/work_terayama/yjupyterhub/work/.log/20230801/20230801-153204-0993.log"
     ]
    }
   },
   "outputs": [],
   "source": [
    "!ansible {ugroup_name} -b -m file -a \\\n",
    "    'path={{{{notebook_dir}}}} state=directory owner={{{{ansible_user}}}}'"
   ]
  },
  {
   "cell_type": "markdown",
   "metadata": {
    "lc_cell_meme": {
     "current": "9226fbc6-1660-11ee-987e-0242ac110002-1-81bc",
     "history": [
      {
       "current": "9226fbc6-1660-11ee-987e-0242ac110002",
       "next": "5c09017c-163a-11ee-987e-0242ac110002-3-e7a9-f34d-b195",
       "previous": "9226f996-1660-11ee-987e-0242ac110002"
      },
      {
       "current": "9226fbc6-1660-11ee-987e-0242ac110002",
       "next": "5c09017c-163a-11ee-987e-0242ac110002-3-e7a9-f34d-b195",
       "previous": "68bc0c26-1661-11ee-987e-0242ac110002"
      },
      {
       "current": "9226fbc6-1660-11ee-987e-0242ac110002",
       "next": "5c09017c-163a-11ee-987e-0242ac110002-3-e7a9-f34d-b195",
       "previous": "68bc0c26-1661-11ee-987e-0242ac110002-1-ad18"
      },
      {
       "current": "9226fbc6-1660-11ee-987e-0242ac110002",
       "next": "5c09017c-163a-11ee-987e-0242ac110002-3-e7a9-f34d-b195",
       "previous": "68bc0c26-1661-11ee-987e-0242ac110002-2-ad18-b8d0"
      },
      {
       "current": "9226fbc6-1660-11ee-987e-0242ac110002",
       "next": "5c09017c-163a-11ee-987e-0242ac110002-3-e7a9-f34d-b195",
       "previous": "68bc0c26-1661-11ee-987e-0242ac110002-1-ad18"
      },
      {
       "current": "9226fbc6-1660-11ee-987e-0242ac110002",
       "next": "9226fbc6-1660-11ee-987e-0242ac110002-1-4895",
       "previous": "68bc0c26-1661-11ee-987e-0242ac110002-1-ad18"
      },
      {
       "current": "9226fbc6-1660-11ee-987e-0242ac110002-1-81bc",
       "next": "9226fbc6-1660-11ee-987e-0242ac110002-1-4895",
       "previous": "68bc0c26-1661-11ee-987e-0242ac110002"
      }
     ],
     "next": "9226fbc6-1660-11ee-987e-0242ac110002-2-4895-246e",
     "previous": "68bc0c26-1661-11ee-987e-0242ac110002-1-ff22"
    }
   },
   "source": [
    "notebookコンテナイメージビルドに必要なファイルを配置"
   ]
  },
  {
   "cell_type": "markdown",
   "metadata": {
    "lc_cell_meme": {
     "current": "9226fbc6-1660-11ee-987e-0242ac110002-2-4895-246e",
     "history": [
      {
       "current": "9226fbc6-1660-11ee-987e-0242ac110002",
       "next": "5c09017c-163a-11ee-987e-0242ac110002-3-e7a9-f34d-b195",
       "previous": "9226f996-1660-11ee-987e-0242ac110002"
      },
      {
       "current": "9226fbc6-1660-11ee-987e-0242ac110002",
       "next": "5c09017c-163a-11ee-987e-0242ac110002-3-e7a9-f34d-b195",
       "previous": "68bc0c26-1661-11ee-987e-0242ac110002"
      },
      {
       "current": "9226fbc6-1660-11ee-987e-0242ac110002",
       "next": "5c09017c-163a-11ee-987e-0242ac110002-3-e7a9-f34d-b195",
       "previous": "68bc0c26-1661-11ee-987e-0242ac110002-1-ad18"
      },
      {
       "current": "9226fbc6-1660-11ee-987e-0242ac110002",
       "next": "5c09017c-163a-11ee-987e-0242ac110002-3-e7a9-f34d-b195",
       "previous": "68bc0c26-1661-11ee-987e-0242ac110002-2-ad18-b8d0"
      },
      {
       "current": "9226fbc6-1660-11ee-987e-0242ac110002-1-4895",
       "next": "5c09017c-163a-11ee-987e-0242ac110002-3-e7a9-f34d-b195",
       "previous": "68bc0c26-1661-11ee-987e-0242ac110002-1-ad18"
      },
      {
       "current": "9226fbc6-1660-11ee-987e-0242ac110002-2-4895-246e",
       "next": "5c09017c-163a-11ee-987e-0242ac110002-3-e7a9-f34d-b195",
       "previous": "9226fbc6-1660-11ee-987e-0242ac110002"
      }
     ],
     "next": "5c09017c-163a-11ee-987e-0242ac110002-4-e7a9-f34d-b195-1bb1",
     "previous": "9226fbc6-1660-11ee-987e-0242ac110002-1-81bc"
    }
   },
   "source": [
    "まず、チェックモードで実行"
   ]
  },
  {
   "cell_type": "code",
   "execution_count": null,
   "metadata": {
    "lc_cell_meme": {
     "current": "5c09017c-163a-11ee-987e-0242ac110002-4-e7a9-f34d-b195-1bb1",
     "history": [
      {
       "current": "5c09017c-163a-11ee-987e-0242ac110002-1-e7a9",
       "next": "5c09021c-163a-11ee-987e-0242ac110002",
       "previous": "5c0900dc-163a-11ee-987e-0242ac110002"
      },
      {
       "current": "5c09017c-163a-11ee-987e-0242ac110002-2-e7a9-f34d",
       "next": "5c09021c-163a-11ee-987e-0242ac110002-1-99e8",
       "previous": "5c0900dc-163a-11ee-987e-0242ac110002-1-660b"
      },
      {
       "current": "5c09017c-163a-11ee-987e-0242ac110002-2-e7a9-f34d",
       "next": "5c09021c-163a-11ee-987e-0242ac110002-2-99e8-bdef",
       "previous": "5c08eff2-163a-11ee-987e-0242ac110002-1-bd72"
      },
      {
       "current": "5c09017c-163a-11ee-987e-0242ac110002-3-e7a9-f34d-b195",
       "next": "5c09021c-163a-11ee-987e-0242ac110002-2-99e8-bdef",
       "previous": "5c0900dc-163a-11ee-987e-0242ac110002-2-660b-5a79"
      },
      {
       "current": "5c09017c-163a-11ee-987e-0242ac110002-3-e7a9-f34d-b195",
       "next": "5c0902f8-163a-11ee-987e-0242ac110002-3-fe00-7ad7-0c43",
       "previous": "9226fbc6-1660-11ee-987e-0242ac110002"
      },
      {
       "current": "5c09017c-163a-11ee-987e-0242ac110002-3-e7a9-f34d-b195",
       "next": "fd720420-1660-11ee-987e-0242ac110002",
       "previous": "9226fbc6-1660-11ee-987e-0242ac110002"
      },
      {
       "current": "5c09017c-163a-11ee-987e-0242ac110002-4-e7a9-f34d-b195-1bb1",
       "next": "fd720420-1660-11ee-987e-0242ac110002",
       "previous": "9226fbc6-1660-11ee-987e-0242ac110002-1-4895"
      }
     ],
     "next": "fd720420-1660-11ee-987e-0242ac110002-1-3622",
     "previous": "9226fbc6-1660-11ee-987e-0242ac110002-2-4895-246e"
    },
    "lc_wrapper": {
     "log_history": [
      "/notebooks/notebook/work_terayama/yjupyterhub/work/.log/20230629/20230629-173358-0886.log",
      "/notebooks/notebook/work_terayama/yjupyterhub/work/.log/20230629/20230629-173618-0659.log",
      "/notebooks/notebook/work_terayama/yjupyterhub/work/.log/20230629/20230629-173634-0172.log",
      "/notebooks/notebook/work_terayama/yjupyterhub/work/.log/20230629/20230629-184019-0748.log",
      "/notebooks/notebook/work_terayama/yjupyterhub/work/.log/20230629/20230629-184048-0873.log",
      "/notebooks/notebook/work_terayama/yjupyterhub/work/.log/20230629/20230629-185838-0107.log",
      "/notebooks/notebook/work_terayama/yjupyterhub/work/.log/20230629/20230629-185942-0651.log",
      "/notebooks/notebook/work_terayama/yjupyterhub/work/.log/20230630/20230630-193839-0085.log",
      "/notebooks/notebook/work_terayama/yjupyterhub/work/.log/20230704/20230704-120819-0942.log",
      "/notebooks/notebook/work_terayama/yjupyterhub/work/.log/20230719/20230719-160634-0364.log",
      "/notebooks/notebook/work_terayama/yjupyterhub/work/.log/20230720/20230720-115454-0544.log",
      "/notebooks/notebook/work_terayama/yjupyterhub/work/.log/20230727/20230727-141856-0646.log",
      "/notebooks/notebook/work_terayama/yjupyterhub/work/.log/20230801/20230801-152850-0760.log",
      "/notebooks/notebook/work_terayama/yjupyterhub/work/.log/20230801/20230801-153212-0250.log",
      "/notebooks/notebook/work_terayama/yjupyterhub/work/.log/20230801/20230801-153246-0949.log"
     ]
    },
    "scrolled": true
   },
   "outputs": [],
   "source": [
    "!ansible {ugroup_name} -CDv -m synchronize \\\n",
    "    -a 'src=template/notebook dest={{{{notebook_dir}}}}'"
   ]
  },
  {
   "cell_type": "markdown",
   "metadata": {
    "lc_cell_meme": {
     "current": "fd720420-1660-11ee-987e-0242ac110002-1-3622",
     "history": [
      {
       "current": "fd720420-1660-11ee-987e-0242ac110002-1-3622",
       "next": "5c0902f8-163a-11ee-987e-0242ac110002-3-fe00-7ad7-0c43",
       "previous": "5c09017c-163a-11ee-987e-0242ac110002-3-e7a9-f34d-b195"
      }
     ],
     "next": "5c0902f8-163a-11ee-987e-0242ac110002-4-fe00-7ad7-0c43-8d23",
     "previous": "5c09017c-163a-11ee-987e-0242ac110002-4-e7a9-f34d-b195-1bb1"
    }
   },
   "source": [
    "実際に配置"
   ]
  },
  {
   "cell_type": "code",
   "execution_count": null,
   "metadata": {
    "lc_cell_meme": {
     "current": "5c0902f8-163a-11ee-987e-0242ac110002-4-fe00-7ad7-0c43-8d23",
     "history": [
      {
       "current": "5c0902f8-163a-11ee-987e-0242ac110002-1-fe00",
       "next": "5c09038e-163a-11ee-987e-0242ac110002",
       "previous": "5c09021c-163a-11ee-987e-0242ac110002"
      },
      {
       "current": "5c0902f8-163a-11ee-987e-0242ac110002-2-fe00-7ad7",
       "next": "5c09038e-163a-11ee-987e-0242ac110002-1-8c44",
       "previous": "5c09021c-163a-11ee-987e-0242ac110002-1-99e8"
      },
      {
       "current": "5c0902f8-163a-11ee-987e-0242ac110002-3-fe00-7ad7-0c43",
       "next": "5c08f09c-163a-11ee-987e-0242ac110002-1-4603",
       "previous": "5c09021c-163a-11ee-987e-0242ac110002-2-99e8-bdef"
      },
      {
       "current": "5c0902f8-163a-11ee-987e-0242ac110002-3-fe00-7ad7-0c43",
       "next": "5c08fbaa-163a-11ee-987e-0242ac110002-1-b307",
       "previous": "5c09017c-163a-11ee-987e-0242ac110002-3-e7a9-f34d-b195"
      },
      {
       "current": "5c0902f8-163a-11ee-987e-0242ac110002-3-fe00-7ad7-0c43",
       "next": "5c08fbaa-163a-11ee-987e-0242ac110002-1-b307",
       "previous": "fd720420-1660-11ee-987e-0242ac110002"
      },
      {
       "current": "5c0902f8-163a-11ee-987e-0242ac110002-3-fe00-7ad7-0c43",
       "next": "fd720420-1660-11ee-987e-0242ac110002-1-a3bd",
       "previous": "fd720420-1660-11ee-987e-0242ac110002"
      },
      {
       "current": "5c0902f8-163a-11ee-987e-0242ac110002-3-fe00-7ad7-0c43",
       "next": "85dd2710-27a3-11ee-987e-0242ac110002",
       "previous": "fd720420-1660-11ee-987e-0242ac110002"
      },
      {
       "current": "5c0902f8-163a-11ee-987e-0242ac110002-3-fe00-7ad7-0c43",
       "next": "fd720420-1660-11ee-987e-0242ac110002-1-a3bd",
       "previous": "fd720420-1660-11ee-987e-0242ac110002"
      },
      {
       "current": "5c0902f8-163a-11ee-987e-0242ac110002-3-fe00-7ad7-0c43",
       "next": "e8ff7180-3023-11ee-b73e-0242ac110003",
       "previous": "fd720420-1660-11ee-987e-0242ac110002"
      },
      {
       "current": "5c0902f8-163a-11ee-987e-0242ac110002-4-fe00-7ad7-0c43-8d23",
       "next": "e8ff7180-3023-11ee-b73e-0242ac110003-1-9ee5",
       "previous": "fd720420-1660-11ee-987e-0242ac110002"
      }
     ],
     "next": "e8ff7180-3023-11ee-b73e-0242ac110003-2-9ee5-e4fb",
     "previous": "fd720420-1660-11ee-987e-0242ac110002-1-3622"
    },
    "lc_wrapper": {
     "log_history": [
      "/notebooks/notebook/work_terayama/yjupyterhub/work/.log/20230629/20230629-174838-0798.log",
      "/notebooks/notebook/work_terayama/yjupyterhub/work/.log/20230629/20230629-175142-0815.log",
      "/notebooks/notebook/work_terayama/yjupyterhub/work/.log/20230629/20230629-184215-0310.log",
      "/notebooks/notebook/work_terayama/yjupyterhub/work/.log/20230629/20230629-184509-0087.log",
      "/notebooks/notebook/work_terayama/yjupyterhub/work/.log/20230629/20230629-185344-0637.log",
      "/notebooks/notebook/work_terayama/yjupyterhub/work/.log/20230629/20230629-185845-0962.log",
      "/notebooks/notebook/work_terayama/yjupyterhub/work/.log/20230629/20230629-185947-0343.log",
      "/notebooks/notebook/work_terayama/yjupyterhub/work/.log/20230630/20230630-193843-0396.log",
      "/notebooks/notebook/work_terayama/yjupyterhub/work/.log/20230704/20230704-120834-0196.log",
      "/notebooks/notebook/work_terayama/yjupyterhub/work/.log/20230719/20230719-160639-0723.log",
      "/notebooks/notebook/work_terayama/yjupyterhub/work/.log/20230720/20230720-115502-0580.log",
      "/notebooks/notebook/work_terayama/yjupyterhub/work/.log/20230720/20230720-194724-0380.log",
      "/notebooks/notebook/work_terayama/yjupyterhub/work/.log/20230720/20230720-195255-0997.log",
      "/notebooks/notebook/work_terayama/yjupyterhub/work/.log/20230720/20230720-200000-0428.log",
      "/notebooks/notebook/work_terayama/yjupyterhub/work/.log/20230720/20230720-200049-0394.log",
      "/notebooks/notebook/work_terayama/yjupyterhub/work/.log/20230720/20230720-200245-0155.log",
      "/notebooks/notebook/work_terayama/yjupyterhub/work/.log/20230720/20230720-200616-0601.log",
      "/notebooks/notebook/work_terayama/yjupyterhub/work/.log/20230720/20230720-222951-0642.log",
      "/notebooks/notebook/work_terayama/yjupyterhub/work/.log/20230721/20230721-112558-0182.log",
      "/notebooks/notebook/work_terayama/yjupyterhub/work/.log/20230721/20230721-130946-0117.log",
      "/notebooks/notebook/work_terayama/yjupyterhub/work/.log/20230721/20230721-141510-0655.log",
      "/notebooks/notebook/work_terayama/yjupyterhub/work/.log/20230727/20230727-141905-0170.log",
      "/notebooks/notebook/work_terayama/yjupyterhub/work/.log/20230801/20230801-153302-0089.log"
     ]
    },
    "scrolled": true
   },
   "outputs": [],
   "source": [
    "!ansible {ugroup_name} -Dv -m synchronize \\\n",
    "    -a 'src=template/notebook dest={{{{notebook_dir}}}}'"
   ]
  },
  {
   "cell_type": "markdown",
   "metadata": {
    "lc_cell_meme": {
     "current": "e8ff7180-3023-11ee-b73e-0242ac110003-2-9ee5-e4fb",
     "history": [
      {
       "current": "e8ff7180-3023-11ee-b73e-0242ac110003-2-9ee5-e4fb",
       "next": "fd720420-1660-11ee-987e-0242ac110002-1-a3bd",
       "previous": "5c0902f8-163a-11ee-987e-0242ac110002-3-fe00-7ad7-0c43"
      }
     ],
     "next": "fd720420-1660-11ee-987e-0242ac110002-2-a3bd-3898",
     "previous": "5c0902f8-163a-11ee-987e-0242ac110002-4-fe00-7ad7-0c43-8d23"
    }
   },
   "source": [
    "#### single-user notebookコンテナイメージのビルド"
   ]
  },
  {
   "cell_type": "markdown",
   "metadata": {
    "lc_cell_meme": {
     "current": "fd720420-1660-11ee-987e-0242ac110002-2-a3bd-3898",
     "history": [
      {
       "current": "fd720420-1660-11ee-987e-0242ac110002-1-a3bd",
       "next": "5c0902f8-163a-11ee-987e-0242ac110002-3-fe00-7ad7-0c43",
       "previous": "5c09017c-163a-11ee-987e-0242ac110002-3-e7a9-f34d-b195"
      },
      {
       "current": "fd720420-1660-11ee-987e-0242ac110002-1-a3bd",
       "next": "5c08f1a0-163a-11ee-987e-0242ac110002-2-9928-5416",
       "previous": "5c0902f8-163a-11ee-987e-0242ac110002-3-fe00-7ad7-0c43"
      },
      {
       "current": "fd720420-1660-11ee-987e-0242ac110002-1-a3bd",
       "next": "5c08f1a0-163a-11ee-987e-0242ac110002-2-9928-5416",
       "previous": "85dd2710-27a3-11ee-987e-0242ac110002"
      },
      {
       "current": "fd720420-1660-11ee-987e-0242ac110002-1-a3bd",
       "next": "5c08f1a0-163a-11ee-987e-0242ac110002-2-9928-5416",
       "previous": "5c0902f8-163a-11ee-987e-0242ac110002-3-fe00-7ad7-0c43"
      },
      {
       "current": "fd720420-1660-11ee-987e-0242ac110002-1-a3bd",
       "next": "5c08f1a0-163a-11ee-987e-0242ac110002-2-9928-5416",
       "previous": "e8ff7180-3023-11ee-b73e-0242ac110003"
      },
      {
       "current": "fd720420-1660-11ee-987e-0242ac110002-2-a3bd-3898",
       "next": "5c08f1a0-163a-11ee-987e-0242ac110002-2-9928-5416",
       "previous": "e8ff7180-3023-11ee-b73e-0242ac110003-1-9ee5"
      }
     ],
     "next": "5c08f1a0-163a-11ee-987e-0242ac110002-3-9928-5416-7137",
     "previous": "e8ff7180-3023-11ee-b73e-0242ac110003-2-9ee5-e4fb"
    }
   },
   "source": [
    "実際のビルド前に、チェックモードで確認します。"
   ]
  },
  {
   "cell_type": "code",
   "execution_count": null,
   "metadata": {
    "lc_cell_meme": {
     "current": "5c08f1a0-163a-11ee-987e-0242ac110002-3-9928-5416-7137",
     "history": [
      {
       "current": "5c08f1a0-163a-11ee-987e-0242ac110002-1-9928",
       "next": "5c08f268-163a-11ee-987e-0242ac110002",
       "previous": "5c08f09c-163a-11ee-987e-0242ac110002"
      },
      {
       "current": "5c08f1a0-163a-11ee-987e-0242ac110002-2-9928-5416",
       "next": "5c08f268-163a-11ee-987e-0242ac110002-1-32bb",
       "previous": "5c08f09c-163a-11ee-987e-0242ac110002-1-4603"
      },
      {
       "current": "5c08f1a0-163a-11ee-987e-0242ac110002-3-9928-5416-7137",
       "next": "fd720420-1660-11ee-987e-0242ac110002-2-a3bd-a43c",
       "previous": "fd720420-1660-11ee-987e-0242ac110002-1-a3bd"
      }
     ],
     "next": "fd720420-1660-11ee-987e-0242ac110002-3-a3bd-a43c-20f1",
     "previous": "fd720420-1660-11ee-987e-0242ac110002-2-a3bd-3898"
    },
    "lc_wrapper": {
     "log_history": [
      "/notebooks/notebook/work_terayama/yjupyterhub/work/.log/20230629/20230629-175830-0472.log",
      "/notebooks/notebook/work_terayama/yjupyterhub/work/.log/20230629/20230629-180351-0349.log",
      "/notebooks/notebook/work_terayama/yjupyterhub/work/.log/20230629/20230629-180442-0921.log",
      "/notebooks/notebook/work_terayama/yjupyterhub/work/.log/20230629/20230629-180610-0532.log",
      "/notebooks/notebook/work_terayama/yjupyterhub/work/.log/20230629/20230629-185127-0325.log",
      "/notebooks/notebook/work_terayama/yjupyterhub/work/.log/20230630/20230630-193848-0074.log",
      "/notebooks/notebook/work_terayama/yjupyterhub/work/.log/20230703/20230703-161540-0711.log",
      "/notebooks/notebook/work_terayama/yjupyterhub/work/.log/20230704/20230704-120849-0519.log",
      "/notebooks/notebook/work_terayama/yjupyterhub/work/.log/20230719/20230719-160644-0398.log",
      "/notebooks/notebook/work_terayama/yjupyterhub/work/.log/20230720/20230720-115554-0092.log",
      "/notebooks/notebook/work_terayama/yjupyterhub/work/.log/20230720/20230720-194737-0451.log",
      "/notebooks/notebook/work_terayama/yjupyterhub/work/.log/20230727/20230727-141933-0419.log",
      "/notebooks/notebook/work_terayama/yjupyterhub/work/.log/20230801/20230801-153331-0239.log"
     ]
    },
    "scrolled": true
   },
   "outputs": [],
   "source": [
    "!ansible-playbook -l {ugroup_name} -CDv playbooks/setup-jupyter-notebook.yml || true"
   ]
  },
  {
   "cell_type": "markdown",
   "metadata": {
    "lc_cell_meme": {
     "current": "fd720420-1660-11ee-987e-0242ac110002-3-a3bd-a43c-20f1",
     "history": [
      {
       "current": "fd720420-1660-11ee-987e-0242ac110002-2-a3bd-a43c",
       "next": "5c0902f8-163a-11ee-987e-0242ac110002-3-fe00-7ad7-0c43",
       "previous": "5c09017c-163a-11ee-987e-0242ac110002-3-e7a9-f34d-b195"
      },
      {
       "current": "fd720420-1660-11ee-987e-0242ac110002-3-a3bd-a43c-20f1",
       "next": "5c08f308-163a-11ee-987e-0242ac110002-2-4f84-cb83",
       "previous": "5c08f1a0-163a-11ee-987e-0242ac110002-2-9928-5416"
      }
     ],
     "next": "5c08f308-163a-11ee-987e-0242ac110002-3-4f84-cb83-8867",
     "previous": "5c08f1a0-163a-11ee-987e-0242ac110002-3-9928-5416-7137"
    }
   },
   "source": [
    "実際にビルドします。"
   ]
  },
  {
   "cell_type": "code",
   "execution_count": null,
   "metadata": {
    "lc_cell_meme": {
     "current": "5c08f308-163a-11ee-987e-0242ac110002-3-4f84-cb83-8867",
     "history": [
      {
       "current": "5c08f308-163a-11ee-987e-0242ac110002-1-4f84",
       "next": "5c08f3da-163a-11ee-987e-0242ac110002",
       "previous": "5c08f268-163a-11ee-987e-0242ac110002"
      },
      {
       "current": "5c08f308-163a-11ee-987e-0242ac110002-2-4f84-cb83",
       "next": "5c08f3da-163a-11ee-987e-0242ac110002-1-b17d",
       "previous": "5c08f268-163a-11ee-987e-0242ac110002-1-32bb"
      },
      {
       "current": "5c08f308-163a-11ee-987e-0242ac110002-2-4f84-cb83",
       "next": "5c08fbaa-163a-11ee-987e-0242ac110002-1-b307",
       "previous": "fd720420-1660-11ee-987e-0242ac110002-2-a3bd-a43c"
      },
      {
       "current": "5c08f308-163a-11ee-987e-0242ac110002-2-4f84-cb83",
       "next": "d20801b8-1732-11ee-987e-0242ac110002",
       "previous": "fd720420-1660-11ee-987e-0242ac110002-2-a3bd-a43c"
      },
      {
       "current": "5c08f308-163a-11ee-987e-0242ac110002-3-4f84-cb83-8867",
       "next": "5c08fdb2-163a-11ee-987e-0242ac110002-1-792c",
       "previous": "fd720420-1660-11ee-987e-0242ac110002-2-a3bd-a43c"
      }
     ],
     "next": "5c08fdb2-163a-11ee-987e-0242ac110002-2-792c-4f8e",
     "previous": "fd720420-1660-11ee-987e-0242ac110002-3-a3bd-a43c-20f1"
    },
    "lc_wrapper": {
     "log_history": [
      "/notebooks/notebook/work_terayama/yjupyterhub/work/.log/20230629/20230629-180625-0616.log",
      "/notebooks/notebook/work_terayama/yjupyterhub/work/.log/20230629/20230629-180829-0047.log",
      "/notebooks/notebook/work_terayama/yjupyterhub/work/.log/20230629/20230629-185136-0344.log",
      "/notebooks/notebook/work_terayama/yjupyterhub/work/.log/20230629/20230629-190008-0223.log",
      "/notebooks/notebook/work_terayama/yjupyterhub/work/.log/20230630/20230630-193853-0396.log",
      "/notebooks/notebook/work_terayama/yjupyterhub/work/.log/20230704/20230704-120858-0735.log",
      "/notebooks/notebook/work_terayama/yjupyterhub/work/.log/20230719/20230719-160654-0273.log",
      "/notebooks/notebook/work_terayama/yjupyterhub/work/.log/20230720/20230720-115603-0623.log",
      "/notebooks/notebook/work_terayama/yjupyterhub/work/.log/20230720/20230720-194743-0274.log",
      "/notebooks/notebook/work_terayama/yjupyterhub/work/.log/20230720/20230720-195304-0561.log",
      "/notebooks/notebook/work_terayama/yjupyterhub/work/.log/20230720/20230720-200018-0183.log",
      "/notebooks/notebook/work_terayama/yjupyterhub/work/.log/20230720/20230720-200055-0043.log",
      "/notebooks/notebook/work_terayama/yjupyterhub/work/.log/20230720/20230720-200514-0469.log",
      "/notebooks/notebook/work_terayama/yjupyterhub/work/.log/20230720/20230720-215948-0361.log",
      "/notebooks/notebook/work_terayama/yjupyterhub/work/.log/20230720/20230720-222956-0999.log",
      "/notebooks/notebook/work_terayama/yjupyterhub/work/.log/20230721/20230721-112610-0454.log",
      "/notebooks/notebook/work_terayama/yjupyterhub/work/.log/20230721/20230721-131000-0866.log",
      "/notebooks/notebook/work_terayama/yjupyterhub/work/.log/20230721/20230721-141517-0064.log",
      "/notebooks/notebook/work_terayama/yjupyterhub/work/.log/20230727/20230727-141939-0168.log",
      "/notebooks/notebook/work_terayama/yjupyterhub/work/.log/20230801/20230801-153335-0846.log"
     ]
    },
    "scrolled": true
   },
   "outputs": [],
   "source": [
    "!ansible-playbook -l {ugroup_name} playbooks/setup-jupyter-notebook.yml"
   ]
  },
  {
   "cell_type": "markdown",
   "metadata": {
    "lc_cell_meme": {
     "current": "5c08fdb2-163a-11ee-987e-0242ac110002-2-792c-4f8e",
     "history": [
      {
       "current": "5c08fdb2-163a-11ee-987e-0242ac110002-1-792c",
       "next": "5c08fe48-163a-11ee-987e-0242ac110002",
       "previous": "5c08fd1c-163a-11ee-987e-0242ac110002"
      },
      {
       "current": "5c08fdb2-163a-11ee-987e-0242ac110002-1-792c",
       "next": "5c08fe48-163a-11ee-987e-0242ac110002-1-ca1f",
       "previous": "5c08fd1c-163a-11ee-987e-0242ac110002-1-17d9"
      },
      {
       "current": "5c08fdb2-163a-11ee-987e-0242ac110002-2-792c-4f8e",
       "next": "5c08fe48-163a-11ee-987e-0242ac110002-1-ca1f",
       "previous": "5c08f308-163a-11ee-987e-0242ac110002-2-4f84-cb83"
      }
     ],
     "next": "5c08fe48-163a-11ee-987e-0242ac110002-2-ca1f-e323",
     "previous": "5c08f308-163a-11ee-987e-0242ac110002-3-4f84-cb83-8867"
    }
   },
   "source": [
    "各VCノードのコンテナイメージ一覧を確認します。"
   ]
  },
  {
   "cell_type": "code",
   "execution_count": null,
   "metadata": {
    "lc_cell_meme": {
     "current": "5c08fe48-163a-11ee-987e-0242ac110002-2-ca1f-e323",
     "history": [
      {
       "current": "5c08fe48-163a-11ee-987e-0242ac110002-1-ca1f",
       "next": "5c08fede-163a-11ee-987e-0242ac110002",
       "previous": "5c08fdb2-163a-11ee-987e-0242ac110002"
      },
      {
       "current": "5c08fe48-163a-11ee-987e-0242ac110002-2-ca1f-e323",
       "next": "5c08fede-163a-11ee-987e-0242ac110002-1-0407",
       "previous": "5c08fdb2-163a-11ee-987e-0242ac110002-1-792c"
      }
     ],
     "next": "5c08fede-163a-11ee-987e-0242ac110002-2-0407-cd76",
     "previous": "5c08fdb2-163a-11ee-987e-0242ac110002-2-792c-4f8e"
    },
    "lc_wrapper": {
     "log_history": [
      "/notebooks/notebook/work_terayama/yjupyterhub/work/.log/20230629/20230629-190335-0210.log",
      "/notebooks/notebook/work_terayama/yjupyterhub/work/.log/20230629/20230629-190359-0897.log",
      "/notebooks/notebook/work_terayama/yjupyterhub/work/.log/20230630/20230630-194256-0409.log",
      "/notebooks/notebook/work_terayama/yjupyterhub/work/.log/20230704/20230704-121153-0494.log",
      "/notebooks/notebook/work_terayama/yjupyterhub/work/.log/20230719/20230719-161547-0265.log",
      "/notebooks/notebook/work_terayama/yjupyterhub/work/.log/20230721/20230721-112655-0716.log",
      "/notebooks/notebook/work_terayama/yjupyterhub/work/.log/20230727/20230727-152403-0782.log",
      "/notebooks/notebook/work_terayama/yjupyterhub/work/.log/20230801/20230801-164542-0905.log",
      "/notebooks/notebook/work_terayama/yjupyterhub/work/.log/20230801/20230801-180811-0711.log"
     ]
    },
    "pinned_outputs": []
   },
   "outputs": [],
   "source": [
    "!ansible {ugroup_name} -m shell -a 'docker images | \\\n",
    "    grep -e \"{{{{singleuser_image_no_tag}}}}\"'"
   ]
  },
  {
   "cell_type": "markdown",
   "metadata": {
    "lc_cell_meme": {
     "current": "5c08fede-163a-11ee-987e-0242ac110002-2-0407-cd76",
     "history": [
      {
       "current": "5c08fede-163a-11ee-987e-0242ac110002-1-0407",
       "next": "5c08ff74-163a-11ee-987e-0242ac110002",
       "previous": "5c08fe48-163a-11ee-987e-0242ac110002"
      },
      {
       "current": "5c08fede-163a-11ee-987e-0242ac110002-2-0407-cd76",
       "next": "5c08ff74-163a-11ee-987e-0242ac110002-1-cb05",
       "previous": "5c08fe48-163a-11ee-987e-0242ac110002-1-ca1f"
      }
     ],
     "next": "5c08ff74-163a-11ee-987e-0242ac110002-2-cb05-42d2",
     "previous": "5c08fe48-163a-11ee-987e-0242ac110002-2-ca1f-e323"
    }
   },
   "source": [
    "## コンテナの起動"
   ]
  },
  {
   "cell_type": "markdown",
   "metadata": {
    "lc_cell_meme": {
     "current": "5c08ff74-163a-11ee-987e-0242ac110002-2-cb05-42d2",
     "history": [
      {
       "current": "5c08ff74-163a-11ee-987e-0242ac110002-1-cb05",
       "next": "5c09003c-163a-11ee-987e-0242ac110002",
       "previous": "5c08fede-163a-11ee-987e-0242ac110002"
      },
      {
       "current": "5c08ff74-163a-11ee-987e-0242ac110002-2-cb05-42d2",
       "next": "5c09003c-163a-11ee-987e-0242ac110002-1-812f",
       "previous": "5c08fede-163a-11ee-987e-0242ac110002-1-0407"
      }
     ],
     "next": "5c09003c-163a-11ee-987e-0242ac110002-2-812f-1198",
     "previous": "5c08fede-163a-11ee-987e-0242ac110002-2-0407-cd76"
    }
   },
   "source": [
    "### docker-compose.yml の配置"
   ]
  },
  {
   "cell_type": "markdown",
   "metadata": {
    "lc_cell_meme": {
     "current": "5c09003c-163a-11ee-987e-0242ac110002-2-812f-1198",
     "history": [
      {
       "current": "5c09003c-163a-11ee-987e-0242ac110002-1-812f",
       "next": "5c0900dc-163a-11ee-987e-0242ac110002",
       "previous": "5c08ff74-163a-11ee-987e-0242ac110002"
      },
      {
       "current": "5c09003c-163a-11ee-987e-0242ac110002-2-812f-1198",
       "next": "5c0900dc-163a-11ee-987e-0242ac110002-1-660b",
       "previous": "5c08ff74-163a-11ee-987e-0242ac110002-1-cb05"
      }
     ],
     "next": "5c0900dc-163a-11ee-987e-0242ac110002-2-660b-c3fd",
     "previous": "5c08ff74-163a-11ee-987e-0242ac110002-2-cb05-42d2"
    }
   },
   "source": [
    "複数のコンテナに関する設定をまとめて扱うために `docker-compose.yml` を利用します。\n",
    "\n",
    "ここまでに指定されたパラメータに応じた`docker-compose.yml`,`jupyterhub_config.ini`,`default.conf`を生成し、構築環境に配置します。"
   ]
  },
  {
   "cell_type": "markdown",
   "metadata": {
    "lc_cell_meme": {
     "current": "5c0900dc-163a-11ee-987e-0242ac110002-2-660b-c3fd",
     "history": [
      {
       "current": "5c0900dc-163a-11ee-987e-0242ac110002-1-660b",
       "next": "5c09017c-163a-11ee-987e-0242ac110002",
       "previous": "5c09003c-163a-11ee-987e-0242ac110002"
      },
      {
       "current": "5c0900dc-163a-11ee-987e-0242ac110002-2-660b-c3fd",
       "next": "5c09017c-163a-11ee-987e-0242ac110002-1-e7a9",
       "previous": "5c09003c-163a-11ee-987e-0242ac110002-1-812f"
      }
     ],
     "next": "5c09017c-163a-11ee-987e-0242ac110002-2-e7a9-8267",
     "previous": "5c09003c-163a-11ee-987e-0242ac110002-2-812f-1198"
    }
   },
   "source": [
    "まずは、チェックモードで確認を行います。"
   ]
  },
  {
   "cell_type": "code",
   "execution_count": null,
   "metadata": {
    "lc_cell_meme": {
     "current": "5c09017c-163a-11ee-987e-0242ac110002-2-e7a9-8267",
     "history": [
      {
       "current": "5c09017c-163a-11ee-987e-0242ac110002-1-e7a9",
       "next": "5c09021c-163a-11ee-987e-0242ac110002",
       "previous": "5c0900dc-163a-11ee-987e-0242ac110002"
      },
      {
       "current": "5c09017c-163a-11ee-987e-0242ac110002-2-e7a9-8267",
       "next": "5c09021c-163a-11ee-987e-0242ac110002-1-99e8",
       "previous": "5c0900dc-163a-11ee-987e-0242ac110002-1-660b"
      }
     ],
     "next": "5c09021c-163a-11ee-987e-0242ac110002-2-99e8-c287",
     "previous": "5c0900dc-163a-11ee-987e-0242ac110002-2-660b-c3fd"
    },
    "lc_wrapper": {
     "log_history": [
      "/notebooks/notebook/work_terayama/yjupyterhub/work/.log/20230629/20230629-190440-0792.log",
      "/notebooks/notebook/work_terayama/yjupyterhub/work/.log/20230629/20230629-190703-0194.log",
      "/notebooks/notebook/work_terayama/yjupyterhub/work/.log/20230629/20230629-190844-0950.log",
      "/notebooks/notebook/work_terayama/yjupyterhub/work/.log/20230629/20230629-191011-0392.log",
      "/notebooks/notebook/work_terayama/yjupyterhub/work/.log/20230629/20230629-191111-0523.log",
      "/notebooks/notebook/work_terayama/yjupyterhub/work/.log/20230629/20230629-191125-0837.log",
      "/notebooks/notebook/work_terayama/yjupyterhub/work/.log/20230629/20230629-191159-0804.log",
      "/notebooks/notebook/work_terayama/yjupyterhub/work/.log/20230629/20230629-193908-0348.log",
      "/notebooks/notebook/work_terayama/yjupyterhub/work/.log/20230630/20230630-194316-0872.log",
      "/notebooks/notebook/work_terayama/yjupyterhub/work/.log/20230704/20230704-121206-0916.log",
      "/notebooks/notebook/work_terayama/yjupyterhub/work/.log/20230719/20230719-161558-0652.log",
      "/notebooks/notebook/work_terayama/yjupyterhub/work/.log/20230721/20230721-112718-0199.log",
      "/notebooks/notebook/work_terayama/yjupyterhub/work/.log/20230727/20230727-152436-0695.log",
      "/notebooks/notebook/work_terayama/yjupyterhub/work/.log/20230727/20230727-152710-0193.log",
      "/notebooks/notebook/work_terayama/yjupyterhub/work/.log/20230801/20230801-164811-0613.log",
      "/notebooks/notebook/work_terayama/yjupyterhub/work/.log/20230801/20230801-165016-0203.log",
      "/notebooks/notebook/work_terayama/yjupyterhub/work/.log/20230801/20230801-165319-0069.log"
     ]
    },
    "scrolled": true
   },
   "outputs": [],
   "source": [
    "!ansible {target_hub} -CDv -m template \\\n",
    "    -a 'src=template/jupyterhub/docker-compose.yml dest={{{{base_dir}}}}/jupyterhub backup=yes'\n",
    "!ansible {target_hub} -CDv -m template \\\n",
    "    -a 'src=template/jupyterhub/jupyterhub/jupyterhub_config.ini dest={{{{jupyterhub_dir}}}} backup=yes'\n",
    "!ansible {target_hub} -CDv -m template \\\n",
    "    -a 'src=template/jupyterhub/nginx/default.conf dest={{{{base_dir}}}}/jupyterhub/nginx backup=yes'"
   ]
  },
  {
   "cell_type": "markdown",
   "metadata": {
    "lc_cell_meme": {
     "current": "5c09021c-163a-11ee-987e-0242ac110002-2-99e8-c287",
     "history": [
      {
       "current": "5c09021c-163a-11ee-987e-0242ac110002-1-99e8",
       "next": "5c0902f8-163a-11ee-987e-0242ac110002",
       "previous": "5c09017c-163a-11ee-987e-0242ac110002"
      },
      {
       "current": "5c09021c-163a-11ee-987e-0242ac110002-2-99e8-c287",
       "next": "5c0902f8-163a-11ee-987e-0242ac110002-1-fe00",
       "previous": "5c09017c-163a-11ee-987e-0242ac110002-1-e7a9"
      }
     ],
     "next": "5c0902f8-163a-11ee-987e-0242ac110002-2-fe00-3ffd",
     "previous": "5c09017c-163a-11ee-987e-0242ac110002-2-e7a9-8267"
    }
   },
   "source": [
    "実際に各ファイルの配置を行います。"
   ]
  },
  {
   "cell_type": "code",
   "execution_count": null,
   "metadata": {
    "lc_cell_meme": {
     "current": "5c0902f8-163a-11ee-987e-0242ac110002-2-fe00-3ffd",
     "history": [
      {
       "current": "5c0902f8-163a-11ee-987e-0242ac110002-1-fe00",
       "next": "5c09038e-163a-11ee-987e-0242ac110002",
       "previous": "5c09021c-163a-11ee-987e-0242ac110002"
      },
      {
       "current": "5c0902f8-163a-11ee-987e-0242ac110002-1-fe00",
       "next": "5c09038e-163a-11ee-987e-0242ac110002-1-8c44",
       "previous": "5c09021c-163a-11ee-987e-0242ac110002-1-99e8"
      },
      {
       "current": "5c0902f8-163a-11ee-987e-0242ac110002-1-fe00",
       "next": "8d659d34-2c47-11ee-987e-0242ac110002",
       "previous": "5c09021c-163a-11ee-987e-0242ac110002-1-99e8"
      },
      {
       "current": "5c0902f8-163a-11ee-987e-0242ac110002-2-fe00-3ffd",
       "next": "5c09038e-163a-11ee-987e-0242ac110002-1-8c44",
       "previous": "5c09021c-163a-11ee-987e-0242ac110002-1-99e8"
      }
     ],
     "next": "5c09038e-163a-11ee-987e-0242ac110002-2-8c44-9e11",
     "previous": "5c09021c-163a-11ee-987e-0242ac110002-2-99e8-c287"
    },
    "lc_wrapper": {
     "log_history": [
      "/notebooks/notebook/work_terayama/yjupyterhub/work/.log/20230629/20230629-191220-0709.log",
      "/notebooks/notebook/work_terayama/yjupyterhub/work/.log/20230629/20230629-191528-0702.log",
      "/notebooks/notebook/work_terayama/yjupyterhub/work/.log/20230629/20230629-192343-0884.log",
      "/notebooks/notebook/work_terayama/yjupyterhub/work/.log/20230629/20230629-193931-0404.log",
      "/notebooks/notebook/work_terayama/yjupyterhub/work/.log/20230629/20230629-194047-0817.log",
      "/notebooks/notebook/work_terayama/yjupyterhub/work/.log/20230629/20230629-200659-0772.log",
      "/notebooks/notebook/work_terayama/yjupyterhub/work/.log/20230630/20230630-194323-0571.log",
      "/notebooks/notebook/work_terayama/yjupyterhub/work/.log/20230704/20230704-121218-0535.log",
      "/notebooks/notebook/work_terayama/yjupyterhub/work/.log/20230719/20230719-161611-0771.log",
      "/notebooks/notebook/work_terayama/yjupyterhub/work/.log/20230721/20230721-112730-0089.log",
      "/notebooks/notebook/work_terayama/yjupyterhub/work/.log/20230727/20230727-152722-0951.log",
      "/notebooks/notebook/work_terayama/yjupyterhub/work/.log/20230727/20230727-173805-0534.log",
      "/notebooks/notebook/work_terayama/yjupyterhub/work/.log/20230727/20230727-174305-0668.log",
      "/notebooks/notebook/work_terayama/yjupyterhub/work/.log/20230728/20230728-133541-0414.log",
      "/notebooks/notebook/work_terayama/yjupyterhub/work/.log/20230801/20230801-165347-0221.log",
      "/notebooks/notebook/work_terayama/yjupyterhub/work/.log/20230801/20230801-165801-0412.log",
      "/notebooks/notebook/work_terayama/yjupyterhub/work/.log/20230801/20230801-170353-0412.log",
      "/notebooks/notebook/work_terayama/yjupyterhub/work/.log/20230801/20230801-172918-0092.log",
      "/notebooks/notebook/work_terayama/yjupyterhub/work/.log/20230801/20230801-173428-0053.log",
      "/notebooks/notebook/work_terayama/yjupyterhub/work/.log/20230801/20230801-181313-0185.log"
     ]
    },
    "scrolled": true
   },
   "outputs": [],
   "source": [
    "!ansible {target_hub} -Dv -m template \\\n",
    "    -a 'src=template/jupyterhub/docker-compose.yml dest={{{{base_dir}}}}/jupyterhub backup=yes'\n",
    "!ansible {target_hub} -Dv -m template \\\n",
    "    -a 'src=template/jupyterhub/jupyterhub/jupyterhub_config.ini dest={{{{jupyterhub_dir}}}} backup=yes'\n",
    "!ansible {target_hub} -Dv -m template \\\n",
    "    -a 'src=template/jupyterhub/nginx/default.conf dest={{{{base_dir}}}}/jupyterhub/nginx backup=yes'"
   ]
  },
  {
   "cell_type": "markdown",
   "metadata": {
    "lc_cell_meme": {
     "current": "5c09038e-163a-11ee-987e-0242ac110002-2-8c44-9e11",
     "history": [
      {
       "current": "5c09038e-163a-11ee-987e-0242ac110002-1-8c44",
       "next": "5c090456-163a-11ee-987e-0242ac110002",
       "previous": "5c0902f8-163a-11ee-987e-0242ac110002"
      },
      {
       "current": "5c09038e-163a-11ee-987e-0242ac110002-1-8c44",
       "next": "5c090456-163a-11ee-987e-0242ac110002-1-c972",
       "previous": "5c0902f8-163a-11ee-987e-0242ac110002-1-fe00"
      },
      {
       "current": "5c09038e-163a-11ee-987e-0242ac110002-1-8c44",
       "next": "5c090456-163a-11ee-987e-0242ac110002-1-c972",
       "previous": "8d659d34-2c47-11ee-987e-0242ac110002"
      },
      {
       "current": "5c09038e-163a-11ee-987e-0242ac110002-2-8c44-9e11",
       "next": "5c090456-163a-11ee-987e-0242ac110002-1-c972",
       "previous": "5c0902f8-163a-11ee-987e-0242ac110002-1-fe00"
      }
     ],
     "next": "5c090456-163a-11ee-987e-0242ac110002-2-c972-54a4",
     "previous": "5c0902f8-163a-11ee-987e-0242ac110002-2-fe00-3ffd"
    }
   },
   "source": [
    "### コンテナの起動\n",
    "\n",
    "コンテナを起動します。"
   ]
  },
  {
   "cell_type": "code",
   "execution_count": null,
   "metadata": {
    "lc_cell_meme": {
     "current": "5c090456-163a-11ee-987e-0242ac110002-2-c972-54a4",
     "history": [
      {
       "current": "5c090456-163a-11ee-987e-0242ac110002-1-c972",
       "next": "5c090500-163a-11ee-987e-0242ac110002",
       "previous": "5c09038e-163a-11ee-987e-0242ac110002"
      },
      {
       "current": "5c090456-163a-11ee-987e-0242ac110002-2-c972-54a4",
       "next": "5c090500-163a-11ee-987e-0242ac110002-1-3286",
       "previous": "5c09038e-163a-11ee-987e-0242ac110002-1-8c44"
      }
     ],
     "next": "5c090500-163a-11ee-987e-0242ac110002-2-3286-129b",
     "previous": "5c09038e-163a-11ee-987e-0242ac110002-2-8c44-9e11"
    },
    "lc_wrapper": {
     "log_history": [
      "/notebooks/notebook/work_terayama/yjupyterhub/work/.log/20230629/20230629-191559-0951.log",
      "/notebooks/notebook/work_terayama/yjupyterhub/work/.log/20230629/20230629-192356-0063.log",
      "/notebooks/notebook/work_terayama/yjupyterhub/work/.log/20230629/20230629-194059-0732.log",
      "/notebooks/notebook/work_terayama/yjupyterhub/work/.log/20230629/20230629-200711-0148.log",
      "/notebooks/notebook/work_terayama/yjupyterhub/work/.log/20230630/20230630-194333-0234.log",
      "/notebooks/notebook/work_terayama/yjupyterhub/work/.log/20230704/20230704-121231-0935.log",
      "/notebooks/notebook/work_terayama/yjupyterhub/work/.log/20230719/20230719-161941-0896.log",
      "/notebooks/notebook/work_terayama/yjupyterhub/work/.log/20230721/20230721-112741-0556.log",
      "/notebooks/notebook/work_terayama/yjupyterhub/work/.log/20230727/20230727-152736-0667.log",
      "/notebooks/notebook/work_terayama/yjupyterhub/work/.log/20230727/20230727-173320-0219.log",
      "/notebooks/notebook/work_terayama/yjupyterhub/work/.log/20230727/20230727-173422-0650.log",
      "/notebooks/notebook/work_terayama/yjupyterhub/work/.log/20230727/20230727-173955-0249.log",
      "/notebooks/notebook/work_terayama/yjupyterhub/work/.log/20230801/20230801-165425-0912.log",
      "/notebooks/notebook/work_terayama/yjupyterhub/work/.log/20230801/20230801-170619-0419.log"
     ]
    }
   },
   "outputs": [],
   "source": [
    "!ansible {target_hub} -a 'chdir={{{{base_dir}}}}/jupyterhub \\\n",
    "    docker stack deploy -c docker-compose.yml {{{{ugroup_name}}}}'"
   ]
  },
  {
   "cell_type": "markdown",
   "metadata": {
    "lc_cell_meme": {
     "current": "5c090500-163a-11ee-987e-0242ac110002-2-3286-129b",
     "history": [
      {
       "current": "5c090500-163a-11ee-987e-0242ac110002-1-3286",
       "next": "5c090596-163a-11ee-987e-0242ac110002",
       "previous": "5c090456-163a-11ee-987e-0242ac110002"
      },
      {
       "current": "5c090500-163a-11ee-987e-0242ac110002-2-3286-129b",
       "next": "5c090596-163a-11ee-987e-0242ac110002-1-db76",
       "previous": "5c090456-163a-11ee-987e-0242ac110002-1-c972"
      }
     ],
     "next": "5c090596-163a-11ee-987e-0242ac110002-2-db76-9935",
     "previous": "5c090456-163a-11ee-987e-0242ac110002-2-c972-54a4"
    }
   },
   "source": [
    "コンテナの起動状態を確認します。"
   ]
  },
  {
   "cell_type": "code",
   "execution_count": null,
   "metadata": {
    "lc_cell_meme": {
     "current": "5c090596-163a-11ee-987e-0242ac110002-2-db76-9935",
     "history": [
      {
       "current": "5c090596-163a-11ee-987e-0242ac110002-1-db76",
       "next": "5c09062c-163a-11ee-987e-0242ac110002",
       "previous": "5c090500-163a-11ee-987e-0242ac110002"
      },
      {
       "current": "5c090596-163a-11ee-987e-0242ac110002-2-db76-9935",
       "next": "5c09062c-163a-11ee-987e-0242ac110002-1-67e6",
       "previous": "5c090500-163a-11ee-987e-0242ac110002-1-3286"
      },
      {
       "current": "5c090596-163a-11ee-987e-0242ac110002-2-db76-9935",
       "next": "5c09062c-163a-11ee-987e-0242ac110002-2-67e6-d9dc",
       "previous": "5c090500-163a-11ee-987e-0242ac110002-2-3286-129b"
      }
     ],
     "next": "5c09088e-163a-11ee-987e-0242ac110002-2-f0a4-5f11",
     "previous": "5c090500-163a-11ee-987e-0242ac110002-2-3286-129b"
    },
    "lc_wrapper": {
     "log_history": [
      "/notebooks/notebook/work_terayama/yjupyterhub/work/.log/20230629/20230629-191621-0656.log",
      "/notebooks/notebook/work_terayama/yjupyterhub/work/.log/20230629/20230629-194209-0280.log",
      "/notebooks/notebook/work_terayama/yjupyterhub/work/.log/20230630/20230630-194732-0727.log",
      "/notebooks/notebook/work_terayama/yjupyterhub/work/.log/20230704/20230704-121353-0056.log",
      "/notebooks/notebook/work_terayama/yjupyterhub/work/.log/20230719/20230719-162243-0715.log"
     ]
    }
   },
   "outputs": [],
   "source": [
    "!ansible {target_hub} -a 'docker stack ps {{{{ugroup_name}}}}'"
   ]
  },
  {
   "cell_type": "markdown",
   "metadata": {
    "lc_cell_meme": {
     "current": "5c09088e-163a-11ee-987e-0242ac110002-2-f0a4-5f11",
     "history": [
      {
       "current": "5c09088e-163a-11ee-987e-0242ac110002-1-f0a4",
       "next": "5c090924-163a-11ee-987e-0242ac110002",
       "previous": "5c0907f8-163a-11ee-987e-0242ac110002"
      },
      {
       "current": "5c09088e-163a-11ee-987e-0242ac110002-2-f0a4-5f11",
       "next": "5c090924-163a-11ee-987e-0242ac110002-1-1d21",
       "previous": "5c0907f8-163a-11ee-987e-0242ac110002-1-bdba"
      },
      {
       "current": "5c09088e-163a-11ee-987e-0242ac110002-2-f0a4-5f11",
       "next": "5c090924-163a-11ee-987e-0242ac110002-2-1d21-0be3",
       "previous": "5c0907f8-163a-11ee-987e-0242ac110002-2-bdba-564f"
      }
     ],
     "next": "5c090924-163a-11ee-987e-0242ac110002-2-1d21-0be3",
     "previous": "5c090596-163a-11ee-987e-0242ac110002-2-db76-9935"
    }
   },
   "source": [
    "`MariaDB` コンテナのログを表示してみます。"
   ]
  },
  {
   "cell_type": "code",
   "execution_count": null,
   "metadata": {
    "lc_cell_meme": {
     "current": "5c090924-163a-11ee-987e-0242ac110002-2-1d21-0be3",
     "history": [
      {
       "current": "5c090924-163a-11ee-987e-0242ac110002-1-1d21",
       "next": "5c0909ba-163a-11ee-987e-0242ac110002",
       "previous": "5c09088e-163a-11ee-987e-0242ac110002"
      },
      {
       "current": "5c090924-163a-11ee-987e-0242ac110002-2-1d21-0be3",
       "next": "5c0909ba-163a-11ee-987e-0242ac110002-1-d899",
       "previous": "5c09088e-163a-11ee-987e-0242ac110002-1-f0a4"
      }
     ],
     "next": "5c0909ba-163a-11ee-987e-0242ac110002-2-d899-f5d7",
     "previous": "5c09088e-163a-11ee-987e-0242ac110002-2-f0a4-5f11"
    },
    "scrolled": true
   },
   "outputs": [],
   "source": [
    "!ansible {target_hub} -a 'docker service logs {{{{ugroup_name}}}}_mariadb'"
   ]
  },
  {
   "cell_type": "markdown",
   "metadata": {
    "lc_cell_meme": {
     "current": "5c0909ba-163a-11ee-987e-0242ac110002-2-d899-f5d7",
     "history": [
      {
       "current": "5c0909ba-163a-11ee-987e-0242ac110002-1-d899",
       "next": "5c090a5a-163a-11ee-987e-0242ac110002",
       "previous": "5c090924-163a-11ee-987e-0242ac110002"
      },
      {
       "current": "5c0909ba-163a-11ee-987e-0242ac110002-2-d899-f5d7",
       "next": "5c090a5a-163a-11ee-987e-0242ac110002-1-8021",
       "previous": "5c090924-163a-11ee-987e-0242ac110002-1-1d21"
      }
     ],
     "next": "5c090a5a-163a-11ee-987e-0242ac110002-2-8021-add4",
     "previous": "5c090924-163a-11ee-987e-0242ac110002-2-1d21-0be3"
    }
   },
   "source": [
    "`jupyterhub` コンテナのログを表示してみます。\n",
    "\n",
    "> PostgreSQLに接続できないなどのエラーが表示されていないことを確認してください。"
   ]
  },
  {
   "cell_type": "code",
   "execution_count": null,
   "metadata": {
    "lc_cell_meme": {
     "current": "5c090a5a-163a-11ee-987e-0242ac110002-2-8021-add4",
     "history": [
      {
       "current": "5c090a5a-163a-11ee-987e-0242ac110002-1-8021",
       "next": "5c090afa-163a-11ee-987e-0242ac110002",
       "previous": "5c0909ba-163a-11ee-987e-0242ac110002"
      },
      {
       "current": "5c090a5a-163a-11ee-987e-0242ac110002-2-8021-add4",
       "next": "5c090afa-163a-11ee-987e-0242ac110002-1-bb13",
       "previous": "5c0909ba-163a-11ee-987e-0242ac110002-1-d899"
      }
     ],
     "next": "5c090afa-163a-11ee-987e-0242ac110002-2-bb13-c5f8",
     "previous": "5c0909ba-163a-11ee-987e-0242ac110002-2-d899-f5d7"
    },
    "scrolled": true
   },
   "outputs": [],
   "source": [
    "!ansible {target_hub} -a 'docker service logs {{{{ugroup_name}}}}_hub'"
   ]
  },
  {
   "cell_type": "markdown",
   "metadata": {
    "lc_cell_meme": {
     "current": "5c090afa-163a-11ee-987e-0242ac110002-2-bb13-c5f8",
     "history": [
      {
       "current": "5c090afa-163a-11ee-987e-0242ac110002-1-bb13",
       "next": "5c090b90-163a-11ee-987e-0242ac110002",
       "previous": "5c090a5a-163a-11ee-987e-0242ac110002"
      },
      {
       "current": "5c090afa-163a-11ee-987e-0242ac110002-2-bb13-c5f8",
       "next": "5c090b90-163a-11ee-987e-0242ac110002-1-48e2",
       "previous": "5c090a5a-163a-11ee-987e-0242ac110002-1-8021"
      }
     ],
     "next": "5c090b90-163a-11ee-987e-0242ac110002-2-48e2-0d58",
     "previous": "5c090a5a-163a-11ee-987e-0242ac110002-2-8021-add4"
    }
   },
   "source": [
    "`Nginx` コンテナのログを表示してみます。\n",
    "\n",
    "> 証明書設定に誤りがあるなどのエラーが表示されていないことを確認してください。"
   ]
  },
  {
   "cell_type": "code",
   "execution_count": null,
   "metadata": {
    "lc_cell_meme": {
     "current": "5c090b90-163a-11ee-987e-0242ac110002-2-48e2-0d58",
     "history": [
      {
       "current": "5c090b90-163a-11ee-987e-0242ac110002-1-48e2",
       "next": "5c090c26-163a-11ee-987e-0242ac110002",
       "previous": "5c090afa-163a-11ee-987e-0242ac110002"
      },
      {
       "current": "5c090b90-163a-11ee-987e-0242ac110002-1-48e2",
       "next": "5c090c26-163a-11ee-987e-0242ac110002-1-27cf",
       "previous": "5c090afa-163a-11ee-987e-0242ac110002-1-bb13"
      },
      {
       "current": "5c090b90-163a-11ee-987e-0242ac110002-2-48e2-0d58",
       "next": "5c093516-163a-11ee-987e-0242ac110002-1-cc17",
       "previous": "5c090afa-163a-11ee-987e-0242ac110002-1-bb13"
      }
     ],
     "next": "5c093516-163a-11ee-987e-0242ac110002-2-cc17-5b85",
     "previous": "5c090afa-163a-11ee-987e-0242ac110002-2-bb13-c5f8"
    },
    "scrolled": true
   },
   "outputs": [],
   "source": [
    "!ansible {target_hub} -a 'docker service logs {{{{ugroup_name}}}}_proxy'"
   ]
  },
  {
   "cell_type": "markdown",
   "metadata": {
    "lc_cell_meme": {
     "current": "5c093516-163a-11ee-987e-0242ac110002-2-cc17-5b85",
     "history": [
      {
       "current": "5c093516-163a-11ee-987e-0242ac110002-1-cc17",
       "next": "5c0935ac-163a-11ee-987e-0242ac110002",
       "previous": "5c093476-163a-11ee-987e-0242ac110002"
      },
      {
       "current": "5c093516-163a-11ee-987e-0242ac110002-1-cc17",
       "next": "5c0935ac-163a-11ee-987e-0242ac110002-1-efc9",
       "previous": "5c093476-163a-11ee-987e-0242ac110002-1-bce1"
      },
      {
       "current": "5c093516-163a-11ee-987e-0242ac110002-2-cc17-5b85",
       "next": "5c0935ac-163a-11ee-987e-0242ac110002-1-efc9",
       "previous": "5c090b90-163a-11ee-987e-0242ac110002-1-48e2"
      }
     ],
     "next": "5c0935ac-163a-11ee-987e-0242ac110002-2-efc9-74d6",
     "previous": "5c090b90-163a-11ee-987e-0242ac110002-2-48e2-0d58"
    }
   },
   "source": [
    "## Moodleの外部ツールを設定する\n",
    "\n",
    "moodleの外部ツール設定画面にて、Jupyterhubを外部ツールとして登録します。"
   ]
  },
  {
   "cell_type": "markdown",
   "metadata": {
    "lc_cell_meme": {
     "current": "5c0935ac-163a-11ee-987e-0242ac110002-2-efc9-74d6",
     "history": [
      {
       "current": "5c0935ac-163a-11ee-987e-0242ac110002-1-efc9",
       "next": "5c093642-163a-11ee-987e-0242ac110002",
       "previous": "5c093516-163a-11ee-987e-0242ac110002"
      },
      {
       "current": "5c0935ac-163a-11ee-987e-0242ac110002-2-efc9-74d6",
       "next": "5c093642-163a-11ee-987e-0242ac110002-1-e2df",
       "previous": "5c093516-163a-11ee-987e-0242ac110002-1-cc17"
      }
     ],
     "next": "5c093642-163a-11ee-987e-0242ac110002-2-e2df-e89f",
     "previous": "5c093516-163a-11ee-987e-0242ac110002-2-cc17-5b85"
    }
   },
   "source": [
    "次のセルを実行すると、設定に必要な情報を表示します。\n",
    "\n",
    "それぞれ、下に表示される図を参考に設定してください。"
   ]
  },
  {
   "cell_type": "code",
   "execution_count": null,
   "metadata": {
    "lc_cell_meme": {
     "current": "5c093642-163a-11ee-987e-0242ac110002-2-e2df-e89f",
     "history": [
      {
       "current": "5c093642-163a-11ee-987e-0242ac110002-1-e2df",
       "next": "5c0936d8-163a-11ee-987e-0242ac110002",
       "previous": "5c0935ac-163a-11ee-987e-0242ac110002"
      },
      {
       "current": "5c093642-163a-11ee-987e-0242ac110002-1-e2df",
       "next": "5c0936d8-163a-11ee-987e-0242ac110002-1-80cf",
       "previous": "5c0935ac-163a-11ee-987e-0242ac110002-1-efc9"
      },
      {
       "current": "5c093642-163a-11ee-987e-0242ac110002-2-e2df-e89f",
       "next": "3d53f438-27b2-11ee-987e-0242ac110002",
       "previous": "5c0935ac-163a-11ee-987e-0242ac110002-1-efc9"
      }
     ],
     "next": "3d53f438-27b2-11ee-987e-0242ac110002-1-c4ae",
     "previous": "5c0935ac-163a-11ee-987e-0242ac110002-2-efc9-74d6"
    },
    "lc_wrapper": {
     "log_history": [
      "/notebooks/notebook/work_terayama/yjupyterhub/work/.log/20230721/20230721-192732-0204.log",
      "/notebooks/notebook/work_terayama/yjupyterhub/work/.log/20230721/20230721-192759-0307.log"
     ]
    }
   },
   "outputs": [],
   "source": [
    "print(f'ツールURL: https://{master_fqdn}/hub/lti/launch')\n",
    "print(f'コンシューマーキー: {lti_consumer_key}')\n",
    "print(f'共有シークレット: {lti_secret}')"
   ]
  },
  {
   "cell_type": "markdown",
   "metadata": {
    "lc_cell_meme": {
     "current": "3d53f438-27b2-11ee-987e-0242ac110002-1-c4ae",
     "history": [
      {
       "current": "3d53f438-27b2-11ee-987e-0242ac110002-1-c4ae",
       "next": null,
       "previous": "5c093642-163a-11ee-987e-0242ac110002-1-e2df"
      }
     ],
     "next": null,
     "previous": "5c093642-163a-11ee-987e-0242ac110002-2-e2df-e89f"
    }
   },
   "source": [
    "![<図表示エラー>](images/moodle_tools.png)"
   ]
  }
 ],
 "metadata": {
  "kernelspec": {
   "display_name": "Python 3",
   "language": "python",
   "name": "python3"
  },
  "language_info": {
   "file_extension": ".py",
   "mimetype": "text/x-python",
   "name": "python",
   "nbconvert_exporter": "python",
   "pygments_lexer": "ipython3",
   "version": "3.8.6"
  },
  "lc_notebook_meme": {
   "current": "5c08ad1c-163a-11ee-987e-0242ac110002",
   "lc_server_signature": {
    "current": {
     "notebook_dir": "/notebooks/notebook",
     "notebook_path": "/work_terayama/YamaguchiHub/notebooks",
     "server_url": "https://vcc1045.vcp-handson.org/jupyter/",
     "signature_id": "d34ea786-a99f-11ec-a8e6-0242ac110002"
    },
    "history": [
     {
      "notebook_dir": "/notebooks/notebook",
      "notebook_path": "/work_terayama/yjupyterhub/notebooks",
      "server_url": "https://vcc1045.vcp-handson.org/jupyter/",
      "signature_id": "d34ea786-a99f-11ec-a8e6-0242ac110002"
     },
     {
      "notebook_dir": "/notebooks/notebook",
      "notebook_path": "/work_terayama/yjupyterhub/work",
      "server_url": "https://vcc1045.vcp-handson.org/jupyter/",
      "signature_id": "d34ea786-a99f-11ec-a8e6-0242ac110002"
     }
    ]
   }
  },
  "toc": {
   "base_numbering": 1,
   "nav_menu": {},
   "number_sections": true,
   "sideBar": true,
   "skip_h1_title": true,
   "title_cell": "Table of Contents",
   "title_sidebar": "Contents",
   "toc_cell": false,
   "toc_position": {
    "height": "calc(100% - 180px)",
    "left": "10px",
    "top": "150px",
    "width": "299.867px"
   },
   "toc_section_display": true,
   "toc_window_display": true
  }
 },
 "nbformat": 4,
 "nbformat_minor": 2
}
