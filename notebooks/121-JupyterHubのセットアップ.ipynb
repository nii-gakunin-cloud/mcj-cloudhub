{
 "cells": [
  {
   "cell_type": "markdown",
   "metadata": {},
   "source": [
    "# JupyterHubのセットアップ\n",
    "\n",
    "---\n",
    "\n",
    "VCノードにJupyterHub環境を構築します。\n",
    "\n",
    "具体的には、Jupyterhubシステムの構成要素である、各Dockerコンテナを起動します。  \n",
    "また、single-user notebook serverコンテナイメージの取得・もしくは作成を行います。"
   ]
  },
  {
   "cell_type": "markdown",
   "metadata": {},
   "source": [
    "## 概要\n",
    "\n",
    "このNotebookで構築するJupyterHubの構成要素を以下に示します。\n",
    "\n",
    "![<構成図表示エラー>](images/121/arch-121.png)"
   ]
  },
  {
   "cell_type": "markdown",
   "metadata": {},
   "source": [
    "> このNotebookで構築するJupyterHubではMoodleとの連携を前提としています。"
   ]
  },
  {
   "cell_type": "markdown",
   "metadata": {},
   "source": [
    "### 事前に準備が必要となるものについて\n",
    "\n",
    "このNotebookを実行するにあたって、あらかじめ準備が必要となるものについて以下に記します。\n",
    "\n",
    "* VCノード構築\n",
    "* JupyterHubのサーバ証明書\n",
    "    - JupyterHubではHTTPSによる公開を行うためサーバ証明書とその秘密鍵を準備する必要があります。\n",
    "* Moodleシステム\n",
    "    - 本ノートブックで構築するJupyterhubと、lti1.3を用いた認証連携が可能な外部ツール設定を完了していること。（外部ツール設定時に自動発行されるキーを本ノートブック上で指定するため）\n",
    "        - 未設定の場合は、先に設定を行ってください。\n",
    "        - 設定例として、ノートブック一覧の「021-Moodleの外部ツール設定例（lti1.3&JupyterHub）.ipynb」を参考にしてください。"
   ]
  },
  {
   "cell_type": "markdown",
   "metadata": {},
   "source": [
    "### UnitGroup名\n",
    "\n",
    "JupyterHubの構築環境となるVCPのUnitGroup名を指定します。"
   ]
  },
  {
   "cell_type": "markdown",
   "metadata": {},
   "source": [
    "VCノードを作成時に指定した値を確認するために `group_vars`ファイル名の一覧を表示します。"
   ]
  },
  {
   "cell_type": "code",
   "execution_count": null,
   "metadata": {},
   "outputs": [],
   "source": [
    "!ls -1 group_vars/"
   ]
  },
  {
   "cell_type": "markdown",
   "metadata": {},
   "source": [
    "上のセルの出力結果を参考にして、UnitGroup名を次のセルに指定してください。"
   ]
  },
  {
   "cell_type": "code",
   "execution_count": null,
   "metadata": {
    "tags": [
     "vcp:parameters"
    ]
   },
   "outputs": [],
   "source": [
    "# (例)\n",
    "# ugroup_name = 'JupyterHub'\n",
    "\n",
    "ugroup_name = "
   ]
  },
  {
   "cell_type": "markdown",
   "metadata": {
    "heading_collapsed": true
   },
   "source": [
    "### チェック\n",
    "\n",
    "対象となるVCノードがAnsibleによって操作できることを確認します。"
   ]
  },
  {
   "cell_type": "markdown",
   "metadata": {
    "hidden": true
   },
   "source": [
    "Ansibleの設定ファイルの場所を環境変数に設定しておきます。"
   ]
  },
  {
   "cell_type": "code",
   "execution_count": null,
   "metadata": {
    "hidden": true
   },
   "outputs": [],
   "source": [
    "from pathlib import Path\n",
    "import os\n",
    "\n",
    "cfg_ansible = Path('ansible.cfg')\n",
    "if cfg_ansible.exists():\n",
    "    os.environ['ANSIBLE_CONFIG'] = str(cfg_ansible.resolve())"
   ]
  },
  {
   "cell_type": "markdown",
   "metadata": {
    "hidden": true
   },
   "source": [
    "構築対象となる各VCノードにアクセスできることを確認します。"
   ]
  },
  {
   "cell_type": "code",
   "execution_count": null,
   "metadata": {
    "hidden": true,
    "pinned_outputs": []
   },
   "outputs": [],
   "source": [
    "target_hub = f'{ugroup_name}_manager'\n",
    "\n",
    "!ansible {target_hub} -m ping"
   ]
  },
  {
   "cell_type": "code",
   "execution_count": null,
   "metadata": {
    "hidden": true,
    "pinned_outputs": []
   },
   "outputs": [],
   "source": [
    "target_nodes = f'{ugroup_name}_worker'\n",
    "\n",
    "!ansible {target_nodes} -m ping"
   ]
  },
  {
   "cell_type": "markdown",
   "metadata": {
    "hidden": true
   },
   "source": [
    "UnitGroup名に対応する group_varsファイルが存在していることを確認します。"
   ]
  },
  {
   "cell_type": "code",
   "execution_count": null,
   "metadata": {
    "hidden": true
   },
   "outputs": [],
   "source": [
    "!test -f group_vars/{ugroup_name}"
   ]
  },
  {
   "cell_type": "markdown",
   "metadata": {},
   "source": [
    "## パラメータの設定\n",
    "\n",
    "JupyterHubシステムに関する各種設定項目を指定します。\n",
    "\n",
    "ここで設定された項目はansible変数として保存され、ファイルのmanagerノードへの配置時に各ファイルに反映されます。"
   ]
  },
  {
   "cell_type": "markdown",
   "metadata": {},
   "source": [
    "### 必須設定項目"
   ]
  },
  {
   "cell_type": "markdown",
   "metadata": {},
   "source": [
    "#### パラメータ類"
   ]
  },
  {
   "cell_type": "code",
   "execution_count": null,
   "metadata": {},
   "outputs": [],
   "source": [
    "# lti1.3認証連携情報(moodle等)\n",
    "# lms プラットフォームID (例) 'www.sample.org'\n",
    "lms_platform_id = \n",
    "# lms クライアントID \n",
    "lms_cliend_id = "
   ]
  },
  {
   "cell_type": "markdown",
   "metadata": {},
   "source": [
    "受講生一覧取得方法を設定します。  \n",
    "Moodleのバージョンが4.0.0以上であれば、以下のセルを変更する必要はありません。  \n",
    "Moodleのバージョンが4.0.0未満で、NRPS（Names and Role Provisioning Services）を利用できない場合に、moodleのwebserviceを利用します。（https://tracker.moodle.org/browse/MDL-75279）\n",
    "その場合、`get_course_member_method`には`'moodle_api'`を指定し、Moodleで発行したトークンを`lms_api_token`に指定してください。"
   ]
  },
  {
   "cell_type": "code",
   "execution_count": null,
   "metadata": {},
   "outputs": [],
   "source": [
    "# get_course_member_method = 'moodle_api'\n",
    "get_course_member_method = ''\n",
    "lms_api_token = ''"
   ]
  },
  {
   "cell_type": "markdown",
   "metadata": {},
   "source": [
    "[configurable-http-proxy](https://github.com/jupyterhub/configurable-http-proxy)で使用するトークンを生成します。"
   ]
  },
  {
   "cell_type": "code",
   "execution_count": null,
   "metadata": {},
   "outputs": [],
   "source": [
    "import secrets\n",
    "configproxy_auth_token = secrets.token_hex(32)\n",
    "configproxy_auth_token"
   ]
  },
  {
   "cell_type": "markdown",
   "metadata": {},
   "source": [
    "### 任意設定項目"
   ]
  },
  {
   "cell_type": "markdown",
   "metadata": {},
   "source": [
    "#### 設定用ファイル配置\n",
    "\n",
    "テンプレートとして事前準備したファイルを、現在使用している構築用ワークディレクトリにコピーします。"
   ]
  },
  {
   "cell_type": "code",
   "execution_count": null,
   "metadata": {},
   "outputs": [],
   "source": [
    "!mkdir -p edit\n",
    "!cp -n ./template/jupyterhub/jupyterhub/lms_web_service.py ./edit/\n",
    "!cp -n ./template/jupyterhub/jupyterhub/jupyterhub_config.py ./edit/\n",
    "!cp -n ./template/jupyterhub/jupyterhub/jupyterhub_params.yaml ./edit/"
   ]
  },
  {
   "cell_type": "markdown",
   "metadata": {},
   "source": [
    "#### パラメータ類\n",
    "\n",
    "jupyterhubで使用するDB等の接続情報等を設定します。"
   ]
  },
  {
   "cell_type": "code",
   "execution_count": null,
   "metadata": {
    "pinned_outputs": []
   },
   "outputs": [],
   "source": [
    "# メールアドレスドメイン設定\n",
    "email_domain = 'example.com'\n",
    "\n",
    "# JupyterhubDB接続情報\n",
    "db_user = 'jupyter'\n",
    "db_password = 'PassWordDesu'\n",
    "\n",
    "# Jupyterhub用LDAPサーバ（ローカルLDAP）\n",
    "ldap_admin = 'Manager'\n",
    "ldap_password = 'PassWordDesu'\n",
    "\n",
    "# Jupyterhub 初期設定\n",
    "jupyterhub_admin_users = ['admin']\n",
    "\n",
    "# single-user notebook server コンテナイメージ\n",
    "# 利用可能なイメージ一覧は、template/notebook/image 内のREADMEをご覧ください。\n",
    "singleuser_image = 'mcj-cloudhub-nb:notebook-6.5.4'\n",
    "\n",
    "# 共有ディレクトリパス\n",
    "home_directory_root = '/jupyter'\n",
    "share_directory_root = '/exchange'\n",
    "\n",
    "# ユーザを一意に識別するキー\n",
    "lti_username_key = 'sub'\n",
    "\n",
    "# ユーザのcookieの有効日数(0.25日=6時間)\n",
    "cookie_max_age_days = 0.25\n",
    "\n",
    "# Jupyterhubコンテナイメージ\n",
    "jupyterhub_image = 'mcj-cloudhub:latest'\n",
    "\n",
    "# single-user notebook server コンテナをDocker Swarmのどのノードで起動するか\n",
    "# 「011-VCノード作成」で、worker_nodes(workerノード数)に0を指定した場合、\"manager\"を指定します。\n",
    "# node_role = 'manager'\n",
    "node_role = 'worker'\n",
    "\n",
    "# デフォルトビュー\n",
    "# \"/tree\" を指定すると、デフォルトのUIがNotebookになります。\n",
    "# \"/lab\" を指定すると、デフォルトのUIがlabになります。\n",
    "default_url = \"/tree\"\n",
    "\n",
    "# 各教師がroot権限で、mcj-cloudhubログイン時に実行するスクリプトを作成可能とする場合、Trueを指定してください。\n",
    "enable_custom_setup = False"
   ]
  },
  {
   "cell_type": "markdown",
   "metadata": {},
   "source": [
    "single-user notebook serverコンテナのリソース制限等を設定します。  \n",
    "変更する場合、以下の内容を書き換えてください。  \n",
    "\n",
    "[参考: DockerSpawner API](https://jupyterhub-dockerspawner.readthedocs.io/en/latest/api/index.html)\n",
    "\n",
    "また、idle状態のsingle-user notebook serverコンテナを定期的にシャットダウンするサービスを稼働させるため、idle状態でのタイムアウトの時間設定を変更する場合もこちらで行ってください。デフォルトでは、1分に1回、idle状態かどうかのチェックを行い、600秒＝10分間idle状態が続いているコンテナはシャットダウンするように設定しています。  \n",
    "idle状態のコンテナも起動したままにしたい場合、`cull_server_idle_timeout`の値を0に設定してください。  \n",
    "\n",
    "[参考: jupyterhub-idle-culler](https://github.com/jupyterhub/jupyterhub-idle-culler)"
   ]
  },
  {
   "cell_type": "code",
   "execution_count": null,
   "metadata": {},
   "outputs": [],
   "source": [
    "import yaml\n",
    "from pathlib import Path\n",
    "\n",
    "path = Path('edit/jupyterhub_params.yaml')\n",
    "with path.open() as f:\n",
    "    params = yaml.safe_load(f)\n",
    "\n",
    "params.update({\n",
    "    'resource': {\n",
    "        'groups': {\n",
    "            'student': {\n",
    "                'mem_limit': '1G',\n",
    "                'cpu_limit': 1.0,\n",
    "                'mem_guarantee': 0,\n",
    "                'cpu_guarantee': 0,\n",
    "            },\n",
    "            'teacher': {\n",
    "                'mem_limit': '2G',\n",
    "                'cpu_limit': 1.0,\n",
    "                'mem_guarantee': 0,\n",
    "                'cpu_guarantee': 0,\n",
    "            },\n",
    "        },\n",
    "    },\n",
    "    'cookie_max_age_days': 0.25,\n",
    "    'cull_server': {\n",
    "        'cull_server_idle_timeout': 1800,\n",
    "        'cull_server_every': 60,\n",
    "        'cull_server_max_age': 0,\n",
    "    },\n",
    "})\n",
    "\n",
    "with path.open(mode='w') as f:\n",
    "    yaml.safe_dump(params, stream=f)"
   ]
  },
  {
   "cell_type": "markdown",
   "metadata": {},
   "source": [
    "#### その他Jupyterhubで設定可能な項目\n",
    "\n",
    "その他、Jupyterhubで設定可能な項目は、[Jupyterhub公式ドキュメント](https://jupyterhub.readthedocs.io/en/1.4.2/reference/config-reference.html)等を参照し、`jupyterhub_config.py`を直接編集してください。\n",
    "\n",
    "以下のセルを実行すると、編集対象の`jupyterhub_config.py`の編集画面へのリンクを表示します。"
   ]
  },
  {
   "cell_type": "code",
   "execution_count": null,
   "metadata": {},
   "outputs": [],
   "source": [
    "%run scripts/edit_conf.py\n",
    "import os\n",
    "from pathlib import Path\n",
    "conf = Path('edit').absolute() / 'jupyterhub_config.py'\n",
    "generate_edit_link(conf)"
   ]
  },
  {
   "cell_type": "markdown",
   "metadata": {
    "heading_collapsed": true
   },
   "source": [
    "### オーバーレイネットワークの指定"
   ]
  },
  {
   "cell_type": "markdown",
   "metadata": {
    "hidden": true
   },
   "source": [
    "JupyterHubのコンテナはDocker Swarmのオーバーレイネットワークで実行されます。オーバーレイネットワークに割り当てるサブネットを指定します。\n",
    "\n",
    "> 基本的にはデフォルト値からの変更は不要ですが、VCノードに割り当てられているIPアドレスと範囲が重複している場合は他のサブネットに変更して下さい。"
   ]
  },
  {
   "cell_type": "code",
   "execution_count": null,
   "metadata": {
    "hidden": true
   },
   "outputs": [],
   "source": [
    "# (例)\n",
    "# jupyterhub_backend = '10.1.0.0/20'\n",
    "\n",
    "jupyterhub_backend = '10.1.0.0/20'"
   ]
  },
  {
   "cell_type": "markdown",
   "metadata": {
    "hidden": true
   },
   "source": [
    "指定されたサブネットがVCノードに割り当てられているIPアドレスと重なっていないことをチェックします。次のセルを実行してエラーとならないことを確認してください。"
   ]
  },
  {
   "cell_type": "code",
   "execution_count": null,
   "metadata": {
    "hidden": true,
    "scrolled": true
   },
   "outputs": [],
   "source": [
    "!ansible-playbook -v -e jupyterhub_backend={jupyterhub_backend} -l {ugroup_name} \\\n",
    "    playbooks/check-subnet.yml"
   ]
  },
  {
   "cell_type": "markdown",
   "metadata": {
    "heading_collapsed": true
   },
   "source": [
    "### パラメータの保存\n",
    "\n",
    "ここまで指定したパラメータを ansible の変数として `group_vars`ファイルに保存します。"
   ]
  },
  {
   "cell_type": "code",
   "execution_count": null,
   "metadata": {
    "hidden": true
   },
   "outputs": [],
   "source": [
    "import yaml\n",
    "from pathlib import Path\n",
    "\n",
    "gvars_path = Path(f'group_vars/{ugroup_name}')\n",
    "with gvars_path.open() as f:\n",
    "    gvars = yaml.safe_load(f)\n",
    "\n",
    "if gvars['worker_nodes'] == 0:\n",
    "    node_role = 'manager'\n",
    "\n",
    "\n",
    "# dockerネットワーク\n",
    "gvars.update({\n",
    "    'swarm_network': f'{ugroup_name}-mcj-network',\n",
    "    'jupyterhub_backend': jupyterhub_backend,\n",
    "    'db_user': db_user,\n",
    "    'db_password': db_password,\n",
    "    'email_domain': email_domain,\n",
    "    'jupyterhub_admin_users': jupyterhub_admin_users,\n",
    "    'lms_platform_id': lms_platform_id,\n",
    "    'lms_cliend_id': lms_cliend_id,\n",
    "    'lms_api_token': lms_api_token if 'lms_api_token' in locals() else '',\n",
    "    'get_course_member_method': get_course_member_method if 'get_course_member_method' in locals() else '',\n",
    "    'singleuser_image': singleuser_image.split(':')[0],\n",
    "    'singleuser_image_tag': singleuser_image.split(':')[1],\n",
    "    'ldap_password': ldap_password,\n",
    "    'ldap_admin': ldap_admin,\n",
    "    'home_directory_root': home_directory_root,\n",
    "    'share_directory_root': share_directory_root,\n",
    "    'lti_username_key': lti_username_key,\n",
    "    'cookie_max_age_days': cookie_max_age_days,\n",
    "    'configproxy_auth_token': configproxy_auth_token,\n",
    "    'jupyterhub_image': jupyterhub_image,\n",
    "    'node_role': node_role,\n",
    "    'ldap_admin': ldap_admin,\n",
    "    'default_url': default_url,\n",
    "    'enable_custom_setup': enable_custom_setup,\n",
    "})\n",
    "\n",
    "with gvars_path.open(mode='w') as f:\n",
    "    yaml.safe_dump(gvars, stream=f)"
   ]
  },
  {
   "cell_type": "markdown",
   "metadata": {},
   "source": [
    "## JupyterHubのセットアップ\n",
    "\n",
    "JupyterHubの構成要素となる、各コンテナのセットアップを行います。"
   ]
  },
  {
   "cell_type": "markdown",
   "metadata": {},
   "source": [
    "### Nginx\n",
    "\n",
    "Managerノードに構築する、Nginx コンテナに関するセットアップを行います。"
   ]
  },
  {
   "cell_type": "markdown",
   "metadata": {},
   "source": [
    "#### 証明書の配置\n",
    "\n",
    "Nginxコンテナで使用するサーバ証明書の配置を確認します。"
   ]
  },
  {
   "cell_type": "markdown",
   "metadata": {},
   "source": [
    "サーバ証明書を配置するディレクトリを作成します。"
   ]
  },
  {
   "cell_type": "code",
   "execution_count": null,
   "metadata": {
    "scrolled": true
   },
   "outputs": [],
   "source": [
    "!ansible {target_hub} -b -m file -a \\\n",
    "    'path={{{{base_dir}}}} state=directory owner={{{{ansible_user}}}}'\n",
    "!ansible {target_hub} -b -m file -a \\\n",
    "    'path={{{{base_dir}}}}/certs state=directory owner={{{{ansible_user}}}}'"
   ]
  },
  {
   "cell_type": "markdown",
   "metadata": {},
   "source": [
    "作成したディレクトリ`/srv/jupyterhub/certs`に証明書、秘密鍵を配置してください。出どころなどの情報を必要以上に残さないためにNotebookからの操作ではなく、ターミナルなどから **managerノードに ssh でログインして操作を行ってください**。\n",
    "\n",
    "配置する証明書などのファイル名は以下のようにしてください。\n",
    "\n",
    "* サーバ証明書と中間CA証明書を連結したもの\n",
    "    - `/srv/jupyterhub/certs/fullchain.pem`\n",
    "* 秘密鍵\n",
    "    - `/srv/jupyterhub/certs/privkey.pem`\n",
    "    - パスフレーズを無しにする"
   ]
  },
  {
   "cell_type": "markdown",
   "metadata": {},
   "source": [
    "sshでログインする manager ノードのIPアドレスを確認します。表示されたIPアドレスに対して、ユーザ名`vcp`と「VCノード作成」のNotebookで設定したSSHの秘密鍵を指定することで manager ノードにsshでログインできます。"
   ]
  },
  {
   "cell_type": "code",
   "execution_count": null,
   "metadata": {},
   "outputs": [],
   "source": [
    "!ansible {target_hub} -c local -m debug -a 'var=manager_ipaddress'"
   ]
  },
  {
   "cell_type": "markdown",
   "metadata": {
    "heading_collapsed": true
   },
   "source": [
    "#### 証明書の配置確認\n",
    "\n",
    "証明書の配置後に以下のセルを実行し、正しく配置できていることを確認します。"
   ]
  },
  {
   "cell_type": "markdown",
   "metadata": {
    "hidden": true
   },
   "source": [
    "秘密鍵の内容を表示してみます。"
   ]
  },
  {
   "cell_type": "code",
   "execution_count": null,
   "metadata": {
    "hidden": true,
    "scrolled": true
   },
   "outputs": [],
   "source": [
    "try:\n",
    "    !ansible {target_hub} -a \\\n",
    "        'openssl rsa -noout -text -in  {{{{certs_dir}}}}/privkey.pem'\n",
    "except Exception as e:\n",
    "    # 鍵の形式が異なる場合、正しく配置できていてもエラーになる場合があります。\n",
    "    !ansible {target_hub} -a \\\n",
    "         'openssl ec -in {{{{certs_dir}}}}/privkey.pem -text -noout'"
   ]
  },
  {
   "cell_type": "markdown",
   "metadata": {
    "hidden": true
   },
   "source": [
    "中間CA証明書を連結したサーバ証明書の内容を表示してみます。"
   ]
  },
  {
   "cell_type": "code",
   "execution_count": null,
   "metadata": {
    "hidden": true,
    "scrolled": true
   },
   "outputs": [],
   "source": [
    "!ansible {target_hub} -a \\\n",
    "    'openssl x509 -noout -text -in {{{{certs_dir}}}}/fullchain.pem'"
   ]
  },
  {
   "cell_type": "markdown",
   "metadata": {
    "hidden": true
   },
   "source": [
    "証明書の owner, group などの値を利用環境に合わせて以下のように設定します。\n",
    "\n",
    "* owner: 33\n",
    "* group: 33\n",
    "\n",
    "この設定はコンテナ内では以下のように設定したことに相当します。\n",
    "\n",
    "* owner: `www-data`\n",
    "* group: `www-data`"
   ]
  },
  {
   "cell_type": "code",
   "execution_count": null,
   "metadata": {
    "hidden": true,
    "scrolled": true
   },
   "outputs": [],
   "source": [
    "cert_owner = 33\n",
    "cert_group = 33\n",
    "!ansible {target_hub} -b -m file -a \\\n",
    "    'path={{{{certs_dir}}}} owner={cert_owner} \\\n",
    "    group={cert_group} state=directory'\n",
    "!ansible {target_hub} -b -m file -a \\\n",
    "    'path={{{{certs_dir}}}}/fullchain.pem \\\n",
    "    owner={cert_owner} group={cert_group}'\n",
    "!ansible {target_hub} -b -m file -a \\\n",
    "    'path={{{{certs_dir}}}}/privkey.pem \\\n",
    "    owner={cert_owner} group={cert_group} mode=0600'"
   ]
  },
  {
   "cell_type": "markdown",
   "metadata": {
    "heading_collapsed": true
   },
   "source": [
    "### JupyterHub\n",
    "\n",
    "JupyterHubコンテナに関するセットアップを行います。"
   ]
  },
  {
   "cell_type": "markdown",
   "metadata": {
    "hidden": true
   },
   "source": [
    "#### JupyterHubコンテナに関するファイルを準備する\n",
    "\n",
    "JupyterHubコンテナを実行するために必要となるファイルを準備する Ansible Playbook を実行します。"
   ]
  },
  {
   "cell_type": "markdown",
   "metadata": {
    "hidden": true
   },
   "source": [
    "Playbook では以下の処理を行います。\n",
    "\n",
    "* コンテナイメージのビルド"
   ]
  },
  {
   "cell_type": "markdown",
   "metadata": {
    "hidden": true
   },
   "source": [
    "コンテナイメージのビルドに必要なファイルを配置します。\n",
    "\n",
    "まず、ファイルを格納するディレクトリを作成"
   ]
  },
  {
   "cell_type": "code",
   "execution_count": null,
   "metadata": {
    "hidden": true
   },
   "outputs": [],
   "source": [
    "# 先にディレクトリ作成\n",
    "!ansible {target_hub} -b -m file -a \\\n",
    "    'path={share_directory_root}/nbgrader state=directory owner={{{{ansible_user}}}}'\n",
    "!ansible {target_hub} -b -m file -a \\\n",
    "    'path={{{{base_dir}}}}/jupyterhub state=directory owner={{{{ansible_user}}}}'"
   ]
  },
  {
   "cell_type": "markdown",
   "metadata": {
    "hidden": true
   },
   "source": [
    "ファイルの配置をチェックモードで試行"
   ]
  },
  {
   "cell_type": "code",
   "execution_count": null,
   "metadata": {
    "hidden": true
   },
   "outputs": [],
   "source": [
    "# 共有ディレクトリに必要なファイル配置\n",
    "!ansible {target_hub} -CDv -m synchronize \\\n",
    "    -a 'src=template/directories/jupytershare/nbgrader dest={share_directory_root}'\n",
    "!ansible {target_hub} -CDv -m template \\\n",
    "    -a 'src=template/directories/jupytershare/nbgrader/templates/teachers/nbgrader_config.py \\\n",
    "    dest={share_directory_root}/nbgrader/templates/teachers backup=yes'\n",
    "\n",
    "# 各コンテナ用の資材\n",
    "!ansible {target_hub} -CDv -m synchronize \\\n",
    "    -a 'src=template/directories/skelton dest={home_directory_root}'\n",
    "!ansible {target_hub} -CDv -m synchronize \\\n",
    "    -a 'src=template/jupyterhub dest={{{{base_dir}}}}'\n",
    "!ansible {target_hub} -CDv -m synchronize \\\n",
    "    -a 'src=template/jupyterhub/jupyterhub/sudoers dest={{{{share_directory_root}}}} rsync_opts=--chown=root:root,--chmod=600' --become"
   ]
  },
  {
   "cell_type": "markdown",
   "metadata": {
    "hidden": true
   },
   "source": [
    "実際にファイルを配置"
   ]
  },
  {
   "cell_type": "code",
   "execution_count": null,
   "metadata": {
    "hidden": true
   },
   "outputs": [],
   "source": [
    "# 共有ディレクトリに必要なファイル配置\n",
    "!ansible {target_hub} -Dv -m synchronize \\\n",
    "    -a 'src=template/directories/jupytershare/nbgrader dest={share_directory_root}'\n",
    "!ansible {target_hub} -Dv -m template \\\n",
    "    -a 'src=template/directories/jupytershare/nbgrader/templates/teachers/nbgrader_config.py \\\n",
    "    dest={share_directory_root}/nbgrader/templates/teachers backup=yes'\n",
    "\n",
    "# 各コンテナ用の資材\n",
    "!ansible {target_hub} -Dv -m synchronize \\\n",
    "    -a 'src=template/directories/skelton dest={home_directory_root}'\n",
    "!ansible {target_hub} -Dv -m synchronize \\\n",
    "    -a 'src=template/jupyterhub dest={{{{base_dir}}}}'\n",
    "!ansible {target_hub} -Dv -m synchronize \\\n",
    "    -a 'src=template/jupyterhub/jupyterhub/sudoers dest={{{{share_directory_root}}}} rsync_opts=--chown=root:root,--chmod=600' --become"
   ]
  },
  {
   "cell_type": "markdown",
   "metadata": {
    "hidden": true
   },
   "source": [
    "#### Jupyterhubイメージのビルド"
   ]
  },
  {
   "cell_type": "markdown",
   "metadata": {
    "hidden": true
   },
   "source": [
    "実際にビルドする前にdryrun（チェックモード）でAnsibleを実行します。"
   ]
  },
  {
   "cell_type": "code",
   "execution_count": null,
   "metadata": {
    "hidden": true,
    "scrolled": true
   },
   "outputs": [],
   "source": [
    "!ansible-playbook -l {target_hub} -CDv playbooks/setup-jupyterhub.yml || true"
   ]
  },
  {
   "cell_type": "markdown",
   "metadata": {
    "hidden": true
   },
   "source": [
    "実際にコンテナイメージのビルドを行います。"
   ]
  },
  {
   "cell_type": "code",
   "execution_count": null,
   "metadata": {
    "hidden": true,
    "scrolled": true
   },
   "outputs": [],
   "source": [
    "!ansible-playbook -l {target_hub} playbooks/setup-jupyterhub.yml -e jupyterhub_image={jupyterhub_image}"
   ]
  },
  {
   "cell_type": "markdown",
   "metadata": {
    "hidden": true
   },
   "source": [
    "JupyterHubのコンテナイメージが存在することを確認します。"
   ]
  },
  {
   "cell_type": "code",
   "execution_count": null,
   "metadata": {
    "hidden": true
   },
   "outputs": [],
   "source": [
    "!ansible {target_hub} -a \\\n",
    "    'docker images {{{{jupyterhub_image}}}}'"
   ]
  },
  {
   "cell_type": "markdown",
   "metadata": {
    "hidden": true
   },
   "source": [
    "JupyterHubコンテナのために配置したファイルを確認します。"
   ]
  },
  {
   "cell_type": "code",
   "execution_count": null,
   "metadata": {
    "hidden": true
   },
   "outputs": [],
   "source": [
    "!ansible {target_hub} -a 'tree {{{{jupyterhub_dir}}}}'"
   ]
  },
  {
   "cell_type": "markdown",
   "metadata": {},
   "source": [
    "### single-user Jupyter Notebook server\n",
    "\n",
    "各ユーザ用に起動するDockerコンテナのイメージを各ノードに用意します。  \n",
    "冒頭のパラメータ設定の章にて、singleuser_imageに指定したイメージをリモートリポジトリからダウンロードします。  \n",
    "ダウンロードできない場合、本テンプレートに含まれている資材でビルドします。"
   ]
  },
  {
   "cell_type": "markdown",
   "metadata": {},
   "source": [
    "#### イメージが存在しない場合-公開リポジトリからのダウンロード\n",
    "\n",
    "公開リポジトリからsingle-user Jupyter Notebook serverコンテナイメージをダウンロードします。"
   ]
  },
  {
   "cell_type": "markdown",
   "metadata": {},
   "source": [
    "以下のセルを実行し、single-user Jupyter Notebook serverコンテナイメージをダウンロードしてください。\n",
    "\n",
    "ダウンロードが成功した場合、以降のセルは実行せず、「４ コンテナの起動」に進んでください。"
   ]
  },
  {
   "cell_type": "code",
   "execution_count": null,
   "metadata": {},
   "outputs": [],
   "source": [
    "!ansible {ugroup_name} -a 'docker pull {{{{singleuser_image}}}}:{{{{singleuser_image_tag}}}}'"
   ]
  },
  {
   "cell_type": "markdown",
   "metadata": {
    "heading_collapsed": true
   },
   "source": [
    "#### イメージが存在しない場合-イメージのビルド\n",
    "\n",
    "１つ前のセルで、公開リポジトリからのダウンロードが出来ている場合は、ビルドの必要はありません。本セクションはスキップして、「４ コンテナの起動」に進んでください。\n",
    "\n",
    "`template/notebook` にsingle-user Jupyter Notebook serverコンテナイメージをビルドするためのファイルを格納しています。\n",
    "\n",
    "オリジナルのイメージを作成する場合は、`template/notebook`の内容を置き換えて以降のセルを実行してください。"
   ]
  },
  {
   "cell_type": "markdown",
   "metadata": {
    "hidden": true
   },
   "source": [
    "まず、イメージのビルドに必要なファイルを格納するためのディレクトリを作成します。"
   ]
  },
  {
   "cell_type": "code",
   "execution_count": null,
   "metadata": {
    "hidden": true
   },
   "outputs": [],
   "source": [
    "!ansible {ugroup_name} -b -m file -a \\\n",
    "    'path={{{{notebook_dir}}}}/image state=directory owner={{{{ansible_user}}}}'"
   ]
  },
  {
   "cell_type": "markdown",
   "metadata": {
    "hidden": true
   },
   "source": [
    "single-user Jupyter Notebook serverコンテナイメージビルドに必要なファイルを配置します。\n",
    "\n",
    "実際に配置する前に、チェックモードでファイルの不足等が無いか確認します。"
   ]
  },
  {
   "cell_type": "code",
   "execution_count": null,
   "metadata": {
    "hidden": true,
    "scrolled": true
   },
   "outputs": [],
   "source": [
    "!ansible {ugroup_name} -CDv -m synchronize \\\n",
    "    -a 'src=template/notebook/image/{{{{singleuser_image_tag}}}} dest={{{{notebook_dir}}}}/image'\n",
    "!ansible {ugroup_name} -CDv -m template \\\n",
    "    -a 'src=template/notebook/image/{{{{singleuser_image_tag}}}}/ldap.conf dest={{{{notebook_dir}}}}/notebook/image/ backup=yes'\n",
    "!ansible {ugroup_name} -CDv -m template \\\n",
    "    -a 'src=template/notebook/image/{{{{singleuser_image_tag}}}}/nbgrader/nbgrader_config.py dest={{{{notebook_dir}}}}/notebook/image/ backup=yes'"
   ]
  },
  {
   "cell_type": "markdown",
   "metadata": {
    "hidden": true
   },
   "source": [
    "ファイルを実際に配置します。"
   ]
  },
  {
   "cell_type": "code",
   "execution_count": null,
   "metadata": {
    "hidden": true,
    "scrolled": true
   },
   "outputs": [],
   "source": [
    "!ansible {ugroup_name} -Dv -m synchronize \\\n",
    "    -a 'src=template/notebook/image/{{{{singleuser_image_tag}}}} dest={{{{notebook_dir}}}}/image'\n",
    "!ansible {ugroup_name} -Dv -m template \\\n",
    "    -a 'src=template/notebook/image/{{{{singleuser_image_tag}}}}/ldap.conf dest={{{{notebook_dir}}}}/notebook/image/ backup=yes'\n",
    "!ansible {ugroup_name} -Dv -m template \\\n",
    "    -a 'src=template/notebook/image/{{{{singleuser_image_tag}}}}/nbgrader/nbgrader_config.py dest={{{{notebook_dir}}}}/notebook/image/ backup=yes'"
   ]
  },
  {
   "cell_type": "markdown",
   "metadata": {
    "hidden": true
   },
   "source": [
    "配置したファイルを用いて、single-user Jupyter Notebook serverコンテナイメージのビルドを行います。\n",
    "\n",
    "ビルド前に、チェックモードで確認します。"
   ]
  },
  {
   "cell_type": "code",
   "execution_count": null,
   "metadata": {
    "hidden": true,
    "scrolled": true
   },
   "outputs": [],
   "source": [
    "!ansible-playbook -l {ugroup_name} -CDv playbooks/setup-jupyter-notebook.yml || true"
   ]
  },
  {
   "cell_type": "markdown",
   "metadata": {
    "hidden": true
   },
   "source": [
    "実際にビルドを行います。"
   ]
  },
  {
   "cell_type": "code",
   "execution_count": null,
   "metadata": {
    "hidden": true,
    "scrolled": true
   },
   "outputs": [],
   "source": [
    "!ansible-playbook -l {ugroup_name} playbooks/setup-jupyter-notebook.yml"
   ]
  },
  {
   "cell_type": "markdown",
   "metadata": {
    "hidden": true
   },
   "source": [
    "各VCノードのコンテナイメージ一覧を確認します。\n",
    "\n",
    "single-user Jupyter Notebook serverコンテナイメージが存在することを確認します。"
   ]
  },
  {
   "cell_type": "code",
   "execution_count": null,
   "metadata": {
    "hidden": true,
    "pinned_outputs": []
   },
   "outputs": [],
   "source": [
    "print(f'指定したイメージ名:{singleuser_image}')\n",
    "\n",
    "!ansible {ugroup_name} -m shell -a 'docker images | \\\n",
    "    grep -e \"{{{{singleuser_image}}}}\"'"
   ]
  },
  {
   "cell_type": "markdown",
   "metadata": {
    "heading_collapsed": true
   },
   "source": [
    "## コンテナの起動"
   ]
  },
  {
   "cell_type": "markdown",
   "metadata": {
    "heading_collapsed": true,
    "hidden": true
   },
   "source": [
    "### docker-compose.yml の配置"
   ]
  },
  {
   "cell_type": "markdown",
   "metadata": {
    "hidden": true
   },
   "source": [
    "複数のコンテナに関する設定をまとめて扱うために `docker-compose.yml` を利用します。\n",
    "\n",
    "ここまでに指定されたパラメータに応じた`docker-compose.yml`, `default.conf`を生成し、構築環境に配置します。"
   ]
  },
  {
   "cell_type": "markdown",
   "metadata": {
    "hidden": true
   },
   "source": [
    "まずは、チェックモードで確認を行います。"
   ]
  },
  {
   "cell_type": "code",
   "execution_count": null,
   "metadata": {
    "hidden": true,
    "scrolled": true
   },
   "outputs": [],
   "source": [
    "!ansible {target_hub} -CDv -m template \\\n",
    "    -a 'src=template/jupyterhub/docker-compose.yml dest={{{{base_dir}}}}/jupyterhub backup=yes'\n",
    "!ansible {target_hub} -CDv -m template \\\n",
    "    -a 'src=template/jupyterhub/nginx/default.conf dest={{{{base_dir}}}}/jupyterhub/nginx backup=yes'\n",
    "!ansible {target_hub} -CDv -m synchronize \\\n",
    "    -a 'src=edit/lms_web_service.py dest={{{{jupyterhub_dir}}}}/jupyterhub'\n",
    "!ansible {target_hub} -CDv -m synchronize \\\n",
    "    -a 'src=edit/jupyterhub_config.py dest={{{{jupyterhub_dir}}}}/jupyterhub'\n",
    "!ansible {target_hub} -CDv -m synchronize \\\n",
    "    -a 'src=edit/jupyterhub_params.yaml dest={{{{jupyterhub_dir}}}}/jupyterhub'"
   ]
  },
  {
   "cell_type": "markdown",
   "metadata": {
    "hidden": true
   },
   "source": [
    "実際に各ファイルの配置を行います。"
   ]
  },
  {
   "cell_type": "code",
   "execution_count": null,
   "metadata": {
    "hidden": true,
    "scrolled": true
   },
   "outputs": [],
   "source": [
    "!ansible {target_hub} -Dv -m template \\\n",
    "    -a 'src=template/jupyterhub/docker-compose.yml dest={{{{base_dir}}}}/jupyterhub backup=yes'\n",
    "!ansible {target_hub} -Dv -m template \\\n",
    "    -a 'src=template/jupyterhub/nginx/default.conf dest={{{{base_dir}}}}/jupyterhub/nginx backup=yes'\n",
    "!ansible {target_hub} -Dv -m synchronize \\\n",
    "    -a 'src=edit/lms_web_service.py dest={{{{jupyterhub_dir}}}}/jupyterhub'\n",
    "!ansible {target_hub} -Dv -m synchronize \\\n",
    "    -a 'src=edit/jupyterhub_config.py dest={{{{jupyterhub_dir}}}}/jupyterhub'\n",
    "!ansible {target_hub} -Dv -m synchronize \\\n",
    "    -a 'src=edit/jupyterhub_params.yaml dest={{{{jupyterhub_dir}}}}/jupyterhub'"
   ]
  },
  {
   "cell_type": "markdown",
   "metadata": {
    "hidden": true
   },
   "source": [
    "### コンテナの起動\n",
    "\n",
    "コンテナを起動します。"
   ]
  },
  {
   "cell_type": "code",
   "execution_count": null,
   "metadata": {
    "hidden": true
   },
   "outputs": [],
   "source": [
    "!ansible {target_hub} -a 'chdir={{{{base_dir}}}}/jupyterhub \\\n",
    "    docker stack deploy -c docker-compose.yml {{{{ugroup_name}}}}'"
   ]
  },
  {
   "cell_type": "markdown",
   "metadata": {
    "hidden": true
   },
   "source": [
    "コンテナの起動状態を確認します。"
   ]
  },
  {
   "cell_type": "code",
   "execution_count": null,
   "metadata": {
    "hidden": true
   },
   "outputs": [],
   "source": [
    "!ansible {target_hub} -a 'docker stack ps {{{{ugroup_name}}}}'"
   ]
  },
  {
   "cell_type": "markdown",
   "metadata": {
    "hidden": true
   },
   "source": [
    "Masterノードにて、jupyterhubのヘルスチェック用URLに向けて、curlコマンドを実行してみます。    \n",
    "起動に時間がかかる場合があるため、指定回数を上限とし、成功するまでリトライします。  \n",
    "ステータスコード`200`が返ると、このセルは正常終了します。  \n",
    "\n",
    "※managerノード（のVM）へのアクセス制限を行っている場合、この構築環境からはアクセスできない場合があります。その場合は、許可されたアクセス元から、https://{jupyterhub_fqdn}/hub/healthにGETリクエストを行うか、https://{jupyterhub_fqdn}/にブラウザでアクセスし、画面が表示されれば問題ありません。\n",
    "このようなアクセス制限を行う場合は、Jupyterhubに設定しているグローバルIPアドレスからMoodleへのアクセスを許可する必要があります。"
   ]
  },
  {
   "cell_type": "code",
   "execution_count": null,
   "metadata": {
    "hidden": true
   },
   "outputs": [],
   "source": [
    "import time\n",
    "\n",
    "# 規定回数\n",
    "retry_max = 20\n",
    "err = None\n",
    "status_ok = \"200\"\n",
    "\n",
    "for retry in range(retry_max):\n",
    "    status = !ansible {target_hub} -m shell -a \"curl http://localhost:8000/hub/health -o /dev/null -w '%{{http_code}}\\n' -s\"\n",
    "    if status_ok == status[1]:\n",
    "        break\n",
    "\n",
    "    print(f\"Status is not {status_ok}: {status[1]}\")\n",
    "    time.sleep(10)\n",
    "else:\n",
    "    raise Exception"
   ]
  },
  {
   "cell_type": "markdown",
   "metadata": {
    "hidden": true
   },
   "source": [
    "`MariaDB` コンテナのログを表示してみます。"
   ]
  },
  {
   "cell_type": "code",
   "execution_count": null,
   "metadata": {
    "hidden": true,
    "scrolled": true
   },
   "outputs": [],
   "source": [
    "!ansible {target_hub} -a 'docker service logs {{{{ugroup_name}}}}_mariadb'"
   ]
  },
  {
   "cell_type": "markdown",
   "metadata": {
    "hidden": true
   },
   "source": [
    "`jupyterhub` コンテナのログを表示してみます。\n",
    "\n",
    "> DBに接続できないなどのエラーが表示されていないことを確認してください。"
   ]
  },
  {
   "cell_type": "code",
   "execution_count": null,
   "metadata": {
    "hidden": true,
    "scrolled": true
   },
   "outputs": [],
   "source": [
    "!ansible {target_hub} -a 'docker service logs {{{{ugroup_name}}}}_jupyterhub'"
   ]
  },
  {
   "cell_type": "markdown",
   "metadata": {
    "hidden": true
   },
   "source": [
    "`Nginx` コンテナのログを表示してみます。\n",
    "\n",
    "> 証明書設定に誤りがあるなどのエラーが表示されていないことを確認してください。"
   ]
  },
  {
   "cell_type": "code",
   "execution_count": null,
   "metadata": {
    "hidden": true,
    "scrolled": true
   },
   "outputs": [],
   "source": [
    "!ansible {target_hub} -a 'docker service logs {{{{ugroup_name}}}}_proxy'"
   ]
  },
  {
   "cell_type": "markdown",
   "metadata": {},
   "source": [
    "## LMS設定"
   ]
  },
  {
   "cell_type": "markdown",
   "metadata": {},
   "source": [
    "LTI認証連携で受講生情報を取得するために必要な公開鍵情報を表示します。  \n",
    "NRPS（Names and Role Provisioning Services）を利用できる場合、表示された公開鍵情報を、事前に設定したMoodleの外部ツール設定にて、RSA鍵の欄にコピー＆ペーストしてください。  \n",
    "設定例について、「021-Moodleの外部ツール設定例（lti1.3&JupyterHub）」ノートブックの「NRPS利用の場合の設定」の章に図解があります。"
   ]
  },
  {
   "cell_type": "code",
   "execution_count": null,
   "metadata": {},
   "outputs": [],
   "source": [
    "if not 'get_course_member_method' in globals() or not get_course_member_method == 'moodle_api':\n",
    "    !ansible {target_hub} -a \\\n",
    "        'cat  {{{{jupyterhub_dir}}}}/jupyterhub/lti_pubkey.pem'"
   ]
  }
 ],
 "metadata": {
  "kernelspec": {
   "display_name": "Python 3",
   "language": "python",
   "name": "python3"
  },
  "language_info": {
   "file_extension": ".py",
   "mimetype": "text/x-python",
   "name": "python",
   "nbconvert_exporter": "python",
   "pygments_lexer": "ipython3",
   "version": "3.10.11"
  },
  "toc": {
   "base_numbering": 1,
   "nav_menu": {},
   "number_sections": true,
   "sideBar": true,
   "skip_h1_title": true,
   "title_cell": "Table of Contents",
   "title_sidebar": "Contents",
   "toc_cell": false,
   "toc_position": {
    "height": "calc(100% - 180px)",
    "left": "10px",
    "top": "150px",
    "width": "299.867px"
   },
   "toc_section_display": true,
   "toc_window_display": true
  }
 },
 "nbformat": 4,
 "nbformat_minor": 2
}
