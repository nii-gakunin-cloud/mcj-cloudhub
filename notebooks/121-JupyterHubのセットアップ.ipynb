{
 "cells": [
  {
   "cell_type": "markdown",
   "metadata": {
    "lc_cell_meme": {
     "current": "5c08b078-163a-11ee-987e-0242ac110002-4-52d6-bf0d-f479-4d43",
     "history": [
      {
       "current": "5c08b078-163a-11ee-987e-0242ac110002-1-52d6",
       "next": "5c08b168-163a-11ee-987e-0242ac110002",
       "previous": null
      },
      {
       "current": "5c08b078-163a-11ee-987e-0242ac110002-2-52d6-bf0d",
       "next": "5c08b168-163a-11ee-987e-0242ac110002-1-957e",
       "previous": null
      },
      {
       "current": "5c08b078-163a-11ee-987e-0242ac110002-3-52d6-bf0d-f479",
       "next": "5c08b168-163a-11ee-987e-0242ac110002-2-957e-1aec",
       "previous": null
      },
      {
       "current": "5c08b078-163a-11ee-987e-0242ac110002-4-52d6-bf0d-f479-4d43",
       "next": "5c08b168-163a-11ee-987e-0242ac110002-3-957e-1aec-a49d",
       "previous": null
      }
     ],
     "next": "5c08b168-163a-11ee-987e-0242ac110002-4-957e-1aec-a49d-a0db",
     "previous": null
    }
   },
   "source": [
    "# JupyterHubのセットアップ\n",
    "\n",
    "---\n",
    "\n",
    "VCノードにJupyterHub環境を構築します。\n",
    "\n",
    "具体的には、Jupyterhubシステムの構成要素である、各Dockerコンテナを起動します。  \n",
    "また、single-user notebook serverコンテナイメージの取得・もしくは作成を行います。"
   ]
  },
  {
   "cell_type": "markdown",
   "metadata": {
    "lc_cell_meme": {
     "current": "5c08b168-163a-11ee-987e-0242ac110002-4-957e-1aec-a49d-a0db",
     "history": [
      {
       "current": "5c08b168-163a-11ee-987e-0242ac110002-1-957e",
       "next": "5c08b21c-163a-11ee-987e-0242ac110002",
       "previous": "5c08b078-163a-11ee-987e-0242ac110002"
      },
      {
       "current": "5c08b168-163a-11ee-987e-0242ac110002-2-957e-1aec",
       "next": "5c08b21c-163a-11ee-987e-0242ac110002-1-6bf6",
       "previous": "5c08b078-163a-11ee-987e-0242ac110002-1-52d6"
      },
      {
       "current": "5c08b168-163a-11ee-987e-0242ac110002-3-957e-1aec-a49d",
       "next": "5c08b21c-163a-11ee-987e-0242ac110002-2-6bf6-d13d",
       "previous": "5c08b078-163a-11ee-987e-0242ac110002-2-52d6-bf0d"
      },
      {
       "current": "5c08b168-163a-11ee-987e-0242ac110002-4-957e-1aec-a49d-a0db",
       "next": "5c08b21c-163a-11ee-987e-0242ac110002-3-6bf6-d13d-3dd4",
       "previous": "5c08b078-163a-11ee-987e-0242ac110002-3-52d6-bf0d-f479"
      }
     ],
     "next": "5c08b21c-163a-11ee-987e-0242ac110002-4-6bf6-d13d-3dd4-5ece",
     "previous": "5c08b078-163a-11ee-987e-0242ac110002-4-52d6-bf0d-f479-4d43"
    }
   },
   "source": [
    "## 概要\n",
    "\n",
    "このNotebookで構築するJupyterHubの構成要素を以下に示します。\n",
    "\n",
    "![<構成図表示エラー>](images/121/arch-121.png)"
   ]
  },
  {
   "cell_type": "markdown",
   "metadata": {
    "lc_cell_meme": {
     "current": "5c08b21c-163a-11ee-987e-0242ac110002-4-6bf6-d13d-3dd4-5ece",
     "history": [
      {
       "current": "5c08b21c-163a-11ee-987e-0242ac110002-1-6bf6",
       "next": "5c08b2d0-163a-11ee-987e-0242ac110002",
       "previous": "5c08b168-163a-11ee-987e-0242ac110002"
      },
      {
       "current": "5c08b21c-163a-11ee-987e-0242ac110002-2-6bf6-d13d",
       "next": "5c08b2d0-163a-11ee-987e-0242ac110002-1-c19b",
       "previous": "5c08b168-163a-11ee-987e-0242ac110002-1-957e"
      },
      {
       "current": "5c08b21c-163a-11ee-987e-0242ac110002-3-6bf6-d13d-3dd4",
       "next": "5c08b2d0-163a-11ee-987e-0242ac110002-2-c19b-4e25",
       "previous": "5c08b168-163a-11ee-987e-0242ac110002-2-957e-1aec"
      },
      {
       "current": "5c08b21c-163a-11ee-987e-0242ac110002-4-6bf6-d13d-3dd4-5ece",
       "next": "5c08b2d0-163a-11ee-987e-0242ac110002-3-c19b-4e25-ec55",
       "previous": "5c08b168-163a-11ee-987e-0242ac110002-3-957e-1aec-a49d"
      }
     ],
     "next": "5c08b2d0-163a-11ee-987e-0242ac110002-4-c19b-4e25-ec55-0133",
     "previous": "5c08b168-163a-11ee-987e-0242ac110002-4-957e-1aec-a49d-a0db"
    }
   },
   "source": [
    "> このNotebookで構築するJupyterHubではMoodleとの連携を前提としています。"
   ]
  },
  {
   "cell_type": "markdown",
   "metadata": {
    "lc_cell_meme": {
     "current": "5c08b2d0-163a-11ee-987e-0242ac110002-4-c19b-4e25-ec55-0133",
     "history": [
      {
       "current": "5c08b2d0-163a-11ee-987e-0242ac110002-1-c19b",
       "next": "5c08b370-163a-11ee-987e-0242ac110002",
       "previous": "5c08b21c-163a-11ee-987e-0242ac110002"
      },
      {
       "current": "5c08b2d0-163a-11ee-987e-0242ac110002-2-c19b-4e25",
       "next": "5c08b370-163a-11ee-987e-0242ac110002-1-97e0",
       "previous": "5c08b21c-163a-11ee-987e-0242ac110002-1-6bf6"
      },
      {
       "current": "5c08b2d0-163a-11ee-987e-0242ac110002-3-c19b-4e25-ec55",
       "next": "5c08b370-163a-11ee-987e-0242ac110002-2-97e0-62e0",
       "previous": "5c08b21c-163a-11ee-987e-0242ac110002-2-6bf6-d13d"
      },
      {
       "current": "5c08b2d0-163a-11ee-987e-0242ac110002-4-c19b-4e25-ec55-0133",
       "next": "5c08b370-163a-11ee-987e-0242ac110002-3-97e0-62e0-17a1",
       "previous": "5c08b21c-163a-11ee-987e-0242ac110002-3-6bf6-d13d-3dd4"
      }
     ],
     "next": "5c08b370-163a-11ee-987e-0242ac110002-4-97e0-62e0-17a1-75de",
     "previous": "5c08b21c-163a-11ee-987e-0242ac110002-4-6bf6-d13d-3dd4-5ece"
    }
   },
   "source": [
    "### 事前に準備が必要となるものについて\n",
    "\n",
    "このNotebookを実行するにあたって、あらかじめ準備が必要となるものについて以下に記します。\n",
    "\n",
    "* VCノード構築\n",
    "* JupyterHubのサーバ証明書\n",
    "    - JupyterHubではHTTPSによる公開を行うためサーバ証明書とその秘密鍵を準備する必要があります。\n",
    "* 機関のLDAPサーバ\n",
    "* Moodleシステム\n",
    "    - 本ノートブックで構築するJupyterhubと、lti1.3を用いた認証連携が可能な外部ツール設定を完了していること。（外部ツール設定時に自動発行されるキーを本ノートブック上で指定するため）\n",
    "        - 未設定の場合は、先に設定を行ってください。\n",
    "        - 設定例として、ノートブック一覧の「021-Moodleの外部ツール設定例（lti1.3&JupyterHub）.ipynb」を参考にしてください。"
   ]
  },
  {
   "cell_type": "markdown",
   "metadata": {
    "lc_cell_meme": {
     "current": "5c08b370-163a-11ee-987e-0242ac110002-4-97e0-62e0-17a1-75de",
     "history": [
      {
       "current": "5c08b370-163a-11ee-987e-0242ac110002-1-97e0",
       "next": "5c08b410-163a-11ee-987e-0242ac110002",
       "previous": "5c08b2d0-163a-11ee-987e-0242ac110002"
      },
      {
       "current": "5c08b370-163a-11ee-987e-0242ac110002-2-97e0-62e0",
       "next": "5c08b410-163a-11ee-987e-0242ac110002-1-9afc",
       "previous": "5c08b2d0-163a-11ee-987e-0242ac110002-1-c19b"
      },
      {
       "current": "5c08b370-163a-11ee-987e-0242ac110002-3-97e0-62e0-17a1",
       "next": "5c08b410-163a-11ee-987e-0242ac110002-2-9afc-16ae",
       "previous": "5c08b2d0-163a-11ee-987e-0242ac110002-2-c19b-4e25"
      },
      {
       "current": "5c08b370-163a-11ee-987e-0242ac110002-4-97e0-62e0-17a1-75de",
       "next": "5c08b410-163a-11ee-987e-0242ac110002-3-9afc-16ae-68eb",
       "previous": "5c08b2d0-163a-11ee-987e-0242ac110002-3-c19b-4e25-ec55"
      }
     ],
     "next": "5c08b410-163a-11ee-987e-0242ac110002-4-9afc-16ae-68eb-d647",
     "previous": "5c08b2d0-163a-11ee-987e-0242ac110002-4-c19b-4e25-ec55-0133"
    }
   },
   "source": [
    "### UnitGroup名\n",
    "\n",
    "JupyterHubの構築環境となるVCPのUnitGroup名を指定します。"
   ]
  },
  {
   "cell_type": "markdown",
   "metadata": {
    "lc_cell_meme": {
     "current": "5c08b410-163a-11ee-987e-0242ac110002-4-9afc-16ae-68eb-d647",
     "history": [
      {
       "current": "5c08b410-163a-11ee-987e-0242ac110002-1-9afc",
       "next": "5c08b4b0-163a-11ee-987e-0242ac110002",
       "previous": "5c08b370-163a-11ee-987e-0242ac110002"
      },
      {
       "current": "5c08b410-163a-11ee-987e-0242ac110002-2-9afc-16ae",
       "next": "5c08b4b0-163a-11ee-987e-0242ac110002-1-af1f",
       "previous": "5c08b370-163a-11ee-987e-0242ac110002-1-97e0"
      },
      {
       "current": "5c08b410-163a-11ee-987e-0242ac110002-3-9afc-16ae-68eb",
       "next": "5c08b4b0-163a-11ee-987e-0242ac110002-2-af1f-ff22",
       "previous": "5c08b370-163a-11ee-987e-0242ac110002-2-97e0-62e0"
      },
      {
       "current": "5c08b410-163a-11ee-987e-0242ac110002-4-9afc-16ae-68eb-d647",
       "next": "5c08b4b0-163a-11ee-987e-0242ac110002-3-af1f-ff22-91f2",
       "previous": "5c08b370-163a-11ee-987e-0242ac110002-3-97e0-62e0-17a1"
      }
     ],
     "next": "5c08b4b0-163a-11ee-987e-0242ac110002-4-af1f-ff22-91f2-5182",
     "previous": "5c08b370-163a-11ee-987e-0242ac110002-4-97e0-62e0-17a1-75de"
    }
   },
   "source": [
    "VCノードを作成時に指定した値を確認するために `group_vars`ファイル名の一覧を表示します。"
   ]
  },
  {
   "cell_type": "code",
   "execution_count": null,
   "metadata": {
    "lc_cell_meme": {
     "current": "5c08b4b0-163a-11ee-987e-0242ac110002-4-af1f-ff22-91f2-5182",
     "history": [
      {
       "current": "5c08b4b0-163a-11ee-987e-0242ac110002-1-af1f",
       "next": "5c08b550-163a-11ee-987e-0242ac110002",
       "previous": "5c08b410-163a-11ee-987e-0242ac110002"
      },
      {
       "current": "5c08b4b0-163a-11ee-987e-0242ac110002-2-af1f-ff22",
       "next": "5c08b550-163a-11ee-987e-0242ac110002-1-bafd",
       "previous": "5c08b410-163a-11ee-987e-0242ac110002-1-9afc"
      },
      {
       "current": "5c08b4b0-163a-11ee-987e-0242ac110002-3-af1f-ff22-91f2",
       "next": "5c08b550-163a-11ee-987e-0242ac110002-2-bafd-3296",
       "previous": "5c08b410-163a-11ee-987e-0242ac110002-2-9afc-16ae"
      },
      {
       "current": "5c08b4b0-163a-11ee-987e-0242ac110002-4-af1f-ff22-91f2-5182",
       "next": "5c08b550-163a-11ee-987e-0242ac110002-3-bafd-3296-f8de",
       "previous": "5c08b410-163a-11ee-987e-0242ac110002-3-9afc-16ae-68eb"
      }
     ],
     "next": "5c08b550-163a-11ee-987e-0242ac110002-4-bafd-3296-f8de-a6db",
     "previous": "5c08b410-163a-11ee-987e-0242ac110002-4-9afc-16ae-68eb-d647"
    },
    "lc_wrapper": {
     "log_history": [
      "/notebooks/notebook/work_terayama/yjupyterhub/work/.log/20230629/20230629-163426-0203.log",
      "/notebooks/notebook/work_terayama/yjupyterhub/work/.log/20230630/20230630-185552-0635.log",
      "/notebooks/notebook/work_terayama/yjupyterhub/work/.log/20230704/20230704-112435-0863.log",
      "/notebooks/notebook/work_terayama/yjupyterhub/work/.log/20230705/20230705-183615-0066.log",
      "/notebooks/notebook/work_terayama/yjupyterhub/work/.log/20230712/20230712-173408-0971.log",
      "/notebooks/notebook/work_terayama/yjupyterhub/work/.log/20230719/20230719-153308-0440.log",
      "/notebooks/notebook/work_terayama/yjupyterhub/work/.log/20230720/20230720-114738-0555.log",
      "/notebooks/notebook/work_terayama/yjupyterhub/work/.log/20230727/20230727-141202-0455.log",
      "/notebooks/notebook/work_terayama/yjupyterhub/work/.log/20230801/20230801-152056-0389.log"
     ]
    }
   },
   "outputs": [],
   "source": [
    "!ls -1 group_vars/"
   ]
  },
  {
   "cell_type": "markdown",
   "metadata": {
    "lc_cell_meme": {
     "current": "5c08b550-163a-11ee-987e-0242ac110002-4-bafd-3296-f8de-a6db",
     "history": [
      {
       "current": "5c08b550-163a-11ee-987e-0242ac110002-1-bafd",
       "next": "5c08b5e6-163a-11ee-987e-0242ac110002",
       "previous": "5c08b4b0-163a-11ee-987e-0242ac110002"
      },
      {
       "current": "5c08b550-163a-11ee-987e-0242ac110002-2-bafd-3296",
       "next": "5c08b5e6-163a-11ee-987e-0242ac110002-1-d9b6",
       "previous": "5c08b4b0-163a-11ee-987e-0242ac110002-1-af1f"
      },
      {
       "current": "5c08b550-163a-11ee-987e-0242ac110002-3-bafd-3296-f8de",
       "next": "5c08b5e6-163a-11ee-987e-0242ac110002-2-d9b6-737b",
       "previous": "5c08b4b0-163a-11ee-987e-0242ac110002-2-af1f-ff22"
      },
      {
       "current": "5c08b550-163a-11ee-987e-0242ac110002-4-bafd-3296-f8de-a6db",
       "next": "5c08b5e6-163a-11ee-987e-0242ac110002-3-d9b6-737b-d2c0",
       "previous": "5c08b4b0-163a-11ee-987e-0242ac110002-3-af1f-ff22-91f2"
      }
     ],
     "next": "5c08b5e6-163a-11ee-987e-0242ac110002-4-d9b6-737b-d2c0-d959",
     "previous": "5c08b4b0-163a-11ee-987e-0242ac110002-4-af1f-ff22-91f2-5182"
    }
   },
   "source": [
    "上のセルの出力結果を参考にして、UnitGroup名を次のセルに指定してください。"
   ]
  },
  {
   "cell_type": "code",
   "execution_count": null,
   "metadata": {
    "lc_cell_meme": {
     "current": "5c08b5e6-163a-11ee-987e-0242ac110002-4-d9b6-737b-d2c0-d959",
     "history": [
      {
       "current": "5c08b5e6-163a-11ee-987e-0242ac110002-1-d9b6",
       "next": "5c08b686-163a-11ee-987e-0242ac110002",
       "previous": "5c08b550-163a-11ee-987e-0242ac110002"
      },
      {
       "current": "5c08b5e6-163a-11ee-987e-0242ac110002-2-d9b6-737b",
       "next": "5c08b686-163a-11ee-987e-0242ac110002-1-0350",
       "previous": "5c08b550-163a-11ee-987e-0242ac110002-1-bafd"
      },
      {
       "current": "5c08b5e6-163a-11ee-987e-0242ac110002-3-d9b6-737b-d2c0",
       "next": "5c08b686-163a-11ee-987e-0242ac110002-2-0350-dee2",
       "previous": "5c08b550-163a-11ee-987e-0242ac110002-2-bafd-3296"
      },
      {
       "current": "5c08b5e6-163a-11ee-987e-0242ac110002-4-d9b6-737b-d2c0-d959",
       "next": "5c08b686-163a-11ee-987e-0242ac110002-3-0350-dee2-db57",
       "previous": "5c08b550-163a-11ee-987e-0242ac110002-3-bafd-3296-f8de"
      }
     ],
     "next": "5c08b686-163a-11ee-987e-0242ac110002-4-0350-dee2-db57-58c3",
     "previous": "5c08b550-163a-11ee-987e-0242ac110002-4-bafd-3296-f8de-a6db"
    },
    "lc_wrapper": {
     "log_history": [
      "/notebooks/notebook/work_terayama/yjupyterhub/work/.log/20230629/20230629-163431-0337.log",
      "/notebooks/notebook/work_terayama/yjupyterhub/work/.log/20230630/20230630-185602-0594.log",
      "/notebooks/notebook/work_terayama/yjupyterhub/work/.log/20230704/20230704-112439-0309.log",
      "/notebooks/notebook/work_terayama/yjupyterhub/work/.log/20230712/20230712-173411-0457.log",
      "/notebooks/notebook/work_terayama/yjupyterhub/work/.log/20230719/20230719-153310-0245.log",
      "/notebooks/notebook/work_terayama/yjupyterhub/work/.log/20230720/20230720-114740-0428.log",
      "/notebooks/notebook/work_terayama/yjupyterhub/work/.log/20230727/20230727-141207-0798.log",
      "/notebooks/notebook/work_terayama/yjupyterhub/work/.log/20230801/20230801-142506-0399.log",
      "/notebooks/notebook/work_terayama/yjupyterhub/work/.log/20230801/20230801-152057-0832.log"
     ]
    },
    "tags": [
     "vcp:parameters"
    ]
   },
   "outputs": [],
   "source": [
    "# (例)\n",
    "# ugroup_name = 'JupyterHub'\n",
    "\n",
    "ugroup_name = "
   ]
  },
  {
   "cell_type": "markdown",
   "metadata": {
    "heading_collapsed": true,
    "lc_cell_meme": {
     "current": "5c08b686-163a-11ee-987e-0242ac110002-4-0350-dee2-db57-58c3",
     "history": [
      {
       "current": "5c08b686-163a-11ee-987e-0242ac110002-1-0350",
       "next": "5c08b71c-163a-11ee-987e-0242ac110002",
       "previous": "5c08b5e6-163a-11ee-987e-0242ac110002"
      },
      {
       "current": "5c08b686-163a-11ee-987e-0242ac110002-2-0350-dee2",
       "next": "5c08b71c-163a-11ee-987e-0242ac110002-1-fe5e",
       "previous": "5c08b5e6-163a-11ee-987e-0242ac110002-1-d9b6"
      },
      {
       "current": "5c08b686-163a-11ee-987e-0242ac110002-3-0350-dee2-db57",
       "next": "5c08b71c-163a-11ee-987e-0242ac110002-2-fe5e-4ac1",
       "previous": "5c08b5e6-163a-11ee-987e-0242ac110002-2-d9b6-737b"
      },
      {
       "current": "5c08b686-163a-11ee-987e-0242ac110002-4-0350-dee2-db57-58c3",
       "next": "5c08b71c-163a-11ee-987e-0242ac110002-3-fe5e-4ac1-17a6",
       "previous": "5c08b5e6-163a-11ee-987e-0242ac110002-3-d9b6-737b-d2c0"
      }
     ],
     "next": "5c08b71c-163a-11ee-987e-0242ac110002-4-fe5e-4ac1-17a6-d94e",
     "previous": "5c08b5e6-163a-11ee-987e-0242ac110002-4-d9b6-737b-d2c0-d959"
    }
   },
   "source": [
    "### チェック\n",
    "\n",
    "対象となるVCノードがAnsibleによって操作できることを確認します。"
   ]
  },
  {
   "cell_type": "markdown",
   "metadata": {
    "hidden": true,
    "lc_cell_meme": {
     "current": "5c08b71c-163a-11ee-987e-0242ac110002-4-fe5e-4ac1-17a6-d94e",
     "history": [
      {
       "current": "5c08b71c-163a-11ee-987e-0242ac110002-1-fe5e",
       "next": "5c08b7bc-163a-11ee-987e-0242ac110002",
       "previous": "5c08b686-163a-11ee-987e-0242ac110002"
      },
      {
       "current": "5c08b71c-163a-11ee-987e-0242ac110002-2-fe5e-4ac1",
       "next": "5c08b7bc-163a-11ee-987e-0242ac110002-1-e9fd",
       "previous": "5c08b686-163a-11ee-987e-0242ac110002-1-0350"
      },
      {
       "current": "5c08b71c-163a-11ee-987e-0242ac110002-3-fe5e-4ac1-17a6",
       "next": "5c08b7bc-163a-11ee-987e-0242ac110002-2-e9fd-5231",
       "previous": "5c08b686-163a-11ee-987e-0242ac110002-2-0350-dee2"
      },
      {
       "current": "5c08b71c-163a-11ee-987e-0242ac110002-4-fe5e-4ac1-17a6-d94e",
       "next": "5c08b7bc-163a-11ee-987e-0242ac110002-3-e9fd-5231-cef3",
       "previous": "5c08b686-163a-11ee-987e-0242ac110002-3-0350-dee2-db57"
      }
     ],
     "next": "5c08b7bc-163a-11ee-987e-0242ac110002-4-e9fd-5231-cef3-f117",
     "previous": "5c08b686-163a-11ee-987e-0242ac110002-4-0350-dee2-db57-58c3"
    }
   },
   "source": [
    "Ansibleの設定ファイルの場所を環境変数に設定しておきます。"
   ]
  },
  {
   "cell_type": "code",
   "execution_count": null,
   "metadata": {
    "hidden": true,
    "lc_cell_meme": {
     "current": "5c08b7bc-163a-11ee-987e-0242ac110002-4-e9fd-5231-cef3-f117",
     "history": [
      {
       "current": "5c08b7bc-163a-11ee-987e-0242ac110002-1-e9fd",
       "next": "5c08b852-163a-11ee-987e-0242ac110002",
       "previous": "5c08b71c-163a-11ee-987e-0242ac110002"
      },
      {
       "current": "5c08b7bc-163a-11ee-987e-0242ac110002-2-e9fd-5231",
       "next": "5c08b852-163a-11ee-987e-0242ac110002-1-cb5f",
       "previous": "5c08b71c-163a-11ee-987e-0242ac110002-1-fe5e"
      },
      {
       "current": "5c08b7bc-163a-11ee-987e-0242ac110002-3-e9fd-5231-cef3",
       "next": "5c08b852-163a-11ee-987e-0242ac110002-2-cb5f-92f8",
       "previous": "5c08b71c-163a-11ee-987e-0242ac110002-2-fe5e-4ac1"
      },
      {
       "current": "5c08b7bc-163a-11ee-987e-0242ac110002-4-e9fd-5231-cef3-f117",
       "next": "5c08b852-163a-11ee-987e-0242ac110002-3-cb5f-92f8-8575",
       "previous": "5c08b71c-163a-11ee-987e-0242ac110002-3-fe5e-4ac1-17a6"
      }
     ],
     "next": "5c08b852-163a-11ee-987e-0242ac110002-4-cb5f-92f8-8575-e928",
     "previous": "5c08b71c-163a-11ee-987e-0242ac110002-4-fe5e-4ac1-17a6-d94e"
    },
    "lc_wrapper": {
     "log_history": [
      "/notebooks/notebook/work_terayama/yjupyterhub/work/.log/20230629/20230629-163435-0820.log",
      "/notebooks/notebook/work_terayama/yjupyterhub/work/.log/20230630/20230630-185611-0641.log",
      "/notebooks/notebook/work_terayama/yjupyterhub/work/.log/20230704/20230704-115930-0077.log",
      "/notebooks/notebook/work_terayama/yjupyterhub/work/.log/20230712/20230712-173413-0227.log",
      "/notebooks/notebook/work_terayama/yjupyterhub/work/.log/20230719/20230719-153312-0742.log",
      "/notebooks/notebook/work_terayama/yjupyterhub/work/.log/20230720/20230720-114741-0779.log",
      "/notebooks/notebook/work_terayama/yjupyterhub/work/.log/20230727/20230727-141211-0172.log",
      "/notebooks/notebook/work_terayama/yjupyterhub/work/.log/20230801/20230801-152059-0053.log"
     ]
    }
   },
   "outputs": [],
   "source": [
    "from pathlib import Path\n",
    "import os\n",
    "\n",
    "cfg_ansible = Path('ansible.cfg')\n",
    "if cfg_ansible.exists():\n",
    "    os.environ['ANSIBLE_CONFIG'] = str(cfg_ansible.resolve())"
   ]
  },
  {
   "cell_type": "markdown",
   "metadata": {
    "hidden": true,
    "lc_cell_meme": {
     "current": "5c08b852-163a-11ee-987e-0242ac110002-4-cb5f-92f8-8575-e928",
     "history": [
      {
       "current": "5c08b852-163a-11ee-987e-0242ac110002-1-cb5f",
       "next": "5c08b8e8-163a-11ee-987e-0242ac110002",
       "previous": "5c08b7bc-163a-11ee-987e-0242ac110002"
      },
      {
       "current": "5c08b852-163a-11ee-987e-0242ac110002-2-cb5f-92f8",
       "next": "5c08b8e8-163a-11ee-987e-0242ac110002-1-1d7d",
       "previous": "5c08b7bc-163a-11ee-987e-0242ac110002-1-e9fd"
      },
      {
       "current": "5c08b852-163a-11ee-987e-0242ac110002-3-cb5f-92f8-8575",
       "next": "5c08b8e8-163a-11ee-987e-0242ac110002-2-1d7d-0fc4",
       "previous": "5c08b7bc-163a-11ee-987e-0242ac110002-2-e9fd-5231"
      },
      {
       "current": "5c08b852-163a-11ee-987e-0242ac110002-4-cb5f-92f8-8575-e928",
       "next": "5c08b8e8-163a-11ee-987e-0242ac110002-3-1d7d-0fc4-ee3b",
       "previous": "5c08b7bc-163a-11ee-987e-0242ac110002-3-e9fd-5231-cef3"
      }
     ],
     "next": "5c08b8e8-163a-11ee-987e-0242ac110002-4-1d7d-0fc4-ee3b-1a16",
     "previous": "5c08b7bc-163a-11ee-987e-0242ac110002-4-e9fd-5231-cef3-f117"
    }
   },
   "source": [
    "構築対象となる各VCノードにアクセスできることを確認します。"
   ]
  },
  {
   "cell_type": "code",
   "execution_count": null,
   "metadata": {
    "hidden": true,
    "lc_cell_meme": {
     "current": "5c08b8e8-163a-11ee-987e-0242ac110002-4-1d7d-0fc4-ee3b-1a16",
     "history": [
      {
       "current": "5c08b8e8-163a-11ee-987e-0242ac110002-1-1d7d",
       "next": "5c08b97e-163a-11ee-987e-0242ac110002",
       "previous": "5c08b852-163a-11ee-987e-0242ac110002"
      },
      {
       "current": "5c08b8e8-163a-11ee-987e-0242ac110002-2-1d7d-0fc4",
       "next": "5c08b97e-163a-11ee-987e-0242ac110002-1-c7cb",
       "previous": "5c08b852-163a-11ee-987e-0242ac110002-1-cb5f"
      },
      {
       "current": "5c08b8e8-163a-11ee-987e-0242ac110002-3-1d7d-0fc4-ee3b",
       "next": "5c08b97e-163a-11ee-987e-0242ac110002-2-c7cb-3690",
       "previous": "5c08b852-163a-11ee-987e-0242ac110002-2-cb5f-92f8"
      },
      {
       "current": "5c08b8e8-163a-11ee-987e-0242ac110002-4-1d7d-0fc4-ee3b-1a16",
       "next": "5c08b97e-163a-11ee-987e-0242ac110002-3-c7cb-3690-1385",
       "previous": "5c08b852-163a-11ee-987e-0242ac110002-3-cb5f-92f8-8575"
      }
     ],
     "next": "5c08b97e-163a-11ee-987e-0242ac110002-4-c7cb-3690-1385-062f",
     "previous": "5c08b852-163a-11ee-987e-0242ac110002-4-cb5f-92f8-8575-e928"
    },
    "lc_wrapper": {
     "log_history": [
      "/notebooks/notebook/work_terayama/yjupyterhub/work/.log/20230629/20230629-163528-0328.log",
      "/notebooks/notebook/work_terayama/yjupyterhub/work/.log/20230630/20230630-185614-0445.log",
      "/notebooks/notebook/work_terayama/yjupyterhub/work/.log/20230704/20230704-115930-0089.log",
      "/notebooks/notebook/work_terayama/yjupyterhub/work/.log/20230712/20230712-173413-0239.log",
      "/notebooks/notebook/work_terayama/yjupyterhub/work/.log/20230719/20230719-153317-0178.log",
      "/notebooks/notebook/work_terayama/yjupyterhub/work/.log/20230720/20230720-114744-0403.log",
      "/notebooks/notebook/work_terayama/yjupyterhub/work/.log/20230727/20230727-141212-0006.log",
      "/notebooks/notebook/work_terayama/yjupyterhub/work/.log/20230801/20230801-152101-0146.log"
     ]
    },
    "pinned_outputs": []
   },
   "outputs": [],
   "source": [
    "target_hub = f'{ugroup_name}_manager'\n",
    "\n",
    "!ansible {target_hub} -m ping"
   ]
  },
  {
   "cell_type": "code",
   "execution_count": null,
   "metadata": {
    "hidden": true,
    "lc_cell_meme": {
     "current": "5c08b97e-163a-11ee-987e-0242ac110002-4-c7cb-3690-1385-062f",
     "history": [
      {
       "current": "5c08b97e-163a-11ee-987e-0242ac110002-1-c7cb",
       "next": "5c08ba14-163a-11ee-987e-0242ac110002",
       "previous": "5c08b8e8-163a-11ee-987e-0242ac110002"
      },
      {
       "current": "5c08b97e-163a-11ee-987e-0242ac110002-2-c7cb-3690",
       "next": "5c08ba14-163a-11ee-987e-0242ac110002-1-e52c",
       "previous": "5c08b8e8-163a-11ee-987e-0242ac110002-1-1d7d"
      },
      {
       "current": "5c08b97e-163a-11ee-987e-0242ac110002-3-c7cb-3690-1385",
       "next": "5c08ba14-163a-11ee-987e-0242ac110002-2-e52c-ab56",
       "previous": "5c08b8e8-163a-11ee-987e-0242ac110002-2-1d7d-0fc4"
      },
      {
       "current": "5c08b97e-163a-11ee-987e-0242ac110002-4-c7cb-3690-1385-062f",
       "next": "5c08ba14-163a-11ee-987e-0242ac110002-3-e52c-ab56-9a0a",
       "previous": "5c08b8e8-163a-11ee-987e-0242ac110002-3-1d7d-0fc4-ee3b"
      }
     ],
     "next": "5c08ba14-163a-11ee-987e-0242ac110002-4-e52c-ab56-9a0a-6008",
     "previous": "5c08b8e8-163a-11ee-987e-0242ac110002-4-1d7d-0fc4-ee3b-1a16"
    },
    "lc_wrapper": {
     "log_history": [
      "/notebooks/notebook/work_terayama/yjupyterhub/work/.log/20230629/20230629-163530-0482.log",
      "/notebooks/notebook/work_terayama/yjupyterhub/work/.log/20230630/20230630-185619-0242.log",
      "/notebooks/notebook/work_terayama/yjupyterhub/work/.log/20230704/20230704-115932-0349.log",
      "/notebooks/notebook/work_terayama/yjupyterhub/work/.log/20230712/20230712-173415-0313.log",
      "/notebooks/notebook/work_terayama/yjupyterhub/work/.log/20230719/20230719-153322-0244.log",
      "/notebooks/notebook/work_terayama/yjupyterhub/work/.log/20230720/20230720-114747-0598.log",
      "/notebooks/notebook/work_terayama/yjupyterhub/work/.log/20230727/20230727-141216-0794.log",
      "/notebooks/notebook/work_terayama/yjupyterhub/work/.log/20230801/20230801-152104-0358.log"
     ]
    },
    "pinned_outputs": []
   },
   "outputs": [],
   "source": [
    "target_nodes = f'{ugroup_name}_worker'\n",
    "\n",
    "!ansible {target_nodes} -m ping"
   ]
  },
  {
   "cell_type": "markdown",
   "metadata": {
    "hidden": true,
    "lc_cell_meme": {
     "current": "5c08ba14-163a-11ee-987e-0242ac110002-4-e52c-ab56-9a0a-6008",
     "history": [
      {
       "current": "5c08ba14-163a-11ee-987e-0242ac110002-1-e52c",
       "next": "5c08bad2-163a-11ee-987e-0242ac110002",
       "previous": "5c08b97e-163a-11ee-987e-0242ac110002"
      },
      {
       "current": "5c08ba14-163a-11ee-987e-0242ac110002-2-e52c-ab56",
       "next": "5c08bad2-163a-11ee-987e-0242ac110002-1-4a7f",
       "previous": "5c08b97e-163a-11ee-987e-0242ac110002-1-c7cb"
      },
      {
       "current": "5c08ba14-163a-11ee-987e-0242ac110002-3-e52c-ab56-9a0a",
       "next": "5c08bad2-163a-11ee-987e-0242ac110002-2-4a7f-1e47",
       "previous": "5c08b97e-163a-11ee-987e-0242ac110002-2-c7cb-3690"
      },
      {
       "current": "5c08ba14-163a-11ee-987e-0242ac110002-4-e52c-ab56-9a0a-6008",
       "next": "5c08bad2-163a-11ee-987e-0242ac110002-3-4a7f-1e47-5aae",
       "previous": "5c08b97e-163a-11ee-987e-0242ac110002-3-c7cb-3690-1385"
      }
     ],
     "next": "5c08bad2-163a-11ee-987e-0242ac110002-4-4a7f-1e47-5aae-2a6b",
     "previous": "5c08b97e-163a-11ee-987e-0242ac110002-4-c7cb-3690-1385-062f"
    }
   },
   "source": [
    "UnitGroup名に対応する group_varsファイルが存在していることを確認します。"
   ]
  },
  {
   "cell_type": "code",
   "execution_count": null,
   "metadata": {
    "hidden": true,
    "lc_cell_meme": {
     "current": "5c08bad2-163a-11ee-987e-0242ac110002-4-4a7f-1e47-5aae-2a6b",
     "history": [
      {
       "current": "5c08bad2-163a-11ee-987e-0242ac110002-1-4a7f",
       "next": "5c08bb72-163a-11ee-987e-0242ac110002",
       "previous": "5c08ba14-163a-11ee-987e-0242ac110002"
      },
      {
       "current": "5c08bad2-163a-11ee-987e-0242ac110002-2-4a7f-1e47",
       "next": "5c08bb72-163a-11ee-987e-0242ac110002-1-689c",
       "previous": "5c08ba14-163a-11ee-987e-0242ac110002-1-e52c"
      },
      {
       "current": "5c08bad2-163a-11ee-987e-0242ac110002-3-4a7f-1e47-5aae",
       "next": "5c08bb72-163a-11ee-987e-0242ac110002-2-689c-5659",
       "previous": "5c08ba14-163a-11ee-987e-0242ac110002-2-e52c-ab56"
      },
      {
       "current": "5c08bad2-163a-11ee-987e-0242ac110002-4-4a7f-1e47-5aae-2a6b",
       "next": "5c08bb72-163a-11ee-987e-0242ac110002-3-689c-5659-168a",
       "previous": "5c08ba14-163a-11ee-987e-0242ac110002-3-e52c-ab56-9a0a"
      }
     ],
     "next": "5c08bb72-163a-11ee-987e-0242ac110002-4-689c-5659-168a-1fe5",
     "previous": "5c08ba14-163a-11ee-987e-0242ac110002-4-e52c-ab56-9a0a-6008"
    },
    "lc_wrapper": {
     "log_history": [
      "/notebooks/notebook/work_terayama/yjupyterhub/work/.log/20230629/20230629-163532-0619.log",
      "/notebooks/notebook/work_terayama/yjupyterhub/work/.log/20230630/20230630-185623-0832.log",
      "/notebooks/notebook/work_terayama/yjupyterhub/work/.log/20230704/20230704-115934-0671.log",
      "/notebooks/notebook/work_terayama/yjupyterhub/work/.log/20230712/20230712-173417-0342.log",
      "/notebooks/notebook/work_terayama/yjupyterhub/work/.log/20230719/20230719-153330-0905.log",
      "/notebooks/notebook/work_terayama/yjupyterhub/work/.log/20230720/20230720-114751-0866.log",
      "/notebooks/notebook/work_terayama/yjupyterhub/work/.log/20230727/20230727-141221-0681.log",
      "/notebooks/notebook/work_terayama/yjupyterhub/work/.log/20230801/20230801-152107-0978.log"
     ]
    }
   },
   "outputs": [],
   "source": [
    "!test -f group_vars/{ugroup_name}"
   ]
  },
  {
   "cell_type": "markdown",
   "metadata": {
    "lc_cell_meme": {
     "current": "5c08bb72-163a-11ee-987e-0242ac110002-4-689c-5659-168a-1fe5",
     "history": [
      {
       "current": "5c08bb72-163a-11ee-987e-0242ac110002-1-689c",
       "next": "5c08bc12-163a-11ee-987e-0242ac110002",
       "previous": "5c08bad2-163a-11ee-987e-0242ac110002"
      },
      {
       "current": "5c08bb72-163a-11ee-987e-0242ac110002-1-689c",
       "next": "5c08bc12-163a-11ee-987e-0242ac110002-1-c0bc",
       "previous": "5c08bad2-163a-11ee-987e-0242ac110002-1-4a7f"
      },
      {
       "current": "5c08bb72-163a-11ee-987e-0242ac110002-2-689c-5659",
       "next": "5c08cbbc-163a-11ee-987e-0242ac110002-1-cb23",
       "previous": "5c08bad2-163a-11ee-987e-0242ac110002-1-4a7f"
      },
      {
       "current": "5c08bb72-163a-11ee-987e-0242ac110002-2-689c-5659",
       "next": "5c08cbbc-163a-11ee-987e-0242ac110002-2-cb23-f6da",
       "previous": "5c08bad2-163a-11ee-987e-0242ac110002-2-4a7f-1e47"
      },
      {
       "current": "5c08bb72-163a-11ee-987e-0242ac110002-3-689c-5659-168a",
       "next": "5c08cce8-163a-11ee-987e-0242ac110002-2-32bc-eacd",
       "previous": "5c08bad2-163a-11ee-987e-0242ac110002-2-4a7f-1e47"
      },
      {
       "current": "5c08bb72-163a-11ee-987e-0242ac110002-4-689c-5659-168a-1fe5",
       "next": "5c08cce8-163a-11ee-987e-0242ac110002-3-32bc-eacd-f1a3",
       "previous": "5c08bad2-163a-11ee-987e-0242ac110002-3-4a7f-1e47-5aae"
      }
     ],
     "next": "5c08cce8-163a-11ee-987e-0242ac110002-4-32bc-eacd-f1a3-d448",
     "previous": "5c08bad2-163a-11ee-987e-0242ac110002-4-4a7f-1e47-5aae-2a6b"
    }
   },
   "source": [
    "## パラメータの設定\n",
    "\n",
    "JupyterHubシステムに関する各種設定項目を指定します。\n",
    "\n",
    "ここで設定された項目はansible変数として保存され、ファイルのmanagerノードへの配置時に各ファイルに反映されます。"
   ]
  },
  {
   "cell_type": "markdown",
   "metadata": {
    "lc_cell_meme": {
     "current": "5c08cce8-163a-11ee-987e-0242ac110002-4-32bc-eacd-f1a3-d448",
     "history": [
      {
       "current": "5c08cce8-163a-11ee-987e-0242ac110002-1-32bc",
       "next": "5c08cd88-163a-11ee-987e-0242ac110002",
       "previous": "5c08cc52-163a-11ee-987e-0242ac110002"
      },
      {
       "current": "5c08cce8-163a-11ee-987e-0242ac110002-1-32bc",
       "next": "5c08cd88-163a-11ee-987e-0242ac110002-1-575b",
       "previous": "5c08cc52-163a-11ee-987e-0242ac110002-1-b825"
      },
      {
       "current": "5c08cce8-163a-11ee-987e-0242ac110002-1-32bc",
       "next": "5c08ce1e-163a-11ee-987e-0242ac110002-1-3bb7",
       "previous": "5c08cc52-163a-11ee-987e-0242ac110002-1-b825"
      },
      {
       "current": "5c08cce8-163a-11ee-987e-0242ac110002-2-32bc-eacd",
       "next": "259a9e24-3026-11ee-b73e-0242ac110003",
       "previous": "5c08cc52-163a-11ee-987e-0242ac110002-1-b825"
      },
      {
       "current": "5c08cce8-163a-11ee-987e-0242ac110002-2-32bc-eacd",
       "next": "259a9e24-3026-11ee-b73e-0242ac110003-1-b59f",
       "previous": "5c08cc52-163a-11ee-987e-0242ac110002-2-b825-2a54"
      },
      {
       "current": "5c08cce8-163a-11ee-987e-0242ac110002-3-32bc-eacd-f1a3",
       "next": "259a9e24-3026-11ee-b73e-0242ac110003-1-b59f",
       "previous": "5c08bb72-163a-11ee-987e-0242ac110002-2-689c-5659"
      },
      {
       "current": "5c08cce8-163a-11ee-987e-0242ac110002-4-32bc-eacd-f1a3-d448",
       "next": "259a9e24-3026-11ee-b73e-0242ac110003-2-b59f-c613",
       "previous": "5c08bb72-163a-11ee-987e-0242ac110002-3-689c-5659-168a"
      }
     ],
     "next": "259a9e24-3026-11ee-b73e-0242ac110003-3-b59f-c613-7092",
     "previous": "5c08bb72-163a-11ee-987e-0242ac110002-4-689c-5659-168a-1fe5"
    }
   },
   "source": [
    "### 必須設定項目"
   ]
  },
  {
   "cell_type": "markdown",
   "metadata": {
    "lc_cell_meme": {
     "current": "259a9e24-3026-11ee-b73e-0242ac110003-3-b59f-c613-7092",
     "execution_end_time": "2023-08-01T04:44:40.231338Z",
     "history": [
      {
       "current": "259a9e24-3026-11ee-b73e-0242ac110003",
       "next": "5c08ce1e-163a-11ee-987e-0242ac110002-1-3bb7",
       "previous": "5c08cce8-163a-11ee-987e-0242ac110002-1-32bc"
      },
      {
       "current": "259a9e24-3026-11ee-b73e-0242ac110003-1-b59f",
       "next": "3c7de47c-27aa-11ee-987e-0242ac110002",
       "previous": "5c08cce8-163a-11ee-987e-0242ac110002-1-32bc"
      },
      {
       "current": "259a9e24-3026-11ee-b73e-0242ac110003-2-b59f-c613",
       "next": "3c7de47c-27aa-11ee-987e-0242ac110002-1-0b37",
       "previous": "5c08cce8-163a-11ee-987e-0242ac110002-2-32bc-eacd"
      },
      {
       "current": "259a9e24-3026-11ee-b73e-0242ac110003-3-b59f-c613-7092",
       "next": "3c7de47c-27aa-11ee-987e-0242ac110002-2-0b37-c91b",
       "previous": "5c08cce8-163a-11ee-987e-0242ac110002-3-32bc-eacd-f1a3"
      }
     ],
     "next": "3c7de47c-27aa-11ee-987e-0242ac110002-3-0b37-c91b-7900",
     "previous": "5c08cce8-163a-11ee-987e-0242ac110002-4-32bc-eacd-f1a3-d448"
    },
    "lc_wrapper": {
     "log_history": [
      "/notebooks/notebook/work_terayama/yjupyterhub/work/.log/20230801/20230801-134440-0222.log"
     ]
    }
   },
   "source": [
    "#### パラメータ類"
   ]
  },
  {
   "cell_type": "code",
   "execution_count": null,
   "metadata": {
    "lc_cell_meme": {
     "current": "3c7de47c-27aa-11ee-987e-0242ac110002-3-0b37-c91b-7900",
     "history": [
      {
       "current": "3c7de47c-27aa-11ee-987e-0242ac110002",
       "next": "3c7de684-27aa-11ee-987e-0242ac110002",
       "previous": "5c08d0f8-163a-11ee-987e-0242ac110002-1-00f0"
      },
      {
       "current": "3c7de47c-27aa-11ee-987e-0242ac110002",
       "next": "3c7de684-27aa-11ee-987e-0242ac110002",
       "previous": "5c08ce1e-163a-11ee-987e-0242ac110002-1-3bb7"
      },
      {
       "current": "3c7de47c-27aa-11ee-987e-0242ac110002",
       "next": "5c08ce1e-163a-11ee-987e-0242ac110002-1-3bb7",
       "previous": "259a9e24-3026-11ee-b73e-0242ac110003"
      },
      {
       "current": "3c7de47c-27aa-11ee-987e-0242ac110002-1-0b37",
       "next": "20b530c4-2b60-11ee-987e-0242ac110002",
       "previous": "259a9e24-3026-11ee-b73e-0242ac110003"
      },
      {
       "current": "3c7de47c-27aa-11ee-987e-0242ac110002-2-0b37-c91b",
       "next": "20b530c4-2b60-11ee-987e-0242ac110002-1-e72a",
       "previous": "259a9e24-3026-11ee-b73e-0242ac110003-1-b59f"
      },
      {
       "current": "3c7de47c-27aa-11ee-987e-0242ac110002-2-0b37-c91b",
       "next": "20b530c4-2b60-11ee-987e-0242ac110002-2-e72a-d33c",
       "previous": "259a9e24-3026-11ee-b73e-0242ac110003-2-b59f-c613"
      },
      {
       "current": "3c7de47c-27aa-11ee-987e-0242ac110002-3-0b37-c91b-7900",
       "next": "bc32fa16-3698-11ee-b73e-0242ac110003",
       "previous": "259a9e24-3026-11ee-b73e-0242ac110003-2-b59f-c613"
      },
      {
       "current": "3c7de47c-27aa-11ee-987e-0242ac110002-3-0b37-c91b-7900",
       "next": "bc32fa16-3698-11ee-b73e-0242ac110003-1-2f8b",
       "previous": "259a9e24-3026-11ee-b73e-0242ac110003-3-b59f-c613-7092"
      }
     ],
     "next": "5c08cce8-163a-11ee-987e-0242ac110002-5-32bc-eacd-f1a3-9b13-808e",
     "previous": "259a9e24-3026-11ee-b73e-0242ac110003-3-b59f-c613-7092"
    },
    "lc_wrapper": {
     "log_history": [
      "/notebooks/notebook/work_terayama/yjupyterhub/work/.log/20230727/20230727-141233-0410.log",
      "/notebooks/notebook/work_terayama/yjupyterhub/work/.log/20230801/20230801-142829-0663.log",
      "/notebooks/notebook/work_terayama/yjupyterhub/work/.log/20230801/20230801-152119-0884.log"
     ]
    }
   },
   "outputs": [],
   "source": [
    "# JupyterHubのホスト名(FQDN) (例) 'www.sample.org'\n",
    "jupyterhub_fqdn = \n",
    "\n",
    "# lti1.3認証連携情報(moodle等)\n",
    "# lms プラットフォームID (例) 'www.sample.org'\n",
    "lms_platform_id = \n",
    "# lms クライアントID \n",
    "lms_cliend_id = \n"
   ]
  },
  {
   "cell_type": "markdown",
   "metadata": {},
   "source": [
    "受講生一覧取得方法を設定します。  \n",
    "Moodleのバージョンが4.0.0以上であれば、以下のセルを変更する必要はありません。  \n",
    "Moodleのバージョンが4.0.0未満で、NRPS（Names and Role Provisioning Services）を利用できない場合に、moodleのwebserviceを利用します。（https://tracker.moodle.org/browse/MDL-75279）\n",
    "その場合、`get_course_member_method`には`'moodle_api'`を指定し、Moodleで発行したトークンを`lms_api_token`に指定してください。"
   ]
  },
  {
   "cell_type": "code",
   "execution_count": null,
   "metadata": {},
   "outputs": [],
   "source": [
    "# get_course_member_method = 'moodle_api'\n",
    "get_course_member_method = ''\n",
    "lms_api_token = ''"
   ]
  },
  {
   "cell_type": "markdown",
   "metadata": {},
   "source": [
    "[configurable-http-proxy](https://github.com/jupyterhub/configurable-http-proxy)で使用するトークンを生成します。"
   ]
  },
  {
   "cell_type": "code",
   "execution_count": null,
   "metadata": {},
   "outputs": [],
   "source": [
    "import random\n",
    "import string\n",
    "configproxy_auth_token = ''.join([random.choice(\"abcdef\" + string.digits) for _ in range(32)])\n",
    "configproxy_auth_token"
   ]
  },
  {
   "cell_type": "markdown",
   "metadata": {
    "lc_cell_meme": {
     "current": "5c08cce8-163a-11ee-987e-0242ac110002-5-32bc-eacd-f1a3-9b13-808e",
     "history": [
      {
       "current": "5c08cce8-163a-11ee-987e-0242ac110002-1-32bc",
       "next": "5c08cd88-163a-11ee-987e-0242ac110002",
       "previous": "5c08cc52-163a-11ee-987e-0242ac110002"
      },
      {
       "current": "5c08cce8-163a-11ee-987e-0242ac110002-1-32bc",
       "next": "5c08cd88-163a-11ee-987e-0242ac110002-1-575b",
       "previous": "5c08cc52-163a-11ee-987e-0242ac110002-1-b825"
      },
      {
       "current": "5c08cce8-163a-11ee-987e-0242ac110002-1-32bc",
       "next": "5c08ce1e-163a-11ee-987e-0242ac110002-1-3bb7",
       "previous": "5c08cc52-163a-11ee-987e-0242ac110002-1-b825"
      },
      {
       "current": "5c08cce8-163a-11ee-987e-0242ac110002-2-32bc-eacd",
       "next": "259a9e24-3026-11ee-b73e-0242ac110003",
       "previous": "5c08cc52-163a-11ee-987e-0242ac110002-1-b825"
      },
      {
       "current": "5c08cce8-163a-11ee-987e-0242ac110002-2-32bc-eacd",
       "next": "259a9e24-3026-11ee-b73e-0242ac110003-1-b59f",
       "previous": "5c08cc52-163a-11ee-987e-0242ac110002-2-b825-2a54"
      },
      {
       "current": "5c08cce8-163a-11ee-987e-0242ac110002-3-32bc-eacd-f1a3",
       "next": "259a9e24-3026-11ee-b73e-0242ac110003-1-b59f",
       "previous": "5c08bb72-163a-11ee-987e-0242ac110002-2-689c-5659"
      },
      {
       "current": "5c08cce8-163a-11ee-987e-0242ac110002-4-32bc-eacd-f1a3-9b13",
       "next": "259a9e24-3026-11ee-b73e-0242ac110003-2-b59f-c613",
       "previous": "5c08bb72-163a-11ee-987e-0242ac110002-3-689c-5659-168a"
      },
      {
       "current": "5c08cce8-163a-11ee-987e-0242ac110002-4-32bc-eacd-f1a3-9b13",
       "next": "75f8440e-3687-11ee-b73e-0242ac110003",
       "previous": "218e7840-27ad-11ee-987e-0242ac110002-2-9b70-d507"
      },
      {
       "current": "5c08cce8-163a-11ee-987e-0242ac110002-5-32bc-eacd-f1a3-9b13-808e",
       "next": "d4200fc0-3d77-11ee-b73e-0242ac110003",
       "previous": "218e7840-27ad-11ee-987e-0242ac110002-2-9b70-d507"
      },
      {
       "current": "5c08cce8-163a-11ee-987e-0242ac110002-5-32bc-eacd-f1a3-9b13-808e",
       "next": "d4200fc0-3d77-11ee-b73e-0242ac110003-1-a0ae",
       "previous": "218e7840-27ad-11ee-987e-0242ac110002-3-9b70-d507-9c4a"
      }
     ],
     "next": "d4200fc0-3d77-11ee-b73e-0242ac110003-1-a0ae",
     "previous": "3c7de47c-27aa-11ee-987e-0242ac110002-3-0b37-c91b-7900"
    }
   },
   "source": [
    "### 任意設定項目"
   ]
  },
  {
   "cell_type": "markdown",
   "metadata": {
    "lc_cell_meme": {
     "current": "d4200fc0-3d77-11ee-b73e-0242ac110003-1-a0ae",
     "history": [
      {
       "current": "d4200fc0-3d77-11ee-b73e-0242ac110003-1-a0ae",
       "next": "d4201182-3d77-11ee-b73e-0242ac110003",
       "previous": "5c08cce8-163a-11ee-987e-0242ac110002-4-32bc-eacd-f1a3-9b13"
      }
     ],
     "next": "d4201182-3d77-11ee-b73e-0242ac110003-1-d3b8",
     "previous": "5c08cce8-163a-11ee-987e-0242ac110002-5-32bc-eacd-f1a3-9b13-808e"
    }
   },
   "source": [
    "#### 設定用ファイル配置\n",
    "\n",
    "テンプレートとして事前準備したファイルを、現在使用している構築用ワークディレクトリにコピーします。"
   ]
  },
  {
   "cell_type": "code",
   "execution_count": null,
   "metadata": {
    "lc_cell_meme": {
     "current": "d4201182-3d77-11ee-b73e-0242ac110003-1-d3b8",
     "history": [
      {
       "current": "d4201182-3d77-11ee-b73e-0242ac110003-1-d3b8",
       "next": "75f8440e-3687-11ee-b73e-0242ac110003",
       "previous": "d4200fc0-3d77-11ee-b73e-0242ac110003"
      }
     ],
     "next": "75f8440e-3687-11ee-b73e-0242ac110003-1-615e",
     "previous": "d4200fc0-3d77-11ee-b73e-0242ac110003-1-a0ae"
    }
   },
   "outputs": [],
   "source": [
    "!mkdir -p edit\n",
    "!cp -n ./template/jupyterhub/jupyterhub/lms_web_service.py ./edit/\n",
    "!cp -n ./template/jupyterhub/jupyterhub/jupyterhub_config.py ./edit/\n",
    "!cp -n ./template/jupyterhub/jupyterhub/jupyterhub_params.yaml ./edit/"
   ]
  },
  {
   "cell_type": "markdown",
   "metadata": {
    "lc_cell_meme": {
     "current": "259a9e24-3026-11ee-b73e-0242ac110003-4-f5f3-8a97-576d-cd43",
     "execution_end_time": "2023-08-01T04:44:40.231338Z",
     "history": [
      {
       "current": "259a9e24-3026-11ee-b73e-0242ac110003",
       "next": "5c08ce1e-163a-11ee-987e-0242ac110002-1-3bb7",
       "previous": "5c08cce8-163a-11ee-987e-0242ac110002-1-32bc"
      },
      {
       "current": "259a9e24-3026-11ee-b73e-0242ac110003-1-f5f3",
       "next": "3c7de47c-27aa-11ee-987e-0242ac110002",
       "previous": "5c08cce8-163a-11ee-987e-0242ac110002-1-32bc"
      },
      {
       "current": "259a9e24-3026-11ee-b73e-0242ac110003-2-f5f3-8a97",
       "next": "5c08ce1e-163a-11ee-987e-0242ac110002-1-3bb7",
       "previous": "218e7840-27ad-11ee-987e-0242ac110002"
      },
      {
       "current": "259a9e24-3026-11ee-b73e-0242ac110003-3-f5f3-8a97-576d",
       "next": "5c08ce1e-163a-11ee-987e-0242ac110002-2-3bb7-a01e",
       "previous": "218e7840-27ad-11ee-987e-0242ac110002-1-9b70"
      },
      {
       "current": "259a9e24-3026-11ee-b73e-0242ac110003-3-f5f3-8a97-576d",
       "next": "5c08ce1e-163a-11ee-987e-0242ac110002-3-3bb7-a01e-e4a1",
       "previous": "218e7840-27ad-11ee-987e-0242ac110002-2-9b70-d507"
      },
      {
       "current": "259a9e24-3026-11ee-b73e-0242ac110003-3-f5f3-8a97-576d",
       "next": "5c08ce1e-163a-11ee-987e-0242ac110002-3-3bb7-a01e-e4a1",
       "previous": "75f846de-3687-11ee-b73e-0242ac110003"
      },
      {
       "current": "259a9e24-3026-11ee-b73e-0242ac110003-3-f5f3-8a97-576d",
       "next": "5c08ce1e-163a-11ee-987e-0242ac110002-3-3bb7-a01e-e4a1",
       "previous": "039ace38-368f-11ee-b73e-0242ac110003"
      },
      {
       "current": "259a9e24-3026-11ee-b73e-0242ac110003-4-f5f3-8a97-576d-cd43",
       "next": "5c08ce1e-163a-11ee-987e-0242ac110002-3-3bb7-a01e-e4a1",
       "previous": "75f846de-3687-11ee-b73e-0242ac110003"
      },
      {
       "current": "259a9e24-3026-11ee-b73e-0242ac110003-4-f5f3-8a97-576d-cd43",
       "next": "5c08ce1e-163a-11ee-987e-0242ac110002-4-3bb7-a01e-e4a1-0348",
       "previous": "75f846de-3687-11ee-b73e-0242ac110003-1-e274"
      },
      {
       "current": "259a9e24-3026-11ee-b73e-0242ac110003-4-f5f3-8a97-576d-cd43",
       "next": "5c08ce1e-163a-11ee-987e-0242ac110002-4-3bb7-a01e-e4a1-0348",
       "previous": "dc83310e-5c0f-11ee-95c7-0242ac110002"
      }
     ],
     "next": "5c08ce1e-163a-11ee-987e-0242ac110002-4-3bb7-a01e-e4a1-0348",
     "previous": "75f846de-3687-11ee-b73e-0242ac110003-1-e274"
    },
    "lc_wrapper": {
     "log_history": [
      "/notebooks/notebook/work_terayama/yjupyterhub/work/.log/20230801/20230801-134440-0222.log"
     ]
    }
   },
   "source": [
    "#### パラメータ類\n",
    "\n",
    "jupyterhubで使用するDB等の接続情報等を設定します。"
   ]
  },
  {
   "cell_type": "code",
   "execution_count": null,
   "metadata": {
    "lc_cell_meme": {
     "current": "5c08ce1e-163a-11ee-987e-0242ac110002-4-3bb7-a01e-e4a1-0348",
     "history": [
      {
       "current": "5c08ce1e-163a-11ee-987e-0242ac110002-1-3bb7",
       "next": "5c08ceb4-163a-11ee-987e-0242ac110002",
       "previous": "5c08cd88-163a-11ee-987e-0242ac110002"
      },
      {
       "current": "5c08ce1e-163a-11ee-987e-0242ac110002-1-3bb7",
       "next": "5c08ceb4-163a-11ee-987e-0242ac110002-1-f2bd",
       "previous": "5c08cd88-163a-11ee-987e-0242ac110002-1-575b"
      },
      {
       "current": "5c08ce1e-163a-11ee-987e-0242ac110002-1-3bb7",
       "next": "5c08ceb4-163a-11ee-987e-0242ac110002-1-f2bd",
       "previous": "5c08cce8-163a-11ee-987e-0242ac110002-1-32bc"
      },
      {
       "current": "5c08ce1e-163a-11ee-987e-0242ac110002-1-3bb7",
       "next": "3c7de47c-27aa-11ee-987e-0242ac110002",
       "previous": "5c08cce8-163a-11ee-987e-0242ac110002-1-32bc"
      },
      {
       "current": "5c08ce1e-163a-11ee-987e-0242ac110002-1-3bb7",
       "next": "3c7de47c-27aa-11ee-987e-0242ac110002",
       "previous": "259a9e24-3026-11ee-b73e-0242ac110003"
      },
      {
       "current": "5c08ce1e-163a-11ee-987e-0242ac110002-1-3bb7",
       "next": "3c7de684-27aa-11ee-987e-0242ac110002",
       "previous": "3c7de47c-27aa-11ee-987e-0242ac110002"
      },
      {
       "current": "5c08ce1e-163a-11ee-987e-0242ac110002-1-3bb7",
       "next": "738a5612-27aa-11ee-987e-0242ac110002",
       "previous": "218e7840-27ad-11ee-987e-0242ac110002"
      },
      {
       "current": "5c08ce1e-163a-11ee-987e-0242ac110002-1-3bb7",
       "next": "738a5612-27aa-11ee-987e-0242ac110002",
       "previous": "259a9e24-3026-11ee-b73e-0242ac110003-1-f5f3"
      },
      {
       "current": "5c08ce1e-163a-11ee-987e-0242ac110002-2-3bb7-a01e",
       "next": "5c08d18e-163a-11ee-987e-0242ac110002-1-16f7",
       "previous": "259a9e24-3026-11ee-b73e-0242ac110003-1-f5f3"
      },
      {
       "current": "5c08ce1e-163a-11ee-987e-0242ac110002-3-3bb7-a01e-e4a1",
       "next": "5c08d18e-163a-11ee-987e-0242ac110002-2-16f7-fe99",
       "previous": "259a9e24-3026-11ee-b73e-0242ac110003-2-f5f3-8a97"
      },
      {
       "current": "5c08ce1e-163a-11ee-987e-0242ac110002-3-3bb7-a01e-e4a1",
       "next": "5c08d18e-163a-11ee-987e-0242ac110002-3-16f7-fe99-d203",
       "previous": "259a9e24-3026-11ee-b73e-0242ac110003-3-f5f3-8a97-576d"
      },
      {
       "current": "5c08ce1e-163a-11ee-987e-0242ac110002-4-3bb7-a01e-e4a1-0348",
       "next": "4494aabe-3d77-11ee-b73e-0242ac110003",
       "previous": "259a9e24-3026-11ee-b73e-0242ac110003-3-f5f3-8a97-576d"
      }
     ],
     "next": "4494aabe-3d77-11ee-b73e-0242ac110003-1-09c0",
     "previous": "259a9e24-3026-11ee-b73e-0242ac110003-4-f5f3-8a97-576d-cd43"
    },
    "lc_wrapper": {
     "log_history": [
      "/notebooks/notebook/work_terayama/yjupyterhub/work/.log/20230727/20230727-141232-0808.log",
      "/notebooks/notebook/work_terayama/yjupyterhub/work/.log/20230801/20230801-142556-0814.log",
      "/notebooks/notebook/work_terayama/yjupyterhub/work/.log/20230801/20230801-143903-0447.log",
      "/notebooks/notebook/work_terayama/yjupyterhub/work/.log/20230801/20230801-152124-0083.log",
      "/notebooks/notebook/work_terayama/yjupyterhub/work/.log/20230801/20230801-164932-0673.log",
      "/notebooks/notebook/work_terayama/yjupyterhub/work/.log/20230801/20230801-165307-0503.log",
      "/notebooks/notebook/work_terayama/yjupyterhub/work/.log/20230801/20230801-174203-0070.log"
     ]
    },
    "pinned_outputs": []
   },
   "outputs": [],
   "source": [
    "# メールアドレスドメイン設定\n",
    "email_domain = 'example.com'\n",
    "\n",
    "# JupyterhubDB接続情報\n",
    "db_user = 'jupyter'\n",
    "db_password = 'PassWordDesu'\n",
    "\n",
    "# Jupyterhub用LDAPサーバ（ローカルLDAP）\n",
    "ldap_admin = 'Manager'\n",
    "ldap_password = 'PassWordDesu'\n",
    "\n",
    "# Jupyterhub 初期設定\n",
    "jupyterhub_admin_users = ['admin']\n",
    "\n",
    "# single-user notebook server コンテナイメージ\n",
    "singleuser_image = 'mcj-cloudhub-nb:latest'\n",
    "\n",
    "# 共有ディレクトリパス\n",
    "home_directory_root = '/jupyter'\n",
    "share_directory_root = '/exchange'\n",
    "\n",
    "# dockerネットワーク\n",
    "swarm_network = 'jupyterhub-network'\n",
    "\n",
    "# ユーザを一意に識別するキー\n",
    "lti_username_key = 'sub'\n",
    "\n",
    "# ユーザのcookieの有効日数(0.25日=6時間)\n",
    "cookie_max_age_days = 0.25\n",
    "\n",
    "# Jupyterhubコンテナイメージ\n",
    "jupyterhub_image = 'mcj-cloudhub:latest'\n",
    "\n",
    "# single-user notebook server コンテナをDocker Swarmのどのノードで起動するか\n",
    "# node_role = 'manager'\n",
    "node_role = 'worker'\n"
   ]
  },
  {
   "cell_type": "markdown",
   "metadata": {},
   "source": [
    "single-user notebook serverコンテナのリソース制限等を設定します。  \n",
    "変更する場合、以下の内容を書き換えてください。  \n",
    "\n",
    "[参考: DockerSpawner API](https://jupyterhub-dockerspawner.readthedocs.io/en/latest/api/index.html)\n",
    "\n",
    "また、idle状態のsingle-user notebook serverコンテナを定期的にシャットダウンするサービスを稼働させるため、idle状態でのタイムアウトの時間設定を変更する場合もこちらで行ってください。デフォルトでは、1分に1回、idle状態かどうかのチェックを行い、600秒＝10分間idle状態が続いているコンテナはシャットダウンするように設定しています。  \n",
    "idle状態のコンテナも起動したままにしたい場合、`cull_server_timeout`の値を0に設定してください。  \n",
    "\n",
    "[参考: jupyterhub-idle-culler](https://github.com/jupyterhub/jupyterhub-idle-culler)"
   ]
  },
  {
   "cell_type": "code",
   "execution_count": null,
   "metadata": {},
   "outputs": [],
   "source": [
    "import yaml\n",
    "from pathlib import Path\n",
    "\n",
    "path = Path('edit/jupyterhub_params.yaml')\n",
    "with path.open() as f:\n",
    "    params = yaml.safe_load(f)\n",
    "\n",
    "params.update({\n",
    "    'resource': {\n",
    "        'groups': {\n",
    "            'student': {\n",
    "                'mem_limit': '1G',\n",
    "                'cpu_limit': 0.5,\n",
    "                'mem_guarantee': 0,\n",
    "                'cpu_guarantee': 0,\n",
    "            },\n",
    "            'teacher': {\n",
    "                'mem_limit': '1G',\n",
    "                'cpu_limit': 1.0,\n",
    "                'mem_guarantee': 0,\n",
    "                'cpu_guarantee': 0,\n",
    "            },\n",
    "        },\n",
    "    },\n",
    "    'cull_server': {\n",
    "        'cull_server_timeout': 600,\n",
    "        'cull_server_every': 60,\n",
    "        'cull_server_max_age': 0,\n",
    "    },\n",
    "})\n",
    "\n",
    "with path.open(mode='w') as f:\n",
    "    yaml.safe_dump(params, stream=f)"
   ]
  },
  {
   "cell_type": "markdown",
   "metadata": {
    "lc_cell_meme": {
     "current": "4494aabe-3d77-11ee-b73e-0242ac110003-1-09c0",
     "history": [
      {
       "current": "4494aabe-3d77-11ee-b73e-0242ac110003-1-09c0",
       "next": "4494ad98-3d77-11ee-b73e-0242ac110003",
       "previous": "5c08ce1e-163a-11ee-987e-0242ac110002-3-3bb7-a01e-e4a1"
      }
     ],
     "next": "4494ad98-3d77-11ee-b73e-0242ac110003-1-b860",
     "previous": "5c08ce1e-163a-11ee-987e-0242ac110002-4-3bb7-a01e-e4a1-0348"
    }
   },
   "source": [
    "#### その他Jupyterhubで設定可能な項目\n",
    "\n",
    "その他、Jupyterhubで設定可能な項目は、[Jupyterhub公式ドキュメント](https://jupyterhub.readthedocs.io/en/1.4.2/reference/config-reference.html)等を参照し、`jupyterhub_config.py`を直接編集してください。\n",
    "\n",
    "以下のセルを実行すると、編集対象の`jupyterhub_config.py`の編集画面へのリンクを表示します。"
   ]
  },
  {
   "cell_type": "code",
   "execution_count": null,
   "metadata": {
    "lc_cell_meme": {
     "current": "4494ad98-3d77-11ee-b73e-0242ac110003-1-b860",
     "history": [
      {
       "current": "4494ad98-3d77-11ee-b73e-0242ac110003-1-b860",
       "next": "5c08d18e-163a-11ee-987e-0242ac110002-3-16f7-fe99-d203",
       "previous": "4494aabe-3d77-11ee-b73e-0242ac110003"
      }
     ],
     "next": "5c08d18e-163a-11ee-987e-0242ac110002-4-16f7-fe99-d203-4a39",
     "previous": "4494aabe-3d77-11ee-b73e-0242ac110003-1-09c0"
    }
   },
   "outputs": [],
   "source": [
    "%run scripts/edit_conf.py\n",
    "generate_edit_link_config()"
   ]
  },
  {
   "cell_type": "markdown",
   "metadata": {
    "heading_collapsed": true,
    "lc_cell_meme": {
     "current": "5c08d18e-163a-11ee-987e-0242ac110002-4-16f7-fe99-d203-4a39",
     "history": [
      {
       "current": "5c08d18e-163a-11ee-987e-0242ac110002-1-16f7",
       "next": "5c08d22e-163a-11ee-987e-0242ac110002",
       "previous": "5c08d0f8-163a-11ee-987e-0242ac110002"
      },
      {
       "current": "5c08d18e-163a-11ee-987e-0242ac110002-1-16f7",
       "next": "5c08d22e-163a-11ee-987e-0242ac110002-1-8b1a",
       "previous": "5c08d0f8-163a-11ee-987e-0242ac110002-1-00f0"
      },
      {
       "current": "5c08d18e-163a-11ee-987e-0242ac110002-1-16f7",
       "next": "5c08d22e-163a-11ee-987e-0242ac110002-1-8b1a",
       "previous": "3c7de684-27aa-11ee-987e-0242ac110002"
      },
      {
       "current": "5c08d18e-163a-11ee-987e-0242ac110002-1-16f7",
       "next": "5c08d22e-163a-11ee-987e-0242ac110002-1-8b1a",
       "previous": "738a5612-27aa-11ee-987e-0242ac110002"
      },
      {
       "current": "5c08d18e-163a-11ee-987e-0242ac110002-1-16f7",
       "next": "5c08d22e-163a-11ee-987e-0242ac110002-1-8b1a",
       "previous": "218e7840-27ad-11ee-987e-0242ac110002"
      },
      {
       "current": "5c08d18e-163a-11ee-987e-0242ac110002-1-16f7",
       "next": "5c08d22e-163a-11ee-987e-0242ac110002-1-8b1a",
       "previous": "f3ffe08c-2b65-11ee-987e-0242ac110002"
      },
      {
       "current": "5c08d18e-163a-11ee-987e-0242ac110002-1-16f7",
       "next": "5c08d22e-163a-11ee-987e-0242ac110002-1-8b1a",
       "previous": "3b946474-2d21-11ee-987e-0242ac110002"
      },
      {
       "current": "5c08d18e-163a-11ee-987e-0242ac110002-1-16f7",
       "next": "5c08d22e-163a-11ee-987e-0242ac110002-1-8b1a",
       "previous": "738a5612-27aa-11ee-987e-0242ac110002"
      },
      {
       "current": "5c08d18e-163a-11ee-987e-0242ac110002-2-16f7-fe99",
       "next": "5c08d22e-163a-11ee-987e-0242ac110002-1-8b1a",
       "previous": "5c08ce1e-163a-11ee-987e-0242ac110002-1-3bb7"
      },
      {
       "current": "5c08d18e-163a-11ee-987e-0242ac110002-3-16f7-fe99-d203",
       "next": "5c08d22e-163a-11ee-987e-0242ac110002-2-8b1a-4c2b",
       "previous": "5c08ce1e-163a-11ee-987e-0242ac110002-2-3bb7-a01e"
      },
      {
       "current": "5c08d18e-163a-11ee-987e-0242ac110002-3-16f7-fe99-d203",
       "next": "5c08d22e-163a-11ee-987e-0242ac110002-3-8b1a-4c2b-f611",
       "previous": "5c08ce1e-163a-11ee-987e-0242ac110002-3-3bb7-a01e-e4a1"
      },
      {
       "current": "5c08d18e-163a-11ee-987e-0242ac110002-4-16f7-fe99-d203-4a39",
       "next": "5c08d22e-163a-11ee-987e-0242ac110002-3-8b1a-4c2b-f611",
       "previous": "4494ad98-3d77-11ee-b73e-0242ac110003"
      }
     ],
     "next": "5c08d22e-163a-11ee-987e-0242ac110002-4-8b1a-4c2b-f611-c972",
     "previous": "4494ad98-3d77-11ee-b73e-0242ac110003-1-b860"
    }
   },
   "source": [
    "### オーバーレイネットワークの指定"
   ]
  },
  {
   "cell_type": "markdown",
   "metadata": {
    "hidden": true,
    "lc_cell_meme": {
     "current": "5c08d22e-163a-11ee-987e-0242ac110002-4-8b1a-4c2b-f611-c972",
     "history": [
      {
       "current": "5c08d22e-163a-11ee-987e-0242ac110002-1-8b1a",
       "next": "5c08d2c4-163a-11ee-987e-0242ac110002",
       "previous": "5c08d18e-163a-11ee-987e-0242ac110002"
      },
      {
       "current": "5c08d22e-163a-11ee-987e-0242ac110002-2-8b1a-4c2b",
       "next": "5c08d2c4-163a-11ee-987e-0242ac110002-1-3a36",
       "previous": "5c08d18e-163a-11ee-987e-0242ac110002-1-16f7"
      },
      {
       "current": "5c08d22e-163a-11ee-987e-0242ac110002-3-8b1a-4c2b-f611",
       "next": "5c08d2c4-163a-11ee-987e-0242ac110002-2-3a36-836b",
       "previous": "5c08d18e-163a-11ee-987e-0242ac110002-2-16f7-fe99"
      },
      {
       "current": "5c08d22e-163a-11ee-987e-0242ac110002-4-8b1a-4c2b-f611-c972",
       "next": "5c08d2c4-163a-11ee-987e-0242ac110002-3-3a36-836b-972a",
       "previous": "5c08d18e-163a-11ee-987e-0242ac110002-3-16f7-fe99-d203"
      }
     ],
     "next": "5c08d2c4-163a-11ee-987e-0242ac110002-4-3a36-836b-972a-e8c8",
     "previous": "5c08d18e-163a-11ee-987e-0242ac110002-4-16f7-fe99-d203-4a39"
    }
   },
   "source": [
    "JupyterhubHubのコンテナはDocker Swarmのオーバーレイネットワークで実行されます。オーバーレイネットワークに割り当てるサブネットを指定します。\n",
    "\n",
    "> 基本的にはデフォルト値からの変更は不要ですが、VCノードに割り当てられているIPアドレスと範囲が重複している場合は他のサブネットに変更して下さい。"
   ]
  },
  {
   "cell_type": "code",
   "execution_count": null,
   "metadata": {
    "hidden": true,
    "lc_cell_meme": {
     "current": "5c08d2c4-163a-11ee-987e-0242ac110002-4-3a36-836b-972a-e8c8",
     "history": [
      {
       "current": "5c08d2c4-163a-11ee-987e-0242ac110002-1-3a36",
       "next": "5c08d364-163a-11ee-987e-0242ac110002",
       "previous": "5c08d22e-163a-11ee-987e-0242ac110002"
      },
      {
       "current": "5c08d2c4-163a-11ee-987e-0242ac110002-2-3a36-836b",
       "next": "5c08d364-163a-11ee-987e-0242ac110002-1-7eb5",
       "previous": "5c08d22e-163a-11ee-987e-0242ac110002-1-8b1a"
      },
      {
       "current": "5c08d2c4-163a-11ee-987e-0242ac110002-3-3a36-836b-972a",
       "next": "5c08d364-163a-11ee-987e-0242ac110002-2-7eb5-ac27",
       "previous": "5c08d22e-163a-11ee-987e-0242ac110002-2-8b1a-4c2b"
      },
      {
       "current": "5c08d2c4-163a-11ee-987e-0242ac110002-4-3a36-836b-972a-e8c8",
       "next": "5c08d364-163a-11ee-987e-0242ac110002-3-7eb5-ac27-71a4",
       "previous": "5c08d22e-163a-11ee-987e-0242ac110002-3-8b1a-4c2b-f611"
      }
     ],
     "next": "5c08d364-163a-11ee-987e-0242ac110002-4-7eb5-ac27-71a4-57f0",
     "previous": "5c08d22e-163a-11ee-987e-0242ac110002-4-8b1a-4c2b-f611-c972"
    },
    "lc_wrapper": {
     "log_history": [
      "/notebooks/notebook/work_terayama/yjupyterhub/work/.log/20230629/20230629-164920-0473.log",
      "/notebooks/notebook/work_terayama/yjupyterhub/work/.log/20230630/20230630-185649-0606.log",
      "/notebooks/notebook/work_terayama/yjupyterhub/work/.log/20230704/20230704-120023-0127.log",
      "/notebooks/notebook/work_terayama/yjupyterhub/work/.log/20230712/20230712-173428-0025.log",
      "/notebooks/notebook/work_terayama/yjupyterhub/work/.log/20230719/20230719-153351-0253.log",
      "/notebooks/notebook/work_terayama/yjupyterhub/work/.log/20230720/20230720-114800-0639.log",
      "/notebooks/notebook/work_terayama/yjupyterhub/work/.log/20230727/20230727-141308-0397.log",
      "/notebooks/notebook/work_terayama/yjupyterhub/work/.log/20230801/20230801-142856-0709.log",
      "/notebooks/notebook/work_terayama/yjupyterhub/work/.log/20230801/20230801-152127-0605.log"
     ]
    }
   },
   "outputs": [],
   "source": [
    "# (例)\n",
    "# jupyterhub_backend = '10.1.0.0/20'\n",
    "\n",
    "jupyterhub_backend = '10.1.0.0/20'"
   ]
  },
  {
   "cell_type": "markdown",
   "metadata": {
    "hidden": true,
    "lc_cell_meme": {
     "current": "5c08d364-163a-11ee-987e-0242ac110002-4-7eb5-ac27-71a4-57f0",
     "history": [
      {
       "current": "5c08d364-163a-11ee-987e-0242ac110002-1-7eb5",
       "next": "5c08d3fa-163a-11ee-987e-0242ac110002",
       "previous": "5c08d2c4-163a-11ee-987e-0242ac110002"
      },
      {
       "current": "5c08d364-163a-11ee-987e-0242ac110002-2-7eb5-ac27",
       "next": "5c08d3fa-163a-11ee-987e-0242ac110002-1-4dde",
       "previous": "5c08d2c4-163a-11ee-987e-0242ac110002-1-3a36"
      },
      {
       "current": "5c08d364-163a-11ee-987e-0242ac110002-3-7eb5-ac27-71a4",
       "next": "5c08d3fa-163a-11ee-987e-0242ac110002-2-4dde-06d0",
       "previous": "5c08d2c4-163a-11ee-987e-0242ac110002-2-3a36-836b"
      },
      {
       "current": "5c08d364-163a-11ee-987e-0242ac110002-4-7eb5-ac27-71a4-57f0",
       "next": "5c08d3fa-163a-11ee-987e-0242ac110002-3-4dde-06d0-b0cd",
       "previous": "5c08d2c4-163a-11ee-987e-0242ac110002-3-3a36-836b-972a"
      }
     ],
     "next": "5c08d3fa-163a-11ee-987e-0242ac110002-4-4dde-06d0-b0cd-911f",
     "previous": "5c08d2c4-163a-11ee-987e-0242ac110002-4-3a36-836b-972a-e8c8"
    }
   },
   "source": [
    "指定されたサブネットがVCノードに割り当てられているIPアドレスと重なっていないことをチェックします。次のセルを実行してエラーとならないことを確認してください。"
   ]
  },
  {
   "cell_type": "code",
   "execution_count": null,
   "metadata": {
    "hidden": true,
    "lc_cell_meme": {
     "current": "5c08d3fa-163a-11ee-987e-0242ac110002-4-4dde-06d0-b0cd-911f",
     "history": [
      {
       "current": "5c08d3fa-163a-11ee-987e-0242ac110002-1-4dde",
       "next": "5c08d49a-163a-11ee-987e-0242ac110002",
       "previous": "5c08d364-163a-11ee-987e-0242ac110002"
      },
      {
       "current": "5c08d3fa-163a-11ee-987e-0242ac110002-2-4dde-06d0",
       "next": "5c08d49a-163a-11ee-987e-0242ac110002-1-b3a9",
       "previous": "5c08d364-163a-11ee-987e-0242ac110002-1-7eb5"
      },
      {
       "current": "5c08d3fa-163a-11ee-987e-0242ac110002-3-4dde-06d0-b0cd",
       "next": "5c08d49a-163a-11ee-987e-0242ac110002-2-b3a9-203e",
       "previous": "5c08d364-163a-11ee-987e-0242ac110002-2-7eb5-ac27"
      },
      {
       "current": "5c08d3fa-163a-11ee-987e-0242ac110002-4-4dde-06d0-b0cd-911f",
       "next": "5c08d49a-163a-11ee-987e-0242ac110002-3-b3a9-203e-e5d2",
       "previous": "5c08d364-163a-11ee-987e-0242ac110002-3-7eb5-ac27-71a4"
      }
     ],
     "next": "5c08d49a-163a-11ee-987e-0242ac110002-4-b3a9-203e-e5d2-122f",
     "previous": "5c08d364-163a-11ee-987e-0242ac110002-4-7eb5-ac27-71a4-57f0"
    },
    "lc_wrapper": {
     "log_history": [
      "/notebooks/notebook/work_terayama/yjupyterhub/work/.log/20230629/20230629-164921-0793.log",
      "/notebooks/notebook/work_terayama/yjupyterhub/work/.log/20230629/20230629-164955-0481.log",
      "/notebooks/notebook/work_terayama/yjupyterhub/work/.log/20230630/20230630-185653-0274.log",
      "/notebooks/notebook/work_terayama/yjupyterhub/work/.log/20230704/20230704-120026-0143.log",
      "/notebooks/notebook/work_terayama/yjupyterhub/work/.log/20230712/20230712-173431-0007.log",
      "/notebooks/notebook/work_terayama/yjupyterhub/work/.log/20230719/20230719-153352-0191.log",
      "/notebooks/notebook/work_terayama/yjupyterhub/work/.log/20230720/20230720-114805-0576.log",
      "/notebooks/notebook/work_terayama/yjupyterhub/work/.log/20230727/20230727-141309-0286.log",
      "/notebooks/notebook/work_terayama/yjupyterhub/work/.log/20230801/20230801-152128-0770.log"
     ]
    },
    "scrolled": true
   },
   "outputs": [],
   "source": [
    "!ansible-playbook -v -e jupyterhub_backend={jupyterhub_backend} -l {ugroup_name} \\\n",
    "    playbooks/check-subnet.yml"
   ]
  },
  {
   "cell_type": "markdown",
   "metadata": {
    "heading_collapsed": true,
    "lc_cell_meme": {
     "current": "5c08d49a-163a-11ee-987e-0242ac110002-4-b3a9-203e-e5d2-122f",
     "history": [
      {
       "current": "5c08d49a-163a-11ee-987e-0242ac110002-1-b3a9",
       "next": "5c08d530-163a-11ee-987e-0242ac110002",
       "previous": "5c08d3fa-163a-11ee-987e-0242ac110002"
      },
      {
       "current": "5c08d49a-163a-11ee-987e-0242ac110002-2-b3a9-203e",
       "next": "5c08d530-163a-11ee-987e-0242ac110002-1-43c0",
       "previous": "5c08d3fa-163a-11ee-987e-0242ac110002-1-4dde"
      },
      {
       "current": "5c08d49a-163a-11ee-987e-0242ac110002-3-b3a9-203e-e5d2",
       "next": "5c08d530-163a-11ee-987e-0242ac110002-2-43c0-3f72",
       "previous": "5c08d3fa-163a-11ee-987e-0242ac110002-2-4dde-06d0"
      },
      {
       "current": "5c08d49a-163a-11ee-987e-0242ac110002-4-b3a9-203e-e5d2-122f",
       "next": "5c08d530-163a-11ee-987e-0242ac110002-3-43c0-3f72-0bbf",
       "previous": "5c08d3fa-163a-11ee-987e-0242ac110002-3-4dde-06d0-b0cd"
      }
     ],
     "next": "5c08d530-163a-11ee-987e-0242ac110002-4-43c0-3f72-0bbf-93b2",
     "previous": "5c08d3fa-163a-11ee-987e-0242ac110002-4-4dde-06d0-b0cd-911f"
    }
   },
   "source": [
    "### パラメータの保存\n",
    "\n",
    "ここまで指定したパラメータを ansible の変数として `group_vars`ファイルに保存します。"
   ]
  },
  {
   "cell_type": "code",
   "execution_count": null,
   "metadata": {
    "hidden": true,
    "lc_cell_meme": {
     "current": "5c08d530-163a-11ee-987e-0242ac110002-4-43c0-3f72-0bbf-93b2",
     "history": [
      {
       "current": "5c08d530-163a-11ee-987e-0242ac110002-1-43c0",
       "next": "5c08d5c6-163a-11ee-987e-0242ac110002",
       "previous": "5c08d49a-163a-11ee-987e-0242ac110002"
      },
      {
       "current": "5c08d530-163a-11ee-987e-0242ac110002-2-43c0-3f72",
       "next": "5c08d5c6-163a-11ee-987e-0242ac110002-1-aeed",
       "previous": "5c08d49a-163a-11ee-987e-0242ac110002-1-b3a9"
      },
      {
       "current": "5c08d530-163a-11ee-987e-0242ac110002-3-43c0-3f72-0bbf",
       "next": "5c08d5c6-163a-11ee-987e-0242ac110002-2-aeed-fe11",
       "previous": "5c08d49a-163a-11ee-987e-0242ac110002-2-b3a9-203e"
      },
      {
       "current": "5c08d530-163a-11ee-987e-0242ac110002-4-43c0-3f72-0bbf-93b2",
       "next": "5c08d5c6-163a-11ee-987e-0242ac110002-3-aeed-fe11-ec02",
       "previous": "5c08d49a-163a-11ee-987e-0242ac110002-3-b3a9-203e-e5d2"
      }
     ],
     "next": "5c08d5c6-163a-11ee-987e-0242ac110002-4-aeed-fe11-ec02-95d4",
     "previous": "5c08d49a-163a-11ee-987e-0242ac110002-4-b3a9-203e-e5d2-122f"
    },
    "lc_wrapper": {
     "log_history": [
      "/notebooks/notebook/work_terayama/yjupyterhub/work/.log/20230629/20230629-165033-0096.log",
      "/notebooks/notebook/work_terayama/yjupyterhub/work/.log/20230630/20230630-185705-0951.log",
      "/notebooks/notebook/work_terayama/yjupyterhub/work/.log/20230704/20230704-120041-0191.log",
      "/notebooks/notebook/work_terayama/yjupyterhub/work/.log/20230712/20230712-173439-0315.log",
      "/notebooks/notebook/work_terayama/yjupyterhub/work/.log/20230719/20230719-153358-0916.log",
      "/notebooks/notebook/work_terayama/yjupyterhub/work/.log/20230720/20230720-114811-0140.log",
      "/notebooks/notebook/work_terayama/yjupyterhub/work/.log/20230727/20230727-141314-0174.log",
      "/notebooks/notebook/work_terayama/yjupyterhub/work/.log/20230727/20230727-141343-0820.log",
      "/notebooks/notebook/work_terayama/yjupyterhub/work/.log/20230801/20230801-142817-0722.log",
      "/notebooks/notebook/work_terayama/yjupyterhub/work/.log/20230801/20230801-142833-0982.log",
      "/notebooks/notebook/work_terayama/yjupyterhub/work/.log/20230801/20230801-142859-0832.log",
      "/notebooks/notebook/work_terayama/yjupyterhub/work/.log/20230801/20230801-143906-0274.log",
      "/notebooks/notebook/work_terayama/yjupyterhub/work/.log/20230801/20230801-152146-0622.log",
      "/notebooks/notebook/work_terayama/yjupyterhub/work/.log/20230801/20230801-164959-0736.log",
      "/notebooks/notebook/work_terayama/yjupyterhub/work/.log/20230801/20230801-174212-0535.log",
      "/notebooks/notebook/work_terayama/yjupyterhub/work/.log/20230801/20230801-180646-0826.log"
     ]
    }
   },
   "outputs": [],
   "source": [
    "import yaml\n",
    "from pathlib import Path\n",
    "\n",
    "gvars_path = Path(f'group_vars/{ugroup_name}')\n",
    "with gvars_path.open() as f:\n",
    "    gvars = yaml.safe_load(f)\n",
    "\n",
    "gvars.update({\n",
    "    'swarm_network': swarm_network,\n",
    "    'jupyterhub_backend': jupyterhub_backend,\n",
    "    'jupyterhub_fqdn': jupyterhub_fqdn,\n",
    "    'db_user': db_user,\n",
    "    'db_password': db_password,\n",
    "    'email_domain': email_domain,\n",
    "    'jupyterhub_admin_users': jupyterhub_admin_users,\n",
    "    'lms_platform_id': lms_platform_id,\n",
    "    'lms_cliend_id': lms_cliend_id,\n",
    "    'lms_api_token': lms_api_token if 'lms_api_token' in locals() else '',\n",
    "    'get_course_member_method': get_course_member_method if 'get_course_member_method' in locals() else '',\n",
    "    'singleuser_image': singleuser_image,\n",
    "    'singleuser_image_no_tag': singleuser_image.split(':')[0],\n",
    "    'ldap_password': ldap_password,\n",
    "    'ldap_admin': ldap_admin,\n",
    "    'home_directory_root': home_directory_root,\n",
    "    'share_directory_root': share_directory_root,\n",
    "    'lti_username_key': lti_username_key,\n",
    "    'cookie_max_age_days': cookie_max_age_days,\n",
    "    'configproxy_auth_token': configproxy_auth_token,\n",
    "    'jupyterhub_image': jupyterhub_image,\n",
    "    'node_role': node_role,\n",
    "    'ldap_admin': ldap_admin,\n",
    "})\n",
    "\n",
    "with gvars_path.open(mode='w') as f:\n",
    "    yaml.safe_dump(gvars, stream=f)"
   ]
  },
  {
   "cell_type": "markdown",
   "metadata": {
    "lc_cell_meme": {
     "current": "5c08d5c6-163a-11ee-987e-0242ac110002-4-aeed-fe11-ec02-95d4",
     "history": [
      {
       "current": "5c08d5c6-163a-11ee-987e-0242ac110002-1-aeed",
       "next": "5c08d65c-163a-11ee-987e-0242ac110002",
       "previous": "5c08d530-163a-11ee-987e-0242ac110002"
      },
      {
       "current": "5c08d5c6-163a-11ee-987e-0242ac110002-1-aeed",
       "next": "5c08d65c-163a-11ee-987e-0242ac110002-1-9bb8",
       "previous": "5c08d530-163a-11ee-987e-0242ac110002-1-43c0"
      },
      {
       "current": "5c08d5c6-163a-11ee-987e-0242ac110002-1-aeed",
       "next": "5c08d65c-163a-11ee-987e-0242ac110002-2-9bb8-3a55",
       "previous": "5c08d530-163a-11ee-987e-0242ac110002-1-43c0"
      },
      {
       "current": "5c08d5c6-163a-11ee-987e-0242ac110002-2-aeed-fe11",
       "next": "5c08d65c-163a-11ee-987e-0242ac110002-1-9bb8",
       "previous": "5c08d530-163a-11ee-987e-0242ac110002-1-43c0"
      },
      {
       "current": "5c08d5c6-163a-11ee-987e-0242ac110002-3-aeed-fe11-ec02",
       "next": "5c08d65c-163a-11ee-987e-0242ac110002-2-9bb8-43a3",
       "previous": "5c08d530-163a-11ee-987e-0242ac110002-2-43c0-3f72"
      },
      {
       "current": "5c08d5c6-163a-11ee-987e-0242ac110002-4-aeed-fe11-ec02-95d4",
       "next": "5c08d65c-163a-11ee-987e-0242ac110002-3-9bb8-43a3-e963",
       "previous": "5c08d530-163a-11ee-987e-0242ac110002-3-43c0-3f72-0bbf"
      }
     ],
     "next": "5c08d65c-163a-11ee-987e-0242ac110002-4-9bb8-43a3-e963-852e",
     "previous": "5c08d530-163a-11ee-987e-0242ac110002-4-43c0-3f72-0bbf-93b2"
    }
   },
   "source": [
    "## JupyterHubのセットアップ\n",
    "\n",
    "JupyterHubの構成要素となる、各コンテナのセットアップを行います。"
   ]
  },
  {
   "cell_type": "markdown",
   "metadata": {
    "lc_cell_meme": {
     "current": "5c08d65c-163a-11ee-987e-0242ac110002-4-9bb8-43a3-e963-852e",
     "history": [
      {
       "current": "5c08d65c-163a-11ee-987e-0242ac110002-1-9bb8",
       "next": "5c08d6f2-163a-11ee-987e-0242ac110002",
       "previous": "5c08d5c6-163a-11ee-987e-0242ac110002"
      },
      {
       "current": "5c08d65c-163a-11ee-987e-0242ac110002-1-9bb8",
       "next": "5c08d6f2-163a-11ee-987e-0242ac110002-1-2f6e",
       "previous": "5c08d5c6-163a-11ee-987e-0242ac110002-1-aeed"
      },
      {
       "current": "5c08d65c-163a-11ee-987e-0242ac110002-1-9bb8",
       "next": "5c08d6f2-163a-11ee-987e-0242ac110002-1-2f6e",
       "previous": "5c08d65c-163a-11ee-987e-0242ac110002-2-9bb8-3a55"
      },
      {
       "current": "5c08d65c-163a-11ee-987e-0242ac110002-2-9bb8-43a3",
       "next": "5c08d6f2-163a-11ee-987e-0242ac110002-1-2f6e",
       "previous": "5c08d5c6-163a-11ee-987e-0242ac110002-1-aeed"
      },
      {
       "current": "5c08d65c-163a-11ee-987e-0242ac110002-3-9bb8-43a3-e963",
       "next": "5c08d6f2-163a-11ee-987e-0242ac110002-2-2f6e-411a",
       "previous": "5c08d5c6-163a-11ee-987e-0242ac110002-2-aeed-fe11"
      },
      {
       "current": "5c08d65c-163a-11ee-987e-0242ac110002-4-9bb8-43a3-e963-852e",
       "next": "5c08d6f2-163a-11ee-987e-0242ac110002-3-2f6e-411a-8d29",
       "previous": "5c08d5c6-163a-11ee-987e-0242ac110002-3-aeed-fe11-ec02"
      }
     ],
     "next": "5c08d6f2-163a-11ee-987e-0242ac110002-4-2f6e-411a-8d29-c252",
     "previous": "5c08d5c6-163a-11ee-987e-0242ac110002-4-aeed-fe11-ec02-95d4"
    }
   },
   "source": [
    "### Nginx\n",
    "\n",
    "Managerノードに構築する、Nginx コンテナに関するセットアップを行います。"
   ]
  },
  {
   "cell_type": "markdown",
   "metadata": {
    "lc_cell_meme": {
     "current": "5c08d6f2-163a-11ee-987e-0242ac110002-4-2f6e-411a-8d29-c252",
     "history": [
      {
       "current": "5c08d6f2-163a-11ee-987e-0242ac110002-1-2f6e",
       "next": "5c08d788-163a-11ee-987e-0242ac110002",
       "previous": "5c08d65c-163a-11ee-987e-0242ac110002"
      },
      {
       "current": "5c08d6f2-163a-11ee-987e-0242ac110002-2-2f6e-411a",
       "next": "5c08d788-163a-11ee-987e-0242ac110002-1-a015",
       "previous": "5c08d65c-163a-11ee-987e-0242ac110002-1-9bb8"
      },
      {
       "current": "5c08d6f2-163a-11ee-987e-0242ac110002-3-2f6e-411a-8d29",
       "next": "5c08d788-163a-11ee-987e-0242ac110002-2-a015-4ed1",
       "previous": "5c08d65c-163a-11ee-987e-0242ac110002-2-9bb8-43a3"
      },
      {
       "current": "5c08d6f2-163a-11ee-987e-0242ac110002-4-2f6e-411a-8d29-c252",
       "next": "5c08d788-163a-11ee-987e-0242ac110002-3-a015-4ed1-f631",
       "previous": "5c08d65c-163a-11ee-987e-0242ac110002-3-9bb8-43a3-e963"
      }
     ],
     "next": "5c08d788-163a-11ee-987e-0242ac110002-4-a015-4ed1-f631-68d8",
     "previous": "5c08d65c-163a-11ee-987e-0242ac110002-4-9bb8-43a3-e963-852e"
    }
   },
   "source": [
    "#### 証明書の配置\n",
    "\n",
    "Nginxコンテナで使用するサーバ証明書の配置を確認します。"
   ]
  },
  {
   "cell_type": "markdown",
   "metadata": {
    "lc_cell_meme": {
     "current": "5c08d788-163a-11ee-987e-0242ac110002-4-a015-4ed1-f631-68d8",
     "history": [
      {
       "current": "5c08d788-163a-11ee-987e-0242ac110002-1-a015",
       "next": "5c08d81e-163a-11ee-987e-0242ac110002",
       "previous": "5c08d6f2-163a-11ee-987e-0242ac110002"
      },
      {
       "current": "5c08d788-163a-11ee-987e-0242ac110002-1-a015",
       "next": "5c08d81e-163a-11ee-987e-0242ac110002-1-c2f3",
       "previous": "5c08d6f2-163a-11ee-987e-0242ac110002-1-2f6e"
      },
      {
       "current": "5c08d788-163a-11ee-987e-0242ac110002-1-a015",
       "next": "79b3d35e-165e-11ee-987e-0242ac110002",
       "previous": "5c08d6f2-163a-11ee-987e-0242ac110002-1-2f6e"
      },
      {
       "current": "5c08d788-163a-11ee-987e-0242ac110002-2-a015-4ed1",
       "next": "5c08d81e-163a-11ee-987e-0242ac110002-1-c2f3",
       "previous": "5c08d6f2-163a-11ee-987e-0242ac110002-1-2f6e"
      },
      {
       "current": "5c08d788-163a-11ee-987e-0242ac110002-3-a015-4ed1-f631",
       "next": "5c08d81e-163a-11ee-987e-0242ac110002-2-c2f3-4114",
       "previous": "5c08d6f2-163a-11ee-987e-0242ac110002-2-2f6e-411a"
      },
      {
       "current": "5c08d788-163a-11ee-987e-0242ac110002-4-a015-4ed1-f631-68d8",
       "next": "5c08d81e-163a-11ee-987e-0242ac110002-3-c2f3-4114-cfb4",
       "previous": "5c08d6f2-163a-11ee-987e-0242ac110002-3-2f6e-411a-8d29"
      }
     ],
     "next": "5c08d81e-163a-11ee-987e-0242ac110002-4-c2f3-4114-cfb4-85db",
     "previous": "5c08d6f2-163a-11ee-987e-0242ac110002-4-2f6e-411a-8d29-c252"
    }
   },
   "source": [
    "サーバ証明書を配置するディレクトリを作成します。"
   ]
  },
  {
   "cell_type": "code",
   "execution_count": null,
   "metadata": {
    "lc_cell_meme": {
     "current": "5c08d81e-163a-11ee-987e-0242ac110002-4-c2f3-4114-cfb4-85db",
     "history": [
      {
       "current": "5c08d81e-163a-11ee-987e-0242ac110002-1-c2f3",
       "next": "5c08d8b4-163a-11ee-987e-0242ac110002",
       "previous": "5c08d788-163a-11ee-987e-0242ac110002"
      },
      {
       "current": "5c08d81e-163a-11ee-987e-0242ac110002-1-c2f3",
       "next": "5c08d8b4-163a-11ee-987e-0242ac110002-1-5b20",
       "previous": "5c08d788-163a-11ee-987e-0242ac110002-1-a015"
      },
      {
       "current": "5c08d81e-163a-11ee-987e-0242ac110002-1-c2f3",
       "next": "5c08d8b4-163a-11ee-987e-0242ac110002-1-5b20",
       "previous": "79b3d35e-165e-11ee-987e-0242ac110002"
      },
      {
       "current": "5c08d81e-163a-11ee-987e-0242ac110002-2-c2f3-4114",
       "next": "5c08d8b4-163a-11ee-987e-0242ac110002-1-5b20",
       "previous": "5c08d788-163a-11ee-987e-0242ac110002-1-a015"
      },
      {
       "current": "5c08d81e-163a-11ee-987e-0242ac110002-3-c2f3-4114-cfb4",
       "next": "5c08d8b4-163a-11ee-987e-0242ac110002-2-5b20-a665",
       "previous": "5c08d788-163a-11ee-987e-0242ac110002-2-a015-4ed1"
      },
      {
       "current": "5c08d81e-163a-11ee-987e-0242ac110002-4-c2f3-4114-cfb4-85db",
       "next": "5c08d8b4-163a-11ee-987e-0242ac110002-3-5b20-a665-e891",
       "previous": "5c08d788-163a-11ee-987e-0242ac110002-3-a015-4ed1-f631"
      }
     ],
     "next": "5c08d8b4-163a-11ee-987e-0242ac110002-4-5b20-a665-e891-5cb8",
     "previous": "5c08d788-163a-11ee-987e-0242ac110002-4-a015-4ed1-f631-68d8"
    },
    "lc_wrapper": {
     "log_history": [
      "/notebooks/notebook/work_terayama/yjupyterhub/work/.log/20230629/20230629-165716-0212.log",
      "/notebooks/notebook/work_terayama/yjupyterhub/work/.log/20230629/20230629-170154-0963.log",
      "/notebooks/notebook/work_terayama/yjupyterhub/work/.log/20230630/20230630-185742-0012.log",
      "/notebooks/notebook/work_terayama/yjupyterhub/work/.log/20230704/20230704-120105-0968.log",
      "/notebooks/notebook/work_terayama/yjupyterhub/work/.log/20230712/20230712-173445-0632.log",
      "/notebooks/notebook/work_terayama/yjupyterhub/work/.log/20230719/20230719-153409-0781.log",
      "/notebooks/notebook/work_terayama/yjupyterhub/work/.log/20230720/20230720-114816-0513.log",
      "/notebooks/notebook/work_terayama/yjupyterhub/work/.log/20230727/20230727-141347-0128.log",
      "/notebooks/notebook/work_terayama/yjupyterhub/work/.log/20230801/20230801-152149-0724.log"
     ]
    },
    "scrolled": true
   },
   "outputs": [],
   "source": [
    "!ansible {target_hub} -b -m file -a \\\n",
    "    'path={{{{base_dir}}}} state=directory owner={{{{ansible_user}}}}'\n",
    "!ansible {target_hub} -b -m file -a \\\n",
    "    'path={{{{base_dir}}}}/certs state=directory owner={{{{ansible_user}}}}'"
   ]
  },
  {
   "cell_type": "markdown",
   "metadata": {
    "lc_cell_meme": {
     "current": "5c08d8b4-163a-11ee-987e-0242ac110002-4-5b20-a665-e891-5cb8",
     "history": [
      {
       "current": "5c08d8b4-163a-11ee-987e-0242ac110002-1-5b20",
       "next": "5c08d94a-163a-11ee-987e-0242ac110002",
       "previous": "5c08d81e-163a-11ee-987e-0242ac110002"
      },
      {
       "current": "5c08d8b4-163a-11ee-987e-0242ac110002-2-5b20-a665",
       "next": "5c08d94a-163a-11ee-987e-0242ac110002-1-b282",
       "previous": "5c08d81e-163a-11ee-987e-0242ac110002-1-c2f3"
      },
      {
       "current": "5c08d8b4-163a-11ee-987e-0242ac110002-3-5b20-a665-e891",
       "next": "5c08d94a-163a-11ee-987e-0242ac110002-2-b282-7717",
       "previous": "5c08d81e-163a-11ee-987e-0242ac110002-2-c2f3-4114"
      },
      {
       "current": "5c08d8b4-163a-11ee-987e-0242ac110002-4-5b20-a665-e891-5cb8",
       "next": "5c08d94a-163a-11ee-987e-0242ac110002-3-b282-7717-ae11",
       "previous": "5c08d81e-163a-11ee-987e-0242ac110002-3-c2f3-4114-cfb4"
      }
     ],
     "next": "5c08d94a-163a-11ee-987e-0242ac110002-4-b282-7717-ae11-d8f8",
     "previous": "5c08d81e-163a-11ee-987e-0242ac110002-4-c2f3-4114-cfb4-85db"
    }
   },
   "source": [
    "作成したディレクトリ`/srv/jupyterhub/certs`に証明書、秘密鍵を配置してください。出どころなどの情報を必要以上に残さないためにNotebookからの操作ではなく、ターミナルなどから **managerノードに ssh でログインして操作を行ってください**。\n",
    "\n",
    "配置する証明書などのファイル名は以下のようにしてください。\n",
    "\n",
    "* サーバ証明書と中間CA証明書を連結したもの\n",
    "    - `/srv/jupyterhub/certs/fullchain.pem`\n",
    "* 秘密鍵\n",
    "    - `/srv/jupyterhub/certs/privkey.pem`\n",
    "    - パスフレーズを無しにする"
   ]
  },
  {
   "cell_type": "markdown",
   "metadata": {
    "lc_cell_meme": {
     "current": "5c08d94a-163a-11ee-987e-0242ac110002-4-b282-7717-ae11-d8f8",
     "history": [
      {
       "current": "5c08d94a-163a-11ee-987e-0242ac110002-1-b282",
       "next": "5c08d9ea-163a-11ee-987e-0242ac110002",
       "previous": "5c08d8b4-163a-11ee-987e-0242ac110002"
      },
      {
       "current": "5c08d94a-163a-11ee-987e-0242ac110002-2-b282-7717",
       "next": "5c08d9ea-163a-11ee-987e-0242ac110002-1-2ae2",
       "previous": "5c08d8b4-163a-11ee-987e-0242ac110002-1-5b20"
      },
      {
       "current": "5c08d94a-163a-11ee-987e-0242ac110002-3-b282-7717-ae11",
       "next": "5c08d9ea-163a-11ee-987e-0242ac110002-2-2ae2-508d",
       "previous": "5c08d8b4-163a-11ee-987e-0242ac110002-2-5b20-a665"
      },
      {
       "current": "5c08d94a-163a-11ee-987e-0242ac110002-4-b282-7717-ae11-d8f8",
       "next": "5c08d9ea-163a-11ee-987e-0242ac110002-3-2ae2-508d-7390",
       "previous": "5c08d8b4-163a-11ee-987e-0242ac110002-3-5b20-a665-e891"
      }
     ],
     "next": "5c08d9ea-163a-11ee-987e-0242ac110002-4-2ae2-508d-7390-0ce9",
     "previous": "5c08d8b4-163a-11ee-987e-0242ac110002-4-5b20-a665-e891-5cb8"
    }
   },
   "source": [
    "sshでログインする manager ノードのIPアドレスを確認します。表示されたIPアドレスに対して、ユーザ名`vcp`と「VCノード作成」のNotebookで設定したSSHの秘密鍵を指定することで manager ノードにsshでログインできます。"
   ]
  },
  {
   "cell_type": "code",
   "execution_count": null,
   "metadata": {
    "lc_cell_meme": {
     "current": "5c08d9ea-163a-11ee-987e-0242ac110002-4-2ae2-508d-7390-0ce9",
     "history": [
      {
       "current": "5c08d9ea-163a-11ee-987e-0242ac110002-1-2ae2",
       "next": "5c08da80-163a-11ee-987e-0242ac110002",
       "previous": "5c08d94a-163a-11ee-987e-0242ac110002"
      },
      {
       "current": "5c08d9ea-163a-11ee-987e-0242ac110002-1-2ae2",
       "next": "5c08da80-163a-11ee-987e-0242ac110002-1-5796",
       "previous": "5c08d94a-163a-11ee-987e-0242ac110002-1-b282"
      },
      {
       "current": "5c08d9ea-163a-11ee-987e-0242ac110002-2-2ae2-508d",
       "next": "cc22ab0a-3022-11ee-b73e-0242ac110003",
       "previous": "5c08d94a-163a-11ee-987e-0242ac110002-1-b282"
      },
      {
       "current": "5c08d9ea-163a-11ee-987e-0242ac110002-3-2ae2-508d-7390",
       "next": "cc22ab0a-3022-11ee-b73e-0242ac110003-1-3b54",
       "previous": "5c08d94a-163a-11ee-987e-0242ac110002-2-b282-7717"
      },
      {
       "current": "5c08d9ea-163a-11ee-987e-0242ac110002-4-2ae2-508d-7390-0ce9",
       "next": "cc22ab0a-3022-11ee-b73e-0242ac110003-2-3b54-0669",
       "previous": "5c08d94a-163a-11ee-987e-0242ac110002-3-b282-7717-ae11"
      }
     ],
     "next": "cc22ab0a-3022-11ee-b73e-0242ac110003-3-3b54-0669-3a1d",
     "previous": "5c08d94a-163a-11ee-987e-0242ac110002-4-b282-7717-ae11-d8f8"
    },
    "lc_wrapper": {
     "log_history": [
      "/notebooks/notebook/work_terayama/yjupyterhub/work/.log/20230629/20230629-170251-0941.log",
      "/notebooks/notebook/work_terayama/yjupyterhub/work/.log/20230630/20230630-185751-0054.log",
      "/notebooks/notebook/work_terayama/yjupyterhub/work/.log/20230704/20230704-120115-0893.log",
      "/notebooks/notebook/work_terayama/yjupyterhub/work/.log/20230719/20230719-153420-0771.log",
      "/notebooks/notebook/work_terayama/yjupyterhub/work/.log/20230720/20230720-114823-0636.log",
      "/notebooks/notebook/work_terayama/yjupyterhub/work/.log/20230727/20230727-141355-0551.log",
      "/notebooks/notebook/work_terayama/yjupyterhub/work/.log/20230801/20230801-152156-0448.log"
     ]
    }
   },
   "outputs": [],
   "source": [
    "!ansible {target_hub} -c local -m debug -a 'var=vc_ipaddress'"
   ]
  },
  {
   "cell_type": "markdown",
   "metadata": {
    "heading_collapsed": true,
    "lc_cell_meme": {
     "current": "cc22ab0a-3022-11ee-b73e-0242ac110003-3-3b54-0669-3a1d",
     "history": [
      {
       "current": "cc22ab0a-3022-11ee-b73e-0242ac110003",
       "next": "5c08dc42-163a-11ee-987e-0242ac110002-1-4dfe",
       "previous": "5c08da80-163a-11ee-987e-0242ac110002-1-5796"
      },
      {
       "current": "cc22ab0a-3022-11ee-b73e-0242ac110003-1-3b54",
       "next": "5c08dc42-163a-11ee-987e-0242ac110002-1-4dfe",
       "previous": "5c08d9ea-163a-11ee-987e-0242ac110002-1-2ae2"
      },
      {
       "current": "cc22ab0a-3022-11ee-b73e-0242ac110003-2-3b54-0669",
       "next": "5c08dc42-163a-11ee-987e-0242ac110002-2-4dfe-061f",
       "previous": "5c08d9ea-163a-11ee-987e-0242ac110002-2-2ae2-508d"
      },
      {
       "current": "cc22ab0a-3022-11ee-b73e-0242ac110003-3-3b54-0669-3a1d",
       "next": "5c08dc42-163a-11ee-987e-0242ac110002-3-4dfe-061f-d433",
       "previous": "5c08d9ea-163a-11ee-987e-0242ac110002-3-2ae2-508d-7390"
      }
     ],
     "next": "5c08dc42-163a-11ee-987e-0242ac110002-4-4dfe-061f-d433-4452",
     "previous": "5c08d9ea-163a-11ee-987e-0242ac110002-4-2ae2-508d-7390-0ce9"
    }
   },
   "source": [
    "#### 証明書の配置確認\n",
    "\n",
    "証明書の配置後に以下のセルを実行し、正しく配置できていることを確認します。"
   ]
  },
  {
   "cell_type": "markdown",
   "metadata": {
    "hidden": true,
    "lc_cell_meme": {
     "current": "5c08dc42-163a-11ee-987e-0242ac110002-4-4dfe-061f-d433-4452",
     "history": [
      {
       "current": "5c08dc42-163a-11ee-987e-0242ac110002-1-4dfe",
       "next": "5c08dd00-163a-11ee-987e-0242ac110002",
       "previous": "5c08dbac-163a-11ee-987e-0242ac110002"
      },
      {
       "current": "5c08dc42-163a-11ee-987e-0242ac110002-1-4dfe",
       "next": "5c08dd00-163a-11ee-987e-0242ac110002-1-0835",
       "previous": "5c08dbac-163a-11ee-987e-0242ac110002-1-4b2c"
      },
      {
       "current": "5c08dc42-163a-11ee-987e-0242ac110002-1-4dfe",
       "next": "5c08dd00-163a-11ee-987e-0242ac110002-1-0835",
       "previous": "5c08da80-163a-11ee-987e-0242ac110002-1-5796"
      },
      {
       "current": "5c08dc42-163a-11ee-987e-0242ac110002-2-4dfe-061f",
       "next": "5c08dd00-163a-11ee-987e-0242ac110002-1-0835",
       "previous": "cc22ab0a-3022-11ee-b73e-0242ac110003"
      },
      {
       "current": "5c08dc42-163a-11ee-987e-0242ac110002-3-4dfe-061f-d433",
       "next": "5c08dd00-163a-11ee-987e-0242ac110002-2-0835-0301",
       "previous": "cc22ab0a-3022-11ee-b73e-0242ac110003-1-3b54"
      },
      {
       "current": "5c08dc42-163a-11ee-987e-0242ac110002-4-4dfe-061f-d433-4452",
       "next": "5c08dd00-163a-11ee-987e-0242ac110002-3-0835-0301-b211",
       "previous": "cc22ab0a-3022-11ee-b73e-0242ac110003-2-3b54-0669"
      }
     ],
     "next": "5c08dd00-163a-11ee-987e-0242ac110002-4-0835-0301-b211-f8b3",
     "previous": "cc22ab0a-3022-11ee-b73e-0242ac110003-3-3b54-0669-3a1d"
    }
   },
   "source": [
    "秘密鍵の内容を表示してみます。"
   ]
  },
  {
   "cell_type": "code",
   "execution_count": null,
   "metadata": {
    "hidden": true,
    "lc_cell_meme": {
     "current": "5c08dd00-163a-11ee-987e-0242ac110002-4-0835-0301-b211-f8b3",
     "history": [
      {
       "current": "5c08dd00-163a-11ee-987e-0242ac110002-1-0835",
       "next": "5c08ddaa-163a-11ee-987e-0242ac110002",
       "previous": "5c08dc42-163a-11ee-987e-0242ac110002"
      },
      {
       "current": "5c08dd00-163a-11ee-987e-0242ac110002-2-0835-0301",
       "next": "5c08ddaa-163a-11ee-987e-0242ac110002-1-114c",
       "previous": "5c08dc42-163a-11ee-987e-0242ac110002-1-4dfe"
      },
      {
       "current": "5c08dd00-163a-11ee-987e-0242ac110002-3-0835-0301-b211",
       "next": "5c08ddaa-163a-11ee-987e-0242ac110002-2-114c-53d4",
       "previous": "5c08dc42-163a-11ee-987e-0242ac110002-2-4dfe-061f"
      },
      {
       "current": "5c08dd00-163a-11ee-987e-0242ac110002-4-0835-0301-b211-f8b3",
       "next": "5c08ddaa-163a-11ee-987e-0242ac110002-3-114c-53d4-7d9a",
       "previous": "5c08dc42-163a-11ee-987e-0242ac110002-3-4dfe-061f-d433"
      }
     ],
     "next": "5c08ddaa-163a-11ee-987e-0242ac110002-4-114c-53d4-7d9a-1f3e",
     "previous": "5c08dc42-163a-11ee-987e-0242ac110002-4-4dfe-061f-d433-4452"
    },
    "lc_wrapper": {
     "log_history": [
      "/notebooks/notebook/work_terayama/yjupyterhub/work/.log/20230629/20230629-170411-0194.log",
      "/notebooks/notebook/work_terayama/yjupyterhub/work/.log/20230629/20230629-170549-0061.log",
      "/notebooks/notebook/work_terayama/yjupyterhub/work/.log/20230630/20230630-190116-0038.log",
      "/notebooks/notebook/work_terayama/yjupyterhub/work/.log/20230704/20230704-120323-0926.log",
      "/notebooks/notebook/work_terayama/yjupyterhub/work/.log/20230719/20230719-153856-0019.log",
      "/notebooks/notebook/work_terayama/yjupyterhub/work/.log/20230720/20230720-115014-0047.log",
      "/notebooks/notebook/work_terayama/yjupyterhub/work/.log/20230727/20230727-141549-0915.log",
      "/notebooks/notebook/work_terayama/yjupyterhub/work/.log/20230801/20230801-152517-0036.log"
     ]
    },
    "scrolled": true
   },
   "outputs": [],
   "source": [
    "try:\n",
    "    !ansible {target_hub} -a \\\n",
    "        'openssl rsa -noout -text -in  {{{{certs_dir}}}}/privkey.pem'\n",
    "except Exception as e:\n",
    "    # 鍵の形式が異なる場合、正しく配置できていてもエラーになる場合があります。\n",
    "    !ansible {target_hub} -a \\\n",
    "         'openssl ec -in {{{{certs_dir}}}}/privkey.pem -text -noout'"
   ]
  },
  {
   "cell_type": "markdown",
   "metadata": {
    "hidden": true,
    "lc_cell_meme": {
     "current": "5c08ddaa-163a-11ee-987e-0242ac110002-4-114c-53d4-7d9a-1f3e",
     "history": [
      {
       "current": "5c08ddaa-163a-11ee-987e-0242ac110002-1-114c",
       "next": "5c08de40-163a-11ee-987e-0242ac110002",
       "previous": "5c08dd00-163a-11ee-987e-0242ac110002"
      },
      {
       "current": "5c08ddaa-163a-11ee-987e-0242ac110002-2-114c-53d4",
       "next": "5c08de40-163a-11ee-987e-0242ac110002-1-2691",
       "previous": "5c08dd00-163a-11ee-987e-0242ac110002-1-0835"
      },
      {
       "current": "5c08ddaa-163a-11ee-987e-0242ac110002-3-114c-53d4-7d9a",
       "next": "5c08de40-163a-11ee-987e-0242ac110002-2-2691-7a63",
       "previous": "5c08dd00-163a-11ee-987e-0242ac110002-2-0835-0301"
      },
      {
       "current": "5c08ddaa-163a-11ee-987e-0242ac110002-4-114c-53d4-7d9a-1f3e",
       "next": "5c08de40-163a-11ee-987e-0242ac110002-3-2691-7a63-2755",
       "previous": "5c08dd00-163a-11ee-987e-0242ac110002-3-0835-0301-b211"
      }
     ],
     "next": "5c08de40-163a-11ee-987e-0242ac110002-4-2691-7a63-2755-2272",
     "previous": "5c08dd00-163a-11ee-987e-0242ac110002-4-0835-0301-b211-f8b3"
    }
   },
   "source": [
    "中間CA証明書を連結したサーバ証明書の内容を表示してみます。"
   ]
  },
  {
   "cell_type": "code",
   "execution_count": null,
   "metadata": {
    "hidden": true,
    "lc_cell_meme": {
     "current": "5c08de40-163a-11ee-987e-0242ac110002-4-2691-7a63-2755-2272",
     "history": [
      {
       "current": "5c08de40-163a-11ee-987e-0242ac110002-1-2691",
       "next": "5c08ded6-163a-11ee-987e-0242ac110002",
       "previous": "5c08ddaa-163a-11ee-987e-0242ac110002"
      },
      {
       "current": "5c08de40-163a-11ee-987e-0242ac110002-2-2691-7a63",
       "next": "5c08ded6-163a-11ee-987e-0242ac110002-1-0bdc",
       "previous": "5c08ddaa-163a-11ee-987e-0242ac110002-1-114c"
      },
      {
       "current": "5c08de40-163a-11ee-987e-0242ac110002-3-2691-7a63-2755",
       "next": "5c08ded6-163a-11ee-987e-0242ac110002-2-0bdc-dff5",
       "previous": "5c08ddaa-163a-11ee-987e-0242ac110002-2-114c-53d4"
      },
      {
       "current": "5c08de40-163a-11ee-987e-0242ac110002-4-2691-7a63-2755-2272",
       "next": "5c08ded6-163a-11ee-987e-0242ac110002-3-0bdc-dff5-5c7e",
       "previous": "5c08ddaa-163a-11ee-987e-0242ac110002-3-114c-53d4-7d9a"
      }
     ],
     "next": "5c08ded6-163a-11ee-987e-0242ac110002-4-0bdc-dff5-5c7e-4c0f",
     "previous": "5c08ddaa-163a-11ee-987e-0242ac110002-4-114c-53d4-7d9a-1f3e"
    },
    "lc_wrapper": {
     "log_history": [
      "/notebooks/notebook/work_terayama/yjupyterhub/work/.log/20230629/20230629-170556-0114.log",
      "/notebooks/notebook/work_terayama/yjupyterhub/work/.log/20230630/20230630-190120-0156.log",
      "/notebooks/notebook/work_terayama/yjupyterhub/work/.log/20230704/20230704-120330-0708.log",
      "/notebooks/notebook/work_terayama/yjupyterhub/work/.log/20230704/20230704-120407-0899.log",
      "/notebooks/notebook/work_terayama/yjupyterhub/work/.log/20230719/20230719-153901-0246.log",
      "/notebooks/notebook/work_terayama/yjupyterhub/work/.log/20230720/20230720-115018-0393.log",
      "/notebooks/notebook/work_terayama/yjupyterhub/work/.log/20230727/20230727-141554-0330.log",
      "/notebooks/notebook/work_terayama/yjupyterhub/work/.log/20230801/20230801-152530-0410.log"
     ]
    },
    "scrolled": true
   },
   "outputs": [],
   "source": [
    "!ansible {target_hub} -a \\\n",
    "    'openssl x509 -noout -text -in {{{{certs_dir}}}}/fullchain.pem'"
   ]
  },
  {
   "cell_type": "markdown",
   "metadata": {
    "hidden": true,
    "lc_cell_meme": {
     "current": "5c08ded6-163a-11ee-987e-0242ac110002-4-0bdc-dff5-5c7e-4c0f",
     "history": [
      {
       "current": "5c08ded6-163a-11ee-987e-0242ac110002-1-0bdc",
       "next": "5c08df6c-163a-11ee-987e-0242ac110002",
       "previous": "5c08de40-163a-11ee-987e-0242ac110002"
      },
      {
       "current": "5c08ded6-163a-11ee-987e-0242ac110002-2-0bdc-dff5",
       "next": "5c08df6c-163a-11ee-987e-0242ac110002-1-b10c",
       "previous": "5c08de40-163a-11ee-987e-0242ac110002-1-2691"
      },
      {
       "current": "5c08ded6-163a-11ee-987e-0242ac110002-3-0bdc-dff5-5c7e",
       "next": "5c08df6c-163a-11ee-987e-0242ac110002-2-b10c-9ee9",
       "previous": "5c08de40-163a-11ee-987e-0242ac110002-2-2691-7a63"
      },
      {
       "current": "5c08ded6-163a-11ee-987e-0242ac110002-4-0bdc-dff5-5c7e-4c0f",
       "next": "5c08df6c-163a-11ee-987e-0242ac110002-3-b10c-9ee9-7c33",
       "previous": "5c08de40-163a-11ee-987e-0242ac110002-3-2691-7a63-2755"
      }
     ],
     "next": "5c08df6c-163a-11ee-987e-0242ac110002-4-b10c-9ee9-7c33-cca1",
     "previous": "5c08de40-163a-11ee-987e-0242ac110002-4-2691-7a63-2755-2272"
    }
   },
   "source": [
    "証明書の owner, group などの値を利用環境に合わせて以下のように設定します。\n",
    "\n",
    "* owner: 33\n",
    "* group: 33\n",
    "\n",
    "この設定はコンテナ内では以下のように設定したことに相当します。\n",
    "\n",
    "* owner: `www-data`\n",
    "* group: `www-data`"
   ]
  },
  {
   "cell_type": "code",
   "execution_count": null,
   "metadata": {
    "hidden": true,
    "lc_cell_meme": {
     "current": "5c08df6c-163a-11ee-987e-0242ac110002-4-b10c-9ee9-7c33-cca1",
     "history": [
      {
       "current": "5c08df6c-163a-11ee-987e-0242ac110002-1-b10c",
       "next": "5c08e00c-163a-11ee-987e-0242ac110002",
       "previous": "5c08ded6-163a-11ee-987e-0242ac110002"
      },
      {
       "current": "5c08df6c-163a-11ee-987e-0242ac110002-1-b10c",
       "next": "5c08e00c-163a-11ee-987e-0242ac110002-1-6807",
       "previous": "5c08ded6-163a-11ee-987e-0242ac110002-1-0bdc"
      },
      {
       "current": "5c08df6c-163a-11ee-987e-0242ac110002-2-b10c-9ee9",
       "next": "5c08e750-163a-11ee-987e-0242ac110002-1-c190",
       "previous": "5c08ded6-163a-11ee-987e-0242ac110002-1-0bdc"
      },
      {
       "current": "5c08df6c-163a-11ee-987e-0242ac110002-3-b10c-9ee9-7c33",
       "next": "5c08e750-163a-11ee-987e-0242ac110002-2-c190-34d3",
       "previous": "5c08ded6-163a-11ee-987e-0242ac110002-2-0bdc-dff5"
      },
      {
       "current": "5c08df6c-163a-11ee-987e-0242ac110002-4-b10c-9ee9-7c33-cca1",
       "next": "5c08e750-163a-11ee-987e-0242ac110002-3-c190-34d3-1a6b",
       "previous": "5c08ded6-163a-11ee-987e-0242ac110002-3-0bdc-dff5-5c7e"
      }
     ],
     "next": "5c08e750-163a-11ee-987e-0242ac110002-4-c190-34d3-1a6b-b8c4",
     "previous": "5c08ded6-163a-11ee-987e-0242ac110002-4-0bdc-dff5-5c7e-4c0f"
    },
    "lc_wrapper": {
     "log_history": [
      "/notebooks/notebook/work_terayama/yjupyterhub/work/.log/20230629/20230629-170649-0387.log",
      "/notebooks/notebook/work_terayama/yjupyterhub/work/.log/20230629/20230629-170706-0270.log",
      "/notebooks/notebook/work_terayama/yjupyterhub/work/.log/20230630/20230630-190125-0859.log",
      "/notebooks/notebook/work_terayama/yjupyterhub/work/.log/20230704/20230704-120412-0873.log",
      "/notebooks/notebook/work_terayama/yjupyterhub/work/.log/20230719/20230719-153906-0152.log",
      "/notebooks/notebook/work_terayama/yjupyterhub/work/.log/20230720/20230720-115022-0876.log",
      "/notebooks/notebook/work_terayama/yjupyterhub/work/.log/20230727/20230727-141706-0288.log",
      "/notebooks/notebook/work_terayama/yjupyterhub/work/.log/20230801/20230801-152534-0813.log"
     ]
    },
    "scrolled": true
   },
   "outputs": [],
   "source": [
    "cert_owner = 33\n",
    "cert_group = 33\n",
    "!ansible {target_hub} -b -m file -a \\\n",
    "    'path={{{{certs_dir}}}} owner={cert_owner} \\\n",
    "    group={cert_group} state=directory'\n",
    "!ansible {target_hub} -b -m file -a \\\n",
    "    'path={{{{certs_dir}}}}/fullchain.pem \\\n",
    "    owner={cert_owner} group={cert_group}'\n",
    "!ansible {target_hub} -b -m file -a \\\n",
    "    'path={{{{certs_dir}}}}/privkey.pem \\\n",
    "    owner={cert_owner} group={cert_group} mode=0600'"
   ]
  },
  {
   "cell_type": "markdown",
   "metadata": {
    "heading_collapsed": true,
    "lc_cell_meme": {
     "current": "5c08e750-163a-11ee-987e-0242ac110002-4-c190-34d3-1a6b-b8c4",
     "history": [
      {
       "current": "5c08e750-163a-11ee-987e-0242ac110002-1-c190",
       "next": "5c08e822-163a-11ee-987e-0242ac110002",
       "previous": "5c08e6ba-163a-11ee-987e-0242ac110002"
      },
      {
       "current": "5c08e750-163a-11ee-987e-0242ac110002-1-c190",
       "next": "5c08e822-163a-11ee-987e-0242ac110002-1-0a8c",
       "previous": "5c08e6ba-163a-11ee-987e-0242ac110002-1-0ce9"
      },
      {
       "current": "5c08e750-163a-11ee-987e-0242ac110002-2-c190-34d3",
       "next": "5c08ef5c-163a-11ee-987e-0242ac110002-1-411b",
       "previous": "5c08df6c-163a-11ee-987e-0242ac110002-1-b10c"
      },
      {
       "current": "5c08e750-163a-11ee-987e-0242ac110002-3-c190-34d3-1a6b",
       "next": "5c08ef5c-163a-11ee-987e-0242ac110002-2-411b-3449",
       "previous": "5c08df6c-163a-11ee-987e-0242ac110002-2-b10c-9ee9"
      },
      {
       "current": "5c08e750-163a-11ee-987e-0242ac110002-4-c190-34d3-1a6b-b8c4",
       "next": "5c08ef5c-163a-11ee-987e-0242ac110002-3-411b-3449-2642",
       "previous": "5c08df6c-163a-11ee-987e-0242ac110002-3-b10c-9ee9-7c33"
      }
     ],
     "next": "5c08ef5c-163a-11ee-987e-0242ac110002-4-411b-3449-2642-e802",
     "previous": "5c08df6c-163a-11ee-987e-0242ac110002-4-b10c-9ee9-7c33-cca1"
    }
   },
   "source": [
    "### JupyterHub\n",
    "\n",
    "JupyterHubコンテナに関するセットアップを行います。"
   ]
  },
  {
   "cell_type": "markdown",
   "metadata": {
    "hidden": true,
    "lc_cell_meme": {
     "current": "5c08ef5c-163a-11ee-987e-0242ac110002-4-411b-3449-2642-e802",
     "history": [
      {
       "current": "5c08ef5c-163a-11ee-987e-0242ac110002-1-411b",
       "next": "5c08eff2-163a-11ee-987e-0242ac110002",
       "previous": "5c08eebc-163a-11ee-987e-0242ac110002"
      },
      {
       "current": "5c08ef5c-163a-11ee-987e-0242ac110002-1-411b",
       "next": "5c08eff2-163a-11ee-987e-0242ac110002-1-bd72",
       "previous": "5c08eebc-163a-11ee-987e-0242ac110002-1-b1f4"
      },
      {
       "current": "5c08ef5c-163a-11ee-987e-0242ac110002-2-411b-3449",
       "next": "5c08eff2-163a-11ee-987e-0242ac110002-1-bd72",
       "previous": "5c08e750-163a-11ee-987e-0242ac110002-1-c190"
      },
      {
       "current": "5c08ef5c-163a-11ee-987e-0242ac110002-3-411b-3449-2642",
       "next": "5c08eff2-163a-11ee-987e-0242ac110002-2-bd72-0b63",
       "previous": "5c08e750-163a-11ee-987e-0242ac110002-2-c190-34d3"
      },
      {
       "current": "5c08ef5c-163a-11ee-987e-0242ac110002-4-411b-3449-2642-e802",
       "next": "5c08eff2-163a-11ee-987e-0242ac110002-3-bd72-0b63-d049",
       "previous": "5c08e750-163a-11ee-987e-0242ac110002-3-c190-34d3-1a6b"
      }
     ],
     "next": "5c08eff2-163a-11ee-987e-0242ac110002-4-bd72-0b63-d049-01ba",
     "previous": "5c08e750-163a-11ee-987e-0242ac110002-4-c190-34d3-1a6b-b8c4"
    }
   },
   "source": [
    "#### JupyterHubコンテナに関するファイルを準備する\n",
    "\n",
    "JupyterHubコンテナを実行するために必要となるファイルを準備する Ansible Playbook を実行します。"
   ]
  },
  {
   "cell_type": "markdown",
   "metadata": {
    "hidden": true,
    "lc_cell_meme": {
     "current": "5c08eff2-163a-11ee-987e-0242ac110002-4-bd72-0b63-d049-01ba",
     "history": [
      {
       "current": "5c08eff2-163a-11ee-987e-0242ac110002-1-bd72",
       "next": "5c08f09c-163a-11ee-987e-0242ac110002",
       "previous": "5c08ef5c-163a-11ee-987e-0242ac110002"
      },
      {
       "current": "5c08eff2-163a-11ee-987e-0242ac110002-1-bd72",
       "next": "5c08f09c-163a-11ee-987e-0242ac110002-1-4603",
       "previous": "5c08ef5c-163a-11ee-987e-0242ac110002-1-411b"
      },
      {
       "current": "5c08eff2-163a-11ee-987e-0242ac110002-1-bd72",
       "next": "5c09017c-163a-11ee-987e-0242ac110002-2-e7a9-f34d",
       "previous": "5c08ef5c-163a-11ee-987e-0242ac110002-1-411b"
      },
      {
       "current": "5c08eff2-163a-11ee-987e-0242ac110002-2-bd72-0b63",
       "next": "5c09021c-163a-11ee-987e-0242ac110002-3-99e8-bdef-5a4d",
       "previous": "5c08ef5c-163a-11ee-987e-0242ac110002-1-411b"
      },
      {
       "current": "5c08eff2-163a-11ee-987e-0242ac110002-3-bd72-0b63-d049",
       "next": "5c09021c-163a-11ee-987e-0242ac110002-4-99e8-bdef-5a4d-2598",
       "previous": "5c08ef5c-163a-11ee-987e-0242ac110002-2-411b-3449"
      },
      {
       "current": "5c08eff2-163a-11ee-987e-0242ac110002-4-bd72-0b63-d049-01ba",
       "next": "5c09021c-163a-11ee-987e-0242ac110002-5-99e8-bdef-5a4d-2598-b52d",
       "previous": "5c08ef5c-163a-11ee-987e-0242ac110002-3-411b-3449-2642"
      }
     ],
     "next": "5c09021c-163a-11ee-987e-0242ac110002-6-99e8-bdef-5a4d-2598-b52d-36bc",
     "previous": "5c08ef5c-163a-11ee-987e-0242ac110002-4-411b-3449-2642-e802"
    }
   },
   "source": [
    "Playbook では以下の処理を行います。\n",
    "\n",
    "* コンテナイメージのビルド"
   ]
  },
  {
   "cell_type": "markdown",
   "metadata": {
    "hidden": true,
    "lc_cell_meme": {
     "current": "5c09021c-163a-11ee-987e-0242ac110002-6-99e8-bdef-5a4d-2598-b52d-36bc",
     "history": [
      {
       "current": "5c09021c-163a-11ee-987e-0242ac110002-1-99e8",
       "next": "5c0902f8-163a-11ee-987e-0242ac110002",
       "previous": "5c09017c-163a-11ee-987e-0242ac110002"
      },
      {
       "current": "5c09021c-163a-11ee-987e-0242ac110002-2-99e8-bdef",
       "next": "5c0902f8-163a-11ee-987e-0242ac110002-1-fe00",
       "previous": "5c09017c-163a-11ee-987e-0242ac110002-1-e7a9"
      },
      {
       "current": "5c09021c-163a-11ee-987e-0242ac110002-3-99e8-bdef-5a4d",
       "next": "5c0902f8-163a-11ee-987e-0242ac110002-2-fe00-7ad7",
       "previous": "5c09017c-163a-11ee-987e-0242ac110002-2-e7a9-f34d"
      },
      {
       "current": "5c09021c-163a-11ee-987e-0242ac110002-3-99e8-bdef-5a4d",
       "next": "5c0900dc-163a-11ee-987e-0242ac110002-2-660b-5a79",
       "previous": "5c08eff2-163a-11ee-987e-0242ac110002-1-bd72"
      },
      {
       "current": "5c09021c-163a-11ee-987e-0242ac110002-3-99e8-bdef-5a4d",
       "next": "492138e4-1b0e-11ee-987e-0242ac110002",
       "previous": "5c08eff2-163a-11ee-987e-0242ac110002-1-bd72"
      },
      {
       "current": "5c09021c-163a-11ee-987e-0242ac110002-4-99e8-bdef-5a4d-2598",
       "next": "d8bfcc80-2c53-11ee-987e-0242ac110002",
       "previous": "5c08eff2-163a-11ee-987e-0242ac110002-1-bd72"
      },
      {
       "current": "5c09021c-163a-11ee-987e-0242ac110002-5-99e8-bdef-5a4d-2598-b52d",
       "next": "d8bfcc80-2c53-11ee-987e-0242ac110002-1-968a",
       "previous": "5c08eff2-163a-11ee-987e-0242ac110002-2-bd72-0b63"
      },
      {
       "current": "5c09021c-163a-11ee-987e-0242ac110002-6-99e8-bdef-5a4d-2598-b52d-36bc",
       "next": "d8bfcc80-2c53-11ee-987e-0242ac110002-2-968a-e193",
       "previous": "5c08eff2-163a-11ee-987e-0242ac110002-3-bd72-0b63-d049"
      }
     ],
     "next": "d8bfcc80-2c53-11ee-987e-0242ac110002-3-968a-e193-0503",
     "previous": "5c08eff2-163a-11ee-987e-0242ac110002-4-bd72-0b63-d049-01ba"
    }
   },
   "source": [
    "コンテナイメージのビルドに必要なファイルを配置します。\n",
    "\n",
    "まず、ファイルを格納するディレクトリを作成"
   ]
  },
  {
   "cell_type": "code",
   "execution_count": null,
   "metadata": {
    "hidden": true,
    "lc_cell_meme": {
     "current": "d8bfcc80-2c53-11ee-987e-0242ac110002-3-968a-e193-0503",
     "history": [
      {
       "current": "d8bfcc80-2c53-11ee-987e-0242ac110002-1-968a",
       "next": "492138e4-1b0e-11ee-987e-0242ac110002",
       "previous": "5c09021c-163a-11ee-987e-0242ac110002-3-99e8-bdef-5a4d"
      },
      {
       "current": "d8bfcc80-2c53-11ee-987e-0242ac110002-2-968a-e193",
       "next": "492138e4-1b0e-11ee-987e-0242ac110002-1-1b3f",
       "previous": "5c09021c-163a-11ee-987e-0242ac110002-4-99e8-bdef-5a4d-2598"
      },
      {
       "current": "d8bfcc80-2c53-11ee-987e-0242ac110002-3-968a-e193-0503",
       "next": "492138e4-1b0e-11ee-987e-0242ac110002-2-1b3f-3108",
       "previous": "5c09021c-163a-11ee-987e-0242ac110002-5-99e8-bdef-5a4d-2598-b52d"
      }
     ],
     "next": "492138e4-1b0e-11ee-987e-0242ac110002-3-1b3f-3108-cc2d",
     "previous": "5c09021c-163a-11ee-987e-0242ac110002-6-99e8-bdef-5a4d-2598-b52d-36bc"
    },
    "lc_wrapper": {
     "log_history": [
      "/notebooks/notebook/work_terayama/yjupyterhub/work/.log/20230727/20230727-172738-0935.log",
      "/notebooks/notebook/work_terayama/yjupyterhub/work/.log/20230801/20230801-152546-0190.log"
     ]
    }
   },
   "outputs": [],
   "source": [
    "# 先にディレクトリ作成\n",
    "!ansible {target_hub} -b -m file -a \\\n",
    "    'path={share_directory_root}/nbgrader state=directory owner={{{{ansible_user}}}}'\n",
    "!ansible {target_hub} -b -m file -a \\\n",
    "    'path={share_directory_root}/class state=directory owner={{{{ansible_user}}}}'\n",
    "!ansible {target_hub} -b -m file -a \\\n",
    "    'path={{{{base_dir}}}}/jupyterhub/ldap state=directory owner={{{{ansible_user}}}}'\n",
    "!ansible {target_hub} -b -m file -a \\\n",
    "    'path={{{{base_dir}}}}/jupyterhub/nginx state=directory owner={{{{ansible_user}}}}'"
   ]
  },
  {
   "cell_type": "markdown",
   "metadata": {
    "hidden": true,
    "lc_cell_meme": {
     "current": "492138e4-1b0e-11ee-987e-0242ac110002-3-1b3f-3108-cc2d",
     "execution_end_time": "2023-07-05T08:31:01.273554Z",
     "history": [
      {
       "current": "492138e4-1b0e-11ee-987e-0242ac110002",
       "next": "4e3fec12-1730-11ee-987e-0242ac110002-1-21c7",
       "previous": "4e3fec12-1730-11ee-987e-0242ac110002"
      },
      {
       "current": "492138e4-1b0e-11ee-987e-0242ac110002",
       "next": "4e3fec12-1730-11ee-987e-0242ac110002-1-21c7",
       "previous": "5c09021c-163a-11ee-987e-0242ac110002-3-99e8-bdef-5a4d"
      },
      {
       "current": "492138e4-1b0e-11ee-987e-0242ac110002-1-1b3f",
       "next": "4e3fec12-1730-11ee-987e-0242ac110002-1-21c7",
       "previous": "d8bfcc80-2c53-11ee-987e-0242ac110002"
      },
      {
       "current": "492138e4-1b0e-11ee-987e-0242ac110002-2-1b3f-3108",
       "next": "4e3fec12-1730-11ee-987e-0242ac110002-2-21c7-5440",
       "previous": "d8bfcc80-2c53-11ee-987e-0242ac110002-1-968a"
      },
      {
       "current": "492138e4-1b0e-11ee-987e-0242ac110002-3-1b3f-3108-cc2d",
       "next": "4e3fec12-1730-11ee-987e-0242ac110002-3-21c7-5440-ee87",
       "previous": "d8bfcc80-2c53-11ee-987e-0242ac110002-2-968a-e193"
      }
     ],
     "next": "4e3fec12-1730-11ee-987e-0242ac110002-4-21c7-5440-ee87-ea46",
     "previous": "d8bfcc80-2c53-11ee-987e-0242ac110002-3-968a-e193-0503"
    },
    "lc_wrapper": {
     "log_history": [
      "/notebooks/notebook/work_terayama/yjupyterhub/work/.log/20230705/20230705-173101-0203.log"
     ]
    }
   },
   "source": [
    "ファイルの配置をチェックモードで試行"
   ]
  },
  {
   "cell_type": "code",
   "execution_count": null,
   "metadata": {
    "hidden": true,
    "lc_cell_meme": {
     "current": "4e3fec12-1730-11ee-987e-0242ac110002-4-21c7-5440-ee87-ea46",
     "history": [
      {
       "current": "4e3fec12-1730-11ee-987e-0242ac110002-1-21c7",
       "next": "5c09021c-163a-11ee-987e-0242ac110002-2-99e8-bdef",
       "previous": "5c09017c-163a-11ee-987e-0242ac110002-2-e7a9-f34d"
      },
      {
       "current": "4e3fec12-1730-11ee-987e-0242ac110002-1-21c7",
       "next": "4e3fec12-1730-11ee-987e-0242ac110002-2-21c7-0fc9",
       "previous": "4e3fec12-1730-11ee-987e-0242ac110002"
      },
      {
       "current": "4e3fec12-1730-11ee-987e-0242ac110002-1-21c7",
       "next": "4e3fec12-1730-11ee-987e-0242ac110002-2-21c7-0fc9",
       "previous": "4e3fec12-1730-11ee-987e-0242ac110002-1-bbb4"
      },
      {
       "current": "4e3fec12-1730-11ee-987e-0242ac110002-1-21c7",
       "next": "4e3fec12-1730-11ee-987e-0242ac110002-2-21c7-0fc9",
       "previous": "4e3fec12-1730-11ee-987e-0242ac110002"
      },
      {
       "current": "4e3fec12-1730-11ee-987e-0242ac110002-1-21c7",
       "next": "4e3fec12-1730-11ee-987e-0242ac110002-2-21c7-0fc9",
       "previous": "492138e4-1b0e-11ee-987e-0242ac110002"
      },
      {
       "current": "4e3fec12-1730-11ee-987e-0242ac110002-2-21c7-5440",
       "next": "492138e4-1b0e-11ee-987e-0242ac110002-1-ae1c",
       "previous": "492138e4-1b0e-11ee-987e-0242ac110002"
      },
      {
       "current": "4e3fec12-1730-11ee-987e-0242ac110002-3-21c7-5440-ee87",
       "next": "492138e4-1b0e-11ee-987e-0242ac110002-2-ae1c-0e4e",
       "previous": "492138e4-1b0e-11ee-987e-0242ac110002-1-1b3f"
      },
      {
       "current": "4e3fec12-1730-11ee-987e-0242ac110002-4-21c7-5440-ee87-ea46",
       "next": "492138e4-1b0e-11ee-987e-0242ac110002-3-ae1c-0e4e-a3ab",
       "previous": "492138e4-1b0e-11ee-987e-0242ac110002-2-1b3f-3108"
      }
     ],
     "next": "492138e4-1b0e-11ee-987e-0242ac110002-4-ae1c-0e4e-a3ab-b217",
     "previous": "492138e4-1b0e-11ee-987e-0242ac110002-3-1b3f-3108-cc2d"
    },
    "lc_wrapper": {
     "log_history": [
      "/notebooks/notebook/work_terayama/yjupyterhub/work/.log/20230630/20230630-192808-0380.log",
      "/notebooks/notebook/work_terayama/yjupyterhub/work/.log/20230704/20230704-120438-0620.log",
      "/notebooks/notebook/work_terayama/yjupyterhub/work/.log/20230719/20230719-154429-0303.log",
      "/notebooks/notebook/work_terayama/yjupyterhub/work/.log/20230719/20230719-155809-0120.log",
      "/notebooks/notebook/work_terayama/yjupyterhub/work/.log/20230719/20230719-160006-0770.log",
      "/notebooks/notebook/work_terayama/yjupyterhub/work/.log/20230719/20230719-160101-0253.log",
      "/notebooks/notebook/work_terayama/yjupyterhub/work/.log/20230719/20230719-160126-0295.log",
      "/notebooks/notebook/work_terayama/yjupyterhub/work/.log/20230719/20230719-160207-0193.log",
      "/notebooks/notebook/work_terayama/yjupyterhub/work/.log/20230719/20230719-160252-0911.log",
      "/notebooks/notebook/work_terayama/yjupyterhub/work/.log/20230720/20230720-115133-0606.log",
      "/notebooks/notebook/work_terayama/yjupyterhub/work/.log/20230727/20230727-141715-0626.log",
      "/notebooks/notebook/work_terayama/yjupyterhub/work/.log/20230727/20230727-172744-0750.log",
      "/notebooks/notebook/work_terayama/yjupyterhub/work/.log/20230801/20230801-152552-0510.log"
     ]
    }
   },
   "outputs": [],
   "source": [
    "# 共有ディレクトリに必要なファイル配置\n",
    "!ansible {target_hub} -CDv -m synchronize \\\n",
    "    -a 'src=template/directories/jupytershare/nbgrader dest={share_directory_root}'\n",
    "!ansible {target_hub} -CDv -m synchronize \\\n",
    "    -a 'src=template/directories/jupytershare/class dest={share_directory_root}'\n",
    "!ansible {target_hub} -CDv -m template \\\n",
    "    -a 'src=template/directories/jupytershare/nbgrader/templates/teachers/nbgrader_config.py \\\n",
    "    dest={share_directory_root}/nbgrader/templates/teachers backup=yes'\n",
    "\n",
    "# ホームディレクトリに必要なファイル配置\n",
    "# !ansible {target_hub} -CDv -m synchronize \\\n",
    "#     -a 'src=template/directories/skelton dest={home_directory_root}'\n",
    "!ansible {target_hub} -CDv -m synchronize \\\n",
    "    -a 'src=template/jupyterhub/jupyterhub dest={{{{base_dir}}}}/jupyterhub'\n",
    "!ansible {target_hub} -CDv -m synchronize \\\n",
    "    -a 'src=template/jupyterhub/nginx dest={{{{base_dir}}}}/jupyterhub'\n",
    "!ansible {target_hub} -CDv -m synchronize \\\n",
    "    -a 'src=template/jupyterhub/ldap dest={{{{base_dir}}}}/jupyterhub'\n",
    "\n",
    "# jupyterhubシステム構築に必要なファイル配置\n",
    "!ansible {target_hub} -CDv -m synchronize \\\n",
    "    -a 'src=template/jupyterhub dest={{{{base_dir}}}}'\n",
    "!ansible {target_hub} -CDv -m template \\\n",
    "    -a 'src=template/jupyterhub/docker-compose.yml dest={{{{base_dir}}}}/docker-compose.yml backup=yes'\n",
    "# !ansible {target_hub} -CDv -m synchronize \\\n",
    "#     -a 'src=template/jupyterhub/ldap/ldifs dest={{{{base_dir}}}}/jupyterhub/ldap/ldifs'\n",
    "!ansible {target_hub} -CDv -m synchronize \\\n",
    "    -a 'src=template/jupyterhub/jupyterhub/sudoers dest={{{{share_directory_root}}}} rsync_opts=--chown=root:root,--chmod=600' --become"
   ]
  },
  {
   "cell_type": "markdown",
   "metadata": {
    "hidden": true,
    "lc_cell_meme": {
     "current": "492138e4-1b0e-11ee-987e-0242ac110002-4-ae1c-0e4e-a3ab-b217",
     "execution_end_time": "2023-07-05T08:31:01.273554Z",
     "history": [
      {
       "current": "492138e4-1b0e-11ee-987e-0242ac110002-1-ae1c",
       "next": "4e3fec12-1730-11ee-987e-0242ac110002-1-21c7",
       "previous": "4e3fec12-1730-11ee-987e-0242ac110002"
      },
      {
       "current": "492138e4-1b0e-11ee-987e-0242ac110002-2-ae1c-0e4e",
       "next": "4e3fec12-1730-11ee-987e-0242ac110002-2-21c7-0fc9",
       "previous": "4e3fec12-1730-11ee-987e-0242ac110002-1-21c7"
      },
      {
       "current": "492138e4-1b0e-11ee-987e-0242ac110002-3-ae1c-0e4e-a3ab",
       "next": "4e3fec12-1730-11ee-987e-0242ac110002-3-21c7-0fc9-2be9",
       "previous": "4e3fec12-1730-11ee-987e-0242ac110002-2-21c7-5440"
      },
      {
       "current": "492138e4-1b0e-11ee-987e-0242ac110002-4-ae1c-0e4e-a3ab-b217",
       "next": "4e3fec12-1730-11ee-987e-0242ac110002-4-21c7-0fc9-2be9-5959",
       "previous": "4e3fec12-1730-11ee-987e-0242ac110002-3-21c7-5440-ee87"
      }
     ],
     "next": "4e3fec12-1730-11ee-987e-0242ac110002-5-21c7-0fc9-2be9-5959-bb2c",
     "previous": "4e3fec12-1730-11ee-987e-0242ac110002-4-21c7-5440-ee87-ea46"
    },
    "lc_wrapper": {
     "log_history": [
      "/notebooks/notebook/work_terayama/yjupyterhub/work/.log/20230705/20230705-173101-0203.log"
     ]
    }
   },
   "source": [
    "実際にファイルを配置"
   ]
  },
  {
   "cell_type": "code",
   "execution_count": null,
   "metadata": {
    "hidden": true,
    "lc_cell_meme": {
     "current": "4e3fec12-1730-11ee-987e-0242ac110002-5-21c7-0fc9-2be9-5959-bb2c",
     "history": [
      {
       "current": "4e3fec12-1730-11ee-987e-0242ac110002-2-21c7-0fc9",
       "next": "5c09021c-163a-11ee-987e-0242ac110002-2-99e8-bdef",
       "previous": "5c09017c-163a-11ee-987e-0242ac110002-2-e7a9-f34d"
      },
      {
       "current": "4e3fec12-1730-11ee-987e-0242ac110002-2-21c7-0fc9",
       "next": "5c09021c-163a-11ee-987e-0242ac110002-2-99e8-bdef",
       "previous": "4e3fec12-1730-11ee-987e-0242ac110002-1-21c7"
      },
      {
       "current": "4e3fec12-1730-11ee-987e-0242ac110002-2-21c7-0fc9",
       "next": "4e3fec12-1730-11ee-987e-0242ac110002-2-21c7-6763",
       "previous": "4e3fec12-1730-11ee-987e-0242ac110002-1-21c7"
      },
      {
       "current": "4e3fec12-1730-11ee-987e-0242ac110002-2-21c7-0fc9",
       "next": "5c09021c-163a-11ee-987e-0242ac110002-2-99e8-bdef",
       "previous": "492138e4-1b0e-11ee-987e-0242ac110002-1-ae1c"
      },
      {
       "current": "4e3fec12-1730-11ee-987e-0242ac110002-2-21c7-0fc9",
       "next": "5c08f09c-163a-11ee-987e-0242ac110002-1-4603",
       "previous": "492138e4-1b0e-11ee-987e-0242ac110002-1-ae1c"
      },
      {
       "current": "4e3fec12-1730-11ee-987e-0242ac110002-2-21c7-0fc9",
       "next": "1fb7d246-1b0f-11ee-987e-0242ac110002",
       "previous": "492138e4-1b0e-11ee-987e-0242ac110002-1-ae1c"
      },
      {
       "current": "4e3fec12-1730-11ee-987e-0242ac110002-2-21c7-0fc9",
       "next": "6740058e-1b0f-11ee-987e-0242ac110002",
       "previous": "492138e4-1b0e-11ee-987e-0242ac110002-1-ae1c"
      },
      {
       "current": "4e3fec12-1730-11ee-987e-0242ac110002-2-21c7-0fc9",
       "next": "5c08f09c-163a-11ee-987e-0242ac110002-1-4603",
       "previous": "492138e4-1b0e-11ee-987e-0242ac110002-1-ae1c"
      },
      {
       "current": "4e3fec12-1730-11ee-987e-0242ac110002-2-21c7-0fc9",
       "next": "a4131a66-2c56-11ee-987e-0242ac110002",
       "previous": "492138e4-1b0e-11ee-987e-0242ac110002-1-ae1c"
      },
      {
       "current": "4e3fec12-1730-11ee-987e-0242ac110002-3-21c7-0fc9-2be9",
       "next": "b665ebde-2c57-11ee-987e-0242ac110002",
       "previous": "492138e4-1b0e-11ee-987e-0242ac110002-1-ae1c"
      },
      {
       "current": "4e3fec12-1730-11ee-987e-0242ac110002-4-21c7-0fc9-2be9-5959",
       "next": "b665ebde-2c57-11ee-987e-0242ac110002-1-f656",
       "previous": "492138e4-1b0e-11ee-987e-0242ac110002-2-ae1c-0e4e"
      },
      {
       "current": "4e3fec12-1730-11ee-987e-0242ac110002-5-21c7-0fc9-2be9-5959-bb2c",
       "next": "b665ebde-2c57-11ee-987e-0242ac110002-2-f656-7b8f",
       "previous": "492138e4-1b0e-11ee-987e-0242ac110002-3-ae1c-0e4e-a3ab"
      },
      {
       "current": "4e3fec12-1730-11ee-987e-0242ac110002-5-21c7-0fc9-2be9-5959-bb2c",
       "next": "b665ebde-2c57-11ee-987e-0242ac110002-3-f656-7b8f-a870",
       "previous": "492138e4-1b0e-11ee-987e-0242ac110002-4-ae1c-0e4e-a3ab-b217"
      }
     ],
     "next": "edd5c752-7fcb-11ee-880b-0242ac110002",
     "previous": "492138e4-1b0e-11ee-987e-0242ac110002-4-ae1c-0e4e-a3ab-b217"
    },
    "lc_wrapper": {
     "log_history": [
      "/notebooks/notebook/work_terayama/yjupyterhub/work/.log/20230630/20230630-192812-0440.log",
      "/notebooks/notebook/work_terayama/yjupyterhub/work/.log/20230704/20230704-120442-0883.log",
      "/notebooks/notebook/work_terayama/yjupyterhub/work/.log/20230719/20230719-154440-0654.log",
      "/notebooks/notebook/work_terayama/yjupyterhub/work/.log/20230719/20230719-154604-0403.log",
      "/notebooks/notebook/work_terayama/yjupyterhub/work/.log/20230719/20230719-160344-0851.log",
      "/notebooks/notebook/work_terayama/yjupyterhub/work/.log/20230720/20230720-115143-0358.log",
      "/notebooks/notebook/work_terayama/yjupyterhub/work/.log/20230727/20230727-141726-0424.log",
      "/notebooks/notebook/work_terayama/yjupyterhub/work/.log/20230727/20230727-160840-0326.log",
      "/notebooks/notebook/work_terayama/yjupyterhub/work/.log/20230727/20230727-161210-0731.log",
      "/notebooks/notebook/work_terayama/yjupyterhub/work/.log/20230727/20230727-161332-0099.log",
      "/notebooks/notebook/work_terayama/yjupyterhub/work/.log/20230727/20230727-161349-0354.log",
      "/notebooks/notebook/work_terayama/yjupyterhub/work/.log/20230727/20230727-161414-0845.log",
      "/notebooks/notebook/work_terayama/yjupyterhub/work/.log/20230727/20230727-161553-0671.log",
      "/notebooks/notebook/work_terayama/yjupyterhub/work/.log/20230727/20230727-161646-0981.log",
      "/notebooks/notebook/work_terayama/yjupyterhub/work/.log/20230727/20230727-161827-0719.log",
      "/notebooks/notebook/work_terayama/yjupyterhub/work/.log/20230727/20230727-170624-0519.log",
      "/notebooks/notebook/work_terayama/yjupyterhub/work/.log/20230727/20230727-170933-0676.log",
      "/notebooks/notebook/work_terayama/yjupyterhub/work/.log/20230727/20230727-172803-0000.log",
      "/notebooks/notebook/work_terayama/yjupyterhub/work/.log/20230801/20230801-152613-0166.log"
     ]
    }
   },
   "outputs": [],
   "source": [
    "# 共有ディレクトリに必要なファイル配置\n",
    "!ansible {target_hub} -Dv -m synchronize \\\n",
    "    -a 'src=template/directories/jupytershare/nbgrader dest={share_directory_root}'\n",
    "!ansible {target_hub} -Dv -m synchronize \\\n",
    "    -a 'src=template/directories/jupytershare/class dest={share_directory_root}'\n",
    "!ansible {target_hub} -Dv -m template \\\n",
    "    -a 'src=template/directories/jupytershare/nbgrader/templates/teachers/nbgrader_config.py \\\n",
    "    dest={share_directory_root}/nbgrader/templates/teachers backup=yes'\n",
    "\n",
    "# ホームディレクトリに必要なファイル配置\n",
    "!ansible {target_hub} -Dv -m synchronize \\\n",
    "    -a 'src=template/directories/skelton dest={home_directory_root}'\n",
    "\n",
    "# jupyterhubシステム構築に必要なファイル配置\n",
    "# !ansible {target_hub} -Dv -m synchronize \\\n",
    "#     -a 'src=template/jupyterhub dest={{{{base_dir}}}}'\n",
    "!ansible {target_hub} -Dv -m synchronize \\\n",
    "    -a 'src=template/jupyterhub/jupyterhub dest={{{{base_dir}}}}/jupyterhub'\n",
    "!ansible {target_hub} -Dv -m synchronize \\\n",
    "    -a 'src=template/jupyterhub/nginx dest={{{{base_dir}}}}/jupyterhub'\n",
    "!ansible {target_hub} -Dv -m synchronize \\\n",
    "    -a 'src=template/jupyterhub/ldap dest={{{{base_dir}}}}/jupyterhub'\n",
    "\n",
    "!ansible {target_hub} -Dv -m template \\\n",
    "    -a 'src=template/jupyterhub/docker-compose.yml dest={{{{base_dir}}}}/docker-compose.yml backup=yes'\n",
    "\n",
    "!ansible {target_hub} -Dv -m template \\\n",
    "    -a 'src=template/jupyterhub/nginx/default.conf dest={{{{base_dir}}}}/jupyterhub/nginx/default.conf backup=yes'\n",
    "\n",
    "!ansible {target_hub} -Dv -m synchronize \\\n",
    "    -a 'src=template/jupyterhub/jupyterhub/sudoers dest={{{{share_directory_root}}}} rsync_opts=--chown=root:root,--chmod=600' --become"
   ]
  },
  {
   "cell_type": "markdown",
   "metadata": {
    "hidden": true,
    "lc_cell_meme": {
     "current": "b665ebde-2c57-11ee-987e-0242ac110002-3-f656-7b8f-a870",
     "history": [
      {
       "current": "b665ebde-2c57-11ee-987e-0242ac110002",
       "next": "b665eddc-2c57-11ee-987e-0242ac110002",
       "previous": "4e3fec12-1730-11ee-987e-0242ac110002-2-21c7-0fc9"
      },
      {
       "current": "b665ebde-2c57-11ee-987e-0242ac110002-1-f656",
       "next": "5c08f09c-163a-11ee-987e-0242ac110002-1-4603",
       "previous": "4e3fec12-1730-11ee-987e-0242ac110002-2-21c7-0fc9"
      },
      {
       "current": "b665ebde-2c57-11ee-987e-0242ac110002-2-f656-7b8f",
       "next": "5c08f09c-163a-11ee-987e-0242ac110002-2-4603-795d",
       "previous": "4e3fec12-1730-11ee-987e-0242ac110002-3-21c7-0fc9-2be9"
      },
      {
       "current": "b665ebde-2c57-11ee-987e-0242ac110002-3-f656-7b8f-a870",
       "next": "5c08f09c-163a-11ee-987e-0242ac110002-3-4603-795d-1086",
       "previous": "4e3fec12-1730-11ee-987e-0242ac110002-4-21c7-0fc9-2be9-5959"
      },
      {
       "current": "b665ebde-2c57-11ee-987e-0242ac110002-3-f656-7b8f-a870",
       "next": "5c08f09c-163a-11ee-987e-0242ac110002-4-4603-795d-1086-373f",
       "previous": "4e3fec12-1730-11ee-987e-0242ac110002-5-21c7-0fc9-2be9-5959-bb2c"
      }
     ],
     "next": "5c08f09c-163a-11ee-987e-0242ac110002-4-4603-795d-1086-373f",
     "previous": "edd5c860-7fcb-11ee-880b-0242ac110002"
    }
   },
   "source": [
    "#### Jupyterhubイメージのビルド"
   ]
  },
  {
   "cell_type": "markdown",
   "metadata": {
    "hidden": true,
    "lc_cell_meme": {
     "current": "5c08f09c-163a-11ee-987e-0242ac110002-4-4603-795d-1086-373f",
     "history": [
      {
       "current": "5c08f09c-163a-11ee-987e-0242ac110002-1-4603",
       "next": "5c08f1a0-163a-11ee-987e-0242ac110002",
       "previous": "5c08eff2-163a-11ee-987e-0242ac110002"
      },
      {
       "current": "5c08f09c-163a-11ee-987e-0242ac110002-1-4603",
       "next": "5c08f1a0-163a-11ee-987e-0242ac110002-1-9928",
       "previous": "5c08eff2-163a-11ee-987e-0242ac110002-1-bd72"
      },
      {
       "current": "5c08f09c-163a-11ee-987e-0242ac110002-1-4603",
       "next": "5c08f1a0-163a-11ee-987e-0242ac110002-1-9928",
       "previous": "5c0902f8-163a-11ee-987e-0242ac110002-2-fe00-7ad7"
      },
      {
       "current": "5c08f09c-163a-11ee-987e-0242ac110002-1-4603",
       "next": "5c08f1a0-163a-11ee-987e-0242ac110002-1-9928",
       "previous": "4e3fec12-1730-11ee-987e-0242ac110002-2-21c7-0fc9"
      },
      {
       "current": "5c08f09c-163a-11ee-987e-0242ac110002-1-4603",
       "next": "5c08f1a0-163a-11ee-987e-0242ac110002-1-9928",
       "previous": "1fb7d246-1b0f-11ee-987e-0242ac110002"
      },
      {
       "current": "5c08f09c-163a-11ee-987e-0242ac110002-1-4603",
       "next": "5c08f1a0-163a-11ee-987e-0242ac110002-1-9928",
       "previous": "4e3fec12-1730-11ee-987e-0242ac110002-2-21c7-0fc9"
      },
      {
       "current": "5c08f09c-163a-11ee-987e-0242ac110002-1-4603",
       "next": "5c08f1a0-163a-11ee-987e-0242ac110002-1-9928",
       "previous": "a4131a66-2c56-11ee-987e-0242ac110002"
      },
      {
       "current": "5c08f09c-163a-11ee-987e-0242ac110002-2-4603-795d",
       "next": "5c08f1a0-163a-11ee-987e-0242ac110002-1-9928",
       "previous": "b665ebde-2c57-11ee-987e-0242ac110002"
      },
      {
       "current": "5c08f09c-163a-11ee-987e-0242ac110002-3-4603-795d-1086",
       "next": "5c08f1a0-163a-11ee-987e-0242ac110002-2-9928-39e9",
       "previous": "b665ebde-2c57-11ee-987e-0242ac110002-1-f656"
      },
      {
       "current": "5c08f09c-163a-11ee-987e-0242ac110002-4-4603-795d-1086-373f",
       "next": "5c08f1a0-163a-11ee-987e-0242ac110002-3-9928-39e9-a78b",
       "previous": "b665ebde-2c57-11ee-987e-0242ac110002-2-f656-7b8f"
      }
     ],
     "next": "5c08f1a0-163a-11ee-987e-0242ac110002-4-9928-39e9-a78b-354d",
     "previous": "b665ebde-2c57-11ee-987e-0242ac110002-3-f656-7b8f-a870"
    }
   },
   "source": [
    "実際にビルドする前にdryrun（チェックモード）でAnsibleを実行します。"
   ]
  },
  {
   "cell_type": "code",
   "execution_count": null,
   "metadata": {
    "hidden": true,
    "lc_cell_meme": {
     "current": "5c08f1a0-163a-11ee-987e-0242ac110002-4-9928-39e9-a78b-354d",
     "history": [
      {
       "current": "5c08f1a0-163a-11ee-987e-0242ac110002-1-9928",
       "next": "5c08f268-163a-11ee-987e-0242ac110002",
       "previous": "5c08f09c-163a-11ee-987e-0242ac110002"
      },
      {
       "current": "5c08f1a0-163a-11ee-987e-0242ac110002-2-9928-39e9",
       "next": "5c08f268-163a-11ee-987e-0242ac110002-1-32bb",
       "previous": "5c08f09c-163a-11ee-987e-0242ac110002-1-4603"
      },
      {
       "current": "5c08f1a0-163a-11ee-987e-0242ac110002-3-9928-39e9-a78b",
       "next": "5c08f268-163a-11ee-987e-0242ac110002-2-32bb-a8ed",
       "previous": "5c08f09c-163a-11ee-987e-0242ac110002-2-4603-795d"
      },
      {
       "current": "5c08f1a0-163a-11ee-987e-0242ac110002-4-9928-39e9-a78b-354d",
       "next": "5c08f268-163a-11ee-987e-0242ac110002-3-32bb-a8ed-2099",
       "previous": "5c08f09c-163a-11ee-987e-0242ac110002-3-4603-795d-1086"
      }
     ],
     "next": "5c08f268-163a-11ee-987e-0242ac110002-4-32bb-a8ed-2099-eca2",
     "previous": "5c08f09c-163a-11ee-987e-0242ac110002-4-4603-795d-1086-373f"
    },
    "lc_wrapper": {
     "log_history": [
      "/notebooks/notebook/work_terayama/yjupyterhub/work/.log/20230629/20230629-175830-0472.log",
      "/notebooks/notebook/work_terayama/yjupyterhub/work/.log/20230629/20230629-180351-0349.log",
      "/notebooks/notebook/work_terayama/yjupyterhub/work/.log/20230629/20230629-180442-0921.log",
      "/notebooks/notebook/work_terayama/yjupyterhub/work/.log/20230629/20230629-180610-0532.log",
      "/notebooks/notebook/work_terayama/yjupyterhub/work/.log/20230630/20230630-190201-0398.log",
      "/notebooks/notebook/work_terayama/yjupyterhub/work/.log/20230704/20230704-120526-0752.log",
      "/notebooks/notebook/work_terayama/yjupyterhub/work/.log/20230719/20230719-160445-0533.log",
      "/notebooks/notebook/work_terayama/yjupyterhub/work/.log/20230720/20230720-115213-0942.log",
      "/notebooks/notebook/work_terayama/yjupyterhub/work/.log/20230727/20230727-141736-0565.log",
      "/notebooks/notebook/work_terayama/yjupyterhub/work/.log/20230727/20230727-172939-0236.log",
      "/notebooks/notebook/work_terayama/yjupyterhub/work/.log/20230801/20230801-152707-0233.log"
     ]
    },
    "scrolled": true
   },
   "outputs": [],
   "source": [
    "!ansible-playbook -l {target_hub} -CDv playbooks/setup-jupyterhub.yml || true"
   ]
  },
  {
   "cell_type": "markdown",
   "metadata": {
    "hidden": true,
    "lc_cell_meme": {
     "current": "5c08f268-163a-11ee-987e-0242ac110002-4-32bb-a8ed-2099-eca2",
     "history": [
      {
       "current": "5c08f268-163a-11ee-987e-0242ac110002-1-32bb",
       "next": "5c08f308-163a-11ee-987e-0242ac110002",
       "previous": "5c08f1a0-163a-11ee-987e-0242ac110002"
      },
      {
       "current": "5c08f268-163a-11ee-987e-0242ac110002-2-32bb-a8ed",
       "next": "5c08f308-163a-11ee-987e-0242ac110002-1-4f84",
       "previous": "5c08f1a0-163a-11ee-987e-0242ac110002-1-9928"
      },
      {
       "current": "5c08f268-163a-11ee-987e-0242ac110002-3-32bb-a8ed-2099",
       "next": "5c08f308-163a-11ee-987e-0242ac110002-2-4f84-91e5",
       "previous": "5c08f1a0-163a-11ee-987e-0242ac110002-2-9928-39e9"
      },
      {
       "current": "5c08f268-163a-11ee-987e-0242ac110002-4-32bb-a8ed-2099-eca2",
       "next": "5c08f308-163a-11ee-987e-0242ac110002-3-4f84-91e5-f933",
       "previous": "5c08f1a0-163a-11ee-987e-0242ac110002-3-9928-39e9-a78b"
      }
     ],
     "next": "5c08f308-163a-11ee-987e-0242ac110002-4-4f84-91e5-f933-a074",
     "previous": "5c08f1a0-163a-11ee-987e-0242ac110002-4-9928-39e9-a78b-354d"
    }
   },
   "source": [
    "実際にコンテナイメージのビルドを行います。"
   ]
  },
  {
   "cell_type": "code",
   "execution_count": null,
   "metadata": {
    "hidden": true,
    "lc_cell_meme": {
     "current": "5c08f308-163a-11ee-987e-0242ac110002-4-4f84-91e5-f933-a074",
     "history": [
      {
       "current": "5c08f308-163a-11ee-987e-0242ac110002-1-4f84",
       "next": "5c08f3da-163a-11ee-987e-0242ac110002",
       "previous": "5c08f268-163a-11ee-987e-0242ac110002"
      },
      {
       "current": "5c08f308-163a-11ee-987e-0242ac110002-2-4f84-91e5",
       "next": "5c08f3da-163a-11ee-987e-0242ac110002-1-b17d",
       "previous": "5c08f268-163a-11ee-987e-0242ac110002-1-32bb"
      },
      {
       "current": "5c08f308-163a-11ee-987e-0242ac110002-3-4f84-91e5-f933",
       "next": "5c08f3da-163a-11ee-987e-0242ac110002-2-b17d-bd2e",
       "previous": "5c08f268-163a-11ee-987e-0242ac110002-2-32bb-a8ed"
      },
      {
       "current": "5c08f308-163a-11ee-987e-0242ac110002-4-4f84-91e5-f933-a074",
       "next": "5c08f3da-163a-11ee-987e-0242ac110002-3-b17d-bd2e-2b02",
       "previous": "5c08f268-163a-11ee-987e-0242ac110002-3-32bb-a8ed-2099"
      }
     ],
     "next": "5c08f3da-163a-11ee-987e-0242ac110002-4-b17d-bd2e-2b02-1da2",
     "previous": "5c08f268-163a-11ee-987e-0242ac110002-4-32bb-a8ed-2099-eca2"
    },
    "lc_wrapper": {
     "log_history": [
      "/notebooks/notebook/work_terayama/yjupyterhub/work/.log/20230629/20230629-180625-0616.log",
      "/notebooks/notebook/work_terayama/yjupyterhub/work/.log/20230629/20230629-180829-0047.log",
      "/notebooks/notebook/work_terayama/yjupyterhub/work/.log/20230630/20230630-190207-0249.log",
      "/notebooks/notebook/work_terayama/yjupyterhub/work/.log/20230704/20230704-120531-0553.log",
      "/notebooks/notebook/work_terayama/yjupyterhub/work/.log/20230719/20230719-160450-0548.log",
      "/notebooks/notebook/work_terayama/yjupyterhub/work/.log/20230720/20230720-115231-0547.log",
      "/notebooks/notebook/work_terayama/yjupyterhub/work/.log/20230727/20230727-141740-0919.log",
      "/notebooks/notebook/work_terayama/yjupyterhub/work/.log/20230727/20230727-171154-0020.log",
      "/notebooks/notebook/work_terayama/yjupyterhub/work/.log/20230727/20230727-171353-0673.log",
      "/notebooks/notebook/work_terayama/yjupyterhub/work/.log/20230727/20230727-172947-0923.log",
      "/notebooks/notebook/work_terayama/yjupyterhub/work/.log/20230801/20230801-152711-0507.log"
     ]
    },
    "scrolled": true
   },
   "outputs": [],
   "source": [
    "!ansible-playbook -l {target_hub} playbooks/setup-jupyterhub.yml -e jupyterhub_image={jupyterhub_image}"
   ]
  },
  {
   "cell_type": "markdown",
   "metadata": {
    "hidden": true,
    "lc_cell_meme": {
     "current": "5c08f3da-163a-11ee-987e-0242ac110002-4-b17d-bd2e-2b02-1da2",
     "history": [
      {
       "current": "5c08f3da-163a-11ee-987e-0242ac110002-1-b17d",
       "next": "5c08f47a-163a-11ee-987e-0242ac110002",
       "previous": "5c08f308-163a-11ee-987e-0242ac110002"
      },
      {
       "current": "5c08f3da-163a-11ee-987e-0242ac110002-2-b17d-bd2e",
       "next": "5c08f47a-163a-11ee-987e-0242ac110002-1-9726",
       "previous": "5c08f308-163a-11ee-987e-0242ac110002-1-4f84"
      },
      {
       "current": "5c08f3da-163a-11ee-987e-0242ac110002-3-b17d-bd2e-2b02",
       "next": "5c08f47a-163a-11ee-987e-0242ac110002-2-9726-1f4d",
       "previous": "5c08f308-163a-11ee-987e-0242ac110002-2-4f84-91e5"
      },
      {
       "current": "5c08f3da-163a-11ee-987e-0242ac110002-4-b17d-bd2e-2b02-1da2",
       "next": "5c08f47a-163a-11ee-987e-0242ac110002-3-9726-1f4d-ab1f",
       "previous": "5c08f308-163a-11ee-987e-0242ac110002-3-4f84-91e5-f933"
      }
     ],
     "next": "5c08f47a-163a-11ee-987e-0242ac110002-4-9726-1f4d-ab1f-eea2",
     "previous": "5c08f308-163a-11ee-987e-0242ac110002-4-4f84-91e5-f933-a074"
    }
   },
   "source": [
    "JupyterHubのコンテナイメージが存在することを確認します。"
   ]
  },
  {
   "cell_type": "code",
   "execution_count": null,
   "metadata": {
    "hidden": true,
    "lc_cell_meme": {
     "current": "5c08f47a-163a-11ee-987e-0242ac110002-4-9726-1f4d-ab1f-eea2",
     "history": [
      {
       "current": "5c08f47a-163a-11ee-987e-0242ac110002-1-9726",
       "next": "5c08f510-163a-11ee-987e-0242ac110002",
       "previous": "5c08f3da-163a-11ee-987e-0242ac110002"
      },
      {
       "current": "5c08f47a-163a-11ee-987e-0242ac110002-2-9726-1f4d",
       "next": "5c08f510-163a-11ee-987e-0242ac110002-1-64f7",
       "previous": "5c08f3da-163a-11ee-987e-0242ac110002-1-b17d"
      },
      {
       "current": "5c08f47a-163a-11ee-987e-0242ac110002-3-9726-1f4d-ab1f",
       "next": "5c08f510-163a-11ee-987e-0242ac110002-2-64f7-06e1",
       "previous": "5c08f3da-163a-11ee-987e-0242ac110002-2-b17d-bd2e"
      },
      {
       "current": "5c08f47a-163a-11ee-987e-0242ac110002-4-9726-1f4d-ab1f-eea2",
       "next": "5c08f510-163a-11ee-987e-0242ac110002-3-64f7-06e1-70a7",
       "previous": "5c08f3da-163a-11ee-987e-0242ac110002-3-b17d-bd2e-2b02"
      }
     ],
     "next": "5c08f510-163a-11ee-987e-0242ac110002-4-64f7-06e1-70a7-478d",
     "previous": "5c08f3da-163a-11ee-987e-0242ac110002-4-b17d-bd2e-2b02-1da2"
    },
    "lc_wrapper": {
     "log_history": [
      "/notebooks/notebook/work_terayama/yjupyterhub/work/.log/20230629/20230629-181000-0255.log",
      "/notebooks/notebook/work_terayama/yjupyterhub/work/.log/20230629/20230629-181052-0522.log",
      "/notebooks/notebook/work_terayama/yjupyterhub/work/.log/20230629/20230629-181139-0756.log",
      "/notebooks/notebook/work_terayama/yjupyterhub/work/.log/20230630/20230630-190320-0070.log",
      "/notebooks/notebook/work_terayama/yjupyterhub/work/.log/20230704/20230704-120739-0454.log",
      "/notebooks/notebook/work_terayama/yjupyterhub/work/.log/20230719/20230719-160539-0997.log",
      "/notebooks/notebook/work_terayama/yjupyterhub/work/.log/20230720/20230720-115315-0504.log",
      "/notebooks/notebook/work_terayama/yjupyterhub/work/.log/20230727/20230727-141827-0075.log",
      "/notebooks/notebook/work_terayama/yjupyterhub/work/.log/20230727/20230727-171159-0922.log",
      "/notebooks/notebook/work_terayama/yjupyterhub/work/.log/20230727/20230727-171402-0240.log",
      "/notebooks/notebook/work_terayama/yjupyterhub/work/.log/20230801/20230801-152753-0168.log"
     ]
    }
   },
   "outputs": [],
   "source": [
    "!ansible {target_hub} -a \\\n",
    "    'docker images {{{{jupyterhub_image}}}}'"
   ]
  },
  {
   "cell_type": "markdown",
   "metadata": {
    "hidden": true,
    "lc_cell_meme": {
     "current": "5c08f510-163a-11ee-987e-0242ac110002-4-64f7-06e1-70a7-478d",
     "history": [
      {
       "current": "5c08f510-163a-11ee-987e-0242ac110002-1-64f7",
       "next": "5c08f5a6-163a-11ee-987e-0242ac110002",
       "previous": "5c08f47a-163a-11ee-987e-0242ac110002"
      },
      {
       "current": "5c08f510-163a-11ee-987e-0242ac110002-2-64f7-06e1",
       "next": "5c08f5a6-163a-11ee-987e-0242ac110002-1-5880",
       "previous": "5c08f47a-163a-11ee-987e-0242ac110002-1-9726"
      },
      {
       "current": "5c08f510-163a-11ee-987e-0242ac110002-3-64f7-06e1-70a7",
       "next": "5c08f5a6-163a-11ee-987e-0242ac110002-2-5880-ea4a",
       "previous": "5c08f47a-163a-11ee-987e-0242ac110002-2-9726-1f4d"
      },
      {
       "current": "5c08f510-163a-11ee-987e-0242ac110002-4-64f7-06e1-70a7-478d",
       "next": "5c08f5a6-163a-11ee-987e-0242ac110002-3-5880-ea4a-589e",
       "previous": "5c08f47a-163a-11ee-987e-0242ac110002-3-9726-1f4d-ab1f"
      }
     ],
     "next": "5c08f5a6-163a-11ee-987e-0242ac110002-4-5880-ea4a-589e-4e05",
     "previous": "5c08f47a-163a-11ee-987e-0242ac110002-4-9726-1f4d-ab1f-eea2"
    }
   },
   "source": [
    "JupyterHubコンテナのために配置したファイルを確認します。"
   ]
  },
  {
   "cell_type": "code",
   "execution_count": null,
   "metadata": {
    "hidden": true,
    "lc_cell_meme": {
     "current": "5c08f5a6-163a-11ee-987e-0242ac110002-4-5880-ea4a-589e-4e05",
     "history": [
      {
       "current": "5c08f5a6-163a-11ee-987e-0242ac110002-1-5880",
       "next": "5c08f646-163a-11ee-987e-0242ac110002",
       "previous": "5c08f510-163a-11ee-987e-0242ac110002"
      },
      {
       "current": "5c08f5a6-163a-11ee-987e-0242ac110002-1-5880",
       "next": "5c08f646-163a-11ee-987e-0242ac110002-1-81c3",
       "previous": "5c08f510-163a-11ee-987e-0242ac110002-1-64f7"
      },
      {
       "current": "5c08f5a6-163a-11ee-987e-0242ac110002-2-5880-ea4a",
       "next": "5c08fb14-163a-11ee-987e-0242ac110002-1-0351",
       "previous": "5c08f510-163a-11ee-987e-0242ac110002-1-64f7"
      },
      {
       "current": "5c08f5a6-163a-11ee-987e-0242ac110002-3-5880-ea4a-589e",
       "next": "5c08fb14-163a-11ee-987e-0242ac110002-2-0351-08c5",
       "previous": "5c08f510-163a-11ee-987e-0242ac110002-2-64f7-06e1"
      },
      {
       "current": "5c08f5a6-163a-11ee-987e-0242ac110002-4-5880-ea4a-589e-4e05",
       "next": "5c08fb14-163a-11ee-987e-0242ac110002-3-0351-08c5-a7bd",
       "previous": "5c08f510-163a-11ee-987e-0242ac110002-3-64f7-06e1-70a7"
      }
     ],
     "next": "5c08fb14-163a-11ee-987e-0242ac110002-4-0351-08c5-a7bd-135f",
     "previous": "5c08f510-163a-11ee-987e-0242ac110002-4-64f7-06e1-70a7-478d"
    },
    "lc_wrapper": {
     "log_history": [
      "/notebooks/notebook/work_terayama/yjupyterhub/work/.log/20230629/20230629-181154-0378.log",
      "/notebooks/notebook/work_terayama/yjupyterhub/work/.log/20230629/20230629-181245-0796.log",
      "/notebooks/notebook/work_terayama/yjupyterhub/work/.log/20230630/20230630-190328-0200.log",
      "/notebooks/notebook/work_terayama/yjupyterhub/work/.log/20230704/20230704-120744-0687.log",
      "/notebooks/notebook/work_terayama/yjupyterhub/work/.log/20230719/20230719-160545-0499.log",
      "/notebooks/notebook/work_terayama/yjupyterhub/work/.log/20230720/20230720-115331-0293.log",
      "/notebooks/notebook/work_terayama/yjupyterhub/work/.log/20230727/20230727-141833-0690.log",
      "/notebooks/notebook/work_terayama/yjupyterhub/work/.log/20230727/20230727-171206-0415.log",
      "/notebooks/notebook/work_terayama/yjupyterhub/work/.log/20230727/20230727-173000-0471.log",
      "/notebooks/notebook/work_terayama/yjupyterhub/work/.log/20230801/20230801-152758-0318.log"
     ]
    }
   },
   "outputs": [],
   "source": [
    "!ansible {target_hub} -a 'tree {{{{jupyterhub_dir}}}}'"
   ]
  },
  {
   "cell_type": "markdown",
   "metadata": {
    "lc_cell_meme": {
     "current": "5c08fb14-163a-11ee-987e-0242ac110002-4-0351-08c5-a7bd-135f",
     "history": [
      {
       "current": "5c08fb14-163a-11ee-987e-0242ac110002-1-0351",
       "next": "5c08fbaa-163a-11ee-987e-0242ac110002",
       "previous": "5c08fa7e-163a-11ee-987e-0242ac110002"
      },
      {
       "current": "5c08fb14-163a-11ee-987e-0242ac110002-1-0351",
       "next": "5c08fbaa-163a-11ee-987e-0242ac110002-1-b307",
       "previous": "5c08fa7e-163a-11ee-987e-0242ac110002-1-77f2"
      },
      {
       "current": "5c08fb14-163a-11ee-987e-0242ac110002-1-0351",
       "next": "9226f996-1660-11ee-987e-0242ac110002",
       "previous": "5c08fa7e-163a-11ee-987e-0242ac110002-1-77f2"
      },
      {
       "current": "5c08fb14-163a-11ee-987e-0242ac110002-1-0351",
       "next": "9226f996-1660-11ee-987e-0242ac110002-1-d407",
       "previous": "5c08f5a6-163a-11ee-987e-0242ac110002-1-5880"
      },
      {
       "current": "5c08fb14-163a-11ee-987e-0242ac110002-1-0351",
       "next": "5c08fe48-163a-11ee-987e-0242ac110002-2-ca1f-a235",
       "previous": "5c08f5a6-163a-11ee-987e-0242ac110002-1-5880"
      },
      {
       "current": "5c08fb14-163a-11ee-987e-0242ac110002-1-0351",
       "next": "658edb84-304a-11ee-b73e-0242ac110003",
       "previous": "5c08f5a6-163a-11ee-987e-0242ac110002-1-5880"
      },
      {
       "current": "5c08fb14-163a-11ee-987e-0242ac110002-2-0351-08c5",
       "next": "5c08fe48-163a-11ee-987e-0242ac110002-2-ca1f-a235",
       "previous": "5c08f5a6-163a-11ee-987e-0242ac110002-1-5880"
      },
      {
       "current": "5c08fb14-163a-11ee-987e-0242ac110002-2-0351-08c5",
       "next": "5c08fe48-163a-11ee-987e-0242ac110002-3-ca1f-a235-fc85",
       "previous": "5c08f5a6-163a-11ee-987e-0242ac110002-2-5880-ea4a"
      },
      {
       "current": "5c08fb14-163a-11ee-987e-0242ac110002-3-0351-08c5-a7bd",
       "next": "c84bd910-3285-11ee-b73e-0242ac110003",
       "previous": "5c08f5a6-163a-11ee-987e-0242ac110002-2-5880-ea4a"
      },
      {
       "current": "5c08fb14-163a-11ee-987e-0242ac110002-4-0351-08c5-a7bd-135f",
       "next": "c84bd910-3285-11ee-b73e-0242ac110003-1-1c57",
       "previous": "5c08f5a6-163a-11ee-987e-0242ac110002-3-5880-ea4a-589e"
      },
      {
       "current": "5c08fb14-163a-11ee-987e-0242ac110002-4-0351-08c5-a7bd-135f",
       "next": "c84bd910-3285-11ee-b73e-0242ac110003-2-1c57-9b11",
       "previous": "5c08f5a6-163a-11ee-987e-0242ac110002-4-5880-ea4a-589e-4e05"
      }
     ],
     "next": "4e0f3b28-302e-11ee-b73e-0242ac110003-3-7483-8430-3636",
     "previous": "5c08f5a6-163a-11ee-987e-0242ac110002-4-5880-ea4a-589e-4e05"
    }
   },
   "source": [
    "### single-user Jupyter Notebook server"
   ]
  },
  {
   "cell_type": "markdown",
   "metadata": {
    "lc_cell_meme": {
     "current": "4e0f3b28-302e-11ee-b73e-0242ac110003-3-7483-8430-3636",
     "history": [
      {
       "current": "4e0f3b28-302e-11ee-b73e-0242ac110003",
       "next": "4e0f3cea-302e-11ee-b73e-0242ac110003",
       "previous": "5c08fe48-163a-11ee-987e-0242ac110002-2-ca1f-a235"
      },
      {
       "current": "4e0f3b28-302e-11ee-b73e-0242ac110003-1-7483",
       "next": "903b3876-302e-11ee-b73e-0242ac110003",
       "previous": "5c08fe48-163a-11ee-987e-0242ac110002-2-ca1f-a235"
      },
      {
       "current": "4e0f3b28-302e-11ee-b73e-0242ac110003-2-7483-8430",
       "next": "903b3876-302e-11ee-b73e-0242ac110003-1-c336",
       "previous": "5c08fe48-163a-11ee-987e-0242ac110002-3-ca1f-a235-fc85"
      },
      {
       "current": "4e0f3b28-302e-11ee-b73e-0242ac110003-3-7483-8430-3636",
       "next": "903b3876-302e-11ee-b73e-0242ac110003-2-c336-f2b6",
       "previous": "5c08fe48-163a-11ee-987e-0242ac110002-4-ca1f-a235-fc85-26ae"
      },
      {
       "current": "4e0f3b28-302e-11ee-b73e-0242ac110003-3-7483-8430-3636",
       "next": "903b3876-302e-11ee-b73e-0242ac110003-3-c336-f2b6-3735",
       "previous": "5c08fe48-163a-11ee-987e-0242ac110002-5-ca1f-a235-fc85-26ae-633a"
      }
     ],
     "next": "903b3876-302e-11ee-b73e-0242ac110003-3-c336-f2b6-3735",
     "previous": "5c08fb14-163a-11ee-987e-0242ac110002-4-0351-08c5-a7bd-135f"
    }
   },
   "source": [
    "#### イメージが存在しない場合-公開リポジトリからのダウンロード\n",
    "\n",
    "公開リポジトリからsingle-user Jupyter Notebook serverコンテナイメージをダウンロードします。"
   ]
  },
  {
   "cell_type": "markdown",
   "metadata": {
    "lc_cell_meme": {
     "current": "903b3876-302e-11ee-b73e-0242ac110003-3-c336-f2b6-3735",
     "history": [
      {
       "current": "903b3876-302e-11ee-b73e-0242ac110003-1-c336",
       "next": "4e0f3cea-302e-11ee-b73e-0242ac110003",
       "previous": "4e0f3b28-302e-11ee-b73e-0242ac110003"
      },
      {
       "current": "903b3876-302e-11ee-b73e-0242ac110003-2-c336-f2b6",
       "next": "4e0f3cea-302e-11ee-b73e-0242ac110003-1-e19b",
       "previous": "4e0f3b28-302e-11ee-b73e-0242ac110003-1-7483"
      },
      {
       "current": "903b3876-302e-11ee-b73e-0242ac110003-3-c336-f2b6-3735",
       "next": "4e0f3cea-302e-11ee-b73e-0242ac110003-2-e19b-b732",
       "previous": "4e0f3b28-302e-11ee-b73e-0242ac110003-2-7483-8430"
      }
     ],
     "next": "4e0f3cea-302e-11ee-b73e-0242ac110003-3-e19b-b732-340c",
     "previous": "4e0f3b28-302e-11ee-b73e-0242ac110003-3-7483-8430-3636"
    }
   },
   "source": [
    "以下のセルを実行し、single-user Jupyter Notebook serverコンテナイメージをダウンロードしてください。\n",
    "\n",
    "ダウンロードが成功した場合、以降のセルは実行せず、「４ コンテナの起動」に進んでください。"
   ]
  },
  {
   "cell_type": "code",
   "execution_count": null,
   "metadata": {
    "lc_cell_meme": {
     "current": "4e0f3cea-302e-11ee-b73e-0242ac110003-3-e19b-b732-340c",
     "history": [
      {
       "current": "4e0f3cea-302e-11ee-b73e-0242ac110003",
       "next": "9226f996-1660-11ee-987e-0242ac110002-1-d407",
       "previous": "4e0f3b28-302e-11ee-b73e-0242ac110003"
      },
      {
       "current": "4e0f3cea-302e-11ee-b73e-0242ac110003",
       "next": "9226f996-1660-11ee-987e-0242ac110002-1-d407",
       "previous": "903b3876-302e-11ee-b73e-0242ac110003"
      },
      {
       "current": "4e0f3cea-302e-11ee-b73e-0242ac110003-1-e19b",
       "next": "ad6fe928-302e-11ee-b73e-0242ac110003",
       "previous": "903b3876-302e-11ee-b73e-0242ac110003"
      },
      {
       "current": "4e0f3cea-302e-11ee-b73e-0242ac110003-2-e19b-b732",
       "next": "ad6fe928-302e-11ee-b73e-0242ac110003-1-01cc",
       "previous": "903b3876-302e-11ee-b73e-0242ac110003-1-c336"
      },
      {
       "current": "4e0f3cea-302e-11ee-b73e-0242ac110003-3-e19b-b732-340c",
       "next": "ad6fe928-302e-11ee-b73e-0242ac110003-2-01cc-8937",
       "previous": "903b3876-302e-11ee-b73e-0242ac110003-2-c336-f2b6"
      }
     ],
     "next": "ad6fe928-302e-11ee-b73e-0242ac110003-3-01cc-8937-f1fb",
     "previous": "903b3876-302e-11ee-b73e-0242ac110003-3-c336-f2b6-3735"
    }
   },
   "outputs": [],
   "source": [
    "!ansible {ugroup_name} -a 'docker pull {{{{singleuser_image}}}}'"
   ]
  },
  {
   "cell_type": "markdown",
   "metadata": {
    "heading_collapsed": true,
    "lc_cell_meme": {
     "current": "ad6fe928-302e-11ee-b73e-0242ac110003-3-01cc-8937-f1fb",
     "history": [
      {
       "current": "ad6fe928-302e-11ee-b73e-0242ac110003-1-01cc",
       "next": "9226f996-1660-11ee-987e-0242ac110002-1-d407",
       "previous": "4e0f3cea-302e-11ee-b73e-0242ac110003"
      },
      {
       "current": "ad6fe928-302e-11ee-b73e-0242ac110003-2-01cc-8937",
       "next": "9226f996-1660-11ee-987e-0242ac110002-2-d407-b12a",
       "previous": "4e0f3cea-302e-11ee-b73e-0242ac110003-1-e19b"
      },
      {
       "current": "ad6fe928-302e-11ee-b73e-0242ac110003-3-01cc-8937-f1fb",
       "next": "9226f996-1660-11ee-987e-0242ac110002-3-d407-b12a-81ec",
       "previous": "4e0f3cea-302e-11ee-b73e-0242ac110003-2-e19b-b732"
      }
     ],
     "next": "9226f996-1660-11ee-987e-0242ac110002-4-d407-b12a-81ec-a3bf",
     "previous": "4e0f3cea-302e-11ee-b73e-0242ac110003-3-e19b-b732-340c"
    }
   },
   "source": [
    "#### イメージが存在しない場合-イメージのビルド\n",
    "\n",
    "１つ前のセルで、公開リポジトリからのダウンロードが出来ている場合は、ビルドの必要はありません。本セクションはスキップして、「４ コンテナの起動」に進んでください。\n",
    "\n",
    "`template/notebook` にsingle-user Jupyter Notebook serverコンテナイメージをビルドするためのファイルを格納しています。\n",
    "\n",
    "オリジナルのイメージを作成する場合は、`template/notebook`の内容を置き換えて以降のセルを実行してください。"
   ]
  },
  {
   "cell_type": "markdown",
   "metadata": {
    "hidden": true,
    "lc_cell_meme": {
     "current": "9226f996-1660-11ee-987e-0242ac110002-4-d407-b12a-81ec-a3bf",
     "history": [
      {
       "current": "9226f996-1660-11ee-987e-0242ac110002-1-d407",
       "next": "9226fbc6-1660-11ee-987e-0242ac110002",
       "previous": "5c08fb14-163a-11ee-987e-0242ac110002-1-0351"
      },
      {
       "current": "9226f996-1660-11ee-987e-0242ac110002-1-d407",
       "next": "68bc0c26-1661-11ee-987e-0242ac110002",
       "previous": "9226f996-1660-11ee-987e-0242ac110002"
      },
      {
       "current": "9226f996-1660-11ee-987e-0242ac110002-1-d407",
       "next": "68bc0c26-1661-11ee-987e-0242ac110002",
       "previous": "5c08fb14-163a-11ee-987e-0242ac110002-1-0351"
      },
      {
       "current": "9226f996-1660-11ee-987e-0242ac110002-1-d407",
       "next": "68bc0c26-1661-11ee-987e-0242ac110002",
       "previous": "5c08fe48-163a-11ee-987e-0242ac110002-2-ca1f-a235"
      },
      {
       "current": "9226f996-1660-11ee-987e-0242ac110002-1-d407",
       "next": "68bc0c26-1661-11ee-987e-0242ac110002",
       "previous": "4e0f3cea-302e-11ee-b73e-0242ac110003"
      },
      {
       "current": "9226f996-1660-11ee-987e-0242ac110002-2-d407-b12a",
       "next": "68bc0c26-1661-11ee-987e-0242ac110002",
       "previous": "ad6fe928-302e-11ee-b73e-0242ac110003"
      },
      {
       "current": "9226f996-1660-11ee-987e-0242ac110002-3-d407-b12a-81ec",
       "next": "68bc0c26-1661-11ee-987e-0242ac110002-1-ff22",
       "previous": "ad6fe928-302e-11ee-b73e-0242ac110003-1-01cc"
      },
      {
       "current": "9226f996-1660-11ee-987e-0242ac110002-4-d407-b12a-81ec-a3bf",
       "next": "68bc0c26-1661-11ee-987e-0242ac110002-2-ff22-d518",
       "previous": "ad6fe928-302e-11ee-b73e-0242ac110003-2-01cc-8937"
      }
     ],
     "next": "68bc0c26-1661-11ee-987e-0242ac110002-3-ff22-d518-0b17",
     "previous": "ad6fe928-302e-11ee-b73e-0242ac110003-3-01cc-8937-f1fb"
    }
   },
   "source": [
    "まず、イメージのビルドに必要なファイルを格納するためのディレクトリを作成します。"
   ]
  },
  {
   "cell_type": "code",
   "execution_count": null,
   "metadata": {
    "hidden": true,
    "lc_cell_meme": {
     "current": "68bc0c26-1661-11ee-987e-0242ac110002-3-ff22-d518-0b17",
     "history": [
      {
       "current": "68bc0c26-1661-11ee-987e-0242ac110002",
       "next": "9226fbc6-1660-11ee-987e-0242ac110002",
       "previous": "9226f996-1660-11ee-987e-0242ac110002-1-d407"
      },
      {
       "current": "68bc0c26-1661-11ee-987e-0242ac110002",
       "next": "9226f996-1660-11ee-987e-0242ac110002-2-d407-e084",
       "previous": "9226f996-1660-11ee-987e-0242ac110002-1-d407"
      },
      {
       "current": "68bc0c26-1661-11ee-987e-0242ac110002-1-ff22",
       "next": "9226fbc6-1660-11ee-987e-0242ac110002",
       "previous": "9226f996-1660-11ee-987e-0242ac110002-1-d407"
      },
      {
       "current": "68bc0c26-1661-11ee-987e-0242ac110002-2-ff22-d518",
       "next": "9226fbc6-1660-11ee-987e-0242ac110002-1-81bc",
       "previous": "9226f996-1660-11ee-987e-0242ac110002-2-d407-b12a"
      },
      {
       "current": "68bc0c26-1661-11ee-987e-0242ac110002-3-ff22-d518-0b17",
       "next": "9226fbc6-1660-11ee-987e-0242ac110002-2-81bc-808a",
       "previous": "9226f996-1660-11ee-987e-0242ac110002-3-d407-b12a-81ec"
      }
     ],
     "next": "9226fbc6-1660-11ee-987e-0242ac110002-3-81bc-808a-4aaf",
     "previous": "9226f996-1660-11ee-987e-0242ac110002-4-d407-b12a-81ec-a3bf"
    },
    "lc_wrapper": {
     "log_history": [
      "/notebooks/notebook/work_terayama/yjupyterhub/work/.log/20230629/20230629-184459-0585.log",
      "/notebooks/notebook/work_terayama/yjupyterhub/work/.log/20230630/20230630-190340-0116.log",
      "/notebooks/notebook/work_terayama/yjupyterhub/work/.log/20230704/20230704-120757-0267.log",
      "/notebooks/notebook/work_terayama/yjupyterhub/work/.log/20230719/20230719-160609-0041.log",
      "/notebooks/notebook/work_terayama/yjupyterhub/work/.log/20230720/20230720-115353-0151.log",
      "/notebooks/notebook/work_terayama/yjupyterhub/work/.log/20230727/20230727-141849-0619.log",
      "/notebooks/notebook/work_terayama/yjupyterhub/work/.log/20230801/20230801-152844-0549.log",
      "/notebooks/notebook/work_terayama/yjupyterhub/work/.log/20230801/20230801-152955-0668.log",
      "/notebooks/notebook/work_terayama/yjupyterhub/work/.log/20230801/20230801-153204-0993.log"
     ]
    }
   },
   "outputs": [],
   "source": [
    "!ansible {ugroup_name} -b -m file -a \\\n",
    "    'path={{{{notebook_dir}}}} state=directory owner={{{{ansible_user}}}}'"
   ]
  },
  {
   "cell_type": "markdown",
   "metadata": {
    "hidden": true,
    "lc_cell_meme": {
     "current": "9226fbc6-1660-11ee-987e-0242ac110002-3-81bc-808a-4aaf",
     "history": [
      {
       "current": "9226fbc6-1660-11ee-987e-0242ac110002",
       "next": "5c09017c-163a-11ee-987e-0242ac110002-3-e7a9-f34d-b195",
       "previous": "9226f996-1660-11ee-987e-0242ac110002"
      },
      {
       "current": "9226fbc6-1660-11ee-987e-0242ac110002",
       "next": "5c09017c-163a-11ee-987e-0242ac110002-3-e7a9-f34d-b195",
       "previous": "68bc0c26-1661-11ee-987e-0242ac110002"
      },
      {
       "current": "9226fbc6-1660-11ee-987e-0242ac110002",
       "next": "5c09017c-163a-11ee-987e-0242ac110002-3-e7a9-f34d-b195",
       "previous": "68bc0c26-1661-11ee-987e-0242ac110002-1-ad18"
      },
      {
       "current": "9226fbc6-1660-11ee-987e-0242ac110002",
       "next": "5c09017c-163a-11ee-987e-0242ac110002-3-e7a9-f34d-b195",
       "previous": "68bc0c26-1661-11ee-987e-0242ac110002-2-ad18-b8d0"
      },
      {
       "current": "9226fbc6-1660-11ee-987e-0242ac110002",
       "next": "5c09017c-163a-11ee-987e-0242ac110002-3-e7a9-f34d-b195",
       "previous": "68bc0c26-1661-11ee-987e-0242ac110002-1-ad18"
      },
      {
       "current": "9226fbc6-1660-11ee-987e-0242ac110002",
       "next": "9226fbc6-1660-11ee-987e-0242ac110002-1-4895",
       "previous": "68bc0c26-1661-11ee-987e-0242ac110002-1-ad18"
      },
      {
       "current": "9226fbc6-1660-11ee-987e-0242ac110002-1-81bc",
       "next": "9226fbc6-1660-11ee-987e-0242ac110002-1-4895",
       "previous": "68bc0c26-1661-11ee-987e-0242ac110002"
      },
      {
       "current": "9226fbc6-1660-11ee-987e-0242ac110002-1-81bc",
       "next": "9226fbc6-1660-11ee-987e-0242ac110002-2-4895-246e",
       "previous": "68bc0c26-1661-11ee-987e-0242ac110002-1-ff22"
      },
      {
       "current": "9226fbc6-1660-11ee-987e-0242ac110002-2-81bc-808a",
       "next": "5c09017c-163a-11ee-987e-0242ac110002-4-e7a9-f34d-b195-1bb1",
       "previous": "68bc0c26-1661-11ee-987e-0242ac110002-1-ff22"
      },
      {
       "current": "9226fbc6-1660-11ee-987e-0242ac110002-3-81bc-808a-4aaf",
       "next": "5c09017c-163a-11ee-987e-0242ac110002-5-e7a9-f34d-b195-1bb1-3799",
       "previous": "68bc0c26-1661-11ee-987e-0242ac110002-2-ff22-d518"
      }
     ],
     "next": "5c09017c-163a-11ee-987e-0242ac110002-6-e7a9-f34d-b195-1bb1-3799-a5e4",
     "previous": "68bc0c26-1661-11ee-987e-0242ac110002-3-ff22-d518-0b17"
    }
   },
   "source": [
    "single-user Jupyter Notebook serverコンテナイメージビルドに必要なファイルを配置します。\n",
    "\n",
    "実際に配置する前に、チェックモードでファイルの不足等が無いか確認します。"
   ]
  },
  {
   "cell_type": "code",
   "execution_count": null,
   "metadata": {
    "hidden": true,
    "lc_cell_meme": {
     "current": "5c09017c-163a-11ee-987e-0242ac110002-6-e7a9-f34d-b195-1bb1-3799-a5e4",
     "history": [
      {
       "current": "5c09017c-163a-11ee-987e-0242ac110002-1-e7a9",
       "next": "5c09021c-163a-11ee-987e-0242ac110002",
       "previous": "5c0900dc-163a-11ee-987e-0242ac110002"
      },
      {
       "current": "5c09017c-163a-11ee-987e-0242ac110002-2-e7a9-f34d",
       "next": "5c09021c-163a-11ee-987e-0242ac110002-1-99e8",
       "previous": "5c0900dc-163a-11ee-987e-0242ac110002-1-660b"
      },
      {
       "current": "5c09017c-163a-11ee-987e-0242ac110002-2-e7a9-f34d",
       "next": "5c09021c-163a-11ee-987e-0242ac110002-2-99e8-bdef",
       "previous": "5c08eff2-163a-11ee-987e-0242ac110002-1-bd72"
      },
      {
       "current": "5c09017c-163a-11ee-987e-0242ac110002-3-e7a9-f34d-b195",
       "next": "5c09021c-163a-11ee-987e-0242ac110002-2-99e8-bdef",
       "previous": "5c0900dc-163a-11ee-987e-0242ac110002-2-660b-5a79"
      },
      {
       "current": "5c09017c-163a-11ee-987e-0242ac110002-3-e7a9-f34d-b195",
       "next": "5c0902f8-163a-11ee-987e-0242ac110002-3-fe00-7ad7-0c43",
       "previous": "9226fbc6-1660-11ee-987e-0242ac110002"
      },
      {
       "current": "5c09017c-163a-11ee-987e-0242ac110002-3-e7a9-f34d-b195",
       "next": "fd720420-1660-11ee-987e-0242ac110002",
       "previous": "9226fbc6-1660-11ee-987e-0242ac110002"
      },
      {
       "current": "5c09017c-163a-11ee-987e-0242ac110002-4-e7a9-f34d-b195-1bb1",
       "next": "fd720420-1660-11ee-987e-0242ac110002",
       "previous": "9226fbc6-1660-11ee-987e-0242ac110002-1-4895"
      },
      {
       "current": "5c09017c-163a-11ee-987e-0242ac110002-4-e7a9-f34d-b195-1bb1",
       "next": "fd720420-1660-11ee-987e-0242ac110002-1-3622",
       "previous": "9226fbc6-1660-11ee-987e-0242ac110002-2-4895-246e"
      },
      {
       "current": "5c09017c-163a-11ee-987e-0242ac110002-5-e7a9-f34d-b195-1bb1-3799",
       "next": "fd720420-1660-11ee-987e-0242ac110002-1-3622",
       "previous": "9226fbc6-1660-11ee-987e-0242ac110002-1-81bc"
      },
      {
       "current": "5c09017c-163a-11ee-987e-0242ac110002-6-e7a9-f34d-b195-1bb1-3799-a5e4",
       "next": "fd720420-1660-11ee-987e-0242ac110002-2-3622-0ba9",
       "previous": "9226fbc6-1660-11ee-987e-0242ac110002-2-81bc-808a"
      }
     ],
     "next": "fd720420-1660-11ee-987e-0242ac110002-3-3622-0ba9-379e",
     "previous": "9226fbc6-1660-11ee-987e-0242ac110002-3-81bc-808a-4aaf"
    },
    "lc_wrapper": {
     "log_history": [
      "/notebooks/notebook/work_terayama/yjupyterhub/work/.log/20230629/20230629-173358-0886.log",
      "/notebooks/notebook/work_terayama/yjupyterhub/work/.log/20230629/20230629-173618-0659.log",
      "/notebooks/notebook/work_terayama/yjupyterhub/work/.log/20230629/20230629-173634-0172.log",
      "/notebooks/notebook/work_terayama/yjupyterhub/work/.log/20230629/20230629-184019-0748.log",
      "/notebooks/notebook/work_terayama/yjupyterhub/work/.log/20230629/20230629-184048-0873.log",
      "/notebooks/notebook/work_terayama/yjupyterhub/work/.log/20230629/20230629-185838-0107.log",
      "/notebooks/notebook/work_terayama/yjupyterhub/work/.log/20230629/20230629-185942-0651.log",
      "/notebooks/notebook/work_terayama/yjupyterhub/work/.log/20230630/20230630-193839-0085.log",
      "/notebooks/notebook/work_terayama/yjupyterhub/work/.log/20230704/20230704-120819-0942.log",
      "/notebooks/notebook/work_terayama/yjupyterhub/work/.log/20230719/20230719-160634-0364.log",
      "/notebooks/notebook/work_terayama/yjupyterhub/work/.log/20230720/20230720-115454-0544.log",
      "/notebooks/notebook/work_terayama/yjupyterhub/work/.log/20230727/20230727-141856-0646.log",
      "/notebooks/notebook/work_terayama/yjupyterhub/work/.log/20230801/20230801-152850-0760.log",
      "/notebooks/notebook/work_terayama/yjupyterhub/work/.log/20230801/20230801-153212-0250.log",
      "/notebooks/notebook/work_terayama/yjupyterhub/work/.log/20230801/20230801-153246-0949.log"
     ]
    },
    "scrolled": true
   },
   "outputs": [],
   "source": [
    "!ansible {ugroup_name} -CDv -m synchronize \\\n",
    "    -a 'src=template/notebook dest={{{{base_dir}}}}'\n",
    "!ansible {ugroup_name} -CDv -m template \\\n",
    "    -a 'src=template/notebook/image/ldap.conf dest={{{{base_dir}}}}/notebook/image/ backup=yes'\n",
    "!ansible {ugroup_name} -CDv -m template \\\n",
    "    -a 'src=template/notebook/image/nbgrader_config.py dest={{{{base_dir}}}}/notebook/image/ backup=yes'"
   ]
  },
  {
   "cell_type": "markdown",
   "metadata": {
    "hidden": true,
    "lc_cell_meme": {
     "current": "fd720420-1660-11ee-987e-0242ac110002-3-3622-0ba9-379e",
     "history": [
      {
       "current": "fd720420-1660-11ee-987e-0242ac110002-1-3622",
       "next": "5c0902f8-163a-11ee-987e-0242ac110002-3-fe00-7ad7-0c43",
       "previous": "5c09017c-163a-11ee-987e-0242ac110002-3-e7a9-f34d-b195"
      },
      {
       "current": "fd720420-1660-11ee-987e-0242ac110002-2-3622-0ba9",
       "next": "5c0902f8-163a-11ee-987e-0242ac110002-4-fe00-7ad7-0c43-8d23",
       "previous": "5c09017c-163a-11ee-987e-0242ac110002-4-e7a9-f34d-b195-1bb1"
      },
      {
       "current": "fd720420-1660-11ee-987e-0242ac110002-3-3622-0ba9-379e",
       "next": "5c0902f8-163a-11ee-987e-0242ac110002-5-fe00-7ad7-0c43-8d23-7b57",
       "previous": "5c09017c-163a-11ee-987e-0242ac110002-5-e7a9-f34d-b195-1bb1-3799"
      }
     ],
     "next": "5c0902f8-163a-11ee-987e-0242ac110002-6-fe00-7ad7-0c43-8d23-7b57-c5b6",
     "previous": "5c09017c-163a-11ee-987e-0242ac110002-6-e7a9-f34d-b195-1bb1-3799-a5e4"
    }
   },
   "source": [
    "ファイルを実際に配置します。"
   ]
  },
  {
   "cell_type": "code",
   "execution_count": null,
   "metadata": {
    "hidden": true,
    "lc_cell_meme": {
     "current": "5c0902f8-163a-11ee-987e-0242ac110002-6-fe00-7ad7-0c43-8d23-7b57-c5b6",
     "history": [
      {
       "current": "5c0902f8-163a-11ee-987e-0242ac110002-1-fe00",
       "next": "5c09038e-163a-11ee-987e-0242ac110002",
       "previous": "5c09021c-163a-11ee-987e-0242ac110002"
      },
      {
       "current": "5c0902f8-163a-11ee-987e-0242ac110002-2-fe00-7ad7",
       "next": "5c09038e-163a-11ee-987e-0242ac110002-1-8c44",
       "previous": "5c09021c-163a-11ee-987e-0242ac110002-1-99e8"
      },
      {
       "current": "5c0902f8-163a-11ee-987e-0242ac110002-3-fe00-7ad7-0c43",
       "next": "5c08f09c-163a-11ee-987e-0242ac110002-1-4603",
       "previous": "5c09021c-163a-11ee-987e-0242ac110002-2-99e8-bdef"
      },
      {
       "current": "5c0902f8-163a-11ee-987e-0242ac110002-3-fe00-7ad7-0c43",
       "next": "5c08fbaa-163a-11ee-987e-0242ac110002-1-b307",
       "previous": "5c09017c-163a-11ee-987e-0242ac110002-3-e7a9-f34d-b195"
      },
      {
       "current": "5c0902f8-163a-11ee-987e-0242ac110002-3-fe00-7ad7-0c43",
       "next": "5c08fbaa-163a-11ee-987e-0242ac110002-1-b307",
       "previous": "fd720420-1660-11ee-987e-0242ac110002"
      },
      {
       "current": "5c0902f8-163a-11ee-987e-0242ac110002-3-fe00-7ad7-0c43",
       "next": "fd720420-1660-11ee-987e-0242ac110002-1-a3bd",
       "previous": "fd720420-1660-11ee-987e-0242ac110002"
      },
      {
       "current": "5c0902f8-163a-11ee-987e-0242ac110002-3-fe00-7ad7-0c43",
       "next": "85dd2710-27a3-11ee-987e-0242ac110002",
       "previous": "fd720420-1660-11ee-987e-0242ac110002"
      },
      {
       "current": "5c0902f8-163a-11ee-987e-0242ac110002-3-fe00-7ad7-0c43",
       "next": "fd720420-1660-11ee-987e-0242ac110002-1-a3bd",
       "previous": "fd720420-1660-11ee-987e-0242ac110002"
      },
      {
       "current": "5c0902f8-163a-11ee-987e-0242ac110002-3-fe00-7ad7-0c43",
       "next": "e8ff7180-3023-11ee-b73e-0242ac110003",
       "previous": "fd720420-1660-11ee-987e-0242ac110002"
      },
      {
       "current": "5c0902f8-163a-11ee-987e-0242ac110002-4-fe00-7ad7-0c43-8d23",
       "next": "e8ff7180-3023-11ee-b73e-0242ac110003-1-9ee5",
       "previous": "fd720420-1660-11ee-987e-0242ac110002"
      },
      {
       "current": "5c0902f8-163a-11ee-987e-0242ac110002-4-fe00-7ad7-0c43-8d23",
       "next": "e8ff7180-3023-11ee-b73e-0242ac110003-2-9ee5-e4fb",
       "previous": "fd720420-1660-11ee-987e-0242ac110002-1-3622"
      },
      {
       "current": "5c0902f8-163a-11ee-987e-0242ac110002-5-fe00-7ad7-0c43-8d23-7b57",
       "next": "fd720420-1660-11ee-987e-0242ac110002-2-a3bd-3898",
       "previous": "fd720420-1660-11ee-987e-0242ac110002-1-3622"
      },
      {
       "current": "5c0902f8-163a-11ee-987e-0242ac110002-6-fe00-7ad7-0c43-8d23-7b57-c5b6",
       "next": "fd720420-1660-11ee-987e-0242ac110002-3-a3bd-3898-7528",
       "previous": "fd720420-1660-11ee-987e-0242ac110002-2-3622-0ba9"
      }
     ],
     "next": "fd720420-1660-11ee-987e-0242ac110002-4-a3bd-3898-7528-118e",
     "previous": "fd720420-1660-11ee-987e-0242ac110002-3-3622-0ba9-379e"
    },
    "lc_wrapper": {
     "log_history": [
      "/notebooks/notebook/work_terayama/yjupyterhub/work/.log/20230629/20230629-174838-0798.log",
      "/notebooks/notebook/work_terayama/yjupyterhub/work/.log/20230629/20230629-175142-0815.log",
      "/notebooks/notebook/work_terayama/yjupyterhub/work/.log/20230629/20230629-184215-0310.log",
      "/notebooks/notebook/work_terayama/yjupyterhub/work/.log/20230629/20230629-184509-0087.log",
      "/notebooks/notebook/work_terayama/yjupyterhub/work/.log/20230629/20230629-185344-0637.log",
      "/notebooks/notebook/work_terayama/yjupyterhub/work/.log/20230629/20230629-185845-0962.log",
      "/notebooks/notebook/work_terayama/yjupyterhub/work/.log/20230629/20230629-185947-0343.log",
      "/notebooks/notebook/work_terayama/yjupyterhub/work/.log/20230630/20230630-193843-0396.log",
      "/notebooks/notebook/work_terayama/yjupyterhub/work/.log/20230704/20230704-120834-0196.log",
      "/notebooks/notebook/work_terayama/yjupyterhub/work/.log/20230719/20230719-160639-0723.log",
      "/notebooks/notebook/work_terayama/yjupyterhub/work/.log/20230720/20230720-115502-0580.log",
      "/notebooks/notebook/work_terayama/yjupyterhub/work/.log/20230720/20230720-194724-0380.log",
      "/notebooks/notebook/work_terayama/yjupyterhub/work/.log/20230720/20230720-195255-0997.log",
      "/notebooks/notebook/work_terayama/yjupyterhub/work/.log/20230720/20230720-200000-0428.log",
      "/notebooks/notebook/work_terayama/yjupyterhub/work/.log/20230720/20230720-200049-0394.log",
      "/notebooks/notebook/work_terayama/yjupyterhub/work/.log/20230720/20230720-200245-0155.log",
      "/notebooks/notebook/work_terayama/yjupyterhub/work/.log/20230720/20230720-200616-0601.log",
      "/notebooks/notebook/work_terayama/yjupyterhub/work/.log/20230720/20230720-222951-0642.log",
      "/notebooks/notebook/work_terayama/yjupyterhub/work/.log/20230721/20230721-112558-0182.log",
      "/notebooks/notebook/work_terayama/yjupyterhub/work/.log/20230721/20230721-130946-0117.log",
      "/notebooks/notebook/work_terayama/yjupyterhub/work/.log/20230721/20230721-141510-0655.log",
      "/notebooks/notebook/work_terayama/yjupyterhub/work/.log/20230727/20230727-141905-0170.log",
      "/notebooks/notebook/work_terayama/yjupyterhub/work/.log/20230801/20230801-153302-0089.log"
     ]
    },
    "scrolled": true
   },
   "outputs": [],
   "source": [
    "!ansible {ugroup_name} -Dv -m synchronize \\\n",
    "    -a 'src=template/notebook dest={{{{base_dir}}}}'\n",
    "!ansible {ugroup_name} -Dv -m template \\\n",
    "    -a 'src=template/notebook/image/ldap.conf dest={{{{base_dir}}}}/notebook/image/ backup=yes'\n",
    "!ansible {ugroup_name} -Dv -m template \\\n",
    "    -a 'src=template/notebook/image/nbgrader_config.py dest={{{{base_dir}}}}/notebook/image/ backup=yes'"
   ]
  },
  {
   "cell_type": "markdown",
   "metadata": {
    "hidden": true,
    "lc_cell_meme": {
     "current": "fd720420-1660-11ee-987e-0242ac110002-4-a3bd-3898-7528-118e",
     "history": [
      {
       "current": "fd720420-1660-11ee-987e-0242ac110002-1-a3bd",
       "next": "5c0902f8-163a-11ee-987e-0242ac110002-3-fe00-7ad7-0c43",
       "previous": "5c09017c-163a-11ee-987e-0242ac110002-3-e7a9-f34d-b195"
      },
      {
       "current": "fd720420-1660-11ee-987e-0242ac110002-1-a3bd",
       "next": "5c08f1a0-163a-11ee-987e-0242ac110002-2-9928-5416",
       "previous": "5c0902f8-163a-11ee-987e-0242ac110002-3-fe00-7ad7-0c43"
      },
      {
       "current": "fd720420-1660-11ee-987e-0242ac110002-1-a3bd",
       "next": "5c08f1a0-163a-11ee-987e-0242ac110002-2-9928-5416",
       "previous": "85dd2710-27a3-11ee-987e-0242ac110002"
      },
      {
       "current": "fd720420-1660-11ee-987e-0242ac110002-1-a3bd",
       "next": "5c08f1a0-163a-11ee-987e-0242ac110002-2-9928-5416",
       "previous": "5c0902f8-163a-11ee-987e-0242ac110002-3-fe00-7ad7-0c43"
      },
      {
       "current": "fd720420-1660-11ee-987e-0242ac110002-1-a3bd",
       "next": "5c08f1a0-163a-11ee-987e-0242ac110002-2-9928-5416",
       "previous": "e8ff7180-3023-11ee-b73e-0242ac110003"
      },
      {
       "current": "fd720420-1660-11ee-987e-0242ac110002-2-a3bd-3898",
       "next": "5c08f1a0-163a-11ee-987e-0242ac110002-2-9928-5416",
       "previous": "e8ff7180-3023-11ee-b73e-0242ac110003-1-9ee5"
      },
      {
       "current": "fd720420-1660-11ee-987e-0242ac110002-2-a3bd-3898",
       "next": "5c08f1a0-163a-11ee-987e-0242ac110002-3-9928-5416-7137",
       "previous": "e8ff7180-3023-11ee-b73e-0242ac110003-2-9ee5-e4fb"
      },
      {
       "current": "fd720420-1660-11ee-987e-0242ac110002-3-a3bd-3898-7528",
       "next": "5c08f1a0-163a-11ee-987e-0242ac110002-3-9928-5416-7137",
       "previous": "5c0902f8-163a-11ee-987e-0242ac110002-4-fe00-7ad7-0c43-8d23"
      },
      {
       "current": "fd720420-1660-11ee-987e-0242ac110002-4-a3bd-3898-7528-118e",
       "next": "5c08f1a0-163a-11ee-987e-0242ac110002-4-9928-5416-7137-d7cb",
       "previous": "5c0902f8-163a-11ee-987e-0242ac110002-5-fe00-7ad7-0c43-8d23-7b57"
      }
     ],
     "next": "5c08f1a0-163a-11ee-987e-0242ac110002-5-9928-5416-7137-d7cb-f3d1",
     "previous": "5c0902f8-163a-11ee-987e-0242ac110002-6-fe00-7ad7-0c43-8d23-7b57-c5b6"
    }
   },
   "source": [
    "配置したファイルを用いて、single-user Jupyter Notebook serverコンテナイメージのビルドを行います。\n",
    "\n",
    "ビルド前に、チェックモードで確認します。"
   ]
  },
  {
   "cell_type": "code",
   "execution_count": null,
   "metadata": {
    "hidden": true,
    "lc_cell_meme": {
     "current": "5c08f1a0-163a-11ee-987e-0242ac110002-5-9928-5416-7137-d7cb-f3d1",
     "history": [
      {
       "current": "5c08f1a0-163a-11ee-987e-0242ac110002-1-9928",
       "next": "5c08f268-163a-11ee-987e-0242ac110002",
       "previous": "5c08f09c-163a-11ee-987e-0242ac110002"
      },
      {
       "current": "5c08f1a0-163a-11ee-987e-0242ac110002-2-9928-5416",
       "next": "5c08f268-163a-11ee-987e-0242ac110002-1-32bb",
       "previous": "5c08f09c-163a-11ee-987e-0242ac110002-1-4603"
      },
      {
       "current": "5c08f1a0-163a-11ee-987e-0242ac110002-3-9928-5416-7137",
       "next": "fd720420-1660-11ee-987e-0242ac110002-2-a3bd-a43c",
       "previous": "fd720420-1660-11ee-987e-0242ac110002-1-a3bd"
      },
      {
       "current": "5c08f1a0-163a-11ee-987e-0242ac110002-4-9928-5416-7137-d7cb",
       "next": "fd720420-1660-11ee-987e-0242ac110002-3-a3bd-a43c-20f1",
       "previous": "fd720420-1660-11ee-987e-0242ac110002-2-a3bd-3898"
      },
      {
       "current": "5c08f1a0-163a-11ee-987e-0242ac110002-5-9928-5416-7137-d7cb-f3d1",
       "next": "fd720420-1660-11ee-987e-0242ac110002-4-a3bd-a43c-20f1-835a",
       "previous": "fd720420-1660-11ee-987e-0242ac110002-3-a3bd-3898-7528"
      }
     ],
     "next": "fd720420-1660-11ee-987e-0242ac110002-5-a3bd-a43c-20f1-835a-6670",
     "previous": "fd720420-1660-11ee-987e-0242ac110002-4-a3bd-3898-7528-118e"
    },
    "lc_wrapper": {
     "log_history": [
      "/notebooks/notebook/work_terayama/yjupyterhub/work/.log/20230629/20230629-175830-0472.log",
      "/notebooks/notebook/work_terayama/yjupyterhub/work/.log/20230629/20230629-180351-0349.log",
      "/notebooks/notebook/work_terayama/yjupyterhub/work/.log/20230629/20230629-180442-0921.log",
      "/notebooks/notebook/work_terayama/yjupyterhub/work/.log/20230629/20230629-180610-0532.log",
      "/notebooks/notebook/work_terayama/yjupyterhub/work/.log/20230629/20230629-185127-0325.log",
      "/notebooks/notebook/work_terayama/yjupyterhub/work/.log/20230630/20230630-193848-0074.log",
      "/notebooks/notebook/work_terayama/yjupyterhub/work/.log/20230703/20230703-161540-0711.log",
      "/notebooks/notebook/work_terayama/yjupyterhub/work/.log/20230704/20230704-120849-0519.log",
      "/notebooks/notebook/work_terayama/yjupyterhub/work/.log/20230719/20230719-160644-0398.log",
      "/notebooks/notebook/work_terayama/yjupyterhub/work/.log/20230720/20230720-115554-0092.log",
      "/notebooks/notebook/work_terayama/yjupyterhub/work/.log/20230720/20230720-194737-0451.log",
      "/notebooks/notebook/work_terayama/yjupyterhub/work/.log/20230727/20230727-141933-0419.log",
      "/notebooks/notebook/work_terayama/yjupyterhub/work/.log/20230801/20230801-153331-0239.log"
     ]
    },
    "scrolled": true
   },
   "outputs": [],
   "source": [
    "!ansible-playbook -l {ugroup_name} -CDv playbooks/setup-jupyter-notebook.yml || true"
   ]
  },
  {
   "cell_type": "markdown",
   "metadata": {
    "hidden": true,
    "lc_cell_meme": {
     "current": "fd720420-1660-11ee-987e-0242ac110002-5-a3bd-a43c-20f1-835a-6670",
     "history": [
      {
       "current": "fd720420-1660-11ee-987e-0242ac110002-2-a3bd-a43c",
       "next": "5c0902f8-163a-11ee-987e-0242ac110002-3-fe00-7ad7-0c43",
       "previous": "5c09017c-163a-11ee-987e-0242ac110002-3-e7a9-f34d-b195"
      },
      {
       "current": "fd720420-1660-11ee-987e-0242ac110002-3-a3bd-a43c-20f1",
       "next": "5c08f308-163a-11ee-987e-0242ac110002-2-4f84-cb83",
       "previous": "5c08f1a0-163a-11ee-987e-0242ac110002-2-9928-5416"
      },
      {
       "current": "fd720420-1660-11ee-987e-0242ac110002-4-a3bd-a43c-20f1-835a",
       "next": "5c08f308-163a-11ee-987e-0242ac110002-3-4f84-cb83-8867",
       "previous": "5c08f1a0-163a-11ee-987e-0242ac110002-3-9928-5416-7137"
      },
      {
       "current": "fd720420-1660-11ee-987e-0242ac110002-5-a3bd-a43c-20f1-835a-6670",
       "next": "5c08f308-163a-11ee-987e-0242ac110002-4-4f84-cb83-8867-20ed",
       "previous": "5c08f1a0-163a-11ee-987e-0242ac110002-4-9928-5416-7137-d7cb"
      }
     ],
     "next": "5c08f308-163a-11ee-987e-0242ac110002-5-4f84-cb83-8867-20ed-529a",
     "previous": "5c08f1a0-163a-11ee-987e-0242ac110002-5-9928-5416-7137-d7cb-f3d1"
    }
   },
   "source": [
    "実際にビルドを行います。"
   ]
  },
  {
   "cell_type": "code",
   "execution_count": null,
   "metadata": {
    "hidden": true,
    "lc_cell_meme": {
     "current": "5c08f308-163a-11ee-987e-0242ac110002-5-4f84-cb83-8867-20ed-529a",
     "history": [
      {
       "current": "5c08f308-163a-11ee-987e-0242ac110002-1-4f84",
       "next": "5c08f3da-163a-11ee-987e-0242ac110002",
       "previous": "5c08f268-163a-11ee-987e-0242ac110002"
      },
      {
       "current": "5c08f308-163a-11ee-987e-0242ac110002-2-4f84-cb83",
       "next": "5c08f3da-163a-11ee-987e-0242ac110002-1-b17d",
       "previous": "5c08f268-163a-11ee-987e-0242ac110002-1-32bb"
      },
      {
       "current": "5c08f308-163a-11ee-987e-0242ac110002-2-4f84-cb83",
       "next": "5c08fbaa-163a-11ee-987e-0242ac110002-1-b307",
       "previous": "fd720420-1660-11ee-987e-0242ac110002-2-a3bd-a43c"
      },
      {
       "current": "5c08f308-163a-11ee-987e-0242ac110002-2-4f84-cb83",
       "next": "d20801b8-1732-11ee-987e-0242ac110002",
       "previous": "fd720420-1660-11ee-987e-0242ac110002-2-a3bd-a43c"
      },
      {
       "current": "5c08f308-163a-11ee-987e-0242ac110002-3-4f84-cb83-8867",
       "next": "5c08fdb2-163a-11ee-987e-0242ac110002-1-792c",
       "previous": "fd720420-1660-11ee-987e-0242ac110002-2-a3bd-a43c"
      },
      {
       "current": "5c08f308-163a-11ee-987e-0242ac110002-4-4f84-cb83-8867-20ed",
       "next": "5c08fdb2-163a-11ee-987e-0242ac110002-2-792c-4f8e",
       "previous": "fd720420-1660-11ee-987e-0242ac110002-3-a3bd-a43c-20f1"
      },
      {
       "current": "5c08f308-163a-11ee-987e-0242ac110002-5-4f84-cb83-8867-20ed-529a",
       "next": "5c08fdb2-163a-11ee-987e-0242ac110002-3-792c-4f8e-42c0",
       "previous": "fd720420-1660-11ee-987e-0242ac110002-4-a3bd-a43c-20f1-835a"
      }
     ],
     "next": "5c08fdb2-163a-11ee-987e-0242ac110002-4-792c-4f8e-42c0-4a7d",
     "previous": "fd720420-1660-11ee-987e-0242ac110002-5-a3bd-a43c-20f1-835a-6670"
    },
    "lc_wrapper": {
     "log_history": [
      "/notebooks/notebook/work_terayama/yjupyterhub/work/.log/20230629/20230629-180625-0616.log",
      "/notebooks/notebook/work_terayama/yjupyterhub/work/.log/20230629/20230629-180829-0047.log",
      "/notebooks/notebook/work_terayama/yjupyterhub/work/.log/20230629/20230629-185136-0344.log",
      "/notebooks/notebook/work_terayama/yjupyterhub/work/.log/20230629/20230629-190008-0223.log",
      "/notebooks/notebook/work_terayama/yjupyterhub/work/.log/20230630/20230630-193853-0396.log",
      "/notebooks/notebook/work_terayama/yjupyterhub/work/.log/20230704/20230704-120858-0735.log",
      "/notebooks/notebook/work_terayama/yjupyterhub/work/.log/20230719/20230719-160654-0273.log",
      "/notebooks/notebook/work_terayama/yjupyterhub/work/.log/20230720/20230720-115603-0623.log",
      "/notebooks/notebook/work_terayama/yjupyterhub/work/.log/20230720/20230720-194743-0274.log",
      "/notebooks/notebook/work_terayama/yjupyterhub/work/.log/20230720/20230720-195304-0561.log",
      "/notebooks/notebook/work_terayama/yjupyterhub/work/.log/20230720/20230720-200018-0183.log",
      "/notebooks/notebook/work_terayama/yjupyterhub/work/.log/20230720/20230720-200055-0043.log",
      "/notebooks/notebook/work_terayama/yjupyterhub/work/.log/20230720/20230720-200514-0469.log",
      "/notebooks/notebook/work_terayama/yjupyterhub/work/.log/20230720/20230720-215948-0361.log",
      "/notebooks/notebook/work_terayama/yjupyterhub/work/.log/20230720/20230720-222956-0999.log",
      "/notebooks/notebook/work_terayama/yjupyterhub/work/.log/20230721/20230721-112610-0454.log",
      "/notebooks/notebook/work_terayama/yjupyterhub/work/.log/20230721/20230721-131000-0866.log",
      "/notebooks/notebook/work_terayama/yjupyterhub/work/.log/20230721/20230721-141517-0064.log",
      "/notebooks/notebook/work_terayama/yjupyterhub/work/.log/20230727/20230727-141939-0168.log",
      "/notebooks/notebook/work_terayama/yjupyterhub/work/.log/20230801/20230801-153335-0846.log"
     ]
    },
    "scrolled": true
   },
   "outputs": [],
   "source": [
    "!ansible-playbook -l {ugroup_name} playbooks/setup-jupyter-notebook.yml"
   ]
  },
  {
   "cell_type": "markdown",
   "metadata": {
    "hidden": true,
    "lc_cell_meme": {
     "current": "5c08fdb2-163a-11ee-987e-0242ac110002-4-792c-4f8e-42c0-4a7d",
     "history": [
      {
       "current": "5c08fdb2-163a-11ee-987e-0242ac110002-1-792c",
       "next": "5c08fe48-163a-11ee-987e-0242ac110002",
       "previous": "5c08fd1c-163a-11ee-987e-0242ac110002"
      },
      {
       "current": "5c08fdb2-163a-11ee-987e-0242ac110002-1-792c",
       "next": "5c08fe48-163a-11ee-987e-0242ac110002-1-ca1f",
       "previous": "5c08fd1c-163a-11ee-987e-0242ac110002-1-17d9"
      },
      {
       "current": "5c08fdb2-163a-11ee-987e-0242ac110002-2-792c-4f8e",
       "next": "5c08fe48-163a-11ee-987e-0242ac110002-1-ca1f",
       "previous": "5c08f308-163a-11ee-987e-0242ac110002-2-4f84-cb83"
      },
      {
       "current": "5c08fdb2-163a-11ee-987e-0242ac110002-3-792c-4f8e-42c0",
       "next": "5c08fe48-163a-11ee-987e-0242ac110002-2-ca1f-e323",
       "previous": "5c08f308-163a-11ee-987e-0242ac110002-3-4f84-cb83-8867"
      },
      {
       "current": "5c08fdb2-163a-11ee-987e-0242ac110002-4-792c-4f8e-42c0-4a7d",
       "next": "5c08fe48-163a-11ee-987e-0242ac110002-3-ca1f-e323-40ed",
       "previous": "5c08f308-163a-11ee-987e-0242ac110002-4-4f84-cb83-8867-20ed"
      }
     ],
     "next": "5c08fe48-163a-11ee-987e-0242ac110002-4-ca1f-e323-40ed-e9c3",
     "previous": "5c08f308-163a-11ee-987e-0242ac110002-5-4f84-cb83-8867-20ed-529a"
    }
   },
   "source": [
    "各VCノードのコンテナイメージ一覧を確認します。\n",
    "\n",
    "single-user Jupyter Notebook serverコンテナイメージが存在することを確認します。"
   ]
  },
  {
   "cell_type": "code",
   "execution_count": null,
   "metadata": {
    "hidden": true,
    "lc_cell_meme": {
     "current": "5c08fe48-163a-11ee-987e-0242ac110002-4-ca1f-e323-40ed-e9c3",
     "history": [
      {
       "current": "5c08fe48-163a-11ee-987e-0242ac110002-1-ca1f",
       "next": "5c08fede-163a-11ee-987e-0242ac110002",
       "previous": "5c08fdb2-163a-11ee-987e-0242ac110002"
      },
      {
       "current": "5c08fe48-163a-11ee-987e-0242ac110002-2-ca1f-e323",
       "next": "5c08fede-163a-11ee-987e-0242ac110002-1-0407",
       "previous": "5c08fdb2-163a-11ee-987e-0242ac110002-1-792c"
      },
      {
       "current": "5c08fe48-163a-11ee-987e-0242ac110002-3-ca1f-e323-40ed",
       "next": "5c08fede-163a-11ee-987e-0242ac110002-2-0407-cd76",
       "previous": "5c08fdb2-163a-11ee-987e-0242ac110002-2-792c-4f8e"
      },
      {
       "current": "5c08fe48-163a-11ee-987e-0242ac110002-4-ca1f-e323-40ed-e9c3",
       "next": "5c08fede-163a-11ee-987e-0242ac110002-3-0407-cd76-808b",
       "previous": "5c08fdb2-163a-11ee-987e-0242ac110002-3-792c-4f8e-42c0"
      }
     ],
     "next": "5c08fede-163a-11ee-987e-0242ac110002-4-0407-cd76-808b-267e",
     "previous": "5c08fdb2-163a-11ee-987e-0242ac110002-4-792c-4f8e-42c0-4a7d"
    },
    "lc_wrapper": {
     "log_history": [
      "/notebooks/notebook/work_terayama/yjupyterhub/work/.log/20230629/20230629-190335-0210.log",
      "/notebooks/notebook/work_terayama/yjupyterhub/work/.log/20230629/20230629-190359-0897.log",
      "/notebooks/notebook/work_terayama/yjupyterhub/work/.log/20230630/20230630-194256-0409.log",
      "/notebooks/notebook/work_terayama/yjupyterhub/work/.log/20230704/20230704-121153-0494.log",
      "/notebooks/notebook/work_terayama/yjupyterhub/work/.log/20230719/20230719-161547-0265.log",
      "/notebooks/notebook/work_terayama/yjupyterhub/work/.log/20230721/20230721-112655-0716.log",
      "/notebooks/notebook/work_terayama/yjupyterhub/work/.log/20230727/20230727-152403-0782.log",
      "/notebooks/notebook/work_terayama/yjupyterhub/work/.log/20230801/20230801-164542-0905.log",
      "/notebooks/notebook/work_terayama/yjupyterhub/work/.log/20230801/20230801-180811-0711.log"
     ]
    },
    "pinned_outputs": []
   },
   "outputs": [],
   "source": [
    "print(f'指定したイメージ名:{singleuser_image}')\n",
    "\n",
    "!ansible {ugroup_name} -m shell -a 'docker images | \\\n",
    "    grep -e \"{{{{singleuser_image_no_tag}}}}\"'"
   ]
  },
  {
   "cell_type": "markdown",
   "metadata": {
    "heading_collapsed": true,
    "lc_cell_meme": {
     "current": "5c08fede-163a-11ee-987e-0242ac110002-4-0407-cd76-808b-267e",
     "history": [
      {
       "current": "5c08fede-163a-11ee-987e-0242ac110002-1-0407",
       "next": "5c08ff74-163a-11ee-987e-0242ac110002",
       "previous": "5c08fe48-163a-11ee-987e-0242ac110002"
      },
      {
       "current": "5c08fede-163a-11ee-987e-0242ac110002-2-0407-cd76",
       "next": "5c08ff74-163a-11ee-987e-0242ac110002-1-cb05",
       "previous": "5c08fe48-163a-11ee-987e-0242ac110002-1-ca1f"
      },
      {
       "current": "5c08fede-163a-11ee-987e-0242ac110002-3-0407-cd76-808b",
       "next": "5c08ff74-163a-11ee-987e-0242ac110002-2-cb05-42d2",
       "previous": "5c08fe48-163a-11ee-987e-0242ac110002-2-ca1f-e323"
      },
      {
       "current": "5c08fede-163a-11ee-987e-0242ac110002-4-0407-cd76-808b-267e",
       "next": "5c08ff74-163a-11ee-987e-0242ac110002-3-cb05-42d2-afc6",
       "previous": "5c08fe48-163a-11ee-987e-0242ac110002-3-ca1f-e323-40ed"
      }
     ],
     "next": "5c08ff74-163a-11ee-987e-0242ac110002-4-cb05-42d2-afc6-955a",
     "previous": "5c08fe48-163a-11ee-987e-0242ac110002-4-ca1f-e323-40ed-e9c3"
    }
   },
   "source": [
    "## コンテナの起動"
   ]
  },
  {
   "cell_type": "markdown",
   "metadata": {
    "heading_collapsed": true,
    "hidden": true,
    "lc_cell_meme": {
     "current": "5c08ff74-163a-11ee-987e-0242ac110002-4-cb05-42d2-afc6-955a",
     "history": [
      {
       "current": "5c08ff74-163a-11ee-987e-0242ac110002-1-cb05",
       "next": "5c09003c-163a-11ee-987e-0242ac110002",
       "previous": "5c08fede-163a-11ee-987e-0242ac110002"
      },
      {
       "current": "5c08ff74-163a-11ee-987e-0242ac110002-2-cb05-42d2",
       "next": "5c09003c-163a-11ee-987e-0242ac110002-1-812f",
       "previous": "5c08fede-163a-11ee-987e-0242ac110002-1-0407"
      },
      {
       "current": "5c08ff74-163a-11ee-987e-0242ac110002-3-cb05-42d2-afc6",
       "next": "5c09003c-163a-11ee-987e-0242ac110002-2-812f-1198",
       "previous": "5c08fede-163a-11ee-987e-0242ac110002-2-0407-cd76"
      },
      {
       "current": "5c08ff74-163a-11ee-987e-0242ac110002-4-cb05-42d2-afc6-955a",
       "next": "5c09003c-163a-11ee-987e-0242ac110002-3-812f-1198-ed8d",
       "previous": "5c08fede-163a-11ee-987e-0242ac110002-3-0407-cd76-808b"
      }
     ],
     "next": "5c09003c-163a-11ee-987e-0242ac110002-4-812f-1198-ed8d-30f7",
     "previous": "5c08fede-163a-11ee-987e-0242ac110002-4-0407-cd76-808b-267e"
    }
   },
   "source": [
    "### docker-compose.yml の配置"
   ]
  },
  {
   "cell_type": "markdown",
   "metadata": {
    "hidden": true,
    "lc_cell_meme": {
     "current": "5c09003c-163a-11ee-987e-0242ac110002-4-812f-1198-ed8d-30f7",
     "history": [
      {
       "current": "5c09003c-163a-11ee-987e-0242ac110002-1-812f",
       "next": "5c0900dc-163a-11ee-987e-0242ac110002",
       "previous": "5c08ff74-163a-11ee-987e-0242ac110002"
      },
      {
       "current": "5c09003c-163a-11ee-987e-0242ac110002-2-812f-1198",
       "next": "5c0900dc-163a-11ee-987e-0242ac110002-1-660b",
       "previous": "5c08ff74-163a-11ee-987e-0242ac110002-1-cb05"
      },
      {
       "current": "5c09003c-163a-11ee-987e-0242ac110002-3-812f-1198-ed8d",
       "next": "5c0900dc-163a-11ee-987e-0242ac110002-2-660b-c3fd",
       "previous": "5c08ff74-163a-11ee-987e-0242ac110002-2-cb05-42d2"
      },
      {
       "current": "5c09003c-163a-11ee-987e-0242ac110002-4-812f-1198-ed8d-30f7",
       "next": "5c0900dc-163a-11ee-987e-0242ac110002-3-660b-c3fd-2414",
       "previous": "5c08ff74-163a-11ee-987e-0242ac110002-3-cb05-42d2-afc6"
      }
     ],
     "next": "5c0900dc-163a-11ee-987e-0242ac110002-4-660b-c3fd-2414-50ba",
     "previous": "5c08ff74-163a-11ee-987e-0242ac110002-4-cb05-42d2-afc6-955a"
    }
   },
   "source": [
    "複数のコンテナに関する設定をまとめて扱うために `docker-compose.yml` を利用します。\n",
    "\n",
    "ここまでに指定されたパラメータに応じた`docker-compose.yml`, `default.conf`を生成し、構築環境に配置します。"
   ]
  },
  {
   "cell_type": "markdown",
   "metadata": {
    "hidden": true,
    "lc_cell_meme": {
     "current": "5c0900dc-163a-11ee-987e-0242ac110002-4-660b-c3fd-2414-50ba",
     "history": [
      {
       "current": "5c0900dc-163a-11ee-987e-0242ac110002-1-660b",
       "next": "5c09017c-163a-11ee-987e-0242ac110002",
       "previous": "5c09003c-163a-11ee-987e-0242ac110002"
      },
      {
       "current": "5c0900dc-163a-11ee-987e-0242ac110002-2-660b-c3fd",
       "next": "5c09017c-163a-11ee-987e-0242ac110002-1-e7a9",
       "previous": "5c09003c-163a-11ee-987e-0242ac110002-1-812f"
      },
      {
       "current": "5c0900dc-163a-11ee-987e-0242ac110002-3-660b-c3fd-2414",
       "next": "5c09017c-163a-11ee-987e-0242ac110002-2-e7a9-8267",
       "previous": "5c09003c-163a-11ee-987e-0242ac110002-2-812f-1198"
      },
      {
       "current": "5c0900dc-163a-11ee-987e-0242ac110002-4-660b-c3fd-2414-50ba",
       "next": "5c09017c-163a-11ee-987e-0242ac110002-3-e7a9-8267-cd54",
       "previous": "5c09003c-163a-11ee-987e-0242ac110002-3-812f-1198-ed8d"
      }
     ],
     "next": "5c09017c-163a-11ee-987e-0242ac110002-4-e7a9-8267-cd54-f5bc",
     "previous": "5c09003c-163a-11ee-987e-0242ac110002-4-812f-1198-ed8d-30f7"
    }
   },
   "source": [
    "まずは、チェックモードで確認を行います。"
   ]
  },
  {
   "cell_type": "code",
   "execution_count": null,
   "metadata": {
    "hidden": true,
    "lc_cell_meme": {
     "current": "5c09017c-163a-11ee-987e-0242ac110002-4-e7a9-8267-cd54-f5bc",
     "history": [
      {
       "current": "5c09017c-163a-11ee-987e-0242ac110002-1-e7a9",
       "next": "5c09021c-163a-11ee-987e-0242ac110002",
       "previous": "5c0900dc-163a-11ee-987e-0242ac110002"
      },
      {
       "current": "5c09017c-163a-11ee-987e-0242ac110002-2-e7a9-8267",
       "next": "5c09021c-163a-11ee-987e-0242ac110002-1-99e8",
       "previous": "5c0900dc-163a-11ee-987e-0242ac110002-1-660b"
      },
      {
       "current": "5c09017c-163a-11ee-987e-0242ac110002-3-e7a9-8267-cd54",
       "next": "5c09021c-163a-11ee-987e-0242ac110002-2-99e8-c287",
       "previous": "5c0900dc-163a-11ee-987e-0242ac110002-2-660b-c3fd"
      },
      {
       "current": "5c09017c-163a-11ee-987e-0242ac110002-4-e7a9-8267-cd54-f5bc",
       "next": "5c09021c-163a-11ee-987e-0242ac110002-3-99e8-c287-13ab",
       "previous": "5c0900dc-163a-11ee-987e-0242ac110002-3-660b-c3fd-2414"
      }
     ],
     "next": "5c09021c-163a-11ee-987e-0242ac110002-4-99e8-c287-13ab-ae6a",
     "previous": "5c0900dc-163a-11ee-987e-0242ac110002-4-660b-c3fd-2414-50ba"
    },
    "lc_wrapper": {
     "log_history": [
      "/notebooks/notebook/work_terayama/yjupyterhub/work/.log/20230629/20230629-190440-0792.log",
      "/notebooks/notebook/work_terayama/yjupyterhub/work/.log/20230629/20230629-190703-0194.log",
      "/notebooks/notebook/work_terayama/yjupyterhub/work/.log/20230629/20230629-190844-0950.log",
      "/notebooks/notebook/work_terayama/yjupyterhub/work/.log/20230629/20230629-191011-0392.log",
      "/notebooks/notebook/work_terayama/yjupyterhub/work/.log/20230629/20230629-191111-0523.log",
      "/notebooks/notebook/work_terayama/yjupyterhub/work/.log/20230629/20230629-191125-0837.log",
      "/notebooks/notebook/work_terayama/yjupyterhub/work/.log/20230629/20230629-191159-0804.log",
      "/notebooks/notebook/work_terayama/yjupyterhub/work/.log/20230629/20230629-193908-0348.log",
      "/notebooks/notebook/work_terayama/yjupyterhub/work/.log/20230630/20230630-194316-0872.log",
      "/notebooks/notebook/work_terayama/yjupyterhub/work/.log/20230704/20230704-121206-0916.log",
      "/notebooks/notebook/work_terayama/yjupyterhub/work/.log/20230719/20230719-161558-0652.log",
      "/notebooks/notebook/work_terayama/yjupyterhub/work/.log/20230721/20230721-112718-0199.log",
      "/notebooks/notebook/work_terayama/yjupyterhub/work/.log/20230727/20230727-152436-0695.log",
      "/notebooks/notebook/work_terayama/yjupyterhub/work/.log/20230727/20230727-152710-0193.log",
      "/notebooks/notebook/work_terayama/yjupyterhub/work/.log/20230801/20230801-164811-0613.log",
      "/notebooks/notebook/work_terayama/yjupyterhub/work/.log/20230801/20230801-165016-0203.log",
      "/notebooks/notebook/work_terayama/yjupyterhub/work/.log/20230801/20230801-165319-0069.log"
     ]
    },
    "scrolled": true
   },
   "outputs": [],
   "source": [
    "!ansible {target_hub} -CDv -m template \\\n",
    "    -a 'src=template/jupyterhub/docker-compose.yml dest={{{{base_dir}}}}/jupyterhub backup=yes'\n",
    "!ansible {target_hub} -CDv -m template \\\n",
    "    -a 'src=template/jupyterhub/nginx/default.conf dest={{{{base_dir}}}}/jupyterhub/nginx backup=yes'\n",
    "!ansible {target_hub} -CDv -m template \\\n",
    "    -a 'src=edit/lms_web_service.py dest={{{{jupyterhub_dir}}}}/jupyterhub backup=yes'\n",
    "!ansible {target_hub} -CDv -m template \\\n",
    "    -a 'src=edit/jupyterhub_config.py dest={{{{jupyterhub_dir}}}}/jupyterhub backup=yes'\n",
    "!ansible {target_hub} -CDv -m template \\\n",
    "    -a 'src=edit/jupyterhub_params.yaml dest={{{{jupyterhub_dir}}}}/jupyterhub backup=yes'"
   ]
  },
  {
   "cell_type": "markdown",
   "metadata": {
    "hidden": true,
    "lc_cell_meme": {
     "current": "5c09021c-163a-11ee-987e-0242ac110002-4-99e8-c287-13ab-ae6a",
     "history": [
      {
       "current": "5c09021c-163a-11ee-987e-0242ac110002-1-99e8",
       "next": "5c0902f8-163a-11ee-987e-0242ac110002",
       "previous": "5c09017c-163a-11ee-987e-0242ac110002"
      },
      {
       "current": "5c09021c-163a-11ee-987e-0242ac110002-2-99e8-c287",
       "next": "5c0902f8-163a-11ee-987e-0242ac110002-1-fe00",
       "previous": "5c09017c-163a-11ee-987e-0242ac110002-1-e7a9"
      },
      {
       "current": "5c09021c-163a-11ee-987e-0242ac110002-3-99e8-c287-13ab",
       "next": "5c0902f8-163a-11ee-987e-0242ac110002-2-fe00-3ffd",
       "previous": "5c09017c-163a-11ee-987e-0242ac110002-2-e7a9-8267"
      },
      {
       "current": "5c09021c-163a-11ee-987e-0242ac110002-4-99e8-c287-13ab-ae6a",
       "next": "5c0902f8-163a-11ee-987e-0242ac110002-3-fe00-3ffd-81df",
       "previous": "5c09017c-163a-11ee-987e-0242ac110002-3-e7a9-8267-cd54"
      }
     ],
     "next": "5c0902f8-163a-11ee-987e-0242ac110002-4-fe00-3ffd-81df-68ba",
     "previous": "5c09017c-163a-11ee-987e-0242ac110002-4-e7a9-8267-cd54-f5bc"
    }
   },
   "source": [
    "実際に各ファイルの配置を行います。"
   ]
  },
  {
   "cell_type": "code",
   "execution_count": null,
   "metadata": {
    "hidden": true,
    "lc_cell_meme": {
     "current": "5c0902f8-163a-11ee-987e-0242ac110002-4-fe00-3ffd-81df-68ba",
     "history": [
      {
       "current": "5c0902f8-163a-11ee-987e-0242ac110002-1-fe00",
       "next": "5c09038e-163a-11ee-987e-0242ac110002",
       "previous": "5c09021c-163a-11ee-987e-0242ac110002"
      },
      {
       "current": "5c0902f8-163a-11ee-987e-0242ac110002-1-fe00",
       "next": "5c09038e-163a-11ee-987e-0242ac110002-1-8c44",
       "previous": "5c09021c-163a-11ee-987e-0242ac110002-1-99e8"
      },
      {
       "current": "5c0902f8-163a-11ee-987e-0242ac110002-1-fe00",
       "next": "8d659d34-2c47-11ee-987e-0242ac110002",
       "previous": "5c09021c-163a-11ee-987e-0242ac110002-1-99e8"
      },
      {
       "current": "5c0902f8-163a-11ee-987e-0242ac110002-2-fe00-3ffd",
       "next": "5c09038e-163a-11ee-987e-0242ac110002-1-8c44",
       "previous": "5c09021c-163a-11ee-987e-0242ac110002-1-99e8"
      },
      {
       "current": "5c0902f8-163a-11ee-987e-0242ac110002-3-fe00-3ffd-81df",
       "next": "5c09038e-163a-11ee-987e-0242ac110002-2-8c44-9e11",
       "previous": "5c09021c-163a-11ee-987e-0242ac110002-2-99e8-c287"
      },
      {
       "current": "5c0902f8-163a-11ee-987e-0242ac110002-4-fe00-3ffd-81df-68ba",
       "next": "5c09038e-163a-11ee-987e-0242ac110002-3-8c44-9e11-599e",
       "previous": "5c09021c-163a-11ee-987e-0242ac110002-3-99e8-c287-13ab"
      }
     ],
     "next": "5c09038e-163a-11ee-987e-0242ac110002-4-8c44-9e11-599e-0518",
     "previous": "5c09021c-163a-11ee-987e-0242ac110002-4-99e8-c287-13ab-ae6a"
    },
    "lc_wrapper": {
     "log_history": [
      "/notebooks/notebook/work_terayama/yjupyterhub/work/.log/20230629/20230629-191220-0709.log",
      "/notebooks/notebook/work_terayama/yjupyterhub/work/.log/20230629/20230629-191528-0702.log",
      "/notebooks/notebook/work_terayama/yjupyterhub/work/.log/20230629/20230629-192343-0884.log",
      "/notebooks/notebook/work_terayama/yjupyterhub/work/.log/20230629/20230629-193931-0404.log",
      "/notebooks/notebook/work_terayama/yjupyterhub/work/.log/20230629/20230629-194047-0817.log",
      "/notebooks/notebook/work_terayama/yjupyterhub/work/.log/20230629/20230629-200659-0772.log",
      "/notebooks/notebook/work_terayama/yjupyterhub/work/.log/20230630/20230630-194323-0571.log",
      "/notebooks/notebook/work_terayama/yjupyterhub/work/.log/20230704/20230704-121218-0535.log",
      "/notebooks/notebook/work_terayama/yjupyterhub/work/.log/20230719/20230719-161611-0771.log",
      "/notebooks/notebook/work_terayama/yjupyterhub/work/.log/20230721/20230721-112730-0089.log",
      "/notebooks/notebook/work_terayama/yjupyterhub/work/.log/20230727/20230727-152722-0951.log",
      "/notebooks/notebook/work_terayama/yjupyterhub/work/.log/20230727/20230727-173805-0534.log",
      "/notebooks/notebook/work_terayama/yjupyterhub/work/.log/20230727/20230727-174305-0668.log",
      "/notebooks/notebook/work_terayama/yjupyterhub/work/.log/20230728/20230728-133541-0414.log",
      "/notebooks/notebook/work_terayama/yjupyterhub/work/.log/20230801/20230801-165347-0221.log",
      "/notebooks/notebook/work_terayama/yjupyterhub/work/.log/20230801/20230801-165801-0412.log",
      "/notebooks/notebook/work_terayama/yjupyterhub/work/.log/20230801/20230801-170353-0412.log",
      "/notebooks/notebook/work_terayama/yjupyterhub/work/.log/20230801/20230801-172918-0092.log",
      "/notebooks/notebook/work_terayama/yjupyterhub/work/.log/20230801/20230801-173428-0053.log",
      "/notebooks/notebook/work_terayama/yjupyterhub/work/.log/20230801/20230801-181313-0185.log"
     ]
    },
    "scrolled": true
   },
   "outputs": [],
   "source": [
    "!ansible {target_hub} -Dv -m template \\\n",
    "    -a 'src=template/jupyterhub/docker-compose.yml dest={{{{base_dir}}}}/jupyterhub backup=yes'\n",
    "!ansible {target_hub} -Dv -m template \\\n",
    "    -a 'src=template/jupyterhub/nginx/default.conf dest={{{{base_dir}}}}/jupyterhub/nginx backup=yes'\n",
    "!ansible {target_hub} -Dv -m template \\\n",
    "    -a 'src=edit/lms_web_service.py dest={{{{jupyterhub_dir}}}}/jupyterhub backup=yes'\n",
    "!ansible {target_hub} -Dv -m template \\\n",
    "    -a 'src=edit/jupyterhub_config.py dest={{{{jupyterhub_dir}}}}/jupyterhub backup=yes'\n",
    "!ansible {target_hub} -Dv -m template \\\n",
    "    -a 'src=edit/jupyterhub_params.yaml dest={{{{jupyterhub_dir}}}}/jupyterhub backup=yes'"
   ]
  },
  {
   "cell_type": "markdown",
   "metadata": {
    "hidden": true,
    "lc_cell_meme": {
     "current": "5c09038e-163a-11ee-987e-0242ac110002-4-8c44-9e11-599e-0518",
     "history": [
      {
       "current": "5c09038e-163a-11ee-987e-0242ac110002-1-8c44",
       "next": "5c090456-163a-11ee-987e-0242ac110002",
       "previous": "5c0902f8-163a-11ee-987e-0242ac110002"
      },
      {
       "current": "5c09038e-163a-11ee-987e-0242ac110002-1-8c44",
       "next": "5c090456-163a-11ee-987e-0242ac110002-1-c972",
       "previous": "5c0902f8-163a-11ee-987e-0242ac110002-1-fe00"
      },
      {
       "current": "5c09038e-163a-11ee-987e-0242ac110002-1-8c44",
       "next": "5c090456-163a-11ee-987e-0242ac110002-1-c972",
       "previous": "8d659d34-2c47-11ee-987e-0242ac110002"
      },
      {
       "current": "5c09038e-163a-11ee-987e-0242ac110002-2-8c44-9e11",
       "next": "5c090456-163a-11ee-987e-0242ac110002-1-c972",
       "previous": "5c0902f8-163a-11ee-987e-0242ac110002-1-fe00"
      },
      {
       "current": "5c09038e-163a-11ee-987e-0242ac110002-3-8c44-9e11-599e",
       "next": "5c090456-163a-11ee-987e-0242ac110002-2-c972-54a4",
       "previous": "5c0902f8-163a-11ee-987e-0242ac110002-2-fe00-3ffd"
      },
      {
       "current": "5c09038e-163a-11ee-987e-0242ac110002-4-8c44-9e11-599e-0518",
       "next": "5c090456-163a-11ee-987e-0242ac110002-3-c972-54a4-b678",
       "previous": "5c0902f8-163a-11ee-987e-0242ac110002-3-fe00-3ffd-81df"
      }
     ],
     "next": "5c090456-163a-11ee-987e-0242ac110002-4-c972-54a4-b678-0152",
     "previous": "5c0902f8-163a-11ee-987e-0242ac110002-4-fe00-3ffd-81df-68ba"
    }
   },
   "source": [
    "### コンテナの起動\n",
    "\n",
    "コンテナを起動します。"
   ]
  },
  {
   "cell_type": "code",
   "execution_count": null,
   "metadata": {
    "hidden": true,
    "lc_cell_meme": {
     "current": "5c090456-163a-11ee-987e-0242ac110002-4-c972-54a4-b678-0152",
     "history": [
      {
       "current": "5c090456-163a-11ee-987e-0242ac110002-1-c972",
       "next": "5c090500-163a-11ee-987e-0242ac110002",
       "previous": "5c09038e-163a-11ee-987e-0242ac110002"
      },
      {
       "current": "5c090456-163a-11ee-987e-0242ac110002-2-c972-54a4",
       "next": "5c090500-163a-11ee-987e-0242ac110002-1-3286",
       "previous": "5c09038e-163a-11ee-987e-0242ac110002-1-8c44"
      },
      {
       "current": "5c090456-163a-11ee-987e-0242ac110002-3-c972-54a4-b678",
       "next": "5c090500-163a-11ee-987e-0242ac110002-2-3286-129b",
       "previous": "5c09038e-163a-11ee-987e-0242ac110002-2-8c44-9e11"
      },
      {
       "current": "5c090456-163a-11ee-987e-0242ac110002-4-c972-54a4-b678-0152",
       "next": "5c090500-163a-11ee-987e-0242ac110002-3-3286-129b-5e0b",
       "previous": "5c09038e-163a-11ee-987e-0242ac110002-3-8c44-9e11-599e"
      }
     ],
     "next": "5c090500-163a-11ee-987e-0242ac110002-4-3286-129b-5e0b-e68e",
     "previous": "5c09038e-163a-11ee-987e-0242ac110002-4-8c44-9e11-599e-0518"
    },
    "lc_wrapper": {
     "log_history": [
      "/notebooks/notebook/work_terayama/yjupyterhub/work/.log/20230629/20230629-191559-0951.log",
      "/notebooks/notebook/work_terayama/yjupyterhub/work/.log/20230629/20230629-192356-0063.log",
      "/notebooks/notebook/work_terayama/yjupyterhub/work/.log/20230629/20230629-194059-0732.log",
      "/notebooks/notebook/work_terayama/yjupyterhub/work/.log/20230629/20230629-200711-0148.log",
      "/notebooks/notebook/work_terayama/yjupyterhub/work/.log/20230630/20230630-194333-0234.log",
      "/notebooks/notebook/work_terayama/yjupyterhub/work/.log/20230704/20230704-121231-0935.log",
      "/notebooks/notebook/work_terayama/yjupyterhub/work/.log/20230719/20230719-161941-0896.log",
      "/notebooks/notebook/work_terayama/yjupyterhub/work/.log/20230721/20230721-112741-0556.log",
      "/notebooks/notebook/work_terayama/yjupyterhub/work/.log/20230727/20230727-152736-0667.log",
      "/notebooks/notebook/work_terayama/yjupyterhub/work/.log/20230727/20230727-173320-0219.log",
      "/notebooks/notebook/work_terayama/yjupyterhub/work/.log/20230727/20230727-173422-0650.log",
      "/notebooks/notebook/work_terayama/yjupyterhub/work/.log/20230727/20230727-173955-0249.log",
      "/notebooks/notebook/work_terayama/yjupyterhub/work/.log/20230801/20230801-165425-0912.log",
      "/notebooks/notebook/work_terayama/yjupyterhub/work/.log/20230801/20230801-170619-0419.log"
     ]
    }
   },
   "outputs": [],
   "source": [
    "!ansible {target_hub} -a 'chdir={{{{base_dir}}}}/jupyterhub \\\n",
    "    docker stack deploy -c docker-compose.yml {{{{ugroup_name}}}}'"
   ]
  },
  {
   "cell_type": "markdown",
   "metadata": {
    "hidden": true,
    "lc_cell_meme": {
     "current": "5c090500-163a-11ee-987e-0242ac110002-4-3286-129b-5e0b-e68e",
     "history": [
      {
       "current": "5c090500-163a-11ee-987e-0242ac110002-1-3286",
       "next": "5c090596-163a-11ee-987e-0242ac110002",
       "previous": "5c090456-163a-11ee-987e-0242ac110002"
      },
      {
       "current": "5c090500-163a-11ee-987e-0242ac110002-2-3286-129b",
       "next": "5c090596-163a-11ee-987e-0242ac110002-1-db76",
       "previous": "5c090456-163a-11ee-987e-0242ac110002-1-c972"
      },
      {
       "current": "5c090500-163a-11ee-987e-0242ac110002-3-3286-129b-5e0b",
       "next": "5c090596-163a-11ee-987e-0242ac110002-2-db76-9935",
       "previous": "5c090456-163a-11ee-987e-0242ac110002-2-c972-54a4"
      },
      {
       "current": "5c090500-163a-11ee-987e-0242ac110002-4-3286-129b-5e0b-e68e",
       "next": "5c090596-163a-11ee-987e-0242ac110002-3-db76-9935-7ac7",
       "previous": "5c090456-163a-11ee-987e-0242ac110002-3-c972-54a4-b678"
      }
     ],
     "next": "5c090596-163a-11ee-987e-0242ac110002-4-db76-9935-7ac7-1a2b",
     "previous": "5c090456-163a-11ee-987e-0242ac110002-4-c972-54a4-b678-0152"
    }
   },
   "source": [
    "コンテナの起動状態を確認します。"
   ]
  },
  {
   "cell_type": "code",
   "execution_count": null,
   "metadata": {
    "hidden": true,
    "lc_cell_meme": {
     "current": "5c090596-163a-11ee-987e-0242ac110002-4-db76-9935-7ac7-1a2b",
     "history": [
      {
       "current": "5c090596-163a-11ee-987e-0242ac110002-1-db76",
       "next": "5c09062c-163a-11ee-987e-0242ac110002",
       "previous": "5c090500-163a-11ee-987e-0242ac110002"
      },
      {
       "current": "5c090596-163a-11ee-987e-0242ac110002-2-db76-9935",
       "next": "5c09062c-163a-11ee-987e-0242ac110002-1-67e6",
       "previous": "5c090500-163a-11ee-987e-0242ac110002-1-3286"
      },
      {
       "current": "5c090596-163a-11ee-987e-0242ac110002-2-db76-9935",
       "next": "5c09062c-163a-11ee-987e-0242ac110002-2-67e6-d9dc",
       "previous": "5c090500-163a-11ee-987e-0242ac110002-2-3286-129b"
      },
      {
       "current": "5c090596-163a-11ee-987e-0242ac110002-3-db76-9935-7ac7",
       "next": "5c09088e-163a-11ee-987e-0242ac110002-2-f0a4-5f11",
       "previous": "5c090500-163a-11ee-987e-0242ac110002-2-3286-129b"
      },
      {
       "current": "5c090596-163a-11ee-987e-0242ac110002-4-db76-9935-7ac7-1a2b",
       "next": "5c09088e-163a-11ee-987e-0242ac110002-3-f0a4-5f11-0261",
       "previous": "5c090500-163a-11ee-987e-0242ac110002-3-3286-129b-5e0b"
      },
      {
       "current": "5c090596-163a-11ee-987e-0242ac110002-4-db76-9935-7ac7-1a2b",
       "next": "5c09088e-163a-11ee-987e-0242ac110002-4-f0a4-5f11-0261-b67c",
       "previous": "5c090500-163a-11ee-987e-0242ac110002-4-3286-129b-5e0b-e68e"
      }
     ],
     "next": "8880b080-4c66-11ee-96eb-0242ac110002",
     "previous": "5c090500-163a-11ee-987e-0242ac110002-4-3286-129b-5e0b-e68e"
    },
    "lc_wrapper": {
     "log_history": [
      "/notebooks/notebook/work_terayama/yjupyterhub/work/.log/20230629/20230629-191621-0656.log",
      "/notebooks/notebook/work_terayama/yjupyterhub/work/.log/20230629/20230629-194209-0280.log",
      "/notebooks/notebook/work_terayama/yjupyterhub/work/.log/20230630/20230630-194732-0727.log",
      "/notebooks/notebook/work_terayama/yjupyterhub/work/.log/20230704/20230704-121353-0056.log",
      "/notebooks/notebook/work_terayama/yjupyterhub/work/.log/20230719/20230719-162243-0715.log"
     ]
    }
   },
   "outputs": [],
   "source": [
    "!ansible {target_hub} -a 'docker stack ps {{{{ugroup_name}}}}'"
   ]
  },
  {
   "cell_type": "markdown",
   "metadata": {
    "hidden": true,
    "lc_cell_meme": {
     "current": "8880b080-4c66-11ee-96eb-0242ac110002",
     "next": "8880b1b6-4c66-11ee-96eb-0242ac110002",
     "previous": "5c090596-163a-11ee-987e-0242ac110002-4-db76-9935-7ac7-1a2b"
    }
   },
   "source": [
    "Masterノードにて、jupyterhubのヘルスチェック用URLに向けて、curlコマンドを実行してみます。    \n",
    "起動に時間がかかる場合があるため、指定回数を上限とし、成功するまでリトライします。  \n",
    "ステータスコード`200`が返ると、このセルは正常終了します。  \n",
    "\n",
    "※managerノード（のVM）へのアクセス制限を行っている場合、この構築環境からはアクセスできない場合があります。その場合は、許可されたアクセス元から、https://{master_fqdn}/hub/healthにGETリクエストを行うか、https://{master_fqdn}/にブラウザでアクセスし、画面が表示されれば問題ありません。\n",
    "このようなアクセス制限を行う場合は、Jupyterhubに設定しているグローバルIPアドレスからMoodleへのアクセスを許可する必要があります。"
   ]
  },
  {
   "cell_type": "code",
   "execution_count": null,
   "metadata": {
    "hidden": true,
    "lc_cell_meme": {
     "current": "8880b1b6-4c66-11ee-96eb-0242ac110002",
     "next": "5c09088e-163a-11ee-987e-0242ac110002-4-f0a4-5f11-0261-b67c",
     "previous": "8880b080-4c66-11ee-96eb-0242ac110002"
    }
   },
   "outputs": [],
   "source": [
    "import time\n",
    "\n",
    "# 規定回数\n",
    "retry_max = 18\n",
    "err = None\n",
    "\n",
    "for retry in range(retry_max):\n",
    "    try:\n",
    "        !ansible {target_hub} -m uri -a \"url=https://{master_fqdn}/hub/health\"\n",
    "        break\n",
    "\n",
    "    except Exception as e:\n",
    "        print(\"retry\")\n",
    "        err = e\n",
    "        time.sleep(10)\n",
    "else:\n",
    "    raise err"
   ]
  },
  {
   "cell_type": "markdown",
   "metadata": {
    "hidden": true,
    "lc_cell_meme": {
     "current": "5c09088e-163a-11ee-987e-0242ac110002-4-f0a4-5f11-0261-b67c",
     "history": [
      {
       "current": "5c09088e-163a-11ee-987e-0242ac110002-1-f0a4",
       "next": "5c090924-163a-11ee-987e-0242ac110002",
       "previous": "5c0907f8-163a-11ee-987e-0242ac110002"
      },
      {
       "current": "5c09088e-163a-11ee-987e-0242ac110002-2-f0a4-5f11",
       "next": "5c090924-163a-11ee-987e-0242ac110002-1-1d21",
       "previous": "5c0907f8-163a-11ee-987e-0242ac110002-1-bdba"
      },
      {
       "current": "5c09088e-163a-11ee-987e-0242ac110002-2-f0a4-5f11",
       "next": "5c090924-163a-11ee-987e-0242ac110002-2-1d21-0be3",
       "previous": "5c0907f8-163a-11ee-987e-0242ac110002-2-bdba-564f"
      },
      {
       "current": "5c09088e-163a-11ee-987e-0242ac110002-3-f0a4-5f11-0261",
       "next": "5c090924-163a-11ee-987e-0242ac110002-2-1d21-0be3",
       "previous": "5c090596-163a-11ee-987e-0242ac110002-2-db76-9935"
      },
      {
       "current": "5c09088e-163a-11ee-987e-0242ac110002-4-f0a4-5f11-0261-b67c",
       "next": "5c090924-163a-11ee-987e-0242ac110002-3-1d21-0be3-b333",
       "previous": "5c090596-163a-11ee-987e-0242ac110002-3-db76-9935-7ac7"
      },
      {
       "current": "5c09088e-163a-11ee-987e-0242ac110002-4-f0a4-5f11-0261-b67c",
       "next": "5c090924-163a-11ee-987e-0242ac110002-4-1d21-0be3-b333-4fa4",
       "previous": "5c090596-163a-11ee-987e-0242ac110002-4-db76-9935-7ac7-1a2b"
      }
     ],
     "next": "5c090924-163a-11ee-987e-0242ac110002-4-1d21-0be3-b333-4fa4",
     "previous": "8880b1b6-4c66-11ee-96eb-0242ac110002"
    }
   },
   "source": [
    "`MariaDB` コンテナのログを表示してみます。"
   ]
  },
  {
   "cell_type": "code",
   "execution_count": null,
   "metadata": {
    "hidden": true,
    "lc_cell_meme": {
     "current": "5c090924-163a-11ee-987e-0242ac110002-4-1d21-0be3-b333-4fa4",
     "history": [
      {
       "current": "5c090924-163a-11ee-987e-0242ac110002-1-1d21",
       "next": "5c0909ba-163a-11ee-987e-0242ac110002",
       "previous": "5c09088e-163a-11ee-987e-0242ac110002"
      },
      {
       "current": "5c090924-163a-11ee-987e-0242ac110002-2-1d21-0be3",
       "next": "5c0909ba-163a-11ee-987e-0242ac110002-1-d899",
       "previous": "5c09088e-163a-11ee-987e-0242ac110002-1-f0a4"
      },
      {
       "current": "5c090924-163a-11ee-987e-0242ac110002-3-1d21-0be3-b333",
       "next": "5c0909ba-163a-11ee-987e-0242ac110002-2-d899-f5d7",
       "previous": "5c09088e-163a-11ee-987e-0242ac110002-2-f0a4-5f11"
      },
      {
       "current": "5c090924-163a-11ee-987e-0242ac110002-4-1d21-0be3-b333-4fa4",
       "next": "5c0909ba-163a-11ee-987e-0242ac110002-3-d899-f5d7-c318",
       "previous": "5c09088e-163a-11ee-987e-0242ac110002-3-f0a4-5f11-0261"
      }
     ],
     "next": "5c0909ba-163a-11ee-987e-0242ac110002-4-d899-f5d7-c318-7135",
     "previous": "5c09088e-163a-11ee-987e-0242ac110002-4-f0a4-5f11-0261-b67c"
    },
    "scrolled": true
   },
   "outputs": [],
   "source": [
    "!ansible {target_hub} -a 'docker service logs {{{{ugroup_name}}}}_mariadb'"
   ]
  },
  {
   "cell_type": "markdown",
   "metadata": {
    "hidden": true,
    "lc_cell_meme": {
     "current": "5c0909ba-163a-11ee-987e-0242ac110002-4-d899-f5d7-c318-7135",
     "history": [
      {
       "current": "5c0909ba-163a-11ee-987e-0242ac110002-1-d899",
       "next": "5c090a5a-163a-11ee-987e-0242ac110002",
       "previous": "5c090924-163a-11ee-987e-0242ac110002"
      },
      {
       "current": "5c0909ba-163a-11ee-987e-0242ac110002-2-d899-f5d7",
       "next": "5c090a5a-163a-11ee-987e-0242ac110002-1-8021",
       "previous": "5c090924-163a-11ee-987e-0242ac110002-1-1d21"
      },
      {
       "current": "5c0909ba-163a-11ee-987e-0242ac110002-3-d899-f5d7-c318",
       "next": "5c090a5a-163a-11ee-987e-0242ac110002-2-8021-add4",
       "previous": "5c090924-163a-11ee-987e-0242ac110002-2-1d21-0be3"
      },
      {
       "current": "5c0909ba-163a-11ee-987e-0242ac110002-4-d899-f5d7-c318-7135",
       "next": "5c090a5a-163a-11ee-987e-0242ac110002-3-8021-add4-013b",
       "previous": "5c090924-163a-11ee-987e-0242ac110002-3-1d21-0be3-b333"
      }
     ],
     "next": "5c090a5a-163a-11ee-987e-0242ac110002-4-8021-add4-013b-8912",
     "previous": "5c090924-163a-11ee-987e-0242ac110002-4-1d21-0be3-b333-4fa4"
    }
   },
   "source": [
    "`jupyterhub` コンテナのログを表示してみます。\n",
    "\n",
    "> DBに接続できないなどのエラーが表示されていないことを確認してください。"
   ]
  },
  {
   "cell_type": "code",
   "execution_count": null,
   "metadata": {
    "hidden": true,
    "lc_cell_meme": {
     "current": "5c090a5a-163a-11ee-987e-0242ac110002-4-8021-add4-013b-8912",
     "history": [
      {
       "current": "5c090a5a-163a-11ee-987e-0242ac110002-1-8021",
       "next": "5c090afa-163a-11ee-987e-0242ac110002",
       "previous": "5c0909ba-163a-11ee-987e-0242ac110002"
      },
      {
       "current": "5c090a5a-163a-11ee-987e-0242ac110002-2-8021-add4",
       "next": "5c090afa-163a-11ee-987e-0242ac110002-1-bb13",
       "previous": "5c0909ba-163a-11ee-987e-0242ac110002-1-d899"
      },
      {
       "current": "5c090a5a-163a-11ee-987e-0242ac110002-3-8021-add4-013b",
       "next": "5c090afa-163a-11ee-987e-0242ac110002-2-bb13-c5f8",
       "previous": "5c0909ba-163a-11ee-987e-0242ac110002-2-d899-f5d7"
      },
      {
       "current": "5c090a5a-163a-11ee-987e-0242ac110002-4-8021-add4-013b-8912",
       "next": "5c090afa-163a-11ee-987e-0242ac110002-3-bb13-c5f8-5498",
       "previous": "5c0909ba-163a-11ee-987e-0242ac110002-3-d899-f5d7-c318"
      }
     ],
     "next": "5c090afa-163a-11ee-987e-0242ac110002-4-bb13-c5f8-5498-2e34",
     "previous": "5c0909ba-163a-11ee-987e-0242ac110002-4-d899-f5d7-c318-7135"
    },
    "scrolled": true
   },
   "outputs": [],
   "source": [
    "!ansible {target_hub} -a 'docker service logs {{{{ugroup_name}}}}_jupyterhub'"
   ]
  },
  {
   "cell_type": "markdown",
   "metadata": {
    "hidden": true,
    "lc_cell_meme": {
     "current": "5c090afa-163a-11ee-987e-0242ac110002-4-bb13-c5f8-5498-2e34",
     "history": [
      {
       "current": "5c090afa-163a-11ee-987e-0242ac110002-1-bb13",
       "next": "5c090b90-163a-11ee-987e-0242ac110002",
       "previous": "5c090a5a-163a-11ee-987e-0242ac110002"
      },
      {
       "current": "5c090afa-163a-11ee-987e-0242ac110002-2-bb13-c5f8",
       "next": "5c090b90-163a-11ee-987e-0242ac110002-1-48e2",
       "previous": "5c090a5a-163a-11ee-987e-0242ac110002-1-8021"
      },
      {
       "current": "5c090afa-163a-11ee-987e-0242ac110002-3-bb13-c5f8-5498",
       "next": "5c090b90-163a-11ee-987e-0242ac110002-2-48e2-0d58",
       "previous": "5c090a5a-163a-11ee-987e-0242ac110002-2-8021-add4"
      },
      {
       "current": "5c090afa-163a-11ee-987e-0242ac110002-4-bb13-c5f8-5498-2e34",
       "next": "5c090b90-163a-11ee-987e-0242ac110002-3-48e2-0d58-eeec",
       "previous": "5c090a5a-163a-11ee-987e-0242ac110002-3-8021-add4-013b"
      }
     ],
     "next": "5c090b90-163a-11ee-987e-0242ac110002-4-48e2-0d58-eeec-6c96",
     "previous": "5c090a5a-163a-11ee-987e-0242ac110002-4-8021-add4-013b-8912"
    }
   },
   "source": [
    "`Nginx` コンテナのログを表示してみます。\n",
    "\n",
    "> 証明書設定に誤りがあるなどのエラーが表示されていないことを確認してください。"
   ]
  },
  {
   "cell_type": "code",
   "execution_count": null,
   "metadata": {
    "hidden": true,
    "lc_cell_meme": {
     "current": "5c090b90-163a-11ee-987e-0242ac110002-4-48e2-0d58-eeec-6c96",
     "history": [
      {
       "current": "5c090b90-163a-11ee-987e-0242ac110002-1-48e2",
       "next": "5c090c26-163a-11ee-987e-0242ac110002",
       "previous": "5c090afa-163a-11ee-987e-0242ac110002"
      },
      {
       "current": "5c090b90-163a-11ee-987e-0242ac110002-1-48e2",
       "next": "5c090c26-163a-11ee-987e-0242ac110002-1-27cf",
       "previous": "5c090afa-163a-11ee-987e-0242ac110002-1-bb13"
      },
      {
       "current": "5c090b90-163a-11ee-987e-0242ac110002-2-48e2-0d58",
       "next": "5c093516-163a-11ee-987e-0242ac110002-1-cc17",
       "previous": "5c090afa-163a-11ee-987e-0242ac110002-1-bb13"
      },
      {
       "current": "5c090b90-163a-11ee-987e-0242ac110002-3-48e2-0d58-eeec",
       "next": "5c093516-163a-11ee-987e-0242ac110002-2-cc17-5b85",
       "previous": "5c090afa-163a-11ee-987e-0242ac110002-2-bb13-c5f8"
      },
      {
       "current": "5c090b90-163a-11ee-987e-0242ac110002-4-48e2-0d58-eeec-6c96",
       "next": "5c093516-163a-11ee-987e-0242ac110002-3-cc17-5b85-b289",
       "previous": "5c090afa-163a-11ee-987e-0242ac110002-3-bb13-c5f8-5498"
      },
      {
       "current": "5c090b90-163a-11ee-987e-0242ac110002-4-48e2-0d58-eeec-6c96",
       "next": "5c093516-163a-11ee-987e-0242ac110002-4-cc17-5b85-b289-2f13",
       "previous": "5c090afa-163a-11ee-987e-0242ac110002-4-bb13-c5f8-5498-2e34"
      },
      {
       "current": "5c090b90-163a-11ee-987e-0242ac110002-4-48e2-0d58-eeec-6c96",
       "next": null,
       "previous": "5c090afa-163a-11ee-987e-0242ac110002-4-bb13-c5f8-5498-2e34"
      },
      {
       "current": "5c090b90-163a-11ee-987e-0242ac110002-4-48e2-0d58-eeec-6c96",
       "next": "5c090afa-163a-11ee-987e-0242ac110002-5-bb13-c5f8-5498-2e34-9111",
       "previous": "5c090afa-163a-11ee-987e-0242ac110002-4-bb13-c5f8-5498-2e34"
      }
     ],
     "next": "0d2b60f6-923e-11ee-880b-0242ac110002",
     "previous": "5c090afa-163a-11ee-987e-0242ac110002-4-bb13-c5f8-5498-2e34"
    },
    "scrolled": true
   },
   "outputs": [],
   "source": [
    "!ansible {target_hub} -a 'docker service logs {{{{ugroup_name}}}}_proxy'"
   ]
  },
  {
   "cell_type": "markdown",
   "metadata": {
    "lc_cell_meme": {
     "current": "0d2b60f6-923e-11ee-880b-0242ac110002",
     "next": "5c090afa-163a-11ee-987e-0242ac110002-5-bb13-c5f8-5498-2e34-9111",
     "previous": "5c090b90-163a-11ee-987e-0242ac110002-4-48e2-0d58-eeec-6c96"
    }
   },
   "source": [
    "## LMS設定"
   ]
  },
  {
   "cell_type": "markdown",
   "metadata": {
    "lc_cell_meme": {
     "current": "5c090afa-163a-11ee-987e-0242ac110002-5-bb13-c5f8-5498-2e34-9111",
     "history": [
      {
       "current": "5c090afa-163a-11ee-987e-0242ac110002-1-bb13",
       "next": "5c090b90-163a-11ee-987e-0242ac110002",
       "previous": "5c090a5a-163a-11ee-987e-0242ac110002"
      },
      {
       "current": "5c090afa-163a-11ee-987e-0242ac110002-2-bb13-c5f8",
       "next": "5c090b90-163a-11ee-987e-0242ac110002-1-48e2",
       "previous": "5c090a5a-163a-11ee-987e-0242ac110002-1-8021"
      },
      {
       "current": "5c090afa-163a-11ee-987e-0242ac110002-3-bb13-c5f8-5498",
       "next": "5c090b90-163a-11ee-987e-0242ac110002-2-48e2-0d58",
       "previous": "5c090a5a-163a-11ee-987e-0242ac110002-2-8021-add4"
      },
      {
       "current": "5c090afa-163a-11ee-987e-0242ac110002-4-bb13-c5f8-5498-2e34",
       "next": "5c090b90-163a-11ee-987e-0242ac110002-3-48e2-0d58-eeec",
       "previous": "5c090a5a-163a-11ee-987e-0242ac110002-3-8021-add4-013b"
      },
      {
       "current": "5c090afa-163a-11ee-987e-0242ac110002-5-bb13-c5f8-5498-2e34-9111",
       "next": "5c090b90-163a-11ee-987e-0242ac110002-4-48e2-0d58-eeec-6c96",
       "previous": "5c090a5a-163a-11ee-987e-0242ac110002-4-8021-add4-013b-8912"
      },
      {
       "current": "5c090afa-163a-11ee-987e-0242ac110002-5-bb13-c5f8-5498-2e34-9111",
       "next": "692a46f4-8abb-11ee-880b-0242ac110002",
       "previous": "5c090b90-163a-11ee-987e-0242ac110002-4-48e2-0d58-eeec-6c96"
      }
     ],
     "next": "692a46f4-8abb-11ee-880b-0242ac110002",
     "previous": "0d2b60f6-923e-11ee-880b-0242ac110002"
    }
   },
   "source": [
    "LTI認証連携で受講生情報を取得するために必要な公開鍵情報を表示します。  \n",
    "NRPS（Names and Role Provisioning Services）を利用できる場合、表示された公開鍵情報を、事前に設定したMoodleの外部ツール設定にて、RSA鍵の欄にコピー＆ペーストしてください。  \n",
    "設定例について、「021-Moodleの外部ツール設定例（lti1.3&JupyterHub）」ノートブックの「NRPS利用の場合の設定」の章に図解があります。"
   ]
  },
  {
   "cell_type": "code",
   "execution_count": null,
   "metadata": {
    "lc_cell_meme": {
     "current": "692a46f4-8abb-11ee-880b-0242ac110002",
     "next": null,
     "previous": "5c090afa-163a-11ee-987e-0242ac110002-5-bb13-c5f8-5498-2e34-9111"
    }
   },
   "outputs": [],
   "source": [
    "if not get_course_member_method == 'moodle_api':\n",
    "    !ansible {target_hub} -a \\\n",
    "        'cat  {{{{jupyterhub_dir}}}}/jupyterhub/public_key_nrps.pem'"
   ]
  }
 ],
 "metadata": {
  "kernelspec": {
   "display_name": "Python 3",
   "language": "python",
   "name": "python3"
  },
  "language_info": {
   "file_extension": ".py",
   "mimetype": "text/x-python",
   "name": "python",
   "nbconvert_exporter": "python",
   "pygments_lexer": "ipython3",
   "version": "3.10.4"
  },
  "lc_notebook_meme": {
   "current": "5c08ad1c-163a-11ee-987e-0242ac110002",
   "lc_server_signature": {
    "current": {
     "notebook_dir": "/notebooks/notebook",
     "notebook_path": "/work_terayama/yamaguchi-hub/notebooks",
     "server_url": "https://vcc1045.vcp-handson.org/jupyter3/",
     "signature_id": "3c8e5600-416c-11ee-819d-0242ac110002"
    },
    "history": [
     {
      "notebook_dir": "/notebooks/notebook",
      "notebook_path": "/work_terayama/yjupyterhub/notebooks",
      "server_url": "https://vcc1045.vcp-handson.org/jupyter/",
      "signature_id": "d34ea786-a99f-11ec-a8e6-0242ac110002"
     },
     {
      "notebook_dir": "/notebooks/notebook",
      "notebook_path": "/work_terayama/yjupyterhub/work",
      "server_url": "https://vcc1045.vcp-handson.org/jupyter/",
      "signature_id": "d34ea786-a99f-11ec-a8e6-0242ac110002"
     },
     {
      "notebook_dir": "/notebooks/notebook",
      "notebook_path": "/work_terayama/YamaguchiHub/notebooks",
      "server_url": "https://vcc1045.vcp-handson.org/jupyter/",
      "signature_id": "d34ea786-a99f-11ec-a8e6-0242ac110002"
     },
     {
      "notebook_dir": "/notebooks/notebook",
      "notebook_path": "/work_terayama/yamaguchi-hub/notebooks",
      "server_url": "https://vcc1045.vcp-handson.org/jupyter/",
      "signature_id": "d34ea786-a99f-11ec-a8e6-0242ac110002"
     }
    ]
   }
  },
  "toc": {
   "base_numbering": 1,
   "nav_menu": {},
   "number_sections": true,
   "sideBar": true,
   "skip_h1_title": true,
   "title_cell": "Table of Contents",
   "title_sidebar": "Contents",
   "toc_cell": false,
   "toc_position": {
    "height": "calc(100% - 180px)",
    "left": "10px",
    "top": "150px",
    "width": "299.867px"
   },
   "toc_section_display": true,
   "toc_window_display": true
  }
 },
 "nbformat": 4,
 "nbformat_minor": 2
}
