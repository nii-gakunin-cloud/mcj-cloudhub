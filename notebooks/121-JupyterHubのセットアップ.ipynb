{
  "cells": [
    {
      "cell_type": "markdown",
      "metadata": {
        "lc_cell_meme": {
          "current": "5c08b078-163a-11ee-987e-0242ac110002-4-52d6-bf0d-f479-4d43",
          "next": "5c08b168-163a-11ee-987e-0242ac110002-4-957e-1aec-a49d-a0db",
          "previous": null
        }
      },
      "source": [
        "# JupyterHub\u306e\u30bb\u30c3\u30c8\u30a2\u30c3\u30d7\n",
        "\n",
        "---\n",
        "\n",
        "VC\u30ce\u30fc\u30c9\u306bJupyterHub\u74b0\u5883\u3092\u69cb\u7bc9\u3057\u307e\u3059\u3002\n",
        "\n",
        "\u5177\u4f53\u7684\u306b\u306f\u3001Jupyterhub\u30b7\u30b9\u30c6\u30e0\u306e\u69cb\u6210\u8981\u7d20\u3067\u3042\u308b\u3001\u5404Docker\u30b3\u30f3\u30c6\u30ca\u3092\u8d77\u52d5\u3057\u307e\u3059\u3002  \n",
        "\u307e\u305f\u3001single-user notebook server\u30b3\u30f3\u30c6\u30ca\u30a4\u30e1\u30fc\u30b8\u306e\u53d6\u5f97\u30fb\u3082\u3057\u304f\u306f\u4f5c\u6210\u3092\u884c\u3044\u307e\u3059\u3002"
      ]
    },
    {
      "cell_type": "markdown",
      "metadata": {
        "lc_cell_meme": {
          "current": "5c08b168-163a-11ee-987e-0242ac110002-4-957e-1aec-a49d-a0db",
          "next": "5c08b21c-163a-11ee-987e-0242ac110002-4-6bf6-d13d-3dd4-5ece",
          "previous": "5c08b078-163a-11ee-987e-0242ac110002-4-52d6-bf0d-f479-4d43"
        }
      },
      "source": [
        "## \u6982\u8981\n",
        "\n",
        "\u3053\u306eNotebook\u3067\u69cb\u7bc9\u3059\u308bJupyterHub\u306e\u69cb\u6210\u8981\u7d20\u3092\u4ee5\u4e0b\u306b\u793a\u3057\u307e\u3059\u3002\n",
        "\n",
        "![<\u69cb\u6210\u56f3\u8868\u793a\u30a8\u30e9\u30fc>](images/121/arch-121.png)"
      ]
    },
    {
      "cell_type": "markdown",
      "metadata": {
        "lc_cell_meme": {
          "current": "5c08b21c-163a-11ee-987e-0242ac110002-4-6bf6-d13d-3dd4-5ece",
          "next": "5c08b2d0-163a-11ee-987e-0242ac110002-4-c19b-4e25-ec55-0133",
          "previous": "5c08b168-163a-11ee-987e-0242ac110002-4-957e-1aec-a49d-a0db"
        }
      },
      "source": [
        "> \u3053\u306eNotebook\u3067\u69cb\u7bc9\u3059\u308bJupyterHub\u3067\u306fMoodle\u3068\u306e\u9023\u643a\u3092\u524d\u63d0\u3068\u3057\u3066\u3044\u307e\u3059\u3002"
      ]
    },
    {
      "cell_type": "markdown",
      "metadata": {
        "lc_cell_meme": {
          "current": "5c08b2d0-163a-11ee-987e-0242ac110002-4-c19b-4e25-ec55-0133",
          "next": "5c08b370-163a-11ee-987e-0242ac110002-4-97e0-62e0-17a1-75de",
          "previous": "5c08b21c-163a-11ee-987e-0242ac110002-4-6bf6-d13d-3dd4-5ece"
        }
      },
      "source": [
        "### \u4e8b\u524d\u306b\u6e96\u5099\u304c\u5fc5\u8981\u3068\u306a\u308b\u3082\u306e\u306b\u3064\u3044\u3066\n",
        "\n",
        "\u3053\u306eNotebook\u3092\u5b9f\u884c\u3059\u308b\u306b\u3042\u305f\u3063\u3066\u3001\u3042\u3089\u304b\u3058\u3081\u6e96\u5099\u304c\u5fc5\u8981\u3068\u306a\u308b\u3082\u306e\u306b\u3064\u3044\u3066\u4ee5\u4e0b\u306b\u8a18\u3057\u307e\u3059\u3002\n",
        "\n",
        "* VC\u30ce\u30fc\u30c9\u69cb\u7bc9\n",
        "* JupyterHub\u306e\u30b5\u30fc\u30d0\u8a3c\u660e\u66f8\n",
        "    - JupyterHub\u3067\u306fHTTPS\u306b\u3088\u308b\u516c\u958b\u3092\u884c\u3046\u305f\u3081\u30b5\u30fc\u30d0\u8a3c\u660e\u66f8\u3068\u305d\u306e\u79d8\u5bc6\u9375\u3092\u6e96\u5099\u3059\u308b\u5fc5\u8981\u304c\u3042\u308a\u307e\u3059\u3002\n",
        "* \u6a5f\u95a2\u306eLDAP\u30b5\u30fc\u30d0\n",
        "* Moodle\u30b7\u30b9\u30c6\u30e0\n",
        "    - \u672c\u30ce\u30fc\u30c8\u30d6\u30c3\u30af\u3067\u69cb\u7bc9\u3059\u308bJupyterhub\u3068\u3001lti1.3\u3092\u7528\u3044\u305f\u8a8d\u8a3c\u9023\u643a\u304c\u53ef\u80fd\u306a\u5916\u90e8\u30c4\u30fc\u30eb\u8a2d\u5b9a\u3092\u5b8c\u4e86\u3057\u3066\u3044\u308b\u3053\u3068\u3002\uff08\u5916\u90e8\u30c4\u30fc\u30eb\u8a2d\u5b9a\u6642\u306b\u81ea\u52d5\u767a\u884c\u3055\u308c\u308b\u30ad\u30fc\u3092\u672c\u30ce\u30fc\u30c8\u30d6\u30c3\u30af\u4e0a\u3067\u6307\u5b9a\u3059\u308b\u305f\u3081\uff09\n",
        "        - \u672a\u8a2d\u5b9a\u306e\u5834\u5408\u306f\u3001\u5148\u306b\u8a2d\u5b9a\u3092\u884c\u3063\u3066\u304f\u3060\u3055\u3044\u3002\n",
        "        - \u8a2d\u5b9a\u4f8b\u3068\u3057\u3066\u3001\u30ce\u30fc\u30c8\u30d6\u30c3\u30af\u4e00\u89a7\u306e\u300c021-Moodle\u306e\u5916\u90e8\u30c4\u30fc\u30eb\u8a2d\u5b9a\u4f8b\uff08lti1.3&JupyterHub\uff09.ipynb\u300d\u3092\u53c2\u8003\u306b\u3057\u3066\u304f\u3060\u3055\u3044\u3002"
      ]
    },
    {
      "cell_type": "markdown",
      "metadata": {
        "lc_cell_meme": {
          "current": "5c08b370-163a-11ee-987e-0242ac110002-4-97e0-62e0-17a1-75de",
          "next": "5c08b410-163a-11ee-987e-0242ac110002-4-9afc-16ae-68eb-d647",
          "previous": "5c08b2d0-163a-11ee-987e-0242ac110002-4-c19b-4e25-ec55-0133"
        }
      },
      "source": [
        "### UnitGroup\u540d\n",
        "\n",
        "JupyterHub\u306e\u69cb\u7bc9\u74b0\u5883\u3068\u306a\u308bVCP\u306eUnitGroup\u540d\u3092\u6307\u5b9a\u3057\u307e\u3059\u3002"
      ]
    },
    {
      "cell_type": "markdown",
      "metadata": {
        "lc_cell_meme": {
          "current": "5c08b410-163a-11ee-987e-0242ac110002-4-9afc-16ae-68eb-d647",
          "next": "5c08b4b0-163a-11ee-987e-0242ac110002-4-af1f-ff22-91f2-5182",
          "previous": "5c08b370-163a-11ee-987e-0242ac110002-4-97e0-62e0-17a1-75de"
        }
      },
      "source": [
        "VC\u30ce\u30fc\u30c9\u3092\u4f5c\u6210\u6642\u306b\u6307\u5b9a\u3057\u305f\u5024\u3092\u78ba\u8a8d\u3059\u308b\u305f\u3081\u306b `group_vars`\u30d5\u30a1\u30a4\u30eb\u540d\u306e\u4e00\u89a7\u3092\u8868\u793a\u3057\u307e\u3059\u3002"
      ]
    },
    {
      "cell_type": "code",
      "execution_count": null,
      "metadata": {
        "lc_cell_meme": {
          "current": "5c08b4b0-163a-11ee-987e-0242ac110002-4-af1f-ff22-91f2-5182",
          "next": "5c08b550-163a-11ee-987e-0242ac110002-4-bafd-3296-f8de-a6db",
          "previous": "5c08b410-163a-11ee-987e-0242ac110002-4-9afc-16ae-68eb-d647"
        }
      },
      "outputs": [],
      "source": [
        "!ls -1 group_vars/"
      ]
    },
    {
      "cell_type": "markdown",
      "metadata": {
        "lc_cell_meme": {
          "current": "5c08b550-163a-11ee-987e-0242ac110002-4-bafd-3296-f8de-a6db",
          "next": "5c08b5e6-163a-11ee-987e-0242ac110002-4-d9b6-737b-d2c0-d959",
          "previous": "5c08b4b0-163a-11ee-987e-0242ac110002-4-af1f-ff22-91f2-5182"
        }
      },
      "source": [
        "\u4e0a\u306e\u30bb\u30eb\u306e\u51fa\u529b\u7d50\u679c\u3092\u53c2\u8003\u306b\u3057\u3066\u3001UnitGroup\u540d\u3092\u6b21\u306e\u30bb\u30eb\u306b\u6307\u5b9a\u3057\u3066\u304f\u3060\u3055\u3044\u3002"
      ]
    },
    {
      "cell_type": "code",
      "execution_count": null,
      "metadata": {
        "lc_cell_meme": {
          "current": "5c08b5e6-163a-11ee-987e-0242ac110002-4-d9b6-737b-d2c0-d959",
          "next": "5c08b686-163a-11ee-987e-0242ac110002-4-0350-dee2-db57-58c3",
          "previous": "5c08b550-163a-11ee-987e-0242ac110002-4-bafd-3296-f8de-a6db"
        },
        "tags": [
          "vcp:parameters"
        ]
      },
      "outputs": [],
      "source": [
        "# (\u4f8b)\n",
        "# ugroup_name = 'JupyterHub'\n",
        "\n",
        "ugroup_name = "
      ]
    },
    {
      "cell_type": "markdown",
      "metadata": {
        "heading_collapsed": true,
        "lc_cell_meme": {
          "current": "5c08b686-163a-11ee-987e-0242ac110002-4-0350-dee2-db57-58c3",
          "next": "5c08b71c-163a-11ee-987e-0242ac110002-4-fe5e-4ac1-17a6-d94e",
          "previous": "5c08b5e6-163a-11ee-987e-0242ac110002-4-d9b6-737b-d2c0-d959"
        }
      },
      "source": [
        "### \u30c1\u30a7\u30c3\u30af\n",
        "\n",
        "\u5bfe\u8c61\u3068\u306a\u308bVC\u30ce\u30fc\u30c9\u304cAnsible\u306b\u3088\u3063\u3066\u64cd\u4f5c\u3067\u304d\u308b\u3053\u3068\u3092\u78ba\u8a8d\u3057\u307e\u3059\u3002"
      ]
    },
    {
      "cell_type": "markdown",
      "metadata": {
        "hidden": true,
        "lc_cell_meme": {
          "current": "5c08b71c-163a-11ee-987e-0242ac110002-4-fe5e-4ac1-17a6-d94e",
          "next": "5c08b7bc-163a-11ee-987e-0242ac110002-4-e9fd-5231-cef3-f117",
          "previous": "5c08b686-163a-11ee-987e-0242ac110002-4-0350-dee2-db57-58c3"
        }
      },
      "source": [
        "Ansible\u306e\u8a2d\u5b9a\u30d5\u30a1\u30a4\u30eb\u306e\u5834\u6240\u3092\u74b0\u5883\u5909\u6570\u306b\u8a2d\u5b9a\u3057\u3066\u304a\u304d\u307e\u3059\u3002"
      ]
    },
    {
      "cell_type": "code",
      "execution_count": null,
      "metadata": {
        "hidden": true,
        "lc_cell_meme": {
          "current": "5c08b7bc-163a-11ee-987e-0242ac110002-4-e9fd-5231-cef3-f117",
          "next": "5c08b852-163a-11ee-987e-0242ac110002-4-cb5f-92f8-8575-e928",
          "previous": "5c08b71c-163a-11ee-987e-0242ac110002-4-fe5e-4ac1-17a6-d94e"
        }
      },
      "outputs": [],
      "source": [
        "from pathlib import Path\n",
        "import os\n",
        "\n",
        "cfg_ansible = Path('ansible.cfg')\n",
        "if cfg_ansible.exists():\n",
        "    os.environ['ANSIBLE_CONFIG'] = str(cfg_ansible.resolve())"
      ]
    },
    {
      "cell_type": "markdown",
      "metadata": {
        "hidden": true,
        "lc_cell_meme": {
          "current": "5c08b852-163a-11ee-987e-0242ac110002-4-cb5f-92f8-8575-e928",
          "next": "5c08b8e8-163a-11ee-987e-0242ac110002-4-1d7d-0fc4-ee3b-1a16",
          "previous": "5c08b7bc-163a-11ee-987e-0242ac110002-4-e9fd-5231-cef3-f117"
        }
      },
      "source": [
        "\u69cb\u7bc9\u5bfe\u8c61\u3068\u306a\u308b\u5404VC\u30ce\u30fc\u30c9\u306b\u30a2\u30af\u30bb\u30b9\u3067\u304d\u308b\u3053\u3068\u3092\u78ba\u8a8d\u3057\u307e\u3059\u3002"
      ]
    },
    {
      "cell_type": "code",
      "execution_count": null,
      "metadata": {
        "hidden": true,
        "lc_cell_meme": {
          "current": "5c08b8e8-163a-11ee-987e-0242ac110002-4-1d7d-0fc4-ee3b-1a16",
          "next": "5c08b97e-163a-11ee-987e-0242ac110002-4-c7cb-3690-1385-062f",
          "previous": "5c08b852-163a-11ee-987e-0242ac110002-4-cb5f-92f8-8575-e928"
        },
        "pinned_outputs": []
      },
      "outputs": [],
      "source": [
        "target_hub = f'{ugroup_name}_manager'\n",
        "\n",
        "!ansible {target_hub} -m ping"
      ]
    },
    {
      "cell_type": "code",
      "execution_count": null,
      "metadata": {
        "hidden": true,
        "lc_cell_meme": {
          "current": "5c08b97e-163a-11ee-987e-0242ac110002-4-c7cb-3690-1385-062f",
          "next": "5c08ba14-163a-11ee-987e-0242ac110002-4-e52c-ab56-9a0a-6008",
          "previous": "5c08b8e8-163a-11ee-987e-0242ac110002-4-1d7d-0fc4-ee3b-1a16"
        },
        "pinned_outputs": []
      },
      "outputs": [],
      "source": [
        "target_nodes = f'{ugroup_name}_worker'\n",
        "\n",
        "!ansible {target_nodes} -m ping"
      ]
    },
    {
      "cell_type": "markdown",
      "metadata": {
        "hidden": true,
        "lc_cell_meme": {
          "current": "5c08ba14-163a-11ee-987e-0242ac110002-4-e52c-ab56-9a0a-6008",
          "next": "5c08bad2-163a-11ee-987e-0242ac110002-4-4a7f-1e47-5aae-2a6b",
          "previous": "5c08b97e-163a-11ee-987e-0242ac110002-4-c7cb-3690-1385-062f"
        }
      },
      "source": [
        "UnitGroup\u540d\u306b\u5bfe\u5fdc\u3059\u308b group_vars\u30d5\u30a1\u30a4\u30eb\u304c\u5b58\u5728\u3057\u3066\u3044\u308b\u3053\u3068\u3092\u78ba\u8a8d\u3057\u307e\u3059\u3002"
      ]
    },
    {
      "cell_type": "code",
      "execution_count": null,
      "metadata": {
        "hidden": true,
        "lc_cell_meme": {
          "current": "5c08bad2-163a-11ee-987e-0242ac110002-4-4a7f-1e47-5aae-2a6b",
          "next": "5c08bb72-163a-11ee-987e-0242ac110002-4-689c-5659-168a-1fe5",
          "previous": "5c08ba14-163a-11ee-987e-0242ac110002-4-e52c-ab56-9a0a-6008"
        }
      },
      "outputs": [],
      "source": [
        "!test -f group_vars/{ugroup_name}"
      ]
    },
    {
      "cell_type": "markdown",
      "metadata": {
        "lc_cell_meme": {
          "current": "5c08bb72-163a-11ee-987e-0242ac110002-4-689c-5659-168a-1fe5",
          "next": "5c08cce8-163a-11ee-987e-0242ac110002-4-32bc-eacd-f1a3-d448",
          "previous": "5c08bad2-163a-11ee-987e-0242ac110002-4-4a7f-1e47-5aae-2a6b"
        }
      },
      "source": [
        "## \u30d1\u30e9\u30e1\u30fc\u30bf\u306e\u8a2d\u5b9a\n",
        "\n",
        "JupyterHub\u30b7\u30b9\u30c6\u30e0\u306b\u95a2\u3059\u308b\u5404\u7a2e\u8a2d\u5b9a\u9805\u76ee\u3092\u6307\u5b9a\u3057\u307e\u3059\u3002\n",
        "\n",
        "\u3053\u3053\u3067\u8a2d\u5b9a\u3055\u308c\u305f\u9805\u76ee\u306fansible\u5909\u6570\u3068\u3057\u3066\u4fdd\u5b58\u3055\u308c\u3001\u30d5\u30a1\u30a4\u30eb\u306emanager\u30ce\u30fc\u30c9\u3078\u306e\u914d\u7f6e\u6642\u306b\u5404\u30d5\u30a1\u30a4\u30eb\u306b\u53cd\u6620\u3055\u308c\u307e\u3059\u3002"
      ]
    },
    {
      "cell_type": "markdown",
      "metadata": {
        "lc_cell_meme": {
          "current": "5c08cce8-163a-11ee-987e-0242ac110002-4-32bc-eacd-f1a3-d448",
          "next": "259a9e24-3026-11ee-b73e-0242ac110003-3-b59f-c613-7092",
          "previous": "5c08bb72-163a-11ee-987e-0242ac110002-4-689c-5659-168a-1fe5"
        }
      },
      "source": [
        "### \u5fc5\u9808\u8a2d\u5b9a\u9805\u76ee"
      ]
    },
    {
      "cell_type": "markdown",
      "metadata": {
        "lc_cell_meme": {
          "current": "259a9e24-3026-11ee-b73e-0242ac110003-3-b59f-c613-7092",
          "execution_end_time": "2023-08-01T04:44:40.231338Z",
          "next": "3c7de47c-27aa-11ee-987e-0242ac110002-3-0b37-c91b-7900",
          "previous": "5c08cce8-163a-11ee-987e-0242ac110002-4-32bc-eacd-f1a3-d448"
        }
      },
      "source": [
        "#### \u30d1\u30e9\u30e1\u30fc\u30bf\u985e"
      ]
    },
    {
      "cell_type": "code",
      "execution_count": null,
      "metadata": {
        "lc_cell_meme": {
          "current": "3c7de47c-27aa-11ee-987e-0242ac110002-3-0b37-c91b-7900",
          "next": "5c08cce8-163a-11ee-987e-0242ac110002-5-32bc-eacd-f1a3-9b13-808e",
          "previous": "259a9e24-3026-11ee-b73e-0242ac110003-3-b59f-c613-7092"
        }
      },
      "outputs": [],
      "source": [
        "# JupyterHub\u306e\u30db\u30b9\u30c8\u540d(FQDN) (\u4f8b) 'www.sample.org'\n",
        "jupyterhub_fqdn = \n",
        "\n",
        "# lti1.3\u8a8d\u8a3c\u9023\u643a\u60c5\u5831(moodle\u7b49)\n",
        "# lms \u30d7\u30e9\u30c3\u30c8\u30d5\u30a9\u30fc\u30e0ID (\u4f8b) 'www.sample.org'\n",
        "lms_platform_id = \n",
        "# lms \u30af\u30e9\u30a4\u30a2\u30f3\u30c8ID \n",
        "lms_cliend_id = \n"
      ]
    },
    {
      "cell_type": "markdown",
      "metadata": {},
      "source": [
        "\u53d7\u8b1b\u751f\u4e00\u89a7\u53d6\u5f97\u65b9\u6cd5\u3092\u8a2d\u5b9a\u3057\u307e\u3059\u3002  \n",
        "Moodle\u306e\u30d0\u30fc\u30b8\u30e7\u30f3\u304c4.0.0\u4ee5\u4e0a\u3067\u3042\u308c\u3070\u3001\u4ee5\u4e0b\u306e\u30bb\u30eb\u3092\u5909\u66f4\u3059\u308b\u5fc5\u8981\u306f\u3042\u308a\u307e\u305b\u3093\u3002  \n",
        "Moodle\u306e\u30d0\u30fc\u30b8\u30e7\u30f3\u304c4.0.0\u672a\u6e80\u3067\u3001NRPS\uff08Names and Role Provisioning Services\uff09\u3092\u5229\u7528\u3067\u304d\u306a\u3044\u5834\u5408\u306b\u3001moodle\u306ewebservice\u3092\u5229\u7528\u3057\u307e\u3059\u3002\uff08https://tracker.moodle.org/browse/MDL-75279\uff09\n",
        "\u305d\u306e\u5834\u5408\u3001`get_course_member_method`\u306b\u306f`'moodle_api'`\u3092\u6307\u5b9a\u3057\u3001Moodle\u3067\u767a\u884c\u3057\u305f\u30c8\u30fc\u30af\u30f3\u3092`lms_api_token`\u306b\u6307\u5b9a\u3057\u3066\u304f\u3060\u3055\u3044\u3002"
      ]
    },
    {
      "cell_type": "code",
      "execution_count": null,
      "metadata": {},
      "outputs": [],
      "source": [
        "# get_course_member_method = 'moodle_api'\n",
        "get_course_member_method = ''\n",
        "lms_api_token = ''"
      ]
    },
    {
      "cell_type": "markdown",
      "metadata": {},
      "source": [
        "[configurable-http-proxy](https://github.com/jupyterhub/configurable-http-proxy)\u3067\u4f7f\u7528\u3059\u308b\u30c8\u30fc\u30af\u30f3\u3092\u751f\u6210\u3057\u307e\u3059\u3002"
      ]
    },
    {
      "cell_type": "code",
      "execution_count": null,
      "metadata": {},
      "outputs": [],
      "source": [
        "import random\n",
        "import string\n",
        "configproxy_auth_token = ''.join([random.choice(\"abcdef\" + string.digits) for _ in range(32)])\n",
        "configproxy_auth_token"
      ]
    },
    {
      "cell_type": "markdown",
      "metadata": {
        "lc_cell_meme": {
          "current": "5c08cce8-163a-11ee-987e-0242ac110002-5-32bc-eacd-f1a3-9b13-808e",
          "next": "d4200fc0-3d77-11ee-b73e-0242ac110003-1-a0ae",
          "previous": "3c7de47c-27aa-11ee-987e-0242ac110002-3-0b37-c91b-7900"
        }
      },
      "source": [
        "### \u4efb\u610f\u8a2d\u5b9a\u9805\u76ee"
      ]
    },
    {
      "cell_type": "markdown",
      "metadata": {
        "lc_cell_meme": {
          "current": "d4200fc0-3d77-11ee-b73e-0242ac110003-1-a0ae",
          "next": "d4201182-3d77-11ee-b73e-0242ac110003-1-d3b8",
          "previous": "5c08cce8-163a-11ee-987e-0242ac110002-5-32bc-eacd-f1a3-9b13-808e"
        }
      },
      "source": [
        "#### \u8a2d\u5b9a\u7528\u30d5\u30a1\u30a4\u30eb\u914d\u7f6e\n",
        "\n",
        "\u30c6\u30f3\u30d7\u30ec\u30fc\u30c8\u3068\u3057\u3066\u4e8b\u524d\u6e96\u5099\u3057\u305f\u30d5\u30a1\u30a4\u30eb\u3092\u3001\u73fe\u5728\u4f7f\u7528\u3057\u3066\u3044\u308b\u69cb\u7bc9\u7528\u30ef\u30fc\u30af\u30c7\u30a3\u30ec\u30af\u30c8\u30ea\u306b\u30b3\u30d4\u30fc\u3057\u307e\u3059\u3002"
      ]
    },
    {
      "cell_type": "code",
      "execution_count": null,
      "metadata": {
        "lc_cell_meme": {
          "current": "d4201182-3d77-11ee-b73e-0242ac110003-1-d3b8",
          "next": "75f8440e-3687-11ee-b73e-0242ac110003-1-615e",
          "previous": "d4200fc0-3d77-11ee-b73e-0242ac110003-1-a0ae"
        }
      },
      "outputs": [],
      "source": [
        "!mkdir -p edit\n",
        "!cp -n ./template/jupyterhub/jupyterhub/lms_web_service.py ./edit/\n",
        "!cp -n ./template/jupyterhub/jupyterhub/jupyterhub_config.py ./edit/\n",
        "!cp -n ./template/jupyterhub/jupyterhub/jupyterhub_params.yaml ./edit/"
      ]
    },
    {
      "cell_type": "markdown",
      "metadata": {
        "lc_cell_meme": {
          "current": "259a9e24-3026-11ee-b73e-0242ac110003-4-f5f3-8a97-576d-cd43",
          "execution_end_time": "2023-08-01T04:44:40.231338Z",
          "next": "5c08ce1e-163a-11ee-987e-0242ac110002-4-3bb7-a01e-e4a1-0348",
          "previous": "75f846de-3687-11ee-b73e-0242ac110003-1-e274"
        }
      },
      "source": [
        "#### \u30d1\u30e9\u30e1\u30fc\u30bf\u985e\n",
        "\n",
        "jupyterhub\u3067\u4f7f\u7528\u3059\u308bDB\u7b49\u306e\u63a5\u7d9a\u60c5\u5831\u7b49\u3092\u8a2d\u5b9a\u3057\u307e\u3059\u3002"
      ]
    },
    {
      "cell_type": "code",
      "execution_count": null,
      "metadata": {
        "lc_cell_meme": {
          "current": "5c08ce1e-163a-11ee-987e-0242ac110002-4-3bb7-a01e-e4a1-0348",
          "next": "4494aabe-3d77-11ee-b73e-0242ac110003-1-09c0",
          "previous": "259a9e24-3026-11ee-b73e-0242ac110003-4-f5f3-8a97-576d-cd43"
        },
        "pinned_outputs": []
      },
      "outputs": [],
      "source": [
        "# \u30e1\u30fc\u30eb\u30a2\u30c9\u30ec\u30b9\u30c9\u30e1\u30a4\u30f3\u8a2d\u5b9a\n",
        "email_domain = 'example.com'\n",
        "\n",
        "# JupyterhubDB\u63a5\u7d9a\u60c5\u5831\n",
        "db_user = 'jupyter'\n",
        "db_password = 'PassWordDesu'\n",
        "\n",
        "# Jupyterhub\u7528LDAP\u30b5\u30fc\u30d0\uff08\u30ed\u30fc\u30ab\u30ebLDAP\uff09\n",
        "ldap_admin = 'Manager'\n",
        "ldap_password = 'PassWordDesu'\n",
        "\n",
        "# Jupyterhub \u521d\u671f\u8a2d\u5b9a\n",
        "jupyterhub_admin_users = ['admin']\n",
        "\n",
        "# single-user notebook server \u30b3\u30f3\u30c6\u30ca\u30a4\u30e1\u30fc\u30b8\n",
        "singleuser_image = 'mcj-cloudhub-nb:latest'\n",
        "\n",
        "# \u5171\u6709\u30c7\u30a3\u30ec\u30af\u30c8\u30ea\u30d1\u30b9\n",
        "home_directory_root = '/jupyter'\n",
        "share_directory_root = '/exchange'\n",
        "\n",
        "# docker\u30cd\u30c3\u30c8\u30ef\u30fc\u30af\n",
        "swarm_network = 'jupyterhub-network'\n",
        "\n",
        "# \u30e6\u30fc\u30b6\u3092\u4e00\u610f\u306b\u8b58\u5225\u3059\u308b\u30ad\u30fc\n",
        "lti_username_key = 'sub'\n",
        "\n",
        "# \u30e6\u30fc\u30b6\u306ecookie\u306e\u6709\u52b9\u65e5\u6570(0.25\u65e5=6\u6642\u9593)\n",
        "cookie_max_age_days = 0.25\n",
        "\n",
        "# Jupyterhub\u30b3\u30f3\u30c6\u30ca\u30a4\u30e1\u30fc\u30b8\n",
        "jupyterhub_image = 'mcj-cloudhub:latest'\n",
        "\n",
        "# single-user notebook server \u30b3\u30f3\u30c6\u30ca\u3092Docker Swarm\u306e\u3069\u306e\u30ce\u30fc\u30c9\u3067\u8d77\u52d5\u3059\u308b\u304b\n",
        "# node_role = 'manager'\n",
        "node_role = 'worker'\n"
      ]
    },
    {
      "cell_type": "markdown",
      "metadata": {},
      "source": [
        "single-user notebook server\u30b3\u30f3\u30c6\u30ca\u306e\u30ea\u30bd\u30fc\u30b9\u5236\u9650\u7b49\u3092\u8a2d\u5b9a\u3057\u307e\u3059\u3002  \n",
        "\u5909\u66f4\u3059\u308b\u5834\u5408\u3001\u4ee5\u4e0b\u306e\u5185\u5bb9\u3092\u66f8\u304d\u63db\u3048\u3066\u304f\u3060\u3055\u3044\u3002  \n",
        "\n",
        "[\u53c2\u8003: DockerSpawner API](https://jupyterhub-dockerspawner.readthedocs.io/en/latest/api/index.html)\n",
        "\n",
        "\u307e\u305f\u3001idle\u72b6\u614b\u306esingle-user notebook server\u30b3\u30f3\u30c6\u30ca\u3092\u5b9a\u671f\u7684\u306b\u30b7\u30e3\u30c3\u30c8\u30c0\u30a6\u30f3\u3059\u308b\u30b5\u30fc\u30d3\u30b9\u3092\u7a3c\u50cd\u3055\u305b\u308b\u305f\u3081\u3001idle\u72b6\u614b\u3067\u306e\u30bf\u30a4\u30e0\u30a2\u30a6\u30c8\u306e\u6642\u9593\u8a2d\u5b9a\u3092\u5909\u66f4\u3059\u308b\u5834\u5408\u3082\u3053\u3061\u3089\u3067\u884c\u3063\u3066\u304f\u3060\u3055\u3044\u3002\u30c7\u30d5\u30a9\u30eb\u30c8\u3067\u306f\u30011\u5206\u306b1\u56de\u3001idle\u72b6\u614b\u304b\u3069\u3046\u304b\u306e\u30c1\u30a7\u30c3\u30af\u3092\u884c\u3044\u3001600\u79d2\uff1d10\u5206\u9593idle\u72b6\u614b\u304c\u7d9a\u3044\u3066\u3044\u308b\u30b3\u30f3\u30c6\u30ca\u306f\u30b7\u30e3\u30c3\u30c8\u30c0\u30a6\u30f3\u3059\u308b\u3088\u3046\u306b\u8a2d\u5b9a\u3057\u3066\u3044\u307e\u3059\u3002  \n",
        "idle\u72b6\u614b\u306e\u30b3\u30f3\u30c6\u30ca\u3082\u8d77\u52d5\u3057\u305f\u307e\u307e\u306b\u3057\u305f\u3044\u5834\u5408\u3001`cull_server_timeout`\u306e\u5024\u30920\u306b\u8a2d\u5b9a\u3057\u3066\u304f\u3060\u3055\u3044\u3002  \n",
        "\n",
        "[\u53c2\u8003: jupyterhub-idle-culler](https://github.com/jupyterhub/jupyterhub-idle-culler)"
      ]
    },
    {
      "cell_type": "code",
      "execution_count": null,
      "metadata": {},
      "outputs": [],
      "source": [
        "import yaml\n",
        "from pathlib import Path\n",
        "\n",
        "path = Path('edit/jupyterhub_params.yaml')\n",
        "with path.open() as f:\n",
        "    params = yaml.safe_load(f)\n",
        "\n",
        "params.update({\n",
        "    'resource': {\n",
        "        'groups': {\n",
        "            'student': {\n",
        "                'mem_limit': '1G',\n",
        "                'cpu_limit': 0.5,\n",
        "                'mem_guarantee': 0,\n",
        "                'cpu_guarantee': 0,\n",
        "            },\n",
        "            'teacher': {\n",
        "                'mem_limit': '1G',\n",
        "                'cpu_limit': 1.0,\n",
        "                'mem_guarantee': 0,\n",
        "                'cpu_guarantee': 0,\n",
        "            },\n",
        "        },\n",
        "    },\n",
        "    'cull_server': {\n",
        "        'cull_server_timeout': 600,\n",
        "        'cull_server_every': 60,\n",
        "        'cull_server_max_age': 0,\n",
        "    },\n",
        "})\n",
        "\n",
        "with path.open(mode='w') as f:\n",
        "    yaml.safe_dump(params, stream=f)"
      ]
    },
    {
      "cell_type": "markdown",
      "metadata": {
        "lc_cell_meme": {
          "current": "4494aabe-3d77-11ee-b73e-0242ac110003-1-09c0",
          "next": "4494ad98-3d77-11ee-b73e-0242ac110003-1-b860",
          "previous": "5c08ce1e-163a-11ee-987e-0242ac110002-4-3bb7-a01e-e4a1-0348"
        }
      },
      "source": [
        "#### \u305d\u306e\u4ed6Jupyterhub\u3067\u8a2d\u5b9a\u53ef\u80fd\u306a\u9805\u76ee\n",
        "\n",
        "\u305d\u306e\u4ed6\u3001Jupyterhub\u3067\u8a2d\u5b9a\u53ef\u80fd\u306a\u9805\u76ee\u306f\u3001[Jupyterhub\u516c\u5f0f\u30c9\u30ad\u30e5\u30e1\u30f3\u30c8](https://jupyterhub.readthedocs.io/en/1.4.2/reference/config-reference.html)\u7b49\u3092\u53c2\u7167\u3057\u3001`jupyterhub_config.py`\u3092\u76f4\u63a5\u7de8\u96c6\u3057\u3066\u304f\u3060\u3055\u3044\u3002\n",
        "\n",
        "\u4ee5\u4e0b\u306e\u30bb\u30eb\u3092\u5b9f\u884c\u3059\u308b\u3068\u3001\u7de8\u96c6\u5bfe\u8c61\u306e`jupyterhub_config.py`\u306e\u7de8\u96c6\u753b\u9762\u3078\u306e\u30ea\u30f3\u30af\u3092\u8868\u793a\u3057\u307e\u3059\u3002"
      ]
    },
    {
      "cell_type": "code",
      "execution_count": null,
      "metadata": {
        "lc_cell_meme": {
          "current": "4494ad98-3d77-11ee-b73e-0242ac110003-1-b860",
          "next": "5c08d18e-163a-11ee-987e-0242ac110002-4-16f7-fe99-d203-4a39",
          "previous": "4494aabe-3d77-11ee-b73e-0242ac110003-1-09c0"
        }
      },
      "outputs": [],
      "source": [
        "%run scripts/edit_conf.py\n",
        "generate_edit_link_config()"
      ]
    },
    {
      "cell_type": "markdown",
      "metadata": {
        "heading_collapsed": true,
        "lc_cell_meme": {
          "current": "5c08d18e-163a-11ee-987e-0242ac110002-4-16f7-fe99-d203-4a39",
          "next": "5c08d22e-163a-11ee-987e-0242ac110002-4-8b1a-4c2b-f611-c972",
          "previous": "4494ad98-3d77-11ee-b73e-0242ac110003-1-b860"
        }
      },
      "source": [
        "### \u30aa\u30fc\u30d0\u30fc\u30ec\u30a4\u30cd\u30c3\u30c8\u30ef\u30fc\u30af\u306e\u6307\u5b9a"
      ]
    },
    {
      "cell_type": "markdown",
      "metadata": {
        "hidden": true,
        "lc_cell_meme": {
          "current": "5c08d22e-163a-11ee-987e-0242ac110002-4-8b1a-4c2b-f611-c972",
          "next": "5c08d2c4-163a-11ee-987e-0242ac110002-4-3a36-836b-972a-e8c8",
          "previous": "5c08d18e-163a-11ee-987e-0242ac110002-4-16f7-fe99-d203-4a39"
        }
      },
      "source": [
        "JupyterhubHub\u306e\u30b3\u30f3\u30c6\u30ca\u306fDocker Swarm\u306e\u30aa\u30fc\u30d0\u30fc\u30ec\u30a4\u30cd\u30c3\u30c8\u30ef\u30fc\u30af\u3067\u5b9f\u884c\u3055\u308c\u307e\u3059\u3002\u30aa\u30fc\u30d0\u30fc\u30ec\u30a4\u30cd\u30c3\u30c8\u30ef\u30fc\u30af\u306b\u5272\u308a\u5f53\u3066\u308b\u30b5\u30d6\u30cd\u30c3\u30c8\u3092\u6307\u5b9a\u3057\u307e\u3059\u3002\n",
        "\n",
        "> \u57fa\u672c\u7684\u306b\u306f\u30c7\u30d5\u30a9\u30eb\u30c8\u5024\u304b\u3089\u306e\u5909\u66f4\u306f\u4e0d\u8981\u3067\u3059\u304c\u3001VC\u30ce\u30fc\u30c9\u306b\u5272\u308a\u5f53\u3066\u3089\u308c\u3066\u3044\u308bIP\u30a2\u30c9\u30ec\u30b9\u3068\u7bc4\u56f2\u304c\u91cd\u8907\u3057\u3066\u3044\u308b\u5834\u5408\u306f\u4ed6\u306e\u30b5\u30d6\u30cd\u30c3\u30c8\u306b\u5909\u66f4\u3057\u3066\u4e0b\u3055\u3044\u3002"
      ]
    },
    {
      "cell_type": "code",
      "execution_count": null,
      "metadata": {
        "hidden": true,
        "lc_cell_meme": {
          "current": "5c08d2c4-163a-11ee-987e-0242ac110002-4-3a36-836b-972a-e8c8",
          "next": "5c08d364-163a-11ee-987e-0242ac110002-4-7eb5-ac27-71a4-57f0",
          "previous": "5c08d22e-163a-11ee-987e-0242ac110002-4-8b1a-4c2b-f611-c972"
        }
      },
      "outputs": [],
      "source": [
        "# (\u4f8b)\n",
        "# jupyterhub_backend = '10.1.0.0/20'\n",
        "\n",
        "jupyterhub_backend = '10.1.0.0/20'"
      ]
    },
    {
      "cell_type": "markdown",
      "metadata": {
        "hidden": true,
        "lc_cell_meme": {
          "current": "5c08d364-163a-11ee-987e-0242ac110002-4-7eb5-ac27-71a4-57f0",
          "next": "5c08d3fa-163a-11ee-987e-0242ac110002-4-4dde-06d0-b0cd-911f",
          "previous": "5c08d2c4-163a-11ee-987e-0242ac110002-4-3a36-836b-972a-e8c8"
        }
      },
      "source": [
        "\u6307\u5b9a\u3055\u308c\u305f\u30b5\u30d6\u30cd\u30c3\u30c8\u304cVC\u30ce\u30fc\u30c9\u306b\u5272\u308a\u5f53\u3066\u3089\u308c\u3066\u3044\u308bIP\u30a2\u30c9\u30ec\u30b9\u3068\u91cd\u306a\u3063\u3066\u3044\u306a\u3044\u3053\u3068\u3092\u30c1\u30a7\u30c3\u30af\u3057\u307e\u3059\u3002\u6b21\u306e\u30bb\u30eb\u3092\u5b9f\u884c\u3057\u3066\u30a8\u30e9\u30fc\u3068\u306a\u3089\u306a\u3044\u3053\u3068\u3092\u78ba\u8a8d\u3057\u3066\u304f\u3060\u3055\u3044\u3002"
      ]
    },
    {
      "cell_type": "code",
      "execution_count": null,
      "metadata": {
        "hidden": true,
        "lc_cell_meme": {
          "current": "5c08d3fa-163a-11ee-987e-0242ac110002-4-4dde-06d0-b0cd-911f",
          "next": "5c08d49a-163a-11ee-987e-0242ac110002-4-b3a9-203e-e5d2-122f",
          "previous": "5c08d364-163a-11ee-987e-0242ac110002-4-7eb5-ac27-71a4-57f0"
        },
        "scrolled": true
      },
      "outputs": [],
      "source": [
        "!ansible-playbook -v -e jupyterhub_backend={jupyterhub_backend} -l {ugroup_name} \\\n",
        "    playbooks/check-subnet.yml"
      ]
    },
    {
      "cell_type": "markdown",
      "metadata": {
        "heading_collapsed": true,
        "lc_cell_meme": {
          "current": "5c08d49a-163a-11ee-987e-0242ac110002-4-b3a9-203e-e5d2-122f",
          "next": "5c08d530-163a-11ee-987e-0242ac110002-4-43c0-3f72-0bbf-93b2",
          "previous": "5c08d3fa-163a-11ee-987e-0242ac110002-4-4dde-06d0-b0cd-911f"
        }
      },
      "source": [
        "### \u30d1\u30e9\u30e1\u30fc\u30bf\u306e\u4fdd\u5b58\n",
        "\n",
        "\u3053\u3053\u307e\u3067\u6307\u5b9a\u3057\u305f\u30d1\u30e9\u30e1\u30fc\u30bf\u3092 ansible \u306e\u5909\u6570\u3068\u3057\u3066 `group_vars`\u30d5\u30a1\u30a4\u30eb\u306b\u4fdd\u5b58\u3057\u307e\u3059\u3002"
      ]
    },
    {
      "cell_type": "code",
      "execution_count": null,
      "metadata": {
        "hidden": true,
        "lc_cell_meme": {
          "current": "5c08d530-163a-11ee-987e-0242ac110002-4-43c0-3f72-0bbf-93b2",
          "next": "5c08d5c6-163a-11ee-987e-0242ac110002-4-aeed-fe11-ec02-95d4",
          "previous": "5c08d49a-163a-11ee-987e-0242ac110002-4-b3a9-203e-e5d2-122f"
        }
      },
      "outputs": [],
      "source": [
        "import yaml\n",
        "from pathlib import Path\n",
        "\n",
        "gvars_path = Path(f'group_vars/{ugroup_name}')\n",
        "with gvars_path.open() as f:\n",
        "    gvars = yaml.safe_load(f)\n",
        "\n",
        "gvars.update({\n",
        "    'swarm_network': swarm_network,\n",
        "    'jupyterhub_backend': jupyterhub_backend,\n",
        "    'jupyterhub_fqdn': jupyterhub_fqdn,\n",
        "    'db_user': db_user,\n",
        "    'db_password': db_password,\n",
        "    'email_domain': email_domain,\n",
        "    'jupyterhub_admin_users': jupyterhub_admin_users,\n",
        "    'lms_platform_id': lms_platform_id,\n",
        "    'lms_cliend_id': lms_cliend_id,\n",
        "    'lms_api_token': lms_api_token if 'lms_api_token' in locals() else '',\n",
        "    'get_course_member_method': get_course_member_method if 'get_course_member_method' in locals() else '',\n",
        "    'singleuser_image': singleuser_image,\n",
        "    'singleuser_image_no_tag': singleuser_image.split(':')[0],\n",
        "    'ldap_password': ldap_password,\n",
        "    'ldap_admin': ldap_admin,\n",
        "    'home_directory_root': home_directory_root,\n",
        "    'share_directory_root': share_directory_root,\n",
        "    'lti_username_key': lti_username_key,\n",
        "    'cookie_max_age_days': cookie_max_age_days,\n",
        "    'configproxy_auth_token': configproxy_auth_token,\n",
        "    'jupyterhub_image': jupyterhub_image,\n",
        "    'node_role': node_role,\n",
        "    'ldap_admin': ldap_admin,\n",
        "})\n",
        "\n",
        "with gvars_path.open(mode='w') as f:\n",
        "    yaml.safe_dump(gvars, stream=f)"
      ]
    },
    {
      "cell_type": "markdown",
      "metadata": {
        "lc_cell_meme": {
          "current": "5c08d5c6-163a-11ee-987e-0242ac110002-4-aeed-fe11-ec02-95d4",
          "next": "5c08d65c-163a-11ee-987e-0242ac110002-4-9bb8-43a3-e963-852e",
          "previous": "5c08d530-163a-11ee-987e-0242ac110002-4-43c0-3f72-0bbf-93b2"
        }
      },
      "source": [
        "## JupyterHub\u306e\u30bb\u30c3\u30c8\u30a2\u30c3\u30d7\n",
        "\n",
        "JupyterHub\u306e\u69cb\u6210\u8981\u7d20\u3068\u306a\u308b\u3001\u5404\u30b3\u30f3\u30c6\u30ca\u306e\u30bb\u30c3\u30c8\u30a2\u30c3\u30d7\u3092\u884c\u3044\u307e\u3059\u3002"
      ]
    },
    {
      "cell_type": "markdown",
      "metadata": {
        "lc_cell_meme": {
          "current": "5c08d65c-163a-11ee-987e-0242ac110002-4-9bb8-43a3-e963-852e",
          "next": "5c08d6f2-163a-11ee-987e-0242ac110002-4-2f6e-411a-8d29-c252",
          "previous": "5c08d5c6-163a-11ee-987e-0242ac110002-4-aeed-fe11-ec02-95d4"
        }
      },
      "source": [
        "### Nginx\n",
        "\n",
        "Manager\u30ce\u30fc\u30c9\u306b\u69cb\u7bc9\u3059\u308b\u3001Nginx \u30b3\u30f3\u30c6\u30ca\u306b\u95a2\u3059\u308b\u30bb\u30c3\u30c8\u30a2\u30c3\u30d7\u3092\u884c\u3044\u307e\u3059\u3002"
      ]
    },
    {
      "cell_type": "markdown",
      "metadata": {
        "lc_cell_meme": {
          "current": "5c08d6f2-163a-11ee-987e-0242ac110002-4-2f6e-411a-8d29-c252",
          "next": "5c08d788-163a-11ee-987e-0242ac110002-4-a015-4ed1-f631-68d8",
          "previous": "5c08d65c-163a-11ee-987e-0242ac110002-4-9bb8-43a3-e963-852e"
        }
      },
      "source": [
        "#### \u8a3c\u660e\u66f8\u306e\u914d\u7f6e\n",
        "\n",
        "Nginx\u30b3\u30f3\u30c6\u30ca\u3067\u4f7f\u7528\u3059\u308b\u30b5\u30fc\u30d0\u8a3c\u660e\u66f8\u306e\u914d\u7f6e\u3092\u78ba\u8a8d\u3057\u307e\u3059\u3002"
      ]
    },
    {
      "cell_type": "markdown",
      "metadata": {
        "lc_cell_meme": {
          "current": "5c08d788-163a-11ee-987e-0242ac110002-4-a015-4ed1-f631-68d8",
          "next": "5c08d81e-163a-11ee-987e-0242ac110002-4-c2f3-4114-cfb4-85db",
          "previous": "5c08d6f2-163a-11ee-987e-0242ac110002-4-2f6e-411a-8d29-c252"
        }
      },
      "source": [
        "\u30b5\u30fc\u30d0\u8a3c\u660e\u66f8\u3092\u914d\u7f6e\u3059\u308b\u30c7\u30a3\u30ec\u30af\u30c8\u30ea\u3092\u4f5c\u6210\u3057\u307e\u3059\u3002"
      ]
    },
    {
      "cell_type": "code",
      "execution_count": null,
      "metadata": {
        "lc_cell_meme": {
          "current": "5c08d81e-163a-11ee-987e-0242ac110002-4-c2f3-4114-cfb4-85db",
          "next": "5c08d8b4-163a-11ee-987e-0242ac110002-4-5b20-a665-e891-5cb8",
          "previous": "5c08d788-163a-11ee-987e-0242ac110002-4-a015-4ed1-f631-68d8"
        },
        "scrolled": true
      },
      "outputs": [],
      "source": [
        "!ansible {target_hub} -b -m file -a \\\n",
        "    'path={{{{base_dir}}}} state=directory owner={{{{ansible_user}}}}'\n",
        "!ansible {target_hub} -b -m file -a \\\n",
        "    'path={{{{base_dir}}}}/certs state=directory owner={{{{ansible_user}}}}'"
      ]
    },
    {
      "cell_type": "markdown",
      "metadata": {
        "lc_cell_meme": {
          "current": "5c08d8b4-163a-11ee-987e-0242ac110002-4-5b20-a665-e891-5cb8",
          "next": "5c08d94a-163a-11ee-987e-0242ac110002-4-b282-7717-ae11-d8f8",
          "previous": "5c08d81e-163a-11ee-987e-0242ac110002-4-c2f3-4114-cfb4-85db"
        }
      },
      "source": [
        "\u4f5c\u6210\u3057\u305f\u30c7\u30a3\u30ec\u30af\u30c8\u30ea`/srv/jupyterhub/certs`\u306b\u8a3c\u660e\u66f8\u3001\u79d8\u5bc6\u9375\u3092\u914d\u7f6e\u3057\u3066\u304f\u3060\u3055\u3044\u3002\u51fa\u3069\u3053\u308d\u306a\u3069\u306e\u60c5\u5831\u3092\u5fc5\u8981\u4ee5\u4e0a\u306b\u6b8b\u3055\u306a\u3044\u305f\u3081\u306bNotebook\u304b\u3089\u306e\u64cd\u4f5c\u3067\u306f\u306a\u304f\u3001\u30bf\u30fc\u30df\u30ca\u30eb\u306a\u3069\u304b\u3089 **manager\u30ce\u30fc\u30c9\u306b ssh \u3067\u30ed\u30b0\u30a4\u30f3\u3057\u3066\u64cd\u4f5c\u3092\u884c\u3063\u3066\u304f\u3060\u3055\u3044**\u3002\n",
        "\n",
        "\u914d\u7f6e\u3059\u308b\u8a3c\u660e\u66f8\u306a\u3069\u306e\u30d5\u30a1\u30a4\u30eb\u540d\u306f\u4ee5\u4e0b\u306e\u3088\u3046\u306b\u3057\u3066\u304f\u3060\u3055\u3044\u3002\n",
        "\n",
        "* \u30b5\u30fc\u30d0\u8a3c\u660e\u66f8\u3068\u4e2d\u9593CA\u8a3c\u660e\u66f8\u3092\u9023\u7d50\u3057\u305f\u3082\u306e\n",
        "    - `/srv/jupyterhub/certs/fullchain.pem`\n",
        "* \u79d8\u5bc6\u9375\n",
        "    - `/srv/jupyterhub/certs/privkey.pem`\n",
        "    - \u30d1\u30b9\u30d5\u30ec\u30fc\u30ba\u3092\u7121\u3057\u306b\u3059\u308b"
      ]
    },
    {
      "cell_type": "markdown",
      "metadata": {
        "lc_cell_meme": {
          "current": "5c08d94a-163a-11ee-987e-0242ac110002-4-b282-7717-ae11-d8f8",
          "next": "5c08d9ea-163a-11ee-987e-0242ac110002-4-2ae2-508d-7390-0ce9",
          "previous": "5c08d8b4-163a-11ee-987e-0242ac110002-4-5b20-a665-e891-5cb8"
        }
      },
      "source": [
        "ssh\u3067\u30ed\u30b0\u30a4\u30f3\u3059\u308b manager \u30ce\u30fc\u30c9\u306eIP\u30a2\u30c9\u30ec\u30b9\u3092\u78ba\u8a8d\u3057\u307e\u3059\u3002\u8868\u793a\u3055\u308c\u305fIP\u30a2\u30c9\u30ec\u30b9\u306b\u5bfe\u3057\u3066\u3001\u30e6\u30fc\u30b6\u540d`vcp`\u3068\u300cVC\u30ce\u30fc\u30c9\u4f5c\u6210\u300d\u306eNotebook\u3067\u8a2d\u5b9a\u3057\u305fSSH\u306e\u79d8\u5bc6\u9375\u3092\u6307\u5b9a\u3059\u308b\u3053\u3068\u3067 manager \u30ce\u30fc\u30c9\u306bssh\u3067\u30ed\u30b0\u30a4\u30f3\u3067\u304d\u307e\u3059\u3002"
      ]
    },
    {
      "cell_type": "code",
      "execution_count": null,
      "metadata": {
        "lc_cell_meme": {
          "current": "5c08d9ea-163a-11ee-987e-0242ac110002-4-2ae2-508d-7390-0ce9",
          "next": "cc22ab0a-3022-11ee-b73e-0242ac110003-3-3b54-0669-3a1d",
          "previous": "5c08d94a-163a-11ee-987e-0242ac110002-4-b282-7717-ae11-d8f8"
        }
      },
      "outputs": [],
      "source": [
        "!ansible {target_hub} -c local -m debug -a 'var=vc_ipaddress'"
      ]
    },
    {
      "cell_type": "markdown",
      "metadata": {
        "heading_collapsed": true,
        "lc_cell_meme": {
          "current": "cc22ab0a-3022-11ee-b73e-0242ac110003-3-3b54-0669-3a1d",
          "next": "5c08dc42-163a-11ee-987e-0242ac110002-4-4dfe-061f-d433-4452",
          "previous": "5c08d9ea-163a-11ee-987e-0242ac110002-4-2ae2-508d-7390-0ce9"
        }
      },
      "source": [
        "#### \u8a3c\u660e\u66f8\u306e\u914d\u7f6e\u78ba\u8a8d\n",
        "\n",
        "\u8a3c\u660e\u66f8\u306e\u914d\u7f6e\u5f8c\u306b\u4ee5\u4e0b\u306e\u30bb\u30eb\u3092\u5b9f\u884c\u3057\u3001\u6b63\u3057\u304f\u914d\u7f6e\u3067\u304d\u3066\u3044\u308b\u3053\u3068\u3092\u78ba\u8a8d\u3057\u307e\u3059\u3002"
      ]
    },
    {
      "cell_type": "markdown",
      "metadata": {
        "hidden": true,
        "lc_cell_meme": {
          "current": "5c08dc42-163a-11ee-987e-0242ac110002-4-4dfe-061f-d433-4452",
          "next": "5c08dd00-163a-11ee-987e-0242ac110002-4-0835-0301-b211-f8b3",
          "previous": "cc22ab0a-3022-11ee-b73e-0242ac110003-3-3b54-0669-3a1d"
        }
      },
      "source": [
        "\u79d8\u5bc6\u9375\u306e\u5185\u5bb9\u3092\u8868\u793a\u3057\u3066\u307f\u307e\u3059\u3002"
      ]
    },
    {
      "cell_type": "code",
      "execution_count": null,
      "metadata": {
        "hidden": true,
        "lc_cell_meme": {
          "current": "5c08dd00-163a-11ee-987e-0242ac110002-4-0835-0301-b211-f8b3",
          "next": "5c08ddaa-163a-11ee-987e-0242ac110002-4-114c-53d4-7d9a-1f3e",
          "previous": "5c08dc42-163a-11ee-987e-0242ac110002-4-4dfe-061f-d433-4452"
        },
        "scrolled": true
      },
      "outputs": [],
      "source": [
        "try:\n",
        "    !ansible {target_hub} -a \\\n",
        "        'openssl rsa -noout -text -in  {{{{certs_dir}}}}/privkey.pem'\n",
        "except Exception as e:\n",
        "    # \u9375\u306e\u5f62\u5f0f\u304c\u7570\u306a\u308b\u5834\u5408\u3001\u6b63\u3057\u304f\u914d\u7f6e\u3067\u304d\u3066\u3044\u3066\u3082\u30a8\u30e9\u30fc\u306b\u306a\u308b\u5834\u5408\u304c\u3042\u308a\u307e\u3059\u3002\n",
        "    !ansible {target_hub} -a \\\n",
        "         'openssl ec -in {{{{certs_dir}}}}/privkey.pem -text -noout'"
      ]
    },
    {
      "cell_type": "markdown",
      "metadata": {
        "hidden": true,
        "lc_cell_meme": {
          "current": "5c08ddaa-163a-11ee-987e-0242ac110002-4-114c-53d4-7d9a-1f3e",
          "next": "5c08de40-163a-11ee-987e-0242ac110002-4-2691-7a63-2755-2272",
          "previous": "5c08dd00-163a-11ee-987e-0242ac110002-4-0835-0301-b211-f8b3"
        }
      },
      "source": [
        "\u4e2d\u9593CA\u8a3c\u660e\u66f8\u3092\u9023\u7d50\u3057\u305f\u30b5\u30fc\u30d0\u8a3c\u660e\u66f8\u306e\u5185\u5bb9\u3092\u8868\u793a\u3057\u3066\u307f\u307e\u3059\u3002"
      ]
    },
    {
      "cell_type": "code",
      "execution_count": null,
      "metadata": {
        "hidden": true,
        "lc_cell_meme": {
          "current": "5c08de40-163a-11ee-987e-0242ac110002-4-2691-7a63-2755-2272",
          "next": "5c08ded6-163a-11ee-987e-0242ac110002-4-0bdc-dff5-5c7e-4c0f",
          "previous": "5c08ddaa-163a-11ee-987e-0242ac110002-4-114c-53d4-7d9a-1f3e"
        },
        "scrolled": true
      },
      "outputs": [],
      "source": [
        "!ansible {target_hub} -a \\\n",
        "    'openssl x509 -noout -text -in {{{{certs_dir}}}}/fullchain.pem'"
      ]
    },
    {
      "cell_type": "markdown",
      "metadata": {
        "hidden": true,
        "lc_cell_meme": {
          "current": "5c08ded6-163a-11ee-987e-0242ac110002-4-0bdc-dff5-5c7e-4c0f",
          "next": "5c08df6c-163a-11ee-987e-0242ac110002-4-b10c-9ee9-7c33-cca1",
          "previous": "5c08de40-163a-11ee-987e-0242ac110002-4-2691-7a63-2755-2272"
        }
      },
      "source": [
        "\u8a3c\u660e\u66f8\u306e owner, group \u306a\u3069\u306e\u5024\u3092\u5229\u7528\u74b0\u5883\u306b\u5408\u308f\u305b\u3066\u4ee5\u4e0b\u306e\u3088\u3046\u306b\u8a2d\u5b9a\u3057\u307e\u3059\u3002\n",
        "\n",
        "* owner: 33\n",
        "* group: 33\n",
        "\n",
        "\u3053\u306e\u8a2d\u5b9a\u306f\u30b3\u30f3\u30c6\u30ca\u5185\u3067\u306f\u4ee5\u4e0b\u306e\u3088\u3046\u306b\u8a2d\u5b9a\u3057\u305f\u3053\u3068\u306b\u76f8\u5f53\u3057\u307e\u3059\u3002\n",
        "\n",
        "* owner: `www-data`\n",
        "* group: `www-data`"
      ]
    },
    {
      "cell_type": "code",
      "execution_count": null,
      "metadata": {
        "hidden": true,
        "lc_cell_meme": {
          "current": "5c08df6c-163a-11ee-987e-0242ac110002-4-b10c-9ee9-7c33-cca1",
          "next": "5c08e750-163a-11ee-987e-0242ac110002-4-c190-34d3-1a6b-b8c4",
          "previous": "5c08ded6-163a-11ee-987e-0242ac110002-4-0bdc-dff5-5c7e-4c0f"
        },
        "scrolled": true
      },
      "outputs": [],
      "source": [
        "cert_owner = 33\n",
        "cert_group = 33\n",
        "!ansible {target_hub} -b -m file -a \\\n",
        "    'path={{{{certs_dir}}}} owner={cert_owner} \\\n",
        "    group={cert_group} state=directory'\n",
        "!ansible {target_hub} -b -m file -a \\\n",
        "    'path={{{{certs_dir}}}}/fullchain.pem \\\n",
        "    owner={cert_owner} group={cert_group}'\n",
        "!ansible {target_hub} -b -m file -a \\\n",
        "    'path={{{{certs_dir}}}}/privkey.pem \\\n",
        "    owner={cert_owner} group={cert_group} mode=0600'"
      ]
    },
    {
      "cell_type": "markdown",
      "metadata": {
        "heading_collapsed": true,
        "lc_cell_meme": {
          "current": "5c08e750-163a-11ee-987e-0242ac110002-4-c190-34d3-1a6b-b8c4",
          "next": "5c08ef5c-163a-11ee-987e-0242ac110002-4-411b-3449-2642-e802",
          "previous": "5c08df6c-163a-11ee-987e-0242ac110002-4-b10c-9ee9-7c33-cca1"
        }
      },
      "source": [
        "### JupyterHub\n",
        "\n",
        "JupyterHub\u30b3\u30f3\u30c6\u30ca\u306b\u95a2\u3059\u308b\u30bb\u30c3\u30c8\u30a2\u30c3\u30d7\u3092\u884c\u3044\u307e\u3059\u3002"
      ]
    },
    {
      "cell_type": "markdown",
      "metadata": {
        "hidden": true,
        "lc_cell_meme": {
          "current": "5c08ef5c-163a-11ee-987e-0242ac110002-4-411b-3449-2642-e802",
          "next": "5c08eff2-163a-11ee-987e-0242ac110002-4-bd72-0b63-d049-01ba",
          "previous": "5c08e750-163a-11ee-987e-0242ac110002-4-c190-34d3-1a6b-b8c4"
        }
      },
      "source": [
        "#### JupyterHub\u30b3\u30f3\u30c6\u30ca\u306b\u95a2\u3059\u308b\u30d5\u30a1\u30a4\u30eb\u3092\u6e96\u5099\u3059\u308b\n",
        "\n",
        "JupyterHub\u30b3\u30f3\u30c6\u30ca\u3092\u5b9f\u884c\u3059\u308b\u305f\u3081\u306b\u5fc5\u8981\u3068\u306a\u308b\u30d5\u30a1\u30a4\u30eb\u3092\u6e96\u5099\u3059\u308b Ansible Playbook \u3092\u5b9f\u884c\u3057\u307e\u3059\u3002"
      ]
    },
    {
      "cell_type": "markdown",
      "metadata": {
        "hidden": true,
        "lc_cell_meme": {
          "current": "5c08eff2-163a-11ee-987e-0242ac110002-4-bd72-0b63-d049-01ba",
          "next": "5c09021c-163a-11ee-987e-0242ac110002-6-99e8-bdef-5a4d-2598-b52d-36bc",
          "previous": "5c08ef5c-163a-11ee-987e-0242ac110002-4-411b-3449-2642-e802"
        }
      },
      "source": [
        "Playbook \u3067\u306f\u4ee5\u4e0b\u306e\u51e6\u7406\u3092\u884c\u3044\u307e\u3059\u3002\n",
        "\n",
        "* \u30b3\u30f3\u30c6\u30ca\u30a4\u30e1\u30fc\u30b8\u306e\u30d3\u30eb\u30c9"
      ]
    },
    {
      "cell_type": "markdown",
      "metadata": {
        "hidden": true,
        "lc_cell_meme": {
          "current": "5c09021c-163a-11ee-987e-0242ac110002-6-99e8-bdef-5a4d-2598-b52d-36bc",
          "next": "d8bfcc80-2c53-11ee-987e-0242ac110002-3-968a-e193-0503",
          "previous": "5c08eff2-163a-11ee-987e-0242ac110002-4-bd72-0b63-d049-01ba"
        }
      },
      "source": [
        "\u30b3\u30f3\u30c6\u30ca\u30a4\u30e1\u30fc\u30b8\u306e\u30d3\u30eb\u30c9\u306b\u5fc5\u8981\u306a\u30d5\u30a1\u30a4\u30eb\u3092\u914d\u7f6e\u3057\u307e\u3059\u3002\n",
        "\n",
        "\u307e\u305a\u3001\u30d5\u30a1\u30a4\u30eb\u3092\u683c\u7d0d\u3059\u308b\u30c7\u30a3\u30ec\u30af\u30c8\u30ea\u3092\u4f5c\u6210"
      ]
    },
    {
      "cell_type": "code",
      "execution_count": null,
      "metadata": {
        "hidden": true,
        "lc_cell_meme": {
          "current": "d8bfcc80-2c53-11ee-987e-0242ac110002-3-968a-e193-0503",
          "next": "492138e4-1b0e-11ee-987e-0242ac110002-3-1b3f-3108-cc2d",
          "previous": "5c09021c-163a-11ee-987e-0242ac110002-6-99e8-bdef-5a4d-2598-b52d-36bc"
        }
      },
      "outputs": [],
      "source": [
        "# \u5148\u306b\u30c7\u30a3\u30ec\u30af\u30c8\u30ea\u4f5c\u6210\n",
        "!ansible {target_hub} -b -m file -a \\\n",
        "    'path={share_directory_root}/nbgrader state=directory owner={{{{ansible_user}}}}'\n",
        "!ansible {target_hub} -b -m file -a \\\n",
        "    'path={share_directory_root}/class state=directory owner={{{{ansible_user}}}}'\n",
        "!ansible {target_hub} -b -m file -a \\\n",
        "    'path={{{{base_dir}}}}/jupyterhub/ldap state=directory owner={{{{ansible_user}}}}'\n",
        "!ansible {target_hub} -b -m file -a \\\n",
        "    'path={{{{base_dir}}}}/jupyterhub/nginx state=directory owner={{{{ansible_user}}}}'"
      ]
    },
    {
      "cell_type": "markdown",
      "metadata": {
        "hidden": true,
        "lc_cell_meme": {
          "current": "492138e4-1b0e-11ee-987e-0242ac110002-3-1b3f-3108-cc2d",
          "execution_end_time": "2023-07-05T08:31:01.273554Z",
          "next": "4e3fec12-1730-11ee-987e-0242ac110002-4-21c7-5440-ee87-ea46",
          "previous": "d8bfcc80-2c53-11ee-987e-0242ac110002-3-968a-e193-0503"
        }
      },
      "source": [
        "\u30d5\u30a1\u30a4\u30eb\u306e\u914d\u7f6e\u3092\u30c1\u30a7\u30c3\u30af\u30e2\u30fc\u30c9\u3067\u8a66\u884c"
      ]
    },
    {
      "cell_type": "code",
      "execution_count": null,
      "metadata": {
        "hidden": true,
        "lc_cell_meme": {
          "current": "4e3fec12-1730-11ee-987e-0242ac110002-4-21c7-5440-ee87-ea46",
          "next": "492138e4-1b0e-11ee-987e-0242ac110002-4-ae1c-0e4e-a3ab-b217",
          "previous": "492138e4-1b0e-11ee-987e-0242ac110002-3-1b3f-3108-cc2d"
        }
      },
      "outputs": [],
      "source": [
        "# \u5171\u6709\u30c7\u30a3\u30ec\u30af\u30c8\u30ea\u306b\u5fc5\u8981\u306a\u30d5\u30a1\u30a4\u30eb\u914d\u7f6e\n",
        "!ansible {target_hub} -CDv -m synchronize \\\n",
        "    -a 'src=template/directories/jupytershare/nbgrader dest={share_directory_root}'\n",
        "!ansible {target_hub} -CDv -m synchronize \\\n",
        "    -a 'src=template/directories/jupytershare/class dest={share_directory_root}'\n",
        "!ansible {target_hub} -CDv -m template \\\n",
        "    -a 'src=template/directories/jupytershare/nbgrader/templates/teachers/nbgrader_config.py \\\n",
        "    dest={share_directory_root}/nbgrader/templates/teachers backup=yes'\n",
        "\n",
        "# \u30db\u30fc\u30e0\u30c7\u30a3\u30ec\u30af\u30c8\u30ea\u306b\u5fc5\u8981\u306a\u30d5\u30a1\u30a4\u30eb\u914d\u7f6e\n",
        "# !ansible {target_hub} -CDv -m synchronize \\\n",
        "#     -a 'src=template/directories/skelton dest={home_directory_root}'\n",
        "!ansible {target_hub} -CDv -m synchronize \\\n",
        "    -a 'src=template/jupyterhub/jupyterhub dest={{{{base_dir}}}}/jupyterhub'\n",
        "!ansible {target_hub} -CDv -m synchronize \\\n",
        "    -a 'src=template/jupyterhub/nginx dest={{{{base_dir}}}}/jupyterhub'\n",
        "!ansible {target_hub} -CDv -m synchronize \\\n",
        "    -a 'src=template/jupyterhub/ldap dest={{{{base_dir}}}}/jupyterhub'\n",
        "\n",
        "# jupyterhub\u30b7\u30b9\u30c6\u30e0\u69cb\u7bc9\u306b\u5fc5\u8981\u306a\u30d5\u30a1\u30a4\u30eb\u914d\u7f6e\n",
        "!ansible {target_hub} -CDv -m synchronize \\\n",
        "    -a 'src=template/jupyterhub dest={{{{base_dir}}}}'\n",
        "!ansible {target_hub} -CDv -m template \\\n",
        "    -a 'src=template/jupyterhub/docker-compose.yml dest={{{{base_dir}}}}/docker-compose.yml backup=yes'\n",
        "# !ansible {target_hub} -CDv -m synchronize \\\n",
        "#     -a 'src=template/jupyterhub/ldap/ldifs dest={{{{base_dir}}}}/jupyterhub/ldap/ldifs'\n",
        "!ansible {target_hub} -CDv -m synchronize \\\n",
        "    -a 'src=template/jupyterhub/jupyterhub/sudoers dest={{{{share_directory_root}}}} rsync_opts=--chown=root:root,--chmod=600' --become"
      ]
    },
    {
      "cell_type": "markdown",
      "metadata": {
        "hidden": true,
        "lc_cell_meme": {
          "current": "492138e4-1b0e-11ee-987e-0242ac110002-4-ae1c-0e4e-a3ab-b217",
          "execution_end_time": "2023-07-05T08:31:01.273554Z",
          "next": "4e3fec12-1730-11ee-987e-0242ac110002-5-21c7-0fc9-2be9-5959-bb2c",
          "previous": "4e3fec12-1730-11ee-987e-0242ac110002-4-21c7-5440-ee87-ea46"
        }
      },
      "source": [
        "\u5b9f\u969b\u306b\u30d5\u30a1\u30a4\u30eb\u3092\u914d\u7f6e"
      ]
    },
    {
      "cell_type": "code",
      "execution_count": null,
      "metadata": {
        "hidden": true,
        "lc_cell_meme": {
          "current": "4e3fec12-1730-11ee-987e-0242ac110002-5-21c7-0fc9-2be9-5959-bb2c",
          "next": "edd5c752-7fcb-11ee-880b-0242ac110002",
          "previous": "492138e4-1b0e-11ee-987e-0242ac110002-4-ae1c-0e4e-a3ab-b217"
        }
      },
      "outputs": [],
      "source": [
        "# \u5171\u6709\u30c7\u30a3\u30ec\u30af\u30c8\u30ea\u306b\u5fc5\u8981\u306a\u30d5\u30a1\u30a4\u30eb\u914d\u7f6e\n",
        "!ansible {target_hub} -Dv -m synchronize \\\n",
        "    -a 'src=template/directories/jupytershare/nbgrader dest={share_directory_root}'\n",
        "!ansible {target_hub} -Dv -m synchronize \\\n",
        "    -a 'src=template/directories/jupytershare/class dest={share_directory_root}'\n",
        "!ansible {target_hub} -Dv -m template \\\n",
        "    -a 'src=template/directories/jupytershare/nbgrader/templates/teachers/nbgrader_config.py \\\n",
        "    dest={share_directory_root}/nbgrader/templates/teachers backup=yes'\n",
        "\n",
        "# \u30db\u30fc\u30e0\u30c7\u30a3\u30ec\u30af\u30c8\u30ea\u306b\u5fc5\u8981\u306a\u30d5\u30a1\u30a4\u30eb\u914d\u7f6e\n",
        "!ansible {target_hub} -Dv -m synchronize \\\n",
        "    -a 'src=template/directories/skelton dest={home_directory_root}'\n",
        "\n",
        "# jupyterhub\u30b7\u30b9\u30c6\u30e0\u69cb\u7bc9\u306b\u5fc5\u8981\u306a\u30d5\u30a1\u30a4\u30eb\u914d\u7f6e\n",
        "# !ansible {target_hub} -Dv -m synchronize \\\n",
        "#     -a 'src=template/jupyterhub dest={{{{base_dir}}}}'\n",
        "!ansible {target_hub} -Dv -m synchronize \\\n",
        "    -a 'src=template/jupyterhub/jupyterhub dest={{{{base_dir}}}}/jupyterhub'\n",
        "!ansible {target_hub} -Dv -m synchronize \\\n",
        "    -a 'src=template/jupyterhub/nginx dest={{{{base_dir}}}}/jupyterhub'\n",
        "!ansible {target_hub} -Dv -m synchronize \\\n",
        "    -a 'src=template/jupyterhub/ldap dest={{{{base_dir}}}}/jupyterhub'\n",
        "\n",
        "!ansible {target_hub} -Dv -m template \\\n",
        "    -a 'src=template/jupyterhub/docker-compose.yml dest={{{{base_dir}}}}/docker-compose.yml backup=yes'\n",
        "\n",
        "!ansible {target_hub} -Dv -m template \\\n",
        "    -a 'src=template/jupyterhub/nginx/default.conf dest={{{{base_dir}}}}/jupyterhub/nginx/default.conf backup=yes'\n",
        "\n",
        "!ansible {target_hub} -Dv -m synchronize \\\n",
        "    -a 'src=template/jupyterhub/jupyterhub/sudoers dest={{{{share_directory_root}}}} rsync_opts=--chown=root:root,--chmod=600' --become"
      ]
    },
    {
      "cell_type": "markdown",
      "metadata": {
        "hidden": true,
        "lc_cell_meme": {
          "current": "b665ebde-2c57-11ee-987e-0242ac110002-3-f656-7b8f-a870",
          "next": "5c08f09c-163a-11ee-987e-0242ac110002-4-4603-795d-1086-373f",
          "previous": "edd5c860-7fcb-11ee-880b-0242ac110002"
        }
      },
      "source": [
        "#### Jupyterhub\u30a4\u30e1\u30fc\u30b8\u306e\u30d3\u30eb\u30c9"
      ]
    },
    {
      "cell_type": "markdown",
      "metadata": {
        "hidden": true,
        "lc_cell_meme": {
          "current": "5c08f09c-163a-11ee-987e-0242ac110002-4-4603-795d-1086-373f",
          "next": "5c08f1a0-163a-11ee-987e-0242ac110002-4-9928-39e9-a78b-354d",
          "previous": "b665ebde-2c57-11ee-987e-0242ac110002-3-f656-7b8f-a870"
        }
      },
      "source": [
        "\u5b9f\u969b\u306b\u30d3\u30eb\u30c9\u3059\u308b\u524d\u306bdryrun\uff08\u30c1\u30a7\u30c3\u30af\u30e2\u30fc\u30c9\uff09\u3067Ansible\u3092\u5b9f\u884c\u3057\u307e\u3059\u3002"
      ]
    },
    {
      "cell_type": "code",
      "execution_count": null,
      "metadata": {
        "hidden": true,
        "lc_cell_meme": {
          "current": "5c08f1a0-163a-11ee-987e-0242ac110002-4-9928-39e9-a78b-354d",
          "next": "5c08f268-163a-11ee-987e-0242ac110002-4-32bb-a8ed-2099-eca2",
          "previous": "5c08f09c-163a-11ee-987e-0242ac110002-4-4603-795d-1086-373f"
        },
        "scrolled": true
      },
      "outputs": [],
      "source": [
        "!ansible-playbook -l {target_hub} -CDv playbooks/setup-jupyterhub.yml || true"
      ]
    },
    {
      "cell_type": "markdown",
      "metadata": {
        "hidden": true,
        "lc_cell_meme": {
          "current": "5c08f268-163a-11ee-987e-0242ac110002-4-32bb-a8ed-2099-eca2",
          "next": "5c08f308-163a-11ee-987e-0242ac110002-4-4f84-91e5-f933-a074",
          "previous": "5c08f1a0-163a-11ee-987e-0242ac110002-4-9928-39e9-a78b-354d"
        }
      },
      "source": [
        "\u5b9f\u969b\u306b\u30b3\u30f3\u30c6\u30ca\u30a4\u30e1\u30fc\u30b8\u306e\u30d3\u30eb\u30c9\u3092\u884c\u3044\u307e\u3059\u3002"
      ]
    },
    {
      "cell_type": "code",
      "execution_count": null,
      "metadata": {
        "hidden": true,
        "lc_cell_meme": {
          "current": "5c08f308-163a-11ee-987e-0242ac110002-4-4f84-91e5-f933-a074",
          "next": "5c08f3da-163a-11ee-987e-0242ac110002-4-b17d-bd2e-2b02-1da2",
          "previous": "5c08f268-163a-11ee-987e-0242ac110002-4-32bb-a8ed-2099-eca2"
        },
        "scrolled": true
      },
      "outputs": [],
      "source": [
        "!ansible-playbook -l {target_hub} playbooks/setup-jupyterhub.yml -e jupyterhub_image={jupyterhub_image}"
      ]
    },
    {
      "cell_type": "markdown",
      "metadata": {
        "hidden": true,
        "lc_cell_meme": {
          "current": "5c08f3da-163a-11ee-987e-0242ac110002-4-b17d-bd2e-2b02-1da2",
          "next": "5c08f47a-163a-11ee-987e-0242ac110002-4-9726-1f4d-ab1f-eea2",
          "previous": "5c08f308-163a-11ee-987e-0242ac110002-4-4f84-91e5-f933-a074"
        }
      },
      "source": [
        "JupyterHub\u306e\u30b3\u30f3\u30c6\u30ca\u30a4\u30e1\u30fc\u30b8\u304c\u5b58\u5728\u3059\u308b\u3053\u3068\u3092\u78ba\u8a8d\u3057\u307e\u3059\u3002"
      ]
    },
    {
      "cell_type": "code",
      "execution_count": null,
      "metadata": {
        "hidden": true,
        "lc_cell_meme": {
          "current": "5c08f47a-163a-11ee-987e-0242ac110002-4-9726-1f4d-ab1f-eea2",
          "next": "5c08f510-163a-11ee-987e-0242ac110002-4-64f7-06e1-70a7-478d",
          "previous": "5c08f3da-163a-11ee-987e-0242ac110002-4-b17d-bd2e-2b02-1da2"
        }
      },
      "outputs": [],
      "source": [
        "!ansible {target_hub} -a \\\n",
        "    'docker images {{{{jupyterhub_image}}}}'"
      ]
    },
    {
      "cell_type": "markdown",
      "metadata": {
        "hidden": true,
        "lc_cell_meme": {
          "current": "5c08f510-163a-11ee-987e-0242ac110002-4-64f7-06e1-70a7-478d",
          "next": "5c08f5a6-163a-11ee-987e-0242ac110002-4-5880-ea4a-589e-4e05",
          "previous": "5c08f47a-163a-11ee-987e-0242ac110002-4-9726-1f4d-ab1f-eea2"
        }
      },
      "source": [
        "JupyterHub\u30b3\u30f3\u30c6\u30ca\u306e\u305f\u3081\u306b\u914d\u7f6e\u3057\u305f\u30d5\u30a1\u30a4\u30eb\u3092\u78ba\u8a8d\u3057\u307e\u3059\u3002"
      ]
    },
    {
      "cell_type": "code",
      "execution_count": null,
      "metadata": {
        "hidden": true,
        "lc_cell_meme": {
          "current": "5c08f5a6-163a-11ee-987e-0242ac110002-4-5880-ea4a-589e-4e05",
          "next": "5c08fb14-163a-11ee-987e-0242ac110002-4-0351-08c5-a7bd-135f",
          "previous": "5c08f510-163a-11ee-987e-0242ac110002-4-64f7-06e1-70a7-478d"
        }
      },
      "outputs": [],
      "source": [
        "!ansible {target_hub} -a 'tree {{{{jupyterhub_dir}}}}'"
      ]
    },
    {
      "cell_type": "markdown",
      "metadata": {
        "lc_cell_meme": {
          "current": "5c08fb14-163a-11ee-987e-0242ac110002-4-0351-08c5-a7bd-135f",
          "next": "4e0f3b28-302e-11ee-b73e-0242ac110003-3-7483-8430-3636",
          "previous": "5c08f5a6-163a-11ee-987e-0242ac110002-4-5880-ea4a-589e-4e05"
        }
      },
      "source": [
        "### single-user Jupyter Notebook server"
      ]
    },
    {
      "cell_type": "markdown",
      "metadata": {
        "lc_cell_meme": {
          "current": "4e0f3b28-302e-11ee-b73e-0242ac110003-3-7483-8430-3636",
          "next": "903b3876-302e-11ee-b73e-0242ac110003-3-c336-f2b6-3735",
          "previous": "5c08fb14-163a-11ee-987e-0242ac110002-4-0351-08c5-a7bd-135f"
        }
      },
      "source": [
        "#### \u30a4\u30e1\u30fc\u30b8\u304c\u5b58\u5728\u3057\u306a\u3044\u5834\u5408-\u516c\u958b\u30ea\u30dd\u30b8\u30c8\u30ea\u304b\u3089\u306e\u30c0\u30a6\u30f3\u30ed\u30fc\u30c9\n",
        "\n",
        "\u516c\u958b\u30ea\u30dd\u30b8\u30c8\u30ea\u304b\u3089single-user Jupyter Notebook server\u30b3\u30f3\u30c6\u30ca\u30a4\u30e1\u30fc\u30b8\u3092\u30c0\u30a6\u30f3\u30ed\u30fc\u30c9\u3057\u307e\u3059\u3002"
      ]
    },
    {
      "cell_type": "markdown",
      "metadata": {
        "lc_cell_meme": {
          "current": "903b3876-302e-11ee-b73e-0242ac110003-3-c336-f2b6-3735",
          "next": "4e0f3cea-302e-11ee-b73e-0242ac110003-3-e19b-b732-340c",
          "previous": "4e0f3b28-302e-11ee-b73e-0242ac110003-3-7483-8430-3636"
        }
      },
      "source": [
        "\u4ee5\u4e0b\u306e\u30bb\u30eb\u3092\u5b9f\u884c\u3057\u3001single-user Jupyter Notebook server\u30b3\u30f3\u30c6\u30ca\u30a4\u30e1\u30fc\u30b8\u3092\u30c0\u30a6\u30f3\u30ed\u30fc\u30c9\u3057\u3066\u304f\u3060\u3055\u3044\u3002\n",
        "\n",
        "\u30c0\u30a6\u30f3\u30ed\u30fc\u30c9\u304c\u6210\u529f\u3057\u305f\u5834\u5408\u3001\u4ee5\u964d\u306e\u30bb\u30eb\u306f\u5b9f\u884c\u305b\u305a\u3001\u300c\uff14 \u30b3\u30f3\u30c6\u30ca\u306e\u8d77\u52d5\u300d\u306b\u9032\u3093\u3067\u304f\u3060\u3055\u3044\u3002"
      ]
    },
    {
      "cell_type": "code",
      "execution_count": null,
      "metadata": {
        "lc_cell_meme": {
          "current": "4e0f3cea-302e-11ee-b73e-0242ac110003-3-e19b-b732-340c",
          "next": "ad6fe928-302e-11ee-b73e-0242ac110003-3-01cc-8937-f1fb",
          "previous": "903b3876-302e-11ee-b73e-0242ac110003-3-c336-f2b6-3735"
        }
      },
      "outputs": [],
      "source": [
        "!ansible {ugroup_name} -a 'docker pull {{{{singleuser_image}}}}'"
      ]
    },
    {
      "cell_type": "markdown",
      "metadata": {
        "heading_collapsed": true,
        "lc_cell_meme": {
          "current": "ad6fe928-302e-11ee-b73e-0242ac110003-3-01cc-8937-f1fb",
          "next": "9226f996-1660-11ee-987e-0242ac110002-4-d407-b12a-81ec-a3bf",
          "previous": "4e0f3cea-302e-11ee-b73e-0242ac110003-3-e19b-b732-340c"
        }
      },
      "source": [
        "#### \u30a4\u30e1\u30fc\u30b8\u304c\u5b58\u5728\u3057\u306a\u3044\u5834\u5408-\u30a4\u30e1\u30fc\u30b8\u306e\u30d3\u30eb\u30c9\n",
        "\n",
        "\uff11\u3064\u524d\u306e\u30bb\u30eb\u3067\u3001\u516c\u958b\u30ea\u30dd\u30b8\u30c8\u30ea\u304b\u3089\u306e\u30c0\u30a6\u30f3\u30ed\u30fc\u30c9\u304c\u51fa\u6765\u3066\u3044\u308b\u5834\u5408\u306f\u3001\u30d3\u30eb\u30c9\u306e\u5fc5\u8981\u306f\u3042\u308a\u307e\u305b\u3093\u3002\u672c\u30bb\u30af\u30b7\u30e7\u30f3\u306f\u30b9\u30ad\u30c3\u30d7\u3057\u3066\u3001\u300c\uff14 \u30b3\u30f3\u30c6\u30ca\u306e\u8d77\u52d5\u300d\u306b\u9032\u3093\u3067\u304f\u3060\u3055\u3044\u3002\n",
        "\n",
        "`template/notebook` \u306bsingle-user Jupyter Notebook server\u30b3\u30f3\u30c6\u30ca\u30a4\u30e1\u30fc\u30b8\u3092\u30d3\u30eb\u30c9\u3059\u308b\u305f\u3081\u306e\u30d5\u30a1\u30a4\u30eb\u3092\u683c\u7d0d\u3057\u3066\u3044\u307e\u3059\u3002\n",
        "\n",
        "\u30aa\u30ea\u30b8\u30ca\u30eb\u306e\u30a4\u30e1\u30fc\u30b8\u3092\u4f5c\u6210\u3059\u308b\u5834\u5408\u306f\u3001`template/notebook`\u306e\u5185\u5bb9\u3092\u7f6e\u304d\u63db\u3048\u3066\u4ee5\u964d\u306e\u30bb\u30eb\u3092\u5b9f\u884c\u3057\u3066\u304f\u3060\u3055\u3044\u3002"
      ]
    },
    {
      "cell_type": "markdown",
      "metadata": {
        "hidden": true,
        "lc_cell_meme": {
          "current": "9226f996-1660-11ee-987e-0242ac110002-4-d407-b12a-81ec-a3bf",
          "next": "68bc0c26-1661-11ee-987e-0242ac110002-3-ff22-d518-0b17",
          "previous": "ad6fe928-302e-11ee-b73e-0242ac110003-3-01cc-8937-f1fb"
        }
      },
      "source": [
        "\u307e\u305a\u3001\u30a4\u30e1\u30fc\u30b8\u306e\u30d3\u30eb\u30c9\u306b\u5fc5\u8981\u306a\u30d5\u30a1\u30a4\u30eb\u3092\u683c\u7d0d\u3059\u308b\u305f\u3081\u306e\u30c7\u30a3\u30ec\u30af\u30c8\u30ea\u3092\u4f5c\u6210\u3057\u307e\u3059\u3002"
      ]
    },
    {
      "cell_type": "code",
      "execution_count": null,
      "metadata": {
        "hidden": true,
        "lc_cell_meme": {
          "current": "68bc0c26-1661-11ee-987e-0242ac110002-3-ff22-d518-0b17",
          "next": "9226fbc6-1660-11ee-987e-0242ac110002-3-81bc-808a-4aaf",
          "previous": "9226f996-1660-11ee-987e-0242ac110002-4-d407-b12a-81ec-a3bf"
        }
      },
      "outputs": [],
      "source": [
        "!ansible {ugroup_name} -b -m file -a \\\n",
        "    'path={{{{notebook_dir}}}} state=directory owner={{{{ansible_user}}}}'"
      ]
    },
    {
      "cell_type": "markdown",
      "metadata": {
        "hidden": true,
        "lc_cell_meme": {
          "current": "9226fbc6-1660-11ee-987e-0242ac110002-3-81bc-808a-4aaf",
          "next": "5c09017c-163a-11ee-987e-0242ac110002-6-e7a9-f34d-b195-1bb1-3799-a5e4",
          "previous": "68bc0c26-1661-11ee-987e-0242ac110002-3-ff22-d518-0b17"
        }
      },
      "source": [
        "single-user Jupyter Notebook server\u30b3\u30f3\u30c6\u30ca\u30a4\u30e1\u30fc\u30b8\u30d3\u30eb\u30c9\u306b\u5fc5\u8981\u306a\u30d5\u30a1\u30a4\u30eb\u3092\u914d\u7f6e\u3057\u307e\u3059\u3002\n",
        "\n",
        "\u5b9f\u969b\u306b\u914d\u7f6e\u3059\u308b\u524d\u306b\u3001\u30c1\u30a7\u30c3\u30af\u30e2\u30fc\u30c9\u3067\u30d5\u30a1\u30a4\u30eb\u306e\u4e0d\u8db3\u7b49\u304c\u7121\u3044\u304b\u78ba\u8a8d\u3057\u307e\u3059\u3002"
      ]
    },
    {
      "cell_type": "code",
      "execution_count": null,
      "metadata": {
        "hidden": true,
        "lc_cell_meme": {
          "current": "5c09017c-163a-11ee-987e-0242ac110002-6-e7a9-f34d-b195-1bb1-3799-a5e4",
          "next": "fd720420-1660-11ee-987e-0242ac110002-3-3622-0ba9-379e",
          "previous": "9226fbc6-1660-11ee-987e-0242ac110002-3-81bc-808a-4aaf"
        },
        "scrolled": true
      },
      "outputs": [],
      "source": [
        "!ansible {ugroup_name} -CDv -m synchronize \\\n",
        "    -a 'src=template/notebook dest={{{{base_dir}}}}'\n",
        "!ansible {ugroup_name} -CDv -m template \\\n",
        "    -a 'src=template/notebook/image/ldap.conf dest={{{{base_dir}}}}/notebook/image/ backup=yes'\n",
        "!ansible {ugroup_name} -CDv -m template \\\n",
        "    -a 'src=template/notebook/image/nbgrader_config.py dest={{{{base_dir}}}}/notebook/image/ backup=yes'"
      ]
    },
    {
      "cell_type": "markdown",
      "metadata": {
        "hidden": true,
        "lc_cell_meme": {
          "current": "fd720420-1660-11ee-987e-0242ac110002-3-3622-0ba9-379e",
          "next": "5c0902f8-163a-11ee-987e-0242ac110002-6-fe00-7ad7-0c43-8d23-7b57-c5b6",
          "previous": "5c09017c-163a-11ee-987e-0242ac110002-6-e7a9-f34d-b195-1bb1-3799-a5e4"
        }
      },
      "source": [
        "\u30d5\u30a1\u30a4\u30eb\u3092\u5b9f\u969b\u306b\u914d\u7f6e\u3057\u307e\u3059\u3002"
      ]
    },
    {
      "cell_type": "code",
      "execution_count": null,
      "metadata": {
        "hidden": true,
        "lc_cell_meme": {
          "current": "5c0902f8-163a-11ee-987e-0242ac110002-6-fe00-7ad7-0c43-8d23-7b57-c5b6",
          "next": "fd720420-1660-11ee-987e-0242ac110002-4-a3bd-3898-7528-118e",
          "previous": "fd720420-1660-11ee-987e-0242ac110002-3-3622-0ba9-379e"
        },
        "scrolled": true
      },
      "outputs": [],
      "source": [
        "!ansible {ugroup_name} -Dv -m synchronize \\\n",
        "    -a 'src=template/notebook dest={{{{base_dir}}}}'\n",
        "!ansible {ugroup_name} -Dv -m template \\\n",
        "    -a 'src=template/notebook/image/ldap.conf dest={{{{base_dir}}}}/notebook/image/ backup=yes'\n",
        "!ansible {ugroup_name} -Dv -m template \\\n",
        "    -a 'src=template/notebook/image/nbgrader_config.py dest={{{{base_dir}}}}/notebook/image/ backup=yes'"
      ]
    },
    {
      "cell_type": "markdown",
      "metadata": {
        "hidden": true,
        "lc_cell_meme": {
          "current": "fd720420-1660-11ee-987e-0242ac110002-4-a3bd-3898-7528-118e",
          "next": "5c08f1a0-163a-11ee-987e-0242ac110002-5-9928-5416-7137-d7cb-f3d1",
          "previous": "5c0902f8-163a-11ee-987e-0242ac110002-6-fe00-7ad7-0c43-8d23-7b57-c5b6"
        }
      },
      "source": [
        "\u914d\u7f6e\u3057\u305f\u30d5\u30a1\u30a4\u30eb\u3092\u7528\u3044\u3066\u3001single-user Jupyter Notebook server\u30b3\u30f3\u30c6\u30ca\u30a4\u30e1\u30fc\u30b8\u306e\u30d3\u30eb\u30c9\u3092\u884c\u3044\u307e\u3059\u3002\n",
        "\n",
        "\u30d3\u30eb\u30c9\u524d\u306b\u3001\u30c1\u30a7\u30c3\u30af\u30e2\u30fc\u30c9\u3067\u78ba\u8a8d\u3057\u307e\u3059\u3002"
      ]
    },
    {
      "cell_type": "code",
      "execution_count": null,
      "metadata": {
        "hidden": true,
        "lc_cell_meme": {
          "current": "5c08f1a0-163a-11ee-987e-0242ac110002-5-9928-5416-7137-d7cb-f3d1",
          "next": "fd720420-1660-11ee-987e-0242ac110002-5-a3bd-a43c-20f1-835a-6670",
          "previous": "fd720420-1660-11ee-987e-0242ac110002-4-a3bd-3898-7528-118e"
        },
        "scrolled": true
      },
      "outputs": [],
      "source": [
        "!ansible-playbook -l {ugroup_name} -CDv playbooks/setup-jupyter-notebook.yml || true"
      ]
    },
    {
      "cell_type": "markdown",
      "metadata": {
        "hidden": true,
        "lc_cell_meme": {
          "current": "fd720420-1660-11ee-987e-0242ac110002-5-a3bd-a43c-20f1-835a-6670",
          "next": "5c08f308-163a-11ee-987e-0242ac110002-5-4f84-cb83-8867-20ed-529a",
          "previous": "5c08f1a0-163a-11ee-987e-0242ac110002-5-9928-5416-7137-d7cb-f3d1"
        }
      },
      "source": [
        "\u5b9f\u969b\u306b\u30d3\u30eb\u30c9\u3092\u884c\u3044\u307e\u3059\u3002"
      ]
    },
    {
      "cell_type": "code",
      "execution_count": null,
      "metadata": {
        "hidden": true,
        "lc_cell_meme": {
          "current": "5c08f308-163a-11ee-987e-0242ac110002-5-4f84-cb83-8867-20ed-529a",
          "next": "5c08fdb2-163a-11ee-987e-0242ac110002-4-792c-4f8e-42c0-4a7d",
          "previous": "fd720420-1660-11ee-987e-0242ac110002-5-a3bd-a43c-20f1-835a-6670"
        },
        "scrolled": true
      },
      "outputs": [],
      "source": [
        "!ansible-playbook -l {ugroup_name} playbooks/setup-jupyter-notebook.yml"
      ]
    },
    {
      "cell_type": "markdown",
      "metadata": {
        "hidden": true,
        "lc_cell_meme": {
          "current": "5c08fdb2-163a-11ee-987e-0242ac110002-4-792c-4f8e-42c0-4a7d",
          "next": "5c08fe48-163a-11ee-987e-0242ac110002-4-ca1f-e323-40ed-e9c3",
          "previous": "5c08f308-163a-11ee-987e-0242ac110002-5-4f84-cb83-8867-20ed-529a"
        }
      },
      "source": [
        "\u5404VC\u30ce\u30fc\u30c9\u306e\u30b3\u30f3\u30c6\u30ca\u30a4\u30e1\u30fc\u30b8\u4e00\u89a7\u3092\u78ba\u8a8d\u3057\u307e\u3059\u3002\n",
        "\n",
        "single-user Jupyter Notebook server\u30b3\u30f3\u30c6\u30ca\u30a4\u30e1\u30fc\u30b8\u304c\u5b58\u5728\u3059\u308b\u3053\u3068\u3092\u78ba\u8a8d\u3057\u307e\u3059\u3002"
      ]
    },
    {
      "cell_type": "code",
      "execution_count": null,
      "metadata": {
        "hidden": true,
        "lc_cell_meme": {
          "current": "5c08fe48-163a-11ee-987e-0242ac110002-4-ca1f-e323-40ed-e9c3",
          "next": "5c08fede-163a-11ee-987e-0242ac110002-4-0407-cd76-808b-267e",
          "previous": "5c08fdb2-163a-11ee-987e-0242ac110002-4-792c-4f8e-42c0-4a7d"
        },
        "pinned_outputs": []
      },
      "outputs": [],
      "source": [
        "print(f'\u6307\u5b9a\u3057\u305f\u30a4\u30e1\u30fc\u30b8\u540d:{singleuser_image}')\n",
        "\n",
        "!ansible {ugroup_name} -m shell -a 'docker images | \\\n",
        "    grep -e \"{{{{singleuser_image_no_tag}}}}\"'"
      ]
    },
    {
      "cell_type": "markdown",
      "metadata": {
        "heading_collapsed": true,
        "lc_cell_meme": {
          "current": "5c08fede-163a-11ee-987e-0242ac110002-4-0407-cd76-808b-267e",
          "next": "5c08ff74-163a-11ee-987e-0242ac110002-4-cb05-42d2-afc6-955a",
          "previous": "5c08fe48-163a-11ee-987e-0242ac110002-4-ca1f-e323-40ed-e9c3"
        }
      },
      "source": [
        "## \u30b3\u30f3\u30c6\u30ca\u306e\u8d77\u52d5"
      ]
    },
    {
      "cell_type": "markdown",
      "metadata": {
        "heading_collapsed": true,
        "hidden": true,
        "lc_cell_meme": {
          "current": "5c08ff74-163a-11ee-987e-0242ac110002-4-cb05-42d2-afc6-955a",
          "next": "5c09003c-163a-11ee-987e-0242ac110002-4-812f-1198-ed8d-30f7",
          "previous": "5c08fede-163a-11ee-987e-0242ac110002-4-0407-cd76-808b-267e"
        }
      },
      "source": [
        "### docker-compose.yml \u306e\u914d\u7f6e"
      ]
    },
    {
      "cell_type": "markdown",
      "metadata": {
        "hidden": true,
        "lc_cell_meme": {
          "current": "5c09003c-163a-11ee-987e-0242ac110002-4-812f-1198-ed8d-30f7",
          "next": "5c0900dc-163a-11ee-987e-0242ac110002-4-660b-c3fd-2414-50ba",
          "previous": "5c08ff74-163a-11ee-987e-0242ac110002-4-cb05-42d2-afc6-955a"
        }
      },
      "source": [
        "\u8907\u6570\u306e\u30b3\u30f3\u30c6\u30ca\u306b\u95a2\u3059\u308b\u8a2d\u5b9a\u3092\u307e\u3068\u3081\u3066\u6271\u3046\u305f\u3081\u306b `docker-compose.yml` \u3092\u5229\u7528\u3057\u307e\u3059\u3002\n",
        "\n",
        "\u3053\u3053\u307e\u3067\u306b\u6307\u5b9a\u3055\u308c\u305f\u30d1\u30e9\u30e1\u30fc\u30bf\u306b\u5fdc\u3058\u305f`docker-compose.yml`, `default.conf`\u3092\u751f\u6210\u3057\u3001\u69cb\u7bc9\u74b0\u5883\u306b\u914d\u7f6e\u3057\u307e\u3059\u3002"
      ]
    },
    {
      "cell_type": "markdown",
      "metadata": {
        "hidden": true,
        "lc_cell_meme": {
          "current": "5c0900dc-163a-11ee-987e-0242ac110002-4-660b-c3fd-2414-50ba",
          "next": "5c09017c-163a-11ee-987e-0242ac110002-4-e7a9-8267-cd54-f5bc",
          "previous": "5c09003c-163a-11ee-987e-0242ac110002-4-812f-1198-ed8d-30f7"
        }
      },
      "source": [
        "\u307e\u305a\u306f\u3001\u30c1\u30a7\u30c3\u30af\u30e2\u30fc\u30c9\u3067\u78ba\u8a8d\u3092\u884c\u3044\u307e\u3059\u3002"
      ]
    },
    {
      "cell_type": "code",
      "execution_count": null,
      "metadata": {
        "hidden": true,
        "lc_cell_meme": {
          "current": "5c09017c-163a-11ee-987e-0242ac110002-4-e7a9-8267-cd54-f5bc",
          "next": "5c09021c-163a-11ee-987e-0242ac110002-4-99e8-c287-13ab-ae6a",
          "previous": "5c0900dc-163a-11ee-987e-0242ac110002-4-660b-c3fd-2414-50ba"
        },
        "scrolled": true
      },
      "outputs": [],
      "source": [
        "!ansible {target_hub} -CDv -m template \\\n",
        "    -a 'src=template/jupyterhub/docker-compose.yml dest={{{{base_dir}}}}/jupyterhub backup=yes'\n",
        "!ansible {target_hub} -CDv -m template \\\n",
        "    -a 'src=template/jupyterhub/nginx/default.conf dest={{{{base_dir}}}}/jupyterhub/nginx backup=yes'\n",
        "!ansible {target_hub} -CDv -m template \\\n",
        "    -a 'src=edit/lms_web_service.py dest={{{{jupyterhub_dir}}}}/jupyterhub backup=yes'\n",
        "!ansible {target_hub} -CDv -m template \\\n",
        "    -a 'src=edit/jupyterhub_config.py dest={{{{jupyterhub_dir}}}}/jupyterhub backup=yes'\n",
        "!ansible {target_hub} -CDv -m template \\\n",
        "    -a 'src=edit/jupyterhub_params.yaml dest={{{{jupyterhub_dir}}}}/jupyterhub backup=yes'"
      ]
    },
    {
      "cell_type": "markdown",
      "metadata": {
        "hidden": true,
        "lc_cell_meme": {
          "current": "5c09021c-163a-11ee-987e-0242ac110002-4-99e8-c287-13ab-ae6a",
          "next": "5c0902f8-163a-11ee-987e-0242ac110002-4-fe00-3ffd-81df-68ba",
          "previous": "5c09017c-163a-11ee-987e-0242ac110002-4-e7a9-8267-cd54-f5bc"
        }
      },
      "source": [
        "\u5b9f\u969b\u306b\u5404\u30d5\u30a1\u30a4\u30eb\u306e\u914d\u7f6e\u3092\u884c\u3044\u307e\u3059\u3002"
      ]
    },
    {
      "cell_type": "code",
      "execution_count": null,
      "metadata": {
        "hidden": true,
        "lc_cell_meme": {
          "current": "5c0902f8-163a-11ee-987e-0242ac110002-4-fe00-3ffd-81df-68ba",
          "next": "5c09038e-163a-11ee-987e-0242ac110002-4-8c44-9e11-599e-0518",
          "previous": "5c09021c-163a-11ee-987e-0242ac110002-4-99e8-c287-13ab-ae6a"
        },
        "scrolled": true
      },
      "outputs": [],
      "source": [
        "!ansible {target_hub} -Dv -m template \\\n",
        "    -a 'src=template/jupyterhub/docker-compose.yml dest={{{{base_dir}}}}/jupyterhub backup=yes'\n",
        "!ansible {target_hub} -Dv -m template \\\n",
        "    -a 'src=template/jupyterhub/nginx/default.conf dest={{{{base_dir}}}}/jupyterhub/nginx backup=yes'\n",
        "!ansible {target_hub} -Dv -m template \\\n",
        "    -a 'src=edit/lms_web_service.py dest={{{{jupyterhub_dir}}}}/jupyterhub backup=yes'\n",
        "!ansible {target_hub} -Dv -m template \\\n",
        "    -a 'src=edit/jupyterhub_config.py dest={{{{jupyterhub_dir}}}}/jupyterhub backup=yes'\n",
        "!ansible {target_hub} -Dv -m template \\\n",
        "    -a 'src=edit/jupyterhub_params.yaml dest={{{{jupyterhub_dir}}}}/jupyterhub backup=yes'"
      ]
    },
    {
      "cell_type": "markdown",
      "metadata": {
        "hidden": true,
        "lc_cell_meme": {
          "current": "5c09038e-163a-11ee-987e-0242ac110002-4-8c44-9e11-599e-0518",
          "next": "5c090456-163a-11ee-987e-0242ac110002-4-c972-54a4-b678-0152",
          "previous": "5c0902f8-163a-11ee-987e-0242ac110002-4-fe00-3ffd-81df-68ba"
        }
      },
      "source": [
        "### \u30b3\u30f3\u30c6\u30ca\u306e\u8d77\u52d5\n",
        "\n",
        "\u30b3\u30f3\u30c6\u30ca\u3092\u8d77\u52d5\u3057\u307e\u3059\u3002"
      ]
    },
    {
      "cell_type": "code",
      "execution_count": null,
      "metadata": {
        "hidden": true,
        "lc_cell_meme": {
          "current": "5c090456-163a-11ee-987e-0242ac110002-4-c972-54a4-b678-0152",
          "next": "5c090500-163a-11ee-987e-0242ac110002-4-3286-129b-5e0b-e68e",
          "previous": "5c09038e-163a-11ee-987e-0242ac110002-4-8c44-9e11-599e-0518"
        }
      },
      "outputs": [],
      "source": [
        "!ansible {target_hub} -a 'chdir={{{{base_dir}}}}/jupyterhub \\\n",
        "    docker stack deploy -c docker-compose.yml {{{{ugroup_name}}}}'"
      ]
    },
    {
      "cell_type": "markdown",
      "metadata": {
        "hidden": true,
        "lc_cell_meme": {
          "current": "5c090500-163a-11ee-987e-0242ac110002-4-3286-129b-5e0b-e68e",
          "next": "5c090596-163a-11ee-987e-0242ac110002-4-db76-9935-7ac7-1a2b",
          "previous": "5c090456-163a-11ee-987e-0242ac110002-4-c972-54a4-b678-0152"
        }
      },
      "source": [
        "\u30b3\u30f3\u30c6\u30ca\u306e\u8d77\u52d5\u72b6\u614b\u3092\u78ba\u8a8d\u3057\u307e\u3059\u3002"
      ]
    },
    {
      "cell_type": "code",
      "execution_count": null,
      "metadata": {
        "hidden": true,
        "lc_cell_meme": {
          "current": "5c090596-163a-11ee-987e-0242ac110002-4-db76-9935-7ac7-1a2b",
          "next": "8880b080-4c66-11ee-96eb-0242ac110002",
          "previous": "5c090500-163a-11ee-987e-0242ac110002-4-3286-129b-5e0b-e68e"
        }
      },
      "outputs": [],
      "source": [
        "!ansible {target_hub} -a 'docker stack ps {{{{ugroup_name}}}}'"
      ]
    },
    {
      "cell_type": "markdown",
      "metadata": {
        "hidden": true,
        "lc_cell_meme": {
          "current": "8880b080-4c66-11ee-96eb-0242ac110002",
          "next": "8880b1b6-4c66-11ee-96eb-0242ac110002",
          "previous": "5c090596-163a-11ee-987e-0242ac110002-4-db76-9935-7ac7-1a2b"
        }
      },
      "source": [
        "Master\u30ce\u30fc\u30c9\u306b\u3066\u3001jupyterhub\u306e\u30d8\u30eb\u30b9\u30c1\u30a7\u30c3\u30af\u7528URL\u306b\u5411\u3051\u3066\u3001curl\u30b3\u30de\u30f3\u30c9\u3092\u5b9f\u884c\u3057\u3066\u307f\u307e\u3059\u3002    \n",
        "\u8d77\u52d5\u306b\u6642\u9593\u304c\u304b\u304b\u308b\u5834\u5408\u304c\u3042\u308b\u305f\u3081\u3001\u6307\u5b9a\u56de\u6570\u3092\u4e0a\u9650\u3068\u3057\u3001\u6210\u529f\u3059\u308b\u307e\u3067\u30ea\u30c8\u30e9\u30a4\u3057\u307e\u3059\u3002  \n",
        "\u30b9\u30c6\u30fc\u30bf\u30b9\u30b3\u30fc\u30c9`200`\u304c\u8fd4\u308b\u3068\u3001\u3053\u306e\u30bb\u30eb\u306f\u6b63\u5e38\u7d42\u4e86\u3057\u307e\u3059\u3002  \n",
        "\n",
        "\u203bmanager\u30ce\u30fc\u30c9\uff08\u306eVM\uff09\u3078\u306e\u30a2\u30af\u30bb\u30b9\u5236\u9650\u3092\u884c\u3063\u3066\u3044\u308b\u5834\u5408\u3001\u3053\u306e\u69cb\u7bc9\u74b0\u5883\u304b\u3089\u306f\u30a2\u30af\u30bb\u30b9\u3067\u304d\u306a\u3044\u5834\u5408\u304c\u3042\u308a\u307e\u3059\u3002\u305d\u306e\u5834\u5408\u306f\u3001\u8a31\u53ef\u3055\u308c\u305f\u30a2\u30af\u30bb\u30b9\u5143\u304b\u3089\u3001https://{master_fqdn}/hub/health\u306bGET\u30ea\u30af\u30a8\u30b9\u30c8\u3092\u884c\u3046\u304b\u3001https://{master_fqdn}/\u306b\u30d6\u30e9\u30a6\u30b6\u3067\u30a2\u30af\u30bb\u30b9\u3057\u3001\u753b\u9762\u304c\u8868\u793a\u3055\u308c\u308c\u3070\u554f\u984c\u3042\u308a\u307e\u305b\u3093\u3002\n",
        "\u3053\u306e\u3088\u3046\u306a\u30a2\u30af\u30bb\u30b9\u5236\u9650\u3092\u884c\u3046\u5834\u5408\u306f\u3001Jupyterhub\u306b\u8a2d\u5b9a\u3057\u3066\u3044\u308b\u30b0\u30ed\u30fc\u30d0\u30ebIP\u30a2\u30c9\u30ec\u30b9\u304b\u3089Moodle\u3078\u306e\u30a2\u30af\u30bb\u30b9\u3092\u8a31\u53ef\u3059\u308b\u5fc5\u8981\u304c\u3042\u308a\u307e\u3059\u3002"
      ]
    },
    {
      "cell_type": "code",
      "execution_count": null,
      "metadata": {
        "hidden": true,
        "lc_cell_meme": {
          "current": "8880b1b6-4c66-11ee-96eb-0242ac110002",
          "next": "5c09088e-163a-11ee-987e-0242ac110002-4-f0a4-5f11-0261-b67c",
          "previous": "8880b080-4c66-11ee-96eb-0242ac110002"
        }
      },
      "outputs": [],
      "source": [
        "import time\n",
        "\n",
        "# \u898f\u5b9a\u56de\u6570\n",
        "retry_max = 18\n",
        "err = None\n",
        "\n",
        "for retry in range(retry_max):\n",
        "    try:\n",
        "        !ansible {target_hub} -m uri -a \"url=https://{master_fqdn}/hub/health\"\n",
        "        break\n",
        "\n",
        "    except Exception as e:\n",
        "        print(\"retry\")\n",
        "        err = e\n",
        "        time.sleep(10)\n",
        "else:\n",
        "    raise err"
      ]
    },
    {
      "cell_type": "markdown",
      "metadata": {
        "hidden": true,
        "lc_cell_meme": {
          "current": "5c09088e-163a-11ee-987e-0242ac110002-4-f0a4-5f11-0261-b67c",
          "next": "5c090924-163a-11ee-987e-0242ac110002-4-1d21-0be3-b333-4fa4",
          "previous": "8880b1b6-4c66-11ee-96eb-0242ac110002"
        }
      },
      "source": [
        "`MariaDB` \u30b3\u30f3\u30c6\u30ca\u306e\u30ed\u30b0\u3092\u8868\u793a\u3057\u3066\u307f\u307e\u3059\u3002"
      ]
    },
    {
      "cell_type": "code",
      "execution_count": null,
      "metadata": {
        "hidden": true,
        "lc_cell_meme": {
          "current": "5c090924-163a-11ee-987e-0242ac110002-4-1d21-0be3-b333-4fa4",
          "next": "5c0909ba-163a-11ee-987e-0242ac110002-4-d899-f5d7-c318-7135",
          "previous": "5c09088e-163a-11ee-987e-0242ac110002-4-f0a4-5f11-0261-b67c"
        },
        "scrolled": true
      },
      "outputs": [],
      "source": [
        "!ansible {target_hub} -a 'docker service logs {{{{ugroup_name}}}}_mariadb'"
      ]
    },
    {
      "cell_type": "markdown",
      "metadata": {
        "hidden": true,
        "lc_cell_meme": {
          "current": "5c0909ba-163a-11ee-987e-0242ac110002-4-d899-f5d7-c318-7135",
          "next": "5c090a5a-163a-11ee-987e-0242ac110002-4-8021-add4-013b-8912",
          "previous": "5c090924-163a-11ee-987e-0242ac110002-4-1d21-0be3-b333-4fa4"
        }
      },
      "source": [
        "`jupyterhub` \u30b3\u30f3\u30c6\u30ca\u306e\u30ed\u30b0\u3092\u8868\u793a\u3057\u3066\u307f\u307e\u3059\u3002\n",
        "\n",
        "> DB\u306b\u63a5\u7d9a\u3067\u304d\u306a\u3044\u306a\u3069\u306e\u30a8\u30e9\u30fc\u304c\u8868\u793a\u3055\u308c\u3066\u3044\u306a\u3044\u3053\u3068\u3092\u78ba\u8a8d\u3057\u3066\u304f\u3060\u3055\u3044\u3002"
      ]
    },
    {
      "cell_type": "code",
      "execution_count": null,
      "metadata": {
        "hidden": true,
        "lc_cell_meme": {
          "current": "5c090a5a-163a-11ee-987e-0242ac110002-4-8021-add4-013b-8912",
          "next": "5c090afa-163a-11ee-987e-0242ac110002-4-bb13-c5f8-5498-2e34",
          "previous": "5c0909ba-163a-11ee-987e-0242ac110002-4-d899-f5d7-c318-7135"
        },
        "scrolled": true
      },
      "outputs": [],
      "source": [
        "!ansible {target_hub} -a 'docker service logs {{{{ugroup_name}}}}_jupyterhub'"
      ]
    },
    {
      "cell_type": "markdown",
      "metadata": {
        "hidden": true,
        "lc_cell_meme": {
          "current": "5c090afa-163a-11ee-987e-0242ac110002-4-bb13-c5f8-5498-2e34",
          "next": "5c090b90-163a-11ee-987e-0242ac110002-4-48e2-0d58-eeec-6c96",
          "previous": "5c090a5a-163a-11ee-987e-0242ac110002-4-8021-add4-013b-8912"
        }
      },
      "source": [
        "`Nginx` \u30b3\u30f3\u30c6\u30ca\u306e\u30ed\u30b0\u3092\u8868\u793a\u3057\u3066\u307f\u307e\u3059\u3002\n",
        "\n",
        "> \u8a3c\u660e\u66f8\u8a2d\u5b9a\u306b\u8aa4\u308a\u304c\u3042\u308b\u306a\u3069\u306e\u30a8\u30e9\u30fc\u304c\u8868\u793a\u3055\u308c\u3066\u3044\u306a\u3044\u3053\u3068\u3092\u78ba\u8a8d\u3057\u3066\u304f\u3060\u3055\u3044\u3002"
      ]
    },
    {
      "cell_type": "code",
      "execution_count": null,
      "metadata": {
        "hidden": true,
        "lc_cell_meme": {
          "current": "5c090b90-163a-11ee-987e-0242ac110002-4-48e2-0d58-eeec-6c96",
          "next": "0d2b60f6-923e-11ee-880b-0242ac110002",
          "previous": "5c090afa-163a-11ee-987e-0242ac110002-4-bb13-c5f8-5498-2e34"
        },
        "scrolled": true
      },
      "outputs": [],
      "source": [
        "!ansible {target_hub} -a 'docker service logs {{{{ugroup_name}}}}_proxy'"
      ]
    },
    {
      "cell_type": "markdown",
      "metadata": {
        "lc_cell_meme": {
          "current": "0d2b60f6-923e-11ee-880b-0242ac110002",
          "next": "5c090afa-163a-11ee-987e-0242ac110002-5-bb13-c5f8-5498-2e34-9111",
          "previous": "5c090b90-163a-11ee-987e-0242ac110002-4-48e2-0d58-eeec-6c96"
        }
      },
      "source": [
        "## LMS\u8a2d\u5b9a"
      ]
    },
    {
      "cell_type": "markdown",
      "metadata": {
        "lc_cell_meme": {
          "current": "5c090afa-163a-11ee-987e-0242ac110002-5-bb13-c5f8-5498-2e34-9111",
          "next": "692a46f4-8abb-11ee-880b-0242ac110002",
          "previous": "0d2b60f6-923e-11ee-880b-0242ac110002"
        }
      },
      "source": [
        "LTI\u8a8d\u8a3c\u9023\u643a\u3067\u53d7\u8b1b\u751f\u60c5\u5831\u3092\u53d6\u5f97\u3059\u308b\u305f\u3081\u306b\u5fc5\u8981\u306a\u516c\u958b\u9375\u60c5\u5831\u3092\u8868\u793a\u3057\u307e\u3059\u3002  \n",
        "NRPS\uff08Names and Role Provisioning Services\uff09\u3092\u5229\u7528\u3067\u304d\u308b\u5834\u5408\u3001\u8868\u793a\u3055\u308c\u305f\u516c\u958b\u9375\u60c5\u5831\u3092\u3001\u4e8b\u524d\u306b\u8a2d\u5b9a\u3057\u305fMoodle\u306e\u5916\u90e8\u30c4\u30fc\u30eb\u8a2d\u5b9a\u306b\u3066\u3001RSA\u9375\u306e\u6b04\u306b\u30b3\u30d4\u30fc\uff06\u30da\u30fc\u30b9\u30c8\u3057\u3066\u304f\u3060\u3055\u3044\u3002  \n",
        "\u8a2d\u5b9a\u4f8b\u306b\u3064\u3044\u3066\u3001\u300c021-Moodle\u306e\u5916\u90e8\u30c4\u30fc\u30eb\u8a2d\u5b9a\u4f8b\uff08lti1.3&JupyterHub\uff09\u300d\u30ce\u30fc\u30c8\u30d6\u30c3\u30af\u306e\u300cNRPS\u5229\u7528\u306e\u5834\u5408\u306e\u8a2d\u5b9a\u300d\u306e\u7ae0\u306b\u56f3\u89e3\u304c\u3042\u308a\u307e\u3059\u3002"
      ]
    },
    {
      "cell_type": "code",
      "execution_count": null,
      "metadata": {
        "lc_cell_meme": {
          "current": "692a46f4-8abb-11ee-880b-0242ac110002",
          "next": null,
          "previous": "5c090afa-163a-11ee-987e-0242ac110002-5-bb13-c5f8-5498-2e34-9111"
        }
      },
      "outputs": [],
      "source": [
        "if not get_course_member_method == 'moodle_api':\n",
        "    !ansible {target_hub} -a \\\n",
        "        'cat  {{{{jupyterhub_dir}}}}/jupyterhub/public_key_nrps.pem'"
      ]
    }
  ],
  "metadata": {
    "kernelspec": {
      "display_name": "Python 3",
      "language": "python",
      "name": "python3"
    },
    "language_info": {
      "file_extension": ".py",
      "mimetype": "text/x-python",
      "name": "python",
      "nbconvert_exporter": "python",
      "pygments_lexer": "ipython3",
      "version": "3.10.4"
    },
    "lc_notebook_meme": {
      "current": "5c08ad1c-163a-11ee-987e-0242ac110002",
      "lc_server_signature": {
        "current": {
          "notebook_dir": "/notebooks/notebook",
          "notebook_path": "/work_terayama/yamaguchi-hub/notebooks",
          "server_url": "https://vcc1045.vcp-handson.org/jupyter3/",
          "signature_id": "3c8e5600-416c-11ee-819d-0242ac110002"
        }
      }
    },
    "toc": {
      "base_numbering": 1,
      "nav_menu": {},
      "number_sections": true,
      "sideBar": true,
      "skip_h1_title": true,
      "title_cell": "Table of Contents",
      "title_sidebar": "Contents",
      "toc_cell": false,
      "toc_position": {
        "height": "calc(100% - 180px)",
        "left": "10px",
        "top": "150px",
        "width": "299.867px"
      },
      "toc_section_display": true,
      "toc_window_display": true
    }
  },
  "nbformat": 4,
  "nbformat_minor": 2
}