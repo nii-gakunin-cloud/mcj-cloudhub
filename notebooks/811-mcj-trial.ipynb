{
  "cells": [
    {
      "cell_type": "markdown",
      "metadata": {
        "lc_cell_meme": {
          "current": "8893444c-2bba-11ee-987e-0242ac110002-7-73c3-2380-eba6-4e41-6079-fd3b-89d8",
          "next": "88934546-2bba-11ee-987e-0242ac110002-7-a666-8fd2-ac0e-120e-36a0-a024-5a34",
          "previous": null
        }
      },
      "source": [
        "# MCJ-CloudHub試用環境作成\n",
        "\n",
        "---\n",
        "\n",
        "MCJ-CloudHub動作確認（試用）用環境作成Notebook。  \n",
        "MoodleとMCJ-CloudHubを１つのVM上で構築する。  \n",
        "\n",
        "## 事前準備\n",
        "- VCノード構築可能なVM * 1\n",
        "- `/notebooks/notebook/token.txt` にテキストファイルとしてVCCアクセストークンが保存されている\n",
        "- `/notebooks/notebook/certs/fullchain.pem` としてSSL証明書が保存されている\n",
        "- `/notebooks/notebook/certs/privkey.pem` としてSSL証明書の秘密鍵が保存されている\n",
        "\n",
        "## 流れ\n",
        "1. VCノード作成\n",
        "1. MCJ-CloudHub構築\n",
        "1. Moodle構築\n",
        "1. Moodle外部ツール設定\n",
        "1. MCJ-CloudHub設定ファイル更新（Moodleで外部ツール設定後に生成されるシークレット情報を設定する）"
      ]
    },
    {
      "cell_type": "markdown",
      "metadata": {
        "lc_cell_meme": {
          "current": "88934546-2bba-11ee-987e-0242ac110002-7-a666-8fd2-ac0e-120e-36a0-a024-5a34",
          "next": "2f4ca2d4-7f93-11ee-880b-0242ac110002-5-ccba-79f2-4357-a83c-917c",
          "previous": "8893444c-2bba-11ee-987e-0242ac110002-7-73c3-2380-eba6-4e41-6079-fd3b-89d8"
        }
      },
      "source": [
        "## はじめに\n",
        "\n",
        "このNotebookではJupyterHub環境を構築するためのノード作成を行います。managerノードにNFSサーバを配置する構成とします。  \n",
        "本ノートブックで構築する部分を以下に図示します。"
      ]
    },
    {
      "cell_type": "markdown",
      "metadata": {
        "lc_cell_meme": {
          "current": "2f4ca2d4-7f93-11ee-880b-0242ac110002-5-ccba-79f2-4357-a83c-917c",
          "next": "4f065e40-1416-11ef-b7c6-005056b0158c-4-055b-74c5-4339-0f38",
          "previous": "88934546-2bba-11ee-987e-0242ac110002-7-a666-8fd2-ac0e-120e-36a0-a024-5a34"
        }
      },
      "source": [
        "![モジュール構成](images/011/arch-011.png)"
      ]
    },
    {
      "cell_type": "code",
      "execution_count": null,
      "metadata": {
        "lc_cell_meme": {
          "current": "4f065e40-1416-11ef-b7c6-005056b0158c-4-055b-74c5-4339-0f38",
          "next": "22906206-1417-11ef-b7c6-005056b0158c-4-8af2-3533-aace-3a22",
          "previous": "2f4ca2d4-7f93-11ee-880b-0242ac110002-5-ccba-79f2-4357-a83c-917c"
        }
      },
      "outputs": [],
      "source": [
        "# ユーザごとに異なる項目\n",
        "\n",
        "ugroup_name = \n",
        "vc_ipaddress = \n",
        "worker_ipaddresses = [\n",
        "]\n",
        "\n",
        "# JupyterHubのホスト名(FQDN) (例) 'www.sample.org'\n",
        "jupyterhub_fqdn = \n",
        "\n",
        "# provider\n",
        "# vc_provider = 'aws'\n",
        "vc_provider = 'onpremises'\n",
        "ssh_user = 'mdxuser'\n",
        "\n",
        "# moodle\n",
        "import random\n",
        "import string\n",
        "moodle_db_password = ''.join([random.choice(\"abcdefghijklmnopqrstuvwxyz\" + string.digits) for _ in range(32)])\n",
        "moodle_admin_password = ''.join([random.choice(\"abcdefghijklmnopqrstuvwxyz\" + string.digits) for _ in range(10)])\n",
        "\n",
        "print(f'moodle_db_password={moodle_db_password}')\n",
        "print(f'moodle_admin_password={moodle_admin_password}')"
      ]
    },
    {
      "cell_type": "markdown",
      "metadata": {
        "heading_collapsed": true,
        "lc_cell_meme": {
          "current": "22906206-1417-11ef-b7c6-005056b0158c-4-8af2-3533-aace-3a22",
          "next": "1668fc30-1670-11ef-b7c6-005056b0158c-3-1b3e-2822-757b",
          "previous": "4f065e40-1416-11ef-b7c6-005056b0158c-4-055b-74c5-4339-0f38"
        }
      },
      "source": [
        "## VCノード作成・Moodle起動  \n",
        "\n",
        "以下まとめ実行する。"
      ]
    },
    {
      "cell_type": "markdown",
      "metadata": {
        "heading_collapsed": true,
        "hidden": true,
        "lc_cell_meme": {
          "current": "1668fc30-1670-11ef-b7c6-005056b0158c-3-1b3e-2822-757b",
          "next": "88935298-2bba-11ee-987e-0242ac110002-7-5a43-6045-69ec-2068-28f2-2a42-0d06",
          "previous": "22906206-1417-11ef-b7c6-005056b0158c-4-8af2-3533-aace-3a22"
        }
      },
      "source": [
        "### VCノード作成"
      ]
    },
    {
      "cell_type": "code",
      "execution_count": null,
      "metadata": {
        "hidden": true,
        "lc_cell_meme": {
          "current": "88935298-2bba-11ee-987e-0242ac110002-7-5a43-6045-69ec-2068-28f2-2a42-0d06",
          "next": "88935338-2bba-11ee-987e-0242ac110002-7-7217-4801-d4bf-26ff-457e-c412-f9b6",
          "previous": "1668fc30-1670-11ef-b7c6-005056b0158c-3-1b3e-2822-757b"
        },
        "tags": [
          "vcp:skip",
          "vcp:parameters"
        ]
      },
      "outputs": [],
      "source": [
        "import os\n",
        "from getpass import getpass\n",
        "\n",
        "with open('/notebooks/notebook/token.txt', 'r') as f:\n",
        "    vcc_access_token = f.read()"
      ]
    },
    {
      "cell_type": "markdown",
      "metadata": {
        "hidden": true,
        "lc_cell_meme": {
          "current": "88935338-2bba-11ee-987e-0242ac110002-7-7217-4801-d4bf-26ff-457e-c412-f9b6",
          "next": "889353d8-2bba-11ee-987e-0242ac110002-7-f369-9549-bb9f-1e5f-d6e6-618b-ce52",
          "previous": "88935298-2bba-11ee-987e-0242ac110002-7-5a43-6045-69ec-2068-28f2-2a42-0d06"
        }
      },
      "source": [
        "入力されたアクセストークンが正しいことを、実際にVCCにアクセスして確認します。"
      ]
    },
    {
      "cell_type": "code",
      "execution_count": null,
      "metadata": {
        "hidden": true,
        "lc_cell_meme": {
          "current": "889353d8-2bba-11ee-987e-0242ac110002-7-f369-9549-bb9f-1e5f-d6e6-618b-ce52",
          "next": "078053c8-1416-11ef-b7c6-005056b0158c-4-3bb4-65ad-dba8-2f9a",
          "previous": "88935338-2bba-11ee-987e-0242ac110002-7-7217-4801-d4bf-26ff-457e-c412-f9b6"
        },
        "tags": [
          "vcp:rewrite:vcpsdk"
        ]
      },
      "outputs": [],
      "source": [
        "from common import logsetting\n",
        "from vcpsdk.vcpsdk import VcpSDK\n",
        "\n",
        "vcp = VcpSDK(vcc_access_token)"
      ]
    },
    {
      "cell_type": "code",
      "execution_count": null,
      "metadata": {
        "hidden": true,
        "lc_cell_meme": {
          "current": "078053c8-1416-11ef-b7c6-005056b0158c-4-3bb4-65ad-dba8-2f9a",
          "next": "88937a02-2bba-11ee-987e-0242ac110002-7-8455-6314-459f-dec7-e96a-bcdf-be93",
          "previous": "889353d8-2bba-11ee-987e-0242ac110002-7-f369-9549-bb9f-1e5f-d6e6-618b-ce52"
        }
      },
      "outputs": [],
      "source": [
        "if vc_provider == 'onpremises':\n",
        "    manager_flavor = 'default'\n",
        "    worker_flavor = 'default'\n",
        "else:\n",
        "    manager_flavor = 'small'\n",
        "    worker_flavor = 'small'\n",
        "\n",
        "manager_disk_size = 16\n",
        "worker_disk_size = 16\n",
        "worker_nodes = 0\n",
        "ssh_public_key_path = '~/.ssh/id_rsa.pub'\n",
        "ssh_private_key_path = '~/.ssh/id_rsa'\n",
        "docker_address_pool = '10.10.0.0/16'"
      ]
    },
    {
      "cell_type": "code",
      "execution_count": null,
      "metadata": {
        "hidden": true,
        "lc_cell_meme": {
          "current": "88937a02-2bba-11ee-987e-0242ac110002-7-8455-6314-459f-dec7-e96a-bcdf-be93",
          "next": "88937aac-2bba-11ee-987e-0242ac110002-7-3679-f5a8-c554-5442-4e76-a197-4b54",
          "previous": "078053c8-1416-11ef-b7c6-005056b0158c-4-3bb4-65ad-dba8-2f9a"
        }
      },
      "outputs": [],
      "source": [
        "%run scripts/check_params.py\n",
        "check_parameters(\n",
        "    'ugroup_name',\n",
        "    'vc_provider',\n",
        "    'manager_flavor',\n",
        "    'manager_disk_size',\n",
        "    'worker_flavor',\n",
        "    'worker_disk_size',\n",
        "    'worker_nodes',\n",
        "    'vc_ipaddress',\n",
        "    'worker_ipaddresses',\n",
        "    'vc_mac_address',\n",
        "    'worker_mac_addresses',\n",
        "    'docker_address_pool',\n",
        "    'ssh_public_key_path',\n",
        "    'ssh_private_key_path',\n",
        "    params={\n",
        "        'vcp': vcp,\n",
        "        'opt_vars': [\n",
        "            'vc_ipaddress', 'worker_ipaddresses',\n",
        "            'vc_mac_address', 'worker_mac_addresses',\n",
        "        ],\n",
        "    },\n",
        "    nb_vars=locals(),\n",
        ")\n",
        "\n",
        "if vc_provider == 'onpremises':\n",
        "    if not ssh_user:\n",
        "        raise NotImplementedError\n",
        "        print('ssh_user is required if construct on onpremises')\n",
        "    \n",
        "    worker_flavor = 'default'\n",
        "    manager_flavor = 'default'"
      ]
    },
    {
      "cell_type": "markdown",
      "metadata": {
        "hidden": true,
        "lc_cell_meme": {
          "current": "88937aac-2bba-11ee-987e-0242ac110002-7-3679-f5a8-c554-5442-4e76-a197-4b54",
          "next": "88937b4c-2bba-11ee-987e-0242ac110002-7-7dbb-c577-de8f-89db-761e-65a2-00f6",
          "previous": "88937a02-2bba-11ee-987e-0242ac110002-7-8455-6314-459f-dec7-e96a-bcdf-be93"
        }
      },
      "source": [
        "次のセルを実行すると、この章で指定したパラメータが group_vars ファイルに保存されます。"
      ]
    },
    {
      "cell_type": "code",
      "execution_count": null,
      "metadata": {
        "hidden": true,
        "lc_cell_meme": {
          "current": "88937b4c-2bba-11ee-987e-0242ac110002-7-7dbb-c577-de8f-89db-761e-65a2-00f6",
          "next": "88937bf6-2bba-11ee-987e-0242ac110002-7-f3f9-d07e-09e6-d50e-0371-3a4a-dda0",
          "previous": "88937aac-2bba-11ee-987e-0242ac110002-7-3679-f5a8-c554-5442-4e76-a197-4b54"
        }
      },
      "outputs": [],
      "source": [
        "import os\n",
        "%run scripts/group.py\n",
        "update_group_vars(\n",
        "    ugroup_name,\n",
        "    ugroup_name=ugroup_name,\n",
        "    vc_provider=vc_provider,\n",
        "    manager_flavor=manager_flavor,\n",
        "    manager_disk_size=manager_disk_size,\n",
        "    worker_flavor=worker_flavor,\n",
        "    worker_disk_size=worker_disk_size,\n",
        "    worker_nodes=worker_nodes,\n",
        "    docker_address_pool=docker_address_pool,\n",
        "    ssh_public_key_path=os.path.expanduser(ssh_public_key_path),\n",
        "    ssh_private_key_path=os.path.expanduser(ssh_private_key_path),\n",
        "    moodle_db_password=moodle_db_password,\n",
        "    moodle_admin_password=moodle_admin_password,\n",
        "    jupyterhub_fqdn=jupyterhub_fqdn,\n",
        ")\n",
        "if 'vc_ipaddress' in vars():\n",
        "    update_group_vars(ugroup_name, vc_ipaddress=vc_ipaddress)\n",
        "if 'worker_ipaddresses' in vars():\n",
        "    update_group_vars(ugroup_name, worker_ipaddresses=worker_ipaddresses)\n",
        "if 'vc_mac_address' in vars():\n",
        "    update_group_vars(ugroup_name, vc_mac_address=vc_mac_address)\n",
        "if 'worker_mac_addresses' in vars():\n",
        "    update_group_vars(ugroup_name, worker_mac_addresses=worker_mac_addresses)"
      ]
    },
    {
      "cell_type": "markdown",
      "metadata": {
        "hidden": true,
        "lc_cell_meme": {
          "current": "88937bf6-2bba-11ee-987e-0242ac110002-7-f3f9-d07e-09e6-d50e-0371-3a4a-dda0",
          "next": "88937c96-2bba-11ee-987e-0242ac110002-7-2d47-12ef-9ce6-c4d2-88d9-060e-87cf",
          "previous": "88937b4c-2bba-11ee-987e-0242ac110002-7-7dbb-c577-de8f-89db-761e-65a2-00f6"
        }
      },
      "source": [
        "group_vars ファイルの内容を表示して保存されたパラメータを確認します。"
      ]
    },
    {
      "cell_type": "code",
      "execution_count": null,
      "metadata": {
        "hidden": true,
        "lc_cell_meme": {
          "current": "88937c96-2bba-11ee-987e-0242ac110002-7-2d47-12ef-9ce6-c4d2-88d9-060e-87cf",
          "next": "88937eda-2bba-11ee-987e-0242ac110002-7-6141-c61d-7ce5-e84f-0887-1766-caef",
          "previous": "88937bf6-2bba-11ee-987e-0242ac110002-7-f3f9-d07e-09e6-d50e-0371-3a4a-dda0"
        }
      },
      "outputs": [],
      "source": [
        "!cat group_vars/{ugroup_name}"
      ]
    },
    {
      "cell_type": "code",
      "execution_count": null,
      "metadata": {
        "hidden": true,
        "lc_cell_meme": {
          "current": "88937eda-2bba-11ee-987e-0242ac110002-7-6141-c61d-7ce5-e84f-0887-1766-caef",
          "next": "88937f8e-2bba-11ee-987e-0242ac110002-7-f8d0-9ab7-0790-a6fb-d6a9-8a0f-132c",
          "previous": "88937c96-2bba-11ee-987e-0242ac110002-7-2d47-12ef-9ce6-c4d2-88d9-060e-87cf"
        },
        "tags": [
          "vcp:skip",
          "vcp:parameters"
        ]
      },
      "outputs": [],
      "source": [
        "# (例)\n",
        "# vc_nfs_disk_size = 32\n",
        "\n",
        "vc_nfs_disk_size = 0"
      ]
    },
    {
      "cell_type": "markdown",
      "metadata": {
        "hidden": true,
        "lc_cell_meme": {
          "current": "88937f8e-2bba-11ee-987e-0242ac110002-7-f8d0-9ab7-0790-a6fb-d6a9-8a0f-132c",
          "next": "88938038-2bba-11ee-987e-0242ac110002-7-908b-b597-7198-367f-673e-c565-3709",
          "previous": "88937eda-2bba-11ee-987e-0242ac110002-7-6141-c61d-7ce5-e84f-0887-1766-caef"
        }
      },
      "source": [
        "VCディスクのためのUnitGroup名を指定してください。ここではVCノードのUnitGroup名から自動的に導き出した名前を設定します。"
      ]
    },
    {
      "cell_type": "code",
      "execution_count": null,
      "metadata": {
        "hidden": true,
        "lc_cell_meme": {
          "current": "88938038-2bba-11ee-987e-0242ac110002-7-908b-b597-7198-367f-673e-c565-3709",
          "next": "889380d8-2bba-11ee-987e-0242ac110002-7-f989-82f7-89ea-de27-a404-79b1-cd8c",
          "previous": "88937f8e-2bba-11ee-987e-0242ac110002-7-f8d0-9ab7-0790-a6fb-d6a9-8a0f-132c"
        }
      },
      "outputs": [],
      "source": [
        "disk_unit_group = ugroup_name + '_disk'\n",
        "print(disk_unit_group)"
      ]
    },
    {
      "cell_type": "markdown",
      "metadata": {
        "hidden": true,
        "lc_cell_meme": {
          "current": "889380d8-2bba-11ee-987e-0242ac110002-7-f989-82f7-89ea-de27-a404-79b1-cd8c",
          "next": "88938182-2bba-11ee-987e-0242ac110002-7-688a-c0bd-8644-acf6-ba33-1ba8-498b",
          "previous": "88938038-2bba-11ee-987e-0242ac110002-7-908b-b597-7198-367f-673e-c565-3709"
        }
      },
      "source": [
        "この章で指定したパラメータの値をファイルに保存します。"
      ]
    },
    {
      "cell_type": "code",
      "execution_count": null,
      "metadata": {
        "hidden": true,
        "lc_cell_meme": {
          "current": "88938182-2bba-11ee-987e-0242ac110002-7-688a-c0bd-8644-acf6-ba33-1ba8-498b",
          "next": "88938222-2bba-11ee-987e-0242ac110002-7-a000-9325-455d-2469-a5e9-4d49-7e45",
          "previous": "889380d8-2bba-11ee-987e-0242ac110002-7-f989-82f7-89ea-de27-a404-79b1-cd8c"
        }
      },
      "outputs": [],
      "source": [
        "%run scripts/group.py\n",
        "\n",
        "if 'vc_nfs_disk_size' in vars() and vc_nfs_disk_size > 0:\n",
        "    if vc_provider in ['aws', 'azure']:\n",
        "        update_group_vars(\n",
        "            ugroup_name,\n",
        "            disk_unit_group=disk_unit_group,\n",
        "            vc_nfs_disk_size=vc_nfs_disk_size,\n",
        "        )\n",
        "    else:\n",
        "        del(vc_nfs_disk_size)"
      ]
    },
    {
      "cell_type": "markdown",
      "metadata": {
        "hidden": true,
        "lc_cell_meme": {
          "current": "88938222-2bba-11ee-987e-0242ac110002-7-a000-9325-455d-2469-a5e9-4d49-7e45",
          "next": "889382cc-2bba-11ee-987e-0242ac110002-7-365d-d8b7-adea-5fd2-a8c7-9af0-01aa",
          "previous": "88938182-2bba-11ee-987e-0242ac110002-7-688a-c0bd-8644-acf6-ba33-1ba8-498b"
        }
      },
      "source": [
        "group_vars ファイルの内容を表示して保存されたパラメータを確認します。"
      ]
    },
    {
      "cell_type": "code",
      "execution_count": null,
      "metadata": {
        "hidden": true,
        "lc_cell_meme": {
          "current": "889382cc-2bba-11ee-987e-0242ac110002-7-365d-d8b7-adea-5fd2-a8c7-9af0-01aa",
          "next": "88938812-2bba-11ee-987e-0242ac110002-7-38a5-4803-bf09-6e94-fac2-ac6c-83df",
          "previous": "88938222-2bba-11ee-987e-0242ac110002-7-a000-9325-455d-2469-a5e9-4d49-7e45"
        }
      },
      "outputs": [],
      "source": [
        "!cat group_vars/{ugroup_name}"
      ]
    },
    {
      "cell_type": "markdown",
      "metadata": {
        "hidden": true,
        "lc_cell_meme": {
          "current": "88938812-2bba-11ee-987e-0242ac110002-7-38a5-4803-bf09-6e94-fac2-ac6c-83df",
          "next": "889388b2-2bba-11ee-987e-0242ac110002-7-597e-a51f-3767-0c73-533b-649d-a337",
          "previous": "889382cc-2bba-11ee-987e-0242ac110002-7-365d-d8b7-adea-5fd2-a8c7-9af0-01aa"
        }
      },
      "source": [
        "UnitGroupを作成します。"
      ]
    },
    {
      "cell_type": "code",
      "execution_count": null,
      "metadata": {
        "hidden": true,
        "lc_cell_meme": {
          "current": "889388b2-2bba-11ee-987e-0242ac110002-7-597e-a51f-3767-0c73-533b-649d-a337",
          "next": "8893895c-2bba-11ee-987e-0242ac110002-7-bee2-26a9-7a4b-7547-2663-f402-22cc",
          "previous": "88938812-2bba-11ee-987e-0242ac110002-7-38a5-4803-bf09-6e94-fac2-ac6c-83df"
        }
      },
      "outputs": [],
      "source": [
        "%run scripts/group.py\n",
        "gvars = load_group_vars(ugroup_name)\n",
        "\n",
        "if 'disk_unit_group' in gvars and 'vc_nfs_disk_size' in gvars and gvars['vc_nfs_disk_size'] > 0:\n",
        "    ug_disk = vcp.create_ugroup(gvars['disk_unit_group'], ugroup_type='storage')"
      ]
    },
    {
      "cell_type": "markdown",
      "metadata": {
        "hidden": true,
        "lc_cell_meme": {
          "current": "8893895c-2bba-11ee-987e-0242ac110002-7-bee2-26a9-7a4b-7547-2663-f402-22cc",
          "next": "88938a06-2bba-11ee-987e-0242ac110002-7-52b6-50d6-84e4-44d0-0c75-676c-f79a",
          "previous": "889388b2-2bba-11ee-987e-0242ac110002-7-597e-a51f-3767-0c73-533b-649d-a337"
        }
      },
      "source": [
        "UnitGroup作成後の一覧を表示させます。"
      ]
    },
    {
      "cell_type": "code",
      "execution_count": null,
      "metadata": {
        "hidden": true,
        "lc_cell_meme": {
          "current": "88938a06-2bba-11ee-987e-0242ac110002-7-52b6-50d6-84e4-44d0-0c75-676c-f79a",
          "next": "88938aa6-2bba-11ee-987e-0242ac110002-7-b313-ab94-ee42-d8f8-1acb-7bf9-ffe4",
          "previous": "8893895c-2bba-11ee-987e-0242ac110002-7-bee2-26a9-7a4b-7547-2663-f402-22cc"
        }
      },
      "outputs": [],
      "source": [
        "vcp.df_ugroups()"
      ]
    },
    {
      "cell_type": "markdown",
      "metadata": {
        "heading_collapsed": true,
        "hidden": true,
        "lc_cell_meme": {
          "current": "88938aa6-2bba-11ee-987e-0242ac110002-7-b313-ab94-ee42-d8f8-1acb-7bf9-ffe4",
          "next": "88938b46-2bba-11ee-987e-0242ac110002-7-10da-a60b-2f9f-16bf-ffa5-c5f2-1806",
          "previous": "88938a06-2bba-11ee-987e-0242ac110002-7-52b6-50d6-84e4-44d0-0c75-676c-f79a"
        }
      },
      "source": [
        "### VCディスクの作成"
      ]
    },
    {
      "cell_type": "markdown",
      "metadata": {
        "hidden": true,
        "lc_cell_meme": {
          "current": "88938b46-2bba-11ee-987e-0242ac110002-7-10da-a60b-2f9f-16bf-ffa5-c5f2-1806",
          "next": "88938be6-2bba-11ee-987e-0242ac110002-7-cd76-9b27-f395-8db1-30d0-1515-409b",
          "previous": "88938aa6-2bba-11ee-987e-0242ac110002-7-b313-ab94-ee42-d8f8-1acb-7bf9-ffe4"
        }
      },
      "source": [
        "NFS用のVCディスクを作成します。"
      ]
    },
    {
      "cell_type": "code",
      "execution_count": null,
      "metadata": {
        "hidden": true,
        "lc_cell_meme": {
          "current": "88938be6-2bba-11ee-987e-0242ac110002-7-cd76-9b27-f395-8db1-30d0-1515-409b",
          "next": "88938c9a-2bba-11ee-987e-0242ac110002-7-a351-7b68-b639-33f9-f2a3-15a8-e147",
          "previous": "88938b46-2bba-11ee-987e-0242ac110002-7-10da-a60b-2f9f-16bf-ffa5-c5f2-1806"
        }
      },
      "outputs": [],
      "source": [
        "if 'ug_disk' in vars() and gvars['vc_nfs_disk_size'] > 0:\n",
        "    nfs_disk_spec = vcp.get_spec(gvars['vc_provider'] + '_disk', 'small')\n",
        "    if gvars['vc_provider'] == 'azure':\n",
        "        nfs_disk_spec.disk_size_gb = gvars['vc_nfs_disk_size']\n",
        "    elif gvars['vc_provider'] == 'oracle':\n",
        "        nfs_disk_spec.size_in_gbs = gvars['vc_nfs_disk_size']\n",
        "    else:\n",
        "        nfs_disk_spec.size = gvars['vc_nfs_disk_size']\n",
        "    ug_disk.create_unit('nfs', nfs_disk_spec)"
      ]
    },
    {
      "cell_type": "markdown",
      "metadata": {
        "hidden": true,
        "lc_cell_meme": {
          "current": "88938c9a-2bba-11ee-987e-0242ac110002-7-a351-7b68-b639-33f9-f2a3-15a8-e147",
          "next": "88938d44-2bba-11ee-987e-0242ac110002-7-a36c-f698-fbf3-1464-53c6-fe9d-e86b",
          "previous": "88938be6-2bba-11ee-987e-0242ac110002-7-cd76-9b27-f395-8db1-30d0-1515-409b"
        }
      },
      "source": [
        "作成したVCディスクの一覧を表示します。"
      ]
    },
    {
      "cell_type": "code",
      "execution_count": null,
      "metadata": {
        "hidden": true,
        "lc_cell_meme": {
          "current": "88938d44-2bba-11ee-987e-0242ac110002-7-a36c-f698-fbf3-1464-53c6-fe9d-e86b",
          "next": "88938e84-2bba-11ee-987e-0242ac110002-7-3171-5312-d533-9523-b657-4c4b-09dd",
          "previous": "88938c9a-2bba-11ee-987e-0242ac110002-7-a351-7b68-b639-33f9-f2a3-15a8-e147"
        }
      },
      "outputs": [],
      "source": [
        "from IPython.display import display\n",
        "if 'ug_disk' in vars():\n",
        "    display(ug_disk.df_nodes())"
      ]
    },
    {
      "cell_type": "markdown",
      "metadata": {
        "heading_collapsed": true,
        "hidden": true,
        "lc_cell_meme": {
          "current": "88938e84-2bba-11ee-987e-0242ac110002-7-3171-5312-d533-9523-b657-4c4b-09dd",
          "next": "88938f38-2bba-11ee-987e-0242ac110002-7-084b-1d1b-625a-b077-06f0-fb3a-ff82",
          "previous": "88938d44-2bba-11ee-987e-0242ac110002-7-a36c-f698-fbf3-1464-53c6-fe9d-e86b"
        }
      },
      "source": [
        "### managerノード"
      ]
    },
    {
      "cell_type": "markdown",
      "metadata": {
        "hidden": true,
        "lc_cell_meme": {
          "current": "88938f38-2bba-11ee-987e-0242ac110002-7-084b-1d1b-625a-b077-06f0-fb3a-ff82",
          "next": "88938fd8-2bba-11ee-987e-0242ac110002-7-2a6f-f2e3-4924-8a68-42ca-242d-b180",
          "previous": "88938e84-2bba-11ee-987e-0242ac110002-7-3171-5312-d533-9523-b657-4c4b-09dd"
        }
      },
      "source": [
        "#### manager用のVCノードを起動する"
      ]
    },
    {
      "cell_type": "markdown",
      "metadata": {
        "hidden": true,
        "lc_cell_meme": {
          "current": "88938fd8-2bba-11ee-987e-0242ac110002-7-2a6f-f2e3-4924-8a68-42ca-242d-b180",
          "next": "88939078-2bba-11ee-987e-0242ac110002-7-7d37-7570-cf81-ea0e-007b-aeed-7cd5",
          "previous": "88938f38-2bba-11ee-987e-0242ac110002-7-084b-1d1b-625a-b077-06f0-fb3a-ff82"
        }
      },
      "source": [
        "manager用VCノードの `spec` を指定します。"
      ]
    },
    {
      "cell_type": "code",
      "execution_count": null,
      "metadata": {
        "hidden": true,
        "lc_cell_meme": {
          "current": "88939078-2bba-11ee-987e-0242ac110002-7-7d37-7570-cf81-ea0e-007b-aeed-7cd5",
          "next": "8893912c-2bba-11ee-987e-0242ac110002-7-4d13-c1ff-80c6-8a53-555d-b40a-4001",
          "previous": "88938fd8-2bba-11ee-987e-0242ac110002-7-2a6f-f2e3-4924-8a68-42ca-242d-b180"
        },
        "tags": [
          "vcp:rewrite:container_image"
        ]
      },
      "outputs": [],
      "source": [
        "import sys\n",
        "%run scripts/group.py\n",
        "gvars = load_group_vars(ugroup_name)\n",
        "spec_mgr = vcp.get_spec(gvars['vc_provider'], gvars['manager_flavor'])\n",
        "\n",
        "# Baseコンテナイメージを指定する\n",
        "spec_mgr.image = 'harbor.vcloud.nii.ac.jp/vcp/coursewarehub:base-nfsd'\n",
        "spec_mgr.params_v = [\n",
        "    '/sys/fs/cgroup:/sys/fs/cgroup:ro',\n",
        "    '/lib/modules:/lib/modules:ro',\n",
        "]\n",
        "\n",
        "if 'vc_ipaddress' in gvars:\n",
        "    # manager用VCノードに割り当てるIPアドレスを指定する\n",
        "    spec_mgr.ip_addresses = [gvars['vc_ipaddress']]\n",
        "elif 'vc_mac_addresses' in gvars:\n",
        "    # manager用VCノードに割り当てるMACアドレスを指定する\n",
        "    spec_mgr.mac_addresses = [gvars['vc_mac_address']]\n",
        "    \n",
        "# ルートボリュームサイズを指定する\n",
        "if vc_provider == 'aws':\n",
        "    spec_mgr.volume_size = gvars['manager_disk_size']\n",
        "elif vc_provider == 'azure':\n",
        "    spec_mgr.disk_size_gb = gvars['manager_disk_size']\n",
        "else:\n",
        "    print('This provider does not support the specification of the root volume size.' +\n",
        "          ' Does not set the disk size.', file=sys.stderr)\n",
        "\n",
        "# オンプレミスに構築する場合、SSHログインユーザ名を指定\n",
        "if vc_provider == 'onpremises':\n",
        "    spec_mgr.user_name = ssh_user\n",
        "\n",
        "# VCノードにsshでログインするための公開鍵を指定する\n",
        "spec_mgr.set_ssh_pubkey(gvars['ssh_public_key_path'])\n",
        "spec_mgr.params_e.append(f\"UGROUP_NAME={ugroup_name}\")\n",
        "\n",
        "if 'ug_disk' in vars():\n",
        "    spec_mgr.disks = ug_disk.find_nodes()\n",
        "    if len(spec_mgr.disks) > 0:\n",
        "        spec_mgr.params_e.append(\"NFS_MKFS=yes\")\n",
        "else:\n",
        "    spec_mgr.params_v.append('/exported:/exported')"
      ]
    },
    {
      "cell_type": "markdown",
      "metadata": {
        "hidden": true,
        "lc_cell_meme": {
          "current": "8893912c-2bba-11ee-987e-0242ac110002-7-4d13-c1ff-80c6-8a53-555d-b40a-4001",
          "next": "889391cc-2bba-11ee-987e-0242ac110002-7-bec4-6df0-953d-063a-910a-34d6-30c9",
          "previous": "88939078-2bba-11ee-987e-0242ac110002-7-7d37-7570-cf81-ea0e-007b-aeed-7cd5"
        }
      },
      "source": [
        "`spec` の設定値を確認します。"
      ]
    },
    {
      "cell_type": "code",
      "execution_count": null,
      "metadata": {
        "hidden": true,
        "lc_cell_meme": {
          "current": "889391cc-2bba-11ee-987e-0242ac110002-7-bec4-6df0-953d-063a-910a-34d6-30c9",
          "next": "88939276-2bba-11ee-987e-0242ac110002-7-a9cf-442c-ca6a-d6fc-8842-f5aa-3373",
          "previous": "8893912c-2bba-11ee-987e-0242ac110002-7-4d13-c1ff-80c6-8a53-555d-b40a-4001"
        },
        "scrolled": false
      },
      "outputs": [],
      "source": [
        "print(spec_mgr)"
      ]
    },
    {
      "cell_type": "markdown",
      "metadata": {
        "hidden": true,
        "lc_cell_meme": {
          "current": "88939276-2bba-11ee-987e-0242ac110002-7-a9cf-442c-ca6a-d6fc-8842-f5aa-3373",
          "next": "88939316-2bba-11ee-987e-0242ac110002-7-07a2-5abd-f6fc-5460-6488-e14f-6919",
          "previous": "889391cc-2bba-11ee-987e-0242ac110002-7-bec4-6df0-953d-063a-910a-34d6-30c9"
        }
      },
      "source": [
        "UnitGroupを作成します。"
      ]
    },
    {
      "cell_type": "code",
      "execution_count": null,
      "metadata": {
        "hidden": true,
        "lc_cell_meme": {
          "current": "88939316-2bba-11ee-987e-0242ac110002-7-07a2-5abd-f6fc-5460-6488-e14f-6919",
          "next": "889393c0-2bba-11ee-987e-0242ac110002-7-4fcb-9e87-c72e-dfaf-5548-6fe9-63cb",
          "previous": "88939276-2bba-11ee-987e-0242ac110002-7-a9cf-442c-ca6a-d6fc-8842-f5aa-3373"
        }
      },
      "outputs": [],
      "source": [
        "ugroup = vcp.create_ugroup(ugroup_name)"
      ]
    },
    {
      "cell_type": "markdown",
      "metadata": {
        "hidden": true,
        "lc_cell_meme": {
          "current": "889393c0-2bba-11ee-987e-0242ac110002-7-4fcb-9e87-c72e-dfaf-5548-6fe9-63cb",
          "next": "88939460-2bba-11ee-987e-0242ac110002-7-f1c2-54da-0d5c-73c5-bc14-a5c5-ecce",
          "previous": "88939316-2bba-11ee-987e-0242ac110002-7-07a2-5abd-f6fc-5460-6488-e14f-6919"
        }
      },
      "source": [
        "manager用VCノードを起動します。"
      ]
    },
    {
      "cell_type": "code",
      "execution_count": null,
      "metadata": {
        "hidden": true,
        "lc_cell_meme": {
          "current": "88939460-2bba-11ee-987e-0242ac110002-7-f1c2-54da-0d5c-73c5-bc14-a5c5-ecce",
          "next": "88939500-2bba-11ee-987e-0242ac110002-7-fb03-406a-140f-9967-c45d-5150-5412",
          "previous": "889393c0-2bba-11ee-987e-0242ac110002-7-4fcb-9e87-c72e-dfaf-5548-6fe9-63cb"
        },
        "scrolled": true
      },
      "outputs": [],
      "source": [
        "unit_mgr = ugroup.create_unit('manager', spec_mgr)"
      ]
    },
    {
      "cell_type": "markdown",
      "metadata": {
        "hidden": true,
        "lc_cell_meme": {
          "current": "88939500-2bba-11ee-987e-0242ac110002-7-fb03-406a-140f-9967-c45d-5150-5412",
          "next": "889395a0-2bba-11ee-987e-0242ac110002-7-d73d-f7c4-dcbb-fc9d-43d6-612f-c720",
          "previous": "88939460-2bba-11ee-987e-0242ac110002-7-f1c2-54da-0d5c-73c5-bc14-a5c5-ecce"
        }
      },
      "source": [
        "起動したVCノードの一覧を表示します。\n",
        "\n",
        "vcname:　本ノートブックで指定した、`UnitGroup`  \n",
        "unit_name:　`manager`"
      ]
    },
    {
      "cell_type": "code",
      "execution_count": null,
      "metadata": {
        "hidden": true,
        "lc_cell_meme": {
          "current": "889395a0-2bba-11ee-987e-0242ac110002-7-d73d-f7c4-dcbb-fc9d-43d6-612f-c720",
          "next": "88939640-2bba-11ee-987e-0242ac110002-8-3d88-f1f3-d1f4-f8e6-3bd6-e8b4-59ec-7f96",
          "previous": "88939500-2bba-11ee-987e-0242ac110002-7-fb03-406a-140f-9967-c45d-5150-5412"
        }
      },
      "outputs": [],
      "source": [
        "unit_mgr.df_nodes()"
      ]
    },
    {
      "cell_type": "markdown",
      "metadata": {
        "hidden": true,
        "lc_cell_meme": {
          "current": "88939640-2bba-11ee-987e-0242ac110002-8-3d88-f1f3-d1f4-f8e6-3bd6-e8b4-59ec-7f96",
          "next": "889396ea-2bba-11ee-987e-0242ac110002-8-af56-446e-a18d-a1e2-cb13-639f-4455-35af",
          "previous": "889395a0-2bba-11ee-987e-0242ac110002-7-d73d-f7c4-dcbb-fc9d-43d6-612f-c720"
        }
      },
      "source": [
        "VCノードのIPアドレスを変数`vc_ipaddress`に設定します。"
      ]
    },
    {
      "cell_type": "code",
      "execution_count": null,
      "metadata": {
        "hidden": true,
        "lc_cell_meme": {
          "current": "889396ea-2bba-11ee-987e-0242ac110002-8-af56-446e-a18d-a1e2-cb13-639f-4455-35af",
          "next": "8893978a-2bba-11ee-987e-0242ac110002-8-2129-7647-8db9-8a1c-2af5-6895-aa7a-5025",
          "previous": "88939640-2bba-11ee-987e-0242ac110002-8-3d88-f1f3-d1f4-f8e6-3bd6-e8b4-59ec-7f96"
        }
      },
      "outputs": [],
      "source": [
        "vc_ipaddress = unit_mgr.find_ip_addresses()[0]\n",
        "print(vc_ipaddress)"
      ]
    },
    {
      "cell_type": "markdown",
      "metadata": {
        "hidden": true,
        "lc_cell_meme": {
          "current": "8893978a-2bba-11ee-987e-0242ac110002-8-2129-7647-8db9-8a1c-2af5-6895-aa7a-5025",
          "next": "8893982a-2bba-11ee-987e-0242ac110002-8-3675-5f2d-d625-424a-751a-9f25-7b1e-3bf0",
          "previous": "889396ea-2bba-11ee-987e-0242ac110002-8-af56-446e-a18d-a1e2-cb13-639f-4455-35af"
        }
      },
      "source": [
        "`group_vars`ファイルにIPアドレスの値を記録します。"
      ]
    },
    {
      "cell_type": "code",
      "execution_count": null,
      "metadata": {
        "hidden": true,
        "lc_cell_meme": {
          "current": "8893982a-2bba-11ee-987e-0242ac110002-8-3675-5f2d-d625-424a-751a-9f25-7b1e-3bf0",
          "next": "889398ca-2bba-11ee-987e-0242ac110002-7-9e79-b0d4-0cb1-9b78-186c-739b-5272",
          "previous": "8893978a-2bba-11ee-987e-0242ac110002-8-2129-7647-8db9-8a1c-2af5-6895-aa7a-5025"
        }
      },
      "outputs": [],
      "source": [
        "update_group_vars(ugroup_name, vc_ipaddress=vc_ipaddress)\n",
        "gvars = load_group_vars(ugroup_name)"
      ]
    },
    {
      "cell_type": "markdown",
      "metadata": {
        "hidden": true,
        "lc_cell_meme": {
          "current": "889398ca-2bba-11ee-987e-0242ac110002-7-9e79-b0d4-0cb1-9b78-186c-739b-5272",
          "next": "8893997e-2bba-11ee-987e-0242ac110002-7-b0a4-2787-bb8b-73a8-a35d-731e-eb97",
          "previous": "8893982a-2bba-11ee-987e-0242ac110002-8-3675-5f2d-d625-424a-751a-9f25-7b1e-3bf0"
        }
      },
      "source": [
        "#### managerノードに対するAnsibleの設定\n",
        "\n",
        "起動したVCノードをAnsibleで操作するための設定を行います。"
      ]
    },
    {
      "cell_type": "markdown",
      "metadata": {
        "hidden": true,
        "lc_cell_meme": {
          "current": "8893997e-2bba-11ee-987e-0242ac110002-7-b0a4-2787-bb8b-73a8-a35d-731e-eb97",
          "next": "88939a28-2bba-11ee-987e-0242ac110002-7-204b-1214-afaa-ec0e-17d6-7cb1-2eff",
          "previous": "889398ca-2bba-11ee-987e-0242ac110002-7-9e79-b0d4-0cb1-9b78-186c-739b-5272"
        }
      },
      "source": [
        "まず、VCノードにSSHでログインできるようにするために `~/.ssh/known_hosts` の更新を行います。\n",
        "\n",
        "> 何度かVCノードの起動を行うと、異なるホストが同じIPアドレスで起動するためにSSHのホストキーのチェックでエラーになる事があります。このような状況に対応するために、起動したVCノードのIPアドレスに対応するエントリを`known_hosts`ファイルから削除します。その後、`ssh-keyscan`コマンドを利用して起動したVCノードのホストキーを取得して `known_hosts`ファイルの内容を更新します。"
      ]
    },
    {
      "cell_type": "code",
      "execution_count": null,
      "metadata": {
        "hidden": true,
        "lc_cell_meme": {
          "current": "88939a28-2bba-11ee-987e-0242ac110002-7-204b-1214-afaa-ec0e-17d6-7cb1-2eff",
          "next": "88939ac8-2bba-11ee-987e-0242ac110002-7-c2d6-6cb0-e25f-7477-281a-4cca-b62a",
          "previous": "8893997e-2bba-11ee-987e-0242ac110002-7-b0a4-2787-bb8b-73a8-a35d-731e-eb97"
        }
      },
      "outputs": [],
      "source": [
        "from time import sleep\n",
        "\n",
        "def check_update_known_hosts(ipaddr):\n",
        "    # VCノード起動直後だと sshd サービスが開始されておらずに known_hosts が更新されない場合がある\n",
        "    # ssh-keyscan が値を取得できるまで何度かリトライする\n",
        "    for x in range(10):\n",
        "        out = ! echo $(ssh-keyscan {ipaddr} 2> /dev/null | wc -l)\n",
        "        update_lines = int(out[0])\n",
        "        if update_lines > 0:\n",
        "            break\n",
        "        sleep(1)\n",
        "    else:\n",
        "        raise RuntimeError(\"ERROR: timeout!\")    \n",
        "\n",
        "!mkdir -p -m 0700 ~/.ssh\n",
        "!touch ~/.ssh/known_hosts\n",
        "for addr in unit_mgr.find_ip_addresses():\n",
        "    !ssh-keygen -R {addr}\n",
        "    check_update_known_hosts(addr)\n",
        "    !ssh-keyscan -H {addr} >> ~/.ssh/known_hosts"
      ]
    },
    {
      "cell_type": "markdown",
      "metadata": {
        "hidden": true,
        "lc_cell_meme": {
          "current": "88939ac8-2bba-11ee-987e-0242ac110002-7-c2d6-6cb0-e25f-7477-281a-4cca-b62a",
          "next": "88939b68-2bba-11ee-987e-0242ac110002-7-eea8-f72a-74e0-f71f-9e9f-fd09-179a",
          "previous": "88939a28-2bba-11ee-987e-0242ac110002-7-204b-1214-afaa-ec0e-17d6-7cb1-2eff"
        }
      },
      "source": [
        "起動したVCノードに対応するエントリを Ansible のインベントリに登録します。\n",
        "\n",
        "> Ansibleで操作を行うためには、操作対象のホスト(IPアドレス)をインベントリに登録する必要があります。"
      ]
    },
    {
      "cell_type": "code",
      "execution_count": null,
      "metadata": {
        "hidden": true,
        "lc_cell_meme": {
          "current": "88939b68-2bba-11ee-987e-0242ac110002-7-eea8-f72a-74e0-f71f-9e9f-fd09-179a",
          "next": "88939c12-2bba-11ee-987e-0242ac110002-7-c259-d8a1-5e28-39d3-0d9a-1b61-0f14",
          "previous": "88939ac8-2bba-11ee-987e-0242ac110002-7-c2d6-6cb0-e25f-7477-281a-4cca-b62a"
        }
      },
      "outputs": [],
      "source": [
        "%run scripts/group.py\n",
        "%run scripts/edit_conf.py\n",
        "\n",
        "inventory = {'all': {'children': {\n",
        "    ugroup.name: {\n",
        "        'children': {\n",
        "            f'{ugroup.name}_{unit_mgr.name}': {\n",
        "                'hosts': dict([(x, {}) for x in unit_mgr.find_ip_addresses()]),\n",
        "            },\n",
        "        },\n",
        "        'vars': {\n",
        "            'ansible_user': 'vcp',\n",
        "            'ansible_ssh_private_key_file': gvars['ssh_private_key_path'],\n",
        "            'ansible_python_interpreter': '/usr/bin/python3',\n",
        "        },\n",
        "    },\n",
        "}}}\n",
        "\n",
        "generate_edit_link(update_inventory_yml(inventory))"
      ]
    },
    {
      "cell_type": "markdown",
      "metadata": {
        "hidden": true,
        "lc_cell_meme": {
          "current": "88939c12-2bba-11ee-987e-0242ac110002-7-c259-d8a1-5e28-39d3-0d9a-1b61-0f14",
          "next": "88939cb2-2bba-11ee-987e-0242ac110002-7-4f0b-5e29-92fa-b579-a24f-fea0-1bd3",
          "previous": "88939b68-2bba-11ee-987e-0242ac110002-7-eea8-f72a-74e0-f71f-9e9f-fd09-179a"
        }
      },
      "source": [
        "次のセルを実行すると作成したインベントリの内容を表示します。インベントリの内容を変更したい場合は、上のセルの出力結果に表示しているリンクから編集することができます。"
      ]
    },
    {
      "cell_type": "code",
      "execution_count": null,
      "metadata": {
        "hidden": true,
        "lc_cell_meme": {
          "current": "88939cb2-2bba-11ee-987e-0242ac110002-7-4f0b-5e29-92fa-b579-a24f-fea0-1bd3",
          "next": "88939d52-2bba-11ee-987e-0242ac110002-7-989e-7f7e-6d5a-6523-8b1e-9c8c-25c2",
          "previous": "88939c12-2bba-11ee-987e-0242ac110002-7-c259-d8a1-5e28-39d3-0d9a-1b61-0f14"
        }
      },
      "outputs": [],
      "source": [
        "!cat inventory.yml"
      ]
    },
    {
      "cell_type": "markdown",
      "metadata": {
        "hidden": true,
        "lc_cell_meme": {
          "current": "88939d52-2bba-11ee-987e-0242ac110002-7-989e-7f7e-6d5a-6523-8b1e-9c8c-25c2",
          "next": "88939df2-2bba-11ee-987e-0242ac110002-7-d087-10c6-b70e-b15e-d091-c6bf-0c27",
          "previous": "88939cb2-2bba-11ee-987e-0242ac110002-7-4f0b-5e29-92fa-b579-a24f-fea0-1bd3"
        }
      },
      "source": [
        " 先程VCノードを登録したファイルをインベントリとして指定するためのAnsibleのコンフィギュレーションファイルを作成します。\n",
        "> カレントディレクトリにコンフィギュレーションファイル(`ansible.cfg`)を作成すると、Ansibleを実行する際にその設定が適用されます。"
      ]
    },
    {
      "cell_type": "code",
      "execution_count": null,
      "metadata": {
        "hidden": true,
        "lc_cell_meme": {
          "current": "88939df2-2bba-11ee-987e-0242ac110002-7-d087-10c6-b70e-b15e-d091-c6bf-0c27",
          "next": "88939e9c-2bba-11ee-987e-0242ac110002-7-f8b9-e945-91ba-87a2-0ba6-7120-4974",
          "previous": "88939d52-2bba-11ee-987e-0242ac110002-7-989e-7f7e-6d5a-6523-8b1e-9c8c-25c2"
        }
      },
      "outputs": [],
      "source": [
        "cfg = setup_ansible_cfg()\n",
        "generate_edit_link(cfg)"
      ]
    },
    {
      "cell_type": "markdown",
      "metadata": {
        "hidden": true,
        "lc_cell_meme": {
          "current": "88939e9c-2bba-11ee-987e-0242ac110002-7-f8b9-e945-91ba-87a2-0ba6-7120-4974",
          "next": "88939f46-2bba-11ee-987e-0242ac110002-7-b580-678f-7366-2f71-805e-09f8-4735",
          "previous": "88939df2-2bba-11ee-987e-0242ac110002-7-d087-10c6-b70e-b15e-d091-c6bf-0c27"
        }
      },
      "source": [
        "次のセルを実行すると作成したコンフィギュレーションファイルの内容を表示します。コンフィギュレーションファイルの内容を変更したい場合は、上のセルの出力結果に表示しているリンクから編集することができます。"
      ]
    },
    {
      "cell_type": "code",
      "execution_count": null,
      "metadata": {
        "hidden": true,
        "lc_cell_meme": {
          "current": "88939f46-2bba-11ee-987e-0242ac110002-7-b580-678f-7366-2f71-805e-09f8-4735",
          "next": "88939fe6-2bba-11ee-987e-0242ac110002-7-a88e-2be7-42e4-a56e-a4ed-a625-e9f7",
          "previous": "88939e9c-2bba-11ee-987e-0242ac110002-7-f8b9-e945-91ba-87a2-0ba6-7120-4974"
        }
      },
      "outputs": [],
      "source": [
        "!cat ansible.cfg"
      ]
    },
    {
      "cell_type": "markdown",
      "metadata": {
        "hidden": true,
        "lc_cell_meme": {
          "current": "88939fe6-2bba-11ee-987e-0242ac110002-7-a88e-2be7-42e4-a56e-a4ed-a625-e9f7",
          "next": "8893a086-2bba-11ee-987e-0242ac110002-7-f6a1-ceaa-d98b-e98d-be7f-b3c1-14a1",
          "previous": "88939f46-2bba-11ee-987e-0242ac110002-7-b580-678f-7366-2f71-805e-09f8-4735"
        }
      },
      "source": [
        "UnitGroupに属する全てのVCノードに対して Ansible で接続できることを確認します。\n",
        "\n",
        "> ここでは、複数のVCノードをまとめて扱うためにAnsibleのグループを指定しています。グループ名は UnitGroup名と同じ値にしてあります。"
      ]
    },
    {
      "cell_type": "code",
      "execution_count": null,
      "metadata": {
        "hidden": true,
        "lc_cell_meme": {
          "current": "8893a086-2bba-11ee-987e-0242ac110002-7-f6a1-ceaa-d98b-e98d-be7f-b3c1-14a1",
          "next": "8893a16c-2bba-11ee-987e-0242ac110002-7-dd9b-a12a-14fd-82b4-fc14-8ab4-6180",
          "previous": "88939fe6-2bba-11ee-987e-0242ac110002-7-a88e-2be7-42e4-a56e-a4ed-a625-e9f7"
        }
      },
      "outputs": [],
      "source": [
        "!ansible {ugroup.name} -m ping"
      ]
    },
    {
      "cell_type": "markdown",
      "metadata": {
        "hidden": true,
        "lc_cell_meme": {
          "current": "8893a16c-2bba-11ee-987e-0242ac110002-7-dd9b-a12a-14fd-82b4-fc14-8ab4-6180",
          "next": "8893a234-2bba-11ee-987e-0242ac110002-7-c389-7f77-4b9e-8223-73b3-e9c8-106c",
          "previous": "8893a086-2bba-11ee-987e-0242ac110002-7-f6a1-ceaa-d98b-e98d-be7f-b3c1-14a1"
        }
      },
      "source": [
        "#### NFSサーバの確認"
      ]
    },
    {
      "cell_type": "markdown",
      "metadata": {
        "hidden": true,
        "lc_cell_meme": {
          "current": "8893a234-2bba-11ee-987e-0242ac110002-7-c389-7f77-4b9e-8223-73b3-e9c8-106c",
          "next": "8893a2d4-2bba-11ee-987e-0242ac110002-7-8da1-81f1-bbe7-e602-a839-92e6-ae55",
          "previous": "8893a16c-2bba-11ee-987e-0242ac110002-7-dd9b-a12a-14fd-82b4-fc14-8ab4-6180"
        }
      },
      "source": [
        "managerノードのNFSサーバのサービス状態を確認します。"
      ]
    },
    {
      "cell_type": "code",
      "execution_count": null,
      "metadata": {
        "hidden": true,
        "lc_cell_meme": {
          "current": "8893a2d4-2bba-11ee-987e-0242ac110002-7-8da1-81f1-bbe7-e602-a839-92e6-ae55",
          "next": "8893a37e-2bba-11ee-987e-0242ac110002-7-5c09-8240-29e4-959d-b38b-5cc7-515e",
          "previous": "8893a234-2bba-11ee-987e-0242ac110002-7-c389-7f77-4b9e-8223-73b3-e9c8-106c"
        }
      },
      "outputs": [],
      "source": [
        "!ansible {ugroup.name}_{unit_mgr.name} -b -a 'systemctl status nfs-server'"
      ]
    },
    {
      "cell_type": "markdown",
      "metadata": {
        "hidden": true,
        "lc_cell_meme": {
          "current": "8893a37e-2bba-11ee-987e-0242ac110002-7-5c09-8240-29e4-959d-b38b-5cc7-515e",
          "next": "8893a428-2bba-11ee-987e-0242ac110002-7-0620-9bc8-9056-1e60-9c7b-0af7-8bb2",
          "previous": "8893a2d4-2bba-11ee-987e-0242ac110002-7-8da1-81f1-bbe7-e602-a839-92e6-ae55"
        }
      },
      "source": [
        "NFSエクスポートの状態を確認します。managerノードの起動時は全てのノードに対してアクセス可能な状態に設定されています。後ほどworkerノードを起動してNFSクライアントのIPアドレスが確定した時点で`/etc/exports`の設定を更新し、アクセスできるノードの制限を行います。"
      ]
    },
    {
      "cell_type": "code",
      "execution_count": null,
      "metadata": {
        "hidden": true,
        "lc_cell_meme": {
          "current": "8893a428-2bba-11ee-987e-0242ac110002-7-0620-9bc8-9056-1e60-9c7b-0af7-8bb2",
          "next": "8893a4d2-2bba-11ee-987e-0242ac110002-7-90ed-4289-8c9b-1ba6-b58d-4299-cb9f",
          "previous": "8893a37e-2bba-11ee-987e-0242ac110002-7-5c09-8240-29e4-959d-b38b-5cc7-515e"
        }
      },
      "outputs": [],
      "source": [
        "!ansible {ugroup.name}_{unit_mgr.name} -b -a 'exportfs -v'"
      ]
    },
    {
      "cell_type": "markdown",
      "metadata": {
        "hidden": true,
        "lc_cell_meme": {
          "current": "8893a4d2-2bba-11ee-987e-0242ac110002-7-90ed-4289-8c9b-1ba6-b58d-4299-cb9f",
          "next": "8893a572-2bba-11ee-987e-0242ac110002-7-ba56-b884-2f82-122f-519a-2652-61f6",
          "previous": "8893a428-2bba-11ee-987e-0242ac110002-7-0620-9bc8-9056-1e60-9c7b-0af7-8bb2"
        }
      },
      "source": [
        "ディレクトリのパーミッションを設定します。"
      ]
    },
    {
      "cell_type": "code",
      "execution_count": null,
      "metadata": {
        "hidden": true,
        "lc_cell_meme": {
          "current": "8893a572-2bba-11ee-987e-0242ac110002-7-ba56-b884-2f82-122f-519a-2652-61f6",
          "next": "8893a612-2bba-11ee-987e-0242ac110002-7-9db3-da2f-8cfb-aaa8-9ef9-723a-eaa6",
          "previous": "8893a4d2-2bba-11ee-987e-0242ac110002-7-90ed-4289-8c9b-1ba6-b58d-4299-cb9f"
        },
        "scrolled": true
      },
      "outputs": [],
      "source": [
        "!ansible {ugroup.name}_{unit_mgr.name} -b -m file -a 'path=/home mode=777'\n",
        "!ansible {ugroup.name}_{unit_mgr.name} -b -m file -a 'path=/exchange mode=777'"
      ]
    },
    {
      "cell_type": "markdown",
      "metadata": {
        "heading_collapsed": true,
        "hidden": true,
        "lc_cell_meme": {
          "current": "8893a612-2bba-11ee-987e-0242ac110002-7-9db3-da2f-8cfb-aaa8-9ef9-723a-eaa6",
          "next": "8893a6bc-2bba-11ee-987e-0242ac110002-7-84ef-384c-3386-133d-6191-2d9f-cef2",
          "previous": "8893a572-2bba-11ee-987e-0242ac110002-7-ba56-b884-2f82-122f-519a-2652-61f6"
        }
      },
      "source": [
        "### workerノード"
      ]
    },
    {
      "cell_type": "markdown",
      "metadata": {
        "heading_collapsed": true,
        "hidden": true,
        "lc_cell_meme": {
          "current": "8893a6bc-2bba-11ee-987e-0242ac110002-7-84ef-384c-3386-133d-6191-2d9f-cef2",
          "next": "8893a75c-2bba-11ee-987e-0242ac110002-7-c555-b1ca-d319-701d-3120-4c12-a1f4",
          "previous": "8893a612-2bba-11ee-987e-0242ac110002-7-9db3-da2f-8cfb-aaa8-9ef9-723a-eaa6"
        }
      },
      "source": [
        "#### worker用のVCノードを起動する"
      ]
    },
    {
      "cell_type": "markdown",
      "metadata": {
        "hidden": true,
        "lc_cell_meme": {
          "current": "8893a75c-2bba-11ee-987e-0242ac110002-7-c555-b1ca-d319-701d-3120-4c12-a1f4",
          "next": "8893a806-2bba-11ee-987e-0242ac110002-7-2567-49f3-8b03-9265-d738-5073-8185",
          "previous": "8893a6bc-2bba-11ee-987e-0242ac110002-7-84ef-384c-3386-133d-6191-2d9f-cef2"
        }
      },
      "source": [
        "worker用VCノードの `spec` を指定します。"
      ]
    },
    {
      "cell_type": "code",
      "execution_count": null,
      "metadata": {
        "hidden": true,
        "lc_cell_meme": {
          "current": "8893a806-2bba-11ee-987e-0242ac110002-7-2567-49f3-8b03-9265-d738-5073-8185",
          "next": "8893a8a6-2bba-11ee-987e-0242ac110002-7-fdea-0665-a1aa-bd13-90a0-713e-8086",
          "previous": "8893a75c-2bba-11ee-987e-0242ac110002-7-c555-b1ca-d319-701d-3120-4c12-a1f4"
        },
        "tags": [
          "vcp:rewrite:container_image"
        ]
      },
      "outputs": [],
      "source": [
        "%run scripts/group.py\n",
        "gvars = load_group_vars(ugroup_name)\n",
        "spec_worker = vcp.get_spec(gvars['vc_provider'], gvars['worker_flavor'])\n",
        "\n",
        "# Baseコンテナイメージを指定する\n",
        "spec_worker.image = 'harbor.vcloud.nii.ac.jp/vcp/coursewarehub:base'\n",
        "\n",
        "spec_worker.params_v = [\n",
        "    '/sys/fs/cgroup:/sys/fs/cgroup:ro',\n",
        "    '/lib/modules:/lib/modules:ro',\n",
        "]\n",
        "\n",
        "# workerノード数を指定する\n",
        "spec_worker.num_nodes = int(gvars['worker_nodes'])\n",
        "\n",
        "if 'worker_ipaddresses' in gvars:\n",
        "    # worker用VCノードに割り当てるIPアドレスを指定する\n",
        "    spec_worker.ip_addresses = gvars['worker_ipaddresses']\n",
        "elif 'vc_mac_addresses' in gvars:\n",
        "    # worker用VCノードに割り当てるMACアドレスを指定する\n",
        "    spec_worker.mac_addresses = gvars['worker_mac_addresses']\n",
        "\n",
        "# ルートボリュームサイズを指定する\n",
        "if vc_provider == 'aws':\n",
        "    spec_worker.volume_size = gvars['worker_disk_size']\n",
        "elif vc_provider == 'azure':\n",
        "    spec_worker.disk_size_gb = gvars['worker_disk_size']\n",
        "else:\n",
        "    print('This provider does not support the specification of the root volume size.' +\n",
        "          ' Does not set the disk size.', file=sys.stderr)\n",
        "\n",
        "# オンプレミスに構築する場合、SSHログインユーザ名を指定\n",
        "if vc_provider == 'onpremises':\n",
        "    spec_worker.user_name = ssh_user\n",
        "\n",
        "# VCノードにsshでログインするための公開鍵を指定する\n",
        "spec_worker.set_ssh_pubkey(gvars['ssh_public_key_path'])\n",
        "\n",
        "# NFSサーバのIPアドレスを指定する\n",
        "spec_worker.params_e.append(\"NFS_SERVER=\" + gvars['vc_ipaddress'])"
      ]
    },
    {
      "cell_type": "markdown",
      "metadata": {
        "hidden": true,
        "lc_cell_meme": {
          "current": "8893a8a6-2bba-11ee-987e-0242ac110002-7-fdea-0665-a1aa-bd13-90a0-713e-8086",
          "next": "8893a946-2bba-11ee-987e-0242ac110002-7-a062-c5ab-ac79-01e7-98d9-aed9-ba55",
          "previous": "8893a806-2bba-11ee-987e-0242ac110002-7-2567-49f3-8b03-9265-d738-5073-8185"
        }
      },
      "source": [
        "`spec` の設定値を確認します。"
      ]
    },
    {
      "cell_type": "code",
      "execution_count": null,
      "metadata": {
        "hidden": true,
        "lc_cell_meme": {
          "current": "8893a946-2bba-11ee-987e-0242ac110002-7-a062-c5ab-ac79-01e7-98d9-aed9-ba55",
          "next": "8893a9f0-2bba-11ee-987e-0242ac110002-7-e08e-2321-f74f-3270-41b0-0e23-9aba",
          "previous": "8893a8a6-2bba-11ee-987e-0242ac110002-7-fdea-0665-a1aa-bd13-90a0-713e-8086"
        }
      },
      "outputs": [],
      "source": [
        "print(spec_worker)"
      ]
    },
    {
      "cell_type": "markdown",
      "metadata": {
        "hidden": true,
        "lc_cell_meme": {
          "current": "8893a9f0-2bba-11ee-987e-0242ac110002-7-e08e-2321-f74f-3270-41b0-0e23-9aba",
          "next": "8893aa90-2bba-11ee-987e-0242ac110002-7-749a-e003-871d-88e8-2d8c-de36-32ef",
          "previous": "8893a946-2bba-11ee-987e-0242ac110002-7-a062-c5ab-ac79-01e7-98d9-aed9-ba55"
        }
      },
      "source": [
        "worker用VCノードを起動します。"
      ]
    },
    {
      "cell_type": "code",
      "execution_count": null,
      "metadata": {
        "hidden": true,
        "lc_cell_meme": {
          "current": "8893aa90-2bba-11ee-987e-0242ac110002-7-749a-e003-871d-88e8-2d8c-de36-32ef",
          "next": "8893ab30-2bba-11ee-987e-0242ac110002-7-882c-2d6c-0085-5a9b-7cf2-9fdb-e20f",
          "previous": "8893a9f0-2bba-11ee-987e-0242ac110002-7-e08e-2321-f74f-3270-41b0-0e23-9aba"
        },
        "scrolled": true
      },
      "outputs": [],
      "source": [
        "unit_worker = ugroup.create_unit('worker', spec_worker)"
      ]
    },
    {
      "cell_type": "markdown",
      "metadata": {
        "hidden": true,
        "lc_cell_meme": {
          "current": "8893ab30-2bba-11ee-987e-0242ac110002-7-882c-2d6c-0085-5a9b-7cf2-9fdb-e20f",
          "next": "8893abda-2bba-11ee-987e-0242ac110002-7-58df-6683-e24a-9602-a19e-fe13-9a3c",
          "previous": "8893aa90-2bba-11ee-987e-0242ac110002-7-749a-e003-871d-88e8-2d8c-de36-32ef"
        }
      },
      "source": [
        "起動したVCノードの一覧を表示します。\n",
        "\n",
        "vcname:　本ノートブックで指定した、`UnitGroup`  \n",
        "unit_name:　`worker`"
      ]
    },
    {
      "cell_type": "code",
      "execution_count": null,
      "metadata": {
        "hidden": true,
        "lc_cell_meme": {
          "current": "8893abda-2bba-11ee-987e-0242ac110002-7-58df-6683-e24a-9602-a19e-fe13-9a3c",
          "next": "8893ac84-2bba-11ee-987e-0242ac110002-7-b4d3-0cb6-b573-0cc4-ec1d-0afe-11a4",
          "previous": "8893ab30-2bba-11ee-987e-0242ac110002-7-882c-2d6c-0085-5a9b-7cf2-9fdb-e20f"
        }
      },
      "outputs": [],
      "source": [
        "unit_worker.df_nodes()"
      ]
    },
    {
      "cell_type": "markdown",
      "metadata": {
        "heading_collapsed": true,
        "hidden": true,
        "lc_cell_meme": {
          "current": "8893ac84-2bba-11ee-987e-0242ac110002-7-b4d3-0cb6-b573-0cc4-ec1d-0afe-11a4",
          "next": "8893ad24-2bba-11ee-987e-0242ac110002-7-4331-b8f3-d68e-8058-900c-4f8a-2b53",
          "previous": "8893abda-2bba-11ee-987e-0242ac110002-7-58df-6683-e24a-9602-a19e-fe13-9a3c"
        }
      },
      "source": [
        "#### workerノードに対するAnsibleの設定"
      ]
    },
    {
      "cell_type": "markdown",
      "metadata": {
        "hidden": true,
        "lc_cell_meme": {
          "current": "8893ad24-2bba-11ee-987e-0242ac110002-7-4331-b8f3-d68e-8058-900c-4f8a-2b53",
          "next": "8893adce-2bba-11ee-987e-0242ac110002-7-da39-3a9d-9a57-9166-7a17-d2e5-76c9",
          "previous": "8893ac84-2bba-11ee-987e-0242ac110002-7-b4d3-0cb6-b573-0cc4-ec1d-0afe-11a4"
        }
      },
      "source": [
        "VCノードにSSHでログインできるようにするために `~/.ssh/known_hosts` の更新を行います。"
      ]
    },
    {
      "cell_type": "code",
      "execution_count": null,
      "metadata": {
        "hidden": true,
        "lc_cell_meme": {
          "current": "8893adce-2bba-11ee-987e-0242ac110002-7-da39-3a9d-9a57-9166-7a17-d2e5-76c9",
          "next": "8893ae6e-2bba-11ee-987e-0242ac110002-7-ba7a-2d75-8ec7-2382-5e6e-c8b7-63a2",
          "previous": "8893ad24-2bba-11ee-987e-0242ac110002-7-4331-b8f3-d68e-8058-900c-4f8a-2b53"
        }
      },
      "outputs": [],
      "source": [
        "!mkdir -p -m 0700 ~/.ssh\n",
        "!touch ~/.ssh/known_hosts\n",
        "for addr in unit_worker.find_ip_addresses():\n",
        "    !ssh-keygen -R {addr}\n",
        "    check_update_known_hosts(addr)\n",
        "    !ssh-keyscan -H {addr} >> ~/.ssh/known_hosts"
      ]
    },
    {
      "cell_type": "markdown",
      "metadata": {
        "hidden": true,
        "lc_cell_meme": {
          "current": "8893ae6e-2bba-11ee-987e-0242ac110002-7-ba7a-2d75-8ec7-2382-5e6e-c8b7-63a2",
          "next": "8893af0e-2bba-11ee-987e-0242ac110002-7-af80-8782-69db-2ad2-e62c-2c92-f6cb",
          "previous": "8893adce-2bba-11ee-987e-0242ac110002-7-da39-3a9d-9a57-9166-7a17-d2e5-76c9"
        }
      },
      "source": [
        "起動したVCノードに対応するエントリを Ansible のインベントリに登録します。\n",
        "\n",
        "> Ansibleで操作を行うためには、操作対象のホスト(IPアドレス)をインベントリに登録する必要があります。"
      ]
    },
    {
      "cell_type": "code",
      "execution_count": null,
      "metadata": {
        "hidden": true,
        "lc_cell_meme": {
          "current": "8893af0e-2bba-11ee-987e-0242ac110002-7-af80-8782-69db-2ad2-e62c-2c92-f6cb",
          "next": "8893afb8-2bba-11ee-987e-0242ac110002-7-fb47-1405-4e9f-7bbe-3487-aa3b-5e38",
          "previous": "8893ae6e-2bba-11ee-987e-0242ac110002-7-ba7a-2d75-8ec7-2382-5e6e-c8b7-63a2"
        }
      },
      "outputs": [],
      "source": [
        "inventory = {'all': {'children': {\n",
        "    ugroup.name: {\n",
        "        'children': {\n",
        "            f'{ugroup.name}_{unit_worker.name}': {\n",
        "                'hosts': dict([(x, {}) for x in unit_worker.find_ip_addresses()]),\n",
        "            },\n",
        "        },\n",
        "    },\n",
        "}}}\n",
        "\n",
        "generate_edit_link(update_inventory_yml(inventory))"
      ]
    },
    {
      "cell_type": "markdown",
      "metadata": {
        "hidden": true,
        "lc_cell_meme": {
          "current": "8893afb8-2bba-11ee-987e-0242ac110002-7-fb47-1405-4e9f-7bbe-3487-aa3b-5e38",
          "next": "8893b058-2bba-11ee-987e-0242ac110002-7-cee9-e7bf-1598-3a27-5de1-fc3b-d49c",
          "previous": "8893af0e-2bba-11ee-987e-0242ac110002-7-af80-8782-69db-2ad2-e62c-2c92-f6cb"
        }
      },
      "source": [
        "次のセルを実行すると作成したインベントリの内容を表示します。インベントリの内容を変更したい場合は、上のセルの出力結果に表示しているリンクから編集することができます。"
      ]
    },
    {
      "cell_type": "code",
      "execution_count": null,
      "metadata": {
        "hidden": true,
        "lc_cell_meme": {
          "current": "8893b058-2bba-11ee-987e-0242ac110002-7-cee9-e7bf-1598-3a27-5de1-fc3b-d49c",
          "next": "8893b102-2bba-11ee-987e-0242ac110002-7-394d-e9ee-eb1e-5315-82ac-0b5b-6ff4",
          "previous": "8893afb8-2bba-11ee-987e-0242ac110002-7-fb47-1405-4e9f-7bbe-3487-aa3b-5e38"
        }
      },
      "outputs": [],
      "source": [
        "!cat inventory.yml"
      ]
    },
    {
      "cell_type": "markdown",
      "metadata": {
        "hidden": true,
        "lc_cell_meme": {
          "current": "8893b102-2bba-11ee-987e-0242ac110002-7-394d-e9ee-eb1e-5315-82ac-0b5b-6ff4",
          "next": "8893b1a2-2bba-11ee-987e-0242ac110002-7-7196-063e-de54-71d3-cb16-fe81-cc3d",
          "previous": "8893b058-2bba-11ee-987e-0242ac110002-7-cee9-e7bf-1598-3a27-5de1-fc3b-d49c"
        }
      },
      "source": [
        "UnitGroupに属する全てのVCノードに対して Ansible で接続できることを確認します。\n",
        "\n",
        "> ここでは、複数のVCノードをまとめて扱うためにAnsibleのグループを指定しています。グループ名は UnitGroup名と同じ値にしてあります。"
      ]
    },
    {
      "cell_type": "code",
      "execution_count": null,
      "metadata": {
        "hidden": true,
        "lc_cell_meme": {
          "current": "8893b1a2-2bba-11ee-987e-0242ac110002-7-7196-063e-de54-71d3-cb16-fe81-cc3d",
          "next": "8893b24c-2bba-11ee-987e-0242ac110002-7-98f4-65a3-9862-4fd1-0b34-02dc-c7a6",
          "previous": "8893b102-2bba-11ee-987e-0242ac110002-7-394d-e9ee-eb1e-5315-82ac-0b5b-6ff4"
        }
      },
      "outputs": [],
      "source": [
        "!ansible {ugroup.name} -m ping"
      ]
    },
    {
      "cell_type": "markdown",
      "metadata": {
        "hidden": true,
        "lc_cell_meme": {
          "current": "8893b24c-2bba-11ee-987e-0242ac110002-7-98f4-65a3-9862-4fd1-0b34-02dc-c7a6",
          "next": "8893b33c-2bba-11ee-987e-0242ac110002-7-c656-f66e-e5e4-f0c2-dda6-5f8a-906b",
          "previous": "8893b1a2-2bba-11ee-987e-0242ac110002-7-7196-063e-de54-71d3-cb16-fe81-cc3d"
        }
      },
      "source": [
        "#### NFSの設定"
      ]
    },
    {
      "cell_type": "markdown",
      "metadata": {
        "hidden": true,
        "lc_cell_meme": {
          "current": "8893b33c-2bba-11ee-987e-0242ac110002-7-c656-f66e-e5e4-f0c2-dda6-5f8a-906b",
          "next": "8893b3e6-2bba-11ee-987e-0242ac110002-7-2674-eb1c-bafb-35ae-c8ca-ac50-d83e",
          "previous": "8893b24c-2bba-11ee-987e-0242ac110002-7-98f4-65a3-9862-4fd1-0b34-02dc-c7a6"
        }
      },
      "source": [
        "workerノードにおけるNFSマウントの状態を確認します。`/jupyter`, `/exchange`のエントリが存在していることを確認してください。"
      ]
    },
    {
      "cell_type": "code",
      "execution_count": null,
      "metadata": {
        "hidden": true,
        "lc_cell_meme": {
          "current": "8893b3e6-2bba-11ee-987e-0242ac110002-7-2674-eb1c-bafb-35ae-c8ca-ac50-d83e",
          "next": "8893b486-2bba-11ee-987e-0242ac110002-7-fbcc-656f-085e-2620-3b82-cf68-3088",
          "previous": "8893b33c-2bba-11ee-987e-0242ac110002-7-c656-f66e-e5e4-f0c2-dda6-5f8a-906b"
        }
      },
      "outputs": [],
      "source": [
        "!ansible {ugroup.name}_{unit_worker.name} -a 'mount -t nfs4'"
      ]
    },
    {
      "cell_type": "markdown",
      "metadata": {
        "hidden": true,
        "lc_cell_meme": {
          "current": "8893b486-2bba-11ee-987e-0242ac110002-7-fbcc-656f-085e-2620-3b82-cf68-3088",
          "next": "8893b526-2bba-11ee-987e-0242ac110002-7-66a7-5c50-4ff5-8e50-7425-44f2-a4cd",
          "previous": "8893b3e6-2bba-11ee-987e-0242ac110002-7-2674-eb1c-bafb-35ae-c8ca-ac50-d83e"
        }
      },
      "source": [
        "NFSサーバの `/etc/exports` の設定を更新します。NFSサーバにアクセスできるNFSクライアントをworkerノードのみとなるように設定します。"
      ]
    },
    {
      "cell_type": "code",
      "execution_count": null,
      "metadata": {
        "hidden": true,
        "lc_cell_meme": {
          "current": "8893b526-2bba-11ee-987e-0242ac110002-7-66a7-5c50-4ff5-8e50-7425-44f2-a4cd",
          "next": "8893b5d0-2bba-11ee-987e-0242ac110002-7-6721-c337-bef4-c2a8-73c3-ff7f-849b",
          "previous": "8893b486-2bba-11ee-987e-0242ac110002-7-fbcc-656f-085e-2620-3b82-cf68-3088"
        },
        "scrolled": true
      },
      "outputs": [],
      "source": [
        "from tempfile import TemporaryDirectory\n",
        "from pathlib import Path\n",
        "\n",
        "exports_opts = 'rw,fsid=0,no_root_squash,no_subtree_check,sync,crossmnt'\n",
        "with TemporaryDirectory() as workdir:\n",
        "    exports = Path(workdir) / f'{ugroup_name}.exports'\n",
        "    with exports.open(mode='w') as f:\n",
        "        for addr in unit_worker.find_ip_addresses():\n",
        "            f.write(f'/exported/{ugroup_name} {addr}({exports_opts})\\n')\n",
        "    !cat {exports}\n",
        "    !ansible {ugroup.name}_{unit_mgr.name} -b -m copy -a \\\n",
        "        'src={exports} dest=/etc/exports.d/ backup=yes'"
      ]
    },
    {
      "cell_type": "markdown",
      "metadata": {
        "hidden": true,
        "lc_cell_meme": {
          "current": "8893b5d0-2bba-11ee-987e-0242ac110002-7-6721-c337-bef4-c2a8-73c3-ff7f-849b",
          "next": "8893b670-2bba-11ee-987e-0242ac110002-7-a8cd-1b5e-51af-8cbf-0044-70db-9663",
          "previous": "8893b526-2bba-11ee-987e-0242ac110002-7-66a7-5c50-4ff5-8e50-7425-44f2-a4cd"
        }
      },
      "source": [
        "設定ファイルを読み込ませてエクスポート設定を更新します。"
      ]
    },
    {
      "cell_type": "code",
      "execution_count": null,
      "metadata": {
        "hidden": true,
        "lc_cell_meme": {
          "current": "8893b670-2bba-11ee-987e-0242ac110002-7-a8cd-1b5e-51af-8cbf-0044-70db-9663",
          "next": "8893b710-2bba-11ee-987e-0242ac110002-7-aa18-2493-3a75-9470-71bd-f393-7850",
          "previous": "8893b5d0-2bba-11ee-987e-0242ac110002-7-6721-c337-bef4-c2a8-73c3-ff7f-849b"
        }
      },
      "outputs": [],
      "source": [
        "!ansible {ugroup.name}_{unit_mgr.name} -b -a 'exportfs -r -v'"
      ]
    },
    {
      "cell_type": "markdown",
      "metadata": {
        "hidden": true,
        "lc_cell_meme": {
          "current": "8893b710-2bba-11ee-987e-0242ac110002-7-aa18-2493-3a75-9470-71bd-f393-7850",
          "next": "8893b7ba-2bba-11ee-987e-0242ac110002-7-e402-69d5-a64a-5618-b143-2cb4-ff88",
          "previous": "8893b670-2bba-11ee-987e-0242ac110002-7-a8cd-1b5e-51af-8cbf-0044-70db-9663"
        }
      },
      "source": [
        "NFSサーバ側に作成したファイルをNFSクライアント側で参照できることを確認します。"
      ]
    },
    {
      "cell_type": "code",
      "execution_count": null,
      "metadata": {
        "hidden": true,
        "lc_cell_meme": {
          "current": "8893b7ba-2bba-11ee-987e-0242ac110002-7-e402-69d5-a64a-5618-b143-2cb4-ff88",
          "next": "8893b918-2bba-11ee-987e-0242ac110002-7-340d-f4b2-676e-24b8-b281-3d0e-36c7",
          "previous": "8893b710-2bba-11ee-987e-0242ac110002-7-aa18-2493-3a75-9470-71bd-f393-7850"
        },
        "scrolled": true
      },
      "outputs": [],
      "source": [
        "!ansible {ugroup.name}_{unit_mgr.name} -m file -a 'path=/jupyter/xxx state=touch'\n",
        "!ansible {ugroup.name}_{unit_mgr.name} -m file -a 'path=/exchange/xxx state=touch'\n",
        "!ansible {ugroup.name}_{unit_worker.name} -a 'test -f /jupyter/xxx'\n",
        "!ansible {ugroup.name}_{unit_worker.name} -a 'test -f /exchange/xxx'\n",
        "!ansible {ugroup.name} -m file -a 'path=/jupyter/xxx state=absent'\n",
        "!ansible {ugroup.name} -m file -a 'path=/exchange/xxx state=absent'"
      ]
    },
    {
      "cell_type": "markdown",
      "metadata": {
        "hidden": true,
        "lc_cell_meme": {
          "current": "8893b918-2bba-11ee-987e-0242ac110002-7-340d-f4b2-676e-24b8-b281-3d0e-36c7",
          "next": "8893b9b8-2bba-11ee-987e-0242ac110002-7-b78c-026f-622a-a778-30a1-0bb6-1e3a",
          "previous": "8893b7ba-2bba-11ee-987e-0242ac110002-7-e402-69d5-a64a-5618-b143-2cb4-ff88"
        }
      },
      "source": [
        "Docker Swarmの設定を行う前に、各VCノードで Docker Engine が実行されていることを確認します。"
      ]
    },
    {
      "cell_type": "code",
      "execution_count": null,
      "metadata": {
        "hidden": true,
        "lc_cell_meme": {
          "current": "8893b9b8-2bba-11ee-987e-0242ac110002-7-b78c-026f-622a-a778-30a1-0bb6-1e3a",
          "next": "8893ba58-2bba-11ee-987e-0242ac110002-7-8f81-5ccd-89f2-95ae-2c05-ccbf-90b6",
          "previous": "8893b918-2bba-11ee-987e-0242ac110002-7-340d-f4b2-676e-24b8-b281-3d0e-36c7"
        },
        "scrolled": true
      },
      "outputs": [],
      "source": [
        "!ansible {ugroup.name} -a 'docker info'"
      ]
    },
    {
      "cell_type": "markdown",
      "metadata": {
        "hidden": true,
        "lc_cell_meme": {
          "current": "8893ba58-2bba-11ee-987e-0242ac110002-7-8f81-5ccd-89f2-95ae-2c05-ccbf-90b6",
          "next": "8893baf8-2bba-11ee-987e-0242ac110002-7-7afd-1533-3ab4-88b6-6d66-7e1e-15d5",
          "previous": "8893b9b8-2bba-11ee-987e-0242ac110002-7-b78c-026f-622a-a778-30a1-0bb6-1e3a"
        }
      },
      "source": [
        "manager用VCノードで Docker Swarmの初期セットアップを行います。"
      ]
    },
    {
      "cell_type": "code",
      "execution_count": null,
      "metadata": {
        "hidden": true,
        "lc_cell_meme": {
          "current": "8893baf8-2bba-11ee-987e-0242ac110002-7-7afd-1533-3ab4-88b6-6d66-7e1e-15d5",
          "next": "8893bba2-2bba-11ee-987e-0242ac110002-7-0f2d-6998-a500-d6ed-5e3e-4818-8925",
          "previous": "8893ba58-2bba-11ee-987e-0242ac110002-7-8f81-5ccd-89f2-95ae-2c05-ccbf-90b6"
        }
      },
      "outputs": [],
      "source": [
        "manager_ip = gvars['vc_ipaddress']\n",
        "!ansible {ugroup.name}_{unit_mgr.name} -a 'docker swarm init \\\n",
        "    --default-addr-pool={{{{docker_address_pool}}}} --advertise-addr={manager_ip}'"
      ]
    },
    {
      "cell_type": "markdown",
      "metadata": {
        "hidden": true,
        "lc_cell_meme": {
          "current": "8893bba2-2bba-11ee-987e-0242ac110002-7-0f2d-6998-a500-d6ed-5e3e-4818-8925",
          "next": "8893bc42-2bba-11ee-987e-0242ac110002-7-0d90-18bb-8b36-e1c0-a5b3-431f-7b76",
          "previous": "8893baf8-2bba-11ee-987e-0242ac110002-7-7afd-1533-3ab4-88b6-6d66-7e1e-15d5"
        }
      },
      "source": [
        "トークンの値を取得します。"
      ]
    },
    {
      "cell_type": "code",
      "execution_count": null,
      "metadata": {
        "hidden": true,
        "lc_cell_meme": {
          "current": "8893bc42-2bba-11ee-987e-0242ac110002-7-0d90-18bb-8b36-e1c0-a5b3-431f-7b76",
          "next": "8893bce2-2bba-11ee-987e-0242ac110002-7-1af3-1ff6-0ca4-8eac-f0ff-830b-d1f4",
          "previous": "8893bba2-2bba-11ee-987e-0242ac110002-7-0f2d-6998-a500-d6ed-5e3e-4818-8925"
        }
      },
      "outputs": [],
      "source": [
        "out = !ansible {ugroup.name}_{unit_mgr.name} -a 'docker swarm join-token -q worker'\n",
        "if out[0].find('CHANGED') >= 0 or out[0].find('SUCCESS') >= 0:\n",
        "    swarm_token = out[1]\n",
        "    print(swarm_token)\n",
        "else:\n",
        "    raise"
      ]
    },
    {
      "cell_type": "markdown",
      "metadata": {
        "hidden": true,
        "lc_cell_meme": {
          "current": "8893bce2-2bba-11ee-987e-0242ac110002-7-1af3-1ff6-0ca4-8eac-f0ff-830b-d1f4",
          "next": "8893bd82-2bba-11ee-987e-0242ac110002-7-a0f5-72cc-2ed4-2990-d8a3-199e-fa4d",
          "previous": "8893bc42-2bba-11ee-987e-0242ac110002-7-0d90-18bb-8b36-e1c0-a5b3-431f-7b76"
        }
      },
      "source": [
        "workerノードを追加します。"
      ]
    },
    {
      "cell_type": "code",
      "execution_count": null,
      "metadata": {
        "hidden": true,
        "lc_cell_meme": {
          "current": "8893bd82-2bba-11ee-987e-0242ac110002-7-a0f5-72cc-2ed4-2990-d8a3-199e-fa4d",
          "next": "8893be22-2bba-11ee-987e-0242ac110002-7-410b-449f-762a-5b83-b1ad-5801-26bf",
          "previous": "8893bce2-2bba-11ee-987e-0242ac110002-7-1af3-1ff6-0ca4-8eac-f0ff-830b-d1f4"
        }
      },
      "outputs": [],
      "source": [
        "!ansible {ugroup.name}_{unit_worker.name} -a \\\n",
        "    'docker swarm join --token {swarm_token} {manager_ip}:2377'"
      ]
    },
    {
      "cell_type": "markdown",
      "metadata": {
        "hidden": true,
        "lc_cell_meme": {
          "current": "8893be22-2bba-11ee-987e-0242ac110002-7-410b-449f-762a-5b83-b1ad-5801-26bf",
          "next": "8893becc-2bba-11ee-987e-0242ac110002-7-d8a9-66e9-4c5b-44b6-eb5e-d524-e04f",
          "previous": "8893bd82-2bba-11ee-987e-0242ac110002-7-a0f5-72cc-2ed4-2990-d8a3-199e-fa4d"
        }
      },
      "source": [
        "Docker Swarmのノード一覧を表示します。"
      ]
    },
    {
      "cell_type": "code",
      "execution_count": null,
      "metadata": {
        "hidden": true,
        "lc_cell_meme": {
          "current": "8893becc-2bba-11ee-987e-0242ac110002-7-d8a9-66e9-4c5b-44b6-eb5e-d524-e04f",
          "next": "8893bf6c-2bba-11ee-987e-0242ac110002-7-9fb5-1573-2603-37db-f391-efd0-bbdf",
          "previous": "8893be22-2bba-11ee-987e-0242ac110002-7-410b-449f-762a-5b83-b1ad-5801-26bf"
        },
        "scrolled": false
      },
      "outputs": [],
      "source": [
        "!ansible {ugroup.name}_{unit_mgr.name} -a 'docker node ls'"
      ]
    },
    {
      "cell_type": "markdown",
      "metadata": {
        "hidden": true,
        "lc_cell_meme": {
          "current": "8893bf6c-2bba-11ee-987e-0242ac110002-7-9fb5-1573-2603-37db-f391-efd0-bbdf",
          "next": "8893c00c-2bba-11ee-987e-0242ac110002-7-df93-ba29-da53-23d7-de1b-f904-4e05",
          "previous": "8893becc-2bba-11ee-987e-0242ac110002-7-d8a9-66e9-4c5b-44b6-eb5e-d524-e04f"
        }
      },
      "source": [
        "Docker Swarmのノード数が起動したVCノードと一致していることを確認します。"
      ]
    },
    {
      "cell_type": "code",
      "execution_count": null,
      "metadata": {
        "hidden": true,
        "lc_cell_meme": {
          "current": "8893c00c-2bba-11ee-987e-0242ac110002-7-df93-ba29-da53-23d7-de1b-f904-4e05",
          "next": "d09231fc-1676-11ef-b7c6-005056b0158c-1-a2de",
          "previous": "8893bf6c-2bba-11ee-987e-0242ac110002-7-9fb5-1573-2603-37db-f391-efd0-bbdf"
        }
      },
      "outputs": [],
      "source": [
        "!ansible {ugroup.name}_{unit_mgr.name} -m shell -a \\\n",
        "    'test $(docker node ls -q | wc -l) -eq {worker_nodes + 1}'"
      ]
    },
    {
      "cell_type": "markdown",
      "metadata": {
        "heading_collapsed": true,
        "hidden": true,
        "lc_cell_meme": {
          "current": "d09231fc-1676-11ef-b7c6-005056b0158c-1-a2de",
          "next": "2bb9710e-1676-11ef-b7c6-005056b0158c-1-dae3",
          "previous": "8893c00c-2bba-11ee-987e-0242ac110002-7-df93-ba29-da53-23d7-de1b-f904-4e05"
        }
      },
      "source": [
        "### ノード指定"
      ]
    },
    {
      "cell_type": "code",
      "execution_count": null,
      "metadata": {
        "hidden": true,
        "lc_cell_meme": {
          "current": "2bb9710e-1676-11ef-b7c6-005056b0158c-1-dae3",
          "next": "ca9e25fc-141f-11ef-b7c6-005056b0158c-3-01e2-cf34-720e",
          "previous": "d09231fc-1676-11ef-b7c6-005056b0158c-1-a2de"
        }
      },
      "outputs": [],
      "source": [
        "\n",
        "target_hub = f'{ugroup_name}_manager'\n",
        "\n",
        "!ansible {target_hub} -m ping\n",
        "target_nodes = f'{ugroup_name}_worker'\n",
        "\n",
        "!ansible {target_nodes} -m ping"
      ]
    },
    {
      "cell_type": "markdown",
      "metadata": {
        "heading_collapsed": true,
        "hidden": true,
        "lc_cell_meme": {
          "current": "ca9e25fc-141f-11ef-b7c6-005056b0158c-3-01e2-cf34-720e",
          "next": "15c50374-1674-11ef-b7c6-005056b0158c-3-1bf6-e16a-73c2",
          "previous": "2bb9710e-1676-11ef-b7c6-005056b0158c-1-dae3"
        }
      },
      "source": [
        "### Moodle"
      ]
    },
    {
      "cell_type": "code",
      "execution_count": null,
      "metadata": {
        "hidden": true,
        "lc_cell_meme": {
          "current": "15c50374-1674-11ef-b7c6-005056b0158c-3-1bf6-e16a-73c2",
          "next": "0248f6fe-1677-11ef-b7c6-005056b0158c-1-2623",
          "previous": "ca9e25fc-141f-11ef-b7c6-005056b0158c-3-01e2-cf34-720e"
        }
      },
      "outputs": [],
      "source": [
        "MOODLE_ROOT_DIR = 'moodle'"
      ]
    },
    {
      "cell_type": "code",
      "execution_count": null,
      "metadata": {
        "hidden": true,
        "lc_cell_meme": {
          "current": "0248f6fe-1677-11ef-b7c6-005056b0158c-1-2623",
          "next": "b98bc6d0-1428-11ef-b7c6-005056b0158c-3-2e27-7322-56b5",
          "previous": "15c50374-1674-11ef-b7c6-005056b0158c-3-1bf6-e16a-73c2"
        }
      },
      "outputs": [],
      "source": [
        "!ansible {ugroup_name} -b -m file -a \\\n",
        "    'path=/home/vcp/{MOODLE_ROOT_DIR} state=directory owner={{{{ansible_user}}}}'"
      ]
    },
    {
      "cell_type": "code",
      "execution_count": null,
      "metadata": {
        "hidden": true,
        "lc_cell_meme": {
          "current": "b98bc6d0-1428-11ef-b7c6-005056b0158c-3-2e27-7322-56b5",
          "next": "0ec477d6-142a-11ef-b7c6-005056b0158c-3-d81f-09cf-dccf",
          "previous": "0248f6fe-1677-11ef-b7c6-005056b0158c-1-2623"
        }
      },
      "outputs": [],
      "source": [
        "!ansible {target_hub} -Dv -m template \\\n",
        "    -a 'src=scripts/moodle.docker-compose.yml dest=/home/vcp/{MOODLE_ROOT_DIR}/docker-compose.yml backup=yes'"
      ]
    },
    {
      "cell_type": "code",
      "execution_count": null,
      "metadata": {
        "hidden": true,
        "lc_cell_meme": {
          "current": "0ec477d6-142a-11ef-b7c6-005056b0158c-3-d81f-09cf-dccf",
          "next": "ce219d44-1429-11ef-b7c6-005056b0158c-3-526d-e6cc-b8c9",
          "previous": "b98bc6d0-1428-11ef-b7c6-005056b0158c-3-2e27-7322-56b5"
        }
      },
      "outputs": [],
      "source": [
        "# mcjとmoodleで共通のDockerネットワークを作成しておく（docker compose up 時に存在している必要あり）\n",
        "!ansible {target_hub} -a 'docker network create --driver overlay --scope swarm --attachable mm_network'"
      ]
    },
    {
      "cell_type": "code",
      "execution_count": null,
      "metadata": {
        "hidden": true,
        "lc_cell_meme": {
          "current": "ce219d44-1429-11ef-b7c6-005056b0158c-3-526d-e6cc-b8c9",
          "next": "4a828846-1671-11ef-b7c6-005056b0158c-3-2e50-5bb0-fde0",
          "previous": "0ec477d6-142a-11ef-b7c6-005056b0158c-3-d81f-09cf-dccf"
        }
      },
      "outputs": [],
      "source": [
        "!ansible {target_hub} -a 'chdir=/home/vcp/{MOODLE_ROOT_DIR} \\\n",
        "    docker compose up -d'"
      ]
    },
    {
      "cell_type": "code",
      "execution_count": null,
      "metadata": {
        "hidden": true,
        "lc_cell_meme": {
          "current": "4a828846-1671-11ef-b7c6-005056b0158c-3-2e50-5bb0-fde0",
          "next": "c9673008-1428-11ef-b7c6-005056b0158c-3-3cc3-6320-d26c",
          "previous": "ce219d44-1429-11ef-b7c6-005056b0158c-3-526d-e6cc-b8c9"
        }
      },
      "outputs": [],
      "source": [
        "import time\n",
        "\n",
        "max_retry = 30\n",
        "for i in range(max_retry):\n",
        "    cnt = !ansible {target_hub} -a \"docker exec {MOODLE_ROOT_DIR}-moodle-1 grep -c '\\$CFG->reverseproxy' /opt/bitnami/moodle/config.php\"\n",
        "    \n",
        "    try:\n",
        "        if int(cnt[1]) > 0:\n",
        "            cnt = !ansible {target_hub} -a \"docker exec {MOODLE_ROOT_DIR}-moodle-1 grep -c '{jupyterhub_fqdn}' /opt/bitnami/moodle/config.php\"\n",
        "            if int(cnt[1]) > 0:\n",
        "                !ansible {target_hub} -a \"docker exec {MOODLE_ROOT_DIR}-moodle-1 sed -i 's|{jupyterhub_fqdn}|{jupyterhub_fqdn}/moodle|' /opt/bitnami/moodle/config.php\"\n",
        "                break\n",
        "            cnt = !ansible {target_hub} -a \"docker exec {MOODLE_ROOT_DIR}-moodle-1 grep -c '{jupyterhub_fqdn}/moodle' /opt/bitnami/moodle/config.php\"\n",
        "            if int(cnt[1]) < 2:\n",
        "                time.sleep(20)\n",
        "                continue\n",
        "    except Exception as e:\n",
        "        print(e)\n",
        "        time.sleep(20)\n",
        "        continue\n",
        "else:\n",
        "    raise\n"
      ]
    },
    {
      "cell_type": "markdown",
      "metadata": {
        "heading_collapsed": true,
        "hidden": true,
        "lc_cell_meme": {
          "current": "c9673008-1428-11ef-b7c6-005056b0158c-3-3cc3-6320-d26c",
          "next": "ca9e2822-141f-11ef-b7c6-005056b0158c-3-26e1-4a78-4be1",
          "previous": "4a828846-1671-11ef-b7c6-005056b0158c-3-2e50-5bb0-fde0"
        }
      },
      "source": [
        "### MCJ   \n",
        "\n",
        "以下のセルをまとめ実行する。"
      ]
    },
    {
      "cell_type": "code",
      "execution_count": null,
      "metadata": {
        "hidden": true,
        "lc_cell_meme": {
          "current": "ca9e2822-141f-11ef-b7c6-005056b0158c-3-26e1-4a78-4be1",
          "next": "ca9e28e0-141f-11ef-b7c6-005056b0158c-3-94af-8117-252c",
          "previous": "c9673008-1428-11ef-b7c6-005056b0158c-3-3cc3-6320-d26c"
        }
      },
      "outputs": [],
      "source": [
        "from pathlib import Path\n",
        "import os\n",
        "\n",
        "cfg_ansible = Path('ansible.cfg')\n",
        "if cfg_ansible.exists():\n",
        "    os.environ['ANSIBLE_CONFIG'] = str(cfg_ansible.resolve())"
      ]
    },
    {
      "cell_type": "code",
      "execution_count": null,
      "metadata": {
        "hidden": true,
        "lc_cell_meme": {
          "current": "ca9e28e0-141f-11ef-b7c6-005056b0158c-3-94af-8117-252c",
          "next": "ca9e2976-141f-11ef-b7c6-005056b0158c-3-ac63-f294-c979",
          "previous": "ca9e2822-141f-11ef-b7c6-005056b0158c-3-26e1-4a78-4be1"
        }
      },
      "outputs": [],
      "source": [
        "target_hub = f'{ugroup_name}_manager'\n",
        "\n",
        "!ansible {target_hub} -m ping"
      ]
    },
    {
      "cell_type": "code",
      "execution_count": null,
      "metadata": {
        "hidden": true,
        "lc_cell_meme": {
          "current": "ca9e2976-141f-11ef-b7c6-005056b0158c-3-ac63-f294-c979",
          "next": "ca9e2a02-141f-11ef-b7c6-005056b0158c-3-6ae3-0b5f-a6f7",
          "previous": "ca9e28e0-141f-11ef-b7c6-005056b0158c-3-94af-8117-252c"
        }
      },
      "outputs": [],
      "source": [
        "target_nodes = f'{ugroup_name}_worker'\n",
        "\n",
        "!ansible {target_nodes} -m ping"
      ]
    },
    {
      "cell_type": "code",
      "execution_count": null,
      "metadata": {
        "hidden": true,
        "lc_cell_meme": {
          "current": "ca9e2a02-141f-11ef-b7c6-005056b0158c-3-6ae3-0b5f-a6f7",
          "next": "ca9e2a8e-141f-11ef-b7c6-005056b0158c-3-5f1f-52a5-7376",
          "previous": "ca9e2976-141f-11ef-b7c6-005056b0158c-3-ac63-f294-c979"
        }
      },
      "outputs": [],
      "source": [
        "!test -f group_vars/{ugroup_name}"
      ]
    },
    {
      "cell_type": "code",
      "execution_count": null,
      "metadata": {
        "hidden": true,
        "lc_cell_meme": {
          "current": "ca9e2a8e-141f-11ef-b7c6-005056b0158c-3-5f1f-52a5-7376",
          "next": "d8a1e800-141f-11ef-b7c6-005056b0158c-3-be53-1cdc-4b47",
          "previous": "ca9e2a02-141f-11ef-b7c6-005056b0158c-3-6ae3-0b5f-a6f7"
        }
      },
      "outputs": [],
      "source": [
        "import random\n",
        "import string\n",
        "configproxy_auth_token = ''.join([random.choice(\"abcdef\" + string.digits) for _ in range(32)])\n",
        "configproxy_auth_token"
      ]
    },
    {
      "cell_type": "code",
      "execution_count": null,
      "metadata": {
        "hidden": true,
        "lc_cell_meme": {
          "current": "d8a1e800-141f-11ef-b7c6-005056b0158c-3-be53-1cdc-4b47",
          "next": "d8a1eada-141f-11ef-b7c6-005056b0158c-3-98c9-9ceb-195e",
          "previous": "ca9e2a8e-141f-11ef-b7c6-005056b0158c-3-5f1f-52a5-7376"
        }
      },
      "outputs": [],
      "source": [
        "!mkdir -p edit\n",
        "!cp -n ./template/jupyterhub/jupyterhub/lms_web_service.py ./edit/\n",
        "!cp -n ./template/jupyterhub/jupyterhub/jupyterhub_config.py ./edit/\n",
        "!cp -n ./template/jupyterhub/jupyterhub/jupyterhub_params.yaml ./edit/"
      ]
    },
    {
      "cell_type": "code",
      "execution_count": null,
      "metadata": {
        "hidden": true,
        "lc_cell_meme": {
          "current": "d8a1eada-141f-11ef-b7c6-005056b0158c-3-98c9-9ceb-195e",
          "next": "201a3c28-1420-11ef-b7c6-005056b0158c-3-3e02-ec23-5d40",
          "previous": "d8a1e800-141f-11ef-b7c6-005056b0158c-3-be53-1cdc-4b47"
        }
      },
      "outputs": [],
      "source": [
        "# メールアドレスドメイン設定\n",
        "email_domain = 'example.com'\n",
        "\n",
        "# JupyterhubDB接続情報\n",
        "db_user = 'jupyter'\n",
        "db_password = 'PassWordDesu'\n",
        "\n",
        "# Jupyterhub用LDAPサーバ（ローカルLDAP）\n",
        "ldap_admin = 'Manager'\n",
        "ldap_password = 'PassWordDesu'\n",
        "\n",
        "# Jupyterhub 初期設定\n",
        "jupyterhub_admin_users = ['admin']\n",
        "\n",
        "# single-user notebook server コンテナイメージ\n",
        "singleuser_image = 'mcj-cloudhub-nb:latest'\n",
        "\n",
        "# 共有ディレクトリパス\n",
        "home_directory_root = '/jupyter'\n",
        "share_directory_root = '/exchange'\n",
        "\n",
        "# dockerネットワーク\n",
        "swarm_network = 'jupyterhub-network'\n",
        "\n",
        "# ユーザを一意に識別するキー\n",
        "lti_username_key = 'sub'\n",
        "\n",
        "# ユーザのcookieの有効日数(0.25日=6時間)\n",
        "cookie_max_age_days = 0.25\n",
        "\n",
        "# Jupyterhubコンテナイメージ\n",
        "jupyterhub_image = 'mcj-cloudhub:latest'\n",
        "\n",
        "# single-user notebook server コンテナをDocker Swarmのどのノードで起動するか\n",
        "# 「011-VCノード作成」で、worker_nodes(workerノード数)に0を指定した場合、\"manager\"を指定します。（\"worker\"を指定しても内部的には\"manager\"が指定されます）\n",
        "# node_role = 'manager'\n",
        "node_role = 'worker'\n"
      ]
    },
    {
      "cell_type": "code",
      "execution_count": null,
      "metadata": {
        "hidden": true,
        "lc_cell_meme": {
          "current": "201a3c28-1420-11ef-b7c6-005056b0158c-3-3e02-ec23-5d40",
          "next": "201a3ee4-1420-11ef-b7c6-005056b0158c-3-3b60-a668-dd8d",
          "previous": "d8a1eada-141f-11ef-b7c6-005056b0158c-3-98c9-9ceb-195e"
        }
      },
      "outputs": [],
      "source": [
        "import yaml\n",
        "from pathlib import Path\n",
        "\n",
        "path = Path('edit/jupyterhub_params.yaml')\n",
        "with path.open() as f:\n",
        "    params = yaml.safe_load(f)\n",
        "\n",
        "params.update({\n",
        "    'resource': {\n",
        "        'groups': {\n",
        "            'student': {\n",
        "                'mem_limit': '1G',\n",
        "                'cpu_limit': 0.5,\n",
        "                'mem_guarantee': 0,\n",
        "                'cpu_guarantee': 0,\n",
        "            },\n",
        "            'teacher': {\n",
        "                'mem_limit': '1G',\n",
        "                'cpu_limit': 1.0,\n",
        "                'mem_guarantee': 0,\n",
        "                'cpu_guarantee': 0,\n",
        "            },\n",
        "        },\n",
        "    },\n",
        "    'cull_server': {\n",
        "        'cull_server_timeout': 600,\n",
        "        'cull_server_every': 60,\n",
        "        'cull_server_max_age': 0,\n",
        "    },\n",
        "})\n",
        "\n",
        "with path.open(mode='w') as f:\n",
        "    yaml.safe_dump(params, stream=f)"
      ]
    },
    {
      "cell_type": "code",
      "execution_count": null,
      "metadata": {
        "hidden": true,
        "lc_cell_meme": {
          "current": "201a3ee4-1420-11ef-b7c6-005056b0158c-3-3b60-a668-dd8d",
          "next": "201a3fac-1420-11ef-b7c6-005056b0158c-3-744a-3695-ce74",
          "previous": "201a3c28-1420-11ef-b7c6-005056b0158c-3-3e02-ec23-5d40"
        }
      },
      "outputs": [],
      "source": [
        "# (例)\n",
        "# jupyterhub_backend = '10.1.0.0/20'\n",
        "\n",
        "jupyterhub_backend = '10.2.0.0/20'"
      ]
    },
    {
      "cell_type": "code",
      "execution_count": null,
      "metadata": {
        "hidden": true,
        "lc_cell_meme": {
          "current": "201a3fac-1420-11ef-b7c6-005056b0158c-3-744a-3695-ce74",
          "next": "201a4038-1420-11ef-b7c6-005056b0158c-3-f06f-f841-8a06",
          "previous": "201a3ee4-1420-11ef-b7c6-005056b0158c-3-3b60-a668-dd8d"
        }
      },
      "outputs": [],
      "source": [
        "!ansible-playbook -v -e jupyterhub_backend={jupyterhub_backend} -l {ugroup_name} \\\n",
        "    playbooks/check-subnet.yml"
      ]
    },
    {
      "cell_type": "code",
      "execution_count": null,
      "metadata": {
        "hidden": true,
        "lc_cell_meme": {
          "current": "201a4038-1420-11ef-b7c6-005056b0158c-3-f06f-f841-8a06",
          "next": "201a40c4-1420-11ef-b7c6-005056b0158c-3-76c7-6261-97b6",
          "previous": "201a3fac-1420-11ef-b7c6-005056b0158c-3-744a-3695-ce74"
        }
      },
      "outputs": [],
      "source": [
        "import yaml\n",
        "from pathlib import Path\n",
        "\n",
        "gvars_path = Path(f'group_vars/{ugroup_name}')\n",
        "with gvars_path.open() as f:\n",
        "    gvars = yaml.safe_load(f)\n",
        "\n",
        "if gvars['worker_nodes'] == 0:\n",
        "    node_role = 'manager'\n",
        "\n",
        "lms_platform_id = \"\"\n",
        "lms_cliend_id = \"\"\n",
        "\n",
        "gvars.update({\n",
        "    'swarm_network': swarm_network,\n",
        "    'jupyterhub_backend': jupyterhub_backend,\n",
        "    'jupyterhub_fqdn': jupyterhub_fqdn,\n",
        "    'db_user': db_user,\n",
        "    'db_password': db_password,\n",
        "    'email_domain': email_domain,\n",
        "    'jupyterhub_admin_users': jupyterhub_admin_users,\n",
        "    'lms_platform_id': lms_platform_id,\n",
        "    'lms_cliend_id': lms_cliend_id,\n",
        "    'lms_api_token': lms_api_token if 'lms_api_token' in locals() else '',\n",
        "    'get_course_member_method': get_course_member_method if 'get_course_member_method' in locals() else '',\n",
        "    'singleuser_image': singleuser_image.split(':')[0],\n",
        "    'singleuser_image_tag': singleuser_image.split(':')[1],\n",
        "    'ldap_password': ldap_password,\n",
        "    'ldap_admin': ldap_admin,\n",
        "    'home_directory_root': home_directory_root,\n",
        "    'share_directory_root': share_directory_root,\n",
        "    'lti_username_key': lti_username_key,\n",
        "    'cookie_max_age_days': cookie_max_age_days,\n",
        "    'configproxy_auth_token': configproxy_auth_token,\n",
        "    'jupyterhub_image': jupyterhub_image,\n",
        "    'node_role': node_role,\n",
        "    'ldap_admin': ldap_admin,\n",
        "})\n",
        "\n",
        "with gvars_path.open(mode='w') as f:\n",
        "    yaml.safe_dump(gvars, stream=f)"
      ]
    },
    {
      "cell_type": "code",
      "execution_count": null,
      "metadata": {
        "hidden": true,
        "lc_cell_meme": {
          "current": "201a40c4-1420-11ef-b7c6-005056b0158c-3-76c7-6261-97b6",
          "next": "67a2cfe2-1420-11ef-b7c6-005056b0158c-3-24b4-f935-19c2",
          "previous": "201a4038-1420-11ef-b7c6-005056b0158c-3-f06f-f841-8a06"
        }
      },
      "outputs": [],
      "source": [
        "!ansible {target_hub} -b -m file -a \\\n",
        "    'path={{{{base_dir}}}} state=directory owner={{{{ansible_user}}}}'\n",
        "!ansible {target_hub} -b -m file -a \\\n",
        "    'path={{{{base_dir}}}}/certs state=directory owner={{{{ansible_user}}}}'"
      ]
    },
    {
      "cell_type": "code",
      "execution_count": null,
      "metadata": {
        "hidden": true,
        "lc_cell_meme": {
          "current": "67a2cfe2-1420-11ef-b7c6-005056b0158c-3-24b4-f935-19c2",
          "next": "201a4150-1420-11ef-b7c6-005056b0158c-3-8491-ce9c-ee9f",
          "previous": "201a40c4-1420-11ef-b7c6-005056b0158c-3-76c7-6261-97b6"
        }
      },
      "outputs": [],
      "source": [
        "# 証明書配置\n",
        "!ansible {target_hub} -Dv -m synchronize \\\n",
        "    -a 'src=/notebooks/notebook/certs/fullchain.pem dest={{{{certs_dir}}}}'\n",
        "!ansible {target_hub} -Dv -m synchronize \\\n",
        "    -a 'src=/notebooks/notebook/certs/privkey.pem dest={{{{certs_dir}}}}'"
      ]
    },
    {
      "cell_type": "code",
      "execution_count": null,
      "metadata": {
        "hidden": true,
        "lc_cell_meme": {
          "current": "201a4150-1420-11ef-b7c6-005056b0158c-3-8491-ce9c-ee9f",
          "next": "201a41dc-1420-11ef-b7c6-005056b0158c-3-92d5-fc4f-d6c1",
          "previous": "67a2cfe2-1420-11ef-b7c6-005056b0158c-3-24b4-f935-19c2"
        }
      },
      "outputs": [],
      "source": [
        "try:\n",
        "    !ansible {target_hub} -a \\\n",
        "        'openssl rsa -noout -text -in  {{{{certs_dir}}}}/privkey.pem'\n",
        "except Exception as e:\n",
        "    # 鍵の形式が異なる場合、正しく配置できていてもエラーになる場合があります。\n",
        "    !ansible {target_hub} -a \\\n",
        "         'openssl ec -in {{{{certs_dir}}}}/privkey.pem -text -noout'"
      ]
    },
    {
      "cell_type": "code",
      "execution_count": null,
      "metadata": {
        "hidden": true,
        "lc_cell_meme": {
          "current": "201a41dc-1420-11ef-b7c6-005056b0158c-3-92d5-fc4f-d6c1",
          "next": "201a4268-1420-11ef-b7c6-005056b0158c-3-a364-5f16-1c4b",
          "previous": "201a4150-1420-11ef-b7c6-005056b0158c-3-8491-ce9c-ee9f"
        }
      },
      "outputs": [],
      "source": [
        "!ansible {target_hub} -a \\\n",
        "    'openssl x509 -noout -text -in {{{{certs_dir}}}}/fullchain.pem'"
      ]
    },
    {
      "cell_type": "code",
      "execution_count": null,
      "metadata": {
        "hidden": true,
        "lc_cell_meme": {
          "current": "201a4268-1420-11ef-b7c6-005056b0158c-3-a364-5f16-1c4b",
          "next": "3e420d10-1421-11ef-b7c6-005056b0158c-3-2f11-f5c5-72ad",
          "previous": "201a41dc-1420-11ef-b7c6-005056b0158c-3-92d5-fc4f-d6c1"
        }
      },
      "outputs": [],
      "source": [
        "cert_owner = 33\n",
        "cert_group = 33\n",
        "!ansible {target_hub} -b -m file -a \\\n",
        "    'path={{{{certs_dir}}}} owner={cert_owner} \\\n",
        "    group={cert_group} state=directory'\n",
        "!ansible {target_hub} -b -m file -a \\\n",
        "    'path={{{{certs_dir}}}}/fullchain.pem \\\n",
        "    owner={cert_owner} group={cert_group}'\n",
        "!ansible {target_hub} -b -m file -a \\\n",
        "    'path={{{{certs_dir}}}}/privkey.pem \\\n",
        "    owner={cert_owner} group={cert_group} mode=0600'"
      ]
    },
    {
      "cell_type": "code",
      "execution_count": null,
      "metadata": {
        "hidden": true,
        "lc_cell_meme": {
          "current": "3e420d10-1421-11ef-b7c6-005056b0158c-3-2f11-f5c5-72ad",
          "next": "3e42108a-1421-11ef-b7c6-005056b0158c-3-d7bd-fd10-311e",
          "previous": "201a4268-1420-11ef-b7c6-005056b0158c-3-a364-5f16-1c4b"
        }
      },
      "outputs": [],
      "source": [
        "# 先にディレクトリ作成\n",
        "!ansible {target_hub} -b -m file -a \\\n",
        "    'path={share_directory_root}/nbgrader state=directory owner={{{{ansible_user}}}}'\n",
        "!ansible {target_hub} -b -m file -a \\\n",
        "    'path={share_directory_root}/class state=directory owner={{{{ansible_user}}}}'\n",
        "!ansible {target_hub} -b -m file -a \\\n",
        "    'path={{{{base_dir}}}}/jupyterhub/ldap state=directory owner={{{{ansible_user}}}}'\n",
        "!ansible {target_hub} -b -m file -a \\\n",
        "    'path={{{{base_dir}}}}/jupyterhub/nginx state=directory owner={{{{ansible_user}}}}'"
      ]
    },
    {
      "cell_type": "code",
      "execution_count": null,
      "metadata": {
        "hidden": true,
        "lc_cell_meme": {
          "current": "3e42108a-1421-11ef-b7c6-005056b0158c-3-d7bd-fd10-311e",
          "next": "3e42115c-1421-11ef-b7c6-005056b0158c-3-af3c-00a2-eaae",
          "previous": "3e420d10-1421-11ef-b7c6-005056b0158c-3-2f11-f5c5-72ad"
        }
      },
      "outputs": [],
      "source": [
        "# 共有ディレクトリに必要なファイル配置\n",
        "!ansible {target_hub} -Dv -m synchronize \\\n",
        "    -a 'src=template/directories/jupytershare/nbgrader dest={share_directory_root}'\n",
        "!ansible {target_hub} -Dv -m synchronize \\\n",
        "    -a 'src=template/directories/jupytershare/class dest={share_directory_root}'\n",
        "!ansible {target_hub} -Dv -m template \\\n",
        "    -a 'src=template/directories/jupytershare/nbgrader/templates/teachers/nbgrader_config.py \\\n",
        "    dest={share_directory_root}/nbgrader/templates/teachers backup=yes'\n",
        "\n",
        "# ホームディレクトリに必要なファイル配置\n",
        "!ansible {target_hub} -Dv -m synchronize \\\n",
        "    -a 'src=template/directories/skelton dest={home_directory_root}'\n",
        "\n",
        "# jupyterhubシステム構築に必要なファイル配置\n",
        "!ansible {target_hub} -Dv -m synchronize \\\n",
        "    -a 'src=template/jupyterhub/jupyterhub dest={{{{base_dir}}}}/jupyterhub'\n",
        "!ansible {target_hub} -Dv -m synchronize \\\n",
        "    -a 'src=template/jupyterhub/nginx dest={{{{base_dir}}}}/jupyterhub'\n",
        "!ansible {target_hub} -Dv -m synchronize \\\n",
        "    -a 'src=template/jupyterhub/ldap dest={{{{base_dir}}}}/jupyterhub'\n",
        "\n",
        "!ansible {target_hub} -Dv -m template \\\n",
        "    -a 'src=template/jupyterhub/docker-compose.yml dest={{{{base_dir}}}}/docker-compose.yml backup=yes'\n",
        "\n",
        "!ansible {target_hub} -Dv -m template \\\n",
        "    -a 'src=template/jupyterhub/nginx/default.conf dest={{{{base_dir}}}}/jupyterhub/nginx/default.conf backup=yes'\n",
        "\n",
        "!ansible {target_hub} -Dv -m synchronize \\\n",
        "    -a 'src=template/jupyterhub/jupyterhub/sudoers dest={{{{share_directory_root}}}} rsync_opts=--chown=root:root,--chmod=600' --become"
      ]
    },
    {
      "cell_type": "code",
      "execution_count": null,
      "metadata": {
        "hidden": true,
        "lc_cell_meme": {
          "current": "3e42115c-1421-11ef-b7c6-005056b0158c-3-af3c-00a2-eaae",
          "next": "3e4211e8-1421-11ef-b7c6-005056b0158c-3-24ec-5de6-2b86",
          "previous": "3e42108a-1421-11ef-b7c6-005056b0158c-3-d7bd-fd10-311e"
        }
      },
      "outputs": [],
      "source": [
        "!ansible-playbook -l {target_hub} playbooks/setup-jupyterhub.yml -e jupyterhub_image={jupyterhub_image}"
      ]
    },
    {
      "cell_type": "code",
      "execution_count": null,
      "metadata": {
        "hidden": true,
        "lc_cell_meme": {
          "current": "3e4211e8-1421-11ef-b7c6-005056b0158c-3-24ec-5de6-2b86",
          "next": "7a7beb3e-1421-11ef-b7c6-005056b0158c-3-8dfa-2951-9279",
          "previous": "3e42115c-1421-11ef-b7c6-005056b0158c-3-af3c-00a2-eaae"
        }
      },
      "outputs": [],
      "source": [
        "!ansible {target_hub} -a \\\n",
        "    'docker images {{{{jupyterhub_image}}}}'"
      ]
    },
    {
      "cell_type": "code",
      "execution_count": null,
      "metadata": {
        "hidden": true,
        "lc_cell_meme": {
          "current": "7a7beb3e-1421-11ef-b7c6-005056b0158c-3-8dfa-2951-9279",
          "next": "7a7bede6-1421-11ef-b7c6-005056b0158c-3-c76c-7b5e-6b88",
          "previous": "3e4211e8-1421-11ef-b7c6-005056b0158c-3-24ec-5de6-2b86"
        }
      },
      "outputs": [],
      "source": [
        "!ansible {ugroup_name} -b -m file -a \\\n",
        "    'path={{{{notebook_dir}}}} state=directory owner={{{{ansible_user}}}}'"
      ]
    },
    {
      "cell_type": "code",
      "execution_count": null,
      "metadata": {
        "hidden": true,
        "lc_cell_meme": {
          "current": "7a7bede6-1421-11ef-b7c6-005056b0158c-3-c76c-7b5e-6b88",
          "next": "7a7beea4-1421-11ef-b7c6-005056b0158c-3-77ec-993f-0274",
          "previous": "7a7beb3e-1421-11ef-b7c6-005056b0158c-3-8dfa-2951-9279"
        }
      },
      "outputs": [],
      "source": [
        "!ansible {ugroup_name} -Dv -m synchronize \\\n",
        "    -a 'src=template/notebook dest={{{{base_dir}}}}'\n",
        "!ansible {ugroup_name} -Dv -m template \\\n",
        "    -a 'src=template/notebook/image/ldap.conf dest={{{{base_dir}}}}/notebook/image/ backup=yes'\n",
        "!ansible {ugroup_name} -Dv -m template \\\n",
        "    -a 'src=template/notebook/image/nbgrader_config.py dest={{{{base_dir}}}}/notebook/image/ backup=yes'"
      ]
    },
    {
      "cell_type": "code",
      "execution_count": null,
      "metadata": {
        "hidden": true,
        "lc_cell_meme": {
          "current": "7a7beea4-1421-11ef-b7c6-005056b0158c-3-77ec-993f-0274",
          "next": "7a7bef3a-1421-11ef-b7c6-005056b0158c-3-e4ae-d195-a31c",
          "previous": "7a7bede6-1421-11ef-b7c6-005056b0158c-3-c76c-7b5e-6b88"
        }
      },
      "outputs": [],
      "source": [
        "!ansible-playbook -l {ugroup_name} playbooks/setup-jupyter-notebook.yml"
      ]
    },
    {
      "cell_type": "code",
      "execution_count": null,
      "metadata": {
        "hidden": true,
        "lc_cell_meme": {
          "current": "7a7bef3a-1421-11ef-b7c6-005056b0158c-3-e4ae-d195-a31c",
          "next": "7a7befc6-1421-11ef-b7c6-005056b0158c-3-1489-3bed-c92d",
          "previous": "7a7beea4-1421-11ef-b7c6-005056b0158c-3-77ec-993f-0274"
        }
      },
      "outputs": [],
      "source": [
        "print(f'指定したイメージ名:{singleuser_image}')\n",
        "\n",
        "!ansible {ugroup_name} -m shell -a 'docker images | \\\n",
        "    grep -e \"{{{{singleuser_image}}}}\"'"
      ]
    },
    {
      "cell_type": "code",
      "execution_count": null,
      "metadata": {
        "hidden": true,
        "lc_cell_meme": {
          "current": "7a7befc6-1421-11ef-b7c6-005056b0158c-3-1489-3bed-c92d",
          "next": "7a7bf052-1421-11ef-b7c6-005056b0158c-3-879c-73d0-b140",
          "previous": "7a7bef3a-1421-11ef-b7c6-005056b0158c-3-e4ae-d195-a31c"
        }
      },
      "outputs": [],
      "source": [
        "!ansible {target_hub} -Dv -m template \\\n",
        "    -a 'src=template/jupyterhub/docker-compose.yml dest={{{{base_dir}}}}/jupyterhub backup=yes'\n",
        "!ansible {target_hub} -Dv -m template \\\n",
        "    -a 'src=template/jupyterhub/nginx/default.conf dest={{{{base_dir}}}}/jupyterhub/nginx backup=yes'\n",
        "!ansible {target_hub} -Dv -m template \\\n",
        "    -a 'src=edit/lms_web_service.py dest={{{{jupyterhub_dir}}}}/jupyterhub backup=yes'\n",
        "!ansible {target_hub} -Dv -m template \\\n",
        "    -a 'src=edit/jupyterhub_config.py dest={{{{jupyterhub_dir}}}}/jupyterhub backup=yes'\n",
        "!ansible {target_hub} -Dv -m template \\\n",
        "    -a 'src=edit/jupyterhub_params.yaml dest={{{{jupyterhub_dir}}}}/jupyterhub backup=yes'"
      ]
    },
    {
      "cell_type": "code",
      "execution_count": null,
      "metadata": {
        "hidden": true,
        "lc_cell_meme": {
          "current": "7a7bf052-1421-11ef-b7c6-005056b0158c-3-879c-73d0-b140",
          "next": "7a7bf16a-1421-11ef-b7c6-005056b0158c-3-4639-eb6a-eabb",
          "previous": "7a7befc6-1421-11ef-b7c6-005056b0158c-3-1489-3bed-c92d"
        }
      },
      "outputs": [],
      "source": [
        "!ansible {target_hub} -a 'chdir={{{{base_dir}}}}/jupyterhub \\\n",
        "    docker stack deploy -c docker-compose.yml {{{{ugroup_name}}}}'"
      ]
    },
    {
      "cell_type": "markdown",
      "metadata": {
        "hidden": true,
        "lc_cell_meme": {
          "current": "7a7bf16a-1421-11ef-b7c6-005056b0158c-3-4639-eb6a-eabb",
          "next": "7a7bf200-1421-11ef-b7c6-005056b0158c-3-af4c-e426-cd10",
          "previous": "7a7bf052-1421-11ef-b7c6-005056b0158c-3-879c-73d0-b140"
        }
      },
      "source": [
        "### JHのヘルスチェック\n",
        "\n",
        "ACL設定等を行っていなければ通信できないため、エラーになる。"
      ]
    },
    {
      "cell_type": "code",
      "execution_count": null,
      "metadata": {
        "hidden": true,
        "lc_cell_meme": {
          "current": "7a7bf200-1421-11ef-b7c6-005056b0158c-3-af4c-e426-cd10",
          "next": "4c3d87aa-1679-11ef-b7c6-005056b0158c-1-a049",
          "previous": "7a7bf16a-1421-11ef-b7c6-005056b0158c-3-4639-eb6a-eabb"
        }
      },
      "outputs": [],
      "source": [
        "import time\n",
        "\n",
        "# 規定回数\n",
        "retry_max = 18\n",
        "err = None\n",
        "\n",
        "for retry in range(retry_max):\n",
        "    try:\n",
        "        !ansible {target_hub} -m uri -a \"url=https://{master_fqdn}/hub/health\"\n",
        "        break\n",
        "\n",
        "    except Exception as e:\n",
        "        print(\"retry\")\n",
        "        err = e\n",
        "        time.sleep(10)\n",
        "else:\n",
        "    raise err"
      ]
    },
    {
      "cell_type": "markdown",
      "metadata": {
        "lc_cell_meme": {
          "current": "4c3d87aa-1679-11ef-b7c6-005056b0158c-1-a049",
          "next": "f18cb366-167e-11ef-b7c6-005056b0158c-1-da74",
          "previous": "7a7bf200-1421-11ef-b7c6-005056b0158c-3-af4c-e426-cd10"
        }
      },
      "source": [
        "## 外部ツール設定  \n",
        "Moodleにアクセスし、外部ツール設定を行う。  \n",
        "設定後、外部ツール情報を確認し、以下のセルでパラメータ指定をおこなう。"
      ]
    },
    {
      "cell_type": "markdown",
      "metadata": {
        "lc_cell_meme": {
          "current": "f18cb366-167e-11ef-b7c6-005056b0158c-1-da74",
          "next": "e053e3c8-167c-11ef-b7c6-005056b0158c-1-e599",
          "previous": "4c3d87aa-1679-11ef-b7c6-005056b0158c-1-a049"
        }
      },
      "source": [
        "### パラメータ表示  \n",
        "以下のパラメータを外部ツール設定画面で指定する。  \n",
        "**アクセスすると、`Reverse proxy enabled so the server cannot be accessed directly.`というエラーが出る場合がある。  \n",
        "この場合、Moodleの設定（`config.php`）に失敗している。`config.php`の設定を行っているセルを再度実行する。**（Moodleの稼働に少し遅れてdocker-compose.ymlで設定した環境変数をもとにした設定が反映されるため）   \n",
        "\n",
        "* 外部ツール設定手順\n",
        "    * 以下に表示される「Moodle 外部ツールURL」にアクセス\n",
        "    * Moodle未ログインの場合は、「ログイン情報」を基にMoodleにログイン\n",
        "    * 画面中央の`configure a tool manually.`をクリック"
      ]
    },
    {
      "cell_type": "markdown",
      "metadata": {},
      "source": [
        "#### Moodleログイン情報・URL情報\n",
        "以下のセルを実行すると、ログインURLや、外部ツール設定画面のURL等が表示される。"
      ]
    },
    {
      "cell_type": "code",
      "execution_count": null,
      "metadata": {},
      "outputs": [],
      "source": [
        "print('Moodle URL:', f'https://{jupyterhub_fqdn}/moodle')\n",
        "print('Moodle 外部ツールURL:', f'https://{jupyterhub_fqdn}/moodle/mod/lti/toolconfigure.php')\n",
        "print(f'ログイン情報: id=admin password={moodle_admin_password}')"
      ]
    },
    {
      "cell_type": "markdown",
      "metadata": {},
      "source": [
        "#### 外部ツール設定情報\n",
        "\n",
        "以下の内容を外部ツールにて設定してください。  \n",
        "記載のない項目は、画面の表示（必須/非必須 等）に応じて、任意で設定を行う。"
      ]
    },
    {
      "cell_type": "code",
      "execution_count": null,
      "metadata": {
        "lc_cell_meme": {
          "current": "e053e3c8-167c-11ef-b7c6-005056b0158c-1-e599",
          "next": "85979b76-1679-11ef-b7c6-005056b0158c-1-4927",
          "previous": "f18cb366-167e-11ef-b7c6-005056b0158c-1-da74"
        }
      },
      "outputs": [],
      "source": [
        "print('#### Tool Settings ####')\n",
        "print('LTI version:', 'LTI 1.3')\n",
        "print('Public key type:', 'RSA Key')\n",
        "if not 'get_course_member_method' in globals() or not get_course_member_method == 'moodle_api':\n",
        "    res = !ansible {target_hub} -a \\\n",
        "        'cat  {{{{jupyterhub_dir}}}}/jupyterhub/public_key_nrps.pem'\n",
        "    print('Public key:')\n",
        "    print('\\n'.join(res[1:]))\n",
        "\n",
        "print('Tool URL:', f'https://{jupyterhub_fqdn}/')\n",
        "print('Initiate login URL:', f'https://{jupyterhub_fqdn}/hub/lti13/oauth_login')\n",
        "print('Redirection URI(s):', f'https://{jupyterhub_fqdn}/hub/lti13/oauth_callback')\n",
        "\n",
        "print('Tool configuration usage:', 'Show in activity chooser and as a preconfigured tool')\n",
        "print('Default launch container:', 'New window')\n",
        "\n",
        "print('\\n#### Services ####')\n",
        "print('IMS LTI Names and Role Provisioning:', \"Use this service to retrieve members' information as per privacy settings\")\n",
        "print('Default launch container:', 'New window')\n",
        "\n",
        "print('\\n#### Privacy ####')\n",
        "print(\"Share launcher's name with tool:\", 'Always')\n",
        "print(\"Share launcher's email with tool:\", 'Always')\n"
      ]
    },
    {
      "cell_type": "markdown",
      "metadata": {
        "lc_cell_meme": {
          "current": "85979b76-1679-11ef-b7c6-005056b0158c-1-4927",
          "next": "4c3d8e9e-1679-11ef-b7c6-005056b0158c-1-4e4b",
          "previous": "e053e3c8-167c-11ef-b7c6-005056b0158c-1-e599"
        }
      },
      "source": [
        "### パラメータ指定  \n",
        "Moodleで設定した外部ツール情報を確認し、以下の項目を設定する。  \n",
        "設定後に表示されるツール一覧画面にて、`Tools`に表示される外部ツールのリストビューアイコンをクリックするとツール情報が表示される。\n",
        "\n",
        "<img src='images/811/mdl_outertool.png' width='10%' height='10%'>"
      ]
    },
    {
      "cell_type": "code",
      "execution_count": null,
      "metadata": {
        "lc_cell_meme": {
          "current": "4c3d8e9e-1679-11ef-b7c6-005056b0158c-1-4e4b",
          "next": "85979e6e-1679-11ef-b7c6-005056b0158c-1-09a4",
          "previous": "85979b76-1679-11ef-b7c6-005056b0158c-1-4927"
        }
      },
      "outputs": [],
      "source": [
        "# lti1.3認証連携情報(moodle等)\n",
        "# lms プラットフォームID (例) 'www.sample.org'\n",
        "lms_platform_id = \n",
        "\n",
        "# lms クライアントID \n",
        "lms_cliend_id = "
      ]
    },
    {
      "cell_type": "markdown",
      "metadata": {
        "heading_collapsed": true,
        "lc_cell_meme": {
          "current": "85979e6e-1679-11ef-b7c6-005056b0158c-1-09a4",
          "next": "85979f2c-1679-11ef-b7c6-005056b0158c-1-f5b6",
          "previous": "4c3d8e9e-1679-11ef-b7c6-005056b0158c-1-4e4b"
        }
      },
      "source": [
        "### 設定  \n",
        "以下まとめ実行する"
      ]
    },
    {
      "cell_type": "code",
      "execution_count": null,
      "metadata": {
        "hidden": true,
        "lc_cell_meme": {
          "current": "85979f2c-1679-11ef-b7c6-005056b0158c-1-f5b6",
          "next": "d5015a9e-167e-11ef-b7c6-005056b0158c-1-1c47",
          "previous": "85979e6e-1679-11ef-b7c6-005056b0158c-1-09a4"
        }
      },
      "outputs": [],
      "source": [
        "import os\n",
        "%run scripts/group.py\n",
        "update_group_vars(\n",
        "    ugroup_name,\n",
        "    lms_platform_id=lms_platform_id,\n",
        "    lms_cliend_id=lms_cliend_id,\n",
        ")"
      ]
    },
    {
      "cell_type": "code",
      "execution_count": null,
      "metadata": {
        "hidden": true,
        "lc_cell_meme": {
          "current": "d5015a9e-167e-11ef-b7c6-005056b0158c-1-1c47",
          "next": "ce0c4230-1679-11ef-b7c6-005056b0158c-1-b396",
          "previous": "85979f2c-1679-11ef-b7c6-005056b0158c-1-f5b6"
        }
      },
      "outputs": [],
      "source": [
        "!ansible {target_hub} -Dv -m template \\\n",
        "    -a 'src=template/jupyterhub/docker-compose.yml dest={{{{base_dir}}}}/jupyterhub backup=yes'"
      ]
    },
    {
      "cell_type": "code",
      "execution_count": null,
      "metadata": {
        "hidden": true,
        "lc_cell_meme": {
          "current": "ce0c4230-1679-11ef-b7c6-005056b0158c-1-b396",
          "next": "6f61e04c-167d-11ef-b7c6-005056b0158c-1-169c",
          "previous": "d5015a9e-167e-11ef-b7c6-005056b0158c-1-1c47"
        }
      },
      "outputs": [],
      "source": [
        "!ansible {target_hub} -a 'docker service update --env-add LMS_PLATFORM_ID={lms_platform_id} {ugroup_name}_jupyterhub'\n",
        "!ansible {target_hub} -a 'docker service update --env-add LMS_CLIENT_ID={lms_cliend_id} {ugroup_name}_jupyterhub'"
      ]
    }
  ],
  "metadata": {
    "kernelspec": {
      "display_name": "Python 3",
      "language": "python",
      "name": "python3"
    },
    "language_info": {
      "file_extension": ".py",
      "mimetype": "text/x-python",
      "name": "python",
      "nbconvert_exporter": "python",
      "pygments_lexer": "ipython3",
      "version": "3.10.4"
    },
    "lc_notebook_meme": {
      "current": "88934186-2bba-11ee-987e-0242ac110002",
      "lc_server_signature": {
        "current": {
          "notebook_dir": "/notebooks/notebook",
          "notebook_path": "/yamaguchi-hub/notebooks",
          "server_url": "http://163.220.177.100:8888/jupyter/",
          "signature_id": "0ef7ae06-ca2b-11ee-9b69-005056b0158c"
        }
      }
    },
    "toc": {
      "base_numbering": 1,
      "nav_menu": {},
      "number_sections": true,
      "sideBar": true,
      "skip_h1_title": true,
      "title_cell": "Table of Contents",
      "title_sidebar": "Contents",
      "toc_cell": false,
      "toc_position": {
        "height": "calc(100% - 180px)",
        "left": "10px",
        "top": "150px",
        "width": "285.293px"
      },
      "toc_section_display": true,
      "toc_window_display": true
    }
  },
  "nbformat": 4,
  "nbformat_minor": 2
}
