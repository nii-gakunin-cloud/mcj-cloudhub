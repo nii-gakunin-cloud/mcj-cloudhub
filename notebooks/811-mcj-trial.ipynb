{
 "cells": [
  {
   "cell_type": "markdown",
   "metadata": {
    "lc_cell_meme": {
     "current": "8893444c-2bba-11ee-987e-0242ac110002-7-73c3-2380-eba6-4e41-6079-fd3b-89d8",
     "history": [
      {
       "current": "8893444c-2bba-11ee-987e-0242ac110002-1-73c3",
       "next": "88934546-2bba-11ee-987e-0242ac110002",
       "previous": null
      },
      {
       "current": "8893444c-2bba-11ee-987e-0242ac110002-2-73c3-2380",
       "next": "88934546-2bba-11ee-987e-0242ac110002-1-a666",
       "previous": null
      },
      {
       "current": "8893444c-2bba-11ee-987e-0242ac110002-3-73c3-2380-eba6",
       "next": "88934546-2bba-11ee-987e-0242ac110002-2-a666-8fd2",
       "previous": null
      },
      {
       "current": "8893444c-2bba-11ee-987e-0242ac110002-4-73c3-2380-eba6-4e41",
       "next": "88934546-2bba-11ee-987e-0242ac110002-3-a666-8fd2-ac0e",
       "previous": null
      },
      {
       "current": "8893444c-2bba-11ee-987e-0242ac110002-5-73c3-2380-eba6-4e41-6079",
       "next": "88934546-2bba-11ee-987e-0242ac110002-4-a666-8fd2-ac0e-120e",
       "previous": null
      },
      {
       "current": "8893444c-2bba-11ee-987e-0242ac110002-6-73c3-2380-eba6-4e41-6079-fd3b",
       "next": "88934546-2bba-11ee-987e-0242ac110002-5-a666-8fd2-ac0e-120e-36a0",
       "previous": null
      },
      {
       "current": "8893444c-2bba-11ee-987e-0242ac110002-7-73c3-2380-eba6-4e41-6079-fd3b-89d8",
       "next": "88934546-2bba-11ee-987e-0242ac110002-6-a666-8fd2-ac0e-120e-36a0-a024",
       "previous": null
      }
     ],
     "next": "88934546-2bba-11ee-987e-0242ac110002-7-a666-8fd2-ac0e-120e-36a0-a024-5a34",
     "previous": null
    }
   },
   "source": [
    "# MCJ-CloudHub試用環境作成\n",
    "\n",
    "---\n",
    "\n",
    "MCJ-CloudHub動作確認（試用）用環境作成Notebook。  \n",
    "MoodleとMCJ-CloudHubを１つのVM上で構築する。  \n",
    "\n",
    "## 事前準備\n",
    "- VCノード構築可能なVM * 1\n",
    "- `/notebooks/notebook/token.txt` にテキストファイルとしてVCCアクセストークンが保存されている\n",
    "- `/notebooks/notebook/certs/fullchain.pem` としてSSL証明書が保存されている\n",
    "- `/notebooks/notebook/certs/privkey.pem` としてSSL証明書の秘密鍵が保存されている\n",
    "\n",
    "## 流れ\n",
    "1. VCノード作成\n",
    "1. MCJ-CloudHub構築\n",
    "1. Moodle構築\n",
    "1. Moodle外部ツール設定\n",
    "1. MCJ-CloudHub設定ファイル更新（Moodleで外部ツール設定後に生成されるシークレット情報を設定する）"
   ]
  },
  {
   "cell_type": "markdown",
   "metadata": {
    "lc_cell_meme": {
     "current": "88934546-2bba-11ee-987e-0242ac110002-7-a666-8fd2-ac0e-120e-36a0-a024-5a34",
     "history": [
      {
       "current": "88934546-2bba-11ee-987e-0242ac110002-1-a666",
       "next": "889345fa-2bba-11ee-987e-0242ac110002",
       "previous": "8893444c-2bba-11ee-987e-0242ac110002"
      },
      {
       "current": "88934546-2bba-11ee-987e-0242ac110002-2-a666-8fd2",
       "next": "889345fa-2bba-11ee-987e-0242ac110002-1-e245",
       "previous": "8893444c-2bba-11ee-987e-0242ac110002-1-73c3"
      },
      {
       "current": "88934546-2bba-11ee-987e-0242ac110002-2-a666-8fd2",
       "next": "889345fa-2bba-11ee-987e-0242ac110002-2-e245-06fb",
       "previous": "8893444c-2bba-11ee-987e-0242ac110002-2-73c3-2380"
      },
      {
       "current": "88934546-2bba-11ee-987e-0242ac110002-3-a666-8fd2-ac0e",
       "next": "2f4ca2d4-7f93-11ee-880b-0242ac110002",
       "previous": "8893444c-2bba-11ee-987e-0242ac110002-2-73c3-2380"
      },
      {
       "current": "88934546-2bba-11ee-987e-0242ac110002-4-a666-8fd2-ac0e-120e",
       "next": "2f4ca2d4-7f93-11ee-880b-0242ac110002-1-ccba",
       "previous": "8893444c-2bba-11ee-987e-0242ac110002-3-73c3-2380-eba6"
      },
      {
       "current": "88934546-2bba-11ee-987e-0242ac110002-5-a666-8fd2-ac0e-120e-36a0",
       "next": "2f4ca2d4-7f93-11ee-880b-0242ac110002-2-ccba-79f2",
       "previous": "8893444c-2bba-11ee-987e-0242ac110002-4-73c3-2380-eba6-4e41"
      },
      {
       "current": "88934546-2bba-11ee-987e-0242ac110002-6-a666-8fd2-ac0e-120e-36a0-a024",
       "next": "2f4ca2d4-7f93-11ee-880b-0242ac110002-3-ccba-79f2-4357",
       "previous": "8893444c-2bba-11ee-987e-0242ac110002-5-73c3-2380-eba6-4e41-6079"
      },
      {
       "current": "88934546-2bba-11ee-987e-0242ac110002-7-a666-8fd2-ac0e-120e-36a0-a024-5a34",
       "next": "2f4ca2d4-7f93-11ee-880b-0242ac110002-4-ccba-79f2-4357-a83c",
       "previous": "8893444c-2bba-11ee-987e-0242ac110002-6-73c3-2380-eba6-4e41-6079-fd3b"
      }
     ],
     "next": "2f4ca2d4-7f93-11ee-880b-0242ac110002-5-ccba-79f2-4357-a83c-917c",
     "previous": "8893444c-2bba-11ee-987e-0242ac110002-7-73c3-2380-eba6-4e41-6079-fd3b-89d8"
    }
   },
   "source": [
    "## はじめに\n",
    "\n",
    "このNotebookではJupyterHub環境を構築するためのノード作成を行います。managerノードにNFSサーバを配置する構成とします。  \n",
    "本ノートブックで構築する部分を以下に図示します。"
   ]
  },
  {
   "cell_type": "markdown",
   "metadata": {
    "lc_cell_meme": {
     "current": "2f4ca2d4-7f93-11ee-880b-0242ac110002-5-ccba-79f2-4357-a83c-917c",
     "history": [
      {
       "current": "2f4ca2d4-7f93-11ee-880b-0242ac110002-1-ccba",
       "next": "889345fa-2bba-11ee-987e-0242ac110002-2-e245-06fb",
       "previous": "88934546-2bba-11ee-987e-0242ac110002-2-a666-8fd2"
      },
      {
       "current": "2f4ca2d4-7f93-11ee-880b-0242ac110002-1-ccba",
       "next": "889345fa-2bba-11ee-987e-0242ac110002-3-e245-06fb-2459",
       "previous": "88934546-2bba-11ee-987e-0242ac110002-3-a666-8fd2-ac0e"
      },
      {
       "current": "2f4ca2d4-7f93-11ee-880b-0242ac110002-1-ccba",
       "next": "88935298-2bba-11ee-987e-0242ac110002-3-5a43-6045-69ec",
       "previous": "88934546-2bba-11ee-987e-0242ac110002-3-a666-8fd2-ac0e"
      },
      {
       "current": "2f4ca2d4-7f93-11ee-880b-0242ac110002-2-ccba-79f2",
       "next": "4f065e40-1416-11ef-b7c6-005056b0158c",
       "previous": "88934546-2bba-11ee-987e-0242ac110002-3-a666-8fd2-ac0e"
      },
      {
       "current": "2f4ca2d4-7f93-11ee-880b-0242ac110002-3-ccba-79f2-4357",
       "next": "4f065e40-1416-11ef-b7c6-005056b0158c-1-055b",
       "previous": "88934546-2bba-11ee-987e-0242ac110002-4-a666-8fd2-ac0e-120e"
      },
      {
       "current": "2f4ca2d4-7f93-11ee-880b-0242ac110002-4-ccba-79f2-4357-a83c",
       "next": "4f065e40-1416-11ef-b7c6-005056b0158c-2-055b-74c5",
       "previous": "88934546-2bba-11ee-987e-0242ac110002-5-a666-8fd2-ac0e-120e-36a0"
      },
      {
       "current": "2f4ca2d4-7f93-11ee-880b-0242ac110002-5-ccba-79f2-4357-a83c-917c",
       "next": "4f065e40-1416-11ef-b7c6-005056b0158c-3-055b-74c5-4339",
       "previous": "88934546-2bba-11ee-987e-0242ac110002-6-a666-8fd2-ac0e-120e-36a0-a024"
      }
     ],
     "next": "4f065e40-1416-11ef-b7c6-005056b0158c-4-055b-74c5-4339-0f38",
     "previous": "88934546-2bba-11ee-987e-0242ac110002-7-a666-8fd2-ac0e-120e-36a0-a024-5a34"
    }
   },
   "source": [
    "![モジュール構成](images/011/arch-011.png)"
   ]
  },
  {
   "cell_type": "code",
   "execution_count": null,
   "metadata": {
    "lc_cell_meme": {
     "current": "4f065e40-1416-11ef-b7c6-005056b0158c-4-055b-74c5-4339-0f38",
     "history": [
      {
       "current": "4f065e40-1416-11ef-b7c6-005056b0158c",
       "next": "88935298-2bba-11ee-987e-0242ac110002-3-5a43-6045-69ec",
       "previous": "2f4ca2d4-7f93-11ee-880b-0242ac110002-1-ccba"
      },
      {
       "current": "4f065e40-1416-11ef-b7c6-005056b0158c-1-055b",
       "next": "22906206-1417-11ef-b7c6-005056b0158c",
       "previous": "2f4ca2d4-7f93-11ee-880b-0242ac110002-1-ccba"
      },
      {
       "current": "4f065e40-1416-11ef-b7c6-005056b0158c-2-055b-74c5",
       "next": "22906206-1417-11ef-b7c6-005056b0158c-1-8af2",
       "previous": "2f4ca2d4-7f93-11ee-880b-0242ac110002-2-ccba-79f2"
      },
      {
       "current": "4f065e40-1416-11ef-b7c6-005056b0158c-3-055b-74c5-4339",
       "next": "22906206-1417-11ef-b7c6-005056b0158c-2-8af2-3533",
       "previous": "2f4ca2d4-7f93-11ee-880b-0242ac110002-3-ccba-79f2-4357"
      },
      {
       "current": "4f065e40-1416-11ef-b7c6-005056b0158c-4-055b-74c5-4339-0f38",
       "next": "22906206-1417-11ef-b7c6-005056b0158c-3-8af2-3533-aace",
       "previous": "2f4ca2d4-7f93-11ee-880b-0242ac110002-4-ccba-79f2-4357-a83c"
      }
     ],
     "next": "22906206-1417-11ef-b7c6-005056b0158c-4-8af2-3533-aace-3a22",
     "previous": "2f4ca2d4-7f93-11ee-880b-0242ac110002-5-ccba-79f2-4357-a83c-917c"
    },
    "lc_wrapper": {
     "log_history": [
      "/notebooks/notebook/yamaguchi-hub/work/.log/20240517/20240517-161823-0492.log",
      "/notebooks/notebook/yamaguchi-hub/work/.log/20240517/20240517-161846-0186.log",
      "/notebooks/notebook/yamaguchi-hub/work/.log/20240517/20240517-164632-0652.log",
      "/notebooks/notebook/yamaguchi-hub/work/.log/20240517/20240517-164714-0108.log",
      "/notebooks/notebook/yamaguchi-hub/work/.log/20240517/20240517-174205-0522.log",
      "/notebooks/notebook/yamaguchi-hub/work/.log/20240517/20240517-175153-0557.log",
      "/notebooks/notebook/yamaguchi-hub/handon001/.log/20240520/20240520-155120-0131.log"
     ]
    }
   },
   "outputs": [],
   "source": [
    "# ユーザごとに異なる項目\n",
    "\n",
    "ugroup_name = \n",
    "vc_ipaddress = \n",
    "worker_ipaddresses = [\n",
    "]\n",
    "\n",
    "# JupyterHubのホスト名(FQDN) (例) 'www.sample.org'\n",
    "jupyterhub_fqdn = \n",
    "\n",
    "# moodle\n",
    "import random\n",
    "import string\n",
    "moodle_db_password = ''.join([random.choice(\"abcdefghijklmnopqrstuvwxyz\" + string.digits) for _ in range(32)])\n",
    "moodle_admin_password = ''.join([random.choice(\"abcdefghijklmnopqrstuvwxyz\" + string.digits) for _ in range(10)])\n",
    "\n",
    "print(f'moodle_db_password={moodle_db_password}')\n",
    "print(f'moodle_admin_password={moodle_admin_password}')"
   ]
  },
  {
   "cell_type": "markdown",
   "metadata": {
    "heading_collapsed": true,
    "lc_cell_meme": {
     "current": "22906206-1417-11ef-b7c6-005056b0158c-4-8af2-3533-aace-3a22",
     "history": [
      {
       "current": "22906206-1417-11ef-b7c6-005056b0158c-1-8af2",
       "next": "88935298-2bba-11ee-987e-0242ac110002-3-5a43-6045-69ec",
       "previous": "4f065e40-1416-11ef-b7c6-005056b0158c"
      },
      {
       "current": "22906206-1417-11ef-b7c6-005056b0158c-1-8af2",
       "next": "88935298-2bba-11ee-987e-0242ac110002-4-5a43-6045-69ec-2068",
       "previous": "4f065e40-1416-11ef-b7c6-005056b0158c-1-055b"
      },
      {
       "current": "22906206-1417-11ef-b7c6-005056b0158c-1-8af2",
       "next": "910bf364-141f-11ef-b7c6-005056b0158c",
       "previous": "4f065e40-1416-11ef-b7c6-005056b0158c-1-055b"
      },
      {
       "current": "22906206-1417-11ef-b7c6-005056b0158c-1-8af2",
       "next": "88935298-2bba-11ee-987e-0242ac110002-4-5a43-6045-69ec-2068",
       "previous": "4f065e40-1416-11ef-b7c6-005056b0158c-1-055b"
      },
      {
       "current": "22906206-1417-11ef-b7c6-005056b0158c-2-8af2-3533",
       "next": "1668fc30-1670-11ef-b7c6-005056b0158c",
       "previous": "4f065e40-1416-11ef-b7c6-005056b0158c-1-055b"
      },
      {
       "current": "22906206-1417-11ef-b7c6-005056b0158c-3-8af2-3533-aace",
       "next": "1668fc30-1670-11ef-b7c6-005056b0158c-1-1b3e",
       "previous": "4f065e40-1416-11ef-b7c6-005056b0158c-2-055b-74c5"
      },
      {
       "current": "22906206-1417-11ef-b7c6-005056b0158c-4-8af2-3533-aace-3a22",
       "next": "1668fc30-1670-11ef-b7c6-005056b0158c-2-1b3e-2822",
       "previous": "4f065e40-1416-11ef-b7c6-005056b0158c-3-055b-74c5-4339"
      }
     ],
     "next": "1668fc30-1670-11ef-b7c6-005056b0158c-3-1b3e-2822-757b",
     "previous": "4f065e40-1416-11ef-b7c6-005056b0158c-4-055b-74c5-4339-0f38"
    }
   },
   "source": [
    "## VCノード作成・Moodle起動  \n",
    "\n",
    "以下まとめ実行する。"
   ]
  },
  {
   "cell_type": "markdown",
   "metadata": {
    "heading_collapsed": true,
    "hidden": true,
    "lc_cell_meme": {
     "current": "1668fc30-1670-11ef-b7c6-005056b0158c-3-1b3e-2822-757b",
     "history": [
      {
       "current": "1668fc30-1670-11ef-b7c6-005056b0158c-1-1b3e",
       "next": "88935298-2bba-11ee-987e-0242ac110002-4-5a43-6045-69ec-2068",
       "previous": "22906206-1417-11ef-b7c6-005056b0158c-1-8af2"
      },
      {
       "current": "1668fc30-1670-11ef-b7c6-005056b0158c-2-1b3e-2822",
       "next": "88935298-2bba-11ee-987e-0242ac110002-5-5a43-6045-69ec-2068-28f2",
       "previous": "22906206-1417-11ef-b7c6-005056b0158c-2-8af2-3533"
      },
      {
       "current": "1668fc30-1670-11ef-b7c6-005056b0158c-3-1b3e-2822-757b",
       "next": "88935298-2bba-11ee-987e-0242ac110002-6-5a43-6045-69ec-2068-28f2-2a42",
       "previous": "22906206-1417-11ef-b7c6-005056b0158c-3-8af2-3533-aace"
      }
     ],
     "next": "88935298-2bba-11ee-987e-0242ac110002-7-5a43-6045-69ec-2068-28f2-2a42-0d06",
     "previous": "22906206-1417-11ef-b7c6-005056b0158c-4-8af2-3533-aace-3a22"
    }
   },
   "source": [
    "### VCノード作成"
   ]
  },
  {
   "cell_type": "code",
   "execution_count": null,
   "metadata": {
    "hidden": true,
    "lc_cell_meme": {
     "current": "88935298-2bba-11ee-987e-0242ac110002-7-5a43-6045-69ec-2068-28f2-2a42-0d06",
     "history": [
      {
       "current": "88935298-2bba-11ee-987e-0242ac110002-1-5a43",
       "next": "88935338-2bba-11ee-987e-0242ac110002",
       "previous": "889351ee-2bba-11ee-987e-0242ac110002"
      },
      {
       "current": "88935298-2bba-11ee-987e-0242ac110002-2-5a43-6045",
       "next": "88935338-2bba-11ee-987e-0242ac110002-1-7217",
       "previous": "889351ee-2bba-11ee-987e-0242ac110002-1-b12c"
      },
      {
       "current": "88935298-2bba-11ee-987e-0242ac110002-3-5a43-6045-69ec",
       "next": "88935338-2bba-11ee-987e-0242ac110002-2-7217-4801",
       "previous": "889351ee-2bba-11ee-987e-0242ac110002-2-b12c-710e"
      },
      {
       "current": "88935298-2bba-11ee-987e-0242ac110002-3-5a43-6045-69ec",
       "next": "88935338-2bba-11ee-987e-0242ac110002-3-7217-4801-d4bf",
       "previous": "889351ee-2bba-11ee-987e-0242ac110002-3-b12c-710e-2438"
      },
      {
       "current": "88935298-2bba-11ee-987e-0242ac110002-3-5a43-6045-69ec",
       "next": "88935338-2bba-11ee-987e-0242ac110002-3-7217-4801-d4bf",
       "previous": "2f4ca2d4-7f93-11ee-880b-0242ac110002-1-ccba"
      },
      {
       "current": "88935298-2bba-11ee-987e-0242ac110002-3-5a43-6045-69ec",
       "next": "88935338-2bba-11ee-987e-0242ac110002-3-7217-4801-d4bf",
       "previous": "4f065e40-1416-11ef-b7c6-005056b0158c"
      },
      {
       "current": "88935298-2bba-11ee-987e-0242ac110002-4-5a43-6045-69ec-2068",
       "next": "88935338-2bba-11ee-987e-0242ac110002-3-7217-4801-d4bf",
       "previous": "22906206-1417-11ef-b7c6-005056b0158c"
      },
      {
       "current": "88935298-2bba-11ee-987e-0242ac110002-4-5a43-6045-69ec-2068",
       "next": "88935338-2bba-11ee-987e-0242ac110002-4-7217-4801-d4bf-26ff",
       "previous": "22906206-1417-11ef-b7c6-005056b0158c-1-8af2"
      },
      {
       "current": "88935298-2bba-11ee-987e-0242ac110002-4-5a43-6045-69ec-2068",
       "next": "88935338-2bba-11ee-987e-0242ac110002-4-7217-4801-d4bf-26ff",
       "previous": "910bf364-141f-11ef-b7c6-005056b0158c"
      },
      {
       "current": "88935298-2bba-11ee-987e-0242ac110002-4-5a43-6045-69ec-2068",
       "next": "88935338-2bba-11ee-987e-0242ac110002-4-7217-4801-d4bf-26ff",
       "previous": "22906206-1417-11ef-b7c6-005056b0158c-1-8af2"
      },
      {
       "current": "88935298-2bba-11ee-987e-0242ac110002-5-5a43-6045-69ec-2068-28f2",
       "next": "88935338-2bba-11ee-987e-0242ac110002-4-7217-4801-d4bf-26ff",
       "previous": "1668fc30-1670-11ef-b7c6-005056b0158c"
      },
      {
       "current": "88935298-2bba-11ee-987e-0242ac110002-6-5a43-6045-69ec-2068-28f2-2a42",
       "next": "88935338-2bba-11ee-987e-0242ac110002-5-7217-4801-d4bf-26ff-457e",
       "previous": "1668fc30-1670-11ef-b7c6-005056b0158c-1-1b3e"
      },
      {
       "current": "88935298-2bba-11ee-987e-0242ac110002-7-5a43-6045-69ec-2068-28f2-2a42-0d06",
       "next": "88935338-2bba-11ee-987e-0242ac110002-6-7217-4801-d4bf-26ff-457e-c412",
       "previous": "1668fc30-1670-11ef-b7c6-005056b0158c-2-1b3e-2822"
      }
     ],
     "next": "88935338-2bba-11ee-987e-0242ac110002-7-7217-4801-d4bf-26ff-457e-c412-f9b6",
     "previous": "1668fc30-1670-11ef-b7c6-005056b0158c-3-1b3e-2822-757b"
    },
    "lc_wrapper": {
     "log_history": [
      "/notebooks/notebook/work_terayama/yjupyterhub/work/.log/20230726/20230726-224452-0918.log",
      "/notebooks/notebook/work_terayama/yjupyterhub/work/.log/20230726/20230726-231634-0845.log",
      "/notebooks/notebook/work_terayama/yjupyterhub/work/.log/20230727/20230727-115715-0405.log",
      "/notebooks/notebook/work_terayama/yjupyterhub/work/.log/20230801/20230801-150152-0527.log",
      "/notebooks/notebook/yamaguchi-hub/notebooks/.log/20240517/20240517-152104-0081.log",
      "/notebooks/notebook/yamaguchi-hub/notebooks/.log/20240517/20240517-152110-0671.log",
      "/notebooks/notebook/yamaguchi-hub/notebooks/.log/20240517/20240517-152133-0502.log",
      "/notebooks/notebook/yamaguchi-hub/work/.log/20240517/20240517-161826-0104.log",
      "/notebooks/notebook/yamaguchi-hub/work/.log/20240517/20240517-161847-0225.log",
      "/notebooks/notebook/yamaguchi-hub/handon001/.log/20240520/20240520-155134-0217.log"
     ]
    },
    "tags": [
     "vcp:skip",
     "vcp:parameters"
    ]
   },
   "outputs": [],
   "source": [
    "import os\n",
    "from getpass import getpass\n",
    "\n",
    "with open('/notebooks/notebook/token.txt', 'r') as f:\n",
    "    vcc_access_token = f.read()"
   ]
  },
  {
   "cell_type": "markdown",
   "metadata": {
    "hidden": true,
    "lc_cell_meme": {
     "current": "88935338-2bba-11ee-987e-0242ac110002-7-7217-4801-d4bf-26ff-457e-c412-f9b6",
     "history": [
      {
       "current": "88935338-2bba-11ee-987e-0242ac110002-1-7217",
       "next": "889353d8-2bba-11ee-987e-0242ac110002",
       "previous": "88935298-2bba-11ee-987e-0242ac110002"
      },
      {
       "current": "88935338-2bba-11ee-987e-0242ac110002-2-7217-4801",
       "next": "889353d8-2bba-11ee-987e-0242ac110002-1-f369",
       "previous": "88935298-2bba-11ee-987e-0242ac110002-1-5a43"
      },
      {
       "current": "88935338-2bba-11ee-987e-0242ac110002-3-7217-4801-d4bf",
       "next": "889353d8-2bba-11ee-987e-0242ac110002-2-f369-9549",
       "previous": "88935298-2bba-11ee-987e-0242ac110002-2-5a43-6045"
      },
      {
       "current": "88935338-2bba-11ee-987e-0242ac110002-4-7217-4801-d4bf-26ff",
       "next": "889353d8-2bba-11ee-987e-0242ac110002-3-f369-9549-bb9f",
       "previous": "88935298-2bba-11ee-987e-0242ac110002-3-5a43-6045-69ec"
      },
      {
       "current": "88935338-2bba-11ee-987e-0242ac110002-5-7217-4801-d4bf-26ff-457e",
       "next": "889353d8-2bba-11ee-987e-0242ac110002-4-f369-9549-bb9f-1e5f",
       "previous": "88935298-2bba-11ee-987e-0242ac110002-4-5a43-6045-69ec-2068"
      },
      {
       "current": "88935338-2bba-11ee-987e-0242ac110002-6-7217-4801-d4bf-26ff-457e-c412",
       "next": "889353d8-2bba-11ee-987e-0242ac110002-5-f369-9549-bb9f-1e5f-d6e6",
       "previous": "88935298-2bba-11ee-987e-0242ac110002-5-5a43-6045-69ec-2068-28f2"
      },
      {
       "current": "88935338-2bba-11ee-987e-0242ac110002-7-7217-4801-d4bf-26ff-457e-c412-f9b6",
       "next": "889353d8-2bba-11ee-987e-0242ac110002-6-f369-9549-bb9f-1e5f-d6e6-618b",
       "previous": "88935298-2bba-11ee-987e-0242ac110002-6-5a43-6045-69ec-2068-28f2-2a42"
      }
     ],
     "next": "889353d8-2bba-11ee-987e-0242ac110002-7-f369-9549-bb9f-1e5f-d6e6-618b-ce52",
     "previous": "88935298-2bba-11ee-987e-0242ac110002-7-5a43-6045-69ec-2068-28f2-2a42-0d06"
    }
   },
   "source": [
    "入力されたアクセストークンが正しいことを、実際にVCCにアクセスして確認します。"
   ]
  },
  {
   "cell_type": "code",
   "execution_count": null,
   "metadata": {
    "hidden": true,
    "lc_cell_meme": {
     "current": "889353d8-2bba-11ee-987e-0242ac110002-7-f369-9549-bb9f-1e5f-d6e6-618b-ce52",
     "history": [
      {
       "current": "889353d8-2bba-11ee-987e-0242ac110002-1-f369",
       "next": "88935482-2bba-11ee-987e-0242ac110002",
       "previous": "88935338-2bba-11ee-987e-0242ac110002"
      },
      {
       "current": "889353d8-2bba-11ee-987e-0242ac110002-2-f369-9549",
       "next": "88935482-2bba-11ee-987e-0242ac110002-1-7ba8",
       "previous": "88935338-2bba-11ee-987e-0242ac110002-1-7217"
      },
      {
       "current": "889353d8-2bba-11ee-987e-0242ac110002-3-f369-9549-bb9f",
       "next": "88935482-2bba-11ee-987e-0242ac110002-2-7ba8-eed7",
       "previous": "88935338-2bba-11ee-987e-0242ac110002-2-7217-4801"
      },
      {
       "current": "889353d8-2bba-11ee-987e-0242ac110002-3-f369-9549-bb9f",
       "next": "88935482-2bba-11ee-987e-0242ac110002-3-7ba8-eed7-948a",
       "previous": "88935338-2bba-11ee-987e-0242ac110002-3-7217-4801-d4bf"
      },
      {
       "current": "889353d8-2bba-11ee-987e-0242ac110002-4-f369-9549-bb9f-1e5f",
       "next": "078053c8-1416-11ef-b7c6-005056b0158c",
       "previous": "88935338-2bba-11ee-987e-0242ac110002-3-7217-4801-d4bf"
      },
      {
       "current": "889353d8-2bba-11ee-987e-0242ac110002-5-f369-9549-bb9f-1e5f-d6e6",
       "next": "078053c8-1416-11ef-b7c6-005056b0158c-1-3bb4",
       "previous": "88935338-2bba-11ee-987e-0242ac110002-4-7217-4801-d4bf-26ff"
      },
      {
       "current": "889353d8-2bba-11ee-987e-0242ac110002-6-f369-9549-bb9f-1e5f-d6e6-618b",
       "next": "078053c8-1416-11ef-b7c6-005056b0158c-2-3bb4-65ad",
       "previous": "88935338-2bba-11ee-987e-0242ac110002-5-7217-4801-d4bf-26ff-457e"
      },
      {
       "current": "889353d8-2bba-11ee-987e-0242ac110002-7-f369-9549-bb9f-1e5f-d6e6-618b-ce52",
       "next": "078053c8-1416-11ef-b7c6-005056b0158c-3-3bb4-65ad-dba8",
       "previous": "88935338-2bba-11ee-987e-0242ac110002-6-7217-4801-d4bf-26ff-457e-c412"
      }
     ],
     "next": "078053c8-1416-11ef-b7c6-005056b0158c-4-3bb4-65ad-dba8-2f9a",
     "previous": "88935338-2bba-11ee-987e-0242ac110002-7-7217-4801-d4bf-26ff-457e-c412-f9b6"
    },
    "lc_wrapper": {
     "log_history": [
      "/notebooks/notebook/work_terayama/yjupyterhub/work/.log/20230726/20230726-224457-0422.log",
      "/notebooks/notebook/work_terayama/yjupyterhub/work/.log/20230726/20230726-231647-0531.log",
      "/notebooks/notebook/work_terayama/yjupyterhub/work/.log/20230727/20230727-115903-0687.log",
      "/notebooks/notebook/work_terayama/yjupyterhub/work/.log/20230801/20230801-150155-0448.log",
      "/notebooks/notebook/yamaguchi-hub/notebooks/.log/20240517/20240517-152135-0419.log",
      "/notebooks/notebook/yamaguchi-hub/work/.log/20240517/20240517-161826-0145.log",
      "/notebooks/notebook/yamaguchi-hub/work/.log/20240517/20240517-161847-0448.log",
      "/notebooks/notebook/yamaguchi-hub/handon001/.log/20240520/20240520-155134-0438.log"
     ]
    },
    "tags": [
     "vcp:rewrite:vcpsdk"
    ]
   },
   "outputs": [],
   "source": [
    "from common import logsetting\n",
    "from vcpsdk.vcpsdk import VcpSDK\n",
    "\n",
    "vcp = VcpSDK(vcc_access_token)"
   ]
  },
  {
   "cell_type": "code",
   "execution_count": null,
   "metadata": {
    "hidden": true,
    "lc_cell_meme": {
     "current": "078053c8-1416-11ef-b7c6-005056b0158c-4-3bb4-65ad-dba8-2f9a",
     "history": [
      {
       "current": "078053c8-1416-11ef-b7c6-005056b0158c",
       "next": "07805ca6-1416-11ef-b7c6-005056b0158c",
       "previous": "889353d8-2bba-11ee-987e-0242ac110002-3-f369-9549-bb9f"
      },
      {
       "current": "078053c8-1416-11ef-b7c6-005056b0158c-1-3bb4",
       "next": "88937a02-2bba-11ee-987e-0242ac110002-3-8455-6314-459f",
       "previous": "889353d8-2bba-11ee-987e-0242ac110002-3-f369-9549-bb9f"
      },
      {
       "current": "078053c8-1416-11ef-b7c6-005056b0158c-2-3bb4-65ad",
       "next": "88937a02-2bba-11ee-987e-0242ac110002-4-8455-6314-459f-dec7",
       "previous": "889353d8-2bba-11ee-987e-0242ac110002-4-f369-9549-bb9f-1e5f"
      },
      {
       "current": "078053c8-1416-11ef-b7c6-005056b0158c-3-3bb4-65ad-dba8",
       "next": "88937a02-2bba-11ee-987e-0242ac110002-5-8455-6314-459f-dec7-e96a",
       "previous": "889353d8-2bba-11ee-987e-0242ac110002-5-f369-9549-bb9f-1e5f-d6e6"
      },
      {
       "current": "078053c8-1416-11ef-b7c6-005056b0158c-4-3bb4-65ad-dba8-2f9a",
       "next": "88937a02-2bba-11ee-987e-0242ac110002-6-8455-6314-459f-dec7-e96a-bcdf",
       "previous": "889353d8-2bba-11ee-987e-0242ac110002-6-f369-9549-bb9f-1e5f-d6e6-618b"
      }
     ],
     "next": "88937a02-2bba-11ee-987e-0242ac110002-7-8455-6314-459f-dec7-e96a-bcdf-be93",
     "previous": "889353d8-2bba-11ee-987e-0242ac110002-7-f369-9549-bb9f-1e5f-d6e6-618b-ce52"
    },
    "lc_wrapper": {
     "log_history": [
      "/notebooks/notebook/yamaguchi-hub/work/.log/20240517/20240517-161827-0663.log",
      "/notebooks/notebook/yamaguchi-hub/work/.log/20240517/20240517-161848-0094.log",
      "/notebooks/notebook/yamaguchi-hub/work/.log/20240517/20240517-174352-0743.log",
      "/notebooks/notebook/yamaguchi-hub/handon001/.log/20240520/20240520-155136-0281.log"
     ]
    }
   },
   "outputs": [],
   "source": [
    "vc_provider = 'onpremises'\n",
    "manager_flavor = 'default'\n",
    "manager_disk_size = 16\n",
    "worker_flavor = 'default'\n",
    "worker_disk_size = 16\n",
    "worker_nodes = 0\n",
    "ssh_public_key_path = '~/.ssh/id_rsa.pub'\n",
    "ssh_private_key_path = '~/.ssh/id_rsa'\n",
    "ssh_user = 'mdxuser'\n",
    "docker_address_pool = '10.10.0.0/16'"
   ]
  },
  {
   "cell_type": "code",
   "execution_count": null,
   "metadata": {
    "hidden": true,
    "lc_cell_meme": {
     "current": "88937a02-2bba-11ee-987e-0242ac110002-7-8455-6314-459f-dec7-e96a-bcdf-be93",
     "history": [
      {
       "current": "88937a02-2bba-11ee-987e-0242ac110002-1-8455",
       "next": "88937aac-2bba-11ee-987e-0242ac110002",
       "previous": "88937962-2bba-11ee-987e-0242ac110002"
      },
      {
       "current": "88937a02-2bba-11ee-987e-0242ac110002-2-8455-6314",
       "next": "88937aac-2bba-11ee-987e-0242ac110002-1-3679",
       "previous": "88937962-2bba-11ee-987e-0242ac110002-1-0a2a"
      },
      {
       "current": "88937a02-2bba-11ee-987e-0242ac110002-3-8455-6314-459f",
       "next": "88937aac-2bba-11ee-987e-0242ac110002-2-3679-f5a8",
       "previous": "88937962-2bba-11ee-987e-0242ac110002-2-0a2a-2498"
      },
      {
       "current": "88937a02-2bba-11ee-987e-0242ac110002-3-8455-6314-459f",
       "next": "88937aac-2bba-11ee-987e-0242ac110002-3-3679-f5a8-c554",
       "previous": "88937962-2bba-11ee-987e-0242ac110002-3-0a2a-2498-f706"
      },
      {
       "current": "88937a02-2bba-11ee-987e-0242ac110002-3-8455-6314-459f",
       "next": "88937aac-2bba-11ee-987e-0242ac110002-3-3679-f5a8-c554",
       "previous": "88935482-2bba-11ee-987e-0242ac110002-3-7ba8-eed7-948a"
      },
      {
       "current": "88937a02-2bba-11ee-987e-0242ac110002-3-8455-6314-459f",
       "next": "88937aac-2bba-11ee-987e-0242ac110002-3-3679-f5a8-c554",
       "previous": "07805ca6-1416-11ef-b7c6-005056b0158c"
      },
      {
       "current": "88937a02-2bba-11ee-987e-0242ac110002-4-8455-6314-459f-dec7",
       "next": "88937aac-2bba-11ee-987e-0242ac110002-3-3679-f5a8-c554",
       "previous": "078053c8-1416-11ef-b7c6-005056b0158c"
      },
      {
       "current": "88937a02-2bba-11ee-987e-0242ac110002-5-8455-6314-459f-dec7-e96a",
       "next": "88937aac-2bba-11ee-987e-0242ac110002-4-3679-f5a8-c554-5442",
       "previous": "078053c8-1416-11ef-b7c6-005056b0158c-1-3bb4"
      },
      {
       "current": "88937a02-2bba-11ee-987e-0242ac110002-6-8455-6314-459f-dec7-e96a-bcdf",
       "next": "88937aac-2bba-11ee-987e-0242ac110002-5-3679-f5a8-c554-5442-4e76",
       "previous": "078053c8-1416-11ef-b7c6-005056b0158c-2-3bb4-65ad"
      },
      {
       "current": "88937a02-2bba-11ee-987e-0242ac110002-7-8455-6314-459f-dec7-e96a-bcdf-be93",
       "next": "88937aac-2bba-11ee-987e-0242ac110002-6-3679-f5a8-c554-5442-4e76-a197",
       "previous": "078053c8-1416-11ef-b7c6-005056b0158c-3-3bb4-65ad-dba8"
      }
     ],
     "next": "88937aac-2bba-11ee-987e-0242ac110002-7-3679-f5a8-c554-5442-4e76-a197-4b54",
     "previous": "078053c8-1416-11ef-b7c6-005056b0158c-4-3bb4-65ad-dba8-2f9a"
    },
    "lc_wrapper": {
     "log_history": [
      "/notebooks/notebook/work_terayama/yjupyterhub/work/.log/20230726/20230726-224705-0285.log",
      "/notebooks/notebook/work_terayama/yjupyterhub/work/.log/20230726/20230726-231740-0774.log",
      "/notebooks/notebook/work_terayama/yjupyterhub/work/.log/20230726/20230726-234155-0878.log",
      "/notebooks/notebook/work_terayama/yjupyterhub/work/.log/20230727/20230727-001219-0007.log",
      "/notebooks/notebook/work_terayama/yjupyterhub/work/.log/20230727/20230727-003601-0397.log",
      "/notebooks/notebook/work_terayama/yjupyterhub/work/.log/20230727/20230727-120047-0961.log",
      "/notebooks/notebook/work_terayama/yjupyterhub/work/.log/20230727/20230727-121807-0709.log",
      "/notebooks/notebook/work_terayama/yjupyterhub/work/.log/20230727/20230727-131413-0095.log",
      "/notebooks/notebook/work_terayama/yjupyterhub/work/.log/20230727/20230727-135314-0277.log",
      "/notebooks/notebook/work_terayama/yjupyterhub/work/.log/20230801/20230801-150302-0725.log",
      "/notebooks/notebook/yamaguchi-hub/work/.log/20240517/20240517-161827-0679.log",
      "/notebooks/notebook/yamaguchi-hub/work/.log/20240517/20240517-161848-0308.log",
      "/notebooks/notebook/yamaguchi-hub/handon001/.log/20240520/20240520-155136-0305.log"
     ]
    }
   },
   "outputs": [],
   "source": [
    "%run scripts/check_params.py\n",
    "check_parameters(\n",
    "    'ugroup_name',\n",
    "    'vc_provider',\n",
    "    'manager_flavor',\n",
    "    'manager_disk_size',\n",
    "    'worker_flavor',\n",
    "    'worker_disk_size',\n",
    "    'worker_nodes',\n",
    "    'vc_ipaddress',\n",
    "    'worker_ipaddresses',\n",
    "    'vc_mac_address',\n",
    "    'worker_mac_addresses',\n",
    "    'docker_address_pool',\n",
    "    'ssh_public_key_path',\n",
    "    'ssh_private_key_path',\n",
    "    params={\n",
    "        'vcp': vcp,\n",
    "        'opt_vars': [\n",
    "            'vc_ipaddress', 'worker_ipaddresses',\n",
    "            'vc_mac_address', 'worker_mac_addresses',\n",
    "        ],\n",
    "    },\n",
    "    nb_vars=locals(),\n",
    ")\n",
    "\n",
    "if vc_provider == 'onpremises':\n",
    "    if not ssh_user:\n",
    "        raise NotImplementedError\n",
    "        print('ssh_user is required if construct on onpremises')\n",
    "    \n",
    "    worker_flavor = 'default'\n",
    "    manager_flavor = 'default'"
   ]
  },
  {
   "cell_type": "markdown",
   "metadata": {
    "hidden": true,
    "lc_cell_meme": {
     "current": "88937aac-2bba-11ee-987e-0242ac110002-7-3679-f5a8-c554-5442-4e76-a197-4b54",
     "history": [
      {
       "current": "88937aac-2bba-11ee-987e-0242ac110002-1-3679",
       "next": "88937b4c-2bba-11ee-987e-0242ac110002",
       "previous": "88937a02-2bba-11ee-987e-0242ac110002"
      },
      {
       "current": "88937aac-2bba-11ee-987e-0242ac110002-2-3679-f5a8",
       "next": "88937b4c-2bba-11ee-987e-0242ac110002-1-7dbb",
       "previous": "88937a02-2bba-11ee-987e-0242ac110002-1-8455"
      },
      {
       "current": "88937aac-2bba-11ee-987e-0242ac110002-3-3679-f5a8-c554",
       "next": "88937b4c-2bba-11ee-987e-0242ac110002-2-7dbb-c577",
       "previous": "88937a02-2bba-11ee-987e-0242ac110002-2-8455-6314"
      },
      {
       "current": "88937aac-2bba-11ee-987e-0242ac110002-4-3679-f5a8-c554-5442",
       "next": "88937b4c-2bba-11ee-987e-0242ac110002-3-7dbb-c577-de8f",
       "previous": "88937a02-2bba-11ee-987e-0242ac110002-3-8455-6314-459f"
      },
      {
       "current": "88937aac-2bba-11ee-987e-0242ac110002-5-3679-f5a8-c554-5442-4e76",
       "next": "88937b4c-2bba-11ee-987e-0242ac110002-4-7dbb-c577-de8f-89db",
       "previous": "88937a02-2bba-11ee-987e-0242ac110002-4-8455-6314-459f-dec7"
      },
      {
       "current": "88937aac-2bba-11ee-987e-0242ac110002-6-3679-f5a8-c554-5442-4e76-a197",
       "next": "88937b4c-2bba-11ee-987e-0242ac110002-5-7dbb-c577-de8f-89db-761e",
       "previous": "88937a02-2bba-11ee-987e-0242ac110002-5-8455-6314-459f-dec7-e96a"
      },
      {
       "current": "88937aac-2bba-11ee-987e-0242ac110002-7-3679-f5a8-c554-5442-4e76-a197-4b54",
       "next": "88937b4c-2bba-11ee-987e-0242ac110002-6-7dbb-c577-de8f-89db-761e-65a2",
       "previous": "88937a02-2bba-11ee-987e-0242ac110002-6-8455-6314-459f-dec7-e96a-bcdf"
      }
     ],
     "next": "88937b4c-2bba-11ee-987e-0242ac110002-7-7dbb-c577-de8f-89db-761e-65a2-00f6",
     "previous": "88937a02-2bba-11ee-987e-0242ac110002-7-8455-6314-459f-dec7-e96a-bcdf-be93"
    }
   },
   "source": [
    "次のセルを実行すると、この章で指定したパラメータが group_vars ファイルに保存されます。"
   ]
  },
  {
   "cell_type": "code",
   "execution_count": null,
   "metadata": {
    "hidden": true,
    "lc_cell_meme": {
     "current": "88937b4c-2bba-11ee-987e-0242ac110002-7-7dbb-c577-de8f-89db-761e-65a2-00f6",
     "history": [
      {
       "current": "88937b4c-2bba-11ee-987e-0242ac110002-1-7dbb",
       "next": "88937bf6-2bba-11ee-987e-0242ac110002",
       "previous": "88937aac-2bba-11ee-987e-0242ac110002"
      },
      {
       "current": "88937b4c-2bba-11ee-987e-0242ac110002-2-7dbb-c577",
       "next": "88937bf6-2bba-11ee-987e-0242ac110002-1-f3f9",
       "previous": "88937aac-2bba-11ee-987e-0242ac110002-1-3679"
      },
      {
       "current": "88937b4c-2bba-11ee-987e-0242ac110002-3-7dbb-c577-de8f",
       "next": "88937bf6-2bba-11ee-987e-0242ac110002-2-f3f9-d07e",
       "previous": "88937aac-2bba-11ee-987e-0242ac110002-2-3679-f5a8"
      },
      {
       "current": "88937b4c-2bba-11ee-987e-0242ac110002-4-7dbb-c577-de8f-89db",
       "next": "88937bf6-2bba-11ee-987e-0242ac110002-3-f3f9-d07e-09e6",
       "previous": "88937aac-2bba-11ee-987e-0242ac110002-3-3679-f5a8-c554"
      },
      {
       "current": "88937b4c-2bba-11ee-987e-0242ac110002-5-7dbb-c577-de8f-89db-761e",
       "next": "88937bf6-2bba-11ee-987e-0242ac110002-4-f3f9-d07e-09e6-d50e",
       "previous": "88937aac-2bba-11ee-987e-0242ac110002-4-3679-f5a8-c554-5442"
      },
      {
       "current": "88937b4c-2bba-11ee-987e-0242ac110002-6-7dbb-c577-de8f-89db-761e-65a2",
       "next": "88937bf6-2bba-11ee-987e-0242ac110002-5-f3f9-d07e-09e6-d50e-0371",
       "previous": "88937aac-2bba-11ee-987e-0242ac110002-5-3679-f5a8-c554-5442-4e76"
      },
      {
       "current": "88937b4c-2bba-11ee-987e-0242ac110002-7-7dbb-c577-de8f-89db-761e-65a2-00f6",
       "next": "88937bf6-2bba-11ee-987e-0242ac110002-6-f3f9-d07e-09e6-d50e-0371-3a4a",
       "previous": "88937aac-2bba-11ee-987e-0242ac110002-6-3679-f5a8-c554-5442-4e76-a197"
      }
     ],
     "next": "88937bf6-2bba-11ee-987e-0242ac110002-7-f3f9-d07e-09e6-d50e-0371-3a4a-dda0",
     "previous": "88937aac-2bba-11ee-987e-0242ac110002-7-3679-f5a8-c554-5442-4e76-a197-4b54"
    },
    "lc_wrapper": {
     "log_history": [
      "/notebooks/notebook/work_terayama/yjupyterhub/work/.log/20230726/20230726-224735-0260.log",
      "/notebooks/notebook/work_terayama/yjupyterhub/work/.log/20230726/20230726-231810-0924.log",
      "/notebooks/notebook/work_terayama/yjupyterhub/work/.log/20230726/20230726-234226-0052.log",
      "/notebooks/notebook/work_terayama/yjupyterhub/work/.log/20230727/20230727-001258-0019.log",
      "/notebooks/notebook/work_terayama/yjupyterhub/work/.log/20230727/20230727-003640-0518.log",
      "/notebooks/notebook/work_terayama/yjupyterhub/work/.log/20230727/20230727-120127-0078.log",
      "/notebooks/notebook/work_terayama/yjupyterhub/work/.log/20230727/20230727-121837-0997.log",
      "/notebooks/notebook/work_terayama/yjupyterhub/work/.log/20230727/20230727-131452-0692.log",
      "/notebooks/notebook/work_terayama/yjupyterhub/work/.log/20230727/20230727-135353-0577.log",
      "/notebooks/notebook/work_terayama/yjupyterhub/work/.log/20230801/20230801-150341-0718.log",
      "/notebooks/notebook/yamaguchi-hub/work/.log/20240517/20240517-161849-0542.log",
      "/notebooks/notebook/yamaguchi-hub/work/.log/20240517/20240517-174347-0129.log",
      "/notebooks/notebook/yamaguchi-hub/work/.log/20240517/20240517-174356-0641.log",
      "/notebooks/notebook/yamaguchi-hub/handon001/.log/20240520/20240520-155137-0466.log",
      "/notebooks/notebook/yamaguchi-hub/handon001/.log/20240520/20240520-160511-0615.log"
     ]
    }
   },
   "outputs": [],
   "source": [
    "import os\n",
    "%run scripts/group.py\n",
    "update_group_vars(\n",
    "    ugroup_name,\n",
    "    ugroup_name=ugroup_name,\n",
    "    vc_provider=vc_provider,\n",
    "    manager_flavor=manager_flavor,\n",
    "    manager_disk_size=manager_disk_size,\n",
    "    worker_flavor=worker_flavor,\n",
    "    worker_disk_size=worker_disk_size,\n",
    "    worker_nodes=worker_nodes,\n",
    "    docker_address_pool=docker_address_pool,\n",
    "    ssh_public_key_path=os.path.expanduser(ssh_public_key_path),\n",
    "    ssh_private_key_path=os.path.expanduser(ssh_private_key_path),\n",
    "    moodle_db_password=moodle_db_password,\n",
    "    moodle_admin_password=moodle_admin_password,\n",
    "    jupyterhub_fqdn=jupyterhub_fqdn,\n",
    ")\n",
    "if 'vc_ipaddress' in vars():\n",
    "    update_group_vars(ugroup_name, vc_ipaddress=vc_ipaddress)\n",
    "if 'worker_ipaddresses' in vars():\n",
    "    update_group_vars(ugroup_name, worker_ipaddresses=worker_ipaddresses)\n",
    "if 'vc_mac_address' in vars():\n",
    "    update_group_vars(ugroup_name, vc_mac_address=vc_mac_address)\n",
    "if 'worker_mac_addresses' in vars():\n",
    "    update_group_vars(ugroup_name, worker_mac_addresses=worker_mac_addresses)"
   ]
  },
  {
   "cell_type": "markdown",
   "metadata": {
    "hidden": true,
    "lc_cell_meme": {
     "current": "88937bf6-2bba-11ee-987e-0242ac110002-7-f3f9-d07e-09e6-d50e-0371-3a4a-dda0",
     "history": [
      {
       "current": "88937bf6-2bba-11ee-987e-0242ac110002-1-f3f9",
       "next": "88937c96-2bba-11ee-987e-0242ac110002",
       "previous": "88937b4c-2bba-11ee-987e-0242ac110002"
      },
      {
       "current": "88937bf6-2bba-11ee-987e-0242ac110002-2-f3f9-d07e",
       "next": "88937c96-2bba-11ee-987e-0242ac110002-1-2d47",
       "previous": "88937b4c-2bba-11ee-987e-0242ac110002-1-7dbb"
      },
      {
       "current": "88937bf6-2bba-11ee-987e-0242ac110002-3-f3f9-d07e-09e6",
       "next": "88937c96-2bba-11ee-987e-0242ac110002-2-2d47-12ef",
       "previous": "88937b4c-2bba-11ee-987e-0242ac110002-2-7dbb-c577"
      },
      {
       "current": "88937bf6-2bba-11ee-987e-0242ac110002-4-f3f9-d07e-09e6-d50e",
       "next": "88937c96-2bba-11ee-987e-0242ac110002-3-2d47-12ef-9ce6",
       "previous": "88937b4c-2bba-11ee-987e-0242ac110002-3-7dbb-c577-de8f"
      },
      {
       "current": "88937bf6-2bba-11ee-987e-0242ac110002-5-f3f9-d07e-09e6-d50e-0371",
       "next": "88937c96-2bba-11ee-987e-0242ac110002-4-2d47-12ef-9ce6-c4d2",
       "previous": "88937b4c-2bba-11ee-987e-0242ac110002-4-7dbb-c577-de8f-89db"
      },
      {
       "current": "88937bf6-2bba-11ee-987e-0242ac110002-6-f3f9-d07e-09e6-d50e-0371-3a4a",
       "next": "88937c96-2bba-11ee-987e-0242ac110002-5-2d47-12ef-9ce6-c4d2-88d9",
       "previous": "88937b4c-2bba-11ee-987e-0242ac110002-5-7dbb-c577-de8f-89db-761e"
      },
      {
       "current": "88937bf6-2bba-11ee-987e-0242ac110002-7-f3f9-d07e-09e6-d50e-0371-3a4a-dda0",
       "next": "88937c96-2bba-11ee-987e-0242ac110002-6-2d47-12ef-9ce6-c4d2-88d9-060e",
       "previous": "88937b4c-2bba-11ee-987e-0242ac110002-6-7dbb-c577-de8f-89db-761e-65a2"
      }
     ],
     "next": "88937c96-2bba-11ee-987e-0242ac110002-7-2d47-12ef-9ce6-c4d2-88d9-060e-87cf",
     "previous": "88937b4c-2bba-11ee-987e-0242ac110002-7-7dbb-c577-de8f-89db-761e-65a2-00f6"
    }
   },
   "source": [
    "group_vars ファイルの内容を表示して保存されたパラメータを確認します。"
   ]
  },
  {
   "cell_type": "code",
   "execution_count": null,
   "metadata": {
    "hidden": true,
    "lc_cell_meme": {
     "current": "88937c96-2bba-11ee-987e-0242ac110002-7-2d47-12ef-9ce6-c4d2-88d9-060e-87cf",
     "history": [
      {
       "current": "88937c96-2bba-11ee-987e-0242ac110002-1-2d47",
       "next": "88937d40-2bba-11ee-987e-0242ac110002",
       "previous": "88937bf6-2bba-11ee-987e-0242ac110002"
      },
      {
       "current": "88937c96-2bba-11ee-987e-0242ac110002-2-2d47-12ef",
       "next": "88937d40-2bba-11ee-987e-0242ac110002-1-ee99",
       "previous": "88937bf6-2bba-11ee-987e-0242ac110002-1-f3f9"
      },
      {
       "current": "88937c96-2bba-11ee-987e-0242ac110002-3-2d47-12ef-9ce6",
       "next": "88937d40-2bba-11ee-987e-0242ac110002-2-ee99-a2a2",
       "previous": "88937bf6-2bba-11ee-987e-0242ac110002-2-f3f9-d07e"
      },
      {
       "current": "88937c96-2bba-11ee-987e-0242ac110002-3-2d47-12ef-9ce6",
       "next": "88937d40-2bba-11ee-987e-0242ac110002-3-ee99-a2a2-9a6a",
       "previous": "88937bf6-2bba-11ee-987e-0242ac110002-3-f3f9-d07e-09e6"
      },
      {
       "current": "88937c96-2bba-11ee-987e-0242ac110002-4-2d47-12ef-9ce6-c4d2",
       "next": "88937eda-2bba-11ee-987e-0242ac110002-3-6141-c61d-7ce5",
       "previous": "88937bf6-2bba-11ee-987e-0242ac110002-3-f3f9-d07e-09e6"
      },
      {
       "current": "88937c96-2bba-11ee-987e-0242ac110002-5-2d47-12ef-9ce6-c4d2-88d9",
       "next": "88937eda-2bba-11ee-987e-0242ac110002-4-6141-c61d-7ce5-e84f",
       "previous": "88937bf6-2bba-11ee-987e-0242ac110002-4-f3f9-d07e-09e6-d50e"
      },
      {
       "current": "88937c96-2bba-11ee-987e-0242ac110002-6-2d47-12ef-9ce6-c4d2-88d9-060e",
       "next": "88937eda-2bba-11ee-987e-0242ac110002-5-6141-c61d-7ce5-e84f-0887",
       "previous": "88937bf6-2bba-11ee-987e-0242ac110002-5-f3f9-d07e-09e6-d50e-0371"
      },
      {
       "current": "88937c96-2bba-11ee-987e-0242ac110002-7-2d47-12ef-9ce6-c4d2-88d9-060e-87cf",
       "next": "88937eda-2bba-11ee-987e-0242ac110002-6-6141-c61d-7ce5-e84f-0887-1766",
       "previous": "88937bf6-2bba-11ee-987e-0242ac110002-6-f3f9-d07e-09e6-d50e-0371-3a4a"
      }
     ],
     "next": "88937eda-2bba-11ee-987e-0242ac110002-7-6141-c61d-7ce5-e84f-0887-1766-caef",
     "previous": "88937bf6-2bba-11ee-987e-0242ac110002-7-f3f9-d07e-09e6-d50e-0371-3a4a-dda0"
    },
    "lc_wrapper": {
     "log_history": [
      "/notebooks/notebook/work_terayama/yjupyterhub/work/.log/20230726/20230726-224735-0288.log",
      "/notebooks/notebook/work_terayama/yjupyterhub/work/.log/20230726/20230726-231810-0951.log",
      "/notebooks/notebook/work_terayama/yjupyterhub/work/.log/20230726/20230726-234226-0077.log",
      "/notebooks/notebook/work_terayama/yjupyterhub/work/.log/20230727/20230727-001258-0046.log",
      "/notebooks/notebook/work_terayama/yjupyterhub/work/.log/20230727/20230727-003640-0544.log",
      "/notebooks/notebook/work_terayama/yjupyterhub/work/.log/20230727/20230727-120127-0110.log",
      "/notebooks/notebook/work_terayama/yjupyterhub/work/.log/20230727/20230727-121838-0025.log",
      "/notebooks/notebook/work_terayama/yjupyterhub/work/.log/20230727/20230727-131452-0719.log",
      "/notebooks/notebook/work_terayama/yjupyterhub/work/.log/20230727/20230727-135353-0604.log",
      "/notebooks/notebook/work_terayama/yjupyterhub/work/.log/20230801/20230801-150341-0745.log",
      "/notebooks/notebook/yamaguchi-hub/work/.log/20240517/20240517-161849-0771.log",
      "/notebooks/notebook/yamaguchi-hub/handon001/.log/20240520/20240520-155137-0489.log"
     ]
    }
   },
   "outputs": [],
   "source": [
    "!cat group_vars/{ugroup_name}"
   ]
  },
  {
   "cell_type": "code",
   "execution_count": null,
   "metadata": {
    "hidden": true,
    "lc_cell_meme": {
     "current": "88937eda-2bba-11ee-987e-0242ac110002-7-6141-c61d-7ce5-e84f-0887-1766-caef",
     "history": [
      {
       "current": "88937eda-2bba-11ee-987e-0242ac110002-1-6141",
       "next": "88937f8e-2bba-11ee-987e-0242ac110002",
       "previous": "88937de0-2bba-11ee-987e-0242ac110002"
      },
      {
       "current": "88937eda-2bba-11ee-987e-0242ac110002-2-6141-c61d",
       "next": "88937f8e-2bba-11ee-987e-0242ac110002-1-f8d0",
       "previous": "88937de0-2bba-11ee-987e-0242ac110002-1-6d1e"
      },
      {
       "current": "88937eda-2bba-11ee-987e-0242ac110002-3-6141-c61d-7ce5",
       "next": "88937f8e-2bba-11ee-987e-0242ac110002-2-f8d0-9ab7",
       "previous": "88937de0-2bba-11ee-987e-0242ac110002-2-6d1e-8d88"
      },
      {
       "current": "88937eda-2bba-11ee-987e-0242ac110002-3-6141-c61d-7ce5",
       "next": "88937f8e-2bba-11ee-987e-0242ac110002-3-f8d0-9ab7-0790",
       "previous": "88937de0-2bba-11ee-987e-0242ac110002-3-6d1e-8d88-63ce"
      },
      {
       "current": "88937eda-2bba-11ee-987e-0242ac110002-4-6141-c61d-7ce5-e84f",
       "next": "88937f8e-2bba-11ee-987e-0242ac110002-3-f8d0-9ab7-0790",
       "previous": "88937c96-2bba-11ee-987e-0242ac110002-3-2d47-12ef-9ce6"
      },
      {
       "current": "88937eda-2bba-11ee-987e-0242ac110002-5-6141-c61d-7ce5-e84f-0887",
       "next": "88937f8e-2bba-11ee-987e-0242ac110002-4-f8d0-9ab7-0790-a6fb",
       "previous": "88937c96-2bba-11ee-987e-0242ac110002-4-2d47-12ef-9ce6-c4d2"
      },
      {
       "current": "88937eda-2bba-11ee-987e-0242ac110002-6-6141-c61d-7ce5-e84f-0887-1766",
       "next": "88937f8e-2bba-11ee-987e-0242ac110002-5-f8d0-9ab7-0790-a6fb-d6a9",
       "previous": "88937c96-2bba-11ee-987e-0242ac110002-5-2d47-12ef-9ce6-c4d2-88d9"
      },
      {
       "current": "88937eda-2bba-11ee-987e-0242ac110002-7-6141-c61d-7ce5-e84f-0887-1766-caef",
       "next": "88937f8e-2bba-11ee-987e-0242ac110002-6-f8d0-9ab7-0790-a6fb-d6a9-8a0f",
       "previous": "88937c96-2bba-11ee-987e-0242ac110002-6-2d47-12ef-9ce6-c4d2-88d9-060e"
      }
     ],
     "next": "88937f8e-2bba-11ee-987e-0242ac110002-7-f8d0-9ab7-0790-a6fb-d6a9-8a0f-132c",
     "previous": "88937c96-2bba-11ee-987e-0242ac110002-7-2d47-12ef-9ce6-c4d2-88d9-060e-87cf"
    },
    "lc_wrapper": {
     "log_history": [
      "/notebooks/notebook/work_terayama/yjupyterhub/work/.log/20230726/20230726-224754-0465.log",
      "/notebooks/notebook/work_terayama/yjupyterhub/work/.log/20230726/20230726-231824-0965.log",
      "/notebooks/notebook/work_terayama/yjupyterhub/work/.log/20230726/20230726-234332-0525.log",
      "/notebooks/notebook/work_terayama/yjupyterhub/work/.log/20230727/20230727-001320-0061.log",
      "/notebooks/notebook/work_terayama/yjupyterhub/work/.log/20230727/20230727-003701-0583.log",
      "/notebooks/notebook/work_terayama/yjupyterhub/work/.log/20230727/20230727-120129-0967.log",
      "/notebooks/notebook/work_terayama/yjupyterhub/work/.log/20230727/20230727-122002-0147.log",
      "/notebooks/notebook/work_terayama/yjupyterhub/work/.log/20230727/20230727-131901-0273.log",
      "/notebooks/notebook/work_terayama/yjupyterhub/work/.log/20230727/20230727-135402-0386.log",
      "/notebooks/notebook/work_terayama/yjupyterhub/work/.log/20230801/20230801-150420-0130.log",
      "/notebooks/notebook/yamaguchi-hub/work/.log/20240517/20240517-161850-0079.log",
      "/notebooks/notebook/yamaguchi-hub/handon001/.log/20240520/20240520-155137-0720.log"
     ]
    },
    "tags": [
     "vcp:skip",
     "vcp:parameters"
    ]
   },
   "outputs": [],
   "source": [
    "# (例)\n",
    "# vc_nfs_disk_size = 32\n",
    "\n",
    "vc_nfs_disk_size = 0"
   ]
  },
  {
   "cell_type": "markdown",
   "metadata": {
    "hidden": true,
    "lc_cell_meme": {
     "current": "88937f8e-2bba-11ee-987e-0242ac110002-7-f8d0-9ab7-0790-a6fb-d6a9-8a0f-132c",
     "history": [
      {
       "current": "88937f8e-2bba-11ee-987e-0242ac110002-1-f8d0",
       "next": "88938038-2bba-11ee-987e-0242ac110002",
       "previous": "88937eda-2bba-11ee-987e-0242ac110002"
      },
      {
       "current": "88937f8e-2bba-11ee-987e-0242ac110002-2-f8d0-9ab7",
       "next": "88938038-2bba-11ee-987e-0242ac110002-1-908b",
       "previous": "88937eda-2bba-11ee-987e-0242ac110002-1-6141"
      },
      {
       "current": "88937f8e-2bba-11ee-987e-0242ac110002-3-f8d0-9ab7-0790",
       "next": "88938038-2bba-11ee-987e-0242ac110002-2-908b-b597",
       "previous": "88937eda-2bba-11ee-987e-0242ac110002-2-6141-c61d"
      },
      {
       "current": "88937f8e-2bba-11ee-987e-0242ac110002-4-f8d0-9ab7-0790-a6fb",
       "next": "88938038-2bba-11ee-987e-0242ac110002-3-908b-b597-7198",
       "previous": "88937eda-2bba-11ee-987e-0242ac110002-3-6141-c61d-7ce5"
      },
      {
       "current": "88937f8e-2bba-11ee-987e-0242ac110002-5-f8d0-9ab7-0790-a6fb-d6a9",
       "next": "88938038-2bba-11ee-987e-0242ac110002-4-908b-b597-7198-367f",
       "previous": "88937eda-2bba-11ee-987e-0242ac110002-4-6141-c61d-7ce5-e84f"
      },
      {
       "current": "88937f8e-2bba-11ee-987e-0242ac110002-6-f8d0-9ab7-0790-a6fb-d6a9-8a0f",
       "next": "88938038-2bba-11ee-987e-0242ac110002-5-908b-b597-7198-367f-673e",
       "previous": "88937eda-2bba-11ee-987e-0242ac110002-5-6141-c61d-7ce5-e84f-0887"
      },
      {
       "current": "88937f8e-2bba-11ee-987e-0242ac110002-7-f8d0-9ab7-0790-a6fb-d6a9-8a0f-132c",
       "next": "88938038-2bba-11ee-987e-0242ac110002-6-908b-b597-7198-367f-673e-c565",
       "previous": "88937eda-2bba-11ee-987e-0242ac110002-6-6141-c61d-7ce5-e84f-0887-1766"
      }
     ],
     "next": "88938038-2bba-11ee-987e-0242ac110002-7-908b-b597-7198-367f-673e-c565-3709",
     "previous": "88937eda-2bba-11ee-987e-0242ac110002-7-6141-c61d-7ce5-e84f-0887-1766-caef"
    }
   },
   "source": [
    "VCディスクのためのUnitGroup名を指定してください。ここではVCノードのUnitGroup名から自動的に導き出した名前を設定します。"
   ]
  },
  {
   "cell_type": "code",
   "execution_count": null,
   "metadata": {
    "hidden": true,
    "lc_cell_meme": {
     "current": "88938038-2bba-11ee-987e-0242ac110002-7-908b-b597-7198-367f-673e-c565-3709",
     "history": [
      {
       "current": "88938038-2bba-11ee-987e-0242ac110002-1-908b",
       "next": "889380d8-2bba-11ee-987e-0242ac110002",
       "previous": "88937f8e-2bba-11ee-987e-0242ac110002"
      },
      {
       "current": "88938038-2bba-11ee-987e-0242ac110002-2-908b-b597",
       "next": "889380d8-2bba-11ee-987e-0242ac110002-1-f989",
       "previous": "88937f8e-2bba-11ee-987e-0242ac110002-1-f8d0"
      },
      {
       "current": "88938038-2bba-11ee-987e-0242ac110002-3-908b-b597-7198",
       "next": "889380d8-2bba-11ee-987e-0242ac110002-2-f989-82f7",
       "previous": "88937f8e-2bba-11ee-987e-0242ac110002-2-f8d0-9ab7"
      },
      {
       "current": "88938038-2bba-11ee-987e-0242ac110002-4-908b-b597-7198-367f",
       "next": "889380d8-2bba-11ee-987e-0242ac110002-3-f989-82f7-89ea",
       "previous": "88937f8e-2bba-11ee-987e-0242ac110002-3-f8d0-9ab7-0790"
      },
      {
       "current": "88938038-2bba-11ee-987e-0242ac110002-5-908b-b597-7198-367f-673e",
       "next": "889380d8-2bba-11ee-987e-0242ac110002-4-f989-82f7-89ea-de27",
       "previous": "88937f8e-2bba-11ee-987e-0242ac110002-4-f8d0-9ab7-0790-a6fb"
      },
      {
       "current": "88938038-2bba-11ee-987e-0242ac110002-6-908b-b597-7198-367f-673e-c565",
       "next": "889380d8-2bba-11ee-987e-0242ac110002-5-f989-82f7-89ea-de27-a404",
       "previous": "88937f8e-2bba-11ee-987e-0242ac110002-5-f8d0-9ab7-0790-a6fb-d6a9"
      },
      {
       "current": "88938038-2bba-11ee-987e-0242ac110002-7-908b-b597-7198-367f-673e-c565-3709",
       "next": "889380d8-2bba-11ee-987e-0242ac110002-6-f989-82f7-89ea-de27-a404-79b1",
       "previous": "88937f8e-2bba-11ee-987e-0242ac110002-6-f8d0-9ab7-0790-a6fb-d6a9-8a0f"
      }
     ],
     "next": "889380d8-2bba-11ee-987e-0242ac110002-7-f989-82f7-89ea-de27-a404-79b1-cd8c",
     "previous": "88937f8e-2bba-11ee-987e-0242ac110002-7-f8d0-9ab7-0790-a6fb-d6a9-8a0f-132c"
    },
    "lc_wrapper": {
     "log_history": [
      "/notebooks/notebook/work_terayama/yjupyterhub/work/.log/20230726/20230726-224757-0060.log",
      "/notebooks/notebook/work_terayama/yjupyterhub/work/.log/20230726/20230726-231825-0588.log",
      "/notebooks/notebook/work_terayama/yjupyterhub/work/.log/20230726/20230726-234332-0536.log",
      "/notebooks/notebook/work_terayama/yjupyterhub/work/.log/20230727/20230727-001320-0073.log",
      "/notebooks/notebook/work_terayama/yjupyterhub/work/.log/20230727/20230727-003701-0595.log",
      "/notebooks/notebook/work_terayama/yjupyterhub/work/.log/20230727/20230727-120129-0982.log",
      "/notebooks/notebook/work_terayama/yjupyterhub/work/.log/20230727/20230727-122002-0158.log",
      "/notebooks/notebook/work_terayama/yjupyterhub/work/.log/20230727/20230727-131901-0285.log",
      "/notebooks/notebook/work_terayama/yjupyterhub/work/.log/20230727/20230727-135402-0397.log",
      "/notebooks/notebook/work_terayama/yjupyterhub/work/.log/20230801/20230801-150420-0143.log",
      "/notebooks/notebook/yamaguchi-hub/work/.log/20240517/20240517-161850-0285.log",
      "/notebooks/notebook/yamaguchi-hub/handon001/.log/20240520/20240520-155137-0733.log"
     ]
    }
   },
   "outputs": [],
   "source": [
    "disk_unit_group = ugroup_name + '_disk'\n",
    "print(disk_unit_group)"
   ]
  },
  {
   "cell_type": "markdown",
   "metadata": {
    "hidden": true,
    "lc_cell_meme": {
     "current": "889380d8-2bba-11ee-987e-0242ac110002-7-f989-82f7-89ea-de27-a404-79b1-cd8c",
     "history": [
      {
       "current": "889380d8-2bba-11ee-987e-0242ac110002-1-f989",
       "next": "88938182-2bba-11ee-987e-0242ac110002",
       "previous": "88938038-2bba-11ee-987e-0242ac110002"
      },
      {
       "current": "889380d8-2bba-11ee-987e-0242ac110002-2-f989-82f7",
       "next": "88938182-2bba-11ee-987e-0242ac110002-1-688a",
       "previous": "88938038-2bba-11ee-987e-0242ac110002-1-908b"
      },
      {
       "current": "889380d8-2bba-11ee-987e-0242ac110002-3-f989-82f7-89ea",
       "next": "88938182-2bba-11ee-987e-0242ac110002-2-688a-c0bd",
       "previous": "88938038-2bba-11ee-987e-0242ac110002-2-908b-b597"
      },
      {
       "current": "889380d8-2bba-11ee-987e-0242ac110002-4-f989-82f7-89ea-de27",
       "next": "88938182-2bba-11ee-987e-0242ac110002-3-688a-c0bd-8644",
       "previous": "88938038-2bba-11ee-987e-0242ac110002-3-908b-b597-7198"
      },
      {
       "current": "889380d8-2bba-11ee-987e-0242ac110002-5-f989-82f7-89ea-de27-a404",
       "next": "88938182-2bba-11ee-987e-0242ac110002-4-688a-c0bd-8644-acf6",
       "previous": "88938038-2bba-11ee-987e-0242ac110002-4-908b-b597-7198-367f"
      },
      {
       "current": "889380d8-2bba-11ee-987e-0242ac110002-6-f989-82f7-89ea-de27-a404-79b1",
       "next": "88938182-2bba-11ee-987e-0242ac110002-5-688a-c0bd-8644-acf6-ba33",
       "previous": "88938038-2bba-11ee-987e-0242ac110002-5-908b-b597-7198-367f-673e"
      },
      {
       "current": "889380d8-2bba-11ee-987e-0242ac110002-7-f989-82f7-89ea-de27-a404-79b1-cd8c",
       "next": "88938182-2bba-11ee-987e-0242ac110002-6-688a-c0bd-8644-acf6-ba33-1ba8",
       "previous": "88938038-2bba-11ee-987e-0242ac110002-6-908b-b597-7198-367f-673e-c565"
      }
     ],
     "next": "88938182-2bba-11ee-987e-0242ac110002-7-688a-c0bd-8644-acf6-ba33-1ba8-498b",
     "previous": "88938038-2bba-11ee-987e-0242ac110002-7-908b-b597-7198-367f-673e-c565-3709"
    }
   },
   "source": [
    "この章で指定したパラメータの値をファイルに保存します。"
   ]
  },
  {
   "cell_type": "code",
   "execution_count": null,
   "metadata": {
    "hidden": true,
    "lc_cell_meme": {
     "current": "88938182-2bba-11ee-987e-0242ac110002-7-688a-c0bd-8644-acf6-ba33-1ba8-498b",
     "history": [
      {
       "current": "88938182-2bba-11ee-987e-0242ac110002-1-688a",
       "next": "88938222-2bba-11ee-987e-0242ac110002",
       "previous": "889380d8-2bba-11ee-987e-0242ac110002"
      },
      {
       "current": "88938182-2bba-11ee-987e-0242ac110002-2-688a-c0bd",
       "next": "88938222-2bba-11ee-987e-0242ac110002-1-a000",
       "previous": "889380d8-2bba-11ee-987e-0242ac110002-1-f989"
      },
      {
       "current": "88938182-2bba-11ee-987e-0242ac110002-3-688a-c0bd-8644",
       "next": "88938222-2bba-11ee-987e-0242ac110002-2-a000-9325",
       "previous": "889380d8-2bba-11ee-987e-0242ac110002-2-f989-82f7"
      },
      {
       "current": "88938182-2bba-11ee-987e-0242ac110002-4-688a-c0bd-8644-acf6",
       "next": "88938222-2bba-11ee-987e-0242ac110002-3-a000-9325-455d",
       "previous": "889380d8-2bba-11ee-987e-0242ac110002-3-f989-82f7-89ea"
      },
      {
       "current": "88938182-2bba-11ee-987e-0242ac110002-5-688a-c0bd-8644-acf6-ba33",
       "next": "88938222-2bba-11ee-987e-0242ac110002-4-a000-9325-455d-2469",
       "previous": "889380d8-2bba-11ee-987e-0242ac110002-4-f989-82f7-89ea-de27"
      },
      {
       "current": "88938182-2bba-11ee-987e-0242ac110002-6-688a-c0bd-8644-acf6-ba33-1ba8",
       "next": "88938222-2bba-11ee-987e-0242ac110002-5-a000-9325-455d-2469-a5e9",
       "previous": "889380d8-2bba-11ee-987e-0242ac110002-5-f989-82f7-89ea-de27-a404"
      },
      {
       "current": "88938182-2bba-11ee-987e-0242ac110002-7-688a-c0bd-8644-acf6-ba33-1ba8-498b",
       "next": "88938222-2bba-11ee-987e-0242ac110002-6-a000-9325-455d-2469-a5e9-4d49",
       "previous": "889380d8-2bba-11ee-987e-0242ac110002-6-f989-82f7-89ea-de27-a404-79b1"
      }
     ],
     "next": "88938222-2bba-11ee-987e-0242ac110002-7-a000-9325-455d-2469-a5e9-4d49-7e45",
     "previous": "889380d8-2bba-11ee-987e-0242ac110002-7-f989-82f7-89ea-de27-a404-79b1-cd8c"
    },
    "lc_wrapper": {
     "log_history": [
      "/notebooks/notebook/work_terayama/yjupyterhub/work/.log/20230726/20230726-224758-0072.log",
      "/notebooks/notebook/work_terayama/yjupyterhub/work/.log/20230726/20230726-231826-0199.log",
      "/notebooks/notebook/work_terayama/yjupyterhub/work/.log/20230726/20230726-234332-0549.log",
      "/notebooks/notebook/work_terayama/yjupyterhub/work/.log/20230727/20230727-001320-0085.log",
      "/notebooks/notebook/work_terayama/yjupyterhub/work/.log/20230727/20230727-003701-0605.log",
      "/notebooks/notebook/work_terayama/yjupyterhub/work/.log/20230727/20230727-120129-0993.log",
      "/notebooks/notebook/work_terayama/yjupyterhub/work/.log/20230727/20230727-122002-0169.log",
      "/notebooks/notebook/work_terayama/yjupyterhub/work/.log/20230727/20230727-131901-0298.log",
      "/notebooks/notebook/work_terayama/yjupyterhub/work/.log/20230727/20230727-135402-0409.log",
      "/notebooks/notebook/work_terayama/yjupyterhub/work/.log/20230801/20230801-150420-0157.log",
      "/notebooks/notebook/yamaguchi-hub/work/.log/20240517/20240517-161850-0508.log",
      "/notebooks/notebook/yamaguchi-hub/handon001/.log/20240520/20240520-155137-0746.log"
     ]
    }
   },
   "outputs": [],
   "source": [
    "%run scripts/group.py\n",
    "\n",
    "if 'vc_nfs_disk_size' in vars() and vc_nfs_disk_size > 0:\n",
    "    if vc_provider in ['aws', 'azure']:\n",
    "        update_group_vars(\n",
    "            ugroup_name,\n",
    "            disk_unit_group=disk_unit_group,\n",
    "            vc_nfs_disk_size=vc_nfs_disk_size,\n",
    "        )\n",
    "    else:\n",
    "        del(vc_nfs_disk_size)"
   ]
  },
  {
   "cell_type": "markdown",
   "metadata": {
    "hidden": true,
    "lc_cell_meme": {
     "current": "88938222-2bba-11ee-987e-0242ac110002-7-a000-9325-455d-2469-a5e9-4d49-7e45",
     "history": [
      {
       "current": "88938222-2bba-11ee-987e-0242ac110002-1-a000",
       "next": "889382cc-2bba-11ee-987e-0242ac110002",
       "previous": "88938182-2bba-11ee-987e-0242ac110002"
      },
      {
       "current": "88938222-2bba-11ee-987e-0242ac110002-2-a000-9325",
       "next": "889382cc-2bba-11ee-987e-0242ac110002-1-365d",
       "previous": "88938182-2bba-11ee-987e-0242ac110002-1-688a"
      },
      {
       "current": "88938222-2bba-11ee-987e-0242ac110002-3-a000-9325-455d",
       "next": "889382cc-2bba-11ee-987e-0242ac110002-2-365d-d8b7",
       "previous": "88938182-2bba-11ee-987e-0242ac110002-2-688a-c0bd"
      },
      {
       "current": "88938222-2bba-11ee-987e-0242ac110002-4-a000-9325-455d-2469",
       "next": "889382cc-2bba-11ee-987e-0242ac110002-3-365d-d8b7-adea",
       "previous": "88938182-2bba-11ee-987e-0242ac110002-3-688a-c0bd-8644"
      },
      {
       "current": "88938222-2bba-11ee-987e-0242ac110002-5-a000-9325-455d-2469-a5e9",
       "next": "889382cc-2bba-11ee-987e-0242ac110002-4-365d-d8b7-adea-5fd2",
       "previous": "88938182-2bba-11ee-987e-0242ac110002-4-688a-c0bd-8644-acf6"
      },
      {
       "current": "88938222-2bba-11ee-987e-0242ac110002-6-a000-9325-455d-2469-a5e9-4d49",
       "next": "889382cc-2bba-11ee-987e-0242ac110002-5-365d-d8b7-adea-5fd2-a8c7",
       "previous": "88938182-2bba-11ee-987e-0242ac110002-5-688a-c0bd-8644-acf6-ba33"
      },
      {
       "current": "88938222-2bba-11ee-987e-0242ac110002-7-a000-9325-455d-2469-a5e9-4d49-7e45",
       "next": "889382cc-2bba-11ee-987e-0242ac110002-6-365d-d8b7-adea-5fd2-a8c7-9af0",
       "previous": "88938182-2bba-11ee-987e-0242ac110002-6-688a-c0bd-8644-acf6-ba33-1ba8"
      }
     ],
     "next": "889382cc-2bba-11ee-987e-0242ac110002-7-365d-d8b7-adea-5fd2-a8c7-9af0-01aa",
     "previous": "88938182-2bba-11ee-987e-0242ac110002-7-688a-c0bd-8644-acf6-ba33-1ba8-498b"
    }
   },
   "source": [
    "group_vars ファイルの内容を表示して保存されたパラメータを確認します。"
   ]
  },
  {
   "cell_type": "code",
   "execution_count": null,
   "metadata": {
    "hidden": true,
    "lc_cell_meme": {
     "current": "889382cc-2bba-11ee-987e-0242ac110002-7-365d-d8b7-adea-5fd2-a8c7-9af0-01aa",
     "history": [
      {
       "current": "889382cc-2bba-11ee-987e-0242ac110002-1-365d",
       "next": "88938376-2bba-11ee-987e-0242ac110002",
       "previous": "88938222-2bba-11ee-987e-0242ac110002"
      },
      {
       "current": "889382cc-2bba-11ee-987e-0242ac110002-2-365d-d8b7",
       "next": "88938376-2bba-11ee-987e-0242ac110002-1-cc15",
       "previous": "88938222-2bba-11ee-987e-0242ac110002-1-a000"
      },
      {
       "current": "889382cc-2bba-11ee-987e-0242ac110002-3-365d-d8b7-adea",
       "next": "88938376-2bba-11ee-987e-0242ac110002-2-cc15-815a",
       "previous": "88938222-2bba-11ee-987e-0242ac110002-2-a000-9325"
      },
      {
       "current": "889382cc-2bba-11ee-987e-0242ac110002-3-365d-d8b7-adea",
       "next": "88938376-2bba-11ee-987e-0242ac110002-3-cc15-815a-1840",
       "previous": "88938222-2bba-11ee-987e-0242ac110002-3-a000-9325-455d"
      },
      {
       "current": "889382cc-2bba-11ee-987e-0242ac110002-4-365d-d8b7-adea-5fd2",
       "next": "88938812-2bba-11ee-987e-0242ac110002-3-38a5-4803-bf09",
       "previous": "88938222-2bba-11ee-987e-0242ac110002-3-a000-9325-455d"
      },
      {
       "current": "889382cc-2bba-11ee-987e-0242ac110002-5-365d-d8b7-adea-5fd2-a8c7",
       "next": "88938812-2bba-11ee-987e-0242ac110002-4-38a5-4803-bf09-6e94",
       "previous": "88938222-2bba-11ee-987e-0242ac110002-4-a000-9325-455d-2469"
      },
      {
       "current": "889382cc-2bba-11ee-987e-0242ac110002-6-365d-d8b7-adea-5fd2-a8c7-9af0",
       "next": "88938812-2bba-11ee-987e-0242ac110002-5-38a5-4803-bf09-6e94-fac2",
       "previous": "88938222-2bba-11ee-987e-0242ac110002-5-a000-9325-455d-2469-a5e9"
      },
      {
       "current": "889382cc-2bba-11ee-987e-0242ac110002-7-365d-d8b7-adea-5fd2-a8c7-9af0-01aa",
       "next": "88938812-2bba-11ee-987e-0242ac110002-6-38a5-4803-bf09-6e94-fac2-ac6c",
       "previous": "88938222-2bba-11ee-987e-0242ac110002-6-a000-9325-455d-2469-a5e9-4d49"
      }
     ],
     "next": "88938812-2bba-11ee-987e-0242ac110002-7-38a5-4803-bf09-6e94-fac2-ac6c-83df",
     "previous": "88938222-2bba-11ee-987e-0242ac110002-7-a000-9325-455d-2469-a5e9-4d49-7e45"
    },
    "lc_wrapper": {
     "log_history": [
      "/notebooks/notebook/work_terayama/yjupyterhub/work/.log/20230726/20230726-224759-0378.log",
      "/notebooks/notebook/work_terayama/yjupyterhub/work/.log/20230726/20230726-231836-0410.log",
      "/notebooks/notebook/work_terayama/yjupyterhub/work/.log/20230726/20230726-234332-0569.log",
      "/notebooks/notebook/work_terayama/yjupyterhub/work/.log/20230727/20230727-001320-0105.log",
      "/notebooks/notebook/work_terayama/yjupyterhub/work/.log/20230727/20230727-003701-0624.log",
      "/notebooks/notebook/work_terayama/yjupyterhub/work/.log/20230727/20230727-120130-0016.log",
      "/notebooks/notebook/work_terayama/yjupyterhub/work/.log/20230727/20230727-122002-0188.log",
      "/notebooks/notebook/work_terayama/yjupyterhub/work/.log/20230727/20230727-131901-0317.log",
      "/notebooks/notebook/work_terayama/yjupyterhub/work/.log/20230727/20230727-135402-0430.log",
      "/notebooks/notebook/work_terayama/yjupyterhub/work/.log/20230801/20230801-150420-0177.log",
      "/notebooks/notebook/yamaguchi-hub/work/.log/20240517/20240517-161850-0536.log",
      "/notebooks/notebook/yamaguchi-hub/handon001/.log/20240520/20240520-155137-0761.log"
     ]
    }
   },
   "outputs": [],
   "source": [
    "!cat group_vars/{ugroup_name}"
   ]
  },
  {
   "cell_type": "markdown",
   "metadata": {
    "hidden": true,
    "lc_cell_meme": {
     "current": "88938812-2bba-11ee-987e-0242ac110002-7-38a5-4803-bf09-6e94-fac2-ac6c-83df",
     "history": [
      {
       "current": "88938812-2bba-11ee-987e-0242ac110002-1-38a5",
       "next": "889388b2-2bba-11ee-987e-0242ac110002",
       "previous": "88938768-2bba-11ee-987e-0242ac110002"
      },
      {
       "current": "88938812-2bba-11ee-987e-0242ac110002-2-38a5-4803",
       "next": "889388b2-2bba-11ee-987e-0242ac110002-1-597e",
       "previous": "88938768-2bba-11ee-987e-0242ac110002-1-6b8a"
      },
      {
       "current": "88938812-2bba-11ee-987e-0242ac110002-3-38a5-4803-bf09",
       "next": "889388b2-2bba-11ee-987e-0242ac110002-2-597e-a51f",
       "previous": "88938768-2bba-11ee-987e-0242ac110002-2-6b8a-7698"
      },
      {
       "current": "88938812-2bba-11ee-987e-0242ac110002-3-38a5-4803-bf09",
       "next": "889388b2-2bba-11ee-987e-0242ac110002-3-597e-a51f-3767",
       "previous": "88938768-2bba-11ee-987e-0242ac110002-3-6b8a-7698-0903"
      },
      {
       "current": "88938812-2bba-11ee-987e-0242ac110002-4-38a5-4803-bf09-6e94",
       "next": "889388b2-2bba-11ee-987e-0242ac110002-3-597e-a51f-3767",
       "previous": "889382cc-2bba-11ee-987e-0242ac110002-3-365d-d8b7-adea"
      },
      {
       "current": "88938812-2bba-11ee-987e-0242ac110002-5-38a5-4803-bf09-6e94-fac2",
       "next": "889388b2-2bba-11ee-987e-0242ac110002-4-597e-a51f-3767-0c73",
       "previous": "889382cc-2bba-11ee-987e-0242ac110002-4-365d-d8b7-adea-5fd2"
      },
      {
       "current": "88938812-2bba-11ee-987e-0242ac110002-6-38a5-4803-bf09-6e94-fac2-ac6c",
       "next": "889388b2-2bba-11ee-987e-0242ac110002-5-597e-a51f-3767-0c73-533b",
       "previous": "889382cc-2bba-11ee-987e-0242ac110002-5-365d-d8b7-adea-5fd2-a8c7"
      },
      {
       "current": "88938812-2bba-11ee-987e-0242ac110002-7-38a5-4803-bf09-6e94-fac2-ac6c-83df",
       "next": "889388b2-2bba-11ee-987e-0242ac110002-6-597e-a51f-3767-0c73-533b-649d",
       "previous": "889382cc-2bba-11ee-987e-0242ac110002-6-365d-d8b7-adea-5fd2-a8c7-9af0"
      }
     ],
     "next": "889388b2-2bba-11ee-987e-0242ac110002-7-597e-a51f-3767-0c73-533b-649d-a337",
     "previous": "889382cc-2bba-11ee-987e-0242ac110002-7-365d-d8b7-adea-5fd2-a8c7-9af0-01aa"
    }
   },
   "source": [
    "UnitGroupを作成します。"
   ]
  },
  {
   "cell_type": "code",
   "execution_count": null,
   "metadata": {
    "hidden": true,
    "lc_cell_meme": {
     "current": "889388b2-2bba-11ee-987e-0242ac110002-7-597e-a51f-3767-0c73-533b-649d-a337",
     "history": [
      {
       "current": "889388b2-2bba-11ee-987e-0242ac110002-1-597e",
       "next": "8893895c-2bba-11ee-987e-0242ac110002",
       "previous": "88938812-2bba-11ee-987e-0242ac110002"
      },
      {
       "current": "889388b2-2bba-11ee-987e-0242ac110002-2-597e-a51f",
       "next": "8893895c-2bba-11ee-987e-0242ac110002-1-bee2",
       "previous": "88938812-2bba-11ee-987e-0242ac110002-1-38a5"
      },
      {
       "current": "889388b2-2bba-11ee-987e-0242ac110002-3-597e-a51f-3767",
       "next": "8893895c-2bba-11ee-987e-0242ac110002-2-bee2-26a9",
       "previous": "88938812-2bba-11ee-987e-0242ac110002-2-38a5-4803"
      },
      {
       "current": "889388b2-2bba-11ee-987e-0242ac110002-4-597e-a51f-3767-0c73",
       "next": "8893895c-2bba-11ee-987e-0242ac110002-3-bee2-26a9-7a4b",
       "previous": "88938812-2bba-11ee-987e-0242ac110002-3-38a5-4803-bf09"
      },
      {
       "current": "889388b2-2bba-11ee-987e-0242ac110002-5-597e-a51f-3767-0c73-533b",
       "next": "8893895c-2bba-11ee-987e-0242ac110002-4-bee2-26a9-7a4b-7547",
       "previous": "88938812-2bba-11ee-987e-0242ac110002-4-38a5-4803-bf09-6e94"
      },
      {
       "current": "889388b2-2bba-11ee-987e-0242ac110002-6-597e-a51f-3767-0c73-533b-649d",
       "next": "8893895c-2bba-11ee-987e-0242ac110002-5-bee2-26a9-7a4b-7547-2663",
       "previous": "88938812-2bba-11ee-987e-0242ac110002-5-38a5-4803-bf09-6e94-fac2"
      },
      {
       "current": "889388b2-2bba-11ee-987e-0242ac110002-7-597e-a51f-3767-0c73-533b-649d-a337",
       "next": "8893895c-2bba-11ee-987e-0242ac110002-6-bee2-26a9-7a4b-7547-2663-f402",
       "previous": "88938812-2bba-11ee-987e-0242ac110002-6-38a5-4803-bf09-6e94-fac2-ac6c"
      }
     ],
     "next": "8893895c-2bba-11ee-987e-0242ac110002-7-bee2-26a9-7a4b-7547-2663-f402-22cc",
     "previous": "88938812-2bba-11ee-987e-0242ac110002-7-38a5-4803-bf09-6e94-fac2-ac6c-83df"
    },
    "lc_wrapper": {
     "log_history": [
      "/notebooks/notebook/work_terayama/yjupyterhub/work/.log/20230726/20230726-224818-0942.log",
      "/notebooks/notebook/work_terayama/yjupyterhub/work/.log/20230726/20230726-231855-0060.log",
      "/notebooks/notebook/work_terayama/yjupyterhub/work/.log/20230726/20230726-234351-0134.log",
      "/notebooks/notebook/work_terayama/yjupyterhub/work/.log/20230727/20230727-001337-0412.log",
      "/notebooks/notebook/work_terayama/yjupyterhub/work/.log/20230727/20230727-003718-0511.log",
      "/notebooks/notebook/work_terayama/yjupyterhub/work/.log/20230727/20230727-120147-0219.log",
      "/notebooks/notebook/work_terayama/yjupyterhub/work/.log/20230727/20230727-122019-0969.log",
      "/notebooks/notebook/work_terayama/yjupyterhub/work/.log/20230727/20230727-131918-0678.log",
      "/notebooks/notebook/work_terayama/yjupyterhub/work/.log/20230727/20230727-135419-0649.log",
      "/notebooks/notebook/work_terayama/yjupyterhub/work/.log/20230801/20230801-150437-0363.log",
      "/notebooks/notebook/yamaguchi-hub/work/.log/20240517/20240517-161850-0851.log",
      "/notebooks/notebook/yamaguchi-hub/handon001/.log/20240520/20240520-155137-0990.log"
     ]
    }
   },
   "outputs": [],
   "source": [
    "%run scripts/group.py\n",
    "gvars = load_group_vars(ugroup_name)\n",
    "\n",
    "if 'disk_unit_group' in gvars and 'vc_nfs_disk_size' in gvars and gvars['vc_nfs_disk_size'] > 0:\n",
    "    ug_disk = vcp.create_ugroup(gvars['disk_unit_group'], ugroup_type='storage')"
   ]
  },
  {
   "cell_type": "markdown",
   "metadata": {
    "hidden": true,
    "lc_cell_meme": {
     "current": "8893895c-2bba-11ee-987e-0242ac110002-7-bee2-26a9-7a4b-7547-2663-f402-22cc",
     "history": [
      {
       "current": "8893895c-2bba-11ee-987e-0242ac110002-1-bee2",
       "next": "88938a06-2bba-11ee-987e-0242ac110002",
       "previous": "889388b2-2bba-11ee-987e-0242ac110002"
      },
      {
       "current": "8893895c-2bba-11ee-987e-0242ac110002-2-bee2-26a9",
       "next": "88938a06-2bba-11ee-987e-0242ac110002-1-52b6",
       "previous": "889388b2-2bba-11ee-987e-0242ac110002-1-597e"
      },
      {
       "current": "8893895c-2bba-11ee-987e-0242ac110002-3-bee2-26a9-7a4b",
       "next": "88938a06-2bba-11ee-987e-0242ac110002-2-52b6-50d6",
       "previous": "889388b2-2bba-11ee-987e-0242ac110002-2-597e-a51f"
      },
      {
       "current": "8893895c-2bba-11ee-987e-0242ac110002-4-bee2-26a9-7a4b-7547",
       "next": "88938a06-2bba-11ee-987e-0242ac110002-3-52b6-50d6-84e4",
       "previous": "889388b2-2bba-11ee-987e-0242ac110002-3-597e-a51f-3767"
      },
      {
       "current": "8893895c-2bba-11ee-987e-0242ac110002-5-bee2-26a9-7a4b-7547-2663",
       "next": "88938a06-2bba-11ee-987e-0242ac110002-4-52b6-50d6-84e4-44d0",
       "previous": "889388b2-2bba-11ee-987e-0242ac110002-4-597e-a51f-3767-0c73"
      },
      {
       "current": "8893895c-2bba-11ee-987e-0242ac110002-6-bee2-26a9-7a4b-7547-2663-f402",
       "next": "88938a06-2bba-11ee-987e-0242ac110002-5-52b6-50d6-84e4-44d0-0c75",
       "previous": "889388b2-2bba-11ee-987e-0242ac110002-5-597e-a51f-3767-0c73-533b"
      },
      {
       "current": "8893895c-2bba-11ee-987e-0242ac110002-7-bee2-26a9-7a4b-7547-2663-f402-22cc",
       "next": "88938a06-2bba-11ee-987e-0242ac110002-6-52b6-50d6-84e4-44d0-0c75-676c",
       "previous": "889388b2-2bba-11ee-987e-0242ac110002-6-597e-a51f-3767-0c73-533b-649d"
      }
     ],
     "next": "88938a06-2bba-11ee-987e-0242ac110002-7-52b6-50d6-84e4-44d0-0c75-676c-f79a",
     "previous": "889388b2-2bba-11ee-987e-0242ac110002-7-597e-a51f-3767-0c73-533b-649d-a337"
    }
   },
   "source": [
    "UnitGroup作成後の一覧を表示させます。"
   ]
  },
  {
   "cell_type": "code",
   "execution_count": null,
   "metadata": {
    "hidden": true,
    "lc_cell_meme": {
     "current": "88938a06-2bba-11ee-987e-0242ac110002-7-52b6-50d6-84e4-44d0-0c75-676c-f79a",
     "history": [
      {
       "current": "88938a06-2bba-11ee-987e-0242ac110002-1-52b6",
       "next": "88938aa6-2bba-11ee-987e-0242ac110002",
       "previous": "8893895c-2bba-11ee-987e-0242ac110002"
      },
      {
       "current": "88938a06-2bba-11ee-987e-0242ac110002-2-52b6-50d6",
       "next": "88938aa6-2bba-11ee-987e-0242ac110002-1-b313",
       "previous": "8893895c-2bba-11ee-987e-0242ac110002-1-bee2"
      },
      {
       "current": "88938a06-2bba-11ee-987e-0242ac110002-3-52b6-50d6-84e4",
       "next": "88938aa6-2bba-11ee-987e-0242ac110002-2-b313-ab94",
       "previous": "8893895c-2bba-11ee-987e-0242ac110002-2-bee2-26a9"
      },
      {
       "current": "88938a06-2bba-11ee-987e-0242ac110002-4-52b6-50d6-84e4-44d0",
       "next": "88938aa6-2bba-11ee-987e-0242ac110002-3-b313-ab94-ee42",
       "previous": "8893895c-2bba-11ee-987e-0242ac110002-3-bee2-26a9-7a4b"
      },
      {
       "current": "88938a06-2bba-11ee-987e-0242ac110002-5-52b6-50d6-84e4-44d0-0c75",
       "next": "88938aa6-2bba-11ee-987e-0242ac110002-4-b313-ab94-ee42-d8f8",
       "previous": "8893895c-2bba-11ee-987e-0242ac110002-4-bee2-26a9-7a4b-7547"
      },
      {
       "current": "88938a06-2bba-11ee-987e-0242ac110002-6-52b6-50d6-84e4-44d0-0c75-676c",
       "next": "88938aa6-2bba-11ee-987e-0242ac110002-5-b313-ab94-ee42-d8f8-1acb",
       "previous": "8893895c-2bba-11ee-987e-0242ac110002-5-bee2-26a9-7a4b-7547-2663"
      },
      {
       "current": "88938a06-2bba-11ee-987e-0242ac110002-7-52b6-50d6-84e4-44d0-0c75-676c-f79a",
       "next": "88938aa6-2bba-11ee-987e-0242ac110002-6-b313-ab94-ee42-d8f8-1acb-7bf9",
       "previous": "8893895c-2bba-11ee-987e-0242ac110002-6-bee2-26a9-7a4b-7547-2663-f402"
      }
     ],
     "next": "88938aa6-2bba-11ee-987e-0242ac110002-7-b313-ab94-ee42-d8f8-1acb-7bf9-ffe4",
     "previous": "8893895c-2bba-11ee-987e-0242ac110002-7-bee2-26a9-7a4b-7547-2663-f402-22cc"
    },
    "lc_wrapper": {
     "log_history": [
      "/notebooks/notebook/work_terayama/yjupyterhub/work/.log/20230726/20230726-224849-0070.log",
      "/notebooks/notebook/work_terayama/yjupyterhub/work/.log/20230726/20230726-231925-0092.log",
      "/notebooks/notebook/work_terayama/yjupyterhub/work/.log/20230726/20230726-234420-0766.log",
      "/notebooks/notebook/work_terayama/yjupyterhub/work/.log/20230727/20230727-001407-0884.log",
      "/notebooks/notebook/work_terayama/yjupyterhub/work/.log/20230727/20230727-003748-0433.log",
      "/notebooks/notebook/work_terayama/yjupyterhub/work/.log/20230727/20230727-120217-0092.log",
      "/notebooks/notebook/work_terayama/yjupyterhub/work/.log/20230727/20230727-122049-0757.log",
      "/notebooks/notebook/work_terayama/yjupyterhub/work/.log/20230727/20230727-131948-0525.log",
      "/notebooks/notebook/work_terayama/yjupyterhub/work/.log/20230727/20230727-135449-0575.log",
      "/notebooks/notebook/work_terayama/yjupyterhub/work/.log/20230801/20230801-150507-0543.log",
      "/notebooks/notebook/yamaguchi-hub/work/.log/20240517/20240517-161850-0890.log",
      "/notebooks/notebook/yamaguchi-hub/handon001/.log/20240520/20240520-155138-0007.log"
     ]
    }
   },
   "outputs": [],
   "source": [
    "vcp.df_ugroups()"
   ]
  },
  {
   "cell_type": "markdown",
   "metadata": {
    "heading_collapsed": true,
    "hidden": true,
    "lc_cell_meme": {
     "current": "88938aa6-2bba-11ee-987e-0242ac110002-7-b313-ab94-ee42-d8f8-1acb-7bf9-ffe4",
     "history": [
      {
       "current": "88938aa6-2bba-11ee-987e-0242ac110002-1-b313",
       "next": "88938b46-2bba-11ee-987e-0242ac110002",
       "previous": "88938a06-2bba-11ee-987e-0242ac110002"
      },
      {
       "current": "88938aa6-2bba-11ee-987e-0242ac110002-2-b313-ab94",
       "next": "88938b46-2bba-11ee-987e-0242ac110002-1-10da",
       "previous": "88938a06-2bba-11ee-987e-0242ac110002-1-52b6"
      },
      {
       "current": "88938aa6-2bba-11ee-987e-0242ac110002-3-b313-ab94-ee42",
       "next": "88938b46-2bba-11ee-987e-0242ac110002-2-10da-a60b",
       "previous": "88938a06-2bba-11ee-987e-0242ac110002-2-52b6-50d6"
      },
      {
       "current": "88938aa6-2bba-11ee-987e-0242ac110002-4-b313-ab94-ee42-d8f8",
       "next": "88938b46-2bba-11ee-987e-0242ac110002-3-10da-a60b-2f9f",
       "previous": "88938a06-2bba-11ee-987e-0242ac110002-3-52b6-50d6-84e4"
      },
      {
       "current": "88938aa6-2bba-11ee-987e-0242ac110002-5-b313-ab94-ee42-d8f8-1acb",
       "next": "88938b46-2bba-11ee-987e-0242ac110002-4-10da-a60b-2f9f-16bf",
       "previous": "88938a06-2bba-11ee-987e-0242ac110002-4-52b6-50d6-84e4-44d0"
      },
      {
       "current": "88938aa6-2bba-11ee-987e-0242ac110002-6-b313-ab94-ee42-d8f8-1acb-7bf9",
       "next": "88938b46-2bba-11ee-987e-0242ac110002-5-10da-a60b-2f9f-16bf-ffa5",
       "previous": "88938a06-2bba-11ee-987e-0242ac110002-5-52b6-50d6-84e4-44d0-0c75"
      },
      {
       "current": "88938aa6-2bba-11ee-987e-0242ac110002-7-b313-ab94-ee42-d8f8-1acb-7bf9-ffe4",
       "next": "88938b46-2bba-11ee-987e-0242ac110002-6-10da-a60b-2f9f-16bf-ffa5-c5f2",
       "previous": "88938a06-2bba-11ee-987e-0242ac110002-6-52b6-50d6-84e4-44d0-0c75-676c"
      }
     ],
     "next": "88938b46-2bba-11ee-987e-0242ac110002-7-10da-a60b-2f9f-16bf-ffa5-c5f2-1806",
     "previous": "88938a06-2bba-11ee-987e-0242ac110002-7-52b6-50d6-84e4-44d0-0c75-676c-f79a"
    }
   },
   "source": [
    "### VCディスクの作成"
   ]
  },
  {
   "cell_type": "markdown",
   "metadata": {
    "hidden": true,
    "lc_cell_meme": {
     "current": "88938b46-2bba-11ee-987e-0242ac110002-7-10da-a60b-2f9f-16bf-ffa5-c5f2-1806",
     "history": [
      {
       "current": "88938b46-2bba-11ee-987e-0242ac110002-1-10da",
       "next": "88938be6-2bba-11ee-987e-0242ac110002",
       "previous": "88938aa6-2bba-11ee-987e-0242ac110002"
      },
      {
       "current": "88938b46-2bba-11ee-987e-0242ac110002-2-10da-a60b",
       "next": "88938be6-2bba-11ee-987e-0242ac110002-1-cd76",
       "previous": "88938aa6-2bba-11ee-987e-0242ac110002-1-b313"
      },
      {
       "current": "88938b46-2bba-11ee-987e-0242ac110002-3-10da-a60b-2f9f",
       "next": "88938be6-2bba-11ee-987e-0242ac110002-2-cd76-9b27",
       "previous": "88938aa6-2bba-11ee-987e-0242ac110002-2-b313-ab94"
      },
      {
       "current": "88938b46-2bba-11ee-987e-0242ac110002-4-10da-a60b-2f9f-16bf",
       "next": "88938be6-2bba-11ee-987e-0242ac110002-3-cd76-9b27-f395",
       "previous": "88938aa6-2bba-11ee-987e-0242ac110002-3-b313-ab94-ee42"
      },
      {
       "current": "88938b46-2bba-11ee-987e-0242ac110002-5-10da-a60b-2f9f-16bf-ffa5",
       "next": "88938be6-2bba-11ee-987e-0242ac110002-4-cd76-9b27-f395-8db1",
       "previous": "88938aa6-2bba-11ee-987e-0242ac110002-4-b313-ab94-ee42-d8f8"
      },
      {
       "current": "88938b46-2bba-11ee-987e-0242ac110002-6-10da-a60b-2f9f-16bf-ffa5-c5f2",
       "next": "88938be6-2bba-11ee-987e-0242ac110002-5-cd76-9b27-f395-8db1-30d0",
       "previous": "88938aa6-2bba-11ee-987e-0242ac110002-5-b313-ab94-ee42-d8f8-1acb"
      },
      {
       "current": "88938b46-2bba-11ee-987e-0242ac110002-7-10da-a60b-2f9f-16bf-ffa5-c5f2-1806",
       "next": "88938be6-2bba-11ee-987e-0242ac110002-6-cd76-9b27-f395-8db1-30d0-1515",
       "previous": "88938aa6-2bba-11ee-987e-0242ac110002-6-b313-ab94-ee42-d8f8-1acb-7bf9"
      }
     ],
     "next": "88938be6-2bba-11ee-987e-0242ac110002-7-cd76-9b27-f395-8db1-30d0-1515-409b",
     "previous": "88938aa6-2bba-11ee-987e-0242ac110002-7-b313-ab94-ee42-d8f8-1acb-7bf9-ffe4"
    }
   },
   "source": [
    "NFS用のVCディスクを作成します。"
   ]
  },
  {
   "cell_type": "code",
   "execution_count": null,
   "metadata": {
    "hidden": true,
    "lc_cell_meme": {
     "current": "88938be6-2bba-11ee-987e-0242ac110002-7-cd76-9b27-f395-8db1-30d0-1515-409b",
     "history": [
      {
       "current": "88938be6-2bba-11ee-987e-0242ac110002-1-cd76",
       "next": "88938c9a-2bba-11ee-987e-0242ac110002",
       "previous": "88938b46-2bba-11ee-987e-0242ac110002"
      },
      {
       "current": "88938be6-2bba-11ee-987e-0242ac110002-2-cd76-9b27",
       "next": "88938c9a-2bba-11ee-987e-0242ac110002-1-a351",
       "previous": "88938b46-2bba-11ee-987e-0242ac110002-1-10da"
      },
      {
       "current": "88938be6-2bba-11ee-987e-0242ac110002-3-cd76-9b27-f395",
       "next": "88938c9a-2bba-11ee-987e-0242ac110002-2-a351-7b68",
       "previous": "88938b46-2bba-11ee-987e-0242ac110002-2-10da-a60b"
      },
      {
       "current": "88938be6-2bba-11ee-987e-0242ac110002-4-cd76-9b27-f395-8db1",
       "next": "88938c9a-2bba-11ee-987e-0242ac110002-3-a351-7b68-b639",
       "previous": "88938b46-2bba-11ee-987e-0242ac110002-3-10da-a60b-2f9f"
      },
      {
       "current": "88938be6-2bba-11ee-987e-0242ac110002-5-cd76-9b27-f395-8db1-30d0",
       "next": "88938c9a-2bba-11ee-987e-0242ac110002-4-a351-7b68-b639-33f9",
       "previous": "88938b46-2bba-11ee-987e-0242ac110002-4-10da-a60b-2f9f-16bf"
      },
      {
       "current": "88938be6-2bba-11ee-987e-0242ac110002-6-cd76-9b27-f395-8db1-30d0-1515",
       "next": "88938c9a-2bba-11ee-987e-0242ac110002-5-a351-7b68-b639-33f9-f2a3",
       "previous": "88938b46-2bba-11ee-987e-0242ac110002-5-10da-a60b-2f9f-16bf-ffa5"
      },
      {
       "current": "88938be6-2bba-11ee-987e-0242ac110002-7-cd76-9b27-f395-8db1-30d0-1515-409b",
       "next": "88938c9a-2bba-11ee-987e-0242ac110002-6-a351-7b68-b639-33f9-f2a3-15a8",
       "previous": "88938b46-2bba-11ee-987e-0242ac110002-6-10da-a60b-2f9f-16bf-ffa5-c5f2"
      }
     ],
     "next": "88938c9a-2bba-11ee-987e-0242ac110002-7-a351-7b68-b639-33f9-f2a3-15a8-e147",
     "previous": "88938b46-2bba-11ee-987e-0242ac110002-7-10da-a60b-2f9f-16bf-ffa5-c5f2-1806"
    },
    "lc_wrapper": {
     "log_history": [
      "/notebooks/notebook/work_terayama/yjupyterhub/work/.log/20230726/20230726-224904-0005.log",
      "/notebooks/notebook/work_terayama/yjupyterhub/work/.log/20230726/20230726-231940-0427.log",
      "/notebooks/notebook/work_terayama/yjupyterhub/work/.log/20230726/20230726-234435-0896.log",
      "/notebooks/notebook/work_terayama/yjupyterhub/work/.log/20230727/20230727-001422-0760.log",
      "/notebooks/notebook/work_terayama/yjupyterhub/work/.log/20230727/20230727-003803-0158.log",
      "/notebooks/notebook/work_terayama/yjupyterhub/work/.log/20230727/20230727-120232-0019.log",
      "/notebooks/notebook/work_terayama/yjupyterhub/work/.log/20230727/20230727-122104-0803.log",
      "/notebooks/notebook/work_terayama/yjupyterhub/work/.log/20230727/20230727-132003-0573.log",
      "/notebooks/notebook/work_terayama/yjupyterhub/work/.log/20230727/20230727-135504-0391.log",
      "/notebooks/notebook/work_terayama/yjupyterhub/work/.log/20230801/20230801-150522-0627.log",
      "/notebooks/notebook/yamaguchi-hub/work/.log/20240517/20240517-161852-0397.log",
      "/notebooks/notebook/yamaguchi-hub/handon001/.log/20240520/20240520-155139-0094.log"
     ]
    }
   },
   "outputs": [],
   "source": [
    "if 'ug_disk' in vars() and gvars['vc_nfs_disk_size'] > 0:\n",
    "    nfs_disk_spec = vcp.get_spec(gvars['vc_provider'] + '_disk', 'small')\n",
    "    if gvars['vc_provider'] == 'azure':\n",
    "        nfs_disk_spec.disk_size_gb = gvars['vc_nfs_disk_size']\n",
    "    elif gvars['vc_provider'] == 'oracle':\n",
    "        nfs_disk_spec.size_in_gbs = gvars['vc_nfs_disk_size']\n",
    "    else:\n",
    "        nfs_disk_spec.size = gvars['vc_nfs_disk_size']\n",
    "    ug_disk.create_unit('nfs', nfs_disk_spec)"
   ]
  },
  {
   "cell_type": "markdown",
   "metadata": {
    "hidden": true,
    "lc_cell_meme": {
     "current": "88938c9a-2bba-11ee-987e-0242ac110002-7-a351-7b68-b639-33f9-f2a3-15a8-e147",
     "history": [
      {
       "current": "88938c9a-2bba-11ee-987e-0242ac110002-1-a351",
       "next": "88938d44-2bba-11ee-987e-0242ac110002",
       "previous": "88938be6-2bba-11ee-987e-0242ac110002"
      },
      {
       "current": "88938c9a-2bba-11ee-987e-0242ac110002-2-a351-7b68",
       "next": "88938d44-2bba-11ee-987e-0242ac110002-1-a36c",
       "previous": "88938be6-2bba-11ee-987e-0242ac110002-1-cd76"
      },
      {
       "current": "88938c9a-2bba-11ee-987e-0242ac110002-3-a351-7b68-b639",
       "next": "88938d44-2bba-11ee-987e-0242ac110002-2-a36c-f698",
       "previous": "88938be6-2bba-11ee-987e-0242ac110002-2-cd76-9b27"
      },
      {
       "current": "88938c9a-2bba-11ee-987e-0242ac110002-4-a351-7b68-b639-33f9",
       "next": "88938d44-2bba-11ee-987e-0242ac110002-3-a36c-f698-fbf3",
       "previous": "88938be6-2bba-11ee-987e-0242ac110002-3-cd76-9b27-f395"
      },
      {
       "current": "88938c9a-2bba-11ee-987e-0242ac110002-5-a351-7b68-b639-33f9-f2a3",
       "next": "88938d44-2bba-11ee-987e-0242ac110002-4-a36c-f698-fbf3-1464",
       "previous": "88938be6-2bba-11ee-987e-0242ac110002-4-cd76-9b27-f395-8db1"
      },
      {
       "current": "88938c9a-2bba-11ee-987e-0242ac110002-6-a351-7b68-b639-33f9-f2a3-15a8",
       "next": "88938d44-2bba-11ee-987e-0242ac110002-5-a36c-f698-fbf3-1464-53c6",
       "previous": "88938be6-2bba-11ee-987e-0242ac110002-5-cd76-9b27-f395-8db1-30d0"
      },
      {
       "current": "88938c9a-2bba-11ee-987e-0242ac110002-7-a351-7b68-b639-33f9-f2a3-15a8-e147",
       "next": "88938d44-2bba-11ee-987e-0242ac110002-6-a36c-f698-fbf3-1464-53c6-fe9d",
       "previous": "88938be6-2bba-11ee-987e-0242ac110002-6-cd76-9b27-f395-8db1-30d0-1515"
      }
     ],
     "next": "88938d44-2bba-11ee-987e-0242ac110002-7-a36c-f698-fbf3-1464-53c6-fe9d-e86b",
     "previous": "88938be6-2bba-11ee-987e-0242ac110002-7-cd76-9b27-f395-8db1-30d0-1515-409b"
    }
   },
   "source": [
    "作成したVCディスクの一覧を表示します。"
   ]
  },
  {
   "cell_type": "code",
   "execution_count": null,
   "metadata": {
    "hidden": true,
    "lc_cell_meme": {
     "current": "88938d44-2bba-11ee-987e-0242ac110002-7-a36c-f698-fbf3-1464-53c6-fe9d-e86b",
     "history": [
      {
       "current": "88938d44-2bba-11ee-987e-0242ac110002-1-a36c",
       "next": "88938de4-2bba-11ee-987e-0242ac110002",
       "previous": "88938c9a-2bba-11ee-987e-0242ac110002"
      },
      {
       "current": "88938d44-2bba-11ee-987e-0242ac110002-2-a36c-f698",
       "next": "88938de4-2bba-11ee-987e-0242ac110002-1-bb0d",
       "previous": "88938c9a-2bba-11ee-987e-0242ac110002-1-a351"
      },
      {
       "current": "88938d44-2bba-11ee-987e-0242ac110002-3-a36c-f698-fbf3",
       "next": "88938de4-2bba-11ee-987e-0242ac110002-2-bb0d-4967",
       "previous": "88938c9a-2bba-11ee-987e-0242ac110002-2-a351-7b68"
      },
      {
       "current": "88938d44-2bba-11ee-987e-0242ac110002-3-a36c-f698-fbf3",
       "next": "88938de4-2bba-11ee-987e-0242ac110002-3-bb0d-4967-1dbf",
       "previous": "88938c9a-2bba-11ee-987e-0242ac110002-3-a351-7b68-b639"
      },
      {
       "current": "88938d44-2bba-11ee-987e-0242ac110002-4-a36c-f698-fbf3-1464",
       "next": "88938e84-2bba-11ee-987e-0242ac110002-3-3171-5312-d533",
       "previous": "88938c9a-2bba-11ee-987e-0242ac110002-3-a351-7b68-b639"
      },
      {
       "current": "88938d44-2bba-11ee-987e-0242ac110002-5-a36c-f698-fbf3-1464-53c6",
       "next": "88938e84-2bba-11ee-987e-0242ac110002-4-3171-5312-d533-9523",
       "previous": "88938c9a-2bba-11ee-987e-0242ac110002-4-a351-7b68-b639-33f9"
      },
      {
       "current": "88938d44-2bba-11ee-987e-0242ac110002-6-a36c-f698-fbf3-1464-53c6-fe9d",
       "next": "88938e84-2bba-11ee-987e-0242ac110002-5-3171-5312-d533-9523-b657",
       "previous": "88938c9a-2bba-11ee-987e-0242ac110002-5-a351-7b68-b639-33f9-f2a3"
      },
      {
       "current": "88938d44-2bba-11ee-987e-0242ac110002-7-a36c-f698-fbf3-1464-53c6-fe9d-e86b",
       "next": "88938e84-2bba-11ee-987e-0242ac110002-6-3171-5312-d533-9523-b657-4c4b",
       "previous": "88938c9a-2bba-11ee-987e-0242ac110002-6-a351-7b68-b639-33f9-f2a3-15a8"
      }
     ],
     "next": "88938e84-2bba-11ee-987e-0242ac110002-7-3171-5312-d533-9523-b657-4c4b-09dd",
     "previous": "88938c9a-2bba-11ee-987e-0242ac110002-7-a351-7b68-b639-33f9-f2a3-15a8-e147"
    },
    "lc_wrapper": {
     "log_history": [
      "/notebooks/notebook/work_terayama/yjupyterhub/work/.log/20230726/20230726-224941-0200.log",
      "/notebooks/notebook/work_terayama/yjupyterhub/work/.log/20230726/20230726-232017-0661.log",
      "/notebooks/notebook/work_terayama/yjupyterhub/work/.log/20230726/20230726-234513-0224.log",
      "/notebooks/notebook/work_terayama/yjupyterhub/work/.log/20230727/20230727-001459-0982.log",
      "/notebooks/notebook/work_terayama/yjupyterhub/work/.log/20230727/20230727-003840-0350.log",
      "/notebooks/notebook/work_terayama/yjupyterhub/work/.log/20230727/20230727-120309-0231.log",
      "/notebooks/notebook/work_terayama/yjupyterhub/work/.log/20230727/20230727-122142-0008.log",
      "/notebooks/notebook/work_terayama/yjupyterhub/work/.log/20230727/20230727-132040-0801.log",
      "/notebooks/notebook/work_terayama/yjupyterhub/work/.log/20230727/20230727-135541-0625.log",
      "/notebooks/notebook/work_terayama/yjupyterhub/work/.log/20230801/20230801-150559-0847.log",
      "/notebooks/notebook/yamaguchi-hub/work/.log/20240517/20240517-161852-0410.log",
      "/notebooks/notebook/yamaguchi-hub/handon001/.log/20240520/20240520-155139-0104.log"
     ]
    }
   },
   "outputs": [],
   "source": [
    "from IPython.display import display\n",
    "if 'ug_disk' in vars():\n",
    "    display(ug_disk.df_nodes())"
   ]
  },
  {
   "cell_type": "markdown",
   "metadata": {
    "heading_collapsed": true,
    "hidden": true,
    "lc_cell_meme": {
     "current": "88938e84-2bba-11ee-987e-0242ac110002-7-3171-5312-d533-9523-b657-4c4b-09dd",
     "history": [
      {
       "current": "88938e84-2bba-11ee-987e-0242ac110002-1-3171",
       "next": "88938f38-2bba-11ee-987e-0242ac110002",
       "previous": "88938de4-2bba-11ee-987e-0242ac110002"
      },
      {
       "current": "88938e84-2bba-11ee-987e-0242ac110002-2-3171-5312",
       "next": "88938f38-2bba-11ee-987e-0242ac110002-1-084b",
       "previous": "88938de4-2bba-11ee-987e-0242ac110002-1-bb0d"
      },
      {
       "current": "88938e84-2bba-11ee-987e-0242ac110002-3-3171-5312-d533",
       "next": "88938f38-2bba-11ee-987e-0242ac110002-2-084b-1d1b",
       "previous": "88938de4-2bba-11ee-987e-0242ac110002-2-bb0d-4967"
      },
      {
       "current": "88938e84-2bba-11ee-987e-0242ac110002-3-3171-5312-d533",
       "next": "88938f38-2bba-11ee-987e-0242ac110002-3-084b-1d1b-625a",
       "previous": "88938de4-2bba-11ee-987e-0242ac110002-3-bb0d-4967-1dbf"
      },
      {
       "current": "88938e84-2bba-11ee-987e-0242ac110002-4-3171-5312-d533-9523",
       "next": "88938f38-2bba-11ee-987e-0242ac110002-3-084b-1d1b-625a",
       "previous": "88938d44-2bba-11ee-987e-0242ac110002-3-a36c-f698-fbf3"
      },
      {
       "current": "88938e84-2bba-11ee-987e-0242ac110002-5-3171-5312-d533-9523-b657",
       "next": "88938f38-2bba-11ee-987e-0242ac110002-4-084b-1d1b-625a-b077",
       "previous": "88938d44-2bba-11ee-987e-0242ac110002-4-a36c-f698-fbf3-1464"
      },
      {
       "current": "88938e84-2bba-11ee-987e-0242ac110002-6-3171-5312-d533-9523-b657-4c4b",
       "next": "88938f38-2bba-11ee-987e-0242ac110002-5-084b-1d1b-625a-b077-06f0",
       "previous": "88938d44-2bba-11ee-987e-0242ac110002-5-a36c-f698-fbf3-1464-53c6"
      },
      {
       "current": "88938e84-2bba-11ee-987e-0242ac110002-7-3171-5312-d533-9523-b657-4c4b-09dd",
       "next": "88938f38-2bba-11ee-987e-0242ac110002-6-084b-1d1b-625a-b077-06f0-fb3a",
       "previous": "88938d44-2bba-11ee-987e-0242ac110002-6-a36c-f698-fbf3-1464-53c6-fe9d"
      }
     ],
     "next": "88938f38-2bba-11ee-987e-0242ac110002-7-084b-1d1b-625a-b077-06f0-fb3a-ff82",
     "previous": "88938d44-2bba-11ee-987e-0242ac110002-7-a36c-f698-fbf3-1464-53c6-fe9d-e86b"
    }
   },
   "source": [
    "### managerノード"
   ]
  },
  {
   "cell_type": "markdown",
   "metadata": {
    "hidden": true,
    "lc_cell_meme": {
     "current": "88938f38-2bba-11ee-987e-0242ac110002-7-084b-1d1b-625a-b077-06f0-fb3a-ff82",
     "history": [
      {
       "current": "88938f38-2bba-11ee-987e-0242ac110002-1-084b",
       "next": "88938fd8-2bba-11ee-987e-0242ac110002",
       "previous": "88938e84-2bba-11ee-987e-0242ac110002"
      },
      {
       "current": "88938f38-2bba-11ee-987e-0242ac110002-2-084b-1d1b",
       "next": "88938fd8-2bba-11ee-987e-0242ac110002-1-2a6f",
       "previous": "88938e84-2bba-11ee-987e-0242ac110002-1-3171"
      },
      {
       "current": "88938f38-2bba-11ee-987e-0242ac110002-3-084b-1d1b-625a",
       "next": "88938fd8-2bba-11ee-987e-0242ac110002-2-2a6f-f2e3",
       "previous": "88938e84-2bba-11ee-987e-0242ac110002-2-3171-5312"
      },
      {
       "current": "88938f38-2bba-11ee-987e-0242ac110002-4-084b-1d1b-625a-b077",
       "next": "88938fd8-2bba-11ee-987e-0242ac110002-3-2a6f-f2e3-4924",
       "previous": "88938e84-2bba-11ee-987e-0242ac110002-3-3171-5312-d533"
      },
      {
       "current": "88938f38-2bba-11ee-987e-0242ac110002-5-084b-1d1b-625a-b077-06f0",
       "next": "88938fd8-2bba-11ee-987e-0242ac110002-4-2a6f-f2e3-4924-8a68",
       "previous": "88938e84-2bba-11ee-987e-0242ac110002-4-3171-5312-d533-9523"
      },
      {
       "current": "88938f38-2bba-11ee-987e-0242ac110002-6-084b-1d1b-625a-b077-06f0-fb3a",
       "next": "88938fd8-2bba-11ee-987e-0242ac110002-5-2a6f-f2e3-4924-8a68-42ca",
       "previous": "88938e84-2bba-11ee-987e-0242ac110002-5-3171-5312-d533-9523-b657"
      },
      {
       "current": "88938f38-2bba-11ee-987e-0242ac110002-7-084b-1d1b-625a-b077-06f0-fb3a-ff82",
       "next": "88938fd8-2bba-11ee-987e-0242ac110002-6-2a6f-f2e3-4924-8a68-42ca-242d",
       "previous": "88938e84-2bba-11ee-987e-0242ac110002-6-3171-5312-d533-9523-b657-4c4b"
      }
     ],
     "next": "88938fd8-2bba-11ee-987e-0242ac110002-7-2a6f-f2e3-4924-8a68-42ca-242d-b180",
     "previous": "88938e84-2bba-11ee-987e-0242ac110002-7-3171-5312-d533-9523-b657-4c4b-09dd"
    }
   },
   "source": [
    "#### manager用のVCノードを起動する"
   ]
  },
  {
   "cell_type": "markdown",
   "metadata": {
    "hidden": true,
    "lc_cell_meme": {
     "current": "88938fd8-2bba-11ee-987e-0242ac110002-7-2a6f-f2e3-4924-8a68-42ca-242d-b180",
     "history": [
      {
       "current": "88938fd8-2bba-11ee-987e-0242ac110002-1-2a6f",
       "next": "88939078-2bba-11ee-987e-0242ac110002",
       "previous": "88938f38-2bba-11ee-987e-0242ac110002"
      },
      {
       "current": "88938fd8-2bba-11ee-987e-0242ac110002-2-2a6f-f2e3",
       "next": "88939078-2bba-11ee-987e-0242ac110002-1-7d37",
       "previous": "88938f38-2bba-11ee-987e-0242ac110002-1-084b"
      },
      {
       "current": "88938fd8-2bba-11ee-987e-0242ac110002-3-2a6f-f2e3-4924",
       "next": "88939078-2bba-11ee-987e-0242ac110002-2-7d37-7570",
       "previous": "88938f38-2bba-11ee-987e-0242ac110002-2-084b-1d1b"
      },
      {
       "current": "88938fd8-2bba-11ee-987e-0242ac110002-4-2a6f-f2e3-4924-8a68",
       "next": "88939078-2bba-11ee-987e-0242ac110002-3-7d37-7570-cf81",
       "previous": "88938f38-2bba-11ee-987e-0242ac110002-3-084b-1d1b-625a"
      },
      {
       "current": "88938fd8-2bba-11ee-987e-0242ac110002-5-2a6f-f2e3-4924-8a68-42ca",
       "next": "88939078-2bba-11ee-987e-0242ac110002-4-7d37-7570-cf81-ea0e",
       "previous": "88938f38-2bba-11ee-987e-0242ac110002-4-084b-1d1b-625a-b077"
      },
      {
       "current": "88938fd8-2bba-11ee-987e-0242ac110002-6-2a6f-f2e3-4924-8a68-42ca-242d",
       "next": "88939078-2bba-11ee-987e-0242ac110002-5-7d37-7570-cf81-ea0e-007b",
       "previous": "88938f38-2bba-11ee-987e-0242ac110002-5-084b-1d1b-625a-b077-06f0"
      },
      {
       "current": "88938fd8-2bba-11ee-987e-0242ac110002-7-2a6f-f2e3-4924-8a68-42ca-242d-b180",
       "next": "88939078-2bba-11ee-987e-0242ac110002-6-7d37-7570-cf81-ea0e-007b-aeed",
       "previous": "88938f38-2bba-11ee-987e-0242ac110002-6-084b-1d1b-625a-b077-06f0-fb3a"
      }
     ],
     "next": "88939078-2bba-11ee-987e-0242ac110002-7-7d37-7570-cf81-ea0e-007b-aeed-7cd5",
     "previous": "88938f38-2bba-11ee-987e-0242ac110002-7-084b-1d1b-625a-b077-06f0-fb3a-ff82"
    }
   },
   "source": [
    "manager用VCノードの `spec` を指定します。"
   ]
  },
  {
   "cell_type": "code",
   "execution_count": null,
   "metadata": {
    "hidden": true,
    "lc_cell_meme": {
     "current": "88939078-2bba-11ee-987e-0242ac110002-7-7d37-7570-cf81-ea0e-007b-aeed-7cd5",
     "history": [
      {
       "current": "88939078-2bba-11ee-987e-0242ac110002-1-7d37",
       "next": "8893912c-2bba-11ee-987e-0242ac110002",
       "previous": "88938fd8-2bba-11ee-987e-0242ac110002"
      },
      {
       "current": "88939078-2bba-11ee-987e-0242ac110002-2-7d37-7570",
       "next": "8893912c-2bba-11ee-987e-0242ac110002-1-4d13",
       "previous": "88938fd8-2bba-11ee-987e-0242ac110002-1-2a6f"
      },
      {
       "current": "88939078-2bba-11ee-987e-0242ac110002-3-7d37-7570-cf81",
       "next": "8893912c-2bba-11ee-987e-0242ac110002-2-4d13-c1ff",
       "previous": "88938fd8-2bba-11ee-987e-0242ac110002-2-2a6f-f2e3"
      },
      {
       "current": "88939078-2bba-11ee-987e-0242ac110002-4-7d37-7570-cf81-ea0e",
       "next": "8893912c-2bba-11ee-987e-0242ac110002-3-4d13-c1ff-80c6",
       "previous": "88938fd8-2bba-11ee-987e-0242ac110002-3-2a6f-f2e3-4924"
      },
      {
       "current": "88939078-2bba-11ee-987e-0242ac110002-5-7d37-7570-cf81-ea0e-007b",
       "next": "8893912c-2bba-11ee-987e-0242ac110002-4-4d13-c1ff-80c6-8a53",
       "previous": "88938fd8-2bba-11ee-987e-0242ac110002-4-2a6f-f2e3-4924-8a68"
      },
      {
       "current": "88939078-2bba-11ee-987e-0242ac110002-6-7d37-7570-cf81-ea0e-007b-aeed",
       "next": "8893912c-2bba-11ee-987e-0242ac110002-5-4d13-c1ff-80c6-8a53-555d",
       "previous": "88938fd8-2bba-11ee-987e-0242ac110002-5-2a6f-f2e3-4924-8a68-42ca"
      },
      {
       "current": "88939078-2bba-11ee-987e-0242ac110002-7-7d37-7570-cf81-ea0e-007b-aeed-7cd5",
       "next": "8893912c-2bba-11ee-987e-0242ac110002-6-4d13-c1ff-80c6-8a53-555d-b40a",
       "previous": "88938fd8-2bba-11ee-987e-0242ac110002-6-2a6f-f2e3-4924-8a68-42ca-242d"
      }
     ],
     "next": "8893912c-2bba-11ee-987e-0242ac110002-7-4d13-c1ff-80c6-8a53-555d-b40a-4001",
     "previous": "88938fd8-2bba-11ee-987e-0242ac110002-7-2a6f-f2e3-4924-8a68-42ca-242d-b180"
    },
    "lc_wrapper": {
     "log_history": [
      "/notebooks/notebook/work_terayama/yjupyterhub/work/.log/20230726/20230726-225120-0524.log",
      "/notebooks/notebook/work_terayama/yjupyterhub/work/.log/20230726/20230726-232028-0638.log",
      "/notebooks/notebook/work_terayama/yjupyterhub/work/.log/20230726/20230726-234538-0258.log",
      "/notebooks/notebook/work_terayama/yjupyterhub/work/.log/20230727/20230727-001510-0375.log",
      "/notebooks/notebook/work_terayama/yjupyterhub/work/.log/20230727/20230727-003849-0341.log",
      "/notebooks/notebook/work_terayama/yjupyterhub/work/.log/20230727/20230727-120539-0121.log",
      "/notebooks/notebook/work_terayama/yjupyterhub/work/.log/20230727/20230727-122309-0639.log",
      "/notebooks/notebook/work_terayama/yjupyterhub/work/.log/20230727/20230727-132049-0295.log",
      "/notebooks/notebook/work_terayama/yjupyterhub/work/.log/20230727/20230727-135735-0186.log",
      "/notebooks/notebook/work_terayama/yjupyterhub/work/.log/20230801/20230801-150652-0910.log",
      "/notebooks/notebook/yamaguchi-hub/work/.log/20240517/20240517-161852-0425.log",
      "/notebooks/notebook/yamaguchi-hub/handon001/.log/20240520/20240520-155139-0113.log"
     ]
    },
    "tags": [
     "vcp:rewrite:container_image"
    ]
   },
   "outputs": [],
   "source": [
    "import sys\n",
    "%run scripts/group.py\n",
    "gvars = load_group_vars(ugroup_name)\n",
    "spec_mgr = vcp.get_spec(gvars['vc_provider'], gvars['manager_flavor'])\n",
    "\n",
    "# Baseコンテナイメージを指定する\n",
    "spec_mgr.image = 'harbor.vcloud.nii.ac.jp/vcp/coursewarehub:base-nfsd'\n",
    "spec_mgr.params_v = [\n",
    "    '/sys/fs/cgroup:/sys/fs/cgroup:ro',\n",
    "    '/lib/modules:/lib/modules:ro',\n",
    "]\n",
    "\n",
    "if 'vc_ipaddress' in gvars:\n",
    "    # manager用VCノードに割り当てるIPアドレスを指定する\n",
    "    spec_mgr.ip_addresses = [gvars['vc_ipaddress']]\n",
    "elif 'vc_mac_addresses' in gvars:\n",
    "    # manager用VCノードに割り当てるMACアドレスを指定する\n",
    "    spec_mgr.mac_addresses = [gvars['vc_mac_address']]\n",
    "    \n",
    "# ルートボリュームサイズを指定する\n",
    "if vc_provider == 'aws':\n",
    "    spec_mgr.volume_size = gvars['manager_disk_size']\n",
    "elif vc_provider == 'azure':\n",
    "    spec_mgr.disk_size_gb = gvars['manager_disk_size']\n",
    "else:\n",
    "    print('This provider does not support the specification of the root volume size.' +\n",
    "          ' Does not set the disk size.', file=sys.stderr)\n",
    "\n",
    "# オンプレミスに構築する場合、SSHログインユーザ名を指定\n",
    "if vc_provider == 'onpremises':\n",
    "    spec_mgr.user_name = ssh_user\n",
    "\n",
    "# VCノードにsshでログインするための公開鍵を指定する\n",
    "spec_mgr.set_ssh_pubkey(gvars['ssh_public_key_path'])\n",
    "spec_mgr.params_e.append(f\"UGROUP_NAME={ugroup_name}\")\n",
    "\n",
    "if 'ug_disk' in vars():\n",
    "    spec_mgr.disks = ug_disk.find_nodes()\n",
    "    if len(spec_mgr.disks) > 0:\n",
    "        spec_mgr.params_e.append(\"NFS_MKFS=yes\")\n",
    "else:\n",
    "    spec_mgr.params_v.append('/exported:/exported')"
   ]
  },
  {
   "cell_type": "markdown",
   "metadata": {
    "hidden": true,
    "lc_cell_meme": {
     "current": "8893912c-2bba-11ee-987e-0242ac110002-7-4d13-c1ff-80c6-8a53-555d-b40a-4001",
     "history": [
      {
       "current": "8893912c-2bba-11ee-987e-0242ac110002-1-4d13",
       "next": "889391cc-2bba-11ee-987e-0242ac110002",
       "previous": "88939078-2bba-11ee-987e-0242ac110002"
      },
      {
       "current": "8893912c-2bba-11ee-987e-0242ac110002-2-4d13-c1ff",
       "next": "889391cc-2bba-11ee-987e-0242ac110002-1-bec4",
       "previous": "88939078-2bba-11ee-987e-0242ac110002-1-7d37"
      },
      {
       "current": "8893912c-2bba-11ee-987e-0242ac110002-3-4d13-c1ff-80c6",
       "next": "889391cc-2bba-11ee-987e-0242ac110002-2-bec4-6df0",
       "previous": "88939078-2bba-11ee-987e-0242ac110002-2-7d37-7570"
      },
      {
       "current": "8893912c-2bba-11ee-987e-0242ac110002-4-4d13-c1ff-80c6-8a53",
       "next": "889391cc-2bba-11ee-987e-0242ac110002-3-bec4-6df0-953d",
       "previous": "88939078-2bba-11ee-987e-0242ac110002-3-7d37-7570-cf81"
      },
      {
       "current": "8893912c-2bba-11ee-987e-0242ac110002-5-4d13-c1ff-80c6-8a53-555d",
       "next": "889391cc-2bba-11ee-987e-0242ac110002-4-bec4-6df0-953d-063a",
       "previous": "88939078-2bba-11ee-987e-0242ac110002-4-7d37-7570-cf81-ea0e"
      },
      {
       "current": "8893912c-2bba-11ee-987e-0242ac110002-6-4d13-c1ff-80c6-8a53-555d-b40a",
       "next": "889391cc-2bba-11ee-987e-0242ac110002-5-bec4-6df0-953d-063a-910a",
       "previous": "88939078-2bba-11ee-987e-0242ac110002-5-7d37-7570-cf81-ea0e-007b"
      },
      {
       "current": "8893912c-2bba-11ee-987e-0242ac110002-7-4d13-c1ff-80c6-8a53-555d-b40a-4001",
       "next": "889391cc-2bba-11ee-987e-0242ac110002-6-bec4-6df0-953d-063a-910a-34d6",
       "previous": "88939078-2bba-11ee-987e-0242ac110002-6-7d37-7570-cf81-ea0e-007b-aeed"
      }
     ],
     "next": "889391cc-2bba-11ee-987e-0242ac110002-7-bec4-6df0-953d-063a-910a-34d6-30c9",
     "previous": "88939078-2bba-11ee-987e-0242ac110002-7-7d37-7570-cf81-ea0e-007b-aeed-7cd5"
    }
   },
   "source": [
    "`spec` の設定値を確認します。"
   ]
  },
  {
   "cell_type": "code",
   "execution_count": null,
   "metadata": {
    "hidden": true,
    "lc_cell_meme": {
     "current": "889391cc-2bba-11ee-987e-0242ac110002-7-bec4-6df0-953d-063a-910a-34d6-30c9",
     "history": [
      {
       "current": "889391cc-2bba-11ee-987e-0242ac110002-1-bec4",
       "next": "88939276-2bba-11ee-987e-0242ac110002",
       "previous": "8893912c-2bba-11ee-987e-0242ac110002"
      },
      {
       "current": "889391cc-2bba-11ee-987e-0242ac110002-2-bec4-6df0",
       "next": "88939276-2bba-11ee-987e-0242ac110002-1-a9cf",
       "previous": "8893912c-2bba-11ee-987e-0242ac110002-1-4d13"
      },
      {
       "current": "889391cc-2bba-11ee-987e-0242ac110002-3-bec4-6df0-953d",
       "next": "88939276-2bba-11ee-987e-0242ac110002-2-a9cf-442c",
       "previous": "8893912c-2bba-11ee-987e-0242ac110002-2-4d13-c1ff"
      },
      {
       "current": "889391cc-2bba-11ee-987e-0242ac110002-4-bec4-6df0-953d-063a",
       "next": "88939276-2bba-11ee-987e-0242ac110002-3-a9cf-442c-ca6a",
       "previous": "8893912c-2bba-11ee-987e-0242ac110002-3-4d13-c1ff-80c6"
      },
      {
       "current": "889391cc-2bba-11ee-987e-0242ac110002-5-bec4-6df0-953d-063a-910a",
       "next": "88939276-2bba-11ee-987e-0242ac110002-4-a9cf-442c-ca6a-d6fc",
       "previous": "8893912c-2bba-11ee-987e-0242ac110002-4-4d13-c1ff-80c6-8a53"
      },
      {
       "current": "889391cc-2bba-11ee-987e-0242ac110002-6-bec4-6df0-953d-063a-910a-34d6",
       "next": "88939276-2bba-11ee-987e-0242ac110002-5-a9cf-442c-ca6a-d6fc-8842",
       "previous": "8893912c-2bba-11ee-987e-0242ac110002-5-4d13-c1ff-80c6-8a53-555d"
      },
      {
       "current": "889391cc-2bba-11ee-987e-0242ac110002-7-bec4-6df0-953d-063a-910a-34d6-30c9",
       "next": "88939276-2bba-11ee-987e-0242ac110002-6-a9cf-442c-ca6a-d6fc-8842-f5aa",
       "previous": "8893912c-2bba-11ee-987e-0242ac110002-6-4d13-c1ff-80c6-8a53-555d-b40a"
      }
     ],
     "next": "88939276-2bba-11ee-987e-0242ac110002-7-a9cf-442c-ca6a-d6fc-8842-f5aa-3373",
     "previous": "8893912c-2bba-11ee-987e-0242ac110002-7-4d13-c1ff-80c6-8a53-555d-b40a-4001"
    },
    "lc_wrapper": {
     "log_history": [
      "/notebooks/notebook/work_terayama/yjupyterhub/work/.log/20230726/20230726-225120-0848.log",
      "/notebooks/notebook/work_terayama/yjupyterhub/work/.log/20230726/20230726-232028-0948.log",
      "/notebooks/notebook/work_terayama/yjupyterhub/work/.log/20230726/20230726-234538-0578.log",
      "/notebooks/notebook/work_terayama/yjupyterhub/work/.log/20230727/20230727-001510-0698.log",
      "/notebooks/notebook/work_terayama/yjupyterhub/work/.log/20230727/20230727-003849-0652.log",
      "/notebooks/notebook/work_terayama/yjupyterhub/work/.log/20230727/20230727-120539-0448.log",
      "/notebooks/notebook/work_terayama/yjupyterhub/work/.log/20230727/20230727-122309-0970.log",
      "/notebooks/notebook/work_terayama/yjupyterhub/work/.log/20230727/20230727-132049-0616.log",
      "/notebooks/notebook/work_terayama/yjupyterhub/work/.log/20230727/20230727-135735-0509.log",
      "/notebooks/notebook/work_terayama/yjupyterhub/work/.log/20230801/20230801-150653-0245.log",
      "/notebooks/notebook/yamaguchi-hub/work/.log/20240517/20240517-161852-0697.log",
      "/notebooks/notebook/yamaguchi-hub/handon001/.log/20240520/20240520-155139-0310.log"
     ]
    },
    "scrolled": false
   },
   "outputs": [],
   "source": [
    "print(spec_mgr)"
   ]
  },
  {
   "cell_type": "markdown",
   "metadata": {
    "hidden": true,
    "lc_cell_meme": {
     "current": "88939276-2bba-11ee-987e-0242ac110002-7-a9cf-442c-ca6a-d6fc-8842-f5aa-3373",
     "history": [
      {
       "current": "88939276-2bba-11ee-987e-0242ac110002-1-a9cf",
       "next": "88939316-2bba-11ee-987e-0242ac110002",
       "previous": "889391cc-2bba-11ee-987e-0242ac110002"
      },
      {
       "current": "88939276-2bba-11ee-987e-0242ac110002-2-a9cf-442c",
       "next": "88939316-2bba-11ee-987e-0242ac110002-1-07a2",
       "previous": "889391cc-2bba-11ee-987e-0242ac110002-1-bec4"
      },
      {
       "current": "88939276-2bba-11ee-987e-0242ac110002-3-a9cf-442c-ca6a",
       "next": "88939316-2bba-11ee-987e-0242ac110002-2-07a2-5abd",
       "previous": "889391cc-2bba-11ee-987e-0242ac110002-2-bec4-6df0"
      },
      {
       "current": "88939276-2bba-11ee-987e-0242ac110002-4-a9cf-442c-ca6a-d6fc",
       "next": "88939316-2bba-11ee-987e-0242ac110002-3-07a2-5abd-f6fc",
       "previous": "889391cc-2bba-11ee-987e-0242ac110002-3-bec4-6df0-953d"
      },
      {
       "current": "88939276-2bba-11ee-987e-0242ac110002-5-a9cf-442c-ca6a-d6fc-8842",
       "next": "88939316-2bba-11ee-987e-0242ac110002-4-07a2-5abd-f6fc-5460",
       "previous": "889391cc-2bba-11ee-987e-0242ac110002-4-bec4-6df0-953d-063a"
      },
      {
       "current": "88939276-2bba-11ee-987e-0242ac110002-6-a9cf-442c-ca6a-d6fc-8842-f5aa",
       "next": "88939316-2bba-11ee-987e-0242ac110002-5-07a2-5abd-f6fc-5460-6488",
       "previous": "889391cc-2bba-11ee-987e-0242ac110002-5-bec4-6df0-953d-063a-910a"
      },
      {
       "current": "88939276-2bba-11ee-987e-0242ac110002-7-a9cf-442c-ca6a-d6fc-8842-f5aa-3373",
       "next": "88939316-2bba-11ee-987e-0242ac110002-6-07a2-5abd-f6fc-5460-6488-e14f",
       "previous": "889391cc-2bba-11ee-987e-0242ac110002-6-bec4-6df0-953d-063a-910a-34d6"
      }
     ],
     "next": "88939316-2bba-11ee-987e-0242ac110002-7-07a2-5abd-f6fc-5460-6488-e14f-6919",
     "previous": "889391cc-2bba-11ee-987e-0242ac110002-7-bec4-6df0-953d-063a-910a-34d6-30c9"
    }
   },
   "source": [
    "UnitGroupを作成します。"
   ]
  },
  {
   "cell_type": "code",
   "execution_count": null,
   "metadata": {
    "hidden": true,
    "lc_cell_meme": {
     "current": "88939316-2bba-11ee-987e-0242ac110002-7-07a2-5abd-f6fc-5460-6488-e14f-6919",
     "history": [
      {
       "current": "88939316-2bba-11ee-987e-0242ac110002-1-07a2",
       "next": "889393c0-2bba-11ee-987e-0242ac110002",
       "previous": "88939276-2bba-11ee-987e-0242ac110002"
      },
      {
       "current": "88939316-2bba-11ee-987e-0242ac110002-2-07a2-5abd",
       "next": "889393c0-2bba-11ee-987e-0242ac110002-1-4fcb",
       "previous": "88939276-2bba-11ee-987e-0242ac110002-1-a9cf"
      },
      {
       "current": "88939316-2bba-11ee-987e-0242ac110002-3-07a2-5abd-f6fc",
       "next": "889393c0-2bba-11ee-987e-0242ac110002-2-4fcb-9e87",
       "previous": "88939276-2bba-11ee-987e-0242ac110002-2-a9cf-442c"
      },
      {
       "current": "88939316-2bba-11ee-987e-0242ac110002-4-07a2-5abd-f6fc-5460",
       "next": "889393c0-2bba-11ee-987e-0242ac110002-3-4fcb-9e87-c72e",
       "previous": "88939276-2bba-11ee-987e-0242ac110002-3-a9cf-442c-ca6a"
      },
      {
       "current": "88939316-2bba-11ee-987e-0242ac110002-5-07a2-5abd-f6fc-5460-6488",
       "next": "889393c0-2bba-11ee-987e-0242ac110002-4-4fcb-9e87-c72e-dfaf",
       "previous": "88939276-2bba-11ee-987e-0242ac110002-4-a9cf-442c-ca6a-d6fc"
      },
      {
       "current": "88939316-2bba-11ee-987e-0242ac110002-6-07a2-5abd-f6fc-5460-6488-e14f",
       "next": "889393c0-2bba-11ee-987e-0242ac110002-5-4fcb-9e87-c72e-dfaf-5548",
       "previous": "88939276-2bba-11ee-987e-0242ac110002-5-a9cf-442c-ca6a-d6fc-8842"
      },
      {
       "current": "88939316-2bba-11ee-987e-0242ac110002-7-07a2-5abd-f6fc-5460-6488-e14f-6919",
       "next": "889393c0-2bba-11ee-987e-0242ac110002-6-4fcb-9e87-c72e-dfaf-5548-6fe9",
       "previous": "88939276-2bba-11ee-987e-0242ac110002-6-a9cf-442c-ca6a-d6fc-8842-f5aa"
      }
     ],
     "next": "889393c0-2bba-11ee-987e-0242ac110002-7-4fcb-9e87-c72e-dfaf-5548-6fe9-63cb",
     "previous": "88939276-2bba-11ee-987e-0242ac110002-7-a9cf-442c-ca6a-d6fc-8842-f5aa-3373"
    },
    "lc_wrapper": {
     "log_history": [
      "/notebooks/notebook/work_terayama/yjupyterhub/work/.log/20230726/20230726-225120-0864.log",
      "/notebooks/notebook/work_terayama/yjupyterhub/work/.log/20230726/20230726-232028-0961.log",
      "/notebooks/notebook/work_terayama/yjupyterhub/work/.log/20230726/20230726-234538-0594.log",
      "/notebooks/notebook/work_terayama/yjupyterhub/work/.log/20230727/20230727-001510-0710.log",
      "/notebooks/notebook/work_terayama/yjupyterhub/work/.log/20230727/20230727-003849-0666.log",
      "/notebooks/notebook/work_terayama/yjupyterhub/work/.log/20230727/20230727-120539-0465.log",
      "/notebooks/notebook/work_terayama/yjupyterhub/work/.log/20230727/20230727-122309-0984.log",
      "/notebooks/notebook/work_terayama/yjupyterhub/work/.log/20230727/20230727-132049-0627.log",
      "/notebooks/notebook/work_terayama/yjupyterhub/work/.log/20230727/20230727-135735-0523.log",
      "/notebooks/notebook/work_terayama/yjupyterhub/work/.log/20230801/20230801-150653-0259.log",
      "/notebooks/notebook/yamaguchi-hub/work/.log/20240517/20240517-161852-0906.log",
      "/notebooks/notebook/yamaguchi-hub/handon001/.log/20240520/20240520-155139-0320.log"
     ]
    }
   },
   "outputs": [],
   "source": [
    "ugroup = vcp.create_ugroup(ugroup_name)"
   ]
  },
  {
   "cell_type": "markdown",
   "metadata": {
    "hidden": true,
    "lc_cell_meme": {
     "current": "889393c0-2bba-11ee-987e-0242ac110002-7-4fcb-9e87-c72e-dfaf-5548-6fe9-63cb",
     "history": [
      {
       "current": "889393c0-2bba-11ee-987e-0242ac110002-1-4fcb",
       "next": "88939460-2bba-11ee-987e-0242ac110002",
       "previous": "88939316-2bba-11ee-987e-0242ac110002"
      },
      {
       "current": "889393c0-2bba-11ee-987e-0242ac110002-2-4fcb-9e87",
       "next": "88939460-2bba-11ee-987e-0242ac110002-1-f1c2",
       "previous": "88939316-2bba-11ee-987e-0242ac110002-1-07a2"
      },
      {
       "current": "889393c0-2bba-11ee-987e-0242ac110002-3-4fcb-9e87-c72e",
       "next": "88939460-2bba-11ee-987e-0242ac110002-2-f1c2-54da",
       "previous": "88939316-2bba-11ee-987e-0242ac110002-2-07a2-5abd"
      },
      {
       "current": "889393c0-2bba-11ee-987e-0242ac110002-4-4fcb-9e87-c72e-dfaf",
       "next": "88939460-2bba-11ee-987e-0242ac110002-3-f1c2-54da-0d5c",
       "previous": "88939316-2bba-11ee-987e-0242ac110002-3-07a2-5abd-f6fc"
      },
      {
       "current": "889393c0-2bba-11ee-987e-0242ac110002-5-4fcb-9e87-c72e-dfaf-5548",
       "next": "88939460-2bba-11ee-987e-0242ac110002-4-f1c2-54da-0d5c-73c5",
       "previous": "88939316-2bba-11ee-987e-0242ac110002-4-07a2-5abd-f6fc-5460"
      },
      {
       "current": "889393c0-2bba-11ee-987e-0242ac110002-6-4fcb-9e87-c72e-dfaf-5548-6fe9",
       "next": "88939460-2bba-11ee-987e-0242ac110002-5-f1c2-54da-0d5c-73c5-bc14",
       "previous": "88939316-2bba-11ee-987e-0242ac110002-5-07a2-5abd-f6fc-5460-6488"
      },
      {
       "current": "889393c0-2bba-11ee-987e-0242ac110002-7-4fcb-9e87-c72e-dfaf-5548-6fe9-63cb",
       "next": "88939460-2bba-11ee-987e-0242ac110002-6-f1c2-54da-0d5c-73c5-bc14-a5c5",
       "previous": "88939316-2bba-11ee-987e-0242ac110002-6-07a2-5abd-f6fc-5460-6488-e14f"
      }
     ],
     "next": "88939460-2bba-11ee-987e-0242ac110002-7-f1c2-54da-0d5c-73c5-bc14-a5c5-ecce",
     "previous": "88939316-2bba-11ee-987e-0242ac110002-7-07a2-5abd-f6fc-5460-6488-e14f-6919"
    }
   },
   "source": [
    "manager用VCノードを起動します。"
   ]
  },
  {
   "cell_type": "code",
   "execution_count": null,
   "metadata": {
    "hidden": true,
    "lc_cell_meme": {
     "current": "88939460-2bba-11ee-987e-0242ac110002-7-f1c2-54da-0d5c-73c5-bc14-a5c5-ecce",
     "history": [
      {
       "current": "88939460-2bba-11ee-987e-0242ac110002-1-f1c2",
       "next": "88939500-2bba-11ee-987e-0242ac110002",
       "previous": "889393c0-2bba-11ee-987e-0242ac110002"
      },
      {
       "current": "88939460-2bba-11ee-987e-0242ac110002-2-f1c2-54da",
       "next": "88939500-2bba-11ee-987e-0242ac110002-1-fb03",
       "previous": "889393c0-2bba-11ee-987e-0242ac110002-1-4fcb"
      },
      {
       "current": "88939460-2bba-11ee-987e-0242ac110002-3-f1c2-54da-0d5c",
       "next": "88939500-2bba-11ee-987e-0242ac110002-2-fb03-406a",
       "previous": "889393c0-2bba-11ee-987e-0242ac110002-2-4fcb-9e87"
      },
      {
       "current": "88939460-2bba-11ee-987e-0242ac110002-4-f1c2-54da-0d5c-73c5",
       "next": "88939500-2bba-11ee-987e-0242ac110002-3-fb03-406a-140f",
       "previous": "889393c0-2bba-11ee-987e-0242ac110002-3-4fcb-9e87-c72e"
      },
      {
       "current": "88939460-2bba-11ee-987e-0242ac110002-5-f1c2-54da-0d5c-73c5-bc14",
       "next": "88939500-2bba-11ee-987e-0242ac110002-4-fb03-406a-140f-9967",
       "previous": "889393c0-2bba-11ee-987e-0242ac110002-4-4fcb-9e87-c72e-dfaf"
      },
      {
       "current": "88939460-2bba-11ee-987e-0242ac110002-6-f1c2-54da-0d5c-73c5-bc14-a5c5",
       "next": "88939500-2bba-11ee-987e-0242ac110002-5-fb03-406a-140f-9967-c45d",
       "previous": "889393c0-2bba-11ee-987e-0242ac110002-5-4fcb-9e87-c72e-dfaf-5548"
      },
      {
       "current": "88939460-2bba-11ee-987e-0242ac110002-7-f1c2-54da-0d5c-73c5-bc14-a5c5-ecce",
       "next": "88939500-2bba-11ee-987e-0242ac110002-6-fb03-406a-140f-9967-c45d-5150",
       "previous": "889393c0-2bba-11ee-987e-0242ac110002-6-4fcb-9e87-c72e-dfaf-5548-6fe9"
      }
     ],
     "next": "88939500-2bba-11ee-987e-0242ac110002-7-fb03-406a-140f-9967-c45d-5150-5412",
     "previous": "889393c0-2bba-11ee-987e-0242ac110002-7-4fcb-9e87-c72e-dfaf-5548-6fe9-63cb"
    },
    "lc_wrapper": {
     "log_history": [
      "/notebooks/notebook/work_terayama/yjupyterhub/work/.log/20230726/20230726-225150-0809.log",
      "/notebooks/notebook/work_terayama/yjupyterhub/work/.log/20230726/20230726-232058-0824.log",
      "/notebooks/notebook/work_terayama/yjupyterhub/work/.log/20230726/20230726-234608-0263.log",
      "/notebooks/notebook/work_terayama/yjupyterhub/work/.log/20230727/20230727-001540-0393.log",
      "/notebooks/notebook/work_terayama/yjupyterhub/work/.log/20230727/20230727-003919-0460.log",
      "/notebooks/notebook/work_terayama/yjupyterhub/work/.log/20230727/20230727-120609-0250.log",
      "/notebooks/notebook/work_terayama/yjupyterhub/work/.log/20230727/20230727-122339-0677.log",
      "/notebooks/notebook/work_terayama/yjupyterhub/work/.log/20230727/20230727-132119-0439.log",
      "/notebooks/notebook/work_terayama/yjupyterhub/work/.log/20230727/20230727-135805-0545.log",
      "/notebooks/notebook/work_terayama/yjupyterhub/work/.log/20230801/20230801-150723-0104.log",
      "/notebooks/notebook/yamaguchi-hub/work/.log/20240517/20240517-161854-0134.log",
      "/notebooks/notebook/yamaguchi-hub/handon001/.log/20240520/20240520-155140-0331.log"
     ]
    },
    "scrolled": true
   },
   "outputs": [],
   "source": [
    "unit_mgr = ugroup.create_unit('manager', spec_mgr)"
   ]
  },
  {
   "cell_type": "markdown",
   "metadata": {
    "hidden": true,
    "lc_cell_meme": {
     "current": "88939500-2bba-11ee-987e-0242ac110002-7-fb03-406a-140f-9967-c45d-5150-5412",
     "history": [
      {
       "current": "88939500-2bba-11ee-987e-0242ac110002-1-fb03",
       "next": "889395a0-2bba-11ee-987e-0242ac110002",
       "previous": "88939460-2bba-11ee-987e-0242ac110002"
      },
      {
       "current": "88939500-2bba-11ee-987e-0242ac110002-2-fb03-406a",
       "next": "889395a0-2bba-11ee-987e-0242ac110002-1-d73d",
       "previous": "88939460-2bba-11ee-987e-0242ac110002-1-f1c2"
      },
      {
       "current": "88939500-2bba-11ee-987e-0242ac110002-3-fb03-406a-140f",
       "next": "889395a0-2bba-11ee-987e-0242ac110002-2-d73d-f7c4",
       "previous": "88939460-2bba-11ee-987e-0242ac110002-2-f1c2-54da"
      },
      {
       "current": "88939500-2bba-11ee-987e-0242ac110002-4-fb03-406a-140f-9967",
       "next": "889395a0-2bba-11ee-987e-0242ac110002-3-d73d-f7c4-dcbb",
       "previous": "88939460-2bba-11ee-987e-0242ac110002-3-f1c2-54da-0d5c"
      },
      {
       "current": "88939500-2bba-11ee-987e-0242ac110002-5-fb03-406a-140f-9967-c45d",
       "next": "889395a0-2bba-11ee-987e-0242ac110002-4-d73d-f7c4-dcbb-fc9d",
       "previous": "88939460-2bba-11ee-987e-0242ac110002-4-f1c2-54da-0d5c-73c5"
      },
      {
       "current": "88939500-2bba-11ee-987e-0242ac110002-6-fb03-406a-140f-9967-c45d-5150",
       "next": "889395a0-2bba-11ee-987e-0242ac110002-5-d73d-f7c4-dcbb-fc9d-43d6",
       "previous": "88939460-2bba-11ee-987e-0242ac110002-5-f1c2-54da-0d5c-73c5-bc14"
      },
      {
       "current": "88939500-2bba-11ee-987e-0242ac110002-7-fb03-406a-140f-9967-c45d-5150-5412",
       "next": "889395a0-2bba-11ee-987e-0242ac110002-6-d73d-f7c4-dcbb-fc9d-43d6-612f",
       "previous": "88939460-2bba-11ee-987e-0242ac110002-6-f1c2-54da-0d5c-73c5-bc14-a5c5"
      }
     ],
     "next": "889395a0-2bba-11ee-987e-0242ac110002-7-d73d-f7c4-dcbb-fc9d-43d6-612f-c720",
     "previous": "88939460-2bba-11ee-987e-0242ac110002-7-f1c2-54da-0d5c-73c5-bc14-a5c5-ecce"
    }
   },
   "source": [
    "起動したVCノードの一覧を表示します。\n",
    "\n",
    "vcname:　本ノートブックで指定した、`UnitGroup`  \n",
    "unit_name:　`manager`"
   ]
  },
  {
   "cell_type": "code",
   "execution_count": null,
   "metadata": {
    "hidden": true,
    "lc_cell_meme": {
     "current": "889395a0-2bba-11ee-987e-0242ac110002-7-d73d-f7c4-dcbb-fc9d-43d6-612f-c720",
     "history": [
      {
       "current": "889395a0-2bba-11ee-987e-0242ac110002-1-d73d",
       "next": "88939640-2bba-11ee-987e-0242ac110002",
       "previous": "88939500-2bba-11ee-987e-0242ac110002"
      },
      {
       "current": "889395a0-2bba-11ee-987e-0242ac110002-2-d73d-f7c4",
       "next": "88939640-2bba-11ee-987e-0242ac110002-1-3d88",
       "previous": "88939500-2bba-11ee-987e-0242ac110002-1-fb03"
      },
      {
       "current": "889395a0-2bba-11ee-987e-0242ac110002-2-d73d-f7c4",
       "next": "88939640-2bba-11ee-987e-0242ac110002-2-3d88-f1f3",
       "previous": "88939500-2bba-11ee-987e-0242ac110002-2-fb03-406a"
      },
      {
       "current": "889395a0-2bba-11ee-987e-0242ac110002-2-d73d-f7c4",
       "next": "8893978a-2bba-11ee-987e-0242ac110002-2-2129-7647",
       "previous": "88939500-2bba-11ee-987e-0242ac110002-2-fb03-406a"
      },
      {
       "current": "889395a0-2bba-11ee-987e-0242ac110002-2-d73d-f7c4",
       "next": "8893982a-2bba-11ee-987e-0242ac110002-3-3675-5f2d-d625",
       "previous": "88939500-2bba-11ee-987e-0242ac110002-2-fb03-406a"
      },
      {
       "current": "889395a0-2bba-11ee-987e-0242ac110002-3-d73d-f7c4-dcbb",
       "next": "88939640-2bba-11ee-987e-0242ac110002-3-3d88-f1f3-d1f4",
       "previous": "88939500-2bba-11ee-987e-0242ac110002-2-fb03-406a"
      },
      {
       "current": "889395a0-2bba-11ee-987e-0242ac110002-4-d73d-f7c4-dcbb-fc9d",
       "next": "88939640-2bba-11ee-987e-0242ac110002-4-3d88-f1f3-d1f4-f8e6",
       "previous": "88939500-2bba-11ee-987e-0242ac110002-3-fb03-406a-140f"
      },
      {
       "current": "889395a0-2bba-11ee-987e-0242ac110002-5-d73d-f7c4-dcbb-fc9d-43d6",
       "next": "88939640-2bba-11ee-987e-0242ac110002-5-3d88-f1f3-d1f4-f8e6-3bd6",
       "previous": "88939500-2bba-11ee-987e-0242ac110002-4-fb03-406a-140f-9967"
      },
      {
       "current": "889395a0-2bba-11ee-987e-0242ac110002-6-d73d-f7c4-dcbb-fc9d-43d6-612f",
       "next": "88939640-2bba-11ee-987e-0242ac110002-6-3d88-f1f3-d1f4-f8e6-3bd6-e8b4",
       "previous": "88939500-2bba-11ee-987e-0242ac110002-5-fb03-406a-140f-9967-c45d"
      },
      {
       "current": "889395a0-2bba-11ee-987e-0242ac110002-7-d73d-f7c4-dcbb-fc9d-43d6-612f-c720",
       "next": "88939640-2bba-11ee-987e-0242ac110002-7-3d88-f1f3-d1f4-f8e6-3bd6-e8b4-59ec",
       "previous": "88939500-2bba-11ee-987e-0242ac110002-6-fb03-406a-140f-9967-c45d-5150"
      }
     ],
     "next": "88939640-2bba-11ee-987e-0242ac110002-8-3d88-f1f3-d1f4-f8e6-3bd6-e8b4-59ec-7f96",
     "previous": "88939500-2bba-11ee-987e-0242ac110002-7-fb03-406a-140f-9967-c45d-5150-5412"
    },
    "lc_wrapper": {
     "log_history": [
      "/notebooks/notebook/work_terayama/yjupyterhub/work/.log/20230726/20230726-225634-0765.log",
      "/notebooks/notebook/work_terayama/yjupyterhub/work/.log/20230726/20230726-232613-0246.log",
      "/notebooks/notebook/work_terayama/yjupyterhub/work/.log/20230726/20230726-235121-0824.log",
      "/notebooks/notebook/work_terayama/yjupyterhub/work/.log/20230727/20230727-002045-0167.log",
      "/notebooks/notebook/work_terayama/yjupyterhub/work/.log/20230727/20230727-004433-0773.log",
      "/notebooks/notebook/work_terayama/yjupyterhub/work/.log/20230727/20230727-121053-0657.log",
      "/notebooks/notebook/work_terayama/yjupyterhub/work/.log/20230727/20230727-122823-0520.log",
      "/notebooks/notebook/work_terayama/yjupyterhub/work/.log/20230727/20230727-132613-0973.log",
      "/notebooks/notebook/work_terayama/yjupyterhub/work/.log/20230727/20230727-140249-0531.log",
      "/notebooks/notebook/work_terayama/yjupyterhub/work/.log/20230801/20230801-151217-0416.log",
      "/notebooks/notebook/yamaguchi-hub/work/.log/20240517/20240517-161947-0380.log",
      "/notebooks/notebook/yamaguchi-hub/handon001/.log/20240520/20240520-155233-0443.log"
     ]
    }
   },
   "outputs": [],
   "source": [
    "unit_mgr.df_nodes()"
   ]
  },
  {
   "cell_type": "markdown",
   "metadata": {
    "hidden": true,
    "lc_cell_meme": {
     "current": "88939640-2bba-11ee-987e-0242ac110002-8-3d88-f1f3-d1f4-f8e6-3bd6-e8b4-59ec-7f96",
     "history": [
      {
       "current": "88939640-2bba-11ee-987e-0242ac110002-1-3d88",
       "next": "889396ea-2bba-11ee-987e-0242ac110002",
       "previous": "889395a0-2bba-11ee-987e-0242ac110002"
      },
      {
       "current": "88939640-2bba-11ee-987e-0242ac110002-2-3d88-f1f3",
       "next": "889396ea-2bba-11ee-987e-0242ac110002-1-af56",
       "previous": "889395a0-2bba-11ee-987e-0242ac110002-1-d73d"
      },
      {
       "current": "88939640-2bba-11ee-987e-0242ac110002-3-3d88-f1f3-d1f4",
       "next": "889396ea-2bba-11ee-987e-0242ac110002-2-af56-446e",
       "previous": "889395a0-2bba-11ee-987e-0242ac110002-2-d73d-f7c4"
      },
      {
       "current": "88939640-2bba-11ee-987e-0242ac110002-4-3d88-f1f3-d1f4-f8e6",
       "next": "889396ea-2bba-11ee-987e-0242ac110002-3-af56-446e-a18d",
       "previous": "889395a0-2bba-11ee-987e-0242ac110002-2-d73d-f7c4"
      },
      {
       "current": "88939640-2bba-11ee-987e-0242ac110002-5-3d88-f1f3-d1f4-f8e6-3bd6",
       "next": "889396ea-2bba-11ee-987e-0242ac110002-4-af56-446e-a18d-a1e2",
       "previous": "889395a0-2bba-11ee-987e-0242ac110002-3-d73d-f7c4-dcbb"
      },
      {
       "current": "88939640-2bba-11ee-987e-0242ac110002-6-3d88-f1f3-d1f4-f8e6-3bd6-e8b4",
       "next": "889396ea-2bba-11ee-987e-0242ac110002-5-af56-446e-a18d-a1e2-cb13",
       "previous": "889395a0-2bba-11ee-987e-0242ac110002-4-d73d-f7c4-dcbb-fc9d"
      },
      {
       "current": "88939640-2bba-11ee-987e-0242ac110002-7-3d88-f1f3-d1f4-f8e6-3bd6-e8b4-59ec",
       "next": "889396ea-2bba-11ee-987e-0242ac110002-6-af56-446e-a18d-a1e2-cb13-639f",
       "previous": "889395a0-2bba-11ee-987e-0242ac110002-5-d73d-f7c4-dcbb-fc9d-43d6"
      },
      {
       "current": "88939640-2bba-11ee-987e-0242ac110002-8-3d88-f1f3-d1f4-f8e6-3bd6-e8b4-59ec-7f96",
       "next": "889396ea-2bba-11ee-987e-0242ac110002-7-af56-446e-a18d-a1e2-cb13-639f-4455",
       "previous": "889395a0-2bba-11ee-987e-0242ac110002-6-d73d-f7c4-dcbb-fc9d-43d6-612f"
      }
     ],
     "next": "889396ea-2bba-11ee-987e-0242ac110002-8-af56-446e-a18d-a1e2-cb13-639f-4455-35af",
     "previous": "889395a0-2bba-11ee-987e-0242ac110002-7-d73d-f7c4-dcbb-fc9d-43d6-612f-c720"
    }
   },
   "source": [
    "VCノードのIPアドレスを変数`vc_ipaddress`に設定します。"
   ]
  },
  {
   "cell_type": "code",
   "execution_count": null,
   "metadata": {
    "hidden": true,
    "lc_cell_meme": {
     "current": "889396ea-2bba-11ee-987e-0242ac110002-8-af56-446e-a18d-a1e2-cb13-639f-4455-35af",
     "history": [
      {
       "current": "889396ea-2bba-11ee-987e-0242ac110002-1-af56",
       "next": "8893978a-2bba-11ee-987e-0242ac110002",
       "previous": "88939640-2bba-11ee-987e-0242ac110002"
      },
      {
       "current": "889396ea-2bba-11ee-987e-0242ac110002-2-af56-446e",
       "next": "8893978a-2bba-11ee-987e-0242ac110002-1-2129",
       "previous": "88939640-2bba-11ee-987e-0242ac110002-1-3d88"
      },
      {
       "current": "889396ea-2bba-11ee-987e-0242ac110002-3-af56-446e-a18d",
       "next": "8893978a-2bba-11ee-987e-0242ac110002-2-2129-7647",
       "previous": "88939640-2bba-11ee-987e-0242ac110002-2-3d88-f1f3"
      },
      {
       "current": "889396ea-2bba-11ee-987e-0242ac110002-4-af56-446e-a18d-a1e2",
       "next": "8893978a-2bba-11ee-987e-0242ac110002-3-2129-7647-8db9",
       "previous": "88939640-2bba-11ee-987e-0242ac110002-3-3d88-f1f3-d1f4"
      },
      {
       "current": "889396ea-2bba-11ee-987e-0242ac110002-5-af56-446e-a18d-a1e2-cb13",
       "next": "8893978a-2bba-11ee-987e-0242ac110002-4-2129-7647-8db9-8a1c",
       "previous": "88939640-2bba-11ee-987e-0242ac110002-4-3d88-f1f3-d1f4-f8e6"
      },
      {
       "current": "889396ea-2bba-11ee-987e-0242ac110002-6-af56-446e-a18d-a1e2-cb13-639f",
       "next": "8893978a-2bba-11ee-987e-0242ac110002-5-2129-7647-8db9-8a1c-2af5",
       "previous": "88939640-2bba-11ee-987e-0242ac110002-5-3d88-f1f3-d1f4-f8e6-3bd6"
      },
      {
       "current": "889396ea-2bba-11ee-987e-0242ac110002-7-af56-446e-a18d-a1e2-cb13-639f-4455",
       "next": "8893978a-2bba-11ee-987e-0242ac110002-6-2129-7647-8db9-8a1c-2af5-6895",
       "previous": "88939640-2bba-11ee-987e-0242ac110002-6-3d88-f1f3-d1f4-f8e6-3bd6-e8b4"
      },
      {
       "current": "889396ea-2bba-11ee-987e-0242ac110002-8-af56-446e-a18d-a1e2-cb13-639f-4455-35af",
       "next": "8893978a-2bba-11ee-987e-0242ac110002-7-2129-7647-8db9-8a1c-2af5-6895-aa7a",
       "previous": "88939640-2bba-11ee-987e-0242ac110002-7-3d88-f1f3-d1f4-f8e6-3bd6-e8b4-59ec"
      }
     ],
     "next": "8893978a-2bba-11ee-987e-0242ac110002-8-2129-7647-8db9-8a1c-2af5-6895-aa7a-5025",
     "previous": "88939640-2bba-11ee-987e-0242ac110002-8-3d88-f1f3-d1f4-f8e6-3bd6-e8b4-59ec-7f96"
    },
    "lc_wrapper": {
     "log_history": [
      "/notebooks/notebook/work_terayama/yjupyterhub/work/.log/20230726/20230726-225639-0673.log",
      "/notebooks/notebook/work_terayama/yjupyterhub/work/.log/20230726/20230726-232618-0154.log",
      "/notebooks/notebook/work_terayama/yjupyterhub/work/.log/20230726/20230726-235126-0736.log",
      "/notebooks/notebook/work_terayama/yjupyterhub/work/.log/20230727/20230727-002050-0106.log",
      "/notebooks/notebook/work_terayama/yjupyterhub/work/.log/20230727/20230727-004438-0716.log",
      "/notebooks/notebook/work_terayama/yjupyterhub/work/.log/20230727/20230727-121058-0535.log",
      "/notebooks/notebook/work_terayama/yjupyterhub/work/.log/20230727/20230727-122828-0361.log",
      "/notebooks/notebook/work_terayama/yjupyterhub/work/.log/20230727/20230727-132618-0939.log",
      "/notebooks/notebook/work_terayama/yjupyterhub/work/.log/20230727/20230727-140254-0505.log",
      "/notebooks/notebook/work_terayama/yjupyterhub/work/.log/20230801/20230801-151222-0457.log",
      "/notebooks/notebook/yamaguchi-hub/work/.log/20240517/20240517-161947-0520.log",
      "/notebooks/notebook/yamaguchi-hub/handon001/.log/20240520/20240520-155233-0661.log"
     ]
    }
   },
   "outputs": [],
   "source": [
    "vc_ipaddress = unit_mgr.find_ip_addresses()[0]\n",
    "print(vc_ipaddress)"
   ]
  },
  {
   "cell_type": "markdown",
   "metadata": {
    "hidden": true,
    "lc_cell_meme": {
     "current": "8893978a-2bba-11ee-987e-0242ac110002-8-2129-7647-8db9-8a1c-2af5-6895-aa7a-5025",
     "history": [
      {
       "current": "8893978a-2bba-11ee-987e-0242ac110002-1-2129",
       "next": "8893982a-2bba-11ee-987e-0242ac110002",
       "previous": "889396ea-2bba-11ee-987e-0242ac110002"
      },
      {
       "current": "8893978a-2bba-11ee-987e-0242ac110002-2-2129-7647",
       "next": "8893982a-2bba-11ee-987e-0242ac110002-1-3675",
       "previous": "889396ea-2bba-11ee-987e-0242ac110002-1-af56"
      },
      {
       "current": "8893978a-2bba-11ee-987e-0242ac110002-2-2129-7647",
       "next": "8893982a-2bba-11ee-987e-0242ac110002-2-3675-5f2d",
       "previous": "889396ea-2bba-11ee-987e-0242ac110002-2-af56-446e"
      },
      {
       "current": "8893978a-2bba-11ee-987e-0242ac110002-3-2129-7647-8db9",
       "next": "8893982a-2bba-11ee-987e-0242ac110002-2-3675-5f2d",
       "previous": "889395a0-2bba-11ee-987e-0242ac110002-2-d73d-f7c4"
      },
      {
       "current": "8893978a-2bba-11ee-987e-0242ac110002-4-2129-7647-8db9-8a1c",
       "next": "8893982a-2bba-11ee-987e-0242ac110002-3-3675-5f2d-d625",
       "previous": "889396ea-2bba-11ee-987e-0242ac110002-3-af56-446e-a18d"
      },
      {
       "current": "8893978a-2bba-11ee-987e-0242ac110002-5-2129-7647-8db9-8a1c-2af5",
       "next": "8893982a-2bba-11ee-987e-0242ac110002-4-3675-5f2d-d625-424a",
       "previous": "889396ea-2bba-11ee-987e-0242ac110002-4-af56-446e-a18d-a1e2"
      },
      {
       "current": "8893978a-2bba-11ee-987e-0242ac110002-6-2129-7647-8db9-8a1c-2af5-6895",
       "next": "8893982a-2bba-11ee-987e-0242ac110002-5-3675-5f2d-d625-424a-751a",
       "previous": "889396ea-2bba-11ee-987e-0242ac110002-5-af56-446e-a18d-a1e2-cb13"
      },
      {
       "current": "8893978a-2bba-11ee-987e-0242ac110002-7-2129-7647-8db9-8a1c-2af5-6895-aa7a",
       "next": "8893982a-2bba-11ee-987e-0242ac110002-6-3675-5f2d-d625-424a-751a-9f25",
       "previous": "889396ea-2bba-11ee-987e-0242ac110002-6-af56-446e-a18d-a1e2-cb13-639f"
      },
      {
       "current": "8893978a-2bba-11ee-987e-0242ac110002-8-2129-7647-8db9-8a1c-2af5-6895-aa7a-5025",
       "next": "8893982a-2bba-11ee-987e-0242ac110002-7-3675-5f2d-d625-424a-751a-9f25-7b1e",
       "previous": "889396ea-2bba-11ee-987e-0242ac110002-7-af56-446e-a18d-a1e2-cb13-639f-4455"
      }
     ],
     "next": "8893982a-2bba-11ee-987e-0242ac110002-8-3675-5f2d-d625-424a-751a-9f25-7b1e-3bf0",
     "previous": "889396ea-2bba-11ee-987e-0242ac110002-8-af56-446e-a18d-a1e2-cb13-639f-4455-35af"
    }
   },
   "source": [
    "`group_vars`ファイルにIPアドレスの値を記録します。"
   ]
  },
  {
   "cell_type": "code",
   "execution_count": null,
   "metadata": {
    "hidden": true,
    "lc_cell_meme": {
     "current": "8893982a-2bba-11ee-987e-0242ac110002-8-3675-5f2d-d625-424a-751a-9f25-7b1e-3bf0",
     "history": [
      {
       "current": "8893982a-2bba-11ee-987e-0242ac110002-1-3675",
       "next": "889398ca-2bba-11ee-987e-0242ac110002",
       "previous": "8893978a-2bba-11ee-987e-0242ac110002"
      },
      {
       "current": "8893982a-2bba-11ee-987e-0242ac110002-2-3675-5f2d",
       "next": "889398ca-2bba-11ee-987e-0242ac110002-1-9e79",
       "previous": "8893978a-2bba-11ee-987e-0242ac110002-1-2129"
      },
      {
       "current": "8893982a-2bba-11ee-987e-0242ac110002-3-3675-5f2d-d625",
       "next": "889398ca-2bba-11ee-987e-0242ac110002-2-9e79-b0d4",
       "previous": "8893978a-2bba-11ee-987e-0242ac110002-2-2129-7647"
      },
      {
       "current": "8893982a-2bba-11ee-987e-0242ac110002-3-3675-5f2d-d625",
       "next": "889398ca-2bba-11ee-987e-0242ac110002-2-9e79-b0d4",
       "previous": "889395a0-2bba-11ee-987e-0242ac110002-2-d73d-f7c4"
      },
      {
       "current": "8893982a-2bba-11ee-987e-0242ac110002-4-3675-5f2d-d625-424a",
       "next": "889398ca-2bba-11ee-987e-0242ac110002-2-9e79-b0d4",
       "previous": "8893978a-2bba-11ee-987e-0242ac110002-3-2129-7647-8db9"
      },
      {
       "current": "8893982a-2bba-11ee-987e-0242ac110002-5-3675-5f2d-d625-424a-751a",
       "next": "889398ca-2bba-11ee-987e-0242ac110002-3-9e79-b0d4-0cb1",
       "previous": "8893978a-2bba-11ee-987e-0242ac110002-4-2129-7647-8db9-8a1c"
      },
      {
       "current": "8893982a-2bba-11ee-987e-0242ac110002-6-3675-5f2d-d625-424a-751a-9f25",
       "next": "889398ca-2bba-11ee-987e-0242ac110002-4-9e79-b0d4-0cb1-9b78",
       "previous": "8893978a-2bba-11ee-987e-0242ac110002-5-2129-7647-8db9-8a1c-2af5"
      },
      {
       "current": "8893982a-2bba-11ee-987e-0242ac110002-7-3675-5f2d-d625-424a-751a-9f25-7b1e",
       "next": "889398ca-2bba-11ee-987e-0242ac110002-5-9e79-b0d4-0cb1-9b78-186c",
       "previous": "8893978a-2bba-11ee-987e-0242ac110002-6-2129-7647-8db9-8a1c-2af5-6895"
      },
      {
       "current": "8893982a-2bba-11ee-987e-0242ac110002-8-3675-5f2d-d625-424a-751a-9f25-7b1e-3bf0",
       "next": "889398ca-2bba-11ee-987e-0242ac110002-6-9e79-b0d4-0cb1-9b78-186c-739b",
       "previous": "8893978a-2bba-11ee-987e-0242ac110002-7-2129-7647-8db9-8a1c-2af5-6895-aa7a"
      }
     ],
     "next": "889398ca-2bba-11ee-987e-0242ac110002-7-9e79-b0d4-0cb1-9b78-186c-739b-5272",
     "previous": "8893978a-2bba-11ee-987e-0242ac110002-8-2129-7647-8db9-8a1c-2af5-6895-aa7a-5025"
    },
    "lc_wrapper": {
     "log_history": [
      "/notebooks/notebook/work_terayama/yjupyterhub/work/.log/20230726/20230726-225644-0548.log",
      "/notebooks/notebook/work_terayama/yjupyterhub/work/.log/20230726/20230726-232623-0041.log",
      "/notebooks/notebook/work_terayama/yjupyterhub/work/.log/20230726/20230726-235131-0586.log",
      "/notebooks/notebook/work_terayama/yjupyterhub/work/.log/20230727/20230727-002054-0938.log",
      "/notebooks/notebook/work_terayama/yjupyterhub/work/.log/20230727/20230727-004443-0561.log",
      "/notebooks/notebook/work_terayama/yjupyterhub/work/.log/20230727/20230727-121103-0466.log",
      "/notebooks/notebook/work_terayama/yjupyterhub/work/.log/20230727/20230727-122833-0151.log",
      "/notebooks/notebook/work_terayama/yjupyterhub/work/.log/20230727/20230727-132623-0755.log",
      "/notebooks/notebook/work_terayama/yjupyterhub/work/.log/20230727/20230727-140259-0305.log",
      "/notebooks/notebook/work_terayama/yjupyterhub/work/.log/20230801/20230801-151227-0341.log",
      "/notebooks/notebook/yamaguchi-hub/work/.log/20240517/20240517-161947-0672.log",
      "/notebooks/notebook/yamaguchi-hub/handon001/.log/20240520/20240520-155233-0873.log"
     ]
    }
   },
   "outputs": [],
   "source": [
    "update_group_vars(ugroup_name, vc_ipaddress=vc_ipaddress)\n",
    "gvars = load_group_vars(ugroup_name)"
   ]
  },
  {
   "cell_type": "markdown",
   "metadata": {
    "hidden": true,
    "lc_cell_meme": {
     "current": "889398ca-2bba-11ee-987e-0242ac110002-7-9e79-b0d4-0cb1-9b78-186c-739b-5272",
     "history": [
      {
       "current": "889398ca-2bba-11ee-987e-0242ac110002-1-9e79",
       "next": "8893997e-2bba-11ee-987e-0242ac110002",
       "previous": "8893982a-2bba-11ee-987e-0242ac110002"
      },
      {
       "current": "889398ca-2bba-11ee-987e-0242ac110002-2-9e79-b0d4",
       "next": "8893997e-2bba-11ee-987e-0242ac110002-1-b0a4",
       "previous": "8893982a-2bba-11ee-987e-0242ac110002-1-3675"
      },
      {
       "current": "889398ca-2bba-11ee-987e-0242ac110002-2-9e79-b0d4",
       "next": "8893997e-2bba-11ee-987e-0242ac110002-2-b0a4-2787",
       "previous": "8893982a-2bba-11ee-987e-0242ac110002-2-3675-5f2d"
      },
      {
       "current": "889398ca-2bba-11ee-987e-0242ac110002-3-9e79-b0d4-0cb1",
       "next": "8893997e-2bba-11ee-987e-0242ac110002-2-b0a4-2787",
       "previous": "8893982a-2bba-11ee-987e-0242ac110002-3-3675-5f2d-d625"
      },
      {
       "current": "889398ca-2bba-11ee-987e-0242ac110002-4-9e79-b0d4-0cb1-9b78",
       "next": "8893997e-2bba-11ee-987e-0242ac110002-3-b0a4-2787-bb8b",
       "previous": "8893982a-2bba-11ee-987e-0242ac110002-4-3675-5f2d-d625-424a"
      },
      {
       "current": "889398ca-2bba-11ee-987e-0242ac110002-5-9e79-b0d4-0cb1-9b78-186c",
       "next": "8893997e-2bba-11ee-987e-0242ac110002-4-b0a4-2787-bb8b-73a8",
       "previous": "8893982a-2bba-11ee-987e-0242ac110002-5-3675-5f2d-d625-424a-751a"
      },
      {
       "current": "889398ca-2bba-11ee-987e-0242ac110002-6-9e79-b0d4-0cb1-9b78-186c-739b",
       "next": "8893997e-2bba-11ee-987e-0242ac110002-5-b0a4-2787-bb8b-73a8-a35d",
       "previous": "8893982a-2bba-11ee-987e-0242ac110002-6-3675-5f2d-d625-424a-751a-9f25"
      },
      {
       "current": "889398ca-2bba-11ee-987e-0242ac110002-7-9e79-b0d4-0cb1-9b78-186c-739b-5272",
       "next": "8893997e-2bba-11ee-987e-0242ac110002-6-b0a4-2787-bb8b-73a8-a35d-731e",
       "previous": "8893982a-2bba-11ee-987e-0242ac110002-7-3675-5f2d-d625-424a-751a-9f25-7b1e"
      }
     ],
     "next": "8893997e-2bba-11ee-987e-0242ac110002-7-b0a4-2787-bb8b-73a8-a35d-731e-eb97",
     "previous": "8893982a-2bba-11ee-987e-0242ac110002-8-3675-5f2d-d625-424a-751a-9f25-7b1e-3bf0"
    }
   },
   "source": [
    "#### managerノードに対するAnsibleの設定\n",
    "\n",
    "起動したVCノードをAnsibleで操作するための設定を行います。"
   ]
  },
  {
   "cell_type": "markdown",
   "metadata": {
    "hidden": true,
    "lc_cell_meme": {
     "current": "8893997e-2bba-11ee-987e-0242ac110002-7-b0a4-2787-bb8b-73a8-a35d-731e-eb97",
     "history": [
      {
       "current": "8893997e-2bba-11ee-987e-0242ac110002-1-b0a4",
       "next": "88939a28-2bba-11ee-987e-0242ac110002",
       "previous": "889398ca-2bba-11ee-987e-0242ac110002"
      },
      {
       "current": "8893997e-2bba-11ee-987e-0242ac110002-2-b0a4-2787",
       "next": "88939a28-2bba-11ee-987e-0242ac110002-1-204b",
       "previous": "889398ca-2bba-11ee-987e-0242ac110002-1-9e79"
      },
      {
       "current": "8893997e-2bba-11ee-987e-0242ac110002-3-b0a4-2787-bb8b",
       "next": "88939a28-2bba-11ee-987e-0242ac110002-2-204b-1214",
       "previous": "889398ca-2bba-11ee-987e-0242ac110002-2-9e79-b0d4"
      },
      {
       "current": "8893997e-2bba-11ee-987e-0242ac110002-4-b0a4-2787-bb8b-73a8",
       "next": "88939a28-2bba-11ee-987e-0242ac110002-3-204b-1214-afaa",
       "previous": "889398ca-2bba-11ee-987e-0242ac110002-3-9e79-b0d4-0cb1"
      },
      {
       "current": "8893997e-2bba-11ee-987e-0242ac110002-5-b0a4-2787-bb8b-73a8-a35d",
       "next": "88939a28-2bba-11ee-987e-0242ac110002-4-204b-1214-afaa-ec0e",
       "previous": "889398ca-2bba-11ee-987e-0242ac110002-4-9e79-b0d4-0cb1-9b78"
      },
      {
       "current": "8893997e-2bba-11ee-987e-0242ac110002-6-b0a4-2787-bb8b-73a8-a35d-731e",
       "next": "88939a28-2bba-11ee-987e-0242ac110002-5-204b-1214-afaa-ec0e-17d6",
       "previous": "889398ca-2bba-11ee-987e-0242ac110002-5-9e79-b0d4-0cb1-9b78-186c"
      },
      {
       "current": "8893997e-2bba-11ee-987e-0242ac110002-7-b0a4-2787-bb8b-73a8-a35d-731e-eb97",
       "next": "88939a28-2bba-11ee-987e-0242ac110002-6-204b-1214-afaa-ec0e-17d6-7cb1",
       "previous": "889398ca-2bba-11ee-987e-0242ac110002-6-9e79-b0d4-0cb1-9b78-186c-739b"
      }
     ],
     "next": "88939a28-2bba-11ee-987e-0242ac110002-7-204b-1214-afaa-ec0e-17d6-7cb1-2eff",
     "previous": "889398ca-2bba-11ee-987e-0242ac110002-7-9e79-b0d4-0cb1-9b78-186c-739b-5272"
    }
   },
   "source": [
    "まず、VCノードにSSHでログインできるようにするために `~/.ssh/known_hosts` の更新を行います。\n",
    "\n",
    "> 何度かVCノードの起動を行うと、異なるホストが同じIPアドレスで起動するためにSSHのホストキーのチェックでエラーになる事があります。このような状況に対応するために、起動したVCノードのIPアドレスに対応するエントリを`known_hosts`ファイルから削除します。その後、`ssh-keyscan`コマンドを利用して起動したVCノードのホストキーを取得して `known_hosts`ファイルの内容を更新します。"
   ]
  },
  {
   "cell_type": "code",
   "execution_count": null,
   "metadata": {
    "hidden": true,
    "lc_cell_meme": {
     "current": "88939a28-2bba-11ee-987e-0242ac110002-7-204b-1214-afaa-ec0e-17d6-7cb1-2eff",
     "history": [
      {
       "current": "88939a28-2bba-11ee-987e-0242ac110002-1-204b",
       "next": "88939ac8-2bba-11ee-987e-0242ac110002",
       "previous": "8893997e-2bba-11ee-987e-0242ac110002"
      },
      {
       "current": "88939a28-2bba-11ee-987e-0242ac110002-2-204b-1214",
       "next": "88939ac8-2bba-11ee-987e-0242ac110002-1-c2d6",
       "previous": "8893997e-2bba-11ee-987e-0242ac110002-1-b0a4"
      },
      {
       "current": "88939a28-2bba-11ee-987e-0242ac110002-3-204b-1214-afaa",
       "next": "88939ac8-2bba-11ee-987e-0242ac110002-2-c2d6-6cb0",
       "previous": "8893997e-2bba-11ee-987e-0242ac110002-2-b0a4-2787"
      },
      {
       "current": "88939a28-2bba-11ee-987e-0242ac110002-4-204b-1214-afaa-ec0e",
       "next": "88939ac8-2bba-11ee-987e-0242ac110002-3-c2d6-6cb0-e25f",
       "previous": "8893997e-2bba-11ee-987e-0242ac110002-3-b0a4-2787-bb8b"
      },
      {
       "current": "88939a28-2bba-11ee-987e-0242ac110002-5-204b-1214-afaa-ec0e-17d6",
       "next": "88939ac8-2bba-11ee-987e-0242ac110002-4-c2d6-6cb0-e25f-7477",
       "previous": "8893997e-2bba-11ee-987e-0242ac110002-4-b0a4-2787-bb8b-73a8"
      },
      {
       "current": "88939a28-2bba-11ee-987e-0242ac110002-6-204b-1214-afaa-ec0e-17d6-7cb1",
       "next": "88939ac8-2bba-11ee-987e-0242ac110002-5-c2d6-6cb0-e25f-7477-281a",
       "previous": "8893997e-2bba-11ee-987e-0242ac110002-5-b0a4-2787-bb8b-73a8-a35d"
      },
      {
       "current": "88939a28-2bba-11ee-987e-0242ac110002-7-204b-1214-afaa-ec0e-17d6-7cb1-2eff",
       "next": "88939ac8-2bba-11ee-987e-0242ac110002-6-c2d6-6cb0-e25f-7477-281a-4cca",
       "previous": "8893997e-2bba-11ee-987e-0242ac110002-6-b0a4-2787-bb8b-73a8-a35d-731e"
      }
     ],
     "next": "88939ac8-2bba-11ee-987e-0242ac110002-7-c2d6-6cb0-e25f-7477-281a-4cca-b62a",
     "previous": "8893997e-2bba-11ee-987e-0242ac110002-7-b0a4-2787-bb8b-73a8-a35d-731e-eb97"
    },
    "lc_wrapper": {
     "log_history": [
      "/notebooks/notebook/work_terayama/yjupyterhub/work/.log/20230726/20230726-225644-0568.log",
      "/notebooks/notebook/work_terayama/yjupyterhub/work/.log/20230726/20230726-232623-0061.log",
      "/notebooks/notebook/work_terayama/yjupyterhub/work/.log/20230726/20230726-235131-0604.log",
      "/notebooks/notebook/work_terayama/yjupyterhub/work/.log/20230727/20230727-002054-0957.log",
      "/notebooks/notebook/work_terayama/yjupyterhub/work/.log/20230727/20230727-004443-0580.log",
      "/notebooks/notebook/work_terayama/yjupyterhub/work/.log/20230727/20230727-121103-0487.log",
      "/notebooks/notebook/work_terayama/yjupyterhub/work/.log/20230727/20230727-122833-0172.log",
      "/notebooks/notebook/work_terayama/yjupyterhub/work/.log/20230727/20230727-132623-0777.log",
      "/notebooks/notebook/work_terayama/yjupyterhub/work/.log/20230727/20230727-140259-0324.log",
      "/notebooks/notebook/work_terayama/yjupyterhub/work/.log/20230801/20230801-151227-0363.log",
      "/notebooks/notebook/yamaguchi-hub/work/.log/20240517/20240517-161947-0709.log",
      "/notebooks/notebook/yamaguchi-hub/handon001/.log/20240520/20240520-155233-0899.log"
     ]
    }
   },
   "outputs": [],
   "source": [
    "from time import sleep\n",
    "\n",
    "def check_update_known_hosts(ipaddr):\n",
    "    # VCノード起動直後だと sshd サービスが開始されておらずに known_hosts が更新されない場合がある\n",
    "    # ssh-keyscan が値を取得できるまで何度かリトライする\n",
    "    for x in range(10):\n",
    "        out = ! echo $(ssh-keyscan {ipaddr} 2> /dev/null | wc -l)\n",
    "        update_lines = int(out[0])\n",
    "        if update_lines > 0:\n",
    "            break\n",
    "        sleep(1)\n",
    "    else:\n",
    "        raise RuntimeError(\"ERROR: timeout!\")    \n",
    "\n",
    "!mkdir -p -m 0700 ~/.ssh\n",
    "!touch ~/.ssh/known_hosts\n",
    "for addr in unit_mgr.find_ip_addresses():\n",
    "    !ssh-keygen -R {addr}\n",
    "    check_update_known_hosts(addr)\n",
    "    !ssh-keyscan -H {addr} >> ~/.ssh/known_hosts"
   ]
  },
  {
   "cell_type": "markdown",
   "metadata": {
    "hidden": true,
    "lc_cell_meme": {
     "current": "88939ac8-2bba-11ee-987e-0242ac110002-7-c2d6-6cb0-e25f-7477-281a-4cca-b62a",
     "history": [
      {
       "current": "88939ac8-2bba-11ee-987e-0242ac110002-1-c2d6",
       "next": "88939b68-2bba-11ee-987e-0242ac110002",
       "previous": "88939a28-2bba-11ee-987e-0242ac110002"
      },
      {
       "current": "88939ac8-2bba-11ee-987e-0242ac110002-2-c2d6-6cb0",
       "next": "88939b68-2bba-11ee-987e-0242ac110002-1-eea8",
       "previous": "88939a28-2bba-11ee-987e-0242ac110002-1-204b"
      },
      {
       "current": "88939ac8-2bba-11ee-987e-0242ac110002-3-c2d6-6cb0-e25f",
       "next": "88939b68-2bba-11ee-987e-0242ac110002-2-eea8-f72a",
       "previous": "88939a28-2bba-11ee-987e-0242ac110002-2-204b-1214"
      },
      {
       "current": "88939ac8-2bba-11ee-987e-0242ac110002-4-c2d6-6cb0-e25f-7477",
       "next": "88939b68-2bba-11ee-987e-0242ac110002-3-eea8-f72a-74e0",
       "previous": "88939a28-2bba-11ee-987e-0242ac110002-3-204b-1214-afaa"
      },
      {
       "current": "88939ac8-2bba-11ee-987e-0242ac110002-5-c2d6-6cb0-e25f-7477-281a",
       "next": "88939b68-2bba-11ee-987e-0242ac110002-4-eea8-f72a-74e0-f71f",
       "previous": "88939a28-2bba-11ee-987e-0242ac110002-4-204b-1214-afaa-ec0e"
      },
      {
       "current": "88939ac8-2bba-11ee-987e-0242ac110002-6-c2d6-6cb0-e25f-7477-281a-4cca",
       "next": "88939b68-2bba-11ee-987e-0242ac110002-5-eea8-f72a-74e0-f71f-9e9f",
       "previous": "88939a28-2bba-11ee-987e-0242ac110002-5-204b-1214-afaa-ec0e-17d6"
      },
      {
       "current": "88939ac8-2bba-11ee-987e-0242ac110002-7-c2d6-6cb0-e25f-7477-281a-4cca-b62a",
       "next": "88939b68-2bba-11ee-987e-0242ac110002-6-eea8-f72a-74e0-f71f-9e9f-fd09",
       "previous": "88939a28-2bba-11ee-987e-0242ac110002-6-204b-1214-afaa-ec0e-17d6-7cb1"
      }
     ],
     "next": "88939b68-2bba-11ee-987e-0242ac110002-7-eea8-f72a-74e0-f71f-9e9f-fd09-179a",
     "previous": "88939a28-2bba-11ee-987e-0242ac110002-7-204b-1214-afaa-ec0e-17d6-7cb1-2eff"
    }
   },
   "source": [
    "起動したVCノードに対応するエントリを Ansible のインベントリに登録します。\n",
    "\n",
    "> Ansibleで操作を行うためには、操作対象のホスト(IPアドレス)をインベントリに登録する必要があります。"
   ]
  },
  {
   "cell_type": "code",
   "execution_count": null,
   "metadata": {
    "hidden": true,
    "lc_cell_meme": {
     "current": "88939b68-2bba-11ee-987e-0242ac110002-7-eea8-f72a-74e0-f71f-9e9f-fd09-179a",
     "history": [
      {
       "current": "88939b68-2bba-11ee-987e-0242ac110002-1-eea8",
       "next": "88939c12-2bba-11ee-987e-0242ac110002",
       "previous": "88939ac8-2bba-11ee-987e-0242ac110002"
      },
      {
       "current": "88939b68-2bba-11ee-987e-0242ac110002-2-eea8-f72a",
       "next": "88939c12-2bba-11ee-987e-0242ac110002-1-c259",
       "previous": "88939ac8-2bba-11ee-987e-0242ac110002-1-c2d6"
      },
      {
       "current": "88939b68-2bba-11ee-987e-0242ac110002-3-eea8-f72a-74e0",
       "next": "88939c12-2bba-11ee-987e-0242ac110002-2-c259-d8a1",
       "previous": "88939ac8-2bba-11ee-987e-0242ac110002-2-c2d6-6cb0"
      },
      {
       "current": "88939b68-2bba-11ee-987e-0242ac110002-4-eea8-f72a-74e0-f71f",
       "next": "88939c12-2bba-11ee-987e-0242ac110002-3-c259-d8a1-5e28",
       "previous": "88939ac8-2bba-11ee-987e-0242ac110002-3-c2d6-6cb0-e25f"
      },
      {
       "current": "88939b68-2bba-11ee-987e-0242ac110002-5-eea8-f72a-74e0-f71f-9e9f",
       "next": "88939c12-2bba-11ee-987e-0242ac110002-4-c259-d8a1-5e28-39d3",
       "previous": "88939ac8-2bba-11ee-987e-0242ac110002-4-c2d6-6cb0-e25f-7477"
      },
      {
       "current": "88939b68-2bba-11ee-987e-0242ac110002-6-eea8-f72a-74e0-f71f-9e9f-fd09",
       "next": "88939c12-2bba-11ee-987e-0242ac110002-5-c259-d8a1-5e28-39d3-0d9a",
       "previous": "88939ac8-2bba-11ee-987e-0242ac110002-5-c2d6-6cb0-e25f-7477-281a"
      },
      {
       "current": "88939b68-2bba-11ee-987e-0242ac110002-7-eea8-f72a-74e0-f71f-9e9f-fd09-179a",
       "next": "88939c12-2bba-11ee-987e-0242ac110002-6-c259-d8a1-5e28-39d3-0d9a-1b61",
       "previous": "88939ac8-2bba-11ee-987e-0242ac110002-6-c2d6-6cb0-e25f-7477-281a-4cca"
      }
     ],
     "next": "88939c12-2bba-11ee-987e-0242ac110002-7-c259-d8a1-5e28-39d3-0d9a-1b61-0f14",
     "previous": "88939ac8-2bba-11ee-987e-0242ac110002-7-c2d6-6cb0-e25f-7477-281a-4cca-b62a"
    },
    "lc_wrapper": {
     "log_history": [
      "/notebooks/notebook/work_terayama/yjupyterhub/work/.log/20230726/20230726-225652-0430.log",
      "/notebooks/notebook/work_terayama/yjupyterhub/work/.log/20230726/20230726-232631-0107.log",
      "/notebooks/notebook/work_terayama/yjupyterhub/work/.log/20230726/20230726-235139-0547.log",
      "/notebooks/notebook/work_terayama/yjupyterhub/work/.log/20230727/20230727-002102-0903.log",
      "/notebooks/notebook/work_terayama/yjupyterhub/work/.log/20230727/20230727-004451-0497.log",
      "/notebooks/notebook/work_terayama/yjupyterhub/work/.log/20230727/20230727-121111-0376.log",
      "/notebooks/notebook/work_terayama/yjupyterhub/work/.log/20230727/20230727-122841-0081.log",
      "/notebooks/notebook/work_terayama/yjupyterhub/work/.log/20230727/20230727-132631-0785.log",
      "/notebooks/notebook/work_terayama/yjupyterhub/work/.log/20230727/20230727-140307-0216.log",
      "/notebooks/notebook/work_terayama/yjupyterhub/work/.log/20230801/20230801-151235-0275.log",
      "/notebooks/notebook/yamaguchi-hub/work/.log/20240517/20240517-161949-0225.log",
      "/notebooks/notebook/yamaguchi-hub/handon001/.log/20240520/20240520-155235-0408.log"
     ]
    }
   },
   "outputs": [],
   "source": [
    "%run scripts/group.py\n",
    "%run scripts/edit_conf.py\n",
    "\n",
    "inventory = {'all': {'children': {\n",
    "    ugroup.name: {\n",
    "        'children': {\n",
    "            f'{ugroup.name}_{unit_mgr.name}': {\n",
    "                'hosts': dict([(x, {}) for x in unit_mgr.find_ip_addresses()]),\n",
    "            },\n",
    "        },\n",
    "        'vars': {\n",
    "            'ansible_user': 'vcp',\n",
    "            'ansible_ssh_private_key_file': gvars['ssh_private_key_path'],\n",
    "            'ansible_python_interpreter': '/usr/bin/python3',\n",
    "        },\n",
    "    },\n",
    "}}}\n",
    "\n",
    "generate_edit_link(update_inventory_yml(inventory))"
   ]
  },
  {
   "cell_type": "markdown",
   "metadata": {
    "hidden": true,
    "lc_cell_meme": {
     "current": "88939c12-2bba-11ee-987e-0242ac110002-7-c259-d8a1-5e28-39d3-0d9a-1b61-0f14",
     "history": [
      {
       "current": "88939c12-2bba-11ee-987e-0242ac110002-1-c259",
       "next": "88939cb2-2bba-11ee-987e-0242ac110002",
       "previous": "88939b68-2bba-11ee-987e-0242ac110002"
      },
      {
       "current": "88939c12-2bba-11ee-987e-0242ac110002-2-c259-d8a1",
       "next": "88939cb2-2bba-11ee-987e-0242ac110002-1-4f0b",
       "previous": "88939b68-2bba-11ee-987e-0242ac110002-1-eea8"
      },
      {
       "current": "88939c12-2bba-11ee-987e-0242ac110002-3-c259-d8a1-5e28",
       "next": "88939cb2-2bba-11ee-987e-0242ac110002-2-4f0b-5e29",
       "previous": "88939b68-2bba-11ee-987e-0242ac110002-2-eea8-f72a"
      },
      {
       "current": "88939c12-2bba-11ee-987e-0242ac110002-4-c259-d8a1-5e28-39d3",
       "next": "88939cb2-2bba-11ee-987e-0242ac110002-3-4f0b-5e29-92fa",
       "previous": "88939b68-2bba-11ee-987e-0242ac110002-3-eea8-f72a-74e0"
      },
      {
       "current": "88939c12-2bba-11ee-987e-0242ac110002-5-c259-d8a1-5e28-39d3-0d9a",
       "next": "88939cb2-2bba-11ee-987e-0242ac110002-4-4f0b-5e29-92fa-b579",
       "previous": "88939b68-2bba-11ee-987e-0242ac110002-4-eea8-f72a-74e0-f71f"
      },
      {
       "current": "88939c12-2bba-11ee-987e-0242ac110002-6-c259-d8a1-5e28-39d3-0d9a-1b61",
       "next": "88939cb2-2bba-11ee-987e-0242ac110002-5-4f0b-5e29-92fa-b579-a24f",
       "previous": "88939b68-2bba-11ee-987e-0242ac110002-5-eea8-f72a-74e0-f71f-9e9f"
      },
      {
       "current": "88939c12-2bba-11ee-987e-0242ac110002-7-c259-d8a1-5e28-39d3-0d9a-1b61-0f14",
       "next": "88939cb2-2bba-11ee-987e-0242ac110002-6-4f0b-5e29-92fa-b579-a24f-fea0",
       "previous": "88939b68-2bba-11ee-987e-0242ac110002-6-eea8-f72a-74e0-f71f-9e9f-fd09"
      }
     ],
     "next": "88939cb2-2bba-11ee-987e-0242ac110002-7-4f0b-5e29-92fa-b579-a24f-fea0-1bd3",
     "previous": "88939b68-2bba-11ee-987e-0242ac110002-7-eea8-f72a-74e0-f71f-9e9f-fd09-179a"
    }
   },
   "source": [
    "次のセルを実行すると作成したインベントリの内容を表示します。インベントリの内容を変更したい場合は、上のセルの出力結果に表示しているリンクから編集することができます。"
   ]
  },
  {
   "cell_type": "code",
   "execution_count": null,
   "metadata": {
    "hidden": true,
    "lc_cell_meme": {
     "current": "88939cb2-2bba-11ee-987e-0242ac110002-7-4f0b-5e29-92fa-b579-a24f-fea0-1bd3",
     "history": [
      {
       "current": "88939cb2-2bba-11ee-987e-0242ac110002-1-4f0b",
       "next": "88939d52-2bba-11ee-987e-0242ac110002",
       "previous": "88939c12-2bba-11ee-987e-0242ac110002"
      },
      {
       "current": "88939cb2-2bba-11ee-987e-0242ac110002-2-4f0b-5e29",
       "next": "88939d52-2bba-11ee-987e-0242ac110002-1-989e",
       "previous": "88939c12-2bba-11ee-987e-0242ac110002-1-c259"
      },
      {
       "current": "88939cb2-2bba-11ee-987e-0242ac110002-3-4f0b-5e29-92fa",
       "next": "88939d52-2bba-11ee-987e-0242ac110002-2-989e-7f7e",
       "previous": "88939c12-2bba-11ee-987e-0242ac110002-2-c259-d8a1"
      },
      {
       "current": "88939cb2-2bba-11ee-987e-0242ac110002-4-4f0b-5e29-92fa-b579",
       "next": "88939d52-2bba-11ee-987e-0242ac110002-3-989e-7f7e-6d5a",
       "previous": "88939c12-2bba-11ee-987e-0242ac110002-3-c259-d8a1-5e28"
      },
      {
       "current": "88939cb2-2bba-11ee-987e-0242ac110002-5-4f0b-5e29-92fa-b579-a24f",
       "next": "88939d52-2bba-11ee-987e-0242ac110002-4-989e-7f7e-6d5a-6523",
       "previous": "88939c12-2bba-11ee-987e-0242ac110002-4-c259-d8a1-5e28-39d3"
      },
      {
       "current": "88939cb2-2bba-11ee-987e-0242ac110002-6-4f0b-5e29-92fa-b579-a24f-fea0",
       "next": "88939d52-2bba-11ee-987e-0242ac110002-5-989e-7f7e-6d5a-6523-8b1e",
       "previous": "88939c12-2bba-11ee-987e-0242ac110002-5-c259-d8a1-5e28-39d3-0d9a"
      },
      {
       "current": "88939cb2-2bba-11ee-987e-0242ac110002-7-4f0b-5e29-92fa-b579-a24f-fea0-1bd3",
       "next": "88939d52-2bba-11ee-987e-0242ac110002-6-989e-7f7e-6d5a-6523-8b1e-9c8c",
       "previous": "88939c12-2bba-11ee-987e-0242ac110002-6-c259-d8a1-5e28-39d3-0d9a-1b61"
      }
     ],
     "next": "88939d52-2bba-11ee-987e-0242ac110002-7-989e-7f7e-6d5a-6523-8b1e-9c8c-25c2",
     "previous": "88939c12-2bba-11ee-987e-0242ac110002-7-c259-d8a1-5e28-39d3-0d9a-1b61-0f14"
    },
    "lc_wrapper": {
     "log_history": [
      "/notebooks/notebook/work_terayama/yjupyterhub/work/.log/20230726/20230726-225657-0546.log",
      "/notebooks/notebook/work_terayama/yjupyterhub/work/.log/20230726/20230726-232635-0946.log",
      "/notebooks/notebook/work_terayama/yjupyterhub/work/.log/20230726/20230726-235144-0429.log",
      "/notebooks/notebook/work_terayama/yjupyterhub/work/.log/20230727/20230727-002107-0660.log",
      "/notebooks/notebook/work_terayama/yjupyterhub/work/.log/20230727/20230727-004456-0320.log",
      "/notebooks/notebook/work_terayama/yjupyterhub/work/.log/20230727/20230727-121116-0206.log",
      "/notebooks/notebook/work_terayama/yjupyterhub/work/.log/20230727/20230727-122845-0879.log",
      "/notebooks/notebook/work_terayama/yjupyterhub/work/.log/20230727/20230727-132636-0670.log",
      "/notebooks/notebook/work_terayama/yjupyterhub/work/.log/20230727/20230727-140312-0031.log",
      "/notebooks/notebook/work_terayama/yjupyterhub/work/.log/20230801/20230801-151240-0190.log",
      "/notebooks/notebook/yamaguchi-hub/work/.log/20240517/20240517-161949-0672.log",
      "/notebooks/notebook/yamaguchi-hub/handon001/.log/20240520/20240520-155235-0831.log"
     ]
    }
   },
   "outputs": [],
   "source": [
    "!cat inventory.yml"
   ]
  },
  {
   "cell_type": "markdown",
   "metadata": {
    "hidden": true,
    "lc_cell_meme": {
     "current": "88939d52-2bba-11ee-987e-0242ac110002-7-989e-7f7e-6d5a-6523-8b1e-9c8c-25c2",
     "history": [
      {
       "current": "88939d52-2bba-11ee-987e-0242ac110002-1-989e",
       "next": "88939df2-2bba-11ee-987e-0242ac110002",
       "previous": "88939cb2-2bba-11ee-987e-0242ac110002"
      },
      {
       "current": "88939d52-2bba-11ee-987e-0242ac110002-2-989e-7f7e",
       "next": "88939df2-2bba-11ee-987e-0242ac110002-1-d087",
       "previous": "88939cb2-2bba-11ee-987e-0242ac110002-1-4f0b"
      },
      {
       "current": "88939d52-2bba-11ee-987e-0242ac110002-3-989e-7f7e-6d5a",
       "next": "88939df2-2bba-11ee-987e-0242ac110002-2-d087-10c6",
       "previous": "88939cb2-2bba-11ee-987e-0242ac110002-2-4f0b-5e29"
      },
      {
       "current": "88939d52-2bba-11ee-987e-0242ac110002-4-989e-7f7e-6d5a-6523",
       "next": "88939df2-2bba-11ee-987e-0242ac110002-3-d087-10c6-b70e",
       "previous": "88939cb2-2bba-11ee-987e-0242ac110002-3-4f0b-5e29-92fa"
      },
      {
       "current": "88939d52-2bba-11ee-987e-0242ac110002-5-989e-7f7e-6d5a-6523-8b1e",
       "next": "88939df2-2bba-11ee-987e-0242ac110002-4-d087-10c6-b70e-b15e",
       "previous": "88939cb2-2bba-11ee-987e-0242ac110002-4-4f0b-5e29-92fa-b579"
      },
      {
       "current": "88939d52-2bba-11ee-987e-0242ac110002-6-989e-7f7e-6d5a-6523-8b1e-9c8c",
       "next": "88939df2-2bba-11ee-987e-0242ac110002-5-d087-10c6-b70e-b15e-d091",
       "previous": "88939cb2-2bba-11ee-987e-0242ac110002-5-4f0b-5e29-92fa-b579-a24f"
      },
      {
       "current": "88939d52-2bba-11ee-987e-0242ac110002-7-989e-7f7e-6d5a-6523-8b1e-9c8c-25c2",
       "next": "88939df2-2bba-11ee-987e-0242ac110002-6-d087-10c6-b70e-b15e-d091-c6bf",
       "previous": "88939cb2-2bba-11ee-987e-0242ac110002-6-4f0b-5e29-92fa-b579-a24f-fea0"
      }
     ],
     "next": "88939df2-2bba-11ee-987e-0242ac110002-7-d087-10c6-b70e-b15e-d091-c6bf-0c27",
     "previous": "88939cb2-2bba-11ee-987e-0242ac110002-7-4f0b-5e29-92fa-b579-a24f-fea0-1bd3"
    }
   },
   "source": [
    " 先程VCノードを登録したファイルをインベントリとして指定するためのAnsibleのコンフィギュレーションファイルを作成します。\n",
    "> カレントディレクトリにコンフィギュレーションファイル(`ansible.cfg`)を作成すると、Ansibleを実行する際にその設定が適用されます。"
   ]
  },
  {
   "cell_type": "code",
   "execution_count": null,
   "metadata": {
    "hidden": true,
    "lc_cell_meme": {
     "current": "88939df2-2bba-11ee-987e-0242ac110002-7-d087-10c6-b70e-b15e-d091-c6bf-0c27",
     "history": [
      {
       "current": "88939df2-2bba-11ee-987e-0242ac110002-1-d087",
       "next": "88939e9c-2bba-11ee-987e-0242ac110002",
       "previous": "88939d52-2bba-11ee-987e-0242ac110002"
      },
      {
       "current": "88939df2-2bba-11ee-987e-0242ac110002-2-d087-10c6",
       "next": "88939e9c-2bba-11ee-987e-0242ac110002-1-f8b9",
       "previous": "88939d52-2bba-11ee-987e-0242ac110002-1-989e"
      },
      {
       "current": "88939df2-2bba-11ee-987e-0242ac110002-3-d087-10c6-b70e",
       "next": "88939e9c-2bba-11ee-987e-0242ac110002-2-f8b9-e945",
       "previous": "88939d52-2bba-11ee-987e-0242ac110002-2-989e-7f7e"
      },
      {
       "current": "88939df2-2bba-11ee-987e-0242ac110002-4-d087-10c6-b70e-b15e",
       "next": "88939e9c-2bba-11ee-987e-0242ac110002-3-f8b9-e945-91ba",
       "previous": "88939d52-2bba-11ee-987e-0242ac110002-3-989e-7f7e-6d5a"
      },
      {
       "current": "88939df2-2bba-11ee-987e-0242ac110002-5-d087-10c6-b70e-b15e-d091",
       "next": "88939e9c-2bba-11ee-987e-0242ac110002-4-f8b9-e945-91ba-87a2",
       "previous": "88939d52-2bba-11ee-987e-0242ac110002-4-989e-7f7e-6d5a-6523"
      },
      {
       "current": "88939df2-2bba-11ee-987e-0242ac110002-6-d087-10c6-b70e-b15e-d091-c6bf",
       "next": "88939e9c-2bba-11ee-987e-0242ac110002-5-f8b9-e945-91ba-87a2-0ba6",
       "previous": "88939d52-2bba-11ee-987e-0242ac110002-5-989e-7f7e-6d5a-6523-8b1e"
      },
      {
       "current": "88939df2-2bba-11ee-987e-0242ac110002-7-d087-10c6-b70e-b15e-d091-c6bf-0c27",
       "next": "88939e9c-2bba-11ee-987e-0242ac110002-6-f8b9-e945-91ba-87a2-0ba6-7120",
       "previous": "88939d52-2bba-11ee-987e-0242ac110002-6-989e-7f7e-6d5a-6523-8b1e-9c8c"
      }
     ],
     "next": "88939e9c-2bba-11ee-987e-0242ac110002-7-f8b9-e945-91ba-87a2-0ba6-7120-4974",
     "previous": "88939d52-2bba-11ee-987e-0242ac110002-7-989e-7f7e-6d5a-6523-8b1e-9c8c-25c2"
    },
    "lc_wrapper": {
     "log_history": [
      "/notebooks/notebook/work_terayama/yjupyterhub/work/.log/20230726/20230726-225658-0294.log",
      "/notebooks/notebook/work_terayama/yjupyterhub/work/.log/20230726/20230726-232636-0683.log",
      "/notebooks/notebook/work_terayama/yjupyterhub/work/.log/20230726/20230726-235145-0178.log",
      "/notebooks/notebook/work_terayama/yjupyterhub/work/.log/20230727/20230727-002108-0402.log",
      "/notebooks/notebook/work_terayama/yjupyterhub/work/.log/20230727/20230727-004457-0067.log",
      "/notebooks/notebook/work_terayama/yjupyterhub/work/.log/20230727/20230727-121116-0947.log",
      "/notebooks/notebook/work_terayama/yjupyterhub/work/.log/20230727/20230727-122846-0622.log",
      "/notebooks/notebook/work_terayama/yjupyterhub/work/.log/20230727/20230727-132637-0409.log",
      "/notebooks/notebook/work_terayama/yjupyterhub/work/.log/20230727/20230727-140312-0768.log",
      "/notebooks/notebook/work_terayama/yjupyterhub/work/.log/20230801/20230801-151240-0929.log",
      "/notebooks/notebook/yamaguchi-hub/work/.log/20240517/20240517-161949-0980.log",
      "/notebooks/notebook/yamaguchi-hub/handon001/.log/20240520/20240520-155236-0124.log"
     ]
    }
   },
   "outputs": [],
   "source": [
    "cfg = setup_ansible_cfg()\n",
    "generate_edit_link(cfg)"
   ]
  },
  {
   "cell_type": "markdown",
   "metadata": {
    "hidden": true,
    "lc_cell_meme": {
     "current": "88939e9c-2bba-11ee-987e-0242ac110002-7-f8b9-e945-91ba-87a2-0ba6-7120-4974",
     "history": [
      {
       "current": "88939e9c-2bba-11ee-987e-0242ac110002-1-f8b9",
       "next": "88939f46-2bba-11ee-987e-0242ac110002",
       "previous": "88939df2-2bba-11ee-987e-0242ac110002"
      },
      {
       "current": "88939e9c-2bba-11ee-987e-0242ac110002-2-f8b9-e945",
       "next": "88939f46-2bba-11ee-987e-0242ac110002-1-b580",
       "previous": "88939df2-2bba-11ee-987e-0242ac110002-1-d087"
      },
      {
       "current": "88939e9c-2bba-11ee-987e-0242ac110002-3-f8b9-e945-91ba",
       "next": "88939f46-2bba-11ee-987e-0242ac110002-2-b580-678f",
       "previous": "88939df2-2bba-11ee-987e-0242ac110002-2-d087-10c6"
      },
      {
       "current": "88939e9c-2bba-11ee-987e-0242ac110002-4-f8b9-e945-91ba-87a2",
       "next": "88939f46-2bba-11ee-987e-0242ac110002-3-b580-678f-7366",
       "previous": "88939df2-2bba-11ee-987e-0242ac110002-3-d087-10c6-b70e"
      },
      {
       "current": "88939e9c-2bba-11ee-987e-0242ac110002-5-f8b9-e945-91ba-87a2-0ba6",
       "next": "88939f46-2bba-11ee-987e-0242ac110002-4-b580-678f-7366-2f71",
       "previous": "88939df2-2bba-11ee-987e-0242ac110002-4-d087-10c6-b70e-b15e"
      },
      {
       "current": "88939e9c-2bba-11ee-987e-0242ac110002-6-f8b9-e945-91ba-87a2-0ba6-7120",
       "next": "88939f46-2bba-11ee-987e-0242ac110002-5-b580-678f-7366-2f71-805e",
       "previous": "88939df2-2bba-11ee-987e-0242ac110002-5-d087-10c6-b70e-b15e-d091"
      },
      {
       "current": "88939e9c-2bba-11ee-987e-0242ac110002-7-f8b9-e945-91ba-87a2-0ba6-7120-4974",
       "next": "88939f46-2bba-11ee-987e-0242ac110002-6-b580-678f-7366-2f71-805e-09f8",
       "previous": "88939df2-2bba-11ee-987e-0242ac110002-6-d087-10c6-b70e-b15e-d091-c6bf"
      }
     ],
     "next": "88939f46-2bba-11ee-987e-0242ac110002-7-b580-678f-7366-2f71-805e-09f8-4735",
     "previous": "88939df2-2bba-11ee-987e-0242ac110002-7-d087-10c6-b70e-b15e-d091-c6bf-0c27"
    }
   },
   "source": [
    "次のセルを実行すると作成したコンフィギュレーションファイルの内容を表示します。コンフィギュレーションファイルの内容を変更したい場合は、上のセルの出力結果に表示しているリンクから編集することができます。"
   ]
  },
  {
   "cell_type": "code",
   "execution_count": null,
   "metadata": {
    "hidden": true,
    "lc_cell_meme": {
     "current": "88939f46-2bba-11ee-987e-0242ac110002-7-b580-678f-7366-2f71-805e-09f8-4735",
     "history": [
      {
       "current": "88939f46-2bba-11ee-987e-0242ac110002-1-b580",
       "next": "88939fe6-2bba-11ee-987e-0242ac110002",
       "previous": "88939e9c-2bba-11ee-987e-0242ac110002"
      },
      {
       "current": "88939f46-2bba-11ee-987e-0242ac110002-2-b580-678f",
       "next": "88939fe6-2bba-11ee-987e-0242ac110002-1-a88e",
       "previous": "88939e9c-2bba-11ee-987e-0242ac110002-1-f8b9"
      },
      {
       "current": "88939f46-2bba-11ee-987e-0242ac110002-3-b580-678f-7366",
       "next": "88939fe6-2bba-11ee-987e-0242ac110002-2-a88e-2be7",
       "previous": "88939e9c-2bba-11ee-987e-0242ac110002-2-f8b9-e945"
      },
      {
       "current": "88939f46-2bba-11ee-987e-0242ac110002-4-b580-678f-7366-2f71",
       "next": "88939fe6-2bba-11ee-987e-0242ac110002-3-a88e-2be7-42e4",
       "previous": "88939e9c-2bba-11ee-987e-0242ac110002-3-f8b9-e945-91ba"
      },
      {
       "current": "88939f46-2bba-11ee-987e-0242ac110002-5-b580-678f-7366-2f71-805e",
       "next": "88939fe6-2bba-11ee-987e-0242ac110002-4-a88e-2be7-42e4-a56e",
       "previous": "88939e9c-2bba-11ee-987e-0242ac110002-4-f8b9-e945-91ba-87a2"
      },
      {
       "current": "88939f46-2bba-11ee-987e-0242ac110002-6-b580-678f-7366-2f71-805e-09f8",
       "next": "88939fe6-2bba-11ee-987e-0242ac110002-5-a88e-2be7-42e4-a56e-a4ed",
       "previous": "88939e9c-2bba-11ee-987e-0242ac110002-5-f8b9-e945-91ba-87a2-0ba6"
      },
      {
       "current": "88939f46-2bba-11ee-987e-0242ac110002-7-b580-678f-7366-2f71-805e-09f8-4735",
       "next": "88939fe6-2bba-11ee-987e-0242ac110002-6-a88e-2be7-42e4-a56e-a4ed-a625",
       "previous": "88939e9c-2bba-11ee-987e-0242ac110002-6-f8b9-e945-91ba-87a2-0ba6-7120"
      }
     ],
     "next": "88939fe6-2bba-11ee-987e-0242ac110002-7-a88e-2be7-42e4-a56e-a4ed-a625-e9f7",
     "previous": "88939e9c-2bba-11ee-987e-0242ac110002-7-f8b9-e945-91ba-87a2-0ba6-7120-4974"
    },
    "lc_wrapper": {
     "log_history": [
      "/notebooks/notebook/work_terayama/yjupyterhub/work/.log/20230726/20230726-225658-0308.log",
      "/notebooks/notebook/work_terayama/yjupyterhub/work/.log/20230726/20230726-232636-0700.log",
      "/notebooks/notebook/work_terayama/yjupyterhub/work/.log/20230726/20230726-235145-0193.log",
      "/notebooks/notebook/work_terayama/yjupyterhub/work/.log/20230727/20230727-002108-0416.log",
      "/notebooks/notebook/work_terayama/yjupyterhub/work/.log/20230727/20230727-004457-0085.log",
      "/notebooks/notebook/work_terayama/yjupyterhub/work/.log/20230727/20230727-121116-0962.log",
      "/notebooks/notebook/work_terayama/yjupyterhub/work/.log/20230727/20230727-122846-0635.log",
      "/notebooks/notebook/work_terayama/yjupyterhub/work/.log/20230727/20230727-132637-0424.log",
      "/notebooks/notebook/work_terayama/yjupyterhub/work/.log/20230727/20230727-140312-0784.log",
      "/notebooks/notebook/work_terayama/yjupyterhub/work/.log/20230801/20230801-151240-0945.log",
      "/notebooks/notebook/yamaguchi-hub/work/.log/20240517/20240517-161950-0011.log",
      "/notebooks/notebook/yamaguchi-hub/handon001/.log/20240520/20240520-155236-0344.log"
     ]
    }
   },
   "outputs": [],
   "source": [
    "!cat ansible.cfg"
   ]
  },
  {
   "cell_type": "markdown",
   "metadata": {
    "hidden": true,
    "lc_cell_meme": {
     "current": "88939fe6-2bba-11ee-987e-0242ac110002-7-a88e-2be7-42e4-a56e-a4ed-a625-e9f7",
     "history": [
      {
       "current": "88939fe6-2bba-11ee-987e-0242ac110002",
       "next": "8893a086-2bba-11ee-987e-0242ac110002",
       "previous": "88939f46-2bba-11ee-987e-0242ac110002"
      },
      {
       "current": "88939fe6-2bba-11ee-987e-0242ac110002",
       "next": "6714583a-2bbd-11ee-987e-0242ac110002",
       "previous": "88939f46-2bba-11ee-987e-0242ac110002"
      },
      {
       "current": "88939fe6-2bba-11ee-987e-0242ac110002-1-a88e",
       "next": "8893a086-2bba-11ee-987e-0242ac110002",
       "previous": "88939f46-2bba-11ee-987e-0242ac110002"
      },
      {
       "current": "88939fe6-2bba-11ee-987e-0242ac110002-2-a88e-2be7",
       "next": "8893a086-2bba-11ee-987e-0242ac110002-1-f6a1",
       "previous": "88939f46-2bba-11ee-987e-0242ac110002-1-b580"
      },
      {
       "current": "88939fe6-2bba-11ee-987e-0242ac110002-3-a88e-2be7-42e4",
       "next": "8893a086-2bba-11ee-987e-0242ac110002-2-f6a1-ceaa",
       "previous": "88939f46-2bba-11ee-987e-0242ac110002-2-b580-678f"
      },
      {
       "current": "88939fe6-2bba-11ee-987e-0242ac110002-4-a88e-2be7-42e4-a56e",
       "next": "8893a086-2bba-11ee-987e-0242ac110002-3-f6a1-ceaa-d98b",
       "previous": "88939f46-2bba-11ee-987e-0242ac110002-3-b580-678f-7366"
      },
      {
       "current": "88939fe6-2bba-11ee-987e-0242ac110002-5-a88e-2be7-42e4-a56e-a4ed",
       "next": "8893a086-2bba-11ee-987e-0242ac110002-4-f6a1-ceaa-d98b-e98d",
       "previous": "88939f46-2bba-11ee-987e-0242ac110002-4-b580-678f-7366-2f71"
      },
      {
       "current": "88939fe6-2bba-11ee-987e-0242ac110002-6-a88e-2be7-42e4-a56e-a4ed-a625",
       "next": "8893a086-2bba-11ee-987e-0242ac110002-5-f6a1-ceaa-d98b-e98d-be7f",
       "previous": "88939f46-2bba-11ee-987e-0242ac110002-5-b580-678f-7366-2f71-805e"
      },
      {
       "current": "88939fe6-2bba-11ee-987e-0242ac110002-7-a88e-2be7-42e4-a56e-a4ed-a625-e9f7",
       "next": "8893a086-2bba-11ee-987e-0242ac110002-6-f6a1-ceaa-d98b-e98d-be7f-b3c1",
       "previous": "88939f46-2bba-11ee-987e-0242ac110002-6-b580-678f-7366-2f71-805e-09f8"
      }
     ],
     "next": "8893a086-2bba-11ee-987e-0242ac110002-7-f6a1-ceaa-d98b-e98d-be7f-b3c1-14a1",
     "previous": "88939f46-2bba-11ee-987e-0242ac110002-7-b580-678f-7366-2f71-805e-09f8-4735"
    }
   },
   "source": [
    "UnitGroupに属する全てのVCノードに対して Ansible で接続できることを確認します。\n",
    "\n",
    "> ここでは、複数のVCノードをまとめて扱うためにAnsibleのグループを指定しています。グループ名は UnitGroup名と同じ値にしてあります。"
   ]
  },
  {
   "cell_type": "code",
   "execution_count": null,
   "metadata": {
    "hidden": true,
    "lc_cell_meme": {
     "current": "8893a086-2bba-11ee-987e-0242ac110002-7-f6a1-ceaa-d98b-e98d-be7f-b3c1-14a1",
     "history": [
      {
       "current": "8893a086-2bba-11ee-987e-0242ac110002",
       "next": "8893a16c-2bba-11ee-987e-0242ac110002",
       "previous": "88939fe6-2bba-11ee-987e-0242ac110002"
      },
      {
       "current": "8893a086-2bba-11ee-987e-0242ac110002",
       "next": "8893a16c-2bba-11ee-987e-0242ac110002",
       "previous": "6714583a-2bbd-11ee-987e-0242ac110002"
      },
      {
       "current": "8893a086-2bba-11ee-987e-0242ac110002-1-f6a1",
       "next": "8893a16c-2bba-11ee-987e-0242ac110002",
       "previous": "88939fe6-2bba-11ee-987e-0242ac110002"
      },
      {
       "current": "8893a086-2bba-11ee-987e-0242ac110002-2-f6a1-ceaa",
       "next": "8893a16c-2bba-11ee-987e-0242ac110002-1-dd9b",
       "previous": "88939fe6-2bba-11ee-987e-0242ac110002-1-a88e"
      },
      {
       "current": "8893a086-2bba-11ee-987e-0242ac110002-3-f6a1-ceaa-d98b",
       "next": "8893a16c-2bba-11ee-987e-0242ac110002-2-dd9b-a12a",
       "previous": "88939fe6-2bba-11ee-987e-0242ac110002-2-a88e-2be7"
      },
      {
       "current": "8893a086-2bba-11ee-987e-0242ac110002-4-f6a1-ceaa-d98b-e98d",
       "next": "8893a16c-2bba-11ee-987e-0242ac110002-3-dd9b-a12a-14fd",
       "previous": "88939fe6-2bba-11ee-987e-0242ac110002-3-a88e-2be7-42e4"
      },
      {
       "current": "8893a086-2bba-11ee-987e-0242ac110002-5-f6a1-ceaa-d98b-e98d-be7f",
       "next": "8893a16c-2bba-11ee-987e-0242ac110002-4-dd9b-a12a-14fd-82b4",
       "previous": "88939fe6-2bba-11ee-987e-0242ac110002-4-a88e-2be7-42e4-a56e"
      },
      {
       "current": "8893a086-2bba-11ee-987e-0242ac110002-6-f6a1-ceaa-d98b-e98d-be7f-b3c1",
       "next": "8893a16c-2bba-11ee-987e-0242ac110002-5-dd9b-a12a-14fd-82b4-fc14",
       "previous": "88939fe6-2bba-11ee-987e-0242ac110002-5-a88e-2be7-42e4-a56e-a4ed"
      },
      {
       "current": "8893a086-2bba-11ee-987e-0242ac110002-7-f6a1-ceaa-d98b-e98d-be7f-b3c1-14a1",
       "next": "8893a16c-2bba-11ee-987e-0242ac110002-6-dd9b-a12a-14fd-82b4-fc14-8ab4",
       "previous": "88939fe6-2bba-11ee-987e-0242ac110002-6-a88e-2be7-42e4-a56e-a4ed-a625"
      }
     ],
     "next": "8893a16c-2bba-11ee-987e-0242ac110002-7-dd9b-a12a-14fd-82b4-fc14-8ab4-6180",
     "previous": "88939fe6-2bba-11ee-987e-0242ac110002-7-a88e-2be7-42e4-a56e-a4ed-a625-e9f7"
    },
    "lc_wrapper": {
     "log_history": [
      "/notebooks/notebook/work_terayama/yjupyterhub/work/.log/20230726/20230726-225659-0057.log",
      "/notebooks/notebook/work_terayama/yjupyterhub/work/.log/20230726/20230726-233306-0214.log",
      "/notebooks/notebook/work_terayama/yjupyterhub/work/.log/20230726/20230726-235145-0944.log",
      "/notebooks/notebook/work_terayama/yjupyterhub/work/.log/20230727/20230727-002109-0153.log",
      "/notebooks/notebook/work_terayama/yjupyterhub/work/.log/20230727/20230727-004457-0848.log",
      "/notebooks/notebook/work_terayama/yjupyterhub/work/.log/20230727/20230727-121117-0710.log",
      "/notebooks/notebook/work_terayama/yjupyterhub/work/.log/20230727/20230727-122847-0377.log",
      "/notebooks/notebook/work_terayama/yjupyterhub/work/.log/20230727/20230727-132638-0172.log",
      "/notebooks/notebook/work_terayama/yjupyterhub/work/.log/20230727/20230727-140313-0525.log",
      "/notebooks/notebook/work_terayama/yjupyterhub/work/.log/20230801/20230801-151241-0696.log",
      "/notebooks/notebook/yamaguchi-hub/work/.log/20240517/20240517-161950-0315.log",
      "/notebooks/notebook/yamaguchi-hub/handon001/.log/20240520/20240520-155236-0631.log"
     ]
    }
   },
   "outputs": [],
   "source": [
    "!ansible {ugroup.name} -m ping"
   ]
  },
  {
   "cell_type": "markdown",
   "metadata": {
    "hidden": true,
    "lc_cell_meme": {
     "current": "8893a16c-2bba-11ee-987e-0242ac110002-7-dd9b-a12a-14fd-82b4-fc14-8ab4-6180",
     "history": [
      {
       "current": "8893a16c-2bba-11ee-987e-0242ac110002-1-dd9b",
       "next": "8893a234-2bba-11ee-987e-0242ac110002",
       "previous": "8893a086-2bba-11ee-987e-0242ac110002"
      },
      {
       "current": "8893a16c-2bba-11ee-987e-0242ac110002-2-dd9b-a12a",
       "next": "8893a234-2bba-11ee-987e-0242ac110002-1-c389",
       "previous": "8893a086-2bba-11ee-987e-0242ac110002-1-f6a1"
      },
      {
       "current": "8893a16c-2bba-11ee-987e-0242ac110002-3-dd9b-a12a-14fd",
       "next": "8893a234-2bba-11ee-987e-0242ac110002-2-c389-7f77",
       "previous": "8893a086-2bba-11ee-987e-0242ac110002-2-f6a1-ceaa"
      },
      {
       "current": "8893a16c-2bba-11ee-987e-0242ac110002-4-dd9b-a12a-14fd-82b4",
       "next": "8893a234-2bba-11ee-987e-0242ac110002-3-c389-7f77-4b9e",
       "previous": "8893a086-2bba-11ee-987e-0242ac110002-3-f6a1-ceaa-d98b"
      },
      {
       "current": "8893a16c-2bba-11ee-987e-0242ac110002-5-dd9b-a12a-14fd-82b4-fc14",
       "next": "8893a234-2bba-11ee-987e-0242ac110002-4-c389-7f77-4b9e-8223",
       "previous": "8893a086-2bba-11ee-987e-0242ac110002-4-f6a1-ceaa-d98b-e98d"
      },
      {
       "current": "8893a16c-2bba-11ee-987e-0242ac110002-6-dd9b-a12a-14fd-82b4-fc14-8ab4",
       "next": "8893a234-2bba-11ee-987e-0242ac110002-5-c389-7f77-4b9e-8223-73b3",
       "previous": "8893a086-2bba-11ee-987e-0242ac110002-5-f6a1-ceaa-d98b-e98d-be7f"
      },
      {
       "current": "8893a16c-2bba-11ee-987e-0242ac110002-7-dd9b-a12a-14fd-82b4-fc14-8ab4-6180",
       "next": "8893a234-2bba-11ee-987e-0242ac110002-6-c389-7f77-4b9e-8223-73b3-e9c8",
       "previous": "8893a086-2bba-11ee-987e-0242ac110002-6-f6a1-ceaa-d98b-e98d-be7f-b3c1"
      }
     ],
     "next": "8893a234-2bba-11ee-987e-0242ac110002-7-c389-7f77-4b9e-8223-73b3-e9c8-106c",
     "previous": "8893a086-2bba-11ee-987e-0242ac110002-7-f6a1-ceaa-d98b-e98d-be7f-b3c1-14a1"
    }
   },
   "source": [
    "#### NFSサーバの確認"
   ]
  },
  {
   "cell_type": "markdown",
   "metadata": {
    "hidden": true,
    "lc_cell_meme": {
     "current": "8893a234-2bba-11ee-987e-0242ac110002-7-c389-7f77-4b9e-8223-73b3-e9c8-106c",
     "history": [
      {
       "current": "8893a234-2bba-11ee-987e-0242ac110002-1-c389",
       "next": "8893a2d4-2bba-11ee-987e-0242ac110002",
       "previous": "8893a16c-2bba-11ee-987e-0242ac110002"
      },
      {
       "current": "8893a234-2bba-11ee-987e-0242ac110002-2-c389-7f77",
       "next": "8893a2d4-2bba-11ee-987e-0242ac110002-1-8da1",
       "previous": "8893a16c-2bba-11ee-987e-0242ac110002-1-dd9b"
      },
      {
       "current": "8893a234-2bba-11ee-987e-0242ac110002-3-c389-7f77-4b9e",
       "next": "8893a2d4-2bba-11ee-987e-0242ac110002-2-8da1-81f1",
       "previous": "8893a16c-2bba-11ee-987e-0242ac110002-2-dd9b-a12a"
      },
      {
       "current": "8893a234-2bba-11ee-987e-0242ac110002-4-c389-7f77-4b9e-8223",
       "next": "8893a2d4-2bba-11ee-987e-0242ac110002-3-8da1-81f1-bbe7",
       "previous": "8893a16c-2bba-11ee-987e-0242ac110002-3-dd9b-a12a-14fd"
      },
      {
       "current": "8893a234-2bba-11ee-987e-0242ac110002-5-c389-7f77-4b9e-8223-73b3",
       "next": "8893a2d4-2bba-11ee-987e-0242ac110002-4-8da1-81f1-bbe7-e602",
       "previous": "8893a16c-2bba-11ee-987e-0242ac110002-4-dd9b-a12a-14fd-82b4"
      },
      {
       "current": "8893a234-2bba-11ee-987e-0242ac110002-6-c389-7f77-4b9e-8223-73b3-e9c8",
       "next": "8893a2d4-2bba-11ee-987e-0242ac110002-5-8da1-81f1-bbe7-e602-a839",
       "previous": "8893a16c-2bba-11ee-987e-0242ac110002-5-dd9b-a12a-14fd-82b4-fc14"
      },
      {
       "current": "8893a234-2bba-11ee-987e-0242ac110002-7-c389-7f77-4b9e-8223-73b3-e9c8-106c",
       "next": "8893a2d4-2bba-11ee-987e-0242ac110002-6-8da1-81f1-bbe7-e602-a839-92e6",
       "previous": "8893a16c-2bba-11ee-987e-0242ac110002-6-dd9b-a12a-14fd-82b4-fc14-8ab4"
      }
     ],
     "next": "8893a2d4-2bba-11ee-987e-0242ac110002-7-8da1-81f1-bbe7-e602-a839-92e6-ae55",
     "previous": "8893a16c-2bba-11ee-987e-0242ac110002-7-dd9b-a12a-14fd-82b4-fc14-8ab4-6180"
    }
   },
   "source": [
    "managerノードのNFSサーバのサービス状態を確認します。"
   ]
  },
  {
   "cell_type": "code",
   "execution_count": null,
   "metadata": {
    "hidden": true,
    "lc_cell_meme": {
     "current": "8893a2d4-2bba-11ee-987e-0242ac110002-7-8da1-81f1-bbe7-e602-a839-92e6-ae55",
     "history": [
      {
       "current": "8893a2d4-2bba-11ee-987e-0242ac110002-1-8da1",
       "next": "8893a37e-2bba-11ee-987e-0242ac110002",
       "previous": "8893a234-2bba-11ee-987e-0242ac110002"
      },
      {
       "current": "8893a2d4-2bba-11ee-987e-0242ac110002-2-8da1-81f1",
       "next": "8893a37e-2bba-11ee-987e-0242ac110002-1-5c09",
       "previous": "8893a234-2bba-11ee-987e-0242ac110002-1-c389"
      },
      {
       "current": "8893a2d4-2bba-11ee-987e-0242ac110002-3-8da1-81f1-bbe7",
       "next": "8893a37e-2bba-11ee-987e-0242ac110002-2-5c09-8240",
       "previous": "8893a234-2bba-11ee-987e-0242ac110002-2-c389-7f77"
      },
      {
       "current": "8893a2d4-2bba-11ee-987e-0242ac110002-4-8da1-81f1-bbe7-e602",
       "next": "8893a37e-2bba-11ee-987e-0242ac110002-3-5c09-8240-29e4",
       "previous": "8893a234-2bba-11ee-987e-0242ac110002-3-c389-7f77-4b9e"
      },
      {
       "current": "8893a2d4-2bba-11ee-987e-0242ac110002-5-8da1-81f1-bbe7-e602-a839",
       "next": "8893a37e-2bba-11ee-987e-0242ac110002-4-5c09-8240-29e4-959d",
       "previous": "8893a234-2bba-11ee-987e-0242ac110002-4-c389-7f77-4b9e-8223"
      },
      {
       "current": "8893a2d4-2bba-11ee-987e-0242ac110002-6-8da1-81f1-bbe7-e602-a839-92e6",
       "next": "8893a37e-2bba-11ee-987e-0242ac110002-5-5c09-8240-29e4-959d-b38b",
       "previous": "8893a234-2bba-11ee-987e-0242ac110002-5-c389-7f77-4b9e-8223-73b3"
      },
      {
       "current": "8893a2d4-2bba-11ee-987e-0242ac110002-7-8da1-81f1-bbe7-e602-a839-92e6-ae55",
       "next": "8893a37e-2bba-11ee-987e-0242ac110002-6-5c09-8240-29e4-959d-b38b-5cc7",
       "previous": "8893a234-2bba-11ee-987e-0242ac110002-6-c389-7f77-4b9e-8223-73b3-e9c8"
      }
     ],
     "next": "8893a37e-2bba-11ee-987e-0242ac110002-7-5c09-8240-29e4-959d-b38b-5cc7-515e",
     "previous": "8893a234-2bba-11ee-987e-0242ac110002-7-c389-7f77-4b9e-8223-73b3-e9c8-106c"
    },
    "lc_wrapper": {
     "log_history": [
      "/notebooks/notebook/work_terayama/yjupyterhub/work/.log/20230726/20230726-235148-0023.log",
      "/notebooks/notebook/work_terayama/yjupyterhub/work/.log/20230727/20230727-002111-0226.log",
      "/notebooks/notebook/work_terayama/yjupyterhub/work/.log/20230727/20230727-004459-0904.log",
      "/notebooks/notebook/work_terayama/yjupyterhub/work/.log/20230727/20230727-122849-0442.log",
      "/notebooks/notebook/work_terayama/yjupyterhub/work/.log/20230727/20230727-132640-0251.log",
      "/notebooks/notebook/work_terayama/yjupyterhub/work/.log/20230727/20230727-140315-0607.log",
      "/notebooks/notebook/work_terayama/yjupyterhub/work/.log/20230801/20230801-151243-0754.log",
      "/notebooks/notebook/yamaguchi-hub/work/.log/20240517/20240517-161952-0627.log",
      "/notebooks/notebook/yamaguchi-hub/handon001/.log/20240520/20240520-155238-0571.log"
     ]
    }
   },
   "outputs": [],
   "source": [
    "!ansible {ugroup.name}_{unit_mgr.name} -b -a 'systemctl status nfs-server'"
   ]
  },
  {
   "cell_type": "markdown",
   "metadata": {
    "hidden": true,
    "lc_cell_meme": {
     "current": "8893a37e-2bba-11ee-987e-0242ac110002-7-5c09-8240-29e4-959d-b38b-5cc7-515e",
     "history": [
      {
       "current": "8893a37e-2bba-11ee-987e-0242ac110002-1-5c09",
       "next": "8893a428-2bba-11ee-987e-0242ac110002",
       "previous": "8893a2d4-2bba-11ee-987e-0242ac110002"
      },
      {
       "current": "8893a37e-2bba-11ee-987e-0242ac110002-2-5c09-8240",
       "next": "8893a428-2bba-11ee-987e-0242ac110002-1-0620",
       "previous": "8893a2d4-2bba-11ee-987e-0242ac110002-1-8da1"
      },
      {
       "current": "8893a37e-2bba-11ee-987e-0242ac110002-3-5c09-8240-29e4",
       "next": "8893a428-2bba-11ee-987e-0242ac110002-2-0620-9bc8",
       "previous": "8893a2d4-2bba-11ee-987e-0242ac110002-2-8da1-81f1"
      },
      {
       "current": "8893a37e-2bba-11ee-987e-0242ac110002-4-5c09-8240-29e4-959d",
       "next": "8893a428-2bba-11ee-987e-0242ac110002-3-0620-9bc8-9056",
       "previous": "8893a2d4-2bba-11ee-987e-0242ac110002-3-8da1-81f1-bbe7"
      },
      {
       "current": "8893a37e-2bba-11ee-987e-0242ac110002-5-5c09-8240-29e4-959d-b38b",
       "next": "8893a428-2bba-11ee-987e-0242ac110002-4-0620-9bc8-9056-1e60",
       "previous": "8893a2d4-2bba-11ee-987e-0242ac110002-4-8da1-81f1-bbe7-e602"
      },
      {
       "current": "8893a37e-2bba-11ee-987e-0242ac110002-6-5c09-8240-29e4-959d-b38b-5cc7",
       "next": "8893a428-2bba-11ee-987e-0242ac110002-5-0620-9bc8-9056-1e60-9c7b",
       "previous": "8893a2d4-2bba-11ee-987e-0242ac110002-5-8da1-81f1-bbe7-e602-a839"
      },
      {
       "current": "8893a37e-2bba-11ee-987e-0242ac110002-7-5c09-8240-29e4-959d-b38b-5cc7-515e",
       "next": "8893a428-2bba-11ee-987e-0242ac110002-6-0620-9bc8-9056-1e60-9c7b-0af7",
       "previous": "8893a2d4-2bba-11ee-987e-0242ac110002-6-8da1-81f1-bbe7-e602-a839-92e6"
      }
     ],
     "next": "8893a428-2bba-11ee-987e-0242ac110002-7-0620-9bc8-9056-1e60-9c7b-0af7-8bb2",
     "previous": "8893a2d4-2bba-11ee-987e-0242ac110002-7-8da1-81f1-bbe7-e602-a839-92e6-ae55"
    }
   },
   "source": [
    "NFSエクスポートの状態を確認します。managerノードの起動時は全てのノードに対してアクセス可能な状態に設定されています。後ほどworkerノードを起動してNFSクライアントのIPアドレスが確定した時点で`/etc/exports`の設定を更新し、アクセスできるノードの制限を行います。"
   ]
  },
  {
   "cell_type": "code",
   "execution_count": null,
   "metadata": {
    "hidden": true,
    "lc_cell_meme": {
     "current": "8893a428-2bba-11ee-987e-0242ac110002-7-0620-9bc8-9056-1e60-9c7b-0af7-8bb2",
     "history": [
      {
       "current": "8893a428-2bba-11ee-987e-0242ac110002-1-0620",
       "next": "8893a4d2-2bba-11ee-987e-0242ac110002",
       "previous": "8893a37e-2bba-11ee-987e-0242ac110002"
      },
      {
       "current": "8893a428-2bba-11ee-987e-0242ac110002-2-0620-9bc8",
       "next": "8893a4d2-2bba-11ee-987e-0242ac110002-1-90ed",
       "previous": "8893a37e-2bba-11ee-987e-0242ac110002-1-5c09"
      },
      {
       "current": "8893a428-2bba-11ee-987e-0242ac110002-3-0620-9bc8-9056",
       "next": "8893a4d2-2bba-11ee-987e-0242ac110002-2-90ed-4289",
       "previous": "8893a37e-2bba-11ee-987e-0242ac110002-2-5c09-8240"
      },
      {
       "current": "8893a428-2bba-11ee-987e-0242ac110002-4-0620-9bc8-9056-1e60",
       "next": "8893a4d2-2bba-11ee-987e-0242ac110002-3-90ed-4289-8c9b",
       "previous": "8893a37e-2bba-11ee-987e-0242ac110002-3-5c09-8240-29e4"
      },
      {
       "current": "8893a428-2bba-11ee-987e-0242ac110002-5-0620-9bc8-9056-1e60-9c7b",
       "next": "8893a4d2-2bba-11ee-987e-0242ac110002-4-90ed-4289-8c9b-1ba6",
       "previous": "8893a37e-2bba-11ee-987e-0242ac110002-4-5c09-8240-29e4-959d"
      },
      {
       "current": "8893a428-2bba-11ee-987e-0242ac110002-6-0620-9bc8-9056-1e60-9c7b-0af7",
       "next": "8893a4d2-2bba-11ee-987e-0242ac110002-5-90ed-4289-8c9b-1ba6-b58d",
       "previous": "8893a37e-2bba-11ee-987e-0242ac110002-5-5c09-8240-29e4-959d-b38b"
      },
      {
       "current": "8893a428-2bba-11ee-987e-0242ac110002-7-0620-9bc8-9056-1e60-9c7b-0af7-8bb2",
       "next": "8893a4d2-2bba-11ee-987e-0242ac110002-6-90ed-4289-8c9b-1ba6-b58d-4299",
       "previous": "8893a37e-2bba-11ee-987e-0242ac110002-6-5c09-8240-29e4-959d-b38b-5cc7"
      }
     ],
     "next": "8893a4d2-2bba-11ee-987e-0242ac110002-7-90ed-4289-8c9b-1ba6-b58d-4299-cb9f",
     "previous": "8893a37e-2bba-11ee-987e-0242ac110002-7-5c09-8240-29e4-959d-b38b-5cc7-515e"
    },
    "lc_wrapper": {
     "log_history": [
      "/notebooks/notebook/work_terayama/yjupyterhub/work/.log/20230726/20230726-235150-0043.log",
      "/notebooks/notebook/work_terayama/yjupyterhub/work/.log/20230727/20230727-002113-0220.log",
      "/notebooks/notebook/work_terayama/yjupyterhub/work/.log/20230727/20230727-004501-0925.log",
      "/notebooks/notebook/work_terayama/yjupyterhub/work/.log/20230727/20230727-122851-0415.log",
      "/notebooks/notebook/work_terayama/yjupyterhub/work/.log/20230727/20230727-132642-0282.log",
      "/notebooks/notebook/work_terayama/yjupyterhub/work/.log/20230727/20230727-140317-0610.log",
      "/notebooks/notebook/work_terayama/yjupyterhub/work/.log/20230801/20230801-151245-0762.log",
      "/notebooks/notebook/yamaguchi-hub/work/.log/20240517/20240517-161954-0464.log",
      "/notebooks/notebook/yamaguchi-hub/handon001/.log/20240520/20240520-155240-0289.log"
     ]
    }
   },
   "outputs": [],
   "source": [
    "!ansible {ugroup.name}_{unit_mgr.name} -b -a 'exportfs -v'"
   ]
  },
  {
   "cell_type": "markdown",
   "metadata": {
    "hidden": true,
    "lc_cell_meme": {
     "current": "8893a4d2-2bba-11ee-987e-0242ac110002-7-90ed-4289-8c9b-1ba6-b58d-4299-cb9f",
     "history": [
      {
       "current": "8893a4d2-2bba-11ee-987e-0242ac110002-1-90ed",
       "next": "8893a572-2bba-11ee-987e-0242ac110002",
       "previous": "8893a428-2bba-11ee-987e-0242ac110002"
      },
      {
       "current": "8893a4d2-2bba-11ee-987e-0242ac110002-2-90ed-4289",
       "next": "8893a572-2bba-11ee-987e-0242ac110002-1-ba56",
       "previous": "8893a428-2bba-11ee-987e-0242ac110002-1-0620"
      },
      {
       "current": "8893a4d2-2bba-11ee-987e-0242ac110002-3-90ed-4289-8c9b",
       "next": "8893a572-2bba-11ee-987e-0242ac110002-2-ba56-b884",
       "previous": "8893a428-2bba-11ee-987e-0242ac110002-2-0620-9bc8"
      },
      {
       "current": "8893a4d2-2bba-11ee-987e-0242ac110002-4-90ed-4289-8c9b-1ba6",
       "next": "8893a572-2bba-11ee-987e-0242ac110002-3-ba56-b884-2f82",
       "previous": "8893a428-2bba-11ee-987e-0242ac110002-3-0620-9bc8-9056"
      },
      {
       "current": "8893a4d2-2bba-11ee-987e-0242ac110002-5-90ed-4289-8c9b-1ba6-b58d",
       "next": "8893a572-2bba-11ee-987e-0242ac110002-4-ba56-b884-2f82-122f",
       "previous": "8893a428-2bba-11ee-987e-0242ac110002-4-0620-9bc8-9056-1e60"
      },
      {
       "current": "8893a4d2-2bba-11ee-987e-0242ac110002-6-90ed-4289-8c9b-1ba6-b58d-4299",
       "next": "8893a572-2bba-11ee-987e-0242ac110002-5-ba56-b884-2f82-122f-519a",
       "previous": "8893a428-2bba-11ee-987e-0242ac110002-5-0620-9bc8-9056-1e60-9c7b"
      },
      {
       "current": "8893a4d2-2bba-11ee-987e-0242ac110002-7-90ed-4289-8c9b-1ba6-b58d-4299-cb9f",
       "next": "8893a572-2bba-11ee-987e-0242ac110002-6-ba56-b884-2f82-122f-519a-2652",
       "previous": "8893a428-2bba-11ee-987e-0242ac110002-6-0620-9bc8-9056-1e60-9c7b-0af7"
      }
     ],
     "next": "8893a572-2bba-11ee-987e-0242ac110002-7-ba56-b884-2f82-122f-519a-2652-61f6",
     "previous": "8893a428-2bba-11ee-987e-0242ac110002-7-0620-9bc8-9056-1e60-9c7b-0af7-8bb2"
    }
   },
   "source": [
    "ディレクトリのパーミッションを設定します。"
   ]
  },
  {
   "cell_type": "code",
   "execution_count": null,
   "metadata": {
    "hidden": true,
    "lc_cell_meme": {
     "current": "8893a572-2bba-11ee-987e-0242ac110002-7-ba56-b884-2f82-122f-519a-2652-61f6",
     "history": [
      {
       "current": "8893a572-2bba-11ee-987e-0242ac110002-1-ba56",
       "next": "8893a612-2bba-11ee-987e-0242ac110002",
       "previous": "8893a4d2-2bba-11ee-987e-0242ac110002"
      },
      {
       "current": "8893a572-2bba-11ee-987e-0242ac110002-2-ba56-b884",
       "next": "8893a612-2bba-11ee-987e-0242ac110002-1-9db3",
       "previous": "8893a4d2-2bba-11ee-987e-0242ac110002-1-90ed"
      },
      {
       "current": "8893a572-2bba-11ee-987e-0242ac110002-3-ba56-b884-2f82",
       "next": "8893a612-2bba-11ee-987e-0242ac110002-2-9db3-da2f",
       "previous": "8893a4d2-2bba-11ee-987e-0242ac110002-2-90ed-4289"
      },
      {
       "current": "8893a572-2bba-11ee-987e-0242ac110002-4-ba56-b884-2f82-122f",
       "next": "8893a612-2bba-11ee-987e-0242ac110002-3-9db3-da2f-8cfb",
       "previous": "8893a4d2-2bba-11ee-987e-0242ac110002-3-90ed-4289-8c9b"
      },
      {
       "current": "8893a572-2bba-11ee-987e-0242ac110002-5-ba56-b884-2f82-122f-519a",
       "next": "8893a612-2bba-11ee-987e-0242ac110002-4-9db3-da2f-8cfb-aaa8",
       "previous": "8893a4d2-2bba-11ee-987e-0242ac110002-4-90ed-4289-8c9b-1ba6"
      },
      {
       "current": "8893a572-2bba-11ee-987e-0242ac110002-6-ba56-b884-2f82-122f-519a-2652",
       "next": "8893a612-2bba-11ee-987e-0242ac110002-5-9db3-da2f-8cfb-aaa8-9ef9",
       "previous": "8893a4d2-2bba-11ee-987e-0242ac110002-5-90ed-4289-8c9b-1ba6-b58d"
      },
      {
       "current": "8893a572-2bba-11ee-987e-0242ac110002-7-ba56-b884-2f82-122f-519a-2652-61f6",
       "next": "8893a612-2bba-11ee-987e-0242ac110002-6-9db3-da2f-8cfb-aaa8-9ef9-723a",
       "previous": "8893a4d2-2bba-11ee-987e-0242ac110002-6-90ed-4289-8c9b-1ba6-b58d-4299"
      }
     ],
     "next": "8893a612-2bba-11ee-987e-0242ac110002-7-9db3-da2f-8cfb-aaa8-9ef9-723a-eaa6",
     "previous": "8893a4d2-2bba-11ee-987e-0242ac110002-7-90ed-4289-8c9b-1ba6-b58d-4299-cb9f"
    },
    "lc_wrapper": {
     "log_history": [
      "/notebooks/notebook/work_terayama/yjupyterhub/work/.log/20230726/20230726-235152-0045.log",
      "/notebooks/notebook/work_terayama/yjupyterhub/work/.log/20230726/20230726-235307-0840.log",
      "/notebooks/notebook/work_terayama/yjupyterhub/work/.log/20230727/20230727-002115-0244.log",
      "/notebooks/notebook/work_terayama/yjupyterhub/work/.log/20230727/20230727-004503-0938.log",
      "/notebooks/notebook/work_terayama/yjupyterhub/work/.log/20230727/20230727-122853-0400.log",
      "/notebooks/notebook/work_terayama/yjupyterhub/work/.log/20230727/20230727-132644-0268.log",
      "/notebooks/notebook/work_terayama/yjupyterhub/work/.log/20230727/20230727-140319-0618.log",
      "/notebooks/notebook/work_terayama/yjupyterhub/work/.log/20230801/20230801-151247-0766.log",
      "/notebooks/notebook/yamaguchi-hub/work/.log/20240517/20240517-161956-0222.log",
      "/notebooks/notebook/yamaguchi-hub/handon001/.log/20240520/20240520-155241-0969.log"
     ]
    },
    "scrolled": true
   },
   "outputs": [],
   "source": [
    "!ansible {ugroup.name}_{unit_mgr.name} -b -m file -a 'path=/home mode=777'\n",
    "!ansible {ugroup.name}_{unit_mgr.name} -b -m file -a 'path=/exchange mode=777'"
   ]
  },
  {
   "cell_type": "markdown",
   "metadata": {
    "heading_collapsed": true,
    "hidden": true,
    "lc_cell_meme": {
     "current": "8893a612-2bba-11ee-987e-0242ac110002-7-9db3-da2f-8cfb-aaa8-9ef9-723a-eaa6",
     "history": [
      {
       "current": "8893a612-2bba-11ee-987e-0242ac110002-1-9db3",
       "next": "8893a6bc-2bba-11ee-987e-0242ac110002",
       "previous": "8893a572-2bba-11ee-987e-0242ac110002"
      },
      {
       "current": "8893a612-2bba-11ee-987e-0242ac110002-2-9db3-da2f",
       "next": "8893a6bc-2bba-11ee-987e-0242ac110002-1-84ef",
       "previous": "8893a572-2bba-11ee-987e-0242ac110002-1-ba56"
      },
      {
       "current": "8893a612-2bba-11ee-987e-0242ac110002-3-9db3-da2f-8cfb",
       "next": "8893a6bc-2bba-11ee-987e-0242ac110002-2-84ef-384c",
       "previous": "8893a572-2bba-11ee-987e-0242ac110002-2-ba56-b884"
      },
      {
       "current": "8893a612-2bba-11ee-987e-0242ac110002-4-9db3-da2f-8cfb-aaa8",
       "next": "8893a6bc-2bba-11ee-987e-0242ac110002-3-84ef-384c-3386",
       "previous": "8893a572-2bba-11ee-987e-0242ac110002-3-ba56-b884-2f82"
      },
      {
       "current": "8893a612-2bba-11ee-987e-0242ac110002-5-9db3-da2f-8cfb-aaa8-9ef9",
       "next": "8893a6bc-2bba-11ee-987e-0242ac110002-4-84ef-384c-3386-133d",
       "previous": "8893a572-2bba-11ee-987e-0242ac110002-4-ba56-b884-2f82-122f"
      },
      {
       "current": "8893a612-2bba-11ee-987e-0242ac110002-6-9db3-da2f-8cfb-aaa8-9ef9-723a",
       "next": "8893a6bc-2bba-11ee-987e-0242ac110002-5-84ef-384c-3386-133d-6191",
       "previous": "8893a572-2bba-11ee-987e-0242ac110002-5-ba56-b884-2f82-122f-519a"
      },
      {
       "current": "8893a612-2bba-11ee-987e-0242ac110002-7-9db3-da2f-8cfb-aaa8-9ef9-723a-eaa6",
       "next": "8893a6bc-2bba-11ee-987e-0242ac110002-6-84ef-384c-3386-133d-6191-2d9f",
       "previous": "8893a572-2bba-11ee-987e-0242ac110002-6-ba56-b884-2f82-122f-519a-2652"
      }
     ],
     "next": "8893a6bc-2bba-11ee-987e-0242ac110002-7-84ef-384c-3386-133d-6191-2d9f-cef2",
     "previous": "8893a572-2bba-11ee-987e-0242ac110002-7-ba56-b884-2f82-122f-519a-2652-61f6"
    }
   },
   "source": [
    "### workerノード"
   ]
  },
  {
   "cell_type": "markdown",
   "metadata": {
    "heading_collapsed": true,
    "hidden": true,
    "lc_cell_meme": {
     "current": "8893a6bc-2bba-11ee-987e-0242ac110002-7-84ef-384c-3386-133d-6191-2d9f-cef2",
     "history": [
      {
       "current": "8893a6bc-2bba-11ee-987e-0242ac110002-1-84ef",
       "next": "8893a75c-2bba-11ee-987e-0242ac110002",
       "previous": "8893a612-2bba-11ee-987e-0242ac110002"
      },
      {
       "current": "8893a6bc-2bba-11ee-987e-0242ac110002-2-84ef-384c",
       "next": "8893a75c-2bba-11ee-987e-0242ac110002-1-c555",
       "previous": "8893a612-2bba-11ee-987e-0242ac110002-1-9db3"
      },
      {
       "current": "8893a6bc-2bba-11ee-987e-0242ac110002-3-84ef-384c-3386",
       "next": "8893a75c-2bba-11ee-987e-0242ac110002-2-c555-b1ca",
       "previous": "8893a612-2bba-11ee-987e-0242ac110002-2-9db3-da2f"
      },
      {
       "current": "8893a6bc-2bba-11ee-987e-0242ac110002-4-84ef-384c-3386-133d",
       "next": "8893a75c-2bba-11ee-987e-0242ac110002-3-c555-b1ca-d319",
       "previous": "8893a612-2bba-11ee-987e-0242ac110002-3-9db3-da2f-8cfb"
      },
      {
       "current": "8893a6bc-2bba-11ee-987e-0242ac110002-5-84ef-384c-3386-133d-6191",
       "next": "8893a75c-2bba-11ee-987e-0242ac110002-4-c555-b1ca-d319-701d",
       "previous": "8893a612-2bba-11ee-987e-0242ac110002-4-9db3-da2f-8cfb-aaa8"
      },
      {
       "current": "8893a6bc-2bba-11ee-987e-0242ac110002-6-84ef-384c-3386-133d-6191-2d9f",
       "next": "8893a75c-2bba-11ee-987e-0242ac110002-5-c555-b1ca-d319-701d-3120",
       "previous": "8893a612-2bba-11ee-987e-0242ac110002-5-9db3-da2f-8cfb-aaa8-9ef9"
      },
      {
       "current": "8893a6bc-2bba-11ee-987e-0242ac110002-7-84ef-384c-3386-133d-6191-2d9f-cef2",
       "next": "8893a75c-2bba-11ee-987e-0242ac110002-6-c555-b1ca-d319-701d-3120-4c12",
       "previous": "8893a612-2bba-11ee-987e-0242ac110002-6-9db3-da2f-8cfb-aaa8-9ef9-723a"
      }
     ],
     "next": "8893a75c-2bba-11ee-987e-0242ac110002-7-c555-b1ca-d319-701d-3120-4c12-a1f4",
     "previous": "8893a612-2bba-11ee-987e-0242ac110002-7-9db3-da2f-8cfb-aaa8-9ef9-723a-eaa6"
    }
   },
   "source": [
    "#### worker用のVCノードを起動する"
   ]
  },
  {
   "cell_type": "markdown",
   "metadata": {
    "hidden": true,
    "lc_cell_meme": {
     "current": "8893a75c-2bba-11ee-987e-0242ac110002-7-c555-b1ca-d319-701d-3120-4c12-a1f4",
     "history": [
      {
       "current": "8893a75c-2bba-11ee-987e-0242ac110002-1-c555",
       "next": "8893a806-2bba-11ee-987e-0242ac110002",
       "previous": "8893a6bc-2bba-11ee-987e-0242ac110002"
      },
      {
       "current": "8893a75c-2bba-11ee-987e-0242ac110002-2-c555-b1ca",
       "next": "8893a806-2bba-11ee-987e-0242ac110002-1-2567",
       "previous": "8893a6bc-2bba-11ee-987e-0242ac110002-1-84ef"
      },
      {
       "current": "8893a75c-2bba-11ee-987e-0242ac110002-3-c555-b1ca-d319",
       "next": "8893a806-2bba-11ee-987e-0242ac110002-2-2567-49f3",
       "previous": "8893a6bc-2bba-11ee-987e-0242ac110002-2-84ef-384c"
      },
      {
       "current": "8893a75c-2bba-11ee-987e-0242ac110002-4-c555-b1ca-d319-701d",
       "next": "8893a806-2bba-11ee-987e-0242ac110002-3-2567-49f3-8b03",
       "previous": "8893a6bc-2bba-11ee-987e-0242ac110002-3-84ef-384c-3386"
      },
      {
       "current": "8893a75c-2bba-11ee-987e-0242ac110002-5-c555-b1ca-d319-701d-3120",
       "next": "8893a806-2bba-11ee-987e-0242ac110002-4-2567-49f3-8b03-9265",
       "previous": "8893a6bc-2bba-11ee-987e-0242ac110002-4-84ef-384c-3386-133d"
      },
      {
       "current": "8893a75c-2bba-11ee-987e-0242ac110002-6-c555-b1ca-d319-701d-3120-4c12",
       "next": "8893a806-2bba-11ee-987e-0242ac110002-5-2567-49f3-8b03-9265-d738",
       "previous": "8893a6bc-2bba-11ee-987e-0242ac110002-5-84ef-384c-3386-133d-6191"
      },
      {
       "current": "8893a75c-2bba-11ee-987e-0242ac110002-7-c555-b1ca-d319-701d-3120-4c12-a1f4",
       "next": "8893a806-2bba-11ee-987e-0242ac110002-6-2567-49f3-8b03-9265-d738-5073",
       "previous": "8893a6bc-2bba-11ee-987e-0242ac110002-6-84ef-384c-3386-133d-6191-2d9f"
      }
     ],
     "next": "8893a806-2bba-11ee-987e-0242ac110002-7-2567-49f3-8b03-9265-d738-5073-8185",
     "previous": "8893a6bc-2bba-11ee-987e-0242ac110002-7-84ef-384c-3386-133d-6191-2d9f-cef2"
    }
   },
   "source": [
    "worker用VCノードの `spec` を指定します。"
   ]
  },
  {
   "cell_type": "code",
   "execution_count": null,
   "metadata": {
    "hidden": true,
    "lc_cell_meme": {
     "current": "8893a806-2bba-11ee-987e-0242ac110002-7-2567-49f3-8b03-9265-d738-5073-8185",
     "history": [
      {
       "current": "8893a806-2bba-11ee-987e-0242ac110002-1-2567",
       "next": "8893a8a6-2bba-11ee-987e-0242ac110002",
       "previous": "8893a75c-2bba-11ee-987e-0242ac110002"
      },
      {
       "current": "8893a806-2bba-11ee-987e-0242ac110002-2-2567-49f3",
       "next": "8893a8a6-2bba-11ee-987e-0242ac110002-1-fdea",
       "previous": "8893a75c-2bba-11ee-987e-0242ac110002-1-c555"
      },
      {
       "current": "8893a806-2bba-11ee-987e-0242ac110002-3-2567-49f3-8b03",
       "next": "8893a8a6-2bba-11ee-987e-0242ac110002-2-fdea-0665",
       "previous": "8893a75c-2bba-11ee-987e-0242ac110002-2-c555-b1ca"
      },
      {
       "current": "8893a806-2bba-11ee-987e-0242ac110002-4-2567-49f3-8b03-9265",
       "next": "8893a8a6-2bba-11ee-987e-0242ac110002-3-fdea-0665-a1aa",
       "previous": "8893a75c-2bba-11ee-987e-0242ac110002-3-c555-b1ca-d319"
      },
      {
       "current": "8893a806-2bba-11ee-987e-0242ac110002-5-2567-49f3-8b03-9265-d738",
       "next": "8893a8a6-2bba-11ee-987e-0242ac110002-4-fdea-0665-a1aa-bd13",
       "previous": "8893a75c-2bba-11ee-987e-0242ac110002-4-c555-b1ca-d319-701d"
      },
      {
       "current": "8893a806-2bba-11ee-987e-0242ac110002-6-2567-49f3-8b03-9265-d738-5073",
       "next": "8893a8a6-2bba-11ee-987e-0242ac110002-5-fdea-0665-a1aa-bd13-90a0",
       "previous": "8893a75c-2bba-11ee-987e-0242ac110002-5-c555-b1ca-d319-701d-3120"
      },
      {
       "current": "8893a806-2bba-11ee-987e-0242ac110002-7-2567-49f3-8b03-9265-d738-5073-8185",
       "next": "8893a8a6-2bba-11ee-987e-0242ac110002-6-fdea-0665-a1aa-bd13-90a0-713e",
       "previous": "8893a75c-2bba-11ee-987e-0242ac110002-6-c555-b1ca-d319-701d-3120-4c12"
      }
     ],
     "next": "8893a8a6-2bba-11ee-987e-0242ac110002-7-fdea-0665-a1aa-bd13-90a0-713e-8086",
     "previous": "8893a75c-2bba-11ee-987e-0242ac110002-7-c555-b1ca-d319-701d-3120-4c12-a1f4"
    },
    "lc_wrapper": {
     "log_history": [
      "/notebooks/notebook/work_terayama/yjupyterhub/work/.log/20230726/20230726-235337-0067.log",
      "/notebooks/notebook/work_terayama/yjupyterhub/work/.log/20230727/20230727-002121-0877.log",
      "/notebooks/notebook/work_terayama/yjupyterhub/work/.log/20230727/20230727-004507-0984.log",
      "/notebooks/notebook/work_terayama/yjupyterhub/work/.log/20230727/20230727-122857-0407.log",
      "/notebooks/notebook/work_terayama/yjupyterhub/work/.log/20230727/20230727-132648-0337.log",
      "/notebooks/notebook/work_terayama/yjupyterhub/work/.log/20230727/20230727-140523-0629.log",
      "/notebooks/notebook/work_terayama/yjupyterhub/work/.log/20230801/20230801-151251-0797.log",
      "/notebooks/notebook/yamaguchi-hub/work/.log/20240517/20240517-161959-0482.log",
      "/notebooks/notebook/yamaguchi-hub/handon001/.log/20240520/20240520-155245-0349.log"
     ]
    },
    "tags": [
     "vcp:rewrite:container_image"
    ]
   },
   "outputs": [],
   "source": [
    "%run scripts/group.py\n",
    "gvars = load_group_vars(ugroup_name)\n",
    "spec_worker = vcp.get_spec(gvars['vc_provider'], gvars['worker_flavor'])\n",
    "\n",
    "# Baseコンテナイメージを指定する\n",
    "spec_worker.image = 'harbor.vcloud.nii.ac.jp/vcp/coursewarehub:base'\n",
    "\n",
    "spec_worker.params_v = [\n",
    "    '/sys/fs/cgroup:/sys/fs/cgroup:ro',\n",
    "    '/lib/modules:/lib/modules:ro',\n",
    "]\n",
    "\n",
    "# workerノード数を指定する\n",
    "spec_worker.num_nodes = int(gvars['worker_nodes'])\n",
    "\n",
    "if 'worker_ipaddresses' in gvars:\n",
    "    # worker用VCノードに割り当てるIPアドレスを指定する\n",
    "    spec_worker.ip_addresses = gvars['worker_ipaddresses']\n",
    "elif 'vc_mac_addresses' in gvars:\n",
    "    # worker用VCノードに割り当てるMACアドレスを指定する\n",
    "    spec_worker.mac_addresses = gvars['worker_mac_addresses']\n",
    "\n",
    "# ルートボリュームサイズを指定する\n",
    "if vc_provider == 'aws':\n",
    "    spec_worker.volume_size = gvars['worker_disk_size']\n",
    "elif vc_provider == 'azure':\n",
    "    spec_worker.disk_size_gb = gvars['worker_disk_size']\n",
    "else:\n",
    "    print('This provider does not support the specification of the root volume size.' +\n",
    "          ' Does not set the disk size.', file=sys.stderr)\n",
    "\n",
    "# オンプレミスに構築する場合、SSHログインユーザ名を指定\n",
    "if vc_provider == 'onpremises':\n",
    "    spec_worker.user_name = ssh_user\n",
    "\n",
    "# VCノードにsshでログインするための公開鍵を指定する\n",
    "spec_worker.set_ssh_pubkey(gvars['ssh_public_key_path'])\n",
    "\n",
    "# NFSサーバのIPアドレスを指定する\n",
    "spec_worker.params_e.append(\"NFS_SERVER=\" + gvars['vc_ipaddress'])"
   ]
  },
  {
   "cell_type": "markdown",
   "metadata": {
    "hidden": true,
    "lc_cell_meme": {
     "current": "8893a8a6-2bba-11ee-987e-0242ac110002-7-fdea-0665-a1aa-bd13-90a0-713e-8086",
     "history": [
      {
       "current": "8893a8a6-2bba-11ee-987e-0242ac110002-1-fdea",
       "next": "8893a946-2bba-11ee-987e-0242ac110002",
       "previous": "8893a806-2bba-11ee-987e-0242ac110002"
      },
      {
       "current": "8893a8a6-2bba-11ee-987e-0242ac110002-2-fdea-0665",
       "next": "8893a946-2bba-11ee-987e-0242ac110002-1-a062",
       "previous": "8893a806-2bba-11ee-987e-0242ac110002-1-2567"
      },
      {
       "current": "8893a8a6-2bba-11ee-987e-0242ac110002-3-fdea-0665-a1aa",
       "next": "8893a946-2bba-11ee-987e-0242ac110002-2-a062-c5ab",
       "previous": "8893a806-2bba-11ee-987e-0242ac110002-2-2567-49f3"
      },
      {
       "current": "8893a8a6-2bba-11ee-987e-0242ac110002-4-fdea-0665-a1aa-bd13",
       "next": "8893a946-2bba-11ee-987e-0242ac110002-3-a062-c5ab-ac79",
       "previous": "8893a806-2bba-11ee-987e-0242ac110002-3-2567-49f3-8b03"
      },
      {
       "current": "8893a8a6-2bba-11ee-987e-0242ac110002-5-fdea-0665-a1aa-bd13-90a0",
       "next": "8893a946-2bba-11ee-987e-0242ac110002-4-a062-c5ab-ac79-01e7",
       "previous": "8893a806-2bba-11ee-987e-0242ac110002-4-2567-49f3-8b03-9265"
      },
      {
       "current": "8893a8a6-2bba-11ee-987e-0242ac110002-6-fdea-0665-a1aa-bd13-90a0-713e",
       "next": "8893a946-2bba-11ee-987e-0242ac110002-5-a062-c5ab-ac79-01e7-98d9",
       "previous": "8893a806-2bba-11ee-987e-0242ac110002-5-2567-49f3-8b03-9265-d738"
      },
      {
       "current": "8893a8a6-2bba-11ee-987e-0242ac110002-7-fdea-0665-a1aa-bd13-90a0-713e-8086",
       "next": "8893a946-2bba-11ee-987e-0242ac110002-6-a062-c5ab-ac79-01e7-98d9-aed9",
       "previous": "8893a806-2bba-11ee-987e-0242ac110002-6-2567-49f3-8b03-9265-d738-5073"
      }
     ],
     "next": "8893a946-2bba-11ee-987e-0242ac110002-7-a062-c5ab-ac79-01e7-98d9-aed9-ba55",
     "previous": "8893a806-2bba-11ee-987e-0242ac110002-7-2567-49f3-8b03-9265-d738-5073-8185"
    }
   },
   "source": [
    "`spec` の設定値を確認します。"
   ]
  },
  {
   "cell_type": "code",
   "execution_count": null,
   "metadata": {
    "hidden": true,
    "lc_cell_meme": {
     "current": "8893a946-2bba-11ee-987e-0242ac110002-7-a062-c5ab-ac79-01e7-98d9-aed9-ba55",
     "history": [
      {
       "current": "8893a946-2bba-11ee-987e-0242ac110002-1-a062",
       "next": "8893a9f0-2bba-11ee-987e-0242ac110002",
       "previous": "8893a8a6-2bba-11ee-987e-0242ac110002"
      },
      {
       "current": "8893a946-2bba-11ee-987e-0242ac110002-2-a062-c5ab",
       "next": "8893a9f0-2bba-11ee-987e-0242ac110002-1-e08e",
       "previous": "8893a8a6-2bba-11ee-987e-0242ac110002-1-fdea"
      },
      {
       "current": "8893a946-2bba-11ee-987e-0242ac110002-3-a062-c5ab-ac79",
       "next": "8893a9f0-2bba-11ee-987e-0242ac110002-2-e08e-2321",
       "previous": "8893a8a6-2bba-11ee-987e-0242ac110002-2-fdea-0665"
      },
      {
       "current": "8893a946-2bba-11ee-987e-0242ac110002-4-a062-c5ab-ac79-01e7",
       "next": "8893a9f0-2bba-11ee-987e-0242ac110002-3-e08e-2321-f74f",
       "previous": "8893a8a6-2bba-11ee-987e-0242ac110002-3-fdea-0665-a1aa"
      },
      {
       "current": "8893a946-2bba-11ee-987e-0242ac110002-5-a062-c5ab-ac79-01e7-98d9",
       "next": "8893a9f0-2bba-11ee-987e-0242ac110002-4-e08e-2321-f74f-3270",
       "previous": "8893a8a6-2bba-11ee-987e-0242ac110002-4-fdea-0665-a1aa-bd13"
      },
      {
       "current": "8893a946-2bba-11ee-987e-0242ac110002-6-a062-c5ab-ac79-01e7-98d9-aed9",
       "next": "8893a9f0-2bba-11ee-987e-0242ac110002-5-e08e-2321-f74f-3270-41b0",
       "previous": "8893a8a6-2bba-11ee-987e-0242ac110002-5-fdea-0665-a1aa-bd13-90a0"
      },
      {
       "current": "8893a946-2bba-11ee-987e-0242ac110002-7-a062-c5ab-ac79-01e7-98d9-aed9-ba55",
       "next": "8893a9f0-2bba-11ee-987e-0242ac110002-6-e08e-2321-f74f-3270-41b0-0e23",
       "previous": "8893a8a6-2bba-11ee-987e-0242ac110002-6-fdea-0665-a1aa-bd13-90a0-713e"
      }
     ],
     "next": "8893a9f0-2bba-11ee-987e-0242ac110002-7-e08e-2321-f74f-3270-41b0-0e23-9aba",
     "previous": "8893a8a6-2bba-11ee-987e-0242ac110002-7-fdea-0665-a1aa-bd13-90a0-713e-8086"
    },
    "lc_wrapper": {
     "log_history": [
      "/notebooks/notebook/work_terayama/yjupyterhub/work/.log/20230726/20230726-235337-0316.log",
      "/notebooks/notebook/work_terayama/yjupyterhub/work/.log/20230727/20230727-002122-0123.log",
      "/notebooks/notebook/work_terayama/yjupyterhub/work/.log/20230727/20230727-004508-0297.log",
      "/notebooks/notebook/work_terayama/yjupyterhub/work/.log/20230727/20230727-122857-0662.log",
      "/notebooks/notebook/work_terayama/yjupyterhub/work/.log/20230727/20230727-132648-0658.log",
      "/notebooks/notebook/work_terayama/yjupyterhub/work/.log/20230727/20230727-140523-0887.log",
      "/notebooks/notebook/work_terayama/yjupyterhub/work/.log/20230801/20230801-151252-0046.log",
      "/notebooks/notebook/yamaguchi-hub/work/.log/20240517/20240517-161959-0769.log",
      "/notebooks/notebook/yamaguchi-hub/handon001/.log/20240520/20240520-155245-0645.log"
     ]
    }
   },
   "outputs": [],
   "source": [
    "print(spec_worker)"
   ]
  },
  {
   "cell_type": "markdown",
   "metadata": {
    "hidden": true,
    "lc_cell_meme": {
     "current": "8893a9f0-2bba-11ee-987e-0242ac110002-7-e08e-2321-f74f-3270-41b0-0e23-9aba",
     "history": [
      {
       "current": "8893a9f0-2bba-11ee-987e-0242ac110002",
       "next": "8893aa90-2bba-11ee-987e-0242ac110002",
       "previous": "8893a946-2bba-11ee-987e-0242ac110002"
      },
      {
       "current": "8893a9f0-2bba-11ee-987e-0242ac110002",
       "next": "a6d30d2e-2bc5-11ee-987e-0242ac110002",
       "previous": "8893a946-2bba-11ee-987e-0242ac110002"
      },
      {
       "current": "8893a9f0-2bba-11ee-987e-0242ac110002-1-e08e",
       "next": "8893aa90-2bba-11ee-987e-0242ac110002",
       "previous": "8893a946-2bba-11ee-987e-0242ac110002"
      },
      {
       "current": "8893a9f0-2bba-11ee-987e-0242ac110002-2-e08e-2321",
       "next": "8893aa90-2bba-11ee-987e-0242ac110002-1-749a",
       "previous": "8893a946-2bba-11ee-987e-0242ac110002-1-a062"
      },
      {
       "current": "8893a9f0-2bba-11ee-987e-0242ac110002-3-e08e-2321-f74f",
       "next": "8893aa90-2bba-11ee-987e-0242ac110002-2-749a-e003",
       "previous": "8893a946-2bba-11ee-987e-0242ac110002-2-a062-c5ab"
      },
      {
       "current": "8893a9f0-2bba-11ee-987e-0242ac110002-4-e08e-2321-f74f-3270",
       "next": "8893aa90-2bba-11ee-987e-0242ac110002-3-749a-e003-871d",
       "previous": "8893a946-2bba-11ee-987e-0242ac110002-3-a062-c5ab-ac79"
      },
      {
       "current": "8893a9f0-2bba-11ee-987e-0242ac110002-5-e08e-2321-f74f-3270-41b0",
       "next": "8893aa90-2bba-11ee-987e-0242ac110002-4-749a-e003-871d-88e8",
       "previous": "8893a946-2bba-11ee-987e-0242ac110002-4-a062-c5ab-ac79-01e7"
      },
      {
       "current": "8893a9f0-2bba-11ee-987e-0242ac110002-6-e08e-2321-f74f-3270-41b0-0e23",
       "next": "8893aa90-2bba-11ee-987e-0242ac110002-5-749a-e003-871d-88e8-2d8c",
       "previous": "8893a946-2bba-11ee-987e-0242ac110002-5-a062-c5ab-ac79-01e7-98d9"
      },
      {
       "current": "8893a9f0-2bba-11ee-987e-0242ac110002-7-e08e-2321-f74f-3270-41b0-0e23-9aba",
       "next": "8893aa90-2bba-11ee-987e-0242ac110002-6-749a-e003-871d-88e8-2d8c-de36",
       "previous": "8893a946-2bba-11ee-987e-0242ac110002-6-a062-c5ab-ac79-01e7-98d9-aed9"
      }
     ],
     "next": "8893aa90-2bba-11ee-987e-0242ac110002-7-749a-e003-871d-88e8-2d8c-de36-32ef",
     "previous": "8893a946-2bba-11ee-987e-0242ac110002-7-a062-c5ab-ac79-01e7-98d9-aed9-ba55"
    }
   },
   "source": [
    "worker用VCノードを起動します。"
   ]
  },
  {
   "cell_type": "code",
   "execution_count": null,
   "metadata": {
    "hidden": true,
    "lc_cell_meme": {
     "current": "8893aa90-2bba-11ee-987e-0242ac110002-7-749a-e003-871d-88e8-2d8c-de36-32ef",
     "history": [
      {
       "current": "8893aa90-2bba-11ee-987e-0242ac110002",
       "next": "8893ab30-2bba-11ee-987e-0242ac110002",
       "previous": "8893a9f0-2bba-11ee-987e-0242ac110002"
      },
      {
       "current": "8893aa90-2bba-11ee-987e-0242ac110002",
       "next": "8893ab30-2bba-11ee-987e-0242ac110002",
       "previous": "a6d30d2e-2bc5-11ee-987e-0242ac110002"
      },
      {
       "current": "8893aa90-2bba-11ee-987e-0242ac110002-1-749a",
       "next": "8893ab30-2bba-11ee-987e-0242ac110002",
       "previous": "8893a9f0-2bba-11ee-987e-0242ac110002"
      },
      {
       "current": "8893aa90-2bba-11ee-987e-0242ac110002-2-749a-e003",
       "next": "8893ab30-2bba-11ee-987e-0242ac110002-1-882c",
       "previous": "8893a9f0-2bba-11ee-987e-0242ac110002-1-e08e"
      },
      {
       "current": "8893aa90-2bba-11ee-987e-0242ac110002-3-749a-e003-871d",
       "next": "8893ab30-2bba-11ee-987e-0242ac110002-2-882c-2d6c",
       "previous": "8893a9f0-2bba-11ee-987e-0242ac110002-2-e08e-2321"
      },
      {
       "current": "8893aa90-2bba-11ee-987e-0242ac110002-4-749a-e003-871d-88e8",
       "next": "8893ab30-2bba-11ee-987e-0242ac110002-3-882c-2d6c-0085",
       "previous": "8893a9f0-2bba-11ee-987e-0242ac110002-3-e08e-2321-f74f"
      },
      {
       "current": "8893aa90-2bba-11ee-987e-0242ac110002-5-749a-e003-871d-88e8-2d8c",
       "next": "8893ab30-2bba-11ee-987e-0242ac110002-4-882c-2d6c-0085-5a9b",
       "previous": "8893a9f0-2bba-11ee-987e-0242ac110002-4-e08e-2321-f74f-3270"
      },
      {
       "current": "8893aa90-2bba-11ee-987e-0242ac110002-6-749a-e003-871d-88e8-2d8c-de36",
       "next": "8893ab30-2bba-11ee-987e-0242ac110002-5-882c-2d6c-0085-5a9b-7cf2",
       "previous": "8893a9f0-2bba-11ee-987e-0242ac110002-5-e08e-2321-f74f-3270-41b0"
      },
      {
       "current": "8893aa90-2bba-11ee-987e-0242ac110002-7-749a-e003-871d-88e8-2d8c-de36-32ef",
       "next": "8893ab30-2bba-11ee-987e-0242ac110002-6-882c-2d6c-0085-5a9b-7cf2-9fdb",
       "previous": "8893a9f0-2bba-11ee-987e-0242ac110002-6-e08e-2321-f74f-3270-41b0-0e23"
      }
     ],
     "next": "8893ab30-2bba-11ee-987e-0242ac110002-7-882c-2d6c-0085-5a9b-7cf2-9fdb-e20f",
     "previous": "8893a9f0-2bba-11ee-987e-0242ac110002-7-e08e-2321-f74f-3270-41b0-0e23-9aba"
    },
    "lc_wrapper": {
     "log_history": [
      "/notebooks/notebook/work_terayama/yjupyterhub/work/.log/20230726/20230726-235337-0330.log",
      "/notebooks/notebook/work_terayama/yjupyterhub/work/.log/20230727/20230727-000607-0493.log",
      "/notebooks/notebook/work_terayama/yjupyterhub/work/.log/20230727/20230727-002122-0138.log",
      "/notebooks/notebook/work_terayama/yjupyterhub/work/.log/20230727/20230727-004508-0310.log",
      "/notebooks/notebook/work_terayama/yjupyterhub/work/.log/20230727/20230727-122857-0678.log",
      "/notebooks/notebook/work_terayama/yjupyterhub/work/.log/20230727/20230727-132648-0672.log",
      "/notebooks/notebook/work_terayama/yjupyterhub/work/.log/20230727/20230727-140523-0905.log",
      "/notebooks/notebook/work_terayama/yjupyterhub/work/.log/20230801/20230801-151252-0063.log",
      "/notebooks/notebook/yamaguchi-hub/work/.log/20240517/20240517-161959-0790.log",
      "/notebooks/notebook/yamaguchi-hub/handon001/.log/20240520/20240520-155245-0669.log"
     ]
    },
    "scrolled": true
   },
   "outputs": [],
   "source": [
    "unit_worker = ugroup.create_unit('worker', spec_worker)"
   ]
  },
  {
   "cell_type": "markdown",
   "metadata": {
    "hidden": true,
    "lc_cell_meme": {
     "current": "8893ab30-2bba-11ee-987e-0242ac110002-7-882c-2d6c-0085-5a9b-7cf2-9fdb-e20f",
     "history": [
      {
       "current": "8893ab30-2bba-11ee-987e-0242ac110002-1-882c",
       "next": "8893abda-2bba-11ee-987e-0242ac110002",
       "previous": "8893aa90-2bba-11ee-987e-0242ac110002"
      },
      {
       "current": "8893ab30-2bba-11ee-987e-0242ac110002-2-882c-2d6c",
       "next": "8893abda-2bba-11ee-987e-0242ac110002-1-58df",
       "previous": "8893aa90-2bba-11ee-987e-0242ac110002-1-749a"
      },
      {
       "current": "8893ab30-2bba-11ee-987e-0242ac110002-3-882c-2d6c-0085",
       "next": "8893abda-2bba-11ee-987e-0242ac110002-2-58df-6683",
       "previous": "8893aa90-2bba-11ee-987e-0242ac110002-2-749a-e003"
      },
      {
       "current": "8893ab30-2bba-11ee-987e-0242ac110002-4-882c-2d6c-0085-5a9b",
       "next": "8893abda-2bba-11ee-987e-0242ac110002-3-58df-6683-e24a",
       "previous": "8893aa90-2bba-11ee-987e-0242ac110002-3-749a-e003-871d"
      },
      {
       "current": "8893ab30-2bba-11ee-987e-0242ac110002-5-882c-2d6c-0085-5a9b-7cf2",
       "next": "8893abda-2bba-11ee-987e-0242ac110002-4-58df-6683-e24a-9602",
       "previous": "8893aa90-2bba-11ee-987e-0242ac110002-4-749a-e003-871d-88e8"
      },
      {
       "current": "8893ab30-2bba-11ee-987e-0242ac110002-6-882c-2d6c-0085-5a9b-7cf2-9fdb",
       "next": "8893abda-2bba-11ee-987e-0242ac110002-5-58df-6683-e24a-9602-a19e",
       "previous": "8893aa90-2bba-11ee-987e-0242ac110002-5-749a-e003-871d-88e8-2d8c"
      },
      {
       "current": "8893ab30-2bba-11ee-987e-0242ac110002-7-882c-2d6c-0085-5a9b-7cf2-9fdb-e20f",
       "next": "8893abda-2bba-11ee-987e-0242ac110002-6-58df-6683-e24a-9602-a19e-fe13",
       "previous": "8893aa90-2bba-11ee-987e-0242ac110002-6-749a-e003-871d-88e8-2d8c-de36"
      }
     ],
     "next": "8893abda-2bba-11ee-987e-0242ac110002-7-58df-6683-e24a-9602-a19e-fe13-9a3c",
     "previous": "8893aa90-2bba-11ee-987e-0242ac110002-7-749a-e003-871d-88e8-2d8c-de36-32ef"
    }
   },
   "source": [
    "起動したVCノードの一覧を表示します。\n",
    "\n",
    "vcname:　本ノートブックで指定した、`UnitGroup`  \n",
    "unit_name:　`worker`"
   ]
  },
  {
   "cell_type": "code",
   "execution_count": null,
   "metadata": {
    "hidden": true,
    "lc_cell_meme": {
     "current": "8893abda-2bba-11ee-987e-0242ac110002-7-58df-6683-e24a-9602-a19e-fe13-9a3c",
     "history": [
      {
       "current": "8893abda-2bba-11ee-987e-0242ac110002-1-58df",
       "next": "8893ac84-2bba-11ee-987e-0242ac110002",
       "previous": "8893ab30-2bba-11ee-987e-0242ac110002"
      },
      {
       "current": "8893abda-2bba-11ee-987e-0242ac110002-2-58df-6683",
       "next": "8893ac84-2bba-11ee-987e-0242ac110002-1-b4d3",
       "previous": "8893ab30-2bba-11ee-987e-0242ac110002-1-882c"
      },
      {
       "current": "8893abda-2bba-11ee-987e-0242ac110002-3-58df-6683-e24a",
       "next": "8893ac84-2bba-11ee-987e-0242ac110002-2-b4d3-0cb6",
       "previous": "8893ab30-2bba-11ee-987e-0242ac110002-2-882c-2d6c"
      },
      {
       "current": "8893abda-2bba-11ee-987e-0242ac110002-4-58df-6683-e24a-9602",
       "next": "8893ac84-2bba-11ee-987e-0242ac110002-3-b4d3-0cb6-b573",
       "previous": "8893ab30-2bba-11ee-987e-0242ac110002-3-882c-2d6c-0085"
      },
      {
       "current": "8893abda-2bba-11ee-987e-0242ac110002-5-58df-6683-e24a-9602-a19e",
       "next": "8893ac84-2bba-11ee-987e-0242ac110002-4-b4d3-0cb6-b573-0cc4",
       "previous": "8893ab30-2bba-11ee-987e-0242ac110002-4-882c-2d6c-0085-5a9b"
      },
      {
       "current": "8893abda-2bba-11ee-987e-0242ac110002-6-58df-6683-e24a-9602-a19e-fe13",
       "next": "8893ac84-2bba-11ee-987e-0242ac110002-5-b4d3-0cb6-b573-0cc4-ec1d",
       "previous": "8893ab30-2bba-11ee-987e-0242ac110002-5-882c-2d6c-0085-5a9b-7cf2"
      },
      {
       "current": "8893abda-2bba-11ee-987e-0242ac110002-7-58df-6683-e24a-9602-a19e-fe13-9a3c",
       "next": "8893ac84-2bba-11ee-987e-0242ac110002-6-b4d3-0cb6-b573-0cc4-ec1d-0afe",
       "previous": "8893ab30-2bba-11ee-987e-0242ac110002-6-882c-2d6c-0085-5a9b-7cf2-9fdb"
      }
     ],
     "next": "8893ac84-2bba-11ee-987e-0242ac110002-7-b4d3-0cb6-b573-0cc4-ec1d-0afe-11a4",
     "previous": "8893ab30-2bba-11ee-987e-0242ac110002-7-882c-2d6c-0085-5a9b-7cf2-9fdb-e20f"
    },
    "lc_wrapper": {
     "log_history": [
      "/notebooks/notebook/work_terayama/yjupyterhub/work/.log/20230726/20230726-235835-0196.log",
      "/notebooks/notebook/work_terayama/yjupyterhub/work/.log/20230727/20230727-002634-0198.log",
      "/notebooks/notebook/work_terayama/yjupyterhub/work/.log/20230727/20230727-005020-0798.log",
      "/notebooks/notebook/work_terayama/yjupyterhub/work/.log/20230727/20230727-123355-0000.log",
      "/notebooks/notebook/work_terayama/yjupyterhub/work/.log/20230727/20230727-133116-0972.log",
      "/notebooks/notebook/work_terayama/yjupyterhub/work/.log/20230727/20230727-141021-0001.log",
      "/notebooks/notebook/work_terayama/yjupyterhub/work/.log/20230801/20230801-151720-0427.log",
      "/notebooks/notebook/yamaguchi-hub/work/.log/20240517/20240517-162007-0117.log",
      "/notebooks/notebook/yamaguchi-hub/handon001/.log/20240520/20240520-155252-0852.log"
     ]
    }
   },
   "outputs": [],
   "source": [
    "unit_worker.df_nodes()"
   ]
  },
  {
   "cell_type": "markdown",
   "metadata": {
    "heading_collapsed": true,
    "hidden": true,
    "lc_cell_meme": {
     "current": "8893ac84-2bba-11ee-987e-0242ac110002-7-b4d3-0cb6-b573-0cc4-ec1d-0afe-11a4",
     "history": [
      {
       "current": "8893ac84-2bba-11ee-987e-0242ac110002-1-b4d3",
       "next": "8893ad24-2bba-11ee-987e-0242ac110002",
       "previous": "8893abda-2bba-11ee-987e-0242ac110002"
      },
      {
       "current": "8893ac84-2bba-11ee-987e-0242ac110002-2-b4d3-0cb6",
       "next": "8893ad24-2bba-11ee-987e-0242ac110002-1-4331",
       "previous": "8893abda-2bba-11ee-987e-0242ac110002-1-58df"
      },
      {
       "current": "8893ac84-2bba-11ee-987e-0242ac110002-3-b4d3-0cb6-b573",
       "next": "8893ad24-2bba-11ee-987e-0242ac110002-2-4331-b8f3",
       "previous": "8893abda-2bba-11ee-987e-0242ac110002-2-58df-6683"
      },
      {
       "current": "8893ac84-2bba-11ee-987e-0242ac110002-4-b4d3-0cb6-b573-0cc4",
       "next": "8893ad24-2bba-11ee-987e-0242ac110002-3-4331-b8f3-d68e",
       "previous": "8893abda-2bba-11ee-987e-0242ac110002-3-58df-6683-e24a"
      },
      {
       "current": "8893ac84-2bba-11ee-987e-0242ac110002-5-b4d3-0cb6-b573-0cc4-ec1d",
       "next": "8893ad24-2bba-11ee-987e-0242ac110002-4-4331-b8f3-d68e-8058",
       "previous": "8893abda-2bba-11ee-987e-0242ac110002-4-58df-6683-e24a-9602"
      },
      {
       "current": "8893ac84-2bba-11ee-987e-0242ac110002-6-b4d3-0cb6-b573-0cc4-ec1d-0afe",
       "next": "8893ad24-2bba-11ee-987e-0242ac110002-5-4331-b8f3-d68e-8058-900c",
       "previous": "8893abda-2bba-11ee-987e-0242ac110002-5-58df-6683-e24a-9602-a19e"
      },
      {
       "current": "8893ac84-2bba-11ee-987e-0242ac110002-7-b4d3-0cb6-b573-0cc4-ec1d-0afe-11a4",
       "next": "8893ad24-2bba-11ee-987e-0242ac110002-6-4331-b8f3-d68e-8058-900c-4f8a",
       "previous": "8893abda-2bba-11ee-987e-0242ac110002-6-58df-6683-e24a-9602-a19e-fe13"
      }
     ],
     "next": "8893ad24-2bba-11ee-987e-0242ac110002-7-4331-b8f3-d68e-8058-900c-4f8a-2b53",
     "previous": "8893abda-2bba-11ee-987e-0242ac110002-7-58df-6683-e24a-9602-a19e-fe13-9a3c"
    }
   },
   "source": [
    "#### workerノードに対するAnsibleの設定"
   ]
  },
  {
   "cell_type": "markdown",
   "metadata": {
    "hidden": true,
    "lc_cell_meme": {
     "current": "8893ad24-2bba-11ee-987e-0242ac110002-7-4331-b8f3-d68e-8058-900c-4f8a-2b53",
     "history": [
      {
       "current": "8893ad24-2bba-11ee-987e-0242ac110002-1-4331",
       "next": "8893adce-2bba-11ee-987e-0242ac110002",
       "previous": "8893ac84-2bba-11ee-987e-0242ac110002"
      },
      {
       "current": "8893ad24-2bba-11ee-987e-0242ac110002-2-4331-b8f3",
       "next": "8893adce-2bba-11ee-987e-0242ac110002-1-da39",
       "previous": "8893ac84-2bba-11ee-987e-0242ac110002-1-b4d3"
      },
      {
       "current": "8893ad24-2bba-11ee-987e-0242ac110002-3-4331-b8f3-d68e",
       "next": "8893adce-2bba-11ee-987e-0242ac110002-2-da39-3a9d",
       "previous": "8893ac84-2bba-11ee-987e-0242ac110002-2-b4d3-0cb6"
      },
      {
       "current": "8893ad24-2bba-11ee-987e-0242ac110002-4-4331-b8f3-d68e-8058",
       "next": "8893adce-2bba-11ee-987e-0242ac110002-3-da39-3a9d-9a57",
       "previous": "8893ac84-2bba-11ee-987e-0242ac110002-3-b4d3-0cb6-b573"
      },
      {
       "current": "8893ad24-2bba-11ee-987e-0242ac110002-5-4331-b8f3-d68e-8058-900c",
       "next": "8893adce-2bba-11ee-987e-0242ac110002-4-da39-3a9d-9a57-9166",
       "previous": "8893ac84-2bba-11ee-987e-0242ac110002-4-b4d3-0cb6-b573-0cc4"
      },
      {
       "current": "8893ad24-2bba-11ee-987e-0242ac110002-6-4331-b8f3-d68e-8058-900c-4f8a",
       "next": "8893adce-2bba-11ee-987e-0242ac110002-5-da39-3a9d-9a57-9166-7a17",
       "previous": "8893ac84-2bba-11ee-987e-0242ac110002-5-b4d3-0cb6-b573-0cc4-ec1d"
      },
      {
       "current": "8893ad24-2bba-11ee-987e-0242ac110002-7-4331-b8f3-d68e-8058-900c-4f8a-2b53",
       "next": "8893adce-2bba-11ee-987e-0242ac110002-6-da39-3a9d-9a57-9166-7a17-d2e5",
       "previous": "8893ac84-2bba-11ee-987e-0242ac110002-6-b4d3-0cb6-b573-0cc4-ec1d-0afe"
      }
     ],
     "next": "8893adce-2bba-11ee-987e-0242ac110002-7-da39-3a9d-9a57-9166-7a17-d2e5-76c9",
     "previous": "8893ac84-2bba-11ee-987e-0242ac110002-7-b4d3-0cb6-b573-0cc4-ec1d-0afe-11a4"
    }
   },
   "source": [
    "VCノードにSSHでログインできるようにするために `~/.ssh/known_hosts` の更新を行います。"
   ]
  },
  {
   "cell_type": "code",
   "execution_count": null,
   "metadata": {
    "hidden": true,
    "lc_cell_meme": {
     "current": "8893adce-2bba-11ee-987e-0242ac110002-7-da39-3a9d-9a57-9166-7a17-d2e5-76c9",
     "history": [
      {
       "current": "8893adce-2bba-11ee-987e-0242ac110002-1-da39",
       "next": "8893ae6e-2bba-11ee-987e-0242ac110002",
       "previous": "8893ad24-2bba-11ee-987e-0242ac110002"
      },
      {
       "current": "8893adce-2bba-11ee-987e-0242ac110002-2-da39-3a9d",
       "next": "8893ae6e-2bba-11ee-987e-0242ac110002-1-ba7a",
       "previous": "8893ad24-2bba-11ee-987e-0242ac110002-1-4331"
      },
      {
       "current": "8893adce-2bba-11ee-987e-0242ac110002-3-da39-3a9d-9a57",
       "next": "8893ae6e-2bba-11ee-987e-0242ac110002-2-ba7a-2d75",
       "previous": "8893ad24-2bba-11ee-987e-0242ac110002-2-4331-b8f3"
      },
      {
       "current": "8893adce-2bba-11ee-987e-0242ac110002-4-da39-3a9d-9a57-9166",
       "next": "8893ae6e-2bba-11ee-987e-0242ac110002-3-ba7a-2d75-8ec7",
       "previous": "8893ad24-2bba-11ee-987e-0242ac110002-3-4331-b8f3-d68e"
      },
      {
       "current": "8893adce-2bba-11ee-987e-0242ac110002-5-da39-3a9d-9a57-9166-7a17",
       "next": "8893ae6e-2bba-11ee-987e-0242ac110002-4-ba7a-2d75-8ec7-2382",
       "previous": "8893ad24-2bba-11ee-987e-0242ac110002-4-4331-b8f3-d68e-8058"
      },
      {
       "current": "8893adce-2bba-11ee-987e-0242ac110002-6-da39-3a9d-9a57-9166-7a17-d2e5",
       "next": "8893ae6e-2bba-11ee-987e-0242ac110002-5-ba7a-2d75-8ec7-2382-5e6e",
       "previous": "8893ad24-2bba-11ee-987e-0242ac110002-5-4331-b8f3-d68e-8058-900c"
      },
      {
       "current": "8893adce-2bba-11ee-987e-0242ac110002-7-da39-3a9d-9a57-9166-7a17-d2e5-76c9",
       "next": "8893ae6e-2bba-11ee-987e-0242ac110002-6-ba7a-2d75-8ec7-2382-5e6e-c8b7",
       "previous": "8893ad24-2bba-11ee-987e-0242ac110002-6-4331-b8f3-d68e-8058-900c-4f8a"
      }
     ],
     "next": "8893ae6e-2bba-11ee-987e-0242ac110002-7-ba7a-2d75-8ec7-2382-5e6e-c8b7-63a2",
     "previous": "8893ad24-2bba-11ee-987e-0242ac110002-7-4331-b8f3-d68e-8058-900c-4f8a-2b53"
    },
    "lc_wrapper": {
     "log_history": [
      "/notebooks/notebook/work_terayama/yjupyterhub/work/.log/20230726/20230726-235840-0152.log",
      "/notebooks/notebook/work_terayama/yjupyterhub/work/.log/20230727/20230727-002639-0114.log",
      "/notebooks/notebook/work_terayama/yjupyterhub/work/.log/20230727/20230727-005025-0676.log",
      "/notebooks/notebook/work_terayama/yjupyterhub/work/.log/20230727/20230727-123359-0948.log",
      "/notebooks/notebook/work_terayama/yjupyterhub/work/.log/20230727/20230727-133121-0966.log",
      "/notebooks/notebook/work_terayama/yjupyterhub/work/.log/20230727/20230727-141025-0888.log",
      "/notebooks/notebook/work_terayama/yjupyterhub/work/.log/20230801/20230801-151725-0290.log",
      "/notebooks/notebook/yamaguchi-hub/work/.log/20240517/20240517-162007-0346.log",
      "/notebooks/notebook/yamaguchi-hub/handon001/.log/20240520/20240520-155252-0989.log"
     ]
    }
   },
   "outputs": [],
   "source": [
    "!mkdir -p -m 0700 ~/.ssh\n",
    "!touch ~/.ssh/known_hosts\n",
    "for addr in unit_worker.find_ip_addresses():\n",
    "    !ssh-keygen -R {addr}\n",
    "    check_update_known_hosts(addr)\n",
    "    !ssh-keyscan -H {addr} >> ~/.ssh/known_hosts"
   ]
  },
  {
   "cell_type": "markdown",
   "metadata": {
    "hidden": true,
    "lc_cell_meme": {
     "current": "8893ae6e-2bba-11ee-987e-0242ac110002-7-ba7a-2d75-8ec7-2382-5e6e-c8b7-63a2",
     "history": [
      {
       "current": "8893ae6e-2bba-11ee-987e-0242ac110002-1-ba7a",
       "next": "8893af0e-2bba-11ee-987e-0242ac110002",
       "previous": "8893adce-2bba-11ee-987e-0242ac110002"
      },
      {
       "current": "8893ae6e-2bba-11ee-987e-0242ac110002-2-ba7a-2d75",
       "next": "8893af0e-2bba-11ee-987e-0242ac110002-1-af80",
       "previous": "8893adce-2bba-11ee-987e-0242ac110002-1-da39"
      },
      {
       "current": "8893ae6e-2bba-11ee-987e-0242ac110002-3-ba7a-2d75-8ec7",
       "next": "8893af0e-2bba-11ee-987e-0242ac110002-2-af80-8782",
       "previous": "8893adce-2bba-11ee-987e-0242ac110002-2-da39-3a9d"
      },
      {
       "current": "8893ae6e-2bba-11ee-987e-0242ac110002-4-ba7a-2d75-8ec7-2382",
       "next": "8893af0e-2bba-11ee-987e-0242ac110002-3-af80-8782-69db",
       "previous": "8893adce-2bba-11ee-987e-0242ac110002-3-da39-3a9d-9a57"
      },
      {
       "current": "8893ae6e-2bba-11ee-987e-0242ac110002-5-ba7a-2d75-8ec7-2382-5e6e",
       "next": "8893af0e-2bba-11ee-987e-0242ac110002-4-af80-8782-69db-2ad2",
       "previous": "8893adce-2bba-11ee-987e-0242ac110002-4-da39-3a9d-9a57-9166"
      },
      {
       "current": "8893ae6e-2bba-11ee-987e-0242ac110002-6-ba7a-2d75-8ec7-2382-5e6e-c8b7",
       "next": "8893af0e-2bba-11ee-987e-0242ac110002-5-af80-8782-69db-2ad2-e62c",
       "previous": "8893adce-2bba-11ee-987e-0242ac110002-5-da39-3a9d-9a57-9166-7a17"
      },
      {
       "current": "8893ae6e-2bba-11ee-987e-0242ac110002-7-ba7a-2d75-8ec7-2382-5e6e-c8b7-63a2",
       "next": "8893af0e-2bba-11ee-987e-0242ac110002-6-af80-8782-69db-2ad2-e62c-2c92",
       "previous": "8893adce-2bba-11ee-987e-0242ac110002-6-da39-3a9d-9a57-9166-7a17-d2e5"
      }
     ],
     "next": "8893af0e-2bba-11ee-987e-0242ac110002-7-af80-8782-69db-2ad2-e62c-2c92-f6cb",
     "previous": "8893adce-2bba-11ee-987e-0242ac110002-7-da39-3a9d-9a57-9166-7a17-d2e5-76c9"
    }
   },
   "source": [
    "起動したVCノードに対応するエントリを Ansible のインベントリに登録します。\n",
    "\n",
    "> Ansibleで操作を行うためには、操作対象のホスト(IPアドレス)をインベントリに登録する必要があります。"
   ]
  },
  {
   "cell_type": "code",
   "execution_count": null,
   "metadata": {
    "hidden": true,
    "lc_cell_meme": {
     "current": "8893af0e-2bba-11ee-987e-0242ac110002-7-af80-8782-69db-2ad2-e62c-2c92-f6cb",
     "history": [
      {
       "current": "8893af0e-2bba-11ee-987e-0242ac110002-1-af80",
       "next": "8893afb8-2bba-11ee-987e-0242ac110002",
       "previous": "8893ae6e-2bba-11ee-987e-0242ac110002"
      },
      {
       "current": "8893af0e-2bba-11ee-987e-0242ac110002-2-af80-8782",
       "next": "8893afb8-2bba-11ee-987e-0242ac110002-1-fb47",
       "previous": "8893ae6e-2bba-11ee-987e-0242ac110002-1-ba7a"
      },
      {
       "current": "8893af0e-2bba-11ee-987e-0242ac110002-3-af80-8782-69db",
       "next": "8893afb8-2bba-11ee-987e-0242ac110002-2-fb47-1405",
       "previous": "8893ae6e-2bba-11ee-987e-0242ac110002-2-ba7a-2d75"
      },
      {
       "current": "8893af0e-2bba-11ee-987e-0242ac110002-4-af80-8782-69db-2ad2",
       "next": "8893afb8-2bba-11ee-987e-0242ac110002-3-fb47-1405-4e9f",
       "previous": "8893ae6e-2bba-11ee-987e-0242ac110002-3-ba7a-2d75-8ec7"
      },
      {
       "current": "8893af0e-2bba-11ee-987e-0242ac110002-5-af80-8782-69db-2ad2-e62c",
       "next": "8893afb8-2bba-11ee-987e-0242ac110002-4-fb47-1405-4e9f-7bbe",
       "previous": "8893ae6e-2bba-11ee-987e-0242ac110002-4-ba7a-2d75-8ec7-2382"
      },
      {
       "current": "8893af0e-2bba-11ee-987e-0242ac110002-6-af80-8782-69db-2ad2-e62c-2c92",
       "next": "8893afb8-2bba-11ee-987e-0242ac110002-5-fb47-1405-4e9f-7bbe-3487",
       "previous": "8893ae6e-2bba-11ee-987e-0242ac110002-5-ba7a-2d75-8ec7-2382-5e6e"
      },
      {
       "current": "8893af0e-2bba-11ee-987e-0242ac110002-7-af80-8782-69db-2ad2-e62c-2c92-f6cb",
       "next": "8893afb8-2bba-11ee-987e-0242ac110002-6-fb47-1405-4e9f-7bbe-3487-aa3b",
       "previous": "8893ae6e-2bba-11ee-987e-0242ac110002-6-ba7a-2d75-8ec7-2382-5e6e-c8b7"
      }
     ],
     "next": "8893afb8-2bba-11ee-987e-0242ac110002-7-fb47-1405-4e9f-7bbe-3487-aa3b-5e38",
     "previous": "8893ae6e-2bba-11ee-987e-0242ac110002-7-ba7a-2d75-8ec7-2382-5e6e-c8b7-63a2"
    },
    "lc_wrapper": {
     "log_history": [
      "/notebooks/notebook/work_terayama/yjupyterhub/work/.log/20230726/20230726-235848-0135.log",
      "/notebooks/notebook/work_terayama/yjupyterhub/work/.log/20230727/20230727-002647-0108.log",
      "/notebooks/notebook/work_terayama/yjupyterhub/work/.log/20230727/20230727-005033-0621.log",
      "/notebooks/notebook/work_terayama/yjupyterhub/work/.log/20230727/20230727-123407-0916.log",
      "/notebooks/notebook/work_terayama/yjupyterhub/work/.log/20230727/20230727-133129-0911.log",
      "/notebooks/notebook/work_terayama/yjupyterhub/work/.log/20230727/20230727-141033-0824.log",
      "/notebooks/notebook/work_terayama/yjupyterhub/work/.log/20230801/20230801-151733-0123.log",
      "/notebooks/notebook/yamaguchi-hub/work/.log/20240517/20240517-162008-0066.log",
      "/notebooks/notebook/yamaguchi-hub/handon001/.log/20240520/20240520-155253-0661.log"
     ]
    }
   },
   "outputs": [],
   "source": [
    "inventory = {'all': {'children': {\n",
    "    ugroup.name: {\n",
    "        'children': {\n",
    "            f'{ugroup.name}_{unit_worker.name}': {\n",
    "                'hosts': dict([(x, {}) for x in unit_worker.find_ip_addresses()]),\n",
    "            },\n",
    "        },\n",
    "    },\n",
    "}}}\n",
    "\n",
    "generate_edit_link(update_inventory_yml(inventory))"
   ]
  },
  {
   "cell_type": "markdown",
   "metadata": {
    "hidden": true,
    "lc_cell_meme": {
     "current": "8893afb8-2bba-11ee-987e-0242ac110002-7-fb47-1405-4e9f-7bbe-3487-aa3b-5e38",
     "history": [
      {
       "current": "8893afb8-2bba-11ee-987e-0242ac110002-1-fb47",
       "next": "8893b058-2bba-11ee-987e-0242ac110002",
       "previous": "8893af0e-2bba-11ee-987e-0242ac110002"
      },
      {
       "current": "8893afb8-2bba-11ee-987e-0242ac110002-2-fb47-1405",
       "next": "8893b058-2bba-11ee-987e-0242ac110002-1-cee9",
       "previous": "8893af0e-2bba-11ee-987e-0242ac110002-1-af80"
      },
      {
       "current": "8893afb8-2bba-11ee-987e-0242ac110002-3-fb47-1405-4e9f",
       "next": "8893b058-2bba-11ee-987e-0242ac110002-2-cee9-e7bf",
       "previous": "8893af0e-2bba-11ee-987e-0242ac110002-2-af80-8782"
      },
      {
       "current": "8893afb8-2bba-11ee-987e-0242ac110002-4-fb47-1405-4e9f-7bbe",
       "next": "8893b058-2bba-11ee-987e-0242ac110002-3-cee9-e7bf-1598",
       "previous": "8893af0e-2bba-11ee-987e-0242ac110002-3-af80-8782-69db"
      },
      {
       "current": "8893afb8-2bba-11ee-987e-0242ac110002-5-fb47-1405-4e9f-7bbe-3487",
       "next": "8893b058-2bba-11ee-987e-0242ac110002-4-cee9-e7bf-1598-3a27",
       "previous": "8893af0e-2bba-11ee-987e-0242ac110002-4-af80-8782-69db-2ad2"
      },
      {
       "current": "8893afb8-2bba-11ee-987e-0242ac110002-6-fb47-1405-4e9f-7bbe-3487-aa3b",
       "next": "8893b058-2bba-11ee-987e-0242ac110002-5-cee9-e7bf-1598-3a27-5de1",
       "previous": "8893af0e-2bba-11ee-987e-0242ac110002-5-af80-8782-69db-2ad2-e62c"
      },
      {
       "current": "8893afb8-2bba-11ee-987e-0242ac110002-7-fb47-1405-4e9f-7bbe-3487-aa3b-5e38",
       "next": "8893b058-2bba-11ee-987e-0242ac110002-6-cee9-e7bf-1598-3a27-5de1-fc3b",
       "previous": "8893af0e-2bba-11ee-987e-0242ac110002-6-af80-8782-69db-2ad2-e62c-2c92"
      }
     ],
     "next": "8893b058-2bba-11ee-987e-0242ac110002-7-cee9-e7bf-1598-3a27-5de1-fc3b-d49c",
     "previous": "8893af0e-2bba-11ee-987e-0242ac110002-7-af80-8782-69db-2ad2-e62c-2c92-f6cb"
    }
   },
   "source": [
    "次のセルを実行すると作成したインベントリの内容を表示します。インベントリの内容を変更したい場合は、上のセルの出力結果に表示しているリンクから編集することができます。"
   ]
  },
  {
   "cell_type": "code",
   "execution_count": null,
   "metadata": {
    "hidden": true,
    "lc_cell_meme": {
     "current": "8893b058-2bba-11ee-987e-0242ac110002-7-cee9-e7bf-1598-3a27-5de1-fc3b-d49c",
     "history": [
      {
       "current": "8893b058-2bba-11ee-987e-0242ac110002-1-cee9",
       "next": "8893b102-2bba-11ee-987e-0242ac110002",
       "previous": "8893afb8-2bba-11ee-987e-0242ac110002"
      },
      {
       "current": "8893b058-2bba-11ee-987e-0242ac110002-2-cee9-e7bf",
       "next": "8893b102-2bba-11ee-987e-0242ac110002-1-394d",
       "previous": "8893afb8-2bba-11ee-987e-0242ac110002-1-fb47"
      },
      {
       "current": "8893b058-2bba-11ee-987e-0242ac110002-3-cee9-e7bf-1598",
       "next": "8893b102-2bba-11ee-987e-0242ac110002-2-394d-e9ee",
       "previous": "8893afb8-2bba-11ee-987e-0242ac110002-2-fb47-1405"
      },
      {
       "current": "8893b058-2bba-11ee-987e-0242ac110002-4-cee9-e7bf-1598-3a27",
       "next": "8893b102-2bba-11ee-987e-0242ac110002-3-394d-e9ee-eb1e",
       "previous": "8893afb8-2bba-11ee-987e-0242ac110002-3-fb47-1405-4e9f"
      },
      {
       "current": "8893b058-2bba-11ee-987e-0242ac110002-5-cee9-e7bf-1598-3a27-5de1",
       "next": "8893b102-2bba-11ee-987e-0242ac110002-4-394d-e9ee-eb1e-5315",
       "previous": "8893afb8-2bba-11ee-987e-0242ac110002-4-fb47-1405-4e9f-7bbe"
      },
      {
       "current": "8893b058-2bba-11ee-987e-0242ac110002-6-cee9-e7bf-1598-3a27-5de1-fc3b",
       "next": "8893b102-2bba-11ee-987e-0242ac110002-5-394d-e9ee-eb1e-5315-82ac",
       "previous": "8893afb8-2bba-11ee-987e-0242ac110002-5-fb47-1405-4e9f-7bbe-3487"
      },
      {
       "current": "8893b058-2bba-11ee-987e-0242ac110002-7-cee9-e7bf-1598-3a27-5de1-fc3b-d49c",
       "next": "8893b102-2bba-11ee-987e-0242ac110002-6-394d-e9ee-eb1e-5315-82ac-0b5b",
       "previous": "8893afb8-2bba-11ee-987e-0242ac110002-6-fb47-1405-4e9f-7bbe-3487-aa3b"
      }
     ],
     "next": "8893b102-2bba-11ee-987e-0242ac110002-7-394d-e9ee-eb1e-5315-82ac-0b5b-6ff4",
     "previous": "8893afb8-2bba-11ee-987e-0242ac110002-7-fb47-1405-4e9f-7bbe-3487-aa3b-5e38"
    },
    "lc_wrapper": {
     "log_history": [
      "/notebooks/notebook/work_terayama/yjupyterhub/work/.log/20230726/20230726-235853-0005.log",
      "/notebooks/notebook/work_terayama/yjupyterhub/work/.log/20230727/20230727-002652-0016.log",
      "/notebooks/notebook/work_terayama/yjupyterhub/work/.log/20230727/20230727-005038-0407.log",
      "/notebooks/notebook/work_terayama/yjupyterhub/work/.log/20230727/20230727-123412-0769.log",
      "/notebooks/notebook/work_terayama/yjupyterhub/work/.log/20230727/20230727-133134-0774.log",
      "/notebooks/notebook/work_terayama/yjupyterhub/work/.log/20230727/20230727-141038-0596.log",
      "/notebooks/notebook/work_terayama/yjupyterhub/work/.log/20230801/20230801-151737-0876.log",
      "/notebooks/notebook/yamaguchi-hub/work/.log/20240517/20240517-162008-0232.log",
      "/notebooks/notebook/yamaguchi-hub/handon001/.log/20240520/20240520-155253-0793.log"
     ]
    }
   },
   "outputs": [],
   "source": [
    "!cat inventory.yml"
   ]
  },
  {
   "cell_type": "markdown",
   "metadata": {
    "hidden": true,
    "lc_cell_meme": {
     "current": "8893b102-2bba-11ee-987e-0242ac110002-7-394d-e9ee-eb1e-5315-82ac-0b5b-6ff4",
     "history": [
      {
       "current": "8893b102-2bba-11ee-987e-0242ac110002-1-394d",
       "next": "8893b1a2-2bba-11ee-987e-0242ac110002",
       "previous": "8893b058-2bba-11ee-987e-0242ac110002"
      },
      {
       "current": "8893b102-2bba-11ee-987e-0242ac110002-2-394d-e9ee",
       "next": "8893b1a2-2bba-11ee-987e-0242ac110002-1-7196",
       "previous": "8893b058-2bba-11ee-987e-0242ac110002-1-cee9"
      },
      {
       "current": "8893b102-2bba-11ee-987e-0242ac110002-3-394d-e9ee-eb1e",
       "next": "8893b1a2-2bba-11ee-987e-0242ac110002-2-7196-063e",
       "previous": "8893b058-2bba-11ee-987e-0242ac110002-2-cee9-e7bf"
      },
      {
       "current": "8893b102-2bba-11ee-987e-0242ac110002-4-394d-e9ee-eb1e-5315",
       "next": "8893b1a2-2bba-11ee-987e-0242ac110002-3-7196-063e-de54",
       "previous": "8893b058-2bba-11ee-987e-0242ac110002-3-cee9-e7bf-1598"
      },
      {
       "current": "8893b102-2bba-11ee-987e-0242ac110002-5-394d-e9ee-eb1e-5315-82ac",
       "next": "8893b1a2-2bba-11ee-987e-0242ac110002-4-7196-063e-de54-71d3",
       "previous": "8893b058-2bba-11ee-987e-0242ac110002-4-cee9-e7bf-1598-3a27"
      },
      {
       "current": "8893b102-2bba-11ee-987e-0242ac110002-6-394d-e9ee-eb1e-5315-82ac-0b5b",
       "next": "8893b1a2-2bba-11ee-987e-0242ac110002-5-7196-063e-de54-71d3-cb16",
       "previous": "8893b058-2bba-11ee-987e-0242ac110002-5-cee9-e7bf-1598-3a27-5de1"
      },
      {
       "current": "8893b102-2bba-11ee-987e-0242ac110002-7-394d-e9ee-eb1e-5315-82ac-0b5b-6ff4",
       "next": "8893b1a2-2bba-11ee-987e-0242ac110002-6-7196-063e-de54-71d3-cb16-fe81",
       "previous": "8893b058-2bba-11ee-987e-0242ac110002-6-cee9-e7bf-1598-3a27-5de1-fc3b"
      }
     ],
     "next": "8893b1a2-2bba-11ee-987e-0242ac110002-7-7196-063e-de54-71d3-cb16-fe81-cc3d",
     "previous": "8893b058-2bba-11ee-987e-0242ac110002-7-cee9-e7bf-1598-3a27-5de1-fc3b-d49c"
    }
   },
   "source": [
    "UnitGroupに属する全てのVCノードに対して Ansible で接続できることを確認します。\n",
    "\n",
    "> ここでは、複数のVCノードをまとめて扱うためにAnsibleのグループを指定しています。グループ名は UnitGroup名と同じ値にしてあります。"
   ]
  },
  {
   "cell_type": "code",
   "execution_count": null,
   "metadata": {
    "hidden": true,
    "lc_cell_meme": {
     "current": "8893b1a2-2bba-11ee-987e-0242ac110002-7-7196-063e-de54-71d3-cb16-fe81-cc3d",
     "history": [
      {
       "current": "8893b1a2-2bba-11ee-987e-0242ac110002-1-7196",
       "next": "8893b24c-2bba-11ee-987e-0242ac110002",
       "previous": "8893b102-2bba-11ee-987e-0242ac110002"
      },
      {
       "current": "8893b1a2-2bba-11ee-987e-0242ac110002-2-7196-063e",
       "next": "8893b24c-2bba-11ee-987e-0242ac110002-1-98f4",
       "previous": "8893b102-2bba-11ee-987e-0242ac110002-1-394d"
      },
      {
       "current": "8893b1a2-2bba-11ee-987e-0242ac110002-3-7196-063e-de54",
       "next": "8893b24c-2bba-11ee-987e-0242ac110002-2-98f4-65a3",
       "previous": "8893b102-2bba-11ee-987e-0242ac110002-2-394d-e9ee"
      },
      {
       "current": "8893b1a2-2bba-11ee-987e-0242ac110002-4-7196-063e-de54-71d3",
       "next": "8893b24c-2bba-11ee-987e-0242ac110002-3-98f4-65a3-9862",
       "previous": "8893b102-2bba-11ee-987e-0242ac110002-3-394d-e9ee-eb1e"
      },
      {
       "current": "8893b1a2-2bba-11ee-987e-0242ac110002-5-7196-063e-de54-71d3-cb16",
       "next": "8893b24c-2bba-11ee-987e-0242ac110002-4-98f4-65a3-9862-4fd1",
       "previous": "8893b102-2bba-11ee-987e-0242ac110002-4-394d-e9ee-eb1e-5315"
      },
      {
       "current": "8893b1a2-2bba-11ee-987e-0242ac110002-6-7196-063e-de54-71d3-cb16-fe81",
       "next": "8893b24c-2bba-11ee-987e-0242ac110002-5-98f4-65a3-9862-4fd1-0b34",
       "previous": "8893b102-2bba-11ee-987e-0242ac110002-5-394d-e9ee-eb1e-5315-82ac"
      },
      {
       "current": "8893b1a2-2bba-11ee-987e-0242ac110002-7-7196-063e-de54-71d3-cb16-fe81-cc3d",
       "next": "8893b24c-2bba-11ee-987e-0242ac110002-6-98f4-65a3-9862-4fd1-0b34-02dc",
       "previous": "8893b102-2bba-11ee-987e-0242ac110002-6-394d-e9ee-eb1e-5315-82ac-0b5b"
      }
     ],
     "next": "8893b24c-2bba-11ee-987e-0242ac110002-7-98f4-65a3-9862-4fd1-0b34-02dc-c7a6",
     "previous": "8893b102-2bba-11ee-987e-0242ac110002-7-394d-e9ee-eb1e-5315-82ac-0b5b-6ff4"
    },
    "lc_wrapper": {
     "log_history": [
      "/notebooks/notebook/work_terayama/yjupyterhub/work/.log/20230726/20230726-235853-0754.log",
      "/notebooks/notebook/work_terayama/yjupyterhub/work/.log/20230727/20230727-002652-0761.log",
      "/notebooks/notebook/work_terayama/yjupyterhub/work/.log/20230727/20230727-005039-0146.log",
      "/notebooks/notebook/work_terayama/yjupyterhub/work/.log/20230727/20230727-123413-0511.log",
      "/notebooks/notebook/work_terayama/yjupyterhub/work/.log/20230727/20230727-133135-0517.log",
      "/notebooks/notebook/work_terayama/yjupyterhub/work/.log/20230727/20230727-141039-0344.log",
      "/notebooks/notebook/work_terayama/yjupyterhub/work/.log/20230801/20230801-151738-0612.log",
      "/notebooks/notebook/yamaguchi-hub/work/.log/20240517/20240517-162008-0529.log",
      "/notebooks/notebook/yamaguchi-hub/handon001/.log/20240520/20240520-155254-0095.log"
     ]
    }
   },
   "outputs": [],
   "source": [
    "!ansible {ugroup.name} -m ping"
   ]
  },
  {
   "cell_type": "markdown",
   "metadata": {
    "hidden": true,
    "lc_cell_meme": {
     "current": "8893b24c-2bba-11ee-987e-0242ac110002-7-98f4-65a3-9862-4fd1-0b34-02dc-c7a6",
     "history": [
      {
       "current": "8893b24c-2bba-11ee-987e-0242ac110002-1-98f4",
       "next": "8893b33c-2bba-11ee-987e-0242ac110002",
       "previous": "8893b1a2-2bba-11ee-987e-0242ac110002"
      },
      {
       "current": "8893b24c-2bba-11ee-987e-0242ac110002-2-98f4-65a3",
       "next": "8893b33c-2bba-11ee-987e-0242ac110002-1-c656",
       "previous": "8893b1a2-2bba-11ee-987e-0242ac110002-1-7196"
      },
      {
       "current": "8893b24c-2bba-11ee-987e-0242ac110002-3-98f4-65a3-9862",
       "next": "8893b33c-2bba-11ee-987e-0242ac110002-2-c656-f66e",
       "previous": "8893b1a2-2bba-11ee-987e-0242ac110002-2-7196-063e"
      },
      {
       "current": "8893b24c-2bba-11ee-987e-0242ac110002-4-98f4-65a3-9862-4fd1",
       "next": "8893b33c-2bba-11ee-987e-0242ac110002-3-c656-f66e-e5e4",
       "previous": "8893b1a2-2bba-11ee-987e-0242ac110002-3-7196-063e-de54"
      },
      {
       "current": "8893b24c-2bba-11ee-987e-0242ac110002-5-98f4-65a3-9862-4fd1-0b34",
       "next": "8893b33c-2bba-11ee-987e-0242ac110002-4-c656-f66e-e5e4-f0c2",
       "previous": "8893b1a2-2bba-11ee-987e-0242ac110002-4-7196-063e-de54-71d3"
      },
      {
       "current": "8893b24c-2bba-11ee-987e-0242ac110002-6-98f4-65a3-9862-4fd1-0b34-02dc",
       "next": "8893b33c-2bba-11ee-987e-0242ac110002-5-c656-f66e-e5e4-f0c2-dda6",
       "previous": "8893b1a2-2bba-11ee-987e-0242ac110002-5-7196-063e-de54-71d3-cb16"
      },
      {
       "current": "8893b24c-2bba-11ee-987e-0242ac110002-7-98f4-65a3-9862-4fd1-0b34-02dc-c7a6",
       "next": "8893b33c-2bba-11ee-987e-0242ac110002-6-c656-f66e-e5e4-f0c2-dda6-5f8a",
       "previous": "8893b1a2-2bba-11ee-987e-0242ac110002-6-7196-063e-de54-71d3-cb16-fe81"
      }
     ],
     "next": "8893b33c-2bba-11ee-987e-0242ac110002-7-c656-f66e-e5e4-f0c2-dda6-5f8a-906b",
     "previous": "8893b1a2-2bba-11ee-987e-0242ac110002-7-7196-063e-de54-71d3-cb16-fe81-cc3d"
    }
   },
   "source": [
    "#### NFSの設定"
   ]
  },
  {
   "cell_type": "markdown",
   "metadata": {
    "hidden": true,
    "lc_cell_meme": {
     "current": "8893b33c-2bba-11ee-987e-0242ac110002-7-c656-f66e-e5e4-f0c2-dda6-5f8a-906b",
     "history": [
      {
       "current": "8893b33c-2bba-11ee-987e-0242ac110002-1-c656",
       "next": "8893b3e6-2bba-11ee-987e-0242ac110002",
       "previous": "8893b24c-2bba-11ee-987e-0242ac110002"
      },
      {
       "current": "8893b33c-2bba-11ee-987e-0242ac110002-2-c656-f66e",
       "next": "8893b3e6-2bba-11ee-987e-0242ac110002-1-2674",
       "previous": "8893b24c-2bba-11ee-987e-0242ac110002-1-98f4"
      },
      {
       "current": "8893b33c-2bba-11ee-987e-0242ac110002-3-c656-f66e-e5e4",
       "next": "8893b3e6-2bba-11ee-987e-0242ac110002-2-2674-eb1c",
       "previous": "8893b24c-2bba-11ee-987e-0242ac110002-2-98f4-65a3"
      },
      {
       "current": "8893b33c-2bba-11ee-987e-0242ac110002-4-c656-f66e-e5e4-f0c2",
       "next": "8893b3e6-2bba-11ee-987e-0242ac110002-3-2674-eb1c-bafb",
       "previous": "8893b24c-2bba-11ee-987e-0242ac110002-3-98f4-65a3-9862"
      },
      {
       "current": "8893b33c-2bba-11ee-987e-0242ac110002-5-c656-f66e-e5e4-f0c2-dda6",
       "next": "8893b3e6-2bba-11ee-987e-0242ac110002-4-2674-eb1c-bafb-35ae",
       "previous": "8893b24c-2bba-11ee-987e-0242ac110002-4-98f4-65a3-9862-4fd1"
      },
      {
       "current": "8893b33c-2bba-11ee-987e-0242ac110002-6-c656-f66e-e5e4-f0c2-dda6-5f8a",
       "next": "8893b3e6-2bba-11ee-987e-0242ac110002-5-2674-eb1c-bafb-35ae-c8ca",
       "previous": "8893b24c-2bba-11ee-987e-0242ac110002-5-98f4-65a3-9862-4fd1-0b34"
      },
      {
       "current": "8893b33c-2bba-11ee-987e-0242ac110002-7-c656-f66e-e5e4-f0c2-dda6-5f8a-906b",
       "next": "8893b3e6-2bba-11ee-987e-0242ac110002-6-2674-eb1c-bafb-35ae-c8ca-ac50",
       "previous": "8893b24c-2bba-11ee-987e-0242ac110002-6-98f4-65a3-9862-4fd1-0b34-02dc"
      }
     ],
     "next": "8893b3e6-2bba-11ee-987e-0242ac110002-7-2674-eb1c-bafb-35ae-c8ca-ac50-d83e",
     "previous": "8893b24c-2bba-11ee-987e-0242ac110002-7-98f4-65a3-9862-4fd1-0b34-02dc-c7a6"
    }
   },
   "source": [
    "workerノードにおけるNFSマウントの状態を確認します。`/jupyter`, `/exchange`のエントリが存在していることを確認してください。"
   ]
  },
  {
   "cell_type": "code",
   "execution_count": null,
   "metadata": {
    "hidden": true,
    "lc_cell_meme": {
     "current": "8893b3e6-2bba-11ee-987e-0242ac110002-7-2674-eb1c-bafb-35ae-c8ca-ac50-d83e",
     "history": [
      {
       "current": "8893b3e6-2bba-11ee-987e-0242ac110002-1-2674",
       "next": "8893b486-2bba-11ee-987e-0242ac110002",
       "previous": "8893b33c-2bba-11ee-987e-0242ac110002"
      },
      {
       "current": "8893b3e6-2bba-11ee-987e-0242ac110002-2-2674-eb1c",
       "next": "8893b486-2bba-11ee-987e-0242ac110002-1-fbcc",
       "previous": "8893b33c-2bba-11ee-987e-0242ac110002-1-c656"
      },
      {
       "current": "8893b3e6-2bba-11ee-987e-0242ac110002-3-2674-eb1c-bafb",
       "next": "8893b486-2bba-11ee-987e-0242ac110002-2-fbcc-656f",
       "previous": "8893b33c-2bba-11ee-987e-0242ac110002-2-c656-f66e"
      },
      {
       "current": "8893b3e6-2bba-11ee-987e-0242ac110002-4-2674-eb1c-bafb-35ae",
       "next": "8893b486-2bba-11ee-987e-0242ac110002-3-fbcc-656f-085e",
       "previous": "8893b33c-2bba-11ee-987e-0242ac110002-3-c656-f66e-e5e4"
      },
      {
       "current": "8893b3e6-2bba-11ee-987e-0242ac110002-5-2674-eb1c-bafb-35ae-c8ca",
       "next": "8893b486-2bba-11ee-987e-0242ac110002-4-fbcc-656f-085e-2620",
       "previous": "8893b33c-2bba-11ee-987e-0242ac110002-4-c656-f66e-e5e4-f0c2"
      },
      {
       "current": "8893b3e6-2bba-11ee-987e-0242ac110002-6-2674-eb1c-bafb-35ae-c8ca-ac50",
       "next": "8893b486-2bba-11ee-987e-0242ac110002-5-fbcc-656f-085e-2620-3b82",
       "previous": "8893b33c-2bba-11ee-987e-0242ac110002-5-c656-f66e-e5e4-f0c2-dda6"
      },
      {
       "current": "8893b3e6-2bba-11ee-987e-0242ac110002-7-2674-eb1c-bafb-35ae-c8ca-ac50-d83e",
       "next": "8893b486-2bba-11ee-987e-0242ac110002-6-fbcc-656f-085e-2620-3b82-cf68",
       "previous": "8893b33c-2bba-11ee-987e-0242ac110002-6-c656-f66e-e5e4-f0c2-dda6-5f8a"
      }
     ],
     "next": "8893b486-2bba-11ee-987e-0242ac110002-7-fbcc-656f-085e-2620-3b82-cf68-3088",
     "previous": "8893b33c-2bba-11ee-987e-0242ac110002-7-c656-f66e-e5e4-f0c2-dda6-5f8a-906b"
    },
    "lc_wrapper": {
     "log_history": [
      "/notebooks/notebook/work_terayama/yjupyterhub/work/.log/20230727/20230727-005041-0217.log",
      "/notebooks/notebook/work_terayama/yjupyterhub/work/.log/20230727/20230727-123415-0597.log",
      "/notebooks/notebook/work_terayama/yjupyterhub/work/.log/20230727/20230727-133137-0586.log",
      "/notebooks/notebook/work_terayama/yjupyterhub/work/.log/20230727/20230727-141041-0425.log",
      "/notebooks/notebook/work_terayama/yjupyterhub/work/.log/20230801/20230801-151740-0671.log",
      "/notebooks/notebook/yamaguchi-hub/work/.log/20240517/20240517-162010-0163.log",
      "/notebooks/notebook/yamaguchi-hub/handon001/.log/20240520/20240520-155255-0831.log"
     ]
    }
   },
   "outputs": [],
   "source": [
    "!ansible {ugroup.name}_{unit_worker.name} -a 'mount -t nfs4'"
   ]
  },
  {
   "cell_type": "markdown",
   "metadata": {
    "hidden": true,
    "lc_cell_meme": {
     "current": "8893b486-2bba-11ee-987e-0242ac110002-7-fbcc-656f-085e-2620-3b82-cf68-3088",
     "history": [
      {
       "current": "8893b486-2bba-11ee-987e-0242ac110002-1-fbcc",
       "next": "8893b526-2bba-11ee-987e-0242ac110002",
       "previous": "8893b3e6-2bba-11ee-987e-0242ac110002"
      },
      {
       "current": "8893b486-2bba-11ee-987e-0242ac110002-2-fbcc-656f",
       "next": "8893b526-2bba-11ee-987e-0242ac110002-1-66a7",
       "previous": "8893b3e6-2bba-11ee-987e-0242ac110002-1-2674"
      },
      {
       "current": "8893b486-2bba-11ee-987e-0242ac110002-3-fbcc-656f-085e",
       "next": "8893b526-2bba-11ee-987e-0242ac110002-2-66a7-5c50",
       "previous": "8893b3e6-2bba-11ee-987e-0242ac110002-2-2674-eb1c"
      },
      {
       "current": "8893b486-2bba-11ee-987e-0242ac110002-4-fbcc-656f-085e-2620",
       "next": "8893b526-2bba-11ee-987e-0242ac110002-3-66a7-5c50-4ff5",
       "previous": "8893b3e6-2bba-11ee-987e-0242ac110002-3-2674-eb1c-bafb"
      },
      {
       "current": "8893b486-2bba-11ee-987e-0242ac110002-5-fbcc-656f-085e-2620-3b82",
       "next": "8893b526-2bba-11ee-987e-0242ac110002-4-66a7-5c50-4ff5-8e50",
       "previous": "8893b3e6-2bba-11ee-987e-0242ac110002-4-2674-eb1c-bafb-35ae"
      },
      {
       "current": "8893b486-2bba-11ee-987e-0242ac110002-6-fbcc-656f-085e-2620-3b82-cf68",
       "next": "8893b526-2bba-11ee-987e-0242ac110002-5-66a7-5c50-4ff5-8e50-7425",
       "previous": "8893b3e6-2bba-11ee-987e-0242ac110002-5-2674-eb1c-bafb-35ae-c8ca"
      },
      {
       "current": "8893b486-2bba-11ee-987e-0242ac110002-7-fbcc-656f-085e-2620-3b82-cf68-3088",
       "next": "8893b526-2bba-11ee-987e-0242ac110002-6-66a7-5c50-4ff5-8e50-7425-44f2",
       "previous": "8893b3e6-2bba-11ee-987e-0242ac110002-6-2674-eb1c-bafb-35ae-c8ca-ac50"
      }
     ],
     "next": "8893b526-2bba-11ee-987e-0242ac110002-7-66a7-5c50-4ff5-8e50-7425-44f2-a4cd",
     "previous": "8893b3e6-2bba-11ee-987e-0242ac110002-7-2674-eb1c-bafb-35ae-c8ca-ac50-d83e"
    }
   },
   "source": [
    "NFSサーバの `/etc/exports` の設定を更新します。NFSサーバにアクセスできるNFSクライアントをworkerノードのみとなるように設定します。"
   ]
  },
  {
   "cell_type": "code",
   "execution_count": null,
   "metadata": {
    "hidden": true,
    "lc_cell_meme": {
     "current": "8893b526-2bba-11ee-987e-0242ac110002-7-66a7-5c50-4ff5-8e50-7425-44f2-a4cd",
     "history": [
      {
       "current": "8893b526-2bba-11ee-987e-0242ac110002-1-66a7",
       "next": "8893b5d0-2bba-11ee-987e-0242ac110002",
       "previous": "8893b486-2bba-11ee-987e-0242ac110002"
      },
      {
       "current": "8893b526-2bba-11ee-987e-0242ac110002-2-66a7-5c50",
       "next": "8893b5d0-2bba-11ee-987e-0242ac110002-1-6721",
       "previous": "8893b486-2bba-11ee-987e-0242ac110002-1-fbcc"
      },
      {
       "current": "8893b526-2bba-11ee-987e-0242ac110002-3-66a7-5c50-4ff5",
       "next": "8893b5d0-2bba-11ee-987e-0242ac110002-2-6721-c337",
       "previous": "8893b486-2bba-11ee-987e-0242ac110002-2-fbcc-656f"
      },
      {
       "current": "8893b526-2bba-11ee-987e-0242ac110002-4-66a7-5c50-4ff5-8e50",
       "next": "8893b5d0-2bba-11ee-987e-0242ac110002-3-6721-c337-bef4",
       "previous": "8893b486-2bba-11ee-987e-0242ac110002-3-fbcc-656f-085e"
      },
      {
       "current": "8893b526-2bba-11ee-987e-0242ac110002-5-66a7-5c50-4ff5-8e50-7425",
       "next": "8893b5d0-2bba-11ee-987e-0242ac110002-4-6721-c337-bef4-c2a8",
       "previous": "8893b486-2bba-11ee-987e-0242ac110002-4-fbcc-656f-085e-2620"
      },
      {
       "current": "8893b526-2bba-11ee-987e-0242ac110002-6-66a7-5c50-4ff5-8e50-7425-44f2",
       "next": "8893b5d0-2bba-11ee-987e-0242ac110002-5-6721-c337-bef4-c2a8-73c3",
       "previous": "8893b486-2bba-11ee-987e-0242ac110002-5-fbcc-656f-085e-2620-3b82"
      },
      {
       "current": "8893b526-2bba-11ee-987e-0242ac110002-7-66a7-5c50-4ff5-8e50-7425-44f2-a4cd",
       "next": "8893b5d0-2bba-11ee-987e-0242ac110002-6-6721-c337-bef4-c2a8-73c3-ff7f",
       "previous": "8893b486-2bba-11ee-987e-0242ac110002-6-fbcc-656f-085e-2620-3b82-cf68"
      }
     ],
     "next": "8893b5d0-2bba-11ee-987e-0242ac110002-7-6721-c337-bef4-c2a8-73c3-ff7f-849b",
     "previous": "8893b486-2bba-11ee-987e-0242ac110002-7-fbcc-656f-085e-2620-3b82-cf68-3088"
    },
    "lc_wrapper": {
     "log_history": [
      "/notebooks/notebook/work_terayama/yjupyterhub/work/.log/20230727/20230727-005043-0219.log",
      "/notebooks/notebook/work_terayama/yjupyterhub/work/.log/20230727/20230727-123417-0558.log",
      "/notebooks/notebook/work_terayama/yjupyterhub/work/.log/20230727/20230727-133139-0559.log",
      "/notebooks/notebook/work_terayama/yjupyterhub/work/.log/20230727/20230727-141043-0400.log",
      "/notebooks/notebook/work_terayama/yjupyterhub/work/.log/20230801/20230801-151742-0647.log",
      "/notebooks/notebook/yamaguchi-hub/work/.log/20240517/20240517-162011-0177.log",
      "/notebooks/notebook/yamaguchi-hub/handon001/.log/20240520/20240520-155256-0849.log"
     ]
    },
    "scrolled": true
   },
   "outputs": [],
   "source": [
    "from tempfile import TemporaryDirectory\n",
    "from pathlib import Path\n",
    "\n",
    "exports_opts = 'rw,fsid=0,no_root_squash,no_subtree_check,sync,crossmnt'\n",
    "with TemporaryDirectory() as workdir:\n",
    "    exports = Path(workdir) / f'{ugroup_name}.exports'\n",
    "    with exports.open(mode='w') as f:\n",
    "        for addr in unit_worker.find_ip_addresses():\n",
    "            f.write(f'/exported/{ugroup_name} {addr}({exports_opts})\\n')\n",
    "    !cat {exports}\n",
    "    !ansible {ugroup.name}_{unit_mgr.name} -b -m copy -a \\\n",
    "        'src={exports} dest=/etc/exports.d/ backup=yes'"
   ]
  },
  {
   "cell_type": "markdown",
   "metadata": {
    "hidden": true,
    "lc_cell_meme": {
     "current": "8893b5d0-2bba-11ee-987e-0242ac110002-7-6721-c337-bef4-c2a8-73c3-ff7f-849b",
     "history": [
      {
       "current": "8893b5d0-2bba-11ee-987e-0242ac110002-1-6721",
       "next": "8893b670-2bba-11ee-987e-0242ac110002",
       "previous": "8893b526-2bba-11ee-987e-0242ac110002"
      },
      {
       "current": "8893b5d0-2bba-11ee-987e-0242ac110002-2-6721-c337",
       "next": "8893b670-2bba-11ee-987e-0242ac110002-1-a8cd",
       "previous": "8893b526-2bba-11ee-987e-0242ac110002-1-66a7"
      },
      {
       "current": "8893b5d0-2bba-11ee-987e-0242ac110002-3-6721-c337-bef4",
       "next": "8893b670-2bba-11ee-987e-0242ac110002-2-a8cd-1b5e",
       "previous": "8893b526-2bba-11ee-987e-0242ac110002-2-66a7-5c50"
      },
      {
       "current": "8893b5d0-2bba-11ee-987e-0242ac110002-4-6721-c337-bef4-c2a8",
       "next": "8893b670-2bba-11ee-987e-0242ac110002-3-a8cd-1b5e-51af",
       "previous": "8893b526-2bba-11ee-987e-0242ac110002-3-66a7-5c50-4ff5"
      },
      {
       "current": "8893b5d0-2bba-11ee-987e-0242ac110002-5-6721-c337-bef4-c2a8-73c3",
       "next": "8893b670-2bba-11ee-987e-0242ac110002-4-a8cd-1b5e-51af-8cbf",
       "previous": "8893b526-2bba-11ee-987e-0242ac110002-4-66a7-5c50-4ff5-8e50"
      },
      {
       "current": "8893b5d0-2bba-11ee-987e-0242ac110002-6-6721-c337-bef4-c2a8-73c3-ff7f",
       "next": "8893b670-2bba-11ee-987e-0242ac110002-5-a8cd-1b5e-51af-8cbf-0044",
       "previous": "8893b526-2bba-11ee-987e-0242ac110002-5-66a7-5c50-4ff5-8e50-7425"
      },
      {
       "current": "8893b5d0-2bba-11ee-987e-0242ac110002-7-6721-c337-bef4-c2a8-73c3-ff7f-849b",
       "next": "8893b670-2bba-11ee-987e-0242ac110002-6-a8cd-1b5e-51af-8cbf-0044-70db",
       "previous": "8893b526-2bba-11ee-987e-0242ac110002-6-66a7-5c50-4ff5-8e50-7425-44f2"
      }
     ],
     "next": "8893b670-2bba-11ee-987e-0242ac110002-7-a8cd-1b5e-51af-8cbf-0044-70db-9663",
     "previous": "8893b526-2bba-11ee-987e-0242ac110002-7-66a7-5c50-4ff5-8e50-7425-44f2-a4cd"
    }
   },
   "source": [
    "設定ファイルを読み込ませてエクスポート設定を更新します。"
   ]
  },
  {
   "cell_type": "code",
   "execution_count": null,
   "metadata": {
    "hidden": true,
    "lc_cell_meme": {
     "current": "8893b670-2bba-11ee-987e-0242ac110002-7-a8cd-1b5e-51af-8cbf-0044-70db-9663",
     "history": [
      {
       "current": "8893b670-2bba-11ee-987e-0242ac110002-1-a8cd",
       "next": "8893b710-2bba-11ee-987e-0242ac110002",
       "previous": "8893b5d0-2bba-11ee-987e-0242ac110002"
      },
      {
       "current": "8893b670-2bba-11ee-987e-0242ac110002-2-a8cd-1b5e",
       "next": "8893b710-2bba-11ee-987e-0242ac110002-1-aa18",
       "previous": "8893b5d0-2bba-11ee-987e-0242ac110002-1-6721"
      },
      {
       "current": "8893b670-2bba-11ee-987e-0242ac110002-3-a8cd-1b5e-51af",
       "next": "8893b710-2bba-11ee-987e-0242ac110002-2-aa18-2493",
       "previous": "8893b5d0-2bba-11ee-987e-0242ac110002-2-6721-c337"
      },
      {
       "current": "8893b670-2bba-11ee-987e-0242ac110002-4-a8cd-1b5e-51af-8cbf",
       "next": "8893b710-2bba-11ee-987e-0242ac110002-3-aa18-2493-3a75",
       "previous": "8893b5d0-2bba-11ee-987e-0242ac110002-3-6721-c337-bef4"
      },
      {
       "current": "8893b670-2bba-11ee-987e-0242ac110002-5-a8cd-1b5e-51af-8cbf-0044",
       "next": "8893b710-2bba-11ee-987e-0242ac110002-4-aa18-2493-3a75-9470",
       "previous": "8893b5d0-2bba-11ee-987e-0242ac110002-4-6721-c337-bef4-c2a8"
      },
      {
       "current": "8893b670-2bba-11ee-987e-0242ac110002-6-a8cd-1b5e-51af-8cbf-0044-70db",
       "next": "8893b710-2bba-11ee-987e-0242ac110002-5-aa18-2493-3a75-9470-71bd",
       "previous": "8893b5d0-2bba-11ee-987e-0242ac110002-5-6721-c337-bef4-c2a8-73c3"
      },
      {
       "current": "8893b670-2bba-11ee-987e-0242ac110002-7-a8cd-1b5e-51af-8cbf-0044-70db-9663",
       "next": "8893b710-2bba-11ee-987e-0242ac110002-6-aa18-2493-3a75-9470-71bd-f393",
       "previous": "8893b5d0-2bba-11ee-987e-0242ac110002-6-6721-c337-bef4-c2a8-73c3-ff7f"
      }
     ],
     "next": "8893b710-2bba-11ee-987e-0242ac110002-7-aa18-2493-3a75-9470-71bd-f393-7850",
     "previous": "8893b5d0-2bba-11ee-987e-0242ac110002-7-6721-c337-bef4-c2a8-73c3-ff7f-849b"
    },
    "lc_wrapper": {
     "log_history": [
      "/notebooks/notebook/work_terayama/yjupyterhub/work/.log/20230727/20230727-005051-0284.log",
      "/notebooks/notebook/work_terayama/yjupyterhub/work/.log/20230727/20230727-123425-0619.log",
      "/notebooks/notebook/work_terayama/yjupyterhub/work/.log/20230727/20230727-133147-0667.log",
      "/notebooks/notebook/work_terayama/yjupyterhub/work/.log/20230727/20230727-141051-0465.log",
      "/notebooks/notebook/work_terayama/yjupyterhub/work/.log/20230801/20230801-151750-0661.log",
      "/notebooks/notebook/yamaguchi-hub/work/.log/20240517/20240517-162013-0740.log",
      "/notebooks/notebook/yamaguchi-hub/handon001/.log/20240520/20240520-155259-0567.log"
     ]
    }
   },
   "outputs": [],
   "source": [
    "!ansible {ugroup.name}_{unit_mgr.name} -b -a 'exportfs -r -v'"
   ]
  },
  {
   "cell_type": "markdown",
   "metadata": {
    "hidden": true,
    "lc_cell_meme": {
     "current": "8893b710-2bba-11ee-987e-0242ac110002-7-aa18-2493-3a75-9470-71bd-f393-7850",
     "history": [
      {
       "current": "8893b710-2bba-11ee-987e-0242ac110002-1-aa18",
       "next": "8893b7ba-2bba-11ee-987e-0242ac110002",
       "previous": "8893b670-2bba-11ee-987e-0242ac110002"
      },
      {
       "current": "8893b710-2bba-11ee-987e-0242ac110002-2-aa18-2493",
       "next": "8893b7ba-2bba-11ee-987e-0242ac110002-1-e402",
       "previous": "8893b670-2bba-11ee-987e-0242ac110002-1-a8cd"
      },
      {
       "current": "8893b710-2bba-11ee-987e-0242ac110002-3-aa18-2493-3a75",
       "next": "8893b7ba-2bba-11ee-987e-0242ac110002-2-e402-69d5",
       "previous": "8893b670-2bba-11ee-987e-0242ac110002-2-a8cd-1b5e"
      },
      {
       "current": "8893b710-2bba-11ee-987e-0242ac110002-4-aa18-2493-3a75-9470",
       "next": "8893b7ba-2bba-11ee-987e-0242ac110002-3-e402-69d5-a64a",
       "previous": "8893b670-2bba-11ee-987e-0242ac110002-3-a8cd-1b5e-51af"
      },
      {
       "current": "8893b710-2bba-11ee-987e-0242ac110002-5-aa18-2493-3a75-9470-71bd",
       "next": "8893b7ba-2bba-11ee-987e-0242ac110002-4-e402-69d5-a64a-5618",
       "previous": "8893b670-2bba-11ee-987e-0242ac110002-4-a8cd-1b5e-51af-8cbf"
      },
      {
       "current": "8893b710-2bba-11ee-987e-0242ac110002-6-aa18-2493-3a75-9470-71bd-f393",
       "next": "8893b7ba-2bba-11ee-987e-0242ac110002-5-e402-69d5-a64a-5618-b143",
       "previous": "8893b670-2bba-11ee-987e-0242ac110002-5-a8cd-1b5e-51af-8cbf-0044"
      },
      {
       "current": "8893b710-2bba-11ee-987e-0242ac110002-7-aa18-2493-3a75-9470-71bd-f393-7850",
       "next": "8893b7ba-2bba-11ee-987e-0242ac110002-6-e402-69d5-a64a-5618-b143-2cb4",
       "previous": "8893b670-2bba-11ee-987e-0242ac110002-6-a8cd-1b5e-51af-8cbf-0044-70db"
      }
     ],
     "next": "8893b7ba-2bba-11ee-987e-0242ac110002-7-e402-69d5-a64a-5618-b143-2cb4-ff88",
     "previous": "8893b670-2bba-11ee-987e-0242ac110002-7-a8cd-1b5e-51af-8cbf-0044-70db-9663"
    }
   },
   "source": [
    "NFSサーバ側に作成したファイルをNFSクライアント側で参照できることを確認します。"
   ]
  },
  {
   "cell_type": "code",
   "execution_count": null,
   "metadata": {
    "hidden": true,
    "lc_cell_meme": {
     "current": "8893b7ba-2bba-11ee-987e-0242ac110002-7-e402-69d5-a64a-5618-b143-2cb4-ff88",
     "history": [
      {
       "current": "8893b7ba-2bba-11ee-987e-0242ac110002-1-e402",
       "next": "8893b86e-2bba-11ee-987e-0242ac110002",
       "previous": "8893b710-2bba-11ee-987e-0242ac110002"
      },
      {
       "current": "8893b7ba-2bba-11ee-987e-0242ac110002-2-e402-69d5",
       "next": "8893b86e-2bba-11ee-987e-0242ac110002-1-2560",
       "previous": "8893b710-2bba-11ee-987e-0242ac110002-1-aa18"
      },
      {
       "current": "8893b7ba-2bba-11ee-987e-0242ac110002-3-e402-69d5-a64a",
       "next": "8893b86e-2bba-11ee-987e-0242ac110002-2-2560-1b3e",
       "previous": "8893b710-2bba-11ee-987e-0242ac110002-2-aa18-2493"
      },
      {
       "current": "8893b7ba-2bba-11ee-987e-0242ac110002-3-e402-69d5-a64a",
       "next": "8893b86e-2bba-11ee-987e-0242ac110002-3-2560-1b3e-961b",
       "previous": "8893b710-2bba-11ee-987e-0242ac110002-3-aa18-2493-3a75"
      },
      {
       "current": "8893b7ba-2bba-11ee-987e-0242ac110002-4-e402-69d5-a64a-5618",
       "next": "8893b918-2bba-11ee-987e-0242ac110002-3-340d-f4b2-676e",
       "previous": "8893b710-2bba-11ee-987e-0242ac110002-3-aa18-2493-3a75"
      },
      {
       "current": "8893b7ba-2bba-11ee-987e-0242ac110002-5-e402-69d5-a64a-5618-b143",
       "next": "8893b918-2bba-11ee-987e-0242ac110002-4-340d-f4b2-676e-24b8",
       "previous": "8893b710-2bba-11ee-987e-0242ac110002-4-aa18-2493-3a75-9470"
      },
      {
       "current": "8893b7ba-2bba-11ee-987e-0242ac110002-6-e402-69d5-a64a-5618-b143-2cb4",
       "next": "8893b918-2bba-11ee-987e-0242ac110002-5-340d-f4b2-676e-24b8-b281",
       "previous": "8893b710-2bba-11ee-987e-0242ac110002-5-aa18-2493-3a75-9470-71bd"
      },
      {
       "current": "8893b7ba-2bba-11ee-987e-0242ac110002-7-e402-69d5-a64a-5618-b143-2cb4-ff88",
       "next": "8893b918-2bba-11ee-987e-0242ac110002-6-340d-f4b2-676e-24b8-b281-3d0e",
       "previous": "8893b710-2bba-11ee-987e-0242ac110002-6-aa18-2493-3a75-9470-71bd-f393"
      }
     ],
     "next": "8893b918-2bba-11ee-987e-0242ac110002-7-340d-f4b2-676e-24b8-b281-3d0e-36c7",
     "previous": "8893b710-2bba-11ee-987e-0242ac110002-7-aa18-2493-3a75-9470-71bd-f393-7850"
    },
    "lc_wrapper": {
     "log_history": [
      "/notebooks/notebook/work_terayama/yjupyterhub/work/.log/20230727/20230727-005053-0296.log",
      "/notebooks/notebook/work_terayama/yjupyterhub/work/.log/20230727/20230727-123427-0605.log",
      "/notebooks/notebook/work_terayama/yjupyterhub/work/.log/20230727/20230727-124034-0507.log",
      "/notebooks/notebook/work_terayama/yjupyterhub/work/.log/20230727/20230727-133149-0709.log",
      "/notebooks/notebook/work_terayama/yjupyterhub/work/.log/20230727/20230727-133343-0682.log",
      "/notebooks/notebook/work_terayama/yjupyterhub/work/.log/20230727/20230727-141053-0472.log",
      "/notebooks/notebook/work_terayama/yjupyterhub/work/.log/20230801/20230801-151752-0653.log",
      "/notebooks/notebook/yamaguchi-hub/work/.log/20240517/20240517-162015-0419.log",
      "/notebooks/notebook/yamaguchi-hub/handon001/.log/20240520/20240520-155301-0248.log"
     ]
    },
    "scrolled": true
   },
   "outputs": [],
   "source": [
    "!ansible {ugroup.name}_{unit_mgr.name} -m file -a 'path=/jupyter/xxx state=touch'\n",
    "!ansible {ugroup.name}_{unit_mgr.name} -m file -a 'path=/exchange/xxx state=touch'\n",
    "!ansible {ugroup.name}_{unit_worker.name} -a 'test -f /jupyter/xxx'\n",
    "!ansible {ugroup.name}_{unit_worker.name} -a 'test -f /exchange/xxx'\n",
    "!ansible {ugroup.name} -m file -a 'path=/jupyter/xxx state=absent'\n",
    "!ansible {ugroup.name} -m file -a 'path=/exchange/xxx state=absent'"
   ]
  },
  {
   "cell_type": "markdown",
   "metadata": {
    "hidden": true,
    "lc_cell_meme": {
     "current": "8893b918-2bba-11ee-987e-0242ac110002-7-340d-f4b2-676e-24b8-b281-3d0e-36c7",
     "history": [
      {
       "current": "8893b918-2bba-11ee-987e-0242ac110002-1-340d",
       "next": "8893b9b8-2bba-11ee-987e-0242ac110002",
       "previous": "8893b86e-2bba-11ee-987e-0242ac110002"
      },
      {
       "current": "8893b918-2bba-11ee-987e-0242ac110002-2-340d-f4b2",
       "next": "8893b9b8-2bba-11ee-987e-0242ac110002-1-b78c",
       "previous": "8893b86e-2bba-11ee-987e-0242ac110002-1-2560"
      },
      {
       "current": "8893b918-2bba-11ee-987e-0242ac110002-3-340d-f4b2-676e",
       "next": "8893b9b8-2bba-11ee-987e-0242ac110002-2-b78c-026f",
       "previous": "8893b86e-2bba-11ee-987e-0242ac110002-2-2560-1b3e"
      },
      {
       "current": "8893b918-2bba-11ee-987e-0242ac110002-3-340d-f4b2-676e",
       "next": "8893b9b8-2bba-11ee-987e-0242ac110002-3-b78c-026f-622a",
       "previous": "8893b86e-2bba-11ee-987e-0242ac110002-3-2560-1b3e-961b"
      },
      {
       "current": "8893b918-2bba-11ee-987e-0242ac110002-4-340d-f4b2-676e-24b8",
       "next": "8893b9b8-2bba-11ee-987e-0242ac110002-3-b78c-026f-622a",
       "previous": "8893b7ba-2bba-11ee-987e-0242ac110002-3-e402-69d5-a64a"
      },
      {
       "current": "8893b918-2bba-11ee-987e-0242ac110002-5-340d-f4b2-676e-24b8-b281",
       "next": "8893b9b8-2bba-11ee-987e-0242ac110002-4-b78c-026f-622a-a778",
       "previous": "8893b7ba-2bba-11ee-987e-0242ac110002-4-e402-69d5-a64a-5618"
      },
      {
       "current": "8893b918-2bba-11ee-987e-0242ac110002-6-340d-f4b2-676e-24b8-b281-3d0e",
       "next": "8893b9b8-2bba-11ee-987e-0242ac110002-5-b78c-026f-622a-a778-30a1",
       "previous": "8893b7ba-2bba-11ee-987e-0242ac110002-5-e402-69d5-a64a-5618-b143"
      },
      {
       "current": "8893b918-2bba-11ee-987e-0242ac110002-7-340d-f4b2-676e-24b8-b281-3d0e-36c7",
       "next": "8893b9b8-2bba-11ee-987e-0242ac110002-6-b78c-026f-622a-a778-30a1-0bb6",
       "previous": "8893b7ba-2bba-11ee-987e-0242ac110002-6-e402-69d5-a64a-5618-b143-2cb4"
      }
     ],
     "next": "8893b9b8-2bba-11ee-987e-0242ac110002-7-b78c-026f-622a-a778-30a1-0bb6-1e3a",
     "previous": "8893b7ba-2bba-11ee-987e-0242ac110002-7-e402-69d5-a64a-5618-b143-2cb4-ff88"
    }
   },
   "source": [
    "Docker Swarmの設定を行う前に、各VCノードで Docker Engine が実行されていることを確認します。"
   ]
  },
  {
   "cell_type": "code",
   "execution_count": null,
   "metadata": {
    "hidden": true,
    "lc_cell_meme": {
     "current": "8893b9b8-2bba-11ee-987e-0242ac110002-7-b78c-026f-622a-a778-30a1-0bb6-1e3a",
     "history": [
      {
       "current": "8893b9b8-2bba-11ee-987e-0242ac110002-1-b78c",
       "next": "8893ba58-2bba-11ee-987e-0242ac110002",
       "previous": "8893b918-2bba-11ee-987e-0242ac110002"
      },
      {
       "current": "8893b9b8-2bba-11ee-987e-0242ac110002-2-b78c-026f",
       "next": "8893ba58-2bba-11ee-987e-0242ac110002-1-8f81",
       "previous": "8893b918-2bba-11ee-987e-0242ac110002-1-340d"
      },
      {
       "current": "8893b9b8-2bba-11ee-987e-0242ac110002-3-b78c-026f-622a",
       "next": "8893ba58-2bba-11ee-987e-0242ac110002-2-8f81-5ccd",
       "previous": "8893b918-2bba-11ee-987e-0242ac110002-2-340d-f4b2"
      },
      {
       "current": "8893b9b8-2bba-11ee-987e-0242ac110002-4-b78c-026f-622a-a778",
       "next": "8893ba58-2bba-11ee-987e-0242ac110002-3-8f81-5ccd-89f2",
       "previous": "8893b918-2bba-11ee-987e-0242ac110002-3-340d-f4b2-676e"
      },
      {
       "current": "8893b9b8-2bba-11ee-987e-0242ac110002-5-b78c-026f-622a-a778-30a1",
       "next": "8893ba58-2bba-11ee-987e-0242ac110002-4-8f81-5ccd-89f2-95ae",
       "previous": "8893b918-2bba-11ee-987e-0242ac110002-4-340d-f4b2-676e-24b8"
      },
      {
       "current": "8893b9b8-2bba-11ee-987e-0242ac110002-6-b78c-026f-622a-a778-30a1-0bb6",
       "next": "8893ba58-2bba-11ee-987e-0242ac110002-5-8f81-5ccd-89f2-95ae-2c05",
       "previous": "8893b918-2bba-11ee-987e-0242ac110002-5-340d-f4b2-676e-24b8-b281"
      },
      {
       "current": "8893b9b8-2bba-11ee-987e-0242ac110002-7-b78c-026f-622a-a778-30a1-0bb6-1e3a",
       "next": "8893ba58-2bba-11ee-987e-0242ac110002-6-8f81-5ccd-89f2-95ae-2c05-ccbf",
       "previous": "8893b918-2bba-11ee-987e-0242ac110002-6-340d-f4b2-676e-24b8-b281-3d0e"
      }
     ],
     "next": "8893ba58-2bba-11ee-987e-0242ac110002-7-8f81-5ccd-89f2-95ae-2c05-ccbf-90b6",
     "previous": "8893b918-2bba-11ee-987e-0242ac110002-7-340d-f4b2-676e-24b8-b281-3d0e-36c7"
    },
    "lc_wrapper": {
     "log_history": [
      "/notebooks/notebook/work_terayama/yjupyterhub/work/.log/20230727/20230727-141113-0439.log",
      "/notebooks/notebook/work_terayama/yjupyterhub/work/.log/20230801/20230801-151948-0427.log",
      "/notebooks/notebook/yamaguchi-hub/work/.log/20240517/20240517-162024-0006.log",
      "/notebooks/notebook/yamaguchi-hub/handon001/.log/20240520/20240520-155309-0729.log"
     ]
    },
    "scrolled": true
   },
   "outputs": [],
   "source": [
    "!ansible {ugroup.name} -a 'docker info'"
   ]
  },
  {
   "cell_type": "markdown",
   "metadata": {
    "hidden": true,
    "lc_cell_meme": {
     "current": "8893ba58-2bba-11ee-987e-0242ac110002-7-8f81-5ccd-89f2-95ae-2c05-ccbf-90b6",
     "history": [
      {
       "current": "8893ba58-2bba-11ee-987e-0242ac110002-1-8f81",
       "next": "8893baf8-2bba-11ee-987e-0242ac110002",
       "previous": "8893b9b8-2bba-11ee-987e-0242ac110002"
      },
      {
       "current": "8893ba58-2bba-11ee-987e-0242ac110002-2-8f81-5ccd",
       "next": "8893baf8-2bba-11ee-987e-0242ac110002-1-7afd",
       "previous": "8893b9b8-2bba-11ee-987e-0242ac110002-1-b78c"
      },
      {
       "current": "8893ba58-2bba-11ee-987e-0242ac110002-3-8f81-5ccd-89f2",
       "next": "8893baf8-2bba-11ee-987e-0242ac110002-2-7afd-1533",
       "previous": "8893b9b8-2bba-11ee-987e-0242ac110002-2-b78c-026f"
      },
      {
       "current": "8893ba58-2bba-11ee-987e-0242ac110002-4-8f81-5ccd-89f2-95ae",
       "next": "8893baf8-2bba-11ee-987e-0242ac110002-3-7afd-1533-3ab4",
       "previous": "8893b9b8-2bba-11ee-987e-0242ac110002-3-b78c-026f-622a"
      },
      {
       "current": "8893ba58-2bba-11ee-987e-0242ac110002-5-8f81-5ccd-89f2-95ae-2c05",
       "next": "8893baf8-2bba-11ee-987e-0242ac110002-4-7afd-1533-3ab4-88b6",
       "previous": "8893b9b8-2bba-11ee-987e-0242ac110002-4-b78c-026f-622a-a778"
      },
      {
       "current": "8893ba58-2bba-11ee-987e-0242ac110002-6-8f81-5ccd-89f2-95ae-2c05-ccbf",
       "next": "8893baf8-2bba-11ee-987e-0242ac110002-5-7afd-1533-3ab4-88b6-6d66",
       "previous": "8893b9b8-2bba-11ee-987e-0242ac110002-5-b78c-026f-622a-a778-30a1"
      },
      {
       "current": "8893ba58-2bba-11ee-987e-0242ac110002-7-8f81-5ccd-89f2-95ae-2c05-ccbf-90b6",
       "next": "8893baf8-2bba-11ee-987e-0242ac110002-6-7afd-1533-3ab4-88b6-6d66-7e1e",
       "previous": "8893b9b8-2bba-11ee-987e-0242ac110002-6-b78c-026f-622a-a778-30a1-0bb6"
      }
     ],
     "next": "8893baf8-2bba-11ee-987e-0242ac110002-7-7afd-1533-3ab4-88b6-6d66-7e1e-15d5",
     "previous": "8893b9b8-2bba-11ee-987e-0242ac110002-7-b78c-026f-622a-a778-30a1-0bb6-1e3a"
    }
   },
   "source": [
    "manager用VCノードで Docker Swarmの初期セットアップを行います。"
   ]
  },
  {
   "cell_type": "code",
   "execution_count": null,
   "metadata": {
    "hidden": true,
    "lc_cell_meme": {
     "current": "8893baf8-2bba-11ee-987e-0242ac110002-7-7afd-1533-3ab4-88b6-6d66-7e1e-15d5",
     "history": [
      {
       "current": "8893baf8-2bba-11ee-987e-0242ac110002-1-7afd",
       "next": "8893bba2-2bba-11ee-987e-0242ac110002",
       "previous": "8893ba58-2bba-11ee-987e-0242ac110002"
      },
      {
       "current": "8893baf8-2bba-11ee-987e-0242ac110002-2-7afd-1533",
       "next": "8893bba2-2bba-11ee-987e-0242ac110002-1-0f2d",
       "previous": "8893ba58-2bba-11ee-987e-0242ac110002-1-8f81"
      },
      {
       "current": "8893baf8-2bba-11ee-987e-0242ac110002-3-7afd-1533-3ab4",
       "next": "8893bba2-2bba-11ee-987e-0242ac110002-2-0f2d-6998",
       "previous": "8893ba58-2bba-11ee-987e-0242ac110002-2-8f81-5ccd"
      },
      {
       "current": "8893baf8-2bba-11ee-987e-0242ac110002-4-7afd-1533-3ab4-88b6",
       "next": "8893bba2-2bba-11ee-987e-0242ac110002-3-0f2d-6998-a500",
       "previous": "8893ba58-2bba-11ee-987e-0242ac110002-3-8f81-5ccd-89f2"
      },
      {
       "current": "8893baf8-2bba-11ee-987e-0242ac110002-5-7afd-1533-3ab4-88b6-6d66",
       "next": "8893bba2-2bba-11ee-987e-0242ac110002-4-0f2d-6998-a500-d6ed",
       "previous": "8893ba58-2bba-11ee-987e-0242ac110002-4-8f81-5ccd-89f2-95ae"
      },
      {
       "current": "8893baf8-2bba-11ee-987e-0242ac110002-6-7afd-1533-3ab4-88b6-6d66-7e1e",
       "next": "8893bba2-2bba-11ee-987e-0242ac110002-5-0f2d-6998-a500-d6ed-5e3e",
       "previous": "8893ba58-2bba-11ee-987e-0242ac110002-5-8f81-5ccd-89f2-95ae-2c05"
      },
      {
       "current": "8893baf8-2bba-11ee-987e-0242ac110002-7-7afd-1533-3ab4-88b6-6d66-7e1e-15d5",
       "next": "8893bba2-2bba-11ee-987e-0242ac110002-6-0f2d-6998-a500-d6ed-5e3e-4818",
       "previous": "8893ba58-2bba-11ee-987e-0242ac110002-6-8f81-5ccd-89f2-95ae-2c05-ccbf"
      }
     ],
     "next": "8893bba2-2bba-11ee-987e-0242ac110002-7-0f2d-6998-a500-d6ed-5e3e-4818-8925",
     "previous": "8893ba58-2bba-11ee-987e-0242ac110002-7-8f81-5ccd-89f2-95ae-2c05-ccbf-90b6"
    },
    "lc_wrapper": {
     "log_history": [
      "/notebooks/notebook/work_terayama/yjupyterhub/work/.log/20230727/20230727-141115-0520.log",
      "/notebooks/notebook/work_terayama/yjupyterhub/work/.log/20230801/20230801-151950-0593.log",
      "/notebooks/notebook/yamaguchi-hub/work/.log/20240517/20240517-162025-0819.log",
      "/notebooks/notebook/yamaguchi-hub/handon001/.log/20240520/20240520-155311-0386.log"
     ]
    }
   },
   "outputs": [],
   "source": [
    "manager_ip = gvars['vc_ipaddress']\n",
    "!ansible {ugroup.name}_{unit_mgr.name} -a 'docker swarm init \\\n",
    "    --default-addr-pool={{{{docker_address_pool}}}} --advertise-addr={manager_ip}'"
   ]
  },
  {
   "cell_type": "markdown",
   "metadata": {
    "hidden": true,
    "lc_cell_meme": {
     "current": "8893bba2-2bba-11ee-987e-0242ac110002-7-0f2d-6998-a500-d6ed-5e3e-4818-8925",
     "history": [
      {
       "current": "8893bba2-2bba-11ee-987e-0242ac110002-1-0f2d",
       "next": "8893bc42-2bba-11ee-987e-0242ac110002",
       "previous": "8893baf8-2bba-11ee-987e-0242ac110002"
      },
      {
       "current": "8893bba2-2bba-11ee-987e-0242ac110002-2-0f2d-6998",
       "next": "8893bc42-2bba-11ee-987e-0242ac110002-1-0d90",
       "previous": "8893baf8-2bba-11ee-987e-0242ac110002-1-7afd"
      },
      {
       "current": "8893bba2-2bba-11ee-987e-0242ac110002-3-0f2d-6998-a500",
       "next": "8893bc42-2bba-11ee-987e-0242ac110002-2-0d90-18bb",
       "previous": "8893baf8-2bba-11ee-987e-0242ac110002-2-7afd-1533"
      },
      {
       "current": "8893bba2-2bba-11ee-987e-0242ac110002-4-0f2d-6998-a500-d6ed",
       "next": "8893bc42-2bba-11ee-987e-0242ac110002-3-0d90-18bb-8b36",
       "previous": "8893baf8-2bba-11ee-987e-0242ac110002-3-7afd-1533-3ab4"
      },
      {
       "current": "8893bba2-2bba-11ee-987e-0242ac110002-5-0f2d-6998-a500-d6ed-5e3e",
       "next": "8893bc42-2bba-11ee-987e-0242ac110002-4-0d90-18bb-8b36-e1c0",
       "previous": "8893baf8-2bba-11ee-987e-0242ac110002-4-7afd-1533-3ab4-88b6"
      },
      {
       "current": "8893bba2-2bba-11ee-987e-0242ac110002-6-0f2d-6998-a500-d6ed-5e3e-4818",
       "next": "8893bc42-2bba-11ee-987e-0242ac110002-5-0d90-18bb-8b36-e1c0-a5b3",
       "previous": "8893baf8-2bba-11ee-987e-0242ac110002-5-7afd-1533-3ab4-88b6-6d66"
      },
      {
       "current": "8893bba2-2bba-11ee-987e-0242ac110002-7-0f2d-6998-a500-d6ed-5e3e-4818-8925",
       "next": "8893bc42-2bba-11ee-987e-0242ac110002-6-0d90-18bb-8b36-e1c0-a5b3-431f",
       "previous": "8893baf8-2bba-11ee-987e-0242ac110002-6-7afd-1533-3ab4-88b6-6d66-7e1e"
      }
     ],
     "next": "8893bc42-2bba-11ee-987e-0242ac110002-7-0d90-18bb-8b36-e1c0-a5b3-431f-7b76",
     "previous": "8893baf8-2bba-11ee-987e-0242ac110002-7-7afd-1533-3ab4-88b6-6d66-7e1e-15d5"
    }
   },
   "source": [
    "トークンの値を取得します。"
   ]
  },
  {
   "cell_type": "code",
   "execution_count": null,
   "metadata": {
    "hidden": true,
    "lc_cell_meme": {
     "current": "8893bc42-2bba-11ee-987e-0242ac110002-7-0d90-18bb-8b36-e1c0-a5b3-431f-7b76",
     "history": [
      {
       "current": "8893bc42-2bba-11ee-987e-0242ac110002-1-0d90",
       "next": "8893bce2-2bba-11ee-987e-0242ac110002",
       "previous": "8893bba2-2bba-11ee-987e-0242ac110002"
      },
      {
       "current": "8893bc42-2bba-11ee-987e-0242ac110002-2-0d90-18bb",
       "next": "8893bce2-2bba-11ee-987e-0242ac110002-1-1af3",
       "previous": "8893bba2-2bba-11ee-987e-0242ac110002-1-0f2d"
      },
      {
       "current": "8893bc42-2bba-11ee-987e-0242ac110002-3-0d90-18bb-8b36",
       "next": "8893bce2-2bba-11ee-987e-0242ac110002-2-1af3-1ff6",
       "previous": "8893bba2-2bba-11ee-987e-0242ac110002-2-0f2d-6998"
      },
      {
       "current": "8893bc42-2bba-11ee-987e-0242ac110002-4-0d90-18bb-8b36-e1c0",
       "next": "8893bce2-2bba-11ee-987e-0242ac110002-3-1af3-1ff6-0ca4",
       "previous": "8893bba2-2bba-11ee-987e-0242ac110002-3-0f2d-6998-a500"
      },
      {
       "current": "8893bc42-2bba-11ee-987e-0242ac110002-5-0d90-18bb-8b36-e1c0-a5b3",
       "next": "8893bce2-2bba-11ee-987e-0242ac110002-4-1af3-1ff6-0ca4-8eac",
       "previous": "8893bba2-2bba-11ee-987e-0242ac110002-4-0f2d-6998-a500-d6ed"
      },
      {
       "current": "8893bc42-2bba-11ee-987e-0242ac110002-6-0d90-18bb-8b36-e1c0-a5b3-431f",
       "next": "8893bce2-2bba-11ee-987e-0242ac110002-5-1af3-1ff6-0ca4-8eac-f0ff",
       "previous": "8893bba2-2bba-11ee-987e-0242ac110002-5-0f2d-6998-a500-d6ed-5e3e"
      },
      {
       "current": "8893bc42-2bba-11ee-987e-0242ac110002-7-0d90-18bb-8b36-e1c0-a5b3-431f-7b76",
       "next": "8893bce2-2bba-11ee-987e-0242ac110002-6-1af3-1ff6-0ca4-8eac-f0ff-830b",
       "previous": "8893bba2-2bba-11ee-987e-0242ac110002-6-0f2d-6998-a500-d6ed-5e3e-4818"
      }
     ],
     "next": "8893bce2-2bba-11ee-987e-0242ac110002-7-1af3-1ff6-0ca4-8eac-f0ff-830b-d1f4",
     "previous": "8893bba2-2bba-11ee-987e-0242ac110002-7-0f2d-6998-a500-d6ed-5e3e-4818-8925"
    },
    "lc_wrapper": {
     "log_history": [
      "/notebooks/notebook/work_terayama/yjupyterhub/work/.log/20230727/20230727-141118-0187.log",
      "/notebooks/notebook/work_terayama/yjupyterhub/work/.log/20230801/20230801-151953-0206.log",
      "/notebooks/notebook/yamaguchi-hub/work/.log/20240517/20240517-162028-0137.log",
      "/notebooks/notebook/yamaguchi-hub/handon001/.log/20240520/20240520-155313-0407.log"
     ]
    }
   },
   "outputs": [],
   "source": [
    "out = !ansible {ugroup.name}_{unit_mgr.name} -a 'docker swarm join-token -q worker'\n",
    "if out[0].find('CHANGED') >= 0 or out[0].find('SUCCESS') >= 0:\n",
    "    swarm_token = out[1]\n",
    "    print(swarm_token)\n",
    "else:\n",
    "    raise"
   ]
  },
  {
   "cell_type": "markdown",
   "metadata": {
    "hidden": true,
    "lc_cell_meme": {
     "current": "8893bce2-2bba-11ee-987e-0242ac110002-7-1af3-1ff6-0ca4-8eac-f0ff-830b-d1f4",
     "history": [
      {
       "current": "8893bce2-2bba-11ee-987e-0242ac110002-1-1af3",
       "next": "8893bd82-2bba-11ee-987e-0242ac110002",
       "previous": "8893bc42-2bba-11ee-987e-0242ac110002"
      },
      {
       "current": "8893bce2-2bba-11ee-987e-0242ac110002-2-1af3-1ff6",
       "next": "8893bd82-2bba-11ee-987e-0242ac110002-1-a0f5",
       "previous": "8893bc42-2bba-11ee-987e-0242ac110002-1-0d90"
      },
      {
       "current": "8893bce2-2bba-11ee-987e-0242ac110002-3-1af3-1ff6-0ca4",
       "next": "8893bd82-2bba-11ee-987e-0242ac110002-2-a0f5-72cc",
       "previous": "8893bc42-2bba-11ee-987e-0242ac110002-2-0d90-18bb"
      },
      {
       "current": "8893bce2-2bba-11ee-987e-0242ac110002-4-1af3-1ff6-0ca4-8eac",
       "next": "8893bd82-2bba-11ee-987e-0242ac110002-3-a0f5-72cc-2ed4",
       "previous": "8893bc42-2bba-11ee-987e-0242ac110002-3-0d90-18bb-8b36"
      },
      {
       "current": "8893bce2-2bba-11ee-987e-0242ac110002-5-1af3-1ff6-0ca4-8eac-f0ff",
       "next": "8893bd82-2bba-11ee-987e-0242ac110002-4-a0f5-72cc-2ed4-2990",
       "previous": "8893bc42-2bba-11ee-987e-0242ac110002-4-0d90-18bb-8b36-e1c0"
      },
      {
       "current": "8893bce2-2bba-11ee-987e-0242ac110002-6-1af3-1ff6-0ca4-8eac-f0ff-830b",
       "next": "8893bd82-2bba-11ee-987e-0242ac110002-5-a0f5-72cc-2ed4-2990-d8a3",
       "previous": "8893bc42-2bba-11ee-987e-0242ac110002-5-0d90-18bb-8b36-e1c0-a5b3"
      },
      {
       "current": "8893bce2-2bba-11ee-987e-0242ac110002-7-1af3-1ff6-0ca4-8eac-f0ff-830b-d1f4",
       "next": "8893bd82-2bba-11ee-987e-0242ac110002-6-a0f5-72cc-2ed4-2990-d8a3-199e",
       "previous": "8893bc42-2bba-11ee-987e-0242ac110002-6-0d90-18bb-8b36-e1c0-a5b3-431f"
      }
     ],
     "next": "8893bd82-2bba-11ee-987e-0242ac110002-7-a0f5-72cc-2ed4-2990-d8a3-199e-fa4d",
     "previous": "8893bc42-2bba-11ee-987e-0242ac110002-7-0d90-18bb-8b36-e1c0-a5b3-431f-7b76"
    }
   },
   "source": [
    "workerノードを追加します。"
   ]
  },
  {
   "cell_type": "code",
   "execution_count": null,
   "metadata": {
    "hidden": true,
    "lc_cell_meme": {
     "current": "8893bd82-2bba-11ee-987e-0242ac110002-7-a0f5-72cc-2ed4-2990-d8a3-199e-fa4d",
     "history": [
      {
       "current": "8893bd82-2bba-11ee-987e-0242ac110002-1-a0f5",
       "next": "8893be22-2bba-11ee-987e-0242ac110002",
       "previous": "8893bce2-2bba-11ee-987e-0242ac110002"
      },
      {
       "current": "8893bd82-2bba-11ee-987e-0242ac110002-2-a0f5-72cc",
       "next": "8893be22-2bba-11ee-987e-0242ac110002-1-410b",
       "previous": "8893bce2-2bba-11ee-987e-0242ac110002-1-1af3"
      },
      {
       "current": "8893bd82-2bba-11ee-987e-0242ac110002-3-a0f5-72cc-2ed4",
       "next": "8893be22-2bba-11ee-987e-0242ac110002-2-410b-449f",
       "previous": "8893bce2-2bba-11ee-987e-0242ac110002-2-1af3-1ff6"
      },
      {
       "current": "8893bd82-2bba-11ee-987e-0242ac110002-4-a0f5-72cc-2ed4-2990",
       "next": "8893be22-2bba-11ee-987e-0242ac110002-3-410b-449f-762a",
       "previous": "8893bce2-2bba-11ee-987e-0242ac110002-3-1af3-1ff6-0ca4"
      },
      {
       "current": "8893bd82-2bba-11ee-987e-0242ac110002-5-a0f5-72cc-2ed4-2990-d8a3",
       "next": "8893be22-2bba-11ee-987e-0242ac110002-4-410b-449f-762a-5b83",
       "previous": "8893bce2-2bba-11ee-987e-0242ac110002-4-1af3-1ff6-0ca4-8eac"
      },
      {
       "current": "8893bd82-2bba-11ee-987e-0242ac110002-6-a0f5-72cc-2ed4-2990-d8a3-199e",
       "next": "8893be22-2bba-11ee-987e-0242ac110002-5-410b-449f-762a-5b83-b1ad",
       "previous": "8893bce2-2bba-11ee-987e-0242ac110002-5-1af3-1ff6-0ca4-8eac-f0ff"
      },
      {
       "current": "8893bd82-2bba-11ee-987e-0242ac110002-7-a0f5-72cc-2ed4-2990-d8a3-199e-fa4d",
       "next": "8893be22-2bba-11ee-987e-0242ac110002-6-410b-449f-762a-5b83-b1ad-5801",
       "previous": "8893bce2-2bba-11ee-987e-0242ac110002-6-1af3-1ff6-0ca4-8eac-f0ff-830b"
      }
     ],
     "next": "8893be22-2bba-11ee-987e-0242ac110002-7-410b-449f-762a-5b83-b1ad-5801-26bf",
     "previous": "8893bce2-2bba-11ee-987e-0242ac110002-7-1af3-1ff6-0ca4-8eac-f0ff-830b-d1f4"
    },
    "lc_wrapper": {
     "log_history": [
      "/notebooks/notebook/work_terayama/yjupyterhub/work/.log/20230727/20230727-141119-0484.log",
      "/notebooks/notebook/work_terayama/yjupyterhub/work/.log/20230801/20230801-151954-0471.log",
      "/notebooks/notebook/yamaguchi-hub/work/.log/20240517/20240517-162029-0534.log",
      "/notebooks/notebook/yamaguchi-hub/handon001/.log/20240520/20240520-155314-0782.log"
     ]
    }
   },
   "outputs": [],
   "source": [
    "!ansible {ugroup.name}_{unit_worker.name} -a \\\n",
    "    'docker swarm join --token {swarm_token} {manager_ip}:2377'"
   ]
  },
  {
   "cell_type": "markdown",
   "metadata": {
    "hidden": true,
    "lc_cell_meme": {
     "current": "8893be22-2bba-11ee-987e-0242ac110002-7-410b-449f-762a-5b83-b1ad-5801-26bf",
     "history": [
      {
       "current": "8893be22-2bba-11ee-987e-0242ac110002-1-410b",
       "next": "8893becc-2bba-11ee-987e-0242ac110002",
       "previous": "8893bd82-2bba-11ee-987e-0242ac110002"
      },
      {
       "current": "8893be22-2bba-11ee-987e-0242ac110002-2-410b-449f",
       "next": "8893becc-2bba-11ee-987e-0242ac110002-1-d8a9",
       "previous": "8893bd82-2bba-11ee-987e-0242ac110002-1-a0f5"
      },
      {
       "current": "8893be22-2bba-11ee-987e-0242ac110002-3-410b-449f-762a",
       "next": "8893becc-2bba-11ee-987e-0242ac110002-2-d8a9-66e9",
       "previous": "8893bd82-2bba-11ee-987e-0242ac110002-2-a0f5-72cc"
      },
      {
       "current": "8893be22-2bba-11ee-987e-0242ac110002-4-410b-449f-762a-5b83",
       "next": "8893becc-2bba-11ee-987e-0242ac110002-3-d8a9-66e9-4c5b",
       "previous": "8893bd82-2bba-11ee-987e-0242ac110002-3-a0f5-72cc-2ed4"
      },
      {
       "current": "8893be22-2bba-11ee-987e-0242ac110002-5-410b-449f-762a-5b83-b1ad",
       "next": "8893becc-2bba-11ee-987e-0242ac110002-4-d8a9-66e9-4c5b-44b6",
       "previous": "8893bd82-2bba-11ee-987e-0242ac110002-4-a0f5-72cc-2ed4-2990"
      },
      {
       "current": "8893be22-2bba-11ee-987e-0242ac110002-6-410b-449f-762a-5b83-b1ad-5801",
       "next": "8893becc-2bba-11ee-987e-0242ac110002-5-d8a9-66e9-4c5b-44b6-eb5e",
       "previous": "8893bd82-2bba-11ee-987e-0242ac110002-5-a0f5-72cc-2ed4-2990-d8a3"
      },
      {
       "current": "8893be22-2bba-11ee-987e-0242ac110002-7-410b-449f-762a-5b83-b1ad-5801-26bf",
       "next": "8893becc-2bba-11ee-987e-0242ac110002-6-d8a9-66e9-4c5b-44b6-eb5e-d524",
       "previous": "8893bd82-2bba-11ee-987e-0242ac110002-6-a0f5-72cc-2ed4-2990-d8a3-199e"
      }
     ],
     "next": "8893becc-2bba-11ee-987e-0242ac110002-7-d8a9-66e9-4c5b-44b6-eb5e-d524-e04f",
     "previous": "8893bd82-2bba-11ee-987e-0242ac110002-7-a0f5-72cc-2ed4-2990-d8a3-199e-fa4d"
    }
   },
   "source": [
    "Docker Swarmのノード一覧を表示します。"
   ]
  },
  {
   "cell_type": "code",
   "execution_count": null,
   "metadata": {
    "hidden": true,
    "lc_cell_meme": {
     "current": "8893becc-2bba-11ee-987e-0242ac110002-7-d8a9-66e9-4c5b-44b6-eb5e-d524-e04f",
     "history": [
      {
       "current": "8893becc-2bba-11ee-987e-0242ac110002-1-d8a9",
       "next": "8893bf6c-2bba-11ee-987e-0242ac110002",
       "previous": "8893be22-2bba-11ee-987e-0242ac110002"
      },
      {
       "current": "8893becc-2bba-11ee-987e-0242ac110002-2-d8a9-66e9",
       "next": "8893bf6c-2bba-11ee-987e-0242ac110002-1-9fb5",
       "previous": "8893be22-2bba-11ee-987e-0242ac110002-1-410b"
      },
      {
       "current": "8893becc-2bba-11ee-987e-0242ac110002-3-d8a9-66e9-4c5b",
       "next": "8893bf6c-2bba-11ee-987e-0242ac110002-2-9fb5-1573",
       "previous": "8893be22-2bba-11ee-987e-0242ac110002-2-410b-449f"
      },
      {
       "current": "8893becc-2bba-11ee-987e-0242ac110002-4-d8a9-66e9-4c5b-44b6",
       "next": "8893bf6c-2bba-11ee-987e-0242ac110002-3-9fb5-1573-2603",
       "previous": "8893be22-2bba-11ee-987e-0242ac110002-3-410b-449f-762a"
      },
      {
       "current": "8893becc-2bba-11ee-987e-0242ac110002-5-d8a9-66e9-4c5b-44b6-eb5e",
       "next": "8893bf6c-2bba-11ee-987e-0242ac110002-4-9fb5-1573-2603-37db",
       "previous": "8893be22-2bba-11ee-987e-0242ac110002-4-410b-449f-762a-5b83"
      },
      {
       "current": "8893becc-2bba-11ee-987e-0242ac110002-6-d8a9-66e9-4c5b-44b6-eb5e-d524",
       "next": "8893bf6c-2bba-11ee-987e-0242ac110002-5-9fb5-1573-2603-37db-f391",
       "previous": "8893be22-2bba-11ee-987e-0242ac110002-5-410b-449f-762a-5b83-b1ad"
      },
      {
       "current": "8893becc-2bba-11ee-987e-0242ac110002-7-d8a9-66e9-4c5b-44b6-eb5e-d524-e04f",
       "next": "8893bf6c-2bba-11ee-987e-0242ac110002-6-9fb5-1573-2603-37db-f391-efd0",
       "previous": "8893be22-2bba-11ee-987e-0242ac110002-6-410b-449f-762a-5b83-b1ad-5801"
      }
     ],
     "next": "8893bf6c-2bba-11ee-987e-0242ac110002-7-9fb5-1573-2603-37db-f391-efd0-bbdf",
     "previous": "8893be22-2bba-11ee-987e-0242ac110002-7-410b-449f-762a-5b83-b1ad-5801-26bf"
    },
    "lc_wrapper": {
     "log_history": [
      "/notebooks/notebook/work_terayama/yjupyterhub/work/.log/20230727/20230727-141121-0599.log",
      "/notebooks/notebook/work_terayama/yjupyterhub/work/.log/20230801/20230801-151956-0523.log",
      "/notebooks/notebook/yamaguchi-hub/work/.log/20240517/20240517-162030-0486.log",
      "/notebooks/notebook/yamaguchi-hub/handon001/.log/20240520/20240520-155315-0803.log"
     ]
    },
    "scrolled": false
   },
   "outputs": [],
   "source": [
    "!ansible {ugroup.name}_{unit_mgr.name} -a 'docker node ls'"
   ]
  },
  {
   "cell_type": "markdown",
   "metadata": {
    "hidden": true,
    "lc_cell_meme": {
     "current": "8893bf6c-2bba-11ee-987e-0242ac110002-7-9fb5-1573-2603-37db-f391-efd0-bbdf",
     "history": [
      {
       "current": "8893bf6c-2bba-11ee-987e-0242ac110002-1-9fb5",
       "next": "8893c00c-2bba-11ee-987e-0242ac110002",
       "previous": "8893becc-2bba-11ee-987e-0242ac110002"
      },
      {
       "current": "8893bf6c-2bba-11ee-987e-0242ac110002-2-9fb5-1573",
       "next": "8893c00c-2bba-11ee-987e-0242ac110002-1-df93",
       "previous": "8893becc-2bba-11ee-987e-0242ac110002-1-d8a9"
      },
      {
       "current": "8893bf6c-2bba-11ee-987e-0242ac110002-3-9fb5-1573-2603",
       "next": "8893c00c-2bba-11ee-987e-0242ac110002-2-df93-ba29",
       "previous": "8893becc-2bba-11ee-987e-0242ac110002-2-d8a9-66e9"
      },
      {
       "current": "8893bf6c-2bba-11ee-987e-0242ac110002-4-9fb5-1573-2603-37db",
       "next": "8893c00c-2bba-11ee-987e-0242ac110002-3-df93-ba29-da53",
       "previous": "8893becc-2bba-11ee-987e-0242ac110002-3-d8a9-66e9-4c5b"
      },
      {
       "current": "8893bf6c-2bba-11ee-987e-0242ac110002-5-9fb5-1573-2603-37db-f391",
       "next": "8893c00c-2bba-11ee-987e-0242ac110002-4-df93-ba29-da53-23d7",
       "previous": "8893becc-2bba-11ee-987e-0242ac110002-4-d8a9-66e9-4c5b-44b6"
      },
      {
       "current": "8893bf6c-2bba-11ee-987e-0242ac110002-6-9fb5-1573-2603-37db-f391-efd0",
       "next": "8893c00c-2bba-11ee-987e-0242ac110002-5-df93-ba29-da53-23d7-de1b",
       "previous": "8893becc-2bba-11ee-987e-0242ac110002-5-d8a9-66e9-4c5b-44b6-eb5e"
      },
      {
       "current": "8893bf6c-2bba-11ee-987e-0242ac110002-7-9fb5-1573-2603-37db-f391-efd0-bbdf",
       "next": "8893c00c-2bba-11ee-987e-0242ac110002-6-df93-ba29-da53-23d7-de1b-f904",
       "previous": "8893becc-2bba-11ee-987e-0242ac110002-6-d8a9-66e9-4c5b-44b6-eb5e-d524"
      }
     ],
     "next": "8893c00c-2bba-11ee-987e-0242ac110002-7-df93-ba29-da53-23d7-de1b-f904-4e05",
     "previous": "8893becc-2bba-11ee-987e-0242ac110002-7-d8a9-66e9-4c5b-44b6-eb5e-d524-e04f"
    }
   },
   "source": [
    "Docker Swarmのノード数が起動したVCノードと一致していることを確認します。"
   ]
  },
  {
   "cell_type": "code",
   "execution_count": null,
   "metadata": {
    "hidden": true,
    "lc_cell_meme": {
     "current": "8893c00c-2bba-11ee-987e-0242ac110002-7-df93-ba29-da53-23d7-de1b-f904-4e05",
     "history": [
      {
       "current": "8893c00c-2bba-11ee-987e-0242ac110002-1-df93",
       "next": null,
       "previous": "8893bf6c-2bba-11ee-987e-0242ac110002"
      },
      {
       "current": "8893c00c-2bba-11ee-987e-0242ac110002-2-df93-ba29",
       "next": null,
       "previous": "8893bf6c-2bba-11ee-987e-0242ac110002-1-9fb5"
      },
      {
       "current": "8893c00c-2bba-11ee-987e-0242ac110002-3-df93-ba29-da53",
       "next": null,
       "previous": "8893bf6c-2bba-11ee-987e-0242ac110002-2-9fb5-1573"
      },
      {
       "current": "8893c00c-2bba-11ee-987e-0242ac110002-4-df93-ba29-da53-23d7",
       "next": null,
       "previous": "8893bf6c-2bba-11ee-987e-0242ac110002-3-9fb5-1573-2603"
      },
      {
       "current": "8893c00c-2bba-11ee-987e-0242ac110002-4-df93-ba29-da53-23d7",
       "next": null,
       "previous": "8893bf6c-2bba-11ee-987e-0242ac110002-4-9fb5-1573-2603-37db"
      },
      {
       "current": "8893c00c-2bba-11ee-987e-0242ac110002-5-df93-ba29-da53-23d7-de1b",
       "next": "ca9e25fc-141f-11ef-b7c6-005056b0158c",
       "previous": "8893bf6c-2bba-11ee-987e-0242ac110002-4-9fb5-1573-2603-37db"
      },
      {
       "current": "8893c00c-2bba-11ee-987e-0242ac110002-6-df93-ba29-da53-23d7-de1b-f904",
       "next": "ca9e25fc-141f-11ef-b7c6-005056b0158c-1-01e2",
       "previous": "8893bf6c-2bba-11ee-987e-0242ac110002-5-9fb5-1573-2603-37db-f391"
      },
      {
       "current": "8893c00c-2bba-11ee-987e-0242ac110002-6-df93-ba29-da53-23d7-de1b-f904",
       "next": "ca9e25fc-141f-11ef-b7c6-005056b0158c-2-01e2-cf34",
       "previous": "8893bf6c-2bba-11ee-987e-0242ac110002-6-9fb5-1573-2603-37db-f391-efd0"
      },
      {
       "current": "8893c00c-2bba-11ee-987e-0242ac110002-6-df93-ba29-da53-23d7-de1b-f904",
       "next": "2bb9710e-1676-11ef-b7c6-005056b0158c",
       "previous": "8893bf6c-2bba-11ee-987e-0242ac110002-6-9fb5-1573-2603-37db-f391-efd0"
      },
      {
       "current": "8893c00c-2bba-11ee-987e-0242ac110002-7-df93-ba29-da53-23d7-de1b-f904-4e05",
       "next": "d09231fc-1676-11ef-b7c6-005056b0158c",
       "previous": "8893bf6c-2bba-11ee-987e-0242ac110002-6-9fb5-1573-2603-37db-f391-efd0"
      }
     ],
     "next": "d09231fc-1676-11ef-b7c6-005056b0158c-1-a2de",
     "previous": "8893bf6c-2bba-11ee-987e-0242ac110002-7-9fb5-1573-2603-37db-f391-efd0-bbdf"
    },
    "lc_wrapper": {
     "log_history": [
      "/notebooks/notebook/work_terayama/yjupyterhub/work/.log/20230727/20230727-141123-0641.log",
      "/notebooks/notebook/work_terayama/yjupyterhub/work/.log/20230801/20230801-151958-0521.log",
      "/notebooks/notebook/yamaguchi-hub/work/.log/20240517/20240517-162032-0230.log",
      "/notebooks/notebook/yamaguchi-hub/handon001/.log/20240520/20240520-155317-0460.log"
     ]
    }
   },
   "outputs": [],
   "source": [
    "!ansible {ugroup.name}_{unit_mgr.name} -m shell -a \\\n",
    "    'test $(docker node ls -q | wc -l) -eq {worker_nodes + 1}'"
   ]
  },
  {
   "cell_type": "markdown",
   "metadata": {
    "heading_collapsed": true,
    "hidden": true,
    "lc_cell_meme": {
     "current": "d09231fc-1676-11ef-b7c6-005056b0158c-1-a2de",
     "history": [
      {
       "current": "d09231fc-1676-11ef-b7c6-005056b0158c-1-a2de",
       "next": "2bb9710e-1676-11ef-b7c6-005056b0158c",
       "previous": "8893c00c-2bba-11ee-987e-0242ac110002-6-df93-ba29-da53-23d7-de1b-f904"
      }
     ],
     "next": "2bb9710e-1676-11ef-b7c6-005056b0158c-1-dae3",
     "previous": "8893c00c-2bba-11ee-987e-0242ac110002-7-df93-ba29-da53-23d7-de1b-f904-4e05"
    }
   },
   "source": [
    "### ノード指定"
   ]
  },
  {
   "cell_type": "code",
   "execution_count": null,
   "metadata": {
    "hidden": true,
    "lc_cell_meme": {
     "current": "2bb9710e-1676-11ef-b7c6-005056b0158c-1-dae3",
     "history": [
      {
       "current": "2bb9710e-1676-11ef-b7c6-005056b0158c",
       "next": "15c50374-1674-11ef-b7c6-005056b0158c-2-1bf6-e16a",
       "previous": "ca9e25fc-141f-11ef-b7c6-005056b0158c-2-01e2-cf34"
      },
      {
       "current": "2bb9710e-1676-11ef-b7c6-005056b0158c",
       "next": "ca9e25fc-141f-11ef-b7c6-005056b0158c-2-01e2-cf34",
       "previous": "8893c00c-2bba-11ee-987e-0242ac110002-6-df93-ba29-da53-23d7-de1b-f904"
      },
      {
       "current": "2bb9710e-1676-11ef-b7c6-005056b0158c-1-dae3",
       "next": "ca9e25fc-141f-11ef-b7c6-005056b0158c-2-01e2-cf34",
       "previous": "d09231fc-1676-11ef-b7c6-005056b0158c"
      }
     ],
     "next": "ca9e25fc-141f-11ef-b7c6-005056b0158c-3-01e2-cf34-720e",
     "previous": "d09231fc-1676-11ef-b7c6-005056b0158c-1-a2de"
    },
    "lc_wrapper": {
     "log_history": [
      "/notebooks/notebook/yamaguchi-hub/handon001/.log/20240520/20240520-155943-0060.log",
      "/notebooks/notebook/yamaguchi-hub/handon001/.log/20240520/20240520-155946-0171.log"
     ]
    }
   },
   "outputs": [],
   "source": [
    "\n",
    "target_hub = f'{ugroup_name}_manager'\n",
    "\n",
    "!ansible {target_hub} -m ping\n",
    "target_nodes = f'{ugroup_name}_worker'\n",
    "\n",
    "!ansible {target_nodes} -m ping"
   ]
  },
  {
   "cell_type": "markdown",
   "metadata": {
    "heading_collapsed": true,
    "hidden": true,
    "lc_cell_meme": {
     "current": "ca9e25fc-141f-11ef-b7c6-005056b0158c-3-01e2-cf34-720e",
     "history": [
      {
       "current": "ca9e25fc-141f-11ef-b7c6-005056b0158c",
       "next": "ca9e2822-141f-11ef-b7c6-005056b0158c",
       "previous": "8893c00c-2bba-11ee-987e-0242ac110002-4-df93-ba29-da53-23d7"
      },
      {
       "current": "ca9e25fc-141f-11ef-b7c6-005056b0158c",
       "next": "b98bc6d0-1428-11ef-b7c6-005056b0158c",
       "previous": "8893c00c-2bba-11ee-987e-0242ac110002-4-df93-ba29-da53-23d7"
      },
      {
       "current": "ca9e25fc-141f-11ef-b7c6-005056b0158c-1-01e2",
       "next": "15c50374-1674-11ef-b7c6-005056b0158c",
       "previous": "8893c00c-2bba-11ee-987e-0242ac110002-4-df93-ba29-da53-23d7"
      },
      {
       "current": "ca9e25fc-141f-11ef-b7c6-005056b0158c-2-01e2-cf34",
       "next": "15c50374-1674-11ef-b7c6-005056b0158c-1-1bf6",
       "previous": "8893c00c-2bba-11ee-987e-0242ac110002-5-df93-ba29-da53-23d7-de1b"
      },
      {
       "current": "ca9e25fc-141f-11ef-b7c6-005056b0158c-2-01e2-cf34",
       "next": "15c50374-1674-11ef-b7c6-005056b0158c-2-1bf6-e16a",
       "previous": "8893c00c-2bba-11ee-987e-0242ac110002-6-df93-ba29-da53-23d7-de1b-f904"
      },
      {
       "current": "ca9e25fc-141f-11ef-b7c6-005056b0158c-2-01e2-cf34",
       "next": "2bb9710e-1676-11ef-b7c6-005056b0158c",
       "previous": "8893c00c-2bba-11ee-987e-0242ac110002-6-df93-ba29-da53-23d7-de1b-f904"
      },
      {
       "current": "ca9e25fc-141f-11ef-b7c6-005056b0158c-3-01e2-cf34-720e",
       "next": "15c50374-1674-11ef-b7c6-005056b0158c-2-1bf6-e16a",
       "previous": "2bb9710e-1676-11ef-b7c6-005056b0158c"
      }
     ],
     "next": "15c50374-1674-11ef-b7c6-005056b0158c-3-1bf6-e16a-73c2",
     "previous": "2bb9710e-1676-11ef-b7c6-005056b0158c-1-dae3"
    }
   },
   "source": [
    "### Moodle"
   ]
  },
  {
   "cell_type": "code",
   "execution_count": null,
   "metadata": {
    "hidden": true,
    "lc_cell_meme": {
     "current": "15c50374-1674-11ef-b7c6-005056b0158c-3-1bf6-e16a-73c2",
     "history": [
      {
       "current": "15c50374-1674-11ef-b7c6-005056b0158c-1-1bf6",
       "next": "b98bc6d0-1428-11ef-b7c6-005056b0158c",
       "previous": "ca9e25fc-141f-11ef-b7c6-005056b0158c"
      },
      {
       "current": "15c50374-1674-11ef-b7c6-005056b0158c-2-1bf6-e16a",
       "next": "b98bc6d0-1428-11ef-b7c6-005056b0158c-1-2e27",
       "previous": "ca9e25fc-141f-11ef-b7c6-005056b0158c-1-01e2"
      },
      {
       "current": "15c50374-1674-11ef-b7c6-005056b0158c-2-1bf6-e16a",
       "next": "b98bc6d0-1428-11ef-b7c6-005056b0158c-2-2e27-7322",
       "previous": "ca9e25fc-141f-11ef-b7c6-005056b0158c-2-01e2-cf34"
      },
      {
       "current": "15c50374-1674-11ef-b7c6-005056b0158c-2-1bf6-e16a",
       "next": "b98bc6d0-1428-11ef-b7c6-005056b0158c-2-2e27-7322",
       "previous": "2bb9710e-1676-11ef-b7c6-005056b0158c"
      },
      {
       "current": "15c50374-1674-11ef-b7c6-005056b0158c-2-1bf6-e16a",
       "next": "b98bc6d0-1428-11ef-b7c6-005056b0158c-2-2e27-7322",
       "previous": "ca9e25fc-141f-11ef-b7c6-005056b0158c-2-01e2-cf34"
      },
      {
       "current": "15c50374-1674-11ef-b7c6-005056b0158c-3-1bf6-e16a-73c2",
       "next": "0248f6fe-1677-11ef-b7c6-005056b0158c",
       "previous": "ca9e25fc-141f-11ef-b7c6-005056b0158c-2-01e2-cf34"
      }
     ],
     "next": "0248f6fe-1677-11ef-b7c6-005056b0158c-1-2623",
     "previous": "ca9e25fc-141f-11ef-b7c6-005056b0158c-3-01e2-cf34-720e"
    },
    "lc_wrapper": {
     "log_history": [
      "/notebooks/notebook/yamaguchi-hub/handon001/.log/20240520/20240520-155319-0101.log",
      "/notebooks/notebook/yamaguchi-hub/handon001/.log/20240520/20240520-155954-0935.log"
     ]
    }
   },
   "outputs": [],
   "source": [
    "MOODLE_ROOT_DIR = 'moodle'"
   ]
  },
  {
   "cell_type": "code",
   "execution_count": null,
   "metadata": {
    "hidden": true,
    "lc_cell_meme": {
     "current": "0248f6fe-1677-11ef-b7c6-005056b0158c-1-2623",
     "history": [
      {
       "current": "0248f6fe-1677-11ef-b7c6-005056b0158c-1-2623",
       "next": "b98bc6d0-1428-11ef-b7c6-005056b0158c-2-2e27-7322",
       "previous": "15c50374-1674-11ef-b7c6-005056b0158c-2-1bf6-e16a"
      }
     ],
     "next": "b98bc6d0-1428-11ef-b7c6-005056b0158c-3-2e27-7322-56b5",
     "previous": "15c50374-1674-11ef-b7c6-005056b0158c-3-1bf6-e16a-73c2"
    },
    "lc_wrapper": {
     "log_history": [
      "/notebooks/notebook/yamaguchi-hub/handon001/.log/20240520/20240520-160257-0216.log",
      "/notebooks/notebook/yamaguchi-hub/handon001/.log/20240520/20240520-160316-0926.log",
      "/notebooks/notebook/yamaguchi-hub/handon001/.log/20240520/20240520-160344-0826.log",
      "/notebooks/notebook/yamaguchi-hub/handon001/.log/20240520/20240520-160351-0456.log",
      "/notebooks/notebook/yamaguchi-hub/handon001/.log/20240520/20240520-160401-0808.log"
     ]
    }
   },
   "outputs": [],
   "source": [
    "!ansible {ugroup_name} -b -m file -a \\\n",
    "    'path=/home/vcp/{MOODLE_ROOT_DIR} state=directory owner={{{{ansible_user}}}}'"
   ]
  },
  {
   "cell_type": "code",
   "execution_count": null,
   "metadata": {
    "hidden": true,
    "lc_cell_meme": {
     "current": "b98bc6d0-1428-11ef-b7c6-005056b0158c-3-2e27-7322-56b5",
     "history": [
      {
       "current": "b98bc6d0-1428-11ef-b7c6-005056b0158c",
       "next": "ca9e2822-141f-11ef-b7c6-005056b0158c",
       "previous": "ca9e25fc-141f-11ef-b7c6-005056b0158c"
      },
      {
       "current": "b98bc6d0-1428-11ef-b7c6-005056b0158c",
       "next": "c9673008-1428-11ef-b7c6-005056b0158c",
       "previous": "ca9e25fc-141f-11ef-b7c6-005056b0158c"
      },
      {
       "current": "b98bc6d0-1428-11ef-b7c6-005056b0158c",
       "next": "ce219d44-1429-11ef-b7c6-005056b0158c",
       "previous": "ca9e25fc-141f-11ef-b7c6-005056b0158c"
      },
      {
       "current": "b98bc6d0-1428-11ef-b7c6-005056b0158c",
       "next": "0ec477d6-142a-11ef-b7c6-005056b0158c",
       "previous": "ca9e25fc-141f-11ef-b7c6-005056b0158c"
      },
      {
       "current": "b98bc6d0-1428-11ef-b7c6-005056b0158c-1-2e27",
       "next": "0ec477d6-142a-11ef-b7c6-005056b0158c",
       "previous": "15c50374-1674-11ef-b7c6-005056b0158c"
      },
      {
       "current": "b98bc6d0-1428-11ef-b7c6-005056b0158c-2-2e27-7322",
       "next": "0ec477d6-142a-11ef-b7c6-005056b0158c-1-d81f",
       "previous": "15c50374-1674-11ef-b7c6-005056b0158c-1-1bf6"
      },
      {
       "current": "b98bc6d0-1428-11ef-b7c6-005056b0158c-2-2e27-7322",
       "next": "0ec477d6-142a-11ef-b7c6-005056b0158c-2-d81f-09cf",
       "previous": "15c50374-1674-11ef-b7c6-005056b0158c-2-1bf6-e16a"
      },
      {
       "current": "b98bc6d0-1428-11ef-b7c6-005056b0158c-3-2e27-7322-56b5",
       "next": "0ec477d6-142a-11ef-b7c6-005056b0158c-2-d81f-09cf",
       "previous": "0248f6fe-1677-11ef-b7c6-005056b0158c"
      }
     ],
     "next": "0ec477d6-142a-11ef-b7c6-005056b0158c-3-d81f-09cf-dccf",
     "previous": "0248f6fe-1677-11ef-b7c6-005056b0158c-1-2623"
    },
    "lc_wrapper": {
     "log_history": [
      "/notebooks/notebook/yamaguchi-hub/work/.log/20240517/20240517-173955-0319.log",
      "/notebooks/notebook/yamaguchi-hub/work/.log/20240517/20240517-174308-0402.log",
      "/notebooks/notebook/yamaguchi-hub/work/.log/20240517/20240517-174406-0182.log",
      "/notebooks/notebook/yamaguchi-hub/work/.log/20240517/20240517-174541-0639.log",
      "/notebooks/notebook/yamaguchi-hub/work/.log/20240517/20240517-174606-0602.log",
      "/notebooks/notebook/yamaguchi-hub/work/.log/20240517/20240517-174848-0817.log",
      "/notebooks/notebook/yamaguchi-hub/work/.log/20240517/20240517-174928-0688.log",
      "/notebooks/notebook/yamaguchi-hub/work/.log/20240517/20240517-175202-0804.log",
      "/notebooks/notebook/yamaguchi-hub/work/.log/20240517/20240517-175305-0319.log",
      "/notebooks/notebook/yamaguchi-hub/handon001/.log/20240520/20240520-155319-0120.log",
      "/notebooks/notebook/yamaguchi-hub/handon001/.log/20240520/20240520-155954-0960.log",
      "/notebooks/notebook/yamaguchi-hub/handon001/.log/20240520/20240520-160159-0588.log",
      "/notebooks/notebook/yamaguchi-hub/handon001/.log/20240520/20240520-160306-0365.log",
      "/notebooks/notebook/yamaguchi-hub/handon001/.log/20240520/20240520-160407-0716.log",
      "/notebooks/notebook/yamaguchi-hub/handon001/.log/20240520/20240520-160520-0675.log",
      "/notebooks/notebook/yamaguchi-hub/handon001/.log/20240520/20240520-161204-0458.log"
     ]
    }
   },
   "outputs": [],
   "source": [
    "!ansible {target_hub} -Dv -m template \\\n",
    "    -a 'src=scripts/moodle.docker-compose.yml dest=/home/vcp/{MOODLE_ROOT_DIR}/docker-compose.yml backup=yes'"
   ]
  },
  {
   "cell_type": "code",
   "execution_count": null,
   "metadata": {
    "hidden": true,
    "lc_cell_meme": {
     "current": "0ec477d6-142a-11ef-b7c6-005056b0158c-3-d81f-09cf-dccf",
     "history": [
      {
       "current": "0ec477d6-142a-11ef-b7c6-005056b0158c-1-d81f",
       "next": "ce219d44-1429-11ef-b7c6-005056b0158c",
       "previous": "b98bc6d0-1428-11ef-b7c6-005056b0158c"
      },
      {
       "current": "0ec477d6-142a-11ef-b7c6-005056b0158c-2-d81f-09cf",
       "next": "ce219d44-1429-11ef-b7c6-005056b0158c-1-526d",
       "previous": "b98bc6d0-1428-11ef-b7c6-005056b0158c-1-2e27"
      },
      {
       "current": "0ec477d6-142a-11ef-b7c6-005056b0158c-3-d81f-09cf-dccf",
       "next": "ce219d44-1429-11ef-b7c6-005056b0158c-2-526d-e6cc",
       "previous": "b98bc6d0-1428-11ef-b7c6-005056b0158c-2-2e27-7322"
      }
     ],
     "next": "ce219d44-1429-11ef-b7c6-005056b0158c-3-526d-e6cc-b8c9",
     "previous": "b98bc6d0-1428-11ef-b7c6-005056b0158c-3-2e27-7322-56b5"
    },
    "lc_wrapper": {
     "log_history": [
      "/notebooks/notebook/yamaguchi-hub/work/.log/20240517/20240517-174800-0335.log",
      "/notebooks/notebook/yamaguchi-hub/handon001/.log/20240520/20240520-155321-0715.log",
      "/notebooks/notebook/yamaguchi-hub/handon001/.log/20240520/20240520-160530-0395.log"
     ]
    }
   },
   "outputs": [],
   "source": [
    "# mcjとmoodleで共通のDockerネットワークを作成しておく（docker compose up 時に存在している必要あり）\n",
    "!ansible {target_hub} -a 'docker network create --driver overlay --scope swarm --attachable mm_network'"
   ]
  },
  {
   "cell_type": "code",
   "execution_count": null,
   "metadata": {
    "hidden": true,
    "lc_cell_meme": {
     "current": "ce219d44-1429-11ef-b7c6-005056b0158c-3-526d-e6cc-b8c9",
     "history": [
      {
       "current": "ce219d44-1429-11ef-b7c6-005056b0158c",
       "next": "c9673008-1428-11ef-b7c6-005056b0158c",
       "previous": "b98bc6d0-1428-11ef-b7c6-005056b0158c"
      },
      {
       "current": "ce219d44-1429-11ef-b7c6-005056b0158c",
       "next": "c9673008-1428-11ef-b7c6-005056b0158c",
       "previous": "0ec477d6-142a-11ef-b7c6-005056b0158c"
      },
      {
       "current": "ce219d44-1429-11ef-b7c6-005056b0158c",
       "next": "9d5c4f90-166f-11ef-b7c6-005056b0158c",
       "previous": "0ec477d6-142a-11ef-b7c6-005056b0158c"
      },
      {
       "current": "ce219d44-1429-11ef-b7c6-005056b0158c-1-526d",
       "next": "4a828846-1671-11ef-b7c6-005056b0158c",
       "previous": "0ec477d6-142a-11ef-b7c6-005056b0158c"
      },
      {
       "current": "ce219d44-1429-11ef-b7c6-005056b0158c-2-526d-e6cc",
       "next": "4a828846-1671-11ef-b7c6-005056b0158c-1-2e50",
       "previous": "0ec477d6-142a-11ef-b7c6-005056b0158c-1-d81f"
      },
      {
       "current": "ce219d44-1429-11ef-b7c6-005056b0158c-3-526d-e6cc-b8c9",
       "next": "4a828846-1671-11ef-b7c6-005056b0158c-2-2e50-5bb0",
       "previous": "0ec477d6-142a-11ef-b7c6-005056b0158c-2-d81f-09cf"
      }
     ],
     "next": "4a828846-1671-11ef-b7c6-005056b0158c-3-2e50-5bb0-fde0",
     "previous": "0ec477d6-142a-11ef-b7c6-005056b0158c-3-d81f-09cf-dccf"
    },
    "lc_wrapper": {
     "log_history": [
      "/notebooks/notebook/yamaguchi-hub/work/.log/20240517/20240517-174617-0489.log",
      "/notebooks/notebook/yamaguchi-hub/work/.log/20240517/20240517-174804-0169.log",
      "/notebooks/notebook/yamaguchi-hub/work/.log/20240517/20240517-174856-0346.log",
      "/notebooks/notebook/yamaguchi-hub/work/.log/20240517/20240517-174936-0306.log",
      "/notebooks/notebook/yamaguchi-hub/work/.log/20240517/20240517-175214-0795.log",
      "/notebooks/notebook/yamaguchi-hub/work/.log/20240517/20240517-175312-0370.log",
      "/notebooks/notebook/yamaguchi-hub/handon001/.log/20240520/20240520-155322-0610.log",
      "/notebooks/notebook/yamaguchi-hub/handon001/.log/20240520/20240520-160531-0829.log",
      "/notebooks/notebook/yamaguchi-hub/handon001/.log/20240520/20240520-160545-0784.log",
      "/notebooks/notebook/yamaguchi-hub/handon001/.log/20240520/20240520-161213-0516.log"
     ]
    }
   },
   "outputs": [],
   "source": [
    "!ansible {target_hub} -a 'chdir=/home/vcp/{MOODLE_ROOT_DIR} \\\n",
    "    docker compose up -d'"
   ]
  },
  {
   "cell_type": "code",
   "execution_count": null,
   "metadata": {
    "hidden": true,
    "lc_cell_meme": {
     "current": "4a828846-1671-11ef-b7c6-005056b0158c-3-2e50-5bb0-fde0",
     "history": [
      {
       "current": "4a828846-1671-11ef-b7c6-005056b0158c",
       "next": "9d5c4f90-166f-11ef-b7c6-005056b0158c",
       "previous": "ce219d44-1429-11ef-b7c6-005056b0158c"
      },
      {
       "current": "4a828846-1671-11ef-b7c6-005056b0158c",
       "next": "f80bff8c-1672-11ef-b7c6-005056b0158c",
       "previous": "ce219d44-1429-11ef-b7c6-005056b0158c"
      },
      {
       "current": "4a828846-1671-11ef-b7c6-005056b0158c",
       "next": "86b69b16-1673-11ef-b7c6-005056b0158c",
       "previous": "ce219d44-1429-11ef-b7c6-005056b0158c"
      },
      {
       "current": "4a828846-1671-11ef-b7c6-005056b0158c",
       "next": "ce3f5270-1673-11ef-b7c6-005056b0158c",
       "previous": "ce219d44-1429-11ef-b7c6-005056b0158c"
      },
      {
       "current": "4a828846-1671-11ef-b7c6-005056b0158c-1-2e50",
       "next": "9d5c4f90-166f-11ef-b7c6-005056b0158c",
       "previous": "ce219d44-1429-11ef-b7c6-005056b0158c"
      },
      {
       "current": "4a828846-1671-11ef-b7c6-005056b0158c-2-2e50-5bb0",
       "next": "9d5c4f90-166f-11ef-b7c6-005056b0158c-1-1282",
       "previous": "ce219d44-1429-11ef-b7c6-005056b0158c-1-526d"
      },
      {
       "current": "4a828846-1671-11ef-b7c6-005056b0158c-2-2e50-5bb0",
       "next": "9d5c4f90-166f-11ef-b7c6-005056b0158c-2-1282-925a",
       "previous": "ce219d44-1429-11ef-b7c6-005056b0158c-2-526d-e6cc"
      },
      {
       "current": "4a828846-1671-11ef-b7c6-005056b0158c-3-2e50-5bb0-fde0",
       "next": "c9673008-1428-11ef-b7c6-005056b0158c-2-3cc3-6320",
       "previous": "ce219d44-1429-11ef-b7c6-005056b0158c-2-526d-e6cc"
      }
     ],
     "next": "c9673008-1428-11ef-b7c6-005056b0158c-3-3cc3-6320-d26c",
     "previous": "ce219d44-1429-11ef-b7c6-005056b0158c-3-526d-e6cc-b8c9"
    },
    "lc_wrapper": {
     "log_history": [
      "/notebooks/notebook/yamaguchi-hub/work/.log/20240520/20240520-152058-0674.log",
      "/notebooks/notebook/yamaguchi-hub/work/.log/20240520/20240520-152111-0226.log",
      "/notebooks/notebook/yamaguchi-hub/work/.log/20240520/20240520-152227-0582.log",
      "/notebooks/notebook/yamaguchi-hub/work/.log/20240520/20240520-152251-0152.log",
      "/notebooks/notebook/yamaguchi-hub/work/.log/20240520/20240520-152259-0498.log",
      "/notebooks/notebook/yamaguchi-hub/work/.log/20240520/20240520-152310-0899.log",
      "/notebooks/notebook/yamaguchi-hub/work/.log/20240520/20240520-152319-0959.log",
      "/notebooks/notebook/yamaguchi-hub/work/.log/20240520/20240520-152333-0095.log",
      "/notebooks/notebook/yamaguchi-hub/work/.log/20240520/20240520-152405-0737.log",
      "/notebooks/notebook/yamaguchi-hub/work/.log/20240520/20240520-152507-0599.log",
      "/notebooks/notebook/yamaguchi-hub/work/.log/20240520/20240520-152531-0751.log",
      "/notebooks/notebook/yamaguchi-hub/work/.log/20240520/20240520-152542-0546.log",
      "/notebooks/notebook/yamaguchi-hub/work/.log/20240520/20240520-152606-0494.log",
      "/notebooks/notebook/yamaguchi-hub/work/.log/20240520/20240520-152940-0214.log",
      "/notebooks/notebook/yamaguchi-hub/work/.log/20240520/20240520-153128-0874.log",
      "/notebooks/notebook/yamaguchi-hub/work/.log/20240520/20240520-153226-0564.log",
      "/notebooks/notebook/yamaguchi-hub/work/.log/20240520/20240520-153311-0327.log",
      "/notebooks/notebook/yamaguchi-hub/work/.log/20240520/20240520-153329-0055.log",
      "/notebooks/notebook/yamaguchi-hub/work/.log/20240520/20240520-153413-0307.log",
      "/notebooks/notebook/yamaguchi-hub/work/.log/20240520/20240520-153754-0646.log",
      "/notebooks/notebook/yamaguchi-hub/work/.log/20240520/20240520-153802-0089.log",
      "/notebooks/notebook/yamaguchi-hub/handon001/.log/20240520/20240520-155323-0323.log",
      "/notebooks/notebook/yamaguchi-hub/handon001/.log/20240520/20240520-160612-0998.log",
      "/notebooks/notebook/yamaguchi-hub/handon001/.log/20240520/20240520-161216-0686.log",
      "/notebooks/notebook/yamaguchi-hub/handon001/.log/20240520/20240520-161554-0112.log",
      "/notebooks/notebook/yamaguchi-hub/handon001/.log/20240520/20240520-161612-0743.log"
     ]
    }
   },
   "outputs": [],
   "source": [
    "import time\n",
    "\n",
    "max_retry = 30\n",
    "for i in range(max_retry):\n",
    "    cnt = !ansible {target_hub} -a \"docker exec {MOODLE_ROOT_DIR}-moodle-1 grep -c '\\$CFG->reverseproxy' /opt/bitnami/moodle/config.php\"\n",
    "    \n",
    "    try:\n",
    "        if int(cnt[1]) > 0:\n",
    "            cnt = !ansible {target_hub} -a \"docker exec {MOODLE_ROOT_DIR}-moodle-1 grep -c '{jupyterhub_fqdn}' /opt/bitnami/moodle/config.php\"\n",
    "            if int(cnt[1]) > 0:\n",
    "                !ansible {target_hub} -a \"docker exec {MOODLE_ROOT_DIR}-moodle-1 sed -i 's|{jupyterhub_fqdn}|{jupyterhub_fqdn}/moodle|' /opt/bitnami/moodle/config.php\"\n",
    "                break\n",
    "            cnt = !ansible {target_hub} -a \"docker exec {MOODLE_ROOT_DIR}-moodle-1 grep -c '{jupyterhub_fqdn}/moodle' /opt/bitnami/moodle/config.php\"\n",
    "            if int(cnt[1]) < 2:\n",
    "                time.sleep(20)\n",
    "                continue\n",
    "    except Exception as e:\n",
    "        print(e)\n",
    "        time.sleep(20)\n",
    "        continue\n",
    "else:\n",
    "    raise\n"
   ]
  },
  {
   "cell_type": "markdown",
   "metadata": {
    "heading_collapsed": true,
    "hidden": true,
    "lc_cell_meme": {
     "current": "c9673008-1428-11ef-b7c6-005056b0158c-3-3cc3-6320-d26c",
     "history": [
      {
       "current": "c9673008-1428-11ef-b7c6-005056b0158c",
       "next": "ca9e2822-141f-11ef-b7c6-005056b0158c",
       "previous": "b98bc6d0-1428-11ef-b7c6-005056b0158c"
      },
      {
       "current": "c9673008-1428-11ef-b7c6-005056b0158c",
       "next": "ca9e2822-141f-11ef-b7c6-005056b0158c",
       "previous": "ce219d44-1429-11ef-b7c6-005056b0158c"
      },
      {
       "current": "c9673008-1428-11ef-b7c6-005056b0158c",
       "next": "ca9e2822-141f-11ef-b7c6-005056b0158c",
       "previous": "9d5c4f90-166f-11ef-b7c6-005056b0158c"
      },
      {
       "current": "c9673008-1428-11ef-b7c6-005056b0158c-1-3cc3",
       "next": "ca9e2822-141f-11ef-b7c6-005056b0158c",
       "previous": "5d4dcf9a-1670-11ef-b7c6-005056b0158c"
      },
      {
       "current": "c9673008-1428-11ef-b7c6-005056b0158c-2-3cc3-6320",
       "next": "ca9e2822-141f-11ef-b7c6-005056b0158c-1-26e1",
       "previous": "5d4dcf9a-1670-11ef-b7c6-005056b0158c-1-90d6"
      },
      {
       "current": "c9673008-1428-11ef-b7c6-005056b0158c-2-3cc3-6320",
       "next": "ca9e2822-141f-11ef-b7c6-005056b0158c-2-26e1-4a78",
       "previous": "5d4dcf9a-1670-11ef-b7c6-005056b0158c-2-90d6-a5c1"
      },
      {
       "current": "c9673008-1428-11ef-b7c6-005056b0158c-3-3cc3-6320-d26c",
       "next": "ca9e2822-141f-11ef-b7c6-005056b0158c-2-26e1-4a78",
       "previous": "4a828846-1671-11ef-b7c6-005056b0158c-2-2e50-5bb0"
      }
     ],
     "next": "ca9e2822-141f-11ef-b7c6-005056b0158c-3-26e1-4a78-4be1",
     "previous": "4a828846-1671-11ef-b7c6-005056b0158c-3-2e50-5bb0-fde0"
    }
   },
   "source": [
    "### MCJ   \n",
    "\n",
    "以下のセルをまとめ実行する。"
   ]
  },
  {
   "cell_type": "code",
   "execution_count": null,
   "metadata": {
    "hidden": true,
    "lc_cell_meme": {
     "current": "ca9e2822-141f-11ef-b7c6-005056b0158c-3-26e1-4a78-4be1",
     "history": [
      {
       "current": "ca9e2822-141f-11ef-b7c6-005056b0158c",
       "next": "ca9e28e0-141f-11ef-b7c6-005056b0158c",
       "previous": "ca9e25fc-141f-11ef-b7c6-005056b0158c"
      },
      {
       "current": "ca9e2822-141f-11ef-b7c6-005056b0158c",
       "next": "ca9e28e0-141f-11ef-b7c6-005056b0158c",
       "previous": "b98bc6d0-1428-11ef-b7c6-005056b0158c"
      },
      {
       "current": "ca9e2822-141f-11ef-b7c6-005056b0158c-1-26e1",
       "next": "ca9e28e0-141f-11ef-b7c6-005056b0158c",
       "previous": "c9673008-1428-11ef-b7c6-005056b0158c"
      },
      {
       "current": "ca9e2822-141f-11ef-b7c6-005056b0158c-2-26e1-4a78",
       "next": "ca9e28e0-141f-11ef-b7c6-005056b0158c-1-94af",
       "previous": "c9673008-1428-11ef-b7c6-005056b0158c-1-3cc3"
      },
      {
       "current": "ca9e2822-141f-11ef-b7c6-005056b0158c-3-26e1-4a78-4be1",
       "next": "ca9e28e0-141f-11ef-b7c6-005056b0158c-2-94af-8117",
       "previous": "c9673008-1428-11ef-b7c6-005056b0158c-2-3cc3-6320"
      }
     ],
     "next": "ca9e28e0-141f-11ef-b7c6-005056b0158c-3-94af-8117-252c",
     "previous": "c9673008-1428-11ef-b7c6-005056b0158c-3-3cc3-6320-d26c"
    },
    "lc_wrapper": {
     "log_history": [
      "/notebooks/notebook/yamaguchi-hub/work/.log/20240517/20240517-164615-0458.log",
      "/notebooks/notebook/yamaguchi-hub/handon001/.log/20240520/20240520-161805-0675.log"
     ]
    }
   },
   "outputs": [],
   "source": [
    "from pathlib import Path\n",
    "import os\n",
    "\n",
    "cfg_ansible = Path('ansible.cfg')\n",
    "if cfg_ansible.exists():\n",
    "    os.environ['ANSIBLE_CONFIG'] = str(cfg_ansible.resolve())"
   ]
  },
  {
   "cell_type": "code",
   "execution_count": null,
   "metadata": {
    "hidden": true,
    "lc_cell_meme": {
     "current": "ca9e28e0-141f-11ef-b7c6-005056b0158c-3-94af-8117-252c",
     "history": [
      {
       "current": "ca9e28e0-141f-11ef-b7c6-005056b0158c-1-94af",
       "next": "ca9e2976-141f-11ef-b7c6-005056b0158c",
       "previous": "ca9e2822-141f-11ef-b7c6-005056b0158c"
      },
      {
       "current": "ca9e28e0-141f-11ef-b7c6-005056b0158c-2-94af-8117",
       "next": "ca9e2976-141f-11ef-b7c6-005056b0158c-1-ac63",
       "previous": "ca9e2822-141f-11ef-b7c6-005056b0158c-1-26e1"
      },
      {
       "current": "ca9e28e0-141f-11ef-b7c6-005056b0158c-3-94af-8117-252c",
       "next": "ca9e2976-141f-11ef-b7c6-005056b0158c-2-ac63-f294",
       "previous": "ca9e2822-141f-11ef-b7c6-005056b0158c-2-26e1-4a78"
      }
     ],
     "next": "ca9e2976-141f-11ef-b7c6-005056b0158c-3-ac63-f294-c979",
     "previous": "ca9e2822-141f-11ef-b7c6-005056b0158c-3-26e1-4a78-4be1"
    },
    "lc_wrapper": {
     "log_history": [
      "/notebooks/notebook/yamaguchi-hub/work/.log/20240517/20240517-164615-0496.log",
      "/notebooks/notebook/yamaguchi-hub/work/.log/20240517/20240517-164720-0386.log",
      "/notebooks/notebook/yamaguchi-hub/handon001/.log/20240520/20240520-161805-0786.log"
     ]
    }
   },
   "outputs": [],
   "source": [
    "target_hub = f'{ugroup_name}_manager'\n",
    "\n",
    "!ansible {target_hub} -m ping"
   ]
  },
  {
   "cell_type": "code",
   "execution_count": null,
   "metadata": {
    "hidden": true,
    "lc_cell_meme": {
     "current": "ca9e2976-141f-11ef-b7c6-005056b0158c-3-ac63-f294-c979",
     "history": [
      {
       "current": "ca9e2976-141f-11ef-b7c6-005056b0158c-1-ac63",
       "next": "ca9e2a02-141f-11ef-b7c6-005056b0158c",
       "previous": "ca9e28e0-141f-11ef-b7c6-005056b0158c"
      },
      {
       "current": "ca9e2976-141f-11ef-b7c6-005056b0158c-2-ac63-f294",
       "next": "ca9e2a02-141f-11ef-b7c6-005056b0158c-1-6ae3",
       "previous": "ca9e28e0-141f-11ef-b7c6-005056b0158c-1-94af"
      },
      {
       "current": "ca9e2976-141f-11ef-b7c6-005056b0158c-3-ac63-f294-c979",
       "next": "ca9e2a02-141f-11ef-b7c6-005056b0158c-2-6ae3-0b5f",
       "previous": "ca9e28e0-141f-11ef-b7c6-005056b0158c-2-94af-8117"
      }
     ],
     "next": "ca9e2a02-141f-11ef-b7c6-005056b0158c-3-6ae3-0b5f-a6f7",
     "previous": "ca9e28e0-141f-11ef-b7c6-005056b0158c-3-94af-8117-252c"
    },
    "lc_wrapper": {
     "log_history": [
      "/notebooks/notebook/yamaguchi-hub/work/.log/20240517/20240517-164722-0144.log",
      "/notebooks/notebook/yamaguchi-hub/handon001/.log/20240520/20240520-161807-0547.log"
     ]
    }
   },
   "outputs": [],
   "source": [
    "target_nodes = f'{ugroup_name}_worker'\n",
    "\n",
    "!ansible {target_nodes} -m ping"
   ]
  },
  {
   "cell_type": "code",
   "execution_count": null,
   "metadata": {
    "hidden": true,
    "lc_cell_meme": {
     "current": "ca9e2a02-141f-11ef-b7c6-005056b0158c-3-6ae3-0b5f-a6f7",
     "history": [
      {
       "current": "ca9e2a02-141f-11ef-b7c6-005056b0158c-1-6ae3",
       "next": "ca9e2a8e-141f-11ef-b7c6-005056b0158c",
       "previous": "ca9e2976-141f-11ef-b7c6-005056b0158c"
      },
      {
       "current": "ca9e2a02-141f-11ef-b7c6-005056b0158c-2-6ae3-0b5f",
       "next": "ca9e2a8e-141f-11ef-b7c6-005056b0158c-1-5f1f",
       "previous": "ca9e2976-141f-11ef-b7c6-005056b0158c-1-ac63"
      },
      {
       "current": "ca9e2a02-141f-11ef-b7c6-005056b0158c-3-6ae3-0b5f-a6f7",
       "next": "ca9e2a8e-141f-11ef-b7c6-005056b0158c-2-5f1f-52a5",
       "previous": "ca9e2976-141f-11ef-b7c6-005056b0158c-2-ac63-f294"
      }
     ],
     "next": "ca9e2a8e-141f-11ef-b7c6-005056b0158c-3-5f1f-52a5-7376",
     "previous": "ca9e2976-141f-11ef-b7c6-005056b0158c-3-ac63-f294-c979"
    },
    "lc_wrapper": {
     "log_history": [
      "/notebooks/notebook/yamaguchi-hub/work/.log/20240517/20240517-164723-0157.log",
      "/notebooks/notebook/yamaguchi-hub/handon001/.log/20240520/20240520-161808-0389.log"
     ]
    }
   },
   "outputs": [],
   "source": [
    "!test -f group_vars/{ugroup_name}"
   ]
  },
  {
   "cell_type": "code",
   "execution_count": null,
   "metadata": {
    "hidden": true,
    "lc_cell_meme": {
     "current": "ca9e2a8e-141f-11ef-b7c6-005056b0158c-3-5f1f-52a5-7376",
     "history": [
      {
       "current": "ca9e2a8e-141f-11ef-b7c6-005056b0158c",
       "next": null,
       "previous": "ca9e2a02-141f-11ef-b7c6-005056b0158c"
      },
      {
       "current": "ca9e2a8e-141f-11ef-b7c6-005056b0158c-1-5f1f",
       "next": "d8a1e800-141f-11ef-b7c6-005056b0158c",
       "previous": "ca9e2a02-141f-11ef-b7c6-005056b0158c"
      },
      {
       "current": "ca9e2a8e-141f-11ef-b7c6-005056b0158c-2-5f1f-52a5",
       "next": "d8a1e800-141f-11ef-b7c6-005056b0158c-1-be53",
       "previous": "ca9e2a02-141f-11ef-b7c6-005056b0158c-1-6ae3"
      },
      {
       "current": "ca9e2a8e-141f-11ef-b7c6-005056b0158c-3-5f1f-52a5-7376",
       "next": "d8a1e800-141f-11ef-b7c6-005056b0158c-2-be53-1cdc",
       "previous": "ca9e2a02-141f-11ef-b7c6-005056b0158c-2-6ae3-0b5f"
      }
     ],
     "next": "d8a1e800-141f-11ef-b7c6-005056b0158c-3-be53-1cdc-4b47",
     "previous": "ca9e2a02-141f-11ef-b7c6-005056b0158c-3-6ae3-0b5f-a6f7"
    },
    "lc_wrapper": {
     "log_history": [
      "/notebooks/notebook/yamaguchi-hub/work/.log/20240517/20240517-164723-0463.log",
      "/notebooks/notebook/yamaguchi-hub/handon001/.log/20240520/20240520-161808-0643.log"
     ]
    }
   },
   "outputs": [],
   "source": [
    "import random\n",
    "import string\n",
    "configproxy_auth_token = ''.join([random.choice(\"abcdef\" + string.digits) for _ in range(32)])\n",
    "configproxy_auth_token"
   ]
  },
  {
   "cell_type": "code",
   "execution_count": null,
   "metadata": {
    "hidden": true,
    "lc_cell_meme": {
     "current": "d8a1e800-141f-11ef-b7c6-005056b0158c-3-be53-1cdc-4b47",
     "history": [
      {
       "current": "d8a1e800-141f-11ef-b7c6-005056b0158c-1-be53",
       "next": "d8a1eada-141f-11ef-b7c6-005056b0158c",
       "previous": "ca9e2a8e-141f-11ef-b7c6-005056b0158c"
      },
      {
       "current": "d8a1e800-141f-11ef-b7c6-005056b0158c-2-be53-1cdc",
       "next": "d8a1eada-141f-11ef-b7c6-005056b0158c-1-98c9",
       "previous": "ca9e2a8e-141f-11ef-b7c6-005056b0158c-1-5f1f"
      },
      {
       "current": "d8a1e800-141f-11ef-b7c6-005056b0158c-3-be53-1cdc-4b47",
       "next": "d8a1eada-141f-11ef-b7c6-005056b0158c-2-98c9-9ceb",
       "previous": "ca9e2a8e-141f-11ef-b7c6-005056b0158c-2-5f1f-52a5"
      }
     ],
     "next": "d8a1eada-141f-11ef-b7c6-005056b0158c-3-98c9-9ceb-195e",
     "previous": "ca9e2a8e-141f-11ef-b7c6-005056b0158c-3-5f1f-52a5-7376"
    },
    "lc_wrapper": {
     "log_history": [
      "/notebooks/notebook/yamaguchi-hub/work/.log/20240517/20240517-164723-0686.log",
      "/notebooks/notebook/yamaguchi-hub/handon001/.log/20240520/20240520-161808-0663.log"
     ]
    }
   },
   "outputs": [],
   "source": [
    "!mkdir -p edit\n",
    "!cp -n ./template/jupyterhub/jupyterhub/lms_web_service.py ./edit/\n",
    "!cp -n ./template/jupyterhub/jupyterhub/jupyterhub_config.py ./edit/\n",
    "!cp -n ./template/jupyterhub/jupyterhub/jupyterhub_params.yaml ./edit/"
   ]
  },
  {
   "cell_type": "code",
   "execution_count": null,
   "metadata": {
    "hidden": true,
    "lc_cell_meme": {
     "current": "d8a1eada-141f-11ef-b7c6-005056b0158c-3-98c9-9ceb-195e",
     "history": [
      {
       "current": "d8a1eada-141f-11ef-b7c6-005056b0158c",
       "next": null,
       "previous": "d8a1e800-141f-11ef-b7c6-005056b0158c"
      },
      {
       "current": "d8a1eada-141f-11ef-b7c6-005056b0158c-1-98c9",
       "next": "201a3c28-1420-11ef-b7c6-005056b0158c",
       "previous": "d8a1e800-141f-11ef-b7c6-005056b0158c"
      },
      {
       "current": "d8a1eada-141f-11ef-b7c6-005056b0158c-2-98c9-9ceb",
       "next": "201a3c28-1420-11ef-b7c6-005056b0158c-1-3e02",
       "previous": "d8a1e800-141f-11ef-b7c6-005056b0158c-1-be53"
      },
      {
       "current": "d8a1eada-141f-11ef-b7c6-005056b0158c-3-98c9-9ceb-195e",
       "next": "201a3c28-1420-11ef-b7c6-005056b0158c-2-3e02-ec23",
       "previous": "d8a1e800-141f-11ef-b7c6-005056b0158c-2-be53-1cdc"
      }
     ],
     "next": "201a3c28-1420-11ef-b7c6-005056b0158c-3-3e02-ec23-5d40",
     "previous": "d8a1e800-141f-11ef-b7c6-005056b0158c-3-be53-1cdc-4b47"
    },
    "lc_wrapper": {
     "log_history": [
      "/notebooks/notebook/yamaguchi-hub/work/.log/20240517/20240517-164724-0809.log",
      "/notebooks/notebook/yamaguchi-hub/handon001/.log/20240520/20240520-161809-0650.log"
     ]
    }
   },
   "outputs": [],
   "source": [
    "# メールアドレスドメイン設定\n",
    "email_domain = 'example.com'\n",
    "\n",
    "# JupyterhubDB接続情報\n",
    "db_user = 'jupyter'\n",
    "db_password = 'PassWordDesu'\n",
    "\n",
    "# Jupyterhub用LDAPサーバ（ローカルLDAP）\n",
    "ldap_admin = 'Manager'\n",
    "ldap_password = 'PassWordDesu'\n",
    "\n",
    "# Jupyterhub 初期設定\n",
    "jupyterhub_admin_users = ['admin']\n",
    "\n",
    "# single-user notebook server コンテナイメージ\n",
    "singleuser_image = 'mcj-cloudhub-nb:latest'\n",
    "\n",
    "# 共有ディレクトリパス\n",
    "home_directory_root = '/jupyter'\n",
    "share_directory_root = '/exchange'\n",
    "\n",
    "# dockerネットワーク\n",
    "swarm_network = 'jupyterhub-network'\n",
    "\n",
    "# ユーザを一意に識別するキー\n",
    "lti_username_key = 'sub'\n",
    "\n",
    "# ユーザのcookieの有効日数(0.25日=6時間)\n",
    "cookie_max_age_days = 0.25\n",
    "\n",
    "# Jupyterhubコンテナイメージ\n",
    "jupyterhub_image = 'mcj-cloudhub:latest'\n",
    "\n",
    "# single-user notebook server コンテナをDocker Swarmのどのノードで起動するか\n",
    "# 「011-VCノード作成」で、worker_nodes(workerノード数)に0を指定した場合、\"manager\"を指定します。（\"worker\"を指定しても内部的には\"manager\"が指定されます）\n",
    "# node_role = 'manager'\n",
    "node_role = 'worker'\n"
   ]
  },
  {
   "cell_type": "code",
   "execution_count": null,
   "metadata": {
    "hidden": true,
    "lc_cell_meme": {
     "current": "201a3c28-1420-11ef-b7c6-005056b0158c-3-3e02-ec23-5d40",
     "history": [
      {
       "current": "201a3c28-1420-11ef-b7c6-005056b0158c-1-3e02",
       "next": "201a3ee4-1420-11ef-b7c6-005056b0158c",
       "previous": "d8a1eada-141f-11ef-b7c6-005056b0158c"
      },
      {
       "current": "201a3c28-1420-11ef-b7c6-005056b0158c-2-3e02-ec23",
       "next": "201a3ee4-1420-11ef-b7c6-005056b0158c-1-3b60",
       "previous": "d8a1eada-141f-11ef-b7c6-005056b0158c-1-98c9"
      },
      {
       "current": "201a3c28-1420-11ef-b7c6-005056b0158c-3-3e02-ec23-5d40",
       "next": "201a3ee4-1420-11ef-b7c6-005056b0158c-2-3b60-a668",
       "previous": "d8a1eada-141f-11ef-b7c6-005056b0158c-2-98c9-9ceb"
      }
     ],
     "next": "201a3ee4-1420-11ef-b7c6-005056b0158c-3-3b60-a668-dd8d",
     "previous": "d8a1eada-141f-11ef-b7c6-005056b0158c-3-98c9-9ceb-195e"
    },
    "lc_wrapper": {
     "log_history": [
      "/notebooks/notebook/yamaguchi-hub/work/.log/20240517/20240517-164724-0838.log",
      "/notebooks/notebook/yamaguchi-hub/handon001/.log/20240520/20240520-161809-0675.log"
     ]
    }
   },
   "outputs": [],
   "source": [
    "import yaml\n",
    "from pathlib import Path\n",
    "\n",
    "path = Path('edit/jupyterhub_params.yaml')\n",
    "with path.open() as f:\n",
    "    params = yaml.safe_load(f)\n",
    "\n",
    "params.update({\n",
    "    'resource': {\n",
    "        'groups': {\n",
    "            'student': {\n",
    "                'mem_limit': '1G',\n",
    "                'cpu_limit': 0.5,\n",
    "                'mem_guarantee': 0,\n",
    "                'cpu_guarantee': 0,\n",
    "            },\n",
    "            'teacher': {\n",
    "                'mem_limit': '1G',\n",
    "                'cpu_limit': 1.0,\n",
    "                'mem_guarantee': 0,\n",
    "                'cpu_guarantee': 0,\n",
    "            },\n",
    "        },\n",
    "    },\n",
    "    'cull_server': {\n",
    "        'cull_server_timeout': 600,\n",
    "        'cull_server_every': 60,\n",
    "        'cull_server_max_age': 0,\n",
    "    },\n",
    "})\n",
    "\n",
    "with path.open(mode='w') as f:\n",
    "    yaml.safe_dump(params, stream=f)"
   ]
  },
  {
   "cell_type": "code",
   "execution_count": null,
   "metadata": {
    "hidden": true,
    "lc_cell_meme": {
     "current": "201a3ee4-1420-11ef-b7c6-005056b0158c-3-3b60-a668-dd8d",
     "history": [
      {
       "current": "201a3ee4-1420-11ef-b7c6-005056b0158c-1-3b60",
       "next": "201a3fac-1420-11ef-b7c6-005056b0158c",
       "previous": "201a3c28-1420-11ef-b7c6-005056b0158c"
      },
      {
       "current": "201a3ee4-1420-11ef-b7c6-005056b0158c-2-3b60-a668",
       "next": "201a3fac-1420-11ef-b7c6-005056b0158c-1-744a",
       "previous": "201a3c28-1420-11ef-b7c6-005056b0158c-1-3e02"
      },
      {
       "current": "201a3ee4-1420-11ef-b7c6-005056b0158c-3-3b60-a668-dd8d",
       "next": "201a3fac-1420-11ef-b7c6-005056b0158c-2-744a-3695",
       "previous": "201a3c28-1420-11ef-b7c6-005056b0158c-2-3e02-ec23"
      }
     ],
     "next": "201a3fac-1420-11ef-b7c6-005056b0158c-3-744a-3695-ce74",
     "previous": "201a3c28-1420-11ef-b7c6-005056b0158c-3-3e02-ec23-5d40"
    },
    "lc_wrapper": {
     "log_history": [
      "/notebooks/notebook/yamaguchi-hub/work/.log/20240517/20240517-164724-0891.log",
      "/notebooks/notebook/yamaguchi-hub/handon001/.log/20240520/20240520-161809-0701.log"
     ]
    }
   },
   "outputs": [],
   "source": [
    "# (例)\n",
    "# jupyterhub_backend = '10.1.0.0/20'\n",
    "\n",
    "jupyterhub_backend = '10.2.0.0/20'"
   ]
  },
  {
   "cell_type": "code",
   "execution_count": null,
   "metadata": {
    "hidden": true,
    "lc_cell_meme": {
     "current": "201a3fac-1420-11ef-b7c6-005056b0158c-3-744a-3695-ce74",
     "history": [
      {
       "current": "201a3fac-1420-11ef-b7c6-005056b0158c-1-744a",
       "next": "201a4038-1420-11ef-b7c6-005056b0158c",
       "previous": "201a3ee4-1420-11ef-b7c6-005056b0158c"
      },
      {
       "current": "201a3fac-1420-11ef-b7c6-005056b0158c-2-744a-3695",
       "next": "201a4038-1420-11ef-b7c6-005056b0158c-1-f06f",
       "previous": "201a3ee4-1420-11ef-b7c6-005056b0158c-1-3b60"
      },
      {
       "current": "201a3fac-1420-11ef-b7c6-005056b0158c-3-744a-3695-ce74",
       "next": "201a4038-1420-11ef-b7c6-005056b0158c-2-f06f-f841",
       "previous": "201a3ee4-1420-11ef-b7c6-005056b0158c-2-3b60-a668"
      }
     ],
     "next": "201a4038-1420-11ef-b7c6-005056b0158c-3-f06f-f841-8a06",
     "previous": "201a3ee4-1420-11ef-b7c6-005056b0158c-3-3b60-a668-dd8d"
    },
    "lc_wrapper": {
     "log_history": [
      "/notebooks/notebook/yamaguchi-hub/work/.log/20240517/20240517-164724-0916.log",
      "/notebooks/notebook/yamaguchi-hub/handon001/.log/20240520/20240520-161809-0720.log"
     ]
    }
   },
   "outputs": [],
   "source": [
    "!ansible-playbook -v -e jupyterhub_backend={jupyterhub_backend} -l {ugroup_name} \\\n",
    "    playbooks/check-subnet.yml"
   ]
  },
  {
   "cell_type": "code",
   "execution_count": null,
   "metadata": {
    "hidden": true,
    "lc_cell_meme": {
     "current": "201a4038-1420-11ef-b7c6-005056b0158c-3-f06f-f841-8a06",
     "history": [
      {
       "current": "201a4038-1420-11ef-b7c6-005056b0158c-1-f06f",
       "next": "201a40c4-1420-11ef-b7c6-005056b0158c",
       "previous": "201a3fac-1420-11ef-b7c6-005056b0158c"
      },
      {
       "current": "201a4038-1420-11ef-b7c6-005056b0158c-2-f06f-f841",
       "next": "201a40c4-1420-11ef-b7c6-005056b0158c-1-76c7",
       "previous": "201a3fac-1420-11ef-b7c6-005056b0158c-1-744a"
      },
      {
       "current": "201a4038-1420-11ef-b7c6-005056b0158c-3-f06f-f841-8a06",
       "next": "201a40c4-1420-11ef-b7c6-005056b0158c-2-76c7-6261",
       "previous": "201a3fac-1420-11ef-b7c6-005056b0158c-2-744a-3695"
      }
     ],
     "next": "201a40c4-1420-11ef-b7c6-005056b0158c-3-76c7-6261-97b6",
     "previous": "201a3fac-1420-11ef-b7c6-005056b0158c-3-744a-3695-ce74"
    },
    "lc_wrapper": {
     "log_history": [
      "/notebooks/notebook/yamaguchi-hub/work/.log/20240517/20240517-164727-0428.log",
      "/notebooks/notebook/yamaguchi-hub/handon001/.log/20240520/20240520-161811-0963.log",
      "/notebooks/notebook/yamaguchi-hub/handon001/.log/20240520/20240520-161830-0950.log"
     ]
    }
   },
   "outputs": [],
   "source": [
    "import yaml\n",
    "from pathlib import Path\n",
    "\n",
    "gvars_path = Path(f'group_vars/{ugroup_name}')\n",
    "with gvars_path.open() as f:\n",
    "    gvars = yaml.safe_load(f)\n",
    "\n",
    "if gvars['worker_nodes'] == 0:\n",
    "    node_role = 'manager'\n",
    "\n",
    "lms_platform_id = \"\"\n",
    "lms_cliend_id = \"\"\n",
    "\n",
    "gvars.update({\n",
    "    'swarm_network': swarm_network,\n",
    "    'jupyterhub_backend': jupyterhub_backend,\n",
    "    'jupyterhub_fqdn': jupyterhub_fqdn,\n",
    "    'db_user': db_user,\n",
    "    'db_password': db_password,\n",
    "    'email_domain': email_domain,\n",
    "    'jupyterhub_admin_users': jupyterhub_admin_users,\n",
    "    'lms_platform_id': lms_platform_id,\n",
    "    'lms_cliend_id': lms_cliend_id,\n",
    "    'lms_api_token': lms_api_token if 'lms_api_token' in locals() else '',\n",
    "    'get_course_member_method': get_course_member_method if 'get_course_member_method' in locals() else '',\n",
    "    'singleuser_image': singleuser_image.split(':')[0],\n",
    "    'singleuser_image_tag': singleuser_image.split(':')[1],\n",
    "    'ldap_password': ldap_password,\n",
    "    'ldap_admin': ldap_admin,\n",
    "    'home_directory_root': home_directory_root,\n",
    "    'share_directory_root': share_directory_root,\n",
    "    'lti_username_key': lti_username_key,\n",
    "    'cookie_max_age_days': cookie_max_age_days,\n",
    "    'configproxy_auth_token': configproxy_auth_token,\n",
    "    'jupyterhub_image': jupyterhub_image,\n",
    "    'node_role': node_role,\n",
    "    'ldap_admin': ldap_admin,\n",
    "})\n",
    "\n",
    "with gvars_path.open(mode='w') as f:\n",
    "    yaml.safe_dump(gvars, stream=f)"
   ]
  },
  {
   "cell_type": "code",
   "execution_count": null,
   "metadata": {
    "hidden": true,
    "lc_cell_meme": {
     "current": "201a40c4-1420-11ef-b7c6-005056b0158c-3-76c7-6261-97b6",
     "history": [
      {
       "current": "201a40c4-1420-11ef-b7c6-005056b0158c",
       "next": "201a4150-1420-11ef-b7c6-005056b0158c",
       "previous": "201a4038-1420-11ef-b7c6-005056b0158c"
      },
      {
       "current": "201a40c4-1420-11ef-b7c6-005056b0158c-1-76c7",
       "next": "67a2cfe2-1420-11ef-b7c6-005056b0158c",
       "previous": "201a4038-1420-11ef-b7c6-005056b0158c"
      },
      {
       "current": "201a40c4-1420-11ef-b7c6-005056b0158c-2-76c7-6261",
       "next": "67a2cfe2-1420-11ef-b7c6-005056b0158c-1-24b4",
       "previous": "201a4038-1420-11ef-b7c6-005056b0158c-1-f06f"
      },
      {
       "current": "201a40c4-1420-11ef-b7c6-005056b0158c-3-76c7-6261-97b6",
       "next": "67a2cfe2-1420-11ef-b7c6-005056b0158c-2-24b4-f935",
       "previous": "201a4038-1420-11ef-b7c6-005056b0158c-2-f06f-f841"
      }
     ],
     "next": "67a2cfe2-1420-11ef-b7c6-005056b0158c-3-24b4-f935-19c2",
     "previous": "201a4038-1420-11ef-b7c6-005056b0158c-3-f06f-f841-8a06"
    },
    "lc_wrapper": {
     "log_history": [
      "/notebooks/notebook/yamaguchi-hub/work/.log/20240517/20240517-164727-0456.log",
      "/notebooks/notebook/yamaguchi-hub/handon001/.log/20240520/20240520-161830-0985.log"
     ]
    }
   },
   "outputs": [],
   "source": [
    "!ansible {target_hub} -b -m file -a \\\n",
    "    'path={{{{base_dir}}}} state=directory owner={{{{ansible_user}}}}'\n",
    "!ansible {target_hub} -b -m file -a \\\n",
    "    'path={{{{base_dir}}}}/certs state=directory owner={{{{ansible_user}}}}'"
   ]
  },
  {
   "cell_type": "code",
   "execution_count": null,
   "metadata": {
    "hidden": true,
    "lc_cell_meme": {
     "current": "67a2cfe2-1420-11ef-b7c6-005056b0158c-3-24b4-f935-19c2",
     "history": [
      {
       "current": "67a2cfe2-1420-11ef-b7c6-005056b0158c-1-24b4",
       "next": "201a4150-1420-11ef-b7c6-005056b0158c",
       "previous": "201a40c4-1420-11ef-b7c6-005056b0158c"
      },
      {
       "current": "67a2cfe2-1420-11ef-b7c6-005056b0158c-2-24b4-f935",
       "next": "201a4150-1420-11ef-b7c6-005056b0158c-1-8491",
       "previous": "201a40c4-1420-11ef-b7c6-005056b0158c-1-76c7"
      },
      {
       "current": "67a2cfe2-1420-11ef-b7c6-005056b0158c-3-24b4-f935-19c2",
       "next": "201a4150-1420-11ef-b7c6-005056b0158c-2-8491-ce9c",
       "previous": "201a40c4-1420-11ef-b7c6-005056b0158c-2-76c7-6261"
      }
     ],
     "next": "201a4150-1420-11ef-b7c6-005056b0158c-3-8491-ce9c-ee9f",
     "previous": "201a40c4-1420-11ef-b7c6-005056b0158c-3-76c7-6261-97b6"
    },
    "lc_wrapper": {
     "log_history": [
      "/notebooks/notebook/yamaguchi-hub/work/.log/20240517/20240517-164730-0843.log",
      "/notebooks/notebook/yamaguchi-hub/work/.log/20240517/20240517-165001-0814.log",
      "/notebooks/notebook/yamaguchi-hub/work/.log/20240517/20240517-165043-0538.log",
      "/notebooks/notebook/yamaguchi-hub/handon001/.log/20240520/20240520-161834-0304.log"
     ]
    }
   },
   "outputs": [],
   "source": [
    "# 証明書配置\n",
    "!ansible {target_hub} -Dv -m synchronize \\\n",
    "    -a 'src=/notebooks/notebook/certs/fullchain.pem dest={{{{certs_dir}}}}'\n",
    "!ansible {target_hub} -Dv -m synchronize \\\n",
    "    -a 'src=/notebooks/notebook/certs/privkey.pem dest={{{{certs_dir}}}}'"
   ]
  },
  {
   "cell_type": "code",
   "execution_count": null,
   "metadata": {
    "hidden": true,
    "lc_cell_meme": {
     "current": "201a4150-1420-11ef-b7c6-005056b0158c-3-8491-ce9c-ee9f",
     "history": [
      {
       "current": "201a4150-1420-11ef-b7c6-005056b0158c",
       "next": "201a41dc-1420-11ef-b7c6-005056b0158c",
       "previous": "201a40c4-1420-11ef-b7c6-005056b0158c"
      },
      {
       "current": "201a4150-1420-11ef-b7c6-005056b0158c-1-8491",
       "next": "201a41dc-1420-11ef-b7c6-005056b0158c",
       "previous": "67a2cfe2-1420-11ef-b7c6-005056b0158c"
      },
      {
       "current": "201a4150-1420-11ef-b7c6-005056b0158c-2-8491-ce9c",
       "next": "201a41dc-1420-11ef-b7c6-005056b0158c-1-92d5",
       "previous": "67a2cfe2-1420-11ef-b7c6-005056b0158c-1-24b4"
      },
      {
       "current": "201a4150-1420-11ef-b7c6-005056b0158c-3-8491-ce9c-ee9f",
       "next": "201a41dc-1420-11ef-b7c6-005056b0158c-2-92d5-fc4f",
       "previous": "67a2cfe2-1420-11ef-b7c6-005056b0158c-2-24b4-f935"
      }
     ],
     "next": "201a41dc-1420-11ef-b7c6-005056b0158c-3-92d5-fc4f-d6c1",
     "previous": "67a2cfe2-1420-11ef-b7c6-005056b0158c-3-24b4-f935-19c2"
    },
    "lc_wrapper": {
     "log_history": [
      "/notebooks/notebook/yamaguchi-hub/work/.log/20240517/20240517-164734-0177.log",
      "/notebooks/notebook/yamaguchi-hub/work/.log/20240517/20240517-165009-0072.log",
      "/notebooks/notebook/yamaguchi-hub/work/.log/20240517/20240517-165048-0521.log",
      "/notebooks/notebook/yamaguchi-hub/handon001/.log/20240520/20240520-161837-0152.log"
     ]
    }
   },
   "outputs": [],
   "source": [
    "try:\n",
    "    !ansible {target_hub} -a \\\n",
    "        'openssl rsa -noout -text -in  {{{{certs_dir}}}}/privkey.pem'\n",
    "except Exception as e:\n",
    "    # 鍵の形式が異なる場合、正しく配置できていてもエラーになる場合があります。\n",
    "    !ansible {target_hub} -a \\\n",
    "         'openssl ec -in {{{{certs_dir}}}}/privkey.pem -text -noout'"
   ]
  },
  {
   "cell_type": "code",
   "execution_count": null,
   "metadata": {
    "hidden": true,
    "lc_cell_meme": {
     "current": "201a41dc-1420-11ef-b7c6-005056b0158c-3-92d5-fc4f-d6c1",
     "history": [
      {
       "current": "201a41dc-1420-11ef-b7c6-005056b0158c-1-92d5",
       "next": "201a4268-1420-11ef-b7c6-005056b0158c",
       "previous": "201a4150-1420-11ef-b7c6-005056b0158c"
      },
      {
       "current": "201a41dc-1420-11ef-b7c6-005056b0158c-2-92d5-fc4f",
       "next": "201a4268-1420-11ef-b7c6-005056b0158c-1-a364",
       "previous": "201a4150-1420-11ef-b7c6-005056b0158c-1-8491"
      },
      {
       "current": "201a41dc-1420-11ef-b7c6-005056b0158c-3-92d5-fc4f-d6c1",
       "next": "201a4268-1420-11ef-b7c6-005056b0158c-2-a364-5f16",
       "previous": "201a4150-1420-11ef-b7c6-005056b0158c-2-8491-ce9c"
      }
     ],
     "next": "201a4268-1420-11ef-b7c6-005056b0158c-3-a364-5f16-1c4b",
     "previous": "201a4150-1420-11ef-b7c6-005056b0158c-3-8491-ce9c-ee9f"
    },
    "lc_wrapper": {
     "log_history": [
      "/notebooks/notebook/yamaguchi-hub/work/.log/20240517/20240517-165101-0984.log",
      "/notebooks/notebook/yamaguchi-hub/handon001/.log/20240520/20240520-161840-0374.log"
     ]
    }
   },
   "outputs": [],
   "source": [
    "!ansible {target_hub} -a \\\n",
    "    'openssl x509 -noout -text -in {{{{certs_dir}}}}/fullchain.pem'"
   ]
  },
  {
   "cell_type": "code",
   "execution_count": null,
   "metadata": {
    "hidden": true,
    "lc_cell_meme": {
     "current": "201a4268-1420-11ef-b7c6-005056b0158c-3-a364-5f16-1c4b",
     "history": [
      {
       "current": "201a4268-1420-11ef-b7c6-005056b0158c",
       "next": null,
       "previous": "201a41dc-1420-11ef-b7c6-005056b0158c"
      },
      {
       "current": "201a4268-1420-11ef-b7c6-005056b0158c-1-a364",
       "next": "3e420d10-1421-11ef-b7c6-005056b0158c",
       "previous": "201a41dc-1420-11ef-b7c6-005056b0158c"
      },
      {
       "current": "201a4268-1420-11ef-b7c6-005056b0158c-2-a364-5f16",
       "next": "3e420d10-1421-11ef-b7c6-005056b0158c-1-2f11",
       "previous": "201a41dc-1420-11ef-b7c6-005056b0158c-1-92d5"
      },
      {
       "current": "201a4268-1420-11ef-b7c6-005056b0158c-3-a364-5f16-1c4b",
       "next": "3e420d10-1421-11ef-b7c6-005056b0158c-2-2f11-f5c5",
       "previous": "201a41dc-1420-11ef-b7c6-005056b0158c-2-92d5-fc4f"
      }
     ],
     "next": "3e420d10-1421-11ef-b7c6-005056b0158c-3-2f11-f5c5-72ad",
     "previous": "201a41dc-1420-11ef-b7c6-005056b0158c-3-92d5-fc4f-d6c1"
    },
    "lc_wrapper": {
     "log_history": [
      "/notebooks/notebook/yamaguchi-hub/work/.log/20240517/20240517-165103-0672.log",
      "/notebooks/notebook/yamaguchi-hub/handon001/.log/20240520/20240520-161842-0121.log"
     ]
    }
   },
   "outputs": [],
   "source": [
    "cert_owner = 33\n",
    "cert_group = 33\n",
    "!ansible {target_hub} -b -m file -a \\\n",
    "    'path={{{{certs_dir}}}} owner={cert_owner} \\\n",
    "    group={cert_group} state=directory'\n",
    "!ansible {target_hub} -b -m file -a \\\n",
    "    'path={{{{certs_dir}}}}/fullchain.pem \\\n",
    "    owner={cert_owner} group={cert_group}'\n",
    "!ansible {target_hub} -b -m file -a \\\n",
    "    'path={{{{certs_dir}}}}/privkey.pem \\\n",
    "    owner={cert_owner} group={cert_group} mode=0600'"
   ]
  },
  {
   "cell_type": "code",
   "execution_count": null,
   "metadata": {
    "hidden": true,
    "lc_cell_meme": {
     "current": "3e420d10-1421-11ef-b7c6-005056b0158c-3-2f11-f5c5-72ad",
     "history": [
      {
       "current": "3e420d10-1421-11ef-b7c6-005056b0158c-1-2f11",
       "next": "3e42108a-1421-11ef-b7c6-005056b0158c",
       "previous": "201a4268-1420-11ef-b7c6-005056b0158c"
      },
      {
       "current": "3e420d10-1421-11ef-b7c6-005056b0158c-2-2f11-f5c5",
       "next": "3e42108a-1421-11ef-b7c6-005056b0158c-1-d7bd",
       "previous": "201a4268-1420-11ef-b7c6-005056b0158c-1-a364"
      },
      {
       "current": "3e420d10-1421-11ef-b7c6-005056b0158c-3-2f11-f5c5-72ad",
       "next": "3e42108a-1421-11ef-b7c6-005056b0158c-2-d7bd-fd10",
       "previous": "201a4268-1420-11ef-b7c6-005056b0158c-2-a364-5f16"
      }
     ],
     "next": "3e42108a-1421-11ef-b7c6-005056b0158c-3-d7bd-fd10-311e",
     "previous": "201a4268-1420-11ef-b7c6-005056b0158c-3-a364-5f16-1c4b"
    },
    "lc_wrapper": {
     "log_history": [
      "/notebooks/notebook/yamaguchi-hub/work/.log/20240517/20240517-165108-0809.log",
      "/notebooks/notebook/yamaguchi-hub/handon001/.log/20240520/20240520-161847-0404.log"
     ]
    }
   },
   "outputs": [],
   "source": [
    "# 先にディレクトリ作成\n",
    "!ansible {target_hub} -b -m file -a \\\n",
    "    'path={share_directory_root}/nbgrader state=directory owner={{{{ansible_user}}}}'\n",
    "!ansible {target_hub} -b -m file -a \\\n",
    "    'path={share_directory_root}/class state=directory owner={{{{ansible_user}}}}'\n",
    "!ansible {target_hub} -b -m file -a \\\n",
    "    'path={{{{base_dir}}}}/jupyterhub/ldap state=directory owner={{{{ansible_user}}}}'\n",
    "!ansible {target_hub} -b -m file -a \\\n",
    "    'path={{{{base_dir}}}}/jupyterhub/nginx state=directory owner={{{{ansible_user}}}}'"
   ]
  },
  {
   "cell_type": "code",
   "execution_count": null,
   "metadata": {
    "hidden": true,
    "lc_cell_meme": {
     "current": "3e42108a-1421-11ef-b7c6-005056b0158c-3-d7bd-fd10-311e",
     "history": [
      {
       "current": "3e42108a-1421-11ef-b7c6-005056b0158c-1-d7bd",
       "next": "3e42115c-1421-11ef-b7c6-005056b0158c",
       "previous": "3e420d10-1421-11ef-b7c6-005056b0158c"
      },
      {
       "current": "3e42108a-1421-11ef-b7c6-005056b0158c-2-d7bd-fd10",
       "next": "3e42115c-1421-11ef-b7c6-005056b0158c-1-af3c",
       "previous": "3e420d10-1421-11ef-b7c6-005056b0158c-1-2f11"
      },
      {
       "current": "3e42108a-1421-11ef-b7c6-005056b0158c-3-d7bd-fd10-311e",
       "next": "3e42115c-1421-11ef-b7c6-005056b0158c-2-af3c-00a2",
       "previous": "3e420d10-1421-11ef-b7c6-005056b0158c-2-2f11-f5c5"
      }
     ],
     "next": "3e42115c-1421-11ef-b7c6-005056b0158c-3-af3c-00a2-eaae",
     "previous": "3e420d10-1421-11ef-b7c6-005056b0158c-3-2f11-f5c5-72ad"
    },
    "lc_wrapper": {
     "log_history": [
      "/notebooks/notebook/yamaguchi-hub/work/.log/20240517/20240517-165115-0475.log",
      "/notebooks/notebook/yamaguchi-hub/handon001/.log/20240520/20240520-161854-0510.log"
     ]
    }
   },
   "outputs": [],
   "source": [
    "# 共有ディレクトリに必要なファイル配置\n",
    "!ansible {target_hub} -Dv -m synchronize \\\n",
    "    -a 'src=template/directories/jupytershare/nbgrader dest={share_directory_root}'\n",
    "!ansible {target_hub} -Dv -m synchronize \\\n",
    "    -a 'src=template/directories/jupytershare/class dest={share_directory_root}'\n",
    "!ansible {target_hub} -Dv -m template \\\n",
    "    -a 'src=template/directories/jupytershare/nbgrader/templates/teachers/nbgrader_config.py \\\n",
    "    dest={share_directory_root}/nbgrader/templates/teachers backup=yes'\n",
    "\n",
    "# ホームディレクトリに必要なファイル配置\n",
    "!ansible {target_hub} -Dv -m synchronize \\\n",
    "    -a 'src=template/directories/skelton dest={home_directory_root}'\n",
    "\n",
    "# jupyterhubシステム構築に必要なファイル配置\n",
    "!ansible {target_hub} -Dv -m synchronize \\\n",
    "    -a 'src=template/jupyterhub/jupyterhub dest={{{{base_dir}}}}/jupyterhub'\n",
    "!ansible {target_hub} -Dv -m synchronize \\\n",
    "    -a 'src=template/jupyterhub/nginx dest={{{{base_dir}}}}/jupyterhub'\n",
    "!ansible {target_hub} -Dv -m synchronize \\\n",
    "    -a 'src=template/jupyterhub/ldap dest={{{{base_dir}}}}/jupyterhub'\n",
    "\n",
    "!ansible {target_hub} -Dv -m template \\\n",
    "    -a 'src=template/jupyterhub/docker-compose.yml dest={{{{base_dir}}}}/docker-compose.yml backup=yes'\n",
    "\n",
    "!ansible {target_hub} -Dv -m template \\\n",
    "    -a 'src=template/jupyterhub/nginx/default.conf dest={{{{base_dir}}}}/jupyterhub/nginx/default.conf backup=yes'\n",
    "\n",
    "!ansible {target_hub} -Dv -m synchronize \\\n",
    "    -a 'src=template/jupyterhub/jupyterhub/sudoers dest={{{{share_directory_root}}}} rsync_opts=--chown=root:root,--chmod=600' --become"
   ]
  },
  {
   "cell_type": "code",
   "execution_count": null,
   "metadata": {
    "hidden": true,
    "lc_cell_meme": {
     "current": "3e42115c-1421-11ef-b7c6-005056b0158c-3-af3c-00a2-eaae",
     "history": [
      {
       "current": "3e42115c-1421-11ef-b7c6-005056b0158c-1-af3c",
       "next": "3e4211e8-1421-11ef-b7c6-005056b0158c",
       "previous": "3e42108a-1421-11ef-b7c6-005056b0158c"
      },
      {
       "current": "3e42115c-1421-11ef-b7c6-005056b0158c-2-af3c-00a2",
       "next": "3e4211e8-1421-11ef-b7c6-005056b0158c-1-24ec",
       "previous": "3e42108a-1421-11ef-b7c6-005056b0158c-1-d7bd"
      },
      {
       "current": "3e42115c-1421-11ef-b7c6-005056b0158c-3-af3c-00a2-eaae",
       "next": "3e4211e8-1421-11ef-b7c6-005056b0158c-2-24ec-5de6",
       "previous": "3e42108a-1421-11ef-b7c6-005056b0158c-2-d7bd-fd10"
      }
     ],
     "next": "3e4211e8-1421-11ef-b7c6-005056b0158c-3-24ec-5de6-2b86",
     "previous": "3e42108a-1421-11ef-b7c6-005056b0158c-3-d7bd-fd10-311e"
    },
    "lc_wrapper": {
     "log_history": [
      "/notebooks/notebook/yamaguchi-hub/work/.log/20240517/20240517-165134-0964.log",
      "/notebooks/notebook/yamaguchi-hub/handon001/.log/20240520/20240520-161913-0886.log"
     ]
    }
   },
   "outputs": [],
   "source": [
    "!ansible-playbook -l {target_hub} playbooks/setup-jupyterhub.yml -e jupyterhub_image={jupyterhub_image}"
   ]
  },
  {
   "cell_type": "code",
   "execution_count": null,
   "metadata": {
    "hidden": true,
    "lc_cell_meme": {
     "current": "3e4211e8-1421-11ef-b7c6-005056b0158c-3-24ec-5de6-2b86",
     "history": [
      {
       "current": "3e4211e8-1421-11ef-b7c6-005056b0158c",
       "next": null,
       "previous": "3e42115c-1421-11ef-b7c6-005056b0158c"
      },
      {
       "current": "3e4211e8-1421-11ef-b7c6-005056b0158c-1-24ec",
       "next": "7a7beb3e-1421-11ef-b7c6-005056b0158c",
       "previous": "3e42115c-1421-11ef-b7c6-005056b0158c"
      },
      {
       "current": "3e4211e8-1421-11ef-b7c6-005056b0158c-2-24ec-5de6",
       "next": "7a7beb3e-1421-11ef-b7c6-005056b0158c-1-8dfa",
       "previous": "3e42115c-1421-11ef-b7c6-005056b0158c-1-af3c"
      },
      {
       "current": "3e4211e8-1421-11ef-b7c6-005056b0158c-3-24ec-5de6-2b86",
       "next": "7a7beb3e-1421-11ef-b7c6-005056b0158c-2-8dfa-2951",
       "previous": "3e42115c-1421-11ef-b7c6-005056b0158c-2-af3c-00a2"
      }
     ],
     "next": "7a7beb3e-1421-11ef-b7c6-005056b0158c-3-8dfa-2951-9279",
     "previous": "3e42115c-1421-11ef-b7c6-005056b0158c-3-af3c-00a2-eaae"
    },
    "lc_wrapper": {
     "log_history": [
      "/notebooks/notebook/yamaguchi-hub/work/.log/20240517/20240517-165153-0765.log",
      "/notebooks/notebook/yamaguchi-hub/handon001/.log/20240520/20240520-161933-0905.log"
     ]
    }
   },
   "outputs": [],
   "source": [
    "!ansible {target_hub} -a \\\n",
    "    'docker images {{{{jupyterhub_image}}}}'"
   ]
  },
  {
   "cell_type": "code",
   "execution_count": null,
   "metadata": {
    "hidden": true,
    "lc_cell_meme": {
     "current": "7a7beb3e-1421-11ef-b7c6-005056b0158c-3-8dfa-2951-9279",
     "history": [
      {
       "current": "7a7beb3e-1421-11ef-b7c6-005056b0158c-1-8dfa",
       "next": "7a7bede6-1421-11ef-b7c6-005056b0158c",
       "previous": "3e4211e8-1421-11ef-b7c6-005056b0158c"
      },
      {
       "current": "7a7beb3e-1421-11ef-b7c6-005056b0158c-2-8dfa-2951",
       "next": "7a7bede6-1421-11ef-b7c6-005056b0158c-1-c76c",
       "previous": "3e4211e8-1421-11ef-b7c6-005056b0158c-1-24ec"
      },
      {
       "current": "7a7beb3e-1421-11ef-b7c6-005056b0158c-3-8dfa-2951-9279",
       "next": "7a7bede6-1421-11ef-b7c6-005056b0158c-2-c76c-7b5e",
       "previous": "3e4211e8-1421-11ef-b7c6-005056b0158c-2-24ec-5de6"
      }
     ],
     "next": "7a7bede6-1421-11ef-b7c6-005056b0158c-3-c76c-7b5e-6b88",
     "previous": "3e4211e8-1421-11ef-b7c6-005056b0158c-3-24ec-5de6-2b86"
    },
    "lc_wrapper": {
     "log_history": [
      "/notebooks/notebook/yamaguchi-hub/work/.log/20240517/20240517-165155-0307.log",
      "/notebooks/notebook/yamaguchi-hub/handon001/.log/20240520/20240520-161935-0475.log"
     ]
    }
   },
   "outputs": [],
   "source": [
    "!ansible {ugroup_name} -b -m file -a \\\n",
    "    'path={{{{notebook_dir}}}} state=directory owner={{{{ansible_user}}}}'"
   ]
  },
  {
   "cell_type": "code",
   "execution_count": null,
   "metadata": {
    "hidden": true,
    "lc_cell_meme": {
     "current": "7a7bede6-1421-11ef-b7c6-005056b0158c-3-c76c-7b5e-6b88",
     "history": [
      {
       "current": "7a7bede6-1421-11ef-b7c6-005056b0158c-1-c76c",
       "next": "7a7beea4-1421-11ef-b7c6-005056b0158c",
       "previous": "7a7beb3e-1421-11ef-b7c6-005056b0158c"
      },
      {
       "current": "7a7bede6-1421-11ef-b7c6-005056b0158c-2-c76c-7b5e",
       "next": "7a7beea4-1421-11ef-b7c6-005056b0158c-1-77ec",
       "previous": "7a7beb3e-1421-11ef-b7c6-005056b0158c-1-8dfa"
      },
      {
       "current": "7a7bede6-1421-11ef-b7c6-005056b0158c-3-c76c-7b5e-6b88",
       "next": "7a7beea4-1421-11ef-b7c6-005056b0158c-2-77ec-993f",
       "previous": "7a7beb3e-1421-11ef-b7c6-005056b0158c-2-8dfa-2951"
      }
     ],
     "next": "7a7beea4-1421-11ef-b7c6-005056b0158c-3-77ec-993f-0274",
     "previous": "7a7beb3e-1421-11ef-b7c6-005056b0158c-3-8dfa-2951-9279"
    },
    "lc_wrapper": {
     "log_history": [
      "/notebooks/notebook/yamaguchi-hub/work/.log/20240517/20240517-165156-0821.log",
      "/notebooks/notebook/yamaguchi-hub/handon001/.log/20240520/20240520-161937-0030.log"
     ]
    }
   },
   "outputs": [],
   "source": [
    "!ansible {ugroup_name} -Dv -m synchronize \\\n",
    "    -a 'src=template/notebook dest={{{{base_dir}}}}'\n",
    "!ansible {ugroup_name} -Dv -m template \\\n",
    "    -a 'src=template/notebook/image/ldap.conf dest={{{{base_dir}}}}/notebook/image/ backup=yes'\n",
    "!ansible {ugroup_name} -Dv -m template \\\n",
    "    -a 'src=template/notebook/image/nbgrader_config.py dest={{{{base_dir}}}}/notebook/image/ backup=yes'"
   ]
  },
  {
   "cell_type": "code",
   "execution_count": null,
   "metadata": {
    "hidden": true,
    "lc_cell_meme": {
     "current": "7a7beea4-1421-11ef-b7c6-005056b0158c-3-77ec-993f-0274",
     "history": [
      {
       "current": "7a7beea4-1421-11ef-b7c6-005056b0158c-1-77ec",
       "next": "7a7bef3a-1421-11ef-b7c6-005056b0158c",
       "previous": "7a7bede6-1421-11ef-b7c6-005056b0158c"
      },
      {
       "current": "7a7beea4-1421-11ef-b7c6-005056b0158c-2-77ec-993f",
       "next": "7a7bef3a-1421-11ef-b7c6-005056b0158c-1-e4ae",
       "previous": "7a7bede6-1421-11ef-b7c6-005056b0158c-1-c76c"
      },
      {
       "current": "7a7beea4-1421-11ef-b7c6-005056b0158c-3-77ec-993f-0274",
       "next": "7a7bef3a-1421-11ef-b7c6-005056b0158c-2-e4ae-d195",
       "previous": "7a7bede6-1421-11ef-b7c6-005056b0158c-2-c76c-7b5e"
      }
     ],
     "next": "7a7bef3a-1421-11ef-b7c6-005056b0158c-3-e4ae-d195-a31c",
     "previous": "7a7bede6-1421-11ef-b7c6-005056b0158c-3-c76c-7b5e-6b88"
    },
    "lc_wrapper": {
     "log_history": [
      "/notebooks/notebook/yamaguchi-hub/work/.log/20240517/20240517-165202-0287.log",
      "/notebooks/notebook/yamaguchi-hub/handon001/.log/20240520/20240520-161942-0511.log"
     ]
    }
   },
   "outputs": [],
   "source": [
    "!ansible-playbook -l {ugroup_name} playbooks/setup-jupyter-notebook.yml"
   ]
  },
  {
   "cell_type": "code",
   "execution_count": null,
   "metadata": {
    "hidden": true,
    "lc_cell_meme": {
     "current": "7a7bef3a-1421-11ef-b7c6-005056b0158c-3-e4ae-d195-a31c",
     "history": [
      {
       "current": "7a7bef3a-1421-11ef-b7c6-005056b0158c-1-e4ae",
       "next": "7a7befc6-1421-11ef-b7c6-005056b0158c",
       "previous": "7a7beea4-1421-11ef-b7c6-005056b0158c"
      },
      {
       "current": "7a7bef3a-1421-11ef-b7c6-005056b0158c-2-e4ae-d195",
       "next": "7a7befc6-1421-11ef-b7c6-005056b0158c-1-1489",
       "previous": "7a7beea4-1421-11ef-b7c6-005056b0158c-1-77ec"
      },
      {
       "current": "7a7bef3a-1421-11ef-b7c6-005056b0158c-3-e4ae-d195-a31c",
       "next": "7a7befc6-1421-11ef-b7c6-005056b0158c-2-1489-3bed",
       "previous": "7a7beea4-1421-11ef-b7c6-005056b0158c-2-77ec-993f"
      }
     ],
     "next": "7a7befc6-1421-11ef-b7c6-005056b0158c-3-1489-3bed-c92d",
     "previous": "7a7beea4-1421-11ef-b7c6-005056b0158c-3-77ec-993f-0274"
    },
    "lc_wrapper": {
     "log_history": [
      "/notebooks/notebook/yamaguchi-hub/work/.log/20240517/20240517-165401-0393.log",
      "/notebooks/notebook/yamaguchi-hub/handon001/.log/20240520/20240520-162140-0275.log"
     ]
    }
   },
   "outputs": [],
   "source": [
    "print(f'指定したイメージ名:{singleuser_image}')\n",
    "\n",
    "!ansible {ugroup_name} -m shell -a 'docker images | \\\n",
    "    grep -e \"{{{{singleuser_image}}}}\"'"
   ]
  },
  {
   "cell_type": "code",
   "execution_count": null,
   "metadata": {
    "hidden": true,
    "lc_cell_meme": {
     "current": "7a7befc6-1421-11ef-b7c6-005056b0158c-3-1489-3bed-c92d",
     "history": [
      {
       "current": "7a7befc6-1421-11ef-b7c6-005056b0158c-1-1489",
       "next": "7a7bf052-1421-11ef-b7c6-005056b0158c",
       "previous": "7a7bef3a-1421-11ef-b7c6-005056b0158c"
      },
      {
       "current": "7a7befc6-1421-11ef-b7c6-005056b0158c-2-1489-3bed",
       "next": "7a7bf052-1421-11ef-b7c6-005056b0158c-1-879c",
       "previous": "7a7bef3a-1421-11ef-b7c6-005056b0158c-1-e4ae"
      },
      {
       "current": "7a7befc6-1421-11ef-b7c6-005056b0158c-3-1489-3bed-c92d",
       "next": "7a7bf052-1421-11ef-b7c6-005056b0158c-2-879c-73d0",
       "previous": "7a7bef3a-1421-11ef-b7c6-005056b0158c-2-e4ae-d195"
      }
     ],
     "next": "7a7bf052-1421-11ef-b7c6-005056b0158c-3-879c-73d0-b140",
     "previous": "7a7bef3a-1421-11ef-b7c6-005056b0158c-3-e4ae-d195-a31c"
    },
    "lc_wrapper": {
     "log_history": [
      "/notebooks/notebook/yamaguchi-hub/work/.log/20240517/20240517-165402-0963.log",
      "/notebooks/notebook/yamaguchi-hub/handon001/.log/20240520/20240520-162141-0915.log"
     ]
    }
   },
   "outputs": [],
   "source": [
    "!ansible {target_hub} -Dv -m template \\\n",
    "    -a 'src=template/jupyterhub/docker-compose.yml dest={{{{base_dir}}}}/jupyterhub backup=yes'\n",
    "!ansible {target_hub} -Dv -m template \\\n",
    "    -a 'src=template/jupyterhub/nginx/default.conf dest={{{{base_dir}}}}/jupyterhub/nginx backup=yes'\n",
    "!ansible {target_hub} -Dv -m template \\\n",
    "    -a 'src=edit/lms_web_service.py dest={{{{jupyterhub_dir}}}}/jupyterhub backup=yes'\n",
    "!ansible {target_hub} -Dv -m template \\\n",
    "    -a 'src=edit/jupyterhub_config.py dest={{{{jupyterhub_dir}}}}/jupyterhub backup=yes'\n",
    "!ansible {target_hub} -Dv -m template \\\n",
    "    -a 'src=edit/jupyterhub_params.yaml dest={{{{jupyterhub_dir}}}}/jupyterhub backup=yes'"
   ]
  },
  {
   "cell_type": "code",
   "execution_count": null,
   "metadata": {
    "hidden": true,
    "lc_cell_meme": {
     "current": "7a7bf052-1421-11ef-b7c6-005056b0158c-3-879c-73d0-b140",
     "history": [
      {
       "current": "7a7bf052-1421-11ef-b7c6-005056b0158c-1-879c",
       "next": "7a7bf0de-1421-11ef-b7c6-005056b0158c",
       "previous": "7a7befc6-1421-11ef-b7c6-005056b0158c"
      },
      {
       "current": "7a7bf052-1421-11ef-b7c6-005056b0158c-2-879c-73d0",
       "next": "7a7bf0de-1421-11ef-b7c6-005056b0158c-1-3238",
       "previous": "7a7befc6-1421-11ef-b7c6-005056b0158c-1-1489"
      },
      {
       "current": "7a7bf052-1421-11ef-b7c6-005056b0158c-2-879c-73d0",
       "next": "7a7bf0de-1421-11ef-b7c6-005056b0158c-2-3238-a356",
       "previous": "7a7befc6-1421-11ef-b7c6-005056b0158c-2-1489-3bed"
      },
      {
       "current": "7a7bf052-1421-11ef-b7c6-005056b0158c-3-879c-73d0-b140",
       "next": "7a7bf16a-1421-11ef-b7c6-005056b0158c-2-4639-eb6a",
       "previous": "7a7befc6-1421-11ef-b7c6-005056b0158c-2-1489-3bed"
      }
     ],
     "next": "7a7bf16a-1421-11ef-b7c6-005056b0158c-3-4639-eb6a-eabb",
     "previous": "7a7befc6-1421-11ef-b7c6-005056b0158c-3-1489-3bed-c92d"
    },
    "lc_wrapper": {
     "log_history": [
      "/notebooks/notebook/yamaguchi-hub/work/.log/20240517/20240517-165415-0456.log",
      "/notebooks/notebook/yamaguchi-hub/handon001/.log/20240520/20240520-162155-0249.log"
     ]
    }
   },
   "outputs": [],
   "source": [
    "!ansible {target_hub} -a 'chdir={{{{base_dir}}}}/jupyterhub \\\n",
    "    docker stack deploy -c docker-compose.yml {{{{ugroup_name}}}}'"
   ]
  },
  {
   "cell_type": "markdown",
   "metadata": {
    "hidden": true,
    "lc_cell_meme": {
     "current": "7a7bf16a-1421-11ef-b7c6-005056b0158c-3-4639-eb6a-eabb",
     "history": [
      {
       "current": "7a7bf16a-1421-11ef-b7c6-005056b0158c-1-4639",
       "next": "7a7bf200-1421-11ef-b7c6-005056b0158c",
       "previous": "7a7bf0de-1421-11ef-b7c6-005056b0158c"
      },
      {
       "current": "7a7bf16a-1421-11ef-b7c6-005056b0158c-2-4639-eb6a",
       "next": "7a7bf200-1421-11ef-b7c6-005056b0158c-1-af4c",
       "previous": "7a7bf0de-1421-11ef-b7c6-005056b0158c-1-3238"
      },
      {
       "current": "7a7bf16a-1421-11ef-b7c6-005056b0158c-2-4639-eb6a",
       "next": "7a7bf200-1421-11ef-b7c6-005056b0158c-2-af4c-e426",
       "previous": "7a7bf0de-1421-11ef-b7c6-005056b0158c-2-3238-a356"
      },
      {
       "current": "7a7bf16a-1421-11ef-b7c6-005056b0158c-3-4639-eb6a-eabb",
       "next": "7a7bf200-1421-11ef-b7c6-005056b0158c-2-af4c-e426",
       "previous": "7a7bf052-1421-11ef-b7c6-005056b0158c-2-879c-73d0"
      }
     ],
     "next": "7a7bf200-1421-11ef-b7c6-005056b0158c-3-af4c-e426-cd10",
     "previous": "7a7bf052-1421-11ef-b7c6-005056b0158c-3-879c-73d0-b140"
    }
   },
   "source": [
    "### JHのヘルスチェック\n",
    "\n",
    "ACL設定等を行っていなければ通信できないため、エラーになる。"
   ]
  },
  {
   "cell_type": "code",
   "execution_count": null,
   "metadata": {
    "hidden": true,
    "lc_cell_meme": {
     "current": "7a7bf200-1421-11ef-b7c6-005056b0158c-3-af4c-e426-cd10",
     "history": [
      {
       "current": "7a7bf200-1421-11ef-b7c6-005056b0158c-1-af4c",
       "next": null,
       "previous": "7a7bf16a-1421-11ef-b7c6-005056b0158c"
      },
      {
       "current": "7a7bf200-1421-11ef-b7c6-005056b0158c-2-af4c-e426",
       "next": null,
       "previous": "7a7bf16a-1421-11ef-b7c6-005056b0158c-1-4639"
      },
      {
       "current": "7a7bf200-1421-11ef-b7c6-005056b0158c-2-af4c-e426",
       "next": null,
       "previous": "7a7bf16a-1421-11ef-b7c6-005056b0158c-2-4639-eb6a"
      },
      {
       "current": "7a7bf200-1421-11ef-b7c6-005056b0158c-3-af4c-e426-cd10",
       "next": "4c3d87aa-1679-11ef-b7c6-005056b0158c",
       "previous": "7a7bf16a-1421-11ef-b7c6-005056b0158c-2-4639-eb6a"
      }
     ],
     "next": "4c3d87aa-1679-11ef-b7c6-005056b0158c-1-a049",
     "previous": "7a7bf16a-1421-11ef-b7c6-005056b0158c-3-4639-eb6a-eabb"
    },
    "lc_wrapper": {
     "log_history": [
      "/notebooks/notebook/yamaguchi-hub/handon001/.log/20240520/20240520-162609-0766.log"
     ]
    }
   },
   "outputs": [],
   "source": [
    "import time\n",
    "\n",
    "# 規定回数\n",
    "retry_max = 18\n",
    "err = None\n",
    "\n",
    "for retry in range(retry_max):\n",
    "    try:\n",
    "        !ansible {target_hub} -m uri -a \"url=https://{master_fqdn}/hub/health\"\n",
    "        break\n",
    "\n",
    "    except Exception as e:\n",
    "        print(\"retry\")\n",
    "        err = e\n",
    "        time.sleep(10)\n",
    "else:\n",
    "    raise err"
   ]
  },
  {
   "cell_type": "markdown",
   "metadata": {
    "lc_cell_meme": {
     "current": "4c3d87aa-1679-11ef-b7c6-005056b0158c-1-a049",
     "history": [
      {
       "current": "4c3d87aa-1679-11ef-b7c6-005056b0158c",
       "next": "4c3d8e9e-1679-11ef-b7c6-005056b0158c",
       "previous": "7a7bf200-1421-11ef-b7c6-005056b0158c-2-af4c-e426"
      },
      {
       "current": "4c3d87aa-1679-11ef-b7c6-005056b0158c",
       "next": "85979b76-1679-11ef-b7c6-005056b0158c",
       "previous": "7a7bf200-1421-11ef-b7c6-005056b0158c-2-af4c-e426"
      },
      {
       "current": "4c3d87aa-1679-11ef-b7c6-005056b0158c",
       "next": "e053e3c8-167c-11ef-b7c6-005056b0158c",
       "previous": "7a7bf200-1421-11ef-b7c6-005056b0158c-2-af4c-e426"
      },
      {
       "current": "4c3d87aa-1679-11ef-b7c6-005056b0158c-1-a049",
       "next": "f18cb366-167e-11ef-b7c6-005056b0158c",
       "previous": "7a7bf200-1421-11ef-b7c6-005056b0158c-2-af4c-e426"
      }
     ],
     "next": "f18cb366-167e-11ef-b7c6-005056b0158c-1-da74",
     "previous": "7a7bf200-1421-11ef-b7c6-005056b0158c-3-af4c-e426-cd10"
    }
   },
   "source": [
    "## 外部ツール設定  \n",
    "Moodleにアクセスし、外部ツール設定を行う。  \n",
    "設定後、外部ツール情報を確認し、以下のセルでパラメータ指定をおこなう。"
   ]
  },
  {
   "cell_type": "markdown",
   "metadata": {
    "lc_cell_meme": {
     "current": "f18cb366-167e-11ef-b7c6-005056b0158c-1-da74",
     "history": [
      {
       "current": "f18cb366-167e-11ef-b7c6-005056b0158c-1-da74",
       "next": "e053e3c8-167c-11ef-b7c6-005056b0158c",
       "previous": "4c3d87aa-1679-11ef-b7c6-005056b0158c"
      }
     ],
     "next": "e053e3c8-167c-11ef-b7c6-005056b0158c-1-e599",
     "previous": "4c3d87aa-1679-11ef-b7c6-005056b0158c-1-a049"
    }
   },
   "source": [
    "### パラメータ表示  \n",
    "以下のパラメータを外部ツール設定画面で指定する。  \n",
    "**アクセスすると、`Reverse proxy enabled so the server cannot be accessed directly.`というエラーが出る場合がある。  \n",
    "この場合、Moodleの設定（`config.php`）に失敗している。`config.php`の設定を行っているセルを再度実行する。**（Moodleの稼働に少し遅れてdocker-compose.ymlで設定した環境変数をもとにした設定が反映されるため）"
   ]
  },
  {
   "cell_type": "code",
   "execution_count": null,
   "metadata": {
    "lc_cell_meme": {
     "current": "e053e3c8-167c-11ef-b7c6-005056b0158c-1-e599",
     "history": [
      {
       "current": "e053e3c8-167c-11ef-b7c6-005056b0158c",
       "next": "7a7bf0de-1421-11ef-b7c6-005056b0158c-2-3238-a356",
       "previous": "4c3d87aa-1679-11ef-b7c6-005056b0158c"
      },
      {
       "current": "e053e3c8-167c-11ef-b7c6-005056b0158c",
       "next": "7a7bf0de-1421-11ef-b7c6-005056b0158c-2-3238-a356",
       "previous": "f18cb366-167e-11ef-b7c6-005056b0158c"
      },
      {
       "current": "e053e3c8-167c-11ef-b7c6-005056b0158c-1-e599",
       "next": "85979b76-1679-11ef-b7c6-005056b0158c",
       "previous": "f18cb366-167e-11ef-b7c6-005056b0158c"
      }
     ],
     "next": "85979b76-1679-11ef-b7c6-005056b0158c-1-4927",
     "previous": "f18cb366-167e-11ef-b7c6-005056b0158c-1-da74"
    },
    "lc_wrapper": {
     "log_history": [
      "/notebooks/notebook/yamaguchi-hub/handon001/.log/20240520/20240520-164544-0240.log",
      "/notebooks/notebook/yamaguchi-hub/handon001/.log/20240520/20240520-170018-0636.log"
     ]
    }
   },
   "outputs": [],
   "source": [
    "print('MoodleのURL:', f'https://{jupyterhub_fqdn}/moodle')\n",
    "print(f'ログイン情報: id=admin password={moodle_admin_password}')\n",
    "print('Tool URL:', f'https://{jupyterhub_fqdn}/')\n",
    "print('Initiate login URL:', f'https://{jupyterhub_fqdn}/hub/lti13/oauth_login')\n",
    "print('Redirection URI(s):', f'https://{jupyterhub_fqdn}/hub/lti13/oauth_callback')\n",
    "\n",
    "if not 'get_course_member_method' in globals() or not get_course_member_method == 'moodle_api':\n",
    "    res = !ansible {target_hub} -a \\\n",
    "        'cat  {{{{jupyterhub_dir}}}}/jupyterhub/public_key_nrps.pem'\n",
    "    print('Public key:')\n",
    "    print('\\n'.join(res[1:]))"
   ]
  },
  {
   "cell_type": "markdown",
   "metadata": {
    "lc_cell_meme": {
     "current": "85979b76-1679-11ef-b7c6-005056b0158c-1-4927",
     "history": [
      {
       "current": "85979b76-1679-11ef-b7c6-005056b0158c",
       "next": "4c3d8e9e-1679-11ef-b7c6-005056b0158c",
       "previous": "4c3d87aa-1679-11ef-b7c6-005056b0158c"
      },
      {
       "current": "85979b76-1679-11ef-b7c6-005056b0158c",
       "next": "4c3d8e9e-1679-11ef-b7c6-005056b0158c",
       "previous": "7a7bf0de-1421-11ef-b7c6-005056b0158c-2-3238-a356"
      },
      {
       "current": "85979b76-1679-11ef-b7c6-005056b0158c-1-4927",
       "next": "4c3d8e9e-1679-11ef-b7c6-005056b0158c",
       "previous": "e053e3c8-167c-11ef-b7c6-005056b0158c"
      }
     ],
     "next": "4c3d8e9e-1679-11ef-b7c6-005056b0158c-1-4e4b",
     "previous": "e053e3c8-167c-11ef-b7c6-005056b0158c-1-e599"
    }
   },
   "source": [
    "### パラメータ指定  \n",
    "Moodleで設定した外部ツール情報を確認し、以下の項目を設定する。"
   ]
  },
  {
   "cell_type": "code",
   "execution_count": null,
   "metadata": {
    "lc_cell_meme": {
     "current": "4c3d8e9e-1679-11ef-b7c6-005056b0158c-1-4e4b",
     "history": [
      {
       "current": "4c3d8e9e-1679-11ef-b7c6-005056b0158c",
       "next": null,
       "previous": "4c3d87aa-1679-11ef-b7c6-005056b0158c"
      },
      {
       "current": "4c3d8e9e-1679-11ef-b7c6-005056b0158c-1-4e4b",
       "next": "85979e6e-1679-11ef-b7c6-005056b0158c",
       "previous": "85979b76-1679-11ef-b7c6-005056b0158c"
      }
     ],
     "next": "85979e6e-1679-11ef-b7c6-005056b0158c-1-09a4",
     "previous": "85979b76-1679-11ef-b7c6-005056b0158c-1-4927"
    },
    "lc_wrapper": {
     "log_history": [
      "/notebooks/notebook/yamaguchi-hub/handon001/.log/20240520/20240520-164721-0168.log"
     ]
    }
   },
   "outputs": [],
   "source": [
    "# lti1.3認証連携情報(moodle等)\n",
    "# lms プラットフォームID (例) 'www.sample.org'\n",
    "lms_platform_id = \n",
    "\n",
    "# lms クライアントID \n",
    "lms_cliend_id = "
   ]
  },
  {
   "cell_type": "markdown",
   "metadata": {
    "heading_collapsed": true,
    "lc_cell_meme": {
     "current": "85979e6e-1679-11ef-b7c6-005056b0158c-1-09a4",
     "history": [
      {
       "current": "85979e6e-1679-11ef-b7c6-005056b0158c-1-09a4",
       "next": "85979f2c-1679-11ef-b7c6-005056b0158c",
       "previous": "4c3d8e9e-1679-11ef-b7c6-005056b0158c"
      }
     ],
     "next": "85979f2c-1679-11ef-b7c6-005056b0158c-1-f5b6",
     "previous": "4c3d8e9e-1679-11ef-b7c6-005056b0158c-1-4e4b"
    }
   },
   "source": [
    "### 設定  \n",
    "以下まとめ実行する"
   ]
  },
  {
   "cell_type": "code",
   "execution_count": null,
   "metadata": {
    "hidden": true,
    "lc_cell_meme": {
     "current": "85979f2c-1679-11ef-b7c6-005056b0158c-1-f5b6",
     "history": [
      {
       "current": "85979f2c-1679-11ef-b7c6-005056b0158c",
       "next": null,
       "previous": "85979e6e-1679-11ef-b7c6-005056b0158c"
      },
      {
       "current": "85979f2c-1679-11ef-b7c6-005056b0158c",
       "next": "ce0c4230-1679-11ef-b7c6-005056b0158c",
       "previous": "85979e6e-1679-11ef-b7c6-005056b0158c"
      },
      {
       "current": "85979f2c-1679-11ef-b7c6-005056b0158c",
       "next": "6f61dd4a-167d-11ef-b7c6-005056b0158c",
       "previous": "85979e6e-1679-11ef-b7c6-005056b0158c"
      },
      {
       "current": "85979f2c-1679-11ef-b7c6-005056b0158c-1-f5b6",
       "next": "d5015a9e-167e-11ef-b7c6-005056b0158c",
       "previous": "85979e6e-1679-11ef-b7c6-005056b0158c"
      }
     ],
     "next": "d5015a9e-167e-11ef-b7c6-005056b0158c-1-1c47",
     "previous": "85979e6e-1679-11ef-b7c6-005056b0158c-1-09a4"
    },
    "lc_wrapper": {
     "log_history": [
      "/notebooks/notebook/yamaguchi-hub/handon001/.log/20240520/20240520-164734-0816.log"
     ]
    }
   },
   "outputs": [],
   "source": [
    "import os\n",
    "%run scripts/group.py\n",
    "update_group_vars(\n",
    "    ugroup_name,\n",
    "    lms_platform_id=lms_platform_id,\n",
    "    lms_cliend_id=lms_cliend_id,\n",
    ")"
   ]
  },
  {
   "cell_type": "code",
   "execution_count": null,
   "metadata": {
    "hidden": true,
    "lc_cell_meme": {
     "current": "d5015a9e-167e-11ef-b7c6-005056b0158c-1-1c47",
     "history": [
      {
       "current": "d5015a9e-167e-11ef-b7c6-005056b0158c-1-1c47",
       "next": "ce0c4230-1679-11ef-b7c6-005056b0158c",
       "previous": "85979f2c-1679-11ef-b7c6-005056b0158c"
      }
     ],
     "next": "ce0c4230-1679-11ef-b7c6-005056b0158c-1-b396",
     "previous": "85979f2c-1679-11ef-b7c6-005056b0158c-1-f5b6"
    },
    "lc_wrapper": {
     "log_history": [
      "/notebooks/notebook/yamaguchi-hub/handon001/.log/20240520/20240520-165905-0618.log"
     ]
    }
   },
   "outputs": [],
   "source": [
    "!ansible {target_hub} -Dv -m template \\\n",
    "    -a 'src=template/jupyterhub/docker-compose.yml dest={{{{base_dir}}}}/jupyterhub backup=yes'"
   ]
  },
  {
   "cell_type": "code",
   "execution_count": null,
   "metadata": {
    "hidden": true,
    "lc_cell_meme": {
     "current": "ce0c4230-1679-11ef-b7c6-005056b0158c-1-b396",
     "history": [
      {
       "current": "ce0c4230-1679-11ef-b7c6-005056b0158c",
       "next": null,
       "previous": "85979f2c-1679-11ef-b7c6-005056b0158c"
      },
      {
       "current": "ce0c4230-1679-11ef-b7c6-005056b0158c",
       "next": "6f61df84-167d-11ef-b7c6-005056b0158c",
       "previous": "6f61dd4a-167d-11ef-b7c6-005056b0158c"
      },
      {
       "current": "ce0c4230-1679-11ef-b7c6-005056b0158c-1-b396",
       "next": "6f61e04c-167d-11ef-b7c6-005056b0158c",
       "previous": "d5015a9e-167e-11ef-b7c6-005056b0158c"
      }
     ],
     "next": "6f61e04c-167d-11ef-b7c6-005056b0158c-1-169c",
     "previous": "d5015a9e-167e-11ef-b7c6-005056b0158c-1-1c47"
    },
    "lc_wrapper": {
     "log_history": [
      "/notebooks/notebook/yamaguchi-hub/handon001/.log/20240520/20240520-164828-0694.log",
      "/notebooks/notebook/yamaguchi-hub/handon001/.log/20240520/20240520-165041-0091.log",
      "/notebooks/notebook/yamaguchi-hub/handon001/.log/20240520/20240520-165209-0981.log",
      "/notebooks/notebook/yamaguchi-hub/handon001/.log/20240520/20240520-165325-0134.log"
     ]
    }
   },
   "outputs": [],
   "source": [
    "!ansible {target_hub} -a 'docker service update --env-add LMS_PLATFORM_ID={lms_platform_id} {ugroup_name}_jupyterhub'\n",
    "!ansible {target_hub} -a 'docker service update --env-add LMS_CLIENT_ID={lms_cliend_id} {ugroup_name}_jupyterhub'"
   ]
  },
  {
   "cell_type": "code",
   "execution_count": null,
   "metadata": {
    "hidden": true,
    "lc_cell_meme": {
     "current": "6f61e04c-167d-11ef-b7c6-005056b0158c-1-169c",
     "history": [
      {
       "current": "6f61e04c-167d-11ef-b7c6-005056b0158c",
       "next": null,
       "previous": "6f61df84-167d-11ef-b7c6-005056b0158c"
      },
      {
       "current": "6f61e04c-167d-11ef-b7c6-005056b0158c-1-169c",
       "next": null,
       "previous": "ce0c4230-1679-11ef-b7c6-005056b0158c"
      }
     ],
     "next": null,
     "previous": "ce0c4230-1679-11ef-b7c6-005056b0158c-1-b396"
    }
   },
   "outputs": [],
   "source": []
  }
 ],
 "metadata": {
  "kernelspec": {
   "display_name": "Python 3",
   "language": "python",
   "name": "python3"
  },
  "language_info": {
   "file_extension": ".py",
   "mimetype": "text/x-python",
   "name": "python",
   "nbconvert_exporter": "python",
   "pygments_lexer": "ipython3",
   "version": "3.10.4"
  },
  "lc_notebook_meme": {
   "current": "88934186-2bba-11ee-987e-0242ac110002",
   "lc_server_signature": {
    "current": {
     "notebook_dir": "/notebooks/notebook",
     "notebook_path": "/yamaguchi-hub/notebooks",
     "server_url": "http://163.220.177.100:8888/jupyter/",
     "signature_id": "0ef7ae06-ca2b-11ee-9b69-005056b0158c"
    },
    "history": [
     {
      "notebook_dir": "/notebooks/notebook",
      "notebook_path": "/work_terayama/yjupyterhub/work",
      "server_url": "https://vcc1045.vcp-handson.org/jupyter/",
      "signature_id": "d34ea786-a99f-11ec-a8e6-0242ac110002"
     },
     {
      "notebook_dir": "/notebooks/notebook",
      "notebook_path": "/work_terayama/YamaguchiHub/notebooks",
      "server_url": "https://vcc1045.vcp-handson.org/jupyter/",
      "signature_id": "d34ea786-a99f-11ec-a8e6-0242ac110002"
     },
     {
      "notebook_dir": "/notebooks/notebook",
      "notebook_path": "/work_terayama/yamaguchi-hub/notebooks",
      "server_url": "https://vcc1045.vcp-handson.org/jupyter3/",
      "signature_id": "3c8e5600-416c-11ee-819d-0242ac110002"
     },
     {
      "notebook_dir": "/notebooks/notebook",
      "notebook_path": "/yamaguchi-hub/notebooks",
      "server_url": "http://163.220.177.100:8888/jupyter/",
      "signature_id": "0ef7ae06-ca2b-11ee-9b69-005056b0158c"
     },
     {
      "notebook_dir": "/notebooks/notebook",
      "notebook_path": "/yamaguchi-hub/work",
      "server_url": "http://163.220.177.100:8888/jupyter/",
      "signature_id": "0ef7ae06-ca2b-11ee-9b69-005056b0158c"
     },
     {
      "notebook_dir": "/notebooks/notebook",
      "notebook_path": "/yamaguchi-hub/notebooks",
      "server_url": "http://163.220.177.100:8888/jupyter/",
      "signature_id": "0ef7ae06-ca2b-11ee-9b69-005056b0158c"
     },
     {
      "notebook_dir": "/notebooks/notebook",
      "notebook_path": "/yamaguchi-hub/handon001",
      "server_url": "http://163.220.177.100:8888/jupyter/",
      "signature_id": "0ef7ae06-ca2b-11ee-9b69-005056b0158c"
     }
    ]
   }
  },
  "toc": {
   "base_numbering": 1,
   "nav_menu": {},
   "number_sections": true,
   "sideBar": true,
   "skip_h1_title": true,
   "title_cell": "Table of Contents",
   "title_sidebar": "Contents",
   "toc_cell": false,
   "toc_position": {
    "height": "calc(100% - 180px)",
    "left": "10px",
    "top": "150px",
    "width": "285.293px"
   },
   "toc_section_display": true,
   "toc_window_display": true
  }
 },
 "nbformat": 4,
 "nbformat_minor": 2
}
