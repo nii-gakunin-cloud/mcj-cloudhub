{
  "cells": [
    {
      "cell_type": "markdown",
      "metadata": {
        "lc_cell_meme": {
          "current": "8893444c-2bba-11ee-987e-0242ac110002-2-73c3-2380",
          "next": "88934546-2bba-11ee-987e-0242ac110002-2-a666-8fd2",
          "previous": null
        }
      },
      "source": [
        "# VCノードの作成\n",
        "\n",
        "---\n",
        "\n",
        "Jupyterhubを構築するためノードをVCP SDKを用いて作成します。"
      ]
    },
    {
      "cell_type": "markdown",
      "metadata": {
        "lc_cell_meme": {
          "current": "88934546-2bba-11ee-987e-0242ac110002-2-a666-8fd2",
          "next": "2f4ca2d4-7f93-11ee-880b-0242ac110002",
          "previous": "8893444c-2bba-11ee-987e-0242ac110002-2-73c3-2380"
        }
      },
      "source": [
        "## はじめに\n",
        "\n",
        "このNotebookではJupyterHub環境を構築するためのノード作成を行います。managerノードにNFSサーバを配置する構成とします。  \n",
        "本ノートブックで構築する部分を以下に図示します。"
      ]
    },
    {
      "cell_type": "markdown",
      "metadata": {
        "lc_cell_meme": {
          "current": "2f4ca2d4-7f93-11ee-880b-0242ac110002",
          "next": "889345fa-2bba-11ee-987e-0242ac110002-2-e245-06fb",
          "previous": "88934546-2bba-11ee-987e-0242ac110002-2-a666-8fd2"
        }
      },
      "source": [
        "![モジュール構成](images/011/arch-011.png)"
      ]
    },
    {
      "cell_type": "markdown",
      "metadata": {
        "lc_cell_meme": {
          "current": "889345fa-2bba-11ee-987e-0242ac110002-2-e245-06fb",
          "next": "889347d0-2bba-11ee-987e-0242ac110002-2-36a8-5bc4",
          "previous": "2f4ca2d4-7f93-11ee-880b-0242ac110002"
        }
      },
      "source": [
        "### ノード構成\n",
        "\n",
        "\n",
        "作成するノードはJupyterHub, PostgreSQLなどのコンテナを実行する managerノードと、single-user Jupyter notebook serverを実行する worker ノードから構成されます。"
      ]
    },
    {
      "cell_type": "markdown",
      "metadata": {
        "lc_cell_meme": {
          "current": "889347d0-2bba-11ee-987e-0242ac110002-2-36a8-5bc4",
          "next": "88934898-2bba-11ee-987e-0242ac110002-2-2733-ecb1",
          "previous": "889345fa-2bba-11ee-987e-0242ac110002-2-e245-06fb"
        }
      },
      "source": [
        "JupyterHubではNotebookなどの資材をノード間で共有するためにNFSを利用します。このNotebookで構築するノード構成ではmanagerノードにNFSサーバの機能をもたせます。"
      ]
    },
    {
      "cell_type": "markdown",
      "metadata": {
        "lc_cell_meme": {
          "current": "88934898-2bba-11ee-987e-0242ac110002-2-2733-ecb1",
          "next": "88934942-2bba-11ee-987e-0242ac110002-2-cd34-2de4",
          "previous": "889347d0-2bba-11ee-987e-0242ac110002-2-36a8-5bc4"
        }
      },
      "source": [
        "### 事前に用意が必要となるものについて\n",
        "\n",
        "このNotebookを実行するにあたって、あらかじめ準備が必要となるものについて以下に記します。\n",
        "\n",
        "* VCCアクセストークン\n",
        "* SSH公開鍵ペア\n",
        "* VCノードに割り当てるアドレス\n",
        "* NTPの設定"
      ]
    },
    {
      "cell_type": "markdown",
      "metadata": {
        "lc_cell_meme": {
          "current": "88934942-2bba-11ee-987e-0242ac110002-2-cd34-2de4",
          "next": "88934a28-2bba-11ee-987e-0242ac110002-2-c102-dba1",
          "previous": "88934898-2bba-11ee-987e-0242ac110002-2-2733-ecb1"
        }
      },
      "source": [
        "####  VCCアクセストークン"
      ]
    },
    {
      "cell_type": "markdown",
      "metadata": {
        "lc_cell_meme": {
          "current": "88934a28-2bba-11ee-987e-0242ac110002-2-c102-dba1",
          "next": "88934ae6-2bba-11ee-987e-0242ac110002-2-bc96-b559",
          "previous": "88934942-2bba-11ee-987e-0242ac110002-2-cd34-2de4"
        }
      },
      "source": [
        "このNotebookではVCP SDKを用いてVCノード(クラウドの計算資源)、VCディスク(クラウドのストレージ)を作成します。VCP SDKを用いてVC Controller(VCC)の操作を行うために VCCアクセストークンが必要となります。\n",
        "\n",
        "VCCアクセストークンがない場合はVC管理者にアクセストークンの発行を依頼してください。"
      ]
    },
    {
      "cell_type": "markdown",
      "metadata": {
        "lc_cell_meme": {
          "current": "88934ae6-2bba-11ee-987e-0242ac110002-2-bc96-b559",
          "next": "88934b90-2bba-11ee-987e-0242ac110002-2-f5c6-51af",
          "previous": "88934a28-2bba-11ee-987e-0242ac110002-2-c102-dba1"
        }
      },
      "source": [
        "#### SSH公開鍵ペア"
      ]
    },
    {
      "cell_type": "markdown",
      "metadata": {
        "lc_cell_meme": {
          "current": "88934b90-2bba-11ee-987e-0242ac110002-2-f5c6-51af",
          "next": "88934c30-2bba-11ee-987e-0242ac110002-2-b8a6-29b9",
          "previous": "88934ae6-2bba-11ee-987e-0242ac110002-2-bc96-b559"
        }
      },
      "source": [
        "作成するVCノードに登録するSSHの公開鍵を用意する必要があります。あらかじめ作成したものをこのNotebook環境内にアップロードするか、この環境内で公開鍵ペアの作成を行ってください。"
      ]
    },
    {
      "cell_type": "markdown",
      "metadata": {
        "lc_cell_meme": {
          "current": "88934c30-2bba-11ee-987e-0242ac110002-2-b8a6-29b9",
          "next": "88934cda-2bba-11ee-987e-0242ac110002-2-1599-c1c8",
          "previous": "88934b90-2bba-11ee-987e-0242ac110002-2-f5c6-51af"
        }
      },
      "source": [
        "#### VCノードに割り当てるアドレス"
      ]
    },
    {
      "cell_type": "markdown",
      "metadata": {
        "lc_cell_meme": {
          "current": "88934cda-2bba-11ee-987e-0242ac110002-2-1599-c1c8",
          "next": "88934d7a-2bba-11ee-987e-0242ac110002-2-8950-9462",
          "previous": "88934c30-2bba-11ee-987e-0242ac110002-2-b8a6-29b9"
        }
      },
      "source": [
        "VCノードのネットワークインターフェースに割り当てるアドレスを用意してください。VCノードにはIPアドレス、またはMACアドレスを割り当てることができます。"
      ]
    },
    {
      "cell_type": "markdown",
      "metadata": {
        "lc_cell_meme": {
          "current": "88934e1a-2bba-11ee-987e-0242ac110002-2-a06e-acd5",
          "next": "88934ec4-2bba-11ee-987e-0242ac110002-2-cf2c-e63a",
          "previous": "88934d7a-2bba-11ee-987e-0242ac110002-2-8950-9462"
        }
      },
      "source": [
        "MACアドレスを割り当てる場合は、作成する全てのVCノード数に対応するMACアドレスを指定する必要があります。"
      ]
    },
    {
      "cell_type": "markdown",
      "metadata": {
        "lc_cell_meme": {
          "current": "88934ec4-2bba-11ee-987e-0242ac110002-2-cf2c-e63a",
          "next": "88934f64-2bba-11ee-987e-0242ac110002-2-23ca-6479",
          "previous": "88934e1a-2bba-11ee-987e-0242ac110002-2-a06e-acd5"
        }
      },
      "source": [
        "#### NTPの設定\n"
      ]
    },
    {
      "cell_type": "markdown",
      "metadata": {
        "lc_cell_meme": {
          "current": "88934f64-2bba-11ee-987e-0242ac110002-2-23ca-6479",
          "next": "88935004-2bba-11ee-987e-0242ac110002-2-a409-a7d5",
          "previous": "88934ec4-2bba-11ee-987e-0242ac110002-2-cf2c-e63a"
        }
      },
      "source": [
        "IdPと連携して認証を行う場合は時刻が正しく設定されていないと正しく動作しないことがあります。時刻合わせを行うためにVCノードのNTPを設定するには事前にVCコントローラへの設定が必要となります。\n",
        "VCPのリリースノート「[Release/20.10.0 -- 2.機能追加](https://meatwiki.nii.ac.jp/confluence/pages/viewpage.action?pageId=32677360#id-%E3%83%AA%E3%83%AA%E3%83%BC%E3%82%B9%E3%83%8E%E3%83%BC%E3%83%88-Release/20.10.0(2020/10/30))」に記されているように、OCS運用担当者にVCコントローラへのNTP設定を依頼してください。"
      ]
    },
    {
      "cell_type": "markdown",
      "metadata": {
        "lc_cell_meme": {
          "current": "88935004-2bba-11ee-987e-0242ac110002-2-a409-a7d5",
          "next": "889350ae-2bba-11ee-987e-0242ac110002-2-5c65-ee2e",
          "previous": "88934f64-2bba-11ee-987e-0242ac110002-2-23ca-6479"
        }
      },
      "source": [
        "## VCノードに関するパラメータ\n",
        "\n",
        "JupyterHubの構築環境となるVCノードに関するパラメータを指定します。"
      ]
    },
    {
      "cell_type": "markdown",
      "metadata": {
        "lc_cell_meme": {
          "current": "889350ae-2bba-11ee-987e-0242ac110002-2-5c65-ee2e",
          "next": "8893514e-2bba-11ee-987e-0242ac110002-2-31a8-f6d3",
          "previous": "88935004-2bba-11ee-987e-0242ac110002-2-a409-a7d5"
        }
      },
      "source": [
        "### VCCアクセストークンの入力"
      ]
    },
    {
      "cell_type": "markdown",
      "metadata": {
        "lc_cell_meme": {
          "current": "8893514e-2bba-11ee-987e-0242ac110002-2-31a8-f6d3",
          "next": "889351ee-2bba-11ee-987e-0242ac110002-2-b12c-710e",
          "previous": "889350ae-2bba-11ee-987e-0242ac110002-2-5c65-ee2e"
        }
      },
      "source": [
        "VCノードを起動するにはVC Controller(VCC)にアクセスして、操作を行う必要があります。VCCにアクセスするために必要となるアクセストークンをここで入力します。"
      ]
    },
    {
      "cell_type": "markdown",
      "metadata": {
        "lc_cell_meme": {
          "current": "889351ee-2bba-11ee-987e-0242ac110002-2-b12c-710e",
          "next": "88935298-2bba-11ee-987e-0242ac110002-2-5a43-6045",
          "previous": "8893514e-2bba-11ee-987e-0242ac110002-2-31a8-f6d3"
        }
      },
      "source": [
        "次のセルを実行すると入力枠が表示されるのでアクセストークンの値を入力してください。\n",
        "\n",
        "> アクセストークン入力後に Enter キーを押すことで入力が完了します。"
      ]
    },
    {
      "cell_type": "code",
      "execution_count": null,
      "metadata": {
        "lc_cell_meme": {
          "current": "88935298-2bba-11ee-987e-0242ac110002-2-5a43-6045",
          "next": "88935338-2bba-11ee-987e-0242ac110002-2-7217-4801",
          "previous": "889351ee-2bba-11ee-987e-0242ac110002-2-b12c-710e"
        },
        "tags": [
          "vcp:skip",
          "vcp:parameters"
        ]
      },
      "outputs": [],
      "source": [
        "from getpass import getpass\n",
        "vcc_access_token = getpass()"
      ]
    },
    {
      "cell_type": "markdown",
      "metadata": {
        "lc_cell_meme": {
          "current": "88935338-2bba-11ee-987e-0242ac110002-2-7217-4801",
          "next": "889353d8-2bba-11ee-987e-0242ac110002-2-f369-9549",
          "previous": "88935298-2bba-11ee-987e-0242ac110002-2-5a43-6045"
        }
      },
      "source": [
        "入力されたアクセストークンが正しいことを、実際にVCCにアクセスして確認します。"
      ]
    },
    {
      "cell_type": "code",
      "execution_count": null,
      "metadata": {
        "lc_cell_meme": {
          "current": "889353d8-2bba-11ee-987e-0242ac110002-2-f369-9549",
          "next": "88935482-2bba-11ee-987e-0242ac110002-2-7ba8-eed7",
          "previous": "88935338-2bba-11ee-987e-0242ac110002-2-7217-4801"
        },
        "tags": [
          "vcp:rewrite:vcpsdk"
        ]
      },
      "outputs": [],
      "source": [
        "from common import logsetting\n",
        "from vcpsdk.vcpsdk import VcpSDK\n",
        "\n",
        "vcp = VcpSDK(vcc_access_token)"
      ]
    },
    {
      "cell_type": "markdown",
      "metadata": {
        "lc_cell_meme": {
          "current": "88935482-2bba-11ee-987e-0242ac110002-2-7ba8-eed7",
          "next": "8893552c-2bba-11ee-987e-0242ac110002-2-704e-be0d",
          "previous": "889353d8-2bba-11ee-987e-0242ac110002-2-f369-9549"
        }
      },
      "source": [
        "上のセルの実行結果がエラーとなり以下のようなメッセージが表示されている場合は、入力されたアクセストークンに誤りがあります。\n",
        "\n",
        "```\n",
        "ERROR - config vc failed: http_status(403)\n",
        "ERROR - 2021/XX/XX XX:XX:XX UTC: VCPAuthException: xxxxxxx:token lookup is failed: permission denied\n",
        "```\n",
        "\n",
        "エラーになった場合はこの節のセルを全て `unfreeze` してから、もう一度アクセストークンの入力を行ってください。"
      ]
    },
    {
      "cell_type": "markdown",
      "metadata": {
        "lc_cell_meme": {
          "current": "8893552c-2bba-11ee-987e-0242ac110002-2-704e-be0d",
          "next": "889355d6-2bba-11ee-987e-0242ac110002-2-d402-56b2",
          "previous": "88935482-2bba-11ee-987e-0242ac110002-2-7ba8-eed7"
        }
      },
      "source": [
        "### UnitGroup名の指定"
      ]
    },
    {
      "cell_type": "markdown",
      "metadata": {
        "lc_cell_meme": {
          "current": "889355d6-2bba-11ee-987e-0242ac110002-2-d402-56b2",
          "next": "88935680-2bba-11ee-987e-0242ac110002-2-7a86-c5a5",
          "previous": "8893552c-2bba-11ee-987e-0242ac110002-2-704e-be0d"
        }
      },
      "source": [
        "VCPの構成要素は以下のようになっています。\n",
        "\n",
        "* VCノード\n",
        "  - クラウドにおける計算資源(VM/BM)\n",
        "  - 例えば Amazon EC2インスタンス, Microsoft Azure VM など\n",
        "* Unit\n",
        "  - 同質のVCノードにより構成されている要素\n",
        "  - 同じUnitに属するVCノードはCPU,メモリ等の計算資源が全て同じ設定になっている\n",
        "* UnitGroup\n",
        "  - 複数のUnitにより構成されている要素\n",
        "  - 使用目的、ライフサイクルなどに合わせて、複数のUnitをまとめて扱うための要素"
      ]
    },
    {
      "cell_type": "markdown",
      "metadata": {
        "lc_cell_meme": {
          "current": "88935680-2bba-11ee-987e-0242ac110002-2-7a86-c5a5",
          "next": "88935720-2bba-11ee-987e-0242ac110002-2-6bc0-34a5",
          "previous": "889355d6-2bba-11ee-987e-0242ac110002-2-d402-56b2"
        }
      },
      "source": [
        "このNotebookではノードの役割に応じた2つのユニットを作成します。\n",
        "* managerユニット\n",
        "  - JupyterHub, auth-proxy, PostgreSQLコンテナを実行するノード\n",
        "  - NFSサーバを実行する\n",
        "  - Docker Swarmのmanagerノード\n",
        "* workerユニット\n",
        "  - JupyterHubのsingle-user Jupyter Notebook server コンテナを実行するノード\n",
        "  - Docker Swarm の workerノード"
      ]
    },
    {
      "cell_type": "markdown",
      "metadata": {
        "lc_cell_meme": {
          "current": "88935720-2bba-11ee-987e-0242ac110002-2-6bc0-34a5",
          "next": "889357ca-2bba-11ee-987e-0242ac110002-2-a992-eea2",
          "previous": "88935680-2bba-11ee-987e-0242ac110002-2-7a86-c5a5"
        }
      },
      "source": [
        "2つのユニットをまとめて扱うためのUnitGroupの名前を指定します。既存のUnitGroup名を確認するために現在のUnitGroup一覧を表示します。次のセルを実行し`vcname`に表示されている名前が既存のUnitGroup名となります。"
      ]
    },
    {
      "cell_type": "code",
      "execution_count": null,
      "metadata": {
        "lc_cell_meme": {
          "current": "889357ca-2bba-11ee-987e-0242ac110002-2-a992-eea2",
          "next": "8893586a-2bba-11ee-987e-0242ac110002-2-3b26-e302",
          "previous": "88935720-2bba-11ee-987e-0242ac110002-2-6bc0-34a5"
        }
      },
      "outputs": [],
      "source": [
        "vcp.df_ugroups()"
      ]
    },
    {
      "cell_type": "markdown",
      "metadata": {
        "lc_cell_meme": {
          "current": "8893586a-2bba-11ee-987e-0242ac110002-2-3b26-e302",
          "next": "8893590a-2bba-11ee-987e-0242ac110002-2-7e71-794d",
          "previous": "889357ca-2bba-11ee-987e-0242ac110002-2-a992-eea2"
        }
      },
      "source": [
        "このNotebookで作成するUnitGroup名を指定してください。上記の一覧に表示されている名前との重複を避けて下さい。またJupyterHubのUnitGroup名には英数字のみの値を指定してください（先頭文字に数字は指定できない）。"
      ]
    },
    {
      "cell_type": "code",
      "execution_count": null,
      "metadata": {
        "lc_cell_meme": {
          "current": "8893590a-2bba-11ee-987e-0242ac110002-2-7e71-794d",
          "next": "889359b4-2bba-11ee-987e-0242ac110002-2-66a0-cd3d",
          "previous": "8893586a-2bba-11ee-987e-0242ac110002-2-3b26-e302"
        },
        "tags": [
          "vcp:parameters"
        ]
      },
      "outputs": [],
      "source": [
        "# (例)\n",
        "# ugroup_name = 'JupyterHub'\n",
        "\n",
        "ugroup_name = "
      ]
    },
    {
      "cell_type": "markdown",
      "metadata": {
        "lc_cell_meme": {
          "current": "889359b4-2bba-11ee-987e-0242ac110002-2-66a0-cd3d",
          "next": "88935a54-2bba-11ee-987e-0242ac110002-2-07cf-1079",
          "previous": "8893590a-2bba-11ee-987e-0242ac110002-2-7e71-794d"
        }
      },
      "source": [
        "### クラウドプロバイダの指定\n",
        "\n",
        "VCノードを起動するプロバイダを選択します。"
      ]
    },
    {
      "cell_type": "code",
      "execution_count": null,
      "metadata": {
        "lc_cell_meme": {
          "current": "88935a54-2bba-11ee-987e-0242ac110002-2-07cf-1079",
          "next": "88935afe-2bba-11ee-987e-0242ac110002-2-eeab-8899",
          "previous": "889359b4-2bba-11ee-987e-0242ac110002-2-66a0-cd3d"
        },
        "tags": [
          "vcp:parameters"
        ]
      },
      "outputs": [],
      "source": [
        "# (例)\n",
        "# vc_provider = 'aws'\n",
        "# vc_provider = 'azure'\n",
        "# vc_provider = 'onpremises' # オンプレミスに構築する場合\n",
        "\n",
        "vc_provider = "
      ]
    },
    {
      "cell_type": "markdown",
      "metadata": {
        "lc_cell_meme": {
          "current": "88935afe-2bba-11ee-987e-0242ac110002-2-eeab-8899",
          "next": "88935b9e-2bba-11ee-987e-0242ac110002-2-2a2c-9e6d",
          "previous": "88935a54-2bba-11ee-987e-0242ac110002-2-07cf-1079"
        }
      },
      "source": [
        "### VCノードに割り当てるリソース量の指定\n",
        "\n",
        "VCノードに割り当てるリソース量を指定します。managerノードとworkerノードでは役割が異なるため、それぞれについて指定を行います。"
      ]
    },
    {
      "cell_type": "markdown",
      "metadata": {
        "lc_cell_meme": {
          "current": "88935b9e-2bba-11ee-987e-0242ac110002-2-2a2c-9e6d",
          "next": "88935c52-2bba-11ee-987e-0242ac110002-2-6d78-a251",
          "previous": "88935afe-2bba-11ee-987e-0242ac110002-2-eeab-8899"
        }
      },
      "source": [
        "#### managerノード\n",
        "\n",
        "managerノードに割り当てるリソース量を指定します。managerノードではJupyterHub, auth-proxy, PostgreSQLコンテナなどを実行します。"
      ]
    },
    {
      "cell_type": "markdown",
      "metadata": {
        "lc_cell_meme": {
          "current": "88935c52-2bba-11ee-987e-0242ac110002-2-6d78-a251",
          "next": "88935cfc-2bba-11ee-987e-0242ac110002-2-f95d-ab5d",
          "previous": "88935b9e-2bba-11ee-987e-0242ac110002-2-2a2c-9e6d"
        }
      },
      "source": [
        "##### managerノードのflavor指定\n",
        "\n",
        "個々のリソース量を毎回指定するのは煩雑となるので、VCP SDKでは典型的な構成のパラメータセットを事前に定義しています。事前に定義したパラメータセットのことをVCP SDKでは`flavor`と呼んでいます。"
      ]
    },
    {
      "cell_type": "markdown",
      "metadata": {
        "lc_cell_meme": {
          "current": "88935cfc-2bba-11ee-987e-0242ac110002-2-f95d-ab5d",
          "next": "88935da6-2bba-11ee-987e-0242ac110002-2-96ca-e236",
          "previous": "88935c52-2bba-11ee-987e-0242ac110002-2-6d78-a251"
        }
      },
      "source": [
        "リソース量を指定するためのオブジェクト`spec`に設定できるパラメータはクラウドプロバイダ毎に異なるので `flavor`もプロバイダ毎に定義されています。次のセルを実行すると `vc_provider` に設定したプロバイダに対応する `flavor` の一覧が表示されます。"
      ]
    },
    {
      "cell_type": "code",
      "execution_count": null,
      "metadata": {
        "lc_cell_meme": {
          "current": "88935da6-2bba-11ee-987e-0242ac110002-2-96ca-e236",
          "next": "88935e46-2bba-11ee-987e-0242ac110002-2-3e2b-5851",
          "previous": "88935cfc-2bba-11ee-987e-0242ac110002-2-f95d-ab5d"
        },
        "scrolled": true
      },
      "outputs": [],
      "source": [
        "vcp.df_flavors(vc_provider)"
      ]
    },
    {
      "cell_type": "markdown",
      "metadata": {
        "lc_cell_meme": {
          "current": "88935e46-2bba-11ee-987e-0242ac110002-2-3e2b-5851",
          "next": "88935ee6-2bba-11ee-987e-0242ac110002-2-6575-816c",
          "previous": "88935da6-2bba-11ee-987e-0242ac110002-2-96ca-e236"
        }
      },
      "source": [
        "表示された `flavor` の値から一つを選択して、次のセルに指定してください。"
      ]
    },
    {
      "cell_type": "code",
      "execution_count": null,
      "metadata": {
        "lc_cell_meme": {
          "current": "88935ee6-2bba-11ee-987e-0242ac110002-2-6575-816c",
          "next": "88935f90-2bba-11ee-987e-0242ac110002-2-2ade-cb7f",
          "previous": "88935e46-2bba-11ee-987e-0242ac110002-2-3e2b-5851"
        },
        "tags": [
          "vcp:skip",
          "vcp:parameters"
        ]
      },
      "outputs": [],
      "source": [
        "# (例)\n",
        "# manager_flavor = 'small'\n",
        "# manager_flavor = 'default' # オンプレミスに構築する場合、defaultを指定する\n",
        "\n",
        "manager_flavor = "
      ]
    },
    {
      "cell_type": "markdown",
      "metadata": {
        "lc_cell_meme": {
          "current": "88935f90-2bba-11ee-987e-0242ac110002-2-2ade-cb7f",
          "next": "8893603a-2bba-11ee-987e-0242ac110002-2-44f7-cd01",
          "previous": "88935ee6-2bba-11ee-987e-0242ac110002-2-6575-816c"
        }
      },
      "source": [
        "##### managerノードのルートボリュームサイズ\n",
        "\n",
        "managerノードに割り当てるディスクサイズを指定します。"
      ]
    },
    {
      "cell_type": "markdown",
      "metadata": {
        "lc_cell_meme": {
          "current": "8893603a-2bba-11ee-987e-0242ac110002-2-44f7-cd01",
          "next": "889360e4-2bba-11ee-987e-0242ac110002-2-610c-9290",
          "previous": "88935f90-2bba-11ee-987e-0242ac110002-2-2ade-cb7f"
        }
      },
      "source": [
        "このNotebookで構成するノード構成では manager ノードがNFSサーバの機能を兼ねることになります。`aws`, `azure`にVCノードを作成する場合は、ルートボリュームとは別にNFS用のディスクを作成しますが、他のクラウドを利用する場合はルートボリュームをNFSにも利用します。その場合はNFSのディスク使用量を考慮してルートボリュームサイズを指定してください。"
      ]
    },
    {
      "cell_type": "markdown",
      "metadata": {
        "lc_cell_meme": {
          "current": "889360e4-2bba-11ee-987e-0242ac110002-2-610c-9290",
          "next": "88936184-2bba-11ee-987e-0242ac110002-2-313f-8f08",
          "previous": "8893603a-2bba-11ee-987e-0242ac110002-2-44f7-cd01"
        }
      },
      "source": [
        "本テンプレートで構築するJupyterHubシステムでは、コンテナイメージとして約2GB、single-user notebook serverコンテナのイメージとして約4GB利用します。また、作成する課題ファイルなども保存するため、`flavor`の指定によってはコンテナを起動する際にディスク容量が不足することがあります。ディスク容量不足にならないよう、ディスクサイズ設定を行ってください。なお、指定する単位は GB です。"
      ]
    },
    {
      "cell_type": "code",
      "execution_count": null,
      "metadata": {
        "lc_cell_meme": {
          "current": "88936184-2bba-11ee-987e-0242ac110002-2-313f-8f08",
          "next": "8893622e-2bba-11ee-987e-0242ac110002-2-4b50-2d3c",
          "previous": "889360e4-2bba-11ee-987e-0242ac110002-2-610c-9290"
        },
        "tags": [
          "vcp:skip",
          "vcp:parameters"
        ]
      },
      "outputs": [],
      "source": [
        "# (例)\n",
        "# manager_disk_size = 16\n",
        "\n",
        "manager_disk_size = "
      ]
    },
    {
      "cell_type": "markdown",
      "metadata": {
        "lc_cell_meme": {
          "current": "8893622e-2bba-11ee-987e-0242ac110002-2-4b50-2d3c",
          "next": "889362ce-2bba-11ee-987e-0242ac110002-2-12a1-c89f",
          "previous": "88936184-2bba-11ee-987e-0242ac110002-2-313f-8f08"
        }
      },
      "source": [
        "#### workerノード\n",
        "\n",
        "workerノードに割り当てるリソース量を指定します。workerノードでは各ユーザの利用環境となる single-user Jupyter notebook serverコンテナを実行します。"
      ]
    },
    {
      "cell_type": "markdown",
      "metadata": {
        "lc_cell_meme": {
          "current": "889362ce-2bba-11ee-987e-0242ac110002-2-12a1-c89f",
          "next": "88936382-2bba-11ee-987e-0242ac110002-2-7b0d-d8f0",
          "previous": "8893622e-2bba-11ee-987e-0242ac110002-2-4b50-2d3c"
        }
      },
      "source": [
        "##### workerノードのflavor指定"
      ]
    },
    {
      "cell_type": "markdown",
      "metadata": {
        "lc_cell_meme": {
          "current": "88936382-2bba-11ee-987e-0242ac110002-2-7b0d-d8f0",
          "next": "88936422-2bba-11ee-987e-0242ac110002-2-72e6-b8c1",
          "previous": "889362ce-2bba-11ee-987e-0242ac110002-2-12a1-c89f"
        }
      },
      "source": [
        "workerノードの `flavor` を次のセルに指定してください。"
      ]
    },
    {
      "cell_type": "code",
      "execution_count": null,
      "metadata": {
        "lc_cell_meme": {
          "current": "88936422-2bba-11ee-987e-0242ac110002-2-72e6-b8c1",
          "next": "889364cc-2bba-11ee-987e-0242ac110002-2-4589-a0df",
          "previous": "88936382-2bba-11ee-987e-0242ac110002-2-7b0d-d8f0"
        }
      },
      "outputs": [],
      "source": [
        "# (例)\n",
        "# worker_flavor = 'small'\n",
        "# worker_flavor = 'default' # オンプレミスに構築する場合、defaultを指定する\n",
        "\n",
        "worker_flavor = "
      ]
    },
    {
      "cell_type": "markdown",
      "metadata": {
        "lc_cell_meme": {
          "current": "889364cc-2bba-11ee-987e-0242ac110002-2-4589-a0df",
          "next": "88936576-2bba-11ee-987e-0242ac110002-2-2575-57a9",
          "previous": "88936422-2bba-11ee-987e-0242ac110002-2-72e6-b8c1"
        }
      },
      "source": [
        "##### workerノードのルートボリュームサイズ"
      ]
    },
    {
      "cell_type": "markdown",
      "metadata": {
        "lc_cell_meme": {
          "current": "88936576-2bba-11ee-987e-0242ac110002-2-2575-57a9",
          "next": "88936616-2bba-11ee-987e-0242ac110002-2-f5b5-1b62",
          "previous": "889364cc-2bba-11ee-987e-0242ac110002-2-4589-a0df"
        }
      },
      "source": [
        "workerノードのルートボリュームサイズの指定を行います。managerノード同様、容量不足にならないよう、ディスクサイズを設定してください。"
      ]
    },
    {
      "cell_type": "code",
      "execution_count": null,
      "metadata": {
        "lc_cell_meme": {
          "current": "88936616-2bba-11ee-987e-0242ac110002-2-f5b5-1b62",
          "next": "889366b6-2bba-11ee-987e-0242ac110002-2-ae63-7baa",
          "previous": "88936576-2bba-11ee-987e-0242ac110002-2-2575-57a9"
        }
      },
      "outputs": [],
      "source": [
        "# (例)\n",
        "# worker_disk_size = 16\n",
        "\n",
        "worker_disk_size = "
      ]
    },
    {
      "cell_type": "markdown",
      "metadata": {
        "lc_cell_meme": {
          "current": "889366b6-2bba-11ee-987e-0242ac110002-2-ae63-7baa",
          "next": "88936760-2bba-11ee-987e-0242ac110002-2-801a-5bf0",
          "previous": "88936616-2bba-11ee-987e-0242ac110002-2-f5b5-1b62"
        }
      },
      "source": [
        "##### ノード数の指定\n",
        "\n",
        "作成するworkerノードのノード数を指定してください。"
      ]
    },
    {
      "cell_type": "code",
      "execution_count": null,
      "metadata": {
        "lc_cell_meme": {
          "current": "88936760-2bba-11ee-987e-0242ac110002-2-801a-5bf0",
          "next": "88936800-2bba-11ee-987e-0242ac110002-2-493d-916f",
          "previous": "889366b6-2bba-11ee-987e-0242ac110002-2-ae63-7baa"
        }
      },
      "outputs": [],
      "source": [
        "# (例)\n",
        "# worker_nodes = 3\n",
        "\n",
        "worker_nodes = "
      ]
    },
    {
      "cell_type": "markdown",
      "metadata": {
        "lc_cell_meme": {
          "current": "88936800-2bba-11ee-987e-0242ac110002-2-493d-916f",
          "next": "889368a0-2bba-11ee-987e-0242ac110002-2-30c4-c28a",
          "previous": "88936760-2bba-11ee-987e-0242ac110002-2-801a-5bf0"
        }
      },
      "source": [
        "### アドレスの指定\n",
        "\n",
        "VCノードのネットワークインターフェースに割り当てるアドレスを指定します。"
      ]
    },
    {
      "cell_type": "markdown",
      "metadata": {
        "lc_cell_meme": {
          "current": "889368a0-2bba-11ee-987e-0242ac110002-2-30c4-c28a",
          "next": "8893694a-2bba-11ee-987e-0242ac110002-2-f6a0-987a",
          "previous": "88936800-2bba-11ee-987e-0242ac110002-2-493d-916f"
        }
      },
      "source": [
        "VCノードのネットワークインタフェースに以下のアドレスを割り当てることができます。\n",
        "\n",
        "* IPアドレス\n",
        "* MACアドレス\n",
        "\n",
        "> MACアドレスの指定が可能なのは `vmware` のみ\n",
        "\n",
        "アドレスの指定が必要な場合は以下の設定を行ってください。指定しない場合は、自動的に割り当てられたアドレスを使用します。"
      ]
    },
    {
      "cell_type": "markdown",
      "metadata": {
        "lc_cell_meme": {
          "current": "8893694a-2bba-11ee-987e-0242ac110002-2-f6a0-987a",
          "next": "889369ea-2bba-11ee-987e-0242ac110002-2-0700-7b1e",
          "previous": "889368a0-2bba-11ee-987e-0242ac110002-2-30c4-c28a"
        }
      },
      "source": [
        "#### IPアドレスを指定する場合\n",
        "\n",
        "VCノードにIPアドレスを割り当てる場合はこの節を実行してください。"
      ]
    },
    {
      "cell_type": "markdown",
      "metadata": {
        "lc_cell_meme": {
          "current": "889369ea-2bba-11ee-987e-0242ac110002-2-0700-7b1e",
          "next": "88936a94-2bba-11ee-987e-0242ac110002-2-1acc-c044",
          "previous": "8893694a-2bba-11ee-987e-0242ac110002-2-f6a0-987a"
        }
      },
      "source": [
        "この節を実行しない場合、VCノードには割り当て可能なアドレスが自動的に設定されます。また、managerノード、workerノードのどちらか一方のみを指定することもできます。ただしworkerノードにIPアドレスを指定する場合、全てのworkerノードに対してアドレス指定を行う必要があります。"
      ]
    },
    {
      "cell_type": "markdown",
      "metadata": {
        "lc_cell_meme": {
          "current": "88936a94-2bba-11ee-987e-0242ac110002-2-1acc-c044",
          "next": "88936b3e-2bba-11ee-987e-0242ac110002-2-676a-12b4",
          "previous": "889369ea-2bba-11ee-987e-0242ac110002-2-0700-7b1e"
        }
      },
      "source": [
        "まず指定可能なIPアドレスの範囲を確認します。次のセルを実行するとVCノードに割り当て可能なIPアドレスの範囲が表示されます。"
      ]
    },
    {
      "cell_type": "code",
      "execution_count": null,
      "metadata": {
        "lc_cell_meme": {
          "current": "88936b3e-2bba-11ee-987e-0242ac110002-2-676a-12b4",
          "next": "88936be8-2bba-11ee-987e-0242ac110002-2-764e-d105",
          "previous": "88936a94-2bba-11ee-987e-0242ac110002-2-1acc-c044"
        }
      },
      "outputs": [],
      "source": [
        "print(vcp.get_vpn_catalog(vc_provider).get('private_network_ipmask'))"
      ]
    },
    {
      "cell_type": "markdown",
      "metadata": {
        "lc_cell_meme": {
          "current": "88936be8-2bba-11ee-987e-0242ac110002-2-764e-d105",
          "next": "88936c88-2bba-11ee-987e-0242ac110002-2-2ee9-4379",
          "previous": "88936b3e-2bba-11ee-987e-0242ac110002-2-676a-12b4"
        }
      },
      "source": [
        "次のセルで manager ノードに割り当てるプライベートネットワークのIPアドレスを指定してください。"
      ]
    },
    {
      "cell_type": "code",
      "execution_count": null,
      "metadata": {
        "lc_cell_meme": {
          "current": "88936c88-2bba-11ee-987e-0242ac110002-2-2ee9-4379",
          "next": "88936d28-2bba-11ee-987e-0242ac110002-2-c376-b9c1",
          "previous": "88936be8-2bba-11ee-987e-0242ac110002-2-764e-d105"
        }
      },
      "outputs": [],
      "source": [
        "# (例)\n",
        "# vc_ipaddress = '172.30.2.100'\n",
        "\n",
        "vc_ipaddress = "
      ]
    },
    {
      "cell_type": "markdown",
      "metadata": {
        "lc_cell_meme": {
          "current": "88936d28-2bba-11ee-987e-0242ac110002-2-c376-b9c1",
          "next": "88936dd2-2bba-11ee-987e-0242ac110002-2-aa1f-f448",
          "previous": "88936c88-2bba-11ee-987e-0242ac110002-2-2ee9-4379"
        }
      },
      "source": [
        "次のセルに workerノードに割り当てるプライベートネットワークのIPアドレスを指定してください。指定するアドレス数は前節で指定したworkerノードのノード数と一致している必要があります。"
      ]
    },
    {
      "cell_type": "code",
      "execution_count": null,
      "metadata": {
        "lc_cell_meme": {
          "current": "88936dd2-2bba-11ee-987e-0242ac110002-2-aa1f-f448",
          "next": "88936e72-2bba-11ee-987e-0242ac110002-2-ee95-55bd",
          "previous": "88936d28-2bba-11ee-987e-0242ac110002-2-c376-b9c1"
        }
      },
      "outputs": [],
      "source": [
        "# (例)\n",
        "# worker_ipaddresses = [\n",
        "#     '172.30.2.101',\n",
        "#     '172.30.2.102',\n",
        "#     '172.30.2.103',\n",
        "# ]\n",
        "\n",
        "worker_ipaddresses = [\n",
        "    \n",
        "]"
      ]
    },
    {
      "cell_type": "markdown",
      "metadata": {
        "lc_cell_meme": {
          "current": "88936e72-2bba-11ee-987e-0242ac110002-2-ee95-55bd",
          "next": "88936f12-2bba-11ee-987e-0242ac110002-2-a215-5d23",
          "previous": "88936dd2-2bba-11ee-987e-0242ac110002-2-aa1f-f448"
        }
      },
      "source": [
        "#### MACアドレスを指定する場合\n",
        "\n",
        "`vc_provider` に `vmware` を指定した場合、VCノードにMACアドレスを割り当てることができます。\n",
        "\n",
        "VCノードにMACアドレスを割り当てる場合はこの節を実行してください。\n",
        "\n",
        "VCノードにMACアドレスを割り当てない場合、この節は実行せず、飛ばしてください。"
      ]
    },
    {
      "cell_type": "markdown",
      "metadata": {
        "lc_cell_meme": {
          "current": "88936f12-2bba-11ee-987e-0242ac110002-2-a215-5d23",
          "next": "88936fb2-2bba-11ee-987e-0242ac110002-2-ded2-36ff",
          "previous": "88936e72-2bba-11ee-987e-0242ac110002-2-ee95-55bd"
        }
      },
      "source": [
        "managerノード、workerノードのどちらか一方のみを指定することもできます。ただしworkerノードにMACアドレスを指定する場合、全てのworkerノードに対してアドレス指定を行う必要があります。"
      ]
    },
    {
      "cell_type": "markdown",
      "metadata": {
        "lc_cell_meme": {
          "current": "88936fb2-2bba-11ee-987e-0242ac110002-2-ded2-36ff",
          "next": "88937052-2bba-11ee-987e-0242ac110002-2-6602-1f12",
          "previous": "88936f12-2bba-11ee-987e-0242ac110002-2-a215-5d23"
        }
      },
      "source": [
        "次のセルで manager ノードに割り当てるMACアドレスを指定してください。"
      ]
    },
    {
      "cell_type": "code",
      "execution_count": null,
      "metadata": {
        "lc_cell_meme": {
          "current": "88937052-2bba-11ee-987e-0242ac110002-2-6602-1f12",
          "next": "889370f2-2bba-11ee-987e-0242ac110002-2-44b9-a999",
          "previous": "88936fb2-2bba-11ee-987e-0242ac110002-2-ded2-36ff"
        }
      },
      "outputs": [],
      "source": [
        "# (例)\n",
        "# vc_mac_address = '4a:d1:4d:ab:cf:10'\n",
        "\n",
        "vc_mac_address = "
      ]
    },
    {
      "cell_type": "markdown",
      "metadata": {
        "lc_cell_meme": {
          "current": "889370f2-2bba-11ee-987e-0242ac110002-2-44b9-a999",
          "next": "8893719c-2bba-11ee-987e-0242ac110002-2-a779-ee73",
          "previous": "88937052-2bba-11ee-987e-0242ac110002-2-6602-1f12"
        }
      },
      "source": [
        "次のセルに workerノードに割り当てるMACアドレスを指定してください。指定するアドレス数は作成するworkerノードのノード数と一致している必要があります。"
      ]
    },
    {
      "cell_type": "code",
      "execution_count": null,
      "metadata": {
        "lc_cell_meme": {
          "current": "8893719c-2bba-11ee-987e-0242ac110002-2-a779-ee73",
          "next": "8893723c-2bba-11ee-987e-0242ac110002-2-1e8d-9ea2",
          "previous": "889370f2-2bba-11ee-987e-0242ac110002-2-44b9-a999"
        }
      },
      "outputs": [],
      "source": [
        "# (例)\n",
        "# worker_mac_addresses = [\n",
        "#     '4a:d1:4d:ab:cf:11',\n",
        "#     '4a:d1:4d:ab:cf:12',\n",
        "#     '4a:d1:4d:ab:cf:13',\n",
        "# ]\n",
        "\n",
        "worker_mac_addresses = [\n",
        "    \n",
        "]"
      ]
    },
    {
      "cell_type": "markdown",
      "metadata": {
        "lc_cell_meme": {
          "current": "8893723c-2bba-11ee-987e-0242ac110002-2-1e8d-9ea2",
          "next": "889372dc-2bba-11ee-987e-0242ac110002-2-81cc-da0d",
          "previous": "8893719c-2bba-11ee-987e-0242ac110002-2-a779-ee73"
        }
      },
      "source": [
        "### アドレスプールの指定\n",
        "\n",
        "VCノードで実行される Docker Engineのアドレスプールの値を指定します。"
      ]
    },
    {
      "cell_type": "markdown",
      "metadata": {
        "lc_cell_meme": {
          "current": "889372dc-2bba-11ee-987e-0242ac110002-2-81cc-da0d",
          "next": "8893737c-2bba-11ee-987e-0242ac110002-2-f4a7-e6ff",
          "previous": "8893723c-2bba-11ee-987e-0242ac110002-2-1e8d-9ea2"
        }
      },
      "source": [
        "本テンプレートで構築するJupyterHubでは、コンテナを実行するのにdocker swarmを利用します。docker swarmでは ingress networkなどが自動的に作成されますが、そのネットワークアドレスが既存のネットワークアドレスと重複することを避けるために docker engine のアドレスプールの値を明示的に指定します。"
      ]
    },
    {
      "cell_type": "markdown",
      "metadata": {
        "lc_cell_meme": {
          "current": "8893737c-2bba-11ee-987e-0242ac110002-2-f4a7-e6ff",
          "next": "8893743a-2bba-11ee-987e-0242ac110002-2-7552-83e1",
          "previous": "889372dc-2bba-11ee-987e-0242ac110002-2-81cc-da0d"
        }
      },
      "source": [
        "次のセルでdocker engineに設定するアドレスプールの値を指定してください。既存のネットワークアドレスと重複する値を避けてください。"
      ]
    },
    {
      "cell_type": "code",
      "execution_count": null,
      "metadata": {
        "lc_cell_meme": {
          "current": "8893743a-2bba-11ee-987e-0242ac110002-2-7552-83e1",
          "next": "889374da-2bba-11ee-987e-0242ac110002-2-1319-6333",
          "previous": "8893737c-2bba-11ee-987e-0242ac110002-2-f4a7-e6ff"
        }
      },
      "outputs": [],
      "source": [
        "# (例)\n",
        "# docker_address_pool = '10.10.0.0/16'\n",
        "\n",
        "docker_address_pool = "
      ]
    },
    {
      "cell_type": "markdown",
      "metadata": {
        "lc_cell_meme": {
          "current": "889374da-2bba-11ee-987e-0242ac110002-2-1319-6333",
          "next": "88937584-2bba-11ee-987e-0242ac110002-2-9f5f-01f5",
          "previous": "8893743a-2bba-11ee-987e-0242ac110002-2-7552-83e1"
        }
      },
      "source": [
        "### SSH公開鍵認証の鍵ファイルの指定\n",
        "\n",
        "起動したVCノードにsshでログインして操作を行うためにSSH公開鍵を登録します。"
      ]
    },
    {
      "cell_type": "markdown",
      "metadata": {
        "lc_cell_meme": {
          "current": "88937584-2bba-11ee-987e-0242ac110002-2-9f5f-01f5",
          "next": "88937624-2bba-11ee-987e-0242ac110002-2-0ffc-df4d",
          "previous": "889374da-2bba-11ee-987e-0242ac110002-2-1319-6333"
        }
      },
      "source": [
        "VCノードに登録するSSHの公開鍵ファイルのパスを次のセルで指定してください。\n",
        "\n",
        "> 事前に作成した公開鍵をこの環境にアップロードするか、この環境内でSSH公開鍵の作成を行ってください。"
      ]
    },
    {
      "cell_type": "code",
      "execution_count": null,
      "metadata": {
        "lc_cell_meme": {
          "current": "88937624-2bba-11ee-987e-0242ac110002-2-0ffc-df4d",
          "next": "889376c4-2bba-11ee-987e-0242ac110002-2-29df-8fe1",
          "previous": "88937584-2bba-11ee-987e-0242ac110002-2-9f5f-01f5"
        },
        "tags": [
          "vcp:parameters"
        ]
      },
      "outputs": [],
      "source": [
        "# (例)\n",
        "# ssh_public_key_path = '~/.ssh/id_rsa.pub'\n",
        "\n",
        "ssh_public_key_path = "
      ]
    },
    {
      "cell_type": "markdown",
      "metadata": {
        "lc_cell_meme": {
          "current": "889376c4-2bba-11ee-987e-0242ac110002-2-29df-8fe1",
          "next": "8893776e-2bba-11ee-987e-0242ac110002-2-df78-7f99",
          "previous": "88937624-2bba-11ee-987e-0242ac110002-2-0ffc-df4d"
        }
      },
      "source": [
        "公開鍵に対応する秘密鍵のパスを次のセルで指定してください。"
      ]
    },
    {
      "cell_type": "code",
      "execution_count": null,
      "metadata": {
        "lc_cell_meme": {
          "current": "8893776e-2bba-11ee-987e-0242ac110002-2-df78-7f99",
          "next": "af5c25bc-60ee-11ee-95c7-0242ac110002",
          "previous": "889376c4-2bba-11ee-987e-0242ac110002-2-29df-8fe1"
        },
        "tags": [
          "vcp:parameters"
        ]
      },
      "outputs": [],
      "source": [
        "# (例)\n",
        "# ssh_private_key_path = '~/.ssh/id_rsa'\n",
        "\n",
        "ssh_private_key_path = "
      ]
    },
    {
      "cell_type": "markdown",
      "metadata": {
        "lc_cell_meme": {
          "current": "af5c25bc-60ee-11ee-95c7-0242ac110002",
          "next": "6ea583ec-60ee-11ee-95c7-0242ac110002",
          "previous": "8893776e-2bba-11ee-987e-0242ac110002-2-df78-7f99"
        }
      },
      "source": [
        "### オンプレミスサーバに構築する場合の追加設定\n",
        "\n",
        "オンプレミス環境（mdx含）に構築する場合、追加で設定する必要があるパラメータを指定します。  \n",
        "aws, azureに構築する場合は、以下のセルを実行する必要はありません。（実行しても何も設定されません）"
      ]
    },
    {
      "cell_type": "code",
      "execution_count": null,
      "metadata": {
        "lc_cell_meme": {
          "current": "6ea583ec-60ee-11ee-95c7-0242ac110002",
          "next": "88937818-2bba-11ee-987e-0242ac110002-2-526a-2d0c",
          "previous": "af5c25bc-60ee-11ee-95c7-0242ac110002"
        }
      },
      "outputs": [],
      "source": [
        "# VCノードを構築するVMにSSHログインする際のログインユーザ名を指定します。\n",
        "# （例）\n",
        "# ssh_user = 'mdxuser' ...mdxに構築する場合\n",
        "ssh_user = ''"
      ]
    },
    {
      "cell_type": "markdown",
      "metadata": {
        "heading_collapsed": true,
        "lc_cell_meme": {
          "current": "88937818-2bba-11ee-987e-0242ac110002-2-526a-2d0c",
          "next": "889378b8-2bba-11ee-987e-0242ac110002-2-f141-3368",
          "previous": "6ea583ec-60ee-11ee-95c7-0242ac110002"
        }
      },
      "source": [
        "### パラメータの保存\n",
        "\n",
        "この章で指定したパラメータの値をファイルに保存します。"
      ]
    },
    {
      "cell_type": "markdown",
      "metadata": {
        "hidden": true,
        "lc_cell_meme": {
          "current": "889378b8-2bba-11ee-987e-0242ac110002-2-f141-3368",
          "next": "88937962-2bba-11ee-987e-0242ac110002-2-0a2a-2498",
          "previous": "88937818-2bba-11ee-987e-0242ac110002-2-526a-2d0c"
        }
      },
      "source": [
        "後の手順でVCノードに対する操作を、構成管理ツールの[Ansible](https://www.ansible.com/)で行います。そこで、パラメータの保存形式は `Ansible` のフォーマットに従うことにします。Ansible では `group_vars/`というディレクトリに YAML フォーマットのファイルを配置すると、そのファイルに記録されている値を変数として利用することができます。このNotebookではパラメータを `group_vars/` のYAMLファイルとして保存します。"
      ]
    },
    {
      "cell_type": "markdown",
      "metadata": {
        "hidden": true,
        "lc_cell_meme": {
          "current": "88937962-2bba-11ee-987e-0242ac110002-2-0a2a-2498",
          "next": "88937a02-2bba-11ee-987e-0242ac110002-2-8455-6314",
          "previous": "889378b8-2bba-11ee-987e-0242ac110002-2-f141-3368"
        }
      },
      "source": [
        "ファイルに保存する前にパラメータに関する簡易なチェックを行います。エラーになった場合はその後に表示される指示に従ってください。"
      ]
    },
    {
      "cell_type": "code",
      "execution_count": null,
      "metadata": {
        "hidden": true,
        "lc_cell_meme": {
          "current": "88937a02-2bba-11ee-987e-0242ac110002-2-8455-6314",
          "next": "88937aac-2bba-11ee-987e-0242ac110002-2-3679-f5a8",
          "previous": "88937962-2bba-11ee-987e-0242ac110002-2-0a2a-2498"
        }
      },
      "outputs": [],
      "source": [
        "%run scripts/check_params.py\n",
        "check_parameters(\n",
        "    'ugroup_name',\n",
        "    'vc_provider',\n",
        "    'manager_flavor',\n",
        "    'manager_disk_size',\n",
        "    'worker_flavor',\n",
        "    'worker_disk_size',\n",
        "    'worker_nodes',\n",
        "    'vc_ipaddress',\n",
        "    'worker_ipaddresses',\n",
        "    'vc_mac_address',\n",
        "    'worker_mac_addresses',\n",
        "    'docker_address_pool',\n",
        "    'ssh_public_key_path',\n",
        "    'ssh_private_key_path',\n",
        "    params={\n",
        "        'vcp': vcp,\n",
        "        'opt_vars': [\n",
        "            'vc_ipaddress', 'worker_ipaddresses',\n",
        "            'vc_mac_address', 'worker_mac_addresses',\n",
        "        ],\n",
        "    },\n",
        "    nb_vars=locals(),\n",
        ")\n",
        "\n",
        "if vc_provider == 'onpremises':\n",
        "    if not ssh_user:\n",
        "        raise NotImplementedError\n",
        "        print('ssh_user is required if construct on onpremises')\n",
        "    \n",
        "    worker_flavor = 'default'\n",
        "    manager_flavor = 'default'"
      ]
    },
    {
      "cell_type": "markdown",
      "metadata": {
        "hidden": true,
        "lc_cell_meme": {
          "current": "88937aac-2bba-11ee-987e-0242ac110002-2-3679-f5a8",
          "next": "88937b4c-2bba-11ee-987e-0242ac110002-2-7dbb-c577",
          "previous": "88937a02-2bba-11ee-987e-0242ac110002-2-8455-6314"
        }
      },
      "source": [
        "次のセルを実行すると、この章で指定したパラメータが group_vars ファイルに保存されます。"
      ]
    },
    {
      "cell_type": "code",
      "execution_count": null,
      "metadata": {
        "hidden": true,
        "lc_cell_meme": {
          "current": "88937b4c-2bba-11ee-987e-0242ac110002-2-7dbb-c577",
          "next": "88937bf6-2bba-11ee-987e-0242ac110002-2-f3f9-d07e",
          "previous": "88937aac-2bba-11ee-987e-0242ac110002-2-3679-f5a8"
        }
      },
      "outputs": [],
      "source": [
        "import os\n",
        "%run scripts/group.py\n",
        "update_group_vars(\n",
        "    ugroup_name,\n",
        "    ugroup_name=ugroup_name,\n",
        "    vc_provider=vc_provider,\n",
        "    manager_flavor=manager_flavor,\n",
        "    manager_disk_size=manager_disk_size,\n",
        "    worker_flavor=worker_flavor,\n",
        "    worker_disk_size=worker_disk_size,\n",
        "    worker_nodes=worker_nodes,\n",
        "    docker_address_pool=docker_address_pool,\n",
        "    ssh_public_key_path=os.path.expanduser(ssh_public_key_path),\n",
        "    ssh_private_key_path=os.path.expanduser(ssh_private_key_path),\n",
        ")\n",
        "if 'vc_ipaddress' in vars():\n",
        "    update_group_vars(ugroup_name, vc_ipaddress=vc_ipaddress)\n",
        "if 'worker_ipaddresses' in vars():\n",
        "    update_group_vars(ugroup_name, worker_ipaddresses=worker_ipaddresses)\n",
        "if 'vc_mac_address' in vars():\n",
        "    update_group_vars(ugroup_name, vc_mac_address=vc_mac_address)\n",
        "if 'worker_mac_addresses' in vars():\n",
        "    update_group_vars(ugroup_name, worker_mac_addresses=worker_mac_addresses)"
      ]
    },
    {
      "cell_type": "markdown",
      "metadata": {
        "hidden": true,
        "lc_cell_meme": {
          "current": "88937bf6-2bba-11ee-987e-0242ac110002-2-f3f9-d07e",
          "next": "88937c96-2bba-11ee-987e-0242ac110002-2-2d47-12ef",
          "previous": "88937b4c-2bba-11ee-987e-0242ac110002-2-7dbb-c577"
        }
      },
      "source": [
        "group_vars ファイルの内容を表示して保存されたパラメータを確認します。"
      ]
    },
    {
      "cell_type": "code",
      "execution_count": null,
      "metadata": {
        "hidden": true,
        "lc_cell_meme": {
          "current": "88937c96-2bba-11ee-987e-0242ac110002-2-2d47-12ef",
          "next": "88937d40-2bba-11ee-987e-0242ac110002-2-ee99-a2a2",
          "previous": "88937bf6-2bba-11ee-987e-0242ac110002-2-f3f9-d07e"
        }
      },
      "outputs": [],
      "source": [
        "!cat group_vars/{ugroup_name}"
      ]
    },
    {
      "cell_type": "markdown",
      "metadata": {
        "lc_cell_meme": {
          "current": "88937d40-2bba-11ee-987e-0242ac110002-2-ee99-a2a2",
          "next": "88937de0-2bba-11ee-987e-0242ac110002-2-6d1e-8d88",
          "previous": "88937c96-2bba-11ee-987e-0242ac110002-2-2d47-12ef"
        }
      },
      "source": [
        "## VCディスクに関するパラメータ\n",
        "\n",
        "JupyterHubに関するデータやNotebook、ユーザのホームディレクトリなどに利用するVCディスクに関するパラメータを指定します。"
      ]
    },
    {
      "cell_type": "markdown",
      "metadata": {
        "lc_cell_meme": {
          "current": "88937de0-2bba-11ee-987e-0242ac110002-2-6d1e-8d88",
          "next": "88937eda-2bba-11ee-987e-0242ac110002-2-6141-c61d",
          "previous": "88937d40-2bba-11ee-987e-0242ac110002-2-ee99-a2a2"
        }
      },
      "source": [
        "ディスクサイズ(GB)を指定してください。\n",
        "\n",
        "> VCディスクを作成しないで全てのデータをルートボリュームに配置する場合は、このセクションをスキップするか、`vc_nfs_disk_size` を `0` に設定してください。\n",
        "> またVCディスクに対応しているクラウドプロバイダ(aws, azure)以外を指定した場合は、ディスクサイズの指定は無効となります。"
      ]
    },
    {
      "cell_type": "code",
      "execution_count": null,
      "metadata": {
        "lc_cell_meme": {
          "current": "88937eda-2bba-11ee-987e-0242ac110002-2-6141-c61d",
          "next": "88937f8e-2bba-11ee-987e-0242ac110002-2-f8d0-9ab7",
          "previous": "88937de0-2bba-11ee-987e-0242ac110002-2-6d1e-8d88"
        },
        "tags": [
          "vcp:skip",
          "vcp:parameters"
        ]
      },
      "outputs": [],
      "source": [
        "# (例)\n",
        "# vc_nfs_disk_size = 32\n",
        "\n",
        "vc_nfs_disk_size = 0"
      ]
    },
    {
      "cell_type": "markdown",
      "metadata": {
        "lc_cell_meme": {
          "current": "88937f8e-2bba-11ee-987e-0242ac110002-2-f8d0-9ab7",
          "next": "88938038-2bba-11ee-987e-0242ac110002-2-908b-b597",
          "previous": "88937eda-2bba-11ee-987e-0242ac110002-2-6141-c61d"
        }
      },
      "source": [
        "VCディスクのためのUnitGroup名を指定してください。ここではVCノードのUnitGroup名から自動的に導き出した名前を設定します。"
      ]
    },
    {
      "cell_type": "code",
      "execution_count": null,
      "metadata": {
        "lc_cell_meme": {
          "current": "88938038-2bba-11ee-987e-0242ac110002-2-908b-b597",
          "next": "889380d8-2bba-11ee-987e-0242ac110002-2-f989-82f7",
          "previous": "88937f8e-2bba-11ee-987e-0242ac110002-2-f8d0-9ab7"
        }
      },
      "outputs": [],
      "source": [
        "disk_unit_group = ugroup_name + '_disk'\n",
        "print(disk_unit_group)"
      ]
    },
    {
      "cell_type": "markdown",
      "metadata": {
        "lc_cell_meme": {
          "current": "889380d8-2bba-11ee-987e-0242ac110002-2-f989-82f7",
          "next": "88938182-2bba-11ee-987e-0242ac110002-2-688a-c0bd",
          "previous": "88938038-2bba-11ee-987e-0242ac110002-2-908b-b597"
        }
      },
      "source": [
        "この章で指定したパラメータの値をファイルに保存します。"
      ]
    },
    {
      "cell_type": "code",
      "execution_count": null,
      "metadata": {
        "lc_cell_meme": {
          "current": "88938182-2bba-11ee-987e-0242ac110002-2-688a-c0bd",
          "next": "88938222-2bba-11ee-987e-0242ac110002-2-a000-9325",
          "previous": "889380d8-2bba-11ee-987e-0242ac110002-2-f989-82f7"
        }
      },
      "outputs": [],
      "source": [
        "%run scripts/group.py\n",
        "\n",
        "if 'vc_nfs_disk_size' in vars() and vc_nfs_disk_size > 0:\n",
        "    if vc_provider in ['aws', 'azure']:\n",
        "        update_group_vars(\n",
        "            ugroup_name,\n",
        "            disk_unit_group=disk_unit_group,\n",
        "            vc_nfs_disk_size=vc_nfs_disk_size,\n",
        "        )\n",
        "    else:\n",
        "        del(vc_nfs_disk_size)"
      ]
    },
    {
      "cell_type": "markdown",
      "metadata": {
        "lc_cell_meme": {
          "current": "88938222-2bba-11ee-987e-0242ac110002-2-a000-9325",
          "next": "889382cc-2bba-11ee-987e-0242ac110002-2-365d-d8b7",
          "previous": "88938182-2bba-11ee-987e-0242ac110002-2-688a-c0bd"
        }
      },
      "source": [
        "group_vars ファイルの内容を表示して保存されたパラメータを確認します。"
      ]
    },
    {
      "cell_type": "code",
      "execution_count": null,
      "metadata": {
        "lc_cell_meme": {
          "current": "889382cc-2bba-11ee-987e-0242ac110002-2-365d-d8b7",
          "next": "88938376-2bba-11ee-987e-0242ac110002-2-cc15-815a",
          "previous": "88938222-2bba-11ee-987e-0242ac110002-2-a000-9325"
        }
      },
      "outputs": [],
      "source": [
        "!cat group_vars/{ugroup_name}"
      ]
    },
    {
      "cell_type": "markdown",
      "metadata": {
        "heading_collapsed": true,
        "lc_cell_meme": {
          "current": "88938376-2bba-11ee-987e-0242ac110002-2-cc15-815a",
          "next": "88938592-2bba-11ee-987e-0242ac110002-2-601a-65ae",
          "previous": "889382cc-2bba-11ee-987e-0242ac110002-2-365d-d8b7"
        }
      },
      "source": [
        "## VCディスクの作成\n",
        "\n",
        "NFS用のVCディスクを作成します。\n",
        "\n",
        "> 前のセクションをスキップしたか、または `vc_nfs_disk_size`の値として `0` を設定した場合は、このセクションを実行してもVCディスクは作成されません。"
      ]
    },
    {
      "cell_type": "markdown",
      "metadata": {
        "hidden": true,
        "lc_cell_meme": {
          "current": "88938592-2bba-11ee-987e-0242ac110002-2-601a-65ae",
          "next": "889386b4-2bba-11ee-987e-0242ac110002-2-5042-ce68",
          "previous": "88938376-2bba-11ee-987e-0242ac110002-2-cc15-815a"
        }
      },
      "source": [
        "### UnitGroupの作成\n",
        "\n",
        "VCディスクを管理するための UnitGroup を作成します。\n"
      ]
    },
    {
      "cell_type": "markdown",
      "metadata": {
        "hidden": true,
        "lc_cell_meme": {
          "current": "889386b4-2bba-11ee-987e-0242ac110002-2-5042-ce68",
          "next": "88938768-2bba-11ee-987e-0242ac110002-2-6b8a-7698",
          "previous": "88938592-2bba-11ee-987e-0242ac110002-2-601a-65ae"
        }
      },
      "source": [
        "UnitGroupを作成するまえに、現在のUnitGroupの一覧を確認します。"
      ]
    },
    {
      "cell_type": "code",
      "execution_count": null,
      "metadata": {
        "hidden": true,
        "lc_cell_meme": {
          "current": "88938768-2bba-11ee-987e-0242ac110002-2-6b8a-7698",
          "next": "88938812-2bba-11ee-987e-0242ac110002-2-38a5-4803",
          "previous": "889386b4-2bba-11ee-987e-0242ac110002-2-5042-ce68"
        }
      },
      "outputs": [],
      "source": [
        "vcp.df_ugroups()"
      ]
    },
    {
      "cell_type": "markdown",
      "metadata": {
        "hidden": true,
        "lc_cell_meme": {
          "current": "88938812-2bba-11ee-987e-0242ac110002-2-38a5-4803",
          "next": "889388b2-2bba-11ee-987e-0242ac110002-2-597e-a51f",
          "previous": "88938768-2bba-11ee-987e-0242ac110002-2-6b8a-7698"
        }
      },
      "source": [
        "UnitGroupを作成します。"
      ]
    },
    {
      "cell_type": "code",
      "execution_count": null,
      "metadata": {
        "hidden": true,
        "lc_cell_meme": {
          "current": "889388b2-2bba-11ee-987e-0242ac110002-2-597e-a51f",
          "next": "8893895c-2bba-11ee-987e-0242ac110002-2-bee2-26a9",
          "previous": "88938812-2bba-11ee-987e-0242ac110002-2-38a5-4803"
        }
      },
      "outputs": [],
      "source": [
        "%run scripts/group.py\n",
        "gvars = load_group_vars(ugroup_name)\n",
        "\n",
        "if 'disk_unit_group' in gvars and 'vc_nfs_disk_size' in gvars and gvars['vc_nfs_disk_size'] > 0:\n",
        "    ug_disk = vcp.create_ugroup(gvars['disk_unit_group'], ugroup_type='storage')"
      ]
    },
    {
      "cell_type": "markdown",
      "metadata": {
        "hidden": true,
        "lc_cell_meme": {
          "current": "8893895c-2bba-11ee-987e-0242ac110002-2-bee2-26a9",
          "next": "88938a06-2bba-11ee-987e-0242ac110002-2-52b6-50d6",
          "previous": "889388b2-2bba-11ee-987e-0242ac110002-2-597e-a51f"
        }
      },
      "source": [
        "UnitGroup作成後の一覧を表示させます。"
      ]
    },
    {
      "cell_type": "code",
      "execution_count": null,
      "metadata": {
        "hidden": true,
        "lc_cell_meme": {
          "current": "88938a06-2bba-11ee-987e-0242ac110002-2-52b6-50d6",
          "next": "88938aa6-2bba-11ee-987e-0242ac110002-2-b313-ab94",
          "previous": "8893895c-2bba-11ee-987e-0242ac110002-2-bee2-26a9"
        }
      },
      "outputs": [],
      "source": [
        "vcp.df_ugroups()"
      ]
    },
    {
      "cell_type": "markdown",
      "metadata": {
        "hidden": true,
        "lc_cell_meme": {
          "current": "88938aa6-2bba-11ee-987e-0242ac110002-2-b313-ab94",
          "next": "88938b46-2bba-11ee-987e-0242ac110002-2-10da-a60b",
          "previous": "88938a06-2bba-11ee-987e-0242ac110002-2-52b6-50d6"
        }
      },
      "source": [
        "### VCディスクの作成"
      ]
    },
    {
      "cell_type": "markdown",
      "metadata": {
        "hidden": true,
        "lc_cell_meme": {
          "current": "88938b46-2bba-11ee-987e-0242ac110002-2-10da-a60b",
          "next": "88938be6-2bba-11ee-987e-0242ac110002-2-cd76-9b27",
          "previous": "88938aa6-2bba-11ee-987e-0242ac110002-2-b313-ab94"
        }
      },
      "source": [
        "NFS用のVCディスクを作成します。"
      ]
    },
    {
      "cell_type": "code",
      "execution_count": null,
      "metadata": {
        "hidden": true,
        "lc_cell_meme": {
          "current": "88938be6-2bba-11ee-987e-0242ac110002-2-cd76-9b27",
          "next": "88938c9a-2bba-11ee-987e-0242ac110002-2-a351-7b68",
          "previous": "88938b46-2bba-11ee-987e-0242ac110002-2-10da-a60b"
        }
      },
      "outputs": [],
      "source": [
        "if 'ug_disk' in vars() and gvars['vc_nfs_disk_size'] > 0:\n",
        "    nfs_disk_spec = vcp.get_spec(gvars['vc_provider'] + '_disk', 'small')\n",
        "    if gvars['vc_provider'] == 'azure':\n",
        "        nfs_disk_spec.disk_size_gb = gvars['vc_nfs_disk_size']\n",
        "    elif gvars['vc_provider'] == 'oracle':\n",
        "        nfs_disk_spec.size_in_gbs = gvars['vc_nfs_disk_size']\n",
        "    else:\n",
        "        nfs_disk_spec.size = gvars['vc_nfs_disk_size']\n",
        "    ug_disk.create_unit('nfs', nfs_disk_spec)"
      ]
    },
    {
      "cell_type": "markdown",
      "metadata": {
        "hidden": true,
        "lc_cell_meme": {
          "current": "88938c9a-2bba-11ee-987e-0242ac110002-2-a351-7b68",
          "next": "88938d44-2bba-11ee-987e-0242ac110002-2-a36c-f698",
          "previous": "88938be6-2bba-11ee-987e-0242ac110002-2-cd76-9b27"
        }
      },
      "source": [
        "作成したVCディスクの一覧を表示します。"
      ]
    },
    {
      "cell_type": "code",
      "execution_count": null,
      "metadata": {
        "hidden": true,
        "lc_cell_meme": {
          "current": "88938d44-2bba-11ee-987e-0242ac110002-2-a36c-f698",
          "next": "88938de4-2bba-11ee-987e-0242ac110002-2-bb0d-4967",
          "previous": "88938c9a-2bba-11ee-987e-0242ac110002-2-a351-7b68"
        }
      },
      "outputs": [],
      "source": [
        "from IPython.display import display\n",
        "if 'ug_disk' in vars():\n",
        "    display(ug_disk.df_nodes())"
      ]
    },
    {
      "cell_type": "markdown",
      "metadata": {
        "heading_collapsed": true,
        "lc_cell_meme": {
          "current": "88938de4-2bba-11ee-987e-0242ac110002-2-bb0d-4967",
          "next": "88938e84-2bba-11ee-987e-0242ac110002-2-3171-5312",
          "previous": "88938d44-2bba-11ee-987e-0242ac110002-2-a36c-f698"
        }
      },
      "source": [
        "## VCノードの起動"
      ]
    },
    {
      "cell_type": "markdown",
      "metadata": {
        "hidden": true,
        "lc_cell_meme": {
          "current": "88938e84-2bba-11ee-987e-0242ac110002-2-3171-5312",
          "next": "88938f38-2bba-11ee-987e-0242ac110002-2-084b-1d1b",
          "previous": "88938de4-2bba-11ee-987e-0242ac110002-2-bb0d-4967"
        }
      },
      "source": [
        "### managerノード"
      ]
    },
    {
      "cell_type": "markdown",
      "metadata": {
        "hidden": true,
        "lc_cell_meme": {
          "current": "88938f38-2bba-11ee-987e-0242ac110002-2-084b-1d1b",
          "next": "88938fd8-2bba-11ee-987e-0242ac110002-2-2a6f-f2e3",
          "previous": "88938e84-2bba-11ee-987e-0242ac110002-2-3171-5312"
        }
      },
      "source": [
        "#### manager用のVCノードを起動する"
      ]
    },
    {
      "cell_type": "markdown",
      "metadata": {
        "hidden": true,
        "lc_cell_meme": {
          "current": "88938fd8-2bba-11ee-987e-0242ac110002-2-2a6f-f2e3",
          "next": "88939078-2bba-11ee-987e-0242ac110002-2-7d37-7570",
          "previous": "88938f38-2bba-11ee-987e-0242ac110002-2-084b-1d1b"
        }
      },
      "source": [
        "manager用VCノードの `spec` を指定します。"
      ]
    },
    {
      "cell_type": "code",
      "execution_count": null,
      "metadata": {
        "hidden": true,
        "lc_cell_meme": {
          "current": "88939078-2bba-11ee-987e-0242ac110002-2-7d37-7570",
          "next": "8893912c-2bba-11ee-987e-0242ac110002-2-4d13-c1ff",
          "previous": "88938fd8-2bba-11ee-987e-0242ac110002-2-2a6f-f2e3"
        },
        "tags": [
          "vcp:rewrite:container_image"
        ]
      },
      "outputs": [],
      "source": [
        "import sys\n",
        "%run scripts/group.py\n",
        "gvars = load_group_vars(ugroup_name)\n",
        "spec_mgr = vcp.get_spec(gvars['vc_provider'], gvars['manager_flavor'])\n",
        "\n",
        "# Baseコンテナイメージを指定する\n",
        "spec_mgr.image = 'harbor.vcloud.nii.ac.jp/vcp/coursewarehub:base-nfsd'\n",
        "spec_mgr.params_v = [\n",
        "    '/sys/fs/cgroup:/sys/fs/cgroup:ro',\n",
        "    '/lib/modules:/lib/modules:ro',\n",
        "]\n",
        "\n",
        "if 'vc_ipaddress' in gvars:\n",
        "    # manager用VCノードに割り当てるIPアドレスを指定する\n",
        "    spec_mgr.ip_addresses = [gvars['vc_ipaddress']]\n",
        "elif 'vc_mac_addresses' in gvars:\n",
        "    # manager用VCノードに割り当てるMACアドレスを指定する\n",
        "    spec_mgr.mac_addresses = [gvars['vc_mac_address']]\n",
        "    \n",
        "# ルートボリュームサイズを指定する\n",
        "if vc_provider == 'aws':\n",
        "    spec_mgr.volume_size = gvars['manager_disk_size']\n",
        "elif vc_provider == 'azure':\n",
        "    spec_mgr.disk_size_gb = gvars['manager_disk_size']\n",
        "else:\n",
        "    print('This provider does not support the specification of the root volume size.' +\n",
        "          ' Does not set the disk size.', file=sys.stderr)\n",
        "\n",
        "# オンプレミスに構築する場合、SSHログインユーザ名を指定\n",
        "if vc_provider == 'onpremises':\n",
        "    spec_mgr.user_name = ssh_user\n",
        "\n",
        "# VCノードにsshでログインするための公開鍵を指定する\n",
        "spec_mgr.set_ssh_pubkey(gvars['ssh_public_key_path'])\n",
        "spec_mgr.params_e.append(f\"UGROUP_NAME={ugroup_name}\")\n",
        "\n",
        "if 'ug_disk' in vars():\n",
        "    spec_mgr.disks = ug_disk.find_nodes()\n",
        "    if len(spec_mgr.disks) > 0:\n",
        "        spec_mgr.params_e.append(\"NFS_MKFS=yes\")\n",
        "else:\n",
        "    spec_mgr.params_v.append('/exported:/exported')"
      ]
    },
    {
      "cell_type": "markdown",
      "metadata": {
        "hidden": true,
        "lc_cell_meme": {
          "current": "8893912c-2bba-11ee-987e-0242ac110002-2-4d13-c1ff",
          "next": "889391cc-2bba-11ee-987e-0242ac110002-2-bec4-6df0",
          "previous": "88939078-2bba-11ee-987e-0242ac110002-2-7d37-7570"
        }
      },
      "source": [
        "`spec` の設定値を確認します。"
      ]
    },
    {
      "cell_type": "code",
      "execution_count": null,
      "metadata": {
        "hidden": true,
        "lc_cell_meme": {
          "current": "889391cc-2bba-11ee-987e-0242ac110002-2-bec4-6df0",
          "next": "88939276-2bba-11ee-987e-0242ac110002-2-a9cf-442c",
          "previous": "8893912c-2bba-11ee-987e-0242ac110002-2-4d13-c1ff"
        },
        "scrolled": false
      },
      "outputs": [],
      "source": [
        "print(spec_mgr)"
      ]
    },
    {
      "cell_type": "markdown",
      "metadata": {
        "hidden": true,
        "lc_cell_meme": {
          "current": "88939276-2bba-11ee-987e-0242ac110002-2-a9cf-442c",
          "next": "88939316-2bba-11ee-987e-0242ac110002-2-07a2-5abd",
          "previous": "889391cc-2bba-11ee-987e-0242ac110002-2-bec4-6df0"
        }
      },
      "source": [
        "UnitGroupを作成します。"
      ]
    },
    {
      "cell_type": "code",
      "execution_count": null,
      "metadata": {
        "hidden": true,
        "lc_cell_meme": {
          "current": "88939316-2bba-11ee-987e-0242ac110002-2-07a2-5abd",
          "next": "889393c0-2bba-11ee-987e-0242ac110002-2-4fcb-9e87",
          "previous": "88939276-2bba-11ee-987e-0242ac110002-2-a9cf-442c"
        }
      },
      "outputs": [],
      "source": [
        "ugroup = vcp.create_ugroup(ugroup_name)"
      ]
    },
    {
      "cell_type": "markdown",
      "metadata": {
        "hidden": true,
        "lc_cell_meme": {
          "current": "889393c0-2bba-11ee-987e-0242ac110002-2-4fcb-9e87",
          "next": "88939460-2bba-11ee-987e-0242ac110002-2-f1c2-54da",
          "previous": "88939316-2bba-11ee-987e-0242ac110002-2-07a2-5abd"
        }
      },
      "source": [
        "manager用VCノードを起動します。"
      ]
    },
    {
      "cell_type": "code",
      "execution_count": null,
      "metadata": {
        "hidden": true,
        "lc_cell_meme": {
          "current": "88939460-2bba-11ee-987e-0242ac110002-2-f1c2-54da",
          "next": "88939500-2bba-11ee-987e-0242ac110002-2-fb03-406a",
          "previous": "889393c0-2bba-11ee-987e-0242ac110002-2-4fcb-9e87"
        },
        "scrolled": true
      },
      "outputs": [],
      "source": [
        "unit_mgr = ugroup.create_unit('manager', spec_mgr)"
      ]
    },
    {
      "cell_type": "markdown",
      "metadata": {
        "hidden": true,
        "lc_cell_meme": {
          "current": "88939500-2bba-11ee-987e-0242ac110002-2-fb03-406a",
          "next": "889395a0-2bba-11ee-987e-0242ac110002-2-d73d-f7c4",
          "previous": "88939460-2bba-11ee-987e-0242ac110002-2-f1c2-54da"
        }
      },
      "source": [
        "起動したVCノードの一覧を表示します。\n",
        "\n",
        "vcname:　本ノートブックで指定した、`UnitGroup`  \n",
        "unit_name:　`manager`"
      ]
    },
    {
      "cell_type": "code",
      "execution_count": null,
      "metadata": {
        "hidden": true,
        "lc_cell_meme": {
          "current": "889395a0-2bba-11ee-987e-0242ac110002-2-d73d-f7c4",
          "next": "88939640-2bba-11ee-987e-0242ac110002-3-3d88-f1f3-d1f4",
          "previous": "88939500-2bba-11ee-987e-0242ac110002-2-fb03-406a"
        }
      },
      "outputs": [],
      "source": [
        "unit_mgr.df_nodes()"
      ]
    },
    {
      "cell_type": "markdown",
      "metadata": {
        "hidden": true,
        "lc_cell_meme": {
          "current": "88939640-2bba-11ee-987e-0242ac110002-3-3d88-f1f3-d1f4",
          "next": "889396ea-2bba-11ee-987e-0242ac110002-3-af56-446e-a18d",
          "previous": "889395a0-2bba-11ee-987e-0242ac110002-2-d73d-f7c4"
        }
      },
      "source": [
        "VCノードのIPアドレスを変数`vc_ipaddress`に設定します。"
      ]
    },
    {
      "cell_type": "code",
      "execution_count": null,
      "metadata": {
        "hidden": true,
        "lc_cell_meme": {
          "current": "889396ea-2bba-11ee-987e-0242ac110002-3-af56-446e-a18d",
          "next": "8893978a-2bba-11ee-987e-0242ac110002-3-2129-7647-8db9",
          "previous": "88939640-2bba-11ee-987e-0242ac110002-3-3d88-f1f3-d1f4"
        }
      },
      "outputs": [],
      "source": [
        "vc_ipaddress = unit_mgr.find_ip_addresses()[0]\n",
        "print(vc_ipaddress)"
      ]
    },
    {
      "cell_type": "markdown",
      "metadata": {
        "hidden": true,
        "lc_cell_meme": {
          "current": "8893978a-2bba-11ee-987e-0242ac110002-3-2129-7647-8db9",
          "next": "8893982a-2bba-11ee-987e-0242ac110002-3-3675-5f2d-d625",
          "previous": "889396ea-2bba-11ee-987e-0242ac110002-3-af56-446e-a18d"
        }
      },
      "source": [
        "`group_vars`ファイルにIPアドレスの値を記録します。"
      ]
    },
    {
      "cell_type": "code",
      "execution_count": null,
      "metadata": {
        "hidden": true,
        "lc_cell_meme": {
          "current": "8893982a-2bba-11ee-987e-0242ac110002-3-3675-5f2d-d625",
          "next": "889398ca-2bba-11ee-987e-0242ac110002-2-9e79-b0d4",
          "previous": "8893978a-2bba-11ee-987e-0242ac110002-3-2129-7647-8db9"
        }
      },
      "outputs": [],
      "source": [
        "update_group_vars(ugroup_name, vc_ipaddress=vc_ipaddress)\n",
        "gvars = load_group_vars(ugroup_name)"
      ]
    },
    {
      "cell_type": "markdown",
      "metadata": {
        "hidden": true,
        "lc_cell_meme": {
          "current": "889398ca-2bba-11ee-987e-0242ac110002-2-9e79-b0d4",
          "next": "8893997e-2bba-11ee-987e-0242ac110002-2-b0a4-2787",
          "previous": "8893982a-2bba-11ee-987e-0242ac110002-3-3675-5f2d-d625"
        }
      },
      "source": [
        "#### managerノードに対するAnsibleの設定\n",
        "\n",
        "起動したVCノードをAnsibleで操作するための設定を行います。"
      ]
    },
    {
      "cell_type": "markdown",
      "metadata": {
        "hidden": true,
        "lc_cell_meme": {
          "current": "8893997e-2bba-11ee-987e-0242ac110002-2-b0a4-2787",
          "next": "88939a28-2bba-11ee-987e-0242ac110002-2-204b-1214",
          "previous": "889398ca-2bba-11ee-987e-0242ac110002-2-9e79-b0d4"
        }
      },
      "source": [
        "まず、VCノードにSSHでログインできるようにするために `~/.ssh/known_hosts` の更新を行います。\n",
        "\n",
        "> 何度かVCノードの起動を行うと、異なるホストが同じIPアドレスで起動するためにSSHのホストキーのチェックでエラーになる事があります。このような状況に対応するために、起動したVCノードのIPアドレスに対応するエントリを`known_hosts`ファイルから削除します。その後、`ssh-keyscan`コマンドを利用して起動したVCノードのホストキーを取得して `known_hosts`ファイルの内容を更新します。"
      ]
    },
    {
      "cell_type": "code",
      "execution_count": null,
      "metadata": {
        "hidden": true,
        "lc_cell_meme": {
          "current": "88939a28-2bba-11ee-987e-0242ac110002-2-204b-1214",
          "next": "88939ac8-2bba-11ee-987e-0242ac110002-2-c2d6-6cb0",
          "previous": "8893997e-2bba-11ee-987e-0242ac110002-2-b0a4-2787"
        }
      },
      "outputs": [],
      "source": [
        "from time import sleep\n",
        "\n",
        "def check_update_known_hosts(ipaddr):\n",
        "    # VCノード起動直後だと sshd サービスが開始されておらずに known_hosts が更新されない場合がある\n",
        "    # ssh-keyscan が値を取得できるまで何度かリトライする\n",
        "    for x in range(10):\n",
        "        out = ! echo $(ssh-keyscan {ipaddr} 2> /dev/null | wc -l)\n",
        "        update_lines = int(out[0])\n",
        "        if update_lines > 0:\n",
        "            break\n",
        "        sleep(1)\n",
        "    else:\n",
        "        raise RuntimeError(\"ERROR: timeout!\")    \n",
        "\n",
        "!mkdir -p -m 0700 ~/.ssh\n",
        "!touch ~/.ssh/known_hosts\n",
        "for addr in unit_mgr.find_ip_addresses():\n",
        "    !ssh-keygen -R {addr}\n",
        "    check_update_known_hosts(addr)\n",
        "    !ssh-keyscan -H {addr} >> ~/.ssh/known_hosts"
      ]
    },
    {
      "cell_type": "markdown",
      "metadata": {
        "hidden": true,
        "lc_cell_meme": {
          "current": "88939ac8-2bba-11ee-987e-0242ac110002-2-c2d6-6cb0",
          "next": "88939b68-2bba-11ee-987e-0242ac110002-2-eea8-f72a",
          "previous": "88939a28-2bba-11ee-987e-0242ac110002-2-204b-1214"
        }
      },
      "source": [
        "起動したVCノードに対応するエントリを Ansible のインベントリに登録します。\n",
        "\n",
        "> Ansibleで操作を行うためには、操作対象のホスト(IPアドレス)をインベントリに登録する必要があります。"
      ]
    },
    {
      "cell_type": "code",
      "execution_count": null,
      "metadata": {
        "hidden": true,
        "lc_cell_meme": {
          "current": "88939b68-2bba-11ee-987e-0242ac110002-2-eea8-f72a",
          "next": "88939c12-2bba-11ee-987e-0242ac110002-2-c259-d8a1",
          "previous": "88939ac8-2bba-11ee-987e-0242ac110002-2-c2d6-6cb0"
        }
      },
      "outputs": [],
      "source": [
        "%run scripts/group.py\n",
        "%run scripts/edit_conf.py\n",
        "\n",
        "inventory = {'all': {'children': {\n",
        "    ugroup.name: {\n",
        "        'children': {\n",
        "            f'{ugroup.name}_{unit_mgr.name}': {\n",
        "                'hosts': dict([(x, {}) for x in unit_mgr.find_ip_addresses()]),\n",
        "            },\n",
        "        },\n",
        "        'vars': {\n",
        "            'ansible_user': 'vcp',\n",
        "            'ansible_ssh_private_key_file': gvars['ssh_private_key_path'],\n",
        "            'ansible_python_interpreter': '/usr/bin/python3',\n",
        "        },\n",
        "    },\n",
        "}}}\n",
        "\n",
        "generate_edit_link(update_inventory_yml(inventory))"
      ]
    },
    {
      "cell_type": "markdown",
      "metadata": {
        "hidden": true,
        "lc_cell_meme": {
          "current": "88939c12-2bba-11ee-987e-0242ac110002-2-c259-d8a1",
          "next": "88939cb2-2bba-11ee-987e-0242ac110002-2-4f0b-5e29",
          "previous": "88939b68-2bba-11ee-987e-0242ac110002-2-eea8-f72a"
        }
      },
      "source": [
        "次のセルを実行すると作成したインベントリの内容を表示します。インベントリの内容を変更したい場合は、上のセルの出力結果に表示しているリンクから編集することができます。"
      ]
    },
    {
      "cell_type": "code",
      "execution_count": null,
      "metadata": {
        "hidden": true,
        "lc_cell_meme": {
          "current": "88939cb2-2bba-11ee-987e-0242ac110002-2-4f0b-5e29",
          "next": "88939d52-2bba-11ee-987e-0242ac110002-2-989e-7f7e",
          "previous": "88939c12-2bba-11ee-987e-0242ac110002-2-c259-d8a1"
        }
      },
      "outputs": [],
      "source": [
        "!cat inventory.yml"
      ]
    },
    {
      "cell_type": "markdown",
      "metadata": {
        "hidden": true,
        "lc_cell_meme": {
          "current": "88939d52-2bba-11ee-987e-0242ac110002-2-989e-7f7e",
          "next": "88939df2-2bba-11ee-987e-0242ac110002-2-d087-10c6",
          "previous": "88939cb2-2bba-11ee-987e-0242ac110002-2-4f0b-5e29"
        }
      },
      "source": [
        " 先程VCノードを登録したファイルをインベントリとして指定するためのAnsibleのコンフィギュレーションファイルを作成します。\n",
        "> カレントディレクトリにコンフィギュレーションファイル(`ansible.cfg`)を作成すると、Ansibleを実行する際にその設定が適用されます。"
      ]
    },
    {
      "cell_type": "code",
      "execution_count": null,
      "metadata": {
        "hidden": true,
        "lc_cell_meme": {
          "current": "88939df2-2bba-11ee-987e-0242ac110002-2-d087-10c6",
          "next": "88939e9c-2bba-11ee-987e-0242ac110002-2-f8b9-e945",
          "previous": "88939d52-2bba-11ee-987e-0242ac110002-2-989e-7f7e"
        }
      },
      "outputs": [],
      "source": [
        "cfg = setup_ansible_cfg()\n",
        "generate_edit_link(cfg)"
      ]
    },
    {
      "cell_type": "markdown",
      "metadata": {
        "hidden": true,
        "lc_cell_meme": {
          "current": "88939e9c-2bba-11ee-987e-0242ac110002-2-f8b9-e945",
          "next": "88939f46-2bba-11ee-987e-0242ac110002-2-b580-678f",
          "previous": "88939df2-2bba-11ee-987e-0242ac110002-2-d087-10c6"
        }
      },
      "source": [
        "次のセルを実行すると作成したコンフィギュレーションファイルの内容を表示します。コンフィギュレーションファイルの内容を変更したい場合は、上のセルの出力結果に表示しているリンクから編集することができます。"
      ]
    },
    {
      "cell_type": "code",
      "execution_count": null,
      "metadata": {
        "hidden": true,
        "lc_cell_meme": {
          "current": "88939f46-2bba-11ee-987e-0242ac110002-2-b580-678f",
          "next": "88939fe6-2bba-11ee-987e-0242ac110002-2-a88e-2be7",
          "previous": "88939e9c-2bba-11ee-987e-0242ac110002-2-f8b9-e945"
        }
      },
      "outputs": [],
      "source": [
        "!cat ansible.cfg"
      ]
    },
    {
      "cell_type": "markdown",
      "metadata": {
        "hidden": true,
        "lc_cell_meme": {
          "current": "88939fe6-2bba-11ee-987e-0242ac110002-2-a88e-2be7",
          "next": "8893a086-2bba-11ee-987e-0242ac110002-2-f6a1-ceaa",
          "previous": "88939f46-2bba-11ee-987e-0242ac110002-2-b580-678f"
        }
      },
      "source": [
        "UnitGroupに属する全てのVCノードに対して Ansible で接続できることを確認します。\n",
        "\n",
        "> ここでは、複数のVCノードをまとめて扱うためにAnsibleのグループを指定しています。グループ名は UnitGroup名と同じ値にしてあります。"
      ]
    },
    {
      "cell_type": "code",
      "execution_count": null,
      "metadata": {
        "hidden": true,
        "lc_cell_meme": {
          "current": "8893a086-2bba-11ee-987e-0242ac110002-2-f6a1-ceaa",
          "next": "8893a16c-2bba-11ee-987e-0242ac110002-2-dd9b-a12a",
          "previous": "88939fe6-2bba-11ee-987e-0242ac110002-2-a88e-2be7"
        }
      },
      "outputs": [],
      "source": [
        "!ansible {ugroup.name} -m ping"
      ]
    },
    {
      "cell_type": "markdown",
      "metadata": {
        "hidden": true,
        "lc_cell_meme": {
          "current": "8893a16c-2bba-11ee-987e-0242ac110002-2-dd9b-a12a",
          "next": "8893a234-2bba-11ee-987e-0242ac110002-2-c389-7f77",
          "previous": "8893a086-2bba-11ee-987e-0242ac110002-2-f6a1-ceaa"
        }
      },
      "source": [
        "#### NFSサーバの確認"
      ]
    },
    {
      "cell_type": "markdown",
      "metadata": {
        "hidden": true,
        "lc_cell_meme": {
          "current": "8893a234-2bba-11ee-987e-0242ac110002-2-c389-7f77",
          "next": "8893a2d4-2bba-11ee-987e-0242ac110002-2-8da1-81f1",
          "previous": "8893a16c-2bba-11ee-987e-0242ac110002-2-dd9b-a12a"
        }
      },
      "source": [
        "managerノードのNFSサーバのサービス状態を確認します。"
      ]
    },
    {
      "cell_type": "code",
      "execution_count": null,
      "metadata": {
        "hidden": true,
        "lc_cell_meme": {
          "current": "8893a2d4-2bba-11ee-987e-0242ac110002-2-8da1-81f1",
          "next": "8893a37e-2bba-11ee-987e-0242ac110002-2-5c09-8240",
          "previous": "8893a234-2bba-11ee-987e-0242ac110002-2-c389-7f77"
        }
      },
      "outputs": [],
      "source": [
        "!ansible {ugroup.name}_{unit_mgr.name} -b -a 'systemctl status nfs-server'"
      ]
    },
    {
      "cell_type": "markdown",
      "metadata": {
        "hidden": true,
        "lc_cell_meme": {
          "current": "8893a37e-2bba-11ee-987e-0242ac110002-2-5c09-8240",
          "next": "8893a428-2bba-11ee-987e-0242ac110002-2-0620-9bc8",
          "previous": "8893a2d4-2bba-11ee-987e-0242ac110002-2-8da1-81f1"
        }
      },
      "source": [
        "NFSエクスポートの状態を確認します。managerノードの起動時は全てのノードに対してアクセス可能な状態に設定されています。後ほどworkerノードを起動してNFSクライアントのIPアドレスが確定した時点で`/etc/exports`の設定を更新し、アクセスできるノードの制限を行います。"
      ]
    },
    {
      "cell_type": "code",
      "execution_count": null,
      "metadata": {
        "hidden": true,
        "lc_cell_meme": {
          "current": "8893a428-2bba-11ee-987e-0242ac110002-2-0620-9bc8",
          "next": "8893a4d2-2bba-11ee-987e-0242ac110002-2-90ed-4289",
          "previous": "8893a37e-2bba-11ee-987e-0242ac110002-2-5c09-8240"
        }
      },
      "outputs": [],
      "source": [
        "!ansible {ugroup.name}_{unit_mgr.name} -b -a 'exportfs -v'"
      ]
    },
    {
      "cell_type": "markdown",
      "metadata": {
        "hidden": true,
        "lc_cell_meme": {
          "current": "8893a4d2-2bba-11ee-987e-0242ac110002-2-90ed-4289",
          "next": "8893a572-2bba-11ee-987e-0242ac110002-2-ba56-b884",
          "previous": "8893a428-2bba-11ee-987e-0242ac110002-2-0620-9bc8"
        }
      },
      "source": [
        "ディレクトリのパーミッションを設定します。"
      ]
    },
    {
      "cell_type": "code",
      "execution_count": null,
      "metadata": {
        "hidden": true,
        "lc_cell_meme": {
          "current": "8893a572-2bba-11ee-987e-0242ac110002-2-ba56-b884",
          "next": "8893a612-2bba-11ee-987e-0242ac110002-2-9db3-da2f",
          "previous": "8893a4d2-2bba-11ee-987e-0242ac110002-2-90ed-4289"
        },
        "scrolled": true
      },
      "outputs": [],
      "source": [
        "!ansible {ugroup.name}_{unit_mgr.name} -b -m file -a 'path=/home mode=777'\n",
        "!ansible {ugroup.name}_{unit_mgr.name} -b -m file -a 'path=/exchange mode=777'"
      ]
    },
    {
      "cell_type": "markdown",
      "metadata": {
        "hidden": true,
        "lc_cell_meme": {
          "current": "8893a612-2bba-11ee-987e-0242ac110002-2-9db3-da2f",
          "next": "8893a6bc-2bba-11ee-987e-0242ac110002-2-84ef-384c",
          "previous": "8893a572-2bba-11ee-987e-0242ac110002-2-ba56-b884"
        }
      },
      "source": [
        "### workerノード"
      ]
    },
    {
      "cell_type": "markdown",
      "metadata": {
        "hidden": true,
        "lc_cell_meme": {
          "current": "8893a6bc-2bba-11ee-987e-0242ac110002-2-84ef-384c",
          "next": "8893a75c-2bba-11ee-987e-0242ac110002-2-c555-b1ca",
          "previous": "8893a612-2bba-11ee-987e-0242ac110002-2-9db3-da2f"
        }
      },
      "source": [
        "#### worker用のVCノードを起動する"
      ]
    },
    {
      "cell_type": "markdown",
      "metadata": {
        "hidden": true,
        "lc_cell_meme": {
          "current": "8893a75c-2bba-11ee-987e-0242ac110002-2-c555-b1ca",
          "next": "8893a806-2bba-11ee-987e-0242ac110002-2-2567-49f3",
          "previous": "8893a6bc-2bba-11ee-987e-0242ac110002-2-84ef-384c"
        }
      },
      "source": [
        "worker用VCノードの `spec` を指定します。"
      ]
    },
    {
      "cell_type": "code",
      "execution_count": null,
      "metadata": {
        "hidden": true,
        "lc_cell_meme": {
          "current": "8893a806-2bba-11ee-987e-0242ac110002-2-2567-49f3",
          "next": "8893a8a6-2bba-11ee-987e-0242ac110002-2-fdea-0665",
          "previous": "8893a75c-2bba-11ee-987e-0242ac110002-2-c555-b1ca"
        },
        "tags": [
          "vcp:rewrite:container_image"
        ]
      },
      "outputs": [],
      "source": [
        "%run scripts/group.py\n",
        "gvars = load_group_vars(ugroup_name)\n",
        "spec_worker = vcp.get_spec(gvars['vc_provider'], gvars['worker_flavor'])\n",
        "\n",
        "# Baseコンテナイメージを指定する\n",
        "spec_worker.image = 'harbor.vcloud.nii.ac.jp/vcp/coursewarehub:base'\n",
        "\n",
        "spec_worker.params_v = [\n",
        "    '/sys/fs/cgroup:/sys/fs/cgroup:ro',\n",
        "    '/lib/modules:/lib/modules:ro',\n",
        "]\n",
        "\n",
        "# workerノード数を指定する\n",
        "spec_worker.num_nodes = int(gvars['worker_nodes'])\n",
        "\n",
        "if 'worker_ipaddresses' in gvars:\n",
        "    # worker用VCノードに割り当てるIPアドレスを指定する\n",
        "    spec_worker.ip_addresses = gvars['worker_ipaddresses']\n",
        "elif 'vc_mac_addresses' in gvars:\n",
        "    # worker用VCノードに割り当てるMACアドレスを指定する\n",
        "    spec_worker.mac_addresses = gvars['worker_mac_addresses']\n",
        "\n",
        "# ルートボリュームサイズを指定する\n",
        "if vc_provider == 'aws':\n",
        "    spec_worker.volume_size = gvars['worker_disk_size']\n",
        "elif vc_provider == 'azure':\n",
        "    spec_worker.disk_size_gb = gvars['worker_disk_size']\n",
        "else:\n",
        "    print('This provider does not support the specification of the root volume size.' +\n",
        "          ' Does not set the disk size.', file=sys.stderr)\n",
        "\n",
        "# オンプレミスに構築する場合、SSHログインユーザ名を指定\n",
        "if vc_provider == 'onpremises':\n",
        "    spec_worker.user_name = ssh_user\n",
        "\n",
        "# VCノードにsshでログインするための公開鍵を指定する\n",
        "spec_worker.set_ssh_pubkey(gvars['ssh_public_key_path'])\n",
        "\n",
        "# NFSサーバのIPアドレスを指定する\n",
        "spec_worker.params_e.append(\"NFS_SERVER=\" + gvars['vc_ipaddress'])"
      ]
    },
    {
      "cell_type": "markdown",
      "metadata": {
        "hidden": true,
        "lc_cell_meme": {
          "current": "8893a8a6-2bba-11ee-987e-0242ac110002-2-fdea-0665",
          "next": "8893a946-2bba-11ee-987e-0242ac110002-2-a062-c5ab",
          "previous": "8893a806-2bba-11ee-987e-0242ac110002-2-2567-49f3"
        }
      },
      "source": [
        "`spec` の設定値を確認します。"
      ]
    },
    {
      "cell_type": "code",
      "execution_count": null,
      "metadata": {
        "hidden": true,
        "lc_cell_meme": {
          "current": "8893a946-2bba-11ee-987e-0242ac110002-2-a062-c5ab",
          "next": "8893a9f0-2bba-11ee-987e-0242ac110002-2-e08e-2321",
          "previous": "8893a8a6-2bba-11ee-987e-0242ac110002-2-fdea-0665"
        }
      },
      "outputs": [],
      "source": [
        "print(spec_worker)"
      ]
    },
    {
      "cell_type": "markdown",
      "metadata": {
        "hidden": true,
        "lc_cell_meme": {
          "current": "8893a9f0-2bba-11ee-987e-0242ac110002-2-e08e-2321",
          "next": "8893aa90-2bba-11ee-987e-0242ac110002-2-749a-e003",
          "previous": "8893a946-2bba-11ee-987e-0242ac110002-2-a062-c5ab"
        }
      },
      "source": [
        "worker用VCノードを起動します。"
      ]
    },
    {
      "cell_type": "code",
      "execution_count": null,
      "metadata": {
        "hidden": true,
        "lc_cell_meme": {
          "current": "8893aa90-2bba-11ee-987e-0242ac110002-2-749a-e003",
          "next": "8893ab30-2bba-11ee-987e-0242ac110002-2-882c-2d6c",
          "previous": "8893a9f0-2bba-11ee-987e-0242ac110002-2-e08e-2321"
        },
        "scrolled": true
      },
      "outputs": [],
      "source": [
        "unit_worker = ugroup.create_unit('worker', spec_worker)"
      ]
    },
    {
      "cell_type": "markdown",
      "metadata": {
        "hidden": true,
        "lc_cell_meme": {
          "current": "8893ab30-2bba-11ee-987e-0242ac110002-2-882c-2d6c",
          "next": "8893abda-2bba-11ee-987e-0242ac110002-2-58df-6683",
          "previous": "8893aa90-2bba-11ee-987e-0242ac110002-2-749a-e003"
        }
      },
      "source": [
        "起動したVCノードの一覧を表示します。\n",
        "\n",
        "vcname:　本ノートブックで指定した、`UnitGroup`  \n",
        "unit_name:　`worker`"
      ]
    },
    {
      "cell_type": "code",
      "execution_count": null,
      "metadata": {
        "hidden": true,
        "lc_cell_meme": {
          "current": "8893abda-2bba-11ee-987e-0242ac110002-2-58df-6683",
          "next": "8893ac84-2bba-11ee-987e-0242ac110002-2-b4d3-0cb6",
          "previous": "8893ab30-2bba-11ee-987e-0242ac110002-2-882c-2d6c"
        }
      },
      "outputs": [],
      "source": [
        "unit_worker.df_nodes()"
      ]
    },
    {
      "cell_type": "markdown",
      "metadata": {
        "hidden": true,
        "lc_cell_meme": {
          "current": "8893ac84-2bba-11ee-987e-0242ac110002-2-b4d3-0cb6",
          "next": "8893ad24-2bba-11ee-987e-0242ac110002-2-4331-b8f3",
          "previous": "8893abda-2bba-11ee-987e-0242ac110002-2-58df-6683"
        }
      },
      "source": [
        "#### workerノードに対するAnsibleの設定"
      ]
    },
    {
      "cell_type": "markdown",
      "metadata": {
        "hidden": true,
        "lc_cell_meme": {
          "current": "8893ad24-2bba-11ee-987e-0242ac110002-2-4331-b8f3",
          "next": "8893adce-2bba-11ee-987e-0242ac110002-2-da39-3a9d",
          "previous": "8893ac84-2bba-11ee-987e-0242ac110002-2-b4d3-0cb6"
        }
      },
      "source": [
        "VCノードにSSHでログインできるようにするために `~/.ssh/known_hosts` の更新を行います。"
      ]
    },
    {
      "cell_type": "code",
      "execution_count": null,
      "metadata": {
        "hidden": true,
        "lc_cell_meme": {
          "current": "8893adce-2bba-11ee-987e-0242ac110002-2-da39-3a9d",
          "next": "8893ae6e-2bba-11ee-987e-0242ac110002-2-ba7a-2d75",
          "previous": "8893ad24-2bba-11ee-987e-0242ac110002-2-4331-b8f3"
        }
      },
      "outputs": [],
      "source": [
        "!mkdir -p -m 0700 ~/.ssh\n",
        "!touch ~/.ssh/known_hosts\n",
        "for addr in unit_worker.find_ip_addresses():\n",
        "    !ssh-keygen -R {addr}\n",
        "    check_update_known_hosts(addr)\n",
        "    !ssh-keyscan -H {addr} >> ~/.ssh/known_hosts"
      ]
    },
    {
      "cell_type": "markdown",
      "metadata": {
        "hidden": true,
        "lc_cell_meme": {
          "current": "8893ae6e-2bba-11ee-987e-0242ac110002-2-ba7a-2d75",
          "next": "8893af0e-2bba-11ee-987e-0242ac110002-2-af80-8782",
          "previous": "8893adce-2bba-11ee-987e-0242ac110002-2-da39-3a9d"
        }
      },
      "source": [
        "起動したVCノードに対応するエントリを Ansible のインベントリに登録します。\n",
        "\n",
        "> Ansibleで操作を行うためには、操作対象のホスト(IPアドレス)をインベントリに登録する必要があります。"
      ]
    },
    {
      "cell_type": "code",
      "execution_count": null,
      "metadata": {
        "hidden": true,
        "lc_cell_meme": {
          "current": "8893af0e-2bba-11ee-987e-0242ac110002-2-af80-8782",
          "next": "8893afb8-2bba-11ee-987e-0242ac110002-2-fb47-1405",
          "previous": "8893ae6e-2bba-11ee-987e-0242ac110002-2-ba7a-2d75"
        }
      },
      "outputs": [],
      "source": [
        "inventory = {'all': {'children': {\n",
        "    ugroup.name: {\n",
        "        'children': {\n",
        "            f'{ugroup.name}_{unit_worker.name}': {\n",
        "                'hosts': dict([(x, {}) for x in unit_worker.find_ip_addresses()]),\n",
        "            },\n",
        "        },\n",
        "    },\n",
        "}}}\n",
        "\n",
        "generate_edit_link(update_inventory_yml(inventory))"
      ]
    },
    {
      "cell_type": "markdown",
      "metadata": {
        "hidden": true,
        "lc_cell_meme": {
          "current": "8893afb8-2bba-11ee-987e-0242ac110002-2-fb47-1405",
          "next": "8893b058-2bba-11ee-987e-0242ac110002-2-cee9-e7bf",
          "previous": "8893af0e-2bba-11ee-987e-0242ac110002-2-af80-8782"
        }
      },
      "source": [
        "次のセルを実行すると作成したインベントリの内容を表示します。インベントリの内容を変更したい場合は、上のセルの出力結果に表示しているリンクから編集することができます。"
      ]
    },
    {
      "cell_type": "code",
      "execution_count": null,
      "metadata": {
        "hidden": true,
        "lc_cell_meme": {
          "current": "8893b058-2bba-11ee-987e-0242ac110002-2-cee9-e7bf",
          "next": "8893b102-2bba-11ee-987e-0242ac110002-2-394d-e9ee",
          "previous": "8893afb8-2bba-11ee-987e-0242ac110002-2-fb47-1405"
        }
      },
      "outputs": [],
      "source": [
        "!cat inventory.yml"
      ]
    },
    {
      "cell_type": "markdown",
      "metadata": {
        "hidden": true,
        "lc_cell_meme": {
          "current": "8893b102-2bba-11ee-987e-0242ac110002-2-394d-e9ee",
          "next": "8893b1a2-2bba-11ee-987e-0242ac110002-2-7196-063e",
          "previous": "8893b058-2bba-11ee-987e-0242ac110002-2-cee9-e7bf"
        }
      },
      "source": [
        "UnitGroupに属する全てのVCノードに対して Ansible で接続できることを確認します。\n",
        "\n",
        "> ここでは、複数のVCノードをまとめて扱うためにAnsibleのグループを指定しています。グループ名は UnitGroup名と同じ値にしてあります。"
      ]
    },
    {
      "cell_type": "code",
      "execution_count": null,
      "metadata": {
        "hidden": true,
        "lc_cell_meme": {
          "current": "8893b1a2-2bba-11ee-987e-0242ac110002-2-7196-063e",
          "next": "8893b24c-2bba-11ee-987e-0242ac110002-2-98f4-65a3",
          "previous": "8893b102-2bba-11ee-987e-0242ac110002-2-394d-e9ee"
        }
      },
      "outputs": [],
      "source": [
        "!ansible {ugroup.name} -m ping"
      ]
    },
    {
      "cell_type": "markdown",
      "metadata": {
        "hidden": true,
        "lc_cell_meme": {
          "current": "8893b24c-2bba-11ee-987e-0242ac110002-2-98f4-65a3",
          "next": "8893b33c-2bba-11ee-987e-0242ac110002-2-c656-f66e",
          "previous": "8893b1a2-2bba-11ee-987e-0242ac110002-2-7196-063e"
        }
      },
      "source": [
        "#### NFSの設定"
      ]
    },
    {
      "cell_type": "markdown",
      "metadata": {
        "hidden": true,
        "lc_cell_meme": {
          "current": "8893b33c-2bba-11ee-987e-0242ac110002-2-c656-f66e",
          "next": "8893b3e6-2bba-11ee-987e-0242ac110002-2-2674-eb1c",
          "previous": "8893b24c-2bba-11ee-987e-0242ac110002-2-98f4-65a3"
        }
      },
      "source": [
        "workerノードにおけるNFSマウントの状態を確認します。`/jupyter`, `/exchange`のエントリが存在していることを確認してください。"
      ]
    },
    {
      "cell_type": "code",
      "execution_count": null,
      "metadata": {
        "hidden": true,
        "lc_cell_meme": {
          "current": "8893b3e6-2bba-11ee-987e-0242ac110002-2-2674-eb1c",
          "next": "8893b486-2bba-11ee-987e-0242ac110002-2-fbcc-656f",
          "previous": "8893b33c-2bba-11ee-987e-0242ac110002-2-c656-f66e"
        }
      },
      "outputs": [],
      "source": [
        "!ansible {ugroup.name}_{unit_worker.name} -a 'mount -t nfs4'"
      ]
    },
    {
      "cell_type": "markdown",
      "metadata": {
        "hidden": true,
        "lc_cell_meme": {
          "current": "8893b486-2bba-11ee-987e-0242ac110002-2-fbcc-656f",
          "next": "8893b526-2bba-11ee-987e-0242ac110002-2-66a7-5c50",
          "previous": "8893b3e6-2bba-11ee-987e-0242ac110002-2-2674-eb1c"
        }
      },
      "source": [
        "NFSサーバの `/etc/exports` の設定を更新します。NFSサーバにアクセスできるNFSクライアントをworkerノードのみとなるように設定します。"
      ]
    },
    {
      "cell_type": "code",
      "execution_count": null,
      "metadata": {
        "hidden": true,
        "lc_cell_meme": {
          "current": "8893b526-2bba-11ee-987e-0242ac110002-2-66a7-5c50",
          "next": "8893b5d0-2bba-11ee-987e-0242ac110002-2-6721-c337",
          "previous": "8893b486-2bba-11ee-987e-0242ac110002-2-fbcc-656f"
        },
        "scrolled": true
      },
      "outputs": [],
      "source": [
        "from tempfile import TemporaryDirectory\n",
        "from pathlib import Path\n",
        "\n",
        "exports_opts = 'rw,fsid=0,no_root_squash,no_subtree_check,sync,crossmnt'\n",
        "with TemporaryDirectory() as workdir:\n",
        "    exports = Path(workdir) / f'{ugroup_name}.exports'\n",
        "    with exports.open(mode='w') as f:\n",
        "        for addr in unit_worker.find_ip_addresses():\n",
        "            f.write(f'/exported/{ugroup_name} {addr}({exports_opts})\\n')\n",
        "    !cat {exports}\n",
        "    !ansible {ugroup.name}_{unit_mgr.name} -b -m copy -a \\\n",
        "        'src={exports} dest=/etc/exports.d/ backup=yes'"
      ]
    },
    {
      "cell_type": "markdown",
      "metadata": {
        "hidden": true,
        "lc_cell_meme": {
          "current": "8893b5d0-2bba-11ee-987e-0242ac110002-2-6721-c337",
          "next": "8893b670-2bba-11ee-987e-0242ac110002-2-a8cd-1b5e",
          "previous": "8893b526-2bba-11ee-987e-0242ac110002-2-66a7-5c50"
        }
      },
      "source": [
        "設定ファイルを読み込ませてエクスポート設定を更新します。"
      ]
    },
    {
      "cell_type": "code",
      "execution_count": null,
      "metadata": {
        "hidden": true,
        "lc_cell_meme": {
          "current": "8893b670-2bba-11ee-987e-0242ac110002-2-a8cd-1b5e",
          "next": "8893b710-2bba-11ee-987e-0242ac110002-2-aa18-2493",
          "previous": "8893b5d0-2bba-11ee-987e-0242ac110002-2-6721-c337"
        }
      },
      "outputs": [],
      "source": [
        "!ansible {ugroup.name}_{unit_mgr.name} -b -a 'exportfs -r -v'"
      ]
    },
    {
      "cell_type": "markdown",
      "metadata": {
        "hidden": true,
        "lc_cell_meme": {
          "current": "8893b710-2bba-11ee-987e-0242ac110002-2-aa18-2493",
          "next": "8893b7ba-2bba-11ee-987e-0242ac110002-2-e402-69d5",
          "previous": "8893b670-2bba-11ee-987e-0242ac110002-2-a8cd-1b5e"
        }
      },
      "source": [
        "NFSサーバ側に作成したファイルをNFSクライアント側で参照できることを確認します。"
      ]
    },
    {
      "cell_type": "code",
      "execution_count": null,
      "metadata": {
        "hidden": true,
        "lc_cell_meme": {
          "current": "8893b7ba-2bba-11ee-987e-0242ac110002-2-e402-69d5",
          "next": "8893b86e-2bba-11ee-987e-0242ac110002-2-2560-1b3e",
          "previous": "8893b710-2bba-11ee-987e-0242ac110002-2-aa18-2493"
        },
        "scrolled": true
      },
      "outputs": [],
      "source": [
        "!ansible {ugroup.name}_{unit_mgr.name} -m file -a 'path=/jupyter/xxx state=touch'\n",
        "!ansible {ugroup.name}_{unit_mgr.name} -m file -a 'path=/exchange/xxx state=touch'\n",
        "!ansible {ugroup.name}_{unit_worker.name} -a 'test -f /jupyter/xxx'\n",
        "!ansible {ugroup.name}_{unit_worker.name} -a 'test -f /exchange/xxx'\n",
        "!ansible {ugroup.name} -m file -a 'path=/jupyter/xxx state=absent'\n",
        "!ansible {ugroup.name} -m file -a 'path=/exchange/xxx state=absent'"
      ]
    },
    {
      "cell_type": "markdown",
      "metadata": {
        "heading_collapsed": true,
        "lc_cell_meme": {
          "current": "8893b86e-2bba-11ee-987e-0242ac110002-2-2560-1b3e",
          "next": "8893b918-2bba-11ee-987e-0242ac110002-2-340d-f4b2",
          "previous": "8893b7ba-2bba-11ee-987e-0242ac110002-2-e402-69d5"
        }
      },
      "source": [
        "## Docker Swarmの設定\n",
        "\n",
        "Docker Swarm の設定を行います。"
      ]
    },
    {
      "cell_type": "markdown",
      "metadata": {
        "hidden": true,
        "lc_cell_meme": {
          "current": "8893b918-2bba-11ee-987e-0242ac110002-2-340d-f4b2",
          "next": "8893b9b8-2bba-11ee-987e-0242ac110002-2-b78c-026f",
          "previous": "8893b86e-2bba-11ee-987e-0242ac110002-2-2560-1b3e"
        }
      },
      "source": [
        "Docker Swarmの設定を行う前に、各VCノードで Docker Engine が実行されていることを確認します。"
      ]
    },
    {
      "cell_type": "code",
      "execution_count": null,
      "metadata": {
        "hidden": true,
        "lc_cell_meme": {
          "current": "8893b9b8-2bba-11ee-987e-0242ac110002-2-b78c-026f",
          "next": "8893ba58-2bba-11ee-987e-0242ac110002-2-8f81-5ccd",
          "previous": "8893b918-2bba-11ee-987e-0242ac110002-2-340d-f4b2"
        },
        "scrolled": true
      },
      "outputs": [],
      "source": [
        "!ansible {ugroup.name} -a 'docker info'"
      ]
    },
    {
      "cell_type": "markdown",
      "metadata": {
        "hidden": true,
        "lc_cell_meme": {
          "current": "8893ba58-2bba-11ee-987e-0242ac110002-2-8f81-5ccd",
          "next": "8893baf8-2bba-11ee-987e-0242ac110002-2-7afd-1533",
          "previous": "8893b9b8-2bba-11ee-987e-0242ac110002-2-b78c-026f"
        }
      },
      "source": [
        "manager用VCノードで Docker Swarmの初期セットアップを行います。"
      ]
    },
    {
      "cell_type": "code",
      "execution_count": null,
      "metadata": {
        "hidden": true,
        "lc_cell_meme": {
          "current": "8893baf8-2bba-11ee-987e-0242ac110002-2-7afd-1533",
          "next": "8893bba2-2bba-11ee-987e-0242ac110002-2-0f2d-6998",
          "previous": "8893ba58-2bba-11ee-987e-0242ac110002-2-8f81-5ccd"
        }
      },
      "outputs": [],
      "source": [
        "manager_ip = gvars['vc_ipaddress']\n",
        "!ansible {ugroup.name}_{unit_mgr.name} -a 'docker swarm init \\\n",
        "    --default-addr-pool={{{{docker_address_pool}}}} --advertise-addr={manager_ip}'"
      ]
    },
    {
      "cell_type": "markdown",
      "metadata": {
        "hidden": true,
        "lc_cell_meme": {
          "current": "8893bba2-2bba-11ee-987e-0242ac110002-2-0f2d-6998",
          "next": "8893bc42-2bba-11ee-987e-0242ac110002-2-0d90-18bb",
          "previous": "8893baf8-2bba-11ee-987e-0242ac110002-2-7afd-1533"
        }
      },
      "source": [
        "トークンの値を取得します。"
      ]
    },
    {
      "cell_type": "code",
      "execution_count": null,
      "metadata": {
        "hidden": true,
        "lc_cell_meme": {
          "current": "8893bc42-2bba-11ee-987e-0242ac110002-2-0d90-18bb",
          "next": "8893bce2-2bba-11ee-987e-0242ac110002-2-1af3-1ff6",
          "previous": "8893bba2-2bba-11ee-987e-0242ac110002-2-0f2d-6998"
        }
      },
      "outputs": [],
      "source": [
        "out = !ansible {ugroup.name}_{unit_mgr.name} -a 'docker swarm join-token -q worker'\n",
        "if out[0].find('CHANGED') >= 0 or out[0].find('SUCCESS') >= 0:\n",
        "    swarm_token = out[1]\n",
        "    print(swarm_token)\n",
        "else:\n",
        "    raise"
      ]
    },
    {
      "cell_type": "markdown",
      "metadata": {
        "hidden": true,
        "lc_cell_meme": {
          "current": "8893bce2-2bba-11ee-987e-0242ac110002-2-1af3-1ff6",
          "next": "8893bd82-2bba-11ee-987e-0242ac110002-2-a0f5-72cc",
          "previous": "8893bc42-2bba-11ee-987e-0242ac110002-2-0d90-18bb"
        }
      },
      "source": [
        "workerノードを追加します。"
      ]
    },
    {
      "cell_type": "code",
      "execution_count": null,
      "metadata": {
        "hidden": true,
        "lc_cell_meme": {
          "current": "8893bd82-2bba-11ee-987e-0242ac110002-2-a0f5-72cc",
          "next": "8893be22-2bba-11ee-987e-0242ac110002-2-410b-449f",
          "previous": "8893bce2-2bba-11ee-987e-0242ac110002-2-1af3-1ff6"
        }
      },
      "outputs": [],
      "source": [
        "!ansible {ugroup.name}_{unit_worker.name} -a \\\n",
        "    'docker swarm join --token {swarm_token} {manager_ip}:2377'"
      ]
    },
    {
      "cell_type": "markdown",
      "metadata": {
        "hidden": true,
        "lc_cell_meme": {
          "current": "8893be22-2bba-11ee-987e-0242ac110002-2-410b-449f",
          "next": "8893becc-2bba-11ee-987e-0242ac110002-2-d8a9-66e9",
          "previous": "8893bd82-2bba-11ee-987e-0242ac110002-2-a0f5-72cc"
        }
      },
      "source": [
        "Docker Swarmのノード一覧を表示します。"
      ]
    },
    {
      "cell_type": "code",
      "execution_count": null,
      "metadata": {
        "hidden": true,
        "lc_cell_meme": {
          "current": "8893becc-2bba-11ee-987e-0242ac110002-2-d8a9-66e9",
          "next": "8893bf6c-2bba-11ee-987e-0242ac110002-2-9fb5-1573",
          "previous": "8893be22-2bba-11ee-987e-0242ac110002-2-410b-449f"
        },
        "scrolled": false
      },
      "outputs": [],
      "source": [
        "!ansible {ugroup.name}_{unit_mgr.name} -a 'docker node ls'"
      ]
    },
    {
      "cell_type": "markdown",
      "metadata": {
        "hidden": true,
        "lc_cell_meme": {
          "current": "8893bf6c-2bba-11ee-987e-0242ac110002-2-9fb5-1573",
          "next": "8893c00c-2bba-11ee-987e-0242ac110002-2-df93-ba29",
          "previous": "8893becc-2bba-11ee-987e-0242ac110002-2-d8a9-66e9"
        }
      },
      "source": [
        "Docker Swarmのノード数が起動したVCノードと一致していることを確認します。"
      ]
    },
    {
      "cell_type": "code",
      "execution_count": null,
      "metadata": {
        "hidden": true,
        "lc_cell_meme": {
          "current": "8893c00c-2bba-11ee-987e-0242ac110002-2-df93-ba29",
          "next": null,
          "previous": "8893bf6c-2bba-11ee-987e-0242ac110002-2-9fb5-1573"
        }
      },
      "outputs": [],
      "source": [
        "!ansible {ugroup.name}_{unit_mgr.name} -m shell -a \\\n",
        "    'test $(docker node ls -q | wc -l) -eq {worker_nodes + 1}'"
      ]
    }
  ],
  "metadata": {
    "kernelspec": {
      "display_name": "Python 3",
      "language": "python",
      "name": "python3"
    },
    "language_info": {
      "file_extension": ".py",
      "mimetype": "text/x-python",
      "name": "python",
      "nbconvert_exporter": "python",
      "pygments_lexer": "ipython3",
      "version": "3.10.4"
    },
    "lc_notebook_meme": {
      "current": "88934186-2bba-11ee-987e-0242ac110002",
      "lc_server_signature": {
        "current": {
          "notebook_dir": "/notebooks/notebook",
          "notebook_path": "/work_terayama/yamaguchi-hub/notebooks",
          "server_url": "https://vcc1045.vcp-handson.org/jupyter3/",
          "signature_id": "3c8e5600-416c-11ee-819d-0242ac110002"
        }
      }
    },
    "toc": {
      "base_numbering": 1,
      "nav_menu": {},
      "number_sections": true,
      "sideBar": true,
      "skip_h1_title": true,
      "title_cell": "Table of Contents",
      "title_sidebar": "Contents",
      "toc_cell": false,
      "toc_position": {
        "height": "calc(100% - 180px)",
        "left": "10px",
        "top": "150px",
        "width": "285.3px"
      },
      "toc_section_display": true,
      "toc_window_display": true
    }
  },
  "nbformat": 4,
  "nbformat_minor": 2
}
