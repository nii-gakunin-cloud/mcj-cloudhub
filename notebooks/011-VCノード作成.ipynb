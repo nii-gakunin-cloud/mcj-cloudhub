{
  "cells": [
    {
      "cell_type": "markdown",
      "metadata": {
        "lc_cell_meme": {
          "current": "8893444c-2bba-11ee-987e-0242ac110002-2-73c3-2380",
          "next": "88934546-2bba-11ee-987e-0242ac110002-2-a666-8fd2",
          "previous": null
        }
      },
      "source": [
        "# VC\u30ce\u30fc\u30c9\u306e\u4f5c\u6210\n",
        "\n",
        "---\n",
        "\n",
        "Jupyterhub\u3092\u69cb\u7bc9\u3059\u308b\u305f\u3081\u30ce\u30fc\u30c9\u3092VCP SDK\u3092\u7528\u3044\u3066\u4f5c\u6210\u3057\u307e\u3059\u3002"
      ]
    },
    {
      "cell_type": "markdown",
      "metadata": {
        "lc_cell_meme": {
          "current": "88934546-2bba-11ee-987e-0242ac110002-2-a666-8fd2",
          "next": "2f4ca2d4-7f93-11ee-880b-0242ac110002",
          "previous": "8893444c-2bba-11ee-987e-0242ac110002-2-73c3-2380"
        }
      },
      "source": [
        "## \u306f\u3058\u3081\u306b\n",
        "\n",
        "\u3053\u306eNotebook\u3067\u306fJupyterHub\u74b0\u5883\u3092\u69cb\u7bc9\u3059\u308b\u305f\u3081\u306e\u30ce\u30fc\u30c9\u4f5c\u6210\u3092\u884c\u3044\u307e\u3059\u3002manager\u30ce\u30fc\u30c9\u306bNFS\u30b5\u30fc\u30d0\u3092\u914d\u7f6e\u3059\u308b\u69cb\u6210\u3068\u3057\u307e\u3059\u3002  \n",
        "\u672c\u30ce\u30fc\u30c8\u30d6\u30c3\u30af\u3067\u69cb\u7bc9\u3059\u308b\u90e8\u5206\u3092\u4ee5\u4e0b\u306b\u56f3\u793a\u3057\u307e\u3059\u3002"
      ]
    },
    {
      "cell_type": "markdown",
      "metadata": {
        "lc_cell_meme": {
          "current": "2f4ca2d4-7f93-11ee-880b-0242ac110002",
          "next": "889345fa-2bba-11ee-987e-0242ac110002-2-e245-06fb",
          "previous": "88934546-2bba-11ee-987e-0242ac110002-2-a666-8fd2"
        }
      },
      "source": [
        "![\u30e2\u30b8\u30e5\u30fc\u30eb\u69cb\u6210](images/011/arch-011.png)"
      ]
    },
    {
      "cell_type": "markdown",
      "metadata": {
        "lc_cell_meme": {
          "current": "889345fa-2bba-11ee-987e-0242ac110002-2-e245-06fb",
          "next": "889347d0-2bba-11ee-987e-0242ac110002-2-36a8-5bc4",
          "previous": "2f4ca2d4-7f93-11ee-880b-0242ac110002"
        }
      },
      "source": [
        "### \u30ce\u30fc\u30c9\u69cb\u6210\n",
        "\n",
        "\n",
        "\u4f5c\u6210\u3059\u308b\u30ce\u30fc\u30c9\u306fJupyterHub, PostgreSQL\u306a\u3069\u306e\u30b3\u30f3\u30c6\u30ca\u3092\u5b9f\u884c\u3059\u308b manager\u30ce\u30fc\u30c9\u3068\u3001single-user Jupyter notebook server\u3092\u5b9f\u884c\u3059\u308b worker \u30ce\u30fc\u30c9\u304b\u3089\u69cb\u6210\u3055\u308c\u307e\u3059\u3002"
      ]
    },
    {
      "cell_type": "markdown",
      "metadata": {
        "lc_cell_meme": {
          "current": "889347d0-2bba-11ee-987e-0242ac110002-2-36a8-5bc4",
          "next": "88934898-2bba-11ee-987e-0242ac110002-2-2733-ecb1",
          "previous": "889345fa-2bba-11ee-987e-0242ac110002-2-e245-06fb"
        }
      },
      "source": [
        "JupyterHub\u3067\u306fNotebook\u306a\u3069\u306e\u8cc7\u6750\u3092\u30ce\u30fc\u30c9\u9593\u3067\u5171\u6709\u3059\u308b\u305f\u3081\u306bNFS\u3092\u5229\u7528\u3057\u307e\u3059\u3002\u3053\u306eNotebook\u3067\u69cb\u7bc9\u3059\u308b\u30ce\u30fc\u30c9\u69cb\u6210\u3067\u306fmanager\u30ce\u30fc\u30c9\u306bNFS\u30b5\u30fc\u30d0\u306e\u6a5f\u80fd\u3092\u3082\u305f\u305b\u307e\u3059\u3002"
      ]
    },
    {
      "cell_type": "markdown",
      "metadata": {
        "lc_cell_meme": {
          "current": "88934898-2bba-11ee-987e-0242ac110002-2-2733-ecb1",
          "next": "88934942-2bba-11ee-987e-0242ac110002-2-cd34-2de4",
          "previous": "889347d0-2bba-11ee-987e-0242ac110002-2-36a8-5bc4"
        }
      },
      "source": [
        "### \u4e8b\u524d\u306b\u7528\u610f\u304c\u5fc5\u8981\u3068\u306a\u308b\u3082\u306e\u306b\u3064\u3044\u3066\n",
        "\n",
        "\u3053\u306eNotebook\u3092\u5b9f\u884c\u3059\u308b\u306b\u3042\u305f\u3063\u3066\u3001\u3042\u3089\u304b\u3058\u3081\u6e96\u5099\u304c\u5fc5\u8981\u3068\u306a\u308b\u3082\u306e\u306b\u3064\u3044\u3066\u4ee5\u4e0b\u306b\u8a18\u3057\u307e\u3059\u3002\n",
        "\n",
        "* VCC\u30a2\u30af\u30bb\u30b9\u30c8\u30fc\u30af\u30f3\n",
        "* SSH\u516c\u958b\u9375\u30da\u30a2\n",
        "* VC\u30ce\u30fc\u30c9\u306b\u5272\u308a\u5f53\u3066\u308b\u30a2\u30c9\u30ec\u30b9\n",
        "* NTP\u306e\u8a2d\u5b9a"
      ]
    },
    {
      "cell_type": "markdown",
      "metadata": {
        "lc_cell_meme": {
          "current": "88934942-2bba-11ee-987e-0242ac110002-2-cd34-2de4",
          "next": "88934a28-2bba-11ee-987e-0242ac110002-2-c102-dba1",
          "previous": "88934898-2bba-11ee-987e-0242ac110002-2-2733-ecb1"
        }
      },
      "source": [
        "####  VCC\u30a2\u30af\u30bb\u30b9\u30c8\u30fc\u30af\u30f3"
      ]
    },
    {
      "cell_type": "markdown",
      "metadata": {
        "lc_cell_meme": {
          "current": "88934a28-2bba-11ee-987e-0242ac110002-2-c102-dba1",
          "next": "88934ae6-2bba-11ee-987e-0242ac110002-2-bc96-b559",
          "previous": "88934942-2bba-11ee-987e-0242ac110002-2-cd34-2de4"
        }
      },
      "source": [
        "\u3053\u306eNotebook\u3067\u306fVCP SDK\u3092\u7528\u3044\u3066VC\u30ce\u30fc\u30c9(\u30af\u30e9\u30a6\u30c9\u306e\u8a08\u7b97\u8cc7\u6e90)\u3001VC\u30c7\u30a3\u30b9\u30af(\u30af\u30e9\u30a6\u30c9\u306e\u30b9\u30c8\u30ec\u30fc\u30b8)\u3092\u4f5c\u6210\u3057\u307e\u3059\u3002VCP SDK\u3092\u7528\u3044\u3066VC Controller(VCC)\u306e\u64cd\u4f5c\u3092\u884c\u3046\u305f\u3081\u306b VCC\u30a2\u30af\u30bb\u30b9\u30c8\u30fc\u30af\u30f3\u304c\u5fc5\u8981\u3068\u306a\u308a\u307e\u3059\u3002\n",
        "\n",
        "VCC\u30a2\u30af\u30bb\u30b9\u30c8\u30fc\u30af\u30f3\u304c\u306a\u3044\u5834\u5408\u306fVC\u7ba1\u7406\u8005\u306b\u30a2\u30af\u30bb\u30b9\u30c8\u30fc\u30af\u30f3\u306e\u767a\u884c\u3092\u4f9d\u983c\u3057\u3066\u304f\u3060\u3055\u3044\u3002"
      ]
    },
    {
      "cell_type": "markdown",
      "metadata": {
        "lc_cell_meme": {
          "current": "88934ae6-2bba-11ee-987e-0242ac110002-2-bc96-b559",
          "next": "88934b90-2bba-11ee-987e-0242ac110002-2-f5c6-51af",
          "previous": "88934a28-2bba-11ee-987e-0242ac110002-2-c102-dba1"
        }
      },
      "source": [
        "#### SSH\u516c\u958b\u9375\u30da\u30a2"
      ]
    },
    {
      "cell_type": "markdown",
      "metadata": {
        "lc_cell_meme": {
          "current": "88934b90-2bba-11ee-987e-0242ac110002-2-f5c6-51af",
          "next": "88934c30-2bba-11ee-987e-0242ac110002-2-b8a6-29b9",
          "previous": "88934ae6-2bba-11ee-987e-0242ac110002-2-bc96-b559"
        }
      },
      "source": [
        "\u4f5c\u6210\u3059\u308bVC\u30ce\u30fc\u30c9\u306b\u767b\u9332\u3059\u308bSSH\u306e\u516c\u958b\u9375\u3092\u7528\u610f\u3059\u308b\u5fc5\u8981\u304c\u3042\u308a\u307e\u3059\u3002\u3042\u3089\u304b\u3058\u3081\u4f5c\u6210\u3057\u305f\u3082\u306e\u3092\u3053\u306eNotebook\u74b0\u5883\u5185\u306b\u30a2\u30c3\u30d7\u30ed\u30fc\u30c9\u3059\u308b\u304b\u3001\u3053\u306e\u74b0\u5883\u5185\u3067\u516c\u958b\u9375\u30da\u30a2\u306e\u4f5c\u6210\u3092\u884c\u3063\u3066\u304f\u3060\u3055\u3044\u3002"
      ]
    },
    {
      "cell_type": "markdown",
      "metadata": {
        "lc_cell_meme": {
          "current": "88934c30-2bba-11ee-987e-0242ac110002-2-b8a6-29b9",
          "next": "88934cda-2bba-11ee-987e-0242ac110002-2-1599-c1c8",
          "previous": "88934b90-2bba-11ee-987e-0242ac110002-2-f5c6-51af"
        }
      },
      "source": [
        "#### VC\u30ce\u30fc\u30c9\u306b\u5272\u308a\u5f53\u3066\u308b\u30a2\u30c9\u30ec\u30b9"
      ]
    },
    {
      "cell_type": "markdown",
      "metadata": {
        "lc_cell_meme": {
          "current": "88934cda-2bba-11ee-987e-0242ac110002-2-1599-c1c8",
          "next": "88934d7a-2bba-11ee-987e-0242ac110002-2-8950-9462",
          "previous": "88934c30-2bba-11ee-987e-0242ac110002-2-b8a6-29b9"
        }
      },
      "source": [
        "VC\u30ce\u30fc\u30c9\u306e\u30cd\u30c3\u30c8\u30ef\u30fc\u30af\u30a4\u30f3\u30bf\u30fc\u30d5\u30a7\u30fc\u30b9\u306b\u5272\u308a\u5f53\u3066\u308b\u30a2\u30c9\u30ec\u30b9\u3092\u7528\u610f\u3057\u3066\u304f\u3060\u3055\u3044\u3002VC\u30ce\u30fc\u30c9\u306b\u306fIP\u30a2\u30c9\u30ec\u30b9\u3001\u307e\u305f\u306fMAC\u30a2\u30c9\u30ec\u30b9\u3092\u5272\u308a\u5f53\u3066\u308b\u3053\u3068\u304c\u3067\u304d\u307e\u3059\u3002"
      ]
    },
    {
      "cell_type": "markdown",
      "metadata": {
        "lc_cell_meme": {
          "current": "88934d7a-2bba-11ee-987e-0242ac110002-2-8950-9462",
          "next": "88934e1a-2bba-11ee-987e-0242ac110002-2-a06e-acd5",
          "previous": "88934cda-2bba-11ee-987e-0242ac110002-2-1599-c1c8"
        }
      },
      "source": [
        "IP\u30a2\u30c9\u30ec\u30b9\u3092\u5272\u308a\u5f53\u3066\u308b\u5834\u5408\u3001\u3053\u306eNotebook\u3067\u306fmanager\u30ce\u30fc\u30c9\u306e\u307f\u6307\u5b9a\u3059\u308b\u3053\u3068\u304c\u3067\u304d\u307e\u3059\u3002worker\u30ce\u30fc\u30c9\u306b\u3064\u3044\u3066\u306f\u7a7a\u3044\u3066\u3044\u308bIP\u30a2\u30c9\u30ec\u30b9\u304c\u81ea\u52d5\u7684\u306b\u5272\u308a\u3066\u3089\u308c\u307e\u3059\u3002"
      ]
    },
    {
      "cell_type": "markdown",
      "metadata": {
        "lc_cell_meme": {
          "current": "88934e1a-2bba-11ee-987e-0242ac110002-2-a06e-acd5",
          "next": "88934ec4-2bba-11ee-987e-0242ac110002-2-cf2c-e63a",
          "previous": "88934d7a-2bba-11ee-987e-0242ac110002-2-8950-9462"
        }
      },
      "source": [
        "MAC\u30a2\u30c9\u30ec\u30b9\u3092\u5272\u308a\u5f53\u3066\u308b\u5834\u5408\u306f\u3001\u4f5c\u6210\u3059\u308b\u5168\u3066\u306eVC\u30ce\u30fc\u30c9\u6570\u306b\u5bfe\u5fdc\u3059\u308bMAC\u30a2\u30c9\u30ec\u30b9\u3092\u6307\u5b9a\u3059\u308b\u5fc5\u8981\u304c\u3042\u308a\u307e\u3059\u3002"
      ]
    },
    {
      "cell_type": "markdown",
      "metadata": {
        "lc_cell_meme": {
          "current": "88934ec4-2bba-11ee-987e-0242ac110002-2-cf2c-e63a",
          "next": "88934f64-2bba-11ee-987e-0242ac110002-2-23ca-6479",
          "previous": "88934e1a-2bba-11ee-987e-0242ac110002-2-a06e-acd5"
        }
      },
      "source": [
        "#### NTP\u306e\u8a2d\u5b9a\n"
      ]
    },
    {
      "cell_type": "markdown",
      "metadata": {
        "lc_cell_meme": {
          "current": "88934f64-2bba-11ee-987e-0242ac110002-2-23ca-6479",
          "next": "88935004-2bba-11ee-987e-0242ac110002-2-a409-a7d5",
          "previous": "88934ec4-2bba-11ee-987e-0242ac110002-2-cf2c-e63a"
        }
      },
      "source": [
        "IdP\u3068\u9023\u643a\u3057\u3066\u8a8d\u8a3c\u3092\u884c\u3046\u5834\u5408\u306f\u6642\u523b\u304c\u6b63\u3057\u304f\u8a2d\u5b9a\u3055\u308c\u3066\u3044\u306a\u3044\u3068\u6b63\u3057\u304f\u52d5\u4f5c\u3057\u306a\u3044\u3053\u3068\u304c\u3042\u308a\u307e\u3059\u3002\u6642\u523b\u5408\u308f\u305b\u3092\u884c\u3046\u305f\u3081\u306bVC\u30ce\u30fc\u30c9\u306eNTP\u3092\u8a2d\u5b9a\u3059\u308b\u306b\u306f\u4e8b\u524d\u306bVC\u30b3\u30f3\u30c8\u30ed\u30fc\u30e9\u3078\u306e\u8a2d\u5b9a\u304c\u5fc5\u8981\u3068\u306a\u308a\u307e\u3059\u3002\n",
        "VCP\u306e\u30ea\u30ea\u30fc\u30b9\u30ce\u30fc\u30c8\u300c[Release/20.10.0 -- 2.\u6a5f\u80fd\u8ffd\u52a0](https://meatwiki.nii.ac.jp/confluence/pages/viewpage.action?pageId=32677360#id-%E3%83%AA%E3%83%AA%E3%83%BC%E3%82%B9%E3%83%8E%E3%83%BC%E3%83%88-Release/20.10.0(2020/10/30))\u300d\u306b\u8a18\u3055\u308c\u3066\u3044\u308b\u3088\u3046\u306b\u3001OCS\u904b\u7528\u62c5\u5f53\u8005\u306bVC\u30b3\u30f3\u30c8\u30ed\u30fc\u30e9\u3078\u306eNTP\u8a2d\u5b9a\u3092\u4f9d\u983c\u3057\u3066\u304f\u3060\u3055\u3044\u3002"
      ]
    },
    {
      "cell_type": "markdown",
      "metadata": {
        "lc_cell_meme": {
          "current": "88935004-2bba-11ee-987e-0242ac110002-2-a409-a7d5",
          "next": "889350ae-2bba-11ee-987e-0242ac110002-2-5c65-ee2e",
          "previous": "88934f64-2bba-11ee-987e-0242ac110002-2-23ca-6479"
        }
      },
      "source": [
        "## VC\u30ce\u30fc\u30c9\u306b\u95a2\u3059\u308b\u30d1\u30e9\u30e1\u30fc\u30bf\n",
        "\n",
        "JupyterHub\u306e\u69cb\u7bc9\u74b0\u5883\u3068\u306a\u308bVC\u30ce\u30fc\u30c9\u306b\u95a2\u3059\u308b\u30d1\u30e9\u30e1\u30fc\u30bf\u3092\u6307\u5b9a\u3057\u307e\u3059\u3002"
      ]
    },
    {
      "cell_type": "markdown",
      "metadata": {
        "lc_cell_meme": {
          "current": "889350ae-2bba-11ee-987e-0242ac110002-2-5c65-ee2e",
          "next": "8893514e-2bba-11ee-987e-0242ac110002-2-31a8-f6d3",
          "previous": "88935004-2bba-11ee-987e-0242ac110002-2-a409-a7d5"
        }
      },
      "source": [
        "### VCC\u30a2\u30af\u30bb\u30b9\u30c8\u30fc\u30af\u30f3\u306e\u5165\u529b"
      ]
    },
    {
      "cell_type": "markdown",
      "metadata": {
        "lc_cell_meme": {
          "current": "8893514e-2bba-11ee-987e-0242ac110002-2-31a8-f6d3",
          "next": "889351ee-2bba-11ee-987e-0242ac110002-2-b12c-710e",
          "previous": "889350ae-2bba-11ee-987e-0242ac110002-2-5c65-ee2e"
        }
      },
      "source": [
        "VC\u30ce\u30fc\u30c9\u3092\u8d77\u52d5\u3059\u308b\u306b\u306fVC Controller(VCC)\u306b\u30a2\u30af\u30bb\u30b9\u3057\u3066\u3001\u64cd\u4f5c\u3092\u884c\u3046\u5fc5\u8981\u304c\u3042\u308a\u307e\u3059\u3002VCC\u306b\u30a2\u30af\u30bb\u30b9\u3059\u308b\u305f\u3081\u306b\u5fc5\u8981\u3068\u306a\u308b\u30a2\u30af\u30bb\u30b9\u30c8\u30fc\u30af\u30f3\u3092\u3053\u3053\u3067\u5165\u529b\u3057\u307e\u3059\u3002"
      ]
    },
    {
      "cell_type": "markdown",
      "metadata": {
        "lc_cell_meme": {
          "current": "889351ee-2bba-11ee-987e-0242ac110002-2-b12c-710e",
          "next": "88935298-2bba-11ee-987e-0242ac110002-2-5a43-6045",
          "previous": "8893514e-2bba-11ee-987e-0242ac110002-2-31a8-f6d3"
        }
      },
      "source": [
        "\u6b21\u306e\u30bb\u30eb\u3092\u5b9f\u884c\u3059\u308b\u3068\u5165\u529b\u67a0\u304c\u8868\u793a\u3055\u308c\u308b\u306e\u3067\u30a2\u30af\u30bb\u30b9\u30c8\u30fc\u30af\u30f3\u306e\u5024\u3092\u5165\u529b\u3057\u3066\u304f\u3060\u3055\u3044\u3002\n",
        "\n",
        "> \u30a2\u30af\u30bb\u30b9\u30c8\u30fc\u30af\u30f3\u5165\u529b\u5f8c\u306b Enter \u30ad\u30fc\u3092\u62bc\u3059\u3053\u3068\u3067\u5165\u529b\u304c\u5b8c\u4e86\u3057\u307e\u3059\u3002"
      ]
    },
    {
      "cell_type": "code",
      "execution_count": null,
      "metadata": {
        "lc_cell_meme": {
          "current": "88935298-2bba-11ee-987e-0242ac110002-2-5a43-6045",
          "next": "88935338-2bba-11ee-987e-0242ac110002-2-7217-4801",
          "previous": "889351ee-2bba-11ee-987e-0242ac110002-2-b12c-710e"
        },
        "tags": [
          "vcp:skip",
          "vcp:parameters"
        ]
      },
      "outputs": [],
      "source": [
        "from getpass import getpass\n",
        "vcc_access_token = getpass()"
      ]
    },
    {
      "cell_type": "markdown",
      "metadata": {
        "lc_cell_meme": {
          "current": "88935338-2bba-11ee-987e-0242ac110002-2-7217-4801",
          "next": "889353d8-2bba-11ee-987e-0242ac110002-2-f369-9549",
          "previous": "88935298-2bba-11ee-987e-0242ac110002-2-5a43-6045"
        }
      },
      "source": [
        "\u5165\u529b\u3055\u308c\u305f\u30a2\u30af\u30bb\u30b9\u30c8\u30fc\u30af\u30f3\u304c\u6b63\u3057\u3044\u3053\u3068\u3092\u3001\u5b9f\u969b\u306bVCC\u306b\u30a2\u30af\u30bb\u30b9\u3057\u3066\u78ba\u8a8d\u3057\u307e\u3059\u3002"
      ]
    },
    {
      "cell_type": "code",
      "execution_count": null,
      "metadata": {
        "lc_cell_meme": {
          "current": "889353d8-2bba-11ee-987e-0242ac110002-2-f369-9549",
          "next": "88935482-2bba-11ee-987e-0242ac110002-2-7ba8-eed7",
          "previous": "88935338-2bba-11ee-987e-0242ac110002-2-7217-4801"
        },
        "tags": [
          "vcp:rewrite:vcpsdk"
        ]
      },
      "outputs": [],
      "source": [
        "from common import logsetting\n",
        "from vcpsdk.vcpsdk import VcpSDK\n",
        "\n",
        "vcp = VcpSDK(vcc_access_token)"
      ]
    },
    {
      "cell_type": "markdown",
      "metadata": {
        "lc_cell_meme": {
          "current": "88935482-2bba-11ee-987e-0242ac110002-2-7ba8-eed7",
          "next": "8893552c-2bba-11ee-987e-0242ac110002-2-704e-be0d",
          "previous": "889353d8-2bba-11ee-987e-0242ac110002-2-f369-9549"
        }
      },
      "source": [
        "\u4e0a\u306e\u30bb\u30eb\u306e\u5b9f\u884c\u7d50\u679c\u304c\u30a8\u30e9\u30fc\u3068\u306a\u308a\u4ee5\u4e0b\u306e\u3088\u3046\u306a\u30e1\u30c3\u30bb\u30fc\u30b8\u304c\u8868\u793a\u3055\u308c\u3066\u3044\u308b\u5834\u5408\u306f\u3001\u5165\u529b\u3055\u308c\u305f\u30a2\u30af\u30bb\u30b9\u30c8\u30fc\u30af\u30f3\u306b\u8aa4\u308a\u304c\u3042\u308a\u307e\u3059\u3002\n",
        "\n",
        "```\n",
        "ERROR - config vc failed: http_status(403)\n",
        "ERROR - 2021/XX/XX XX:XX:XX UTC: VCPAuthException: xxxxxxx:token lookup is failed: permission denied\n",
        "```\n",
        "\n",
        "\u30a8\u30e9\u30fc\u306b\u306a\u3063\u305f\u5834\u5408\u306f\u3053\u306e\u7bc0\u306e\u30bb\u30eb\u3092\u5168\u3066 `unfreeze` \u3057\u3066\u304b\u3089\u3001\u3082\u3046\u4e00\u5ea6\u30a2\u30af\u30bb\u30b9\u30c8\u30fc\u30af\u30f3\u306e\u5165\u529b\u3092\u884c\u3063\u3066\u304f\u3060\u3055\u3044\u3002"
      ]
    },
    {
      "cell_type": "markdown",
      "metadata": {
        "lc_cell_meme": {
          "current": "8893552c-2bba-11ee-987e-0242ac110002-2-704e-be0d",
          "next": "889355d6-2bba-11ee-987e-0242ac110002-2-d402-56b2",
          "previous": "88935482-2bba-11ee-987e-0242ac110002-2-7ba8-eed7"
        }
      },
      "source": [
        "### UnitGroup\u540d\u306e\u6307\u5b9a"
      ]
    },
    {
      "cell_type": "markdown",
      "metadata": {
        "lc_cell_meme": {
          "current": "889355d6-2bba-11ee-987e-0242ac110002-2-d402-56b2",
          "next": "88935680-2bba-11ee-987e-0242ac110002-2-7a86-c5a5",
          "previous": "8893552c-2bba-11ee-987e-0242ac110002-2-704e-be0d"
        }
      },
      "source": [
        "VCP\u306e\u69cb\u6210\u8981\u7d20\u306f\u4ee5\u4e0b\u306e\u3088\u3046\u306b\u306a\u3063\u3066\u3044\u307e\u3059\u3002\n",
        "\n",
        "* VC\u30ce\u30fc\u30c9\n",
        "  - \u30af\u30e9\u30a6\u30c9\u306b\u304a\u3051\u308b\u8a08\u7b97\u8cc7\u6e90(VM/BM)\n",
        "  - \u4f8b\u3048\u3070 Amazon EC2\u30a4\u30f3\u30b9\u30bf\u30f3\u30b9, Microsoft Azure VM \u306a\u3069\n",
        "* Unit\n",
        "  - \u540c\u8cea\u306eVC\u30ce\u30fc\u30c9\u306b\u3088\u308a\u69cb\u6210\u3055\u308c\u3066\u3044\u308b\u8981\u7d20\n",
        "  - \u540c\u3058Unit\u306b\u5c5e\u3059\u308bVC\u30ce\u30fc\u30c9\u306fCPU,\u30e1\u30e2\u30ea\u7b49\u306e\u8a08\u7b97\u8cc7\u6e90\u304c\u5168\u3066\u540c\u3058\u8a2d\u5b9a\u306b\u306a\u3063\u3066\u3044\u308b\n",
        "* UnitGroup\n",
        "  - \u8907\u6570\u306eUnit\u306b\u3088\u308a\u69cb\u6210\u3055\u308c\u3066\u3044\u308b\u8981\u7d20\n",
        "  - \u4f7f\u7528\u76ee\u7684\u3001\u30e9\u30a4\u30d5\u30b5\u30a4\u30af\u30eb\u306a\u3069\u306b\u5408\u308f\u305b\u3066\u3001\u8907\u6570\u306eUnit\u3092\u307e\u3068\u3081\u3066\u6271\u3046\u305f\u3081\u306e\u8981\u7d20"
      ]
    },
    {
      "cell_type": "markdown",
      "metadata": {
        "lc_cell_meme": {
          "current": "88935680-2bba-11ee-987e-0242ac110002-2-7a86-c5a5",
          "next": "88935720-2bba-11ee-987e-0242ac110002-2-6bc0-34a5",
          "previous": "889355d6-2bba-11ee-987e-0242ac110002-2-d402-56b2"
        }
      },
      "source": [
        "\u3053\u306eNotebook\u3067\u306f\u30ce\u30fc\u30c9\u306e\u5f79\u5272\u306b\u5fdc\u3058\u305f2\u3064\u306e\u30e6\u30cb\u30c3\u30c8\u3092\u4f5c\u6210\u3057\u307e\u3059\u3002\n",
        "* manager\u30e6\u30cb\u30c3\u30c8\n",
        "  - JupyterHub, auth-proxy, PostgreSQL\u30b3\u30f3\u30c6\u30ca\u3092\u5b9f\u884c\u3059\u308b\u30ce\u30fc\u30c9\n",
        "  - NFS\u30b5\u30fc\u30d0\u3092\u5b9f\u884c\u3059\u308b\n",
        "  - Docker Swarm\u306emanager\u30ce\u30fc\u30c9\n",
        "* worker\u30e6\u30cb\u30c3\u30c8\n",
        "  - JupyterHub\u306esingle-user Jupyter Notebook server \u30b3\u30f3\u30c6\u30ca\u3092\u5b9f\u884c\u3059\u308b\u30ce\u30fc\u30c9\n",
        "  - Docker Swarm \u306e worker\u30ce\u30fc\u30c9"
      ]
    },
    {
      "cell_type": "markdown",
      "metadata": {
        "lc_cell_meme": {
          "current": "88935720-2bba-11ee-987e-0242ac110002-2-6bc0-34a5",
          "next": "889357ca-2bba-11ee-987e-0242ac110002-2-a992-eea2",
          "previous": "88935680-2bba-11ee-987e-0242ac110002-2-7a86-c5a5"
        }
      },
      "source": [
        "2\u3064\u306e\u30e6\u30cb\u30c3\u30c8\u3092\u307e\u3068\u3081\u3066\u6271\u3046\u305f\u3081\u306eUnitGroup\u306e\u540d\u524d\u3092\u6307\u5b9a\u3057\u307e\u3059\u3002\u65e2\u5b58\u306eUnitGroup\u540d\u3092\u78ba\u8a8d\u3059\u308b\u305f\u3081\u306b\u73fe\u5728\u306eUnitGroup\u4e00\u89a7\u3092\u8868\u793a\u3057\u307e\u3059\u3002\u6b21\u306e\u30bb\u30eb\u3092\u5b9f\u884c\u3057`vcname`\u306b\u8868\u793a\u3055\u308c\u3066\u3044\u308b\u540d\u524d\u304c\u65e2\u5b58\u306eUnitGroup\u540d\u3068\u306a\u308a\u307e\u3059\u3002"
      ]
    },
    {
      "cell_type": "code",
      "execution_count": null,
      "metadata": {
        "lc_cell_meme": {
          "current": "889357ca-2bba-11ee-987e-0242ac110002-2-a992-eea2",
          "next": "8893586a-2bba-11ee-987e-0242ac110002-2-3b26-e302",
          "previous": "88935720-2bba-11ee-987e-0242ac110002-2-6bc0-34a5"
        }
      },
      "outputs": [],
      "source": [
        "vcp.df_ugroups()"
      ]
    },
    {
      "cell_type": "markdown",
      "metadata": {
        "lc_cell_meme": {
          "current": "8893586a-2bba-11ee-987e-0242ac110002-2-3b26-e302",
          "next": "8893590a-2bba-11ee-987e-0242ac110002-2-7e71-794d",
          "previous": "889357ca-2bba-11ee-987e-0242ac110002-2-a992-eea2"
        }
      },
      "source": [
        "\u3053\u306eNotebook\u3067\u4f5c\u6210\u3059\u308bUnitGroup\u540d\u3092\u6307\u5b9a\u3057\u3066\u304f\u3060\u3055\u3044\u3002\u4e0a\u8a18\u306e\u4e00\u89a7\u306b\u8868\u793a\u3055\u308c\u3066\u3044\u308b\u540d\u524d\u3068\u306e\u91cd\u8907\u3092\u907f\u3051\u3066\u4e0b\u3055\u3044\u3002\u307e\u305fJupyterHub\u306eUnitGroup\u540d\u306b\u306f\u82f1\u6570\u5b57\u306e\u307f\u306e\u5024\u3092\u6307\u5b9a\u3057\u3066\u304f\u3060\u3055\u3044\uff08\u5148\u982d\u6587\u5b57\u306b\u6570\u5b57\u306f\u6307\u5b9a\u3067\u304d\u306a\u3044\uff09\u3002"
      ]
    },
    {
      "cell_type": "code",
      "execution_count": null,
      "metadata": {
        "lc_cell_meme": {
          "current": "8893590a-2bba-11ee-987e-0242ac110002-2-7e71-794d",
          "next": "889359b4-2bba-11ee-987e-0242ac110002-2-66a0-cd3d",
          "previous": "8893586a-2bba-11ee-987e-0242ac110002-2-3b26-e302"
        },
        "tags": [
          "vcp:parameters"
        ]
      },
      "outputs": [],
      "source": [
        "# (\u4f8b)\n",
        "# ugroup_name = 'JupyterHub'\n",
        "\n",
        "ugroup_name = "
      ]
    },
    {
      "cell_type": "markdown",
      "metadata": {
        "lc_cell_meme": {
          "current": "889359b4-2bba-11ee-987e-0242ac110002-2-66a0-cd3d",
          "next": "88935a54-2bba-11ee-987e-0242ac110002-2-07cf-1079",
          "previous": "8893590a-2bba-11ee-987e-0242ac110002-2-7e71-794d"
        }
      },
      "source": [
        "### \u30af\u30e9\u30a6\u30c9\u30d7\u30ed\u30d0\u30a4\u30c0\u306e\u6307\u5b9a\n",
        "\n",
        "VC\u30ce\u30fc\u30c9\u3092\u8d77\u52d5\u3059\u308b\u30d7\u30ed\u30d0\u30a4\u30c0\u3092\u9078\u629e\u3057\u307e\u3059\u3002"
      ]
    },
    {
      "cell_type": "code",
      "execution_count": null,
      "metadata": {
        "lc_cell_meme": {
          "current": "88935a54-2bba-11ee-987e-0242ac110002-2-07cf-1079",
          "next": "88935afe-2bba-11ee-987e-0242ac110002-2-eeab-8899",
          "previous": "889359b4-2bba-11ee-987e-0242ac110002-2-66a0-cd3d"
        },
        "tags": [
          "vcp:parameters"
        ]
      },
      "outputs": [],
      "source": [
        "# (\u4f8b)\n",
        "# vc_provider = 'aws'\n",
        "# vc_provider = 'azure'\n",
        "# vc_provider = 'onpremises' # \u30aa\u30f3\u30d7\u30ec\u30df\u30b9\u306b\u69cb\u7bc9\u3059\u308b\u5834\u5408\n",
        "\n",
        "vc_provider = "
      ]
    },
    {
      "cell_type": "markdown",
      "metadata": {
        "lc_cell_meme": {
          "current": "88935afe-2bba-11ee-987e-0242ac110002-2-eeab-8899",
          "next": "88935b9e-2bba-11ee-987e-0242ac110002-2-2a2c-9e6d",
          "previous": "88935a54-2bba-11ee-987e-0242ac110002-2-07cf-1079"
        }
      },
      "source": [
        "### VC\u30ce\u30fc\u30c9\u306b\u5272\u308a\u5f53\u3066\u308b\u30ea\u30bd\u30fc\u30b9\u91cf\u306e\u6307\u5b9a\n",
        "\n",
        "VC\u30ce\u30fc\u30c9\u306b\u5272\u308a\u5f53\u3066\u308b\u30ea\u30bd\u30fc\u30b9\u91cf\u3092\u6307\u5b9a\u3057\u307e\u3059\u3002manager\u30ce\u30fc\u30c9\u3068worker\u30ce\u30fc\u30c9\u3067\u306f\u5f79\u5272\u304c\u7570\u306a\u308b\u305f\u3081\u3001\u305d\u308c\u305e\u308c\u306b\u3064\u3044\u3066\u6307\u5b9a\u3092\u884c\u3044\u307e\u3059\u3002"
      ]
    },
    {
      "cell_type": "markdown",
      "metadata": {
        "lc_cell_meme": {
          "current": "88935b9e-2bba-11ee-987e-0242ac110002-2-2a2c-9e6d",
          "next": "88935c52-2bba-11ee-987e-0242ac110002-2-6d78-a251",
          "previous": "88935afe-2bba-11ee-987e-0242ac110002-2-eeab-8899"
        }
      },
      "source": [
        "#### manager\u30ce\u30fc\u30c9\n",
        "\n",
        "manager\u30ce\u30fc\u30c9\u306b\u5272\u308a\u5f53\u3066\u308b\u30ea\u30bd\u30fc\u30b9\u91cf\u3092\u6307\u5b9a\u3057\u307e\u3059\u3002manager\u30ce\u30fc\u30c9\u3067\u306fJupyterHub, auth-proxy, PostgreSQL\u30b3\u30f3\u30c6\u30ca\u306a\u3069\u3092\u5b9f\u884c\u3057\u307e\u3059\u3002"
      ]
    },
    {
      "cell_type": "markdown",
      "metadata": {
        "lc_cell_meme": {
          "current": "88935c52-2bba-11ee-987e-0242ac110002-2-6d78-a251",
          "next": "88935cfc-2bba-11ee-987e-0242ac110002-2-f95d-ab5d",
          "previous": "88935b9e-2bba-11ee-987e-0242ac110002-2-2a2c-9e6d"
        }
      },
      "source": [
        "##### manager\u30ce\u30fc\u30c9\u306eflavor\u6307\u5b9a\n",
        "\n",
        "\u500b\u3005\u306e\u30ea\u30bd\u30fc\u30b9\u91cf\u3092\u6bce\u56de\u6307\u5b9a\u3059\u308b\u306e\u306f\u7169\u96d1\u3068\u306a\u308b\u306e\u3067\u3001VCP SDK\u3067\u306f\u5178\u578b\u7684\u306a\u69cb\u6210\u306e\u30d1\u30e9\u30e1\u30fc\u30bf\u30bb\u30c3\u30c8\u3092\u4e8b\u524d\u306b\u5b9a\u7fa9\u3057\u3066\u3044\u307e\u3059\u3002\u4e8b\u524d\u306b\u5b9a\u7fa9\u3057\u305f\u30d1\u30e9\u30e1\u30fc\u30bf\u30bb\u30c3\u30c8\u306e\u3053\u3068\u3092VCP SDK\u3067\u306f`flavor`\u3068\u547c\u3093\u3067\u3044\u307e\u3059\u3002"
      ]
    },
    {
      "cell_type": "markdown",
      "metadata": {
        "lc_cell_meme": {
          "current": "88935cfc-2bba-11ee-987e-0242ac110002-2-f95d-ab5d",
          "next": "88935da6-2bba-11ee-987e-0242ac110002-2-96ca-e236",
          "previous": "88935c52-2bba-11ee-987e-0242ac110002-2-6d78-a251"
        }
      },
      "source": [
        "\u30ea\u30bd\u30fc\u30b9\u91cf\u3092\u6307\u5b9a\u3059\u308b\u305f\u3081\u306e\u30aa\u30d6\u30b8\u30a7\u30af\u30c8`spec`\u306b\u8a2d\u5b9a\u3067\u304d\u308b\u30d1\u30e9\u30e1\u30fc\u30bf\u306f\u30af\u30e9\u30a6\u30c9\u30d7\u30ed\u30d0\u30a4\u30c0\u6bce\u306b\u7570\u306a\u308b\u306e\u3067 `flavor`\u3082\u30d7\u30ed\u30d0\u30a4\u30c0\u6bce\u306b\u306e\u5b9a\u7fa9\u3055\u308c\u3066\u3044\u307e\u3059\u3002\u6b21\u306e\u30bb\u30eb\u3092\u5b9f\u884c\u3059\u308b\u3068 `vc_provider` \u306b\u8a2d\u5b9a\u3057\u305f\u30d7\u30ed\u30d0\u30a4\u30c0\u306b\u5bfe\u5fdc\u3059\u308b `flavor` \u306e\u4e00\u89a7\u304c\u8868\u793a\u3055\u308c\u307e\u3059\u3002"
      ]
    },
    {
      "cell_type": "code",
      "execution_count": null,
      "metadata": {
        "lc_cell_meme": {
          "current": "88935da6-2bba-11ee-987e-0242ac110002-2-96ca-e236",
          "next": "88935e46-2bba-11ee-987e-0242ac110002-2-3e2b-5851",
          "previous": "88935cfc-2bba-11ee-987e-0242ac110002-2-f95d-ab5d"
        },
        "scrolled": true
      },
      "outputs": [],
      "source": [
        "vcp.df_flavors(vc_provider)"
      ]
    },
    {
      "cell_type": "markdown",
      "metadata": {
        "lc_cell_meme": {
          "current": "88935e46-2bba-11ee-987e-0242ac110002-2-3e2b-5851",
          "next": "88935ee6-2bba-11ee-987e-0242ac110002-2-6575-816c",
          "previous": "88935da6-2bba-11ee-987e-0242ac110002-2-96ca-e236"
        }
      },
      "source": [
        "\u8868\u793a\u3055\u308c\u305f `flavor` \u306e\u5024\u304b\u3089\u4e00\u3064\u3092\u9078\u629e\u3057\u3066\u3001\u6b21\u306e\u30bb\u30eb\u306b\u6307\u5b9a\u3057\u3066\u304f\u3060\u3055\u3044\u3002"
      ]
    },
    {
      "cell_type": "code",
      "execution_count": null,
      "metadata": {
        "lc_cell_meme": {
          "current": "88935ee6-2bba-11ee-987e-0242ac110002-2-6575-816c",
          "next": "88935f90-2bba-11ee-987e-0242ac110002-2-2ade-cb7f",
          "previous": "88935e46-2bba-11ee-987e-0242ac110002-2-3e2b-5851"
        },
        "tags": [
          "vcp:skip",
          "vcp:parameters"
        ]
      },
      "outputs": [],
      "source": [
        "# (\u4f8b)\n",
        "# manager_flavor = 'small'\n",
        "# manager_flavor = 'default' # \u30aa\u30f3\u30d7\u30ec\u30df\u30b9\u306b\u69cb\u7bc9\u3059\u308b\u5834\u5408\u3001default\u3092\u6307\u5b9a\u3059\u308b\n",
        "\n",
        "manager_flavor = "
      ]
    },
    {
      "cell_type": "markdown",
      "metadata": {
        "lc_cell_meme": {
          "current": "88935f90-2bba-11ee-987e-0242ac110002-2-2ade-cb7f",
          "next": "8893603a-2bba-11ee-987e-0242ac110002-2-44f7-cd01",
          "previous": "88935ee6-2bba-11ee-987e-0242ac110002-2-6575-816c"
        }
      },
      "source": [
        "##### manager\u30ce\u30fc\u30c9\u306e\u30eb\u30fc\u30c8\u30dc\u30ea\u30e5\u30fc\u30e0\u30b5\u30a4\u30ba\n",
        "\n",
        "manager\u30ce\u30fc\u30c9\u306b\u5272\u308a\u5f53\u3066\u308b\u30c7\u30a3\u30b9\u30af\u30b5\u30a4\u30ba\u3092\u6307\u5b9a\u3057\u307e\u3059\u3002"
      ]
    },
    {
      "cell_type": "markdown",
      "metadata": {
        "lc_cell_meme": {
          "current": "8893603a-2bba-11ee-987e-0242ac110002-2-44f7-cd01",
          "next": "889360e4-2bba-11ee-987e-0242ac110002-2-610c-9290",
          "previous": "88935f90-2bba-11ee-987e-0242ac110002-2-2ade-cb7f"
        }
      },
      "source": [
        "\u3053\u306eNotebook\u3067\u69cb\u6210\u3059\u308b\u30ce\u30fc\u30c9\u69cb\u6210\u3067\u306f manager \u30ce\u30fc\u30c9\u304cNFS\u30b5\u30fc\u30d0\u306e\u6a5f\u80fd\u3092\u517c\u306d\u308b\u3053\u3068\u306b\u306a\u308a\u307e\u3059\u3002`aws`, `azure`\u306bVC\u30ce\u30fc\u30c9\u3092\u4f5c\u6210\u3059\u308b\u5834\u5408\u306f\u3001\u30eb\u30fc\u30c8\u30dc\u30ea\u30e5\u30fc\u30e0\u3068\u306f\u5225\u306bNFS\u7528\u306e\u30c7\u30a3\u30b9\u30af\u3092\u4f5c\u6210\u3057\u307e\u3059\u304c\u3001\u4ed6\u306e\u30af\u30e9\u30a6\u30c9\u3092\u5229\u7528\u3059\u308b\u5834\u5408\u306f\u30eb\u30fc\u30c8\u30dc\u30ea\u30e5\u30fc\u30e0\u3092NFS\u306b\u3082\u5229\u7528\u3057\u307e\u3059\u3002\u305d\u306e\u5834\u5408\u306fNFS\u306e\u30c7\u30a3\u30b9\u30af\u4f7f\u7528\u91cf\u3092\u8003\u616e\u3057\u3066\u30eb\u30fc\u30c8\u30dc\u30ea\u30e5\u30fc\u30e0\u30b5\u30a4\u30ba\u3092\u6307\u5b9a\u3057\u3066\u304f\u3060\u3055\u3044\u3002"
      ]
    },
    {
      "cell_type": "markdown",
      "metadata": {
        "lc_cell_meme": {
          "current": "889360e4-2bba-11ee-987e-0242ac110002-2-610c-9290",
          "next": "88936184-2bba-11ee-987e-0242ac110002-2-313f-8f08",
          "previous": "8893603a-2bba-11ee-987e-0242ac110002-2-44f7-cd01"
        }
      },
      "source": [
        "\u672c\u30c6\u30f3\u30d7\u30ec\u30fc\u30c8\u3067\u69cb\u7bc9\u3059\u308bJupyterHub\u30b7\u30b9\u30c6\u30e0\u3067\u306f\u3001\u30b3\u30f3\u30c6\u30ca\u30a4\u30e1\u30fc\u30b8\u3068\u3057\u3066\u7d042GB\u3001single-user notebook server\u30b3\u30f3\u30c6\u30ca\u306e\u30a4\u30e1\u30fc\u30b8\u3068\u3057\u3066\u7d044GB\u5229\u7528\u3057\u307e\u3059\u3002\u307e\u305f\u3001\u4f5c\u6210\u3059\u308b\u8ab2\u984c\u30d5\u30a1\u30a4\u30eb\u306a\u3069\u3082\u4fdd\u5b58\u3059\u308b\u305f\u3081\u3001`flavor`\u306e\u6307\u5b9a\u306b\u3088\u3063\u3066\u306f\u30b3\u30f3\u30c6\u30ca\u3092\u8d77\u52d5\u3059\u308b\u969b\u306b\u30c7\u30a3\u30b9\u30af\u5bb9\u91cf\u304c\u4e0d\u8db3\u3059\u308b\u3053\u3068\u304c\u3042\u308a\u307e\u3059\u3002\u30c7\u30a3\u30b9\u30af\u5bb9\u91cf\u4e0d\u8db3\u306b\u306a\u3089\u306a\u3044\u3088\u3046\u3001\u30c7\u30a3\u30b9\u30af\u30b5\u30a4\u30ba\u8a2d\u5b9a\u3092\u884c\u3063\u3066\u304f\u3060\u3055\u3044\u3002\u306a\u304a\u3001\u6307\u5b9a\u3059\u308b\u5358\u4f4d\u306f GB \u3067\u3059\u3002"
      ]
    },
    {
      "cell_type": "code",
      "execution_count": null,
      "metadata": {
        "lc_cell_meme": {
          "current": "88936184-2bba-11ee-987e-0242ac110002-2-313f-8f08",
          "next": "8893622e-2bba-11ee-987e-0242ac110002-2-4b50-2d3c",
          "previous": "889360e4-2bba-11ee-987e-0242ac110002-2-610c-9290"
        },
        "tags": [
          "vcp:skip",
          "vcp:parameters"
        ]
      },
      "outputs": [],
      "source": [
        "# (\u4f8b)\n",
        "# manager_disk_size = 16\n",
        "\n",
        "manager_disk_size = "
      ]
    },
    {
      "cell_type": "markdown",
      "metadata": {
        "lc_cell_meme": {
          "current": "8893622e-2bba-11ee-987e-0242ac110002-2-4b50-2d3c",
          "next": "889362ce-2bba-11ee-987e-0242ac110002-2-12a1-c89f",
          "previous": "88936184-2bba-11ee-987e-0242ac110002-2-313f-8f08"
        }
      },
      "source": [
        "#### worker\u30ce\u30fc\u30c9\n",
        "\n",
        "worker\u30ce\u30fc\u30c9\u306b\u5272\u308a\u5f53\u3066\u308b\u30ea\u30bd\u30fc\u30b9\u91cf\u3092\u6307\u5b9a\u3057\u307e\u3059\u3002worker\u30ce\u30fc\u30c9\u3067\u306f\u5404\u30e6\u30fc\u30b6\u306e\u5229\u7528\u74b0\u5883\u3068\u306a\u308b single-user Jupyter notebook server\u30b3\u30f3\u30c6\u30ca\u3092\u5b9f\u884c\u3057\u307e\u3059\u3002"
      ]
    },
    {
      "cell_type": "markdown",
      "metadata": {
        "lc_cell_meme": {
          "current": "889362ce-2bba-11ee-987e-0242ac110002-2-12a1-c89f",
          "next": "88936382-2bba-11ee-987e-0242ac110002-2-7b0d-d8f0",
          "previous": "8893622e-2bba-11ee-987e-0242ac110002-2-4b50-2d3c"
        }
      },
      "source": [
        "##### worker\u30ce\u30fc\u30c9\u306eflavor\u6307\u5b9a"
      ]
    },
    {
      "cell_type": "markdown",
      "metadata": {
        "lc_cell_meme": {
          "current": "88936382-2bba-11ee-987e-0242ac110002-2-7b0d-d8f0",
          "next": "88936422-2bba-11ee-987e-0242ac110002-2-72e6-b8c1",
          "previous": "889362ce-2bba-11ee-987e-0242ac110002-2-12a1-c89f"
        }
      },
      "source": [
        "worker\u30ce\u30fc\u30c9\u306e `flavor` \u3092\u6b21\u306e\u30bb\u30eb\u306b\u6307\u5b9a\u3057\u3066\u304f\u3060\u3055\u3044\u3002"
      ]
    },
    {
      "cell_type": "code",
      "execution_count": null,
      "metadata": {
        "lc_cell_meme": {
          "current": "88936422-2bba-11ee-987e-0242ac110002-2-72e6-b8c1",
          "next": "889364cc-2bba-11ee-987e-0242ac110002-2-4589-a0df",
          "previous": "88936382-2bba-11ee-987e-0242ac110002-2-7b0d-d8f0"
        }
      },
      "outputs": [],
      "source": [
        "# (\u4f8b)\n",
        "# worker_flavor = 'small'\n",
        "# worker_flavor = 'default' # \u30aa\u30f3\u30d7\u30ec\u30df\u30b9\u306b\u69cb\u7bc9\u3059\u308b\u5834\u5408\u3001default\u3092\u6307\u5b9a\u3059\u308b\n",
        "\n",
        "worker_flavor = "
      ]
    },
    {
      "cell_type": "markdown",
      "metadata": {
        "lc_cell_meme": {
          "current": "889364cc-2bba-11ee-987e-0242ac110002-2-4589-a0df",
          "next": "88936576-2bba-11ee-987e-0242ac110002-2-2575-57a9",
          "previous": "88936422-2bba-11ee-987e-0242ac110002-2-72e6-b8c1"
        }
      },
      "source": [
        "##### worker\u30ce\u30fc\u30c9\u306e\u30eb\u30fc\u30c8\u30dc\u30ea\u30e5\u30fc\u30e0\u30b5\u30a4\u30ba"
      ]
    },
    {
      "cell_type": "markdown",
      "metadata": {
        "lc_cell_meme": {
          "current": "88936576-2bba-11ee-987e-0242ac110002-2-2575-57a9",
          "next": "88936616-2bba-11ee-987e-0242ac110002-2-f5b5-1b62",
          "previous": "889364cc-2bba-11ee-987e-0242ac110002-2-4589-a0df"
        }
      },
      "source": [
        "worker\u30ce\u30fc\u30c9\u306e\u30eb\u30fc\u30c8\u30dc\u30ea\u30e5\u30fc\u30e0\u30b5\u30a4\u30ba\u306e\u6307\u5b9a\u3092\u884c\u3044\u307e\u3059\u3002manager\u30ce\u30fc\u30c9\u540c\u69d8\u3001\u5bb9\u91cf\u4e0d\u8db3\u306b\u306a\u3089\u306a\u3044\u3088\u3046\u3001\u30c7\u30a3\u30b9\u30af\u30b5\u30a4\u30ba\u3092\u8a2d\u5b9a\u3057\u3066\u304f\u3060\u3055\u3044\u3002"
      ]
    },
    {
      "cell_type": "code",
      "execution_count": null,
      "metadata": {
        "lc_cell_meme": {
          "current": "88936616-2bba-11ee-987e-0242ac110002-2-f5b5-1b62",
          "next": "889366b6-2bba-11ee-987e-0242ac110002-2-ae63-7baa",
          "previous": "88936576-2bba-11ee-987e-0242ac110002-2-2575-57a9"
        }
      },
      "outputs": [],
      "source": [
        "# (\u4f8b)\n",
        "# worker_disk_size = 16\n",
        "\n",
        "worker_disk_size = "
      ]
    },
    {
      "cell_type": "markdown",
      "metadata": {
        "lc_cell_meme": {
          "current": "889366b6-2bba-11ee-987e-0242ac110002-2-ae63-7baa",
          "next": "88936760-2bba-11ee-987e-0242ac110002-2-801a-5bf0",
          "previous": "88936616-2bba-11ee-987e-0242ac110002-2-f5b5-1b62"
        }
      },
      "source": [
        "##### \u30ce\u30fc\u30c9\u6570\u306e\u6307\u5b9a\n",
        "\n",
        "\u4f5c\u6210\u3059\u308bworker\u30ce\u30fc\u30c9\u306e\u30ce\u30fc\u30c9\u6570\u3092\u6307\u5b9a\u3057\u3066\u304f\u3060\u3055\u3044\u3002"
      ]
    },
    {
      "cell_type": "code",
      "execution_count": null,
      "metadata": {
        "lc_cell_meme": {
          "current": "88936760-2bba-11ee-987e-0242ac110002-2-801a-5bf0",
          "next": "88936800-2bba-11ee-987e-0242ac110002-2-493d-916f",
          "previous": "889366b6-2bba-11ee-987e-0242ac110002-2-ae63-7baa"
        }
      },
      "outputs": [],
      "source": [
        "# (\u4f8b)\n",
        "# worker_nodes = 3\n",
        "\n",
        "worker_nodes = "
      ]
    },
    {
      "cell_type": "markdown",
      "metadata": {
        "lc_cell_meme": {
          "current": "88936800-2bba-11ee-987e-0242ac110002-2-493d-916f",
          "next": "889368a0-2bba-11ee-987e-0242ac110002-2-30c4-c28a",
          "previous": "88936760-2bba-11ee-987e-0242ac110002-2-801a-5bf0"
        }
      },
      "source": [
        "### \u30a2\u30c9\u30ec\u30b9\u306e\u6307\u5b9a\n",
        "\n",
        "VC\u30ce\u30fc\u30c9\u306e\u30cd\u30c3\u30c8\u30ef\u30fc\u30af\u30a4\u30f3\u30bf\u30fc\u30d5\u30a7\u30fc\u30b9\u306b\u5272\u308a\u5f53\u3066\u308b\u30a2\u30c9\u30ec\u30b9\u3092\u6307\u5b9a\u3057\u307e\u3059\u3002"
      ]
    },
    {
      "cell_type": "markdown",
      "metadata": {
        "lc_cell_meme": {
          "current": "889368a0-2bba-11ee-987e-0242ac110002-2-30c4-c28a",
          "next": "8893694a-2bba-11ee-987e-0242ac110002-2-f6a0-987a",
          "previous": "88936800-2bba-11ee-987e-0242ac110002-2-493d-916f"
        }
      },
      "source": [
        "VC\u30ce\u30fc\u30c9\u306e\u30cd\u30c3\u30c8\u30ef\u30fc\u30af\u30a4\u30f3\u30bf\u30d5\u30a7\u30fc\u30b9\u306b\u4ee5\u4e0b\u306e\u30a2\u30c9\u30ec\u30b9\u3092\u5272\u308a\u5f53\u3066\u308b\u3053\u3068\u304c\u3067\u304d\u307e\u3059\u3002\n",
        "\n",
        "* IP\u30a2\u30c9\u30ec\u30b9\n",
        "* MAC\u30a2\u30c9\u30ec\u30b9\n",
        "\n",
        "> MAC\u30a2\u30c9\u30ec\u30b9\u306e\u6307\u5b9a\u304c\u53ef\u80fd\u306a\u306e\u306f `vmware` \u306e\u307f\n",
        "\n",
        "\u30a2\u30c9\u30ec\u30b9\u306e\u6307\u5b9a\u304c\u5fc5\u8981\u306a\u5834\u5408\u306f\u4ee5\u4e0b\u306e\u8a2d\u5b9a\u3092\u884c\u3063\u3066\u304f\u3060\u3055\u3044\u3002\u6307\u5b9a\u3057\u306a\u3044\u5834\u5408\u306f\u3001\u81ea\u52d5\u7684\u306b\u5272\u308a\u5f53\u3066\u3089\u308c\u305f\u30a2\u30c9\u30ec\u30b9\u3092\u4f7f\u7528\u3057\u307e\u3059\u3002"
      ]
    },
    {
      "cell_type": "markdown",
      "metadata": {
        "lc_cell_meme": {
          "current": "8893694a-2bba-11ee-987e-0242ac110002-2-f6a0-987a",
          "next": "889369ea-2bba-11ee-987e-0242ac110002-2-0700-7b1e",
          "previous": "889368a0-2bba-11ee-987e-0242ac110002-2-30c4-c28a"
        }
      },
      "source": [
        "#### IP\u30a2\u30c9\u30ec\u30b9\u3092\u6307\u5b9a\u3059\u308b\u5834\u5408\n",
        "\n",
        "VC\u30ce\u30fc\u30c9\u306bIP\u30a2\u30c9\u30ec\u30b9\u3092\u5272\u308a\u5f53\u3066\u308b\u5834\u5408\u306f\u3053\u306e\u7bc0\u3092\u5b9f\u884c\u3057\u3066\u304f\u3060\u3055\u3044\u3002"
      ]
    },
    {
      "cell_type": "markdown",
      "metadata": {
        "lc_cell_meme": {
          "current": "889369ea-2bba-11ee-987e-0242ac110002-2-0700-7b1e",
          "next": "88936a94-2bba-11ee-987e-0242ac110002-2-1acc-c044",
          "previous": "8893694a-2bba-11ee-987e-0242ac110002-2-f6a0-987a"
        }
      },
      "source": [
        "\u3053\u306e\u7bc0\u3092\u5b9f\u884c\u3057\u306a\u3044\u5834\u5408\u3001VC\u30ce\u30fc\u30c9\u306b\u306f\u5272\u308a\u5f53\u3066\u53ef\u80fd\u306a\u30a2\u30c9\u30ec\u30b9\u304c\u81ea\u52d5\u7684\u306b\u8a2d\u5b9a\u3055\u308c\u307e\u3059\u3002\u307e\u305f\u3001manager\u30ce\u30fc\u30c9\u3001worker\u30ce\u30fc\u30c9\u306e\u3069\u3061\u3089\u304b\u4e00\u65b9\u306e\u307f\u3092\u6307\u5b9a\u3059\u308b\u3053\u3068\u3082\u3067\u304d\u307e\u3059\u3002\u305f\u3060\u3057worker\u30ce\u30fc\u30c9\u306bIP\u30a2\u30c9\u30ec\u30b9\u3092\u6307\u5b9a\u3059\u308b\u5834\u5408\u3001\u5168\u3066\u306eworker\u30ce\u30fc\u30c9\u306b\u5bfe\u3057\u3066\u30a2\u30c9\u30ec\u30b9\u6307\u5b9a\u3092\u884c\u3046\u5fc5\u8981\u304c\u3042\u308a\u307e\u3059\u3002"
      ]
    },
    {
      "cell_type": "markdown",
      "metadata": {
        "lc_cell_meme": {
          "current": "88936a94-2bba-11ee-987e-0242ac110002-2-1acc-c044",
          "next": "88936b3e-2bba-11ee-987e-0242ac110002-2-676a-12b4",
          "previous": "889369ea-2bba-11ee-987e-0242ac110002-2-0700-7b1e"
        }
      },
      "source": [
        "\u307e\u305a\u6307\u5b9a\u53ef\u80fd\u306aIP\u30a2\u30c9\u30ec\u30b9\u306e\u7bc4\u56f2\u3092\u78ba\u8a8d\u3057\u307e\u3059\u3002\u6b21\u306e\u30bb\u30eb\u3092\u5b9f\u884c\u3059\u308b\u3068VC\u30ce\u30fc\u30c9\u306b\u5272\u308a\u5f53\u3066\u53ef\u80fd\u306aIP\u30a2\u30c9\u30ec\u30b9\u306e\u7bc4\u56f2\u304c\u8868\u793a\u3055\u308c\u307e\u3059\u3002"
      ]
    },
    {
      "cell_type": "code",
      "execution_count": null,
      "metadata": {
        "lc_cell_meme": {
          "current": "88936b3e-2bba-11ee-987e-0242ac110002-2-676a-12b4",
          "next": "88936be8-2bba-11ee-987e-0242ac110002-2-764e-d105",
          "previous": "88936a94-2bba-11ee-987e-0242ac110002-2-1acc-c044"
        }
      },
      "outputs": [],
      "source": [
        "print(vcp.get_vpn_catalog(vc_provider).get('private_network_ipmask'))"
      ]
    },
    {
      "cell_type": "markdown",
      "metadata": {
        "lc_cell_meme": {
          "current": "88936be8-2bba-11ee-987e-0242ac110002-2-764e-d105",
          "next": "88936c88-2bba-11ee-987e-0242ac110002-2-2ee9-4379",
          "previous": "88936b3e-2bba-11ee-987e-0242ac110002-2-676a-12b4"
        }
      },
      "source": [
        "\u6b21\u306e\u30bb\u30eb\u3067 manager \u30ce\u30fc\u30c9\u306b\u5272\u308a\u5f53\u3066\u308b\u30d7\u30e9\u30a4\u30d9\u30fc\u30c8\u30cd\u30c3\u30c8\u30ef\u30fc\u30af\u306eIP\u30a2\u30c9\u30ec\u30b9\u3092\u6307\u5b9a\u3057\u3066\u304f\u3060\u3055\u3044\u3002"
      ]
    },
    {
      "cell_type": "code",
      "execution_count": null,
      "metadata": {
        "lc_cell_meme": {
          "current": "88936c88-2bba-11ee-987e-0242ac110002-2-2ee9-4379",
          "next": "88936d28-2bba-11ee-987e-0242ac110002-2-c376-b9c1",
          "previous": "88936be8-2bba-11ee-987e-0242ac110002-2-764e-d105"
        }
      },
      "outputs": [],
      "source": [
        "# (\u4f8b)\n",
        "# vc_ipaddress = '172.30.2.100'\n",
        "\n",
        "vc_ipaddress = "
      ]
    },
    {
      "cell_type": "markdown",
      "metadata": {
        "lc_cell_meme": {
          "current": "88936d28-2bba-11ee-987e-0242ac110002-2-c376-b9c1",
          "next": "88936dd2-2bba-11ee-987e-0242ac110002-2-aa1f-f448",
          "previous": "88936c88-2bba-11ee-987e-0242ac110002-2-2ee9-4379"
        }
      },
      "source": [
        "\u6b21\u306e\u30bb\u30eb\u306b worker\u30ce\u30fc\u30c9\u306b\u5272\u308a\u5f53\u3066\u308b\u30d7\u30e9\u30a4\u30d9\u30fc\u30c8\u30cd\u30c3\u30c8\u30ef\u30fc\u30af\u306eIP\u30a2\u30c9\u30ec\u30b9\u3092\u6307\u5b9a\u3057\u3066\u304f\u3060\u3055\u3044\u3002\u6307\u5b9a\u3059\u308b\u30a2\u30c9\u30ec\u30b9\u6570\u306f\u524d\u7bc0\u3067\u6307\u5b9a\u3057\u305fworker\u30ce\u30fc\u30c9\u306e\u30ce\u30fc\u30c9\u6570\u3068\u4e00\u81f4\u3057\u3066\u3044\u308b\u5fc5\u8981\u304c\u3042\u308a\u307e\u3059\u3002"
      ]
    },
    {
      "cell_type": "code",
      "execution_count": null,
      "metadata": {
        "lc_cell_meme": {
          "current": "88936dd2-2bba-11ee-987e-0242ac110002-2-aa1f-f448",
          "next": "88936e72-2bba-11ee-987e-0242ac110002-2-ee95-55bd",
          "previous": "88936d28-2bba-11ee-987e-0242ac110002-2-c376-b9c1"
        }
      },
      "outputs": [],
      "source": [
        "# (\u4f8b)\n",
        "# worker_ipaddresses = [\n",
        "#     '172.30.2.101',\n",
        "#     '172.30.2.102',\n",
        "#     '172.30.2.103',\n",
        "# ]\n",
        "\n",
        "worker_ipaddresses = [\n",
        "    \n",
        "]"
      ]
    },
    {
      "cell_type": "markdown",
      "metadata": {
        "lc_cell_meme": {
          "current": "88936e72-2bba-11ee-987e-0242ac110002-2-ee95-55bd",
          "next": "88936f12-2bba-11ee-987e-0242ac110002-2-a215-5d23",
          "previous": "88936dd2-2bba-11ee-987e-0242ac110002-2-aa1f-f448"
        }
      },
      "source": [
        "#### MAC\u30a2\u30c9\u30ec\u30b9\u3092\u6307\u5b9a\u3059\u308b\u5834\u5408\n",
        "\n",
        "`vc_provider` \u306b `vmware` \u3092\u6307\u5b9a\u3057\u305f\u5834\u5408\u3001VC\u30ce\u30fc\u30c9\u306bMAC\u30a2\u30c9\u30ec\u30b9\u3092\u5272\u308a\u5f53\u3066\u308b\u3053\u3068\u304c\u3067\u304d\u307e\u3059\u3002\n",
        "\n",
        "VC\u30ce\u30fc\u30c9\u306bMAC\u30a2\u30c9\u30ec\u30b9\u3092\u5272\u308a\u5f53\u3066\u308b\u5834\u5408\u306f\u3053\u306e\u7bc0\u3092\u5b9f\u884c\u3057\u3066\u304f\u3060\u3055\u3044\u3002\n",
        "\n",
        "VC\u30ce\u30fc\u30c9\u306bMAC\u30a2\u30c9\u30ec\u30b9\u3092\u5272\u308a\u5f53\u3066\u306a\u3044\u5834\u5408\u3001\u3053\u306e\u7bc0\u306f\u5b9f\u884c\u305b\u305a\u3001\u98db\u3070\u3057\u3066\u304f\u3060\u3055\u3044\u3002"
      ]
    },
    {
      "cell_type": "markdown",
      "metadata": {
        "lc_cell_meme": {
          "current": "88936f12-2bba-11ee-987e-0242ac110002-2-a215-5d23",
          "next": "88936fb2-2bba-11ee-987e-0242ac110002-2-ded2-36ff",
          "previous": "88936e72-2bba-11ee-987e-0242ac110002-2-ee95-55bd"
        }
      },
      "source": [
        "manager\u30ce\u30fc\u30c9\u3001worker\u30ce\u30fc\u30c9\u306e\u3069\u3061\u3089\u304b\u4e00\u65b9\u306e\u307f\u3092\u6307\u5b9a\u3059\u308b\u3053\u3068\u3082\u3067\u304d\u307e\u3059\u3002\u305f\u3060\u3057worker\u30ce\u30fc\u30c9\u306bMAC\u30a2\u30c9\u30ec\u30b9\u3092\u6307\u5b9a\u3059\u308b\u5834\u5408\u3001\u5168\u3066\u306eworker\u30ce\u30fc\u30c9\u306b\u5bfe\u3057\u3066\u30a2\u30c9\u30ec\u30b9\u6307\u5b9a\u3092\u884c\u3046\u5fc5\u8981\u304c\u3042\u308a\u307e\u3059\u3002"
      ]
    },
    {
      "cell_type": "markdown",
      "metadata": {
        "lc_cell_meme": {
          "current": "88936fb2-2bba-11ee-987e-0242ac110002-2-ded2-36ff",
          "next": "88937052-2bba-11ee-987e-0242ac110002-2-6602-1f12",
          "previous": "88936f12-2bba-11ee-987e-0242ac110002-2-a215-5d23"
        }
      },
      "source": [
        "\u6b21\u306e\u30bb\u30eb\u3067 manager \u30ce\u30fc\u30c9\u306b\u5272\u308a\u5f53\u3066\u308bMAC\u30a2\u30c9\u30ec\u30b9\u3092\u6307\u5b9a\u3057\u3066\u304f\u3060\u3055\u3044\u3002"
      ]
    },
    {
      "cell_type": "code",
      "execution_count": null,
      "metadata": {
        "lc_cell_meme": {
          "current": "88937052-2bba-11ee-987e-0242ac110002-2-6602-1f12",
          "next": "889370f2-2bba-11ee-987e-0242ac110002-2-44b9-a999",
          "previous": "88936fb2-2bba-11ee-987e-0242ac110002-2-ded2-36ff"
        }
      },
      "outputs": [],
      "source": [
        "# (\u4f8b)\n",
        "# vc_mac_address = '4a:d1:4d:ab:cf:10'\n",
        "\n",
        "vc_mac_address = "
      ]
    },
    {
      "cell_type": "markdown",
      "metadata": {
        "lc_cell_meme": {
          "current": "889370f2-2bba-11ee-987e-0242ac110002-2-44b9-a999",
          "next": "8893719c-2bba-11ee-987e-0242ac110002-2-a779-ee73",
          "previous": "88937052-2bba-11ee-987e-0242ac110002-2-6602-1f12"
        }
      },
      "source": [
        "\u6b21\u306e\u30bb\u30eb\u306b worker\u30ce\u30fc\u30c9\u306b\u5272\u308a\u5f53\u3066\u308bMAC\u30a2\u30c9\u30ec\u30b9\u3092\u6307\u5b9a\u3057\u3066\u304f\u3060\u3055\u3044\u3002\u6307\u5b9a\u3059\u308b\u30a2\u30c9\u30ec\u30b9\u6570\u306f\u4f5c\u6210\u3059\u308bworker\u30ce\u30fc\u30c9\u306e\u30ce\u30fc\u30c9\u6570\u3068\u4e00\u81f4\u3057\u3066\u3044\u308b\u5fc5\u8981\u304c\u3042\u308a\u307e\u3059\u3002"
      ]
    },
    {
      "cell_type": "code",
      "execution_count": null,
      "metadata": {
        "lc_cell_meme": {
          "current": "8893719c-2bba-11ee-987e-0242ac110002-2-a779-ee73",
          "next": "8893723c-2bba-11ee-987e-0242ac110002-2-1e8d-9ea2",
          "previous": "889370f2-2bba-11ee-987e-0242ac110002-2-44b9-a999"
        }
      },
      "outputs": [],
      "source": [
        "# (\u4f8b)\n",
        "# worker_mac_addresses = [\n",
        "#     '4a:d1:4d:ab:cf:11',\n",
        "#     '4a:d1:4d:ab:cf:12',\n",
        "#     '4a:d1:4d:ab:cf:13',\n",
        "# ]\n",
        "\n",
        "worker_mac_addresses = [\n",
        "    \n",
        "]"
      ]
    },
    {
      "cell_type": "markdown",
      "metadata": {
        "lc_cell_meme": {
          "current": "8893723c-2bba-11ee-987e-0242ac110002-2-1e8d-9ea2",
          "next": "889372dc-2bba-11ee-987e-0242ac110002-2-81cc-da0d",
          "previous": "8893719c-2bba-11ee-987e-0242ac110002-2-a779-ee73"
        }
      },
      "source": [
        "### \u30a2\u30c9\u30ec\u30b9\u30d7\u30fc\u30eb\u306e\u6307\u5b9a\n",
        "\n",
        "VC\u30ce\u30fc\u30c9\u3067\u5b9f\u884c\u3055\u308c\u308b Docker Engine\u306e\u30a2\u30c9\u30ec\u30b9\u30d7\u30fc\u30eb\u306e\u5024\u3092\u6307\u5b9a\u3057\u307e\u3059\u3002"
      ]
    },
    {
      "cell_type": "markdown",
      "metadata": {
        "lc_cell_meme": {
          "current": "889372dc-2bba-11ee-987e-0242ac110002-2-81cc-da0d",
          "next": "8893737c-2bba-11ee-987e-0242ac110002-2-f4a7-e6ff",
          "previous": "8893723c-2bba-11ee-987e-0242ac110002-2-1e8d-9ea2"
        }
      },
      "source": [
        "\u672c\u30c6\u30f3\u30d7\u30ec\u30fc\u30c8\u3067\u69cb\u7bc9\u3059\u308bJupyterHub\u3067\u306f\u3001\u30b3\u30f3\u30c6\u30ca\u3092\u5b9f\u884c\u3059\u308b\u306e\u306bdocker swarm\u3092\u5229\u7528\u3057\u307e\u3059\u3002docker swarm\u3067\u306f ingress network\u306a\u3069\u304c\u81ea\u52d5\u7684\u306b\u4f5c\u6210\u3055\u308c\u307e\u3059\u304c\u3001\u305d\u306e\u30cd\u30c3\u30c8\u30ef\u30fc\u30af\u30a2\u30c9\u30ec\u30b9\u304c\u65e2\u5b58\u306e\u30cd\u30c3\u30c8\u30ef\u30fc\u30af\u30a2\u30c9\u30ec\u30b9\u3068\u91cd\u8907\u3059\u308b\u3053\u3068\u3092\u907f\u3051\u308b\u305f\u3081\u306b docker engine \u306e\u30a2\u30c9\u30ec\u30b9\u30d7\u30fc\u30eb\u306e\u5024\u3092\u660e\u793a\u7684\u306b\u6307\u5b9a\u3057\u307e\u3059\u3002"
      ]
    },
    {
      "cell_type": "markdown",
      "metadata": {
        "lc_cell_meme": {
          "current": "8893737c-2bba-11ee-987e-0242ac110002-2-f4a7-e6ff",
          "next": "8893743a-2bba-11ee-987e-0242ac110002-2-7552-83e1",
          "previous": "889372dc-2bba-11ee-987e-0242ac110002-2-81cc-da0d"
        }
      },
      "source": [
        "\u6b21\u306e\u30bb\u30eb\u3067docker engine\u306b\u8a2d\u5b9a\u3059\u308b\u30a2\u30c9\u30ec\u30b9\u30d7\u30fc\u30eb\u306e\u5024\u3092\u6307\u5b9a\u3057\u3066\u304f\u3060\u3055\u3044\u3002\u65e2\u5b58\u306e\u30cd\u30c3\u30c8\u30ef\u30fc\u30af\u30a2\u30c9\u30ec\u30b9\u3068\u91cd\u8907\u3059\u308b\u5024\u3092\u907f\u3051\u3066\u304f\u3060\u3055\u3044\u3002"
      ]
    },
    {
      "cell_type": "code",
      "execution_count": null,
      "metadata": {
        "lc_cell_meme": {
          "current": "8893743a-2bba-11ee-987e-0242ac110002-2-7552-83e1",
          "next": "889374da-2bba-11ee-987e-0242ac110002-2-1319-6333",
          "previous": "8893737c-2bba-11ee-987e-0242ac110002-2-f4a7-e6ff"
        }
      },
      "outputs": [],
      "source": [
        "# (\u4f8b)\n",
        "# docker_address_pool = '10.10.0.0/16'\n",
        "\n",
        "docker_address_pool = "
      ]
    },
    {
      "cell_type": "markdown",
      "metadata": {
        "lc_cell_meme": {
          "current": "889374da-2bba-11ee-987e-0242ac110002-2-1319-6333",
          "next": "88937584-2bba-11ee-987e-0242ac110002-2-9f5f-01f5",
          "previous": "8893743a-2bba-11ee-987e-0242ac110002-2-7552-83e1"
        }
      },
      "source": [
        "### SSH\u516c\u958b\u9375\u8a8d\u8a3c\u306e\u9375\u30d5\u30a1\u30a4\u30eb\u306e\u6307\u5b9a\n",
        "\n",
        "\u8d77\u52d5\u3057\u305fVC\u30ce\u30fc\u30c9\u306bssh\u3067\u30ed\u30b0\u30a4\u30f3\u3057\u3066\u64cd\u4f5c\u3092\u884c\u3046\u305f\u3081\u306bSSH\u516c\u958b\u9375\u3092\u767b\u9332\u3057\u307e\u3059\u3002"
      ]
    },
    {
      "cell_type": "markdown",
      "metadata": {
        "lc_cell_meme": {
          "current": "88937584-2bba-11ee-987e-0242ac110002-2-9f5f-01f5",
          "next": "88937624-2bba-11ee-987e-0242ac110002-2-0ffc-df4d",
          "previous": "889374da-2bba-11ee-987e-0242ac110002-2-1319-6333"
        }
      },
      "source": [
        "VC\u30ce\u30fc\u30c9\u306b\u767b\u9332\u3059\u308bSSH\u306e\u516c\u958b\u9375\u30d5\u30a1\u30a4\u30eb\u306e\u30d1\u30b9\u3092\u6b21\u306e\u30bb\u30eb\u3067\u6307\u5b9a\u3057\u3066\u304f\u3060\u3055\u3044\u3002\n",
        "\n",
        "> \u4e8b\u524d\u306b\u4f5c\u6210\u3057\u305f\u516c\u958b\u9375\u3092\u3053\u306e\u74b0\u5883\u306b\u30a2\u30c3\u30d7\u30ed\u30fc\u30c9\u3059\u308b\u304b\u3001\u3053\u306e\u74b0\u5883\u5185\u3067SSH\u516c\u958b\u9375\u306e\u4f5c\u6210\u3092\u884c\u3063\u3066\u304f\u3060\u3055\u3044\u3002"
      ]
    },
    {
      "cell_type": "code",
      "execution_count": null,
      "metadata": {
        "lc_cell_meme": {
          "current": "88937624-2bba-11ee-987e-0242ac110002-2-0ffc-df4d",
          "next": "889376c4-2bba-11ee-987e-0242ac110002-2-29df-8fe1",
          "previous": "88937584-2bba-11ee-987e-0242ac110002-2-9f5f-01f5"
        },
        "tags": [
          "vcp:parameters"
        ]
      },
      "outputs": [],
      "source": [
        "# (\u4f8b)\n",
        "# ssh_public_key_path = '~/.ssh/id_rsa.pub'\n",
        "\n",
        "ssh_public_key_path = "
      ]
    },
    {
      "cell_type": "markdown",
      "metadata": {
        "lc_cell_meme": {
          "current": "889376c4-2bba-11ee-987e-0242ac110002-2-29df-8fe1",
          "next": "8893776e-2bba-11ee-987e-0242ac110002-2-df78-7f99",
          "previous": "88937624-2bba-11ee-987e-0242ac110002-2-0ffc-df4d"
        }
      },
      "source": [
        "\u516c\u958b\u9375\u306b\u5bfe\u5fdc\u3059\u308b\u79d8\u5bc6\u9375\u306e\u30d1\u30b9\u3092\u6b21\u306e\u30bb\u30eb\u3067\u6307\u5b9a\u3057\u3066\u304f\u3060\u3055\u3044\u3002"
      ]
    },
    {
      "cell_type": "code",
      "execution_count": null,
      "metadata": {
        "lc_cell_meme": {
          "current": "8893776e-2bba-11ee-987e-0242ac110002-2-df78-7f99",
          "next": "af5c25bc-60ee-11ee-95c7-0242ac110002",
          "previous": "889376c4-2bba-11ee-987e-0242ac110002-2-29df-8fe1"
        },
        "tags": [
          "vcp:parameters"
        ]
      },
      "outputs": [],
      "source": [
        "# (\u4f8b)\n",
        "# ssh_private_key_path = '~/.ssh/id_rsa'\n",
        "\n",
        "ssh_private_key_path = "
      ]
    },
    {
      "cell_type": "markdown",
      "metadata": {
        "lc_cell_meme": {
          "current": "af5c25bc-60ee-11ee-95c7-0242ac110002",
          "next": "6ea583ec-60ee-11ee-95c7-0242ac110002",
          "previous": "8893776e-2bba-11ee-987e-0242ac110002-2-df78-7f99"
        }
      },
      "source": [
        "### \u30aa\u30f3\u30d7\u30ec\u30df\u30b9\u30b5\u30fc\u30d0\u306b\u69cb\u7bc9\u3059\u308b\u5834\u5408\u306e\u8ffd\u52a0\u8a2d\u5b9a\n",
        "\n",
        "\u30aa\u30f3\u30d7\u30ec\u30df\u30b9\u74b0\u5883\uff08mdx\u542b\uff09\u306b\u69cb\u7bc9\u3059\u308b\u5834\u5408\u3001\u8ffd\u52a0\u3067\u8a2d\u5b9a\u3059\u308b\u5fc5\u8981\u304c\u3042\u308b\u30d1\u30e9\u30e1\u30fc\u30bf\u3092\u6307\u5b9a\u3057\u307e\u3059\u3002  \n",
        "aws, azure\u306b\u69cb\u7bc9\u3059\u308b\u5834\u5408\u306f\u3001\u4ee5\u4e0b\u306e\u30bb\u30eb\u3092\u5b9f\u884c\u3059\u308b\u5fc5\u8981\u306f\u3042\u308a\u307e\u305b\u3093\u3002\uff08\u5b9f\u884c\u3057\u3066\u3082\u4f55\u3082\u8a2d\u5b9a\u3055\u308c\u307e\u305b\u3093\uff09"
      ]
    },
    {
      "cell_type": "code",
      "execution_count": null,
      "metadata": {
        "lc_cell_meme": {
          "current": "6ea583ec-60ee-11ee-95c7-0242ac110002",
          "next": "88937818-2bba-11ee-987e-0242ac110002-2-526a-2d0c",
          "previous": "af5c25bc-60ee-11ee-95c7-0242ac110002"
        }
      },
      "outputs": [],
      "source": [
        "# VC\u30ce\u30fc\u30c9\u3092\u69cb\u7bc9\u3059\u308bVM\u306bSSH\u30ed\u30b0\u30a4\u30f3\u3059\u308b\u969b\u306e\u30ed\u30b0\u30a4\u30f3\u30e6\u30fc\u30b6\u540d\u3092\u6307\u5b9a\u3057\u307e\u3059\u3002\n",
        "# \uff08\u4f8b\uff09\n",
        "# ssh_user = 'mdxuser' ...mdx\u306b\u69cb\u7bc9\u3059\u308b\u5834\u5408\n",
        "ssh_user = ''"
      ]
    },
    {
      "cell_type": "markdown",
      "metadata": {
        "heading_collapsed": true,
        "lc_cell_meme": {
          "current": "88937818-2bba-11ee-987e-0242ac110002-2-526a-2d0c",
          "next": "889378b8-2bba-11ee-987e-0242ac110002-2-f141-3368",
          "previous": "6ea583ec-60ee-11ee-95c7-0242ac110002"
        }
      },
      "source": [
        "### \u30d1\u30e9\u30e1\u30fc\u30bf\u306e\u4fdd\u5b58\n",
        "\n",
        "\u3053\u306e\u7ae0\u3067\u6307\u5b9a\u3057\u305f\u30d1\u30e9\u30e1\u30fc\u30bf\u306e\u5024\u3092\u30d5\u30a1\u30a4\u30eb\u306b\u4fdd\u5b58\u3057\u307e\u3059\u3002"
      ]
    },
    {
      "cell_type": "markdown",
      "metadata": {
        "hidden": true,
        "lc_cell_meme": {
          "current": "889378b8-2bba-11ee-987e-0242ac110002-2-f141-3368",
          "next": "88937962-2bba-11ee-987e-0242ac110002-2-0a2a-2498",
          "previous": "88937818-2bba-11ee-987e-0242ac110002-2-526a-2d0c"
        }
      },
      "source": [
        "\u5f8c\u306e\u624b\u9806\u3067VC\u30ce\u30fc\u30c9\u306b\u5bfe\u3059\u308b\u64cd\u4f5c\u3092\u3001\u69cb\u6210\u7ba1\u7406\u30c4\u30fc\u30eb\u306e[Ansible](https://www.ansible.com/)\u3067\u884c\u3044\u307e\u3059\u3002\u305d\u3053\u3067\u3001\u30d1\u30e9\u30e1\u30fc\u30bf\u306e\u4fdd\u5b58\u5f62\u5f0f\u306f `Ansible` \u306e\u30d5\u30a9\u30fc\u30de\u30c3\u30c8\u306b\u5f93\u3046\u3053\u3068\u306b\u3057\u307e\u3059\u3002Ansible \u3067\u306f `group_vars/`\u3068\u3044\u3046\u30c7\u30a3\u30ec\u30af\u30c8\u30ea\u306b YAML \u30d5\u30a9\u30fc\u30de\u30c3\u30c8\u306e\u30d5\u30a1\u30a4\u30eb\u3092\u914d\u7f6e\u3059\u308b\u3068\u3001\u305d\u306e\u30d5\u30a1\u30a4\u30eb\u306b\u8a18\u9332\u3055\u308c\u3066\u3044\u308b\u5024\u3092\u5909\u6570\u3068\u3057\u3066\u5229\u7528\u3059\u308b\u3053\u3068\u304c\u3067\u304d\u307e\u3059\u3002\u3053\u306eNotebook\u3067\u306f\u30d1\u30e9\u30e1\u30fc\u30bf\u3092 `group_vars/` \u306eYAML\u30d5\u30a1\u30a4\u30eb\u3068\u3057\u3066\u4fdd\u5b58\u3057\u307e\u3059\u3002"
      ]
    },
    {
      "cell_type": "markdown",
      "metadata": {
        "hidden": true,
        "lc_cell_meme": {
          "current": "88937962-2bba-11ee-987e-0242ac110002-2-0a2a-2498",
          "next": "88937a02-2bba-11ee-987e-0242ac110002-2-8455-6314",
          "previous": "889378b8-2bba-11ee-987e-0242ac110002-2-f141-3368"
        }
      },
      "source": [
        "\u30d5\u30a1\u30a4\u30eb\u306b\u4fdd\u5b58\u3059\u308b\u524d\u306b\u30d1\u30e9\u30e1\u30fc\u30bf\u306b\u95a2\u3059\u308b\u7c21\u6613\u306a\u30c1\u30a7\u30c3\u30af\u3092\u884c\u3044\u307e\u3059\u3002\u30a8\u30e9\u30fc\u306b\u306a\u3063\u305f\u5834\u5408\u306f\u305d\u306e\u5f8c\u306b\u8868\u793a\u3055\u308c\u308b\u6307\u793a\u306b\u5f93\u3063\u3066\u304f\u3060\u3055\u3044\u3002"
      ]
    },
    {
      "cell_type": "code",
      "execution_count": null,
      "metadata": {
        "hidden": true,
        "lc_cell_meme": {
          "current": "88937a02-2bba-11ee-987e-0242ac110002-2-8455-6314",
          "next": "88937aac-2bba-11ee-987e-0242ac110002-2-3679-f5a8",
          "previous": "88937962-2bba-11ee-987e-0242ac110002-2-0a2a-2498"
        }
      },
      "outputs": [],
      "source": [
        "%run scripts/check_params.py\n",
        "check_parameters(\n",
        "    'ugroup_name',\n",
        "    'vc_provider',\n",
        "    'manager_flavor',\n",
        "    'manager_disk_size',\n",
        "    'worker_flavor',\n",
        "    'worker_disk_size',\n",
        "    'worker_nodes',\n",
        "    'vc_ipaddress',\n",
        "    'worker_ipaddresses',\n",
        "    'vc_mac_address',\n",
        "    'worker_mac_addresses',\n",
        "    'docker_address_pool',\n",
        "    'ssh_public_key_path',\n",
        "    'ssh_private_key_path',\n",
        "    params={\n",
        "        'vcp': vcp,\n",
        "        'opt_vars': [\n",
        "            'vc_ipaddress', 'worker_ipaddresses',\n",
        "            'vc_mac_address', 'worker_mac_addresses',\n",
        "        ],\n",
        "    },\n",
        "    nb_vars=locals(),\n",
        ")\n",
        "\n",
        "if vc_provider == 'onpremises':\n",
        "    if not ssh_user:\n",
        "        raise NotImplementedError\n",
        "        print('ssh_user is required if construct on onpremises')\n",
        "    \n",
        "    worker_flavor = 'default'\n",
        "    manager_flavor = 'default'"
      ]
    },
    {
      "cell_type": "markdown",
      "metadata": {
        "hidden": true,
        "lc_cell_meme": {
          "current": "88937aac-2bba-11ee-987e-0242ac110002-2-3679-f5a8",
          "next": "88937b4c-2bba-11ee-987e-0242ac110002-2-7dbb-c577",
          "previous": "88937a02-2bba-11ee-987e-0242ac110002-2-8455-6314"
        }
      },
      "source": [
        "\u6b21\u306e\u30bb\u30eb\u3092\u5b9f\u884c\u3059\u308b\u3068\u3001\u3053\u306e\u7ae0\u3067\u6307\u5b9a\u3057\u305f\u30d1\u30e9\u30e1\u30fc\u30bf\u304c group_vars \u30d5\u30a1\u30a4\u30eb\u306b\u4fdd\u5b58\u3055\u308c\u307e\u3059\u3002"
      ]
    },
    {
      "cell_type": "code",
      "execution_count": null,
      "metadata": {
        "hidden": true,
        "lc_cell_meme": {
          "current": "88937b4c-2bba-11ee-987e-0242ac110002-2-7dbb-c577",
          "next": "88937bf6-2bba-11ee-987e-0242ac110002-2-f3f9-d07e",
          "previous": "88937aac-2bba-11ee-987e-0242ac110002-2-3679-f5a8"
        }
      },
      "outputs": [],
      "source": [
        "import os\n",
        "%run scripts/group.py\n",
        "update_group_vars(\n",
        "    ugroup_name,\n",
        "    ugroup_name=ugroup_name,\n",
        "    vc_provider=vc_provider,\n",
        "    manager_flavor=manager_flavor,\n",
        "    manager_disk_size=manager_disk_size,\n",
        "    worker_flavor=worker_flavor,\n",
        "    worker_disk_size=worker_disk_size,\n",
        "    worker_nodes=worker_nodes,\n",
        "    docker_address_pool=docker_address_pool,\n",
        "    ssh_public_key_path=os.path.expanduser(ssh_public_key_path),\n",
        "    ssh_private_key_path=os.path.expanduser(ssh_private_key_path),\n",
        ")\n",
        "if 'vc_ipaddress' in vars():\n",
        "    update_group_vars(ugroup_name, vc_ipaddress=vc_ipaddress)\n",
        "if 'worker_ipaddresses' in vars():\n",
        "    update_group_vars(ugroup_name, worker_ipaddresses=worker_ipaddresses)\n",
        "if 'vc_mac_address' in vars():\n",
        "    update_group_vars(ugroup_name, vc_mac_address=vc_mac_address)\n",
        "if 'worker_mac_addresses' in vars():\n",
        "    update_group_vars(ugroup_name, worker_mac_addresses=worker_mac_addresses)"
      ]
    },
    {
      "cell_type": "markdown",
      "metadata": {
        "hidden": true,
        "lc_cell_meme": {
          "current": "88937bf6-2bba-11ee-987e-0242ac110002-2-f3f9-d07e",
          "next": "88937c96-2bba-11ee-987e-0242ac110002-2-2d47-12ef",
          "previous": "88937b4c-2bba-11ee-987e-0242ac110002-2-7dbb-c577"
        }
      },
      "source": [
        "group_vars \u30d5\u30a1\u30a4\u30eb\u306e\u5185\u5bb9\u3092\u8868\u793a\u3057\u3066\u4fdd\u5b58\u3055\u308c\u305f\u30d1\u30e9\u30e1\u30fc\u30bf\u3092\u78ba\u8a8d\u3057\u307e\u3059\u3002"
      ]
    },
    {
      "cell_type": "code",
      "execution_count": null,
      "metadata": {
        "hidden": true,
        "lc_cell_meme": {
          "current": "88937c96-2bba-11ee-987e-0242ac110002-2-2d47-12ef",
          "next": "88937d40-2bba-11ee-987e-0242ac110002-2-ee99-a2a2",
          "previous": "88937bf6-2bba-11ee-987e-0242ac110002-2-f3f9-d07e"
        }
      },
      "outputs": [],
      "source": [
        "!cat group_vars/{ugroup_name}"
      ]
    },
    {
      "cell_type": "markdown",
      "metadata": {
        "lc_cell_meme": {
          "current": "88937d40-2bba-11ee-987e-0242ac110002-2-ee99-a2a2",
          "next": "88937de0-2bba-11ee-987e-0242ac110002-2-6d1e-8d88",
          "previous": "88937c96-2bba-11ee-987e-0242ac110002-2-2d47-12ef"
        }
      },
      "source": [
        "## VC\u30c7\u30a3\u30b9\u30af\u306b\u95a2\u3059\u308b\u30d1\u30e9\u30e1\u30fc\u30bf\n",
        "\n",
        "JupyterHub\u306b\u95a2\u3059\u308b\u30c7\u30fc\u30bf\u3084Notebook\u3001\u30e6\u30fc\u30b6\u306e\u30db\u30fc\u30e0\u30c7\u30a3\u30ec\u30af\u30c8\u30ea\u306a\u3069\u306b\u5229\u7528\u3059\u308bVC\u30c7\u30a3\u30b9\u30af\u306b\u95a2\u3059\u308b\u30d1\u30e9\u30e1\u30fc\u30bf\u3092\u6307\u5b9a\u3057\u307e\u3059\u3002"
      ]
    },
    {
      "cell_type": "markdown",
      "metadata": {
        "lc_cell_meme": {
          "current": "88937de0-2bba-11ee-987e-0242ac110002-2-6d1e-8d88",
          "next": "88937eda-2bba-11ee-987e-0242ac110002-2-6141-c61d",
          "previous": "88937d40-2bba-11ee-987e-0242ac110002-2-ee99-a2a2"
        }
      },
      "source": [
        "\u30c7\u30a3\u30b9\u30af\u30b5\u30a4\u30ba(GB)\u3092\u6307\u5b9a\u3057\u3066\u304f\u3060\u3055\u3044\u3002\n",
        "\n",
        "> VC\u30c7\u30a3\u30b9\u30af\u3092\u4f5c\u6210\u3057\u306a\u3044\u3067\u5168\u3066\u306e\u30c7\u30fc\u30bf\u3092\u30eb\u30fc\u30c8\u30dc\u30ea\u30e5\u30fc\u30e0\u306b\u914d\u7f6e\u3059\u308b\u5834\u5408\u306f\u3001\u3053\u306e\u30bb\u30af\u30b7\u30e7\u30f3\u3092\u30b9\u30ad\u30c3\u30d7\u3059\u308b\u304b\u3001`vc_nfs_disk_size` \u3092 `0` \u306b\u8a2d\u5b9a\u3057\u3066\u304f\u3060\u3055\u3044\u3002\n",
        "> \u307e\u305fVC\u30c7\u30a3\u30b9\u30af\u306b\u5bfe\u5fdc\u3057\u3066\u3044\u308b\u30af\u30e9\u30a6\u30c9\u30d7\u30ed\u30d0\u30a4\u30c0(aws, azure)\u4ee5\u5916\u3092\u6307\u5b9a\u3057\u305f\u5834\u5408\u306f\u3001\u30c7\u30a3\u30b9\u30af\u30b5\u30a4\u30ba\u306e\u6307\u5b9a\u306f\u7121\u52b9\u3068\u306a\u308a\u307e\u3059\u3002"
      ]
    },
    {
      "cell_type": "code",
      "execution_count": null,
      "metadata": {
        "lc_cell_meme": {
          "current": "88937eda-2bba-11ee-987e-0242ac110002-2-6141-c61d",
          "next": "88937f8e-2bba-11ee-987e-0242ac110002-2-f8d0-9ab7",
          "previous": "88937de0-2bba-11ee-987e-0242ac110002-2-6d1e-8d88"
        },
        "tags": [
          "vcp:skip",
          "vcp:parameters"
        ]
      },
      "outputs": [],
      "source": [
        "# (\u4f8b)\n",
        "# vc_nfs_disk_size = 32\n",
        "\n",
        "vc_nfs_disk_size = 0"
      ]
    },
    {
      "cell_type": "markdown",
      "metadata": {
        "lc_cell_meme": {
          "current": "88937f8e-2bba-11ee-987e-0242ac110002-2-f8d0-9ab7",
          "next": "88938038-2bba-11ee-987e-0242ac110002-2-908b-b597",
          "previous": "88937eda-2bba-11ee-987e-0242ac110002-2-6141-c61d"
        }
      },
      "source": [
        "VC\u30c7\u30a3\u30b9\u30af\u306e\u305f\u3081\u306eUnitGroup\u540d\u3092\u6307\u5b9a\u3057\u3066\u304f\u3060\u3055\u3044\u3002\u3053\u3053\u3067\u306fVC\u30ce\u30fc\u30c9\u306eUnitGroup\u540d\u304b\u3089\u81ea\u52d5\u7684\u306b\u5c0e\u304d\u51fa\u3057\u305f\u540d\u524d\u3092\u8a2d\u5b9a\u3057\u307e\u3059\u3002"
      ]
    },
    {
      "cell_type": "code",
      "execution_count": null,
      "metadata": {
        "lc_cell_meme": {
          "current": "88938038-2bba-11ee-987e-0242ac110002-2-908b-b597",
          "next": "889380d8-2bba-11ee-987e-0242ac110002-2-f989-82f7",
          "previous": "88937f8e-2bba-11ee-987e-0242ac110002-2-f8d0-9ab7"
        }
      },
      "outputs": [],
      "source": [
        "disk_unit_group = ugroup_name + '_disk'\n",
        "print(disk_unit_group)"
      ]
    },
    {
      "cell_type": "markdown",
      "metadata": {
        "lc_cell_meme": {
          "current": "889380d8-2bba-11ee-987e-0242ac110002-2-f989-82f7",
          "next": "88938182-2bba-11ee-987e-0242ac110002-2-688a-c0bd",
          "previous": "88938038-2bba-11ee-987e-0242ac110002-2-908b-b597"
        }
      },
      "source": [
        "\u3053\u306e\u7ae0\u3067\u6307\u5b9a\u3057\u305f\u30d1\u30e9\u30e1\u30fc\u30bf\u306e\u5024\u3092\u30d5\u30a1\u30a4\u30eb\u306b\u4fdd\u5b58\u3057\u307e\u3059\u3002"
      ]
    },
    {
      "cell_type": "code",
      "execution_count": null,
      "metadata": {
        "lc_cell_meme": {
          "current": "88938182-2bba-11ee-987e-0242ac110002-2-688a-c0bd",
          "next": "88938222-2bba-11ee-987e-0242ac110002-2-a000-9325",
          "previous": "889380d8-2bba-11ee-987e-0242ac110002-2-f989-82f7"
        }
      },
      "outputs": [],
      "source": [
        "%run scripts/group.py\n",
        "\n",
        "if 'vc_nfs_disk_size' in vars() and vc_nfs_disk_size > 0:\n",
        "    if vc_provider in ['aws', 'azure']:\n",
        "        update_group_vars(\n",
        "            ugroup_name,\n",
        "            disk_unit_group=disk_unit_group,\n",
        "            vc_nfs_disk_size=vc_nfs_disk_size,\n",
        "        )\n",
        "    else:\n",
        "        del(vc_nfs_disk_size)"
      ]
    },
    {
      "cell_type": "markdown",
      "metadata": {
        "lc_cell_meme": {
          "current": "88938222-2bba-11ee-987e-0242ac110002-2-a000-9325",
          "next": "889382cc-2bba-11ee-987e-0242ac110002-2-365d-d8b7",
          "previous": "88938182-2bba-11ee-987e-0242ac110002-2-688a-c0bd"
        }
      },
      "source": [
        "group_vars \u30d5\u30a1\u30a4\u30eb\u306e\u5185\u5bb9\u3092\u8868\u793a\u3057\u3066\u4fdd\u5b58\u3055\u308c\u305f\u30d1\u30e9\u30e1\u30fc\u30bf\u3092\u78ba\u8a8d\u3057\u307e\u3059\u3002"
      ]
    },
    {
      "cell_type": "code",
      "execution_count": null,
      "metadata": {
        "lc_cell_meme": {
          "current": "889382cc-2bba-11ee-987e-0242ac110002-2-365d-d8b7",
          "next": "88938376-2bba-11ee-987e-0242ac110002-2-cc15-815a",
          "previous": "88938222-2bba-11ee-987e-0242ac110002-2-a000-9325"
        }
      },
      "outputs": [],
      "source": [
        "!cat group_vars/{ugroup_name}"
      ]
    },
    {
      "cell_type": "markdown",
      "metadata": {
        "heading_collapsed": true,
        "lc_cell_meme": {
          "current": "88938376-2bba-11ee-987e-0242ac110002-2-cc15-815a",
          "next": "88938592-2bba-11ee-987e-0242ac110002-2-601a-65ae",
          "previous": "889382cc-2bba-11ee-987e-0242ac110002-2-365d-d8b7"
        }
      },
      "source": [
        "## VC\u30c7\u30a3\u30b9\u30af\u306e\u4f5c\u6210\n",
        "\n",
        "NFS\u7528\u306eVC\u30c7\u30a3\u30b9\u30af\u3092\u4f5c\u6210\u3057\u307e\u3059\u3002\n",
        "\n",
        "> \u524d\u306e\u30bb\u30af\u30b7\u30e7\u30f3\u3092\u30b9\u30ad\u30c3\u30d7\u3057\u305f\u304b\u3001\u307e\u305f\u306f `vc_nfs_disk_size`\u306e\u5024\u3068\u3057\u3066 `0` \u3092\u8a2d\u5b9a\u3057\u305f\u5834\u5408\u306f\u3001\u3053\u306e\u30bb\u30af\u30b7\u30e7\u30f3\u3092\u5b9f\u884c\u3057\u3066\u3082VC\u30c7\u30a3\u30b9\u30af\u306f\u4f5c\u6210\u3055\u308c\u307e\u305b\u3093\u3002"
      ]
    },
    {
      "cell_type": "markdown",
      "metadata": {
        "hidden": true,
        "lc_cell_meme": {
          "current": "88938592-2bba-11ee-987e-0242ac110002-2-601a-65ae",
          "next": "889386b4-2bba-11ee-987e-0242ac110002-2-5042-ce68",
          "previous": "88938376-2bba-11ee-987e-0242ac110002-2-cc15-815a"
        }
      },
      "source": [
        "### UnitGroup\u306e\u4f5c\u6210\n",
        "\n",
        "VC\u30c7\u30a3\u30b9\u30af\u3092\u7ba1\u7406\u3059\u308b\u305f\u3081\u306e UnitGroup \u3092\u4f5c\u6210\u3057\u307e\u3059\u3002\n"
      ]
    },
    {
      "cell_type": "markdown",
      "metadata": {
        "hidden": true,
        "lc_cell_meme": {
          "current": "889386b4-2bba-11ee-987e-0242ac110002-2-5042-ce68",
          "next": "88938768-2bba-11ee-987e-0242ac110002-2-6b8a-7698",
          "previous": "88938592-2bba-11ee-987e-0242ac110002-2-601a-65ae"
        }
      },
      "source": [
        "UnitGroup\u3092\u4f5c\u6210\u3059\u308b\u307e\u3048\u306b\u3001\u73fe\u5728\u306eUnitGroup\u306e\u4e00\u89a7\u3092\u78ba\u8a8d\u3057\u307e\u3059\u3002"
      ]
    },
    {
      "cell_type": "code",
      "execution_count": null,
      "metadata": {
        "hidden": true,
        "lc_cell_meme": {
          "current": "88938768-2bba-11ee-987e-0242ac110002-2-6b8a-7698",
          "next": "88938812-2bba-11ee-987e-0242ac110002-2-38a5-4803",
          "previous": "889386b4-2bba-11ee-987e-0242ac110002-2-5042-ce68"
        }
      },
      "outputs": [],
      "source": [
        "vcp.df_ugroups()"
      ]
    },
    {
      "cell_type": "markdown",
      "metadata": {
        "hidden": true,
        "lc_cell_meme": {
          "current": "88938812-2bba-11ee-987e-0242ac110002-2-38a5-4803",
          "next": "889388b2-2bba-11ee-987e-0242ac110002-2-597e-a51f",
          "previous": "88938768-2bba-11ee-987e-0242ac110002-2-6b8a-7698"
        }
      },
      "source": [
        "UnitGroup\u3092\u4f5c\u6210\u3057\u307e\u3059\u3002"
      ]
    },
    {
      "cell_type": "code",
      "execution_count": null,
      "metadata": {
        "hidden": true,
        "lc_cell_meme": {
          "current": "889388b2-2bba-11ee-987e-0242ac110002-2-597e-a51f",
          "next": "8893895c-2bba-11ee-987e-0242ac110002-2-bee2-26a9",
          "previous": "88938812-2bba-11ee-987e-0242ac110002-2-38a5-4803"
        }
      },
      "outputs": [],
      "source": [
        "%run scripts/group.py\n",
        "gvars = load_group_vars(ugroup_name)\n",
        "\n",
        "if 'disk_unit_group' in gvars and 'vc_nfs_disk_size' in gvars and gvars['vc_nfs_disk_size'] > 0:\n",
        "    ug_disk = vcp.create_ugroup(gvars['disk_unit_group'], ugroup_type='storage')"
      ]
    },
    {
      "cell_type": "markdown",
      "metadata": {
        "hidden": true,
        "lc_cell_meme": {
          "current": "8893895c-2bba-11ee-987e-0242ac110002-2-bee2-26a9",
          "next": "88938a06-2bba-11ee-987e-0242ac110002-2-52b6-50d6",
          "previous": "889388b2-2bba-11ee-987e-0242ac110002-2-597e-a51f"
        }
      },
      "source": [
        "UnitGroup\u4f5c\u6210\u5f8c\u306e\u4e00\u89a7\u3092\u8868\u793a\u3055\u305b\u307e\u3059\u3002"
      ]
    },
    {
      "cell_type": "code",
      "execution_count": null,
      "metadata": {
        "hidden": true,
        "lc_cell_meme": {
          "current": "88938a06-2bba-11ee-987e-0242ac110002-2-52b6-50d6",
          "next": "88938aa6-2bba-11ee-987e-0242ac110002-2-b313-ab94",
          "previous": "8893895c-2bba-11ee-987e-0242ac110002-2-bee2-26a9"
        }
      },
      "outputs": [],
      "source": [
        "vcp.df_ugroups()"
      ]
    },
    {
      "cell_type": "markdown",
      "metadata": {
        "hidden": true,
        "lc_cell_meme": {
          "current": "88938aa6-2bba-11ee-987e-0242ac110002-2-b313-ab94",
          "next": "88938b46-2bba-11ee-987e-0242ac110002-2-10da-a60b",
          "previous": "88938a06-2bba-11ee-987e-0242ac110002-2-52b6-50d6"
        }
      },
      "source": [
        "### VC\u30c7\u30a3\u30b9\u30af\u306e\u4f5c\u6210"
      ]
    },
    {
      "cell_type": "markdown",
      "metadata": {
        "hidden": true,
        "lc_cell_meme": {
          "current": "88938b46-2bba-11ee-987e-0242ac110002-2-10da-a60b",
          "next": "88938be6-2bba-11ee-987e-0242ac110002-2-cd76-9b27",
          "previous": "88938aa6-2bba-11ee-987e-0242ac110002-2-b313-ab94"
        }
      },
      "source": [
        "NFS\u7528\u306eVC\u30c7\u30a3\u30b9\u30af\u3092\u4f5c\u6210\u3057\u307e\u3059\u3002"
      ]
    },
    {
      "cell_type": "code",
      "execution_count": null,
      "metadata": {
        "hidden": true,
        "lc_cell_meme": {
          "current": "88938be6-2bba-11ee-987e-0242ac110002-2-cd76-9b27",
          "next": "88938c9a-2bba-11ee-987e-0242ac110002-2-a351-7b68",
          "previous": "88938b46-2bba-11ee-987e-0242ac110002-2-10da-a60b"
        }
      },
      "outputs": [],
      "source": [
        "if 'ug_disk' in vars() and gvars['vc_nfs_disk_size'] > 0:\n",
        "    nfs_disk_spec = vcp.get_spec(gvars['vc_provider'] + '_disk', 'small')\n",
        "    if gvars['vc_provider'] == 'azure':\n",
        "        nfs_disk_spec.disk_size_gb = gvars['vc_nfs_disk_size']\n",
        "    elif gvars['vc_provider'] == 'oracle':\n",
        "        nfs_disk_spec.size_in_gbs = gvars['vc_nfs_disk_size']\n",
        "    else:\n",
        "        nfs_disk_spec.size = gvars['vc_nfs_disk_size']\n",
        "    ug_disk.create_unit('nfs', nfs_disk_spec)"
      ]
    },
    {
      "cell_type": "markdown",
      "metadata": {
        "hidden": true,
        "lc_cell_meme": {
          "current": "88938c9a-2bba-11ee-987e-0242ac110002-2-a351-7b68",
          "next": "88938d44-2bba-11ee-987e-0242ac110002-2-a36c-f698",
          "previous": "88938be6-2bba-11ee-987e-0242ac110002-2-cd76-9b27"
        }
      },
      "source": [
        "\u4f5c\u6210\u3057\u305fVC\u30c7\u30a3\u30b9\u30af\u306e\u4e00\u89a7\u3092\u8868\u793a\u3057\u307e\u3059\u3002"
      ]
    },
    {
      "cell_type": "code",
      "execution_count": null,
      "metadata": {
        "hidden": true,
        "lc_cell_meme": {
          "current": "88938d44-2bba-11ee-987e-0242ac110002-2-a36c-f698",
          "next": "88938de4-2bba-11ee-987e-0242ac110002-2-bb0d-4967",
          "previous": "88938c9a-2bba-11ee-987e-0242ac110002-2-a351-7b68"
        }
      },
      "outputs": [],
      "source": [
        "from IPython.display import display\n",
        "if 'ug_disk' in vars():\n",
        "    display(ug_disk.df_nodes())"
      ]
    },
    {
      "cell_type": "markdown",
      "metadata": {
        "heading_collapsed": true,
        "lc_cell_meme": {
          "current": "88938de4-2bba-11ee-987e-0242ac110002-2-bb0d-4967",
          "next": "88938e84-2bba-11ee-987e-0242ac110002-2-3171-5312",
          "previous": "88938d44-2bba-11ee-987e-0242ac110002-2-a36c-f698"
        }
      },
      "source": [
        "## VC\u30ce\u30fc\u30c9\u306e\u8d77\u52d5"
      ]
    },
    {
      "cell_type": "markdown",
      "metadata": {
        "hidden": true,
        "lc_cell_meme": {
          "current": "88938e84-2bba-11ee-987e-0242ac110002-2-3171-5312",
          "next": "88938f38-2bba-11ee-987e-0242ac110002-2-084b-1d1b",
          "previous": "88938de4-2bba-11ee-987e-0242ac110002-2-bb0d-4967"
        }
      },
      "source": [
        "### manager\u30ce\u30fc\u30c9"
      ]
    },
    {
      "cell_type": "markdown",
      "metadata": {
        "hidden": true,
        "lc_cell_meme": {
          "current": "88938f38-2bba-11ee-987e-0242ac110002-2-084b-1d1b",
          "next": "88938fd8-2bba-11ee-987e-0242ac110002-2-2a6f-f2e3",
          "previous": "88938e84-2bba-11ee-987e-0242ac110002-2-3171-5312"
        }
      },
      "source": [
        "#### manager\u7528\u306eVC\u30ce\u30fc\u30c9\u3092\u8d77\u52d5\u3059\u308b"
      ]
    },
    {
      "cell_type": "markdown",
      "metadata": {
        "hidden": true,
        "lc_cell_meme": {
          "current": "88938fd8-2bba-11ee-987e-0242ac110002-2-2a6f-f2e3",
          "next": "88939078-2bba-11ee-987e-0242ac110002-2-7d37-7570",
          "previous": "88938f38-2bba-11ee-987e-0242ac110002-2-084b-1d1b"
        }
      },
      "source": [
        "manager\u7528VC\u30ce\u30fc\u30c9\u306e `spec` \u3092\u6307\u5b9a\u3057\u307e\u3059\u3002"
      ]
    },
    {
      "cell_type": "code",
      "execution_count": null,
      "metadata": {
        "hidden": true,
        "lc_cell_meme": {
          "current": "88939078-2bba-11ee-987e-0242ac110002-2-7d37-7570",
          "next": "8893912c-2bba-11ee-987e-0242ac110002-2-4d13-c1ff",
          "previous": "88938fd8-2bba-11ee-987e-0242ac110002-2-2a6f-f2e3"
        },
        "tags": [
          "vcp:rewrite:container_image"
        ]
      },
      "outputs": [],
      "source": [
        "import sys\n",
        "%run scripts/group.py\n",
        "gvars = load_group_vars(ugroup_name)\n",
        "spec_mgr = vcp.get_spec(gvars['vc_provider'], gvars['manager_flavor'])\n",
        "\n",
        "# Base\u30b3\u30f3\u30c6\u30ca\u30a4\u30e1\u30fc\u30b8\u3092\u6307\u5b9a\u3059\u308b\n",
        "spec_mgr.image = 'harbor.vcloud.nii.ac.jp/vcp/coursewarehub:base-nfsd'\n",
        "spec_mgr.params_v = [\n",
        "    '/sys/fs/cgroup:/sys/fs/cgroup:ro',\n",
        "    '/lib/modules:/lib/modules:ro',\n",
        "]\n",
        "\n",
        "if 'vc_ipaddress' in gvars:\n",
        "    # manager\u7528VC\u30ce\u30fc\u30c9\u306b\u5272\u308a\u5f53\u3066\u308bIP\u30a2\u30c9\u30ec\u30b9\u3092\u6307\u5b9a\u3059\u308b\n",
        "    spec_mgr.ip_addresses = [gvars['vc_ipaddress']]\n",
        "elif 'vc_mac_addresses' in gvars:\n",
        "    # manager\u7528VC\u30ce\u30fc\u30c9\u306b\u5272\u308a\u5f53\u3066\u308bMAC\u30a2\u30c9\u30ec\u30b9\u3092\u6307\u5b9a\u3059\u308b\n",
        "    spec_mgr.mac_addresses = [gvars['vc_mac_address']]\n",
        "    \n",
        "# \u30eb\u30fc\u30c8\u30dc\u30ea\u30e5\u30fc\u30e0\u30b5\u30a4\u30ba\u3092\u6307\u5b9a\u3059\u308b\n",
        "if vc_provider == 'aws':\n",
        "    spec_mgr.volume_size = gvars['manager_disk_size']\n",
        "elif vc_provider == 'azure':\n",
        "    spec_mgr.disk_size_gb = gvars['manager_disk_size']\n",
        "else:\n",
        "    print('This provider does not support the specification of the root volume size.' +\n",
        "          ' Does not set the disk size.', file=sys.stderr)\n",
        "\n",
        "# \u30aa\u30f3\u30d7\u30ec\u30df\u30b9\u306b\u69cb\u7bc9\u3059\u308b\u5834\u5408\u3001SSH\u30ed\u30b0\u30a4\u30f3\u30e6\u30fc\u30b6\u540d\u3092\u6307\u5b9a\n",
        "if vc_provider == 'onpremises':\n",
        "    spec_mgr.user_name = ssh_user\n",
        "\n",
        "# VC\u30ce\u30fc\u30c9\u306bssh\u3067\u30ed\u30b0\u30a4\u30f3\u3059\u308b\u305f\u3081\u306e\u516c\u958b\u9375\u3092\u6307\u5b9a\u3059\u308b\n",
        "spec_mgr.set_ssh_pubkey(gvars['ssh_public_key_path'])\n",
        "spec_mgr.params_e.append(f\"UGROUP_NAME={ugroup_name}\")\n",
        "\n",
        "if 'ug_disk' in vars():\n",
        "    spec_mgr.disks = ug_disk.find_nodes()\n",
        "    if len(spec_mgr.disks) > 0:\n",
        "        spec_mgr.params_e.append(\"NFS_MKFS=yes\")\n",
        "else:\n",
        "    spec_mgr.params_v.append('/exported:/exported')"
      ]
    },
    {
      "cell_type": "markdown",
      "metadata": {
        "hidden": true,
        "lc_cell_meme": {
          "current": "8893912c-2bba-11ee-987e-0242ac110002-2-4d13-c1ff",
          "next": "889391cc-2bba-11ee-987e-0242ac110002-2-bec4-6df0",
          "previous": "88939078-2bba-11ee-987e-0242ac110002-2-7d37-7570"
        }
      },
      "source": [
        "`spec` \u306e\u8a2d\u5b9a\u5024\u3092\u78ba\u8a8d\u3057\u307e\u3059\u3002"
      ]
    },
    {
      "cell_type": "code",
      "execution_count": null,
      "metadata": {
        "hidden": true,
        "lc_cell_meme": {
          "current": "889391cc-2bba-11ee-987e-0242ac110002-2-bec4-6df0",
          "next": "88939276-2bba-11ee-987e-0242ac110002-2-a9cf-442c",
          "previous": "8893912c-2bba-11ee-987e-0242ac110002-2-4d13-c1ff"
        },
        "scrolled": false
      },
      "outputs": [],
      "source": [
        "print(spec_mgr)"
      ]
    },
    {
      "cell_type": "markdown",
      "metadata": {
        "hidden": true,
        "lc_cell_meme": {
          "current": "88939276-2bba-11ee-987e-0242ac110002-2-a9cf-442c",
          "next": "88939316-2bba-11ee-987e-0242ac110002-2-07a2-5abd",
          "previous": "889391cc-2bba-11ee-987e-0242ac110002-2-bec4-6df0"
        }
      },
      "source": [
        "UnitGroup\u3092\u4f5c\u6210\u3057\u307e\u3059\u3002"
      ]
    },
    {
      "cell_type": "code",
      "execution_count": null,
      "metadata": {
        "hidden": true,
        "lc_cell_meme": {
          "current": "88939316-2bba-11ee-987e-0242ac110002-2-07a2-5abd",
          "next": "889393c0-2bba-11ee-987e-0242ac110002-2-4fcb-9e87",
          "previous": "88939276-2bba-11ee-987e-0242ac110002-2-a9cf-442c"
        }
      },
      "outputs": [],
      "source": [
        "ugroup = vcp.create_ugroup(ugroup_name)"
      ]
    },
    {
      "cell_type": "markdown",
      "metadata": {
        "hidden": true,
        "lc_cell_meme": {
          "current": "889393c0-2bba-11ee-987e-0242ac110002-2-4fcb-9e87",
          "next": "88939460-2bba-11ee-987e-0242ac110002-2-f1c2-54da",
          "previous": "88939316-2bba-11ee-987e-0242ac110002-2-07a2-5abd"
        }
      },
      "source": [
        "manager\u7528VC\u30ce\u30fc\u30c9\u3092\u8d77\u52d5\u3057\u307e\u3059\u3002"
      ]
    },
    {
      "cell_type": "code",
      "execution_count": null,
      "metadata": {
        "hidden": true,
        "lc_cell_meme": {
          "current": "88939460-2bba-11ee-987e-0242ac110002-2-f1c2-54da",
          "next": "88939500-2bba-11ee-987e-0242ac110002-2-fb03-406a",
          "previous": "889393c0-2bba-11ee-987e-0242ac110002-2-4fcb-9e87"
        },
        "scrolled": true
      },
      "outputs": [],
      "source": [
        "unit_mgr = ugroup.create_unit('manager', spec_mgr)"
      ]
    },
    {
      "cell_type": "markdown",
      "metadata": {
        "hidden": true,
        "lc_cell_meme": {
          "current": "88939500-2bba-11ee-987e-0242ac110002-2-fb03-406a",
          "next": "889395a0-2bba-11ee-987e-0242ac110002-2-d73d-f7c4",
          "previous": "88939460-2bba-11ee-987e-0242ac110002-2-f1c2-54da"
        }
      },
      "source": [
        "\u8d77\u52d5\u3057\u305fVC\u30ce\u30fc\u30c9\u306e\u4e00\u89a7\u3092\u8868\u793a\u3057\u307e\u3059\u3002\n",
        "\n",
        "vcname:\u3000\u672c\u30ce\u30fc\u30c8\u30d6\u30c3\u30af\u3067\u6307\u5b9a\u3057\u305f\u3001`UnitGroup`  \n",
        "unit_name:\u3000`manager`"
      ]
    },
    {
      "cell_type": "code",
      "execution_count": null,
      "metadata": {
        "hidden": true,
        "lc_cell_meme": {
          "current": "889395a0-2bba-11ee-987e-0242ac110002-2-d73d-f7c4",
          "next": "88939640-2bba-11ee-987e-0242ac110002-3-3d88-f1f3-d1f4",
          "previous": "88939500-2bba-11ee-987e-0242ac110002-2-fb03-406a"
        }
      },
      "outputs": [],
      "source": [
        "unit_mgr.df_nodes()"
      ]
    },
    {
      "cell_type": "markdown",
      "metadata": {
        "hidden": true,
        "lc_cell_meme": {
          "current": "88939640-2bba-11ee-987e-0242ac110002-3-3d88-f1f3-d1f4",
          "next": "889396ea-2bba-11ee-987e-0242ac110002-3-af56-446e-a18d",
          "previous": "889395a0-2bba-11ee-987e-0242ac110002-2-d73d-f7c4"
        }
      },
      "source": [
        "VC\u30ce\u30fc\u30c9\u306eIP\u30a2\u30c9\u30ec\u30b9\u3092\u5909\u6570`vc_ipaddress`\u306b\u8a2d\u5b9a\u3057\u307e\u3059\u3002"
      ]
    },
    {
      "cell_type": "code",
      "execution_count": null,
      "metadata": {
        "hidden": true,
        "lc_cell_meme": {
          "current": "889396ea-2bba-11ee-987e-0242ac110002-3-af56-446e-a18d",
          "next": "8893978a-2bba-11ee-987e-0242ac110002-3-2129-7647-8db9",
          "previous": "88939640-2bba-11ee-987e-0242ac110002-3-3d88-f1f3-d1f4"
        }
      },
      "outputs": [],
      "source": [
        "vc_ipaddress = unit_mgr.find_ip_addresses()[0]\n",
        "print(vc_ipaddress)"
      ]
    },
    {
      "cell_type": "markdown",
      "metadata": {
        "hidden": true,
        "lc_cell_meme": {
          "current": "8893978a-2bba-11ee-987e-0242ac110002-3-2129-7647-8db9",
          "next": "8893982a-2bba-11ee-987e-0242ac110002-3-3675-5f2d-d625",
          "previous": "889396ea-2bba-11ee-987e-0242ac110002-3-af56-446e-a18d"
        }
      },
      "source": [
        "`group_vars`\u30d5\u30a1\u30a4\u30eb\u306bIP\u30a2\u30c9\u30ec\u30b9\u306e\u5024\u3092\u8a18\u9332\u3057\u307e\u3059\u3002"
      ]
    },
    {
      "cell_type": "code",
      "execution_count": null,
      "metadata": {
        "hidden": true,
        "lc_cell_meme": {
          "current": "8893982a-2bba-11ee-987e-0242ac110002-3-3675-5f2d-d625",
          "next": "889398ca-2bba-11ee-987e-0242ac110002-2-9e79-b0d4",
          "previous": "8893978a-2bba-11ee-987e-0242ac110002-3-2129-7647-8db9"
        }
      },
      "outputs": [],
      "source": [
        "update_group_vars(ugroup_name, vc_ipaddress=vc_ipaddress)\n",
        "gvars = load_group_vars(ugroup_name)"
      ]
    },
    {
      "cell_type": "markdown",
      "metadata": {
        "hidden": true,
        "lc_cell_meme": {
          "current": "889398ca-2bba-11ee-987e-0242ac110002-2-9e79-b0d4",
          "next": "8893997e-2bba-11ee-987e-0242ac110002-2-b0a4-2787",
          "previous": "8893982a-2bba-11ee-987e-0242ac110002-3-3675-5f2d-d625"
        }
      },
      "source": [
        "#### manager\u30ce\u30fc\u30c9\u306b\u5bfe\u3059\u308bAnsible\u306e\u8a2d\u5b9a\n",
        "\n",
        "\u8d77\u52d5\u3057\u305fVC\u30ce\u30fc\u30c9\u3092Ansible\u3067\u64cd\u4f5c\u3059\u308b\u305f\u3081\u306e\u8a2d\u5b9a\u3092\u884c\u3044\u307e\u3059\u3002"
      ]
    },
    {
      "cell_type": "markdown",
      "metadata": {
        "hidden": true,
        "lc_cell_meme": {
          "current": "8893997e-2bba-11ee-987e-0242ac110002-2-b0a4-2787",
          "next": "88939a28-2bba-11ee-987e-0242ac110002-2-204b-1214",
          "previous": "889398ca-2bba-11ee-987e-0242ac110002-2-9e79-b0d4"
        }
      },
      "source": [
        "\u307e\u305a\u3001VC\u30ce\u30fc\u30c9\u306bSSH\u3067\u30ed\u30b0\u30a4\u30f3\u3067\u304d\u308b\u3088\u3046\u306b\u3059\u308b\u305f\u3081\u306b `~/.ssh/known_hosts` \u306e\u66f4\u65b0\u3092\u884c\u3044\u307e\u3059\u3002\n",
        "\n",
        "> \u4f55\u5ea6\u304bVC\u30ce\u30fc\u30c9\u306e\u8d77\u52d5\u3092\u884c\u3046\u3068\u3001\u7570\u306a\u308b\u30db\u30b9\u30c8\u304c\u540c\u3058IP\u30a2\u30c9\u30ec\u30b9\u3067\u8d77\u52d5\u3059\u308b\u305f\u3081\u306bSSH\u306e\u30db\u30b9\u30c8\u30ad\u30fc\u306e\u30c1\u30a7\u30c3\u30af\u3067\u30a8\u30e9\u30fc\u306b\u306a\u308b\u4e8b\u304c\u3042\u308a\u307e\u3059\u3002\u3053\u306e\u3088\u3046\u306a\u72b6\u6cc1\u306b\u5bfe\u5fdc\u3059\u308b\u305f\u3081\u306b\u3001\u8d77\u52d5\u3057\u305fVC\u30ce\u30fc\u30c9\u306eIP\u30a2\u30c9\u30ec\u30b9\u306b\u5bfe\u5fdc\u3059\u308b\u30a8\u30f3\u30c8\u30ea\u3092`known_hosts`\u30d5\u30a1\u30a4\u30eb\u304b\u3089\u524a\u9664\u3057\u307e\u3059\u3002\u305d\u306e\u5f8c\u3001`ssh-keyscan`\u30b3\u30de\u30f3\u30c9\u3092\u5229\u7528\u3057\u3066\u8d77\u52d5\u3057\u305fVC\u30ce\u30fc\u30c9\u306e\u30db\u30b9\u30c8\u30ad\u30fc\u3092\u53d6\u5f97\u3057\u3066 `known_hosts`\u30d5\u30a1\u30a4\u30eb\u306e\u5185\u5bb9\u3092\u66f4\u65b0\u3057\u307e\u3059\u3002"
      ]
    },
    {
      "cell_type": "code",
      "execution_count": null,
      "metadata": {
        "hidden": true,
        "lc_cell_meme": {
          "current": "88939a28-2bba-11ee-987e-0242ac110002-2-204b-1214",
          "next": "88939ac8-2bba-11ee-987e-0242ac110002-2-c2d6-6cb0",
          "previous": "8893997e-2bba-11ee-987e-0242ac110002-2-b0a4-2787"
        }
      },
      "outputs": [],
      "source": [
        "from time import sleep\n",
        "\n",
        "def check_update_known_hosts(ipaddr):\n",
        "    # VC\u30ce\u30fc\u30c9\u8d77\u52d5\u76f4\u5f8c\u3060\u3068 sshd \u30b5\u30fc\u30d3\u30b9\u304c\u958b\u59cb\u3055\u308c\u3066\u304a\u3089\u305a\u306b known_hosts \u304c\u66f4\u65b0\u3055\u308c\u306a\u3044\u5834\u5408\u304c\u3042\u308b\n",
        "    # ssh-keyscan \u304c\u5024\u3092\u53d6\u5f97\u3067\u304d\u308b\u307e\u3067\u4f55\u5ea6\u304b\u30ea\u30c8\u30e9\u30a4\u3059\u308b\n",
        "    for x in range(10):\n",
        "        out = ! echo $(ssh-keyscan {ipaddr} 2> /dev/null | wc -l)\n",
        "        update_lines = int(out[0])\n",
        "        if update_lines > 0:\n",
        "            break\n",
        "        sleep(1)\n",
        "    else:\n",
        "        raise RuntimeError(\"ERROR: timeout!\")    \n",
        "\n",
        "!mkdir -p -m 0700 ~/.ssh\n",
        "!touch ~/.ssh/known_hosts\n",
        "for addr in unit_mgr.find_ip_addresses():\n",
        "    !ssh-keygen -R {addr}\n",
        "    check_update_known_hosts(addr)\n",
        "    !ssh-keyscan -H {addr} >> ~/.ssh/known_hosts"
      ]
    },
    {
      "cell_type": "markdown",
      "metadata": {
        "hidden": true,
        "lc_cell_meme": {
          "current": "88939ac8-2bba-11ee-987e-0242ac110002-2-c2d6-6cb0",
          "next": "88939b68-2bba-11ee-987e-0242ac110002-2-eea8-f72a",
          "previous": "88939a28-2bba-11ee-987e-0242ac110002-2-204b-1214"
        }
      },
      "source": [
        "\u8d77\u52d5\u3057\u305fVC\u30ce\u30fc\u30c9\u306b\u5bfe\u5fdc\u3059\u308b\u30a8\u30f3\u30c8\u30ea\u3092 Ansible \u306e\u30a4\u30f3\u30d9\u30f3\u30c8\u30ea\u306b\u767b\u9332\u3057\u307e\u3059\u3002\n",
        "\n",
        "> Ansible\u3067\u64cd\u4f5c\u3092\u884c\u3046\u305f\u3081\u306b\u306f\u3001\u64cd\u4f5c\u5bfe\u8c61\u306e\u30db\u30b9\u30c8(IP\u30a2\u30c9\u30ec\u30b9)\u3092\u30a4\u30f3\u30d9\u30f3\u30c8\u30ea\u306b\u767b\u9332\u3059\u308b\u5fc5\u8981\u304c\u3042\u308a\u307e\u3059\u3002"
      ]
    },
    {
      "cell_type": "code",
      "execution_count": null,
      "metadata": {
        "hidden": true,
        "lc_cell_meme": {
          "current": "88939b68-2bba-11ee-987e-0242ac110002-2-eea8-f72a",
          "next": "88939c12-2bba-11ee-987e-0242ac110002-2-c259-d8a1",
          "previous": "88939ac8-2bba-11ee-987e-0242ac110002-2-c2d6-6cb0"
        }
      },
      "outputs": [],
      "source": [
        "%run scripts/group.py\n",
        "%run scripts/edit_conf.py\n",
        "\n",
        "inventory = {'all': {'children': {\n",
        "    ugroup.name: {\n",
        "        'children': {\n",
        "            f'{ugroup.name}_{unit_mgr.name}': {\n",
        "                'hosts': dict([(x, {}) for x in unit_mgr.find_ip_addresses()]),\n",
        "            },\n",
        "        },\n",
        "        'vars': {\n",
        "            'ansible_user': 'vcp',\n",
        "            'ansible_ssh_private_key_file': gvars['ssh_private_key_path'],\n",
        "            'ansible_python_interpreter': '/usr/bin/python3',\n",
        "        },\n",
        "    },\n",
        "}}}\n",
        "\n",
        "generate_edit_link(update_inventory_yml(inventory))"
      ]
    },
    {
      "cell_type": "markdown",
      "metadata": {
        "hidden": true,
        "lc_cell_meme": {
          "current": "88939c12-2bba-11ee-987e-0242ac110002-2-c259-d8a1",
          "next": "88939cb2-2bba-11ee-987e-0242ac110002-2-4f0b-5e29",
          "previous": "88939b68-2bba-11ee-987e-0242ac110002-2-eea8-f72a"
        }
      },
      "source": [
        "\u6b21\u306e\u30bb\u30eb\u3092\u5b9f\u884c\u3059\u308b\u3068\u4f5c\u6210\u3057\u305f\u30a4\u30f3\u30d9\u30f3\u30c8\u30ea\u306e\u5185\u5bb9\u3092\u8868\u793a\u3057\u307e\u3059\u3002\u30a4\u30f3\u30d9\u30f3\u30c8\u30ea\u306e\u5185\u5bb9\u3092\u5909\u66f4\u3057\u305f\u3044\u5834\u5408\u306f\u3001\u4e0a\u306e\u30bb\u30eb\u306e\u51fa\u529b\u7d50\u679c\u306b\u8868\u793a\u3057\u3066\u3044\u308b\u30ea\u30f3\u30af\u304b\u3089\u7de8\u96c6\u3059\u308b\u3053\u3068\u304c\u3067\u304d\u307e\u3059\u3002"
      ]
    },
    {
      "cell_type": "code",
      "execution_count": null,
      "metadata": {
        "hidden": true,
        "lc_cell_meme": {
          "current": "88939cb2-2bba-11ee-987e-0242ac110002-2-4f0b-5e29",
          "next": "88939d52-2bba-11ee-987e-0242ac110002-2-989e-7f7e",
          "previous": "88939c12-2bba-11ee-987e-0242ac110002-2-c259-d8a1"
        }
      },
      "outputs": [],
      "source": [
        "!cat inventory.yml"
      ]
    },
    {
      "cell_type": "markdown",
      "metadata": {
        "hidden": true,
        "lc_cell_meme": {
          "current": "88939d52-2bba-11ee-987e-0242ac110002-2-989e-7f7e",
          "next": "88939df2-2bba-11ee-987e-0242ac110002-2-d087-10c6",
          "previous": "88939cb2-2bba-11ee-987e-0242ac110002-2-4f0b-5e29"
        }
      },
      "source": [
        " \u5148\u7a0bVC\u30ce\u30fc\u30c9\u3092\u767b\u9332\u3057\u305f\u30d5\u30a1\u30a4\u30eb\u3092\u30a4\u30f3\u30d9\u30f3\u30c8\u30ea\u3068\u3057\u3066\u6307\u5b9a\u3059\u308b\u305f\u3081\u306eAnsible\u306e\u30b3\u30f3\u30d5\u30a3\u30ae\u30e5\u30ec\u30fc\u30b7\u30e7\u30f3\u30d5\u30a1\u30a4\u30eb\u3092\u4f5c\u6210\u3057\u307e\u3059\u3002\n",
        "> \u30ab\u30ec\u30f3\u30c8\u30c7\u30a3\u30ec\u30af\u30c8\u30ea\u306b\u30b3\u30f3\u30d5\u30a3\u30ae\u30e5\u30ec\u30fc\u30b7\u30e7\u30f3\u30d5\u30a1\u30a4\u30eb(`ansible.cfg`)\u3092\u4f5c\u6210\u3059\u308b\u3068\u3001Ansible\u3092\u5b9f\u884c\u3059\u308b\u969b\u306b\u305d\u306e\u8a2d\u5b9a\u304c\u9069\u7528\u3055\u308c\u307e\u3059\u3002"
      ]
    },
    {
      "cell_type": "code",
      "execution_count": null,
      "metadata": {
        "hidden": true,
        "lc_cell_meme": {
          "current": "88939df2-2bba-11ee-987e-0242ac110002-2-d087-10c6",
          "next": "88939e9c-2bba-11ee-987e-0242ac110002-2-f8b9-e945",
          "previous": "88939d52-2bba-11ee-987e-0242ac110002-2-989e-7f7e"
        }
      },
      "outputs": [],
      "source": [
        "cfg = setup_ansible_cfg()\n",
        "generate_edit_link(cfg)"
      ]
    },
    {
      "cell_type": "markdown",
      "metadata": {
        "hidden": true,
        "lc_cell_meme": {
          "current": "88939e9c-2bba-11ee-987e-0242ac110002-2-f8b9-e945",
          "next": "88939f46-2bba-11ee-987e-0242ac110002-2-b580-678f",
          "previous": "88939df2-2bba-11ee-987e-0242ac110002-2-d087-10c6"
        }
      },
      "source": [
        "\u6b21\u306e\u30bb\u30eb\u3092\u5b9f\u884c\u3059\u308b\u3068\u4f5c\u6210\u3057\u305f\u30b3\u30f3\u30d5\u30a3\u30ae\u30e5\u30ec\u30fc\u30b7\u30e7\u30f3\u30d5\u30a1\u30a4\u30eb\u306e\u5185\u5bb9\u3092\u8868\u793a\u3057\u307e\u3059\u3002\u30b3\u30f3\u30d5\u30a3\u30ae\u30e5\u30ec\u30fc\u30b7\u30e7\u30f3\u30d5\u30a1\u30a4\u30eb\u306e\u5185\u5bb9\u3092\u5909\u66f4\u3057\u305f\u3044\u5834\u5408\u306f\u3001\u4e0a\u306e\u30bb\u30eb\u306e\u51fa\u529b\u7d50\u679c\u306b\u8868\u793a\u3057\u3066\u3044\u308b\u30ea\u30f3\u30af\u304b\u3089\u7de8\u96c6\u3059\u308b\u3053\u3068\u304c\u3067\u304d\u307e\u3059\u3002"
      ]
    },
    {
      "cell_type": "code",
      "execution_count": null,
      "metadata": {
        "hidden": true,
        "lc_cell_meme": {
          "current": "88939f46-2bba-11ee-987e-0242ac110002-2-b580-678f",
          "next": "88939fe6-2bba-11ee-987e-0242ac110002-2-a88e-2be7",
          "previous": "88939e9c-2bba-11ee-987e-0242ac110002-2-f8b9-e945"
        }
      },
      "outputs": [],
      "source": [
        "!cat ansible.cfg"
      ]
    },
    {
      "cell_type": "markdown",
      "metadata": {
        "hidden": true,
        "lc_cell_meme": {
          "current": "88939fe6-2bba-11ee-987e-0242ac110002-2-a88e-2be7",
          "next": "8893a086-2bba-11ee-987e-0242ac110002-2-f6a1-ceaa",
          "previous": "88939f46-2bba-11ee-987e-0242ac110002-2-b580-678f"
        }
      },
      "source": [
        "UnitGroup\u306b\u5c5e\u3059\u308b\u5168\u3066\u306eVC\u30ce\u30fc\u30c9\u306b\u5bfe\u3057\u3066 Ansible \u3067\u63a5\u7d9a\u3067\u304d\u308b\u3053\u3068\u3092\u78ba\u8a8d\u3057\u307e\u3059\u3002\n",
        "\n",
        "> \u3053\u3053\u3067\u306f\u3001\u8907\u6570\u306eVC\u30ce\u30fc\u30c9\u3092\u307e\u3068\u3081\u3066\u6271\u3046\u305f\u3081\u306bAnsible\u306e\u30b0\u30eb\u30fc\u30d7\u3092\u6307\u5b9a\u3057\u3066\u3044\u307e\u3059\u3002\u30b0\u30eb\u30fc\u30d7\u540d\u306f UnitGroup\u540d\u3068\u540c\u3058\u5024\u306b\u3057\u3066\u3042\u308a\u307e\u3059\u3002"
      ]
    },
    {
      "cell_type": "code",
      "execution_count": null,
      "metadata": {
        "hidden": true,
        "lc_cell_meme": {
          "current": "8893a086-2bba-11ee-987e-0242ac110002-2-f6a1-ceaa",
          "next": "8893a16c-2bba-11ee-987e-0242ac110002-2-dd9b-a12a",
          "previous": "88939fe6-2bba-11ee-987e-0242ac110002-2-a88e-2be7"
        }
      },
      "outputs": [],
      "source": [
        "!ansible {ugroup.name} -m ping"
      ]
    },
    {
      "cell_type": "markdown",
      "metadata": {
        "hidden": true,
        "lc_cell_meme": {
          "current": "8893a16c-2bba-11ee-987e-0242ac110002-2-dd9b-a12a",
          "next": "8893a234-2bba-11ee-987e-0242ac110002-2-c389-7f77",
          "previous": "8893a086-2bba-11ee-987e-0242ac110002-2-f6a1-ceaa"
        }
      },
      "source": [
        "#### NFS\u30b5\u30fc\u30d0\u306e\u78ba\u8a8d"
      ]
    },
    {
      "cell_type": "markdown",
      "metadata": {
        "hidden": true,
        "lc_cell_meme": {
          "current": "8893a234-2bba-11ee-987e-0242ac110002-2-c389-7f77",
          "next": "8893a2d4-2bba-11ee-987e-0242ac110002-2-8da1-81f1",
          "previous": "8893a16c-2bba-11ee-987e-0242ac110002-2-dd9b-a12a"
        }
      },
      "source": [
        "manager\u30ce\u30fc\u30c9\u306eNFS\u30b5\u30fc\u30d0\u306e\u30b5\u30fc\u30d3\u30b9\u72b6\u614b\u3092\u78ba\u8a8d\u3057\u307e\u3059\u3002"
      ]
    },
    {
      "cell_type": "code",
      "execution_count": null,
      "metadata": {
        "hidden": true,
        "lc_cell_meme": {
          "current": "8893a2d4-2bba-11ee-987e-0242ac110002-2-8da1-81f1",
          "next": "8893a37e-2bba-11ee-987e-0242ac110002-2-5c09-8240",
          "previous": "8893a234-2bba-11ee-987e-0242ac110002-2-c389-7f77"
        }
      },
      "outputs": [],
      "source": [
        "!ansible {ugroup.name}_{unit_mgr.name} -b -a 'systemctl status nfs-server'"
      ]
    },
    {
      "cell_type": "markdown",
      "metadata": {
        "hidden": true,
        "lc_cell_meme": {
          "current": "8893a37e-2bba-11ee-987e-0242ac110002-2-5c09-8240",
          "next": "8893a428-2bba-11ee-987e-0242ac110002-2-0620-9bc8",
          "previous": "8893a2d4-2bba-11ee-987e-0242ac110002-2-8da1-81f1"
        }
      },
      "source": [
        "NFS\u30a8\u30af\u30b9\u30dd\u30fc\u30c8\u306e\u72b6\u614b\u3092\u78ba\u8a8d\u3057\u307e\u3059\u3002manager\u30ce\u30fc\u30c9\u306e\u8d77\u52d5\u6642\u306f\u5168\u3066\u306e\u30ce\u30fc\u30c9\u306b\u5bfe\u3057\u3066\u30a2\u30af\u30bb\u30b9\u53ef\u80fd\u306a\u72b6\u614b\u306b\u8a2d\u5b9a\u3055\u308c\u3066\u3044\u307e\u3059\u3002\u5f8c\u307b\u3069worker\u30ce\u30fc\u30c9\u3092\u8d77\u52d5\u3057\u3066NFS\u30af\u30e9\u30a4\u30a2\u30f3\u30c8\u306eIP\u30a2\u30c9\u30ec\u30b9\u304c\u78ba\u5b9a\u3057\u305f\u6642\u70b9\u3067`/etc/exports`\u306e\u8a2d\u5b9a\u3092\u66f4\u65b0\u3057\u3001\u30a2\u30af\u30bb\u30b9\u3067\u304d\u308b\u30ce\u30fc\u30c9\u306e\u5236\u9650\u3092\u884c\u3044\u307e\u3059\u3002"
      ]
    },
    {
      "cell_type": "code",
      "execution_count": null,
      "metadata": {
        "hidden": true,
        "lc_cell_meme": {
          "current": "8893a428-2bba-11ee-987e-0242ac110002-2-0620-9bc8",
          "next": "8893a4d2-2bba-11ee-987e-0242ac110002-2-90ed-4289",
          "previous": "8893a37e-2bba-11ee-987e-0242ac110002-2-5c09-8240"
        }
      },
      "outputs": [],
      "source": [
        "!ansible {ugroup.name}_{unit_mgr.name} -b -a 'exportfs -v'"
      ]
    },
    {
      "cell_type": "markdown",
      "metadata": {
        "hidden": true,
        "lc_cell_meme": {
          "current": "8893a4d2-2bba-11ee-987e-0242ac110002-2-90ed-4289",
          "next": "8893a572-2bba-11ee-987e-0242ac110002-2-ba56-b884",
          "previous": "8893a428-2bba-11ee-987e-0242ac110002-2-0620-9bc8"
        }
      },
      "source": [
        "\u30c7\u30a3\u30ec\u30af\u30c8\u30ea\u306e\u30d1\u30fc\u30df\u30c3\u30b7\u30e7\u30f3\u3092\u8a2d\u5b9a\u3057\u307e\u3059\u3002"
      ]
    },
    {
      "cell_type": "code",
      "execution_count": null,
      "metadata": {
        "hidden": true,
        "lc_cell_meme": {
          "current": "8893a572-2bba-11ee-987e-0242ac110002-2-ba56-b884",
          "next": "8893a612-2bba-11ee-987e-0242ac110002-2-9db3-da2f",
          "previous": "8893a4d2-2bba-11ee-987e-0242ac110002-2-90ed-4289"
        },
        "scrolled": true
      },
      "outputs": [],
      "source": [
        "!ansible {ugroup.name}_{unit_mgr.name} -b -m file -a 'path=/home mode=777'\n",
        "!ansible {ugroup.name}_{unit_mgr.name} -b -m file -a 'path=/exchange mode=777'"
      ]
    },
    {
      "cell_type": "markdown",
      "metadata": {
        "hidden": true,
        "lc_cell_meme": {
          "current": "8893a612-2bba-11ee-987e-0242ac110002-2-9db3-da2f",
          "next": "8893a6bc-2bba-11ee-987e-0242ac110002-2-84ef-384c",
          "previous": "8893a572-2bba-11ee-987e-0242ac110002-2-ba56-b884"
        }
      },
      "source": [
        "### worker\u30ce\u30fc\u30c9"
      ]
    },
    {
      "cell_type": "markdown",
      "metadata": {
        "hidden": true,
        "lc_cell_meme": {
          "current": "8893a6bc-2bba-11ee-987e-0242ac110002-2-84ef-384c",
          "next": "8893a75c-2bba-11ee-987e-0242ac110002-2-c555-b1ca",
          "previous": "8893a612-2bba-11ee-987e-0242ac110002-2-9db3-da2f"
        }
      },
      "source": [
        "#### worker\u7528\u306eVC\u30ce\u30fc\u30c9\u3092\u8d77\u52d5\u3059\u308b"
      ]
    },
    {
      "cell_type": "markdown",
      "metadata": {
        "hidden": true,
        "lc_cell_meme": {
          "current": "8893a75c-2bba-11ee-987e-0242ac110002-2-c555-b1ca",
          "next": "8893a806-2bba-11ee-987e-0242ac110002-2-2567-49f3",
          "previous": "8893a6bc-2bba-11ee-987e-0242ac110002-2-84ef-384c"
        }
      },
      "source": [
        "worker\u7528VC\u30ce\u30fc\u30c9\u306e `spec` \u3092\u6307\u5b9a\u3057\u307e\u3059\u3002"
      ]
    },
    {
      "cell_type": "code",
      "execution_count": null,
      "metadata": {
        "hidden": true,
        "lc_cell_meme": {
          "current": "8893a806-2bba-11ee-987e-0242ac110002-2-2567-49f3",
          "next": "8893a8a6-2bba-11ee-987e-0242ac110002-2-fdea-0665",
          "previous": "8893a75c-2bba-11ee-987e-0242ac110002-2-c555-b1ca"
        },
        "tags": [
          "vcp:rewrite:container_image"
        ]
      },
      "outputs": [],
      "source": [
        "%run scripts/group.py\n",
        "gvars = load_group_vars(ugroup_name)\n",
        "spec_worker = vcp.get_spec(gvars['vc_provider'], gvars['worker_flavor'])\n",
        "\n",
        "# Base\u30b3\u30f3\u30c6\u30ca\u30a4\u30e1\u30fc\u30b8\u3092\u6307\u5b9a\u3059\u308b\n",
        "spec_worker.image = 'harbor.vcloud.nii.ac.jp/vcp/coursewarehub:base'\n",
        "\n",
        "spec_worker.params_v = [\n",
        "    '/sys/fs/cgroup:/sys/fs/cgroup:ro',\n",
        "    '/lib/modules:/lib/modules:ro',\n",
        "]\n",
        "\n",
        "# worker\u30ce\u30fc\u30c9\u6570\u3092\u6307\u5b9a\u3059\u308b\n",
        "spec_worker.num_nodes = int(gvars['worker_nodes'])\n",
        "\n",
        "if 'worker_ipaddresses' in gvars:\n",
        "    # worker\u7528VC\u30ce\u30fc\u30c9\u306b\u5272\u308a\u5f53\u3066\u308bIP\u30a2\u30c9\u30ec\u30b9\u3092\u6307\u5b9a\u3059\u308b\n",
        "    spec_worker.ip_addresses = gvars['worker_ipaddresses']\n",
        "elif 'vc_mac_addresses' in gvars:\n",
        "    # worker\u7528VC\u30ce\u30fc\u30c9\u306b\u5272\u308a\u5f53\u3066\u308bMAC\u30a2\u30c9\u30ec\u30b9\u3092\u6307\u5b9a\u3059\u308b\n",
        "    spec_worker.mac_addresses = gvars['worker_mac_addresses']\n",
        "\n",
        "# \u30eb\u30fc\u30c8\u30dc\u30ea\u30e5\u30fc\u30e0\u30b5\u30a4\u30ba\u3092\u6307\u5b9a\u3059\u308b\n",
        "if vc_provider == 'aws':\n",
        "    spec_worker.volume_size = gvars['worker_disk_size']\n",
        "elif vc_provider == 'azure':\n",
        "    spec_worker.disk_size_gb = gvars['worker_disk_size']\n",
        "else:\n",
        "    print('This provider does not support the specification of the root volume size.' +\n",
        "          ' Does not set the disk size.', file=sys.stderr)\n",
        "\n",
        "# \u30aa\u30f3\u30d7\u30ec\u30df\u30b9\u306b\u69cb\u7bc9\u3059\u308b\u5834\u5408\u3001SSH\u30ed\u30b0\u30a4\u30f3\u30e6\u30fc\u30b6\u540d\u3092\u6307\u5b9a\n",
        "if vc_provider == 'onpremises':\n",
        "    spec_worker.user_name = ssh_user\n",
        "\n",
        "# VC\u30ce\u30fc\u30c9\u306bssh\u3067\u30ed\u30b0\u30a4\u30f3\u3059\u308b\u305f\u3081\u306e\u516c\u958b\u9375\u3092\u6307\u5b9a\u3059\u308b\n",
        "spec_worker.set_ssh_pubkey(gvars['ssh_public_key_path'])\n",
        "\n",
        "# NFS\u30b5\u30fc\u30d0\u306eIP\u30a2\u30c9\u30ec\u30b9\u3092\u6307\u5b9a\u3059\u308b\n",
        "spec_worker.params_e.append(\"NFS_SERVER=\" + gvars['vc_ipaddress'])"
      ]
    },
    {
      "cell_type": "markdown",
      "metadata": {
        "hidden": true,
        "lc_cell_meme": {
          "current": "8893a8a6-2bba-11ee-987e-0242ac110002-2-fdea-0665",
          "next": "8893a946-2bba-11ee-987e-0242ac110002-2-a062-c5ab",
          "previous": "8893a806-2bba-11ee-987e-0242ac110002-2-2567-49f3"
        }
      },
      "source": [
        "`spec` \u306e\u8a2d\u5b9a\u5024\u3092\u78ba\u8a8d\u3057\u307e\u3059\u3002"
      ]
    },
    {
      "cell_type": "code",
      "execution_count": null,
      "metadata": {
        "hidden": true,
        "lc_cell_meme": {
          "current": "8893a946-2bba-11ee-987e-0242ac110002-2-a062-c5ab",
          "next": "8893a9f0-2bba-11ee-987e-0242ac110002-2-e08e-2321",
          "previous": "8893a8a6-2bba-11ee-987e-0242ac110002-2-fdea-0665"
        }
      },
      "outputs": [],
      "source": [
        "print(spec_worker)"
      ]
    },
    {
      "cell_type": "markdown",
      "metadata": {
        "hidden": true,
        "lc_cell_meme": {
          "current": "8893a9f0-2bba-11ee-987e-0242ac110002-2-e08e-2321",
          "next": "8893aa90-2bba-11ee-987e-0242ac110002-2-749a-e003",
          "previous": "8893a946-2bba-11ee-987e-0242ac110002-2-a062-c5ab"
        }
      },
      "source": [
        "worker\u7528VC\u30ce\u30fc\u30c9\u3092\u8d77\u52d5\u3057\u307e\u3059\u3002"
      ]
    },
    {
      "cell_type": "code",
      "execution_count": null,
      "metadata": {
        "hidden": true,
        "lc_cell_meme": {
          "current": "8893aa90-2bba-11ee-987e-0242ac110002-2-749a-e003",
          "next": "8893ab30-2bba-11ee-987e-0242ac110002-2-882c-2d6c",
          "previous": "8893a9f0-2bba-11ee-987e-0242ac110002-2-e08e-2321"
        },
        "scrolled": true
      },
      "outputs": [],
      "source": [
        "unit_worker = ugroup.create_unit('worker', spec_worker)"
      ]
    },
    {
      "cell_type": "markdown",
      "metadata": {
        "hidden": true,
        "lc_cell_meme": {
          "current": "8893ab30-2bba-11ee-987e-0242ac110002-2-882c-2d6c",
          "next": "8893abda-2bba-11ee-987e-0242ac110002-2-58df-6683",
          "previous": "8893aa90-2bba-11ee-987e-0242ac110002-2-749a-e003"
        }
      },
      "source": [
        "\u8d77\u52d5\u3057\u305fVC\u30ce\u30fc\u30c9\u306e\u4e00\u89a7\u3092\u8868\u793a\u3057\u307e\u3059\u3002\n",
        "\n",
        "vcname:\u3000\u672c\u30ce\u30fc\u30c8\u30d6\u30c3\u30af\u3067\u6307\u5b9a\u3057\u305f\u3001`UnitGroup`  \n",
        "unit_name:\u3000`worker`"
      ]
    },
    {
      "cell_type": "code",
      "execution_count": null,
      "metadata": {
        "hidden": true,
        "lc_cell_meme": {
          "current": "8893abda-2bba-11ee-987e-0242ac110002-2-58df-6683",
          "next": "8893ac84-2bba-11ee-987e-0242ac110002-2-b4d3-0cb6",
          "previous": "8893ab30-2bba-11ee-987e-0242ac110002-2-882c-2d6c"
        }
      },
      "outputs": [],
      "source": [
        "unit_worker.df_nodes()"
      ]
    },
    {
      "cell_type": "markdown",
      "metadata": {
        "hidden": true,
        "lc_cell_meme": {
          "current": "8893ac84-2bba-11ee-987e-0242ac110002-2-b4d3-0cb6",
          "next": "8893ad24-2bba-11ee-987e-0242ac110002-2-4331-b8f3",
          "previous": "8893abda-2bba-11ee-987e-0242ac110002-2-58df-6683"
        }
      },
      "source": [
        "#### worker\u30ce\u30fc\u30c9\u306b\u5bfe\u3059\u308bAnsible\u306e\u8a2d\u5b9a"
      ]
    },
    {
      "cell_type": "markdown",
      "metadata": {
        "hidden": true,
        "lc_cell_meme": {
          "current": "8893ad24-2bba-11ee-987e-0242ac110002-2-4331-b8f3",
          "next": "8893adce-2bba-11ee-987e-0242ac110002-2-da39-3a9d",
          "previous": "8893ac84-2bba-11ee-987e-0242ac110002-2-b4d3-0cb6"
        }
      },
      "source": [
        "VC\u30ce\u30fc\u30c9\u306bSSH\u3067\u30ed\u30b0\u30a4\u30f3\u3067\u304d\u308b\u3088\u3046\u306b\u3059\u308b\u305f\u3081\u306b `~/.ssh/known_hosts` \u306e\u66f4\u65b0\u3092\u884c\u3044\u307e\u3059\u3002"
      ]
    },
    {
      "cell_type": "code",
      "execution_count": null,
      "metadata": {
        "hidden": true,
        "lc_cell_meme": {
          "current": "8893adce-2bba-11ee-987e-0242ac110002-2-da39-3a9d",
          "next": "8893ae6e-2bba-11ee-987e-0242ac110002-2-ba7a-2d75",
          "previous": "8893ad24-2bba-11ee-987e-0242ac110002-2-4331-b8f3"
        }
      },
      "outputs": [],
      "source": [
        "!mkdir -p -m 0700 ~/.ssh\n",
        "!touch ~/.ssh/known_hosts\n",
        "for addr in unit_worker.find_ip_addresses():\n",
        "    !ssh-keygen -R {addr}\n",
        "    check_update_known_hosts(addr)\n",
        "    !ssh-keyscan -H {addr} >> ~/.ssh/known_hosts"
      ]
    },
    {
      "cell_type": "markdown",
      "metadata": {
        "hidden": true,
        "lc_cell_meme": {
          "current": "8893ae6e-2bba-11ee-987e-0242ac110002-2-ba7a-2d75",
          "next": "8893af0e-2bba-11ee-987e-0242ac110002-2-af80-8782",
          "previous": "8893adce-2bba-11ee-987e-0242ac110002-2-da39-3a9d"
        }
      },
      "source": [
        "\u8d77\u52d5\u3057\u305fVC\u30ce\u30fc\u30c9\u306b\u5bfe\u5fdc\u3059\u308b\u30a8\u30f3\u30c8\u30ea\u3092 Ansible \u306e\u30a4\u30f3\u30d9\u30f3\u30c8\u30ea\u306b\u767b\u9332\u3057\u307e\u3059\u3002\n",
        "\n",
        "> Ansible\u3067\u64cd\u4f5c\u3092\u884c\u3046\u305f\u3081\u306b\u306f\u3001\u64cd\u4f5c\u5bfe\u8c61\u306e\u30db\u30b9\u30c8(IP\u30a2\u30c9\u30ec\u30b9)\u3092\u30a4\u30f3\u30d9\u30f3\u30c8\u30ea\u306b\u767b\u9332\u3059\u308b\u5fc5\u8981\u304c\u3042\u308a\u307e\u3059\u3002"
      ]
    },
    {
      "cell_type": "code",
      "execution_count": null,
      "metadata": {
        "hidden": true,
        "lc_cell_meme": {
          "current": "8893af0e-2bba-11ee-987e-0242ac110002-2-af80-8782",
          "next": "8893afb8-2bba-11ee-987e-0242ac110002-2-fb47-1405",
          "previous": "8893ae6e-2bba-11ee-987e-0242ac110002-2-ba7a-2d75"
        }
      },
      "outputs": [],
      "source": [
        "inventory = {'all': {'children': {\n",
        "    ugroup.name: {\n",
        "        'children': {\n",
        "            f'{ugroup.name}_{unit_worker.name}': {\n",
        "                'hosts': dict([(x, {}) for x in unit_worker.find_ip_addresses()]),\n",
        "            },\n",
        "        },\n",
        "    },\n",
        "}}}\n",
        "\n",
        "generate_edit_link(update_inventory_yml(inventory))"
      ]
    },
    {
      "cell_type": "markdown",
      "metadata": {
        "hidden": true,
        "lc_cell_meme": {
          "current": "8893afb8-2bba-11ee-987e-0242ac110002-2-fb47-1405",
          "next": "8893b058-2bba-11ee-987e-0242ac110002-2-cee9-e7bf",
          "previous": "8893af0e-2bba-11ee-987e-0242ac110002-2-af80-8782"
        }
      },
      "source": [
        "\u6b21\u306e\u30bb\u30eb\u3092\u5b9f\u884c\u3059\u308b\u3068\u4f5c\u6210\u3057\u305f\u30a4\u30f3\u30d9\u30f3\u30c8\u30ea\u306e\u5185\u5bb9\u3092\u8868\u793a\u3057\u307e\u3059\u3002\u30a4\u30f3\u30d9\u30f3\u30c8\u30ea\u306e\u5185\u5bb9\u3092\u5909\u66f4\u3057\u305f\u3044\u5834\u5408\u306f\u3001\u4e0a\u306e\u30bb\u30eb\u306e\u51fa\u529b\u7d50\u679c\u306b\u8868\u793a\u3057\u3066\u3044\u308b\u30ea\u30f3\u30af\u304b\u3089\u7de8\u96c6\u3059\u308b\u3053\u3068\u304c\u3067\u304d\u307e\u3059\u3002"
      ]
    },
    {
      "cell_type": "code",
      "execution_count": null,
      "metadata": {
        "hidden": true,
        "lc_cell_meme": {
          "current": "8893b058-2bba-11ee-987e-0242ac110002-2-cee9-e7bf",
          "next": "8893b102-2bba-11ee-987e-0242ac110002-2-394d-e9ee",
          "previous": "8893afb8-2bba-11ee-987e-0242ac110002-2-fb47-1405"
        }
      },
      "outputs": [],
      "source": [
        "!cat inventory.yml"
      ]
    },
    {
      "cell_type": "markdown",
      "metadata": {
        "hidden": true,
        "lc_cell_meme": {
          "current": "8893b102-2bba-11ee-987e-0242ac110002-2-394d-e9ee",
          "next": "8893b1a2-2bba-11ee-987e-0242ac110002-2-7196-063e",
          "previous": "8893b058-2bba-11ee-987e-0242ac110002-2-cee9-e7bf"
        }
      },
      "source": [
        "UnitGroup\u306b\u5c5e\u3059\u308b\u5168\u3066\u306eVC\u30ce\u30fc\u30c9\u306b\u5bfe\u3057\u3066 Ansible \u3067\u63a5\u7d9a\u3067\u304d\u308b\u3053\u3068\u3092\u78ba\u8a8d\u3057\u307e\u3059\u3002\n",
        "\n",
        "> \u3053\u3053\u3067\u306f\u3001\u8907\u6570\u306eVC\u30ce\u30fc\u30c9\u3092\u307e\u3068\u3081\u3066\u6271\u3046\u305f\u3081\u306bAnsible\u306e\u30b0\u30eb\u30fc\u30d7\u3092\u6307\u5b9a\u3057\u3066\u3044\u307e\u3059\u3002\u30b0\u30eb\u30fc\u30d7\u540d\u306f UnitGroup\u540d\u3068\u540c\u3058\u5024\u306b\u3057\u3066\u3042\u308a\u307e\u3059\u3002"
      ]
    },
    {
      "cell_type": "code",
      "execution_count": null,
      "metadata": {
        "hidden": true,
        "lc_cell_meme": {
          "current": "8893b1a2-2bba-11ee-987e-0242ac110002-2-7196-063e",
          "next": "8893b24c-2bba-11ee-987e-0242ac110002-2-98f4-65a3",
          "previous": "8893b102-2bba-11ee-987e-0242ac110002-2-394d-e9ee"
        }
      },
      "outputs": [],
      "source": [
        "!ansible {ugroup.name} -m ping"
      ]
    },
    {
      "cell_type": "markdown",
      "metadata": {
        "hidden": true,
        "lc_cell_meme": {
          "current": "8893b24c-2bba-11ee-987e-0242ac110002-2-98f4-65a3",
          "next": "8893b33c-2bba-11ee-987e-0242ac110002-2-c656-f66e",
          "previous": "8893b1a2-2bba-11ee-987e-0242ac110002-2-7196-063e"
        }
      },
      "source": [
        "#### NFS\u306e\u8a2d\u5b9a"
      ]
    },
    {
      "cell_type": "markdown",
      "metadata": {
        "hidden": true,
        "lc_cell_meme": {
          "current": "8893b33c-2bba-11ee-987e-0242ac110002-2-c656-f66e",
          "next": "8893b3e6-2bba-11ee-987e-0242ac110002-2-2674-eb1c",
          "previous": "8893b24c-2bba-11ee-987e-0242ac110002-2-98f4-65a3"
        }
      },
      "source": [
        "worker\u30ce\u30fc\u30c9\u306b\u304a\u3051\u308bNFS\u30de\u30a6\u30f3\u30c8\u306e\u72b6\u614b\u3092\u78ba\u8a8d\u3057\u307e\u3059\u3002`/jupyter`, `/exchange`\u306e\u30a8\u30f3\u30c8\u30ea\u304c\u5b58\u5728\u3057\u3066\u3044\u308b\u3053\u3068\u3092\u78ba\u8a8d\u3057\u3066\u304f\u3060\u3055\u3044\u3002"
      ]
    },
    {
      "cell_type": "code",
      "execution_count": null,
      "metadata": {
        "hidden": true,
        "lc_cell_meme": {
          "current": "8893b3e6-2bba-11ee-987e-0242ac110002-2-2674-eb1c",
          "next": "8893b486-2bba-11ee-987e-0242ac110002-2-fbcc-656f",
          "previous": "8893b33c-2bba-11ee-987e-0242ac110002-2-c656-f66e"
        }
      },
      "outputs": [],
      "source": [
        "!ansible {ugroup.name}_{unit_worker.name} -a 'mount -t nfs4'"
      ]
    },
    {
      "cell_type": "markdown",
      "metadata": {
        "hidden": true,
        "lc_cell_meme": {
          "current": "8893b486-2bba-11ee-987e-0242ac110002-2-fbcc-656f",
          "next": "8893b526-2bba-11ee-987e-0242ac110002-2-66a7-5c50",
          "previous": "8893b3e6-2bba-11ee-987e-0242ac110002-2-2674-eb1c"
        }
      },
      "source": [
        "NFS\u30b5\u30fc\u30d0\u306e `/etc/exports` \u306e\u8a2d\u5b9a\u3092\u66f4\u65b0\u3057\u307e\u3059\u3002NFS\u30b5\u30fc\u30d0\u306b\u30a2\u30af\u30bb\u30b9\u3067\u304d\u308bNFS\u30af\u30e9\u30a4\u30a2\u30f3\u30c8\u3092worker\u30ce\u30fc\u30c9\u306e\u307f\u3068\u306a\u308b\u3088\u3046\u306b\u8a2d\u5b9a\u3057\u307e\u3059\u3002"
      ]
    },
    {
      "cell_type": "code",
      "execution_count": null,
      "metadata": {
        "hidden": true,
        "lc_cell_meme": {
          "current": "8893b526-2bba-11ee-987e-0242ac110002-2-66a7-5c50",
          "next": "8893b5d0-2bba-11ee-987e-0242ac110002-2-6721-c337",
          "previous": "8893b486-2bba-11ee-987e-0242ac110002-2-fbcc-656f"
        },
        "scrolled": true
      },
      "outputs": [],
      "source": [
        "from tempfile import TemporaryDirectory\n",
        "from pathlib import Path\n",
        "\n",
        "exports_opts = 'rw,fsid=0,no_root_squash,no_subtree_check,sync,crossmnt'\n",
        "with TemporaryDirectory() as workdir:\n",
        "    exports = Path(workdir) / f'{ugroup_name}.exports'\n",
        "    with exports.open(mode='w') as f:\n",
        "        for addr in unit_worker.find_ip_addresses():\n",
        "            f.write(f'/exported/{ugroup_name} {addr}({exports_opts})\\n')\n",
        "    !cat {exports}\n",
        "    !ansible {ugroup.name}_{unit_mgr.name} -b -m copy -a \\\n",
        "        'src={exports} dest=/etc/exports.d/ backup=yes'"
      ]
    },
    {
      "cell_type": "markdown",
      "metadata": {
        "hidden": true,
        "lc_cell_meme": {
          "current": "8893b5d0-2bba-11ee-987e-0242ac110002-2-6721-c337",
          "next": "8893b670-2bba-11ee-987e-0242ac110002-2-a8cd-1b5e",
          "previous": "8893b526-2bba-11ee-987e-0242ac110002-2-66a7-5c50"
        }
      },
      "source": [
        "\u8a2d\u5b9a\u30d5\u30a1\u30a4\u30eb\u3092\u8aad\u307f\u8fbc\u307e\u305b\u3066\u30a8\u30af\u30b9\u30dd\u30fc\u30c8\u8a2d\u5b9a\u3092\u66f4\u65b0\u3057\u307e\u3059\u3002"
      ]
    },
    {
      "cell_type": "code",
      "execution_count": null,
      "metadata": {
        "hidden": true,
        "lc_cell_meme": {
          "current": "8893b670-2bba-11ee-987e-0242ac110002-2-a8cd-1b5e",
          "next": "8893b710-2bba-11ee-987e-0242ac110002-2-aa18-2493",
          "previous": "8893b5d0-2bba-11ee-987e-0242ac110002-2-6721-c337"
        }
      },
      "outputs": [],
      "source": [
        "!ansible {ugroup.name}_{unit_mgr.name} -b -a 'exportfs -r -v'"
      ]
    },
    {
      "cell_type": "markdown",
      "metadata": {
        "hidden": true,
        "lc_cell_meme": {
          "current": "8893b710-2bba-11ee-987e-0242ac110002-2-aa18-2493",
          "next": "8893b7ba-2bba-11ee-987e-0242ac110002-2-e402-69d5",
          "previous": "8893b670-2bba-11ee-987e-0242ac110002-2-a8cd-1b5e"
        }
      },
      "source": [
        "NFS\u30b5\u30fc\u30d0\u5074\u306b\u4f5c\u6210\u3057\u305f\u30d5\u30a1\u30a4\u30eb\u3092NFS\u30af\u30e9\u30a4\u30a2\u30f3\u30c8\u5074\u3067\u53c2\u7167\u3067\u304d\u308b\u3053\u3068\u3092\u78ba\u8a8d\u3057\u307e\u3059\u3002"
      ]
    },
    {
      "cell_type": "code",
      "execution_count": null,
      "metadata": {
        "hidden": true,
        "lc_cell_meme": {
          "current": "8893b7ba-2bba-11ee-987e-0242ac110002-2-e402-69d5",
          "next": "8893b86e-2bba-11ee-987e-0242ac110002-2-2560-1b3e",
          "previous": "8893b710-2bba-11ee-987e-0242ac110002-2-aa18-2493"
        },
        "scrolled": true
      },
      "outputs": [],
      "source": [
        "!ansible {ugroup.name}_{unit_mgr.name} -m file -a 'path=/jupyter/xxx state=touch'\n",
        "!ansible {ugroup.name}_{unit_mgr.name} -m file -a 'path=/exchange/xxx state=touch'\n",
        "!ansible {ugroup.name}_{unit_worker.name} -a 'test -f /jupyter/xxx'\n",
        "!ansible {ugroup.name}_{unit_worker.name} -a 'test -f /exchange/xxx'\n",
        "!ansible {ugroup.name} -m file -a 'path=/jupyter/xxx state=absent'\n",
        "!ansible {ugroup.name} -m file -a 'path=/exchange/xxx state=absent'"
      ]
    },
    {
      "cell_type": "markdown",
      "metadata": {
        "heading_collapsed": true,
        "lc_cell_meme": {
          "current": "8893b86e-2bba-11ee-987e-0242ac110002-2-2560-1b3e",
          "next": "8893b918-2bba-11ee-987e-0242ac110002-2-340d-f4b2",
          "previous": "8893b7ba-2bba-11ee-987e-0242ac110002-2-e402-69d5"
        }
      },
      "source": [
        "## Docker Swarm\u306e\u8a2d\u5b9a\n",
        "\n",
        "Docker Swarm \u306e\u8a2d\u5b9a\u3092\u884c\u3044\u307e\u3059\u3002"
      ]
    },
    {
      "cell_type": "markdown",
      "metadata": {
        "hidden": true,
        "lc_cell_meme": {
          "current": "8893b918-2bba-11ee-987e-0242ac110002-2-340d-f4b2",
          "next": "8893b9b8-2bba-11ee-987e-0242ac110002-2-b78c-026f",
          "previous": "8893b86e-2bba-11ee-987e-0242ac110002-2-2560-1b3e"
        }
      },
      "source": [
        "Docker Swarm\u306e\u8a2d\u5b9a\u3092\u884c\u3046\u524d\u306b\u3001\u5404VC\u30ce\u30fc\u30c9\u3067 Docker Engine \u304c\u5b9f\u884c\u3055\u308c\u3066\u3044\u308b\u3053\u3068\u3092\u78ba\u8a8d\u3057\u307e\u3059\u3002"
      ]
    },
    {
      "cell_type": "code",
      "execution_count": null,
      "metadata": {
        "hidden": true,
        "lc_cell_meme": {
          "current": "8893b9b8-2bba-11ee-987e-0242ac110002-2-b78c-026f",
          "next": "8893ba58-2bba-11ee-987e-0242ac110002-2-8f81-5ccd",
          "previous": "8893b918-2bba-11ee-987e-0242ac110002-2-340d-f4b2"
        },
        "scrolled": true
      },
      "outputs": [],
      "source": [
        "!ansible {ugroup.name} -a 'docker info'"
      ]
    },
    {
      "cell_type": "markdown",
      "metadata": {
        "hidden": true,
        "lc_cell_meme": {
          "current": "8893ba58-2bba-11ee-987e-0242ac110002-2-8f81-5ccd",
          "next": "8893baf8-2bba-11ee-987e-0242ac110002-2-7afd-1533",
          "previous": "8893b9b8-2bba-11ee-987e-0242ac110002-2-b78c-026f"
        }
      },
      "source": [
        "manager\u7528VC\u30ce\u30fc\u30c9\u3067 Docker Swarm\u306e\u521d\u671f\u30bb\u30c3\u30c8\u30a2\u30c3\u30d7\u3092\u884c\u3044\u307e\u3059\u3002"
      ]
    },
    {
      "cell_type": "code",
      "execution_count": null,
      "metadata": {
        "hidden": true,
        "lc_cell_meme": {
          "current": "8893baf8-2bba-11ee-987e-0242ac110002-2-7afd-1533",
          "next": "8893bba2-2bba-11ee-987e-0242ac110002-2-0f2d-6998",
          "previous": "8893ba58-2bba-11ee-987e-0242ac110002-2-8f81-5ccd"
        }
      },
      "outputs": [],
      "source": [
        "manager_ip = gvars['vc_ipaddress']\n",
        "!ansible {ugroup.name}_{unit_mgr.name} -a 'docker swarm init \\\n",
        "    --default-addr-pool={{{{docker_address_pool}}}} --advertise-addr={manager_ip}'"
      ]
    },
    {
      "cell_type": "markdown",
      "metadata": {
        "hidden": true,
        "lc_cell_meme": {
          "current": "8893bba2-2bba-11ee-987e-0242ac110002-2-0f2d-6998",
          "next": "8893bc42-2bba-11ee-987e-0242ac110002-2-0d90-18bb",
          "previous": "8893baf8-2bba-11ee-987e-0242ac110002-2-7afd-1533"
        }
      },
      "source": [
        "\u30c8\u30fc\u30af\u30f3\u306e\u5024\u3092\u53d6\u5f97\u3057\u307e\u3059\u3002"
      ]
    },
    {
      "cell_type": "code",
      "execution_count": null,
      "metadata": {
        "hidden": true,
        "lc_cell_meme": {
          "current": "8893bc42-2bba-11ee-987e-0242ac110002-2-0d90-18bb",
          "next": "8893bce2-2bba-11ee-987e-0242ac110002-2-1af3-1ff6",
          "previous": "8893bba2-2bba-11ee-987e-0242ac110002-2-0f2d-6998"
        }
      },
      "outputs": [],
      "source": [
        "out = !ansible {ugroup.name}_{unit_mgr.name} -a 'docker swarm join-token -q worker'\n",
        "if out[0].find('CHANGED') >= 0 or out[0].find('SUCCESS') >= 0:\n",
        "    swarm_token = out[1]\n",
        "    print(swarm_token)\n",
        "else:\n",
        "    raise"
      ]
    },
    {
      "cell_type": "markdown",
      "metadata": {
        "hidden": true,
        "lc_cell_meme": {
          "current": "8893bce2-2bba-11ee-987e-0242ac110002-2-1af3-1ff6",
          "next": "8893bd82-2bba-11ee-987e-0242ac110002-2-a0f5-72cc",
          "previous": "8893bc42-2bba-11ee-987e-0242ac110002-2-0d90-18bb"
        }
      },
      "source": [
        "worker\u30ce\u30fc\u30c9\u3092\u8ffd\u52a0\u3057\u307e\u3059\u3002"
      ]
    },
    {
      "cell_type": "code",
      "execution_count": null,
      "metadata": {
        "hidden": true,
        "lc_cell_meme": {
          "current": "8893bd82-2bba-11ee-987e-0242ac110002-2-a0f5-72cc",
          "next": "8893be22-2bba-11ee-987e-0242ac110002-2-410b-449f",
          "previous": "8893bce2-2bba-11ee-987e-0242ac110002-2-1af3-1ff6"
        }
      },
      "outputs": [],
      "source": [
        "!ansible {ugroup.name}_{unit_worker.name} -a \\\n",
        "    'docker swarm join --token {swarm_token} {manager_ip}:2377'"
      ]
    },
    {
      "cell_type": "markdown",
      "metadata": {
        "hidden": true,
        "lc_cell_meme": {
          "current": "8893be22-2bba-11ee-987e-0242ac110002-2-410b-449f",
          "next": "8893becc-2bba-11ee-987e-0242ac110002-2-d8a9-66e9",
          "previous": "8893bd82-2bba-11ee-987e-0242ac110002-2-a0f5-72cc"
        }
      },
      "source": [
        "Docker Swarm\u306e\u30ce\u30fc\u30c9\u4e00\u89a7\u3092\u8868\u793a\u3057\u307e\u3059\u3002"
      ]
    },
    {
      "cell_type": "code",
      "execution_count": null,
      "metadata": {
        "hidden": true,
        "lc_cell_meme": {
          "current": "8893becc-2bba-11ee-987e-0242ac110002-2-d8a9-66e9",
          "next": "8893bf6c-2bba-11ee-987e-0242ac110002-2-9fb5-1573",
          "previous": "8893be22-2bba-11ee-987e-0242ac110002-2-410b-449f"
        },
        "scrolled": false
      },
      "outputs": [],
      "source": [
        "!ansible {ugroup.name}_{unit_mgr.name} -a 'docker node ls'"
      ]
    },
    {
      "cell_type": "markdown",
      "metadata": {
        "hidden": true,
        "lc_cell_meme": {
          "current": "8893bf6c-2bba-11ee-987e-0242ac110002-2-9fb5-1573",
          "next": "8893c00c-2bba-11ee-987e-0242ac110002-2-df93-ba29",
          "previous": "8893becc-2bba-11ee-987e-0242ac110002-2-d8a9-66e9"
        }
      },
      "source": [
        "Docker Swarm\u306e\u30ce\u30fc\u30c9\u6570\u304c\u8d77\u52d5\u3057\u305fVC\u30ce\u30fc\u30c9\u3068\u4e00\u81f4\u3057\u3066\u3044\u308b\u3053\u3068\u3092\u78ba\u8a8d\u3057\u307e\u3059\u3002"
      ]
    },
    {
      "cell_type": "code",
      "execution_count": null,
      "metadata": {
        "hidden": true,
        "lc_cell_meme": {
          "current": "8893c00c-2bba-11ee-987e-0242ac110002-2-df93-ba29",
          "next": null,
          "previous": "8893bf6c-2bba-11ee-987e-0242ac110002-2-9fb5-1573"
        }
      },
      "outputs": [],
      "source": [
        "!ansible {ugroup.name}_{unit_mgr.name} -m shell -a \\\n",
        "    'test $(docker node ls -q | wc -l) -eq {worker_nodes + 1}'"
      ]
    }
  ],
  "metadata": {
    "kernelspec": {
      "display_name": "Python 3",
      "language": "python",
      "name": "python3"
    },
    "language_info": {
      "file_extension": ".py",
      "mimetype": "text/x-python",
      "name": "python",
      "nbconvert_exporter": "python",
      "pygments_lexer": "ipython3",
      "version": "3.10.4"
    },
    "lc_notebook_meme": {
      "current": "88934186-2bba-11ee-987e-0242ac110002",
      "lc_server_signature": {
        "current": {
          "notebook_dir": "/notebooks/notebook",
          "notebook_path": "/work_terayama/yamaguchi-hub/notebooks",
          "server_url": "https://vcc1045.vcp-handson.org/jupyter3/",
          "signature_id": "3c8e5600-416c-11ee-819d-0242ac110002"
        }
      }
    },
    "toc": {
      "base_numbering": 1,
      "nav_menu": {},
      "number_sections": true,
      "sideBar": true,
      "skip_h1_title": true,
      "title_cell": "Table of Contents",
      "title_sidebar": "Contents",
      "toc_cell": false,
      "toc_position": {
        "height": "calc(100% - 180px)",
        "left": "10px",
        "top": "150px",
        "width": "285.3px"
      },
      "toc_section_display": true,
      "toc_window_display": true
    }
  },
  "nbformat": 4,
  "nbformat_minor": 2
}