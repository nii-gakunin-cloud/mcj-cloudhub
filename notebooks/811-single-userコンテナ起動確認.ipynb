{
 "cells": [
  {
   "cell_type": "markdown",
   "metadata": {},
   "source": [
    "# single-userコンテナ起動確認"
   ]
  },
  {
   "cell_type": "markdown",
   "metadata": {},
   "source": [
    "## 概要\n",
    "\n",
    "seleniumを利用し、ユーザのログイン～single-user notebook serverコンテナ起動の確認を行います。  \n",
    "\n",
    "* 前提\n",
    "    * Moodleにアクセスできること\n",
    "    * Moodleにテスト用ユーザが登録済みであること\n",
    "    * Jupyterhubのセットアップが完了しており、MoodleからLTI連携を用いてログインできること\n",
    "    * 処理を行うDockerコンテナがMoodle, Jupyterhubにアクセス可能であること\n",
    "* 実行方法\n",
    "    * 各セルの説明に従って、実行してください\n",
    "* 活用方法\n",
    "    * 指定したユーザ分のコンテナが同時起動可能であることを確認できます。\n",
    "    * 「801-資源消費量可視化.ipynb」ノートブックを利用して、動作確認中の資源消費量を確認できます。"
   ]
  },
  {
   "cell_type": "markdown",
   "metadata": {},
   "source": [
    "### UnitGroup名\n",
    "\n",
    "JupyterHubの構築環境となるVCPのUnitGroup名を指定します。"
   ]
  },
  {
   "cell_type": "markdown",
   "metadata": {},
   "source": [
    "VCノードを作成時に指定した値を確認するために `group_vars`ファイル名の一覧を表示します。"
   ]
  },
  {
   "cell_type": "code",
   "execution_count": null,
   "metadata": {},
   "outputs": [],
   "source": [
    "!ls -1 group_vars/"
   ]
  },
  {
   "cell_type": "markdown",
   "metadata": {},
   "source": [
    "上のセルの出力結果を参考にして、UnitGroup名を次のセルに指定してください。"
   ]
  },
  {
   "cell_type": "code",
   "execution_count": null,
   "metadata": {
    "tags": [
     "vcp:parameters"
    ]
   },
   "outputs": [],
   "source": [
    "# (例)\n",
    "# ugroup_name = 'JupyterHub'\n",
    "\n",
    "ugroup_name = "
   ]
  },
  {
   "cell_type": "markdown",
   "metadata": {
    "heading_collapsed": true
   },
   "source": [
    "### チェック\n",
    "\n",
    "対象となるVCノードがAnsibleによって操作できることを確認します。"
   ]
  },
  {
   "cell_type": "markdown",
   "metadata": {
    "hidden": true
   },
   "source": [
    "Ansibleの設定ファイルの場所を環境変数に設定しておきます。"
   ]
  },
  {
   "cell_type": "code",
   "execution_count": null,
   "metadata": {
    "hidden": true
   },
   "outputs": [],
   "source": [
    "from pathlib import Path\n",
    "import os\n",
    "\n",
    "cfg_ansible = Path('ansible.cfg')\n",
    "if cfg_ansible.exists():\n",
    "    os.environ['ANSIBLE_CONFIG'] = str(cfg_ansible.resolve())"
   ]
  },
  {
   "cell_type": "markdown",
   "metadata": {
    "hidden": true
   },
   "source": [
    "構築対象となる各VCノードにアクセスできることを確認します。"
   ]
  },
  {
   "cell_type": "code",
   "execution_count": null,
   "metadata": {
    "hidden": true,
    "pinned_outputs": []
   },
   "outputs": [],
   "source": [
    "target_hub = f'{ugroup_name}_manager'\n",
    "\n",
    "!ansible {target_hub} -m ping"
   ]
  },
  {
   "cell_type": "code",
   "execution_count": null,
   "metadata": {
    "hidden": true,
    "pinned_outputs": []
   },
   "outputs": [],
   "source": [
    "target_nodes = f'{ugroup_name}_worker'\n",
    "\n",
    "!ansible {target_nodes} -m ping"
   ]
  },
  {
   "cell_type": "markdown",
   "metadata": {
    "hidden": true
   },
   "source": [
    "UnitGroup名に対応する group_varsファイルが存在していることを確認します。"
   ]
  },
  {
   "cell_type": "code",
   "execution_count": null,
   "metadata": {
    "hidden": true
   },
   "outputs": [],
   "source": [
    "!test -f group_vars/{ugroup_name}"
   ]
  },
  {
   "cell_type": "markdown",
   "metadata": {},
   "source": [
    "## パラメータの設定\n",
    "\n",
    "JupyterHubシステムに関する各種設定項目を指定します。\n",
    "\n",
    "ここで設定された項目はansible変数として保存され、ファイルのmanagerノードへの配置時に各ファイルに反映されます。"
   ]
  },
  {
   "cell_type": "markdown",
   "metadata": {},
   "source": [
    "### 必須設定項目"
   ]
  },
  {
   "cell_type": "markdown",
   "metadata": {},
   "source": [
    "seleniumコンテナを実行するノード('manager'もしくはIPアドレスが指定可能)"
   ]
  },
  {
   "cell_type": "code",
   "execution_count": null,
   "metadata": {},
   "outputs": [],
   "source": [
    "target_node = 'manager'"
   ]
  },
  {
   "cell_type": "markdown",
   "metadata": {},
   "source": [
    "selenium実行用の資材等を配置するディレクトリ"
   ]
  },
  {
   "cell_type": "code",
   "execution_count": null,
   "metadata": {},
   "outputs": [],
   "source": [
    "work_dir = '/srv/jupyterhub/spawntest'"
   ]
  },
  {
   "cell_type": "markdown",
   "metadata": {},
   "source": [
    "lmsに設定したJupyterhubアクセス用のツールのID  \n",
    "Moodleの場合、JupyterhubにアクセスするURLのクエリパラメータに `id=2` のような形で指定されている。"
   ]
  },
  {
   "cell_type": "code",
   "execution_count": null,
   "metadata": {},
   "outputs": [],
   "source": [
    "lms_tool_id = "
   ]
  },
  {
   "cell_type": "markdown",
   "metadata": {},
   "source": [
    "### テスト用ユーザの指定\n",
    "\n",
    "テスト用ユーザの情報を指定します。  \n",
    "`edit/`ディレクトリに対象ファイルを保存してください。  \n",
    "現在使用可能な形式は、`.csv`, `.yaml` です。  \n",
    "以下のセルを利用し、ファイルを準備してください。"
   ]
  },
  {
   "cell_type": "markdown",
   "metadata": {},
   "source": [
    "`.csv`で指定する場合のサンプルファイルをコピーします。  \n",
    "このサンプルファイルを利用するか、以降の`.yaml`形式での設定用のセルを利用して、アカウント情報を登録してください。"
   ]
  },
  {
   "cell_type": "code",
   "execution_count": null,
   "metadata": {},
   "outputs": [],
   "source": [
    "!mkdir -p edit\n",
    "!cp ../tools/selenium/selenium-client/accounts_sample.csv edit/accounts_sample.csv"
   ]
  },
  {
   "cell_type": "markdown",
   "metadata": {},
   "source": [
    "アカウント情報を記載するファイル名を指定してください。  \n",
    "以降のセルを利用して設定する場合は、変更不要です。"
   ]
  },
  {
   "cell_type": "code",
   "execution_count": null,
   "metadata": {},
   "outputs": [],
   "source": [
    "# accounts_file = 'accounts_sample.csv'\n",
    "accounts_file = 'accounts_file.yaml'"
   ]
  },
  {
   "cell_type": "markdown",
   "metadata": {},
   "source": [
    "以下の`params`の内容を編集し、アカウント情報を登録してください。  \n",
    "先に用意した`edit/accounts_sample.csv`や、自身で用意したファイルを利用する場合は、以下のセルを使用する必要はありません。"
   ]
  },
  {
   "cell_type": "code",
   "execution_count": null,
   "metadata": {},
   "outputs": [],
   "source": [
    "import yaml\n",
    "\n",
    "path = f'edit/accounts_file.yaml'\n",
    "params = [\n",
    "    {'username': 'admin', 'password': 'adminpass01'},\n",
    "]\n",
    "\n",
    "with open(path, encoding='utf-8', mode=\"w\") as f:\n",
    "    yaml.safe_dump(params, stream=f)\n"
   ]
  },
  {
   "cell_type": "markdown",
   "metadata": {},
   "source": [
    "### パラメータの保存\n",
    "\n",
    "ansibleで利用するために、パラメータを対象ファイルに出力します。"
   ]
  },
  {
   "cell_type": "code",
   "execution_count": null,
   "metadata": {},
   "outputs": [],
   "source": [
    "import yaml\n",
    "from pathlib import Path\n",
    "\n",
    "gvars_path = Path(f'group_vars/{ugroup_name}')\n",
    "with gvars_path.open() as f:\n",
    "    gvars = yaml.safe_load(f)\n",
    "\n",
    "gvars.update({\n",
    "    'lms_tool_id': lms_tool_id,\n",
    "    'accounts_file': accounts_file,\n",
    "})\n",
    "\n",
    "with gvars_path.open(mode='w') as f:\n",
    "    yaml.safe_dump(gvars, stream=f)"
   ]
  },
  {
   "cell_type": "markdown",
   "metadata": {},
   "source": [
    "### Selenium\n",
    "\n",
    "Selenium実行・処理コンテナに関するセットアップを行った後、実行します。"
   ]
  },
  {
   "cell_type": "markdown",
   "metadata": {},
   "source": [
    "テスト対象のサーバにseleniumがアクセスできることを確認します。"
   ]
  },
  {
   "cell_type": "code",
   "execution_count": null,
   "metadata": {},
   "outputs": [],
   "source": [
    "# selenium実行環境からmoodleへのアクセス\n",
    "!ansible {target_hub} -m shell \\\n",
    "    -a \"curl {{{{lms_platform_id}}}} -o /dev/null -w '%{{http_code}}\\n' -s\"\n",
    "# selenium実行環境からjupyterhubへのアクセス\n",
    "!ansible {target_hub} -m shell \\\n",
    "    -a \"curl https://{{{{jupyterhub_fqdn}}}}/hub/health -o /dev/null -w '%{{http_code}}\\n' -s\""
   ]
  },
  {
   "cell_type": "markdown",
   "metadata": {
    "heading_collapsed": true
   },
   "source": [
    "#### セットアップ\n",
    "\n",
    "Selenium実行・処理コンテナに関するセットアップを行います。"
   ]
  },
  {
   "cell_type": "markdown",
   "metadata": {
    "hidden": true
   },
   "source": [
    "まず、ファイルを格納するディレクトリを作成"
   ]
  },
  {
   "cell_type": "code",
   "execution_count": null,
   "metadata": {
    "hidden": true,
    "lc_wrapper": {
     "log_history": [
      "/notebooks/notebook/mcj-cloudhub/notebooks/.log/20240903/20240903-142621-0238.log"
     ]
    }
   },
   "outputs": [],
   "source": [
    "!ansible {target_hub} -b -m file -a \\\n",
    "    'path={work_dir} state=directory owner={{{{ansible_user}}}}'"
   ]
  },
  {
   "cell_type": "markdown",
   "metadata": {
    "hidden": true
   },
   "source": [
    "ファイルの配置をチェックモードで試行"
   ]
  },
  {
   "cell_type": "code",
   "execution_count": null,
   "metadata": {
    "hidden": true
   },
   "outputs": [],
   "source": [
    "!ansible {target_hub} -CDv -m synchronize \\\n",
    "    -a 'src=../tools/selenium dest={work_dir}'\n",
    "\n",
    "!ansible {target_hub} -CDv -m synchronize \\\n",
    "    -a 'src=edit/{accounts_file} dest={work_dir}/selenium/{accounts_file}' || true\n",
    "\n",
    "!ansible {target_hub} -CDv -m template \\\n",
    "    -a 'src=../tools/selenium/docker-compose.yml dest={work_dir}/selenium backup=yes' || true"
   ]
  },
  {
   "cell_type": "markdown",
   "metadata": {
    "hidden": true
   },
   "source": [
    "実際にファイルを配置"
   ]
  },
  {
   "cell_type": "code",
   "execution_count": null,
   "metadata": {
    "hidden": true
   },
   "outputs": [],
   "source": [
    "!ansible {target_hub} -Dv -m synchronize \\\n",
    "    -a 'src=../tools/selenium dest={work_dir}'\n",
    "\n",
    "!ansible {target_hub} -Dv -m synchronize \\\n",
    "    -a 'src=edit/{accounts_file} dest={work_dir}/selenium/{accounts_file}'\n",
    "\n",
    "!ansible {target_hub} -Dv -m template \\\n",
    "    -a 'src=../tools/selenium/docker-compose.yml dest={work_dir}/selenium backup=yes'"
   ]
  },
  {
   "cell_type": "markdown",
   "metadata": {},
   "source": [
    "#### 実行"
   ]
  },
  {
   "cell_type": "code",
   "execution_count": null,
   "metadata": {
    "scrolled": true
   },
   "outputs": [],
   "source": [
    "import time\n",
    "\n",
    "# コンテナを起動\n",
    "!ansible {target_hub} -m shell \\\n",
    "    -a 'chdir={work_dir}/selenium/ docker-compose up -d --build'"
   ]
  },
  {
   "cell_type": "markdown",
   "metadata": {},
   "source": [
    "実行完了まで待機します。"
   ]
  },
  {
   "cell_type": "code",
   "execution_count": null,
   "metadata": {},
   "outputs": [],
   "source": [
    "MAX_RETRY = 30\n",
    "INTERVAL = 10\n",
    "for i in range(MAX_RETRY):\n",
    "    active_user = !ansible {target_hub} -m shell \\\n",
    "        -a 'docker ps | grep -c selenium-client || true'\n",
    "    if int(active_user[1]) == 0:\n",
    "        print('Selenium client finished.')\n",
    "        break\n",
    "    \n",
    "    print('Waiting selenium finish.')\n",
    "    time.sleep(INTERVAL)\n",
    "else:\n",
    "    raise Exception(f'Not finished in {INTERVAL*MAX_RETRY} secondes.')"
   ]
  },
  {
   "cell_type": "markdown",
   "metadata": {},
   "source": [
    "結果を確認します。  \n",
    "以下のセルを実行すると、selenium実行結果ファイルのうち最新のものの内容を表示します。"
   ]
  },
  {
   "cell_type": "code",
   "execution_count": null,
   "metadata": {
    "scrolled": true
   },
   "outputs": [],
   "source": [
    "!ansible {target_hub} -m shell \\\n",
    "    -a 'ls -rt {work_dir}/selenium/selenium-client/result/* | tail -n 1 | xargs cat'"
   ]
  },
  {
   "cell_type": "markdown",
   "metadata": {},
   "source": [
    "結果が出力されない場合、アクセス自体出来ていない可能性があります。  \n",
    "そのような場合、以下のセルを実行し、selenium実行コンテナのログを確認します。  \n",
    "「Failed to connect」等のログがある場合、seleniumを実行している環境からLMSへのアクセス許可等の確認を行ってください。"
   ]
  },
  {
   "cell_type": "code",
   "execution_count": null,
   "metadata": {},
   "outputs": [],
   "source": [
    "!ansible {target_hub} -m shell \\\n",
    "    -a 'docker logs selenium-executer'"
   ]
  },
  {
   "cell_type": "markdown",
   "metadata": {},
   "source": [
    "#### 終了  \n",
    "\n",
    "コンテナをシャットダウンします。"
   ]
  },
  {
   "cell_type": "code",
   "execution_count": null,
   "metadata": {},
   "outputs": [],
   "source": [
    "!ansible {target_hub} -m shell \\\n",
    "    -a 'chdir={work_dir}/selenium/ docker-compose down'\n",
    "!ansible {target_hub} -m shell \\\n",
    "    -a 'chdir={work_dir}/selenium/ docker-compose rm'"
   ]
  }
 ],
 "metadata": {
  "kernelspec": {
   "display_name": "Python 3",
   "language": "python",
   "name": "python3"
  },
  "language_info": {
   "file_extension": ".py",
   "mimetype": "text/x-python",
   "name": "python",
   "nbconvert_exporter": "python",
   "pygments_lexer": "ipython3",
   "version": "3.10.4"
  },
  "toc": {
   "base_numbering": 1,
   "nav_menu": {},
   "number_sections": true,
   "sideBar": true,
   "skip_h1_title": true,
   "title_cell": "Table of Contents",
   "title_sidebar": "Contents",
   "toc_cell": false,
   "toc_position": {
    "height": "calc(100% - 180px)",
    "left": "10px",
    "top": "150px",
    "width": "299.867px"
   },
   "toc_section_display": true,
   "toc_window_display": true
  }
 },
 "nbformat": 4,
 "nbformat_minor": 2
}
