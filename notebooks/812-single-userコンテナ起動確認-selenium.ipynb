{
 "cells": [
  {
   "cell_type": "markdown",
   "metadata": {},
   "source": [
    "# single-userコンテナ起動確認（Selenium利用）"
   ]
  },
  {
   "cell_type": "markdown",
   "metadata": {},
   "source": [
    "## 概要\n",
    "\n",
    "seleniumを利用し、ユーザのログイン～single-user notebook serverコンテナ起動の確認を行います。  \n",
    "\n",
    "* 前提\n",
    "    * Moodleにアクセスできること\n",
    "    * Moodleにテスト用ユーザが登録済みであること\n",
    "    * Jupyterhubのセットアップが完了しており、MoodleからLTI連携を用いてログインできること\n",
    "    * seleniumコンテナを利用するノードでDockerが利用可能であること\n",
    "    * 処理を行うDockerコンテナがMoodle, Jupyterhubにアクセス可能であること\n",
    "* 実行方法\n",
    "    * 各セルの説明に従って、実行してください\n",
    "* 活用方法\n",
    "    * 指定したユーザ分のコンテナが同時起動可能であることを確認できます。\n",
    "    * 「801-資源消費量可視化.ipynb」ノートブックを利用して、動作確認中の資源消費量を確認できます。"
   ]
  },
  {
   "cell_type": "markdown",
   "metadata": {},
   "source": [
    "### UnitGroup名\n",
    "\n",
    "JupyterHubの構築環境となるVCPのUnitGroup名を指定します。"
   ]
  },
  {
   "cell_type": "markdown",
   "metadata": {},
   "source": [
    "VCノードを作成時に指定した値を確認するために `group_vars`ファイル名の一覧を表示します。"
   ]
  },
  {
   "cell_type": "code",
   "execution_count": null,
   "metadata": {},
   "outputs": [],
   "source": [
    "!ls -1 group_vars/"
   ]
  },
  {
   "cell_type": "markdown",
   "metadata": {},
   "source": [
    "上のセルの出力結果を参考にして、UnitGroup名を次のセルに指定してください。"
   ]
  },
  {
   "cell_type": "code",
   "execution_count": null,
   "metadata": {
    "tags": [
     "vcp:parameters"
    ]
   },
   "outputs": [],
   "source": [
    "# (例)\n",
    "# ugroup_name = 'JupyterHub'\n",
    "\n",
    "ugroup_name = "
   ]
  },
  {
   "cell_type": "markdown",
   "metadata": {
    "heading_collapsed": true
   },
   "source": [
    "### チェック"
   ]
  },
  {
   "cell_type": "markdown",
   "metadata": {
    "hidden": true
   },
   "source": [
    "UnitGroup名に対応する group_varsファイルが存在していることを確認します。"
   ]
  },
  {
   "cell_type": "code",
   "execution_count": null,
   "metadata": {
    "hidden": true
   },
   "outputs": [],
   "source": [
    "!test -f group_vars/{ugroup_name}"
   ]
  },
  {
   "cell_type": "markdown",
   "metadata": {},
   "source": [
    "## パラメータの設定\n",
    "\n",
    "JupyterHubシステムに関する各種設定項目を指定します。\n",
    "\n",
    "ここで設定された項目はansible変数として保存され、ファイルのmanagerノードへの配置時に各ファイルに反映されます。"
   ]
  },
  {
   "cell_type": "markdown",
   "metadata": {},
   "source": [
    "### 必須設定項目"
   ]
  },
  {
   "cell_type": "markdown",
   "metadata": {},
   "source": [
    "lmsに設定したJupyterhubアクセス用のツールのID  \n",
    "Moodleの場合、JupyterhubにアクセスするURLのクエリパラメータに `id=2` のような形で指定されている。"
   ]
  },
  {
   "cell_type": "code",
   "execution_count": null,
   "metadata": {},
   "outputs": [],
   "source": [
    "lms_tool_id = "
   ]
  },
  {
   "cell_type": "markdown",
   "metadata": {},
   "source": [
    "### テスト用ユーザの指定\n",
    "\n",
    "テスト用ユーザの情報を指定します。  \n",
    "`edit/`ディレクトリに対象ファイルを保存してください。  \n",
    "現在使用可能な形式は、`.csv`, `.yaml` です。  \n",
    "以下のセルを利用し、ファイルを準備してください。"
   ]
  },
  {
   "cell_type": "markdown",
   "metadata": {},
   "source": [
    "`.csv`で指定する場合のサンプルファイルをコピーします。  \n",
    "このサンプルファイルを利用するか、以降の`.yaml`形式での設定用のセルを利用して、アカウント情報を登録してください。"
   ]
  },
  {
   "cell_type": "code",
   "execution_count": null,
   "metadata": {},
   "outputs": [],
   "source": [
    "!mkdir -p edit\n",
    "!cp ../tools/selenium/selenium-client/accounts_sample.csv edit/accounts_sample.csv"
   ]
  },
  {
   "cell_type": "markdown",
   "metadata": {},
   "source": [
    "アカウント情報を記載するファイル名を指定してください。  \n",
    "以降のセルを利用して設定する場合は、変更不要です。"
   ]
  },
  {
   "cell_type": "code",
   "execution_count": null,
   "metadata": {},
   "outputs": [],
   "source": [
    "# accounts_file = 'accounts_sample.csv'\n",
    "accounts_file = 'accounts_file.yaml'"
   ]
  },
  {
   "cell_type": "markdown",
   "metadata": {},
   "source": [
    "以下の`params`の内容を編集し、アカウント情報を登録してください。  \n",
    "先に用意した`edit/accounts_sample.csv`や、自身で用意したファイルを利用する場合は、以下のセルを使用する必要はありません。"
   ]
  },
  {
   "cell_type": "code",
   "execution_count": null,
   "metadata": {},
   "outputs": [],
   "source": [
    "import yaml\n",
    "\n",
    "path = f'edit/accounts_file.yaml'\n",
    "params = [\n",
    "    {'username': 'admin', 'password': 'adminpass01'},\n",
    "]\n",
    "\n",
    "with open(path, encoding='utf-8', mode=\"w\") as f:\n",
    "    yaml.safe_dump(params, stream=f)\n"
   ]
  },
  {
   "cell_type": "markdown",
   "metadata": {},
   "source": [
    "起動した各ユーザの環境で実行するファイルのファイル名を指定してください。  \n",
    "ファイルはpythonスクリプトを記述し、`edit`ディレクトリに配置してください。  \n",
    "`print()`で出力した内容がselenium実行結果の`.json`ファイルに記録されます。"
   ]
  },
  {
   "cell_type": "code",
   "execution_count": null,
   "metadata": {},
   "outputs": [],
   "source": [
    "exec_file = 'test.py'"
   ]
  },
  {
   "cell_type": "markdown",
   "metadata": {},
   "source": [
    "## Selenium\n",
    "\n",
    "Selenium実行・処理コンテナに関する設定ファイルのセットアップを行います。"
   ]
  },
  {
   "cell_type": "markdown",
   "metadata": {
    "heading_collapsed": true
   },
   "source": [
    "### セットアップ\n",
    "\n",
    "Selenium実行・処理コンテナに関するセットアップを行います。"
   ]
  },
  {
   "cell_type": "markdown",
   "metadata": {
    "hidden": true
   },
   "source": [
    "まず、ファイルを格納するディレクトリを作成します。"
   ]
  },
  {
   "cell_type": "code",
   "execution_count": null,
   "metadata": {
    "hidden": true,
    "lc_wrapper": {
     "log_history": [
      "/notebooks/notebook/mcj-cloudhub/notebooks/.log/20240903/20240903-142621-0238.log"
     ]
    }
   },
   "outputs": [],
   "source": [
    "!mkdir -p tmp/selenium"
   ]
  },
  {
   "cell_type": "markdown",
   "metadata": {
    "hidden": true
   },
   "source": [
    "ファイルを配置します。"
   ]
  },
  {
   "cell_type": "code",
   "execution_count": null,
   "metadata": {
    "hidden": true
   },
   "outputs": [],
   "source": [
    "!cp -r ../tools/selenium tmp/\n",
    "!cp -r edit/{accounts_file} tmp/selenium/\n",
    "!cp -r edit/{exec_file} tmp/selenium/"
   ]
  },
  {
   "cell_type": "markdown",
   "metadata": {
    "hidden": true
   },
   "source": [
    "設定ファイルの内容を編集します。"
   ]
  },
  {
   "cell_type": "code",
   "execution_count": null,
   "metadata": {
    "hidden": true
   },
   "outputs": [],
   "source": [
    "import yaml\n",
    "from pathlib import Path\n",
    "\n",
    "with Path('../tools/selenium/docker-compose.yml').open() as f:\n",
    "    dc_config = yaml.safe_load(f)\n",
    "\n",
    "gvars_path = Path(f'group_vars/{ugroup_name}')\n",
    "with gvars_path.open() as f:\n",
    "    gvars = yaml.safe_load(f)\n",
    "\n",
    "dc_config['services']['selenium-client']['volumes'] = [\n",
    "    {'type': 'bind',\n",
    "     'source': f'./{accounts_file}',\n",
    "     'target': f'/app/{accounts_file}'},\n",
    "    {'type': 'bind',\n",
    "     'source': f'./{exec_file}',\n",
    "     'target': '/app/user_script.py'},\n",
    "    './selenium-client/result:/app/result']\n",
    "\n",
    "dc_config['services']['selenium-client']['command'] = [\n",
    "    \"python\", \"/app/main.py\", f\"/app/{accounts_file}\", gvars['lms_platform_id'],\n",
    "    \"http://selenium-executer:4444/wd/hub\", f\"-i {lms_tool_id}\", \"-s/app/user_script.py\"]\n",
    "\n",
    "with Path('tmp/selenium/docker-compose.yml').open(mode='w') as f:\n",
    "    yaml.safe_dump(dc_config, stream=f)"
   ]
  },
  {
   "cell_type": "markdown",
   "metadata": {
    "hidden": true
   },
   "source": [
    "ダウンロードして利用するため、圧縮します。"
   ]
  },
  {
   "cell_type": "code",
   "execution_count": null,
   "metadata": {
    "hidden": true
   },
   "outputs": [],
   "source": [
    "!tar -czf selenium.tgz -C ./tmp/selenium ."
   ]
  },
  {
   "cell_type": "markdown",
   "metadata": {
    "hidden": true
   },
   "source": [
    "作成した仮ファイルを削除します。"
   ]
  },
  {
   "cell_type": "code",
   "execution_count": null,
   "metadata": {
    "hidden": true
   },
   "outputs": [],
   "source": [
    "!rm -rf tmp/selenium"
   ]
  },
  {
   "cell_type": "markdown",
   "metadata": {},
   "source": [
    "### 実行  \n",
    "\n",
    "先ほど圧縮したファイルを実行するマシンに配置し、解凍した後に起動してください。  \n",
    "`docker-compose.yml`を指定し、`docker compose up -d`を実行することで、コンテナが起動し、seleniumによる処理が行われます。  \n",
    "処理結果は、`selenium-client/result`ディレクトリに `.json`形式で保存されます。"
   ]
  },
  {
   "cell_type": "markdown",
   "metadata": {},
   "source": [
    "#### VCノード以外のマシン上で実行する場合  \n",
    "ご自身のPC等で実行する場合は、ここまでで作成・圧縮したファイル（`mcj-selenium.tgz`）をダウンロードし、任意のディレクトリで解凍してください。\n",
    "起動は`docker compose up -d`、終了後は`docker compose down`でコンテナをシャットダウンしてください。"
   ]
  },
  {
   "cell_type": "markdown",
   "metadata": {},
   "source": [
    "#### VCノード（manager）上で実行する場合\n",
    "\n",
    "VCノード上で実行する場合は、この章の内容が利用可能です。  \n",
    "VCノード上の資源を利用してseleniumを動作させるため、検証対象のユーザが利用する資源を消費します。  \n",
    "そのため、本格的な検証には向きませんが、他マシンのセットアップが不要であるので、簡易に検証を行いたい場合におすすめです。  \n",
    "現在利用可能なのは、managerノードのみです。"
   ]
  },
  {
   "cell_type": "markdown",
   "metadata": {
    "heading_collapsed": true
   },
   "source": [
    "##### 設定"
   ]
  },
  {
   "cell_type": "markdown",
   "metadata": {
    "hidden": true
   },
   "source": [
    "資材を配置するディレクトリを指定してください。 基本的には、デフォルトのままで問題ありません。"
   ]
  },
  {
   "cell_type": "code",
   "execution_count": null,
   "metadata": {
    "hidden": true
   },
   "outputs": [],
   "source": [
    "work_dir = '/srv/jupyterhub/spawntest'"
   ]
  },
  {
   "cell_type": "markdown",
   "metadata": {
    "heading_collapsed": true
   },
   "source": [
    "##### チェック"
   ]
  },
  {
   "cell_type": "markdown",
   "metadata": {
    "hidden": true
   },
   "source": [
    "対象となるVCノードがAnsibleによって操作できることを確認します。"
   ]
  },
  {
   "cell_type": "code",
   "execution_count": null,
   "metadata": {
    "hidden": true
   },
   "outputs": [],
   "source": [
    "from pathlib import Path\n",
    "import os\n",
    "\n",
    "cfg_ansible = Path('ansible.cfg')\n",
    "if cfg_ansible.exists():\n",
    "    os.environ['ANSIBLE_CONFIG'] = str(cfg_ansible.resolve())"
   ]
  },
  {
   "cell_type": "code",
   "execution_count": null,
   "metadata": {
    "hidden": true
   },
   "outputs": [],
   "source": [
    "target_hub = f'{ugroup_name}_manager'\n",
    "\n",
    "!ansible {target_hub} -m ping"
   ]
  },
  {
   "cell_type": "markdown",
   "metadata": {
    "hidden": true
   },
   "source": [
    "テスト対象のサーバにseleniumがアクセスできることを確認します。"
   ]
  },
  {
   "cell_type": "code",
   "execution_count": null,
   "metadata": {
    "hidden": true
   },
   "outputs": [],
   "source": [
    "# selenium実行環境からmoodleへのアクセス\n",
    "!ansible {target_hub} -m shell \\\n",
    "    -a \"curl {{{{lms_platform_id}}}} -o /dev/null -w '%{{http_code}}\\n' -s\"\n",
    "# selenium実行環境からjupyterhubへのアクセス\n",
    "!ansible {target_hub} -m shell \\\n",
    "    -a \"curl https://{{{{jupyterhub_fqdn}}}}/hub/health -o /dev/null -w '%{{http_code}}\\n' -s\""
   ]
  },
  {
   "cell_type": "markdown",
   "metadata": {
    "heading_collapsed": true
   },
   "source": [
    "##### ファイル配置\n",
    "\n",
    "設定ファイルを配置・展開します。"
   ]
  },
  {
   "cell_type": "code",
   "execution_count": null,
   "metadata": {
    "hidden": true
   },
   "outputs": [],
   "source": [
    "!ansible {target_hub} -m file \\\n",
    "    -a \"state=directory path={work_dir}/selenium\"\n",
    "\n",
    "!ansible {target_hub} -m unarchive \\\n",
    "    -a \"src=selenium.tgz dest={work_dir}/selenium\""
   ]
  },
  {
   "cell_type": "markdown",
   "metadata": {
    "heading_collapsed": true
   },
   "source": [
    "##### 実行"
   ]
  },
  {
   "cell_type": "code",
   "execution_count": null,
   "metadata": {
    "hidden": true,
    "scrolled": true
   },
   "outputs": [],
   "source": [
    "!ansible {target_hub} -m shell \\\n",
    "    -a 'chdir={work_dir}/selenium/ docker-compose up -d --build'"
   ]
  },
  {
   "cell_type": "markdown",
   "metadata": {
    "hidden": true
   },
   "source": [
    "実行完了まで待機します。"
   ]
  },
  {
   "cell_type": "code",
   "execution_count": null,
   "metadata": {
    "hidden": true
   },
   "outputs": [],
   "source": [
    "import time\n",
    "MAX_RETRY = 30\n",
    "INTERVAL = 10\n",
    "for i in range(MAX_RETRY):\n",
    "    active_user = !ansible {target_hub} -m shell \\\n",
    "        -a 'docker ps | grep -c selenium-client || true'\n",
    "    if int(active_user[1]) == 0:\n",
    "        print('Selenium client finished.')\n",
    "        break\n",
    "    \n",
    "    print('Waiting selenium finish.')\n",
    "    time.sleep(INTERVAL)\n",
    "else:\n",
    "    raise Exception(f'Not finished in {INTERVAL*MAX_RETRY} secondes.')"
   ]
  },
  {
   "cell_type": "markdown",
   "metadata": {
    "hidden": true
   },
   "source": [
    "結果を確認します。  \n",
    "以下のセルを実行すると、selenium実行結果ファイルのうち最新のものの内容を表示します。"
   ]
  },
  {
   "cell_type": "code",
   "execution_count": null,
   "metadata": {
    "hidden": true,
    "scrolled": true
   },
   "outputs": [],
   "source": [
    "!ansible {target_hub} -m shell \\\n",
    "    -a 'ls -rt {work_dir}/selenium/selenium-client/result/* | tail -n 1 | xargs cat'"
   ]
  },
  {
   "cell_type": "markdown",
   "metadata": {
    "hidden": true
   },
   "source": [
    "結果が出力されない場合、アクセス自体出来ていない可能性があります。  \n",
    "そのような場合、以下のセルを実行し、selenium実行コンテナのログを確認します。  \n",
    "「Failed to connect」等のログがある場合、seleniumを実行している環境からLMSへのアクセス許可等の確認を行ってください。"
   ]
  },
  {
   "cell_type": "code",
   "execution_count": null,
   "metadata": {
    "hidden": true
   },
   "outputs": [],
   "source": [
    "!ansible {target_hub} -m shell \\\n",
    "    -a 'docker logs selenium-executer'"
   ]
  },
  {
   "cell_type": "markdown",
   "metadata": {
    "hidden": true
   },
   "source": [
    "seleniumクライアントコンテナのログを確認します。  \n",
    "selenium実行時の、各ユーザのログが出力されます。"
   ]
  },
  {
   "cell_type": "code",
   "execution_count": null,
   "metadata": {
    "hidden": true
   },
   "outputs": [],
   "source": [
    "!ansible {target_hub} -m shell \\\n",
    "    -a 'docker logs selenium-client'"
   ]
  },
  {
   "cell_type": "markdown",
   "metadata": {
    "heading_collapsed": true
   },
   "source": [
    "##### 終了  \n",
    "\n",
    "コンテナをシャットダウンします。"
   ]
  },
  {
   "cell_type": "code",
   "execution_count": null,
   "metadata": {
    "hidden": true
   },
   "outputs": [],
   "source": [
    "!ansible {target_hub} -m shell \\\n",
    "    -a 'chdir={work_dir}/selenium/ docker-compose down'\n",
    "!ansible {target_hub} -m shell \\\n",
    "    -a 'chdir={work_dir}/selenium/ docker-compose rm'"
   ]
  }
 ],
 "metadata": {
  "kernelspec": {
   "display_name": "Python 3",
   "language": "python",
   "name": "python3"
  },
  "language_info": {
   "file_extension": ".py",
   "mimetype": "text/x-python",
   "name": "python",
   "nbconvert_exporter": "python",
   "pygments_lexer": "ipython3",
   "version": "3.10.4"
  },
  "toc": {
   "base_numbering": 1,
   "nav_menu": {},
   "number_sections": true,
   "sideBar": true,
   "skip_h1_title": true,
   "title_cell": "Table of Contents",
   "title_sidebar": "Contents",
   "toc_cell": false,
   "toc_position": {
    "height": "calc(100% - 180px)",
    "left": "10px",
    "top": "150px",
    "width": "299.867px"
   },
   "toc_section_display": true,
   "toc_window_display": true
  }
 },
 "nbformat": 4,
 "nbformat_minor": 2
}
