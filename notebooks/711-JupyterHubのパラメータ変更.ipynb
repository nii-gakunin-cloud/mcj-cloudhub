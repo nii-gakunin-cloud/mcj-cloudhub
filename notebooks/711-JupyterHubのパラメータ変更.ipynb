{
 "cells": [
  {
   "cell_type": "markdown",
   "metadata": {},
   "source": [
    "# JupyterHubのパラメータ変更\n",
    "\n",
    "---\n",
    "\n",
    "構築済みのJupyterhubのパラメータを再設定します。  \n",
    "各パラメータは、未指定の場合、既存の設定から変更しません。"
   ]
  },
  {
   "cell_type": "markdown",
   "metadata": {},
   "source": [
    "## 事前準備"
   ]
  },
  {
   "cell_type": "markdown",
   "metadata": {},
   "source": [
    "### UnitGroup名\n",
    "\n",
    "JupyterHubの構築環境となるVCPのUnitGroup名を指定します。"
   ]
  },
  {
   "cell_type": "markdown",
   "metadata": {},
   "source": [
    "グループ名を確認するために `group_vars`ファイル名の一覧を表示します。"
   ]
  },
  {
   "cell_type": "code",
   "execution_count": null,
   "metadata": {},
   "outputs": [],
   "source": [
    "!ls -1 --hide all group_vars/"
   ]
  },
  {
   "cell_type": "markdown",
   "metadata": {},
   "source": [
    "上のセルの出力結果を参考にして、UnitGroup名を次のセルに指定してください。"
   ]
  },
  {
   "cell_type": "code",
   "execution_count": null,
   "metadata": {
    "tags": [
     "vcp:parameters"
    ]
   },
   "outputs": [],
   "source": [
    "# (例)\n",
    "# ugroup_name = 'JupyterHub'\n",
    "\n",
    "ugroup_name = "
   ]
  },
  {
   "cell_type": "markdown",
   "metadata": {
    "heading_collapsed": true
   },
   "source": [
    "### チェック\n",
    "\n",
    "対象となるVCノードがAnsibleによって操作できることを確認します。"
   ]
  },
  {
   "cell_type": "markdown",
   "metadata": {
    "hidden": true
   },
   "source": [
    "Ansibleの設定ファイルの場所を環境変数に設定しておきます。"
   ]
  },
  {
   "cell_type": "code",
   "execution_count": null,
   "metadata": {
    "hidden": true
   },
   "outputs": [],
   "source": [
    "from pathlib import Path\n",
    "import os\n",
    "\n",
    "cfg_ansible = Path('ansible.cfg')\n",
    "if cfg_ansible.exists():\n",
    "    os.environ['ANSIBLE_CONFIG'] = str(cfg_ansible.resolve())"
   ]
  },
  {
   "cell_type": "markdown",
   "metadata": {
    "hidden": true
   },
   "source": [
    "構築対象となるVCノードにアクセスできることを確認します。"
   ]
  },
  {
   "cell_type": "code",
   "execution_count": null,
   "metadata": {
    "hidden": true,
    "pinned_outputs": []
   },
   "outputs": [],
   "source": [
    "target_hub = f'{ugroup_name}_manager'\n",
    "\n",
    "!ansible {target_hub} -m ping"
   ]
  },
  {
   "cell_type": "markdown",
   "metadata": {
    "hidden": true
   },
   "source": [
    "UnitGroup名に対応する group_varsファイルが存在していることを確認します。"
   ]
  },
  {
   "cell_type": "code",
   "execution_count": null,
   "metadata": {
    "hidden": true
   },
   "outputs": [],
   "source": [
    "!test -f group_vars/{ugroup_name}"
   ]
  },
  {
   "cell_type": "markdown",
   "metadata": {
    "hidden": true
   },
   "source": [
    "JupyterHubのサービスが実行されていることを確認します。"
   ]
  },
  {
   "cell_type": "code",
   "execution_count": null,
   "metadata": {
    "hidden": true
   },
   "outputs": [],
   "source": [
    "!ansible {target_hub} -a 'docker service ps {ugroup_name}_jupyterhub'"
   ]
  },
  {
   "cell_type": "markdown",
   "metadata": {
    "hidden": true
   },
   "source": [
    "group_varsから現在の設定値を読み込みます。"
   ]
  },
  {
   "cell_type": "code",
   "execution_count": null,
   "metadata": {
    "hidden": true
   },
   "outputs": [],
   "source": [
    "import copy\n",
    "import yaml\n",
    "from pathlib import Path\n",
    "\n",
    "gvars_path = Path(f'group_vars/{ugroup_name}')\n",
    "with gvars_path.open() as f:\n",
    "    gvars = yaml.safe_load(f)\n",
    "\n",
    "gvars_old = copy.deepcopy(gvars)"
   ]
  },
  {
   "cell_type": "markdown",
   "metadata": {},
   "source": [
    "## パラメータの設定\n",
    "\n",
    "JupyterHubシステムに関する各種設定項目を指定します。\n",
    "\n",
    "ここで設定された項目はansible変数として保存され、ファイルのmanagerノードへの配置時に各ファイルに反映されます。"
   ]
  },
  {
   "cell_type": "markdown",
   "metadata": {},
   "source": [
    "### 必須設定項目"
   ]
  },
  {
   "cell_type": "markdown",
   "metadata": {},
   "source": [
    "#### パラメータ類"
   ]
  },
  {
   "cell_type": "code",
   "execution_count": null,
   "metadata": {},
   "outputs": [],
   "source": [
    "# JupyterHubのホスト名(FQDN) (例) 'www.sample.org'\n",
    "jupyterhub_fqdn = "
   ]
  },
  {
   "cell_type": "code",
   "execution_count": null,
   "metadata": {},
   "outputs": [],
   "source": [
    "# lti1.3認証連携情報(moodle等)\n",
    "# lms プラットフォームID (例) 'www.sample.org'\n",
    "lms_platform_id = \n",
    "# lms クライアントID \n",
    "lms_cliend_id = "
   ]
  },
  {
   "cell_type": "markdown",
   "metadata": {},
   "source": [
    "受講生一覧取得方法を設定します。  \n",
    "Moodleのバージョンが4.0.0以上であれば、以下のセルを変更する必要はありません。  \n",
    "Moodleのバージョンが4.0.0未満で、NRPS（Names and Role Provisioning Services）を利用できない場合に、moodleのwebserviceを利用します。（https://tracker.moodle.org/browse/MDL-75279）\n",
    "その場合、`get_course_member_method`には`'moodle_api'`を指定し、Moodleで発行したトークンを`lms_api_token`に指定してください。"
   ]
  },
  {
   "cell_type": "code",
   "execution_count": null,
   "metadata": {},
   "outputs": [],
   "source": [
    "# get_course_member_method = 'moodle_api'\n",
    "get_course_member_method = ''\n",
    "lms_api_token = ''"
   ]
  },
  {
   "cell_type": "markdown",
   "metadata": {},
   "source": [
    "### 任意設定項目"
   ]
  },
  {
   "cell_type": "markdown",
   "metadata": {},
   "source": [
    "#### パラメータ類\n",
    "\n",
    "jupyterhubで使用するDB等の接続情報等を設定します。"
   ]
  },
  {
   "cell_type": "code",
   "execution_count": null,
   "metadata": {},
   "outputs": [],
   "source": [
    "# メールアドレスドメイン設定\n",
    "email_domain = "
   ]
  },
  {
   "cell_type": "code",
   "execution_count": null,
   "metadata": {},
   "outputs": [],
   "source": [
    "# JupyterhubDB接続情報\n",
    "db_user = \n",
    "db_password = "
   ]
  },
  {
   "cell_type": "code",
   "execution_count": null,
   "metadata": {},
   "outputs": [],
   "source": [
    "# Jupyterhub用LDAPサーバ（ローカルLDAP）\n",
    "ldap_admin = \n",
    "ldap_password = "
   ]
  },
  {
   "cell_type": "code",
   "execution_count": null,
   "metadata": {},
   "outputs": [],
   "source": [
    "# Jupyterhub 初期設定\n",
    "jupyterhub_admin_users = "
   ]
  },
  {
   "cell_type": "code",
   "execution_count": null,
   "metadata": {},
   "outputs": [],
   "source": [
    "# single-user notebook server コンテナイメージ\n",
    "singleuser_image = "
   ]
  },
  {
   "cell_type": "code",
   "execution_count": null,
   "metadata": {},
   "outputs": [],
   "source": [
    "# 共有ディレクトリパス\n",
    "home_directory_root = \n",
    "share_directory_root = "
   ]
  },
  {
   "cell_type": "code",
   "execution_count": null,
   "metadata": {},
   "outputs": [],
   "source": [
    "# dockerネットワーク\n",
    "swarm_network = "
   ]
  },
  {
   "cell_type": "code",
   "execution_count": null,
   "metadata": {},
   "outputs": [],
   "source": [
    "# ユーザを一意に識別するキー\n",
    "lti_username_key = "
   ]
  },
  {
   "cell_type": "code",
   "execution_count": null,
   "metadata": {},
   "outputs": [],
   "source": [
    "# ユーザのcookieの有効日数(0.25日=6時間)\n",
    "cookie_max_age_days = "
   ]
  },
  {
   "cell_type": "code",
   "execution_count": null,
   "metadata": {},
   "outputs": [],
   "source": [
    "# Jupyterhubコンテナイメージ\n",
    "jupyterhub_image = "
   ]
  },
  {
   "cell_type": "code",
   "execution_count": null,
   "metadata": {},
   "outputs": [],
   "source": [
    "# single-user notebook server コンテナをDocker Swarmのどのノードで起動するか\n",
    "# 「011-VCノード作成」で、worker_nodes(workerノード数)に0を指定した場合、\"manager\"を指定します。\n",
    "# node_role = 'manager'\n",
    "node_role = "
   ]
  },
  {
   "cell_type": "code",
   "execution_count": null,
   "metadata": {
    "pinned_outputs": []
   },
   "outputs": [],
   "source": [
    "# デフォルトビュー\n",
    "# \"/tree\" を指定すると、デフォルトのUIがNotebookになります。\n",
    "# \"/lab\" を指定すると、デフォルトのUIがlabになります。\n",
    "default_url = "
   ]
  },
  {
   "cell_type": "markdown",
   "metadata": {},
   "source": [
    "single-user notebook serverコンテナのリソース制限等を設定します。  \n",
    "変更する場合、以下の内容を書き換えてください。  \n",
    "\n",
    "[参考: DockerSpawner API](https://jupyterhub-dockerspawner.readthedocs.io/en/latest/api/index.html)\n",
    "\n",
    "また、idle状態のsingle-user notebook serverコンテナを定期的にシャットダウンするサービスを稼働させるため、idle状態でのタイムアウトの時間設定を変更する場合もこちらで行ってください。デフォルトでは、1分に1回、idle状態かどうかのチェックを行い、600秒＝10分間idle状態が続いているコンテナはシャットダウンするように設定しています。  \n",
    "idle状態のコンテナも起動したままにしたい場合、`cull_server_idle_timeout`の値を0に設定してください。  \n",
    "\n",
    "[参考: jupyterhub-idle-culler](https://github.com/jupyterhub/jupyterhub-idle-culler)"
   ]
  },
  {
   "cell_type": "code",
   "execution_count": null,
   "metadata": {},
   "outputs": [],
   "source": [
    "import copy\n",
    "import yaml\n",
    "from pathlib import Path\n",
    "\n",
    "path = Path('edit/jupyterhub_params.yaml')\n",
    "with path.open() as f:\n",
    "    params = yaml.safe_load(f)\n",
    "params_old = copy.deepcopy(params)\n",
    "\n",
    "params.update({\n",
    "    'resource': {\n",
    "        'groups': {\n",
    "            'student': {\n",
    "                'mem_limit': '1G',\n",
    "                'cpu_limit': 0.5,\n",
    "                'mem_guarantee': 0,\n",
    "                'cpu_guarantee': 0,\n",
    "            },\n",
    "            'teacher': {\n",
    "                'mem_limit': '1G',\n",
    "                'cpu_limit': 1.0,\n",
    "                'mem_guarantee': 0,\n",
    "                'cpu_guarantee': 0,\n",
    "            },\n",
    "        },\n",
    "    },\n",
    "    'cookie_max_age_days': 0.25,\n",
    "    'cull_server': {\n",
    "        'cull_server_idle_timeout': 600,\n",
    "        'cull_server_every': 60,\n",
    "        'cull_server_max_age': 0,\n",
    "    },\n",
    "})"
   ]
  },
  {
   "cell_type": "markdown",
   "metadata": {},
   "source": [
    "変更前後の差分を表示します。  \n",
    "意図した変更がされているかを確認してください。"
   ]
  },
  {
   "cell_type": "code",
   "execution_count": null,
   "metadata": {},
   "outputs": [],
   "source": [
    "%run scripts/nb_utils.py\n",
    "print(get_diff(params_old, params))"
   ]
  },
  {
   "cell_type": "markdown",
   "metadata": {},
   "source": [
    "問題なければ、変更後の内容を保存します。"
   ]
  },
  {
   "cell_type": "code",
   "execution_count": null,
   "metadata": {},
   "outputs": [],
   "source": [
    "with path.open(mode='w') as f:\n",
    "    yaml.safe_dump(params, stream=f)"
   ]
  },
  {
   "cell_type": "markdown",
   "metadata": {},
   "source": [
    "#### その他Jupyterhubで設定可能な項目\n",
    "\n",
    "その他、Jupyterhubで設定可能な項目は、[Jupyterhub公式ドキュメント](https://jupyterhub.readthedocs.io/en/1.4.2/reference/config-reference.html)等を参照し、`jupyterhub_config.py`を直接編集してください。\n",
    "\n",
    "以下のセルを実行すると、編集対象の`jupyterhub_config.py`の編集画面へのリンクを表示します。"
   ]
  },
  {
   "cell_type": "code",
   "execution_count": null,
   "metadata": {},
   "outputs": [],
   "source": [
    "import os\n",
    "from pathlib import Path\n",
    "conf = Path('edit').absolute() / 'jupyterhub_config.py'\n",
    "generate_edit_link(conf)"
   ]
  },
  {
   "cell_type": "markdown",
   "metadata": {},
   "source": [
    "### オーバーレイネットワークの指定"
   ]
  },
  {
   "cell_type": "markdown",
   "metadata": {},
   "source": [
    "JupyterHubのコンテナはDocker Swarmのオーバーレイネットワークで実行されます。オーバーレイネットワークに割り当てるサブネットを指定します。\n",
    "\n",
    "> 基本的にはデフォルト値からの変更は不要ですが、VCノードに割り当てられているIPアドレスと範囲が重複している場合は他のサブネットに変更して下さい。"
   ]
  },
  {
   "cell_type": "code",
   "execution_count": null,
   "metadata": {},
   "outputs": [],
   "source": [
    "# (例)\n",
    "# jupyterhub_backend = '10.1.0.0/20'\n",
    "\n",
    "jupyterhub_backend = "
   ]
  },
  {
   "cell_type": "markdown",
   "metadata": {},
   "source": [
    "指定されたサブネットがVCノードに割り当てられているIPアドレスと重なっていないことをチェックします。次のセルを実行してエラーとならないことを確認してください。"
   ]
  },
  {
   "cell_type": "code",
   "execution_count": null,
   "metadata": {
    "scrolled": true
   },
   "outputs": [],
   "source": [
    "!ansible-playbook -v -e jupyterhub_backend={jupyterhub_backend} -l {ugroup_name} \\\n",
    "    playbooks/check-subnet.yml"
   ]
  },
  {
   "cell_type": "markdown",
   "metadata": {},
   "source": [
    "### パラメータの確認\n",
    "\n",
    "変更前後の差分を表示します。  \n",
    "**意図した内容になっている・意図していない変更がされていないことを必ず確認してください**"
   ]
  },
  {
   "cell_type": "code",
   "execution_count": null,
   "metadata": {},
   "outputs": [],
   "source": [
    "global_vars = globals()\n",
    "for key, value in gvars_old.items():\n",
    "    if key in global_vars:\n",
    "        gvars[key] = global_vars[key]"
   ]
  },
  {
   "cell_type": "code",
   "execution_count": null,
   "metadata": {},
   "outputs": [],
   "source": [
    "%run scripts/nb_utils.py\n",
    "print(get_diff(gvars_old, gvars))"
   ]
  },
  {
   "cell_type": "markdown",
   "metadata": {
    "heading_collapsed": true
   },
   "source": [
    "### パラメータの保存\n",
    "\n",
    "ここまで指定したパラメータを ansible の変数として `group_vars`ファイルに保存します。"
   ]
  },
  {
   "cell_type": "code",
   "execution_count": null,
   "metadata": {
    "hidden": true
   },
   "outputs": [],
   "source": [
    "import yaml\n",
    "from pathlib import Path\n",
    "\n",
    "gvars_path = Path(f'group_vars/{ugroup_name}')\n",
    "\n",
    "if gvars['worker_nodes'] == 0:\n",
    "    node_role = 'manager'\n",
    "\n",
    "with gvars_path.open(mode='w') as f:\n",
    "    yaml.safe_dump(gvars, stream=f)"
   ]
  },
  {
   "cell_type": "markdown",
   "metadata": {
    "heading_collapsed": true
   },
   "source": [
    "## コンテナの起動"
   ]
  },
  {
   "cell_type": "markdown",
   "metadata": {
    "heading_collapsed": true,
    "hidden": true
   },
   "source": [
    "### docker-compose.yml の配置"
   ]
  },
  {
   "cell_type": "markdown",
   "metadata": {
    "hidden": true
   },
   "source": [
    "複数のコンテナに関する設定をまとめて扱うために `docker-compose.yml` を利用します。\n",
    "\n",
    "ここまでに指定されたパラメータに応じた`docker-compose.yml`, `default.conf`を生成し、構築環境に配置します。"
   ]
  },
  {
   "cell_type": "markdown",
   "metadata": {
    "hidden": true
   },
   "source": [
    "まずは、チェックモードで確認を行います。"
   ]
  },
  {
   "cell_type": "code",
   "execution_count": null,
   "metadata": {
    "hidden": true,
    "scrolled": true
   },
   "outputs": [],
   "source": [
    "!ansible {target_hub} -CDv -m template \\\n",
    "    -a 'src=template/jupyterhub/docker-compose.yml dest={{{{base_dir}}}}/jupyterhub backup=yes'\n",
    "!ansible {target_hub} -CDv -m template \\\n",
    "    -a 'src=template/jupyterhub/nginx/default.conf dest={{{{base_dir}}}}/jupyterhub/nginx backup=yes'\n",
    "!ansible {target_hub} -CDv -m synchronize \\\n",
    "    -a 'src=edit/lms_web_service.py dest={{{{jupyterhub_dir}}}}/jupyterhub'\n",
    "!ansible {target_hub} -CDv -m synchronize \\\n",
    "    -a 'src=edit/jupyterhub_config.py dest={{{{jupyterhub_dir}}}}/jupyterhub'\n",
    "!ansible {target_hub} -CDv -m synchronize \\\n",
    "    -a 'src=edit/jupyterhub_params.yaml dest={{{{jupyterhub_dir}}}}/jupyterhub'"
   ]
  },
  {
   "cell_type": "markdown",
   "metadata": {
    "hidden": true
   },
   "source": [
    "実際に各ファイルの配置を行います。"
   ]
  },
  {
   "cell_type": "code",
   "execution_count": null,
   "metadata": {
    "hidden": true,
    "scrolled": true
   },
   "outputs": [],
   "source": [
    "!ansible {target_hub} -Dv -m template \\\n",
    "    -a 'src=template/jupyterhub/docker-compose.yml dest={{{{base_dir}}}}/jupyterhub backup=yes'\n",
    "!ansible {target_hub} -Dv -m template \\\n",
    "    -a 'src=template/jupyterhub/nginx/default.conf dest={{{{base_dir}}}}/jupyterhub/nginx backup=yes'\n",
    "!ansible {target_hub} -Dv -m synchronize \\\n",
    "    -a 'src=edit/lms_web_service.py dest={{{{jupyterhub_dir}}}}/jupyterhub'\n",
    "!ansible {target_hub} -Dv -m synchronize \\\n",
    "    -a 'src=edit/jupyterhub_config.py dest={{{{jupyterhub_dir}}}}/jupyterhub'\n",
    "!ansible {target_hub} -Dv -m synchronize \\\n",
    "    -a 'src=edit/jupyterhub_params.yaml dest={{{{jupyterhub_dir}}}}/jupyterhub'"
   ]
  },
  {
   "cell_type": "markdown",
   "metadata": {
    "heading_collapsed": true,
    "hidden": true
   },
   "source": [
    "### コンテナの起動\n",
    "\n",
    "コンテナを起動します。"
   ]
  },
  {
   "cell_type": "code",
   "execution_count": null,
   "metadata": {
    "hidden": true
   },
   "outputs": [],
   "source": [
    "!ansible {target_hub} -a 'chdir={{{{base_dir}}}}/jupyterhub \\\n",
    "    docker stack deploy -c docker-compose.yml {{{{ugroup_name}}}}'"
   ]
  },
  {
   "cell_type": "markdown",
   "metadata": {
    "hidden": true
   },
   "source": [
    "リソース制限定義をリロードするため、jupyterhubサービスを更新します。"
   ]
  },
  {
   "cell_type": "code",
   "execution_count": null,
   "metadata": {
    "hidden": true
   },
   "outputs": [],
   "source": [
    "!ansible {target_hub} -a 'docker service update {{{{ugroup_name}}}}_jupyterhub --force'"
   ]
  },
  {
   "cell_type": "markdown",
   "metadata": {
    "hidden": true
   },
   "source": [
    "コンテナの起動状態を確認します。"
   ]
  },
  {
   "cell_type": "code",
   "execution_count": null,
   "metadata": {
    "hidden": true
   },
   "outputs": [],
   "source": [
    "!ansible {target_hub} -a 'docker stack ps {{{{ugroup_name}}}}'"
   ]
  },
  {
   "cell_type": "markdown",
   "metadata": {
    "hidden": true
   },
   "source": [
    "Masterノードにて、jupyterhubのヘルスチェック用URLに向けて、curlコマンドを実行してみます。    \n",
    "起動に時間がかかる場合があるため、指定回数を上限とし、成功するまでリトライします。  \n",
    "ステータスコード`200`が返ると、このセルは正常終了します。  \n",
    "\n",
    "※managerノード（のVM）へのアクセス制限を行っている場合、この構築環境からはアクセスできない場合があります。その場合は、許可されたアクセス元から、https://{master_fqdn}/hub/healthにGETリクエストを行うか、https://{master_fqdn}/にブラウザでアクセスし、画面が表示されれば問題ありません。\n",
    "このようなアクセス制限を行う場合は、Jupyterhubに設定しているグローバルIPアドレスからMoodleへのアクセスを許可する必要があります。"
   ]
  },
  {
   "cell_type": "code",
   "execution_count": null,
   "metadata": {
    "hidden": true
   },
   "outputs": [],
   "source": [
    "import time\n",
    "\n",
    "# 規定回数\n",
    "retry_max = 18\n",
    "err = None\n",
    "\n",
    "for retry in range(retry_max):\n",
    "    try:\n",
    "        !ansible {target_hub} -m uri -a \"url=https://{jupyterhub_fqdn}/hub/health\"\n",
    "        break\n",
    "\n",
    "    except Exception as e:\n",
    "        print(\"retry\")\n",
    "        err = e\n",
    "        time.sleep(10)\n",
    "else:\n",
    "    raise err"
   ]
  }
 ],
 "metadata": {
  "kernelspec": {
   "display_name": "Python 3",
   "language": "python",
   "name": "python3"
  },
  "language_info": {
   "file_extension": ".py",
   "mimetype": "text/x-python",
   "name": "python",
   "nbconvert_exporter": "python",
   "pygments_lexer": "ipython3",
   "version": "3.10.11"
  },
  "toc": {
   "base_numbering": 1,
   "nav_menu": {},
   "number_sections": true,
   "sideBar": true,
   "skip_h1_title": true,
   "title_cell": "Table of Contents",
   "title_sidebar": "Contents",
   "toc_cell": false,
   "toc_position": {
    "height": "calc(100% - 180px)",
    "left": "10px",
    "top": "150px",
    "width": "299.867px"
   },
   "toc_section_display": true,
   "toc_window_display": true
  }
 },
 "nbformat": 4,
 "nbformat_minor": 2
}
