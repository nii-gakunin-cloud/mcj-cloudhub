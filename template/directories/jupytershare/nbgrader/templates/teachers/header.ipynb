{
 "cells": [
  {
   "cell_type": "markdown",
   "metadata": {},
   "source": [
    "課題を提出する前に、すべてが期待通りに実行されることを確認してください。 最初に、 **カーネルを再起動してください** (メニューバーの中から、「 カーネル」$\\rightarrow$「再起動」の順に選択)。続いて、 **すべてのセルを実行してください** (メニューバーの中から、 「セル」$\\rightarrow$「全てを実行」の順に選択)。\n",
    "\n",
    "課題に取り組むときは、`YOUR CODE HERE` もしくは \"YOUR ANSWER HERE\" と書かれている箇所をすべて記入してください。\n",
    "\n",
    "提出の前に、以下にあなたの氏名（NAME）と共同作業者（COLLABORATORS）も記入してください。"
   ]
  },
  {
   "cell_type": "code",
   "execution_count": 1,
   "metadata": {},
   "outputs": [],
   "source": [
    "NAME = \"\"\n",
    "COLLABORATORS = \"\""
   ]
  },
  {
   "cell_type": "markdown",
   "metadata": {},
   "source": [
    "---"
   ]
  }
 ],
 "metadata": {
  "kernelspec": {
   "display_name": "Python 3",
   "language": "python",
   "name": "python3"
  },
  "language_info": {
   "codemirror_mode": {
    "name": "ipython",
    "version": 3
   },
   "file_extension": ".py",
   "mimetype": "text/x-python",
   "name": "python",
   "nbconvert_exporter": "python",
   "pygments_lexer": "ipython3",
   "version": "3.8.8"
  }
 },
 "nbformat": 4,
 "nbformat_minor": 1
}
