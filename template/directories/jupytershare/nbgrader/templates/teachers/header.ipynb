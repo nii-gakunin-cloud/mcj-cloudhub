{
 "cells": [
  {
   "cell_type": "markdown",
   "metadata": {},
   "source": [
    "課題を提出する前に、すべてが期待通りに実行されることを確認してください。  \n",
    "ツールバーの「Validate」ボタンを押下することで、各種テストが実行され、正しく実装されていれば`Success! Your notebook passes all the tests.`のような成功画面が表示されます。\n",
    "\n",
    "課題に取り組むときは、`YOUR CODE HERE` もしくは \"YOUR ANSWER HERE\" と書かれている箇所をすべて記入してください。"
   ]
  },
  {
   "cell_type": "markdown",
   "metadata": {},
   "source": [
    "---"
   ]
  }
 ],
 "metadata": {
  "kernelspec": {
   "display_name": "Python 3",
   "language": "python",
   "name": "python3"
  },
  "language_info": {
   "codemirror_mode": {
    "name": "ipython",
    "version": 3
   },
   "file_extension": ".py",
   "mimetype": "text/x-python",
   "name": "python",
   "nbconvert_exporter": "python",
   "pygments_lexer": "ipython3",
   "version": "3.8.8"
  }
 },
 "nbformat": 4,
 "nbformat_minor": 1
}
