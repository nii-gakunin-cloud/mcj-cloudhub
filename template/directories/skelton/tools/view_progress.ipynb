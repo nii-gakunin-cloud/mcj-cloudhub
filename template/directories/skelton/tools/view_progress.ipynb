{
 "cells": [
  {
   "cell_type": "markdown",
   "id": "51dc30ef-e2ac-4012-82ef-61a2eb9ba4a7",
   "metadata": {},
   "source": [
    "# オンライン分析用  \n",
    "\n",
    "受講生のノートブックの実行状況を可視化します。  \n",
    "各受講生の実行履歴は各ノートブックと同じディレクトリ内の`.log`ディレクトリ以下に出力されており、これを教師が閲覧可能なディレクトリ以下のDB（`/home/{userid}/nbgrader/{course}/exec_history.db`）に収集しています。  \n",
    "本ノートブックは、そのDBの情報をグラフで表示するためのノートブックです。"
   ]
  },
  {
   "cell_type": "markdown",
   "id": "44f69348-0b3f-46c2-a399-79639ffa24ce",
   "metadata": {},
   "source": [
    "## 前提条件\n",
    "\n",
    "### ノートブックの実行時、カーネルに[LC_wrapper](https://github.com/NII-cloud-operation/Jupyter-LC_wrapper)を利用していること\n",
    "\n",
    "本ノートブックで利用する実行履歴は、[LC_wrapper](https://github.com/NII-cloud-operation/Jupyter-LC_wrapper)によって収集されたログを利用します。したがって、受講生がノートブックを実行する際に利用するカーネルは[LC_wrapper](https://github.com/NII-cloud-operation/Jupyter-LC_wrapper)である必要があります。\n",
    "\n",
    "### 課題配布時に、各セルのIDが一意になっていること\n",
    "\n",
    "ノートブックの各セルを一意に識別するために、[LC_wrapper](https://github.com/NII-cloud-operation/Jupyter-LC_wrapper)によって付与される`meme_id`を利用します。\n",
    "同じノートブックをコピーして利用した場合など、`meme_id`に枝番が付与されていると、各ユーザの実行情報が正常に取得できません。  \n",
    "そのような場合、`meme_id`を振り直す必要があります。  \n",
    "新規に作成したノートブックであっても、一度配布直前に`meme_id`を振り直すことを推奨します。  \n",
    "\n",
    "- meme_idを振り直すコード例  \n",
    "ターミナルを起動し、以下のコードを課題ファイル（`.ipynb`）があるディレクトリ（`/home/ユーザID/nbgrader/コース名/source/課題名`）で実行してください。  \n",
    "\n",
    "```bash\n",
    "ls *.ipynb | xargs -I {} sh -c 'jupyter nblineage new-root-meme --log-level=DEBUG \"{}\" \"{}_\"; mv \"{}_\" \"{}\"'\n",
    "```\n",
    "\n",
    "### 収集対象  \n",
    "\n",
    "nbgrader上の受講生となっているユーザが収集対象となります。  \n",
    "教師ユーザでログイン後、Moodle側で新たに追加されたユーザは、教師ユーザが再度ログインする時まで受講生としてnbgraderに登録されないため、それまでは実行ログが収集されません。"
   ]
  },
  {
   "cell_type": "markdown",
   "id": "75373dc3",
   "metadata": {},
   "source": [
    "## 表示\n",
    "\n",
    "出力例を掲載しています。"
   ]
  },
  {
   "cell_type": "markdown",
   "id": "5b0c47e7",
   "metadata": {},
   "source": [
    "- ノートブックごとに、表形式で表示します\n",
    "- 各ユーザごとに、各セルの最新の実行結果が表示されます\n",
    "  - セルの実行結果が`ok`（正常終了）の場合は背景色緑、セルの実行結果が`error`（異常終了）の場合は背景色赤で表示しています\n",
    "  - 一度も実行していないか、実行状況を把握できないセルには何も表示されません\n",
    "![](./images/progress_html.png)"
   ]
  },
  {
   "cell_type": "markdown",
   "id": "713bf2b7-3363-41e3-8d17-88b204a53979",
   "metadata": {},
   "source": [
    "## パラメータ指定"
   ]
  },
  {
   "cell_type": "markdown",
   "id": "933ed350-36a0-4147-a826-a6f203fce752",
   "metadata": {},
   "source": [
    "対象のコース等を指定します。"
   ]
  },
  {
   "cell_type": "code",
   "execution_count": null,
   "id": "b8bfd928-c754-45f3-825b-67da92f896ba",
   "metadata": {
    "tags": []
   },
   "outputs": [],
   "source": [
    "import os\n",
    "\n",
    "# nbgrader上で設定した、課題名を入力してください\n",
    "ASSIGNMENT = 'assign01'\n",
    "\n",
    "# コース名を環境変数から取得します\n",
    "COURSE = os.environ['MOODLECOURSE']\n",
    "DB_PATH = os.path.join(os.environ['HOME'], 'nbgrader', COURSE, 'exec_history.db')"
   ]
  },
  {
   "cell_type": "markdown",
   "id": "0d74e0c5",
   "metadata": {},
   "source": [
    "## 出力\n",
    "\n",
    "出力したHTMLファイルをブラウザで閲覧するか、このノートブック上で閲覧する方法があります。"
   ]
  },
  {
   "cell_type": "markdown",
   "id": "c1f03134",
   "metadata": {},
   "source": [
    "### html更新用の処理  \n",
    "\n",
    "htmlファイルに最新のDBの内容を取り込む処理を実装しています。  \n",
    "ここに定義した関数を実行するたびに、DBから最新の情報を取得し、各ユーザの実行状況をHTMLとして出力します。"
   ]
  },
  {
   "cell_type": "code",
   "execution_count": null,
   "id": "d08f066c",
   "metadata": {},
   "outputs": [],
   "source": [
    "import sqlite3\n",
    "from jinja2 import Environment, FileSystemLoader\n",
    "\n",
    "def update_progress_html(fname: str, course: str, assignment: str,\n",
    "                         html_auto_refresh_sec: int = -1):\n",
    "    \"\"\"create or update html\n",
    "    notebooks = {\n",
    "      nb_1: [{meme_id: 'aaa', section: '1.2.1', student_results: {'student01': exec_info: {'state': 'ok'}}}]\n",
    "    }\n",
    "    \"\"\"\n",
    "    file_loader = FileSystemLoader('./')  # template.htmlのパスを指定\n",
    "    env = Environment(loader=file_loader)\n",
    "    template = env.get_template('progress.html.j2')\n",
    "    \n",
    "    # 最新のログのみ\n",
    "    sql = \"\"\"\n",
    "    SELECT\n",
    "      notebook_name,\n",
    "      log_id.section as cell_section,\n",
    "      ifnull(log_executed.student_id, null) as student_id,\n",
    "      log_id.id as log_id,\n",
    "      log_id.section as cell_section,\n",
    "      ifnull(log_executed.log_execute_reply_status, '') as log_execute_reply_status\n",
    "    FROM\n",
    "      log_id left outer join (SELECT\n",
    "          log.assignment as assignment,\n",
    "          log.student_id as student_id,\n",
    "          log.log_id as log_id,\n",
    "          log_execute_reply_status\n",
    "        FROM log, \n",
    "            (SELECT assignment, student_id, log_id, MAX(log_sequence) as sequence\n",
    "            FROM log\n",
    "            WHERE assignment = ?\n",
    "            GROUP BY\n",
    "              student_id, log_id) latest_log\n",
    "        where log.assignment = latest_log.assignment\n",
    "        and log.student_id = latest_log.student_id\n",
    "        and log.log_id = latest_log.log_id\n",
    "        and log.log_sequence = latest_log.sequence\n",
    "        order by\n",
    "          log.log_id, student_id) log_executed on log_id.id = log_executed.log_id and log_id.assignment = log_executed.assignment\n",
    "    WHERE\n",
    "      log_id.assignment = ?\n",
    "    ORDER BY\n",
    "      log_id.notebook_name, log_id.id\n",
    "    \"\"\"\n",
    "    student_sql = \"\"\"\n",
    "    SELECT id\n",
    "    FROM student\n",
    "    \"\"\"\n",
    "\n",
    "    with sqlite3.connect(f\"file:{DB_PATH}?mode=ro\", uri=True) as con:\n",
    "        # 列名で結果にアクセスできるようにする\n",
    "        con.row_factory = sqlite3.Row\n",
    "        cur = con.cursor()\n",
    "        cur.execute(sql, [assignment, assignment])\n",
    "        result = cur.fetchall()\n",
    "        cur.execute(student_sql)\n",
    "        students = [d['id'] for d in cur.fetchall()]\n",
    "\n",
    "    notebooks = dict()\n",
    "    c_notebook_name = None\n",
    "    c_log_id = None\n",
    "    c_idx = 0\n",
    "    nb_changed = False\n",
    "    for r in result:\n",
    "        notebook_name = r['notebook_name']\n",
    "        log_id = r['log_id']\n",
    "        cell_section = r['cell_section']\n",
    "        student_id = r['student_id']\n",
    "        log_execute_reply_status = r['log_execute_reply_status']\n",
    "\n",
    "        if c_notebook_name != notebook_name:\n",
    "            notebooks[notebook_name] = []\n",
    "            c_notebook_name = notebook_name\n",
    "            c_idx = 0\n",
    "            nb_changed = True\n",
    "\n",
    "        if c_log_id != log_id:\n",
    "            notebooks[notebook_name].append(dict(meme_id=log_id, section=cell_section))\n",
    "            c_log_id = log_id\n",
    "            if nb_changed is True:\n",
    "                nb_changed = False\n",
    "                # ノートブックが変わった時はインクリメントしない\n",
    "            else:\n",
    "                c_idx += 1\n",
    "        if 'student_results' not in notebooks[notebook_name][c_idx]:\n",
    "            notebooks[notebook_name][c_idx]['student_results'] = {}\n",
    "\n",
    "        if student_id is not None:\n",
    "            notebooks[notebook_name][c_idx]['student_results'][student_id] = {'exec_info': {'state': log_execute_reply_status}}\n",
    "\n",
    "    data = {\n",
    "        'title': '進捗可視化',\n",
    "        'heading': '進捗可視化',\n",
    "        'course_name': course,\n",
    "        'assignment_name': assignment,\n",
    "        'notebooks': notebooks,\n",
    "        'users': students,\n",
    "        'html_auto_refresh_sec': html_auto_refresh_sec,\n",
    "    }\n",
    "    output = template.render(data)\n",
    "\n",
    "    # 結果を出力 (ファイルや標準出力に書き込む)\n",
    "    with open(fname, 'w') as f:\n",
    "        f.write(output)\n",
    "\n",
    "    return fname\n"
   ]
  },
  {
   "cell_type": "markdown",
   "id": "2c2263a0",
   "metadata": {},
   "source": [
    "## 閲覧  \n",
    "\n",
    "ブラウザで新たにタブを開いて出力したHTMLを閲覧する方法と、本ノートブックのセル出力でHTMLを閲覧する方法があります。  \n",
    "自動更新するための手段が異なるため、セルを分けています。"
   ]
  },
  {
   "cell_type": "markdown",
   "id": "3beacd13-b768-4e68-bbec-026f75bfeec0",
   "metadata": {},
   "source": [
    "### 別タブで開く場合（自動更新）\n",
    "\n",
    "HTML自体は自動更新する設定になっていないため、`<meta http-equiv=\"refresh\" content=\"10\" />` を追加して、自動更新するように設定したHTMLを出力します。  \n",
    "このセルの実行結果として、出力したHTMLファイルへのリンクが表示されます。  \n",
    "以下のセルでは、10秒ごとに自動でリロードを行う設定になっています。\n",
    "自動更新する秒数の変更や、自動更新自体行わない場合は、以下のセルを編集してください。  \n",
    "\n",
    "【補足】  \n",
    "「1.4.2 セルの出力で開く場合」で表示する場合は、上記自動リロードを設定していると、このノートブックを開いているタブ自体がリロードされてしまいます。これを避けるために、別タブで開く場合と、セルの実行結果で開く場合でhtmlファイルを分けています。  \n",
    "そのため、htmlファイルの名前を変更する場合は、同じ名前にならないように設定することを推奨します。"
   ]
  },
  {
   "cell_type": "code",
   "execution_count": null,
   "id": "b9e0b4ef-2f06-4c23-b383-e222cedd3cec",
   "metadata": {
    "tags": []
   },
   "outputs": [],
   "source": [
    "import time\n",
    "import os\n",
    "from pathlib import Path\n",
    "\n",
    "# 自動更新する間隔（秒）\n",
    "reload_span = 10\n",
    "html_name = f'{COURSE}_{ASSIGNMENT}_autoreload.html'\n",
    "\n",
    "f = update_progress_html(html_name, COURSE, ASSIGNMENT, html_auto_refresh_sec=reload_span)\n",
    "f_path = os.path.join(str(Path().resolve()).replace(os.environ[\"HOME\"] + \"/\", \"\"), f)\n",
    "link = f'https://{os.environ[\"JUPYTERHUB_FQDN\"]}/user/2/files/{f_path}'\n",
    "print(f\"Link: {link}\")\n",
    "\n",
    "while True:\n",
    "    update_progress_html(html_name, COURSE, ASSIGNMENT, html_auto_refresh_sec=reload_span)\n",
    "    time.sleep(10)"
   ]
  },
  {
   "cell_type": "markdown",
   "id": "5ffb9d71-e530-42c4-b60b-cffd0c7816df",
   "metadata": {},
   "source": [
    "### セルの出力で開く場合\n",
    "\n",
    "セルの出力を自動更新するようになっています。"
   ]
  },
  {
   "cell_type": "code",
   "execution_count": null,
   "id": "c20b7784-2067-4689-ba95-ad1ddad0b1bc",
   "metadata": {
    "tags": []
   },
   "outputs": [],
   "source": [
    "import time\n",
    "\n",
    "from IPython.display import HTML\n",
    "\n",
    "f = update_progress_html(f'{COURSE}_{ASSIGNMENT}.html', COURSE, ASSIGNMENT)\n",
    "display_handle = display(HTML(f), display_id=True, clear=True)\n",
    "while True:\n",
    "    f = update_progress_html(f'{COURSE}_{ASSIGNMENT}.html', COURSE, ASSIGNMENT)\n",
    "    display_handle.update(HTML(f))\n",
    "    time.sleep(5)"
   ]
  }
 ],
 "metadata": {
  "kernelspec": {
   "display_name": "Python 3",
   "language": "python",
   "name": "python3"
  },
  "language_info": {
   "file_extension": ".py",
   "mimetype": "text/x-python",
   "name": "python",
   "nbconvert_exporter": "python",
   "pygments_lexer": "ipython3",
   "version": "3.10.4"
  },
  "toc": {
   "base_numbering": 1,
   "nav_menu": {},
   "number_sections": true,
   "sideBar": true,
   "skip_h1_title": false,
   "title_cell": "Table of Contents",
   "title_sidebar": "Contents",
   "toc_cell": false,
   "toc_position": {},
   "toc_section_display": true,
   "toc_window_display": false
  }
 },
 "nbformat": 4,
 "nbformat_minor": 5
}
