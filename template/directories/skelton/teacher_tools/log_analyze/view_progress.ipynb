{
 "cells": [
  {
   "cell_type": "markdown",
   "id": "51dc30ef-e2ac-4012-82ef-61a2eb9ba4a7",
   "metadata": {},
   "source": [
    "# オンライン分析用  \n",
    "\n",
    "本ノートブックは、収集したログ情報から、最新の実行履歴を確認するサンプルを記載しています。"
   ]
  },
  {
   "cell_type": "markdown",
   "id": "75373dc3",
   "metadata": {},
   "source": [
    "## 表示\n",
    "\n",
    "出力例を掲載しています。"
   ]
  },
  {
   "cell_type": "markdown",
   "id": "5b0c47e7",
   "metadata": {},
   "source": [
    "- ノートブックごとに、表形式で表示します\n",
    "- 各ユーザごとに、各セルの最新の実行結果が表示されます\n",
    "  - セルの実行結果が`ok`（正常終了）の場合は背景色緑、セルの実行結果が`error`（異常終了）の場合は背景色赤で表示しています\n",
    "  - 一度も実行していないか、実行状況を把握できないセルには何も表示されません。\n",
    "<img src=\"./images/progress_html.png\" width=300 height=300>"
   ]
  },
  {
   "cell_type": "markdown",
   "id": "713bf2b7-3363-41e3-8d17-88b204a53979",
   "metadata": {},
   "source": [
    "## パラメータ指定"
   ]
  },
  {
   "cell_type": "markdown",
   "id": "933ed350-36a0-4147-a826-a6f203fce752",
   "metadata": {},
   "source": [
    "対象の課題を指定します。  \n",
    "以下のセルを実行するとドロップダウンメニューが表示されるため、課題を選択してください。"
   ]
  },
  {
   "cell_type": "code",
   "execution_count": null,
   "id": "5edd766f",
   "metadata": {},
   "outputs": [],
   "source": [
    "import os\n",
    "\n",
    "from IPython.display import display\n",
    "from ipywidgets import widgets\n",
    "from nbgrader.api import Gradebook, MissingEntry\n",
    "\n",
    "db_path = os.path.join(os.environ['HOME'], 'nbgrader', os.environ['MOODLECOURSE'], 'gradebook.db')\n",
    "gb = Gradebook(f'sqlite:///{db_path}',\n",
    "               os.environ['MOODLECOURSE'])\n",
    "\n",
    "assignment_selection = widgets.Dropdown(\n",
    "    options = [d.name for d in gb.assignments],\n",
    "    description = \"課題を選択してください:\",\n",
    ")\n",
    "display(assignment_selection)"
   ]
  },
  {
   "cell_type": "code",
   "execution_count": null,
   "id": "b8bfd928-c754-45f3-825b-67da92f896ba",
   "metadata": {
    "tags": []
   },
   "outputs": [],
   "source": [
    "import os\n",
    "\n",
    "# Control Panel → Token より発行したトークンを入力してください\n",
    "TOKEN = \n",
    "\n",
    "# -- 以下は必要に応じて変更してください 基本的には変更不要です。--\n",
    "OUTPUT_DIR = 'output' # 進捗確認用HTMLファイルの出力先\n",
    "COURSE = os.environ['MOODLECOURSE']\n",
    "COURSE_PATH = os.path.join(os.environ['HOME'], 'nbgrader', COURSE)\n",
    "SOURCE_PATH = os.path.join(COURSE_PATH, 'source')\n",
    "DB_PATH = os.path.join(COURSE_PATH, 'exec_history.db')\n",
    "ASSIGNMENT = assignment_selection.value"
   ]
  },
  {
   "cell_type": "markdown",
   "id": "0d74e0c5",
   "metadata": {},
   "source": [
    "## 出力\n",
    "\n",
    "出力したHTMLファイルをブラウザで閲覧するか、このノートブック上で閲覧する方法があります。"
   ]
  },
  {
   "cell_type": "markdown",
   "id": "c1f03134",
   "metadata": {},
   "source": [
    "### html更新用の処理  "
   ]
  },
  {
   "cell_type": "markdown",
   "id": "821e26a5",
   "metadata": {},
   "source": [
    "教師用の元ファイルを読み込みます。  \n",
    "また、必要なディレクトリを作成します。"
   ]
  },
  {
   "cell_type": "code",
   "execution_count": null,
   "id": "68aabac9",
   "metadata": {},
   "outputs": [],
   "source": [
    "src = os.path.join(SOURCE_PATH, ASSIGNMENT, '*.ipynb')\n",
    "!jupyter nbconvert --to html --output-dir {'html/'+ASSIGNMENT} {src}\n",
    "\n",
    "if not os.path.isdir(OUTPUT_DIR):\n",
    "    os.mkdir(OUTPUT_DIR)"
   ]
  },
  {
   "cell_type": "markdown",
   "id": "d4881663",
   "metadata": {},
   "source": [
    "htmlファイルに最新のDBの内容を取り込む処理を実装しています。  \n",
    "ここに定義した関数を実行するたびに、DBから最新の情報を取得し、各ユーザの実行状況をHTMLとして出力します。"
   ]
  },
  {
   "cell_type": "code",
   "execution_count": null,
   "id": "d08f066c",
   "metadata": {},
   "outputs": [],
   "source": [
    "import os\n",
    "\n",
    "from datetime import datetime\n",
    "import requests\n",
    "import sqlite3\n",
    "from jinja2 import Environment, FileSystemLoader\n",
    "\n",
    "\n",
    "def log2db(token, course, assignment, dt_from: datetime = None):\n",
    "    \"\"\"学生の実行ログ情報をDBに収集する\n",
    "    \"\"\"\n",
    "\n",
    "    headers = {\"Content-Type\": \"application/json\",\n",
    "               \"Authorization\": f\"token {token}\"}\n",
    "    data = {\n",
    "        'course': course,\n",
    "        'assignment': assignment,\n",
    "    }\n",
    "    if dt_from is not None:\n",
    "        data['from'] = dt_from.isoformat()\n",
    "    r = requests.post('http://jupyterhub:8088/services/teachertools/api/log_collect',\n",
    "                      headers=headers,\n",
    "                      json=data)\n",
    "    return r\n",
    "\n",
    "\n",
    "def update_progress_html(fname: str, course: str, assignment: str,\n",
    "                         html_auto_refresh_sec: int = -1):\n",
    "    \"\"\"ログ情報をDBから読み込み、HTMLファイルに出力する\n",
    "    \"\"\"\n",
    "    file_loader = FileSystemLoader('./')\n",
    "    env = Environment(loader=file_loader)\n",
    "    template = env.get_template('template/progress.html.j2')\n",
    "    \n",
    "    sql = \"\"\"\n",
    "    SELECT\n",
    "      notebook_name,\n",
    "      cell.section as cell_section,\n",
    "      ifnull(log_executed.student_id, null) as student_id,\n",
    "      cell.id as cell_id,\n",
    "      cell.jupyter_cell_id as jupyter_cell_id,\n",
    "      ifnull(log_executed.log_execute_reply_status, '') as log_execute_reply_status\n",
    "    FROM\n",
    "      cell left outer join (SELECT\n",
    "          log.assignment as assignment,\n",
    "          log.student_id as student_id,\n",
    "          log.cell_id as cell_id,\n",
    "          log_execute_reply_status\n",
    "        FROM log, \n",
    "            (SELECT assignment, student_id, cell_id, MAX(log_sequence) as sequence\n",
    "            FROM log\n",
    "            WHERE assignment = ?\n",
    "            GROUP BY\n",
    "              student_id, cell_id) latest_log\n",
    "        where log.assignment = latest_log.assignment\n",
    "        and log.student_id = latest_log.student_id\n",
    "        and log.cell_id = latest_log.cell_id\n",
    "        and log.log_sequence = latest_log.sequence\n",
    "        order by\n",
    "          log.cell_id, student_id) log_executed on cell.id = log_executed.cell_id and cell.assignment = log_executed.assignment\n",
    "    WHERE\n",
    "      cell.assignment = ?\n",
    "    ORDER BY\n",
    "      cell.notebook_name, cell.id\n",
    "    \"\"\"\n",
    "    student_sql = \"\"\"\n",
    "    SELECT id\n",
    "    FROM student\n",
    "    \"\"\"\n",
    "\n",
    "    with sqlite3.connect(f\"file:{DB_PATH}?mode=ro\", uri=True) as con:\n",
    "        con.row_factory = sqlite3.Row\n",
    "        cur = con.cursor()\n",
    "        cur.execute(sql, [assignment, assignment])\n",
    "        result = cur.fetchall()\n",
    "        cur.execute(student_sql)\n",
    "        students = [d['id'] for d in cur.fetchall()]\n",
    "\n",
    "    notebooks = dict()\n",
    "    c_notebook_name = None\n",
    "    c_cell_id = None\n",
    "    c_idx = 0\n",
    "    nb_changed = False\n",
    "    for r in result:\n",
    "        notebook_name = r['notebook_name']\n",
    "        cell_id = r['cell_id']\n",
    "        jupyter_cell_id = r['jupyter_cell_id']\n",
    "        cell_section = r['cell_section']\n",
    "        student_id = r['student_id']\n",
    "        log_execute_reply_status = r['log_execute_reply_status']\n",
    "\n",
    "        if c_notebook_name != notebook_name:\n",
    "            notebooks[notebook_name] = []\n",
    "            c_notebook_name = notebook_name\n",
    "            c_idx = 0\n",
    "            nb_changed = True\n",
    "\n",
    "        if c_cell_id != cell_id:\n",
    "            notebooks[notebook_name].append(dict(cell_id=cell_id, section=cell_section, jupyter_cell_id=jupyter_cell_id))\n",
    "            c_cell_id = cell_id\n",
    "            if nb_changed is True:\n",
    "                nb_changed = False\n",
    "                # ノートブックが変わった時はインクリメントしない\n",
    "            else:\n",
    "                c_idx += 1\n",
    "        if 'student_results' not in notebooks[notebook_name][c_idx]:\n",
    "            notebooks[notebook_name][c_idx]['student_results'] = {}\n",
    "\n",
    "        if student_id is not None:\n",
    "            notebooks[notebook_name][c_idx]['student_results'][student_id] = {'exec_info': {'state': log_execute_reply_status}}\n",
    "\n",
    "    data = {\n",
    "        'title': '進捗可視化',\n",
    "        'heading': '進捗可視化',\n",
    "        'course_name': course,\n",
    "        'assignment_name': assignment,\n",
    "        'notebooks': notebooks,\n",
    "        'users': students,\n",
    "        'html_auto_refresh_sec': html_auto_refresh_sec,\n",
    "    }\n",
    "    output = template.render(data)\n",
    "\n",
    "    with open(fname, 'w') as f:\n",
    "        f.write(output)\n",
    "\n",
    "    return fname\n"
   ]
  },
  {
   "cell_type": "markdown",
   "id": "2c2263a0",
   "metadata": {},
   "source": [
    "## 閲覧  \n",
    "\n",
    "ブラウザで新たにタブを開いて出力したHTMLを閲覧する方法と、本ノートブックのセル出力でHTMLを閲覧する方法があります。  \n",
    "自動更新するための手段が異なるため、セルを分けています。"
   ]
  },
  {
   "cell_type": "markdown",
   "id": "3beacd13-b768-4e68-bbec-026f75bfeec0",
   "metadata": {},
   "source": [
    "### 別タブで開く場合（自動更新）\n",
    "\n",
    "このセルの実行結果として、出力したHTMLファイルへのリンクが表示されます。\n",
    "\n",
    "【補足】  \n",
    "「1.4.2 セルの出力で開く場合」で表示する場合は、上記自動リロードを設定していると、このノートブックを開いているタブ自体がリロードされてしまいます。これを防ぐために、別タブで開く場合と、セルの実行結果で開く場合でhtmlファイルを分けています。  \n",
    "そのため、htmlファイルの名前を変更する場合は、同じ名前にならないように設定することを推奨しています。"
   ]
  },
  {
   "cell_type": "code",
   "execution_count": null,
   "id": "b9e0b4ef-2f06-4c23-b383-e222cedd3cec",
   "metadata": {
    "tags": []
   },
   "outputs": [],
   "source": [
    "from datetime import datetime, timezone, timedelta\n",
    "import getpass\n",
    "import time\n",
    "import os\n",
    "from pathlib import Path\n",
    "\n",
    "# 自動更新する間隔（秒）\n",
    "html_reload_span = 0  # htmlのリロード間隔（秒） 0以下の場合、自動でリロードしない\n",
    "db_reload_span = 10   # 実行ログ収集間隔（秒） 0以下は設定不可\n",
    "html_name = f'{OUTPUT_DIR}/{COURSE}_{ASSIGNMENT}_autoreload.html'\n",
    "user_name = getpass.getuser()\n",
    "\n",
    "r = log2db(TOKEN, COURSE, ASSIGNMENT)\n",
    "if r.status_code != 200:\n",
    "    raise Exception('Status is not ok', r.status_code)\n",
    "f = update_progress_html(html_name, COURSE, ASSIGNMENT)\n",
    "f_path = os.path.join(str(Path().resolve()).replace(os.environ[\"HOME\"] + \"/\", \"\"), f)\n",
    "link = f'https://{os.environ[\"JUPYTERHUB_FQDN\"]}/user/{user_name}/files/{f_path}'\n",
    "\n",
    "print(f\"Link: {link}\")\n",
    "while True:\n",
    "    latest_log_dt = datetime.now(timezone.utc) - timedelta(seconds=db_reload_span)\n",
    "    log2db(TOKEN, COURSE, ASSIGNMENT, latest_log_dt)\n",
    "    update_progress_html(html_name, COURSE, ASSIGNMENT, html_auto_refresh_sec=html_reload_span)\n",
    "    time.sleep(db_reload_span)"
   ]
  },
  {
   "cell_type": "markdown",
   "id": "5ffb9d71-e530-42c4-b60b-cffd0c7816df",
   "metadata": {},
   "source": [
    "### セルの出力で開く場合\n",
    "\n",
    "セルの出力を自動更新するようになっています。  \n",
    "以下のセルでは、10秒ごとに自動でリロードを行う設定になっています。  \n",
    "自動更新する秒数の変更や、自動更新自体行わない場合は、以下のセルを編集してください。  "
   ]
  },
  {
   "cell_type": "code",
   "execution_count": null,
   "id": "c20b7784-2067-4689-ba95-ad1ddad0b1bc",
   "metadata": {
    "tags": []
   },
   "outputs": [],
   "source": [
    "import time\n",
    "from datetime import timezone, timedelta\n",
    "\n",
    "from IPython.display import HTML\n",
    "\n",
    "# 自動更新する間隔（秒）\n",
    "reload_span = 10\n",
    "html_name = f'{OUTPUT_DIR}/{COURSE}_{ASSIGNMENT}.html'\n",
    "\n",
    "log2db(TOKEN, COURSE, ASSIGNMENT)\n",
    "f = update_progress_html(html_name, COURSE, ASSIGNMENT)\n",
    "display_handle = display(HTML(f), display_id=True, clear=True)\n",
    "\n",
    "while True:\n",
    "    latest_log_dt = datetime.now(timezone.utc) - timedelta(seconds=reload_span)\n",
    "    log2db(TOKEN, COURSE, ASSIGNMENT, latest_log_dt)\n",
    "    f = update_progress_html(html_name, COURSE, ASSIGNMENT)\n",
    "    display_handle.update(HTML(f))\n",
    "    time.sleep(reload_span)"
   ]
  },
  {
   "cell_type": "code",
   "execution_count": null,
   "id": "e444bdde",
   "metadata": {},
   "outputs": [],
   "source": []
  }
 ],
 "metadata": {
  "kernelspec": {
   "display_name": "Python 3",
   "language": "python",
   "name": "python3"
  },
  "language_info": {
   "file_extension": ".py",
   "mimetype": "text/x-python",
   "name": "python",
   "nbconvert_exporter": "python",
   "pygments_lexer": "ipython3",
   "version": "3.10.11"
  },
  "toc": {
   "base_numbering": 1,
   "nav_menu": {},
   "number_sections": true,
   "sideBar": true,
   "skip_h1_title": false,
   "title_cell": "Table of Contents",
   "title_sidebar": "Contents",
   "toc_cell": false,
   "toc_position": {},
   "toc_section_display": true,
   "toc_window_display": false
  }
 },
 "nbformat": 4,
 "nbformat_minor": 5
}
